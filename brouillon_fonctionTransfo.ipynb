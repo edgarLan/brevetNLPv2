{
 "cells": [
  {
   "cell_type": "code",
   "execution_count": 1,
   "metadata": {},
   "outputs": [],
   "source": [
    "import os\n",
    "import pandas as pd\n",
    "from os import listdir\n",
    "from os.path import isfile, join\n",
    "import json\n",
    "import collections\n",
    "import re\n",
    "from tqdm import tqdm"
   ]
  },
  {
   "cell_type": "markdown",
   "metadata": {},
   "source": [
    "### Fonction toEval"
   ]
  },
  {
   "cell_type": "code",
   "execution_count": 2,
   "metadata": {},
   "outputs": [],
   "source": [
    "# Initialization of class and year (example using H01L and 2011)\n",
    "listIPC = [\"G06F\", \"A61B\", \"H01L\"]\n",
    "year = 2011\n",
    "yearsNeeded = 5\n",
    "\n",
    "pathData = \"C:/Users/edgar/OneDrive/Bureau/Ecole/HEC/A24/BrevetNLP/data\"\n",
    "pathOutput = \"C:/Users/edgar/OneDrive/Bureau/Ecole/HEC/A24/BrevetNLP/exemple données\""
   ]
  },
  {
   "cell_type": "code",
   "execution_count": 5,
   "metadata": {},
   "outputs": [
    {
     "name": "stdout",
     "output_type": "stream",
     "text": [
      "All years present\n"
     ]
    },
    {
     "data": {
      "text/plain": [
       "True"
      ]
     },
     "execution_count": 5,
     "metadata": {},
     "output_type": "execute_result"
    }
   ],
   "source": [
    "# Function returning if years are present in dataset\n",
    "def checkYears(year, yearsNeeded):\n",
    "    ret = False\n",
    "    folder_names = [folder for folder in os.listdir(pathData) if os.path.isdir(os.path.join(pathData, folder))]\n",
    "    folder_years = [int(name) for name in folder_names] \n",
    "    required_years = set(range(year - yearsNeeded, year))\n",
    "    missing_years = required_years - set(folder_years)\n",
    "\n",
    "    # Check for missing 2004 and 2005\n",
    "    if {2004}.issubset(required_years | {year}) or {2005}.issubset(required_years | {year}):\n",
    "        print(\"Missing IPC\")\n",
    "    if {2017}.issubset(required_years | {year}) or {2018}.issubset(required_years | {year}):\n",
    "        print(\"Incomplete data\")\n",
    "\n",
    "    # General check for missing years\n",
    "    if not missing_years:\n",
    "        print(\"All years present\")\n",
    "    else:\n",
    "        print(f\"Missing years: {missing_years}\")\n",
    "    if not missing_years and not({2004}.issubset(required_years | {year}) or {2005}.issubset(required_years | {year})) and not({2017}.issubset(required_years | {year}) or {2018}.issubset(required_years | {year})):\n",
    "        ret = True                                                                                                                      \n",
    "    return ret\n",
    "# checkYears(2011, 5)"
   ]
  },
  {
   "cell_type": "code",
   "execution_count": 8,
   "metadata": {},
   "outputs": [
    {
     "name": "stdout",
     "output_type": "stream",
     "text": [
      "C:/Users/edgar/OneDrive/Bureau/Ecole/HEC/A24/BrevetNLP/data/2011/\n",
      "['11794844.json', '12223136.json', '12442249.json', '12517994.json']\n"
     ]
    },
    {
     "data": {
      "text/plain": [
       "1000"
      ]
     },
     "execution_count": 8,
     "metadata": {},
     "output_type": "execute_result"
    }
   ],
   "source": [
    "pathYear = pathData+ f\"/{year}/\"                                # Updates with varialbe year\n",
    "jsonNamesYear = [f for f in listdir(pathYear) if isfile(join(pathYear, f))]\n",
    "\n",
    "print(pathYear)\n",
    "print(jsonNamesYear[0:4])   \n",
    "len(jsonNamesYear)       # 1000 because trunked data\n",
    "\n",
    "# jsonNamesYear contains the names of the of all jsons of that year"
   ]
  },
  {
   "cell_type": "code",
   "execution_count": 161,
   "metadata": {},
   "outputs": [
    {
     "name": "stderr",
     "output_type": "stream",
     "text": [
      "100%|██████████| 1000/1000 [00:00<00:00, 2806.74it/s]"
     ]
    },
    {
     "name": "stdout",
     "output_type": "stream",
     "text": [
      "['12666623.json', '12929164.json', '13003167.json', '13010089.json', '13019520.json', '13019723.json', '13031538.json', '13034149.json', '13035861.json', '13038443.json', '13048057.json', '13055475.json', '13060670.json', '13061343.json', '13064314.json', '13069980.json', '13071539.json', '13079717.json', '13084399.json', '13097931.json', '13100768.json', '13101744.json', '13101991.json', '13106482.json', '13120999.json', '13125020.json', '13135768.json', '13139218.json', '13146081.json', '13148977.json', '13154165.json', '13154559.json', '13154728.json', '13155279.json', '13157020.json', '13157491.json', '13162151.json', '13167068.json', '13167906.json', '13175204.json', '13185968.json', '13198175.json', '13200246.json', '13214444.json', '13216144.json', '13216326.json', '13219838.json', '13226038.json', '13229673.json', '13231331.json', '13232711.json', '13247866.json', '13262887.json', '13264403.json', '13270648.json', '13272009.json', '13274738.json', '13278164.json', '13280601.json', '13287304.json', '13288686.json', '13288731.json', '13294034.json', '13294945.json', '13304230.json', '13309730.json', '13313881.json', '13316056.json', '13317850.json', '13331055.json', '13333482.json', '13339052.json', '13378834.json']\n",
      "73\n",
      "defaultdict(<class 'int'>, {'ACCEPTED': 53, 'REJECTED': 19, 'PENDING': 1})\n"
     ]
    },
    {
     "name": "stderr",
     "output_type": "stream",
     "text": [
      "\n"
     ]
    }
   ],
   "source": [
    "# Initialization of list for IPC class\n",
    "\n",
    "# Initialization of dict for IPC class - initialized at 0, used to count occurences\n",
    "decision_ipc  = collections.defaultdict(int)        # decision_H01L\n",
    "\n",
    "# initialization of list for IPC class\n",
    "patent_listIPC = []                                # patent_H01L_list\n",
    "\n",
    "nbEmpty = []\n",
    "\n",
    "# Creates list of patents from this IPC class\n",
    "for i in tqdm(range(len(jsonNamesYear))):\n",
    "    patent_path = pathYear + jsonNamesYear[i]\n",
    "    with open(patent_path) as f:\n",
    "        d = json.load(f) # load json in d\n",
    "        f.close()   # close f - not needed with \"with ___ as\" syntax\n",
    "    class_mainIPC = d['main_ipcr_label']\n",
    "    if re.match(f'^{ipc}', class_mainIPC):\n",
    "        patent_listIPC.append(jsonNamesYear[i])\n",
    "        decision_ipc[d['decision']] += 1\n",
    "    # if class_mainIPC == \"\":\n",
    "    #     nbEmpty[class_mainIPC] += 1\n",
    "\n",
    "print(patent_listIPC)\n",
    "print(len(patent_listIPC))\n",
    "print(decision_ipc)\n",
    "# print(nbEmpty)\n",
    "\n",
    "\n"
   ]
  },
  {
   "cell_type": "code",
   "execution_count": 9,
   "metadata": {},
   "outputs": [
    {
     "name": "stderr",
     "output_type": "stream",
     "text": [
      "100%|██████████| 1000/1000 [00:17<00:00, 56.87it/s]\n"
     ]
    }
   ],
   "source": [
    "# Initialize decision dictionary and list for each IPC class\n",
    "decision_ipc_dict = {ipc: collections.defaultdict(int) for ipc in listIPC}  # A dictionary for each IPC\n",
    "patent_listIPC_dict = {ipc: [] for ipc in listIPC}  # A list to store patents for each IPC\n",
    "\n",
    "\n",
    "# Creates list of patents for each IPC class\n",
    "for i in tqdm(range(len(jsonNamesYear))):\n",
    "    patent_path = pathYear + jsonNamesYear[i]\n",
    "    with open(patent_path) as f:\n",
    "        d = json.load(f)  # Load json in d\n",
    "        # No need to explicitly close the file with \"with open\" syntax\n",
    "        \n",
    "    class_mainIPC = d['main_ipcr_label']\n",
    "    \n",
    "    # Check if the class matches any IPC in the listIPC\n",
    "    for ipc in listIPC:\n",
    "        if re.match(f'^{ipc}', class_mainIPC):\n",
    "            patent_listIPC_dict[ipc].append(jsonNamesYear[i])\n",
    "            decision_ipc_dict[ipc][d['decision']] += 1"
   ]
  },
  {
   "cell_type": "code",
   "execution_count": 14,
   "metadata": {},
   "outputs": [
    {
     "name": "stdout",
     "output_type": "stream",
     "text": [
      "['12666623.json', '12929164.json', '13003167.json', '13010089.json', '13019520.json', '13019723.json', '13031538.json', '13034149.json', '13035861.json', '13038443.json', '13048057.json', '13055475.json', '13060670.json', '13061343.json', '13064314.json', '13069980.json', '13071539.json', '13079717.json', '13084399.json', '13097931.json', '13100768.json', '13101744.json', '13101991.json', '13106482.json', '13120999.json', '13125020.json', '13135768.json', '13139218.json', '13146081.json', '13148977.json', '13154165.json', '13154559.json', '13154728.json', '13155279.json', '13157020.json', '13157491.json', '13162151.json', '13167068.json', '13167906.json', '13175204.json', '13185968.json', '13198175.json', '13200246.json', '13214444.json', '13216144.json', '13216326.json', '13219838.json', '13226038.json', '13229673.json', '13231331.json', '13232711.json', '13247866.json', '13262887.json', '13264403.json', '13270648.json', '13272009.json', '13274738.json', '13278164.json', '13280601.json', '13287304.json', '13288686.json', '13288731.json', '13294034.json', '13294945.json', '13304230.json', '13309730.json', '13313881.json', '13316056.json', '13317850.json', '13331055.json', '13333482.json', '13339052.json', '13378834.json']\n",
      "73\n",
      "defaultdict(<class 'int'>, {'ACCEPTED': 53, 'REJECTED': 19, 'PENDING': 1})\n"
     ]
    }
   ],
   "source": [
    "print(patent_listIPC_dict[\"H01L\"])\n",
    "print(len(patent_listIPC_dict[\"H01L\"]))\n",
    "print(decision_ipc_dict[\"H01L\"])"
   ]
  },
  {
   "cell_type": "code",
   "execution_count": 17,
   "metadata": {},
   "outputs": [
    {
     "name": "stderr",
     "output_type": "stream",
     "text": [
      "100%|██████████| 73/73 [00:00<00:00, 2801.68it/s]"
     ]
    },
    {
     "name": "stdout",
     "output_type": "stream",
     "text": [
      "['12666623.json', '12929164.json', '13003167.json', '13010089.json', '13019520.json', '13019723.json', '13031538.json', '13034149.json', '13035861.json', '13038443.json', '13048057.json', '13055475.json', '13060670.json', '13061343.json', '13064314.json', '13069980.json', '13071539.json', '13079717.json', '13084399.json', '13097931.json', '13100768.json', '13101744.json', '13101991.json', '13106482.json', '13120999.json', '13125020.json', '13135768.json', '13139218.json', '13146081.json', '13148977.json', '13154165.json', '13154559.json', '13154728.json', '13155279.json', '13157020.json', '13157491.json', '13162151.json', '13167068.json', '13167906.json', '13175204.json', '13185968.json', '13198175.json', '13200246.json', '13214444.json', '13216326.json', '13219838.json', '13226038.json', '13229673.json', '13231331.json', '13232711.json', '13247866.json', '13262887.json', '13264403.json', '13270648.json', '13272009.json', '13274738.json', '13278164.json', '13280601.json', '13287304.json', '13288686.json', '13288731.json', '13294034.json', '13294945.json', '13304230.json', '13309730.json', '13313881.json', '13316056.json', '13317850.json', '13331055.json', '13333482.json', '13339052.json', '13378834.json']\n",
      "72\n"
     ]
    },
    {
     "name": "stderr",
     "output_type": "stream",
     "text": [
      "\n"
     ]
    }
   ],
   "source": [
    "# Create list exluding all other than accepted and rejected\n",
    "final_patents = []\n",
    "#########\n",
    "#decision = []\n",
    "#########\n",
    "\n",
    "for i in tqdm(range(len(patent_listIPC))):\n",
    "    patent_path = pathYear + patent_listIPC[i]\n",
    "    with open(patent_path) as f:\n",
    "        d = json.load(f)\n",
    "        f.close()\n",
    "#########\n",
    "    if d['decision'] == 'ACCEPTED' or d['decision'] == 'REJECTED': # exclude all other\n",
    "        final_patents.append(patent_listIPC[i])\n",
    "        # decision.append(d['decision'])\n",
    "#########\n",
    "\n",
    "print(final_patents)\n",
    "print(len(final_patents))\n",
    "# print(decision) # is this useful?"
   ]
  },
  {
   "cell_type": "code",
   "execution_count": 18,
   "metadata": {},
   "outputs": [
    {
     "name": "stderr",
     "output_type": "stream",
     "text": [
      "100%|██████████| 121/121 [00:00<00:00, 2739.78it/s]\n",
      "100%|██████████| 11/11 [00:00<00:00, 3682.74it/s]\n",
      "100%|██████████| 73/73 [00:00<00:00, 1435.17it/s]"
     ]
    },
    {
     "name": "stdout",
     "output_type": "stream",
     "text": [
      "['12666623.json', '12929164.json', '13003167.json', '13010089.json', '13019520.json', '13019723.json', '13031538.json', '13034149.json', '13035861.json', '13038443.json', '13048057.json', '13055475.json', '13060670.json', '13061343.json', '13064314.json', '13069980.json', '13071539.json', '13079717.json', '13084399.json', '13097931.json', '13100768.json', '13101744.json', '13101991.json', '13106482.json', '13120999.json', '13125020.json', '13135768.json', '13139218.json', '13146081.json', '13148977.json', '13154165.json', '13154559.json', '13154728.json', '13155279.json', '13157020.json', '13157491.json', '13162151.json', '13167068.json', '13167906.json', '13175204.json', '13185968.json', '13198175.json', '13200246.json', '13214444.json', '13216326.json', '13219838.json', '13226038.json', '13229673.json', '13231331.json', '13232711.json', '13247866.json', '13262887.json', '13264403.json', '13270648.json', '13272009.json', '13274738.json', '13278164.json', '13280601.json', '13287304.json', '13288686.json', '13288731.json', '13294034.json', '13294945.json', '13304230.json', '13309730.json', '13313881.json', '13316056.json', '13317850.json', '13331055.json', '13333482.json', '13339052.json', '13378834.json']\n",
      "72\n"
     ]
    },
    {
     "name": "stderr",
     "output_type": "stream",
     "text": [
      "\n"
     ]
    }
   ],
   "source": [
    "final_patents_dict = {ipc: [] for ipc in listIPC}  # Create a final list for each IPC\n",
    "\n",
    "# Create list excluding all other than accepted and rejected\n",
    "for ipc in listIPC:\n",
    "    # Access the patents for each IPC class\n",
    "    patent_listIPC = patent_listIPC_dict[ipc]  \n",
    "   \n",
    "    for i in tqdm(range(len(patent_listIPC))):\n",
    "        patent_path = pathYear + patent_listIPC[i]\n",
    "        with open(patent_path) as f:\n",
    "            d = json.load(f)\n",
    "        \n",
    "        # Check if the decision is either ACCEPTED or REJECTED\n",
    "        if d['decision'] in ['ACCEPTED', 'REJECTED']: \n",
    "            final_patents_dict[ipc].append(patent_listIPC[i])  # Add to the corresponding IPC list\n",
    "\n",
    "print(final_patents_dict[\"H01L\"])\n",
    "print(len(final_patents_dict[\"H01L\"]))"
   ]
  },
  {
   "cell_type": "code",
   "execution_count": 60,
   "metadata": {},
   "outputs": [
    {
     "name": "stderr",
     "output_type": "stream",
     "text": [
      "100%|██████████| 72/72 [00:00<00:00, 3022.62it/s]"
     ]
    },
    {
     "name": "stdout",
     "output_type": "stream",
     "text": [
      "h 139\n",
      "100\n",
      "72\n"
     ]
    },
    {
     "name": "stderr",
     "output_type": "stream",
     "text": [
      "\n"
     ]
    }
   ],
   "source": [
    "# Load needed data for patents\n",
    "non_main_ipc = []\n",
    "labels, patent_number, titles, backgrounds, claims, summary, abstract, main_ipc, sec_ipc = [], [], [], [], [], [], [], [], []\n",
    "\n",
    "for i in tqdm(range(len(final_patents))):\n",
    "    patent_path = pathYear + final_patents[i]\n",
    "    with open(patent_path) as f:\n",
    "        d = json.load(f)\n",
    "        f.close() # ligne inutile\n",
    "    \n",
    "    #Creating the lists for the other information\n",
    "    patent_number.append(d['application_number'])\n",
    "    titles.append(d['title'])\n",
    "    backgrounds.append(d['background'])\n",
    "    claims.append(d['claims'])\n",
    "    summary.append(d['summary'])\n",
    "    abstract.append(d['abstract'])\n",
    "    main_ipc.append(d['main_ipcr_label'])\n",
    "    sec_ipc.append(d['ipcr_labels'])\n",
    "\n",
    "\n",
    "    #Collecting non main ipc class -useful to create good expectation class\n",
    "    non_main =  d['ipcr_labels']\n",
    "    for ipcr in non_main:\n",
    "        non_main_ipc.append(ipcr) # only 4 first characters to be sure of being at same level\n",
    "    #Getting labels based on decision\n",
    "    label = 0\n",
    "    if d['decision'] == 'ACCEPTED':\n",
    "        label = 1\n",
    "    labels.append(label)\n",
    "\n",
    "# sec_ipc == non_main_ipc\n",
    "print(\"h\",len(non_main_ipc))\n",
    "print(len(set(non_main_ipc)))\n",
    "print(len(sec_ipc))\n"
   ]
  },
  {
   "cell_type": "code",
   "execution_count": 73,
   "metadata": {},
   "outputs": [
    {
     "name": "stderr",
     "output_type": "stream",
     "text": [
      "  0%|          | 0/117 [00:00<?, ?it/s]"
     ]
    },
    {
     "name": "stderr",
     "output_type": "stream",
     "text": [
      "100%|██████████| 117/117 [00:00<00:00, 2970.94it/s]\n",
      "100%|██████████| 11/11 [00:00<00:00, 2755.78it/s]\n",
      "100%|██████████| 72/72 [00:00<00:00, 2861.79it/s]\n"
     ]
    },
    {
     "name": "stdout",
     "output_type": "stream",
     "text": [
      "text/2011_G06F Done\n",
      "Nb secondary IPC for G06F:  9\n",
      "text/2011_A61B Done\n",
      "Nb secondary IPC for A61B:  0\n",
      "text/2011_H01L Done\n",
      "Nb secondary IPC for H01L:  22\n"
     ]
    }
   ],
   "source": [
    "good_expectations_classes_dict = {ipc: [] for ipc in listIPC}  # To store good expectations for each IPC\n",
    "\n",
    "# Load needed data for patents by IPC class\n",
    "data_by_ipc = {ipc: {\n",
    "    'patent_number': [], 'titles': [], 'backgrounds': [], 'claims': [],\n",
    "    'summary': [], 'abstract': [], 'main_ipc': [], 'sec_ipc': [], 'labels': []\n",
    "} for ipc in listIPC}\n",
    "\n",
    "for ipc in listIPC:\n",
    "    non_main_ipc = []  \n",
    "    for i in tqdm(range(len(final_patents_dict[ipc]))):\n",
    "        patent_path = pathYear + final_patents_dict[ipc][i]\n",
    "        with open(patent_path) as f:\n",
    "            d = json.load(f)\n",
    "\n",
    "        # Creating the lists for the other information\n",
    "        data_by_ipc[ipc]['patent_number'].append(d['application_number'])\n",
    "        data_by_ipc[ipc]['titles'].append(d['title'])\n",
    "        data_by_ipc[ipc]['backgrounds'].append(d['background'])\n",
    "        data_by_ipc[ipc]['claims'].append(d['claims'])\n",
    "        data_by_ipc[ipc]['summary'].append(d['summary'])\n",
    "        data_by_ipc[ipc]['abstract'].append(d['abstract'])\n",
    "        data_by_ipc[ipc]['main_ipc'].append(d['main_ipcr_label'])\n",
    "        data_by_ipc[ipc]['sec_ipc'].append(d['ipcr_labels'])\n",
    "\n",
    "        # Getting labels based on decision\n",
    "        label = 0\n",
    "        if d['decision'] == 'ACCEPTED':\n",
    "            label = 1\n",
    "        data_by_ipc[ipc]['labels'].append(label)\n",
    "\n",
    "        # Collect secondary IPC classes and filter out the main IPC class\n",
    "        non_main_ipc.extend([ipcr for ipcr in d['ipcr_labels'] if ipcr != d['main_ipcr_label']])\n",
    "\n",
    "    # Keep only unique secondary IPC classes\n",
    "    expectations_classes = list(set(non_main_ipc))  # Unique secondary IPC classes\n",
    "    good_expectations_classes_dict[ipc] = [ipcr for ipcr in expectations_classes if ipcr[:4] != ipc]  # Exclude main IPC classes\n",
    "\n",
    "# Prepare DataFrames and save to CSV files for each IPC class\n",
    "for ipc in listIPC:\n",
    "    df = pd.DataFrame({\n",
    "        'application_number': data_by_ipc[ipc]['patent_number'],\n",
    "        'title': data_by_ipc[ipc]['titles'],\n",
    "        'abstract': data_by_ipc[ipc]['abstract'],\n",
    "        'claims': data_by_ipc[ipc]['claims'],\n",
    "        'background': data_by_ipc[ipc]['backgrounds'],\n",
    "        'summary': data_by_ipc[ipc]['summary'],\n",
    "        'ipc': ipc,\n",
    "        'sec_ipc': data_by_ipc[ipc]['sec_ipc'],\n",
    "        'label': data_by_ipc[ipc]['labels']\n",
    "    })\n",
    "    df.to_csv(pathOutput + f'/toEval/{year}_{ipc}_patents_toEval.csv', index=False)\n",
    "    \n",
    "    # Save IPC in text format for each IPC class\n",
    "    with open(pathOutput + f'/ES/text/{year}_{ipc}_expectation_IPC_class.txt', 'w') as fp:\n",
    "        for item in good_expectations_classes_dict[ipc]:\n",
    "            fp.write(\"%s\\n\" % item)\n",
    "        print(f'text/{year}_{ipc} Done')\n",
    "    print(f\"Nb secondary IPC for {ipc}: \", len(good_expectations_classes_dict[ipc]))\n",
    "\n"
   ]
  },
  {
   "cell_type": "code",
   "execution_count": 66,
   "metadata": {},
   "outputs": [
    {
     "name": "stdout",
     "output_type": "stream",
     "text": [
      "22\n",
      "['G02B522', 'C09K1300', 'B82Y4000', 'G06F1750', 'B32B3808', 'B82Y2000', 'B05C500', 'G02F1136', 'B32B1501', 'C23F102', 'B32B1500', 'B32B712', 'H03B536', 'H01F140', 'G03F720', 'H01M1002', 'B32B300', 'B26D1553', 'C30B2302', 'B32B310', 'B32B1504', 'H01F104']\n"
     ]
    }
   ],
   "source": [
    "# Retirer les classes secondaires de la même classe que la princiaple\n",
    "expectations_classes = list(set(non_main_ipc)) # unique secondary ipc classes\n",
    "\n",
    "good_expectations_classes = []\n",
    "for ipcr in expectations_classes:\n",
    "    if ipcr[0:4] != f\"{ipc}\":\n",
    "        good_expectations_classes.append(ipcr)\n",
    "        \n",
    "print(len(good_expectations_classes))\n",
    "print(good_expectations_classes)"
   ]
  },
  {
   "cell_type": "code",
   "execution_count": 67,
   "metadata": {},
   "outputs": [
    {
     "name": "stdout",
     "output_type": "stream",
     "text": [
      "True\n",
      "['B05C500', 'B26D1553', 'B32B1500', 'B32B1501', 'B32B1504', 'B32B300', 'B32B310', 'B32B3808', 'B32B712', 'B82Y2000', 'B82Y4000', 'C09K1300', 'C23F102', 'C30B2302', 'G02B522', 'G02F1136', 'G03F720', 'G06F1750', 'H01F104', 'H01F140', 'H01M1002', 'H03B536']\n",
      "['B05C500', 'B26D1553', 'B32B1500', 'B32B1501', 'B32B1504', 'B32B300', 'B32B310', 'B32B3808', 'B32B712', 'B82Y2000', 'B82Y4000', 'C09K1300', 'C23F102', 'C30B2302', 'G02B522', 'G02F1136', 'G03F720', 'G06F1750', 'H01F104', 'H01F140', 'H01M1002', 'H03B536']\n"
     ]
    }
   ],
   "source": [
    "print(set(good_expectations_classes) == set(good_expectations_classes_dict[\"H01L\"]))\n",
    "#print(sorted(good_expectations_classes_dict[\"H01L\"]))\n",
    "#print(sorted(good_expectations_classes))\n",
    "\n"
   ]
  },
  {
   "cell_type": "code",
   "execution_count": 6,
   "metadata": {},
   "outputs": [
    {
     "name": "stdout",
     "output_type": "stream",
     "text": [
      "Create toEval, iterate through all patents of current year 2011\n"
     ]
    },
    {
     "name": "stderr",
     "output_type": "stream",
     "text": [
      "Processing patents: 1003it [00:00, 3057.41it/s]                         \n",
      "Create toEval for H01L in 2011: 100%|██████████| 72/72 [00:00<00:00, 3244.17it/s]\n",
      "Create toEval for G06F in 2011: 100%|██████████| 117/117 [00:00<00:00, 3609.37it/s]\n",
      "Create toEval for A61B in 2011: 100%|██████████| 11/11 [00:00<00:00, 3676.28it/s]\n"
     ]
    },
    {
     "name": "stdout",
     "output_type": "stream",
     "text": [
      "toEval done for H01L in 2011 \n",
      "Number of secondary IPC for H01L in 2011:  22\n",
      "toEval done for G06F in 2011 \n",
      "Number of secondary IPC for G06F in 2011:  9\n",
      "toEval done for A61B in 2011 \n",
      "Number of secondary IPC for A61B in 2011:  0\n"
     ]
    }
   ],
   "source": [
    "from fonctionsImportations import json2toEval\n",
    "# json2toEval\n",
    "json2toEval(2011, [\"H01L\", \"G06F\", \"A61B\"], pathData, pathOutput)"
   ]
  },
  {
   "cell_type": "code",
   "execution_count": null,
   "metadata": {},
   "outputs": [],
   "source": [
    "# Save IPC in text format\n",
    "with open(pathOutput + f'/ES/text/{year}_{ipc}_expectation_IPC_class.txt', 'w') as fp:\n",
    "    for item in good_expectations_classes:\n",
    "        fp.write(\"%s\\n\" % item)\n",
    "    print(f'text/{year}_{ipc} Done')\n",
    "print(\"Nb secondary IPC (text size): \", len(good_expectations_classes))"
   ]
  },
  {
   "cell_type": "code",
   "execution_count": 166,
   "metadata": {},
   "outputs": [
    {
     "name": "stdout",
     "output_type": "stream",
     "text": [
      "Done\n"
     ]
    }
   ],
   "source": [
    "# Save IPC in text format\n",
    "with open(pathOutput + f'/ES/text/{year}_{ipc}_expectation_IPC_class.txt', 'w') as fp:\n",
    "    for item in good_expectations_classes:\n",
    "        # write each item on a new line\n",
    "        fp.write(\"%s\\n\" % item)\n",
    "    print('Done')"
   ]
  },
  {
   "cell_type": "code",
   "execution_count": 167,
   "metadata": {},
   "outputs": [],
   "source": [
    "# df to csv\n",
    "df = pd.DataFrame({'application_number': patent_number, 'title': titles, 'abstract':abstract,\n",
    "                    'claims':claims, 'background': backgrounds, 'summary':summary, 'ipc':main_ipc, 'label': labels, 'sec_ipc': sec_ipc})\n",
    "df \n",
    "\n",
    "df.to_csv(pathOutput + f'/toEval/{year}_{ipc}_patents_toEval.csv', index=False)"
   ]
  },
  {
   "cell_type": "markdown",
   "metadata": {},
   "source": [
    "### Fonction KS/ES"
   ]
  },
  {
   "cell_type": "code",
   "execution_count": 8,
   "metadata": {},
   "outputs": [
    {
     "name": "stdout",
     "output_type": "stream",
     "text": [
      "C:/Users/edgar/OneDrive/Bureau/Ecole/HEC/A24/BrevetNLP/data\n",
      "C:/Users/edgar/OneDrive/Bureau/Ecole/HEC/A24/BrevetNLP/data/2011/\n"
     ]
    }
   ],
   "source": [
    "print(pathData)\n",
    "print(pathYear) "
   ]
  },
  {
   "cell_type": "code",
   "execution_count": 3,
   "metadata": {},
   "outputs": [],
   "source": [
    "# Initialization of class and year (example using H01L and 2011)\n",
    "ipc = \"G06F\"\n",
    "year = 2016\n",
    "yearsNeeded = 5\n",
    "\n",
    "pathData = \"C:/Users/edgar/OneDrive/Bureau/Ecole/HEC/A24/BrevetNLP/data\"\n",
    "pathOutput = \"C:/Users/edgar/OneDrive/Bureau/Ecole/HEC/A24/BrevetNLP/exemple données\""
   ]
  },
  {
   "cell_type": "code",
   "execution_count": 9,
   "metadata": {},
   "outputs": [
    {
     "name": "stdout",
     "output_type": "stream",
     "text": [
      "{2011, 2012, 2013, 2014, 2015}\n"
     ]
    }
   ],
   "source": [
    "# Create list with years to iterate\n",
    "folder_names = [folder for folder in os.listdir(pathData) if os.path.isdir(os.path.join(pathData, folder))]\n",
    "folder_years = [int(name) for name in folder_names] \n",
    "years_ref = set(range(year - yearsNeeded, year))\n",
    "print(years_ref)"
   ]
  },
  {
   "cell_type": "code",
   "execution_count": 10,
   "metadata": {},
   "outputs": [],
   "source": [
    "yearRef = 2015"
   ]
  },
  {
   "cell_type": "code",
   "execution_count": 11,
   "metadata": {},
   "outputs": [],
   "source": [
    "pathYear = pathData+ f\"/{yearRef}/\"                                # Updates with varialbe year\n",
    "jsonNamesYear = [f for f in listdir(pathYear) if isfile(join(pathYear, f))]\n",
    "# len(jsonNamesYear)\n",
    "# jsonNamesYear[0]"
   ]
  },
  {
   "cell_type": "code",
   "execution_count": 13,
   "metadata": {},
   "outputs": [],
   "source": [
    "# import secondary ipc classes of year toEval\n",
    "expect_classes_ipc_yearRef = []\n",
    "with open(pathOutput + f'/ES/text/{year}_{ipc}_expectation_IPC_class.txt', 'r') as fp:\n",
    "    for line in fp:\n",
    "        x = line[:-1]\n",
    "        expect_classes_ipc_yearRef.append(x) #########################################################################"
   ]
  },
  {
   "cell_type": "code",
   "execution_count": 14,
   "metadata": {},
   "outputs": [
    {
     "name": "stdout",
     "output_type": "stream",
     "text": [
      "['H04N132', 'H04N121', 'G11C1116', 'G11C114096', 'G11C1400', 'H04N100', 'G11C114093', 'G11C114091', 'G11C710']\n"
     ]
    }
   ],
   "source": [
    "print(expect_classes_ipc_yearRef)"
   ]
  },
  {
   "cell_type": "code",
   "execution_count": 15,
   "metadata": {},
   "outputs": [
    {
     "name": "stderr",
     "output_type": "stream",
     "text": [
      "100%|██████████| 1000/1000 [00:00<00:00, 3400.18it/s]\n"
     ]
    }
   ],
   "source": [
    "# Initialize KS and ES for this IPC class (for toEval yearRef)\n",
    "KS_ipc = []\n",
    "ES_ipc = []\n",
    "\n",
    "for i in tqdm(range(len(jsonNamesYear))):\n",
    "    patent_path = pathYear + jsonNamesYear[i]\n",
    "    with open(patent_path) as f:\n",
    "        d = json.load(f)\n",
    "        f.close()\n",
    "    \n",
    "    class_mainIPC = d['main_ipcr_label'] ##########################################################################\n",
    "    class_main = class_mainIPC[0:4] \n",
    "\n",
    "    #We are collecting all documents related to the main class - we distinguish them later by date\n",
    "    if class_main == ipc:\n",
    "        KS_ipc.append(jsonNamesYear[i])\n",
    "    \n",
    "    #For the expectations states - we have one for each year since the class are not similar ???\n",
    "    if class_mainIPC in expect_classes_ipc_yearRef:\n",
    "        ES_ipc.append(jsonNamesYear[i])\n",
    "        \n"
   ]
  },
  {
   "cell_type": "code",
   "execution_count": 64,
   "metadata": {},
   "outputs": [
    {
     "name": "stdout",
     "output_type": "stream",
     "text": [
      "C:/Users/edgar/OneDrive/Bureau/Ecole/HEC/A24/BrevetNLP/data/2015/14986396.json\n",
      "['14414827.json', '14422522.json', '14431251.json', '14431285.json', '14435404.json', '14439422.json', '14442111.json', '14591005.json', '14594764.json', '14608603.json', '14613909.json', '14618083.json', '14619478.json', '14627548.json', '14630680.json', '14632736.json', '14633065.json', '14654487.json', '14662236.json', '14662704.json', '14663057.json', '14668664.json', '14671639.json', '14671730.json', '14672216.json', '14674959.json', '14682214.json', '14683093.json', '14685591.json', '14686527.json', '14687743.json', '14693690.json', '14694856.json', '14697434.json', '14710063.json', '14711265.json', '14711561.json', '14712009.json', '14713745.json', '14717788.json', '14720586.json', '14725387.json', '14731160.json', '14737987.json', '14743567.json', '14758315.json', '14764235.json', '14789827.json', '14815898.json', '14816213.json', '14823613.json', '14837189.json', '14841402.json', '14843092.json', '14844173.json', '14856367.json', '14857221.json', '14862652.json', '14864583.json', '14866580.json', '14867462.json', '14867597.json', '14876069.json', '14881170.json', '14885752.json', '14899669.json', '14919183.json', '14922035.json', '14922979.json', '14924484.json', '14925071.json', '14927760.json', '14931837.json', '14944693.json', '14954498.json', '14956334.json', '14960439.json', '14961024.json', '14961593.json', '14965724.json', '14967256.json', '14970990.json', '14972053.json', '14976479.json']\n",
      "['14431978.json', '14433318.json', '14608920.json', '14612032.json', '14620276.json', '14626579.json', '14637126.json', '14655244.json', '14674232.json', '14676247.json', '14698236.json', '14716453.json', '14718150.json', '14721040.json', '14724050.json', '14735699.json', '14787721.json', '14793103.json', '14798873.json', '14804648.json', '14811380.json', '14822174.json', '14852197.json', '14853583.json', '14854218.json', '14858481.json', '14859146.json', '14870059.json', '14876699.json', '14886197.json', '14886475.json', '14888710.json', '14919215.json', '14936027.json', '14955345.json', '14957270.json', '14965842.json', '14968724.json', '14968898.json', '14977113.json', '14977170.json']\n"
     ]
    }
   ],
   "source": [
    "print(patent_path)\n",
    "print(KS_ipc)\n",
    "print(ES_ipc)"
   ]
  },
  {
   "cell_type": "code",
   "execution_count": 16,
   "metadata": {},
   "outputs": [
    {
     "name": "stdout",
     "output_type": "stream",
     "text": [
      "20160101\n"
     ]
    }
   ],
   "source": [
    "current_date = int(f\"{year}\"+\"0101\")\n",
    "print(current_date)"
   ]
  },
  {
   "cell_type": "code",
   "execution_count": 17,
   "metadata": {},
   "outputs": [
    {
     "name": "stdout",
     "output_type": "stream",
     "text": [
      "Create ES, iterate through patents of secondary IPC G06F, of reference year 2015 for evalYear 2016\n"
     ]
    },
    {
     "name": "stderr",
     "output_type": "stream",
     "text": [
      "100%|██████████| 84/84 [00:00<00:00, 2399.37it/s]\n"
     ]
    }
   ],
   "source": [
    "#Saving knowledge space per year in csv\n",
    "patent_number, titles, backgrounds, claims, summary, abstract, main_ipc, labels, sec_ipc, yearRefVec = [], [], [], [], [], [], [], [], [], []\n",
    "\n",
    "print(f\"Create ES, iterate through patents of secondary IPC {ipc}, of reference year {yearRef} for evalYear {year}\")\n",
    "for i in tqdm(range(len(KS_ipc))):\n",
    "    patent_path = pathYear + KS_ipc[i]\n",
    "    with open(patent_path) as f:\n",
    "        d = json.load(f)\n",
    "        f.close()\n",
    "    #Not taking patents that are not published yet\n",
    "    if int(d['date_published']) < current_date:\n",
    "        \n",
    "        #Creating the lists for the other information\n",
    "        patent_number.append(d['application_number'])\n",
    "        titles.append(d['title'])\n",
    "        backgrounds.append(d['background'])\n",
    "        claims.append(d['claims'])\n",
    "        summary.append(d['summary'])\n",
    "        abstract.append(d['abstract'])\n",
    "        main_ipc.append(d['main_ipcr_label'])\n",
    "        labels.append(d['decision'])\n",
    "        sec_ipc.append(d['ipcr_labels'])\n",
    "        yearRefVec.append(yearRef)\n",
    "    else:\n",
    "        #If the date is superior, we still take accepted or rejected into account\n",
    "        if d['decision'] == 'ACCEPTED' or d['decision'] == 'REJECTED':\n",
    "            #Creating the lists for the other information\n",
    "            patent_number.append(d['application_number'])\n",
    "            titles.append(d['title'])\n",
    "            backgrounds.append(d['background'])\n",
    "            claims.append(d['claims'])\n",
    "            summary.append(d['summary'])\n",
    "            abstract.append(d['abstract'])\n",
    "            main_ipc.append(d['main_ipcr_label'])\n",
    "            labels.append(d['decision'])\n",
    "            sec_ipc.append(d['ipcr_labels'])\n",
    "            yearRefVec.append(yearRef)\n"
   ]
  },
  {
   "cell_type": "code",
   "execution_count": 18,
   "metadata": {},
   "outputs": [
    {
     "data": {
      "text/html": [
       "<div>\n",
       "<style scoped>\n",
       "    .dataframe tbody tr th:only-of-type {\n",
       "        vertical-align: middle;\n",
       "    }\n",
       "\n",
       "    .dataframe tbody tr th {\n",
       "        vertical-align: top;\n",
       "    }\n",
       "\n",
       "    .dataframe thead th {\n",
       "        text-align: right;\n",
       "    }\n",
       "</style>\n",
       "<table border=\"1\" class=\"dataframe\">\n",
       "  <thead>\n",
       "    <tr style=\"text-align: right;\">\n",
       "      <th></th>\n",
       "      <th>application_number</th>\n",
       "      <th>title</th>\n",
       "      <th>abstract</th>\n",
       "      <th>claims</th>\n",
       "      <th>background</th>\n",
       "      <th>summary</th>\n",
       "      <th>ipc</th>\n",
       "      <th>sec_ipc</th>\n",
       "      <th>label</th>\n",
       "      <th>yearRef</th>\n",
       "    </tr>\n",
       "  </thead>\n",
       "  <tbody>\n",
       "    <tr>\n",
       "      <th>0</th>\n",
       "      <td>14414827</td>\n",
       "      <td>Error code conversion method and system, PPPoE...</td>\n",
       "      <td>Disclosed are an error code conversion method ...</td>\n",
       "      <td>1. An error code conversion method, comprising...</td>\n",
       "      <td>&lt;SOH&gt; BACKGROUND &lt;EOH&gt;As the rapid development...</td>\n",
       "      <td>&lt;SOH&gt; SUMMARY &lt;EOH&gt;Embodiments of the present ...</td>\n",
       "      <td>G06F1107</td>\n",
       "      <td>[G06F1107, G06F1727]</td>\n",
       "      <td>ACCEPTED</td>\n",
       "      <td>2015</td>\n",
       "    </tr>\n",
       "    <tr>\n",
       "      <th>1</th>\n",
       "      <td>14422522</td>\n",
       "      <td>IN-CELL TOUCH PANEL AND DISPLAY DEVICE</td>\n",
       "      <td>An in-cell touch panel and a display device ar...</td>\n",
       "      <td>1. An in-cell touch panel, comprising: a touch...</td>\n",
       "      <td>&lt;SOH&gt; BACKGROUND &lt;EOH&gt;With the rapid developme...</td>\n",
       "      <td>&lt;SOH&gt; SUMMARY &lt;EOH&gt;Embodiments of the present ...</td>\n",
       "      <td>G06F3044</td>\n",
       "      <td>[G06F3044, G09G336, G02F11333, G06F3041]</td>\n",
       "      <td>ACCEPTED</td>\n",
       "      <td>2015</td>\n",
       "    </tr>\n",
       "    <tr>\n",
       "      <th>2</th>\n",
       "      <td>14431251</td>\n",
       "      <td>MEASURING WEB PAGE RENDERING TIME</td>\n",
       "      <td>A method in a network setup that includes a cl...</td>\n",
       "      <td>1. A method in a network setup, the network se...</td>\n",
       "      <td>&lt;SOH&gt; BACKGROUND &lt;EOH&gt;Web browsing is a freque...</td>\n",
       "      <td>&lt;SOH&gt; SUMMARY OF THE INVENTION &lt;EOH&gt;The above ...</td>\n",
       "      <td>G06F1722</td>\n",
       "      <td>[G06F1722, H04L2906, H04L1226]</td>\n",
       "      <td>ACCEPTED</td>\n",
       "      <td>2015</td>\n",
       "    </tr>\n",
       "    <tr>\n",
       "      <th>3</th>\n",
       "      <td>14431285</td>\n",
       "      <td>USING DEVICE IDENTIFICATION INFORMATION FOR PA...</td>\n",
       "      <td>A technique performed by a printer includes re...</td>\n",
       "      <td>1. A method performed by a printer, comprising...</td>\n",
       "      <td></td>\n",
       "      <td></td>\n",
       "      <td>G06F312</td>\n",
       "      <td>[G06F312, G06Q2032, G07F1742, G06Q2038, G06Q20...</td>\n",
       "      <td>ACCEPTED</td>\n",
       "      <td>2015</td>\n",
       "    </tr>\n",
       "    <tr>\n",
       "      <th>4</th>\n",
       "      <td>14435404</td>\n",
       "      <td>System, Method and Computer Program Product Fo...</td>\n",
       "      <td>A data mining and analysis system which analyz...</td>\n",
       "      <td>1. A computer-implemented method to model down...</td>\n",
       "      <td>&lt;SOH&gt; BACKGROUND &lt;EOH&gt;In the past, data mining...</td>\n",
       "      <td>&lt;SOH&gt; BRIEF DESCRIPTION OF THE DRAWINGS &lt;EOH&gt;F...</td>\n",
       "      <td>G06F1750</td>\n",
       "      <td>[G06F1750, G06F1718]</td>\n",
       "      <td>PENDING</td>\n",
       "      <td>2015</td>\n",
       "    </tr>\n",
       "    <tr>\n",
       "      <th>...</th>\n",
       "      <td>...</td>\n",
       "      <td>...</td>\n",
       "      <td>...</td>\n",
       "      <td>...</td>\n",
       "      <td>...</td>\n",
       "      <td>...</td>\n",
       "      <td>...</td>\n",
       "      <td>...</td>\n",
       "      <td>...</td>\n",
       "      <td>...</td>\n",
       "    </tr>\n",
       "    <tr>\n",
       "      <th>56</th>\n",
       "      <td>14944693</td>\n",
       "      <td>PREVENTION OF CLASSLOADER MEMORY LEAKS IN MULT...</td>\n",
       "      <td>A classloader cache class definition is obtain...</td>\n",
       "      <td>1. A method, comprising: obtaining, via a proc...</td>\n",
       "      <td>&lt;SOH&gt; BACKGROUND &lt;EOH&gt;The present invention re...</td>\n",
       "      <td>&lt;SOH&gt; SUMMARY &lt;EOH&gt;A method includes obtaining...</td>\n",
       "      <td>G06F944</td>\n",
       "      <td>[G06F944, G06F930]</td>\n",
       "      <td>ACCEPTED</td>\n",
       "      <td>2015</td>\n",
       "    </tr>\n",
       "    <tr>\n",
       "      <th>57</th>\n",
       "      <td>14954498</td>\n",
       "      <td>MONITORING AND RESPONDING TO OPERATIONAL CONDI...</td>\n",
       "      <td>Communicating with a logical partition of a co...</td>\n",
       "      <td>1. A method for investigating an operational c...</td>\n",
       "      <td>&lt;SOH&gt; BACKGROUND &lt;EOH&gt;The present invention re...</td>\n",
       "      <td>&lt;SOH&gt; SUMMARY &lt;EOH&gt;Embodiments of the present ...</td>\n",
       "      <td>G06F1107</td>\n",
       "      <td>[G06F1107]</td>\n",
       "      <td>ACCEPTED</td>\n",
       "      <td>2015</td>\n",
       "    </tr>\n",
       "    <tr>\n",
       "      <th>58</th>\n",
       "      <td>14956334</td>\n",
       "      <td>METHOD FOR DETERMINING PARAMETER VALUES OF AN ...</td>\n",
       "      <td>A method for determining parameter values of a...</td>\n",
       "      <td>1. A method for determining parameter values o...</td>\n",
       "      <td>&lt;SOH&gt; BACKGROUND OF THE INVENTION &lt;EOH&gt;1. Fiel...</td>\n",
       "      <td>&lt;SOH&gt; SUMMARY OF THE INVENTION &lt;EOH&gt;It is ther...</td>\n",
       "      <td>G06F1715</td>\n",
       "      <td>[G06F1715]</td>\n",
       "      <td>ACCEPTED</td>\n",
       "      <td>2015</td>\n",
       "    </tr>\n",
       "    <tr>\n",
       "      <th>59</th>\n",
       "      <td>14961593</td>\n",
       "      <td>TOUCH SIGNAL DETECTION APPARATUS AND TOUCH SIG...</td>\n",
       "      <td>Disclosed herein is a capacitive touch input a...</td>\n",
       "      <td>1. A touch signal detection apparatus detectin...</td>\n",
       "      <td>&lt;SOH&gt; BACKGROUND OF THE INVENTION &lt;EOH&gt;1. Fiel...</td>\n",
       "      <td>&lt;SOH&gt; SUMMARY OF THE INVENTION &lt;EOH&gt;An object ...</td>\n",
       "      <td>G06F3044</td>\n",
       "      <td>[G06F3044, G06F3041]</td>\n",
       "      <td>ACCEPTED</td>\n",
       "      <td>2015</td>\n",
       "    </tr>\n",
       "    <tr>\n",
       "      <th>60</th>\n",
       "      <td>14967256</td>\n",
       "      <td>SYSTEM AND METHOD FOR DETERMINING POWER SUPPLY...</td>\n",
       "      <td>A method determines power supply unit configur...</td>\n",
       "      <td>1. A computer implemented method for determini...</td>\n",
       "      <td>&lt;SOH&gt; BACKGROUND &lt;EOH&gt;1. Technical Field The p...</td>\n",
       "      <td>&lt;SOH&gt; BRIEF SUMMARY &lt;EOH&gt;Disclosed are a metho...</td>\n",
       "      <td>G06F128</td>\n",
       "      <td>[G06F128]</td>\n",
       "      <td>ACCEPTED</td>\n",
       "      <td>2015</td>\n",
       "    </tr>\n",
       "  </tbody>\n",
       "</table>\n",
       "<p>61 rows × 10 columns</p>\n",
       "</div>"
      ],
      "text/plain": [
       "   application_number                                              title  \\\n",
       "0            14414827  Error code conversion method and system, PPPoE...   \n",
       "1            14422522             IN-CELL TOUCH PANEL AND DISPLAY DEVICE   \n",
       "2            14431251                  MEASURING WEB PAGE RENDERING TIME   \n",
       "3            14431285  USING DEVICE IDENTIFICATION INFORMATION FOR PA...   \n",
       "4            14435404  System, Method and Computer Program Product Fo...   \n",
       "..                ...                                                ...   \n",
       "56           14944693  PREVENTION OF CLASSLOADER MEMORY LEAKS IN MULT...   \n",
       "57           14954498  MONITORING AND RESPONDING TO OPERATIONAL CONDI...   \n",
       "58           14956334  METHOD FOR DETERMINING PARAMETER VALUES OF AN ...   \n",
       "59           14961593  TOUCH SIGNAL DETECTION APPARATUS AND TOUCH SIG...   \n",
       "60           14967256  SYSTEM AND METHOD FOR DETERMINING POWER SUPPLY...   \n",
       "\n",
       "                                             abstract  \\\n",
       "0   Disclosed are an error code conversion method ...   \n",
       "1   An in-cell touch panel and a display device ar...   \n",
       "2   A method in a network setup that includes a cl...   \n",
       "3   A technique performed by a printer includes re...   \n",
       "4   A data mining and analysis system which analyz...   \n",
       "..                                                ...   \n",
       "56  A classloader cache class definition is obtain...   \n",
       "57  Communicating with a logical partition of a co...   \n",
       "58  A method for determining parameter values of a...   \n",
       "59  Disclosed herein is a capacitive touch input a...   \n",
       "60  A method determines power supply unit configur...   \n",
       "\n",
       "                                               claims  \\\n",
       "0   1. An error code conversion method, comprising...   \n",
       "1   1. An in-cell touch panel, comprising: a touch...   \n",
       "2   1. A method in a network setup, the network se...   \n",
       "3   1. A method performed by a printer, comprising...   \n",
       "4   1. A computer-implemented method to model down...   \n",
       "..                                                ...   \n",
       "56  1. A method, comprising: obtaining, via a proc...   \n",
       "57  1. A method for investigating an operational c...   \n",
       "58  1. A method for determining parameter values o...   \n",
       "59  1. A touch signal detection apparatus detectin...   \n",
       "60  1. A computer implemented method for determini...   \n",
       "\n",
       "                                           background  \\\n",
       "0   <SOH> BACKGROUND <EOH>As the rapid development...   \n",
       "1   <SOH> BACKGROUND <EOH>With the rapid developme...   \n",
       "2   <SOH> BACKGROUND <EOH>Web browsing is a freque...   \n",
       "3                                                       \n",
       "4   <SOH> BACKGROUND <EOH>In the past, data mining...   \n",
       "..                                                ...   \n",
       "56  <SOH> BACKGROUND <EOH>The present invention re...   \n",
       "57  <SOH> BACKGROUND <EOH>The present invention re...   \n",
       "58  <SOH> BACKGROUND OF THE INVENTION <EOH>1. Fiel...   \n",
       "59  <SOH> BACKGROUND OF THE INVENTION <EOH>1. Fiel...   \n",
       "60  <SOH> BACKGROUND <EOH>1. Technical Field The p...   \n",
       "\n",
       "                                              summary       ipc  \\\n",
       "0   <SOH> SUMMARY <EOH>Embodiments of the present ...  G06F1107   \n",
       "1   <SOH> SUMMARY <EOH>Embodiments of the present ...  G06F3044   \n",
       "2   <SOH> SUMMARY OF THE INVENTION <EOH>The above ...  G06F1722   \n",
       "3                                                       G06F312   \n",
       "4   <SOH> BRIEF DESCRIPTION OF THE DRAWINGS <EOH>F...  G06F1750   \n",
       "..                                                ...       ...   \n",
       "56  <SOH> SUMMARY <EOH>A method includes obtaining...   G06F944   \n",
       "57  <SOH> SUMMARY <EOH>Embodiments of the present ...  G06F1107   \n",
       "58  <SOH> SUMMARY OF THE INVENTION <EOH>It is ther...  G06F1715   \n",
       "59  <SOH> SUMMARY OF THE INVENTION <EOH>An object ...  G06F3044   \n",
       "60  <SOH> BRIEF SUMMARY <EOH>Disclosed are a metho...   G06F128   \n",
       "\n",
       "                                              sec_ipc     label  yearRef  \n",
       "0                                [G06F1107, G06F1727]  ACCEPTED     2015  \n",
       "1            [G06F3044, G09G336, G02F11333, G06F3041]  ACCEPTED     2015  \n",
       "2                      [G06F1722, H04L2906, H04L1226]  ACCEPTED     2015  \n",
       "3   [G06F312, G06Q2032, G07F1742, G06Q2038, G06Q20...  ACCEPTED     2015  \n",
       "4                                [G06F1750, G06F1718]   PENDING     2015  \n",
       "..                                                ...       ...      ...  \n",
       "56                                 [G06F944, G06F930]  ACCEPTED     2015  \n",
       "57                                         [G06F1107]  ACCEPTED     2015  \n",
       "58                                         [G06F1715]  ACCEPTED     2015  \n",
       "59                               [G06F3044, G06F3041]  ACCEPTED     2015  \n",
       "60                                          [G06F128]  ACCEPTED     2015  \n",
       "\n",
       "[61 rows x 10 columns]"
      ]
     },
     "execution_count": 18,
     "metadata": {},
     "output_type": "execute_result"
    }
   ],
   "source": [
    "df_KS = pd.DataFrame({'application_number': patent_number, 'title': titles, 'abstract':abstract,\n",
    "                    'claims':claims, 'background': backgrounds, 'summary':summary, 'ipc':main_ipc, \n",
    "                    'sec_ipc': sec_ipc, 'label': labels, 'yearRef': yearRefVec})\n",
    "    \n",
    "df_KS"
   ]
  },
  {
   "cell_type": "code",
   "execution_count": 21,
   "metadata": {},
   "outputs": [
    {
     "name": "stderr",
     "output_type": "stream",
     "text": [
      "100%|██████████| 2/2 [00:00<00:00, 986.08it/s]\n"
     ]
    }
   ],
   "source": [
    "#Saving expectations space per year in csv\n",
    "patent_number, titles, backgrounds, claims, summary, abstract, main_ipc, labels, sec_ipc, yearRefVec = [], [], [], [], [], [], [], [], [], []\n",
    "for i in tqdm(range(len(ES_ipc))):\n",
    "    patent_path = pathYear + ES_ipc[i]\n",
    "    with open(patent_path) as f:\n",
    "        d = json.load(f)\n",
    "        f.close()\n",
    "    \n",
    "    #Not taking patnts that are not published yet\n",
    "    if int(d['date_published']) < current_date:\n",
    "        \n",
    "        #Creating the lists for the other information\n",
    "        patent_number.append(d['application_number'])\n",
    "        titles.append(d['title'])\n",
    "        backgrounds.append(d['background'])\n",
    "        claims.append(d['claims'])\n",
    "        summary.append(d['summary'])\n",
    "        abstract.append(d['abstract'])\n",
    "        main_ipc.append(d['main_ipcr_label'])\n",
    "        labels.append(d['decision'])\n",
    "        sec_ipc.append(d['ipcr_labels'])\n",
    "        yearRefVec.append(yearRef)\n",
    "    else:\n",
    "        #If the date is superior to 2016, we still take accepted or rejected into account ???\n",
    "        if d['decision'] == 'ACCEPTED' or d['decision'] == 'REJECTED':\n",
    "            #Creating the lists for the other information\n",
    "            patent_number.append(d['application_number'])\n",
    "            titles.append(d['title'])\n",
    "            backgrounds.append(d['background'])\n",
    "            claims.append(d['claims'])\n",
    "            summary.append(d['summary'])\n",
    "            abstract.append(d['abstract'])\n",
    "            main_ipc.append(d['main_ipcr_label'])\n",
    "            labels.append(d['decision'])\n",
    "            sec_ipc.append(d['ipcr_labels'])\n",
    "            yearRefVec.append(yearRef)\n"
   ]
  },
  {
   "cell_type": "code",
   "execution_count": 22,
   "metadata": {},
   "outputs": [
    {
     "data": {
      "text/html": [
       "<div>\n",
       "<style scoped>\n",
       "    .dataframe tbody tr th:only-of-type {\n",
       "        vertical-align: middle;\n",
       "    }\n",
       "\n",
       "    .dataframe tbody tr th {\n",
       "        vertical-align: top;\n",
       "    }\n",
       "\n",
       "    .dataframe thead th {\n",
       "        text-align: right;\n",
       "    }\n",
       "</style>\n",
       "<table border=\"1\" class=\"dataframe\">\n",
       "  <thead>\n",
       "    <tr style=\"text-align: right;\">\n",
       "      <th></th>\n",
       "      <th>application_number</th>\n",
       "      <th>title</th>\n",
       "      <th>abstract</th>\n",
       "      <th>claims</th>\n",
       "      <th>background</th>\n",
       "      <th>summary</th>\n",
       "      <th>ipc</th>\n",
       "      <th>sec_ipc</th>\n",
       "      <th>label</th>\n",
       "      <th>yearRef</th>\n",
       "    </tr>\n",
       "  </thead>\n",
       "  <tbody>\n",
       "    <tr>\n",
       "      <th>0</th>\n",
       "      <td>14620276</td>\n",
       "      <td>INFORMATION PROCESSING APPARATUS, DATA GENERAT...</td>\n",
       "      <td>An information processing apparatus includes: ...</td>\n",
       "      <td>1. An information processing apparatus, compri...</td>\n",
       "      <td>&lt;SOH&gt; BACKGROUND &lt;EOH&gt;The present technology r...</td>\n",
       "      <td>&lt;SOH&gt; SUMMARY &lt;EOH&gt;Such a head-mounted display...</td>\n",
       "      <td>H04N100</td>\n",
       "      <td>[H04N100, G11B2702, H04N577, G11B2732]</td>\n",
       "      <td>ACCEPTED</td>\n",
       "      <td>2015</td>\n",
       "    </tr>\n",
       "    <tr>\n",
       "      <th>1</th>\n",
       "      <td>14676247</td>\n",
       "      <td>IMAGE READING DEVICE HAVING BLANK-PAPER DETECT...</td>\n",
       "      <td>An image reading device capable of avoiding er...</td>\n",
       "      <td>1. An image reading device comprising: a tray ...</td>\n",
       "      <td>&lt;SOH&gt; BACKGROUND OF THE INVENTION &lt;EOH&gt;1. Fiel...</td>\n",
       "      <td>&lt;SOH&gt; SUMMARY OF THE INVENTION &lt;EOH&gt;The presen...</td>\n",
       "      <td>H04N100</td>\n",
       "      <td>[H04N100]</td>\n",
       "      <td>ACCEPTED</td>\n",
       "      <td>2015</td>\n",
       "    </tr>\n",
       "  </tbody>\n",
       "</table>\n",
       "</div>"
      ],
      "text/plain": [
       "  application_number                                              title  \\\n",
       "0           14620276  INFORMATION PROCESSING APPARATUS, DATA GENERAT...   \n",
       "1           14676247  IMAGE READING DEVICE HAVING BLANK-PAPER DETECT...   \n",
       "\n",
       "                                            abstract  \\\n",
       "0  An information processing apparatus includes: ...   \n",
       "1  An image reading device capable of avoiding er...   \n",
       "\n",
       "                                              claims  \\\n",
       "0  1. An information processing apparatus, compri...   \n",
       "1  1. An image reading device comprising: a tray ...   \n",
       "\n",
       "                                          background  \\\n",
       "0  <SOH> BACKGROUND <EOH>The present technology r...   \n",
       "1  <SOH> BACKGROUND OF THE INVENTION <EOH>1. Fiel...   \n",
       "\n",
       "                                             summary      ipc  \\\n",
       "0  <SOH> SUMMARY <EOH>Such a head-mounted display...  H04N100   \n",
       "1  <SOH> SUMMARY OF THE INVENTION <EOH>The presen...  H04N100   \n",
       "\n",
       "                                  sec_ipc     label  yearRef  \n",
       "0  [H04N100, G11B2702, H04N577, G11B2732]  ACCEPTED     2015  \n",
       "1                               [H04N100]  ACCEPTED     2015  "
      ]
     },
     "execution_count": 22,
     "metadata": {},
     "output_type": "execute_result"
    }
   ],
   "source": [
    "df_ES = pd.DataFrame({'application_number': patent_number, 'title': titles, 'abstract':abstract,\n",
    "                    'claims':claims, 'background': backgrounds, 'summary':summary, 'ipc': main_ipc, \n",
    "                    \"sec_ipc\": sec_ipc, 'label': labels, 'yearRef': yearRefVec})\n",
    "    \n",
    "df_ES"
   ]
  },
  {
   "cell_type": "code",
   "execution_count": 72,
   "metadata": {},
   "outputs": [],
   "source": [
    "# df_KS.to_csv(pathOutput + f'/KS/{year}{yearRef}_{ipc}_KS_raw.csv', index=False)\n",
    "# df_ES.to_csv(pathOutput + f'/ES/{year}{yearRef}_{ipc}_ES_raw.csv', index=False)"
   ]
  },
  {
   "cell_type": "code",
   "execution_count": 5,
   "metadata": {},
   "outputs": [
    {
     "name": "stdout",
     "output_type": "stream",
     "text": [
      "Iterating through patents of reference year 2015 for evalYear 2016\n"
     ]
    },
    {
     "name": "stderr",
     "output_type": "stream",
     "text": [
      "100%|██████████| 1000/1000 [00:00<00:00, 3176.99it/s]\n"
     ]
    },
    {
     "name": "stdout",
     "output_type": "stream",
     "text": [
      "Creating KS and ES for IPC G06F\n"
     ]
    },
    {
     "name": "stderr",
     "output_type": "stream",
     "text": [
      "100%|██████████| 84/84 [00:00<00:00, 989.42it/s]\n",
      "100%|██████████| 2/2 [00:00<00:00, 526.49it/s]\n"
     ]
    }
   ],
   "source": [
    "from fonctionsImportations import json2_KS_ES\n",
    "\n",
    "test = json2_KS_ES(2016, 2015, [\"G06F\"], pathData, pathOutput)"
   ]
  },
  {
   "cell_type": "code",
   "execution_count": 6,
   "metadata": {},
   "outputs": [
    {
     "name": "stdout",
     "output_type": "stream",
     "text": [
      "(61, 10)\n",
      "(2, 10)\n"
     ]
    }
   ],
   "source": [
    "print(test[0][\"G06F\"][2015].shape)\n",
    "print(test[1][\"G06F\"][2015].shape)"
   ]
  },
  {
   "cell_type": "code",
   "execution_count": 3,
   "metadata": {},
   "outputs": [
    {
     "name": "stdout",
     "output_type": "stream",
     "text": [
      "Iterating through patents of reference year 2011 for evalYear 2014\n"
     ]
    },
    {
     "name": "stderr",
     "output_type": "stream",
     "text": [
      "100%|██████████| 1000/1000 [00:00<00:00, 3724.79it/s]\n"
     ]
    },
    {
     "name": "stdout",
     "output_type": "stream",
     "text": [
      "Creating KS and ES for IPC G06F\n"
     ]
    },
    {
     "name": "stderr",
     "output_type": "stream",
     "text": [
      "100%|██████████| 121/121 [00:00<00:00, 2400.23it/s]\n",
      "100%|██████████| 13/13 [00:00<00:00, 1185.09it/s]\n"
     ]
    },
    {
     "name": "stdout",
     "output_type": "stream",
     "text": [
      "ES and KS done for: 2014_2011_G06F\n",
      "Iterating through patents of reference year 2012 for evalYear 2014\n"
     ]
    },
    {
     "name": "stderr",
     "output_type": "stream",
     "text": [
      "100%|██████████| 1000/1000 [00:00<00:00, 3466.20it/s]\n"
     ]
    },
    {
     "name": "stdout",
     "output_type": "stream",
     "text": [
      "Creating KS and ES for IPC G06F\n"
     ]
    },
    {
     "name": "stderr",
     "output_type": "stream",
     "text": [
      "100%|██████████| 132/132 [00:00<00:00, 3476.71it/s]\n",
      "100%|██████████| 11/11 [00:00<00:00, 1206.11it/s]\n"
     ]
    },
    {
     "name": "stdout",
     "output_type": "stream",
     "text": [
      "ES and KS done for: 2014_2012_G06F\n",
      "Iterating through patents of reference year 2013 for evalYear 2014\n"
     ]
    },
    {
     "name": "stderr",
     "output_type": "stream",
     "text": [
      "100%|██████████| 1000/1000 [00:00<00:00, 3211.36it/s]\n"
     ]
    },
    {
     "name": "stdout",
     "output_type": "stream",
     "text": [
      "Creating KS and ES for IPC G06F\n"
     ]
    },
    {
     "name": "stderr",
     "output_type": "stream",
     "text": [
      "100%|██████████| 113/113 [00:00<00:00, 1263.95it/s]\n",
      "100%|██████████| 28/28 [00:00<00:00, 1596.24it/s]\n"
     ]
    },
    {
     "name": "stdout",
     "output_type": "stream",
     "text": [
      "ES and KS done for: 2014_2013_G06F\n",
      "df_KS shape:  (358, 10)\n",
      "df_ES shape:  (49, 10)\n"
     ]
    }
   ],
   "source": [
    "from fonctionsImportations import loop_KS_ES\n",
    "listIPC = [\"G06F\"]\n",
    "year=2014\n",
    "yearsNeeded=3\n",
    "\n",
    "loop_KS_ES(2014, 3, listIPC, pathData, pathOutput)\n"
   ]
  },
  {
   "cell_type": "code",
   "execution_count": 7,
   "metadata": {},
   "outputs": [
    {
     "name": "stdout",
     "output_type": "stream",
     "text": [
      "2011\n",
      "G06F\n",
      "ES and KS done for: 2014_G06F\n",
      "2012\n",
      "G06F\n",
      "ES and KS done for: 2014_G06F\n",
      "2013\n",
      "G06F\n",
      "ES and KS done for: 2014_G06F\n"
     ]
    }
   ],
   "source": [
    "year=2014\n",
    "yearsNeeded=3\n",
    "\n",
    "required_years = set(range(year - yearsNeeded, year))\n",
    "df_KS = pd.DataFrame()\n",
    "df_ES = pd.DataFrame()\n",
    "for ipc in listIPC:\n",
    "    for i in required_years:\n",
    "        print(i)\n",
    "        print(ipc)\n",
    "        print(\"ES and KS done for: \" + f\"{year}_{ipc}\")"
   ]
  },
  {
   "cell_type": "code",
   "execution_count": 6,
   "metadata": {},
   "outputs": [
    {
     "name": "stdout",
     "output_type": "stream",
     "text": [
      "All 3 reference years for eval year 2016 present\n",
      "Create toEval, iterate through all patents of current year 2016\n"
     ]
    },
    {
     "name": "stderr",
     "output_type": "stream",
     "text": [
      "Processing patents: 100%|██████████| 1000/1000 [00:00<00:00, 3397.19it/s]\n",
      "Create toEval for G06F in 2016: 100%|██████████| 19/19 [00:00<00:00, 3175.86it/s]\n",
      "Create toEval for A61B in 2016: 100%|██████████| 3/3 [00:00<00:00, 1391.92it/s]\n"
     ]
    },
    {
     "name": "stdout",
     "output_type": "stream",
     "text": [
      "toEval done for G06F in 2016 \n",
      "Number of secondary IPC for G06F in 2016:  9\n",
      "toEval done for A61B in 2016 \n",
      "Number of secondary IPC for A61B in 2016:  6\n",
      "Iterating through patents of reference year 2013 for evalYear 2016\n"
     ]
    },
    {
     "name": "stderr",
     "output_type": "stream",
     "text": [
      "100%|██████████| 1000/1000 [00:00<00:00, 3124.14it/s]\n"
     ]
    },
    {
     "name": "stdout",
     "output_type": "stream",
     "text": [
      "Creating KS and ES for IPC G06F\n"
     ]
    },
    {
     "name": "stderr",
     "output_type": "stream",
     "text": [
      "100%|██████████| 113/113 [00:00<00:00, 2967.48it/s]\n",
      "100%|██████████| 2/2 [00:00<00:00, 2003.49it/s]\n"
     ]
    },
    {
     "name": "stdout",
     "output_type": "stream",
     "text": [
      "Creating KS and ES for IPC A61B\n"
     ]
    },
    {
     "name": "stderr",
     "output_type": "stream",
     "text": [
      "100%|██████████| 35/35 [00:00<00:00, 2666.05it/s]\n",
      "100%|██████████| 10/10 [00:00<00:00, 2004.64it/s]\n"
     ]
    },
    {
     "name": "stdout",
     "output_type": "stream",
     "text": [
      "ES and KS done for: 2016_2013_G06F\n",
      "Iterating through patents of reference year 2014 for evalYear 2016\n"
     ]
    },
    {
     "name": "stderr",
     "output_type": "stream",
     "text": [
      "100%|██████████| 1000/1000 [00:00<00:00, 3504.31it/s]\n"
     ]
    },
    {
     "name": "stdout",
     "output_type": "stream",
     "text": [
      "Creating KS and ES for IPC G06F\n"
     ]
    },
    {
     "name": "stderr",
     "output_type": "stream",
     "text": [
      "100%|██████████| 83/83 [00:00<00:00, 3567.21it/s]\n",
      "100%|██████████| 3/3 [00:00<00:00, 1503.69it/s]\n"
     ]
    },
    {
     "name": "stdout",
     "output_type": "stream",
     "text": [
      "Creating KS and ES for IPC A61B\n"
     ]
    },
    {
     "name": "stderr",
     "output_type": "stream",
     "text": [
      "100%|██████████| 27/27 [00:00<00:00, 660.29it/s]\n",
      "100%|██████████| 8/8 [00:00<00:00, 891.13it/s]\n"
     ]
    },
    {
     "name": "stdout",
     "output_type": "stream",
     "text": [
      "ES and KS done for: 2016_2014_G06F\n",
      "Iterating through patents of reference year 2015 for evalYear 2016\n"
     ]
    },
    {
     "name": "stderr",
     "output_type": "stream",
     "text": [
      "100%|██████████| 1000/1000 [00:00<00:00, 3737.44it/s]\n"
     ]
    },
    {
     "name": "stdout",
     "output_type": "stream",
     "text": [
      "Creating KS and ES for IPC G06F\n"
     ]
    },
    {
     "name": "stderr",
     "output_type": "stream",
     "text": [
      "100%|██████████| 84/84 [00:00<00:00, 3294.63it/s]\n",
      "100%|██████████| 2/2 [00:00<00:00, 1002.70it/s]\n"
     ]
    },
    {
     "name": "stdout",
     "output_type": "stream",
     "text": [
      "Creating KS and ES for IPC A61B\n"
     ]
    },
    {
     "name": "stderr",
     "output_type": "stream",
     "text": [
      "100%|██████████| 26/26 [00:00<00:00, 2172.69it/s]\n",
      "100%|██████████| 7/7 [00:00<00:00, 701.52it/s]\n"
     ]
    },
    {
     "name": "stdout",
     "output_type": "stream",
     "text": [
      "ES and KS done for: 2016_2015_G06F\n",
      "df_KS shape:  (254, 10)\n",
      "df_ES shape:  (7, 10)\n",
      "Iterating through patents of reference year 2013 for evalYear 2016\n"
     ]
    },
    {
     "name": "stderr",
     "output_type": "stream",
     "text": [
      "100%|██████████| 1000/1000 [00:00<00:00, 2718.59it/s]\n"
     ]
    },
    {
     "name": "stdout",
     "output_type": "stream",
     "text": [
      "Creating KS and ES for IPC G06F\n"
     ]
    },
    {
     "name": "stderr",
     "output_type": "stream",
     "text": [
      "100%|██████████| 113/113 [00:00<00:00, 3122.67it/s]\n",
      "100%|██████████| 2/2 [00:00<00:00, 1002.82it/s]\n"
     ]
    },
    {
     "name": "stdout",
     "output_type": "stream",
     "text": [
      "Creating KS and ES for IPC A61B\n"
     ]
    },
    {
     "name": "stderr",
     "output_type": "stream",
     "text": [
      "100%|██████████| 35/35 [00:00<00:00, 2307.24it/s]\n",
      "100%|██████████| 10/10 [00:00<00:00, 3342.87it/s]\n"
     ]
    },
    {
     "name": "stdout",
     "output_type": "stream",
     "text": [
      "ES and KS done for: 2016_2013_A61B\n",
      "Iterating through patents of reference year 2014 for evalYear 2016\n"
     ]
    },
    {
     "name": "stderr",
     "output_type": "stream",
     "text": [
      "100%|██████████| 1000/1000 [00:00<00:00, 3079.13it/s]\n"
     ]
    },
    {
     "name": "stdout",
     "output_type": "stream",
     "text": [
      "Creating KS and ES for IPC G06F\n"
     ]
    },
    {
     "name": "stderr",
     "output_type": "stream",
     "text": [
      "100%|██████████| 83/83 [00:00<00:00, 1119.07it/s]\n",
      "100%|██████████| 3/3 [00:00<00:00, 1002.78it/s]\n"
     ]
    },
    {
     "name": "stdout",
     "output_type": "stream",
     "text": [
      "Creating KS and ES for IPC A61B\n"
     ]
    },
    {
     "name": "stderr",
     "output_type": "stream",
     "text": [
      "100%|██████████| 27/27 [00:00<00:00, 1343.07it/s]\n",
      "100%|██████████| 8/8 [00:00<00:00, 2673.02it/s]\n"
     ]
    },
    {
     "name": "stdout",
     "output_type": "stream",
     "text": [
      "ES and KS done for: 2016_2014_A61B\n",
      "Iterating through patents of reference year 2015 for evalYear 2016\n"
     ]
    },
    {
     "name": "stderr",
     "output_type": "stream",
     "text": [
      "100%|██████████| 1000/1000 [00:00<00:00, 3078.28it/s]\n"
     ]
    },
    {
     "name": "stdout",
     "output_type": "stream",
     "text": [
      "Creating KS and ES for IPC G06F\n"
     ]
    },
    {
     "name": "stderr",
     "output_type": "stream",
     "text": [
      "100%|██████████| 84/84 [00:00<00:00, 2799.05it/s]\n",
      "100%|██████████| 2/2 [00:00<00:00, 1003.90it/s]\n"
     ]
    },
    {
     "name": "stdout",
     "output_type": "stream",
     "text": [
      "Creating KS and ES for IPC A61B\n"
     ]
    },
    {
     "name": "stderr",
     "output_type": "stream",
     "text": [
      "100%|██████████| 26/26 [00:00<00:00, 2326.39it/s]\n",
      "100%|██████████| 7/7 [00:00<00:00, 1002.46it/s]\n"
     ]
    },
    {
     "name": "stdout",
     "output_type": "stream",
     "text": [
      "ES and KS done for: 2016_2015_A61B\n",
      "df_KS shape:  (334, 10)\n",
      "df_ES shape:  (27, 10)\n"
     ]
    }
   ],
   "source": [
    "from fonctionsImportations import loopFinal\n",
    "\n",
    "loopFinal([\"G06F\", \"A61B\"], [2016], 3, pathData, pathOutput)"
   ]
  }
 ],
 "metadata": {
  "kernelspec": {
   "display_name": "base",
   "language": "python",
   "name": "python3"
  },
  "language_info": {
   "codemirror_mode": {
    "name": "ipython",
    "version": 3
   },
   "file_extension": ".py",
   "mimetype": "text/x-python",
   "name": "python",
   "nbconvert_exporter": "python",
   "pygments_lexer": "ipython3",
   "version": "3.9.16"
  }
 },
 "nbformat": 4,
 "nbformat_minor": 2
}
