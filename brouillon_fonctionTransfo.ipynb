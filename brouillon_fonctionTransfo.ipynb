{
 "cells": [
  {
   "cell_type": "code",
   "execution_count": 97,
   "metadata": {},
   "outputs": [],
   "source": [
    "import os\n",
    "import pandas as pd\n",
    "from os import listdir\n",
    "from os.path import isfile, join\n",
    "import json\n",
    "import collections\n",
    "import re\n",
    "from tqdm import tqdm"
   ]
  },
  {
   "cell_type": "markdown",
   "metadata": {},
   "source": [
    "### Fonction toEval"
   ]
  },
  {
   "cell_type": "code",
   "execution_count": 158,
   "metadata": {},
   "outputs": [],
   "source": [
    "# Initialization of class and year (example using H01L and 2011)\n",
    "ipc = \"H01L\"\n",
    "year = 2011\n",
    "yearsNeeded = 5\n",
    "\n",
    "pathData = \"C:/Users/edgar/OneDrive/Bureau/Ecole/HEC/A24/BrevetNLP/data\"\n",
    "pathOutput = \"C:/Users/edgar/OneDrive/Bureau/Ecole/HEC/A24/BrevetNLP/exemple données\""
   ]
  },
  {
   "cell_type": "code",
   "execution_count": 159,
   "metadata": {},
   "outputs": [
    {
     "name": "stdout",
     "output_type": "stream",
     "text": [
      "All years present\n"
     ]
    },
    {
     "data": {
      "text/plain": [
       "True"
      ]
     },
     "execution_count": 159,
     "metadata": {},
     "output_type": "execute_result"
    }
   ],
   "source": [
    "# Function returning if years are present in dataset\n",
    "def checkYears(year, yearsNeeded):\n",
    "    ret = False\n",
    "    folder_names = [folder for folder in os.listdir(pathData) if os.path.isdir(os.path.join(pathData, folder))]\n",
    "    folder_years = [int(name) for name in folder_names] \n",
    "    required_years = set(range(year - yearsNeeded, year))\n",
    "    missing_years = required_years - set(folder_years)\n",
    "\n",
    "    # Check for missing 2004 and 2005\n",
    "    if {2004}.issubset(required_years | {year}) or {2005}.issubset(required_years | {year}):\n",
    "        print(\"Missing IPC\")\n",
    "    if {2017}.issubset(required_years | {year}) or {2018}.issubset(required_years | {year}):\n",
    "        print(\"Incomplete data\")\n",
    "\n",
    "    # General check for missing years\n",
    "    if not missing_years:\n",
    "        print(\"All years present\")\n",
    "    else:\n",
    "        print(f\"Missing years: {missing_years}\")\n",
    "    if not missing_years and not({2004}.issubset(required_years | {year}) or {2005}.issubset(required_years | {year})) and not({2017}.issubset(required_years | {year}) or {2018}.issubset(required_years | {year})):\n",
    "        ret = True                                                                                                                      \n",
    "    return ret\n",
    "#checkYears(2011, 5)"
   ]
  },
  {
   "cell_type": "code",
   "execution_count": 160,
   "metadata": {},
   "outputs": [
    {
     "name": "stdout",
     "output_type": "stream",
     "text": [
      "C:/Users/edgar/OneDrive/Bureau/Ecole/HEC/A24/BrevetNLP/data/2011/\n",
      "['11794844.json', '12223136.json', '12442249.json', '12517994.json']\n"
     ]
    },
    {
     "data": {
      "text/plain": [
       "1000"
      ]
     },
     "execution_count": 160,
     "metadata": {},
     "output_type": "execute_result"
    }
   ],
   "source": [
    "pathYear = pathData+ f\"/{year}/\"                                # Updates with varialbe year\n",
    "jsonNamesYear = [f for f in listdir(pathYear) if isfile(join(pathYear, f))]\n",
    "\n",
    "print(pathYear)\n",
    "print(jsonNamesYear[0:4])   \n",
    "len(jsonNamesYear)       # 1000 because trunked data\n",
    "\n",
    "# jsonNamesYear contains the names of the of all jsons of that year"
   ]
  },
  {
   "cell_type": "code",
   "execution_count": 161,
   "metadata": {},
   "outputs": [
    {
     "name": "stderr",
     "output_type": "stream",
     "text": [
      "100%|██████████| 1000/1000 [00:00<00:00, 2806.74it/s]"
     ]
    },
    {
     "name": "stdout",
     "output_type": "stream",
     "text": [
      "['12666623.json', '12929164.json', '13003167.json', '13010089.json', '13019520.json', '13019723.json', '13031538.json', '13034149.json', '13035861.json', '13038443.json', '13048057.json', '13055475.json', '13060670.json', '13061343.json', '13064314.json', '13069980.json', '13071539.json', '13079717.json', '13084399.json', '13097931.json', '13100768.json', '13101744.json', '13101991.json', '13106482.json', '13120999.json', '13125020.json', '13135768.json', '13139218.json', '13146081.json', '13148977.json', '13154165.json', '13154559.json', '13154728.json', '13155279.json', '13157020.json', '13157491.json', '13162151.json', '13167068.json', '13167906.json', '13175204.json', '13185968.json', '13198175.json', '13200246.json', '13214444.json', '13216144.json', '13216326.json', '13219838.json', '13226038.json', '13229673.json', '13231331.json', '13232711.json', '13247866.json', '13262887.json', '13264403.json', '13270648.json', '13272009.json', '13274738.json', '13278164.json', '13280601.json', '13287304.json', '13288686.json', '13288731.json', '13294034.json', '13294945.json', '13304230.json', '13309730.json', '13313881.json', '13316056.json', '13317850.json', '13331055.json', '13333482.json', '13339052.json', '13378834.json']\n",
      "73\n",
      "defaultdict(<class 'int'>, {'ACCEPTED': 53, 'REJECTED': 19, 'PENDING': 1})\n"
     ]
    },
    {
     "name": "stderr",
     "output_type": "stream",
     "text": [
      "\n"
     ]
    }
   ],
   "source": [
    "# Initialization of list for IPC class\n",
    "\n",
    "# Initialization of dict for IPC class - initialized at 0, used to count occurences\n",
    "decision_ipc  = collections.defaultdict(int)        # decision_H01L\n",
    "\n",
    "# initialization of list for IPC class\n",
    "patent_ipc_list = []                                # patent_H01L_list\n",
    "\n",
    "nbEmpty = []\n",
    "\n",
    "# Creates list of patents from this IPC class\n",
    "for i in tqdm(range(len(jsonNamesYear))):\n",
    "    patent_path = pathYear + jsonNamesYear[i]\n",
    "    with open(patent_path) as f:\n",
    "        d = json.load(f) # load json in d\n",
    "        f.close()   # close f - not needed with \"with ___ as\" syntax\n",
    "    class_mainIPC = d['main_ipcr_label']\n",
    "    if re.match(f'^{ipc}', class_mainIPC):\n",
    "        patent_ipc_list.append(jsonNamesYear[i])\n",
    "        decision_ipc[d['decision']] += 1\n",
    "    # if class_mainIPC == \"\":\n",
    "    #     nbEmpty[class_mainIPC] += 1\n",
    "\n",
    "print(patent_ipc_list)\n",
    "print(len(patent_ipc_list))\n",
    "print(decision_ipc)\n",
    "# print(nbEmpty)"
   ]
  },
  {
   "cell_type": "code",
   "execution_count": 162,
   "metadata": {},
   "outputs": [
    {
     "name": "stderr",
     "output_type": "stream",
     "text": [
      "100%|██████████| 73/73 [00:00<00:00, 2710.94it/s]"
     ]
    },
    {
     "name": "stdout",
     "output_type": "stream",
     "text": [
      "['12666623.json', '12929164.json', '13003167.json', '13010089.json', '13019520.json', '13019723.json', '13031538.json', '13034149.json', '13035861.json', '13038443.json', '13048057.json', '13055475.json', '13060670.json', '13061343.json', '13064314.json', '13069980.json', '13071539.json', '13079717.json', '13084399.json', '13097931.json', '13100768.json', '13101744.json', '13101991.json', '13106482.json', '13120999.json', '13125020.json', '13135768.json', '13139218.json', '13146081.json', '13148977.json', '13154165.json', '13154559.json', '13154728.json', '13155279.json', '13157020.json', '13157491.json', '13162151.json', '13167068.json', '13167906.json', '13175204.json', '13185968.json', '13198175.json', '13200246.json', '13214444.json', '13216326.json', '13219838.json', '13226038.json', '13229673.json', '13231331.json', '13232711.json', '13247866.json', '13262887.json', '13264403.json', '13270648.json', '13272009.json', '13274738.json', '13278164.json', '13280601.json', '13287304.json', '13288686.json', '13288731.json', '13294034.json', '13294945.json', '13304230.json', '13309730.json', '13313881.json', '13316056.json', '13317850.json', '13331055.json', '13333482.json', '13339052.json', '13378834.json']\n"
     ]
    },
    {
     "name": "stderr",
     "output_type": "stream",
     "text": [
      "\n"
     ]
    }
   ],
   "source": [
    "# Create list exluding all other than accepted and rejected\n",
    "final_patents = []\n",
    "#########\n",
    "#decision = []\n",
    "#########\n",
    "\n",
    "for i in tqdm(range(len(patent_ipc_list))):\n",
    "    patent_path = pathYear + patent_ipc_list[i]\n",
    "    with open(patent_path) as f:\n",
    "        d = json.load(f)\n",
    "        f.close()\n",
    "#########\n",
    "    if d['decision'] == 'ACCEPTED' or d['decision'] == 'REJECTED': # exclude all other\n",
    "        final_patents.append(patent_ipc_list[i])\n",
    "        # decision.append(d['decision'])\n",
    "#########\n",
    "\n",
    "print(final_patents)\n",
    "# print(decision) # is this useful?"
   ]
  },
  {
   "cell_type": "code",
   "execution_count": 163,
   "metadata": {},
   "outputs": [
    {
     "name": "stderr",
     "output_type": "stream",
     "text": [
      "100%|██████████| 72/72 [00:00<00:00, 2674.02it/s]"
     ]
    },
    {
     "name": "stdout",
     "output_type": "stream",
     "text": [
      "139\n",
      "72\n"
     ]
    },
    {
     "name": "stderr",
     "output_type": "stream",
     "text": [
      "\n"
     ]
    }
   ],
   "source": [
    "# Load needed data for patents\n",
    "non_main_ipc = []\n",
    "labels, patent_number, titles, backgrounds, claims, summary, abstract, main_ipc, sec_ipc = [], [], [], [], [], [], [], [], []\n",
    "\n",
    "for i in tqdm(range(len(final_patents))):\n",
    "    patent_path = pathYear + final_patents[i]\n",
    "    with open(patent_path) as f:\n",
    "        d = json.load(f)\n",
    "        f.close() # ligne inutile\n",
    "    \n",
    "    #Creating the lists for the other information\n",
    "    patent_number.append(d['application_number'])\n",
    "    titles.append(d['title'])\n",
    "    backgrounds.append(d['background'])\n",
    "    claims.append(d['claims'])\n",
    "    summary.append(d['summary'])\n",
    "    abstract.append(d['abstract'])\n",
    "    main_ipc.append(d['main_ipcr_label'])\n",
    "    sec_ipc.append(d['ipcr_labels'])\n",
    "\n",
    "\n",
    "    #Collecting non main ipc class -useful to create good expectation class\n",
    "    non_main =  d['ipcr_labels']\n",
    "    for ipcr in non_main:\n",
    "        non_main_ipc.append(ipcr) # only 4 first characters to be sure of being at same level\n",
    "    #Getting labels based on decision\n",
    "    label = 0\n",
    "    if d['decision'] == 'ACCEPTED':\n",
    "        label = 1\n",
    "    labels.append(label)\n",
    "\n",
    "sec_ipc == non_main_ipc\n",
    "print(len(non_main_ipc))\n",
    "print(len(sec_ipc))\n"
   ]
  },
  {
   "cell_type": "code",
   "execution_count": 164,
   "metadata": {},
   "outputs": [
    {
     "name": "stdout",
     "output_type": "stream",
     "text": [
      "22\n",
      "['B32B300', 'B32B712', 'H03B536', 'B82Y4000', 'B32B1501', 'G02F1136', 'C09K1300', 'B32B1500', 'B32B3808', 'H01F140', 'G02B522', 'G03F720', 'B05C500', 'B82Y2000', 'H01M1002', 'B26D1553', 'G06F1750', 'B32B1504', 'C30B2302', 'C23F102', 'H01F104', 'B32B310']\n"
     ]
    }
   ],
   "source": [
    "# Retirer les classes secondaires de la même classe que la princiaple\n",
    "expectations_classes = list(set(non_main_ipc)) # unique secondary ipc classes\n",
    "\n",
    "good_expectations_classes = []\n",
    "for ipcr in expectations_classes:\n",
    "    if ipcr[0:4] != f\"{ipc}\":\n",
    "        good_expectations_classes.append(ipcr)\n",
    "        \n",
    "print(len(good_expectations_classes))\n",
    "print(good_expectations_classes)"
   ]
  },
  {
   "cell_type": "code",
   "execution_count": 166,
   "metadata": {},
   "outputs": [
    {
     "name": "stdout",
     "output_type": "stream",
     "text": [
      "Done\n"
     ]
    }
   ],
   "source": [
    "# Save IPC in text format\n",
    "with open(pathOutput + f'/ES/text/{year}_{ipc}_expectation_IPC_class.txt', 'w') as fp:\n",
    "    for item in good_expectations_classes:\n",
    "        # write each item on a new line\n",
    "        fp.write(\"%s\\n\" % item)\n",
    "    print('Done')"
   ]
  },
  {
   "cell_type": "code",
   "execution_count": 167,
   "metadata": {},
   "outputs": [],
   "source": [
    "# df to csv\n",
    "df = pd.DataFrame({'application_number': patent_number, 'title': titles, 'abstract':abstract,\n",
    "                    'claims':claims, 'background': backgrounds, 'summary':summary, 'ipc':main_ipc, 'label': labels, 'sec_ipc': sec_ipc})\n",
    "df \n",
    "\n",
    "df.to_csv(pathOutput + f'/toEval/{year}_{ipc}_patents_toEval.csv', index=False)"
   ]
  },
  {
   "cell_type": "markdown",
   "metadata": {},
   "source": [
    "### Fonction KS/ES"
   ]
  },
  {
   "cell_type": "code",
   "execution_count": 174,
   "metadata": {},
   "outputs": [
    {
     "name": "stdout",
     "output_type": "stream",
     "text": [
      "C:/Users/edgar/OneDrive/Bureau/Ecole/HEC/A24/BrevetNLP/data\n",
      "C:/Users/edgar/OneDrive/Bureau/Ecole/HEC/A24/BrevetNLP/data/2011/\n"
     ]
    }
   ],
   "source": [
    "print(pathData)\n",
    "print(pathYear) "
   ]
  },
  {
   "cell_type": "code",
   "execution_count": 175,
   "metadata": {},
   "outputs": [],
   "source": [
    "# Initialization of class and year (example using H01L and 2011)\n",
    "ipc = \"G06F\"\n",
    "year = 2011\n",
    "yearsNeeded = 5\n",
    "\n",
    "pathData = \"C:/Users/edgar/OneDrive/Bureau/Ecole/HEC/A24/BrevetNLP/data\"\n",
    "pathOutput = \"C:/Users/edgar/OneDrive/Bureau/Ecole/HEC/A24/BrevetNLP/exemple données\""
   ]
  },
  {
   "cell_type": "code",
   "execution_count": 176,
   "metadata": {},
   "outputs": [
    {
     "name": "stdout",
     "output_type": "stream",
     "text": [
      "{2006, 2007, 2008, 2009, 2010}\n"
     ]
    }
   ],
   "source": [
    "# Create list with years to iterate\n",
    "folder_names = [folder for folder in os.listdir(pathData) if os.path.isdir(os.path.join(pathData, folder))]\n",
    "folder_years = [int(name) for name in folder_names] \n",
    "years_ref = set(range(year - yearsNeeded, year))\n",
    "print(years_ref)"
   ]
  },
  {
   "cell_type": "code",
   "execution_count": 177,
   "metadata": {},
   "outputs": [],
   "source": [
    "yearRef = 2010"
   ]
  },
  {
   "cell_type": "code",
   "execution_count": 178,
   "metadata": {},
   "outputs": [],
   "source": [
    "pathYear = pathData+ f\"/{yearRef}/\"                                # Updates with varialbe year\n",
    "jsonNamesYear = [f for f in listdir(pathYear) if isfile(join(pathYear, f))]\n",
    "# len(jsonNamesYear)\n",
    "# jsonNamesYear[0]"
   ]
  },
  {
   "cell_type": "code",
   "execution_count": 179,
   "metadata": {},
   "outputs": [],
   "source": [
    "# import secondary ipc classes of year toEval\n",
    "expect_classes_ipc_yearRef = []\n",
    "with open(pathOutput + f'/ES/text/{year}_{ipc}_expectation_IPC_class.txt', 'r') as fp:\n",
    "    for line in fp:\n",
    "        x = line[:-1]\n",
    "        expect_classes_ipc_yearRef.append(x)"
   ]
  },
  {
   "cell_type": "code",
   "execution_count": 180,
   "metadata": {},
   "outputs": [
    {
     "name": "stdout",
     "output_type": "stream",
     "text": [
      "['G05B2302', 'B05B1500', 'H05K114', 'H04R500', 'G08B600', 'G01N3315', 'G06Q5024', 'G01B1126', 'H05K700']\n"
     ]
    }
   ],
   "source": [
    "print(expect_classes_ipc_yearRef)"
   ]
  },
  {
   "cell_type": "code",
   "execution_count": 181,
   "metadata": {},
   "outputs": [
    {
     "name": "stderr",
     "output_type": "stream",
     "text": [
      "100%|██████████| 1000/1000 [00:00<00:00, 3978.89it/s]\n"
     ]
    }
   ],
   "source": [
    "# Initialize KS and ES for this IPC class (for toEval yearRef)\n",
    "KS_ipc = []\n",
    "ES_ipc = []\n",
    "\n",
    "for i in tqdm(range(len(jsonNamesYear))):\n",
    "    patent_path = pathYear + jsonNamesYear[i]\n",
    "    with open(patent_path) as f:\n",
    "        d = json.load(f)\n",
    "        f.close()\n",
    "    \n",
    "    class_mainIPC = d['main_ipcr_label']\n",
    "    class_main = class_mainIPC[0:4]\n",
    "\n",
    "    #We are collecting all documents related to the main class - we distinguish them later by date\n",
    "    if class_main == ipc:\n",
    "        KS_ipc.append(jsonNamesYear[i])\n",
    "    \n",
    "    #For the expectations states - we have one for each year since the class are not similar ???\n",
    "    if class_mainIPC in expect_classes_ipc_yearRef:\n",
    "        ES_ipc.append(jsonNamesYear[i])\n"
   ]
  },
  {
   "cell_type": "code",
   "execution_count": 182,
   "metadata": {},
   "outputs": [
    {
     "name": "stdout",
     "output_type": "stream",
     "text": [
      "C:/Users/edgar/OneDrive/Bureau/Ecole/HEC/A24/BrevetNLP/data/2010/13002273.json\n",
      "['12602990.json', '12656709.json', '12661104.json', '12676441.json', '12680085.json', '12680897.json', '12686291.json', '12688769.json', '12689579.json', '12690005.json', '12690590.json', '12691520.json', '12691798.json', '12691826.json', '12692896.json', '12693870.json', '12697132.json', '12699989.json', '12700243.json', '12703596.json', '12705118.json', '12708819.json', '12708996.json', '12718890.json', '12721143.json', '12722230.json', '12722564.json', '12730364.json', '12738867.json', '12749055.json', '12749181.json', '12753252.json', '12753909.json', '12756183.json', '12762122.json', '12767506.json', '12767896.json', '12772253.json', '12776849.json', '12777526.json', '12780635.json', '12781172.json', '12787957.json', '12788247.json', '12790516.json', '12793235.json', '12807766.json', '12812771.json', '12815064.json', '12816023.json', '12819052.json', '12823928.json', '12824723.json', '12827469.json', '12827818.json', '12834659.json', '12836578.json', '12840851.json', '12844800.json', '12845254.json', '12846114.json', '12852004.json', '12854635.json', '12855057.json', '12855059.json', '12856534.json', '12867095.json', '12869628.json', '12870695.json', '12872813.json', '12876173.json', '12879545.json', '12880391.json', '12880971.json', '12883411.json', '12883571.json', '12887095.json', '12893522.json', '12894286.json', '12896175.json', '12902782.json', '12904989.json', '12905202.json', '12906618.json', '12910227.json', '12910673.json', '12911424.json', '12913005.json', '12913272.json', '12913701.json', '12914960.json', '12921240.json', '12923108.json', '12927598.json', '12943331.json', '12944206.json', '12944667.json', '12951752.json', '12953849.json', '12955350.json', '12961569.json', '12962280.json', '12966316.json', '12967616.json', '12967881.json', '12968761.json', '12971190.json', '12972787.json', '12974638.json', '12976330.json', '12979664.json', '12981964.json', '13001785.json']\n",
      "['12662208.json']\n"
     ]
    }
   ],
   "source": [
    "print(patent_path)\n",
    "print(KS_ipc)\n",
    "print(ES_ipc)"
   ]
  },
  {
   "cell_type": "code",
   "execution_count": 189,
   "metadata": {},
   "outputs": [
    {
     "name": "stdout",
     "output_type": "stream",
     "text": [
      "20110101\n"
     ]
    }
   ],
   "source": [
    "current_date = int(f\"{year}\"+\"0101\")\n",
    "print(current_date)"
   ]
  },
  {
   "cell_type": "code",
   "execution_count": 183,
   "metadata": {},
   "outputs": [
    {
     "name": "stderr",
     "output_type": "stream",
     "text": [
      "100%|██████████| 113/113 [00:00<00:00, 3540.69it/s]\n"
     ]
    }
   ],
   "source": [
    "#Saving knowledge space per year in csv\n",
    "patent_number, titles, backgrounds, claims, summary, abstract, main_ipc, labels, sec_ipc = [], [], [], [], [], [], [], [], []\n",
    "\n",
    "for i in tqdm(range(len(KS_ipc))):\n",
    "    patent_path = pathYear + KS_ipc[i]\n",
    "    with open(patent_path) as f:\n",
    "        d = json.load(f)\n",
    "        f.close()\n",
    "    #Not taking patents that are not published yet\n",
    "    if int(d['date_published']) < current_date:\n",
    "        \n",
    "        #Creating the lists for the other information\n",
    "        patent_number.append(d['application_number'])\n",
    "        titles.append(d['title'])\n",
    "        backgrounds.append(d['background'])\n",
    "        claims.append(d['claims'])\n",
    "        summary.append(d['summary'])\n",
    "        abstract.append(d['abstract'])\n",
    "        main_ipc.append(d['main_ipcr_label'])\n",
    "        labels.append(d['decision'])\n",
    "        sec_ipc.append(d['ipcr_labels'])\n",
    "    else:\n",
    "        #If the date is superior, we still take accepted or rejected into account\n",
    "        if d['decision'] == 'ACCEPTED' or d['decision'] == 'REJECTED':\n",
    "            #Creating the lists for the other information\n",
    "            patent_number.append(d['application_number'])\n",
    "            titles.append(d['title'])\n",
    "            backgrounds.append(d['background'])\n",
    "            claims.append(d['claims'])\n",
    "            summary.append(d['summary'])\n",
    "            abstract.append(d['abstract'])\n",
    "            main_ipc.append(d['main_ipcr_label'])\n",
    "            labels.append(d['decision'])\n",
    "            sec_ipc.append(d['ipcr_labels'])"
   ]
  },
  {
   "cell_type": "code",
   "execution_count": 185,
   "metadata": {},
   "outputs": [
    {
     "data": {
      "text/html": [
       "<div>\n",
       "<style scoped>\n",
       "    .dataframe tbody tr th:only-of-type {\n",
       "        vertical-align: middle;\n",
       "    }\n",
       "\n",
       "    .dataframe tbody tr th {\n",
       "        vertical-align: top;\n",
       "    }\n",
       "\n",
       "    .dataframe thead th {\n",
       "        text-align: right;\n",
       "    }\n",
       "</style>\n",
       "<table border=\"1\" class=\"dataframe\">\n",
       "  <thead>\n",
       "    <tr style=\"text-align: right;\">\n",
       "      <th></th>\n",
       "      <th>application_number</th>\n",
       "      <th>title</th>\n",
       "      <th>abstract</th>\n",
       "      <th>claims</th>\n",
       "      <th>background</th>\n",
       "      <th>summary</th>\n",
       "      <th>ipc</th>\n",
       "      <th>sec_ipc</th>\n",
       "      <th>label</th>\n",
       "    </tr>\n",
       "  </thead>\n",
       "  <tbody>\n",
       "    <tr>\n",
       "      <th>0</th>\n",
       "      <td>12602990</td>\n",
       "      <td>Visualization Device Comprising at Least One P...</td>\n",
       "      <td>The visualization device comprising computatio...</td>\n",
       "      <td>1. A visualization device comprising computati...</td>\n",
       "      <td>&lt;SOH&gt; BACKGROUND OF THE INVENTION &lt;EOH&gt;Current...</td>\n",
       "      <td>&lt;SOH&gt; SUMMARY OF THE INVENTION &lt;EOH&gt;One aim of...</td>\n",
       "      <td>G06F3033</td>\n",
       "      <td>[G06F3033]</td>\n",
       "      <td>REJECTED</td>\n",
       "    </tr>\n",
       "    <tr>\n",
       "      <th>1</th>\n",
       "      <td>12656709</td>\n",
       "      <td>Apparatus and method for handling data in a cache</td>\n",
       "      <td>A data processing apparatus for forming a port...</td>\n",
       "      <td>1. A data processing apparatus for forming a p...</td>\n",
       "      <td>&lt;SOH&gt; FIELD OF THE INVENTION &lt;EOH&gt;The present ...</td>\n",
       "      <td>&lt;SOH&gt; SUMMARY OF THE INVENTION &lt;EOH&gt;Viewed fro...</td>\n",
       "      <td>G06F1208</td>\n",
       "      <td>[G06F1208, G06F1200]</td>\n",
       "      <td>ACCEPTED</td>\n",
       "    </tr>\n",
       "    <tr>\n",
       "      <th>2</th>\n",
       "      <td>12661104</td>\n",
       "      <td>Modelling relationships within an on-line conn...</td>\n",
       "      <td>Enhanced presentation techniques for modeling ...</td>\n",
       "      <td>1. A computer-implemented method for modeling ...</td>\n",
       "      <td>&lt;SOH&gt; BACKGROUND &lt;EOH&gt;On-line communications h...</td>\n",
       "      <td>&lt;SOH&gt; BRIEF DESCRIPTION OF THE DRAWINGS &lt;EOH&gt;F...</td>\n",
       "      <td>G06F301</td>\n",
       "      <td>[G06F301, G06F1516]</td>\n",
       "      <td>ACCEPTED</td>\n",
       "    </tr>\n",
       "    <tr>\n",
       "      <th>3</th>\n",
       "      <td>12676441</td>\n",
       "      <td>SYSTEM FOR COMPUTERIZED MULTIPLAYER TOURNAMENT...</td>\n",
       "      <td>The present invention discloses a computerized...</td>\n",
       "      <td>1.-24. (canceled) 25. A method of operating a ...</td>\n",
       "      <td>&lt;SOH&gt; BACKGROUND OF THE INVENTION &lt;EOH&gt;Compute...</td>\n",
       "      <td>&lt;SOH&gt; SUMMARY OF THE INVENTION &lt;EOH&gt;In accorda...</td>\n",
       "      <td>G06F1700</td>\n",
       "      <td>[G06F1700]</td>\n",
       "      <td>REJECTED</td>\n",
       "    </tr>\n",
       "    <tr>\n",
       "      <th>4</th>\n",
       "      <td>12680085</td>\n",
       "      <td>AUTOMATION DEVICE WITH CONTROL PROGRAM AND MET...</td>\n",
       "      <td>An automation device with an execution mechani...</td>\n",
       "      <td>1-17. (canceled) 18. Web Service based Automat...</td>\n",
       "      <td></td>\n",
       "      <td></td>\n",
       "      <td>G06F946</td>\n",
       "      <td>[G06F946, G06F900, G06F15173]</td>\n",
       "      <td>REJECTED</td>\n",
       "    </tr>\n",
       "    <tr>\n",
       "      <th>...</th>\n",
       "      <td>...</td>\n",
       "      <td>...</td>\n",
       "      <td>...</td>\n",
       "      <td>...</td>\n",
       "      <td>...</td>\n",
       "      <td>...</td>\n",
       "      <td>...</td>\n",
       "      <td>...</td>\n",
       "      <td>...</td>\n",
       "    </tr>\n",
       "    <tr>\n",
       "      <th>106</th>\n",
       "      <td>12974638</td>\n",
       "      <td>SAMPLE CLUSTERING TO REDUCE MANUAL TRANSCRIPTI...</td>\n",
       "      <td>Techniques for grouping a plurality of samples...</td>\n",
       "      <td>1. A method of processing a plurality of train...</td>\n",
       "      <td>&lt;SOH&gt; BACKGROUND &lt;EOH&gt;The development of some ...</td>\n",
       "      <td>&lt;SOH&gt; SUMMARY &lt;EOH&gt;One embodiment is directed ...</td>\n",
       "      <td>G06F1727</td>\n",
       "      <td>[G06F1727, G10L1500]</td>\n",
       "      <td>ACCEPTED</td>\n",
       "    </tr>\n",
       "    <tr>\n",
       "      <th>107</th>\n",
       "      <td>12976330</td>\n",
       "      <td>METHOD AND APPARATUS FOR GENERATING A SYSTEM C...</td>\n",
       "      <td>An apparatus includes a processor, a clock rec...</td>\n",
       "      <td>1. A method comprising: recovering a first clo...</td>\n",
       "      <td>&lt;SOH&gt; BACKGROUND &lt;EOH&gt;The disclosure generally...</td>\n",
       "      <td>&lt;SOH&gt; SUMMARY &lt;EOH&gt;In an exemplary embodiment,...</td>\n",
       "      <td>G06F106</td>\n",
       "      <td>[G06F106]</td>\n",
       "      <td>REJECTED</td>\n",
       "    </tr>\n",
       "    <tr>\n",
       "      <th>108</th>\n",
       "      <td>12979664</td>\n",
       "      <td>ELECTRONIC DEVICE</td>\n",
       "      <td>A power switch and connector that are conventi...</td>\n",
       "      <td>1. An electronic device comprising: a display ...</td>\n",
       "      <td>&lt;SOH&gt; BACKGROUND OF THE INVENTION &lt;EOH&gt;1. Fiel...</td>\n",
       "      <td>&lt;SOH&gt; SUMMARY OF THE INVENTION &lt;EOH&gt;In one asp...</td>\n",
       "      <td>G06F116</td>\n",
       "      <td>[G06F116]</td>\n",
       "      <td>ACCEPTED</td>\n",
       "    </tr>\n",
       "    <tr>\n",
       "      <th>109</th>\n",
       "      <td>12981964</td>\n",
       "      <td>CONTEXT-ADDRESSED TABS FOR PRESENTATION APPLIC...</td>\n",
       "      <td>A method, system and computer program product ...</td>\n",
       "      <td>1. A method for providing and using context-ad...</td>\n",
       "      <td>&lt;SOH&gt; BACKGROUND &lt;EOH&gt;Aspects of the present i...</td>\n",
       "      <td>&lt;SOH&gt; BRIEF SUMMARY &lt;EOH&gt;According to one aspe...</td>\n",
       "      <td>G06F3048</td>\n",
       "      <td>[G06F3048]</td>\n",
       "      <td>REJECTED</td>\n",
       "    </tr>\n",
       "    <tr>\n",
       "      <th>110</th>\n",
       "      <td>13001785</td>\n",
       "      <td>SYSTEM AND METHOD FOR SOCIAL NETWORKING FOR MA...</td>\n",
       "      <td>The present invention relates device, system a...</td>\n",
       "      <td>1. A method of processing active note(s) and a...</td>\n",
       "      <td>&lt;SOH&gt; BACKGROUND OF THE INVENTION &lt;EOH&gt;The int...</td>\n",
       "      <td>&lt;SOH&gt; BRIEF DESCRIPTION OF THE DRAWINGS &lt;EOH&gt;N...</td>\n",
       "      <td>G06F1516</td>\n",
       "      <td>[G06F1516, G06Q3002, G06F1730]</td>\n",
       "      <td>ACCEPTED</td>\n",
       "    </tr>\n",
       "  </tbody>\n",
       "</table>\n",
       "<p>111 rows × 9 columns</p>\n",
       "</div>"
      ],
      "text/plain": [
       "    application_number                                              title  \\\n",
       "0             12602990  Visualization Device Comprising at Least One P...   \n",
       "1             12656709  Apparatus and method for handling data in a cache   \n",
       "2             12661104  Modelling relationships within an on-line conn...   \n",
       "3             12676441  SYSTEM FOR COMPUTERIZED MULTIPLAYER TOURNAMENT...   \n",
       "4             12680085  AUTOMATION DEVICE WITH CONTROL PROGRAM AND MET...   \n",
       "..                 ...                                                ...   \n",
       "106           12974638  SAMPLE CLUSTERING TO REDUCE MANUAL TRANSCRIPTI...   \n",
       "107           12976330  METHOD AND APPARATUS FOR GENERATING A SYSTEM C...   \n",
       "108           12979664                                  ELECTRONIC DEVICE   \n",
       "109           12981964  CONTEXT-ADDRESSED TABS FOR PRESENTATION APPLIC...   \n",
       "110           13001785  SYSTEM AND METHOD FOR SOCIAL NETWORKING FOR MA...   \n",
       "\n",
       "                                              abstract  \\\n",
       "0    The visualization device comprising computatio...   \n",
       "1    A data processing apparatus for forming a port...   \n",
       "2    Enhanced presentation techniques for modeling ...   \n",
       "3    The present invention discloses a computerized...   \n",
       "4    An automation device with an execution mechani...   \n",
       "..                                                 ...   \n",
       "106  Techniques for grouping a plurality of samples...   \n",
       "107  An apparatus includes a processor, a clock rec...   \n",
       "108  A power switch and connector that are conventi...   \n",
       "109  A method, system and computer program product ...   \n",
       "110  The present invention relates device, system a...   \n",
       "\n",
       "                                                claims  \\\n",
       "0    1. A visualization device comprising computati...   \n",
       "1    1. A data processing apparatus for forming a p...   \n",
       "2    1. A computer-implemented method for modeling ...   \n",
       "3    1.-24. (canceled) 25. A method of operating a ...   \n",
       "4    1-17. (canceled) 18. Web Service based Automat...   \n",
       "..                                                 ...   \n",
       "106  1. A method of processing a plurality of train...   \n",
       "107  1. A method comprising: recovering a first clo...   \n",
       "108  1. An electronic device comprising: a display ...   \n",
       "109  1. A method for providing and using context-ad...   \n",
       "110  1. A method of processing active note(s) and a...   \n",
       "\n",
       "                                            background  \\\n",
       "0    <SOH> BACKGROUND OF THE INVENTION <EOH>Current...   \n",
       "1    <SOH> FIELD OF THE INVENTION <EOH>The present ...   \n",
       "2    <SOH> BACKGROUND <EOH>On-line communications h...   \n",
       "3    <SOH> BACKGROUND OF THE INVENTION <EOH>Compute...   \n",
       "4                                                        \n",
       "..                                                 ...   \n",
       "106  <SOH> BACKGROUND <EOH>The development of some ...   \n",
       "107  <SOH> BACKGROUND <EOH>The disclosure generally...   \n",
       "108  <SOH> BACKGROUND OF THE INVENTION <EOH>1. Fiel...   \n",
       "109  <SOH> BACKGROUND <EOH>Aspects of the present i...   \n",
       "110  <SOH> BACKGROUND OF THE INVENTION <EOH>The int...   \n",
       "\n",
       "                                               summary       ipc  \\\n",
       "0    <SOH> SUMMARY OF THE INVENTION <EOH>One aim of...  G06F3033   \n",
       "1    <SOH> SUMMARY OF THE INVENTION <EOH>Viewed fro...  G06F1208   \n",
       "2    <SOH> BRIEF DESCRIPTION OF THE DRAWINGS <EOH>F...   G06F301   \n",
       "3    <SOH> SUMMARY OF THE INVENTION <EOH>In accorda...  G06F1700   \n",
       "4                                                        G06F946   \n",
       "..                                                 ...       ...   \n",
       "106  <SOH> SUMMARY <EOH>One embodiment is directed ...  G06F1727   \n",
       "107  <SOH> SUMMARY <EOH>In an exemplary embodiment,...   G06F106   \n",
       "108  <SOH> SUMMARY OF THE INVENTION <EOH>In one asp...   G06F116   \n",
       "109  <SOH> BRIEF SUMMARY <EOH>According to one aspe...  G06F3048   \n",
       "110  <SOH> BRIEF DESCRIPTION OF THE DRAWINGS <EOH>N...  G06F1516   \n",
       "\n",
       "                            sec_ipc     label  \n",
       "0                        [G06F3033]  REJECTED  \n",
       "1              [G06F1208, G06F1200]  ACCEPTED  \n",
       "2               [G06F301, G06F1516]  ACCEPTED  \n",
       "3                        [G06F1700]  REJECTED  \n",
       "4     [G06F946, G06F900, G06F15173]  REJECTED  \n",
       "..                              ...       ...  \n",
       "106            [G06F1727, G10L1500]  ACCEPTED  \n",
       "107                       [G06F106]  REJECTED  \n",
       "108                       [G06F116]  ACCEPTED  \n",
       "109                      [G06F3048]  REJECTED  \n",
       "110  [G06F1516, G06Q3002, G06F1730]  ACCEPTED  \n",
       "\n",
       "[111 rows x 9 columns]"
      ]
     },
     "execution_count": 185,
     "metadata": {},
     "output_type": "execute_result"
    }
   ],
   "source": [
    "df_ES = pd.DataFrame({'application_number': patent_number, 'title': titles, 'abstract':abstract,\n",
    "                    'claims':claims, 'background': backgrounds, 'summary':summary, 'ipc':main_ipc, 'sec_ipc': sec_ipc, 'label': labels})\n",
    "df_ES"
   ]
  },
  {
   "cell_type": "code",
   "execution_count": 186,
   "metadata": {},
   "outputs": [
    {
     "name": "stderr",
     "output_type": "stream",
     "text": [
      "100%|██████████| 1/1 [00:00<00:00, 1002.46it/s]\n"
     ]
    }
   ],
   "source": [
    "#Saving expectations space per year in csv\n",
    "patent_number, titles, backgrounds, claims, summary, abstract, main_ipc, labels, sec_ipc = [], [], [], [], [], [], [], [], []\n",
    "for i in tqdm(range(len(ES_ipc))):\n",
    "    patent_path = pathYear + ES_ipc[i]\n",
    "    with open(patent_path) as f:\n",
    "        d = json.load(f)\n",
    "        f.close()\n",
    "    \n",
    "    #Not taking patnts that are not published yet\n",
    "    if int(d['date_published']) < current_date:\n",
    "        \n",
    "        #Creating the lists for the other information\n",
    "        patent_number.append(d['application_number'])\n",
    "        titles.append(d['title'])\n",
    "        backgrounds.append(d['background'])\n",
    "        claims.append(d['claims'])\n",
    "        summary.append(d['summary'])\n",
    "        abstract.append(d['abstract'])\n",
    "        main_ipc.append(d['main_ipcr_label'])\n",
    "        labels.append(d['decision'])\n",
    "        sec_ipc.append(d['ipcr_labels'])\n",
    "    else:\n",
    "        #If the date is superior to 2016, we still take accepted or rejected into account ???\n",
    "        if d['decision'] == 'ACCEPTED' or d['decision'] == 'REJECTED':\n",
    "            #Creating the lists for the other information\n",
    "            patent_number.append(d['application_number'])\n",
    "            titles.append(d['title'])\n",
    "            backgrounds.append(d['background'])\n",
    "            claims.append(d['claims'])\n",
    "            summary.append(d['summary'])\n",
    "            abstract.append(d['abstract'])\n",
    "            main_ipc.append(d['main_ipcr_label'])\n",
    "            labels.append(d['decision'])\n",
    "            sec_ipc.append(d['ipcr_labels'])"
   ]
  },
  {
   "cell_type": "code",
   "execution_count": 188,
   "metadata": {},
   "outputs": [
    {
     "data": {
      "text/html": [
       "<div>\n",
       "<style scoped>\n",
       "    .dataframe tbody tr th:only-of-type {\n",
       "        vertical-align: middle;\n",
       "    }\n",
       "\n",
       "    .dataframe tbody tr th {\n",
       "        vertical-align: top;\n",
       "    }\n",
       "\n",
       "    .dataframe thead th {\n",
       "        text-align: right;\n",
       "    }\n",
       "</style>\n",
       "<table border=\"1\" class=\"dataframe\">\n",
       "  <thead>\n",
       "    <tr style=\"text-align: right;\">\n",
       "      <th></th>\n",
       "      <th>application_number</th>\n",
       "      <th>title</th>\n",
       "      <th>abstract</th>\n",
       "      <th>claims</th>\n",
       "      <th>background</th>\n",
       "      <th>summary</th>\n",
       "      <th>ipc</th>\n",
       "      <th>label</th>\n",
       "    </tr>\n",
       "  </thead>\n",
       "  <tbody>\n",
       "    <tr>\n",
       "      <th>0</th>\n",
       "      <td>12662208</td>\n",
       "      <td>Face panel</td>\n",
       "      <td>A face panel includes a frame unit having moun...</td>\n",
       "      <td>1. A face panel, comprising: at least one fram...</td>\n",
       "      <td>&lt;SOH&gt; BACKGROUND OF THE INVENTION &lt;EOH&gt;1. Fiel...</td>\n",
       "      <td>&lt;SOH&gt; SUMMARY OF THE INVENTION &lt;EOH&gt;The presen...</td>\n",
       "      <td>H05K700</td>\n",
       "      <td>ACCEPTED</td>\n",
       "    </tr>\n",
       "  </tbody>\n",
       "</table>\n",
       "</div>"
      ],
      "text/plain": [
       "  application_number       title  \\\n",
       "0           12662208  Face panel   \n",
       "\n",
       "                                            abstract  \\\n",
       "0  A face panel includes a frame unit having moun...   \n",
       "\n",
       "                                              claims  \\\n",
       "0  1. A face panel, comprising: at least one fram...   \n",
       "\n",
       "                                          background  \\\n",
       "0  <SOH> BACKGROUND OF THE INVENTION <EOH>1. Fiel...   \n",
       "\n",
       "                                             summary      ipc     label  \n",
       "0  <SOH> SUMMARY OF THE INVENTION <EOH>The presen...  H05K700  ACCEPTED  "
      ]
     },
     "execution_count": 188,
     "metadata": {},
     "output_type": "execute_result"
    }
   ],
   "source": [
    "df_KS = pd.DataFrame({'application_number': patent_number, 'title': titles, 'abstract':abstract,\n",
    "                    'claims':claims, 'background': backgrounds, 'summary':summary, 'ipc': main_ipc, 'label': labels})\n",
    "df_KS"
   ]
  },
  {
   "cell_type": "code",
   "execution_count": 113,
   "metadata": {},
   "outputs": [],
   "source": [
    "# df_KS.to_csv(pathOutput + f'/KS/{year}{yearRef}_{ipc}_KS_raw.csv', index=False)\n",
    "# df_ES.to_csv(pathOutput + f'/ES/{year}{yearRef}_{ipc}_ES_raw.csv', index=False)"
   ]
  }
 ],
 "metadata": {
  "kernelspec": {
   "display_name": "base",
   "language": "python",
   "name": "python3"
  },
  "language_info": {
   "codemirror_mode": {
    "name": "ipython",
    "version": 3
   },
   "file_extension": ".py",
   "mimetype": "text/x-python",
   "name": "python",
   "nbconvert_exporter": "python",
   "pygments_lexer": "ipython3",
   "version": "3.9.16"
  }
 },
 "nbformat": 4,
 "nbformat_minor": 2
}
