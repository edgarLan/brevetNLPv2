{
 "cells": [
  {
   "cell_type": "code",
   "execution_count": 1,
   "id": "a804a814-3880-4512-902e-2ead0890064e",
   "metadata": {
    "tags": []
   },
   "outputs": [],
   "source": [
    "import spacy\n",
    "nlp = spacy.load(\"en_core_web_sm\")\n",
    "import pandas as pd\n",
    "from tqdm import tqdm\n",
    "import nltk\n",
    "import re"
   ]
  },
  {
   "cell_type": "code",
   "execution_count": 2,
   "id": "42c57647-98c8-4228-bd6c-c018242fdd94",
   "metadata": {
    "tags": []
   },
   "outputs": [],
   "source": [
    "from nltk.corpus import stopwords\n",
    "nltk_stopEN = stopwords.words('english')\n",
    "nltk_stopEN = nltk_stopEN + ['or', 'in', 'be', 'but ', 'an', 'of', 'may', 'as', 'soh', 'eoh', 'a', 'b', 'c','d','e','f','g','h','i','j','k','l','m','n','o','p','q',\n",
    "                             'r','s','t','u','v','w','x','y','z', '1','2','3','4','5','6','7','8','9','0']"
   ]
  },
  {
   "cell_type": "code",
   "execution_count": 3,
   "id": "bc7bdd61-ba4f-4872-ae6b-dded94a93516",
   "metadata": {
    "tags": []
   },
   "outputs": [],
   "source": [
    "#Starting with KS from 2016\n",
    "df_full = pd.read_csv('data/to_eval/2014_A61B_patents_toeval.csv')"
   ]
  },
  {
   "cell_type": "code",
   "execution_count": 4,
   "id": "9cb0d03f-4552-413c-9f79-7b19be20d697",
   "metadata": {
    "tags": []
   },
   "outputs": [],
   "source": [
    "#print(len(ks_20142013_A61B)+len(ks_20142012_A61B)+len(ks_20142011_A61B)+len(ks_20142010_A61B)+len(ks_20142009_A61B))"
   ]
  },
  {
   "cell_type": "code",
   "execution_count": 5,
   "id": "af33a582-065d-4b84-bada-6b119dec9f04",
   "metadata": {},
   "outputs": [],
   "source": [
    "#Concatenating datassets to save full dataset\n",
    "#df_full = pd.concat([ks_20142013_A61B, ks_20142012_A61B, ks_20142011_A61B, ks_20142010_A61B, ks_20142009_A61B], axis=0)"
   ]
  },
  {
   "cell_type": "code",
   "execution_count": 6,
   "id": "c05c7cc5-6a71-483d-8833-697f816ab355",
   "metadata": {
    "tags": []
   },
   "outputs": [
    {
     "name": "stdout",
     "output_type": "stream",
     "text": [
      "8383\n"
     ]
    }
   ],
   "source": [
    "print(len(df_full))"
   ]
  },
  {
   "cell_type": "code",
   "execution_count": 7,
   "id": "c57520d2-46aa-485c-87d5-4501ef6372dc",
   "metadata": {
    "tags": []
   },
   "outputs": [],
   "source": [
    "#Loading the Technet Vocab to filter words from texts\n",
    "technet = pd.read_csv('data/Technet/clean_vocab.csv')\n",
    "keep_vocab = list(technet['technet_vocab'])\n",
    "keep_vocab = list(filter(lambda a: a != '-', keep_vocab))\n",
    "keep_vocab = list(filter(lambda a: a not in nltk_stopEN, keep_vocab))\n",
    "set_keep = set(keep_vocab)"
   ]
  },
  {
   "cell_type": "code",
   "execution_count": 8,
   "id": "e47468d8-7d24-4f56-8fa0-d0d93e27e13b",
   "metadata": {
    "tags": []
   },
   "outputs": [],
   "source": [
    "#pd.DataFrame({'application_number': patent_number, 'title': titles, 'background': backgrounds, 'claims':claims, 'decision': decisions})"
   ]
  },
  {
   "cell_type": "code",
   "execution_count": 9,
   "id": "9c597e5a-d2e4-438a-af29-e79917a7d887",
   "metadata": {
    "tags": []
   },
   "outputs": [],
   "source": [
    "def clean_tokens(text):\n",
    "    #doc_token = regTokenize(str(text))#[tok.text for tok in nlp.tokenizer(str(text)) if tok.text in keep_vocab]\n",
    "    #filtered_doc = [word.lower() for word in doc_token if word.lower() in set_keep]\n",
    "    doc_token = [tok.text.lower() for tok in nlp.tokenizer(str(text)) if tok.text.lower() in set_keep]\n",
    "    filtered_text = ' '.join(doc_token)\n",
    "    return filtered_text"
   ]
  },
  {
   "cell_type": "code",
   "execution_count": 10,
   "id": "10758837-3172-4d12-9814-98eafc7a0ac2",
   "metadata": {
    "tags": []
   },
   "outputs": [],
   "source": [
    "#Cleaning all datasets text fields\n",
    "df_full['background'] = df_full['background'].apply(clean_tokens)\n",
    "df_full['claims'] = df_full['claims'].apply(clean_tokens)"
   ]
  },
  {
   "cell_type": "code",
   "execution_count": 11,
   "id": "82535834-6616-4f0d-a5b7-c81eadc7910c",
   "metadata": {},
   "outputs": [
    {
     "data": {
      "text/html": [
       "<div>\n",
       "<style scoped>\n",
       "    .dataframe tbody tr th:only-of-type {\n",
       "        vertical-align: middle;\n",
       "    }\n",
       "\n",
       "    .dataframe tbody tr th {\n",
       "        vertical-align: top;\n",
       "    }\n",
       "\n",
       "    .dataframe thead th {\n",
       "        text-align: right;\n",
       "    }\n",
       "</style>\n",
       "<table border=\"1\" class=\"dataframe\">\n",
       "  <thead>\n",
       "    <tr style=\"text-align: right;\">\n",
       "      <th></th>\n",
       "      <th>application_number</th>\n",
       "      <th>title</th>\n",
       "      <th>background</th>\n",
       "      <th>claims</th>\n",
       "      <th>label</th>\n",
       "    </tr>\n",
       "  </thead>\n",
       "  <tbody>\n",
       "    <tr>\n",
       "      <th>0</th>\n",
       "      <td>11576001</td>\n",
       "      <td>Method for Fluorescence Tomographic Imaging</td>\n",
       "      <td>background invention optical techniques based ...</td>\n",
       "      <td>method determining concentration fluorophore f...</td>\n",
       "      <td>1</td>\n",
       "    </tr>\n",
       "    <tr>\n",
       "      <th>1</th>\n",
       "      <td>13261839</td>\n",
       "      <td>Guided Imaging System</td>\n",
       "      <td>background invention interventional imaging sy...</td>\n",
       "      <td>device remote motion control imaging system co...</td>\n",
       "      <td>0</td>\n",
       "    </tr>\n",
       "    <tr>\n",
       "      <th>2</th>\n",
       "      <td>13261891</td>\n",
       "      <td>CRYOLIPOLYIS DEVICE HAVING A CURVED APPLICATOR...</td>\n",
       "      <td>background excess body fat adipose tissue detr...</td>\n",
       "      <td>applicator treating lipid rich cells cutaneous...</td>\n",
       "      <td>0</td>\n",
       "    </tr>\n",
       "    <tr>\n",
       "      <th>3</th>\n",
       "      <td>13261921</td>\n",
       "      <td>CONTROL CIRCUIT AND SURGICAL TOOL</td>\n",
       "      <td>background invention present invention relates...</td>\n",
       "      <td>medical device comprising control circuit cann...</td>\n",
       "      <td>0</td>\n",
       "    </tr>\n",
       "    <tr>\n",
       "      <th>4</th>\n",
       "      <td>13583503</td>\n",
       "      <td>MEDICAL DEVICE: LAPAROSCOPIC BAG</td>\n",
       "      <td>background invention laparoscopic surgery know...</td>\n",
       "      <td>laparoscopic bag wherein laparoscopic bag one ...</td>\n",
       "      <td>1</td>\n",
       "    </tr>\n",
       "  </tbody>\n",
       "</table>\n",
       "</div>"
      ],
      "text/plain": [
       "   application_number                                              title  \\\n",
       "0            11576001        Method for Fluorescence Tomographic Imaging   \n",
       "1            13261839                              Guided Imaging System   \n",
       "2            13261891  CRYOLIPOLYIS DEVICE HAVING A CURVED APPLICATOR...   \n",
       "3            13261921                  CONTROL CIRCUIT AND SURGICAL TOOL   \n",
       "4            13583503                   MEDICAL DEVICE: LAPAROSCOPIC BAG   \n",
       "\n",
       "                                          background  \\\n",
       "0  background invention optical techniques based ...   \n",
       "1  background invention interventional imaging sy...   \n",
       "2  background excess body fat adipose tissue detr...   \n",
       "3  background invention present invention relates...   \n",
       "4  background invention laparoscopic surgery know...   \n",
       "\n",
       "                                              claims  label  \n",
       "0  method determining concentration fluorophore f...      1  \n",
       "1  device remote motion control imaging system co...      0  \n",
       "2  applicator treating lipid rich cells cutaneous...      0  \n",
       "3  medical device comprising control circuit cann...      0  \n",
       "4  laparoscopic bag wherein laparoscopic bag one ...      1  "
      ]
     },
     "execution_count": 11,
     "metadata": {},
     "output_type": "execute_result"
    }
   ],
   "source": [
    "df_full.head()"
   ]
  },
  {
   "cell_type": "code",
   "execution_count": 12,
   "id": "9e06f819-e8b8-4332-8842-f95e42fc4f63",
   "metadata": {
    "tags": []
   },
   "outputs": [
    {
     "name": "stdout",
     "output_type": "stream",
     "text": [
      "8383\n"
     ]
    }
   ],
   "source": [
    "print(len(df_full))"
   ]
  },
  {
   "cell_type": "code",
   "execution_count": 13,
   "id": "a6d8eacd-e4e0-47fa-8314-f73457b213a4",
   "metadata": {},
   "outputs": [],
   "source": [
    "df_full.to_csv('data/to_eval/cleaned/2014_A61B_patents_toeval_clean.csv', index=False)"
   ]
  },
  {
   "cell_type": "code",
   "execution_count": null,
   "id": "affdbb10-0824-4fc4-b1ed-73227721b684",
   "metadata": {},
   "outputs": [],
   "source": []
  }
 ],
 "metadata": {
  "kernelspec": {
   "display_name": "Python 3 (ipykernel)",
   "language": "python",
   "name": "python3"
  },
  "language_info": {
   "codemirror_mode": {
    "name": "ipython",
    "version": 3
   },
   "file_extension": ".py",
   "mimetype": "text/x-python",
   "name": "python",
   "nbconvert_exporter": "python",
   "pygments_lexer": "ipython3",
   "version": "3.11.5"
  }
 },
 "nbformat": 4,
 "nbformat_minor": 5
}
