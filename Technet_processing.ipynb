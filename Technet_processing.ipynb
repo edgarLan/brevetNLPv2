{
 "cells": [
  {
   "cell_type": "markdown",
   "id": "c5ed8cc1-f216-4a17-bab8-7d9c889ff119",
   "metadata": {},
   "source": [
    "Here we modify and create a new vocab from Technet composed only from individual words"
   ]
  },
  {
   "cell_type": "code",
   "execution_count": 29,
   "id": "db2208d6-6d61-4631-a7ca-7c85c12e19b1",
   "metadata": {
    "tags": []
   },
   "outputs": [],
   "source": [
    "import pandas as pd\n",
    "from tqdm import tqdm"
   ]
  },
  {
   "cell_type": "code",
   "execution_count": 3,
   "id": "2dc36dfb-06cd-4aed-9104-6e50e5750888",
   "metadata": {
    "tags": []
   },
   "outputs": [],
   "source": [
    "df_vocab_1 = pd.read_csv('data/Technet/vocab_github_1.tsv', sep='\\t')\n",
    "df_vocab_2 = pd.read_csv('data/Technet/vocab_github_2.tsv', sep='\\t')"
   ]
  },
  {
   "cell_type": "code",
   "execution_count": 13,
   "id": "9623e9bd-3443-44b2-8542-e019be040d54",
   "metadata": {
    "tags": []
   },
   "outputs": [
    {
     "data": {
      "text/html": [
       "<div>\n",
       "<style scoped>\n",
       "    .dataframe tbody tr th:only-of-type {\n",
       "        vertical-align: middle;\n",
       "    }\n",
       "\n",
       "    .dataframe tbody tr th {\n",
       "        vertical-align: top;\n",
       "    }\n",
       "\n",
       "    .dataframe thead th {\n",
       "        text-align: right;\n",
       "    }\n",
       "</style>\n",
       "<table border=\"1\" class=\"dataframe\">\n",
       "  <thead>\n",
       "    <tr style=\"text-align: right;\">\n",
       "      <th></th>\n",
       "      <th>method</th>\n",
       "      <th>0</th>\n",
       "      <th>0.1</th>\n",
       "    </tr>\n",
       "  </thead>\n",
       "  <tbody>\n",
       "    <tr>\n",
       "      <th>0</th>\n",
       "      <td>form</td>\n",
       "      <td>0</td>\n",
       "      <td>1</td>\n",
       "    </tr>\n",
       "    <tr>\n",
       "      <th>1</th>\n",
       "      <td>least</td>\n",
       "      <td>0</td>\n",
       "      <td>2</td>\n",
       "    </tr>\n",
       "    <tr>\n",
       "      <th>2</th>\n",
       "      <td>comprise</td>\n",
       "      <td>0</td>\n",
       "      <td>3</td>\n",
       "    </tr>\n",
       "    <tr>\n",
       "      <th>3</th>\n",
       "      <td>system</td>\n",
       "      <td>0</td>\n",
       "      <td>4</td>\n",
       "    </tr>\n",
       "    <tr>\n",
       "      <th>4</th>\n",
       "      <td>connect</td>\n",
       "      <td>0</td>\n",
       "      <td>5</td>\n",
       "    </tr>\n",
       "  </tbody>\n",
       "</table>\n",
       "</div>"
      ],
      "text/plain": [
       "     method  0  0.1\n",
       "0      form  0    1\n",
       "1     least  0    2\n",
       "2  comprise  0    3\n",
       "3    system  0    4\n",
       "4   connect  0    5"
      ]
     },
     "execution_count": 13,
     "metadata": {},
     "output_type": "execute_result"
    }
   ],
   "source": [
    "df_vocab_1.head()"
   ]
  },
  {
   "cell_type": "code",
   "execution_count": 16,
   "id": "4794e05f-6e14-48ae-a791-cbaafcd8c86c",
   "metadata": {
    "tags": []
   },
   "outputs": [],
   "source": [
    "kw_list_1 = list(df_vocab_1['method']) + ['method']\n",
    "kw_list_2 = list(df_vocab_2['fourth_lens_b54/b']) + ['fourth_lens_b54/b']"
   ]
  },
  {
   "cell_type": "code",
   "execution_count": 17,
   "id": "1f4fa6d7-d3c5-4e40-a666-686b1b236c23",
   "metadata": {
    "tags": []
   },
   "outputs": [
    {
     "name": "stdout",
     "output_type": "stream",
     "text": [
      "2000000 2038924\n"
     ]
    }
   ],
   "source": [
    "print(len(kw_list_1), len(kw_list_2))"
   ]
  },
  {
   "cell_type": "code",
   "execution_count": 30,
   "id": "7ceea5b1-98fe-4bcf-b726-1d7fe6b2f95e",
   "metadata": {
    "tags": []
   },
   "outputs": [
    {
     "name": "stderr",
     "output_type": "stream",
     "text": [
      "100%|███████████████████████████████████████████████████████████████████| 4038924/4038924 [00:01<00:00, 2832469.34it/s]\n"
     ]
    }
   ],
   "source": [
    "#words are concatenated with _ for larning the word embeddings. We are just keepall individual words as a set of words\n",
    "total_list = kw_list_1 + kw_list_2\n",
    "list_of_tokens = []\n",
    "for i in tqdm(range(len(total_list))):\n",
    "    word = str(total_list[i])\n",
    "    word_list = word.split('_')\n",
    "    list_of_tokens.extend(word_list)"
   ]
  },
  {
   "cell_type": "code",
   "execution_count": 32,
   "id": "f4dc219a-12a7-48dc-a8f3-75cd5b7fabdc",
   "metadata": {
    "tags": []
   },
   "outputs": [
    {
     "name": "stdout",
     "output_type": "stream",
     "text": [
      "846004\n"
     ]
    }
   ],
   "source": [
    "final_list = list(set(list_of_tokens))\n",
    "print(len(final_list))"
   ]
  },
  {
   "cell_type": "code",
   "execution_count": null,
   "id": "c726bce7-7401-41dd-9ca1-ffb885393195",
   "metadata": {
    "tags": []
   },
   "outputs": [],
   "source": [
    "df_expect = pd.DataFrame({'technet_vocab': final_list})\n",
    "df_expect.dropna()"
   ]
  },
  {
   "cell_type": "code",
   "execution_count": 41,
   "id": "708bedca-9bb5-4ac1-8995-59f76b1b3942",
   "metadata": {
    "tags": []
   },
   "outputs": [
    {
     "name": "stderr",
     "output_type": "stream",
     "text": [
      "C:\\Users\\homer\\AppData\\Local\\Temp\\ipykernel_24308\\3290787156.py:5: UserWarning: Boolean Series key will be reindexed to match DataFrame index.\n",
      "  df_expect = df_expect[~mask2]\n"
     ]
    }
   ],
   "source": [
    "mask1 = df_expect['technet_vocab'] == ''\n",
    "mask2 = df_expect['technet_vocab'] == ' '\n",
    "# select all rows except the ones that contain 'Coca Cola'\n",
    "df_expect = df_expect[~mask1]\n",
    "df_expect = df_expect[~mask2]"
   ]
  },
  {
   "cell_type": "code",
   "execution_count": 44,
   "id": "89fe60a4-0ec0-483e-ada6-b0a3e4eab94e",
   "metadata": {
    "tags": []
   },
   "outputs": [
    {
     "data": {
      "text/html": [
       "<div>\n",
       "<style scoped>\n",
       "    .dataframe tbody tr th:only-of-type {\n",
       "        vertical-align: middle;\n",
       "    }\n",
       "\n",
       "    .dataframe tbody tr th {\n",
       "        vertical-align: top;\n",
       "    }\n",
       "\n",
       "    .dataframe thead th {\n",
       "        text-align: right;\n",
       "    }\n",
       "</style>\n",
       "<table border=\"1\" class=\"dataframe\">\n",
       "  <thead>\n",
       "    <tr style=\"text-align: right;\">\n",
       "      <th></th>\n",
       "      <th>technet_vocab</th>\n",
       "    </tr>\n",
       "  </thead>\n",
       "  <tbody>\n",
       "    <tr>\n",
       "      <th>1</th>\n",
       "      <td>x394fo</td>\n",
       "    </tr>\n",
       "    <tr>\n",
       "      <th>2</th>\n",
       "      <td>14-substituted-21h-quinazolinone</td>\n",
       "    </tr>\n",
       "    <tr>\n",
       "      <th>3</th>\n",
       "      <td>toggle-linkage</td>\n",
       "    </tr>\n",
       "    <tr>\n",
       "      <th>4</th>\n",
       "      <td>anolyte/catholyte</td>\n",
       "    </tr>\n",
       "    <tr>\n",
       "      <th>5</th>\n",
       "      <td>flammability</td>\n",
       "    </tr>\n",
       "  </tbody>\n",
       "</table>\n",
       "</div>"
      ],
      "text/plain": [
       "                      technet_vocab\n",
       "1                            x394fo\n",
       "2  14-substituted-21h-quinazolinone\n",
       "3                    toggle-linkage\n",
       "4                 anolyte/catholyte\n",
       "5                      flammability"
      ]
     },
     "execution_count": 44,
     "metadata": {},
     "output_type": "execute_result"
    }
   ],
   "source": [
    "df_expect.head()"
   ]
  },
  {
   "cell_type": "code",
   "execution_count": 45,
   "id": "6d71e98d-8cd1-46e1-9936-8dfb7b1d9708",
   "metadata": {
    "tags": []
   },
   "outputs": [],
   "source": [
    "df_expect.to_csv('data/Technet/clean_vocab.csv', index=False)"
   ]
  },
  {
   "cell_type": "code",
   "execution_count": null,
   "id": "ca295243-1976-46d2-894a-1ee30e9874d0",
   "metadata": {},
   "outputs": [],
   "source": []
  }
 ],
 "metadata": {
  "kernelspec": {
   "display_name": "Python 3 (ipykernel)",
   "language": "python",
   "name": "python3"
  },
  "language_info": {
   "codemirror_mode": {
    "name": "ipython",
    "version": 3
   },
   "file_extension": ".py",
   "mimetype": "text/x-python",
   "name": "python",
   "nbconvert_exporter": "python",
   "pygments_lexer": "ipython3",
   "version": "3.11.5"
  }
 },
 "nbformat": 4,
 "nbformat_minor": 5
}
