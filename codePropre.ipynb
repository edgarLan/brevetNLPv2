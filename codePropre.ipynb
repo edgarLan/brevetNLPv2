{
 "cells": [
  {
   "cell_type": "code",
   "execution_count": 2,
   "metadata": {},
   "outputs": [
    {
     "data": {
      "application/javascript": "IPython.notebook.set_autosave_interval(5000)"
     },
     "metadata": {},
     "output_type": "display_data"
    },
    {
     "name": "stdout",
     "output_type": "stream",
     "text": [
      "Autosaving every 5 seconds\n"
     ]
    }
   ],
   "source": [
    "# import sys\n",
    "# import logging\n",
    "\n",
    "# nblog = open(\"nb.log\", \"a+\")\n",
    "# sys.stdout.echo = nblog\n",
    "# sys.stderr.echo = nblog\n",
    "\n",
    "# get_ipython().log.handlers[0].stream = nblog\n",
    "# get_ipython().log.setLevel(logging.INFO)\n",
    "\n",
    "# %autosave 5"
   ]
  },
  {
   "cell_type": "code",
   "execution_count": 4,
   "metadata": {},
   "outputs": [
    {
     "name": "stderr",
     "output_type": "stream",
     "text": [
      "Running for 5 minutes:   2%|▏         | 6/300 [00:06<05:05,  1.04s/it]\n"
     ]
    },
    {
     "ename": "KeyboardInterrupt",
     "evalue": "",
     "output_type": "error",
     "traceback": [
      "\u001b[0;31m---------------------------------------------------------------------------\u001b[0m",
      "\u001b[0;31mKeyboardInterrupt\u001b[0m                         Traceback (most recent call last)",
      "\u001b[0;32m/var/tmp/ipykernel_13577/3649884522.py\u001b[0m in \u001b[0;36m<module>\u001b[0;34m\u001b[0m\n\u001b[1;32m      8\u001b[0m \u001b[0;32mwith\u001b[0m \u001b[0mtqdm\u001b[0m\u001b[0;34m(\u001b[0m\u001b[0mtotal\u001b[0m\u001b[0;34m=\u001b[0m\u001b[0mtotal_time\u001b[0m\u001b[0;34m,\u001b[0m \u001b[0mdesc\u001b[0m\u001b[0;34m=\u001b[0m\u001b[0;34m'Running for 5 minutes'\u001b[0m\u001b[0;34m)\u001b[0m \u001b[0;32mas\u001b[0m \u001b[0mpbar\u001b[0m\u001b[0;34m:\u001b[0m\u001b[0;34m\u001b[0m\u001b[0;34m\u001b[0m\u001b[0m\n\u001b[1;32m      9\u001b[0m     \u001b[0;32mfor\u001b[0m \u001b[0m_\u001b[0m \u001b[0;32min\u001b[0m \u001b[0mrange\u001b[0m\u001b[0;34m(\u001b[0m\u001b[0mtotal_time\u001b[0m\u001b[0;34m)\u001b[0m\u001b[0;34m:\u001b[0m\u001b[0;34m\u001b[0m\u001b[0;34m\u001b[0m\u001b[0m\n\u001b[0;32m---> 10\u001b[0;31m         \u001b[0mtime\u001b[0m\u001b[0;34m.\u001b[0m\u001b[0msleep\u001b[0m\u001b[0;34m(\u001b[0m\u001b[0;36m1\u001b[0m\u001b[0;34m)\u001b[0m  \u001b[0;31m# Sleep for 1 second\u001b[0m\u001b[0;34m\u001b[0m\u001b[0;34m\u001b[0m\u001b[0m\n\u001b[0m\u001b[1;32m     11\u001b[0m         \u001b[0mpbar\u001b[0m\u001b[0;34m.\u001b[0m\u001b[0mupdate\u001b[0m\u001b[0;34m(\u001b[0m\u001b[0;36m1\u001b[0m\u001b[0;34m)\u001b[0m  \u001b[0;31m# Update the progress bar\u001b[0m\u001b[0;34m\u001b[0m\u001b[0;34m\u001b[0m\u001b[0m\n\u001b[1;32m     12\u001b[0m         \u001b[0;31m#print(_)\u001b[0m\u001b[0;34m\u001b[0m\u001b[0;34m\u001b[0m\u001b[0;34m\u001b[0m\u001b[0m\n",
      "\u001b[0;31mKeyboardInterrupt\u001b[0m: "
     ]
    }
   ],
   "source": [
    "import time\n",
    "from tqdm import tqdm\n",
    "\n",
    "# Total time in seconds\n",
    "total_time = 300\n",
    "\n",
    "# Use tqdm to create a progress bar\n",
    "with tqdm(total=total_time, desc='Running for 5 minutes') as pbar:\n",
    "    for _ in range(total_time):\n",
    "        time.sleep(1)  # Sleep for 1 second\n",
    "        pbar.update(1)  # Update the progress bar\n",
    "        #print(_)"
   ]
  },
  {
   "cell_type": "code",
   "execution_count": 5,
   "metadata": {
    "collapsed": true,
    "scrolled": true
   },
   "outputs": [],
   "source": [
    "from fonctionsImportations import loopFinal, tar_gz2json, json2_KS_ES"
   ]
  },
  {
   "cell_type": "code",
   "execution_count": null,
   "metadata": {
    "collapsed": true,
    "scrolled": true
   },
   "outputs": [
    {
     "name": "stdout",
     "output_type": "stream",
     "text": [
      "Extracted: /home/edgarlanoue/data/dataCompressed/2006.tar.gz in 343.61 seconds\n",
      "Extracted: /home/edgarlanoue/data/dataCompressed/2007.tar.gz in 351.78 seconds\n",
      "Extracted: /home/edgarlanoue/data/dataCompressed/2008.tar.gz in 351.37 seconds\n",
      "Extracted: /home/edgarlanoue/data/dataCompressed/2009.tar.gz in 322.93 seconds\n",
      "Extracted: /home/edgarlanoue/data/dataCompressed/2010.tar.gz in 352.53 seconds\n",
      "Extracted: /home/edgarlanoue/data/dataCompressed/2011.tar.gz in 377.53 seconds\n",
      "Extracted: /home/edgarlanoue/data/dataCompressed/2012.tar.gz in 461.83 seconds\n",
      "Extracted: /home/edgarlanoue/data/dataCompressed/2013.tar.gz in 573.65 seconds\n",
      "Extracted: /home/edgarlanoue/data/dataCompressed/2014.tar.gz in 572.11 seconds\n"
     ]
    }
   ],
   "source": [
    "pathDataComp = \"/home/edgarlanoue/data/dataCompressed/\"\n",
    "pathData = \"/home/edgarlanoue/data/data\"\n",
    "tar_gz2json(2006, 2016, pathDataComp, pathData)"
   ]
  },
  {
   "cell_type": "code",
   "execution_count": 4,
   "metadata": {
    "collapsed": true,
    "scrolled": false
   },
   "outputs": [
    {
     "name": "stdout",
     "output_type": "stream",
     "text": [
      "All 3 reference years for eval year 2011 present\n",
      "Create toEval, iterate through all patents of current year 2011\n"
     ]
    },
    {
     "name": "stderr",
     "output_type": "stream",
     "text": [
      "100%|██████████| 1000/1000 [00:00<00:00, 3405.55it/s]\n"
     ]
    },
    {
     "name": "stdout",
     "output_type": "stream",
     "text": [
      "toEval done for G06F in 2011 \n",
      "toEval shape:  (117, 9)\n",
      "Number of secondary IPC for G06F in 2011:  9\n",
      "toEval done for G01N in 2011 \n",
      "toEval shape:  (19, 9)\n",
      "Number of secondary IPC for G01N in 2011:  14\n",
      "toEval done for A61B in 2011 \n",
      "toEval shape:  (11, 9)\n",
      "Number of secondary IPC for A61B in 2011:  0\n",
      "toEval done for B60L in 2011 \n",
      "toEval shape:  (1, 9)\n",
      "Number of secondary IPC for B60L in 2011:  0\n",
      "toEval done for E21B in 2011 \n",
      "toEval shape:  (8, 9)\n",
      "Number of secondary IPC for E21B in 2011:  8\n",
      "toEval done for F03D in 2011 \n",
      "toEval shape:  (3, 9)\n",
      "Number of secondary IPC for F03D in 2011:  0\n",
      "toEval done for H01L in 2011 \n",
      "toEval shape:  (72, 9)\n",
      "Number of secondary IPC for H01L in 2011:  22\n",
      "toEval done for H04W in 2011 \n",
      "toEval shape:  (19, 9)\n",
      "Number of secondary IPC for H04W in 2011:  1\n",
      "toEval done for C23C in 2011 \n",
      "toEval shape:  (3, 9)\n",
      "Number of secondary IPC for C23C in 2011:  5\n",
      "toEval done for D21B in 2011 \n",
      "toEval shape:  (0, 9)\n",
      "Number of secondary IPC for D21B in 2011:  0\n",
      "toEval done for F04C in 2011 \n",
      "toEval shape:  (0, 9)\n",
      "Number of secondary IPC for F04C in 2011:  0\n",
      "Iterating through patents of reference year 2008 for evalYear 2011\n"
     ]
    },
    {
     "name": "stderr",
     "output_type": "stream",
     "text": [
      "100%|██████████| 1000/1000 [00:17<00:00, 56.57it/s]\n"
     ]
    },
    {
     "name": "stdout",
     "output_type": "stream",
     "text": [
      "Iterating through patents of reference year 2009 for evalYear 2011\n"
     ]
    },
    {
     "name": "stderr",
     "output_type": "stream",
     "text": [
      "100%|██████████| 1000/1000 [00:17<00:00, 55.64it/s]\n"
     ]
    },
    {
     "name": "stdout",
     "output_type": "stream",
     "text": [
      "Iterating through patents of reference year 2010 for evalYear 2011\n"
     ]
    },
    {
     "name": "stderr",
     "output_type": "stream",
     "text": [
      "100%|██████████| 1000/1000 [00:18<00:00, 53.47it/s]\n"
     ]
    },
    {
     "name": "stdout",
     "output_type": "stream",
     "text": [
      "ES and KS done for: 2011_2008_G06F\n",
      "ES and KS done for: 2011_2009_G06F\n",
      "ES and KS done for: 2011_2010_G06F\n",
      "df_KS shape:  (308, 10)\n",
      "df_ES shape:  (7, 10)\n",
      "ES and KS done for: 2011_2008_G01N\n",
      "ES and KS done for: 2011_2009_G01N\n",
      "ES and KS done for: 2011_2010_G01N\n",
      "df_KS shape:  (43, 10)\n",
      "df_ES shape:  (25, 10)\n",
      "ES and KS done for: 2011_2008_A61B\n",
      "ES and KS done for: 2011_2009_A61B\n",
      "ES and KS done for: 2011_2010_A61B\n",
      "df_KS shape:  (67, 10)\n",
      "df_ES shape:  (0, 10)\n",
      "ES and KS done for: 2011_2008_B60L\n",
      "ES and KS done for: 2011_2009_B60L\n",
      "ES and KS done for: 2011_2010_B60L\n",
      "df_KS shape:  (1, 10)\n",
      "df_ES shape:  (0, 10)\n",
      "ES and KS done for: 2011_2008_E21B\n",
      "ES and KS done for: 2011_2009_E21B\n",
      "ES and KS done for: 2011_2010_E21B\n",
      "df_KS shape:  (25, 10)\n",
      "df_ES shape:  (0, 10)\n",
      "ES and KS done for: 2011_2008_F03D\n",
      "ES and KS done for: 2011_2009_F03D\n",
      "ES and KS done for: 2011_2010_F03D\n",
      "df_KS shape:  (5, 10)\n",
      "df_ES shape:  (0, 10)\n",
      "ES and KS done for: 2011_2008_H01L\n",
      "ES and KS done for: 2011_2009_H01L\n",
      "ES and KS done for: 2011_2010_H01L\n",
      "df_KS shape:  (175, 10)\n",
      "df_ES shape:  (20, 10)\n",
      "ES and KS done for: 2011_2008_H04W\n",
      "ES and KS done for: 2011_2009_H04W\n",
      "ES and KS done for: 2011_2010_H04W\n",
      "df_KS shape:  (50, 10)\n",
      "df_ES shape:  (3, 10)\n",
      "ES and KS done for: 2011_2008_C23C\n",
      "ES and KS done for: 2011_2009_C23C\n",
      "ES and KS done for: 2011_2010_C23C\n",
      "df_KS shape:  (6, 10)\n",
      "df_ES shape:  (1, 10)\n",
      "ES and KS done for: 2011_2008_D21B\n",
      "ES and KS done for: 2011_2009_D21B\n",
      "ES and KS done for: 2011_2010_D21B\n",
      "df_KS shape:  (0, 10)\n",
      "df_ES shape:  (0, 10)\n",
      "ES and KS done for: 2011_2008_F04C\n",
      "ES and KS done for: 2011_2009_F04C\n",
      "ES and KS done for: 2011_2010_F04C\n",
      "df_KS shape:  (0, 10)\n",
      "df_ES shape:  (0, 10)\n",
      "Create toEval, iterate through all patents of current year 2012\n"
     ]
    },
    {
     "name": "stderr",
     "output_type": "stream",
     "text": [
      "100%|██████████| 1000/1000 [00:00<00:00, 2970.38it/s]\n"
     ]
    },
    {
     "name": "stdout",
     "output_type": "stream",
     "text": [
      "toEval done for G06F in 2012 \n",
      "toEval shape:  (123, 9)\n",
      "Number of secondary IPC for G06F in 2012:  6\n",
      "toEval done for G01N in 2012 \n",
      "toEval shape:  (15, 9)\n",
      "Number of secondary IPC for G01N in 2012:  21\n",
      "toEval done for A61B in 2012 \n",
      "toEval shape:  (20, 9)\n",
      "Number of secondary IPC for A61B in 2012:  5\n",
      "toEval done for B60L in 2012 \n",
      "toEval shape:  (2, 9)\n",
      "Number of secondary IPC for B60L in 2012:  1\n",
      "toEval done for E21B in 2012 \n",
      "toEval shape:  (8, 9)\n",
      "Number of secondary IPC for E21B in 2012:  1\n",
      "toEval done for F03D in 2012 \n",
      "toEval shape:  (2, 9)\n",
      "Number of secondary IPC for F03D in 2012:  1\n",
      "toEval done for H01L in 2012 \n",
      "toEval shape:  (57, 9)\n",
      "Number of secondary IPC for H01L in 2012:  17\n",
      "toEval done for H04W in 2012 \n",
      "toEval shape:  (33, 9)\n",
      "Number of secondary IPC for H04W in 2012:  5\n",
      "toEval done for C23C in 2012 \n",
      "toEval shape:  (3, 9)\n",
      "Number of secondary IPC for C23C in 2012:  1\n",
      "toEval done for D21B in 2012 \n",
      "toEval shape:  (0, 9)\n",
      "Number of secondary IPC for D21B in 2012:  0\n",
      "toEval done for F04C in 2012 \n",
      "toEval shape:  (0, 9)\n",
      "Number of secondary IPC for F04C in 2012:  0\n",
      "Iterating through patents of reference year 2009 for evalYear 2012\n"
     ]
    },
    {
     "name": "stderr",
     "output_type": "stream",
     "text": [
      "100%|██████████| 1000/1000 [00:00<00:00, 2309.01it/s]\n"
     ]
    },
    {
     "name": "stdout",
     "output_type": "stream",
     "text": [
      "Iterating through patents of reference year 2010 for evalYear 2012\n"
     ]
    },
    {
     "name": "stderr",
     "output_type": "stream",
     "text": [
      "100%|██████████| 1000/1000 [00:00<00:00, 3163.25it/s]\n"
     ]
    },
    {
     "name": "stdout",
     "output_type": "stream",
     "text": [
      "Iterating through patents of reference year 2011 for evalYear 2012\n"
     ]
    },
    {
     "name": "stderr",
     "output_type": "stream",
     "text": [
      "100%|██████████| 1000/1000 [00:00<00:00, 3158.18it/s]\n"
     ]
    },
    {
     "name": "stdout",
     "output_type": "stream",
     "text": [
      "ES and KS done for: 2012_2009_G06F\n",
      "ES and KS done for: 2012_2010_G06F\n",
      "ES and KS done for: 2012_2011_G06F\n",
      "df_KS shape:  (324, 10)\n",
      "df_ES shape:  (13, 10)\n",
      "ES and KS done for: 2012_2009_G01N\n",
      "ES and KS done for: 2012_2010_G01N\n",
      "ES and KS done for: 2012_2011_G01N\n",
      "df_KS shape:  (47, 10)\n",
      "df_ES shape:  (11, 10)\n",
      "ES and KS done for: 2012_2009_A61B\n",
      "ES and KS done for: 2012_2010_A61B\n",
      "ES and KS done for: 2012_2011_A61B\n",
      "df_KS shape:  (56, 10)\n",
      "df_ES shape:  (21, 10)\n",
      "ES and KS done for: 2012_2009_B60L\n",
      "ES and KS done for: 2012_2010_B60L\n",
      "ES and KS done for: 2012_2011_B60L\n",
      "df_KS shape:  (1, 10)\n",
      "df_ES shape:  (0, 10)\n",
      "ES and KS done for: 2012_2009_E21B\n",
      "ES and KS done for: 2012_2010_E21B\n",
      "ES and KS done for: 2012_2011_E21B\n",
      "df_KS shape:  (26, 10)\n",
      "df_ES shape:  (1, 10)\n",
      "ES and KS done for: 2012_2009_F03D\n",
      "ES and KS done for: 2012_2010_F03D\n",
      "ES and KS done for: 2012_2011_F03D\n",
      "df_KS shape:  (8, 10)\n",
      "df_ES shape:  (0, 10)\n",
      "ES and KS done for: 2012_2009_H01L\n",
      "ES and KS done for: 2012_2010_H01L\n",
      "ES and KS done for: 2012_2011_H01L\n",
      "df_KS shape:  (189, 10)\n",
      "df_ES shape:  (6, 10)\n",
      "ES and KS done for: 2012_2009_H04W\n",
      "ES and KS done for: 2012_2010_H04W\n",
      "ES and KS done for: 2012_2011_H04W\n",
      "df_KS shape:  (61, 10)\n",
      "df_ES shape:  (8, 10)\n",
      "ES and KS done for: 2012_2009_C23C\n",
      "ES and KS done for: 2012_2010_C23C\n",
      "ES and KS done for: 2012_2011_C23C\n",
      "df_KS shape:  (6, 10)\n",
      "df_ES shape:  (0, 10)\n",
      "ES and KS done for: 2012_2009_D21B\n",
      "ES and KS done for: 2012_2010_D21B\n",
      "ES and KS done for: 2012_2011_D21B\n",
      "df_KS shape:  (0, 10)\n",
      "df_ES shape:  (0, 10)\n",
      "ES and KS done for: 2012_2009_F04C\n",
      "ES and KS done for: 2012_2010_F04C\n",
      "ES and KS done for: 2012_2011_F04C\n",
      "df_KS shape:  (0, 10)\n",
      "df_ES shape:  (0, 10)\n",
      "Create toEval, iterate through all patents of current year 2013\n"
     ]
    },
    {
     "name": "stderr",
     "output_type": "stream",
     "text": [
      "100%|██████████| 1000/1000 [00:00<00:00, 2041.70it/s]\n"
     ]
    },
    {
     "name": "stdout",
     "output_type": "stream",
     "text": [
      "toEval done for G06F in 2013 \n",
      "toEval shape:  (105, 9)\n",
      "Number of secondary IPC for G06F in 2013:  8\n",
      "toEval done for G01N in 2013 \n",
      "toEval shape:  (22, 9)\n",
      "Number of secondary IPC for G01N in 2013:  5\n",
      "toEval done for A61B in 2013 \n",
      "toEval shape:  (30, 9)\n",
      "Number of secondary IPC for A61B in 2013:  6\n",
      "toEval done for B60L in 2013 \n",
      "toEval shape:  (1, 9)\n",
      "Number of secondary IPC for B60L in 2013:  1\n",
      "toEval done for E21B in 2013 \n",
      "toEval shape:  (7, 9)\n",
      "Number of secondary IPC for E21B in 2013:  0\n",
      "toEval done for F03D in 2013 \n",
      "toEval shape:  (1, 9)\n",
      "Number of secondary IPC for F03D in 2013:  0\n",
      "toEval done for H01L in 2013 \n",
      "toEval shape:  (54, 9)\n",
      "Number of secondary IPC for H01L in 2013:  4\n",
      "toEval done for H04W in 2013 \n",
      "toEval shape:  (39, 9)\n",
      "Number of secondary IPC for H04W in 2013:  1\n",
      "toEval done for C23C in 2013 \n",
      "toEval shape:  (0, 9)\n",
      "Number of secondary IPC for C23C in 2013:  0\n",
      "toEval done for D21B in 2013 \n",
      "toEval shape:  (0, 9)\n",
      "Number of secondary IPC for D21B in 2013:  0\n",
      "toEval done for F04C in 2013 \n",
      "toEval shape:  (2, 9)\n",
      "Number of secondary IPC for F04C in 2013:  1\n",
      "Iterating through patents of reference year 2010 for evalYear 2013\n"
     ]
    },
    {
     "name": "stderr",
     "output_type": "stream",
     "text": [
      "100%|██████████| 1000/1000 [00:00<00:00, 3004.60it/s]\n"
     ]
    },
    {
     "name": "stdout",
     "output_type": "stream",
     "text": [
      "Iterating through patents of reference year 2011 for evalYear 2013\n"
     ]
    },
    {
     "name": "stderr",
     "output_type": "stream",
     "text": [
      "100%|██████████| 1000/1000 [00:00<00:00, 2167.53it/s]\n"
     ]
    },
    {
     "name": "stdout",
     "output_type": "stream",
     "text": [
      "Iterating through patents of reference year 2012 for evalYear 2013\n"
     ]
    },
    {
     "name": "stderr",
     "output_type": "stream",
     "text": [
      "100%|██████████| 1000/1000 [00:00<00:00, 3157.58it/s]\n"
     ]
    },
    {
     "name": "stdout",
     "output_type": "stream",
     "text": [
      "ES and KS done for: 2013_2010_G06F\n",
      "ES and KS done for: 2013_2011_G06F\n",
      "ES and KS done for: 2013_2012_G06F\n",
      "df_KS shape:  (358, 10)\n",
      "df_ES shape:  (8, 10)\n",
      "ES and KS done for: 2013_2010_G01N\n",
      "ES and KS done for: 2013_2011_G01N\n",
      "ES and KS done for: 2013_2012_G01N\n",
      "df_KS shape:  (46, 10)\n",
      "df_ES shape:  (12, 10)\n",
      "ES and KS done for: 2013_2010_A61B\n",
      "ES and KS done for: 2013_2011_A61B\n",
      "ES and KS done for: 2013_2012_A61B\n",
      "df_KS shape:  (51, 10)\n",
      "df_ES shape:  (4, 10)\n",
      "ES and KS done for: 2013_2010_B60L\n",
      "ES and KS done for: 2013_2011_B60L\n",
      "ES and KS done for: 2013_2012_B60L\n",
      "df_KS shape:  (3, 10)\n",
      "df_ES shape:  (1, 10)\n",
      "ES and KS done for: 2013_2010_E21B\n",
      "ES and KS done for: 2013_2011_E21B\n",
      "ES and KS done for: 2013_2012_E21B\n",
      "df_KS shape:  (25, 10)\n",
      "df_ES shape:  (0, 10)\n",
      "ES and KS done for: 2013_2010_F03D\n",
      "ES and KS done for: 2013_2011_F03D\n",
      "ES and KS done for: 2013_2012_F03D\n",
      "df_KS shape:  (7, 10)\n",
      "df_ES shape:  (0, 10)\n",
      "ES and KS done for: 2013_2010_H01L\n",
      "ES and KS done for: 2013_2011_H01L\n",
      "ES and KS done for: 2013_2012_H01L\n",
      "df_KS shape:  (192, 10)\n",
      "df_ES shape:  (4, 10)\n",
      "ES and KS done for: 2013_2010_H04W\n",
      "ES and KS done for: 2013_2011_H04W\n",
      "ES and KS done for: 2013_2012_H04W\n",
      "df_KS shape:  (73, 10)\n",
      "df_ES shape:  (2, 10)\n",
      "ES and KS done for: 2013_2010_C23C\n",
      "ES and KS done for: 2013_2011_C23C\n",
      "ES and KS done for: 2013_2012_C23C\n",
      "df_KS shape:  (9, 10)\n",
      "df_ES shape:  (0, 10)\n",
      "ES and KS done for: 2013_2010_D21B\n",
      "ES and KS done for: 2013_2011_D21B\n",
      "ES and KS done for: 2013_2012_D21B\n",
      "df_KS shape:  (0, 10)\n",
      "df_ES shape:  (0, 10)\n",
      "ES and KS done for: 2013_2010_F04C\n",
      "ES and KS done for: 2013_2011_F04C\n",
      "ES and KS done for: 2013_2012_F04C\n",
      "df_KS shape:  (0, 10)\n",
      "df_ES shape:  (0, 10)\n",
      "Create toEval, iterate through all patents of current year 2014\n"
     ]
    },
    {
     "name": "stderr",
     "output_type": "stream",
     "text": [
      "100%|██████████| 1000/1000 [00:00<00:00, 2296.49it/s]\n"
     ]
    },
    {
     "name": "stdout",
     "output_type": "stream",
     "text": [
      "toEval done for G06F in 2014 \n",
      "toEval shape:  (68, 9)\n",
      "Number of secondary IPC for G06F in 2014:  20\n",
      "toEval done for G01N in 2014 \n",
      "toEval shape:  (21, 9)\n",
      "Number of secondary IPC for G01N in 2014:  16\n",
      "toEval done for A61B in 2014 \n",
      "toEval shape:  (19, 9)\n",
      "Number of secondary IPC for A61B in 2014:  6\n",
      "toEval done for B60L in 2014 \n",
      "toEval shape:  (2, 9)\n",
      "Number of secondary IPC for B60L in 2014:  3\n",
      "toEval done for E21B in 2014 \n",
      "toEval shape:  (9, 9)\n",
      "Number of secondary IPC for E21B in 2014:  10\n",
      "toEval done for F03D in 2014 \n",
      "toEval shape:  (1, 9)\n",
      "Number of secondary IPC for F03D in 2014:  0\n",
      "toEval done for H01L in 2014 \n",
      "toEval shape:  (44, 9)\n",
      "Number of secondary IPC for H01L in 2014:  9\n",
      "toEval done for H04W in 2014 \n",
      "toEval shape:  (30, 9)\n",
      "Number of secondary IPC for H04W in 2014:  5\n",
      "toEval done for C23C in 2014 \n",
      "toEval shape:  (2, 9)\n",
      "Number of secondary IPC for C23C in 2014:  0\n",
      "toEval done for D21B in 2014 \n",
      "toEval shape:  (0, 9)\n",
      "Number of secondary IPC for D21B in 2014:  0\n",
      "toEval done for F04C in 2014 \n",
      "toEval shape:  (0, 9)\n",
      "Number of secondary IPC for F04C in 2014:  0\n",
      "Iterating through patents of reference year 2011 for evalYear 2014\n"
     ]
    },
    {
     "name": "stderr",
     "output_type": "stream",
     "text": [
      "100%|██████████| 1000/1000 [00:00<00:00, 2101.81it/s]\n"
     ]
    },
    {
     "name": "stdout",
     "output_type": "stream",
     "text": [
      "Iterating through patents of reference year 2012 for evalYear 2014\n"
     ]
    },
    {
     "name": "stderr",
     "output_type": "stream",
     "text": [
      "100%|██████████| 1000/1000 [00:00<00:00, 2264.34it/s]\n"
     ]
    },
    {
     "name": "stdout",
     "output_type": "stream",
     "text": [
      "Iterating through patents of reference year 2013 for evalYear 2014\n"
     ]
    },
    {
     "name": "stderr",
     "output_type": "stream",
     "text": [
      "100%|██████████| 1000/1000 [00:00<00:00, 2811.29it/s]\n"
     ]
    },
    {
     "name": "stdout",
     "output_type": "stream",
     "text": [
      "ES and KS done for: 2014_2011_G06F\n",
      "ES and KS done for: 2014_2012_G06F\n",
      "ES and KS done for: 2014_2013_G06F\n",
      "df_KS shape:  (358, 10)\n",
      "df_ES shape:  (49, 10)\n",
      "ES and KS done for: 2014_2011_G01N\n",
      "ES and KS done for: 2014_2012_G01N\n",
      "ES and KS done for: 2014_2013_G01N\n",
      "df_KS shape:  (56, 10)\n",
      "df_ES shape:  (19, 10)\n",
      "ES and KS done for: 2014_2011_A61B\n",
      "ES and KS done for: 2014_2012_A61B\n",
      "ES and KS done for: 2014_2013_A61B\n",
      "df_KS shape:  (63, 10)\n",
      "df_ES shape:  (4, 10)\n",
      "ES and KS done for: 2014_2011_B60L\n",
      "ES and KS done for: 2014_2012_B60L\n",
      "ES and KS done for: 2014_2013_B60L\n",
      "df_KS shape:  (4, 10)\n",
      "df_ES shape:  (5, 10)\n",
      "ES and KS done for: 2014_2011_E21B\n",
      "ES and KS done for: 2014_2012_E21B\n",
      "ES and KS done for: 2014_2013_E21B\n",
      "df_KS shape:  (23, 10)\n",
      "df_ES shape:  (2, 10)\n",
      "ES and KS done for: 2014_2011_F03D\n",
      "ES and KS done for: 2014_2012_F03D\n",
      "ES and KS done for: 2014_2013_F03D\n",
      "df_KS shape:  (6, 10)\n",
      "df_ES shape:  (0, 10)\n",
      "ES and KS done for: 2014_2011_H01L\n",
      "ES and KS done for: 2014_2012_H01L\n",
      "ES and KS done for: 2014_2013_H01L\n",
      "df_KS shape:  (184, 10)\n",
      "df_ES shape:  (0, 10)\n",
      "ES and KS done for: 2014_2011_H04W\n",
      "ES and KS done for: 2014_2012_H04W\n",
      "ES and KS done for: 2014_2013_H04W\n",
      "df_KS shape:  (91, 10)\n",
      "df_ES shape:  (18, 10)\n",
      "ES and KS done for: 2014_2011_C23C\n",
      "ES and KS done for: 2014_2012_C23C\n",
      "ES and KS done for: 2014_2013_C23C\n",
      "df_KS shape:  (6, 10)\n",
      "df_ES shape:  (0, 10)\n",
      "ES and KS done for: 2014_2011_D21B\n",
      "ES and KS done for: 2014_2012_D21B\n",
      "ES and KS done for: 2014_2013_D21B\n",
      "df_KS shape:  (0, 10)\n",
      "df_ES shape:  (0, 10)\n",
      "ES and KS done for: 2014_2011_F04C\n",
      "ES and KS done for: 2014_2012_F04C\n",
      "ES and KS done for: 2014_2013_F04C\n",
      "df_KS shape:  (2, 10)\n",
      "df_ES shape:  (0, 10)\n",
      "Create toEval, iterate through all patents of current year 2015\n"
     ]
    },
    {
     "name": "stderr",
     "output_type": "stream",
     "text": [
      "100%|██████████| 1000/1000 [00:00<00:00, 1709.17it/s]\n"
     ]
    },
    {
     "name": "stdout",
     "output_type": "stream",
     "text": [
      "toEval done for G06F in 2015 \n",
      "toEval shape:  (54, 9)\n",
      "Number of secondary IPC for G06F in 2015:  22\n",
      "toEval done for G01N in 2015 \n",
      "toEval shape:  (11, 9)\n",
      "Number of secondary IPC for G01N in 2015:  4\n",
      "toEval done for A61B in 2015 \n",
      "toEval shape:  (16, 9)\n",
      "Number of secondary IPC for A61B in 2015:  8\n",
      "toEval done for B60L in 2015 \n",
      "toEval shape:  (3, 9)\n",
      "Number of secondary IPC for B60L in 2015:  2\n",
      "toEval done for E21B in 2015 \n",
      "toEval shape:  (6, 9)\n",
      "Number of secondary IPC for E21B in 2015:  4\n",
      "toEval done for F03D in 2015 \n",
      "toEval shape:  (3, 9)\n",
      "Number of secondary IPC for F03D in 2015:  3\n",
      "toEval done for H01L in 2015 \n",
      "toEval shape:  (52, 9)\n",
      "Number of secondary IPC for H01L in 2015:  26\n",
      "toEval done for H04W in 2015 \n",
      "toEval shape:  (29, 9)\n",
      "Number of secondary IPC for H04W in 2015:  16\n",
      "toEval done for C23C in 2015 \n",
      "toEval shape:  (0, 9)\n",
      "Number of secondary IPC for C23C in 2015:  0\n",
      "toEval done for D21B in 2015 \n",
      "toEval shape:  (0, 9)\n",
      "Number of secondary IPC for D21B in 2015:  0\n",
      "toEval done for F04C in 2015 \n",
      "toEval shape:  (0, 9)\n",
      "Number of secondary IPC for F04C in 2015:  0\n",
      "Iterating through patents of reference year 2012 for evalYear 2015\n"
     ]
    },
    {
     "name": "stderr",
     "output_type": "stream",
     "text": [
      "100%|██████████| 1000/1000 [00:00<00:00, 1746.73it/s]\n"
     ]
    },
    {
     "name": "stdout",
     "output_type": "stream",
     "text": [
      "Iterating through patents of reference year 2013 for evalYear 2015\n"
     ]
    },
    {
     "name": "stderr",
     "output_type": "stream",
     "text": [
      "100%|██████████| 1000/1000 [00:00<00:00, 2164.67it/s]\n"
     ]
    },
    {
     "name": "stdout",
     "output_type": "stream",
     "text": [
      "Iterating through patents of reference year 2014 for evalYear 2015\n"
     ]
    },
    {
     "name": "stderr",
     "output_type": "stream",
     "text": [
      "100%|██████████| 1000/1000 [00:00<00:00, 1887.61it/s]\n"
     ]
    },
    {
     "name": "stdout",
     "output_type": "stream",
     "text": [
      "ES and KS done for: 2015_2012_G06F\n",
      "ES and KS done for: 2015_2013_G06F\n",
      "ES and KS done for: 2015_2014_G06F\n",
      "df_KS shape:  (314, 10)\n",
      "df_ES shape:  (60, 10)\n",
      "ES and KS done for: 2015_2012_G01N\n",
      "ES and KS done for: 2015_2013_G01N\n",
      "ES and KS done for: 2015_2014_G01N\n",
      "df_KS shape:  (59, 10)\n",
      "df_ES shape:  (1, 10)\n",
      "ES and KS done for: 2015_2012_A61B\n",
      "ES and KS done for: 2015_2013_A61B\n",
      "ES and KS done for: 2015_2014_A61B\n",
      "df_KS shape:  (80, 10)\n",
      "df_ES shape:  (4, 10)\n",
      "ES and KS done for: 2015_2012_B60L\n",
      "ES and KS done for: 2015_2013_B60L\n",
      "ES and KS done for: 2015_2014_B60L\n",
      "df_KS shape:  (5, 10)\n",
      "df_ES shape:  (1, 10)\n",
      "ES and KS done for: 2015_2012_E21B\n",
      "ES and KS done for: 2015_2013_E21B\n",
      "ES and KS done for: 2015_2014_E21B\n",
      "df_KS shape:  (24, 10)\n",
      "df_ES shape:  (1, 10)\n",
      "ES and KS done for: 2015_2012_F03D\n",
      "ES and KS done for: 2015_2013_F03D\n",
      "ES and KS done for: 2015_2014_F03D\n",
      "df_KS shape:  (4, 10)\n",
      "df_ES shape:  (0, 10)\n",
      "ES and KS done for: 2015_2012_H01L\n",
      "ES and KS done for: 2015_2013_H01L\n",
      "ES and KS done for: 2015_2014_H01L\n",
      "df_KS shape:  (155, 10)\n",
      "df_ES shape:  (25, 10)\n",
      "ES and KS done for: 2015_2012_H04W\n",
      "ES and KS done for: 2015_2013_H04W\n",
      "ES and KS done for: 2015_2014_H04W\n",
      "df_KS shape:  (103, 10)\n",
      "df_ES shape:  (73, 10)\n",
      "ES and KS done for: 2015_2012_C23C\n",
      "ES and KS done for: 2015_2013_C23C\n",
      "ES and KS done for: 2015_2014_C23C\n",
      "df_KS shape:  (5, 10)\n",
      "df_ES shape:  (0, 10)\n",
      "ES and KS done for: 2015_2012_D21B\n",
      "ES and KS done for: 2015_2013_D21B\n",
      "ES and KS done for: 2015_2014_D21B\n",
      "df_KS shape:  (0, 10)\n",
      "df_ES shape:  (0, 10)\n",
      "ES and KS done for: 2015_2012_F04C\n",
      "ES and KS done for: 2015_2013_F04C\n",
      "ES and KS done for: 2015_2014_F04C\n",
      "df_KS shape:  (2, 10)\n",
      "df_ES shape:  (0, 10)\n",
      "Create toEval, iterate through all patents of current year 2016\n"
     ]
    },
    {
     "name": "stderr",
     "output_type": "stream",
     "text": [
      "100%|██████████| 1000/1000 [00:00<00:00, 2461.16it/s]\n"
     ]
    },
    {
     "name": "stdout",
     "output_type": "stream",
     "text": [
      "toEval done for G06F in 2016 \n",
      "toEval shape:  (19, 9)\n",
      "Number of secondary IPC for G06F in 2016:  9\n",
      "toEval done for G01N in 2016 \n",
      "toEval shape:  (4, 9)\n",
      "Number of secondary IPC for G01N in 2016:  3\n",
      "toEval done for A61B in 2016 \n",
      "toEval shape:  (3, 9)\n",
      "Number of secondary IPC for A61B in 2016:  6\n",
      "toEval done for B60L in 2016 \n",
      "toEval shape:  (0, 9)\n",
      "Number of secondary IPC for B60L in 2016:  0\n",
      "toEval done for E21B in 2016 \n",
      "toEval shape:  (0, 9)\n",
      "Number of secondary IPC for E21B in 2016:  0\n",
      "toEval done for F03D in 2016 \n",
      "toEval shape:  (0, 9)\n",
      "Number of secondary IPC for F03D in 2016:  0\n",
      "toEval done for H01L in 2016 \n",
      "toEval shape:  (34, 9)\n",
      "Number of secondary IPC for H01L in 2016:  20\n",
      "toEval done for H04W in 2016 \n",
      "toEval shape:  (13, 9)\n",
      "Number of secondary IPC for H04W in 2016:  7\n",
      "toEval done for C23C in 2016 \n",
      "toEval shape:  (1, 9)\n",
      "Number of secondary IPC for C23C in 2016:  2\n",
      "toEval done for D21B in 2016 \n",
      "toEval shape:  (0, 9)\n",
      "Number of secondary IPC for D21B in 2016:  0\n",
      "toEval done for F04C in 2016 \n",
      "toEval shape:  (0, 9)\n",
      "Number of secondary IPC for F04C in 2016:  0\n",
      "Iterating through patents of reference year 2013 for evalYear 2016\n"
     ]
    },
    {
     "name": "stderr",
     "output_type": "stream",
     "text": [
      "100%|██████████| 1000/1000 [00:00<00:00, 2670.94it/s]\n"
     ]
    },
    {
     "name": "stdout",
     "output_type": "stream",
     "text": [
      "Iterating through patents of reference year 2014 for evalYear 2016\n"
     ]
    },
    {
     "name": "stderr",
     "output_type": "stream",
     "text": [
      "100%|██████████| 1000/1000 [00:00<00:00, 2231.17it/s]\n"
     ]
    },
    {
     "name": "stdout",
     "output_type": "stream",
     "text": [
      "Iterating through patents of reference year 2015 for evalYear 2016\n"
     ]
    },
    {
     "name": "stderr",
     "output_type": "stream",
     "text": [
      "100%|██████████| 1000/1000 [00:00<00:00, 2995.32it/s]\n"
     ]
    },
    {
     "name": "stdout",
     "output_type": "stream",
     "text": [
      "ES and KS done for: 2016_2013_G06F\n",
      "ES and KS done for: 2016_2014_G06F\n",
      "ES and KS done for: 2016_2015_G06F\n",
      "df_KS shape:  (254, 10)\n",
      "df_ES shape:  (7, 10)\n",
      "ES and KS done for: 2016_2013_G01N\n",
      "ES and KS done for: 2016_2014_G01N\n",
      "ES and KS done for: 2016_2015_G01N\n",
      "df_KS shape:  (60, 10)\n",
      "df_ES shape:  (0, 10)\n",
      "ES and KS done for: 2016_2013_A61B\n",
      "ES and KS done for: 2016_2014_A61B\n",
      "ES and KS done for: 2016_2015_A61B\n",
      "df_KS shape:  (80, 10)\n",
      "df_ES shape:  (20, 10)\n",
      "ES and KS done for: 2016_2013_B60L\n",
      "ES and KS done for: 2016_2014_B60L\n",
      "ES and KS done for: 2016_2015_B60L\n",
      "df_KS shape:  (6, 10)\n",
      "df_ES shape:  (0, 10)\n",
      "ES and KS done for: 2016_2013_E21B\n",
      "ES and KS done for: 2016_2014_E21B\n",
      "ES and KS done for: 2016_2015_E21B\n",
      "df_KS shape:  (24, 10)\n",
      "df_ES shape:  (0, 10)\n",
      "ES and KS done for: 2016_2013_F03D\n",
      "ES and KS done for: 2016_2014_F03D\n",
      "ES and KS done for: 2016_2015_F03D\n",
      "df_KS shape:  (5, 10)\n",
      "df_ES shape:  (0, 10)\n",
      "ES and KS done for: 2016_2013_H01L\n",
      "ES and KS done for: 2016_2014_H01L\n",
      "ES and KS done for: 2016_2015_H01L\n",
      "df_KS shape:  (155, 10)\n",
      "df_ES shape:  (36, 10)\n",
      "ES and KS done for: 2016_2013_H04W\n",
      "ES and KS done for: 2016_2014_H04W\n",
      "ES and KS done for: 2016_2015_H04W\n",
      "df_KS shape:  (100, 10)\n",
      "df_ES shape:  (9, 10)\n",
      "ES and KS done for: 2016_2013_C23C\n",
      "ES and KS done for: 2016_2014_C23C\n",
      "ES and KS done for: 2016_2015_C23C\n",
      "df_KS shape:  (2, 10)\n",
      "df_ES shape:  (10, 10)\n",
      "ES and KS done for: 2016_2013_D21B\n",
      "ES and KS done for: 2016_2014_D21B\n",
      "ES and KS done for: 2016_2015_D21B\n",
      "df_KS shape:  (0, 10)\n",
      "df_ES shape:  (0, 10)\n",
      "ES and KS done for: 2016_2013_F04C\n",
      "ES and KS done for: 2016_2014_F04C\n",
      "ES and KS done for: 2016_2015_F04C\n",
      "df_KS shape:  (2, 10)\n",
      "df_ES shape:  (0, 10)\n",
      "All 3 reference years for eval year 2012 present\n",
      "Create toEval, iterate through all patents of current year 2011\n"
     ]
    },
    {
     "name": "stderr",
     "output_type": "stream",
     "text": [
      "100%|██████████| 1000/1000 [00:00<00:00, 1432.24it/s]\n"
     ]
    },
    {
     "name": "stdout",
     "output_type": "stream",
     "text": [
      "toEval done for G06F in 2011 \n",
      "toEval shape:  (117, 9)\n",
      "Number of secondary IPC for G06F in 2011:  9\n",
      "toEval done for G01N in 2011 \n",
      "toEval shape:  (19, 9)\n",
      "Number of secondary IPC for G01N in 2011:  14\n",
      "toEval done for A61B in 2011 \n",
      "toEval shape:  (11, 9)\n",
      "Number of secondary IPC for A61B in 2011:  0\n",
      "toEval done for B60L in 2011 \n",
      "toEval shape:  (1, 9)\n",
      "Number of secondary IPC for B60L in 2011:  0\n",
      "toEval done for E21B in 2011 \n",
      "toEval shape:  (8, 9)\n",
      "Number of secondary IPC for E21B in 2011:  8\n",
      "toEval done for F03D in 2011 \n",
      "toEval shape:  (3, 9)\n",
      "Number of secondary IPC for F03D in 2011:  0\n",
      "toEval done for H01L in 2011 \n",
      "toEval shape:  (72, 9)\n",
      "Number of secondary IPC for H01L in 2011:  22\n",
      "toEval done for H04W in 2011 \n",
      "toEval shape:  (19, 9)\n",
      "Number of secondary IPC for H04W in 2011:  1\n",
      "toEval done for C23C in 2011 \n",
      "toEval shape:  (3, 9)\n",
      "Number of secondary IPC for C23C in 2011:  5\n",
      "toEval done for D21B in 2011 \n",
      "toEval shape:  (0, 9)\n",
      "Number of secondary IPC for D21B in 2011:  0\n",
      "toEval done for F04C in 2011 \n",
      "toEval shape:  (0, 9)\n",
      "Number of secondary IPC for F04C in 2011:  0\n",
      "Iterating through patents of reference year 2008 for evalYear 2011\n"
     ]
    },
    {
     "name": "stderr",
     "output_type": "stream",
     "text": [
      "100%|██████████| 1000/1000 [00:01<00:00, 776.89it/s]\n"
     ]
    },
    {
     "name": "stdout",
     "output_type": "stream",
     "text": [
      "Iterating through patents of reference year 2009 for evalYear 2011\n"
     ]
    },
    {
     "name": "stderr",
     "output_type": "stream",
     "text": [
      "100%|██████████| 1000/1000 [00:00<00:00, 1011.65it/s]\n"
     ]
    },
    {
     "name": "stdout",
     "output_type": "stream",
     "text": [
      "Iterating through patents of reference year 2010 for evalYear 2011\n"
     ]
    },
    {
     "name": "stderr",
     "output_type": "stream",
     "text": [
      "100%|██████████| 1000/1000 [00:00<00:00, 1191.38it/s]\n"
     ]
    },
    {
     "name": "stdout",
     "output_type": "stream",
     "text": [
      "ES and KS done for: 2011_2008_G06F\n",
      "ES and KS done for: 2011_2009_G06F\n",
      "ES and KS done for: 2011_2010_G06F\n",
      "df_KS shape:  (308, 10)\n",
      "df_ES shape:  (7, 10)\n",
      "ES and KS done for: 2011_2008_G01N\n",
      "ES and KS done for: 2011_2009_G01N\n",
      "ES and KS done for: 2011_2010_G01N\n",
      "df_KS shape:  (43, 10)\n",
      "df_ES shape:  (25, 10)\n",
      "ES and KS done for: 2011_2008_A61B\n",
      "ES and KS done for: 2011_2009_A61B\n",
      "ES and KS done for: 2011_2010_A61B\n",
      "df_KS shape:  (67, 10)\n",
      "df_ES shape:  (0, 10)\n",
      "ES and KS done for: 2011_2008_B60L\n",
      "ES and KS done for: 2011_2009_B60L\n",
      "ES and KS done for: 2011_2010_B60L\n",
      "df_KS shape:  (1, 10)\n",
      "df_ES shape:  (0, 10)\n",
      "ES and KS done for: 2011_2008_E21B\n",
      "ES and KS done for: 2011_2009_E21B\n",
      "ES and KS done for: 2011_2010_E21B\n",
      "df_KS shape:  (25, 10)\n",
      "df_ES shape:  (0, 10)\n",
      "ES and KS done for: 2011_2008_F03D\n",
      "ES and KS done for: 2011_2009_F03D\n",
      "ES and KS done for: 2011_2010_F03D\n",
      "df_KS shape:  (5, 10)\n",
      "df_ES shape:  (0, 10)\n",
      "ES and KS done for: 2011_2008_H01L\n",
      "ES and KS done for: 2011_2009_H01L\n",
      "ES and KS done for: 2011_2010_H01L\n",
      "df_KS shape:  (175, 10)\n",
      "df_ES shape:  (20, 10)\n",
      "ES and KS done for: 2011_2008_H04W\n",
      "ES and KS done for: 2011_2009_H04W\n",
      "ES and KS done for: 2011_2010_H04W\n",
      "df_KS shape:  (50, 10)\n",
      "df_ES shape:  (3, 10)\n",
      "ES and KS done for: 2011_2008_C23C\n",
      "ES and KS done for: 2011_2009_C23C\n",
      "ES and KS done for: 2011_2010_C23C\n",
      "df_KS shape:  (6, 10)\n",
      "df_ES shape:  (1, 10)\n",
      "ES and KS done for: 2011_2008_D21B\n",
      "ES and KS done for: 2011_2009_D21B\n",
      "ES and KS done for: 2011_2010_D21B\n",
      "df_KS shape:  (0, 10)\n",
      "df_ES shape:  (0, 10)\n",
      "ES and KS done for: 2011_2008_F04C\n",
      "ES and KS done for: 2011_2009_F04C\n",
      "ES and KS done for: 2011_2010_F04C\n",
      "df_KS shape:  (0, 10)\n",
      "df_ES shape:  (0, 10)\n",
      "Create toEval, iterate through all patents of current year 2012\n"
     ]
    },
    {
     "name": "stderr",
     "output_type": "stream",
     "text": [
      "100%|██████████| 1000/1000 [00:01<00:00, 719.01it/s]\n"
     ]
    },
    {
     "name": "stdout",
     "output_type": "stream",
     "text": [
      "toEval done for G06F in 2012 \n",
      "toEval shape:  (123, 9)\n",
      "Number of secondary IPC for G06F in 2012:  6\n",
      "toEval done for G01N in 2012 \n",
      "toEval shape:  (15, 9)\n",
      "Number of secondary IPC for G01N in 2012:  21\n",
      "toEval done for A61B in 2012 \n",
      "toEval shape:  (20, 9)\n",
      "Number of secondary IPC for A61B in 2012:  5\n",
      "toEval done for B60L in 2012 \n",
      "toEval shape:  (2, 9)\n",
      "Number of secondary IPC for B60L in 2012:  1\n",
      "toEval done for E21B in 2012 \n",
      "toEval shape:  (8, 9)\n",
      "Number of secondary IPC for E21B in 2012:  1\n",
      "toEval done for F03D in 2012 \n",
      "toEval shape:  (2, 9)\n",
      "Number of secondary IPC for F03D in 2012:  1\n",
      "toEval done for H01L in 2012 \n",
      "toEval shape:  (57, 9)\n",
      "Number of secondary IPC for H01L in 2012:  17\n",
      "toEval done for H04W in 2012 \n",
      "toEval shape:  (33, 9)\n",
      "Number of secondary IPC for H04W in 2012:  5\n",
      "toEval done for C23C in 2012 \n",
      "toEval shape:  (3, 9)\n",
      "Number of secondary IPC for C23C in 2012:  1\n",
      "toEval done for D21B in 2012 \n",
      "toEval shape:  (0, 9)\n",
      "Number of secondary IPC for D21B in 2012:  0\n",
      "toEval done for F04C in 2012 \n",
      "toEval shape:  (0, 9)\n",
      "Number of secondary IPC for F04C in 2012:  0\n",
      "Iterating through patents of reference year 2009 for evalYear 2012\n"
     ]
    },
    {
     "name": "stderr",
     "output_type": "stream",
     "text": [
      "100%|██████████| 1000/1000 [00:01<00:00, 811.20it/s]\n"
     ]
    },
    {
     "name": "stdout",
     "output_type": "stream",
     "text": [
      "Iterating through patents of reference year 2010 for evalYear 2012\n"
     ]
    },
    {
     "name": "stderr",
     "output_type": "stream",
     "text": [
      "100%|██████████| 1000/1000 [00:01<00:00, 754.97it/s]\n"
     ]
    },
    {
     "name": "stdout",
     "output_type": "stream",
     "text": [
      "Iterating through patents of reference year 2011 for evalYear 2012\n"
     ]
    },
    {
     "name": "stderr",
     "output_type": "stream",
     "text": [
      "100%|██████████| 1000/1000 [00:01<00:00, 892.31it/s]\n"
     ]
    },
    {
     "name": "stdout",
     "output_type": "stream",
     "text": [
      "ES and KS done for: 2012_2009_G06F\n",
      "ES and KS done for: 2012_2010_G06F\n",
      "ES and KS done for: 2012_2011_G06F\n",
      "df_KS shape:  (324, 10)\n",
      "df_ES shape:  (13, 10)\n",
      "ES and KS done for: 2012_2009_G01N\n",
      "ES and KS done for: 2012_2010_G01N\n",
      "ES and KS done for: 2012_2011_G01N\n",
      "df_KS shape:  (47, 10)\n",
      "df_ES shape:  (11, 10)\n",
      "ES and KS done for: 2012_2009_A61B\n",
      "ES and KS done for: 2012_2010_A61B\n",
      "ES and KS done for: 2012_2011_A61B\n",
      "df_KS shape:  (56, 10)\n",
      "df_ES shape:  (21, 10)\n",
      "ES and KS done for: 2012_2009_B60L\n",
      "ES and KS done for: 2012_2010_B60L\n",
      "ES and KS done for: 2012_2011_B60L\n",
      "df_KS shape:  (1, 10)\n",
      "df_ES shape:  (0, 10)\n",
      "ES and KS done for: 2012_2009_E21B\n",
      "ES and KS done for: 2012_2010_E21B\n",
      "ES and KS done for: 2012_2011_E21B\n",
      "df_KS shape:  (26, 10)\n",
      "df_ES shape:  (1, 10)\n",
      "ES and KS done for: 2012_2009_F03D\n",
      "ES and KS done for: 2012_2010_F03D\n",
      "ES and KS done for: 2012_2011_F03D\n",
      "df_KS shape:  (8, 10)\n",
      "df_ES shape:  (0, 10)\n",
      "ES and KS done for: 2012_2009_H01L\n",
      "ES and KS done for: 2012_2010_H01L\n",
      "ES and KS done for: 2012_2011_H01L\n",
      "df_KS shape:  (189, 10)\n",
      "df_ES shape:  (6, 10)\n",
      "ES and KS done for: 2012_2009_H04W\n",
      "ES and KS done for: 2012_2010_H04W\n",
      "ES and KS done for: 2012_2011_H04W\n",
      "df_KS shape:  (61, 10)\n",
      "df_ES shape:  (8, 10)\n",
      "ES and KS done for: 2012_2009_C23C\n",
      "ES and KS done for: 2012_2010_C23C\n",
      "ES and KS done for: 2012_2011_C23C\n",
      "df_KS shape:  (6, 10)\n",
      "df_ES shape:  (0, 10)\n",
      "ES and KS done for: 2012_2009_D21B\n",
      "ES and KS done for: 2012_2010_D21B\n",
      "ES and KS done for: 2012_2011_D21B\n",
      "df_KS shape:  (0, 10)\n",
      "df_ES shape:  (0, 10)\n",
      "ES and KS done for: 2012_2009_F04C\n",
      "ES and KS done for: 2012_2010_F04C\n",
      "ES and KS done for: 2012_2011_F04C\n",
      "df_KS shape:  (0, 10)\n",
      "df_ES shape:  (0, 10)\n",
      "Create toEval, iterate through all patents of current year 2013\n"
     ]
    },
    {
     "name": "stderr",
     "output_type": "stream",
     "text": [
      "100%|██████████| 1000/1000 [00:00<00:00, 1006.58it/s]\n"
     ]
    },
    {
     "name": "stdout",
     "output_type": "stream",
     "text": [
      "toEval done for G06F in 2013 \n",
      "toEval shape:  (105, 9)\n",
      "Number of secondary IPC for G06F in 2013:  8\n",
      "toEval done for G01N in 2013 \n",
      "toEval shape:  (22, 9)\n",
      "Number of secondary IPC for G01N in 2013:  5\n",
      "toEval done for A61B in 2013 \n",
      "toEval shape:  (30, 9)\n",
      "Number of secondary IPC for A61B in 2013:  6\n",
      "toEval done for B60L in 2013 \n",
      "toEval shape:  (1, 9)\n",
      "Number of secondary IPC for B60L in 2013:  1\n",
      "toEval done for E21B in 2013 \n",
      "toEval shape:  (7, 9)\n",
      "Number of secondary IPC for E21B in 2013:  0\n",
      "toEval done for F03D in 2013 \n",
      "toEval shape:  (1, 9)\n",
      "Number of secondary IPC for F03D in 2013:  0\n",
      "toEval done for H01L in 2013 \n",
      "toEval shape:  (54, 9)\n",
      "Number of secondary IPC for H01L in 2013:  4\n",
      "toEval done for H04W in 2013 \n",
      "toEval shape:  (39, 9)\n",
      "Number of secondary IPC for H04W in 2013:  1\n",
      "toEval done for C23C in 2013 \n",
      "toEval shape:  (0, 9)\n",
      "Number of secondary IPC for C23C in 2013:  0\n",
      "toEval done for D21B in 2013 \n",
      "toEval shape:  (0, 9)\n",
      "Number of secondary IPC for D21B in 2013:  0\n",
      "toEval done for F04C in 2013 \n",
      "toEval shape:  (2, 9)\n",
      "Number of secondary IPC for F04C in 2013:  1\n",
      "Iterating through patents of reference year 2010 for evalYear 2013\n"
     ]
    },
    {
     "name": "stderr",
     "output_type": "stream",
     "text": [
      "100%|██████████| 1000/1000 [00:00<00:00, 1327.72it/s]\n"
     ]
    },
    {
     "name": "stdout",
     "output_type": "stream",
     "text": [
      "Iterating through patents of reference year 2011 for evalYear 2013\n"
     ]
    },
    {
     "name": "stderr",
     "output_type": "stream",
     "text": [
      "100%|██████████| 1000/1000 [00:00<00:00, 2388.45it/s]\n"
     ]
    },
    {
     "name": "stdout",
     "output_type": "stream",
     "text": [
      "Iterating through patents of reference year 2012 for evalYear 2013\n"
     ]
    },
    {
     "name": "stderr",
     "output_type": "stream",
     "text": [
      "100%|██████████| 1000/1000 [00:00<00:00, 2973.96it/s]\n"
     ]
    },
    {
     "name": "stdout",
     "output_type": "stream",
     "text": [
      "ES and KS done for: 2013_2010_G06F\n",
      "ES and KS done for: 2013_2011_G06F\n",
      "ES and KS done for: 2013_2012_G06F\n",
      "df_KS shape:  (358, 10)\n",
      "df_ES shape:  (8, 10)\n",
      "ES and KS done for: 2013_2010_G01N\n",
      "ES and KS done for: 2013_2011_G01N\n",
      "ES and KS done for: 2013_2012_G01N\n",
      "df_KS shape:  (46, 10)\n",
      "df_ES shape:  (12, 10)\n",
      "ES and KS done for: 2013_2010_A61B\n",
      "ES and KS done for: 2013_2011_A61B\n",
      "ES and KS done for: 2013_2012_A61B\n",
      "df_KS shape:  (51, 10)\n",
      "df_ES shape:  (4, 10)\n",
      "ES and KS done for: 2013_2010_B60L\n",
      "ES and KS done for: 2013_2011_B60L\n",
      "ES and KS done for: 2013_2012_B60L\n",
      "df_KS shape:  (3, 10)\n",
      "df_ES shape:  (1, 10)\n",
      "ES and KS done for: 2013_2010_E21B\n",
      "ES and KS done for: 2013_2011_E21B\n",
      "ES and KS done for: 2013_2012_E21B\n",
      "df_KS shape:  (25, 10)\n",
      "df_ES shape:  (0, 10)\n",
      "ES and KS done for: 2013_2010_F03D\n",
      "ES and KS done for: 2013_2011_F03D\n",
      "ES and KS done for: 2013_2012_F03D\n",
      "df_KS shape:  (7, 10)\n",
      "df_ES shape:  (0, 10)\n",
      "ES and KS done for: 2013_2010_H01L\n",
      "ES and KS done for: 2013_2011_H01L\n",
      "ES and KS done for: 2013_2012_H01L\n",
      "df_KS shape:  (192, 10)\n",
      "df_ES shape:  (4, 10)\n",
      "ES and KS done for: 2013_2010_H04W\n",
      "ES and KS done for: 2013_2011_H04W\n",
      "ES and KS done for: 2013_2012_H04W\n",
      "df_KS shape:  (73, 10)\n",
      "df_ES shape:  (2, 10)\n",
      "ES and KS done for: 2013_2010_C23C\n",
      "ES and KS done for: 2013_2011_C23C\n",
      "ES and KS done for: 2013_2012_C23C\n",
      "df_KS shape:  (9, 10)\n",
      "df_ES shape:  (0, 10)\n",
      "ES and KS done for: 2013_2010_D21B\n",
      "ES and KS done for: 2013_2011_D21B\n",
      "ES and KS done for: 2013_2012_D21B\n",
      "df_KS shape:  (0, 10)\n",
      "df_ES shape:  (0, 10)\n",
      "ES and KS done for: 2013_2010_F04C\n",
      "ES and KS done for: 2013_2011_F04C\n",
      "ES and KS done for: 2013_2012_F04C\n",
      "df_KS shape:  (0, 10)\n",
      "df_ES shape:  (0, 10)\n",
      "Create toEval, iterate through all patents of current year 2014\n"
     ]
    },
    {
     "name": "stderr",
     "output_type": "stream",
     "text": [
      "100%|██████████| 1000/1000 [00:00<00:00, 1325.05it/s]\n"
     ]
    },
    {
     "name": "stdout",
     "output_type": "stream",
     "text": [
      "toEval done for G06F in 2014 \n",
      "toEval shape:  (68, 9)\n",
      "Number of secondary IPC for G06F in 2014:  20\n",
      "toEval done for G01N in 2014 \n",
      "toEval shape:  (21, 9)\n",
      "Number of secondary IPC for G01N in 2014:  16\n",
      "toEval done for A61B in 2014 \n",
      "toEval shape:  (19, 9)\n",
      "Number of secondary IPC for A61B in 2014:  6\n",
      "toEval done for B60L in 2014 \n",
      "toEval shape:  (2, 9)\n",
      "Number of secondary IPC for B60L in 2014:  3\n",
      "toEval done for E21B in 2014 \n",
      "toEval shape:  (9, 9)\n",
      "Number of secondary IPC for E21B in 2014:  10\n",
      "toEval done for F03D in 2014 \n",
      "toEval shape:  (1, 9)\n",
      "Number of secondary IPC for F03D in 2014:  0\n",
      "toEval done for H01L in 2014 \n",
      "toEval shape:  (44, 9)\n",
      "Number of secondary IPC for H01L in 2014:  9\n",
      "toEval done for H04W in 2014 \n",
      "toEval shape:  (30, 9)\n",
      "Number of secondary IPC for H04W in 2014:  5\n",
      "toEval done for C23C in 2014 \n",
      "toEval shape:  (2, 9)\n",
      "Number of secondary IPC for C23C in 2014:  0\n",
      "toEval done for D21B in 2014 \n",
      "toEval shape:  (0, 9)\n",
      "Number of secondary IPC for D21B in 2014:  0\n",
      "toEval done for F04C in 2014 \n",
      "toEval shape:  (0, 9)\n",
      "Number of secondary IPC for F04C in 2014:  0\n",
      "Iterating through patents of reference year 2011 for evalYear 2014\n"
     ]
    },
    {
     "name": "stderr",
     "output_type": "stream",
     "text": [
      "100%|██████████| 1000/1000 [00:01<00:00, 681.46it/s]\n"
     ]
    },
    {
     "name": "stdout",
     "output_type": "stream",
     "text": [
      "Iterating through patents of reference year 2012 for evalYear 2014\n"
     ]
    },
    {
     "name": "stderr",
     "output_type": "stream",
     "text": [
      "100%|██████████| 1000/1000 [00:00<00:00, 1299.35it/s]\n"
     ]
    },
    {
     "name": "stdout",
     "output_type": "stream",
     "text": [
      "Iterating through patents of reference year 2013 for evalYear 2014\n"
     ]
    },
    {
     "name": "stderr",
     "output_type": "stream",
     "text": [
      "100%|██████████| 1000/1000 [00:00<00:00, 2224.41it/s]\n"
     ]
    },
    {
     "name": "stdout",
     "output_type": "stream",
     "text": [
      "ES and KS done for: 2014_2011_G06F\n",
      "ES and KS done for: 2014_2012_G06F\n",
      "ES and KS done for: 2014_2013_G06F\n",
      "df_KS shape:  (358, 10)\n",
      "df_ES shape:  (49, 10)\n",
      "ES and KS done for: 2014_2011_G01N\n",
      "ES and KS done for: 2014_2012_G01N\n",
      "ES and KS done for: 2014_2013_G01N\n",
      "df_KS shape:  (56, 10)\n",
      "df_ES shape:  (19, 10)\n",
      "ES and KS done for: 2014_2011_A61B\n",
      "ES and KS done for: 2014_2012_A61B\n",
      "ES and KS done for: 2014_2013_A61B\n",
      "df_KS shape:  (63, 10)\n",
      "df_ES shape:  (4, 10)\n",
      "ES and KS done for: 2014_2011_B60L\n",
      "ES and KS done for: 2014_2012_B60L\n",
      "ES and KS done for: 2014_2013_B60L\n",
      "df_KS shape:  (4, 10)\n",
      "df_ES shape:  (5, 10)\n",
      "ES and KS done for: 2014_2011_E21B\n",
      "ES and KS done for: 2014_2012_E21B\n",
      "ES and KS done for: 2014_2013_E21B\n",
      "df_KS shape:  (23, 10)\n",
      "df_ES shape:  (2, 10)\n",
      "ES and KS done for: 2014_2011_F03D\n",
      "ES and KS done for: 2014_2012_F03D\n",
      "ES and KS done for: 2014_2013_F03D\n",
      "df_KS shape:  (6, 10)\n",
      "df_ES shape:  (0, 10)\n",
      "ES and KS done for: 2014_2011_H01L\n",
      "ES and KS done for: 2014_2012_H01L\n",
      "ES and KS done for: 2014_2013_H01L\n",
      "df_KS shape:  (184, 10)\n",
      "df_ES shape:  (0, 10)\n",
      "ES and KS done for: 2014_2011_H04W\n",
      "ES and KS done for: 2014_2012_H04W\n",
      "ES and KS done for: 2014_2013_H04W\n",
      "df_KS shape:  (91, 10)\n",
      "df_ES shape:  (18, 10)\n",
      "ES and KS done for: 2014_2011_C23C\n",
      "ES and KS done for: 2014_2012_C23C\n",
      "ES and KS done for: 2014_2013_C23C\n",
      "df_KS shape:  (6, 10)\n",
      "df_ES shape:  (0, 10)\n",
      "ES and KS done for: 2014_2011_D21B\n",
      "ES and KS done for: 2014_2012_D21B\n",
      "ES and KS done for: 2014_2013_D21B\n",
      "df_KS shape:  (0, 10)\n",
      "df_ES shape:  (0, 10)\n",
      "ES and KS done for: 2014_2011_F04C\n",
      "ES and KS done for: 2014_2012_F04C\n",
      "ES and KS done for: 2014_2013_F04C\n",
      "df_KS shape:  (2, 10)\n",
      "df_ES shape:  (0, 10)\n",
      "Create toEval, iterate through all patents of current year 2015\n"
     ]
    },
    {
     "name": "stderr",
     "output_type": "stream",
     "text": [
      "100%|██████████| 1000/1000 [00:00<00:00, 2003.69it/s]\n"
     ]
    },
    {
     "name": "stdout",
     "output_type": "stream",
     "text": [
      "toEval done for G06F in 2015 \n",
      "toEval shape:  (54, 9)\n",
      "Number of secondary IPC for G06F in 2015:  22\n",
      "toEval done for G01N in 2015 \n",
      "toEval shape:  (11, 9)\n",
      "Number of secondary IPC for G01N in 2015:  4\n",
      "toEval done for A61B in 2015 \n",
      "toEval shape:  (16, 9)\n",
      "Number of secondary IPC for A61B in 2015:  8\n",
      "toEval done for B60L in 2015 \n",
      "toEval shape:  (3, 9)\n",
      "Number of secondary IPC for B60L in 2015:  2\n",
      "toEval done for E21B in 2015 \n",
      "toEval shape:  (6, 9)\n",
      "Number of secondary IPC for E21B in 2015:  4\n",
      "toEval done for F03D in 2015 \n",
      "toEval shape:  (3, 9)\n",
      "Number of secondary IPC for F03D in 2015:  3\n",
      "toEval done for H01L in 2015 \n",
      "toEval shape:  (52, 9)\n",
      "Number of secondary IPC for H01L in 2015:  26\n",
      "toEval done for H04W in 2015 \n",
      "toEval shape:  (29, 9)\n",
      "Number of secondary IPC for H04W in 2015:  16\n",
      "toEval done for C23C in 2015 \n",
      "toEval shape:  (0, 9)\n",
      "Number of secondary IPC for C23C in 2015:  0\n",
      "toEval done for D21B in 2015 \n",
      "toEval shape:  (0, 9)\n",
      "Number of secondary IPC for D21B in 2015:  0\n",
      "toEval done for F04C in 2015 \n",
      "toEval shape:  (0, 9)\n",
      "Number of secondary IPC for F04C in 2015:  0\n",
      "Iterating through patents of reference year 2012 for evalYear 2015\n"
     ]
    },
    {
     "name": "stderr",
     "output_type": "stream",
     "text": [
      "100%|██████████| 1000/1000 [00:00<00:00, 1670.49it/s]\n"
     ]
    },
    {
     "name": "stdout",
     "output_type": "stream",
     "text": [
      "Iterating through patents of reference year 2013 for evalYear 2015\n"
     ]
    },
    {
     "name": "stderr",
     "output_type": "stream",
     "text": [
      "100%|██████████| 1000/1000 [00:00<00:00, 1201.62it/s]\n"
     ]
    },
    {
     "name": "stdout",
     "output_type": "stream",
     "text": [
      "Iterating through patents of reference year 2014 for evalYear 2015\n"
     ]
    },
    {
     "name": "stderr",
     "output_type": "stream",
     "text": [
      "100%|██████████| 1000/1000 [00:00<00:00, 1462.72it/s]\n"
     ]
    },
    {
     "name": "stdout",
     "output_type": "stream",
     "text": [
      "ES and KS done for: 2015_2012_G06F\n",
      "ES and KS done for: 2015_2013_G06F\n",
      "ES and KS done for: 2015_2014_G06F\n",
      "df_KS shape:  (314, 10)\n",
      "df_ES shape:  (60, 10)\n",
      "ES and KS done for: 2015_2012_G01N\n",
      "ES and KS done for: 2015_2013_G01N\n",
      "ES and KS done for: 2015_2014_G01N\n",
      "df_KS shape:  (59, 10)\n",
      "df_ES shape:  (1, 10)\n",
      "ES and KS done for: 2015_2012_A61B\n",
      "ES and KS done for: 2015_2013_A61B\n",
      "ES and KS done for: 2015_2014_A61B\n",
      "df_KS shape:  (80, 10)\n",
      "df_ES shape:  (4, 10)\n",
      "ES and KS done for: 2015_2012_B60L\n",
      "ES and KS done for: 2015_2013_B60L\n",
      "ES and KS done for: 2015_2014_B60L\n",
      "df_KS shape:  (5, 10)\n",
      "df_ES shape:  (1, 10)\n",
      "ES and KS done for: 2015_2012_E21B\n",
      "ES and KS done for: 2015_2013_E21B\n",
      "ES and KS done for: 2015_2014_E21B\n",
      "df_KS shape:  (24, 10)\n",
      "df_ES shape:  (1, 10)\n",
      "ES and KS done for: 2015_2012_F03D\n",
      "ES and KS done for: 2015_2013_F03D\n",
      "ES and KS done for: 2015_2014_F03D\n",
      "df_KS shape:  (4, 10)\n",
      "df_ES shape:  (0, 10)\n",
      "ES and KS done for: 2015_2012_H01L\n",
      "ES and KS done for: 2015_2013_H01L\n",
      "ES and KS done for: 2015_2014_H01L\n",
      "df_KS shape:  (155, 10)\n",
      "df_ES shape:  (25, 10)\n",
      "ES and KS done for: 2015_2012_H04W\n",
      "ES and KS done for: 2015_2013_H04W\n",
      "ES and KS done for: 2015_2014_H04W\n",
      "df_KS shape:  (103, 10)\n",
      "df_ES shape:  (73, 10)\n",
      "ES and KS done for: 2015_2012_C23C\n",
      "ES and KS done for: 2015_2013_C23C\n",
      "ES and KS done for: 2015_2014_C23C\n",
      "df_KS shape:  (5, 10)\n",
      "df_ES shape:  (0, 10)\n",
      "ES and KS done for: 2015_2012_D21B\n",
      "ES and KS done for: 2015_2013_D21B\n",
      "ES and KS done for: 2015_2014_D21B\n",
      "df_KS shape:  (0, 10)\n",
      "df_ES shape:  (0, 10)\n",
      "ES and KS done for: 2015_2012_F04C\n",
      "ES and KS done for: 2015_2013_F04C\n",
      "ES and KS done for: 2015_2014_F04C\n",
      "df_KS shape:  (2, 10)\n",
      "df_ES shape:  (0, 10)\n",
      "Create toEval, iterate through all patents of current year 2016\n"
     ]
    },
    {
     "name": "stderr",
     "output_type": "stream",
     "text": [
      "100%|██████████| 1000/1000 [00:00<00:00, 1317.16it/s]\n"
     ]
    },
    {
     "name": "stdout",
     "output_type": "stream",
     "text": [
      "toEval done for G06F in 2016 \n",
      "toEval shape:  (19, 9)\n",
      "Number of secondary IPC for G06F in 2016:  9\n",
      "toEval done for G01N in 2016 \n",
      "toEval shape:  (4, 9)\n",
      "Number of secondary IPC for G01N in 2016:  3\n",
      "toEval done for A61B in 2016 \n",
      "toEval shape:  (3, 9)\n",
      "Number of secondary IPC for A61B in 2016:  6\n",
      "toEval done for B60L in 2016 \n",
      "toEval shape:  (0, 9)\n",
      "Number of secondary IPC for B60L in 2016:  0\n",
      "toEval done for E21B in 2016 \n",
      "toEval shape:  (0, 9)\n",
      "Number of secondary IPC for E21B in 2016:  0\n",
      "toEval done for F03D in 2016 \n",
      "toEval shape:  (0, 9)\n",
      "Number of secondary IPC for F03D in 2016:  0\n",
      "toEval done for H01L in 2016 \n",
      "toEval shape:  (34, 9)\n",
      "Number of secondary IPC for H01L in 2016:  20\n",
      "toEval done for H04W in 2016 \n",
      "toEval shape:  (13, 9)\n",
      "Number of secondary IPC for H04W in 2016:  7\n",
      "toEval done for C23C in 2016 \n",
      "toEval shape:  (1, 9)\n",
      "Number of secondary IPC for C23C in 2016:  2\n",
      "toEval done for D21B in 2016 \n",
      "toEval shape:  (0, 9)\n",
      "Number of secondary IPC for D21B in 2016:  0\n",
      "toEval done for F04C in 2016 \n",
      "toEval shape:  (0, 9)\n",
      "Number of secondary IPC for F04C in 2016:  0\n",
      "Iterating through patents of reference year 2013 for evalYear 2016\n"
     ]
    },
    {
     "name": "stderr",
     "output_type": "stream",
     "text": [
      "100%|██████████| 1000/1000 [00:01<00:00, 793.71it/s]\n"
     ]
    },
    {
     "name": "stdout",
     "output_type": "stream",
     "text": [
      "Iterating through patents of reference year 2014 for evalYear 2016\n"
     ]
    },
    {
     "name": "stderr",
     "output_type": "stream",
     "text": [
      "100%|██████████| 1000/1000 [00:01<00:00, 571.36it/s]\n"
     ]
    },
    {
     "name": "stdout",
     "output_type": "stream",
     "text": [
      "Iterating through patents of reference year 2015 for evalYear 2016\n"
     ]
    },
    {
     "name": "stderr",
     "output_type": "stream",
     "text": [
      "100%|██████████| 1000/1000 [00:01<00:00, 751.85it/s]\n"
     ]
    },
    {
     "name": "stdout",
     "output_type": "stream",
     "text": [
      "ES and KS done for: 2016_2013_G06F\n",
      "ES and KS done for: 2016_2014_G06F\n",
      "ES and KS done for: 2016_2015_G06F\n",
      "df_KS shape:  (254, 10)\n",
      "df_ES shape:  (7, 10)\n",
      "ES and KS done for: 2016_2013_G01N\n",
      "ES and KS done for: 2016_2014_G01N\n",
      "ES and KS done for: 2016_2015_G01N\n",
      "df_KS shape:  (60, 10)\n",
      "df_ES shape:  (0, 10)\n",
      "ES and KS done for: 2016_2013_A61B\n",
      "ES and KS done for: 2016_2014_A61B\n",
      "ES and KS done for: 2016_2015_A61B\n",
      "df_KS shape:  (80, 10)\n",
      "df_ES shape:  (20, 10)\n",
      "ES and KS done for: 2016_2013_B60L\n",
      "ES and KS done for: 2016_2014_B60L\n",
      "ES and KS done for: 2016_2015_B60L\n",
      "df_KS shape:  (6, 10)\n",
      "df_ES shape:  (0, 10)\n",
      "ES and KS done for: 2016_2013_E21B\n",
      "ES and KS done for: 2016_2014_E21B\n",
      "ES and KS done for: 2016_2015_E21B\n",
      "df_KS shape:  (24, 10)\n",
      "df_ES shape:  (0, 10)\n",
      "ES and KS done for: 2016_2013_F03D\n",
      "ES and KS done for: 2016_2014_F03D\n",
      "ES and KS done for: 2016_2015_F03D\n",
      "df_KS shape:  (5, 10)\n",
      "df_ES shape:  (0, 10)\n",
      "ES and KS done for: 2016_2013_H01L\n",
      "ES and KS done for: 2016_2014_H01L\n",
      "ES and KS done for: 2016_2015_H01L\n",
      "df_KS shape:  (155, 10)\n",
      "df_ES shape:  (36, 10)\n",
      "ES and KS done for: 2016_2013_H04W\n",
      "ES and KS done for: 2016_2014_H04W\n",
      "ES and KS done for: 2016_2015_H04W\n",
      "df_KS shape:  (100, 10)\n",
      "df_ES shape:  (9, 10)\n",
      "ES and KS done for: 2016_2013_C23C\n",
      "ES and KS done for: 2016_2014_C23C\n",
      "ES and KS done for: 2016_2015_C23C\n",
      "df_KS shape:  (2, 10)\n",
      "df_ES shape:  (10, 10)\n",
      "ES and KS done for: 2016_2013_D21B\n",
      "ES and KS done for: 2016_2014_D21B\n",
      "ES and KS done for: 2016_2015_D21B\n",
      "df_KS shape:  (0, 10)\n",
      "df_ES shape:  (0, 10)\n",
      "ES and KS done for: 2016_2013_F04C\n",
      "ES and KS done for: 2016_2014_F04C\n",
      "ES and KS done for: 2016_2015_F04C\n",
      "df_KS shape:  (2, 10)\n",
      "df_ES shape:  (0, 10)\n",
      "All 3 reference years for eval year 2013 present\n",
      "Create toEval, iterate through all patents of current year 2011\n"
     ]
    },
    {
     "name": "stderr",
     "output_type": "stream",
     "text": [
      "100%|██████████| 1000/1000 [00:00<00:00, 2056.54it/s]\n"
     ]
    },
    {
     "name": "stdout",
     "output_type": "stream",
     "text": [
      "toEval done for G06F in 2011 \n",
      "toEval shape:  (117, 9)\n",
      "Number of secondary IPC for G06F in 2011:  9\n",
      "toEval done for G01N in 2011 \n",
      "toEval shape:  (19, 9)\n",
      "Number of secondary IPC for G01N in 2011:  14\n",
      "toEval done for A61B in 2011 \n",
      "toEval shape:  (11, 9)\n",
      "Number of secondary IPC for A61B in 2011:  0\n",
      "toEval done for B60L in 2011 \n",
      "toEval shape:  (1, 9)\n",
      "Number of secondary IPC for B60L in 2011:  0\n",
      "toEval done for E21B in 2011 \n",
      "toEval shape:  (8, 9)\n",
      "Number of secondary IPC for E21B in 2011:  8\n",
      "toEval done for F03D in 2011 \n",
      "toEval shape:  (3, 9)\n",
      "Number of secondary IPC for F03D in 2011:  0\n",
      "toEval done for H01L in 2011 \n",
      "toEval shape:  (72, 9)\n",
      "Number of secondary IPC for H01L in 2011:  22\n",
      "toEval done for H04W in 2011 \n",
      "toEval shape:  (19, 9)\n",
      "Number of secondary IPC for H04W in 2011:  1\n",
      "toEval done for C23C in 2011 \n",
      "toEval shape:  (3, 9)\n",
      "Number of secondary IPC for C23C in 2011:  5\n",
      "toEval done for D21B in 2011 \n",
      "toEval shape:  (0, 9)\n",
      "Number of secondary IPC for D21B in 2011:  0\n",
      "toEval done for F04C in 2011 \n",
      "toEval shape:  (0, 9)\n",
      "Number of secondary IPC for F04C in 2011:  0\n",
      "Iterating through patents of reference year 2008 for evalYear 2011\n"
     ]
    },
    {
     "name": "stderr",
     "output_type": "stream",
     "text": [
      "100%|██████████| 1000/1000 [00:00<00:00, 1697.11it/s]\n"
     ]
    },
    {
     "name": "stdout",
     "output_type": "stream",
     "text": [
      "Iterating through patents of reference year 2009 for evalYear 2011\n"
     ]
    },
    {
     "name": "stderr",
     "output_type": "stream",
     "text": [
      "100%|██████████| 1000/1000 [00:00<00:00, 1788.95it/s]\n"
     ]
    },
    {
     "name": "stdout",
     "output_type": "stream",
     "text": [
      "Iterating through patents of reference year 2010 for evalYear 2011\n"
     ]
    },
    {
     "name": "stderr",
     "output_type": "stream",
     "text": [
      "100%|██████████| 1000/1000 [00:00<00:00, 1354.92it/s]\n"
     ]
    },
    {
     "name": "stdout",
     "output_type": "stream",
     "text": [
      "ES and KS done for: 2011_2008_G06F\n",
      "ES and KS done for: 2011_2009_G06F\n",
      "ES and KS done for: 2011_2010_G06F\n",
      "df_KS shape:  (308, 10)\n",
      "df_ES shape:  (7, 10)\n",
      "ES and KS done for: 2011_2008_G01N\n",
      "ES and KS done for: 2011_2009_G01N\n",
      "ES and KS done for: 2011_2010_G01N\n",
      "df_KS shape:  (43, 10)\n",
      "df_ES shape:  (25, 10)\n",
      "ES and KS done for: 2011_2008_A61B\n",
      "ES and KS done for: 2011_2009_A61B\n",
      "ES and KS done for: 2011_2010_A61B\n",
      "df_KS shape:  (67, 10)\n",
      "df_ES shape:  (0, 10)\n",
      "ES and KS done for: 2011_2008_B60L\n",
      "ES and KS done for: 2011_2009_B60L\n",
      "ES and KS done for: 2011_2010_B60L\n",
      "df_KS shape:  (1, 10)\n",
      "df_ES shape:  (0, 10)\n",
      "ES and KS done for: 2011_2008_E21B\n",
      "ES and KS done for: 2011_2009_E21B\n",
      "ES and KS done for: 2011_2010_E21B\n",
      "df_KS shape:  (25, 10)\n",
      "df_ES shape:  (0, 10)\n",
      "ES and KS done for: 2011_2008_F03D\n",
      "ES and KS done for: 2011_2009_F03D\n",
      "ES and KS done for: 2011_2010_F03D\n",
      "df_KS shape:  (5, 10)\n",
      "df_ES shape:  (0, 10)\n",
      "ES and KS done for: 2011_2008_H01L\n",
      "ES and KS done for: 2011_2009_H01L\n",
      "ES and KS done for: 2011_2010_H01L\n",
      "df_KS shape:  (175, 10)\n",
      "df_ES shape:  (20, 10)\n",
      "ES and KS done for: 2011_2008_H04W\n",
      "ES and KS done for: 2011_2009_H04W\n",
      "ES and KS done for: 2011_2010_H04W\n",
      "df_KS shape:  (50, 10)\n",
      "df_ES shape:  (3, 10)\n",
      "ES and KS done for: 2011_2008_C23C\n",
      "ES and KS done for: 2011_2009_C23C\n",
      "ES and KS done for: 2011_2010_C23C\n",
      "df_KS shape:  (6, 10)\n",
      "df_ES shape:  (1, 10)\n",
      "ES and KS done for: 2011_2008_D21B\n",
      "ES and KS done for: 2011_2009_D21B\n",
      "ES and KS done for: 2011_2010_D21B\n",
      "df_KS shape:  (0, 10)\n",
      "df_ES shape:  (0, 10)\n",
      "ES and KS done for: 2011_2008_F04C\n",
      "ES and KS done for: 2011_2009_F04C\n",
      "ES and KS done for: 2011_2010_F04C\n",
      "df_KS shape:  (0, 10)\n",
      "df_ES shape:  (0, 10)\n",
      "Create toEval, iterate through all patents of current year 2012\n"
     ]
    },
    {
     "name": "stderr",
     "output_type": "stream",
     "text": [
      "100%|██████████| 1000/1000 [00:00<00:00, 1288.67it/s]\n"
     ]
    },
    {
     "name": "stdout",
     "output_type": "stream",
     "text": [
      "toEval done for G06F in 2012 \n",
      "toEval shape:  (123, 9)\n",
      "Number of secondary IPC for G06F in 2012:  6\n",
      "toEval done for G01N in 2012 \n",
      "toEval shape:  (15, 9)\n",
      "Number of secondary IPC for G01N in 2012:  21\n",
      "toEval done for A61B in 2012 \n",
      "toEval shape:  (20, 9)\n",
      "Number of secondary IPC for A61B in 2012:  5\n",
      "toEval done for B60L in 2012 \n",
      "toEval shape:  (2, 9)\n",
      "Number of secondary IPC for B60L in 2012:  1\n",
      "toEval done for E21B in 2012 \n",
      "toEval shape:  (8, 9)\n",
      "Number of secondary IPC for E21B in 2012:  1\n",
      "toEval done for F03D in 2012 \n",
      "toEval shape:  (2, 9)\n",
      "Number of secondary IPC for F03D in 2012:  1\n",
      "toEval done for H01L in 2012 \n",
      "toEval shape:  (57, 9)\n",
      "Number of secondary IPC for H01L in 2012:  17\n",
      "toEval done for H04W in 2012 \n",
      "toEval shape:  (33, 9)\n",
      "Number of secondary IPC for H04W in 2012:  5\n",
      "toEval done for C23C in 2012 \n",
      "toEval shape:  (3, 9)\n",
      "Number of secondary IPC for C23C in 2012:  1\n",
      "toEval done for D21B in 2012 \n",
      "toEval shape:  (0, 9)\n",
      "Number of secondary IPC for D21B in 2012:  0\n",
      "toEval done for F04C in 2012 \n",
      "toEval shape:  (0, 9)\n",
      "Number of secondary IPC for F04C in 2012:  0\n",
      "Iterating through patents of reference year 2009 for evalYear 2012\n"
     ]
    },
    {
     "name": "stderr",
     "output_type": "stream",
     "text": [
      "100%|██████████| 1000/1000 [00:00<00:00, 1141.66it/s]\n"
     ]
    },
    {
     "name": "stdout",
     "output_type": "stream",
     "text": [
      "Iterating through patents of reference year 2010 for evalYear 2012\n"
     ]
    },
    {
     "name": "stderr",
     "output_type": "stream",
     "text": [
      "100%|██████████| 1000/1000 [00:00<00:00, 1180.15it/s]\n"
     ]
    },
    {
     "name": "stdout",
     "output_type": "stream",
     "text": [
      "Iterating through patents of reference year 2011 for evalYear 2012\n"
     ]
    },
    {
     "name": "stderr",
     "output_type": "stream",
     "text": [
      "100%|██████████| 1000/1000 [00:00<00:00, 1376.00it/s]\n"
     ]
    },
    {
     "name": "stdout",
     "output_type": "stream",
     "text": [
      "ES and KS done for: 2012_2009_G06F\n",
      "ES and KS done for: 2012_2010_G06F\n",
      "ES and KS done for: 2012_2011_G06F\n",
      "df_KS shape:  (324, 10)\n",
      "df_ES shape:  (13, 10)\n",
      "ES and KS done for: 2012_2009_G01N\n",
      "ES and KS done for: 2012_2010_G01N\n",
      "ES and KS done for: 2012_2011_G01N\n",
      "df_KS shape:  (47, 10)\n",
      "df_ES shape:  (11, 10)\n",
      "ES and KS done for: 2012_2009_A61B\n",
      "ES and KS done for: 2012_2010_A61B\n",
      "ES and KS done for: 2012_2011_A61B\n",
      "df_KS shape:  (56, 10)\n",
      "df_ES shape:  (21, 10)\n",
      "ES and KS done for: 2012_2009_B60L\n",
      "ES and KS done for: 2012_2010_B60L\n",
      "ES and KS done for: 2012_2011_B60L\n",
      "df_KS shape:  (1, 10)\n",
      "df_ES shape:  (0, 10)\n",
      "ES and KS done for: 2012_2009_E21B\n",
      "ES and KS done for: 2012_2010_E21B\n",
      "ES and KS done for: 2012_2011_E21B\n",
      "df_KS shape:  (26, 10)\n",
      "df_ES shape:  (1, 10)\n",
      "ES and KS done for: 2012_2009_F03D\n",
      "ES and KS done for: 2012_2010_F03D\n",
      "ES and KS done for: 2012_2011_F03D\n",
      "df_KS shape:  (8, 10)\n",
      "df_ES shape:  (0, 10)\n",
      "ES and KS done for: 2012_2009_H01L\n",
      "ES and KS done for: 2012_2010_H01L\n",
      "ES and KS done for: 2012_2011_H01L\n",
      "df_KS shape:  (189, 10)\n",
      "df_ES shape:  (6, 10)\n",
      "ES and KS done for: 2012_2009_H04W\n",
      "ES and KS done for: 2012_2010_H04W\n",
      "ES and KS done for: 2012_2011_H04W\n",
      "df_KS shape:  (61, 10)\n",
      "df_ES shape:  (8, 10)\n",
      "ES and KS done for: 2012_2009_C23C\n",
      "ES and KS done for: 2012_2010_C23C\n",
      "ES and KS done for: 2012_2011_C23C\n",
      "df_KS shape:  (6, 10)\n",
      "df_ES shape:  (0, 10)\n",
      "ES and KS done for: 2012_2009_D21B\n",
      "ES and KS done for: 2012_2010_D21B\n",
      "ES and KS done for: 2012_2011_D21B\n",
      "df_KS shape:  (0, 10)\n",
      "df_ES shape:  (0, 10)\n",
      "ES and KS done for: 2012_2009_F04C\n",
      "ES and KS done for: 2012_2010_F04C\n",
      "ES and KS done for: 2012_2011_F04C\n",
      "df_KS shape:  (0, 10)\n",
      "df_ES shape:  (0, 10)\n",
      "Create toEval, iterate through all patents of current year 2013\n"
     ]
    },
    {
     "name": "stderr",
     "output_type": "stream",
     "text": [
      "100%|██████████| 1000/1000 [00:00<00:00, 1017.28it/s]\n"
     ]
    },
    {
     "name": "stdout",
     "output_type": "stream",
     "text": [
      "toEval done for G06F in 2013 \n",
      "toEval shape:  (105, 9)\n",
      "Number of secondary IPC for G06F in 2013:  8\n",
      "toEval done for G01N in 2013 \n",
      "toEval shape:  (22, 9)\n",
      "Number of secondary IPC for G01N in 2013:  5\n",
      "toEval done for A61B in 2013 \n",
      "toEval shape:  (30, 9)\n",
      "Number of secondary IPC for A61B in 2013:  6\n",
      "toEval done for B60L in 2013 \n",
      "toEval shape:  (1, 9)\n",
      "Number of secondary IPC for B60L in 2013:  1\n",
      "toEval done for E21B in 2013 \n",
      "toEval shape:  (7, 9)\n",
      "Number of secondary IPC for E21B in 2013:  0\n",
      "toEval done for F03D in 2013 \n",
      "toEval shape:  (1, 9)\n",
      "Number of secondary IPC for F03D in 2013:  0\n",
      "toEval done for H01L in 2013 \n",
      "toEval shape:  (54, 9)\n",
      "Number of secondary IPC for H01L in 2013:  4\n",
      "toEval done for H04W in 2013 \n",
      "toEval shape:  (39, 9)\n",
      "Number of secondary IPC for H04W in 2013:  1\n",
      "toEval done for C23C in 2013 \n",
      "toEval shape:  (0, 9)\n",
      "Number of secondary IPC for C23C in 2013:  0\n",
      "toEval done for D21B in 2013 \n",
      "toEval shape:  (0, 9)\n",
      "Number of secondary IPC for D21B in 2013:  0\n",
      "toEval done for F04C in 2013 \n",
      "toEval shape:  (2, 9)\n",
      "Number of secondary IPC for F04C in 2013:  1\n",
      "Iterating through patents of reference year 2010 for evalYear 2013\n"
     ]
    },
    {
     "name": "stderr",
     "output_type": "stream",
     "text": [
      "100%|██████████| 1000/1000 [00:01<00:00, 917.56it/s]\n"
     ]
    },
    {
     "name": "stdout",
     "output_type": "stream",
     "text": [
      "Iterating through patents of reference year 2011 for evalYear 2013\n"
     ]
    },
    {
     "name": "stderr",
     "output_type": "stream",
     "text": [
      "100%|██████████| 1000/1000 [00:00<00:00, 1128.48it/s]\n"
     ]
    },
    {
     "name": "stdout",
     "output_type": "stream",
     "text": [
      "Iterating through patents of reference year 2012 for evalYear 2013\n"
     ]
    },
    {
     "name": "stderr",
     "output_type": "stream",
     "text": [
      "100%|██████████| 1000/1000 [00:00<00:00, 1960.02it/s]\n"
     ]
    },
    {
     "name": "stdout",
     "output_type": "stream",
     "text": [
      "ES and KS done for: 2013_2010_G06F\n",
      "ES and KS done for: 2013_2011_G06F\n",
      "ES and KS done for: 2013_2012_G06F\n",
      "df_KS shape:  (358, 10)\n",
      "df_ES shape:  (8, 10)\n",
      "ES and KS done for: 2013_2010_G01N\n",
      "ES and KS done for: 2013_2011_G01N\n",
      "ES and KS done for: 2013_2012_G01N\n",
      "df_KS shape:  (46, 10)\n",
      "df_ES shape:  (12, 10)\n",
      "ES and KS done for: 2013_2010_A61B\n",
      "ES and KS done for: 2013_2011_A61B\n",
      "ES and KS done for: 2013_2012_A61B\n",
      "df_KS shape:  (51, 10)\n",
      "df_ES shape:  (4, 10)\n",
      "ES and KS done for: 2013_2010_B60L\n",
      "ES and KS done for: 2013_2011_B60L\n",
      "ES and KS done for: 2013_2012_B60L\n",
      "df_KS shape:  (3, 10)\n",
      "df_ES shape:  (1, 10)\n",
      "ES and KS done for: 2013_2010_E21B\n",
      "ES and KS done for: 2013_2011_E21B\n",
      "ES and KS done for: 2013_2012_E21B\n",
      "df_KS shape:  (25, 10)\n",
      "df_ES shape:  (0, 10)\n",
      "ES and KS done for: 2013_2010_F03D\n",
      "ES and KS done for: 2013_2011_F03D\n",
      "ES and KS done for: 2013_2012_F03D\n",
      "df_KS shape:  (7, 10)\n",
      "df_ES shape:  (0, 10)\n",
      "ES and KS done for: 2013_2010_H01L\n",
      "ES and KS done for: 2013_2011_H01L\n",
      "ES and KS done for: 2013_2012_H01L\n",
      "df_KS shape:  (192, 10)\n",
      "df_ES shape:  (4, 10)\n",
      "ES and KS done for: 2013_2010_H04W\n",
      "ES and KS done for: 2013_2011_H04W\n",
      "ES and KS done for: 2013_2012_H04W\n",
      "df_KS shape:  (73, 10)\n",
      "df_ES shape:  (2, 10)\n",
      "ES and KS done for: 2013_2010_C23C\n",
      "ES and KS done for: 2013_2011_C23C\n",
      "ES and KS done for: 2013_2012_C23C\n",
      "df_KS shape:  (9, 10)\n",
      "df_ES shape:  (0, 10)\n",
      "ES and KS done for: 2013_2010_D21B\n",
      "ES and KS done for: 2013_2011_D21B\n",
      "ES and KS done for: 2013_2012_D21B\n",
      "df_KS shape:  (0, 10)\n",
      "df_ES shape:  (0, 10)\n",
      "ES and KS done for: 2013_2010_F04C\n",
      "ES and KS done for: 2013_2011_F04C\n",
      "ES and KS done for: 2013_2012_F04C\n",
      "df_KS shape:  (0, 10)\n",
      "df_ES shape:  (0, 10)\n",
      "Create toEval, iterate through all patents of current year 2014\n"
     ]
    },
    {
     "name": "stderr",
     "output_type": "stream",
     "text": [
      "100%|██████████| 1000/1000 [00:00<00:00, 1319.63it/s]\n"
     ]
    },
    {
     "name": "stdout",
     "output_type": "stream",
     "text": [
      "toEval done for G06F in 2014 \n",
      "toEval shape:  (68, 9)\n",
      "Number of secondary IPC for G06F in 2014:  20\n",
      "toEval done for G01N in 2014 \n",
      "toEval shape:  (21, 9)\n",
      "Number of secondary IPC for G01N in 2014:  16\n",
      "toEval done for A61B in 2014 \n",
      "toEval shape:  (19, 9)\n",
      "Number of secondary IPC for A61B in 2014:  6\n",
      "toEval done for B60L in 2014 \n",
      "toEval shape:  (2, 9)\n",
      "Number of secondary IPC for B60L in 2014:  3\n",
      "toEval done for E21B in 2014 \n",
      "toEval shape:  (9, 9)\n",
      "Number of secondary IPC for E21B in 2014:  10\n",
      "toEval done for F03D in 2014 \n",
      "toEval shape:  (1, 9)\n",
      "Number of secondary IPC for F03D in 2014:  0\n",
      "toEval done for H01L in 2014 \n",
      "toEval shape:  (44, 9)\n",
      "Number of secondary IPC for H01L in 2014:  9\n",
      "toEval done for H04W in 2014 \n",
      "toEval shape:  (30, 9)\n",
      "Number of secondary IPC for H04W in 2014:  5\n",
      "toEval done for C23C in 2014 \n",
      "toEval shape:  (2, 9)\n",
      "Number of secondary IPC for C23C in 2014:  0\n",
      "toEval done for D21B in 2014 \n",
      "toEval shape:  (0, 9)\n",
      "Number of secondary IPC for D21B in 2014:  0\n",
      "toEval done for F04C in 2014 \n",
      "toEval shape:  (0, 9)\n",
      "Number of secondary IPC for F04C in 2014:  0\n",
      "Iterating through patents of reference year 2011 for evalYear 2014\n"
     ]
    },
    {
     "name": "stderr",
     "output_type": "stream",
     "text": [
      "100%|██████████| 1000/1000 [00:00<00:00, 1110.93it/s]\n"
     ]
    },
    {
     "name": "stdout",
     "output_type": "stream",
     "text": [
      "Iterating through patents of reference year 2012 for evalYear 2014\n"
     ]
    },
    {
     "name": "stderr",
     "output_type": "stream",
     "text": [
      "100%|██████████| 1000/1000 [00:00<00:00, 1218.80it/s]\n"
     ]
    },
    {
     "name": "stdout",
     "output_type": "stream",
     "text": [
      "Iterating through patents of reference year 2013 for evalYear 2014\n"
     ]
    },
    {
     "name": "stderr",
     "output_type": "stream",
     "text": [
      "100%|██████████| 1000/1000 [00:00<00:00, 1842.34it/s]\n"
     ]
    },
    {
     "name": "stdout",
     "output_type": "stream",
     "text": [
      "ES and KS done for: 2014_2011_G06F\n",
      "ES and KS done for: 2014_2012_G06F\n",
      "ES and KS done for: 2014_2013_G06F\n",
      "df_KS shape:  (358, 10)\n",
      "df_ES shape:  (49, 10)\n",
      "ES and KS done for: 2014_2011_G01N\n",
      "ES and KS done for: 2014_2012_G01N\n",
      "ES and KS done for: 2014_2013_G01N\n",
      "df_KS shape:  (56, 10)\n",
      "df_ES shape:  (19, 10)\n",
      "ES and KS done for: 2014_2011_A61B\n",
      "ES and KS done for: 2014_2012_A61B\n",
      "ES and KS done for: 2014_2013_A61B\n",
      "df_KS shape:  (63, 10)\n",
      "df_ES shape:  (4, 10)\n",
      "ES and KS done for: 2014_2011_B60L\n",
      "ES and KS done for: 2014_2012_B60L\n",
      "ES and KS done for: 2014_2013_B60L\n",
      "df_KS shape:  (4, 10)\n",
      "df_ES shape:  (5, 10)\n",
      "ES and KS done for: 2014_2011_E21B\n",
      "ES and KS done for: 2014_2012_E21B\n",
      "ES and KS done for: 2014_2013_E21B\n",
      "df_KS shape:  (23, 10)\n",
      "df_ES shape:  (2, 10)\n",
      "ES and KS done for: 2014_2011_F03D\n",
      "ES and KS done for: 2014_2012_F03D\n",
      "ES and KS done for: 2014_2013_F03D\n",
      "df_KS shape:  (6, 10)\n",
      "df_ES shape:  (0, 10)\n",
      "ES and KS done for: 2014_2011_H01L\n",
      "ES and KS done for: 2014_2012_H01L\n",
      "ES and KS done for: 2014_2013_H01L\n",
      "df_KS shape:  (184, 10)\n",
      "df_ES shape:  (0, 10)\n",
      "ES and KS done for: 2014_2011_H04W\n",
      "ES and KS done for: 2014_2012_H04W\n",
      "ES and KS done for: 2014_2013_H04W\n",
      "df_KS shape:  (91, 10)\n",
      "df_ES shape:  (18, 10)\n",
      "ES and KS done for: 2014_2011_C23C\n",
      "ES and KS done for: 2014_2012_C23C\n",
      "ES and KS done for: 2014_2013_C23C\n",
      "df_KS shape:  (6, 10)\n",
      "df_ES shape:  (0, 10)\n",
      "ES and KS done for: 2014_2011_D21B\n",
      "ES and KS done for: 2014_2012_D21B\n",
      "ES and KS done for: 2014_2013_D21B\n",
      "df_KS shape:  (0, 10)\n",
      "df_ES shape:  (0, 10)\n",
      "ES and KS done for: 2014_2011_F04C\n",
      "ES and KS done for: 2014_2012_F04C\n",
      "ES and KS done for: 2014_2013_F04C\n",
      "df_KS shape:  (2, 10)\n",
      "df_ES shape:  (0, 10)\n",
      "Create toEval, iterate through all patents of current year 2015\n"
     ]
    },
    {
     "name": "stderr",
     "output_type": "stream",
     "text": [
      "100%|██████████| 1000/1000 [00:00<00:00, 1340.61it/s]\n"
     ]
    },
    {
     "name": "stdout",
     "output_type": "stream",
     "text": [
      "toEval done for G06F in 2015 \n",
      "toEval shape:  (54, 9)\n",
      "Number of secondary IPC for G06F in 2015:  22\n",
      "toEval done for G01N in 2015 \n",
      "toEval shape:  (11, 9)\n",
      "Number of secondary IPC for G01N in 2015:  4\n",
      "toEval done for A61B in 2015 \n",
      "toEval shape:  (16, 9)\n",
      "Number of secondary IPC for A61B in 2015:  8\n",
      "toEval done for B60L in 2015 \n",
      "toEval shape:  (3, 9)\n",
      "Number of secondary IPC for B60L in 2015:  2\n",
      "toEval done for E21B in 2015 \n",
      "toEval shape:  (6, 9)\n",
      "Number of secondary IPC for E21B in 2015:  4\n",
      "toEval done for F03D in 2015 \n",
      "toEval shape:  (3, 9)\n",
      "Number of secondary IPC for F03D in 2015:  3\n",
      "toEval done for H01L in 2015 \n",
      "toEval shape:  (52, 9)\n",
      "Number of secondary IPC for H01L in 2015:  26\n",
      "toEval done for H04W in 2015 \n",
      "toEval shape:  (29, 9)\n",
      "Number of secondary IPC for H04W in 2015:  16\n",
      "toEval done for C23C in 2015 \n",
      "toEval shape:  (0, 9)\n",
      "Number of secondary IPC for C23C in 2015:  0\n",
      "toEval done for D21B in 2015 \n",
      "toEval shape:  (0, 9)\n",
      "Number of secondary IPC for D21B in 2015:  0\n",
      "toEval done for F04C in 2015 \n",
      "toEval shape:  (0, 9)\n",
      "Number of secondary IPC for F04C in 2015:  0\n",
      "Iterating through patents of reference year 2012 for evalYear 2015\n"
     ]
    },
    {
     "name": "stderr",
     "output_type": "stream",
     "text": [
      "100%|██████████| 1000/1000 [00:00<00:00, 1491.31it/s]\n"
     ]
    },
    {
     "name": "stdout",
     "output_type": "stream",
     "text": [
      "Iterating through patents of reference year 2013 for evalYear 2015\n"
     ]
    },
    {
     "name": "stderr",
     "output_type": "stream",
     "text": [
      "100%|██████████| 1000/1000 [00:00<00:00, 1522.79it/s]\n"
     ]
    },
    {
     "name": "stdout",
     "output_type": "stream",
     "text": [
      "Iterating through patents of reference year 2014 for evalYear 2015\n"
     ]
    },
    {
     "name": "stderr",
     "output_type": "stream",
     "text": [
      "100%|██████████| 1000/1000 [00:00<00:00, 2362.91it/s]\n"
     ]
    },
    {
     "name": "stdout",
     "output_type": "stream",
     "text": [
      "ES and KS done for: 2015_2012_G06F\n",
      "ES and KS done for: 2015_2013_G06F\n",
      "ES and KS done for: 2015_2014_G06F\n",
      "df_KS shape:  (314, 10)\n",
      "df_ES shape:  (60, 10)\n",
      "ES and KS done for: 2015_2012_G01N\n",
      "ES and KS done for: 2015_2013_G01N\n",
      "ES and KS done for: 2015_2014_G01N\n",
      "df_KS shape:  (59, 10)\n",
      "df_ES shape:  (1, 10)\n",
      "ES and KS done for: 2015_2012_A61B\n",
      "ES and KS done for: 2015_2013_A61B\n",
      "ES and KS done for: 2015_2014_A61B\n",
      "df_KS shape:  (80, 10)\n",
      "df_ES shape:  (4, 10)\n",
      "ES and KS done for: 2015_2012_B60L\n",
      "ES and KS done for: 2015_2013_B60L\n",
      "ES and KS done for: 2015_2014_B60L\n",
      "df_KS shape:  (5, 10)\n",
      "df_ES shape:  (1, 10)\n",
      "ES and KS done for: 2015_2012_E21B\n",
      "ES and KS done for: 2015_2013_E21B\n",
      "ES and KS done for: 2015_2014_E21B\n",
      "df_KS shape:  (24, 10)\n",
      "df_ES shape:  (1, 10)\n",
      "ES and KS done for: 2015_2012_F03D\n",
      "ES and KS done for: 2015_2013_F03D\n",
      "ES and KS done for: 2015_2014_F03D\n",
      "df_KS shape:  (4, 10)\n",
      "df_ES shape:  (0, 10)\n",
      "ES and KS done for: 2015_2012_H01L\n",
      "ES and KS done for: 2015_2013_H01L\n",
      "ES and KS done for: 2015_2014_H01L\n",
      "df_KS shape:  (155, 10)\n",
      "df_ES shape:  (25, 10)\n",
      "ES and KS done for: 2015_2012_H04W\n",
      "ES and KS done for: 2015_2013_H04W\n",
      "ES and KS done for: 2015_2014_H04W\n",
      "df_KS shape:  (103, 10)\n",
      "df_ES shape:  (73, 10)\n",
      "ES and KS done for: 2015_2012_C23C\n",
      "ES and KS done for: 2015_2013_C23C\n",
      "ES and KS done for: 2015_2014_C23C\n",
      "df_KS shape:  (5, 10)\n",
      "df_ES shape:  (0, 10)\n",
      "ES and KS done for: 2015_2012_D21B\n",
      "ES and KS done for: 2015_2013_D21B\n",
      "ES and KS done for: 2015_2014_D21B\n",
      "df_KS shape:  (0, 10)\n",
      "df_ES shape:  (0, 10)\n",
      "ES and KS done for: 2015_2012_F04C\n",
      "ES and KS done for: 2015_2013_F04C\n",
      "ES and KS done for: 2015_2014_F04C\n",
      "df_KS shape:  (2, 10)\n",
      "df_ES shape:  (0, 10)\n",
      "Create toEval, iterate through all patents of current year 2016\n"
     ]
    },
    {
     "name": "stderr",
     "output_type": "stream",
     "text": [
      "100%|██████████| 1000/1000 [00:00<00:00, 1675.72it/s]\n"
     ]
    },
    {
     "name": "stdout",
     "output_type": "stream",
     "text": [
      "toEval done for G06F in 2016 \n",
      "toEval shape:  (19, 9)\n",
      "Number of secondary IPC for G06F in 2016:  9\n",
      "toEval done for G01N in 2016 \n",
      "toEval shape:  (4, 9)\n",
      "Number of secondary IPC for G01N in 2016:  3\n",
      "toEval done for A61B in 2016 \n",
      "toEval shape:  (3, 9)\n",
      "Number of secondary IPC for A61B in 2016:  6\n",
      "toEval done for B60L in 2016 \n",
      "toEval shape:  (0, 9)\n",
      "Number of secondary IPC for B60L in 2016:  0\n",
      "toEval done for E21B in 2016 \n",
      "toEval shape:  (0, 9)\n",
      "Number of secondary IPC for E21B in 2016:  0\n",
      "toEval done for F03D in 2016 \n",
      "toEval shape:  (0, 9)\n",
      "Number of secondary IPC for F03D in 2016:  0\n",
      "toEval done for H01L in 2016 \n",
      "toEval shape:  (34, 9)\n",
      "Number of secondary IPC for H01L in 2016:  20\n",
      "toEval done for H04W in 2016 \n",
      "toEval shape:  (13, 9)\n",
      "Number of secondary IPC for H04W in 2016:  7\n",
      "toEval done for C23C in 2016 \n",
      "toEval shape:  (1, 9)\n",
      "Number of secondary IPC for C23C in 2016:  2\n",
      "toEval done for D21B in 2016 \n",
      "toEval shape:  (0, 9)\n",
      "Number of secondary IPC for D21B in 2016:  0\n",
      "toEval done for F04C in 2016 \n",
      "toEval shape:  (0, 9)\n",
      "Number of secondary IPC for F04C in 2016:  0\n",
      "Iterating through patents of reference year 2013 for evalYear 2016\n"
     ]
    },
    {
     "name": "stderr",
     "output_type": "stream",
     "text": [
      "100%|██████████| 1000/1000 [00:00<00:00, 1771.08it/s]\n"
     ]
    },
    {
     "name": "stdout",
     "output_type": "stream",
     "text": [
      "Iterating through patents of reference year 2014 for evalYear 2016\n"
     ]
    },
    {
     "name": "stderr",
     "output_type": "stream",
     "text": [
      "100%|██████████| 1000/1000 [00:00<00:00, 1413.16it/s]\n"
     ]
    },
    {
     "name": "stdout",
     "output_type": "stream",
     "text": [
      "Iterating through patents of reference year 2015 for evalYear 2016\n"
     ]
    },
    {
     "name": "stderr",
     "output_type": "stream",
     "text": [
      "100%|██████████| 1000/1000 [00:00<00:00, 1760.23it/s]\n"
     ]
    },
    {
     "name": "stdout",
     "output_type": "stream",
     "text": [
      "ES and KS done for: 2016_2013_G06F\n",
      "ES and KS done for: 2016_2014_G06F\n",
      "ES and KS done for: 2016_2015_G06F\n",
      "df_KS shape:  (254, 10)\n",
      "df_ES shape:  (7, 10)\n",
      "ES and KS done for: 2016_2013_G01N\n",
      "ES and KS done for: 2016_2014_G01N\n",
      "ES and KS done for: 2016_2015_G01N\n",
      "df_KS shape:  (60, 10)\n",
      "df_ES shape:  (0, 10)\n",
      "ES and KS done for: 2016_2013_A61B\n",
      "ES and KS done for: 2016_2014_A61B\n",
      "ES and KS done for: 2016_2015_A61B\n",
      "df_KS shape:  (80, 10)\n",
      "df_ES shape:  (20, 10)\n",
      "ES and KS done for: 2016_2013_B60L\n",
      "ES and KS done for: 2016_2014_B60L\n",
      "ES and KS done for: 2016_2015_B60L\n",
      "df_KS shape:  (6, 10)\n",
      "df_ES shape:  (0, 10)\n",
      "ES and KS done for: 2016_2013_E21B\n",
      "ES and KS done for: 2016_2014_E21B\n",
      "ES and KS done for: 2016_2015_E21B\n",
      "df_KS shape:  (24, 10)\n",
      "df_ES shape:  (0, 10)\n",
      "ES and KS done for: 2016_2013_F03D\n",
      "ES and KS done for: 2016_2014_F03D\n",
      "ES and KS done for: 2016_2015_F03D\n",
      "df_KS shape:  (5, 10)\n",
      "df_ES shape:  (0, 10)\n",
      "ES and KS done for: 2016_2013_H01L\n",
      "ES and KS done for: 2016_2014_H01L\n",
      "ES and KS done for: 2016_2015_H01L\n",
      "df_KS shape:  (155, 10)\n",
      "df_ES shape:  (36, 10)\n",
      "ES and KS done for: 2016_2013_H04W\n",
      "ES and KS done for: 2016_2014_H04W\n",
      "ES and KS done for: 2016_2015_H04W\n",
      "df_KS shape:  (100, 10)\n",
      "df_ES shape:  (9, 10)\n",
      "ES and KS done for: 2016_2013_C23C\n",
      "ES and KS done for: 2016_2014_C23C\n",
      "ES and KS done for: 2016_2015_C23C\n",
      "df_KS shape:  (2, 10)\n",
      "df_ES shape:  (10, 10)\n",
      "ES and KS done for: 2016_2013_D21B\n",
      "ES and KS done for: 2016_2014_D21B\n",
      "ES and KS done for: 2016_2015_D21B\n",
      "df_KS shape:  (0, 10)\n",
      "df_ES shape:  (0, 10)\n",
      "ES and KS done for: 2016_2013_F04C\n",
      "ES and KS done for: 2016_2014_F04C\n",
      "ES and KS done for: 2016_2015_F04C\n",
      "df_KS shape:  (2, 10)\n",
      "df_ES shape:  (0, 10)\n",
      "All 3 reference years for eval year 2014 present\n",
      "Create toEval, iterate through all patents of current year 2011\n"
     ]
    },
    {
     "name": "stderr",
     "output_type": "stream",
     "text": [
      "100%|██████████| 1000/1000 [00:00<00:00, 1762.22it/s]\n"
     ]
    },
    {
     "name": "stdout",
     "output_type": "stream",
     "text": [
      "toEval done for G06F in 2011 \n",
      "toEval shape:  (117, 9)\n",
      "Number of secondary IPC for G06F in 2011:  9\n",
      "toEval done for G01N in 2011 \n",
      "toEval shape:  (19, 9)\n",
      "Number of secondary IPC for G01N in 2011:  14\n",
      "toEval done for A61B in 2011 \n",
      "toEval shape:  (11, 9)\n",
      "Number of secondary IPC for A61B in 2011:  0\n",
      "toEval done for B60L in 2011 \n",
      "toEval shape:  (1, 9)\n",
      "Number of secondary IPC for B60L in 2011:  0\n",
      "toEval done for E21B in 2011 \n",
      "toEval shape:  (8, 9)\n",
      "Number of secondary IPC for E21B in 2011:  8\n",
      "toEval done for F03D in 2011 \n",
      "toEval shape:  (3, 9)\n",
      "Number of secondary IPC for F03D in 2011:  0\n",
      "toEval done for H01L in 2011 \n",
      "toEval shape:  (72, 9)\n",
      "Number of secondary IPC for H01L in 2011:  22\n",
      "toEval done for H04W in 2011 \n",
      "toEval shape:  (19, 9)\n",
      "Number of secondary IPC for H04W in 2011:  1\n",
      "toEval done for C23C in 2011 \n",
      "toEval shape:  (3, 9)\n",
      "Number of secondary IPC for C23C in 2011:  5\n",
      "toEval done for D21B in 2011 \n",
      "toEval shape:  (0, 9)\n",
      "Number of secondary IPC for D21B in 2011:  0\n",
      "toEval done for F04C in 2011 \n",
      "toEval shape:  (0, 9)\n",
      "Number of secondary IPC for F04C in 2011:  0\n",
      "Iterating through patents of reference year 2008 for evalYear 2011\n"
     ]
    },
    {
     "name": "stderr",
     "output_type": "stream",
     "text": [
      "100%|██████████| 1000/1000 [00:00<00:00, 1528.69it/s]\n"
     ]
    },
    {
     "name": "stdout",
     "output_type": "stream",
     "text": [
      "Iterating through patents of reference year 2009 for evalYear 2011\n"
     ]
    },
    {
     "name": "stderr",
     "output_type": "stream",
     "text": [
      "100%|██████████| 1000/1000 [00:00<00:00, 1348.05it/s]\n"
     ]
    },
    {
     "name": "stdout",
     "output_type": "stream",
     "text": [
      "Iterating through patents of reference year 2010 for evalYear 2011\n"
     ]
    },
    {
     "name": "stderr",
     "output_type": "stream",
     "text": [
      "100%|██████████| 1000/1000 [00:00<00:00, 1536.00it/s]\n"
     ]
    },
    {
     "name": "stdout",
     "output_type": "stream",
     "text": [
      "ES and KS done for: 2011_2008_G06F\n",
      "ES and KS done for: 2011_2009_G06F\n",
      "ES and KS done for: 2011_2010_G06F\n",
      "df_KS shape:  (308, 10)\n",
      "df_ES shape:  (7, 10)\n",
      "ES and KS done for: 2011_2008_G01N\n",
      "ES and KS done for: 2011_2009_G01N\n",
      "ES and KS done for: 2011_2010_G01N\n",
      "df_KS shape:  (43, 10)\n",
      "df_ES shape:  (25, 10)\n",
      "ES and KS done for: 2011_2008_A61B\n",
      "ES and KS done for: 2011_2009_A61B\n",
      "ES and KS done for: 2011_2010_A61B\n",
      "df_KS shape:  (67, 10)\n",
      "df_ES shape:  (0, 10)\n",
      "ES and KS done for: 2011_2008_B60L\n",
      "ES and KS done for: 2011_2009_B60L\n",
      "ES and KS done for: 2011_2010_B60L\n",
      "df_KS shape:  (1, 10)\n",
      "df_ES shape:  (0, 10)\n",
      "ES and KS done for: 2011_2008_E21B\n",
      "ES and KS done for: 2011_2009_E21B\n",
      "ES and KS done for: 2011_2010_E21B\n",
      "df_KS shape:  (25, 10)\n",
      "df_ES shape:  (0, 10)\n",
      "ES and KS done for: 2011_2008_F03D\n",
      "ES and KS done for: 2011_2009_F03D\n",
      "ES and KS done for: 2011_2010_F03D\n",
      "df_KS shape:  (5, 10)\n",
      "df_ES shape:  (0, 10)\n",
      "ES and KS done for: 2011_2008_H01L\n",
      "ES and KS done for: 2011_2009_H01L\n",
      "ES and KS done for: 2011_2010_H01L\n",
      "df_KS shape:  (175, 10)\n",
      "df_ES shape:  (20, 10)\n",
      "ES and KS done for: 2011_2008_H04W\n",
      "ES and KS done for: 2011_2009_H04W\n",
      "ES and KS done for: 2011_2010_H04W\n",
      "df_KS shape:  (50, 10)\n",
      "df_ES shape:  (3, 10)\n",
      "ES and KS done for: 2011_2008_C23C\n",
      "ES and KS done for: 2011_2009_C23C\n",
      "ES and KS done for: 2011_2010_C23C\n",
      "df_KS shape:  (6, 10)\n",
      "df_ES shape:  (1, 10)\n",
      "ES and KS done for: 2011_2008_D21B\n",
      "ES and KS done for: 2011_2009_D21B\n",
      "ES and KS done for: 2011_2010_D21B\n",
      "df_KS shape:  (0, 10)\n",
      "df_ES shape:  (0, 10)\n",
      "ES and KS done for: 2011_2008_F04C\n",
      "ES and KS done for: 2011_2009_F04C\n",
      "ES and KS done for: 2011_2010_F04C\n",
      "df_KS shape:  (0, 10)\n",
      "df_ES shape:  (0, 10)\n",
      "Create toEval, iterate through all patents of current year 2012\n"
     ]
    },
    {
     "name": "stderr",
     "output_type": "stream",
     "text": [
      "100%|██████████| 1000/1000 [00:00<00:00, 1611.59it/s]\n"
     ]
    },
    {
     "name": "stdout",
     "output_type": "stream",
     "text": [
      "toEval done for G06F in 2012 \n",
      "toEval shape:  (123, 9)\n",
      "Number of secondary IPC for G06F in 2012:  6\n",
      "toEval done for G01N in 2012 \n",
      "toEval shape:  (15, 9)\n",
      "Number of secondary IPC for G01N in 2012:  21\n",
      "toEval done for A61B in 2012 \n",
      "toEval shape:  (20, 9)\n",
      "Number of secondary IPC for A61B in 2012:  5\n",
      "toEval done for B60L in 2012 \n",
      "toEval shape:  (2, 9)\n",
      "Number of secondary IPC for B60L in 2012:  1\n",
      "toEval done for E21B in 2012 \n",
      "toEval shape:  (8, 9)\n",
      "Number of secondary IPC for E21B in 2012:  1\n",
      "toEval done for F03D in 2012 \n",
      "toEval shape:  (2, 9)\n",
      "Number of secondary IPC for F03D in 2012:  1\n",
      "toEval done for H01L in 2012 \n",
      "toEval shape:  (57, 9)\n",
      "Number of secondary IPC for H01L in 2012:  17\n",
      "toEval done for H04W in 2012 \n",
      "toEval shape:  (33, 9)\n",
      "Number of secondary IPC for H04W in 2012:  5\n",
      "toEval done for C23C in 2012 \n",
      "toEval shape:  (3, 9)\n",
      "Number of secondary IPC for C23C in 2012:  1\n",
      "toEval done for D21B in 2012 \n",
      "toEval shape:  (0, 9)\n",
      "Number of secondary IPC for D21B in 2012:  0\n",
      "toEval done for F04C in 2012 \n",
      "toEval shape:  (0, 9)\n",
      "Number of secondary IPC for F04C in 2012:  0\n",
      "Iterating through patents of reference year 2009 for evalYear 2012\n"
     ]
    },
    {
     "name": "stderr",
     "output_type": "stream",
     "text": [
      "100%|██████████| 1000/1000 [00:00<00:00, 1528.73it/s]\n"
     ]
    },
    {
     "name": "stdout",
     "output_type": "stream",
     "text": [
      "Iterating through patents of reference year 2010 for evalYear 2012\n"
     ]
    },
    {
     "name": "stderr",
     "output_type": "stream",
     "text": [
      "100%|██████████| 1000/1000 [00:00<00:00, 1187.75it/s]\n"
     ]
    },
    {
     "name": "stdout",
     "output_type": "stream",
     "text": [
      "Iterating through patents of reference year 2011 for evalYear 2012\n"
     ]
    },
    {
     "name": "stderr",
     "output_type": "stream",
     "text": [
      "100%|██████████| 1000/1000 [00:00<00:00, 1419.65it/s]\n"
     ]
    },
    {
     "name": "stdout",
     "output_type": "stream",
     "text": [
      "ES and KS done for: 2012_2009_G06F\n",
      "ES and KS done for: 2012_2010_G06F\n",
      "ES and KS done for: 2012_2011_G06F\n",
      "df_KS shape:  (324, 10)\n",
      "df_ES shape:  (13, 10)\n",
      "ES and KS done for: 2012_2009_G01N\n",
      "ES and KS done for: 2012_2010_G01N\n",
      "ES and KS done for: 2012_2011_G01N\n",
      "df_KS shape:  (47, 10)\n",
      "df_ES shape:  (11, 10)\n",
      "ES and KS done for: 2012_2009_A61B\n",
      "ES and KS done for: 2012_2010_A61B\n",
      "ES and KS done for: 2012_2011_A61B\n",
      "df_KS shape:  (56, 10)\n",
      "df_ES shape:  (21, 10)\n",
      "ES and KS done for: 2012_2009_B60L\n",
      "ES and KS done for: 2012_2010_B60L\n",
      "ES and KS done for: 2012_2011_B60L\n",
      "df_KS shape:  (1, 10)\n",
      "df_ES shape:  (0, 10)\n",
      "ES and KS done for: 2012_2009_E21B\n",
      "ES and KS done for: 2012_2010_E21B\n",
      "ES and KS done for: 2012_2011_E21B\n",
      "df_KS shape:  (26, 10)\n",
      "df_ES shape:  (1, 10)\n",
      "ES and KS done for: 2012_2009_F03D\n",
      "ES and KS done for: 2012_2010_F03D\n",
      "ES and KS done for: 2012_2011_F03D\n",
      "df_KS shape:  (8, 10)\n",
      "df_ES shape:  (0, 10)\n",
      "ES and KS done for: 2012_2009_H01L\n",
      "ES and KS done for: 2012_2010_H01L\n",
      "ES and KS done for: 2012_2011_H01L\n",
      "df_KS shape:  (189, 10)\n",
      "df_ES shape:  (6, 10)\n",
      "ES and KS done for: 2012_2009_H04W\n",
      "ES and KS done for: 2012_2010_H04W\n",
      "ES and KS done for: 2012_2011_H04W\n",
      "df_KS shape:  (61, 10)\n",
      "df_ES shape:  (8, 10)\n",
      "ES and KS done for: 2012_2009_C23C\n",
      "ES and KS done for: 2012_2010_C23C\n",
      "ES and KS done for: 2012_2011_C23C\n",
      "df_KS shape:  (6, 10)\n",
      "df_ES shape:  (0, 10)\n",
      "ES and KS done for: 2012_2009_D21B\n",
      "ES and KS done for: 2012_2010_D21B\n",
      "ES and KS done for: 2012_2011_D21B\n",
      "df_KS shape:  (0, 10)\n",
      "df_ES shape:  (0, 10)\n",
      "ES and KS done for: 2012_2009_F04C\n",
      "ES and KS done for: 2012_2010_F04C\n",
      "ES and KS done for: 2012_2011_F04C\n",
      "df_KS shape:  (0, 10)\n",
      "df_ES shape:  (0, 10)\n",
      "Create toEval, iterate through all patents of current year 2013\n"
     ]
    },
    {
     "name": "stderr",
     "output_type": "stream",
     "text": [
      "100%|██████████| 1000/1000 [00:00<00:00, 1715.01it/s]\n"
     ]
    },
    {
     "name": "stdout",
     "output_type": "stream",
     "text": [
      "toEval done for G06F in 2013 \n",
      "toEval shape:  (105, 9)\n",
      "Number of secondary IPC for G06F in 2013:  8\n",
      "toEval done for G01N in 2013 \n",
      "toEval shape:  (22, 9)\n",
      "Number of secondary IPC for G01N in 2013:  5\n",
      "toEval done for A61B in 2013 \n",
      "toEval shape:  (30, 9)\n",
      "Number of secondary IPC for A61B in 2013:  6\n",
      "toEval done for B60L in 2013 \n",
      "toEval shape:  (1, 9)\n",
      "Number of secondary IPC for B60L in 2013:  1\n",
      "toEval done for E21B in 2013 \n",
      "toEval shape:  (7, 9)\n",
      "Number of secondary IPC for E21B in 2013:  0\n",
      "toEval done for F03D in 2013 \n",
      "toEval shape:  (1, 9)\n",
      "Number of secondary IPC for F03D in 2013:  0\n",
      "toEval done for H01L in 2013 \n",
      "toEval shape:  (54, 9)\n",
      "Number of secondary IPC for H01L in 2013:  4\n",
      "toEval done for H04W in 2013 \n",
      "toEval shape:  (39, 9)\n",
      "Number of secondary IPC for H04W in 2013:  1\n",
      "toEval done for C23C in 2013 \n",
      "toEval shape:  (0, 9)\n",
      "Number of secondary IPC for C23C in 2013:  0\n",
      "toEval done for D21B in 2013 \n",
      "toEval shape:  (0, 9)\n",
      "Number of secondary IPC for D21B in 2013:  0\n",
      "toEval done for F04C in 2013 \n",
      "toEval shape:  (2, 9)\n",
      "Number of secondary IPC for F04C in 2013:  1\n",
      "Iterating through patents of reference year 2010 for evalYear 2013\n"
     ]
    },
    {
     "name": "stderr",
     "output_type": "stream",
     "text": [
      "100%|██████████| 1000/1000 [00:00<00:00, 1987.42it/s]\n"
     ]
    },
    {
     "name": "stdout",
     "output_type": "stream",
     "text": [
      "Iterating through patents of reference year 2011 for evalYear 2013\n"
     ]
    },
    {
     "name": "stderr",
     "output_type": "stream",
     "text": [
      "100%|██████████| 1000/1000 [00:00<00:00, 1497.03it/s]\n"
     ]
    },
    {
     "name": "stdout",
     "output_type": "stream",
     "text": [
      "Iterating through patents of reference year 2012 for evalYear 2013\n"
     ]
    },
    {
     "name": "stderr",
     "output_type": "stream",
     "text": [
      "100%|██████████| 1000/1000 [00:00<00:00, 2423.05it/s]\n"
     ]
    },
    {
     "name": "stdout",
     "output_type": "stream",
     "text": [
      "ES and KS done for: 2013_2010_G06F\n",
      "ES and KS done for: 2013_2011_G06F\n",
      "ES and KS done for: 2013_2012_G06F\n",
      "df_KS shape:  (358, 10)\n",
      "df_ES shape:  (8, 10)\n",
      "ES and KS done for: 2013_2010_G01N\n",
      "ES and KS done for: 2013_2011_G01N\n",
      "ES and KS done for: 2013_2012_G01N\n",
      "df_KS shape:  (46, 10)\n",
      "df_ES shape:  (12, 10)\n",
      "ES and KS done for: 2013_2010_A61B\n",
      "ES and KS done for: 2013_2011_A61B\n",
      "ES and KS done for: 2013_2012_A61B\n",
      "df_KS shape:  (51, 10)\n",
      "df_ES shape:  (4, 10)\n",
      "ES and KS done for: 2013_2010_B60L\n",
      "ES and KS done for: 2013_2011_B60L\n",
      "ES and KS done for: 2013_2012_B60L\n",
      "df_KS shape:  (3, 10)\n",
      "df_ES shape:  (1, 10)\n",
      "ES and KS done for: 2013_2010_E21B\n",
      "ES and KS done for: 2013_2011_E21B\n",
      "ES and KS done for: 2013_2012_E21B\n",
      "df_KS shape:  (25, 10)\n",
      "df_ES shape:  (0, 10)\n",
      "ES and KS done for: 2013_2010_F03D\n",
      "ES and KS done for: 2013_2011_F03D\n",
      "ES and KS done for: 2013_2012_F03D\n",
      "df_KS shape:  (7, 10)\n",
      "df_ES shape:  (0, 10)\n",
      "ES and KS done for: 2013_2010_H01L\n",
      "ES and KS done for: 2013_2011_H01L\n",
      "ES and KS done for: 2013_2012_H01L\n",
      "df_KS shape:  (192, 10)\n",
      "df_ES shape:  (4, 10)\n",
      "ES and KS done for: 2013_2010_H04W\n",
      "ES and KS done for: 2013_2011_H04W\n",
      "ES and KS done for: 2013_2012_H04W\n",
      "df_KS shape:  (73, 10)\n",
      "df_ES shape:  (2, 10)\n",
      "ES and KS done for: 2013_2010_C23C\n",
      "ES and KS done for: 2013_2011_C23C\n",
      "ES and KS done for: 2013_2012_C23C\n",
      "df_KS shape:  (9, 10)\n",
      "df_ES shape:  (0, 10)\n",
      "ES and KS done for: 2013_2010_D21B\n",
      "ES and KS done for: 2013_2011_D21B\n",
      "ES and KS done for: 2013_2012_D21B\n",
      "df_KS shape:  (0, 10)\n",
      "df_ES shape:  (0, 10)\n",
      "ES and KS done for: 2013_2010_F04C\n",
      "ES and KS done for: 2013_2011_F04C\n",
      "ES and KS done for: 2013_2012_F04C\n",
      "df_KS shape:  (0, 10)\n",
      "df_ES shape:  (0, 10)\n",
      "Create toEval, iterate through all patents of current year 2014\n"
     ]
    },
    {
     "name": "stderr",
     "output_type": "stream",
     "text": [
      "100%|██████████| 1000/1000 [00:00<00:00, 1647.25it/s]\n"
     ]
    },
    {
     "name": "stdout",
     "output_type": "stream",
     "text": [
      "toEval done for G06F in 2014 \n",
      "toEval shape:  (68, 9)\n",
      "Number of secondary IPC for G06F in 2014:  20\n",
      "toEval done for G01N in 2014 \n",
      "toEval shape:  (21, 9)\n",
      "Number of secondary IPC for G01N in 2014:  16\n",
      "toEval done for A61B in 2014 \n",
      "toEval shape:  (19, 9)\n",
      "Number of secondary IPC for A61B in 2014:  6\n",
      "toEval done for B60L in 2014 \n",
      "toEval shape:  (2, 9)\n",
      "Number of secondary IPC for B60L in 2014:  3\n",
      "toEval done for E21B in 2014 \n",
      "toEval shape:  (9, 9)\n",
      "Number of secondary IPC for E21B in 2014:  10\n",
      "toEval done for F03D in 2014 \n",
      "toEval shape:  (1, 9)\n",
      "Number of secondary IPC for F03D in 2014:  0\n",
      "toEval done for H01L in 2014 \n",
      "toEval shape:  (44, 9)\n",
      "Number of secondary IPC for H01L in 2014:  9\n",
      "toEval done for H04W in 2014 \n",
      "toEval shape:  (30, 9)\n",
      "Number of secondary IPC for H04W in 2014:  5\n",
      "toEval done for C23C in 2014 \n",
      "toEval shape:  (2, 9)\n",
      "Number of secondary IPC for C23C in 2014:  0\n",
      "toEval done for D21B in 2014 \n",
      "toEval shape:  (0, 9)\n",
      "Number of secondary IPC for D21B in 2014:  0\n",
      "toEval done for F04C in 2014 \n",
      "toEval shape:  (0, 9)\n",
      "Number of secondary IPC for F04C in 2014:  0\n",
      "Iterating through patents of reference year 2011 for evalYear 2014\n"
     ]
    },
    {
     "name": "stderr",
     "output_type": "stream",
     "text": [
      "100%|██████████| 1000/1000 [00:00<00:00, 1726.92it/s]\n"
     ]
    },
    {
     "name": "stdout",
     "output_type": "stream",
     "text": [
      "Iterating through patents of reference year 2012 for evalYear 2014\n"
     ]
    },
    {
     "name": "stderr",
     "output_type": "stream",
     "text": [
      "100%|██████████| 1000/1000 [00:00<00:00, 1933.31it/s]\n"
     ]
    },
    {
     "name": "stdout",
     "output_type": "stream",
     "text": [
      "Iterating through patents of reference year 2013 for evalYear 2014\n"
     ]
    },
    {
     "name": "stderr",
     "output_type": "stream",
     "text": [
      "100%|██████████| 1000/1000 [00:00<00:00, 2593.42it/s]\n"
     ]
    },
    {
     "name": "stdout",
     "output_type": "stream",
     "text": [
      "ES and KS done for: 2014_2011_G06F\n",
      "ES and KS done for: 2014_2012_G06F\n",
      "ES and KS done for: 2014_2013_G06F\n",
      "df_KS shape:  (358, 10)\n",
      "df_ES shape:  (49, 10)\n",
      "ES and KS done for: 2014_2011_G01N\n",
      "ES and KS done for: 2014_2012_G01N\n",
      "ES and KS done for: 2014_2013_G01N\n",
      "df_KS shape:  (56, 10)\n",
      "df_ES shape:  (19, 10)\n",
      "ES and KS done for: 2014_2011_A61B\n",
      "ES and KS done for: 2014_2012_A61B\n",
      "ES and KS done for: 2014_2013_A61B\n",
      "df_KS shape:  (63, 10)\n",
      "df_ES shape:  (4, 10)\n",
      "ES and KS done for: 2014_2011_B60L\n",
      "ES and KS done for: 2014_2012_B60L\n",
      "ES and KS done for: 2014_2013_B60L\n",
      "df_KS shape:  (4, 10)\n",
      "df_ES shape:  (5, 10)\n",
      "ES and KS done for: 2014_2011_E21B\n",
      "ES and KS done for: 2014_2012_E21B\n",
      "ES and KS done for: 2014_2013_E21B\n",
      "df_KS shape:  (23, 10)\n",
      "df_ES shape:  (2, 10)\n",
      "ES and KS done for: 2014_2011_F03D\n",
      "ES and KS done for: 2014_2012_F03D\n",
      "ES and KS done for: 2014_2013_F03D\n",
      "df_KS shape:  (6, 10)\n",
      "df_ES shape:  (0, 10)\n",
      "ES and KS done for: 2014_2011_H01L\n",
      "ES and KS done for: 2014_2012_H01L\n",
      "ES and KS done for: 2014_2013_H01L\n",
      "df_KS shape:  (184, 10)\n",
      "df_ES shape:  (0, 10)\n",
      "ES and KS done for: 2014_2011_H04W\n",
      "ES and KS done for: 2014_2012_H04W\n",
      "ES and KS done for: 2014_2013_H04W\n",
      "df_KS shape:  (91, 10)\n",
      "df_ES shape:  (18, 10)\n",
      "ES and KS done for: 2014_2011_C23C\n",
      "ES and KS done for: 2014_2012_C23C\n",
      "ES and KS done for: 2014_2013_C23C\n",
      "df_KS shape:  (6, 10)\n",
      "df_ES shape:  (0, 10)\n",
      "ES and KS done for: 2014_2011_D21B\n",
      "ES and KS done for: 2014_2012_D21B\n",
      "ES and KS done for: 2014_2013_D21B\n",
      "df_KS shape:  (0, 10)\n",
      "df_ES shape:  (0, 10)\n",
      "ES and KS done for: 2014_2011_F04C\n",
      "ES and KS done for: 2014_2012_F04C\n",
      "ES and KS done for: 2014_2013_F04C\n",
      "df_KS shape:  (2, 10)\n",
      "df_ES shape:  (0, 10)\n",
      "Create toEval, iterate through all patents of current year 2015\n"
     ]
    },
    {
     "name": "stderr",
     "output_type": "stream",
     "text": [
      "100%|██████████| 1000/1000 [00:00<00:00, 2167.02it/s]\n"
     ]
    },
    {
     "name": "stdout",
     "output_type": "stream",
     "text": [
      "toEval done for G06F in 2015 \n",
      "toEval shape:  (54, 9)\n",
      "Number of secondary IPC for G06F in 2015:  22\n",
      "toEval done for G01N in 2015 \n",
      "toEval shape:  (11, 9)\n",
      "Number of secondary IPC for G01N in 2015:  4\n",
      "toEval done for A61B in 2015 \n",
      "toEval shape:  (16, 9)\n",
      "Number of secondary IPC for A61B in 2015:  8\n",
      "toEval done for B60L in 2015 \n",
      "toEval shape:  (3, 9)\n",
      "Number of secondary IPC for B60L in 2015:  2\n",
      "toEval done for E21B in 2015 \n",
      "toEval shape:  (6, 9)\n",
      "Number of secondary IPC for E21B in 2015:  4\n",
      "toEval done for F03D in 2015 \n",
      "toEval shape:  (3, 9)\n",
      "Number of secondary IPC for F03D in 2015:  3\n",
      "toEval done for H01L in 2015 \n",
      "toEval shape:  (52, 9)\n",
      "Number of secondary IPC for H01L in 2015:  26\n",
      "toEval done for H04W in 2015 \n",
      "toEval shape:  (29, 9)\n",
      "Number of secondary IPC for H04W in 2015:  16\n",
      "toEval done for C23C in 2015 \n",
      "toEval shape:  (0, 9)\n",
      "Number of secondary IPC for C23C in 2015:  0\n",
      "toEval done for D21B in 2015 \n",
      "toEval shape:  (0, 9)\n",
      "Number of secondary IPC for D21B in 2015:  0\n",
      "toEval done for F04C in 2015 \n",
      "toEval shape:  (0, 9)\n",
      "Number of secondary IPC for F04C in 2015:  0\n",
      "Iterating through patents of reference year 2012 for evalYear 2015\n"
     ]
    },
    {
     "name": "stderr",
     "output_type": "stream",
     "text": [
      "100%|██████████| 1000/1000 [00:00<00:00, 1932.68it/s]\n"
     ]
    },
    {
     "name": "stdout",
     "output_type": "stream",
     "text": [
      "Iterating through patents of reference year 2013 for evalYear 2015\n"
     ]
    },
    {
     "name": "stderr",
     "output_type": "stream",
     "text": [
      "100%|██████████| 1000/1000 [00:00<00:00, 1645.61it/s]\n"
     ]
    },
    {
     "name": "stdout",
     "output_type": "stream",
     "text": [
      "Iterating through patents of reference year 2014 for evalYear 2015\n"
     ]
    },
    {
     "name": "stderr",
     "output_type": "stream",
     "text": [
      "100%|██████████| 1000/1000 [00:00<00:00, 1693.25it/s]\n"
     ]
    },
    {
     "name": "stdout",
     "output_type": "stream",
     "text": [
      "ES and KS done for: 2015_2012_G06F\n",
      "ES and KS done for: 2015_2013_G06F\n",
      "ES and KS done for: 2015_2014_G06F\n",
      "df_KS shape:  (314, 10)\n",
      "df_ES shape:  (60, 10)\n",
      "ES and KS done for: 2015_2012_G01N\n",
      "ES and KS done for: 2015_2013_G01N\n",
      "ES and KS done for: 2015_2014_G01N\n",
      "df_KS shape:  (59, 10)\n",
      "df_ES shape:  (1, 10)\n",
      "ES and KS done for: 2015_2012_A61B\n",
      "ES and KS done for: 2015_2013_A61B\n",
      "ES and KS done for: 2015_2014_A61B\n",
      "df_KS shape:  (80, 10)\n",
      "df_ES shape:  (4, 10)\n",
      "ES and KS done for: 2015_2012_B60L\n",
      "ES and KS done for: 2015_2013_B60L\n",
      "ES and KS done for: 2015_2014_B60L\n",
      "df_KS shape:  (5, 10)\n",
      "df_ES shape:  (1, 10)\n",
      "ES and KS done for: 2015_2012_E21B\n",
      "ES and KS done for: 2015_2013_E21B\n",
      "ES and KS done for: 2015_2014_E21B\n",
      "df_KS shape:  (24, 10)\n",
      "df_ES shape:  (1, 10)\n",
      "ES and KS done for: 2015_2012_F03D\n",
      "ES and KS done for: 2015_2013_F03D\n",
      "ES and KS done for: 2015_2014_F03D\n",
      "df_KS shape:  (4, 10)\n",
      "df_ES shape:  (0, 10)\n",
      "ES and KS done for: 2015_2012_H01L\n",
      "ES and KS done for: 2015_2013_H01L\n",
      "ES and KS done for: 2015_2014_H01L\n",
      "df_KS shape:  (155, 10)\n",
      "df_ES shape:  (25, 10)\n",
      "ES and KS done for: 2015_2012_H04W\n",
      "ES and KS done for: 2015_2013_H04W\n",
      "ES and KS done for: 2015_2014_H04W\n",
      "df_KS shape:  (103, 10)\n",
      "df_ES shape:  (73, 10)\n",
      "ES and KS done for: 2015_2012_C23C\n",
      "ES and KS done for: 2015_2013_C23C\n",
      "ES and KS done for: 2015_2014_C23C\n",
      "df_KS shape:  (5, 10)\n",
      "df_ES shape:  (0, 10)\n",
      "ES and KS done for: 2015_2012_D21B\n",
      "ES and KS done for: 2015_2013_D21B\n",
      "ES and KS done for: 2015_2014_D21B\n",
      "df_KS shape:  (0, 10)\n",
      "df_ES shape:  (0, 10)\n",
      "ES and KS done for: 2015_2012_F04C\n",
      "ES and KS done for: 2015_2013_F04C\n",
      "ES and KS done for: 2015_2014_F04C\n",
      "df_KS shape:  (2, 10)\n",
      "df_ES shape:  (0, 10)\n",
      "Create toEval, iterate through all patents of current year 2016\n"
     ]
    },
    {
     "name": "stderr",
     "output_type": "stream",
     "text": [
      "100%|██████████| 1000/1000 [00:00<00:00, 1983.89it/s]\n"
     ]
    },
    {
     "name": "stdout",
     "output_type": "stream",
     "text": [
      "toEval done for G06F in 2016 \n",
      "toEval shape:  (19, 9)\n",
      "Number of secondary IPC for G06F in 2016:  9\n",
      "toEval done for G01N in 2016 \n",
      "toEval shape:  (4, 9)\n",
      "Number of secondary IPC for G01N in 2016:  3\n",
      "toEval done for A61B in 2016 \n",
      "toEval shape:  (3, 9)\n",
      "Number of secondary IPC for A61B in 2016:  6\n",
      "toEval done for B60L in 2016 \n",
      "toEval shape:  (0, 9)\n",
      "Number of secondary IPC for B60L in 2016:  0\n",
      "toEval done for E21B in 2016 \n",
      "toEval shape:  (0, 9)\n",
      "Number of secondary IPC for E21B in 2016:  0\n",
      "toEval done for F03D in 2016 \n",
      "toEval shape:  (0, 9)\n",
      "Number of secondary IPC for F03D in 2016:  0\n",
      "toEval done for H01L in 2016 \n",
      "toEval shape:  (34, 9)\n",
      "Number of secondary IPC for H01L in 2016:  20\n",
      "toEval done for H04W in 2016 \n",
      "toEval shape:  (13, 9)\n",
      "Number of secondary IPC for H04W in 2016:  7\n",
      "toEval done for C23C in 2016 \n",
      "toEval shape:  (1, 9)\n",
      "Number of secondary IPC for C23C in 2016:  2\n",
      "toEval done for D21B in 2016 \n",
      "toEval shape:  (0, 9)\n",
      "Number of secondary IPC for D21B in 2016:  0\n",
      "toEval done for F04C in 2016 \n",
      "toEval shape:  (0, 9)\n",
      "Number of secondary IPC for F04C in 2016:  0\n",
      "Iterating through patents of reference year 2013 for evalYear 2016\n"
     ]
    },
    {
     "name": "stderr",
     "output_type": "stream",
     "text": [
      "100%|██████████| 1000/1000 [00:00<00:00, 2360.62it/s]\n"
     ]
    },
    {
     "name": "stdout",
     "output_type": "stream",
     "text": [
      "Iterating through patents of reference year 2014 for evalYear 2016\n"
     ]
    },
    {
     "name": "stderr",
     "output_type": "stream",
     "text": [
      "100%|██████████| 1000/1000 [00:00<00:00, 2089.44it/s]\n"
     ]
    },
    {
     "name": "stdout",
     "output_type": "stream",
     "text": [
      "Iterating through patents of reference year 2015 for evalYear 2016\n"
     ]
    },
    {
     "name": "stderr",
     "output_type": "stream",
     "text": [
      "100%|██████████| 1000/1000 [00:00<00:00, 2442.77it/s]\n"
     ]
    },
    {
     "name": "stdout",
     "output_type": "stream",
     "text": [
      "ES and KS done for: 2016_2013_G06F\n",
      "ES and KS done for: 2016_2014_G06F\n",
      "ES and KS done for: 2016_2015_G06F\n",
      "df_KS shape:  (254, 10)\n",
      "df_ES shape:  (7, 10)\n",
      "ES and KS done for: 2016_2013_G01N\n",
      "ES and KS done for: 2016_2014_G01N\n",
      "ES and KS done for: 2016_2015_G01N\n",
      "df_KS shape:  (60, 10)\n",
      "df_ES shape:  (0, 10)\n",
      "ES and KS done for: 2016_2013_A61B\n",
      "ES and KS done for: 2016_2014_A61B\n",
      "ES and KS done for: 2016_2015_A61B\n",
      "df_KS shape:  (80, 10)\n",
      "df_ES shape:  (20, 10)\n",
      "ES and KS done for: 2016_2013_B60L\n",
      "ES and KS done for: 2016_2014_B60L\n",
      "ES and KS done for: 2016_2015_B60L\n",
      "df_KS shape:  (6, 10)\n",
      "df_ES shape:  (0, 10)\n",
      "ES and KS done for: 2016_2013_E21B\n",
      "ES and KS done for: 2016_2014_E21B\n",
      "ES and KS done for: 2016_2015_E21B\n",
      "df_KS shape:  (24, 10)\n",
      "df_ES shape:  (0, 10)\n",
      "ES and KS done for: 2016_2013_F03D\n",
      "ES and KS done for: 2016_2014_F03D\n",
      "ES and KS done for: 2016_2015_F03D\n",
      "df_KS shape:  (5, 10)\n",
      "df_ES shape:  (0, 10)\n",
      "ES and KS done for: 2016_2013_H01L\n",
      "ES and KS done for: 2016_2014_H01L\n",
      "ES and KS done for: 2016_2015_H01L\n",
      "df_KS shape:  (155, 10)\n",
      "df_ES shape:  (36, 10)\n",
      "ES and KS done for: 2016_2013_H04W\n",
      "ES and KS done for: 2016_2014_H04W\n",
      "ES and KS done for: 2016_2015_H04W\n",
      "df_KS shape:  (100, 10)\n",
      "df_ES shape:  (9, 10)\n",
      "ES and KS done for: 2016_2013_C23C\n",
      "ES and KS done for: 2016_2014_C23C\n",
      "ES and KS done for: 2016_2015_C23C\n",
      "df_KS shape:  (2, 10)\n",
      "df_ES shape:  (10, 10)\n",
      "ES and KS done for: 2016_2013_D21B\n",
      "ES and KS done for: 2016_2014_D21B\n",
      "ES and KS done for: 2016_2015_D21B\n",
      "df_KS shape:  (0, 10)\n",
      "df_ES shape:  (0, 10)\n",
      "ES and KS done for: 2016_2013_F04C\n",
      "ES and KS done for: 2016_2014_F04C\n",
      "ES and KS done for: 2016_2015_F04C\n",
      "df_KS shape:  (2, 10)\n",
      "df_ES shape:  (0, 10)\n",
      "All 3 reference years for eval year 2015 present\n",
      "Create toEval, iterate through all patents of current year 2011\n"
     ]
    },
    {
     "name": "stderr",
     "output_type": "stream",
     "text": [
      "100%|██████████| 1000/1000 [00:00<00:00, 1481.29it/s]\n"
     ]
    },
    {
     "name": "stdout",
     "output_type": "stream",
     "text": [
      "toEval done for G06F in 2011 \n",
      "toEval shape:  (117, 9)\n",
      "Number of secondary IPC for G06F in 2011:  9\n",
      "toEval done for G01N in 2011 \n",
      "toEval shape:  (19, 9)\n",
      "Number of secondary IPC for G01N in 2011:  14\n",
      "toEval done for A61B in 2011 \n",
      "toEval shape:  (11, 9)\n",
      "Number of secondary IPC for A61B in 2011:  0\n",
      "toEval done for B60L in 2011 \n",
      "toEval shape:  (1, 9)\n",
      "Number of secondary IPC for B60L in 2011:  0\n",
      "toEval done for E21B in 2011 \n",
      "toEval shape:  (8, 9)\n",
      "Number of secondary IPC for E21B in 2011:  8\n",
      "toEval done for F03D in 2011 \n",
      "toEval shape:  (3, 9)\n",
      "Number of secondary IPC for F03D in 2011:  0\n",
      "toEval done for H01L in 2011 \n",
      "toEval shape:  (72, 9)\n",
      "Number of secondary IPC for H01L in 2011:  22\n",
      "toEval done for H04W in 2011 \n",
      "toEval shape:  (19, 9)\n",
      "Number of secondary IPC for H04W in 2011:  1\n",
      "toEval done for C23C in 2011 \n",
      "toEval shape:  (3, 9)\n",
      "Number of secondary IPC for C23C in 2011:  5\n",
      "toEval done for D21B in 2011 \n",
      "toEval shape:  (0, 9)\n",
      "Number of secondary IPC for D21B in 2011:  0\n",
      "toEval done for F04C in 2011 \n",
      "toEval shape:  (0, 9)\n",
      "Number of secondary IPC for F04C in 2011:  0\n",
      "Iterating through patents of reference year 2008 for evalYear 2011\n"
     ]
    },
    {
     "name": "stderr",
     "output_type": "stream",
     "text": [
      "100%|██████████| 1000/1000 [00:00<00:00, 2020.49it/s]\n"
     ]
    },
    {
     "name": "stdout",
     "output_type": "stream",
     "text": [
      "Iterating through patents of reference year 2009 for evalYear 2011\n"
     ]
    },
    {
     "name": "stderr",
     "output_type": "stream",
     "text": [
      "100%|██████████| 1000/1000 [00:00<00:00, 2012.25it/s]\n"
     ]
    },
    {
     "name": "stdout",
     "output_type": "stream",
     "text": [
      "Iterating through patents of reference year 2010 for evalYear 2011\n"
     ]
    },
    {
     "name": "stderr",
     "output_type": "stream",
     "text": [
      "100%|██████████| 1000/1000 [00:00<00:00, 2413.98it/s]\n"
     ]
    },
    {
     "name": "stdout",
     "output_type": "stream",
     "text": [
      "ES and KS done for: 2011_2008_G06F\n",
      "ES and KS done for: 2011_2009_G06F\n",
      "ES and KS done for: 2011_2010_G06F\n",
      "df_KS shape:  (308, 10)\n",
      "df_ES shape:  (7, 10)\n",
      "ES and KS done for: 2011_2008_G01N\n",
      "ES and KS done for: 2011_2009_G01N\n",
      "ES and KS done for: 2011_2010_G01N\n",
      "df_KS shape:  (43, 10)\n",
      "df_ES shape:  (25, 10)\n",
      "ES and KS done for: 2011_2008_A61B\n",
      "ES and KS done for: 2011_2009_A61B\n",
      "ES and KS done for: 2011_2010_A61B\n",
      "df_KS shape:  (67, 10)\n",
      "df_ES shape:  (0, 10)\n",
      "ES and KS done for: 2011_2008_B60L\n",
      "ES and KS done for: 2011_2009_B60L\n",
      "ES and KS done for: 2011_2010_B60L\n",
      "df_KS shape:  (1, 10)\n",
      "df_ES shape:  (0, 10)\n",
      "ES and KS done for: 2011_2008_E21B\n",
      "ES and KS done for: 2011_2009_E21B\n",
      "ES and KS done for: 2011_2010_E21B\n",
      "df_KS shape:  (25, 10)\n",
      "df_ES shape:  (0, 10)\n",
      "ES and KS done for: 2011_2008_F03D\n",
      "ES and KS done for: 2011_2009_F03D\n",
      "ES and KS done for: 2011_2010_F03D\n",
      "df_KS shape:  (5, 10)\n",
      "df_ES shape:  (0, 10)\n",
      "ES and KS done for: 2011_2008_H01L\n",
      "ES and KS done for: 2011_2009_H01L\n",
      "ES and KS done for: 2011_2010_H01L\n",
      "df_KS shape:  (175, 10)\n",
      "df_ES shape:  (20, 10)\n",
      "ES and KS done for: 2011_2008_H04W\n",
      "ES and KS done for: 2011_2009_H04W\n",
      "ES and KS done for: 2011_2010_H04W\n",
      "df_KS shape:  (50, 10)\n",
      "df_ES shape:  (3, 10)\n",
      "ES and KS done for: 2011_2008_C23C\n",
      "ES and KS done for: 2011_2009_C23C\n",
      "ES and KS done for: 2011_2010_C23C\n",
      "df_KS shape:  (6, 10)\n",
      "df_ES shape:  (1, 10)\n",
      "ES and KS done for: 2011_2008_D21B\n",
      "ES and KS done for: 2011_2009_D21B\n",
      "ES and KS done for: 2011_2010_D21B\n",
      "df_KS shape:  (0, 10)\n",
      "df_ES shape:  (0, 10)\n",
      "ES and KS done for: 2011_2008_F04C\n",
      "ES and KS done for: 2011_2009_F04C\n",
      "ES and KS done for: 2011_2010_F04C\n",
      "df_KS shape:  (0, 10)\n",
      "df_ES shape:  (0, 10)\n",
      "Create toEval, iterate through all patents of current year 2012\n"
     ]
    },
    {
     "name": "stderr",
     "output_type": "stream",
     "text": [
      "100%|██████████| 1000/1000 [00:00<00:00, 2423.97it/s]\n"
     ]
    },
    {
     "name": "stdout",
     "output_type": "stream",
     "text": [
      "toEval done for G06F in 2012 \n",
      "toEval shape:  (123, 9)\n",
      "Number of secondary IPC for G06F in 2012:  6\n",
      "toEval done for G01N in 2012 \n",
      "toEval shape:  (15, 9)\n",
      "Number of secondary IPC for G01N in 2012:  21\n",
      "toEval done for A61B in 2012 \n",
      "toEval shape:  (20, 9)\n",
      "Number of secondary IPC for A61B in 2012:  5\n",
      "toEval done for B60L in 2012 \n",
      "toEval shape:  (2, 9)\n",
      "Number of secondary IPC for B60L in 2012:  1\n",
      "toEval done for E21B in 2012 \n",
      "toEval shape:  (8, 9)\n",
      "Number of secondary IPC for E21B in 2012:  1\n",
      "toEval done for F03D in 2012 \n",
      "toEval shape:  (2, 9)\n",
      "Number of secondary IPC for F03D in 2012:  1\n",
      "toEval done for H01L in 2012 \n",
      "toEval shape:  (57, 9)\n",
      "Number of secondary IPC for H01L in 2012:  17\n",
      "toEval done for H04W in 2012 \n",
      "toEval shape:  (33, 9)\n",
      "Number of secondary IPC for H04W in 2012:  5\n",
      "toEval done for C23C in 2012 \n",
      "toEval shape:  (3, 9)\n",
      "Number of secondary IPC for C23C in 2012:  1\n",
      "toEval done for D21B in 2012 \n",
      "toEval shape:  (0, 9)\n",
      "Number of secondary IPC for D21B in 2012:  0\n",
      "toEval done for F04C in 2012 \n",
      "toEval shape:  (0, 9)\n",
      "Number of secondary IPC for F04C in 2012:  0\n",
      "Iterating through patents of reference year 2009 for evalYear 2012\n"
     ]
    },
    {
     "name": "stderr",
     "output_type": "stream",
     "text": [
      "100%|██████████| 1000/1000 [00:00<00:00, 1899.77it/s]\n"
     ]
    },
    {
     "name": "stdout",
     "output_type": "stream",
     "text": [
      "Iterating through patents of reference year 2010 for evalYear 2012\n"
     ]
    },
    {
     "name": "stderr",
     "output_type": "stream",
     "text": [
      "100%|██████████| 1000/1000 [00:00<00:00, 1968.43it/s]\n"
     ]
    },
    {
     "name": "stdout",
     "output_type": "stream",
     "text": [
      "Iterating through patents of reference year 2011 for evalYear 2012\n"
     ]
    },
    {
     "name": "stderr",
     "output_type": "stream",
     "text": [
      "100%|██████████| 1000/1000 [00:00<00:00, 1999.90it/s]\n"
     ]
    },
    {
     "name": "stdout",
     "output_type": "stream",
     "text": [
      "ES and KS done for: 2012_2009_G06F\n",
      "ES and KS done for: 2012_2010_G06F\n",
      "ES and KS done for: 2012_2011_G06F\n",
      "df_KS shape:  (324, 10)\n",
      "df_ES shape:  (13, 10)\n",
      "ES and KS done for: 2012_2009_G01N\n",
      "ES and KS done for: 2012_2010_G01N\n",
      "ES and KS done for: 2012_2011_G01N\n",
      "df_KS shape:  (47, 10)\n",
      "df_ES shape:  (11, 10)\n",
      "ES and KS done for: 2012_2009_A61B\n",
      "ES and KS done for: 2012_2010_A61B\n",
      "ES and KS done for: 2012_2011_A61B\n",
      "df_KS shape:  (56, 10)\n",
      "df_ES shape:  (21, 10)\n",
      "ES and KS done for: 2012_2009_B60L\n",
      "ES and KS done for: 2012_2010_B60L\n",
      "ES and KS done for: 2012_2011_B60L\n",
      "df_KS shape:  (1, 10)\n",
      "df_ES shape:  (0, 10)\n",
      "ES and KS done for: 2012_2009_E21B\n",
      "ES and KS done for: 2012_2010_E21B\n",
      "ES and KS done for: 2012_2011_E21B\n",
      "df_KS shape:  (26, 10)\n",
      "df_ES shape:  (1, 10)\n",
      "ES and KS done for: 2012_2009_F03D\n",
      "ES and KS done for: 2012_2010_F03D\n",
      "ES and KS done for: 2012_2011_F03D\n",
      "df_KS shape:  (8, 10)\n",
      "df_ES shape:  (0, 10)\n",
      "ES and KS done for: 2012_2009_H01L\n",
      "ES and KS done for: 2012_2010_H01L\n",
      "ES and KS done for: 2012_2011_H01L\n",
      "df_KS shape:  (189, 10)\n",
      "df_ES shape:  (6, 10)\n",
      "ES and KS done for: 2012_2009_H04W\n",
      "ES and KS done for: 2012_2010_H04W\n",
      "ES and KS done for: 2012_2011_H04W\n",
      "df_KS shape:  (61, 10)\n",
      "df_ES shape:  (8, 10)\n",
      "ES and KS done for: 2012_2009_C23C\n",
      "ES and KS done for: 2012_2010_C23C\n",
      "ES and KS done for: 2012_2011_C23C\n",
      "df_KS shape:  (6, 10)\n",
      "df_ES shape:  (0, 10)\n",
      "ES and KS done for: 2012_2009_D21B\n",
      "ES and KS done for: 2012_2010_D21B\n",
      "ES and KS done for: 2012_2011_D21B\n",
      "df_KS shape:  (0, 10)\n",
      "df_ES shape:  (0, 10)\n",
      "ES and KS done for: 2012_2009_F04C\n",
      "ES and KS done for: 2012_2010_F04C\n",
      "ES and KS done for: 2012_2011_F04C\n",
      "df_KS shape:  (0, 10)\n",
      "df_ES shape:  (0, 10)\n",
      "Create toEval, iterate through all patents of current year 2013\n"
     ]
    },
    {
     "name": "stderr",
     "output_type": "stream",
     "text": [
      "100%|██████████| 1000/1000 [00:00<00:00, 2192.87it/s]\n"
     ]
    },
    {
     "name": "stdout",
     "output_type": "stream",
     "text": [
      "toEval done for G06F in 2013 \n",
      "toEval shape:  (105, 9)\n",
      "Number of secondary IPC for G06F in 2013:  8\n",
      "toEval done for G01N in 2013 \n",
      "toEval shape:  (22, 9)\n",
      "Number of secondary IPC for G01N in 2013:  5\n",
      "toEval done for A61B in 2013 \n",
      "toEval shape:  (30, 9)\n",
      "Number of secondary IPC for A61B in 2013:  6\n",
      "toEval done for B60L in 2013 \n",
      "toEval shape:  (1, 9)\n",
      "Number of secondary IPC for B60L in 2013:  1\n",
      "toEval done for E21B in 2013 \n",
      "toEval shape:  (7, 9)\n",
      "Number of secondary IPC for E21B in 2013:  0\n",
      "toEval done for F03D in 2013 \n",
      "toEval shape:  (1, 9)\n",
      "Number of secondary IPC for F03D in 2013:  0\n",
      "toEval done for H01L in 2013 \n",
      "toEval shape:  (54, 9)\n",
      "Number of secondary IPC for H01L in 2013:  4\n",
      "toEval done for H04W in 2013 \n",
      "toEval shape:  (39, 9)\n",
      "Number of secondary IPC for H04W in 2013:  1\n",
      "toEval done for C23C in 2013 \n",
      "toEval shape:  (0, 9)\n",
      "Number of secondary IPC for C23C in 2013:  0\n",
      "toEval done for D21B in 2013 \n",
      "toEval shape:  (0, 9)\n",
      "Number of secondary IPC for D21B in 2013:  0\n",
      "toEval done for F04C in 2013 \n",
      "toEval shape:  (2, 9)\n",
      "Number of secondary IPC for F04C in 2013:  1\n",
      "Iterating through patents of reference year 2010 for evalYear 2013\n"
     ]
    },
    {
     "name": "stderr",
     "output_type": "stream",
     "text": [
      "100%|██████████| 1000/1000 [00:00<00:00, 2052.47it/s]\n"
     ]
    },
    {
     "name": "stdout",
     "output_type": "stream",
     "text": [
      "Iterating through patents of reference year 2011 for evalYear 2013\n"
     ]
    },
    {
     "name": "stderr",
     "output_type": "stream",
     "text": [
      "100%|██████████| 1000/1000 [00:00<00:00, 2206.08it/s]\n"
     ]
    },
    {
     "name": "stdout",
     "output_type": "stream",
     "text": [
      "Iterating through patents of reference year 2012 for evalYear 2013\n"
     ]
    },
    {
     "name": "stderr",
     "output_type": "stream",
     "text": [
      "100%|██████████| 1000/1000 [00:00<00:00, 2735.41it/s]\n"
     ]
    },
    {
     "name": "stdout",
     "output_type": "stream",
     "text": [
      "ES and KS done for: 2013_2010_G06F\n",
      "ES and KS done for: 2013_2011_G06F\n",
      "ES and KS done for: 2013_2012_G06F\n",
      "df_KS shape:  (358, 10)\n",
      "df_ES shape:  (8, 10)\n",
      "ES and KS done for: 2013_2010_G01N\n",
      "ES and KS done for: 2013_2011_G01N\n",
      "ES and KS done for: 2013_2012_G01N\n",
      "df_KS shape:  (46, 10)\n",
      "df_ES shape:  (12, 10)\n",
      "ES and KS done for: 2013_2010_A61B\n",
      "ES and KS done for: 2013_2011_A61B\n",
      "ES and KS done for: 2013_2012_A61B\n",
      "df_KS shape:  (51, 10)\n",
      "df_ES shape:  (4, 10)\n",
      "ES and KS done for: 2013_2010_B60L\n",
      "ES and KS done for: 2013_2011_B60L\n",
      "ES and KS done for: 2013_2012_B60L\n",
      "df_KS shape:  (3, 10)\n",
      "df_ES shape:  (1, 10)\n",
      "ES and KS done for: 2013_2010_E21B\n",
      "ES and KS done for: 2013_2011_E21B\n",
      "ES and KS done for: 2013_2012_E21B\n",
      "df_KS shape:  (25, 10)\n",
      "df_ES shape:  (0, 10)\n",
      "ES and KS done for: 2013_2010_F03D\n",
      "ES and KS done for: 2013_2011_F03D\n",
      "ES and KS done for: 2013_2012_F03D\n",
      "df_KS shape:  (7, 10)\n",
      "df_ES shape:  (0, 10)\n",
      "ES and KS done for: 2013_2010_H01L\n",
      "ES and KS done for: 2013_2011_H01L\n",
      "ES and KS done for: 2013_2012_H01L\n",
      "df_KS shape:  (192, 10)\n",
      "df_ES shape:  (4, 10)\n",
      "ES and KS done for: 2013_2010_H04W\n",
      "ES and KS done for: 2013_2011_H04W\n",
      "ES and KS done for: 2013_2012_H04W\n",
      "df_KS shape:  (73, 10)\n",
      "df_ES shape:  (2, 10)\n",
      "ES and KS done for: 2013_2010_C23C\n",
      "ES and KS done for: 2013_2011_C23C\n",
      "ES and KS done for: 2013_2012_C23C\n",
      "df_KS shape:  (9, 10)\n",
      "df_ES shape:  (0, 10)\n",
      "ES and KS done for: 2013_2010_D21B\n",
      "ES and KS done for: 2013_2011_D21B\n",
      "ES and KS done for: 2013_2012_D21B\n",
      "df_KS shape:  (0, 10)\n",
      "df_ES shape:  (0, 10)\n",
      "ES and KS done for: 2013_2010_F04C\n",
      "ES and KS done for: 2013_2011_F04C\n",
      "ES and KS done for: 2013_2012_F04C\n",
      "df_KS shape:  (0, 10)\n",
      "df_ES shape:  (0, 10)\n",
      "Create toEval, iterate through all patents of current year 2014\n"
     ]
    },
    {
     "name": "stderr",
     "output_type": "stream",
     "text": [
      "100%|██████████| 1000/1000 [00:00<00:00, 1333.53it/s]\n"
     ]
    },
    {
     "name": "stdout",
     "output_type": "stream",
     "text": [
      "toEval done for G06F in 2014 \n",
      "toEval shape:  (68, 9)\n",
      "Number of secondary IPC for G06F in 2014:  20\n",
      "toEval done for G01N in 2014 \n",
      "toEval shape:  (21, 9)\n",
      "Number of secondary IPC for G01N in 2014:  16\n",
      "toEval done for A61B in 2014 \n",
      "toEval shape:  (19, 9)\n",
      "Number of secondary IPC for A61B in 2014:  6\n",
      "toEval done for B60L in 2014 \n",
      "toEval shape:  (2, 9)\n",
      "Number of secondary IPC for B60L in 2014:  3\n",
      "toEval done for E21B in 2014 \n",
      "toEval shape:  (9, 9)\n",
      "Number of secondary IPC for E21B in 2014:  10\n",
      "toEval done for F03D in 2014 \n",
      "toEval shape:  (1, 9)\n",
      "Number of secondary IPC for F03D in 2014:  0\n",
      "toEval done for H01L in 2014 \n",
      "toEval shape:  (44, 9)\n",
      "Number of secondary IPC for H01L in 2014:  9\n",
      "toEval done for H04W in 2014 \n",
      "toEval shape:  (30, 9)\n",
      "Number of secondary IPC for H04W in 2014:  5\n",
      "toEval done for C23C in 2014 \n",
      "toEval shape:  (2, 9)\n",
      "Number of secondary IPC for C23C in 2014:  0\n",
      "toEval done for D21B in 2014 \n",
      "toEval shape:  (0, 9)\n",
      "Number of secondary IPC for D21B in 2014:  0\n",
      "toEval done for F04C in 2014 \n",
      "toEval shape:  (0, 9)\n",
      "Number of secondary IPC for F04C in 2014:  0\n",
      "Iterating through patents of reference year 2011 for evalYear 2014\n"
     ]
    },
    {
     "name": "stderr",
     "output_type": "stream",
     "text": [
      "100%|██████████| 1000/1000 [00:00<00:00, 1153.99it/s]\n"
     ]
    },
    {
     "name": "stdout",
     "output_type": "stream",
     "text": [
      "Iterating through patents of reference year 2012 for evalYear 2014\n"
     ]
    },
    {
     "name": "stderr",
     "output_type": "stream",
     "text": [
      "100%|██████████| 1000/1000 [00:00<00:00, 1962.72it/s]\n"
     ]
    },
    {
     "name": "stdout",
     "output_type": "stream",
     "text": [
      "Iterating through patents of reference year 2013 for evalYear 2014\n"
     ]
    },
    {
     "name": "stderr",
     "output_type": "stream",
     "text": [
      "100%|██████████| 1000/1000 [00:00<00:00, 2040.98it/s]\n"
     ]
    },
    {
     "name": "stdout",
     "output_type": "stream",
     "text": [
      "ES and KS done for: 2014_2011_G06F\n",
      "ES and KS done for: 2014_2012_G06F\n",
      "ES and KS done for: 2014_2013_G06F\n",
      "df_KS shape:  (358, 10)\n",
      "df_ES shape:  (49, 10)\n",
      "ES and KS done for: 2014_2011_G01N\n",
      "ES and KS done for: 2014_2012_G01N\n",
      "ES and KS done for: 2014_2013_G01N\n",
      "df_KS shape:  (56, 10)\n",
      "df_ES shape:  (19, 10)\n",
      "ES and KS done for: 2014_2011_A61B\n",
      "ES and KS done for: 2014_2012_A61B\n",
      "ES and KS done for: 2014_2013_A61B\n",
      "df_KS shape:  (63, 10)\n",
      "df_ES shape:  (4, 10)\n",
      "ES and KS done for: 2014_2011_B60L\n",
      "ES and KS done for: 2014_2012_B60L\n",
      "ES and KS done for: 2014_2013_B60L\n",
      "df_KS shape:  (4, 10)\n",
      "df_ES shape:  (5, 10)\n",
      "ES and KS done for: 2014_2011_E21B\n",
      "ES and KS done for: 2014_2012_E21B\n",
      "ES and KS done for: 2014_2013_E21B\n",
      "df_KS shape:  (23, 10)\n",
      "df_ES shape:  (2, 10)\n",
      "ES and KS done for: 2014_2011_F03D\n",
      "ES and KS done for: 2014_2012_F03D\n",
      "ES and KS done for: 2014_2013_F03D\n",
      "df_KS shape:  (6, 10)\n",
      "df_ES shape:  (0, 10)\n",
      "ES and KS done for: 2014_2011_H01L\n",
      "ES and KS done for: 2014_2012_H01L\n",
      "ES and KS done for: 2014_2013_H01L\n",
      "df_KS shape:  (184, 10)\n",
      "df_ES shape:  (0, 10)\n",
      "ES and KS done for: 2014_2011_H04W\n",
      "ES and KS done for: 2014_2012_H04W\n",
      "ES and KS done for: 2014_2013_H04W\n",
      "df_KS shape:  (91, 10)\n",
      "df_ES shape:  (18, 10)\n",
      "ES and KS done for: 2014_2011_C23C\n",
      "ES and KS done for: 2014_2012_C23C\n",
      "ES and KS done for: 2014_2013_C23C\n",
      "df_KS shape:  (6, 10)\n",
      "df_ES shape:  (0, 10)\n",
      "ES and KS done for: 2014_2011_D21B\n",
      "ES and KS done for: 2014_2012_D21B\n",
      "ES and KS done for: 2014_2013_D21B\n",
      "df_KS shape:  (0, 10)\n",
      "df_ES shape:  (0, 10)\n",
      "ES and KS done for: 2014_2011_F04C\n",
      "ES and KS done for: 2014_2012_F04C\n",
      "ES and KS done for: 2014_2013_F04C\n",
      "df_KS shape:  (2, 10)\n",
      "df_ES shape:  (0, 10)\n",
      "Create toEval, iterate through all patents of current year 2015\n"
     ]
    },
    {
     "name": "stderr",
     "output_type": "stream",
     "text": [
      "100%|██████████| 1000/1000 [00:00<00:00, 1310.77it/s]\n"
     ]
    },
    {
     "name": "stdout",
     "output_type": "stream",
     "text": [
      "toEval done for G06F in 2015 \n",
      "toEval shape:  (54, 9)\n",
      "Number of secondary IPC for G06F in 2015:  22\n",
      "toEval done for G01N in 2015 \n",
      "toEval shape:  (11, 9)\n",
      "Number of secondary IPC for G01N in 2015:  4\n",
      "toEval done for A61B in 2015 \n",
      "toEval shape:  (16, 9)\n",
      "Number of secondary IPC for A61B in 2015:  8\n",
      "toEval done for B60L in 2015 \n",
      "toEval shape:  (3, 9)\n",
      "Number of secondary IPC for B60L in 2015:  2\n",
      "toEval done for E21B in 2015 \n",
      "toEval shape:  (6, 9)\n",
      "Number of secondary IPC for E21B in 2015:  4\n",
      "toEval done for F03D in 2015 \n",
      "toEval shape:  (3, 9)\n",
      "Number of secondary IPC for F03D in 2015:  3\n",
      "toEval done for H01L in 2015 \n",
      "toEval shape:  (52, 9)\n",
      "Number of secondary IPC for H01L in 2015:  26\n",
      "toEval done for H04W in 2015 \n",
      "toEval shape:  (29, 9)\n",
      "Number of secondary IPC for H04W in 2015:  16\n",
      "toEval done for C23C in 2015 \n",
      "toEval shape:  (0, 9)\n",
      "Number of secondary IPC for C23C in 2015:  0\n",
      "toEval done for D21B in 2015 \n",
      "toEval shape:  (0, 9)\n",
      "Number of secondary IPC for D21B in 2015:  0\n",
      "toEval done for F04C in 2015 \n",
      "toEval shape:  (0, 9)\n",
      "Number of secondary IPC for F04C in 2015:  0\n",
      "Iterating through patents of reference year 2012 for evalYear 2015\n"
     ]
    },
    {
     "name": "stderr",
     "output_type": "stream",
     "text": [
      "100%|██████████| 1000/1000 [00:00<00:00, 1910.66it/s]\n"
     ]
    },
    {
     "name": "stdout",
     "output_type": "stream",
     "text": [
      "Iterating through patents of reference year 2013 for evalYear 2015\n"
     ]
    },
    {
     "name": "stderr",
     "output_type": "stream",
     "text": [
      "100%|██████████| 1000/1000 [00:00<00:00, 1165.58it/s]\n"
     ]
    },
    {
     "name": "stdout",
     "output_type": "stream",
     "text": [
      "Iterating through patents of reference year 2014 for evalYear 2015\n"
     ]
    },
    {
     "name": "stderr",
     "output_type": "stream",
     "text": [
      "100%|██████████| 1000/1000 [00:00<00:00, 2280.37it/s]\n"
     ]
    },
    {
     "name": "stdout",
     "output_type": "stream",
     "text": [
      "ES and KS done for: 2015_2012_G06F\n",
      "ES and KS done for: 2015_2013_G06F\n",
      "ES and KS done for: 2015_2014_G06F\n",
      "df_KS shape:  (314, 10)\n",
      "df_ES shape:  (60, 10)\n",
      "ES and KS done for: 2015_2012_G01N\n",
      "ES and KS done for: 2015_2013_G01N\n",
      "ES and KS done for: 2015_2014_G01N\n",
      "df_KS shape:  (59, 10)\n",
      "df_ES shape:  (1, 10)\n",
      "ES and KS done for: 2015_2012_A61B\n",
      "ES and KS done for: 2015_2013_A61B\n",
      "ES and KS done for: 2015_2014_A61B\n",
      "df_KS shape:  (80, 10)\n",
      "df_ES shape:  (4, 10)\n",
      "ES and KS done for: 2015_2012_B60L\n",
      "ES and KS done for: 2015_2013_B60L\n",
      "ES and KS done for: 2015_2014_B60L\n",
      "df_KS shape:  (5, 10)\n",
      "df_ES shape:  (1, 10)\n",
      "ES and KS done for: 2015_2012_E21B\n",
      "ES and KS done for: 2015_2013_E21B\n",
      "ES and KS done for: 2015_2014_E21B\n",
      "df_KS shape:  (24, 10)\n",
      "df_ES shape:  (1, 10)\n",
      "ES and KS done for: 2015_2012_F03D\n",
      "ES and KS done for: 2015_2013_F03D\n",
      "ES and KS done for: 2015_2014_F03D\n",
      "df_KS shape:  (4, 10)\n",
      "df_ES shape:  (0, 10)\n",
      "ES and KS done for: 2015_2012_H01L\n",
      "ES and KS done for: 2015_2013_H01L\n",
      "ES and KS done for: 2015_2014_H01L\n",
      "df_KS shape:  (155, 10)\n",
      "df_ES shape:  (25, 10)\n",
      "ES and KS done for: 2015_2012_H04W\n",
      "ES and KS done for: 2015_2013_H04W\n",
      "ES and KS done for: 2015_2014_H04W\n",
      "df_KS shape:  (103, 10)\n",
      "df_ES shape:  (73, 10)\n",
      "ES and KS done for: 2015_2012_C23C\n",
      "ES and KS done for: 2015_2013_C23C\n",
      "ES and KS done for: 2015_2014_C23C\n",
      "df_KS shape:  (5, 10)\n",
      "df_ES shape:  (0, 10)\n",
      "ES and KS done for: 2015_2012_D21B\n",
      "ES and KS done for: 2015_2013_D21B\n",
      "ES and KS done for: 2015_2014_D21B\n",
      "df_KS shape:  (0, 10)\n",
      "df_ES shape:  (0, 10)\n",
      "ES and KS done for: 2015_2012_F04C\n",
      "ES and KS done for: 2015_2013_F04C\n",
      "ES and KS done for: 2015_2014_F04C\n",
      "df_KS shape:  (2, 10)\n",
      "df_ES shape:  (0, 10)\n",
      "Create toEval, iterate through all patents of current year 2016\n"
     ]
    },
    {
     "name": "stderr",
     "output_type": "stream",
     "text": [
      "100%|██████████| 1000/1000 [00:00<00:00, 1903.03it/s]\n"
     ]
    },
    {
     "name": "stdout",
     "output_type": "stream",
     "text": [
      "toEval done for G06F in 2016 \n",
      "toEval shape:  (19, 9)\n",
      "Number of secondary IPC for G06F in 2016:  9\n",
      "toEval done for G01N in 2016 \n",
      "toEval shape:  (4, 9)\n",
      "Number of secondary IPC for G01N in 2016:  3\n",
      "toEval done for A61B in 2016 \n",
      "toEval shape:  (3, 9)\n",
      "Number of secondary IPC for A61B in 2016:  6\n",
      "toEval done for B60L in 2016 \n",
      "toEval shape:  (0, 9)\n",
      "Number of secondary IPC for B60L in 2016:  0\n",
      "toEval done for E21B in 2016 \n",
      "toEval shape:  (0, 9)\n",
      "Number of secondary IPC for E21B in 2016:  0\n",
      "toEval done for F03D in 2016 \n",
      "toEval shape:  (0, 9)\n",
      "Number of secondary IPC for F03D in 2016:  0\n",
      "toEval done for H01L in 2016 \n",
      "toEval shape:  (34, 9)\n",
      "Number of secondary IPC for H01L in 2016:  20\n",
      "toEval done for H04W in 2016 \n",
      "toEval shape:  (13, 9)\n",
      "Number of secondary IPC for H04W in 2016:  7\n",
      "toEval done for C23C in 2016 \n",
      "toEval shape:  (1, 9)\n",
      "Number of secondary IPC for C23C in 2016:  2\n",
      "toEval done for D21B in 2016 \n",
      "toEval shape:  (0, 9)\n",
      "Number of secondary IPC for D21B in 2016:  0\n",
      "toEval done for F04C in 2016 \n",
      "toEval shape:  (0, 9)\n",
      "Number of secondary IPC for F04C in 2016:  0\n",
      "Iterating through patents of reference year 2013 for evalYear 2016\n"
     ]
    },
    {
     "name": "stderr",
     "output_type": "stream",
     "text": [
      "100%|██████████| 1000/1000 [00:00<00:00, 1474.24it/s]\n"
     ]
    },
    {
     "name": "stdout",
     "output_type": "stream",
     "text": [
      "Iterating through patents of reference year 2014 for evalYear 2016\n"
     ]
    },
    {
     "name": "stderr",
     "output_type": "stream",
     "text": [
      "100%|██████████| 1000/1000 [00:00<00:00, 2457.22it/s]\n"
     ]
    },
    {
     "name": "stdout",
     "output_type": "stream",
     "text": [
      "Iterating through patents of reference year 2015 for evalYear 2016\n"
     ]
    },
    {
     "name": "stderr",
     "output_type": "stream",
     "text": [
      "100%|██████████| 1000/1000 [00:00<00:00, 1927.89it/s]\n"
     ]
    },
    {
     "name": "stdout",
     "output_type": "stream",
     "text": [
      "ES and KS done for: 2016_2013_G06F\n",
      "ES and KS done for: 2016_2014_G06F\n",
      "ES and KS done for: 2016_2015_G06F\n",
      "df_KS shape:  (254, 10)\n",
      "df_ES shape:  (7, 10)\n",
      "ES and KS done for: 2016_2013_G01N\n",
      "ES and KS done for: 2016_2014_G01N\n",
      "ES and KS done for: 2016_2015_G01N\n",
      "df_KS shape:  (60, 10)\n",
      "df_ES shape:  (0, 10)\n",
      "ES and KS done for: 2016_2013_A61B\n",
      "ES and KS done for: 2016_2014_A61B\n",
      "ES and KS done for: 2016_2015_A61B\n",
      "df_KS shape:  (80, 10)\n",
      "df_ES shape:  (20, 10)\n",
      "ES and KS done for: 2016_2013_B60L\n",
      "ES and KS done for: 2016_2014_B60L\n",
      "ES and KS done for: 2016_2015_B60L\n",
      "df_KS shape:  (6, 10)\n",
      "df_ES shape:  (0, 10)\n",
      "ES and KS done for: 2016_2013_E21B\n",
      "ES and KS done for: 2016_2014_E21B\n",
      "ES and KS done for: 2016_2015_E21B\n",
      "df_KS shape:  (24, 10)\n",
      "df_ES shape:  (0, 10)\n",
      "ES and KS done for: 2016_2013_F03D\n",
      "ES and KS done for: 2016_2014_F03D\n",
      "ES and KS done for: 2016_2015_F03D\n",
      "df_KS shape:  (5, 10)\n",
      "df_ES shape:  (0, 10)\n",
      "ES and KS done for: 2016_2013_H01L\n",
      "ES and KS done for: 2016_2014_H01L\n",
      "ES and KS done for: 2016_2015_H01L\n",
      "df_KS shape:  (155, 10)\n",
      "df_ES shape:  (36, 10)\n",
      "ES and KS done for: 2016_2013_H04W\n",
      "ES and KS done for: 2016_2014_H04W\n",
      "ES and KS done for: 2016_2015_H04W\n",
      "df_KS shape:  (100, 10)\n",
      "df_ES shape:  (9, 10)\n",
      "ES and KS done for: 2016_2013_C23C\n",
      "ES and KS done for: 2016_2014_C23C\n",
      "ES and KS done for: 2016_2015_C23C\n",
      "df_KS shape:  (2, 10)\n",
      "df_ES shape:  (10, 10)\n",
      "ES and KS done for: 2016_2013_D21B\n",
      "ES and KS done for: 2016_2014_D21B\n",
      "ES and KS done for: 2016_2015_D21B\n",
      "df_KS shape:  (0, 10)\n",
      "df_ES shape:  (0, 10)\n",
      "ES and KS done for: 2016_2013_F04C\n",
      "ES and KS done for: 2016_2014_F04C\n",
      "ES and KS done for: 2016_2015_F04C\n",
      "df_KS shape:  (2, 10)\n",
      "df_ES shape:  (0, 10)\n",
      "All 3 reference years for eval year 2016 present\n",
      "Create toEval, iterate through all patents of current year 2011\n"
     ]
    },
    {
     "name": "stderr",
     "output_type": "stream",
     "text": [
      "100%|██████████| 1000/1000 [00:00<00:00, 1902.21it/s]\n"
     ]
    },
    {
     "name": "stdout",
     "output_type": "stream",
     "text": [
      "toEval done for G06F in 2011 \n",
      "toEval shape:  (117, 9)\n",
      "Number of secondary IPC for G06F in 2011:  9\n",
      "toEval done for G01N in 2011 \n",
      "toEval shape:  (19, 9)\n",
      "Number of secondary IPC for G01N in 2011:  14\n",
      "toEval done for A61B in 2011 \n",
      "toEval shape:  (11, 9)\n",
      "Number of secondary IPC for A61B in 2011:  0\n",
      "toEval done for B60L in 2011 \n",
      "toEval shape:  (1, 9)\n",
      "Number of secondary IPC for B60L in 2011:  0\n",
      "toEval done for E21B in 2011 \n",
      "toEval shape:  (8, 9)\n",
      "Number of secondary IPC for E21B in 2011:  8\n",
      "toEval done for F03D in 2011 \n",
      "toEval shape:  (3, 9)\n",
      "Number of secondary IPC for F03D in 2011:  0\n",
      "toEval done for H01L in 2011 \n",
      "toEval shape:  (72, 9)\n",
      "Number of secondary IPC for H01L in 2011:  22\n",
      "toEval done for H04W in 2011 \n",
      "toEval shape:  (19, 9)\n",
      "Number of secondary IPC for H04W in 2011:  1\n",
      "toEval done for C23C in 2011 \n",
      "toEval shape:  (3, 9)\n",
      "Number of secondary IPC for C23C in 2011:  5\n",
      "toEval done for D21B in 2011 \n",
      "toEval shape:  (0, 9)\n",
      "Number of secondary IPC for D21B in 2011:  0\n",
      "toEval done for F04C in 2011 \n",
      "toEval shape:  (0, 9)\n",
      "Number of secondary IPC for F04C in 2011:  0\n",
      "Iterating through patents of reference year 2008 for evalYear 2011\n"
     ]
    },
    {
     "name": "stderr",
     "output_type": "stream",
     "text": [
      "100%|██████████| 1000/1000 [00:00<00:00, 1576.30it/s]\n"
     ]
    },
    {
     "name": "stdout",
     "output_type": "stream",
     "text": [
      "Iterating through patents of reference year 2009 for evalYear 2011\n"
     ]
    },
    {
     "name": "stderr",
     "output_type": "stream",
     "text": [
      "100%|██████████| 1000/1000 [00:00<00:00, 2115.71it/s]\n"
     ]
    },
    {
     "name": "stdout",
     "output_type": "stream",
     "text": [
      "Iterating through patents of reference year 2010 for evalYear 2011\n"
     ]
    },
    {
     "name": "stderr",
     "output_type": "stream",
     "text": [
      "100%|██████████| 1000/1000 [00:00<00:00, 2272.88it/s]\n"
     ]
    },
    {
     "name": "stdout",
     "output_type": "stream",
     "text": [
      "ES and KS done for: 2011_2008_G06F\n",
      "ES and KS done for: 2011_2009_G06F\n",
      "ES and KS done for: 2011_2010_G06F\n",
      "df_KS shape:  (308, 10)\n",
      "df_ES shape:  (7, 10)\n",
      "ES and KS done for: 2011_2008_G01N\n",
      "ES and KS done for: 2011_2009_G01N\n",
      "ES and KS done for: 2011_2010_G01N\n",
      "df_KS shape:  (43, 10)\n",
      "df_ES shape:  (25, 10)\n",
      "ES and KS done for: 2011_2008_A61B\n",
      "ES and KS done for: 2011_2009_A61B\n",
      "ES and KS done for: 2011_2010_A61B\n",
      "df_KS shape:  (67, 10)\n",
      "df_ES shape:  (0, 10)\n",
      "ES and KS done for: 2011_2008_B60L\n",
      "ES and KS done for: 2011_2009_B60L\n",
      "ES and KS done for: 2011_2010_B60L\n",
      "df_KS shape:  (1, 10)\n",
      "df_ES shape:  (0, 10)\n",
      "ES and KS done for: 2011_2008_E21B\n",
      "ES and KS done for: 2011_2009_E21B\n",
      "ES and KS done for: 2011_2010_E21B\n",
      "df_KS shape:  (25, 10)\n",
      "df_ES shape:  (0, 10)\n",
      "ES and KS done for: 2011_2008_F03D\n",
      "ES and KS done for: 2011_2009_F03D\n",
      "ES and KS done for: 2011_2010_F03D\n",
      "df_KS shape:  (5, 10)\n",
      "df_ES shape:  (0, 10)\n",
      "ES and KS done for: 2011_2008_H01L\n",
      "ES and KS done for: 2011_2009_H01L\n",
      "ES and KS done for: 2011_2010_H01L\n",
      "df_KS shape:  (175, 10)\n",
      "df_ES shape:  (20, 10)\n",
      "ES and KS done for: 2011_2008_H04W\n",
      "ES and KS done for: 2011_2009_H04W\n",
      "ES and KS done for: 2011_2010_H04W\n",
      "df_KS shape:  (50, 10)\n",
      "df_ES shape:  (3, 10)\n",
      "ES and KS done for: 2011_2008_C23C\n",
      "ES and KS done for: 2011_2009_C23C\n",
      "ES and KS done for: 2011_2010_C23C\n",
      "df_KS shape:  (6, 10)\n",
      "df_ES shape:  (1, 10)\n",
      "ES and KS done for: 2011_2008_D21B\n",
      "ES and KS done for: 2011_2009_D21B\n",
      "ES and KS done for: 2011_2010_D21B\n",
      "df_KS shape:  (0, 10)\n",
      "df_ES shape:  (0, 10)\n",
      "ES and KS done for: 2011_2008_F04C\n",
      "ES and KS done for: 2011_2009_F04C\n",
      "ES and KS done for: 2011_2010_F04C\n",
      "df_KS shape:  (0, 10)\n",
      "df_ES shape:  (0, 10)\n",
      "Create toEval, iterate through all patents of current year 2012\n"
     ]
    },
    {
     "name": "stderr",
     "output_type": "stream",
     "text": [
      "100%|██████████| 1000/1000 [00:00<00:00, 2548.84it/s]\n"
     ]
    },
    {
     "name": "stdout",
     "output_type": "stream",
     "text": [
      "toEval done for G06F in 2012 \n",
      "toEval shape:  (123, 9)\n",
      "Number of secondary IPC for G06F in 2012:  6\n",
      "toEval done for G01N in 2012 \n",
      "toEval shape:  (15, 9)\n",
      "Number of secondary IPC for G01N in 2012:  21\n",
      "toEval done for A61B in 2012 \n",
      "toEval shape:  (20, 9)\n",
      "Number of secondary IPC for A61B in 2012:  5\n",
      "toEval done for B60L in 2012 \n",
      "toEval shape:  (2, 9)\n",
      "Number of secondary IPC for B60L in 2012:  1\n",
      "toEval done for E21B in 2012 \n",
      "toEval shape:  (8, 9)\n",
      "Number of secondary IPC for E21B in 2012:  1\n",
      "toEval done for F03D in 2012 \n",
      "toEval shape:  (2, 9)\n",
      "Number of secondary IPC for F03D in 2012:  1\n",
      "toEval done for H01L in 2012 \n",
      "toEval shape:  (57, 9)\n",
      "Number of secondary IPC for H01L in 2012:  17\n",
      "toEval done for H04W in 2012 \n",
      "toEval shape:  (33, 9)\n",
      "Number of secondary IPC for H04W in 2012:  5\n",
      "toEval done for C23C in 2012 \n",
      "toEval shape:  (3, 9)\n",
      "Number of secondary IPC for C23C in 2012:  1\n",
      "toEval done for D21B in 2012 \n",
      "toEval shape:  (0, 9)\n",
      "Number of secondary IPC for D21B in 2012:  0\n",
      "toEval done for F04C in 2012 \n",
      "toEval shape:  (0, 9)\n",
      "Number of secondary IPC for F04C in 2012:  0\n",
      "Iterating through patents of reference year 2009 for evalYear 2012\n"
     ]
    },
    {
     "name": "stderr",
     "output_type": "stream",
     "text": [
      "100%|██████████| 1000/1000 [00:00<00:00, 1238.98it/s]\n"
     ]
    },
    {
     "name": "stdout",
     "output_type": "stream",
     "text": [
      "Iterating through patents of reference year 2010 for evalYear 2012\n"
     ]
    },
    {
     "name": "stderr",
     "output_type": "stream",
     "text": [
      "100%|██████████| 1000/1000 [00:00<00:00, 1802.34it/s]\n"
     ]
    },
    {
     "name": "stdout",
     "output_type": "stream",
     "text": [
      "Iterating through patents of reference year 2011 for evalYear 2012\n"
     ]
    },
    {
     "name": "stderr",
     "output_type": "stream",
     "text": [
      "100%|██████████| 1000/1000 [00:00<00:00, 1452.34it/s]\n"
     ]
    },
    {
     "name": "stdout",
     "output_type": "stream",
     "text": [
      "ES and KS done for: 2012_2009_G06F\n",
      "ES and KS done for: 2012_2010_G06F\n",
      "ES and KS done for: 2012_2011_G06F\n",
      "df_KS shape:  (324, 10)\n",
      "df_ES shape:  (13, 10)\n",
      "ES and KS done for: 2012_2009_G01N\n",
      "ES and KS done for: 2012_2010_G01N\n",
      "ES and KS done for: 2012_2011_G01N\n",
      "df_KS shape:  (47, 10)\n",
      "df_ES shape:  (11, 10)\n",
      "ES and KS done for: 2012_2009_A61B\n",
      "ES and KS done for: 2012_2010_A61B\n",
      "ES and KS done for: 2012_2011_A61B\n",
      "df_KS shape:  (56, 10)\n",
      "df_ES shape:  (21, 10)\n",
      "ES and KS done for: 2012_2009_B60L\n",
      "ES and KS done for: 2012_2010_B60L\n",
      "ES and KS done for: 2012_2011_B60L\n",
      "df_KS shape:  (1, 10)\n",
      "df_ES shape:  (0, 10)\n",
      "ES and KS done for: 2012_2009_E21B\n",
      "ES and KS done for: 2012_2010_E21B\n",
      "ES and KS done for: 2012_2011_E21B\n",
      "df_KS shape:  (26, 10)\n",
      "df_ES shape:  (1, 10)\n",
      "ES and KS done for: 2012_2009_F03D\n",
      "ES and KS done for: 2012_2010_F03D\n",
      "ES and KS done for: 2012_2011_F03D\n",
      "df_KS shape:  (8, 10)\n",
      "df_ES shape:  (0, 10)\n",
      "ES and KS done for: 2012_2009_H01L\n",
      "ES and KS done for: 2012_2010_H01L\n",
      "ES and KS done for: 2012_2011_H01L\n",
      "df_KS shape:  (189, 10)\n",
      "df_ES shape:  (6, 10)\n",
      "ES and KS done for: 2012_2009_H04W\n",
      "ES and KS done for: 2012_2010_H04W\n",
      "ES and KS done for: 2012_2011_H04W\n",
      "df_KS shape:  (61, 10)\n",
      "df_ES shape:  (8, 10)\n",
      "ES and KS done for: 2012_2009_C23C\n",
      "ES and KS done for: 2012_2010_C23C\n",
      "ES and KS done for: 2012_2011_C23C\n",
      "df_KS shape:  (6, 10)\n",
      "df_ES shape:  (0, 10)\n",
      "ES and KS done for: 2012_2009_D21B\n",
      "ES and KS done for: 2012_2010_D21B\n",
      "ES and KS done for: 2012_2011_D21B\n",
      "df_KS shape:  (0, 10)\n",
      "df_ES shape:  (0, 10)\n",
      "ES and KS done for: 2012_2009_F04C\n",
      "ES and KS done for: 2012_2010_F04C\n",
      "ES and KS done for: 2012_2011_F04C\n",
      "df_KS shape:  (0, 10)\n",
      "df_ES shape:  (0, 10)\n",
      "Create toEval, iterate through all patents of current year 2013\n"
     ]
    },
    {
     "name": "stderr",
     "output_type": "stream",
     "text": [
      "100%|██████████| 1000/1000 [00:00<00:00, 2175.00it/s]\n"
     ]
    },
    {
     "name": "stdout",
     "output_type": "stream",
     "text": [
      "toEval done for G06F in 2013 \n",
      "toEval shape:  (105, 9)\n",
      "Number of secondary IPC for G06F in 2013:  8\n",
      "toEval done for G01N in 2013 \n",
      "toEval shape:  (22, 9)\n",
      "Number of secondary IPC for G01N in 2013:  5\n",
      "toEval done for A61B in 2013 \n",
      "toEval shape:  (30, 9)\n",
      "Number of secondary IPC for A61B in 2013:  6\n",
      "toEval done for B60L in 2013 \n",
      "toEval shape:  (1, 9)\n",
      "Number of secondary IPC for B60L in 2013:  1\n",
      "toEval done for E21B in 2013 \n",
      "toEval shape:  (7, 9)\n",
      "Number of secondary IPC for E21B in 2013:  0\n",
      "toEval done for F03D in 2013 \n",
      "toEval shape:  (1, 9)\n",
      "Number of secondary IPC for F03D in 2013:  0\n",
      "toEval done for H01L in 2013 \n",
      "toEval shape:  (54, 9)\n",
      "Number of secondary IPC for H01L in 2013:  4\n",
      "toEval done for H04W in 2013 \n",
      "toEval shape:  (39, 9)\n",
      "Number of secondary IPC for H04W in 2013:  1\n",
      "toEval done for C23C in 2013 \n",
      "toEval shape:  (0, 9)\n",
      "Number of secondary IPC for C23C in 2013:  0\n",
      "toEval done for D21B in 2013 \n",
      "toEval shape:  (0, 9)\n",
      "Number of secondary IPC for D21B in 2013:  0\n",
      "toEval done for F04C in 2013 \n",
      "toEval shape:  (2, 9)\n",
      "Number of secondary IPC for F04C in 2013:  1\n",
      "Iterating through patents of reference year 2010 for evalYear 2013\n"
     ]
    },
    {
     "name": "stderr",
     "output_type": "stream",
     "text": [
      "100%|██████████| 1000/1000 [00:00<00:00, 1208.05it/s]\n"
     ]
    },
    {
     "name": "stdout",
     "output_type": "stream",
     "text": [
      "Iterating through patents of reference year 2011 for evalYear 2013\n"
     ]
    },
    {
     "name": "stderr",
     "output_type": "stream",
     "text": [
      "100%|██████████| 1000/1000 [00:00<00:00, 1204.64it/s]\n"
     ]
    },
    {
     "name": "stdout",
     "output_type": "stream",
     "text": [
      "Iterating through patents of reference year 2012 for evalYear 2013\n"
     ]
    },
    {
     "name": "stderr",
     "output_type": "stream",
     "text": [
      "100%|██████████| 1000/1000 [00:00<00:00, 1749.87it/s]\n"
     ]
    },
    {
     "name": "stdout",
     "output_type": "stream",
     "text": [
      "ES and KS done for: 2013_2010_G06F\n",
      "ES and KS done for: 2013_2011_G06F\n",
      "ES and KS done for: 2013_2012_G06F\n",
      "df_KS shape:  (358, 10)\n",
      "df_ES shape:  (8, 10)\n",
      "ES and KS done for: 2013_2010_G01N\n",
      "ES and KS done for: 2013_2011_G01N\n",
      "ES and KS done for: 2013_2012_G01N\n",
      "df_KS shape:  (46, 10)\n",
      "df_ES shape:  (12, 10)\n",
      "ES and KS done for: 2013_2010_A61B\n",
      "ES and KS done for: 2013_2011_A61B\n",
      "ES and KS done for: 2013_2012_A61B\n",
      "df_KS shape:  (51, 10)\n",
      "df_ES shape:  (4, 10)\n",
      "ES and KS done for: 2013_2010_B60L\n",
      "ES and KS done for: 2013_2011_B60L\n",
      "ES and KS done for: 2013_2012_B60L\n",
      "df_KS shape:  (3, 10)\n",
      "df_ES shape:  (1, 10)\n",
      "ES and KS done for: 2013_2010_E21B\n",
      "ES and KS done for: 2013_2011_E21B\n",
      "ES and KS done for: 2013_2012_E21B\n",
      "df_KS shape:  (25, 10)\n",
      "df_ES shape:  (0, 10)\n",
      "ES and KS done for: 2013_2010_F03D\n",
      "ES and KS done for: 2013_2011_F03D\n",
      "ES and KS done for: 2013_2012_F03D\n",
      "df_KS shape:  (7, 10)\n",
      "df_ES shape:  (0, 10)\n",
      "ES and KS done for: 2013_2010_H01L\n",
      "ES and KS done for: 2013_2011_H01L\n",
      "ES and KS done for: 2013_2012_H01L\n",
      "df_KS shape:  (192, 10)\n",
      "df_ES shape:  (4, 10)\n",
      "ES and KS done for: 2013_2010_H04W\n",
      "ES and KS done for: 2013_2011_H04W\n",
      "ES and KS done for: 2013_2012_H04W\n",
      "df_KS shape:  (73, 10)\n",
      "df_ES shape:  (2, 10)\n",
      "ES and KS done for: 2013_2010_C23C\n",
      "ES and KS done for: 2013_2011_C23C\n",
      "ES and KS done for: 2013_2012_C23C\n",
      "df_KS shape:  (9, 10)\n",
      "df_ES shape:  (0, 10)\n",
      "ES and KS done for: 2013_2010_D21B\n",
      "ES and KS done for: 2013_2011_D21B\n",
      "ES and KS done for: 2013_2012_D21B\n",
      "df_KS shape:  (0, 10)\n",
      "df_ES shape:  (0, 10)\n",
      "ES and KS done for: 2013_2010_F04C\n",
      "ES and KS done for: 2013_2011_F04C\n",
      "ES and KS done for: 2013_2012_F04C\n",
      "df_KS shape:  (0, 10)\n",
      "df_ES shape:  (0, 10)\n",
      "Create toEval, iterate through all patents of current year 2014\n"
     ]
    },
    {
     "name": "stderr",
     "output_type": "stream",
     "text": [
      "100%|██████████| 1000/1000 [00:00<00:00, 1474.52it/s]\n"
     ]
    },
    {
     "name": "stdout",
     "output_type": "stream",
     "text": [
      "toEval done for G06F in 2014 \n",
      "toEval shape:  (68, 9)\n",
      "Number of secondary IPC for G06F in 2014:  20\n",
      "toEval done for G01N in 2014 \n",
      "toEval shape:  (21, 9)\n",
      "Number of secondary IPC for G01N in 2014:  16\n",
      "toEval done for A61B in 2014 \n",
      "toEval shape:  (19, 9)\n",
      "Number of secondary IPC for A61B in 2014:  6\n",
      "toEval done for B60L in 2014 \n",
      "toEval shape:  (2, 9)\n",
      "Number of secondary IPC for B60L in 2014:  3\n",
      "toEval done for E21B in 2014 \n",
      "toEval shape:  (9, 9)\n",
      "Number of secondary IPC for E21B in 2014:  10\n",
      "toEval done for F03D in 2014 \n",
      "toEval shape:  (1, 9)\n",
      "Number of secondary IPC for F03D in 2014:  0\n",
      "toEval done for H01L in 2014 \n",
      "toEval shape:  (44, 9)\n",
      "Number of secondary IPC for H01L in 2014:  9\n",
      "toEval done for H04W in 2014 \n",
      "toEval shape:  (30, 9)\n",
      "Number of secondary IPC for H04W in 2014:  5\n",
      "toEval done for C23C in 2014 \n",
      "toEval shape:  (2, 9)\n",
      "Number of secondary IPC for C23C in 2014:  0\n",
      "toEval done for D21B in 2014 \n",
      "toEval shape:  (0, 9)\n",
      "Number of secondary IPC for D21B in 2014:  0\n",
      "toEval done for F04C in 2014 \n",
      "toEval shape:  (0, 9)\n",
      "Number of secondary IPC for F04C in 2014:  0\n",
      "Iterating through patents of reference year 2011 for evalYear 2014\n"
     ]
    },
    {
     "name": "stderr",
     "output_type": "stream",
     "text": [
      "100%|██████████| 1000/1000 [00:01<00:00, 711.62it/s]\n"
     ]
    },
    {
     "name": "stdout",
     "output_type": "stream",
     "text": [
      "Iterating through patents of reference year 2012 for evalYear 2014\n"
     ]
    },
    {
     "name": "stderr",
     "output_type": "stream",
     "text": [
      "100%|██████████| 1000/1000 [00:01<00:00, 720.78it/s]\n"
     ]
    },
    {
     "name": "stdout",
     "output_type": "stream",
     "text": [
      "Iterating through patents of reference year 2013 for evalYear 2014\n"
     ]
    },
    {
     "name": "stderr",
     "output_type": "stream",
     "text": [
      "100%|██████████| 1000/1000 [00:00<00:00, 2110.27it/s]\n"
     ]
    },
    {
     "name": "stdout",
     "output_type": "stream",
     "text": [
      "ES and KS done for: 2014_2011_G06F\n",
      "ES and KS done for: 2014_2012_G06F\n",
      "ES and KS done for: 2014_2013_G06F\n",
      "df_KS shape:  (358, 10)\n",
      "df_ES shape:  (49, 10)\n",
      "ES and KS done for: 2014_2011_G01N\n",
      "ES and KS done for: 2014_2012_G01N\n",
      "ES and KS done for: 2014_2013_G01N\n",
      "df_KS shape:  (56, 10)\n",
      "df_ES shape:  (19, 10)\n",
      "ES and KS done for: 2014_2011_A61B\n",
      "ES and KS done for: 2014_2012_A61B\n",
      "ES and KS done for: 2014_2013_A61B\n",
      "df_KS shape:  (63, 10)\n",
      "df_ES shape:  (4, 10)\n",
      "ES and KS done for: 2014_2011_B60L\n",
      "ES and KS done for: 2014_2012_B60L\n",
      "ES and KS done for: 2014_2013_B60L\n",
      "df_KS shape:  (4, 10)\n",
      "df_ES shape:  (5, 10)\n",
      "ES and KS done for: 2014_2011_E21B\n",
      "ES and KS done for: 2014_2012_E21B\n",
      "ES and KS done for: 2014_2013_E21B\n",
      "df_KS shape:  (23, 10)\n",
      "df_ES shape:  (2, 10)\n",
      "ES and KS done for: 2014_2011_F03D\n",
      "ES and KS done for: 2014_2012_F03D\n",
      "ES and KS done for: 2014_2013_F03D\n",
      "df_KS shape:  (6, 10)\n",
      "df_ES shape:  (0, 10)\n",
      "ES and KS done for: 2014_2011_H01L\n",
      "ES and KS done for: 2014_2012_H01L\n",
      "ES and KS done for: 2014_2013_H01L\n",
      "df_KS shape:  (184, 10)\n",
      "df_ES shape:  (0, 10)\n",
      "ES and KS done for: 2014_2011_H04W\n",
      "ES and KS done for: 2014_2012_H04W\n",
      "ES and KS done for: 2014_2013_H04W\n",
      "df_KS shape:  (91, 10)\n",
      "df_ES shape:  (18, 10)\n",
      "ES and KS done for: 2014_2011_C23C\n",
      "ES and KS done for: 2014_2012_C23C\n",
      "ES and KS done for: 2014_2013_C23C\n",
      "df_KS shape:  (6, 10)\n",
      "df_ES shape:  (0, 10)\n",
      "ES and KS done for: 2014_2011_D21B\n",
      "ES and KS done for: 2014_2012_D21B\n",
      "ES and KS done for: 2014_2013_D21B\n",
      "df_KS shape:  (0, 10)\n",
      "df_ES shape:  (0, 10)\n",
      "ES and KS done for: 2014_2011_F04C\n",
      "ES and KS done for: 2014_2012_F04C\n",
      "ES and KS done for: 2014_2013_F04C\n",
      "df_KS shape:  (2, 10)\n",
      "df_ES shape:  (0, 10)\n",
      "Create toEval, iterate through all patents of current year 2015\n"
     ]
    },
    {
     "name": "stderr",
     "output_type": "stream",
     "text": [
      "100%|██████████| 1000/1000 [00:00<00:00, 2311.86it/s]\n"
     ]
    },
    {
     "name": "stdout",
     "output_type": "stream",
     "text": [
      "toEval done for G06F in 2015 \n",
      "toEval shape:  (54, 9)\n",
      "Number of secondary IPC for G06F in 2015:  22\n",
      "toEval done for G01N in 2015 \n",
      "toEval shape:  (11, 9)\n",
      "Number of secondary IPC for G01N in 2015:  4\n",
      "toEval done for A61B in 2015 \n",
      "toEval shape:  (16, 9)\n",
      "Number of secondary IPC for A61B in 2015:  8\n",
      "toEval done for B60L in 2015 \n",
      "toEval shape:  (3, 9)\n",
      "Number of secondary IPC for B60L in 2015:  2\n",
      "toEval done for E21B in 2015 \n",
      "toEval shape:  (6, 9)\n",
      "Number of secondary IPC for E21B in 2015:  4\n",
      "toEval done for F03D in 2015 \n",
      "toEval shape:  (3, 9)\n",
      "Number of secondary IPC for F03D in 2015:  3\n",
      "toEval done for H01L in 2015 \n",
      "toEval shape:  (52, 9)\n",
      "Number of secondary IPC for H01L in 2015:  26\n",
      "toEval done for H04W in 2015 \n",
      "toEval shape:  (29, 9)\n",
      "Number of secondary IPC for H04W in 2015:  16\n",
      "toEval done for C23C in 2015 \n",
      "toEval shape:  (0, 9)\n",
      "Number of secondary IPC for C23C in 2015:  0\n",
      "toEval done for D21B in 2015 \n",
      "toEval shape:  (0, 9)\n",
      "Number of secondary IPC for D21B in 2015:  0\n",
      "toEval done for F04C in 2015 \n",
      "toEval shape:  (0, 9)\n",
      "Number of secondary IPC for F04C in 2015:  0\n",
      "Iterating through patents of reference year 2012 for evalYear 2015\n"
     ]
    },
    {
     "name": "stderr",
     "output_type": "stream",
     "text": [
      "100%|██████████| 1000/1000 [00:00<00:00, 1528.25it/s]\n"
     ]
    },
    {
     "name": "stdout",
     "output_type": "stream",
     "text": [
      "Iterating through patents of reference year 2013 for evalYear 2015\n"
     ]
    },
    {
     "name": "stderr",
     "output_type": "stream",
     "text": [
      "100%|██████████| 1000/1000 [00:00<00:00, 1040.58it/s]\n"
     ]
    },
    {
     "name": "stdout",
     "output_type": "stream",
     "text": [
      "Iterating through patents of reference year 2014 for evalYear 2015\n"
     ]
    },
    {
     "name": "stderr",
     "output_type": "stream",
     "text": [
      "100%|██████████| 1000/1000 [00:00<00:00, 1962.18it/s]\n"
     ]
    },
    {
     "name": "stdout",
     "output_type": "stream",
     "text": [
      "ES and KS done for: 2015_2012_G06F\n",
      "ES and KS done for: 2015_2013_G06F\n",
      "ES and KS done for: 2015_2014_G06F\n",
      "df_KS shape:  (314, 10)\n",
      "df_ES shape:  (60, 10)\n",
      "ES and KS done for: 2015_2012_G01N\n",
      "ES and KS done for: 2015_2013_G01N\n",
      "ES and KS done for: 2015_2014_G01N\n",
      "df_KS shape:  (59, 10)\n",
      "df_ES shape:  (1, 10)\n",
      "ES and KS done for: 2015_2012_A61B\n",
      "ES and KS done for: 2015_2013_A61B\n",
      "ES and KS done for: 2015_2014_A61B\n",
      "df_KS shape:  (80, 10)\n",
      "df_ES shape:  (4, 10)\n",
      "ES and KS done for: 2015_2012_B60L\n",
      "ES and KS done for: 2015_2013_B60L\n",
      "ES and KS done for: 2015_2014_B60L\n",
      "df_KS shape:  (5, 10)\n",
      "df_ES shape:  (1, 10)\n",
      "ES and KS done for: 2015_2012_E21B\n",
      "ES and KS done for: 2015_2013_E21B\n",
      "ES and KS done for: 2015_2014_E21B\n",
      "df_KS shape:  (24, 10)\n",
      "df_ES shape:  (1, 10)\n",
      "ES and KS done for: 2015_2012_F03D\n",
      "ES and KS done for: 2015_2013_F03D\n",
      "ES and KS done for: 2015_2014_F03D\n",
      "df_KS shape:  (4, 10)\n",
      "df_ES shape:  (0, 10)\n",
      "ES and KS done for: 2015_2012_H01L\n",
      "ES and KS done for: 2015_2013_H01L\n",
      "ES and KS done for: 2015_2014_H01L\n",
      "df_KS shape:  (155, 10)\n",
      "df_ES shape:  (25, 10)\n",
      "ES and KS done for: 2015_2012_H04W\n",
      "ES and KS done for: 2015_2013_H04W\n",
      "ES and KS done for: 2015_2014_H04W\n",
      "df_KS shape:  (103, 10)\n",
      "df_ES shape:  (73, 10)\n",
      "ES and KS done for: 2015_2012_C23C\n",
      "ES and KS done for: 2015_2013_C23C\n",
      "ES and KS done for: 2015_2014_C23C\n",
      "df_KS shape:  (5, 10)\n",
      "df_ES shape:  (0, 10)\n",
      "ES and KS done for: 2015_2012_D21B\n",
      "ES and KS done for: 2015_2013_D21B\n",
      "ES and KS done for: 2015_2014_D21B\n",
      "df_KS shape:  (0, 10)\n",
      "df_ES shape:  (0, 10)\n",
      "ES and KS done for: 2015_2012_F04C\n",
      "ES and KS done for: 2015_2013_F04C\n",
      "ES and KS done for: 2015_2014_F04C\n",
      "df_KS shape:  (2, 10)\n",
      "df_ES shape:  (0, 10)\n",
      "Create toEval, iterate through all patents of current year 2016\n"
     ]
    },
    {
     "name": "stderr",
     "output_type": "stream",
     "text": [
      "100%|██████████| 1000/1000 [00:00<00:00, 2551.56it/s]\n"
     ]
    },
    {
     "name": "stdout",
     "output_type": "stream",
     "text": [
      "toEval done for G06F in 2016 \n",
      "toEval shape:  (19, 9)\n",
      "Number of secondary IPC for G06F in 2016:  9\n",
      "toEval done for G01N in 2016 \n",
      "toEval shape:  (4, 9)\n",
      "Number of secondary IPC for G01N in 2016:  3\n",
      "toEval done for A61B in 2016 \n",
      "toEval shape:  (3, 9)\n",
      "Number of secondary IPC for A61B in 2016:  6\n",
      "toEval done for B60L in 2016 \n",
      "toEval shape:  (0, 9)\n",
      "Number of secondary IPC for B60L in 2016:  0\n",
      "toEval done for E21B in 2016 \n",
      "toEval shape:  (0, 9)\n",
      "Number of secondary IPC for E21B in 2016:  0\n",
      "toEval done for F03D in 2016 \n",
      "toEval shape:  (0, 9)\n",
      "Number of secondary IPC for F03D in 2016:  0\n",
      "toEval done for H01L in 2016 \n",
      "toEval shape:  (34, 9)\n",
      "Number of secondary IPC for H01L in 2016:  20\n",
      "toEval done for H04W in 2016 \n",
      "toEval shape:  (13, 9)\n",
      "Number of secondary IPC for H04W in 2016:  7\n",
      "toEval done for C23C in 2016 \n",
      "toEval shape:  (1, 9)\n",
      "Number of secondary IPC for C23C in 2016:  2\n",
      "toEval done for D21B in 2016 \n",
      "toEval shape:  (0, 9)\n",
      "Number of secondary IPC for D21B in 2016:  0\n",
      "toEval done for F04C in 2016 \n",
      "toEval shape:  (0, 9)\n",
      "Number of secondary IPC for F04C in 2016:  0\n",
      "Iterating through patents of reference year 2013 for evalYear 2016\n"
     ]
    },
    {
     "name": "stderr",
     "output_type": "stream",
     "text": [
      "100%|██████████| 1000/1000 [00:00<00:00, 1803.37it/s]\n"
     ]
    },
    {
     "name": "stdout",
     "output_type": "stream",
     "text": [
      "Iterating through patents of reference year 2014 for evalYear 2016\n"
     ]
    },
    {
     "name": "stderr",
     "output_type": "stream",
     "text": [
      "100%|██████████| 1000/1000 [00:00<00:00, 2190.57it/s]\n"
     ]
    },
    {
     "name": "stdout",
     "output_type": "stream",
     "text": [
      "Iterating through patents of reference year 2015 for evalYear 2016\n"
     ]
    },
    {
     "name": "stderr",
     "output_type": "stream",
     "text": [
      "100%|██████████| 1000/1000 [00:00<00:00, 2198.16it/s]\n"
     ]
    },
    {
     "name": "stdout",
     "output_type": "stream",
     "text": [
      "ES and KS done for: 2016_2013_G06F\n",
      "ES and KS done for: 2016_2014_G06F\n",
      "ES and KS done for: 2016_2015_G06F\n",
      "df_KS shape:  (254, 10)\n",
      "df_ES shape:  (7, 10)\n",
      "ES and KS done for: 2016_2013_G01N\n",
      "ES and KS done for: 2016_2014_G01N\n",
      "ES and KS done for: 2016_2015_G01N\n",
      "df_KS shape:  (60, 10)\n",
      "df_ES shape:  (0, 10)\n",
      "ES and KS done for: 2016_2013_A61B\n",
      "ES and KS done for: 2016_2014_A61B\n",
      "ES and KS done for: 2016_2015_A61B\n",
      "df_KS shape:  (80, 10)\n",
      "df_ES shape:  (20, 10)\n",
      "ES and KS done for: 2016_2013_B60L\n",
      "ES and KS done for: 2016_2014_B60L\n",
      "ES and KS done for: 2016_2015_B60L\n",
      "df_KS shape:  (6, 10)\n",
      "df_ES shape:  (0, 10)\n",
      "ES and KS done for: 2016_2013_E21B\n",
      "ES and KS done for: 2016_2014_E21B\n",
      "ES and KS done for: 2016_2015_E21B\n",
      "df_KS shape:  (24, 10)\n",
      "df_ES shape:  (0, 10)\n",
      "ES and KS done for: 2016_2013_F03D\n",
      "ES and KS done for: 2016_2014_F03D\n",
      "ES and KS done for: 2016_2015_F03D\n",
      "df_KS shape:  (5, 10)\n",
      "df_ES shape:  (0, 10)\n",
      "ES and KS done for: 2016_2013_H01L\n",
      "ES and KS done for: 2016_2014_H01L\n",
      "ES and KS done for: 2016_2015_H01L\n",
      "df_KS shape:  (155, 10)\n",
      "df_ES shape:  (36, 10)\n",
      "ES and KS done for: 2016_2013_H04W\n",
      "ES and KS done for: 2016_2014_H04W\n",
      "ES and KS done for: 2016_2015_H04W\n",
      "df_KS shape:  (100, 10)\n",
      "df_ES shape:  (9, 10)\n",
      "ES and KS done for: 2016_2013_C23C\n",
      "ES and KS done for: 2016_2014_C23C\n",
      "ES and KS done for: 2016_2015_C23C\n",
      "df_KS shape:  (2, 10)\n",
      "df_ES shape:  (10, 10)\n",
      "ES and KS done for: 2016_2013_D21B\n",
      "ES and KS done for: 2016_2014_D21B\n",
      "ES and KS done for: 2016_2015_D21B\n",
      "df_KS shape:  (0, 10)\n",
      "df_ES shape:  (0, 10)\n",
      "ES and KS done for: 2016_2013_F04C\n",
      "ES and KS done for: 2016_2014_F04C\n",
      "ES and KS done for: 2016_2015_F04C\n",
      "df_KS shape:  (2, 10)\n",
      "df_ES shape:  (0, 10)\n"
     ]
    }
   ],
   "source": [
    "pathData = \"C:/Users/edgar/OneDrive/Bureau/Ecole/HEC/A24/BrevetNLP/data\" #\"/home/edgarlanoue/data/data\" # \"C:/Users/edgar/OneDrive/Bureau/Ecole/HEC/A24/BrevetNLP/data\"\n",
    "pathOutput = \"C:/Users/edgar/OneDrive/Bureau/Ecole/HEC/A24/BrevetNLP/exemple données\"  #\"/home/edgarlanoue/data/csv\" #\"C:/Users/edgar/OneDrive/Bureau/Ecole/HEC/A24/BrevetNLP/exemple données\" \n",
    "listIPC =  [\"G06F\", \"G01N\", \"A61B\", \"B60L\", \"E21B\", \"F03D\", \"H01L\", \"H04W\", \"C07D\", \"D07B\", \"B32B\"]\n",
    "listYearsEval = range(2011, 2017) #range(2011, 2017)\n",
    "nbYearsRef = 5 #5\n",
    "\n",
    "loopFinal(listIPC, listYearsEval, 3, pathData, pathOutput)\n"
   ]
  }
 ],
 "metadata": {
  "kernelspec": {
   "display_name": "Python 3",
   "language": "python",
   "name": "python3"
  },
  "language_info": {
   "codemirror_mode": {
    "name": "ipython",
    "version": 3
   },
   "file_extension": ".py",
   "mimetype": "text/x-python",
   "name": "python",
   "nbconvert_exporter": "python",
   "pygments_lexer": "ipython3",
   "version": "3.7.12"
  }
 },
 "nbformat": 4,
 "nbformat_minor": 2
}
