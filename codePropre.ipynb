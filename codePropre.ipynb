{
 "cells": [
  {
   "cell_type": "code",
   "execution_count": 1,
   "metadata": {},
   "outputs": [],
   "source": [
    "from fonctionsImportations import loopFinal, tar_gz2json, json2toEval"
   ]
  },
  {
   "cell_type": "code",
   "execution_count": null,
   "metadata": {},
   "outputs": [
    {
     "name": "stdout",
     "output_type": "stream",
     "text": [
      "Extracted: /home/edgarlanoue/data/dataCompressed/2013.tar.gz in 313.06 seconds\n",
      "Extracted: /home/edgarlanoue/data/dataCompressed/2014.tar.gz in 367.28 seconds\n"
     ]
    }
   ],
   "source": [
    "pathDataComp = \"/home/edgarlanoue/data/dataCompressed\"\n",
    "pathData = \"/home/edgarlanoue/data/data\"\n",
    "#tar_gz2json(2014, 2016, pathDataComp, pathData)"
   ]
  },
  {
   "cell_type": "code",
   "execution_count": 2,
   "metadata": {},
   "outputs": [
    {
     "name": "stdout",
     "output_type": "stream",
     "text": [
      "All 3 reference years for eval year 2016 present\n",
      "Create toEval, iterate through all patents of current year 2016\n"
     ]
    },
    {
     "name": "stderr",
     "output_type": "stream",
     "text": [
      "Processing patents: 373474it [1:51:18, 55.92it/s]                            \n",
      "Create toEval for A61B in 2016: 100%|██████████| 2708/2708 [00:00<00:00, 3678.05it/s]\n"
     ]
    },
    {
     "name": "stdout",
     "output_type": "stream",
     "text": [
      "toEval done for A61B in 2016 \n",
      "Number of secondary IPC for A61B in 2016:  834\n",
      "Iterating through patents of reference year 2013 for evalYear 2016\n"
     ]
    },
    {
     "name": "stderr",
     "output_type": "stream",
     "text": [
      "100%|██████████| 364088/364088 [1:43:41<00:00, 58.52it/s]  \n"
     ]
    },
    {
     "name": "stdout",
     "output_type": "stream",
     "text": [
      "Creating KS and ES for IPC A61B\n"
     ]
    },
    {
     "name": "stderr",
     "output_type": "stream",
     "text": [
      "100%|██████████| 10688/10688 [01:56<00:00, 91.93it/s]  \n",
      "100%|██████████| 75474/75474 [15:51<00:00, 79.29it/s]  \n"
     ]
    },
    {
     "name": "stdout",
     "output_type": "stream",
     "text": [
      "ES and KS done for: 2016_2013_A61B\n",
      "Iterating through patents of reference year 2014 for evalYear 2016\n"
     ]
    },
    {
     "name": "stderr",
     "output_type": "stream",
     "text": [
      "100%|██████████| 376384/376384 [1:48:12<00:00, 57.97it/s]  \n"
     ]
    },
    {
     "name": "stdout",
     "output_type": "stream",
     "text": [
      "Creating KS and ES for IPC A61B\n"
     ]
    },
    {
     "name": "stderr",
     "output_type": "stream",
     "text": [
      "100%|██████████| 11253/11253 [02:03<00:00, 91.28it/s]  \n",
      "100%|██████████| 77609/77609 [20:00<00:00, 64.63it/s]  \n"
     ]
    },
    {
     "name": "stdout",
     "output_type": "stream",
     "text": [
      "ES and KS done for: 2016_2014_A61B\n",
      "Iterating through patents of reference year 2015 for evalYear 2016\n"
     ]
    },
    {
     "name": "stderr",
     "output_type": "stream",
     "text": [
      "100%|██████████| 374739/374739 [1:50:42<00:00, 56.42it/s]  \n"
     ]
    },
    {
     "name": "stdout",
     "output_type": "stream",
     "text": [
      "Creating KS and ES for IPC A61B\n"
     ]
    },
    {
     "name": "stderr",
     "output_type": "stream",
     "text": [
      "100%|██████████| 11568/11568 [02:20<00:00, 82.54it/s]  \n",
      "100%|██████████| 78989/78989 [18:22<00:00, 71.62it/s]  \n"
     ]
    },
    {
     "name": "stdout",
     "output_type": "stream",
     "text": [
      "ES and KS done for: 2016_2015_A61B\n",
      "df_KS shape:  (29296, 10)\n",
      "df_ES shape:  (207695, 10)\n"
     ]
    }
   ],
   "source": [
    "pathData = \"/home/edgarlanoue/data/data\" # \"C:/Users/edgar/OneDrive/Bureau/Ecole/HEC/A24/BrevetNLP/data\"\n",
    "pathOutput = \"/home/edgarlanoue/data/csv\" #\"C:/Users/edgar/OneDrive/Bureau/Ecole/HEC/A24/BrevetNLP/exemple données\" \n",
    "listIPC =  [\"A61B\"] #[\"G06F\", \"A61B\", \"H01L\"] #[\"G06F\", \"G01N\", \"A61B\", \"B60L\", \"E21B\", \"F03D\", \"H01L\", \"H04W\"]\n",
    "listYearsEval = range(2016, 2017) #range(2011, 2017)\n",
    "nbYearsRef = 3 #5\n",
    "\n",
    "loopFinal(listIPC, listYearsEval, 3, pathData, pathOutput)\n"
   ]
  },
  {
   "cell_type": "code",
   "execution_count": 25,
   "metadata": {},
   "outputs": [
    {
     "name": "stdout",
     "output_type": "stream",
     "text": [
      "Create toEval, iterate through all patents of current year 2016\n"
     ]
    },
    {
     "name": "stderr",
     "output_type": "stream",
     "text": [
      "100%|██████████| 1000/1000 [00:00<00:00, 3807.80it/s]\n",
      "100%|██████████| 92/92 [00:00<00:00, 3466.90it/s]\n",
      "100%|██████████| 19/19 [00:00<00:00, 3162.87it/s]"
     ]
    },
    {
     "name": "stdout",
     "output_type": "stream",
     "text": [
      "toEval/toEval/2016_G06F done\n",
      "toEval shape:  (19, 9)\n",
      "text/2016_G06F Done\n",
      "Nb secondary IPC (text size):  9\n"
     ]
    },
    {
     "name": "stderr",
     "output_type": "stream",
     "text": [
      "\n"
     ]
    }
   ],
   "source": [
    "json2toEval(2016, \"G06F\", pathData, pathOutput)"
   ]
  }
 ],
 "metadata": {
  "kernelspec": {
   "display_name": "base",
   "language": "python",
   "name": "python3"
  },
  "language_info": {
   "codemirror_mode": {
    "name": "ipython",
    "version": 3
   },
   "file_extension": ".py",
   "mimetype": "text/x-python",
   "name": "python",
   "nbconvert_exporter": "python",
   "pygments_lexer": "ipython3",
   "version": "3.10.15"
  }
 },
 "nbformat": 4,
 "nbformat_minor": 2
}
