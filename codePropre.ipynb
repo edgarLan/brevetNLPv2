{
 "cells": [
  {
   "cell_type": "code",
   "execution_count": 1,
   "metadata": {},
   "outputs": [],
   "source": [
    "from fonctionsImportations import loopFinal, tar_gz2json, json2toEval"
   ]
  },
  {
   "cell_type": "code",
   "execution_count": 4,
   "metadata": {},
   "outputs": [],
   "source": [
    "# Importation des json \n",
    "# pathDataComp = \"/home/edgarlanoue/data/dataCompressed\"\n",
    "# pathData = \"/home/edgarlanoue/data/data\"\n",
    "# tar_gz2json(2014, 2016, pathDataComp, pathData)"
   ]
  },
  {
   "cell_type": "code",
   "execution_count": 3,
   "metadata": {},
   "outputs": [
    {
     "name": "stdout",
     "output_type": "stream",
     "text": [
      "All 3 reference years for eval year 2016 present\n"
     ]
    },
    {
     "name": "stderr",
     "output_type": "stream",
     "text": [
      "  0%|          | 0/1 [00:00<?, ?it/s]"
     ]
    },
    {
     "name": "stdout",
     "output_type": "stream",
     "text": [
      "Create toEval, iterate through all patents of current year 2016\n"
     ]
    },
    {
     "name": "stderr",
     "output_type": "stream",
     "text": [
      "100%|██████████| 1000/1000 [00:00<00:00, 3773.83it/s]\n",
      "100%|██████████| 92/92 [00:00<00:00, 2049.85it/s]\n",
      "100%|██████████| 19/19 [00:00<00:00, 1908.10it/s]\n"
     ]
    },
    {
     "name": "stdout",
     "output_type": "stream",
     "text": [
      "toEval/toEval/2016_G06F done\n",
      "toEval shape:  (19, 9)\n",
      "text/2016_G06F Done\n",
      "Nb secondary IPC (text size):  9\n",
      "Create KS, iterate through patents of IPC G06F, of reference year 2013 for evalYear 2016\n"
     ]
    },
    {
     "name": "stderr",
     "output_type": "stream",
     "text": [
      "100%|██████████| 1000/1000 [00:00<00:00, 3964.96it/s]\n"
     ]
    },
    {
     "name": "stdout",
     "output_type": "stream",
     "text": [
      "Create ES, iterate through patents of secondary IPC G06F, of reference year 2013 for evalYear 2016\n"
     ]
    },
    {
     "name": "stderr",
     "output_type": "stream",
     "text": [
      "100%|██████████| 113/113 [00:00<00:00, 3476.49it/s]\n",
      "100%|██████████| 2/2 [00:00<00:00, 1001.62it/s]\n"
     ]
    },
    {
     "name": "stdout",
     "output_type": "stream",
     "text": [
      "ES and KS done for: 2016_2013_G06F\n",
      "Create KS, iterate through patents of IPC G06F, of reference year 2014 for evalYear 2016\n"
     ]
    },
    {
     "name": "stderr",
     "output_type": "stream",
     "text": [
      "100%|██████████| 1000/1000 [00:00<00:00, 3712.74it/s]\n"
     ]
    },
    {
     "name": "stdout",
     "output_type": "stream",
     "text": [
      "Create ES, iterate through patents of secondary IPC G06F, of reference year 2014 for evalYear 2016\n"
     ]
    },
    {
     "name": "stderr",
     "output_type": "stream",
     "text": [
      "100%|██████████| 83/83 [00:00<00:00, 3645.27it/s]\n",
      "100%|██████████| 3/3 [00:00<00:00, 857.73it/s]\n"
     ]
    },
    {
     "name": "stdout",
     "output_type": "stream",
     "text": [
      "ES and KS done for: 2016_2014_G06F\n",
      "Create KS, iterate through patents of IPC G06F, of reference year 2015 for evalYear 2016\n"
     ]
    },
    {
     "name": "stderr",
     "output_type": "stream",
     "text": [
      "100%|██████████| 1000/1000 [00:00<00:00, 3798.31it/s]\n"
     ]
    },
    {
     "name": "stdout",
     "output_type": "stream",
     "text": [
      "Create ES, iterate through patents of secondary IPC G06F, of reference year 2015 for evalYear 2016\n"
     ]
    },
    {
     "name": "stderr",
     "output_type": "stream",
     "text": [
      "100%|██████████| 84/84 [00:00<00:00, 3571.90it/s]\n",
      "100%|██████████| 2/2 [00:00<00:00, 1002.70it/s]\n"
     ]
    },
    {
     "name": "stdout",
     "output_type": "stream",
     "text": [
      "ES and KS done for: 2016_2015_G06F\n"
     ]
    },
    {
     "name": "stderr",
     "output_type": "stream",
     "text": [
      "100%|██████████| 1/1 [00:01<00:00,  1.65s/it]"
     ]
    },
    {
     "name": "stdout",
     "output_type": "stream",
     "text": [
      "ES and KS done for: 2016_G06F\n",
      "df_KS shape:  (254, 10)\n",
      "df_ES shape:  (7, 10)\n"
     ]
    },
    {
     "name": "stderr",
     "output_type": "stream",
     "text": [
      "\n"
     ]
    }
   ],
   "source": [
    "pathData = \"C:/Users/edgar/OneDrive/Bureau/Ecole/HEC/A24/BrevetNLP/data\"\n",
    "pathOutput = \"C:/Users/edgar/OneDrive/Bureau/Ecole/HEC/A24/BrevetNLP/exemple données\"\n",
    "listIPC =  [\"G06F\"] #[\"G06F\", \"A61B\", \"H01L\"] #[\"G06F\", \"G01N\", \"A61B\", \"B60L\", \"E21B\", \"F03D\", \"H01L\", \"H04W\"]\n",
    "listYearsEval = range(2016, 2017) #range(2011, 2017)\n",
    "nbYearsRef = 3 #5\n",
    "\n",
    "loopFinal(listIPC, listYearsEval, 3, pathData, pathOutput)\n"
   ]
  },
  {
   "cell_type": "code",
   "execution_count": 25,
   "metadata": {},
   "outputs": [
    {
     "name": "stdout",
     "output_type": "stream",
     "text": [
      "Create toEval, iterate through all patents of current year 2016\n"
     ]
    },
    {
     "name": "stderr",
     "output_type": "stream",
     "text": [
      "100%|██████████| 1000/1000 [00:00<00:00, 3807.80it/s]\n",
      "100%|██████████| 92/92 [00:00<00:00, 3466.90it/s]\n",
      "100%|██████████| 19/19 [00:00<00:00, 3162.87it/s]"
     ]
    },
    {
     "name": "stdout",
     "output_type": "stream",
     "text": [
      "toEval/toEval/2016_G06F done\n",
      "toEval shape:  (19, 9)\n",
      "text/2016_G06F Done\n",
      "Nb secondary IPC (text size):  9\n"
     ]
    },
    {
     "name": "stderr",
     "output_type": "stream",
     "text": [
      "\n"
     ]
    }
   ],
   "source": [
    "json2toEval(2016, \"G06F\", pathData, pathOutput)"
   ]
  }
 ],
 "metadata": {
  "kernelspec": {
   "display_name": "base",
   "language": "python",
   "name": "python3"
  },
  "language_info": {
   "codemirror_mode": {
    "name": "ipython",
    "version": 3
   },
   "file_extension": ".py",
   "mimetype": "text/x-python",
   "name": "python",
   "nbconvert_exporter": "python",
   "pygments_lexer": "ipython3",
   "version": "3.9.16"
  }
 },
 "nbformat": 4,
 "nbformat_minor": 2
}
