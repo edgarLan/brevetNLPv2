{
 "cells": [
  {
   "cell_type": "code",
   "execution_count": 4,
   "metadata": {},
   "outputs": [
    {
     "data": {
      "application/javascript": "IPython.notebook.set_autosave_interval(5000)"
     },
     "metadata": {},
     "output_type": "display_data"
    },
    {
     "name": "stdout",
     "output_type": "stream",
     "text": [
      "Autosaving every 5 seconds\n"
     ]
    }
   ],
   "source": [
    "import sys\n",
    "import logging\n",
    "\n",
    "nblog = open(\"nb.log\", \"a+\")\n",
    "sys.stdout.echo = nblog\n",
    "sys.stderr.echo = nblog\n",
    "\n",
    "get_ipython().log.handlers[0].stream = nblog\n",
    "get_ipython().log.setLevel(logging.INFO)\n",
    "\n",
    "%autosave 5"
   ]
  },
  {
   "cell_type": "code",
   "execution_count": null,
   "metadata": {},
   "outputs": [
    {
     "name": "stderr",
     "output_type": "stream",
     "text": [
      "Running for 5 minutes:   7%|▋         | 20/300 [00:20<04:40,  1.00s/it]"
     ]
    }
   ],
   "source": [
    "# import time\n",
    "# from tqdm import tqdm\n",
    "\n",
    "# # Total time in seconds\n",
    "# total_time = 300\n",
    "\n",
    "# # Use tqdm to create a progress bar\n",
    "# with tqdm(total=total_time, desc='Running for 5 minutes') as pbar:\n",
    "#     for _ in range(total_time):\n",
    "#         time.sleep(1)  # Sleep for 1 second\n",
    "#         pbar.update(1)  # Update the progress bar\n",
    "#         #print(_)"
   ]
  },
  {
   "cell_type": "code",
   "execution_count": 5,
   "metadata": {
    "scrolled": true
   },
   "outputs": [],
   "source": [
    "from fonctionsImportations import loopFinal, tar_gz2json"
   ]
  },
  {
   "cell_type": "code",
   "execution_count": null,
   "metadata": {
    "scrolled": true
   },
   "outputs": [],
   "source": [
    "pathDataComp = \"/home/edgarlanoue/data/dataCompressed/\"\n",
    "pathData = \"/home/edgarlanoue/data/data\"\n",
    "tar_gz2json(2006, 2016, pathDataComp, pathData)"
   ]
  },
  {
   "cell_type": "code",
   "execution_count": null,
   "metadata": {
    "scrolled": false
   },
   "outputs": [
    {
     "name": "stdout",
     "output_type": "stream",
     "text": [
      "All 5 reference years for eval year 2011 present\n",
      "toEval already done for year 2011\n",
      "Iterating through patents of reference year 2006 for evalYear 2011\n"
     ]
    },
    {
     "name": "stderr",
     "output_type": "stream",
     "text": [
      "\r\n",
      "Processing patents:   0%|          | 0/309449 [00:00<?, ?it/s]"
     ]
    }
   ],
   "source": [
    "pathData = \"/home/edgarlanoue/data/data\" #\"/home/edgarlanoue/data/data\" # \"C:/Users/edgar/OneDrive/Bureau/Ecole/HEC/A24/BrevetNLP/data\"\n",
    "pathOutput = \"/home/edgarlanoue/data/csv\"  #\"/home/edgarlanoue/data/csv\" #\"C:/Users/edgar/OneDrive/Bureau/Ecole/HEC/A24/BrevetNLP/exemple données\" \n",
    "listIPC =  [\"G06F\", \"G01N\", \"A61B\", \"B60L\", \"E21B\", \"F03D\", \"H01L\", \"H04W\", \"C07D\", \"D07B\", \"B32B\"]\n",
    "listYearsEval = list(range(2011, 2016)) #range(2011, 2017)\n",
    "nbYearsRef = 5 \n",
    "loopFinal(listIPC, listYearsEval, nbYearsRef, pathData, pathOutput, 100000)\n"
   ]
  },
  {
   "cell_type": "code",
   "execution_count": null,
   "metadata": {},
   "outputs": [],
   "source": []
  }
 ],
 "metadata": {
  "kernelspec": {
   "display_name": "base",
   "language": "python",
   "name": "python3"
  },
  "language_info": {
   "codemirror_mode": {
    "name": "ipython",
    "version": 3
   },
   "file_extension": ".py",
   "mimetype": "text/x-python",
   "name": "python",
   "nbconvert_exporter": "python",
   "pygments_lexer": "ipython3",
   "version": "undefined.undefined.undefined"
  }
 },
 "nbformat": 4,
 "nbformat_minor": 2
}
