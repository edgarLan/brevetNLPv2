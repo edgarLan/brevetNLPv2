{
 "cells": [
  {
   "cell_type": "code",
   "execution_count": 1,
   "metadata": {},
   "outputs": [],
   "source": [
    "from fonctionsImportations import loopFinal, tar_gz2json"
   ]
  },
  {
   "cell_type": "code",
   "execution_count": null,
   "metadata": {},
   "outputs": [],
   "source": [
    "pathDataComp = \"/home/edgarlanoue/data/dataCompressed\"\n",
    "pathData = \"/home/edgarlanoue/data/data\"\n",
    "tar_gz2json(2014, 2016, pathDataComp, pathData)"
   ]
  },
  {
   "cell_type": "code",
   "execution_count": 3,
   "metadata": {},
   "outputs": [
    {
     "name": "stdout",
     "output_type": "stream",
     "text": [
      "All 3 reference years for eval year 2014 present\n",
      "All 3 reference years for eval year 2015 present\n",
      "All 3 reference years for eval year 2016 present\n"
     ]
    },
    {
     "name": "stderr",
     "output_type": "stream",
     "text": [
      "  0%|          | 0/3 [00:00<?, ?it/s]"
     ]
    },
    {
     "name": "stdout",
     "output_type": "stream",
     "text": [
      "Create toEval, iterate through all patents of current year 2014\n"
     ]
    },
    {
     "name": "stderr",
     "output_type": "stream",
     "text": [
      "100%|██████████| 1000/1000 [00:00<00:00, 3724.53it/s]\n",
      "100%|██████████| 83/83 [00:00<00:00, 3618.60it/s]\n",
      "100%|██████████| 68/68 [00:00<00:00, 3588.89it/s]\n"
     ]
    },
    {
     "name": "stdout",
     "output_type": "stream",
     "text": [
      "toEval/toEval/2014_G06F done\n",
      "toEval shape:  (68, 9)\n",
      "text/2014_G06F Done\n",
      "Nb secondary IPC (text size):  20\n",
      "Create KS, iterate through patents of IPC G06F, of reference year 2011 for evalYear 2014\n"
     ]
    },
    {
     "name": "stderr",
     "output_type": "stream",
     "text": [
      "100%|██████████| 1000/1000 [00:00<00:00, 3481.72it/s]\n"
     ]
    },
    {
     "name": "stdout",
     "output_type": "stream",
     "text": [
      "Create ES, iterate through patents of secondary IPC G06F, of reference year 2011 for evalYear 2014\n"
     ]
    },
    {
     "name": "stderr",
     "output_type": "stream",
     "text": [
      "100%|██████████| 121/121 [00:00<00:00, 3463.27it/s]\n",
      "100%|██████████| 13/13 [00:00<00:00, 4349.20it/s]\n"
     ]
    },
    {
     "name": "stdout",
     "output_type": "stream",
     "text": [
      "ES and KS done for: 2014_2011_G06F\n",
      "Create KS, iterate through patents of IPC G06F, of reference year 2012 for evalYear 2014\n"
     ]
    },
    {
     "name": "stderr",
     "output_type": "stream",
     "text": [
      "100%|██████████| 1000/1000 [00:00<00:00, 3505.86it/s]\n"
     ]
    },
    {
     "name": "stdout",
     "output_type": "stream",
     "text": [
      "Create ES, iterate through patents of secondary IPC G06F, of reference year 2012 for evalYear 2014\n"
     ]
    },
    {
     "name": "stderr",
     "output_type": "stream",
     "text": [
      "100%|██████████| 132/132 [00:00<00:00, 3573.95it/s]\n",
      "100%|██████████| 11/11 [00:00<00:00, 2205.52it/s]\n"
     ]
    },
    {
     "name": "stdout",
     "output_type": "stream",
     "text": [
      "ES and KS done for: 2014_2012_G06F\n",
      "Create KS, iterate through patents of IPC G06F, of reference year 2013 for evalYear 2014\n"
     ]
    },
    {
     "name": "stderr",
     "output_type": "stream",
     "text": [
      "100%|██████████| 1000/1000 [00:00<00:00, 3811.40it/s]\n"
     ]
    },
    {
     "name": "stdout",
     "output_type": "stream",
     "text": [
      "Create ES, iterate through patents of secondary IPC G06F, of reference year 2013 for evalYear 2014\n"
     ]
    },
    {
     "name": "stderr",
     "output_type": "stream",
     "text": [
      "100%|██████████| 113/113 [00:00<00:00, 3592.05it/s]\n",
      "100%|██████████| 28/28 [00:00<00:00, 3510.51it/s]\n"
     ]
    },
    {
     "name": "stdout",
     "output_type": "stream",
     "text": [
      "ES and KS done for: 2014_2013_G06F\n",
      "ES and KS done for: 2014_G06F\n",
      "df_KS shape:  (358, 10)\n",
      "df_ES shape:  (49, 10)\n",
      "Create toEval, iterate through all patents of current year 2015\n"
     ]
    },
    {
     "name": "stderr",
     "output_type": "stream",
     "text": [
      "100%|██████████| 1000/1000 [00:00<00:00, 3033.70it/s]\n",
      "100%|██████████| 84/84 [00:00<00:00, 2477.14it/s]\n",
      "100%|██████████| 54/54 [00:00<00:00, 2354.29it/s]\n"
     ]
    },
    {
     "name": "stdout",
     "output_type": "stream",
     "text": [
      "toEval/toEval/2015_G06F done\n",
      "toEval shape:  (54, 9)\n",
      "text/2015_G06F Done\n",
      "Nb secondary IPC (text size):  22\n",
      "Create KS, iterate through patents of IPC G06F, of reference year 2012 for evalYear 2015\n"
     ]
    },
    {
     "name": "stderr",
     "output_type": "stream",
     "text": [
      "100%|██████████| 1000/1000 [00:00<00:00, 3113.90it/s]\n"
     ]
    },
    {
     "name": "stdout",
     "output_type": "stream",
     "text": [
      "Create ES, iterate through patents of secondary IPC G06F, of reference year 2012 for evalYear 2015\n"
     ]
    },
    {
     "name": "stderr",
     "output_type": "stream",
     "text": [
      "100%|██████████| 132/132 [00:00<00:00, 2169.72it/s]\n",
      "100%|██████████| 8/8 [00:00<00:00, 2005.28it/s]\n"
     ]
    },
    {
     "name": "stdout",
     "output_type": "stream",
     "text": [
      "ES and KS done for: 2015_2012_G06F\n",
      "Create KS, iterate through patents of IPC G06F, of reference year 2013 for evalYear 2015\n"
     ]
    },
    {
     "name": "stderr",
     "output_type": "stream",
     "text": [
      "100%|██████████| 1000/1000 [00:00<00:00, 2740.91it/s]\n"
     ]
    },
    {
     "name": "stdout",
     "output_type": "stream",
     "text": [
      "Create ES, iterate through patents of secondary IPC G06F, of reference year 2013 for evalYear 2015\n"
     ]
    },
    {
     "name": "stderr",
     "output_type": "stream",
     "text": [
      "100%|██████████| 113/113 [00:00<00:00, 2517.88it/s]\n",
      "100%|██████████| 27/27 [00:00<00:00, 2255.77it/s]\n"
     ]
    },
    {
     "name": "stdout",
     "output_type": "stream",
     "text": [
      "ES and KS done for: 2015_2013_G06F\n",
      "Create KS, iterate through patents of IPC G06F, of reference year 2014 for evalYear 2015\n"
     ]
    },
    {
     "name": "stderr",
     "output_type": "stream",
     "text": [
      "100%|██████████| 1000/1000 [00:00<00:00, 3065.68it/s]\n"
     ]
    },
    {
     "name": "stdout",
     "output_type": "stream",
     "text": [
      "Create ES, iterate through patents of secondary IPC G06F, of reference year 2014 for evalYear 2015\n"
     ]
    },
    {
     "name": "stderr",
     "output_type": "stream",
     "text": [
      "100%|██████████| 83/83 [00:00<00:00, 2972.19it/s]\n",
      "100%|██████████| 32/32 [00:00<00:00, 2138.62it/s]\n"
     ]
    },
    {
     "name": "stdout",
     "output_type": "stream",
     "text": [
      "ES and KS done for: 2015_2014_G06F\n",
      "ES and KS done for: 2015_G06F\n",
      "df_KS shape:  (314, 10)\n",
      "df_ES shape:  (60, 10)\n",
      "Create toEval, iterate through all patents of current year 2016\n"
     ]
    },
    {
     "name": "stderr",
     "output_type": "stream",
     "text": [
      "100%|██████████| 1000/1000 [00:00<00:00, 3172.68it/s]\n",
      "100%|██████████| 92/92 [00:00<00:00, 2114.85it/s]\n",
      "100%|██████████| 19/19 [00:00<00:00, 3175.10it/s]\n"
     ]
    },
    {
     "name": "stdout",
     "output_type": "stream",
     "text": [
      "toEval/toEval/2016_G06F done\n",
      "toEval shape:  (19, 9)\n",
      "text/2016_G06F Done\n",
      "Nb secondary IPC (text size):  9\n",
      "Create KS, iterate through patents of IPC G06F, of reference year 2013 for evalYear 2016\n"
     ]
    },
    {
     "name": "stderr",
     "output_type": "stream",
     "text": [
      "100%|██████████| 1000/1000 [00:00<00:00, 3828.94it/s]\n"
     ]
    },
    {
     "name": "stdout",
     "output_type": "stream",
     "text": [
      "Create ES, iterate through patents of secondary IPC G06F, of reference year 2013 for evalYear 2016\n"
     ]
    },
    {
     "name": "stderr",
     "output_type": "stream",
     "text": [
      "100%|██████████| 113/113 [00:00<00:00, 3062.52it/s]\n",
      "100%|██████████| 2/2 [00:00<00:00, 1001.15it/s]\n"
     ]
    },
    {
     "name": "stdout",
     "output_type": "stream",
     "text": [
      "ES and KS done for: 2016_2013_G06F\n",
      "Create KS, iterate through patents of IPC G06F, of reference year 2014 for evalYear 2016\n"
     ]
    },
    {
     "name": "stderr",
     "output_type": "stream",
     "text": [
      "100%|██████████| 1000/1000 [00:00<00:00, 3109.97it/s]\n"
     ]
    },
    {
     "name": "stdout",
     "output_type": "stream",
     "text": [
      "Create ES, iterate through patents of secondary IPC G06F, of reference year 2014 for evalYear 2016\n"
     ]
    },
    {
     "name": "stderr",
     "output_type": "stream",
     "text": [
      "100%|██████████| 83/83 [00:00<00:00, 3783.05it/s]\n",
      "100%|██████████| 3/3 [00:00<00:00, 1504.59it/s]\n"
     ]
    },
    {
     "name": "stdout",
     "output_type": "stream",
     "text": [
      "ES and KS done for: 2016_2014_G06F\n",
      "Create KS, iterate through patents of IPC G06F, of reference year 2015 for evalYear 2016\n"
     ]
    },
    {
     "name": "stderr",
     "output_type": "stream",
     "text": [
      "100%|██████████| 1000/1000 [00:00<00:00, 3242.97it/s]\n"
     ]
    },
    {
     "name": "stdout",
     "output_type": "stream",
     "text": [
      "Create ES, iterate through patents of secondary IPC G06F, of reference year 2015 for evalYear 2016\n"
     ]
    },
    {
     "name": "stderr",
     "output_type": "stream",
     "text": [
      "100%|██████████| 84/84 [00:00<00:00, 2629.27it/s]\n",
      "100%|██████████| 2/2 [00:00<00:00, 1002.22it/s]\n",
      " 33%|███▎      | 1/3 [00:05<00:11,  5.77s/it]"
     ]
    },
    {
     "name": "stdout",
     "output_type": "stream",
     "text": [
      "ES and KS done for: 2016_2015_G06F\n",
      "ES and KS done for: 2016_G06F\n",
      "df_KS shape:  (254, 10)\n",
      "df_ES shape:  (7, 10)\n",
      "Create toEval, iterate through all patents of current year 2014\n"
     ]
    },
    {
     "name": "stderr",
     "output_type": "stream",
     "text": [
      "100%|██████████| 1000/1000 [00:00<00:00, 2692.15it/s]\n",
      "100%|██████████| 27/27 [00:00<00:00, 2461.02it/s]\n",
      "100%|██████████| 19/19 [00:00<00:00, 2385.91it/s]\n"
     ]
    },
    {
     "name": "stdout",
     "output_type": "stream",
     "text": [
      "toEval/toEval/2014_A61B done\n",
      "toEval shape:  (19, 9)\n",
      "text/2014_A61B Done\n",
      "Nb secondary IPC (text size):  6\n",
      "Create KS, iterate through patents of IPC A61B, of reference year 2011 for evalYear 2014\n"
     ]
    },
    {
     "name": "stderr",
     "output_type": "stream",
     "text": [
      "100%|██████████| 1000/1000 [00:00<00:00, 3298.00it/s]\n"
     ]
    },
    {
     "name": "stdout",
     "output_type": "stream",
     "text": [
      "Create ES, iterate through patents of secondary IPC A61B, of reference year 2011 for evalYear 2014\n"
     ]
    },
    {
     "name": "stderr",
     "output_type": "stream",
     "text": [
      "100%|██████████| 11/11 [00:00<00:00, 2190.65it/s]\n",
      "100%|██████████| 2/2 [00:00<00:00, 668.47it/s]\n"
     ]
    },
    {
     "name": "stdout",
     "output_type": "stream",
     "text": [
      "ES and KS done for: 2014_2011_A61B\n",
      "Create KS, iterate through patents of IPC A61B, of reference year 2012 for evalYear 2014\n"
     ]
    },
    {
     "name": "stderr",
     "output_type": "stream",
     "text": [
      "100%|██████████| 1000/1000 [00:00<00:00, 2689.91it/s]\n"
     ]
    },
    {
     "name": "stdout",
     "output_type": "stream",
     "text": [
      "Create ES, iterate through patents of secondary IPC A61B, of reference year 2012 for evalYear 2014\n"
     ]
    },
    {
     "name": "stderr",
     "output_type": "stream",
     "text": [
      "100%|██████████| 22/22 [00:00<00:00, 2757.35it/s]\n",
      "0it [00:00, ?it/s]\n"
     ]
    },
    {
     "name": "stdout",
     "output_type": "stream",
     "text": [
      "ES and KS done for: 2014_2012_A61B\n",
      "Create KS, iterate through patents of IPC A61B, of reference year 2013 for evalYear 2014\n"
     ]
    },
    {
     "name": "stderr",
     "output_type": "stream",
     "text": [
      "100%|██████████| 1000/1000 [00:00<00:00, 2012.54it/s]\n"
     ]
    },
    {
     "name": "stdout",
     "output_type": "stream",
     "text": [
      "Create ES, iterate through patents of secondary IPC A61B, of reference year 2013 for evalYear 2014\n"
     ]
    },
    {
     "name": "stderr",
     "output_type": "stream",
     "text": [
      "100%|██████████| 35/35 [00:00<00:00, 1949.65it/s]\n",
      "100%|██████████| 2/2 [00:00<00:00, 668.47it/s]\n"
     ]
    },
    {
     "name": "stdout",
     "output_type": "stream",
     "text": [
      "ES and KS done for: 2014_2013_A61B\n",
      "ES and KS done for: 2014_A61B\n",
      "df_KS shape:  (63, 10)\n",
      "df_ES shape:  (4, 10)\n",
      "Create toEval, iterate through all patents of current year 2015\n"
     ]
    },
    {
     "name": "stderr",
     "output_type": "stream",
     "text": [
      "100%|██████████| 1000/1000 [00:00<00:00, 2031.72it/s]\n",
      "100%|██████████| 26/26 [00:00<00:00, 1862.13it/s]\n",
      "100%|██████████| 16/16 [00:00<00:00, 1234.12it/s]\n"
     ]
    },
    {
     "name": "stdout",
     "output_type": "stream",
     "text": [
      "toEval/toEval/2015_A61B done\n",
      "toEval shape:  (16, 9)\n",
      "text/2015_A61B Done\n",
      "Nb secondary IPC (text size):  8\n",
      "Create KS, iterate through patents of IPC A61B, of reference year 2012 for evalYear 2015\n"
     ]
    },
    {
     "name": "stderr",
     "output_type": "stream",
     "text": [
      "100%|██████████| 1000/1000 [00:00<00:00, 2773.52it/s]\n"
     ]
    },
    {
     "name": "stdout",
     "output_type": "stream",
     "text": [
      "Create ES, iterate through patents of secondary IPC A61B, of reference year 2012 for evalYear 2015\n"
     ]
    },
    {
     "name": "stderr",
     "output_type": "stream",
     "text": [
      "100%|██████████| 22/22 [00:00<00:00, 2442.68it/s]\n",
      "0it [00:00, ?it/s]\n"
     ]
    },
    {
     "name": "stdout",
     "output_type": "stream",
     "text": [
      "ES and KS done for: 2015_2012_A61B\n",
      "Create KS, iterate through patents of IPC A61B, of reference year 2013 for evalYear 2015\n"
     ]
    },
    {
     "name": "stderr",
     "output_type": "stream",
     "text": [
      "100%|██████████| 1000/1000 [00:00<00:00, 3538.20it/s]\n"
     ]
    },
    {
     "name": "stdout",
     "output_type": "stream",
     "text": [
      "Create ES, iterate through patents of secondary IPC A61B, of reference year 2013 for evalYear 2015\n"
     ]
    },
    {
     "name": "stderr",
     "output_type": "stream",
     "text": [
      "100%|██████████| 35/35 [00:00<00:00, 3640.26it/s]\n",
      "100%|██████████| 3/3 [00:00<00:00, 1504.05it/s]\n"
     ]
    },
    {
     "name": "stdout",
     "output_type": "stream",
     "text": [
      "ES and KS done for: 2015_2013_A61B\n",
      "Create KS, iterate through patents of IPC A61B, of reference year 2014 for evalYear 2015\n"
     ]
    },
    {
     "name": "stderr",
     "output_type": "stream",
     "text": [
      "100%|██████████| 1000/1000 [00:00<00:00, 2554.64it/s]\n"
     ]
    },
    {
     "name": "stdout",
     "output_type": "stream",
     "text": [
      "Create ES, iterate through patents of secondary IPC A61B, of reference year 2014 for evalYear 2015\n"
     ]
    },
    {
     "name": "stderr",
     "output_type": "stream",
     "text": [
      "100%|██████████| 27/27 [00:00<00:00, 2082.77it/s]\n",
      "100%|██████████| 1/1 [00:00<00:00, 500.99it/s]\n"
     ]
    },
    {
     "name": "stdout",
     "output_type": "stream",
     "text": [
      "ES and KS done for: 2015_2014_A61B\n",
      "ES and KS done for: 2015_A61B\n",
      "df_KS shape:  (80, 10)\n",
      "df_ES shape:  (4, 10)\n",
      "Create toEval, iterate through all patents of current year 2016\n"
     ]
    },
    {
     "name": "stderr",
     "output_type": "stream",
     "text": [
      "100%|██████████| 1000/1000 [00:00<00:00, 2906.28it/s]\n",
      "100%|██████████| 30/30 [00:00<00:00, 2499.83it/s]\n",
      "100%|██████████| 3/3 [00:00<00:00, 1003.58it/s]\n"
     ]
    },
    {
     "name": "stdout",
     "output_type": "stream",
     "text": [
      "toEval/toEval/2016_A61B done\n",
      "toEval shape:  (3, 9)\n",
      "text/2016_A61B Done\n",
      "Nb secondary IPC (text size):  6\n",
      "Create KS, iterate through patents of IPC A61B, of reference year 2013 for evalYear 2016\n"
     ]
    },
    {
     "name": "stderr",
     "output_type": "stream",
     "text": [
      "100%|██████████| 1000/1000 [00:00<00:00, 3203.50it/s]\n"
     ]
    },
    {
     "name": "stdout",
     "output_type": "stream",
     "text": [
      "Create ES, iterate through patents of secondary IPC A61B, of reference year 2013 for evalYear 2016\n"
     ]
    },
    {
     "name": "stderr",
     "output_type": "stream",
     "text": [
      "100%|██████████| 35/35 [00:00<00:00, 877.38it/s]\n",
      "100%|██████████| 10/10 [00:00<00:00, 1662.10it/s]\n"
     ]
    },
    {
     "name": "stdout",
     "output_type": "stream",
     "text": [
      "ES and KS done for: 2016_2013_A61B\n",
      "Create KS, iterate through patents of IPC A61B, of reference year 2014 for evalYear 2016\n"
     ]
    },
    {
     "name": "stderr",
     "output_type": "stream",
     "text": [
      "100%|██████████| 1000/1000 [00:00<00:00, 2832.24it/s]\n"
     ]
    },
    {
     "name": "stdout",
     "output_type": "stream",
     "text": [
      "Create ES, iterate through patents of secondary IPC A61B, of reference year 2014 for evalYear 2016\n"
     ]
    },
    {
     "name": "stderr",
     "output_type": "stream",
     "text": [
      "100%|██████████| 27/27 [00:00<00:00, 2996.96it/s]\n",
      "100%|██████████| 8/8 [00:00<00:00, 1604.02it/s]\n"
     ]
    },
    {
     "name": "stdout",
     "output_type": "stream",
     "text": [
      "ES and KS done for: 2016_2014_A61B\n",
      "Create KS, iterate through patents of IPC A61B, of reference year 2015 for evalYear 2016\n"
     ]
    },
    {
     "name": "stderr",
     "output_type": "stream",
     "text": [
      "100%|██████████| 1000/1000 [00:00<00:00, 3309.18it/s]\n"
     ]
    },
    {
     "name": "stdout",
     "output_type": "stream",
     "text": [
      "Create ES, iterate through patents of secondary IPC A61B, of reference year 2015 for evalYear 2016\n"
     ]
    },
    {
     "name": "stderr",
     "output_type": "stream",
     "text": [
      "100%|██████████| 26/26 [00:00<00:00, 1862.10it/s]\n",
      "100%|██████████| 7/7 [00:00<00:00, 1002.29it/s]\n",
      " 67%|██████▋   | 2/3 [00:11<00:05,  5.93s/it]"
     ]
    },
    {
     "name": "stdout",
     "output_type": "stream",
     "text": [
      "ES and KS done for: 2016_2015_A61B\n",
      "ES and KS done for: 2016_A61B\n",
      "df_KS shape:  (80, 10)\n",
      "df_ES shape:  (20, 10)\n",
      "Create toEval, iterate through all patents of current year 2014\n"
     ]
    },
    {
     "name": "stderr",
     "output_type": "stream",
     "text": [
      "100%|██████████| 1000/1000 [00:00<00:00, 2485.27it/s]\n",
      "100%|██████████| 45/45 [00:00<00:00, 3007.87it/s]\n",
      "100%|██████████| 44/44 [00:00<00:00, 3144.21it/s]\n"
     ]
    },
    {
     "name": "stdout",
     "output_type": "stream",
     "text": [
      "toEval/toEval/2014_H01L done\n",
      "toEval shape:  (44, 9)\n",
      "text/2014_H01L Done\n",
      "Nb secondary IPC (text size):  9\n",
      "Create KS, iterate through patents of IPC H01L, of reference year 2011 for evalYear 2014\n"
     ]
    },
    {
     "name": "stderr",
     "output_type": "stream",
     "text": [
      "100%|██████████| 1000/1000 [00:00<00:00, 3161.94it/s]\n"
     ]
    },
    {
     "name": "stdout",
     "output_type": "stream",
     "text": [
      "Create ES, iterate through patents of secondary IPC H01L, of reference year 2011 for evalYear 2014\n"
     ]
    },
    {
     "name": "stderr",
     "output_type": "stream",
     "text": [
      "100%|██████████| 73/73 [00:00<00:00, 2183.99it/s]\n",
      "0it [00:00, ?it/s]\n"
     ]
    },
    {
     "name": "stdout",
     "output_type": "stream",
     "text": [
      "ES and KS done for: 2014_2011_H01L\n",
      "Create KS, iterate through patents of IPC H01L, of reference year 2012 for evalYear 2014\n"
     ]
    },
    {
     "name": "stderr",
     "output_type": "stream",
     "text": [
      "100%|██████████| 1000/1000 [00:00<00:00, 2254.21it/s]\n"
     ]
    },
    {
     "name": "stdout",
     "output_type": "stream",
     "text": [
      "Create ES, iterate through patents of secondary IPC H01L, of reference year 2012 for evalYear 2014\n"
     ]
    },
    {
     "name": "stderr",
     "output_type": "stream",
     "text": [
      "100%|██████████| 57/57 [00:00<00:00, 742.24it/s]\n",
      "0it [00:00, ?it/s]\n"
     ]
    },
    {
     "name": "stdout",
     "output_type": "stream",
     "text": [
      "ES and KS done for: 2014_2012_H01L\n",
      "Create KS, iterate through patents of IPC H01L, of reference year 2013 for evalYear 2014\n"
     ]
    },
    {
     "name": "stderr",
     "output_type": "stream",
     "text": [
      "100%|██████████| 1000/1000 [00:00<00:00, 2770.73it/s]\n"
     ]
    },
    {
     "name": "stdout",
     "output_type": "stream",
     "text": [
      "Create ES, iterate through patents of secondary IPC H01L, of reference year 2013 for evalYear 2014\n"
     ]
    },
    {
     "name": "stderr",
     "output_type": "stream",
     "text": [
      "100%|██████████| 55/55 [00:00<00:00, 3676.22it/s]\n",
      "0it [00:00, ?it/s]\n"
     ]
    },
    {
     "name": "stdout",
     "output_type": "stream",
     "text": [
      "ES and KS done for: 2014_2013_H01L\n",
      "ES and KS done for: 2014_H01L\n",
      "df_KS shape:  (184, 10)\n",
      "df_ES shape:  (0, 10)\n",
      "Create toEval, iterate through all patents of current year 2015\n"
     ]
    },
    {
     "name": "stderr",
     "output_type": "stream",
     "text": [
      "100%|██████████| 1000/1000 [00:00<00:00, 2553.55it/s]\n",
      "100%|██████████| 61/61 [00:00<00:00, 2106.75it/s]\n",
      "100%|██████████| 52/52 [00:00<00:00, 2005.42it/s]\n"
     ]
    },
    {
     "name": "stdout",
     "output_type": "stream",
     "text": [
      "toEval/toEval/2015_H01L done\n",
      "toEval shape:  (52, 9)\n",
      "text/2015_H01L Done\n",
      "Nb secondary IPC (text size):  26\n",
      "Create KS, iterate through patents of IPC H01L, of reference year 2012 for evalYear 2015\n"
     ]
    },
    {
     "name": "stderr",
     "output_type": "stream",
     "text": [
      "100%|██████████| 1000/1000 [00:00<00:00, 2621.28it/s]\n"
     ]
    },
    {
     "name": "stdout",
     "output_type": "stream",
     "text": [
      "Create ES, iterate through patents of secondary IPC H01L, of reference year 2012 for evalYear 2015\n"
     ]
    },
    {
     "name": "stderr",
     "output_type": "stream",
     "text": [
      "100%|██████████| 57/57 [00:00<00:00, 2721.50it/s]\n",
      "100%|██████████| 7/7 [00:00<00:00, 2340.20it/s]\n"
     ]
    },
    {
     "name": "stdout",
     "output_type": "stream",
     "text": [
      "ES and KS done for: 2015_2012_H01L\n",
      "Create KS, iterate through patents of IPC H01L, of reference year 2013 for evalYear 2015\n"
     ]
    },
    {
     "name": "stderr",
     "output_type": "stream",
     "text": [
      "100%|██████████| 1000/1000 [00:00<00:00, 3153.06it/s]\n"
     ]
    },
    {
     "name": "stdout",
     "output_type": "stream",
     "text": [
      "Create ES, iterate through patents of secondary IPC H01L, of reference year 2013 for evalYear 2015\n"
     ]
    },
    {
     "name": "stderr",
     "output_type": "stream",
     "text": [
      "100%|██████████| 55/55 [00:00<00:00, 2626.01it/s]\n",
      "100%|██████████| 6/6 [00:00<00:00, 1504.14it/s]\n"
     ]
    },
    {
     "name": "stdout",
     "output_type": "stream",
     "text": [
      "ES and KS done for: 2015_2013_H01L\n",
      "Create KS, iterate through patents of IPC H01L, of reference year 2014 for evalYear 2015\n"
     ]
    },
    {
     "name": "stderr",
     "output_type": "stream",
     "text": [
      "100%|██████████| 1000/1000 [00:00<00:00, 2983.54it/s]\n"
     ]
    },
    {
     "name": "stdout",
     "output_type": "stream",
     "text": [
      "Create ES, iterate through patents of secondary IPC H01L, of reference year 2014 for evalYear 2015\n"
     ]
    },
    {
     "name": "stderr",
     "output_type": "stream",
     "text": [
      "100%|██████████| 45/45 [00:00<00:00, 2819.64it/s]\n",
      "100%|██████████| 12/12 [00:00<00:00, 2005.56it/s]\n"
     ]
    },
    {
     "name": "stdout",
     "output_type": "stream",
     "text": [
      "ES and KS done for: 2015_2014_H01L\n",
      "ES and KS done for: 2015_H01L\n",
      "df_KS shape:  (155, 10)\n",
      "df_ES shape:  (25, 10)\n",
      "Create toEval, iterate through all patents of current year 2016\n"
     ]
    },
    {
     "name": "stderr",
     "output_type": "stream",
     "text": [
      "100%|██████████| 1000/1000 [00:00<00:00, 2430.58it/s]\n",
      "100%|██████████| 60/60 [00:00<00:00, 2506.86it/s]\n",
      "100%|██████████| 34/34 [00:00<00:00, 2130.74it/s]\n"
     ]
    },
    {
     "name": "stdout",
     "output_type": "stream",
     "text": [
      "toEval/toEval/2016_H01L done\n",
      "toEval shape:  (34, 9)\n",
      "text/2016_H01L Done\n",
      "Nb secondary IPC (text size):  20\n",
      "Create KS, iterate through patents of IPC H01L, of reference year 2013 for evalYear 2016\n"
     ]
    },
    {
     "name": "stderr",
     "output_type": "stream",
     "text": [
      "100%|██████████| 1000/1000 [00:00<00:00, 2056.61it/s]\n"
     ]
    },
    {
     "name": "stdout",
     "output_type": "stream",
     "text": [
      "Create ES, iterate through patents of secondary IPC H01L, of reference year 2013 for evalYear 2016\n"
     ]
    },
    {
     "name": "stderr",
     "output_type": "stream",
     "text": [
      "100%|██████████| 55/55 [00:00<00:00, 1957.00it/s]\n",
      "100%|██████████| 15/15 [00:00<00:00, 2507.06it/s]\n"
     ]
    },
    {
     "name": "stdout",
     "output_type": "stream",
     "text": [
      "ES and KS done for: 2016_2013_H01L\n",
      "Create KS, iterate through patents of IPC H01L, of reference year 2014 for evalYear 2016\n"
     ]
    },
    {
     "name": "stderr",
     "output_type": "stream",
     "text": [
      "100%|██████████| 1000/1000 [00:00<00:00, 2416.80it/s]\n"
     ]
    },
    {
     "name": "stdout",
     "output_type": "stream",
     "text": [
      "Create ES, iterate through patents of secondary IPC H01L, of reference year 2014 for evalYear 2016\n"
     ]
    },
    {
     "name": "stderr",
     "output_type": "stream",
     "text": [
      "100%|██████████| 45/45 [00:00<00:00, 3001.55it/s]\n",
      "100%|██████████| 10/10 [00:00<00:00, 1424.45it/s]\n"
     ]
    },
    {
     "name": "stdout",
     "output_type": "stream",
     "text": [
      "ES and KS done for: 2016_2014_H01L\n",
      "Create KS, iterate through patents of IPC H01L, of reference year 2015 for evalYear 2016\n"
     ]
    },
    {
     "name": "stderr",
     "output_type": "stream",
     "text": [
      "100%|██████████| 1000/1000 [00:00<00:00, 3245.34it/s]\n"
     ]
    },
    {
     "name": "stdout",
     "output_type": "stream",
     "text": [
      "Create ES, iterate through patents of secondary IPC H01L, of reference year 2015 for evalYear 2016\n"
     ]
    },
    {
     "name": "stderr",
     "output_type": "stream",
     "text": [
      "100%|██████████| 61/61 [00:00<00:00, 2780.16it/s]\n",
      "100%|██████████| 13/13 [00:00<00:00, 1629.49it/s]\n",
      "100%|██████████| 3/3 [00:18<00:00,  6.23s/it]"
     ]
    },
    {
     "name": "stdout",
     "output_type": "stream",
     "text": [
      "ES and KS done for: 2016_2015_H01L\n",
      "ES and KS done for: 2016_H01L\n",
      "df_KS shape:  (155, 10)\n",
      "df_ES shape:  (36, 10)\n"
     ]
    },
    {
     "name": "stderr",
     "output_type": "stream",
     "text": [
      "100%|██████████| 3/3 [00:18<00:00,  6.14s/it]\n"
     ]
    }
   ],
   "source": [
    "pathData = \"C:/Users/edgar/OneDrive/Bureau/Ecole/HEC/A24/BrevetNLP/data\"\n",
    "pathOutput = \"C:/Users/edgar/OneDrive/Bureau/Ecole/HEC/A24/BrevetNLP/exemple données\"\n",
    "listIPC =  [\"G06F\", \"A61B\", \"H01L\"] #[\"G06F\", \"G01N\", \"A61B\", \"B60L\", \"E21B\", \"F03D\", \"H01L\", \"H04W\"]\n",
    "listYearsEval = range(2014, 2017) #range(2011, 2017)\n",
    "nbYearsRef = 3 #5\n",
    "\n",
    "loopFinal(listIPC, listYearsEval, 3, pathData, pathOutput)"
   ]
  },
  {
   "cell_type": "markdown",
   "metadata": {},
   "source": [
    "Quelques tests"
   ]
  }
 ],
 "metadata": {
  "kernelspec": {
   "display_name": "base",
   "language": "python",
   "name": "python3"
  },
  "language_info": {
   "codemirror_mode": {
    "name": "ipython",
    "version": 3
   },
   "file_extension": ".py",
   "mimetype": "text/x-python",
   "name": "python",
   "nbconvert_exporter": "python",
   "pygments_lexer": "ipython3",
   "version": "3.9.16"
  }
 },
 "nbformat": 4,
 "nbformat_minor": 2
}
