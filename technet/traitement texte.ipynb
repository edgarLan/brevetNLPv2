{
 "cells": [
  {
   "cell_type": "code",
   "execution_count": 5,
   "id": "26e0f84e",
   "metadata": {},
   "outputs": [],
   "source": [
    "# !pip install spacy\n",
    "# !python -m spacy download en_core_web_sm"
   ]
  },
  {
   "cell_type": "code",
   "execution_count": 6,
   "id": "977cb6e5",
   "metadata": {},
   "outputs": [],
   "source": [
    "# import sys\n",
    "# import logging\n",
    "\n",
    "# nblog = open(\"nb_freqWords.log\", \"a+\")\n",
    "# sys.stdout.echo = nblog\n",
    "# sys.stderr.echo = nblog\n",
    "\n",
    "# get_ipython().log.handlers[0].stream = nblog\n",
    "# get_ipython().log.setLevel(logging.INFO)\n",
    "\n",
    "# %autosave 5"
   ]
  },
  {
   "cell_type": "code",
   "execution_count": 10,
   "id": "a804a814-3880-4512-902e-2ead0890064e",
   "metadata": {
    "tags": []
   },
   "outputs": [
    {
     "name": "stderr",
     "output_type": "stream",
     "text": [
      "c:\\Users\\edgar\\OneDrive\\Bureau\\Ecole\\HEC\\A24\\BrevetNLP\\.conda\\Lib\\site-packages\\spacy\\util.py:910: UserWarning: [W095] Model 'en_core_web_sm' (3.8.0) was trained with spaCy v3.8.0 and may not be 100% compatible with the current version (3.7.5). If you see errors or degraded performance, download a newer compatible model or retrain your custom model with the current spaCy version. For more details and available updates, run: python -m spacy validate\n",
      "  warnings.warn(warn_msg)\n",
      "[nltk_data] Downloading package stopwords to\n",
      "[nltk_data]     C:\\Users\\edgar\\AppData\\Roaming\\nltk_data...\n",
      "[nltk_data]   Package stopwords is already up-to-date!\n"
     ]
    },
    {
     "data": {
      "text/plain": [
       "True"
      ]
     },
     "execution_count": 10,
     "metadata": {},
     "output_type": "execute_result"
    }
   ],
   "source": [
    "import spacy\n",
    "nlp = spacy.load(\"en_core_web_sm\")\n",
    "import pandas as pd\n",
    "from tqdm import tqdm\n",
    "import nltk\n",
    "import re\n",
    "from nltk.corpus import stopwords\n",
    "from collections import Counter, defaultdict\n",
    "nltk.download('stopwords')"
   ]
  },
  {
   "cell_type": "code",
   "execution_count": 12,
   "id": "fd61c56c",
   "metadata": {},
   "outputs": [],
   "source": [
    "path = \"C:/Users/edgar/OneDrive/Bureau/Ecole/HEC/A24/BrevetNLP/\"\n",
    "# path = \"/home/edgarlanoue/data/\""
   ]
  },
  {
   "cell_type": "code",
   "execution_count": 13,
   "id": "244cb7d3",
   "metadata": {},
   "outputs": [
    {
     "name": "stdout",
     "output_type": "stream",
     "text": [
      "Stopwords NLTK:  ['i', 'me', 'my', 'myself', 'we', 'our', 'ours', 'ourselves', 'you', \"you're\", \"you've\", \"you'll\", \"you'd\", 'your', 'yours', 'yourself', 'yourselves', 'he', 'him', 'his', 'himself', 'she', \"she's\", 'her', 'hers', 'herself', 'it', \"it's\", 'its', 'itself', 'they', 'them', 'their', 'theirs', 'themselves', 'what', 'which', 'who', 'whom', 'this', 'that', \"that'll\", 'these', 'those', 'am', 'is', 'are', 'was', 'were', 'be', 'been', 'being', 'have', 'has', 'had', 'having', 'do', 'does', 'did', 'doing', 'a', 'an', 'the', 'and', 'but', 'if', 'or', 'because', 'as', 'until', 'while', 'of', 'at', 'by', 'for', 'with', 'about', 'against', 'between', 'into', 'through', 'during', 'before', 'after', 'above', 'below', 'to', 'from', 'up', 'down', 'in', 'out', 'on', 'off', 'over', 'under', 'again', 'further', 'then', 'once', 'here', 'there', 'when', 'where', 'why', 'how', 'all', 'any', 'both', 'each', 'few', 'more', 'most', 'other', 'some', 'such', 'no', 'nor', 'not', 'only', 'own', 'same', 'so', 'than', 'too', 'very', 's', 't', 'can', 'will', 'just', 'don', \"don't\", 'should', \"should've\", 'now', 'd', 'll', 'm', 'o', 're', 've', 'y', 'ain', 'aren', \"aren't\", 'couldn', \"couldn't\", 'didn', \"didn't\", 'doesn', \"doesn't\", 'hadn', \"hadn't\", 'hasn', \"hasn't\", 'haven', \"haven't\", 'isn', \"isn't\", 'ma', 'mightn', \"mightn't\", 'mustn', \"mustn't\", 'needn', \"needn't\", 'shan', \"shan't\", 'shouldn', \"shouldn't\", 'wasn', \"wasn't\", 'weren', \"weren't\", 'won', \"won't\", 'wouldn', \"wouldn't\"]\n",
      "\n",
      "Stopwords USTPO:  ['a', 'accordance', 'according', 'all', 'also', 'an', 'and', 'another', 'are', 'as', 'at', 'be', 'because', 'been', 'being', 'by', 'claim', 'comprises', 'corresponding', 'could', 'described', 'desired', 'do', 'does', 'each', 'embodiment', 'fig', 'figs', 'for', 'from', 'further', 'generally', 'had', 'has', 'have', 'having', 'herein', 'however', 'if', 'in', 'into', 'invention', 'is', 'it', 'its', 'means', 'not', 'now', 'of', 'on', 'onto', 'or', 'other', 'particularly', 'preferably', 'preferred', 'present', 'provide', 'provided', 'provides', 'relatively', 'respectively', 'said', 'should', 'since', 'some', 'such', 'suitable', 'than', 'that', 'the', 'their', 'then', 'there', 'thereby', 'therefore', 'thereof', 'thereto', 'these', 'they', 'this', 'those', 'thus', 'to', 'use', 'various', 'was', 'were', 'what', 'when', 'where', 'whereby', 'wherein', 'which', 'while', 'who', 'will', 'with', 'would']\n",
      "\n",
      "Stopwords TN_technical:  ['able', 'above-mentioned', 'accordingly', 'across', 'along', 'already', 'alternatively', 'always', 'among', 'and/or', 'anything', 'anywhere', 'better', 'disclosure', 'due', 'easily', 'easy', 'eg', 'either', 'elsewhere', 'enough', 'especially', 'essentially', 'et al', 'etc', 'eventually', 'excellent', 'finally', 'furthermore', 'good', 'hence', 'he/she', 'him/her', 'his/her', 'ie', 'ii', 'iii', 'instead', 'later', 'like', 'little', 'many', 'may', 'meanwhile', 'might', 'moreover', 'much', 'must', 'never', 'often', 'others', 'otherwise', 'overall', 'rather', 'remarkably', 'significantly', 'simply', 'sometimes', 'specifically', 'straight forward', 'substantially', 'thereafter', 'therebetween', 'therefor', 'therefrom', 'therein', 'thereinto', 'thereon', 'therethrough', 'therewith', 'together', 'toward', 'towards', 'typical', 'typically', 'upon', 'via', 'vice versa', 'whatever', 'whereas', 'whereat', 'wherever', 'whether', 'whose', 'within', 'without', 'yet']\n"
     ]
    }
   ],
   "source": [
    "print(\"Stopwords NLTK: \", stopwords.words('english'))\n",
    "print(\"\")\n",
    "with open(path+\"Technet/USPTO_stopwords_en.txt\", 'r') as file:\n",
    "    stopwords_USTPO = [line.strip() for line in file.readlines()]\n",
    "with open(path+\"Technet/technical_stopwords.txt\", 'r') as file:\n",
    "    stopwords_TN_technical = [line.strip() for line in file.readlines()]\n",
    "print(\"Stopwords USTPO: \", stopwords_USTPO)\n",
    "print(\"\")\n",
    "print(\"Stopwords TN_technical: \", stopwords_TN_technical)"
   ]
  },
  {
   "cell_type": "markdown",
   "id": "0d7588bb",
   "metadata": {},
   "source": [
    "Stopwords NLTK était les seules qui étaient déjà intégrés"
   ]
  },
  {
   "cell_type": "code",
   "execution_count": null,
   "id": "42c57647-98c8-4228-bd6c-c018242fdd94",
   "metadata": {
    "tags": []
   },
   "outputs": [
    {
     "name": "stdout",
     "output_type": "stream",
     "text": [
      "\n",
      "toAdd:  ['or', 'in', 'be', 'but ', 'an', 'of', 'may', 'as', 'soh', 'eoh', 'a', 'b', 'c', 'd', 'e', 'f', 'g', 'h', 'i', 'j', 'k', 'l', 'm', 'n', 'o', 'p', 'q', 'r', 's', 't', 'u', 'v', 'w', 'x', 'y', 'z', '1', '2', '3', '4', '5', '6', '7', '8', '9', '0', '-']\n"
     ]
    }
   ],
   "source": [
    "# ajout de lettres et nombres à stopwords\n",
    "# Pourquoi retirer les lettres et les nombres?\n",
    "stopEN = stopwords.words('english') + stopwords_USTPO + stopwords_TN_technical\n",
    "toAdd = ['or', 'in', 'be', 'but ', 'an', 'of', 'may', 'as', 'soh', 'eoh', 'a', 'b', 'c','d','e','f','g','h','i','j','k','l','m','n','o','p','q',\n",
    "                             'r','s','t','u','v','w','x','y','z', '1','2','3','4','5','6','7','8','9','0','-']\n",
    "# new = ['first', 'second', 'method', 'apparatus', 'step', '10', '/', 'image', 'third', '11', '12', 'point', '14', 'application', '13', '15', 'display', 'section', 'current', 'c1', 'ue', '20', '16', 'show', '17', '18', 'I', 'art', '19', 'summary', 'patent', 'example']\n",
    "\n",
    "stopEN = stopEN + toAdd #+ new\n",
    "\n",
    "print(\"\")\n",
    "print(\"toAdd: \", toAdd)"
   ]
  },
  {
   "cell_type": "code",
   "execution_count": 15,
   "id": "4408b51b",
   "metadata": {},
   "outputs": [],
   "source": [
    "technet = pd.read_csv(path+\"Technet/clean_vocab.csv\")\n",
    "tn_lemm = pd.read_csv(path+\"Technet/lemmatized_technet.csv\")"
   ]
  },
  {
   "cell_type": "code",
   "execution_count": 16,
   "id": "a1131652",
   "metadata": {},
   "outputs": [
    {
     "name": "stdout",
     "output_type": "stream",
     "text": [
      "846003\n",
      "846001\n"
     ]
    }
   ],
   "source": [
    "print(len(technet))\n",
    "print(len(tn_lemm))"
   ]
  },
  {
   "cell_type": "code",
   "execution_count": 17,
   "id": "bb8436de",
   "metadata": {},
   "outputs": [
    {
     "data": {
      "text/plain": [
       "845647"
      ]
     },
     "execution_count": 17,
     "metadata": {},
     "output_type": "execute_result"
    }
   ],
   "source": [
    "# retirer stopwords\n",
    "tn_lemm = tn_lemm[~tn_lemm['lemmatized'].isin(stopEN)]\n",
    "len(tn_lemm)"
   ]
  },
  {
   "cell_type": "code",
   "execution_count": 18,
   "id": "d608688b",
   "metadata": {},
   "outputs": [
    {
     "name": "stderr",
     "output_type": "stream",
     "text": [
      "c:\\Users\\edgar\\OneDrive\\Bureau\\Ecole\\HEC\\A24\\BrevetNLP\\.conda\\Lib\\site-packages\\spacy\\util.py:910: UserWarning: [W095] Model 'en_core_web_sm' (3.8.0) was trained with spaCy v3.8.0 and may not be 100% compatible with the current version (3.7.5). If you see errors or degraded performance, download a newer compatible model or retrain your custom model with the current spaCy version. For more details and available updates, run: python -m spacy validate\n",
      "  warnings.warn(warn_msg)\n",
      "[nltk_data] Downloading package stopwords to\n",
      "[nltk_data]     C:\\Users\\edgar\\AppData\\Roaming\\nltk_data...\n",
      "[nltk_data]   Package stopwords is already up-to-date!\n",
      "[nltk_data] Downloading package stopwords to\n",
      "[nltk_data]     C:\\Users\\edgar\\AppData\\Roaming\\nltk_data...\n",
      "[nltk_data]   Package stopwords is already up-to-date!\n"
     ]
    }
   ],
   "source": [
    "import importlib\n",
    "import wordFreqFct\n",
    "importlib.reload(wordFreqFct)\n",
    "from wordFreqFct import Vocab, df2dict, count_word_frequency_patent, count_word_frequency_total"
   ]
  },
  {
   "cell_type": "code",
   "execution_count": 19,
   "id": "87d267a5",
   "metadata": {},
   "outputs": [],
   "source": [
    "instanceVocab = Vocab(technet=technet, df_lemm=tn_lemm)"
   ]
  },
  {
   "cell_type": "code",
   "execution_count": 20,
   "id": "36b95378",
   "metadata": {},
   "outputs": [
    {
     "data": {
      "text/plain": [
       "846002"
      ]
     },
     "execution_count": 20,
     "metadata": {},
     "output_type": "execute_result"
    }
   ],
   "source": [
    "len(instanceVocab.set_vocab)"
   ]
  },
  {
   "cell_type": "code",
   "execution_count": null,
   "id": "b7e0a9c9",
   "metadata": {},
   "outputs": [
    {
     "name": "stdout",
     "output_type": "stream",
     "text": [
      "{'2016': {'H01L': 99087}}\n"
     ]
    }
   ],
   "source": [
    "dict_toEval = df2dict(path+\"csv/KS\", n=22)\n",
    "dimensions = {\n",
    "    outer_key: {inner_key: len(value) for inner_key, value in inner_dict.items()}\n",
    "    for outer_key, inner_dict in dict_toEval.items()\n",
    "}\n",
    "print(dimensions)"
   ]
  },
  {
   "cell_type": "code",
   "execution_count": 18,
   "id": "68eb599f",
   "metadata": {},
   "outputs": [],
   "source": [
    "# clean_df = instanceVocab.cleanDF(dict_toEval[\"2016\"][\"A61B\"], type=\"all\")\n",
    "# clean_df_others = instanceVocab.cleanDF(dict_toEval[\"2016\"][\"A61B\"], type=\"others\")\n",
    "# clean_df_claims = instanceVocab.cleanDF(dict_toEval[\"2016\"][\"A61B\"], type=\"claims\")"
   ]
  },
  {
   "cell_type": "code",
   "execution_count": 19,
   "id": "89ddd487",
   "metadata": {},
   "outputs": [],
   "source": [
    "# lemm_df = instanceVocab.lemmDF(clean_df)\n",
    "# lemm_df_others = instanceVocab.lemmDF(clean_df_others)\n",
    "# lemm_df_claims = instanceVocab.lemmDF(clean_df_claims)"
   ]
  },
  {
   "cell_type": "code",
   "execution_count": 20,
   "id": "e3b2a93e",
   "metadata": {},
   "outputs": [],
   "source": [
    "# print(\"ALL: \", count_word_frequency_total(lemm_df))\n",
    "# print(\"OTHERS: \", count_word_frequency_total(lemm_df_others))\n",
    "# print(\"CLAIMS: \", count_word_frequency_total(lemm_df_claims))"
   ]
  },
  {
   "cell_type": "code",
   "execution_count": null,
   "id": "594b7dde",
   "metadata": {},
   "outputs": [
    {
     "name": "stdout",
     "output_type": "stream",
     "text": [
      "2016\n",
      "    H01L - others: [('layer', 2167), ('form', 1076), ('device', 1067)]\n",
      "    H01L - claims: [('layer', 1775), ('semiconductor', 889), ('form', 881)]\n",
      "Counter of 2016:  [('layer', 3942), ('form', 1957), ('semiconductor', 1739)]\n"
     ]
    }
   ],
   "source": [
    "listCols = [\"others\", \"claims\"]\n",
    "\n",
    "# Initialize the main counter dictionary and cumulative dictionaries\n",
    "counters = defaultdict(lambda: defaultdict(dict))\n",
    "count_by_year_ipc_cols = defaultdict(lambda: defaultdict(lambda: defaultdict(Counter)))\n",
    "count_by_year = defaultdict(Counter)\n",
    "count_by_ipc = defaultdict(Counter)\n",
    "count_by_cols = defaultdict(Counter)\n",
    "sum_counters = Counter()\n",
    "\n",
    "# Example loop to populate counters and calculate counts\n",
    "for year in dict_toEval:\n",
    "    print(year)\n",
    "    for ipc in dict_toEval[year]:\n",
    "        for cols in listCols:\n",
    "            # Calculate the counter for each (year, ipc) combination\n",
    "            counter_value = count_word_frequency_total(\n",
    "                instanceVocab.lemmDF(instanceVocab.cleanDF(dict_toEval[year][ipc], type=cols))\n",
    "            )\n",
    "\n",
    "            # Store the counter\n",
    "            counters[year][ipc][cols] = counter_value\n",
    "\n",
    "            # Update count by year and by ipc for each column type\n",
    "            count_by_year_ipc_cols[year][ipc][cols] += counter_value\n",
    "\n",
    "            count_by_year[year] += counter_value\n",
    "            count_by_ipc[ipc] += counter_value\n",
    "            count_by_cols[cols] += counter_value\n",
    "\n",
    "            # Update overall sum counter\n",
    "            sum_counters += counter_value\n",
    "\n",
    "            print(f\"    {ipc} - {cols}: {count_by_year_ipc_cols[year][ipc][cols].most_common(3)}\")\n",
    "            # print(f\"Counter of {year} ({cols}): \", count_by_year_cols[year][cols].most_common(3))\n",
    "\n",
    "    print(f\"Counter of {year}: \", count_by_year[year].most_common(3))"
   ]
  },
  {
   "cell_type": "code",
   "execution_count": 22,
   "id": "ff36ac47",
   "metadata": {},
   "outputs": [],
   "source": [
    "# print(count_by_ipc[\"A61B\"])\n",
    "# print(count_by_ipc[\"B32B\"])\n",
    "# print(count_by_ipc[\"A61B\"]+count_by_ipc[\"B32B\"])\n",
    "# print(\"\")\n",
    "# print(count_by_year[\"2015\"])\n",
    "# print(count_by_year[\"2016\"])\n",
    "# print(count_by_year[\"2015\"]+count_by_year[\"2016\"])\n",
    "# print(\"\")\n",
    "# print(count_by_cols[\"claims\"])\n",
    "# print(count_by_cols[\"others\"])\n",
    "# print(count_by_cols[\"claims\"]+count_by_cols[\"others\"])\n",
    "# print(\"\")\n",
    "# print(sum_counters)"
   ]
  },
  {
   "cell_type": "code",
   "execution_count": 26,
   "id": "48e10bc0",
   "metadata": {},
   "outputs": [
    {
     "data": {
      "text/html": [
       "<div>\n",
       "<style scoped>\n",
       "    .dataframe tbody tr th:only-of-type {\n",
       "        vertical-align: middle;\n",
       "    }\n",
       "\n",
       "    .dataframe tbody tr th {\n",
       "        vertical-align: top;\n",
       "    }\n",
       "\n",
       "    .dataframe thead th {\n",
       "        text-align: right;\n",
       "    }\n",
       "</style>\n",
       "<table border=\"1\" class=\"dataframe\">\n",
       "  <thead>\n",
       "    <tr style=\"text-align: right;\">\n",
       "      <th></th>\n",
       "      <th>total</th>\n",
       "      <th>count</th>\n",
       "      <th>2011</th>\n",
       "      <th>count</th>\n",
       "      <th>2012</th>\n",
       "      <th>count</th>\n",
       "      <th>2013</th>\n",
       "      <th>count</th>\n",
       "      <th>2014</th>\n",
       "      <th>count</th>\n",
       "      <th>...</th>\n",
       "      <th>H04W</th>\n",
       "      <th>count</th>\n",
       "      <th>B32B</th>\n",
       "      <th>count</th>\n",
       "      <th>A61B</th>\n",
       "      <th>count</th>\n",
       "      <th>others</th>\n",
       "      <th>count</th>\n",
       "      <th>claims</th>\n",
       "      <th>count</th>\n",
       "    </tr>\n",
       "  </thead>\n",
       "  <tbody>\n",
       "    <tr>\n",
       "      <th>0</th>\n",
       "      <td>first</td>\n",
       "      <td>8790399</td>\n",
       "      <td>layer</td>\n",
       "      <td>3359372</td>\n",
       "      <td>one</td>\n",
       "      <td>620813</td>\n",
       "      <td>one</td>\n",
       "      <td>886684</td>\n",
       "      <td>device</td>\n",
       "      <td>1111123</td>\n",
       "      <td>...</td>\n",
       "      <td>communication</td>\n",
       "      <td>2253722</td>\n",
       "      <td>layer</td>\n",
       "      <td>719332</td>\n",
       "      <td>first</td>\n",
       "      <td>853616</td>\n",
       "      <td>layer</td>\n",
       "      <td>4207007</td>\n",
       "      <td>first</td>\n",
       "      <td>5256198</td>\n",
       "    </tr>\n",
       "    <tr>\n",
       "      <th>1</th>\n",
       "      <td>layer</td>\n",
       "      <td>8248906</td>\n",
       "      <td>first</td>\n",
       "      <td>2489554</td>\n",
       "      <td>method</td>\n",
       "      <td>599815</td>\n",
       "      <td>first</td>\n",
       "      <td>844890</td>\n",
       "      <td>communication</td>\n",
       "      <td>1005284</td>\n",
       "      <td>...</td>\n",
       "      <td>device</td>\n",
       "      <td>2240282</td>\n",
       "      <td>material</td>\n",
       "      <td>434283</td>\n",
       "      <td>one</td>\n",
       "      <td>778988</td>\n",
       "      <td>first</td>\n",
       "      <td>3534201</td>\n",
       "      <td>second</td>\n",
       "      <td>4463671</td>\n",
       "    </tr>\n",
       "    <tr>\n",
       "      <th>2</th>\n",
       "      <td>second</td>\n",
       "      <td>7278571</td>\n",
       "      <td>form</td>\n",
       "      <td>2214371</td>\n",
       "      <td>communication</td>\n",
       "      <td>528035</td>\n",
       "      <td>method</td>\n",
       "      <td>843207</td>\n",
       "      <td>one</td>\n",
       "      <td>1004391</td>\n",
       "      <td>...</td>\n",
       "      <td>network</td>\n",
       "      <td>2154635</td>\n",
       "      <td>surface</td>\n",
       "      <td>385613</td>\n",
       "      <td>second</td>\n",
       "      <td>747489</td>\n",
       "      <td>device</td>\n",
       "      <td>3518050</td>\n",
       "      <td>layer</td>\n",
       "      <td>4041899</td>\n",
       "    </tr>\n",
       "    <tr>\n",
       "      <th>3</th>\n",
       "      <td>device</td>\n",
       "      <td>6608092</td>\n",
       "      <td>second</td>\n",
       "      <td>2059520</td>\n",
       "      <td>first</td>\n",
       "      <td>524179</td>\n",
       "      <td>device</td>\n",
       "      <td>822272</td>\n",
       "      <td>first</td>\n",
       "      <td>981750</td>\n",
       "      <td>...</td>\n",
       "      <td>base</td>\n",
       "      <td>1869058</td>\n",
       "      <td>method</td>\n",
       "      <td>355609</td>\n",
       "      <td>device</td>\n",
       "      <td>745275</td>\n",
       "      <td>one</td>\n",
       "      <td>2959300</td>\n",
       "      <td>method</td>\n",
       "      <td>3947253</td>\n",
       "    </tr>\n",
       "    <tr>\n",
       "      <th>4</th>\n",
       "      <td>method</td>\n",
       "      <td>6392135</td>\n",
       "      <td>semiconductor</td>\n",
       "      <td>1965817</td>\n",
       "      <td>device</td>\n",
       "      <td>504594</td>\n",
       "      <td>communication</td>\n",
       "      <td>770789</td>\n",
       "      <td>network</td>\n",
       "      <td>936055</td>\n",
       "      <td>...</td>\n",
       "      <td>one</td>\n",
       "      <td>1868262</td>\n",
       "      <td>first</td>\n",
       "      <td>352876</td>\n",
       "      <td>least</td>\n",
       "      <td>555503</td>\n",
       "      <td>form</td>\n",
       "      <td>2816140</td>\n",
       "      <td>comprise</td>\n",
       "      <td>3324287</td>\n",
       "    </tr>\n",
       "    <tr>\n",
       "      <th>...</th>\n",
       "      <td>...</td>\n",
       "      <td>...</td>\n",
       "      <td>...</td>\n",
       "      <td>...</td>\n",
       "      <td>...</td>\n",
       "      <td>...</td>\n",
       "      <td>...</td>\n",
       "      <td>...</td>\n",
       "      <td>...</td>\n",
       "      <td>...</td>\n",
       "      <td>...</td>\n",
       "      <td>...</td>\n",
       "      <td>...</td>\n",
       "      <td>...</td>\n",
       "      <td>...</td>\n",
       "      <td>...</td>\n",
       "      <td>...</td>\n",
       "      <td>...</td>\n",
       "      <td>...</td>\n",
       "      <td>...</td>\n",
       "      <td>...</td>\n",
       "    </tr>\n",
       "    <tr>\n",
       "      <th>295</th>\n",
       "      <td>adhesive</td>\n",
       "      <td>365419</td>\n",
       "      <td>back</td>\n",
       "      <td>94071</td>\n",
       "      <td>carry</td>\n",
       "      <td>30974</td>\n",
       "      <td>limit</td>\n",
       "      <td>43676</td>\n",
       "      <td>direct</td>\n",
       "      <td>46098</td>\n",
       "      <td>...</td>\n",
       "      <td>start</td>\n",
       "      <td>82722</td>\n",
       "      <td>higher</td>\n",
       "      <td>20992</td>\n",
       "      <td>face</td>\n",
       "      <td>42248</td>\n",
       "      <td>attach</td>\n",
       "      <td>210901</td>\n",
       "      <td>server</td>\n",
       "      <td>152876</td>\n",
       "    </tr>\n",
       "    <tr>\n",
       "      <th>296</th>\n",
       "      <td>illustrate</td>\n",
       "      <td>364849</td>\n",
       "      <td>produce</td>\n",
       "      <td>94069</td>\n",
       "      <td>refer</td>\n",
       "      <td>30938</td>\n",
       "      <td>output</td>\n",
       "      <td>43557</td>\n",
       "      <td>product</td>\n",
       "      <td>45845</td>\n",
       "      <td>...</td>\n",
       "      <td>register</td>\n",
       "      <td>82604</td>\n",
       "      <td>polyurethane</td>\n",
       "      <td>20932</td>\n",
       "      <td>filter</td>\n",
       "      <td>42075</td>\n",
       "      <td>achieve</td>\n",
       "      <td>209765</td>\n",
       "      <td>26</td>\n",
       "      <td>152749</td>\n",
       "    </tr>\n",
       "    <tr>\n",
       "      <th>297</th>\n",
       "      <td>relative</td>\n",
       "      <td>363804</td>\n",
       "      <td>block</td>\n",
       "      <td>93821</td>\n",
       "      <td>entity</td>\n",
       "      <td>30759</td>\n",
       "      <td>problem</td>\n",
       "      <td>43511</td>\n",
       "      <td>client</td>\n",
       "      <td>45669</td>\n",
       "      <td>...</td>\n",
       "      <td>synchronization</td>\n",
       "      <td>81760</td>\n",
       "      <td>field</td>\n",
       "      <td>20913</td>\n",
       "      <td>treat</td>\n",
       "      <td>42048</td>\n",
       "      <td>length</td>\n",
       "      <td>209497</td>\n",
       "      <td>distance</td>\n",
       "      <td>152719</td>\n",
       "    </tr>\n",
       "    <tr>\n",
       "      <th>298</th>\n",
       "      <td>particular</td>\n",
       "      <td>358518</td>\n",
       "      <td>allow</td>\n",
       "      <td>93135</td>\n",
       "      <td>port</td>\n",
       "      <td>30654</td>\n",
       "      <td>diagram</td>\n",
       "      <td>43509</td>\n",
       "      <td>event</td>\n",
       "      <td>45616</td>\n",
       "      <td>...</td>\n",
       "      <td>3gpp</td>\n",
       "      <td>81438</td>\n",
       "      <td>state</td>\n",
       "      <td>20880</td>\n",
       "      <td>know</td>\n",
       "      <td>42031</td>\n",
       "      <td>product</td>\n",
       "      <td>209033</td>\n",
       "      <td>barrier</td>\n",
       "      <td>152109</td>\n",
       "    </tr>\n",
       "    <tr>\n",
       "      <th>299</th>\n",
       "      <td>patent</td>\n",
       "      <td>358418</td>\n",
       "      <td>wavelength</td>\n",
       "      <td>93134</td>\n",
       "      <td>scheme</td>\n",
       "      <td>30604</td>\n",
       "      <td>combination</td>\n",
       "      <td>43072</td>\n",
       "      <td>map</td>\n",
       "      <td>45269</td>\n",
       "      <td>...</td>\n",
       "      <td>trigger</td>\n",
       "      <td>81347</td>\n",
       "      <td>hold</td>\n",
       "      <td>20683</td>\n",
       "      <td>well</td>\n",
       "      <td>41890</td>\n",
       "      <td>great</td>\n",
       "      <td>208801</td>\n",
       "      <td>application</td>\n",
       "      <td>150199</td>\n",
       "    </tr>\n",
       "  </tbody>\n",
       "</table>\n",
       "<p>300 rows × 36 columns</p>\n",
       "</div>"
      ],
      "text/plain": [
       "          total    count           2011    count           2012   count  \\\n",
       "0         first  8790399          layer  3359372            one  620813   \n",
       "1         layer  8248906          first  2489554         method  599815   \n",
       "2        second  7278571           form  2214371  communication  528035   \n",
       "3        device  6608092         second  2059520          first  524179   \n",
       "4        method  6392135  semiconductor  1965817         device  504594   \n",
       "..          ...      ...            ...      ...            ...     ...   \n",
       "295    adhesive   365419           back    94071          carry   30974   \n",
       "296  illustrate   364849        produce    94069          refer   30938   \n",
       "297    relative   363804          block    93821         entity   30759   \n",
       "298  particular   358518          allow    93135           port   30654   \n",
       "299      patent   358418     wavelength    93134         scheme   30604   \n",
       "\n",
       "              2013   count           2014    count  ...             H04W  \\\n",
       "0              one  886684         device  1111123  ...    communication   \n",
       "1            first  844890  communication  1005284  ...           device   \n",
       "2           method  843207            one  1004391  ...          network   \n",
       "3           device  822272          first   981750  ...             base   \n",
       "4    communication  770789        network   936055  ...              one   \n",
       "..             ...     ...            ...      ...  ...              ...   \n",
       "295          limit   43676         direct    46098  ...            start   \n",
       "296         output   43557        product    45845  ...         register   \n",
       "297        problem   43511         client    45669  ...  synchronization   \n",
       "298        diagram   43509          event    45616  ...             3gpp   \n",
       "299    combination   43072            map    45269  ...          trigger   \n",
       "\n",
       "       count          B32B   count    A61B   count   others    count  \\\n",
       "0    2253722         layer  719332   first  853616    layer  4207007   \n",
       "1    2240282      material  434283     one  778988    first  3534201   \n",
       "2    2154635       surface  385613  second  747489   device  3518050   \n",
       "3    1869058        method  355609  device  745275      one  2959300   \n",
       "4    1868262         first  352876   least  555503     form  2816140   \n",
       "..       ...           ...     ...     ...     ...      ...      ...   \n",
       "295    82722        higher   20992    face   42248   attach   210901   \n",
       "296    82604  polyurethane   20932  filter   42075  achieve   209765   \n",
       "297    81760         field   20913   treat   42048   length   209497   \n",
       "298    81438         state   20880    know   42031  product   209033   \n",
       "299    81347          hold   20683    well   41890    great   208801   \n",
       "\n",
       "          claims    count  \n",
       "0          first  5256198  \n",
       "1         second  4463671  \n",
       "2          layer  4041899  \n",
       "3         method  3947253  \n",
       "4       comprise  3324287  \n",
       "..           ...      ...  \n",
       "295       server   152876  \n",
       "296           26   152749  \n",
       "297     distance   152719  \n",
       "298      barrier   152109  \n",
       "299  application   150199  \n",
       "\n",
       "[300 rows x 36 columns]"
      ]
     },
     "execution_count": 26,
     "metadata": {},
     "output_type": "execute_result"
    }
   ],
   "source": [
    "\n",
    "# Function to convert Counter to DataFrame and keep top 300 words\n",
    "def counter_to_df(counter, source_name):\n",
    "    top_items = counter.most_common(300)\n",
    "    return pd.DataFrame(top_items, columns=[source_name, 'count'])\n",
    "\n",
    "# Step 1: Get top 300 for IPC by year (combine all years)\n",
    "all_year_items = [counter_to_df(year_counter, f'{year}') \n",
    "                  for year, year_counter in count_by_year.items()]\n",
    "df_sum_by_year = pd.concat(all_year_items, axis=1)\n",
    "\n",
    "# Step 2: Get top 300 for IPC by IPC\n",
    "all_ipc_items = [counter_to_df(ipc_counter, f'{ipc}') \n",
    "                 for ipc, ipc_counter in count_by_ipc.items()]\n",
    "df_sum_by_ipc = pd.concat(all_ipc_items, axis=1)\n",
    "\n",
    "# Step 3: Get top 300 for IPC by IPC\n",
    "all_cols_items = [counter_to_df(cols_counter, f'{cols}') \n",
    "                 for cols, cols_counter in count_by_cols.items()]\n",
    "df_sum_by_cols = pd.concat(all_cols_items, axis=1)\n",
    "\n",
    "# Step 4: Get top 300 total counts (sum of all IPCs and years combined)\n",
    "df_total = counter_to_df(sum_counters, 'total')\n",
    "\n",
    "# Step 5: Concatenate all DataFrames side by side\n",
    "df_final = pd.concat([df_total, df_sum_by_year, df_sum_by_ipc, df_sum_by_cols], axis=1)\n",
    "\n",
    "# Display the final concatenated DataFrame\n",
    "df_final"
   ]
  },
  {
   "cell_type": "code",
   "execution_count": 27,
   "id": "c2deb472-c02d-45f6-8ce9-7611380a4a70",
   "metadata": {},
   "outputs": [],
   "source": [
    "df_final.to_csv(path + \"Technet/wordFreq.csv\")"
   ]
  }
 ],
 "metadata": {
  "kernelspec": {
   "display_name": ".conda",
   "language": "python",
   "name": "python3"
  },
  "language_info": {
   "codemirror_mode": {
    "name": "ipython",
    "version": 3
   },
   "file_extension": ".py",
   "mimetype": "text/x-python",
   "name": "python",
   "nbconvert_exporter": "python",
   "pygments_lexer": "ipython3",
   "version": "3.11.10"
  }
 },
 "nbformat": 4,
 "nbformat_minor": 5
}
