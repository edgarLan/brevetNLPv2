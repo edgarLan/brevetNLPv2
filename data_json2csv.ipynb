{
 "cells": [
  {
   "cell_type": "markdown",
   "metadata": {},
   "source": [
    "# json brut à CSV\n",
    "### Création CSV to_eval, liste de IPC secondaire pour ES"
   ]
  },
  {
   "cell_type": "code",
   "execution_count": 93,
   "metadata": {},
   "outputs": [
    {
     "name": "stdout",
     "output_type": "stream",
     "text": [
      "C:\\Users\\edgar\\OneDrive\\Bureau\\Ecole\\HEC\\A24\\BrevetNLP\n"
     ]
    }
   ],
   "source": [
    "import os\n",
    "os.chdir('C:/Users/edgar/OneDrive/Bureau/Ecole/HEC/A24/BrevetNLP')\n",
    "print(os.getcwd())"
   ]
  },
  {
   "cell_type": "code",
   "execution_count": 1,
   "metadata": {},
   "outputs": [],
   "source": [
    "import pandas as pd\n",
    "from os import listdir\n",
    "from os.path import isfile, join\n",
    "import json\n",
    "import collections\n",
    "import re\n",
    "from tqdm import tqdm\n"
   ]
  },
  {
   "cell_type": "code",
   "execution_count": 96,
   "metadata": {},
   "outputs": [],
   "source": [
    "mypath = \"data/2006/\"  #'data/2016/2016/'\n",
    "_2006_files = [f for f in listdir(mypath) if isfile(join(mypath, f))]"
   ]
  },
  {
   "cell_type": "code",
   "execution_count": 22,
   "metadata": {},
   "outputs": [
    {
     "name": "stdout",
     "output_type": "stream",
     "text": [
      "207936\n",
      "10018639.json\n",
      "C:/Users/edgar/OneDrive/Bureau/Ecole/HEC/A24/BrevetNLP/data/2004/10149078.json\n",
      "{'application_number': '10149078', 'publication_number': 'US20060175173A1-20060810', 'title': 'Force -transmision unit comprising speed -dependent hydraulic clutch and centrifugal force compensation', 'decision': 'ACCEPTED', 'date_produced': '20060726', 'date_published': '20060810', 'main_cpc_label': '', 'cpc_labels': [], 'main_ipcr_label': 'F16D2512', 'ipcr_labels': ['F16D2512'], 'patent_number': '7287635', 'filing_date': '20040114', 'patent_issue_date': '20071030', 'abandon_date': '', 'uspc_class': '192', 'uspc_subclass': '035000', 'examiner_id': '63138.0', 'examiner_name_last': 'RODRIGUEZ', 'examiner_name_first': 'SAUL', 'examiner_name_middle': '', 'inventor_list': [{'inventor_name_last': 'Gratzer', 'inventor_name_first': 'Franz', 'inventor_city': 'Stallhofen', 'inventor_state': '', 'inventor_country': 'AT'}], 'abstract': 'A power transmission unit with a hydraulic coupling dependent on a rotational-speed difference, in which, when a rotational-speed difference occurs between the input member (1) and the output member (6), a hydrostatic displacement machine (20) produces in a pressure space (34) a pressure that acts on a piston (27) acting on a friction clutch (31), has a housing (4). To compensate for the centrifugal force acting on the working fluid in the pressure space (34), at least one centrifugal-force element (11, 12, 13) is provided in the housing, exerting on the piston (27) a force counter to the pressure produced by the centrifugal force in the pressure chamber (34).', 'claims': '1. A power transmission unit with an input member and an output member and a hydraulic coupling dependent on a rotational-speed difference, in which, when a rotational-speed difference occurs between the input member (1; 6) and the output member (6; 1), a hydrostatic displacement machine (20) produces in a pressure space (34) a pressure that acts on a piston (27) acting on a friction clutch (31), the friction clutch having first and second disks connected in terms of drive to the input member and the output member respectively, and one of the members (1; 6) forming a housing (4) that contains the displacement machine, wherein at least one centrifugal-force element (11, 12, 13; 41, 44; 50, 55) is provided in the housing, exerting on the piston (27) a force counter to the pressure produced by the centrifugal force in the pressure chamber (34). 2. The power transmission unit as claimed in claim 1, wherein the at least one centrifugal-force element is a flyweight (11). 3. The power transmission unit as claimed in claim 2, wherein the centrifugal-force element is a two-armed lever (12), one leg of which forms the flyweight (11) and the other lever of which forms a pressure finger (13). 4. The power transmission unit as claimed in claim 1, wherein the centrifugal-force element is an annular space (44; 50) that contains an operating fluid and rotates with the housing (4). 5. The power transmission unit as claimed in claim 4, wherein the rotating annular space (44) is formed by a cylindrical sleeve (41) surrounding the housing (4) and having a wall (42) in the form of a circular ring normal to the axis and by a wall (43), normal to the axis, of the housing (4), and wherein the sleeve (41) is connected to the piston (27) and can be displaced in an axial direction. 6. The power transmission unit as claimed in claim 4, wherein the radially outermost zone of the rotating annular space (50) is connected via a passage (54) to a compensation pressure space (57) on the opposite side of the piston (27) from the pressure space (34). 7. The power transmission unit as claimed in claim 6, wherein the compensation pressure space (57) is formed by an annular cylinder (55) in the housing (4) and by an annular continuation (56) on the opposite side of the piston (27) from the pressure space (34).', 'background': '', 'summary': '', 'full_description': 'The invention relates to a power transmission unit with an input member and an output member and a hydraulic coupling dependent on a rotational-speed difference, in which, when a rotational-speed difference occurs between the input member and the output member, a hydrostatic displacement machine produces in a pressure space a pressure that acts on a piston acting on a friction clutch, the friction clutch having first and second disks connected in terms of drive to the input member and the output member respectively, and one of the members forming a housing that contains the displacement machine. Power transmission units of this kind are used especially in drive trains of motor vehicles, preferably all-wheel-drive vehicles; either together with a differential, the hydraulic coupling limiting the differential action, or to drive the second driven axle, the torque transmitted depending on the difference between the wheel speed and the drive shaft connected to the wheels of the other axle. The pressure produced by the displacement machine acts on a clutch, preferably a multi-plate clutch. This action can be influenced by means of various valves, whether these are automatically acting valves or valves actuated by an external control system. U.S. Pat. No. 5,536,215 has disclosed a power transmission unit of this kind, as has Austrian Utility Model 2964. In these and all such power transmission units, the pressure space in which the pressure acting on the piston is built up is in the rotating housing. As a result, the operating fluid contained in this housing is subject to a centrifugal force, which increases and thus distorts the pressure prevailing in the pressure chamber as a function of the rotational speed. This is particularly disruptive if the pressure is dependent on a rotational-speed difference and is supplied by a hydrostatic displacement machine, and this applies in both possible cases: if, in the first case—that of an unregulated coupling—there are no control valves, compensation is impossible; and if, in the second case, control valves intended to depressurize the pressure space for disengagement are provided, this is not possible at higher absolute rotational speeds because the discharge line adjoining the control valve has to end in a smaller radius. However, the pressure there is always less than in the pressure chamber, owing to centrifugal force. It is therefore the object of the invention to eliminate these disadvantages corresponding to the special features of couplings of the generic type. The influence of centrifugal force should be at least partially compensated for to a necessary extent. According to the invention, at least one centrifugal-force element is provided for this purpose in the housing, exerting on the piston a force that is the square of the rotational speed and acts counter to the pressure acting on the piston. By virtue of the fact that it is likewise situated in the housing, compensation to a specifiable extent is possible in all rotational-speed ranges without any outlay on regulation systems, given appropriate design. It is thereby possible to establish a speed dependence of the transmitted torque corresponding to the requirements as regards driving dynamics. The extent of compensation ranges from partial compensation and full compensation to overcompensation. In this arrangement, the transmitted torque falls as the speed increases, giving better traction at low speed and improved interaction with electronic brake systems (e.g. ABS) at high speed. In an advantageous design, the at least one centrifugal-force element is a flyweight (claim 1). Compensation of centrifugal force is thus performed in a purely mechanical way, and, in a preferred embodiment, the centrifugal-force element is part of a two-armed lever, one leg of which is the flyweight and the other lever of which is a pressure finger (claim 3). The levers, of which there are three for example, are very simple and can be accommodated in the housing with only slight design changes. This is the simplest solution and can even be retrofitted to existing couplings. The other design comprises the centrifugal-force element being an annular space that contains an operating fluid and rotates with the housing (claim 4). This is a hydraulic method of compensating for centrifugal force. Since there is sufficient operating fluid in and around the coupling, there is no problem with supplying it. In a first advantageous embodiment of this other design, the rotating annular space is formed by a cylindrical sleeve surrounding the housing and having a wall in the form of a circular ring normal to the axis and by a wall, normal to the axis, of the housing, and the sleeve is connected to the piston and can be displaced in an axial direction (claim 5). In this way, the annular space is bounded on one side by a displaceable wall and on the other side by a nondisplaceable wall of the housing. The liquid level in the annular space is determined by the inner radius of the wall in the form of a circular ring normal to the axis. The centrifugal force acting on the working medium in the annular space pushes apart the walls normal to the axis. This compensating force is transmitted to the piston by the displaceable sleeve. In a second advantageous embodiment of this other design, the radially outermost zone of the rotating annular space is connected via a passage to a compensation pressure space on the opposite side of the piston from the pressure space (claim 6). The annular space and the passage can also be provided within the housing. It is even possible, by means of valves associated with the passage, to achieve special effects in terms of driving dynamics. A particularly elegant solution is for the compensation pressure space to be formed by an annular cylinder in the housing and by an annular continuation on the opposite side of the piston from the pressure space (claim 7). The invention is described and explained below with reference to figures, in which: FIG. 1 shows a longitudinal section through a device according to the invention in a first embodiment, FIG. 2 shows a longitudinal section through a device according to the invention in a second embodiment, and FIG. 3 shows a longitudinal section through a device according to the invention in a third embodiment. In FIG. 1, the input member is denoted by 1 but it could also be the output member, to which a shaft 2, indicated in broken lines, is flanged by means of bolts, which are merely indicated. It comprises a front plate 3, an essentially cylindrical housing 4, which is connected integrally or in a fixed manner to the front plate 3, and an end plate 5, which is connected releasably to the housing 4 for the purpose of assembly, though in a leaktight way. The output member 6 (it could also be the input member) is a hollow shaft, into which a shaft that is merely indicated is introduced by means of splines; it is supported in bearings 7 in the front plate 3 and the end plate 5 of the input member 1 and can be sealed off relative to the latter by means of seals 8. Simple sealing rings are sufficient because the rotational-speed difference is very small on average. 9 denotes the axis of rotation or center line. Within the housing 4, there is a hydrostatic displacement machine 20, which comprises an inner part 21 and an outer part 22. The first of these is connected in a rotationally fixed manner to the output member 6, while the second is connected to the input member 1 and, more specifically, to the housing 4. The corresponding coupling teeth are merely indicated. Extending between the inner part 21 and the outer part 22 is a working space 23, which is supplied via an intake passage 24 in a manner that is not shown. Adjoining the hydrostatic displacement machine 20 on the other side is an insert 25, which contains a pressure passage 26 and a piston 27, which is acted upon by the pressurized fluid supplied via the pressure passage 26 and, with the insert 25, delimits a pressure space 34. Some of this pressurized fluid can be directed into the space, which contains a clutch 31, via a throttle valve 28 by a piston 27, a number of inner plates 29 and outer plates 30 being arranged in said space. The first of these are connected to the output member 6 in a way that prevents relative rotation but allows translation, while the second are connected in the same way to the housing 4 of the input member 1. For the purpose of mounting a device for compensating the force exerted on the piston 27 by the centrifugal force in the pressure chamber 34, the housing 4 here has a plurality of apertures 10, which are distributed around the circumference and through which two-armed angled levers 12 reach. One leg of such a lever is constructed as a flyweight 11, while the other is constructed as a pressure finger 13, which engages in a recess 14 on the opposite side of the piston 27 from the pressure space 34. Instead of a pivot passing through the two-armed lever 12, a bearing edge 15, on which a bearing shoulder 16 on the rear side of the pressure finger 13 is supported, is provided here on the aperture 10 in the housing 4. This ensures that the lever 12 does not fly off. A projection 18, which is held by an end stop 17 when the outermost permitted position of the flyweight 11 is reached, can be provided on the outermost end of the flyweight 11. FIG. 2 shows a different design. Here too, the housing 4 has a plurality of apertures 10 distributed around the circumference, through which radial pins 40 inserted into the piston 27 extend outward and are connected to a cylindrical sleeve 41 surrounding the housing 4 all the way round. They can transmit a force in the axial direction between the sleeve 41 and the piston 27. The cylindrical sleeve 41 extends toward the left in the figure, projects beyond the housing 4 and ends in a wall 42 in the form of a circular ring normal to the axis. An annular space 44 is thus formed between this wall and a wall 43, normal to the axis, of the housing 4. This annular space is sealed off by means of a sealing ring 45 between the housing 4 and the sleeve 41 and contains working fluid to a level determined by the inside diameter of the wall 42. When the housing 4 is rotated, this liquid surface 46 becomes a cylindrical surface. During rotation, the centrifugal force in this annular space 44 gives rise to a pressure that pulls the wall 43 of the sleeve 41 to the left in the exemplary embodiment illustrated and thus, in turn, exerts on the piston 27, via the pins 40, a force that compensates for the centrifugal force in the pressure space 34. The design and position of the annular space 44 can also be modified. The essential point is that an axial force counter to the force acting on the piston 27 in the pressure space 34 arises. According to the variant in FIG. 3, the connection between the annular space and the piston can also be established hydraulically. For this purpose, an annular space 50 is again provided, on the opposite side of the piston 27 from the pressure space 34 and within the housing 4 in the exemplary embodiment shown. The annular space 50 is kept filled from the interior of the clutch space via a feed hole 51, a drain hole 52 ensuring that a constant (cylindrical) liquid surface 53 is maintained. The pressure produced by the centrifugal force in the annular space 50 acts via an axial passage 54 (or a plurality of such passages) on an annular cylinder 55. This is likewise formed in the housing 4 and accepts an annular continuation 56 of the piston 27 in a sealing manner. With the annular cylinder 55, it forms a compensation pressure space 57. There, the pressure acts on the surface 58 in the form of a circular ring and thus compensates for the action of the pressure prevailing in the pressure chamber 34. It is possible to modify many details of the exemplary embodiments illustrated while remaining within the scope of the invention. Thus the construction of the hydrostatic displacement machine can vary very widely, both as regards the shape of its rotors and as regards their arrangement in the housing 4. Finally, the power transmission unit can be arranged at various points within the drive train, in particular ahead of or after the axle differential in the power flow. It can also be arranged within a housing containing the axle differential.'}\n",
      "F16D2512\n"
     ]
    },
    {
     "name": "stderr",
     "output_type": "stream",
     "text": [
      "100%|██████████| 10/10 [00:00<00:00, 1150.39it/s]\n"
     ]
    }
   ],
   "source": [
    "print(len(_2006_files))\n",
    "print(_2006_files[1])\n",
    "patent_path = mypath + _2006_files[9]\n",
    "print(patent_path)\n",
    "with open(patent_path) as f:\n",
    "    d = json.load(f) # load json in d\n",
    "    f.close()   # close f - not needed with with ___ as syntax\n",
    "class_mainIPC = d['main_ipcr_label']\n",
    "print(d)\n",
    "print(d[\"main_ipcr_label\"])\n",
    "\n",
    "for i in tqdm(range(10)):\n",
    "    patent_path = mypath + _2006_files[i]\n",
    "    with open(patent_path) as f:\n",
    "        d = json.load(f) # load json in d\n",
    "        f.close()   # close f - not needed with with ___ as syntax\n",
    "    class_mainIPC = d['main_ipcr_label']\n",
    "    secClass = d['ipcr_labels']\n",
    "    if len(secClass) > 1:\n",
    "        print(i)\n",
    "\n",
    "    \n"
   ]
  },
  {
   "cell_type": "code",
   "execution_count": null,
   "metadata": {},
   "outputs": [],
   "source": []
  },
  {
   "cell_type": "markdown",
   "metadata": {},
   "source": [
    "Création de listes de brevets de chaque type de class IPC à préciser"
   ]
  },
  {
   "cell_type": "code",
   "execution_count": 29,
   "metadata": {},
   "outputs": [
    {
     "name": "stderr",
     "output_type": "stream",
     "text": [
      "100%|██████████| 10000/10000 [00:03<00:00, 3331.98it/s]\n"
     ]
    }
   ],
   "source": [
    "# Check on all decision and repartition -- I think we should keep only the one accepted based on other USPTO patent (continuity)\n",
    "\n",
    "# initialisation de dict, dont les valeurs inconnues sont initialiser à 0, pour chaque classe IPC\n",
    "decision_H01L = collections.defaultdict(int)\n",
    "decision_G06F = collections.defaultdict(int)\n",
    "decision_A61B = collections.defaultdict(int)\n",
    "nbEmpty = collections.defaultdict(int)\n",
    "\n",
    "# initialisation de vecteurs pour chaque classe IPC\n",
    "patent_H01L_list = []\n",
    "patent_G06F_list = []\n",
    "patent_A61B_list = []\n",
    "\n",
    "for i in tqdm(range(len(_2006_files[:10000]))):\n",
    "    patent_path = mypath + _2006_files[i]\n",
    "    with open(patent_path) as f:\n",
    "        d = json.load(f) # load json in d\n",
    "        f.close()   # close f - not needed with \"with ___ as\" syntax\n",
    "    class_mainIPC = d['main_ipcr_label']\n",
    "    if re.match(r'^H01L', class_mainIPC):\n",
    "        patent_H01L_list.append(_2006_files[i])\n",
    "        decision_H01L[d['decision']] += 1\n",
    "    if re.match(r'^G06F', class_mainIPC):\n",
    "        patent_G06F_list.append(_2006_files[i])\n",
    "        decision_G06F[d['decision']] += 1\n",
    "    if re.match(r'^A61B', class_mainIPC):\n",
    "        patent_A61B_list.append(_2006_files[i])\n",
    "        decision_A61B[d['decision']] += 1\n",
    "    if class_mainIPC == \"\":\n",
    "        nbEmpty[class_mainIPC] += 1"
   ]
  },
  {
   "cell_type": "code",
   "execution_count": 31,
   "metadata": {},
   "outputs": [
    {
     "name": "stdout",
     "output_type": "stream",
     "text": [
      "252 390 191\n",
      "defaultdict(<class 'int'>, {'ACCEPTED': 137, 'REJECTED': 115}) defaultdict(<class 'int'>, {'ACCEPTED': 210, 'REJECTED': 179, 'PENDING': 1}) defaultdict(<class 'int'>, {'REJECTED': 110, 'ACCEPTED': 80, 'PENDING': 1}) defaultdict(<class 'int'>, {'': 6})\n"
     ]
    }
   ],
   "source": [
    "print(len(patent_H01L_list), len(patent_G06F_list), len(patent_A61B_list))\n",
    "print(decision_H01L, decision_G06F, decision_A61B, nbEmpty)"
   ]
  },
  {
   "cell_type": "markdown",
   "metadata": {},
   "source": [
    "Il y a énormément de brevets sans IPC...\n",
    "\n",
    "Surtout en 2004, mais aussi _2006\n",
    "\n",
    "- 10018639 - _20060081931A1\n",
    "- 10018320 - _20060130116A1\n",
    "- 10250708 - 20060086443A1\n",
    "\n",
    "Nous allons continuer avec 2006 ici"
   ]
  },
  {
   "cell_type": "markdown",
   "metadata": {},
   "source": [
    "#### Exclusion des de tout autre que Accepter ou rejeter, dans une liste de brevet de classe IPC"
   ]
  },
  {
   "cell_type": "code",
   "execution_count": 32,
   "metadata": {},
   "outputs": [
    {
     "name": "stderr",
     "output_type": "stream",
     "text": [
      "100%|██████████| 191/191 [00:00<00:00, 2999.42it/s]\n"
     ]
    }
   ],
   "source": [
    "final_patents = []\n",
    "decision = []\n",
    "for i in tqdm(range(len(patent_A61B_list))):\n",
    "    patent_path = mypath + patent_A61B_list[i]\n",
    "    with open(patent_path) as f:\n",
    "        d = json.load(f)\n",
    "        f.close()\n",
    "    if d['decision'] == 'ACCEPTED' or d['decision'] == 'REJECTED': # exclure pending\n",
    "        final_patents.append(patent_A61B_list[i])\n",
    "        decision.append(d['decision'])"
   ]
  },
  {
   "cell_type": "code",
   "execution_count": 34,
   "metadata": {},
   "outputs": [
    {
     "name": "stdout",
     "output_type": "stream",
     "text": [
      "['10484186.json', '10493926.json', '10505531.json', '10511495.json', '10512150.json', '10512772.json', '10513656.json', '10516287.json', '10518848.json', '10518867.json', '10519023.json', '10520965.json', '10521373.json', '10522197.json', '10522609.json', '10524196.json', '10524984.json', '10526112.json', '10527781.json', '10528417.json', '10528504.json', '10528841.json', '10528922.json', '10529150.json', '10529770.json', '10530094.json', '10530811.json', '10530860.json', '10531204.json', '10531378.json', '10531764.json', '10531819.json', '10531832.json', '10531958.json', '10532691.json', '10532704.json', '10533596.json', '10534268.json', '10535214.json', '10535227.json', '10535316.json', '10535617.json', '10535726.json', '10535730.json', '10535775.json', '10535914.json', '10535958.json', '10536480.json', '10536503.json', '10536605.json', '10537103.json', '10537235.json', '10537795.json', '10538155.json', '10538411.json', '10538992.json', '10539175.json', '10539255.json', '10539818.json', '10540778.json', '10540890.json', '10540912.json', '10540985.json', '10541123.json', '10541231.json', '10541719.json', '10541896.json', '10542350.json', '10542387.json', '10542600.json', '10543001.json', '10543400.json', '10543445.json', '10543477.json', '10543654.json', '10543739.json', '10543793.json', '10543992.json', '10544013.json', '10544015.json', '10544102.json', '10544243.json', '10544323.json', '10544431.json', '10544612.json', '10544843.json', '10545033.json', '10545221.json', '10545336.json', '10545459.json', '10545481.json', '10545798.json', '10546038.json', '10546197.json', '10546335.json', '10546415.json', '10546762.json', '10546785.json', '10546800.json', '10547127.json', '10547229.json', '10547668.json', '10547881.json', '10547971.json', '10548183.json', '10548408.json', '10548518.json', '10548556.json', '10548683.json', '10548729.json', '10548835.json', '10548982.json', '10548986.json', '10549012.json', '10549056.json', '10549398.json', '10549689.json', '10549701.json', '10550437.json', '10550438.json', '10550665.json', '10550757.json', '10550772.json', '10550819.json', '10550850.json', '10551017.json', '10551277.json', '10551289.json', '10551293.json', '10551294.json', '10551366.json', '10551543.json', '10551641.json', '10551687.json', '10551856.json', '10552009.json', '10552269.json', '10552666.json', '10552697.json', '10552757.json', '10553143.json', '10553519.json', '10553770.json', '10553805.json', '10553929.json', '10553964.json', '10554310.json', '10554427.json', '10554432.json', '10554468.json', '10554479.json', '10554730.json', '10554812.json', '10554837.json', '10554947.json', '10554981.json', '10554986.json', '10555065.json', '10555114.json', '10555249.json', '10555488.json', '10556024.json', '10556444.json', '10556522.json', '10556652.json', '10557164.json', '10557167.json', '10557333.json', '10557362.json', '10557865.json', '10557908.json', '10557968.json', '10557970.json', '10558192.json', '10558442.json', '10558646.json', '10558943.json', '10558976.json', '10559151.json', '10559223.json', '10559323.json', '10559404.json', '10559547.json', '10559945.json', '10559974.json', '10560263.json', '10560265.json', '10560266.json', '10560267.json', '10560272.json']\n",
      "['REJECTED', 'REJECTED', 'REJECTED', 'REJECTED', 'ACCEPTED', 'ACCEPTED', 'ACCEPTED', 'ACCEPTED', 'ACCEPTED', 'REJECTED', 'REJECTED', 'ACCEPTED', 'REJECTED', 'REJECTED', 'ACCEPTED', 'REJECTED', 'REJECTED', 'REJECTED', 'REJECTED', 'ACCEPTED', 'REJECTED', 'ACCEPTED', 'REJECTED', 'ACCEPTED', 'REJECTED', 'REJECTED', 'REJECTED', 'REJECTED', 'REJECTED', 'ACCEPTED', 'REJECTED', 'ACCEPTED', 'REJECTED', 'ACCEPTED', 'ACCEPTED', 'ACCEPTED', 'REJECTED', 'REJECTED', 'REJECTED', 'ACCEPTED', 'REJECTED', 'ACCEPTED', 'REJECTED', 'ACCEPTED', 'REJECTED', 'REJECTED', 'REJECTED', 'REJECTED', 'REJECTED', 'REJECTED', 'REJECTED', 'ACCEPTED', 'REJECTED', 'REJECTED', 'ACCEPTED', 'REJECTED', 'ACCEPTED', 'REJECTED', 'ACCEPTED', 'REJECTED', 'ACCEPTED', 'REJECTED', 'REJECTED', 'REJECTED', 'ACCEPTED', 'ACCEPTED', 'REJECTED', 'ACCEPTED', 'REJECTED', 'REJECTED', 'ACCEPTED', 'REJECTED', 'ACCEPTED', 'ACCEPTED', 'REJECTED', 'REJECTED', 'REJECTED', 'ACCEPTED', 'ACCEPTED', 'ACCEPTED', 'ACCEPTED', 'REJECTED', 'ACCEPTED', 'ACCEPTED', 'REJECTED', 'REJECTED', 'ACCEPTED', 'REJECTED', 'REJECTED', 'REJECTED', 'REJECTED', 'ACCEPTED', 'ACCEPTED', 'ACCEPTED', 'ACCEPTED', 'REJECTED', 'REJECTED', 'REJECTED', 'ACCEPTED', 'ACCEPTED', 'REJECTED', 'ACCEPTED', 'ACCEPTED', 'ACCEPTED', 'REJECTED', 'REJECTED', 'ACCEPTED', 'REJECTED', 'ACCEPTED', 'REJECTED', 'REJECTED', 'ACCEPTED', 'REJECTED', 'REJECTED', 'REJECTED', 'ACCEPTED', 'REJECTED', 'REJECTED', 'ACCEPTED', 'REJECTED', 'REJECTED', 'REJECTED', 'ACCEPTED', 'REJECTED', 'REJECTED', 'REJECTED', 'ACCEPTED', 'ACCEPTED', 'REJECTED', 'ACCEPTED', 'REJECTED', 'REJECTED', 'ACCEPTED', 'REJECTED', 'REJECTED', 'ACCEPTED', 'REJECTED', 'ACCEPTED', 'REJECTED', 'REJECTED', 'REJECTED', 'REJECTED', 'ACCEPTED', 'REJECTED', 'ACCEPTED', 'REJECTED', 'REJECTED', 'REJECTED', 'REJECTED', 'REJECTED', 'ACCEPTED', 'ACCEPTED', 'ACCEPTED', 'ACCEPTED', 'REJECTED', 'REJECTED', 'ACCEPTED', 'REJECTED', 'REJECTED', 'REJECTED', 'ACCEPTED', 'ACCEPTED', 'REJECTED', 'ACCEPTED', 'REJECTED', 'ACCEPTED', 'ACCEPTED', 'REJECTED', 'ACCEPTED', 'ACCEPTED', 'REJECTED', 'REJECTED', 'REJECTED', 'ACCEPTED', 'ACCEPTED', 'REJECTED', 'REJECTED', 'REJECTED', 'ACCEPTED', 'ACCEPTED', 'ACCEPTED', 'REJECTED', 'ACCEPTED', 'REJECTED', 'REJECTED', 'REJECTED', 'ACCEPTED', 'REJECTED', 'ACCEPTED', 'ACCEPTED']\n"
     ]
    }
   ],
   "source": [
    "print(final_patents)\n",
    "print(decision)"
   ]
  },
  {
   "cell_type": "markdown",
   "metadata": {},
   "source": [
    "#### Création CSV à partir de list de json (1 par classe IPC et par année)\n",
    "\n",
    "Infos à extraire: \\\n",
    "- numéro de brevet\n",
    "- informations textuelles :\n",
    "    - Anciens\n",
    "        - ID\n",
    "        - titre\n",
    "        - background\n",
    "        - claims\n",
    "        - Décision\n",
    "    - Ajout:\n",
    "        - Abstract (pourquoi on ajoute?)\n",
    "        - Summary (pourquoi on ajoute?)\n",
    "        - IPC principale (pour seconde analyse)\n",
    "        - IPC secondaire (pour expectation space, pas directement dans CSV)\n"
   ]
  },
  {
   "cell_type": "code",
   "execution_count": 68,
   "metadata": {},
   "outputs": [
    {
     "name": "stderr",
     "output_type": "stream",
     "text": [
      "100%|██████████| 190/190 [00:00<00:00, 1451.21it/s]\n"
     ]
    }
   ],
   "source": [
    "non_main_ipc = []\n",
    "labels = []\n",
    "patent_number, titles, backgrounds, claims, summary, abstract, ipc = [], [], [], [], [], [], []\n",
    "for i in tqdm(range(len(final_patents))):\n",
    "    patent_path = mypath + final_patents[i]\n",
    "    with open(patent_path) as f:\n",
    "        d = json.load(f)\n",
    "        f.close() # ligne inutile\n",
    "    \n",
    "    #Creating the lists for the other information\n",
    "    patent_number.append(d['application_number'])\n",
    "    titles.append(d['title'])\n",
    "    backgrounds.append(d['background'])\n",
    "    claims.append(d['claims'])\n",
    "    summary.append(d['summary'])\n",
    "    abstract.append(d['abstract'])\n",
    "    ipc.append(d['main_ipcr_label'])\n",
    "\n",
    "    #Collecting non main ipc class\n",
    "    non_main =  d['ipcr_labels']\n",
    "    for ipcr in non_main:\n",
    "        non_main_ipc.append(ipcr) # only 4 first characters to be sure of being at same level\n",
    "    #Getting labels based on decision\n",
    "    label = 0\n",
    "    if d['decision'] == 'ACCEPTED':\n",
    "        label = 1\n",
    "    labels.append(label)"
   ]
  },
  {
   "cell_type": "markdown",
   "metadata": {},
   "source": [
    "only 4 first characters to be sure of being at same level \\\n",
    "Getting labels based on decision????"
   ]
  },
  {
   "cell_type": "code",
   "execution_count": 50,
   "metadata": {},
   "outputs": [
    {
     "data": {
      "text/plain": [
       "60"
      ]
     },
     "execution_count": 50,
     "metadata": {},
     "output_type": "execute_result"
    }
   ],
   "source": [
    "pd.options.display.max_colwidth\n",
    "pd.options.display.max_rows"
   ]
  },
  {
   "cell_type": "code",
   "execution_count": 73,
   "metadata": {},
   "outputs": [
    {
     "name": "stdout",
     "output_type": "stream",
     "text": [
      "253\n",
      "['10484186', '10493926', '10505531', '10511495', '10512150', '10512772', '10513656', '10516287', '10518848', '10518867', '10519023', '10520965', '10521373', '10522197', '10522609', '10524196', '10524984', '10526112', '10527781', '10528417', '10528504', '10528841', '10528922', '10529150', '10529770', '10530094', '10530811', '10530860', '10531204', '10531378', '10531764', '10531819', '10531832', '10531958', '10532691', '10532704', '10533596', '10534268', '10535214', '10535227', '10535316', '10535617', '10535726', '10535730', '10535775', '10535914', '10535958', '10536480', '10536503', '10536605', '10537103', '10537235', '10537795', '10538155', '10538411', '10538992', '10539175', '10539255', '10539818', '10540778', '10540890', '10540912', '10540985', '10541123', '10541231', '10541719', '10541896', '10542350', '10542387', '10542600', '10543001', '10543400', '10543445', '10543477', '10543654', '10543739', '10543793', '10543992', '10544013', '10544015', '10544102', '10544243', '10544323', '10544431', '10544612', '10544843', '10545033', '10545221', '10545336', '10545459', '10545481', '10545798', '10546038', '10546197', '10546335', '10546415', '10546762', '10546785', '10546800', '10547127', '10547229', '10547668', '10547881', '10547971', '10548183', '10548408', '10548518', '10548556', '10548683', '10548729', '10548835', '10548982', '10548986', '10549012', '10549056', '10549398', '10549689', '10549701', '10550437', '10550438', '10550665', '10550757', '10550772', '10550819', '10550850', '10551017', '10551277', '10551289', '10551293', '10551294', '10551366', '10551543', '10551641', '10551687', '10551856', '10552009', '10552269', '10552666', '10552697', '10552757', '10553143', '10553519', '10553770', '10553805', '10553929', '10553964', '10554310', '10554427', '10554432', '10554468', '10554479', '10554730', '10554812', '10554837', '10554947', '10554981', '10554986', '10555065', '10555114', '10555249', '10555488', '10556024', '10556444', '10556522', '10556652', '10557164', '10557167', '10557333', '10557362', '10557865', '10557908', '10557968', '10557970', '10558192', '10558442', '10558646', '10558943', '10558976', '10559151', '10559223', '10559323', '10559404', '10559547', '10559945', '10559974', '10560263', '10560265', '10560266', '10560267', '10560272']\n",
      "['A61B504', 'A61B100', 'A61B1267', 'A61B1704', 'A61B505', 'A61B505', 'A61B505', 'A61B505', 'A61B600', 'A61M2500', 'A61B50402', 'A61B600', 'G01N2300', 'G21K112', 'H05G160', 'A61B1758', 'A61B1818', 'A61B5103', 'A61B5117', 'A61B505', 'A61B1734', 'A61B500', 'A61M100', 'A61B505', 'A61B502', 'A61B5103', 'A61B504', 'A61B505', 'A61B504', 'A61B1000', 'A61B504', 'G01N33487', 'A61B500', 'A61B800', 'A61B310', 'A61B1900', 'A61F537', 'A61B814', 'A61B504', 'A61B505', 'A61B502', 'A61B124', 'A61B1900', 'A61B504', 'A61B1900', 'A61B17122', 'A61B17128', 'A61F224', 'A61B310', 'A61B500', 'A61B1814', 'A61B504', 'A61B1814', 'A61B600', 'A61B800', 'A61B314', 'A61B1802', 'A61B1818', 'A61B300', 'A61B310', 'A61B314', 'A61B300', 'A61B505', 'A61B505', 'A61B500', 'A61B502', 'A61B5103', 'A61B505', 'A61B500', 'A61B504', 'A61B502', 'A61B5055', 'A61B5055', 'A61B1902', 'A61B806', 'A61B505', 'A61B500', 'A61B505', 'A61B1750', 'A61B814', 'A61B1726', 'A61B100', 'A61B500', 'A61B1900', 'A61B1732', 'A61B1760', 'A61B505', 'A61B1300', 'A61B104', 'A61B502', 'A61B500', 'A61B600', 'A61B1902', 'B65B5502', 'A61L218', 'A61L200', 'B65D8310', 'A61B800', 'A61B1902', 'A61B1706', 'A61B1804', 'A61B1900', 'A61B502', 'A61B500', 'A61B505', 'A61B1700', 'A61B100', 'A61B1720', 'A61B1782', 'A61B1780', 'A61B505', 'A61N100', 'A61B504', 'A61N104', 'G01N2730', 'A61B1758', 'A61B500', 'A61B5103', 'A61B500', 'A61B1708', 'A61B1902', 'A61B500', 'A61B1900', 'A61B1300', 'A61B600', 'A61B300', 'A61B302', 'A61B508', 'A61M1600', 'A62B700', 'F16K3102', 'A61B500', 'A61B500', 'A61B502', 'A61B1758', 'A61B502', 'A61B500', 'G01N340', 'A61B1267', 'A61B50402', 'A61B1708', 'A61B1732', 'A61B500', 'A61B100', 'A61B502', 'A61B1818', 'A61B1814', 'A61B600', 'A61B500', 'A61B1900', 'A61N506', 'A61B600', 'A61B502', 'A61B505', 'A61B1814', 'A61B1000', 'A61B1732', 'A61B1708', 'A61B600', 'A61B505', 'A61B100', 'A61B600', 'A61B800', 'A61B500', 'A61B504', 'B60K2800', 'A61B314', 'A61B1818', 'A61B300', 'A61B500', 'A61B502', 'A61B508', 'A61B5103', 'A61B505', 'A61B5103', 'A61B1732', 'A61B1760', 'A61B1706', 'B65D8500', 'A61B1814', 'A61B504', 'A61B1818', 'A61B1814', 'A61B1818', 'A61B505', 'A61B51455', 'A61B800', 'A61B1700', 'A61B1708', 'A61B173205', 'A61F224', 'A61B504', 'A61B500', 'A61B310', 'A61B1814', 'A61B504', 'A61B800', 'A61B1756', 'A61B5103', 'A61B505', 'A61B600', 'A61B132', 'A61B1708', 'A61B1900', 'A61B1818', 'A61N506', 'A61B1900', 'A61B1750', 'A61B1750', 'A61B505', 'A61B1267', 'A61B1267', 'A61B1818', 'A61B1708', 'A61B1700', 'A61B1708', 'A61B1818', 'A61B502', 'A61B1732', 'A61B600', 'A61B500', 'A61B505', 'A61B500', 'A61N139', 'A61B500', 'A61B1756', 'A61B1700', 'A61B1703', 'A61B800', 'A61B500', 'A61B800', 'A61B505', 'A61B505', 'A61B800', 'A61B1814', 'A61B1758', 'A61B1720', 'A61M3700', 'A61B500', 'A61B1700', 'A61B5151', 'A61B500', 'A61B603', 'A61B500', 'B65D8100', 'A61B1760', 'A61B800', 'A61B1732', 'A61B1814', 'A61B1814', 'A61B1732', 'A61B500', 'B65D8100']\n",
      "1. A sutureless clip apparatus for attaching an electrode to living tissue comprising: a flat strip having a first end and a second end and, a top side and a bottom side with a first bend on said bottom side between said first and second ends so as to bring said first end closer to said second end; and an electrode holder attached to one of said first or second ends for releasably holding said electrode, wherein said clip is attachable to living tissue with a crimping tool and said electrode is releasably held by said electrode holder. 2. The apparatus of claim 1 wherein said flat strip is made of a physiologically acceptable material selected from the group consisting of: 316L stainless steel, F-67 titanium, platinum, iridium, Elgiloy, pyrolitic carbon coating ipanium, graphite platinum and iridium oxide. 3. The apparatus of claim 2 wherein said flat strip is bent into a V shape. 4. The apparatus of claim 3 wherein said flat strip is bent into a modified V shaped cross section with additional bends located between said first bend and said first end and said first bend and said second end. 5. The apparatus of claim 4 wherein the force required to release said electrode from said electrode holder is between 0.5 and 2 pounds. 6. The apparatus of claim 5 wherein said electrode holder comprises a spring clip and includes: a bend on said top side of said flat strip such that said first or second end is bent around to make contact with said top side and releasably hold said electrode. 7. The apparatus of claim 5 wherein said electrode holder comprises a spring clip and includes: a bend on said bottom side of said flat strip such that said first or second end is bent around to make contact with said bottom side and releasably hold said electrode. 8. The apparatus of claim 7 wherein said flat strip has a through aperture to accept said electrode, said aperture being located on the same end of said flat strip as said spring clip. 9. The apparatus of claim 5 wherein said electrode holder comprises a flat cap welded on said top side of said sutureless clip to hold said electrode lead wire in place. 10. A crimping tool apparatus having a first half and a second half connected by a hinge means for crimping a sutureless clip to living tissue, said tool further comprising: a first end comprising jaws capable of holding at least two of said sutureless clips and having a predetermined separation of said clips, and a second end having a biasing means for applying a bias force to said sutureless clips to hold said clips in said jaws prior to crimping, wherein when said first ends are forced together, said halves pivot about said hinge and said jaws crimp said sutureless clip on to living tissue. 11. The apparatus of claim 9 wherein said jaws have a profile which matches the outer surface of said clip. 12. The apparatus of claim 10 wherein said hinge is a living hinge. 13. The device of claim 11 further including an electrode guide means located on said first end of said crimping tool to guide an electrode lead wire after said clip is attached to living tissue. 14. The device of claim 12 further including at least one through aperture on said hinge for each electrode through which an electrode lead wire may pass. 15. The device of claim 13 further including at least one aperture on said biasing means for each electrode through which an electrode lead wire may pass. 16. The device of claim 14 wherein said biasing means is a living hinge. 17. The device of claim 15 wherein said first end includes a through aperture through which an electrode lead wire may pass. 18. The apparatuse of claim 16 further including one electrode storage tube for each electrode, said electrode storage tubes being held between said halves of said crimping tool for storing said electrodes. 19. The apparatus of claim 17 further including at least one notch in said jaws to accept each electrode. 20. The apparatus of claim 13 wherein said electrode holder further includes; a groove in said cap in which said electrode rests. 21. A method of attaching a sutureless clip with an electrode releasably attached to a spring clip electrode holder to living tissue comprising the steps of: a) inserting a sutureless clip with an electrode releasably attached to a spring clip electrode holder into a crimping tool; b) placing a sutureless clip with an electrode releasably attached to a spring clip electrode holder in contact with living tissue; c) crimping said sutureless clip with an electrode releasably attached to a spring clip electrode holder with said crimping tool to attach it to living tissue; d) removing said sutureless clip with an electrode releasably attached to a spring clip electrode holder from said crimping tool.\n",
      "190\n",
      "190\n"
     ]
    }
   ],
   "source": [
    "print(len(non_main_ipc))\n",
    "print(patent_number)\n",
    "print(non_main_ipc)\n",
    "print(claims[0])\n",
    "print(len(ipc))\n",
    "print(len(labels))"
   ]
  },
  {
   "cell_type": "code",
   "execution_count": 54,
   "metadata": {},
   "outputs": [
    {
     "name": "stdout",
     "output_type": "stream",
     "text": [
      "['A61B51455', 'A61B50402', 'A61B1760', 'A61B124', 'A61B5117', 'A61B5055', 'A61B1726', 'A61B1300', 'A61F224', 'A61L218', 'G01N2730', 'G01N340', 'A61B5151', 'A61B500', 'A61B603', 'A61B806', 'G01N2300', 'A61B1756', 'A61B1802', 'A61B17122', 'A61B508', 'A61B100', 'A61N104', 'A61B132', 'A61B800', 'A61B17128', 'G21K112', 'A62B700', 'B65B5502', 'A61B1818', 'A61B505', 'A61B1734', 'A61B1900', 'A61B1700', 'A61B310', 'A61B104', 'A61B314', 'B65D8310', 'A61B1804', 'A61B1704', 'A61B5103', 'A61B814', 'A61B1758', 'A61B1703', 'A61M2500', 'A61N139', 'A61M100', 'A61B1706', 'A61B300', 'A61B1720', 'G01N33487', 'B65D8500', 'A61M3700', 'A61B1814', 'A61B600', 'A61N100', 'A61B1708', 'A61B302', 'B60K2800', 'B65D8100', 'A61B1780', 'A61B504', 'A61L200', 'F16K3102', 'A61N506', 'H05G160', 'A61B173205', 'A61B1732', 'A61B1782', 'A61B1000', 'A61F537', 'A61B1902', 'A61M1600', 'A61B1750', 'A61B502', 'A61B1267']\n",
      "76\n"
     ]
    }
   ],
   "source": [
    "expectations_classes = list(set(non_main_ipc)) # création d'éléments unique - 253 à 76 éléments\n",
    "print(expectations_classes)\n",
    "print(len(expectations_classes))"
   ]
  },
  {
   "cell_type": "code",
   "execution_count": 75,
   "metadata": {},
   "outputs": [
    {
     "name": "stdout",
     "output_type": "stream",
     "text": [
      "25\n",
      "['A61F224', 'A61L218', 'G01N2730', 'G01N340', 'G01N2300', 'A61N104', 'G21K112', 'A62B700', 'B65B5502', 'B65D8310', 'A61M2500', 'A61N139', 'A61M100', 'G01N33487', 'B65D8500', 'A61M3700', 'A61N100', 'B60K2800', 'B65D8100', 'A61L200', 'F16K3102', 'A61N506', 'H05G160', 'A61F537', 'A61M1600']\n"
     ]
    }
   ],
   "source": [
    "# Retirer les classes secondaires de la même classe que la princiaple\n",
    "good_expectations_classes = []\n",
    "for ipcr in expectations_classes:\n",
    "    if ipcr[0:4] != \"A61B\":\n",
    "        good_expectations_classes.append(ipcr)\n",
    "        \n",
    "print(len(good_expectations_classes))\n",
    "print(good_expectations_classes)"
   ]
  },
  {
   "cell_type": "code",
   "execution_count": 97,
   "metadata": {},
   "outputs": [
    {
     "name": "stdout",
     "output_type": "stream",
     "text": [
      "Done\n"
     ]
    }
   ],
   "source": [
    "# Sauvegarder IPC secondaire en format texte\n",
    "with open(r'exemple données/expectation_space/2006_A61B_expectation_IPC_class.txt', 'w') as fp:\n",
    "    for item in good_expectations_classes:\n",
    "        # write each item on a new line\n",
    "        fp.write(\"%s\\n\" % item)\n",
    "    print('Done')"
   ]
  },
  {
   "cell_type": "code",
   "execution_count": 103,
   "metadata": {},
   "outputs": [
    {
     "data": {
      "text/html": [
       "<div>\n",
       "<style scoped>\n",
       "    .dataframe tbody tr th:only-of-type {\n",
       "        vertical-align: middle;\n",
       "    }\n",
       "\n",
       "    .dataframe tbody tr th {\n",
       "        vertical-align: top;\n",
       "    }\n",
       "\n",
       "    .dataframe thead th {\n",
       "        text-align: right;\n",
       "    }\n",
       "</style>\n",
       "<table border=\"1\" class=\"dataframe\">\n",
       "  <thead>\n",
       "    <tr style=\"text-align: right;\">\n",
       "      <th></th>\n",
       "      <th>application_number</th>\n",
       "      <th>title</th>\n",
       "      <th>abstract</th>\n",
       "      <th>claims</th>\n",
       "      <th>background</th>\n",
       "      <th>summary</th>\n",
       "      <th>ipc</th>\n",
       "      <th>label</th>\n",
       "    </tr>\n",
       "  </thead>\n",
       "  <tbody>\n",
       "    <tr>\n",
       "      <th>0</th>\n",
       "      <td>10484186</td>\n",
       "      <td>Clip and method for epicardial placement of te...</td>\n",
       "      <td>The present invention provides for a sutureles...</td>\n",
       "      <td>1. A sutureless clip apparatus for attaching a...</td>\n",
       "      <td>&lt;SOH&gt; BACKGROUND OF THE INVENTION  &lt;EOH&gt;1. Fie...</td>\n",
       "      <td>&lt;SOH&gt; SUMMARY OF THE INVENTION  &lt;EOH&gt;Briefly d...</td>\n",
       "      <td>A61B504</td>\n",
       "      <td>0</td>\n",
       "    </tr>\n",
       "    <tr>\n",
       "      <th>1</th>\n",
       "      <td>10493926</td>\n",
       "      <td>Instrument for creating space in a human phary...</td>\n",
       "      <td>Instrument (700) which is to be introduced int...</td>\n",
       "      <td>1. Instrument (1) which is to be introduced in...</td>\n",
       "      <td></td>\n",
       "      <td></td>\n",
       "      <td>A61B100</td>\n",
       "      <td>0</td>\n",
       "    </tr>\n",
       "    <tr>\n",
       "      <th>2</th>\n",
       "      <td>10505531</td>\n",
       "      <td>Soft tissue anchor</td>\n",
       "      <td>The present invention relates to an apparatus ...</td>\n",
       "      <td>1. A bone screw for anchoring a suture thread ...</td>\n",
       "      <td>&lt;SOH&gt; BACKGROUND OF THE INVENTION  &lt;EOH&gt;In the...</td>\n",
       "      <td>&lt;SOH&gt; BRIEF DESCRIPTIONS OF THE DRAWINGS  &lt;EOH...</td>\n",
       "      <td>A61B1704</td>\n",
       "      <td>0</td>\n",
       "    </tr>\n",
       "    <tr>\n",
       "      <th>3</th>\n",
       "      <td>10511495</td>\n",
       "      <td>System and method for piercing dermal tissue</td>\n",
       "      <td>A system for piercing dermal tissue includes a...</td>\n",
       "      <td>1. A system for piercing dermal tissue, the sy...</td>\n",
       "      <td>&lt;SOH&gt; BACKGROUND OF INVENTION  &lt;EOH&gt;1. Field o...</td>\n",
       "      <td>&lt;SOH&gt; SUMMARY OF INVENTION  &lt;EOH&gt;Embodiments o...</td>\n",
       "      <td>A61B505</td>\n",
       "      <td>0</td>\n",
       "    </tr>\n",
       "    <tr>\n",
       "      <th>4</th>\n",
       "      <td>10512150</td>\n",
       "      <td>Apparatus for insertion of a medical device du...</td>\n",
       "      <td>The end-effector (150) includes a sheath (152)...</td>\n",
       "      <td>1. An interventional device for use while a su...</td>\n",
       "      <td>&lt;SOH&gt; BACKGROUND OF THE INVENTION  &lt;EOH&gt;Prosta...</td>\n",
       "      <td>&lt;SOH&gt; SUMMARY OF THE INVENTION  &lt;EOH&gt;The prese...</td>\n",
       "      <td>A61B505</td>\n",
       "      <td>1</td>\n",
       "    </tr>\n",
       "    <tr>\n",
       "      <th>...</th>\n",
       "      <td>...</td>\n",
       "      <td>...</td>\n",
       "      <td>...</td>\n",
       "      <td>...</td>\n",
       "      <td>...</td>\n",
       "      <td>...</td>\n",
       "      <td>...</td>\n",
       "      <td>...</td>\n",
       "    </tr>\n",
       "    <tr>\n",
       "      <th>185</th>\n",
       "      <td>10560263</td>\n",
       "      <td>Method and apparatus for body fluid sampling a...</td>\n",
       "      <td>The method comprises providing a lancing devic...</td>\n",
       "      <td>1-6. (canceled) 7. A device for body fluid sam...</td>\n",
       "      <td>&lt;SOH&gt; BACKGROUND OF THE INVENTION  &lt;EOH&gt;Lancin...</td>\n",
       "      <td>&lt;SOH&gt; SUMMARY OF THE INVENTION  &lt;EOH&gt;The prese...</td>\n",
       "      <td>A61B1732</td>\n",
       "      <td>0</td>\n",
       "    </tr>\n",
       "    <tr>\n",
       "      <th>186</th>\n",
       "      <td>10560265</td>\n",
       "      <td>Electrosurgical devices and methods for select...</td>\n",
       "      <td>Methods and devices for cutting or coagulating...</td>\n",
       "      <td>1. A device for cutting or coagulating tissue,...</td>\n",
       "      <td>&lt;SOH&gt; BACKGROUND OF THE INVENTION  &lt;EOH&gt;There ...</td>\n",
       "      <td>&lt;SOH&gt; SUMMARY OF THE INVENTION  &lt;EOH&gt;The prese...</td>\n",
       "      <td>A61B1814</td>\n",
       "      <td>1</td>\n",
       "    </tr>\n",
       "    <tr>\n",
       "      <th>187</th>\n",
       "      <td>10560266</td>\n",
       "      <td>Device and methods useable for treatment of gl...</td>\n",
       "      <td>A device and method for cutting or ablating ti...</td>\n",
       "      <td>1. A device for cutting or ablating tissue in ...</td>\n",
       "      <td>&lt;SOH&gt; BACKGROUND OF THE INVENTION  &lt;EOH&gt;A. Sym...</td>\n",
       "      <td>&lt;SOH&gt; SUMMARY OF THE INVENTION  &lt;EOH&gt;The prese...</td>\n",
       "      <td>A61B1814</td>\n",
       "      <td>0</td>\n",
       "    </tr>\n",
       "    <tr>\n",
       "      <th>188</th>\n",
       "      <td>10560267</td>\n",
       "      <td>Tubular Cutter Device And Methods For Cutting ...</td>\n",
       "      <td>Methods and devices for cutting strips of tiss...</td>\n",
       "      <td>1. A device for cutting a strip of tissue of a...</td>\n",
       "      <td>&lt;SOH&gt; BACKGROUND OF THE INVENTION  &lt;EOH&gt;There ...</td>\n",
       "      <td>&lt;SOH&gt; SUMMARY OF THE INVENTION  &lt;EOH&gt;The prese...</td>\n",
       "      <td>A61B1732</td>\n",
       "      <td>1</td>\n",
       "    </tr>\n",
       "    <tr>\n",
       "      <th>189</th>\n",
       "      <td>10560272</td>\n",
       "      <td>Method and apparatus for a point of care device</td>\n",
       "      <td>A plurality of Point-of-Care (POC) tests on a ...</td>\n",
       "      <td>1. A body fluid sampling device comprising: a ...</td>\n",
       "      <td>&lt;SOH&gt; BACKGROUND OF THE INVENTION  &lt;EOH&gt;A. Tec...</td>\n",
       "      <td>&lt;SOH&gt; SUMMARY OF THE INVENTION  &lt;EOH&gt;The prese...</td>\n",
       "      <td>A61B500</td>\n",
       "      <td>1</td>\n",
       "    </tr>\n",
       "  </tbody>\n",
       "</table>\n",
       "<p>190 rows × 8 columns</p>\n",
       "</div>"
      ],
      "text/plain": [
       "    application_number                                              title  \\\n",
       "0             10484186  Clip and method for epicardial placement of te...   \n",
       "1             10493926  Instrument for creating space in a human phary...   \n",
       "2             10505531                                 Soft tissue anchor   \n",
       "3             10511495       System and method for piercing dermal tissue   \n",
       "4             10512150  Apparatus for insertion of a medical device du...   \n",
       "..                 ...                                                ...   \n",
       "185           10560263  Method and apparatus for body fluid sampling a...   \n",
       "186           10560265  Electrosurgical devices and methods for select...   \n",
       "187           10560266  Device and methods useable for treatment of gl...   \n",
       "188           10560267  Tubular Cutter Device And Methods For Cutting ...   \n",
       "189           10560272    Method and apparatus for a point of care device   \n",
       "\n",
       "                                              abstract  \\\n",
       "0    The present invention provides for a sutureles...   \n",
       "1    Instrument (700) which is to be introduced int...   \n",
       "2    The present invention relates to an apparatus ...   \n",
       "3    A system for piercing dermal tissue includes a...   \n",
       "4    The end-effector (150) includes a sheath (152)...   \n",
       "..                                                 ...   \n",
       "185  The method comprises providing a lancing devic...   \n",
       "186  Methods and devices for cutting or coagulating...   \n",
       "187  A device and method for cutting or ablating ti...   \n",
       "188  Methods and devices for cutting strips of tiss...   \n",
       "189  A plurality of Point-of-Care (POC) tests on a ...   \n",
       "\n",
       "                                                claims  \\\n",
       "0    1. A sutureless clip apparatus for attaching a...   \n",
       "1    1. Instrument (1) which is to be introduced in...   \n",
       "2    1. A bone screw for anchoring a suture thread ...   \n",
       "3    1. A system for piercing dermal tissue, the sy...   \n",
       "4    1. An interventional device for use while a su...   \n",
       "..                                                 ...   \n",
       "185  1-6. (canceled) 7. A device for body fluid sam...   \n",
       "186  1. A device for cutting or coagulating tissue,...   \n",
       "187  1. A device for cutting or ablating tissue in ...   \n",
       "188  1. A device for cutting a strip of tissue of a...   \n",
       "189  1. A body fluid sampling device comprising: a ...   \n",
       "\n",
       "                                            background  \\\n",
       "0    <SOH> BACKGROUND OF THE INVENTION  <EOH>1. Fie...   \n",
       "1                                                        \n",
       "2    <SOH> BACKGROUND OF THE INVENTION  <EOH>In the...   \n",
       "3    <SOH> BACKGROUND OF INVENTION  <EOH>1. Field o...   \n",
       "4    <SOH> BACKGROUND OF THE INVENTION  <EOH>Prosta...   \n",
       "..                                                 ...   \n",
       "185  <SOH> BACKGROUND OF THE INVENTION  <EOH>Lancin...   \n",
       "186  <SOH> BACKGROUND OF THE INVENTION  <EOH>There ...   \n",
       "187  <SOH> BACKGROUND OF THE INVENTION  <EOH>A. Sym...   \n",
       "188  <SOH> BACKGROUND OF THE INVENTION  <EOH>There ...   \n",
       "189  <SOH> BACKGROUND OF THE INVENTION  <EOH>A. Tec...   \n",
       "\n",
       "                                               summary       ipc  label  \n",
       "0    <SOH> SUMMARY OF THE INVENTION  <EOH>Briefly d...   A61B504      0  \n",
       "1                                                        A61B100      0  \n",
       "2    <SOH> BRIEF DESCRIPTIONS OF THE DRAWINGS  <EOH...  A61B1704      0  \n",
       "3    <SOH> SUMMARY OF INVENTION  <EOH>Embodiments o...   A61B505      0  \n",
       "4    <SOH> SUMMARY OF THE INVENTION  <EOH>The prese...   A61B505      1  \n",
       "..                                                 ...       ...    ...  \n",
       "185  <SOH> SUMMARY OF THE INVENTION  <EOH>The prese...  A61B1732      0  \n",
       "186  <SOH> SUMMARY OF THE INVENTION  <EOH>The prese...  A61B1814      1  \n",
       "187  <SOH> SUMMARY OF THE INVENTION  <EOH>The prese...  A61B1814      0  \n",
       "188  <SOH> SUMMARY OF THE INVENTION  <EOH>The prese...  A61B1732      1  \n",
       "189  <SOH> SUMMARY OF THE INVENTION  <EOH>The prese...   A61B500      1  \n",
       "\n",
       "[190 rows x 8 columns]"
      ]
     },
     "execution_count": 103,
     "metadata": {},
     "output_type": "execute_result"
    }
   ],
   "source": [
    "# Création jdD à mettre en csv\n",
    "df = pd.DataFrame({'application_number': patent_number, 'title': titles, 'abstract':abstract,\n",
    "                    'claims':claims, 'background': backgrounds, 'summary':summary, 'ipc':ipc, 'label': labels})\n",
    "df"
   ]
  },
  {
   "cell_type": "code",
   "execution_count": 105,
   "metadata": {},
   "outputs": [],
   "source": [
    "# Sauvegarder CSV to_eval\n",
    "df.to_csv('exemple données/to_eval/2014_A61B_patents_toeval.csv', index=False)"
   ]
  }
 ],
 "metadata": {
  "kernelspec": {
   "display_name": "base",
   "language": "python",
   "name": "python3"
  },
  "language_info": {
   "codemirror_mode": {
    "name": "ipython",
    "version": 3
   },
   "file_extension": ".py",
   "mimetype": "text/x-python",
   "name": "python",
   "nbconvert_exporter": "python",
   "pygments_lexer": "ipython3",
   "version": "3.9.16"
  }
 },
 "nbformat": 4,
 "nbformat_minor": 2
}
