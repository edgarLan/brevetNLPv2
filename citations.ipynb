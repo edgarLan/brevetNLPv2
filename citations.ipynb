{
 "cells": [
  {
   "cell_type": "markdown",
   "metadata": {},
   "source": [
    "# Réseau citations"
   ]
  },
  {
   "cell_type": "code",
   "execution_count": null,
   "metadata": {},
   "outputs": [],
   "source": [
    "test"
   ]
  },
  {
   "cell_type": "code",
   "execution_count": 3,
   "metadata": {},
   "outputs": [],
   "source": [
    "import zipfile\n",
    "import time  # Import the time module\n",
    "import pandas as pd"
   ]
  },
  {
   "cell_type": "code",
   "execution_count": null,
   "metadata": {},
   "outputs": [],
   "source": [
    "filename = \"C:/Users/edgar/OneDrive/Bureau/Ecole/HEC/A24/BrevetNLP/citations_data/comp/g_us_patent_citation.tsv.zip\"\n",
    "output_file = \"C:/Users/edgar/OneDrive/Bureau/Ecole/HEC/A24/BrevetNLP/citations_data/data/g_us_patent_citation_full.tsv\"\n",
    "\n",
    "# Open the ZIP file and read the TSV file directly\n",
    "with zipfile.ZipFile(filename, 'r') as zip_ref:\n",
    "    # List files in the zip to find the TSV file\n",
    "    for file_info in zip_ref.infolist():\n",
    "        if file_info.filename.endswith('.tsv'):\n",
    "            # Read the TSV file into a DataFrame\n",
    "            with zip_ref.open(file_info.filename) as tsv_file:\n",
    "                df = pd.read_csv(tsv_file, sep='\\t', engine='python', on_bad_lines='skip')\n",
    "\n",
    "                # Select the first 1000 rows\n",
    "                # df_first_1000 = df.head(1000)\n",
    "\n",
    "                # Export the selected rows to a new TSV file\n",
    "                df.to_csv(output_file, sep='\\t', index=False)\n",
    "                print(f\"Exported the first 1000 rows to {output_file}\")\n",
    "    "
   ]
  },
  {
   "cell_type": "code",
   "execution_count": 9,
   "metadata": {},
   "outputs": [
    {
     "name": "stdout",
     "output_type": "stream",
     "text": [
      "Exported the first 1000 rows to C:/Users/edgar/OneDrive/Bureau/Ecole/HEC/A24/BrevetNLP/citations_data/data/g_us_application_citation.tsv\n"
     ]
    }
   ],
   "source": [
    "filename = \"C:/Users/edgar/OneDrive/Bureau/Ecole/HEC/A24/BrevetNLP/citations_data/comp/g_us_application_citation.tsv.zip\"\n",
    "output_file = \"C:/Users/edgar/OneDrive/Bureau/Ecole/HEC/A24/BrevetNLP/citations_data/data/g_us_application_citation.tsv\"\n",
    "\n",
    "# Open the ZIP file and read the TSV file directly\n",
    "with zipfile.ZipFile(filename, 'r') as zip_ref:\n",
    "    # List files in the zip to find the TSV file\n",
    "    for file_info in zip_ref.infolist():\n",
    "        if file_info.filename.endswith('.tsv'):\n",
    "            # Read the TSV file into a DataFrame\n",
    "            with zip_ref.open(file_info.filename) as tsv_file:\n",
    "                df = pd.read_csv(tsv_file, sep='\\t', nrows=1000, engine='python', on_bad_lines='skip')\n",
    "\n",
    "                # Select the first 1000 rows\n",
    "                df_first_1000 = df.head(1000)\n",
    "\n",
    "                # Export the selected rows to a new TSV file\n",
    "                df_first_1000.to_csv(output_file, sep='\\t', index=False)\n",
    "                print(f\"Exported the first 1000 rows to {output_file}\")\n",
    "    "
   ]
  }
 ],
 "metadata": {
  "kernelspec": {
   "display_name": "Python 3",
   "language": "python",
   "name": "python3"
  },
  "language_info": {
   "codemirror_mode": {
    "name": "ipython",
    "version": 3
   },
   "file_extension": ".py",
   "mimetype": "text/x-python",
   "name": "python",
   "nbconvert_exporter": "python",
   "pygments_lexer": "ipython3",
   "version": "3.11.10"
  }
 },
 "nbformat": 4,
 "nbformat_minor": 2
}
