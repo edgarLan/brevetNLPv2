{
 "cells": [
  {
   "cell_type": "markdown",
   "metadata": {},
   "source": [
    "# Création de fichiers contenant les 100 premiers json de 2006-2010"
   ]
  },
  {
   "cell_type": "code",
   "execution_count": 4,
   "metadata": {},
   "outputs": [
    {
     "name": "stdout",
     "output_type": "stream",
     "text": [
      "C:\\Users\\edgar\\OneDrive\\Bureau\\Ecole\\HEC\\A24\\BrevetNLP\n"
     ]
    }
   ],
   "source": [
    "import os\n",
    "os.chdir('C:/Users/edgar/OneDrive/Bureau/Ecole/HEC/A24/BrevetNLP')\n",
    "print(os.getcwd())"
   ]
  },
  {
   "cell_type": "code",
   "execution_count": 9,
   "metadata": {},
   "outputs": [
    {
     "name": "stdout",
     "output_type": "stream",
     "text": [
      "Copied 100 first of 2004\n",
      "Copied 100 first of 2005\n",
      "Copied 100 first of 2006\n",
      "Copied 100 first of 2007\n",
      "Copied 100 first of 2008\n",
      "Copied 100 first of 2009\n",
      "Copied 100 first of 2010\n",
      "Copied 100 first of 2011\n",
      "Copied 100 first of 2012\n",
      "Copied 100 first of 2013\n",
      "Copied 100 first of 2014\n",
      "Copied 100 first of 2015\n",
      "Copied 100 first of 2016\n",
      "Copied 100 first of 2017\n",
      "Copied 100 first of 2018\n"
     ]
    }
   ],
   "source": [
    "import os\n",
    "import shutil\n",
    "\n",
    "def extract_first_100_json_files(year):\n",
    "    input_dir = f'data\\{year}'\n",
    "    output_dir = f'trunked_data\\{year}'\n",
    "    \n",
    "    # Create the output directory if it doesn't exist\n",
    "    os.makedirs(output_dir, exist_ok=True)\n",
    "    \n",
    "    # List all JSON files in the input directory\n",
    "    json_files = [f for f in os.listdir(input_dir) if f.endswith('.json')]\n",
    "    \n",
    "    # Sort the files to ensure consistent order\n",
    "    json_files.sort()\n",
    "    \n",
    "    # Extract the first 100 JSON files\n",
    "    for i, json_file in enumerate(json_files[:100]):\n",
    "        src_path = os.path.join(input_dir, json_file)\n",
    "        dest_path = os.path.join(output_dir, json_file)\n",
    "        shutil.copy(src_path, dest_path)\n",
    "    print(f'Copied 100 first of {year}')\n",
    "\n",
    "# Iterate over the years from 2004 to 2018\n",
    "for year in range(2004, 2019):\n",
    "    extract_first_100_json_files(year)\n"
   ]
  }
 ],
 "metadata": {
  "kernelspec": {
   "display_name": "base",
   "language": "python",
   "name": "python3"
  },
  "language_info": {
   "codemirror_mode": {
    "name": "ipython",
    "version": 3
   },
   "file_extension": ".py",
   "mimetype": "text/x-python",
   "name": "python",
   "nbconvert_exporter": "python",
   "pygments_lexer": "ipython3",
   "version": "3.9.16"
  }
 },
 "nbformat": 4,
 "nbformat_minor": 2
}
