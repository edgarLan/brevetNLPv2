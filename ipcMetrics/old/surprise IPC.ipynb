{
 "cells": [
  {
   "cell_type": "code",
   "execution_count": 1,
   "metadata": {},
   "outputs": [],
   "source": [
    "import pandas as pd\n",
    "from os import listdir\n",
    "from os.path import isfile, join\n",
    "import json\n",
    "import collections\n",
    "import re\n",
    "from tqdm import tqdm\n",
    "import itertools\n",
    "\n",
    "from itertools import islice, combinations\n",
    "from collections import Counter, defaultdict\n",
    "\n",
    "from itertools import chain\n",
    "import ast\n",
    "\n",
    "\n",
    "import statistics\n",
    "import numpy as np\n",
    "\n",
    "import math\n",
    "import nltk\n",
    "from nltk.collocations import BigramCollocationFinder, BigramAssocMeasures\n"
   ]
  },
  {
   "cell_type": "code",
   "execution_count": null,
   "metadata": {},
   "outputs": [],
   "source": [
    "# ES = pd.read_csv('C:/Users/edgar/OneDrive/Bureau/Ecole/HEC/A24/BrevetNLP/exemple données/test/ES/2016_1115_G06F_ES_raw.csv')\n",
    "# ES.to_pickle(\"C:/Users/edgar/OneDrive/Bureau/Ecole/HEC/A24/BrevetNLP/data/pickledDF/2016_1115_G06F_ES_raw.pkl\")\n",
    "# toEval = pd.read_csv('C:/Users/edgar/OneDrive/Bureau/Ecole/HEC/A24/BrevetNLP/exemple données/test/toEval/2016_G06F_patents_toEval.csv')\n",
    "# toEval.to_pickle('C:/Users/edgar/OneDrive/Bureau/Ecole/HEC/A24/BrevetNLP/data/pickledDF/2016_G06F_patents_toEval.pkl')"
   ]
  },
  {
   "cell_type": "code",
   "execution_count": 2,
   "metadata": {},
   "outputs": [
    {
     "name": "stdout",
     "output_type": "stream",
     "text": [
      "toEval lenght:  9234\n",
      "KS lenght:  431267\n"
     ]
    }
   ],
   "source": [
    "toEval = pd.read_pickle('C:/Users/edgar/OneDrive/Bureau/Ecole/HEC/A24/BrevetNLP/exemple données/test/pickledDF/2016_G06F_patents_toEval.pkl') \n",
    "ES = pd.read_pickle('C:/Users/edgar/OneDrive/Bureau/Ecole/HEC/A24/BrevetNLP/exemple données/test/pickledDF/2016_1115_G06F_ES_raw.pkl')\n",
    "print(\"toEval lenght: \", len(toEval))\n",
    "print(\"KS lenght: \", len(ES))\n",
    "\n",
    "# Création différents jdD\n",
    "toEval_ipc = list([ast.literal_eval(i) for i in toEval.sec_ipc])\n",
    "ES_ipc = list(set(chain.from_iterable([ast.literal_eval(s) for s in ES.sec_ipc])))\n",
    "ES_sec_ipc = list(pd.Series([ast.literal_eval(i) for i in ES.sec_ipc]))"
   ]
  },
  {
   "cell_type": "code",
   "execution_count": 3,
   "metadata": {},
   "outputs": [
    {
     "name": "stdout",
     "output_type": "stream",
     "text": [
      "<class 'set'>\n",
      "[('A61M3500', 'A61P2516'), ('H04H2016', 'H04L1218'), ('B32B3712', 'B32B712'), ('F16F1502', 'F16M1122'), ('A61L210', 'F21V1306')]\n",
      "Number of unique combinations:  230005\n"
     ]
    }
   ],
   "source": [
    "# Créer liste des combinaisons présentes dans ES\n",
    "paires_ES = set()\n",
    "for ipc_list in ES_sec_ipc:\n",
    "    # Generate all pairs of IPCs in the current patent\n",
    "    for pair in combinations(ipc_list, 2):\n",
    "        paires_ES.add(tuple(sorted(pair)))  # Add sorted tuple to keep order consistent\n",
    "\n",
    "print(type(paires_ES))\n",
    "print(list(paires_ES)[:5])\n",
    "print(\"Number of unique combinations: \", len(paires_ES))"
   ]
  },
  {
   "cell_type": "code",
   "execution_count": null,
   "metadata": {},
   "outputs": [],
   "source": [
    "def surprise_score_norm(toEval_ipc, paires_ES, thr=0):\n",
    "    prop = []\n",
    "    bin = []\n",
    "    \n",
    "    for patent in tqdm(toEval_ipc):\n",
    "        patent_size = len(patent)\n",
    "        if patent_size < 2:\n",
    "            prop.append(0)\n",
    "            bin.append(0)\n",
    "            continue\n",
    "        \n",
    "        # Count the surprising pairs\n",
    "        surprise_count = sum(1 for pair in combinations(patent, 2) if tuple(sorted(pair)) not in paires_ES)\n",
    "        \n",
    "        # Normalize by the total number of pairs\n",
    "        total_pairs = patent_size * (patent_size - 1) / 2\n",
    "        normalized_novelty = surprise_count / total_pairs\n",
    "        \n",
    "        prop.append(normalized_novelty)\n",
    "        bin.append(1 if normalized_novelty > thr else 0)\n",
    "        \n",
    "    return prop, bin\n",
    "\n",
    "\n",
    "def surprise_score_bin(toEval_ipc, paires_ES):\n",
    "    score = []\n",
    "    newPair = [[] for i in range(0, len(toEval_ipc))]\n",
    "\n",
    "    for idx, patent in enumerate(tqdm(toEval_ipc)):\n",
    "        surprise = 0\n",
    "        for pair in combinations(patent, 2):\n",
    "            sorted_pair = tuple(sorted(pair))\n",
    "            if sorted_pair not in paires_ES:\n",
    "                surprise = 1\n",
    "                newPair[idx].append(sorted_pair)\n",
    "        score.append(surprise)\n",
    "    return(score, newPair)\n"
   ]
  },
  {
   "cell_type": "code",
   "execution_count": 573,
   "metadata": {},
   "outputs": [
    {
     "name": "stderr",
     "output_type": "stream",
     "text": [
      "100%|██████████| 9234/9234 [00:00<00:00, 185174.65it/s]\n",
      "100%|██████████| 9234/9234 [00:00<00:00, 210387.33it/s]\n"
     ]
    }
   ],
   "source": [
    "surprise_norm = surprise_score_norm(toEval_ipc, paires_ES)\n",
    "surprise_bin = surprise_score_bin(toEval_ipc, paires_ES)"
   ]
  },
  {
   "cell_type": "code",
   "execution_count": 574,
   "metadata": {},
   "outputs": [
    {
     "data": {
      "text/html": [
       "<div>\n",
       "<style scoped>\n",
       "    .dataframe tbody tr th:only-of-type {\n",
       "        vertical-align: middle;\n",
       "    }\n",
       "\n",
       "    .dataframe tbody tr th {\n",
       "        vertical-align: top;\n",
       "    }\n",
       "\n",
       "    .dataframe thead th {\n",
       "        text-align: right;\n",
       "    }\n",
       "</style>\n",
       "<table border=\"1\" class=\"dataframe\">\n",
       "  <thead>\n",
       "    <tr style=\"text-align: right;\">\n",
       "      <th></th>\n",
       "      <th>Surprise Norm</th>\n",
       "      <th>Surprise Bin</th>\n",
       "      <th>New pairs of IPCs</th>\n",
       "      <th>0</th>\n",
       "    </tr>\n",
       "  </thead>\n",
       "  <tbody>\n",
       "    <tr>\n",
       "      <th>4</th>\n",
       "      <td>0.30</td>\n",
       "      <td>1</td>\n",
       "      <td>[(G06F3042, G06T700), (G06F3042, G06T520), (G06F3042, G06T500)]</td>\n",
       "      <td>[G06F3041, G06T700, G06T520, G06F3042, G06T500]</td>\n",
       "    </tr>\n",
       "    <tr>\n",
       "      <th>5</th>\n",
       "      <td>0.14</td>\n",
       "      <td>1</td>\n",
       "      <td>[(G02F113, G06F303), (G02B2700, G06F303), (G02B530, G06F303)]</td>\n",
       "      <td>[G06F301, G02F113, G06T700, G02B2700, G06F303, G02B530, G02B2701]</td>\n",
       "    </tr>\n",
       "    <tr>\n",
       "      <th>9</th>\n",
       "      <td>0.17</td>\n",
       "      <td>1</td>\n",
       "      <td>[(G06F128, H02J702)]</td>\n",
       "      <td>[G06F128, H04W5202, H02J702, G06F126]</td>\n",
       "    </tr>\n",
       "    <tr>\n",
       "      <th>11</th>\n",
       "      <td>1.00</td>\n",
       "      <td>1</td>\n",
       "      <td>[(G06F120897, G06F1316)]</td>\n",
       "      <td>[G06F120897, G06F1316]</td>\n",
       "    </tr>\n",
       "    <tr>\n",
       "      <th>12</th>\n",
       "      <td>0.67</td>\n",
       "      <td>1</td>\n",
       "      <td>[(A63F1326, G06F314), (A63F1324, G06F314), (G06F30338, G06F314), (A63F1326, G06F116), (A63F1326, G06F302), (A63F1326, G06F30338), (A63F1324, G06F116), (G06F116, G06F30338), (A63F1324, G06F302), (G06F302, G06F30338)]</td>\n",
       "      <td>[G06F314, A63F1326, G06F116, A63F1324, G06F302, G06F30338]</td>\n",
       "    </tr>\n",
       "    <tr>\n",
       "      <th>...</th>\n",
       "      <td>...</td>\n",
       "      <td>...</td>\n",
       "      <td>...</td>\n",
       "      <td>...</td>\n",
       "    </tr>\n",
       "    <tr>\n",
       "      <th>9221</th>\n",
       "      <td>0.20</td>\n",
       "      <td>1</td>\n",
       "      <td>[(G06F708, H04L2908), (G06F708, G06T1120), (G06F708, G06T1160)]</td>\n",
       "      <td>[G06F30481, H04L2908, G06F708, G06F30484, G06T1120, G06T1160]</td>\n",
       "    </tr>\n",
       "    <tr>\n",
       "      <th>9226</th>\n",
       "      <td>1.00</td>\n",
       "      <td>1</td>\n",
       "      <td>[(G01R1925, G06F1750)]</td>\n",
       "      <td>[G06F1750, G01R1925]</td>\n",
       "    </tr>\n",
       "    <tr>\n",
       "      <th>9230</th>\n",
       "      <td>0.33</td>\n",
       "      <td>1</td>\n",
       "      <td>[(G06F950, G06Q2014), (G06F948, G06Q2014)]</td>\n",
       "      <td>[G06F950, G06F948, G06Q2014, H04L12911]</td>\n",
       "    </tr>\n",
       "    <tr>\n",
       "      <th>9231</th>\n",
       "      <td>0.33</td>\n",
       "      <td>1</td>\n",
       "      <td>[(G06F1724, G06K946)]</td>\n",
       "      <td>[G06F1724, G06K946, G06F1727]</td>\n",
       "    </tr>\n",
       "    <tr>\n",
       "      <th>9232</th>\n",
       "      <td>0.33</td>\n",
       "      <td>1</td>\n",
       "      <td>[(G06F1342, G06F944)]</td>\n",
       "      <td>[G06F944, G06F1342, G06F1338]</td>\n",
       "    </tr>\n",
       "  </tbody>\n",
       "</table>\n",
       "<p>2730 rows × 4 columns</p>\n",
       "</div>"
      ],
      "text/plain": [
       "      Surprise Norm  Surprise Bin  \\\n",
       "4              0.30             1   \n",
       "5              0.14             1   \n",
       "9              0.17             1   \n",
       "11             1.00             1   \n",
       "12             0.67             1   \n",
       "...             ...           ...   \n",
       "9221           0.20             1   \n",
       "9226           1.00             1   \n",
       "9230           0.33             1   \n",
       "9231           0.33             1   \n",
       "9232           0.33             1   \n",
       "\n",
       "                                                                                                                                                                                                            New pairs of IPCs  \\\n",
       "4                                                                                                                                                             [(G06F3042, G06T700), (G06F3042, G06T520), (G06F3042, G06T500)]   \n",
       "5                                                                                                                                                               [(G02F113, G06F303), (G02B2700, G06F303), (G02B530, G06F303)]   \n",
       "9                                                                                                                                                                                                        [(G06F128, H02J702)]   \n",
       "11                                                                                                                                                                                                   [(G06F120897, G06F1316)]   \n",
       "12    [(A63F1326, G06F314), (A63F1324, G06F314), (G06F30338, G06F314), (A63F1326, G06F116), (A63F1326, G06F302), (A63F1326, G06F30338), (A63F1324, G06F116), (G06F116, G06F30338), (A63F1324, G06F302), (G06F302, G06F30338)]   \n",
       "...                                                                                                                                                                                                                       ...   \n",
       "9221                                                                                                                                                          [(G06F708, H04L2908), (G06F708, G06T1120), (G06F708, G06T1160)]   \n",
       "9226                                                                                                                                                                                                   [(G01R1925, G06F1750)]   \n",
       "9230                                                                                                                                                                               [(G06F950, G06Q2014), (G06F948, G06Q2014)]   \n",
       "9231                                                                                                                                                                                                    [(G06F1724, G06K946)]   \n",
       "9232                                                                                                                                                                                                    [(G06F1342, G06F944)]   \n",
       "\n",
       "                                                                      0  \n",
       "4                       [G06F3041, G06T700, G06T520, G06F3042, G06T500]  \n",
       "5     [G06F301, G02F113, G06T700, G02B2700, G06F303, G02B530, G02B2701]  \n",
       "9                                 [G06F128, H04W5202, H02J702, G06F126]  \n",
       "11                                               [G06F120897, G06F1316]  \n",
       "12           [G06F314, A63F1326, G06F116, A63F1324, G06F302, G06F30338]  \n",
       "...                                                                 ...  \n",
       "9221      [G06F30481, H04L2908, G06F708, G06F30484, G06T1120, G06T1160]  \n",
       "9226                                               [G06F1750, G01R1925]  \n",
       "9230                            [G06F950, G06F948, G06Q2014, H04L12911]  \n",
       "9231                                      [G06F1724, G06K946, G06F1727]  \n",
       "9232                                      [G06F944, G06F1342, G06F1338]  \n",
       "\n",
       "[2730 rows x 4 columns]"
      ]
     },
     "execution_count": 574,
     "metadata": {},
     "output_type": "execute_result"
    }
   ],
   "source": [
    "df = pd.DataFrame({\n",
    "    'Surprise Norm': [round(i,2) for i in surprise_norm[0]],  # Renaming the first column\n",
    "    'Surprise Bin': surprise_bin[0],   # Renaming the second column\n",
    "    'New pairs of IPCs': surprise_bin[1]\n",
    "})\n",
    "# print(\"All occurences > 0 are the same: \", all(df[df[\"Surprise Norm\"]>0]==df[df[\"Surprise Bin\"]>0]))\n",
    "\n",
    "pd.set_option('display.max_colwidth', None)\n",
    "pd.concat([df, pd.DataFrame(pd.Series(toEval_ipc))], axis=1)[df[\"Surprise Norm\"]>0]\n"
   ]
  },
  {
   "cell_type": "code",
   "execution_count": 575,
   "metadata": {},
   "outputs": [
    {
     "name": "stdout",
     "output_type": "stream",
     "text": [
      "Counter({0: 6504, 1: 2730})\n"
     ]
    },
    {
     "data": {
      "text/html": [
       "<div>\n",
       "<style scoped>\n",
       "    .dataframe tbody tr th:only-of-type {\n",
       "        vertical-align: middle;\n",
       "    }\n",
       "\n",
       "    .dataframe tbody tr th {\n",
       "        vertical-align: top;\n",
       "    }\n",
       "\n",
       "    .dataframe thead th {\n",
       "        text-align: right;\n",
       "    }\n",
       "</style>\n",
       "<table border=\"1\" class=\"dataframe\">\n",
       "  <thead>\n",
       "    <tr style=\"text-align: right;\">\n",
       "      <th></th>\n",
       "      <th>% surprise binary</th>\n",
       "    </tr>\n",
       "  </thead>\n",
       "  <tbody>\n",
       "    <tr>\n",
       "      <th>0</th>\n",
       "      <td>29.56</td>\n",
       "    </tr>\n",
       "  </tbody>\n",
       "</table>\n",
       "</div>"
      ],
      "text/plain": [
       "   % surprise binary\n",
       "0              29.56"
      ]
     },
     "execution_count": 575,
     "metadata": {},
     "output_type": "execute_result"
    }
   ],
   "source": [
    "print(Counter(np.array(surprise_bin[0])))\n",
    "\n",
    "# Statistiques\n",
    "stats_surp = pd.DataFrame({\n",
    "    '% surprise binary': round(len([x for x in surprise_bin[0] if x>0])/len(surprise_bin[0])*100, 2), \n",
    "}, index=[0])\n",
    "stats_surp"
   ]
  },
  {
   "cell_type": "markdown",
   "metadata": {},
   "source": [
    "### Distance de Jaccard des combis\n",
    "- Chaque brevet est composé de paires d'IPC\n",
    "- Trouver seuil de la même manière que diff, et créer variable bin ou ratio!\n",
    "\n",
    "À faire..."
   ]
  },
  {
   "cell_type": "markdown",
   "metadata": {},
   "source": [
    "### PMI - Divergences"
   ]
  },
  {
   "cell_type": "code",
   "execution_count": 20,
   "metadata": {},
   "outputs": [],
   "source": [
    "def pmi(list_ipc):\n",
    "    # Count occurrences of each IPC code\n",
    "    ipc_counts = Counter(ipc for sublist in list_ipc for ipc in sublist)\n",
    "    \n",
    "    # Count co-occurrences of each IPC pair\n",
    "    pair_counts = Counter()\n",
    "    for sublist in list_ipc:\n",
    "        for pair in combinations(sublist, 2):  # Generate all pairs in the sublist\n",
    "            sorted_pair = tuple(sorted(pair))\n",
    "            pair_counts[sorted_pair] += 1\n",
    "    \n",
    "    # Total patents considered\n",
    "    total_patents = len(list_ipc)\n",
    "    \n",
    "    # Calculate PMI for each pair\n",
    "    pmi_values_dict = {}\n",
    "    for (ipc1, ipc2), pair_count in pair_counts.items():\n",
    "        p_x = ipc_counts[ipc1] / total_patents\n",
    "        p_y = ipc_counts[ipc2] / total_patents\n",
    "        p_xy = pair_count / total_patents\n",
    "        \n",
    "        # Calculate PMI if none of the probabilities are zero\n",
    "        if p_x > 0 and p_y > 0 and p_xy > 0:\n",
    "            pmi_values_dict[(ipc1, ipc2)] = math.log(p_xy / (p_x * p_y))\n",
    "    \n",
    "    return pmi_values_dict"
   ]
  },
  {
   "cell_type": "code",
   "execution_count": 21,
   "metadata": {},
   "outputs": [],
   "source": [
    "pmi_ES_dict = pmi(list_ipc=ES_sec_ipc)\n",
    "pmi_tE_dict = pmi(list_ipc=toEval_ipc)"
   ]
  },
  {
   "cell_type": "code",
   "execution_count": null,
   "metadata": {},
   "outputs": [],
   "source": [
    "# pmi_ES_dict2 = pmi2(list_ipc=ES_sec_ipc)\n",
    "# pmi_tE_dict2 = pmi2(list_ipc=toEval_ipc)"
   ]
  },
  {
   "cell_type": "code",
   "execution_count": null,
   "metadata": {},
   "outputs": [
    {
     "data": {
      "text/plain": [
       "True"
      ]
     },
     "execution_count": 684,
     "metadata": {},
     "output_type": "execute_result"
    }
   ],
   "source": [
    "# pmi_ES_dict==pmi_ES_dict2"
   ]
  },
  {
   "cell_type": "code",
   "execution_count": 6,
   "metadata": {},
   "outputs": [
    {
     "name": "stdout",
     "output_type": "stream",
     "text": [
      "Mean:  5.0751831145250845\n",
      "Min:  -5.96352832387434\n",
      "Max:  12.974482666840602\n",
      "Median:  4.9937748459709335\n",
      "St. deviation:  3.139057753536195\n"
     ]
    }
   ],
   "source": [
    "pmi_val_list = list(pmi_ES_dict.values())\n",
    "print(\"Mean: \", np.mean(pmi_val_list))\n",
    "print(\"Min: \", np.min(pmi_val_list))\n",
    "print(\"Max: \", np.max(pmi_val_list))\n",
    "print(\"Median: \", np.median (pmi_val_list))\n",
    "print(\"St. deviation: \", np.std(pmi_val_list))"
   ]
  },
  {
   "cell_type": "code",
   "execution_count": 700,
   "metadata": {},
   "outputs": [
    {
     "name": "stdout",
     "output_type": "stream",
     "text": [
      "Mean:  3.4759031523833595\n"
     ]
    }
   ],
   "source": [
    "print(\"Mean: \", np.mean(list(pmi_tE_dict.values())))"
   ]
  },
  {
   "cell_type": "code",
   "execution_count": 701,
   "metadata": {},
   "outputs": [],
   "source": [
    "# with self ipc\n",
    "import math\n",
    "from collections import Counter\n",
    "\n",
    "# Separate patents into single-IPC and multi-IPC\n",
    "multi_ipc_patents = [sublist for sublist in ES_sec_ipc if len(sublist) > 1]\n",
    "single_ipc_patents = [sublist[0] for sublist in ES_sec_ipc if len(sublist) == 1]\n",
    "total_single_ipc_patents = len(single_ipc_patents)\n",
    "total_multi_ipc_patents = len(multi_ipc_patents)\n",
    "\n",
    "# Count occurrences of each IPC code across all patents (for pair PMI)\n",
    "ipc_counts = Counter([ipc for sublist in ES_sec_ipc for ipc in sublist])\n",
    "\n",
    "# Count co-occurrences of each IPC pair only in multi-IPC patents\n",
    "pair_counts = Counter()\n",
    "for sublist in multi_ipc_patents:\n",
    "    for i in range(len(sublist)):\n",
    "        for j in range(i + 1, len(sublist)):\n",
    "            pair = tuple(sorted([sublist[i], sublist[j]]))\n",
    "            pair_counts[pair] += 1\n",
    "\n",
    "# Calculate self-PMI for single-IPC patents only\n",
    "single_ipc_counts = Counter(single_ipc_patents)\n",
    "self_pmi_dict = {}\n",
    "for ipc, count in single_ipc_counts.items():\n",
    "    p_x = count / total_single_ipc_patents\n",
    "    if p_x > 0:\n",
    "        self_pmi_dict[ipc] = math.log(p_x / (1 / len(single_ipc_counts)))  # Baseline of uniform probability\n",
    "\n",
    "# Calculate PMI for IPC pairs based on multi-IPC patents\n",
    "pmi_values_dict = {}\n",
    "for (ipc1, ipc2), pair_count in pair_counts.items():\n",
    "    p_x = ipc_counts[ipc1] / total_multi_ipc_patents\n",
    "    p_y = ipc_counts[ipc2] / total_multi_ipc_patents\n",
    "    p_xy = pair_count / total_multi_ipc_patents\n",
    "    if p_x > 0 and p_y > 0 and p_xy > 0:\n",
    "        pmi_values_dict[(ipc1, ipc2)] = math.log(p_xy / (p_x * p_y))\n",
    "\n",
    "# Combine results into a DataFrame for analysis\n",
    "import pandas as pd\n",
    "pmi_df = pd.DataFrame(\n",
    "    [\n",
    "        {\n",
    "            \"IPC1\": ipc1,\n",
    "            \"IPC2\": ipc2,\n",
    "            \"PMI\": pmi,\n",
    "            \"Self_PMI_IPC1\": self_pmi_dict.get(ipc1, None),\n",
    "            \"Self_PMI_IPC2\": self_pmi_dict.get(ipc2, None)\n",
    "        }\n",
    "        for (ipc1, ipc2), pmi in pmi_values_dict.items()\n",
    "    ]\n",
    ")\n"
   ]
  },
  {
   "cell_type": "code",
   "execution_count": 702,
   "metadata": {},
   "outputs": [
    {
     "data": {
      "text/plain": [
       "4.276751934102647"
      ]
     },
     "execution_count": 702,
     "metadata": {},
     "output_type": "execute_result"
    }
   ],
   "source": [
    "np.mean(pmi_df[\"PMI\"])"
   ]
  },
  {
   "cell_type": "code",
   "execution_count": 703,
   "metadata": {},
   "outputs": [
    {
     "data": {
      "text/plain": [
       "3.5920675017443897"
      ]
     },
     "execution_count": 703,
     "metadata": {},
     "output_type": "execute_result"
    }
   ],
   "source": [
    "list(pmi_ES_dict)\n",
    "pmi_ES_dict.get(list(pmi_ES_dict.keys())[0])"
   ]
  },
  {
   "cell_type": "code",
   "execution_count": 545,
   "metadata": {},
   "outputs": [],
   "source": [
    "def new_surprise(pmi_new, pmi_known, thr_surp=0.0):\n",
    "    \"\"\"Compare the distribution with and without new_Q -- check for new collocations -- \n",
    "    PMI increases drastically according to a threshold.\n",
    "    By setting the threshold to 0, as long as there is a new tuple we will consider it.\"\"\"\n",
    "\n",
    "    # Get the known IPC pairs from the pmi_known dictionary\n",
    "    temp_known = set(pmi_known.keys())  # Using a set for faster lookups\n",
    "\n",
    "    # Identify unique new tuples where the PMI is greater than 0 and not in known pairs\n",
    "    unique_tuples = {ipc_pair for ipc_pair, pmi in pmi_new.items() \n",
    "                    if ipc_pair not in temp_known}# and pmi > 0}\n",
    "    print(unique_tuples)\n",
    "\n",
    "    counts_new = []\n",
    "    # Loop through each patent in toEval_ipc\n",
    "    for patent in toEval_ipc:\n",
    "        count_new = 0  # Initialize new pair count for the current patent\n",
    "\n",
    "        # Check all pairs of IPC codes in the current patent\n",
    "        for i in range(len(patent)):\n",
    "            for j in range(i + 1, len(patent)):\n",
    "                ipc_pair = tuple(sorted([patent[i], patent[j]]))  # Sort to ensure pairs are consistent\n",
    "                if ipc_pair in unique_tuples:\n",
    "                    count_new += 1  # Count if the pair is in unique_tuples\n",
    "\n",
    "        # Calculate surprise rate for the current patent\n",
    "        if len(patent) > 1:  # We need at least 2 IPC codes to form a pair\n",
    "            surprise_rate = count_new / (len(patent) * (len(patent) - 1) / 2)  # Total pairs possible\n",
    "            counts_new.append(surprise_rate)\n",
    "        else:\n",
    "            counts_new.append(0)  # Append 0 if patent has no pairs\n",
    "\n",
    "    # Determine if the surprise rate exceeds the threshold for each patent\n",
    "    new_suprise = [1 if rate > thr_surp else 0 for rate in counts_new]\n",
    "\n",
    "    return counts_new, new_suprise\n"
   ]
  },
  {
   "cell_type": "code",
   "execution_count": 546,
   "metadata": {},
   "outputs": [
    {
     "name": "stdout",
     "output_type": "stream",
     "text": [
      "{('G06F1206', 'G06F1340'), ('G06F1340', 'H04W1206'), ('G06Q2016', 'G09G500'), ('G06F301', 'H04N5376'), ('G06F130', 'H02M132'), ('G06F30354', 'H01H1386'), ('G05F166', 'G06F132'), ('G06F3042', 'H04N5225'), ('H04N21488', 'H04N557'), ('G06F2178', 'G06F938'), ('G06F2181', 'H04L932'), ('G06F306', 'H03M1317'), ('G11B2018', 'H04L100'), ('G06F120804', 'G06F120813'), ('G06F1320', 'G06F30488'), ('A63F1324', 'G06F30481'), ('A61B804', 'G06F1750'), ('A44C900', 'G06F316'), ('G06F2153', 'G06F2188'), ('B60R16023', 'G06F126'), ('A61L210', 'G06F30488'), ('G06F2141', 'G06T700'), ('G06F1208', 'G06F1310'), ('G06F132', 'H03M1315'), ('A47F300', 'G06F30488'), ('G06F1724', 'G06K946'), ('G06F30484', 'H04N21435'), ('G01S1953', 'G05D104'), ('G06F1202', 'G06F1316'), ('G06F1342', 'G06F30482'), ('C23C1404', 'C23C1456'), ('G11B27031', 'H04N216334'), ('G06F120', 'G06F950'), ('H04L912', 'H04N144'), ('G06F1340', 'G06F316'), ('B60K3706', 'G06F3147'), ('G06F1718', 'H04L908'), ('G06F7487', 'G06F7535'), ('G06F1130', 'G06F954'), ('H01H1386', 'H04M123'), ('G06F1717', 'H03K2366'), ('G09B502', 'G09G5377'), ('G11C710', 'G11C716'), ('B32B2706', 'G06F3041'), ('G06F1312', 'G06F1316'), ('G06F110', 'G06F944'), ('G06F11263', 'G06F1208'), ('G06F2156', 'G06F9455'), ('A61B3400', 'G06T700'), ('G06F114', 'G06F126'), ('G06F3147', 'G09G33266'), ('G06F132', 'H04B354'), ('G06F302', 'H04M160'), ('G06F120811', 'G06F120855'), ('G06F2144', 'G06F944'), ('G11C114072', 'G11C2952'), ('G06F126', 'G06F301'), ('G01N3300', 'G06F3041'), ('G01S1758', 'G06F303'), ('G06F2112', 'G06F2157'), ('G06F121009', 'G06F1340'), ('G06F30483', 'G06F312'), ('G06F2144', 'G06F30484'), ('G06F302', 'H01H137065'), ('B64D4500', 'G06F1721'), ('G06F758', 'G11C114091'), ('G06F2184', 'G06F2186'), ('G06F2162', 'G06F2174'), ('G06F132', 'H04N1942'), ('G06F1728', 'H04M700'), ('G06F30346', 'H04N21431'), ('G06F30481', 'H04N21218'), ('G11C1300', 'H03M1337'), ('G06T760', 'H04W402'), ('G06F301', 'G06T1560'), ('E04H1300', 'G06F3147'), ('G06F2135', 'H04W404'), ('G06F1316', 'G11C1616'), ('G06F30486', 'G06F708'), ('G06F7483', 'G06F948'), ('H04M123', 'H04M160'), ('G06F120875', 'G06F120884'), ('A61B508', 'A61J700'), ('G06F1328', 'G06F506'), ('G06F1316', 'G06F9445'), ('G06F944', 'G06N504'), ('G05B19048', 'G06Q2032'), ('G06F1310', 'G06F30489'), ('G09G500', 'H01P3127'), ('G06F2134', 'G06F2160'), ('G06F1202', 'G11C2944'), ('B05D306', 'G06F3044'), ('G06F12128', 'G06F938'), ('G06F946', 'G06N9900'), ('G06F1214', 'G06K700'), ('G06K900', 'H04N218547'), ('G06F1316', 'H03M1309'), ('G06F120875', 'G06F1342'), ('G06F1316', 'G06F13372'), ('G06F11263', 'G06F9455'), ('G06F1202', 'G06T120'), ('G03G1501', 'G06F312'), ('G06N700', 'G10L15187'), ('G06F30346', 'H04W402'), ('A63F1367', 'G06F30481'), ('A63F13212', 'A63F1398'), ('G06F9455', 'H03M730'), ('H01L2732', 'H04N533'), ('G06F1107', 'G06F1324'), ('G06F1206', 'G06F1328'), ('G06F1208', 'G06F938'), ('G06F126', 'H01R2702'), ('F16B502', 'H05K720'), ('A61B3400', 'G06F1730'), ('E05B6500', 'E05C904'), ('G06F3044', 'H01L3358'), ('G05B1905', 'G06F301'), ('F16M1302', 'G06F118'), ('G06F302', 'H05B3702'), ('B41J2938', 'G06F30485'), ('G06F1134', 'G06F1750'), ('G06F303', 'H04N5376'), ('G06F1310', 'G06F30482'), ('G06F1578', 'G06F930'), ('G06F1336', 'G11C502'), ('G06F120895', 'G06F121009'), ('G06F3023', 'H04N21422'), ('G06K900', 'H01L23538'), ('G06F1122', 'G06F1324'), ('H03K1722', 'H03K190175'), ('G06F2154', 'G06T100'), ('B60Q108', 'G05D100'), ('G06F9445', 'G06F9445'), ('G06F120875', 'G06F120893'), ('G01C506', 'G06F30481'), ('A61B5021', 'A61J704'), ('G06F2152', 'H04W402'), ('A61L2720', 'G06F1900'), ('G06K714', 'H04L906'), ('G06F116', 'H01L2329'), ('G06F1130', 'G06F930'), ('G06F302', 'G09F930'), ('G06F1134', 'G06F938'), ('G01R2302', 'G06F1730'), ('F21V1402', 'F21V1501'), ('G06F2110', 'G06F2178'), ('B62J110', 'G06F303'), ('A61B806', 'G06F1900'), ('B32B3814', 'B32B514'), ('G06F1750', 'H03L7093'), ('G06F11273', 'G06F1324'), ('G06F30346', 'H03K1796'), ('B60R1102', 'H02J5010'), ('G06F1132', 'G06F132'), ('G06F1320', 'G06F314'), ('C03C1722', 'G06F116'), ('G05F308', 'H02H718'), ('G06F1130', 'G06F1214'), ('G06F1120', 'G11C1626'), ('G06F1721', 'G07C900'), ('G06F2162', 'G09G510'), ('G06F1320', 'G06K900'), ('G06F2174', 'G06F2185'), ('G06F120815', 'G06F1342'), ('G06F1728', 'G08G10962'), ('G06F3023', 'G06F30485'), ('G01J144', 'G06F30354'), ('A44C1500', 'G06F30488'), ('G06F2132', 'G06Q2014'), ('G10L1304', 'H04R2900'), ('G06F9445', 'H04N1700'), ('H05K102', 'H05K102'), ('G06F944', 'H04N1700'), ('G06F1340', 'G06Q2006'), ('G06K934', 'H04N591'), ('G06K710', 'H04M12755'), ('G06F306', 'G11C114072'), ('G06F316', 'H03G500'), ('G06F2133', 'G06F2145'), ('G06F1342', 'G06Q2020'), ('G06F120804', 'G06F120811'), ('G06F1116', 'G06F306'), ('G06F132', 'H04B500'), ('B60N200', 'G06F1900'), ('G06K962', 'H04N2184'), ('G06F1730', 'G06F2156'), ('G06F2130', 'H04W400'), ('G06F128', 'H02J906'), ('G06F1722', 'G06N304'), ('G06F3045', 'G06F30484'), ('B41M104', 'B41M130'), ('G06F126', 'H04L1240'), ('G06F120868', 'G06F120871'), ('G06T120', 'G11B27036'), ('G06F2132', 'G06F30481'), ('B60K3500', 'G06F30354'), ('H04R2900', 'H04W824'), ('G06F103', 'G06F753'), ('F24C708', 'G09G512'), ('G06F116', 'G06F3033'), ('G06T1120', 'G09B502'), ('B32B1706', 'G06F116'), ('B41J2938', 'G06F30482'), ('G06F30481', 'G06T100'), ('G06F128', 'G06F130'), ('G06F1110', 'G06F1116'), ('A61B100', 'G06F30485'), ('G01N3504', 'G06Q1010'), ('G06F30485', 'G10L1526'), ('G01J144', 'G06F303'), ('G06F116', 'H01P3127'), ('G06F1900', 'G06N308'), ('G06F944', 'H02M704'), ('G06F1718', 'G06F1727'), ('A61B51172', 'G06F2132'), ('G06F1322', 'H04L2912'), ('A61L2754', 'G06F1900'), ('A45C1300', 'G06F116'), ('G06F120873', 'G06F306'), ('G07G101', 'H05K502'), ('G06F1721', 'G06F945'), ('A63F13213', 'G06F30481'), ('G01S1706', 'G06F1730'), ('G01S1706', 'G06K932'), ('G06F2184', 'H04L2906'), ('G05B1919', 'G06F30488'), ('G06F104', 'H03K303'), ('G06F1721', 'H04M342'), ('G06F3041', 'H01H1385'), ('G10L1726', 'G10L2575'), ('G06F121018', 'G06F12128'), ('G06F2144', 'G06F2183'), ('G06F1120', 'H02J700'), ('G06F15173', 'H04L1258'), ('G06F301', 'G09B1908'), ('G06F301', 'G09F1500'), ('F16B204', 'G06F120'), ('G06F932', 'G06F938'), ('B62K2302', 'G06F116'), ('B60K3500', 'G06F303'), ('G09B2900', 'G09G5377'), ('G06F132', 'H01R13717'), ('G06F1340', 'H04L700'), ('G06F1338', 'G06F2133'), ('G02B632', 'G06F3042'), ('G06F2132', 'G06K714'), ('G04G1706', 'H02J700'), ('G04G910', 'H01L3344'), ('A61B50215', 'G06F1711'), ('G06F116', 'G07C508'), ('G06F1116', 'H04N132'), ('G06F316', 'G10L2509'), ('G06F3038', 'G06K1906'), ('G06F2160', 'G06T1100'), ('G08B2104', 'G09B502'), ('G06F2146', 'G06F2160'), ('G06F3023', 'G06F30482'), ('G06F938', 'G06N700'), ('G06F1340', 'G06F938'), ('G06F1127', 'G06F944'), ('A61B3113', 'G06T780'), ('G06F1340', 'H05K118'), ('H01F2728', 'H01Q700'), ('A63F1320', 'G06F303'), ('G06F2156', 'G06F3041'), ('H04N212347', 'H04N5775'), ('G06F3044', 'H04N5232'), ('G03F742', 'G06F120'), ('G06F1310', 'G06K918'), ('G02B2710', 'G06F301'), ('G02B1900', 'G06K946'), ('G06F126', 'G06F1578'), ('G06F126', 'G11C1630'), ('G06F312', 'H04N110'), ('H04N21254', 'H04N7167'), ('G06F1114', 'G06F2157'), ('G06T1120', 'G09B700'), ('G11C11408', 'H03M1300'), ('G06F120808', 'G06F2157'), ('B41J2175', 'G06F1107'), ('G06F2132', 'G06T1120'), ('G06F758', 'G11C114096'), ('F16B100', 'G07C508'), ('G06F2152', 'G06F2153'), ('A61Q1500', 'C11D1100'), ('G06F12084', 'G06F938'), ('G06F1208', 'G06F1328'), ('C40B3002', 'G06F1912'), ('G06F1324', 'G06F1580'), ('G06T1100', 'G09G5395'), ('G06F120893', 'G06F12123'), ('G06F1342', 'G06Q1008'), ('F28F900', 'F28F926'), ('G06F1107', 'G06F1208'), ('A61B500', 'G06F2132'), ('A44C900', 'H04W400'), ('G01D514', 'G06F128'), ('A61M1500', 'G06F1900'), ('G06F1340', 'G06F1340'), ('G06F132', 'G11C1630'), ('G06F306', 'G06K900'), ('G05B19042', 'G06F1336'), ('G06F2153', 'G06F2174'), ('G06F121009', 'G11C11406'), ('G06F316', 'G10L210324'), ('G06F2188', 'H04W1206'), ('G06Q2024', 'H04W1206'), ('G06F1728', 'G06F314'), ('G06F1900', 'H04N21414'), ('G06F1710', 'G06F7507'), ('G06F1122', 'G06F1208'), ('G06F1728', 'G06Q5012'), ('A63F1324', 'G02B2701'), ('H01L310216', 'H05K102'), ('G06F112', 'G11C2704'), ('A63F13332', 'G06T300'), ('G06F1126', 'G06F952'), ('G06F312', 'H04W1208'), ('G06F1127', 'G11C11406'), ('G06F120864', 'G06F120895'), ('G06F120813', 'G06F1340'), ('G06F120804', 'G06F9455'), ('G06F1122', 'G06F11273'), ('G06F944', 'H05K714'), ('G06F1342', 'G06F514'), ('G06F1136', 'G06K962'), ('G06K1906', 'H04W1206'), ('G06F2110', 'H04N21436'), ('G11C1300', 'H04L908'), ('G06F2160', 'H04N212347'), ('G06F120862', 'G06F128'), ('G06F314', 'H04N21482'), ('G06F1107', 'G06F312'), ('G06F314', 'H02J700'), ('B62J110', 'G06F301'), ('B32B1500', 'B32B3700'), ('G04G2100', 'G06F30487'), ('G06F1206', 'H04L932'), ('B32B712', 'G06F3044'), ('B43K2918', 'G06F3044'), ('G06F112', 'G06F3041'), ('A61B5024', 'G06F116'), ('G01S1953', 'H04N5225'), ('G06F1340', 'G06Q2038'), ('G06F128', 'G06F930'), ('B32B3724', 'G06F3044'), ('G06F118', 'H01R13629'), ('G06F1107', 'G06F9455'), ('G06F1202', 'G06F1204'), ('F25D2900', 'G06F2132'), ('A63F13212', 'G06F30346'), ('G05B19048', 'G06F3044'), ('G06F1724', 'G09G510'), ('G11C710', 'H03M1315'), ('G11B2719', 'H04N216334'), ('G06F2154', 'G06F2155'), ('G06F2160', 'G06F702'), ('G06F1928', 'H01L2702'), ('G06F2145', 'G06F30489'), ('G09G334', 'H04N21488'), ('B01J1900', 'G11B7245'), ('G06F1122', 'G06F9455'), ('G06F120897', 'G06F948'), ('G06F128', 'G06F1316'), ('F21S902', 'G06F3038'), ('G06F1100', 'G06F1107'), ('G06F121027', 'G11C11406'), ('C03B23035', 'G06F1710'), ('G11B2710', 'H04N216547'), ('G06F1730', 'G08G1052'), ('H04N21222', 'H04N7167'), ('G06F2132', 'G06Q5026'), ('G06F1717', 'G06T1720'), ('G06F3038', 'H05B3308'), ('G06F1134', 'G06F944'), ('G06F1900', 'G06F30346'), ('C23C1418', 'C23C1802'), ('G06F2132', 'G10L1522'), ('G06F7535', 'G11C710'), ('G06Q1008', 'G06Q2006'), ('H04N121', 'H04N218547'), ('G06F120815', 'G06F12084'), ('C09K1946', 'G06F3041'), ('G06F120864', 'G06F930'), ('G06F2114', 'G06F2157'), ('G06F2160', 'H04N5232'), ('G06F120802', 'G06F2112'), ('A23F318', 'G06F316'), ('G06F758', 'H03K384'), ('G06F301', 'G08B2510'), ('G06F116', 'H02N206'), ('G06F1210', 'G06F2155'), ('G06F118', 'G06F316'), ('G06F2140', 'G06F30483'), ('G04G900', 'G06F116'), ('G06F3041', 'H03K1722'), ('G06F2162', 'G10L19018'), ('G06F2145', 'G06F30482'), ('G06F2155', 'G06F944'), ('G06F118', 'H05K103'), ('B60W5012', 'G06K900'), ('B41J2315', 'G07G100'), ('G06F1340', 'H04W8802'), ('A63F13285', 'G09B900'), ('A63F1335', 'G06T760'), ('A63F13655', 'G06F30484'), ('G01R2100', 'G06F1730'), ('G06F1107', 'G06F128'), ('G06F1107', 'G06F130'), ('G06F120831', 'G06F1328'), ('H04L2908', 'H04L912'), ('G06F120804', 'G06F954'), ('G06F2132', 'G06F3042'), ('E21B4100', 'G06F30486'), ('G05D104', 'H04N5225'), ('G06F2156', 'G06F2174'), ('G06F121009', 'G06F952'), ('G06F1750', 'G06F950'), ('A61B812', 'G06F1750'), ('G06F30488', 'H01H1385'), ('G02B520', 'H01L3362'), ('G06F312', 'H04W1202'), ('G06F9355', 'G06F938'), ('G06F2164', 'G06F944'), ('G06F30354', 'G06F3043'), ('G06F30346', 'H04B13827'), ('G06F120862', 'G06F950'), ('G06F110', 'G06F1578'), ('G06F952', 'H04L1224'), ('G06F1340', 'G06F30354'), ('G06F2160', 'G06F30484'), ('G06F120891', 'G06F120897'), ('A63F1367', 'G06F303'), ('G06F1900', 'G06F2131'), ('A61J704', 'G06F2132'), ('E21B3313', 'G06F30486'), ('G06T550', 'H04N100'), ('G11C2904', 'H04L100'), ('G06F116', 'G06F1310'), ('G11B2012', 'H03M1335'), ('G06F1730', 'H04W5600'), ('G06F2186', 'H05K720'), ('G06F120891', 'G06F1212'), ('G06F1322', 'G06F1338'), ('G06F1120', 'G11C1634'), ('G06F312', 'H04W6000'), ('G06F3033', 'G06F30346'), ('G06F132', 'G06T700'), ('G06F2110', 'H04N7167'), ('G06F120', 'H05B326'), ('G09F2104', 'G09F933'), ('G06F30346', 'G06F3046'), ('G06F1316', 'G06F132'), ('H01L310216', 'H01L3362'), ('G06F944', 'H04L1258'), ('G11C1300', 'H04L914'), ('G06F945', 'H03M730'), ('G06F1130', 'G06F30482'), ('G06F3042', 'G06K946'), ('G01B1100', 'G06F3042'), ('G02B2709', 'G06T1900'), ('G11C1928', 'H03M900'), ('G06F132', 'G06F1324'), ('G06F12126', 'G06F306'), ('G10L2521', 'H04M102'), ('G06F1107', 'G11C114096'), ('G10L1504', 'G10L1722'), ('G06F1900', 'G06F2144'), ('G06F930', 'G06F930'), ('A61F544', 'G06F1900'), ('G02B2700', 'G06F30482'), ('G06F126', 'H01R2460'), ('G06F130', 'G11C1610'), ('G10K11178', 'H04R140'), ('G06F316', 'H04W8412'), ('G06F1342', 'G09G512'), ('B60R16037', 'G10L1722'), ('G06F120897', 'G06F12123'), ('G06F2151', 'G06N9900'), ('G06F3044', 'H01L41047'), ('G06F306', 'G11C1622'), ('G09G334', 'G09G5373'), ('G06F1114', 'H04L908'), ('G06F2171', 'G07C900'), ('G06F2171', 'G06F2179'), ('F24C708', 'H01L3348'), ('G06F2152', 'G06F2155'), ('G02B2701', 'G02B2701'), ('G06F302', 'G06F30489'), ('G11C1608', 'H03M1337'), ('G06F7487', 'G06F7544'), ('G01W100', 'G06F3041'), ('G11C1718', 'G11C2952'), ('G06F316', 'G06K918'), ('G06F1722', 'H04N21278'), ('G06F1918', 'G06F1926'), ('F16B4700', 'G06F116'), ('G06F1728', 'H04W1208'), ('G04G910', 'H01L3362'), ('G06F1342', 'H03M166'), ('G06F1580', 'G06F778'), ('G06F130', 'H04N563'), ('A61G1708', 'G06F3041'), ('G06F306', 'G11C1716'), ('H04N2141', 'H04N21835'), ('G06F120862', 'G06F1316'), ('G06F1107', 'G11C706'), ('G06F316', 'H02J702'), ('G05D100', 'G06F1750'), ('G06F2156', 'G06N504'), ('G06K948', 'G06N9900'), ('A63F1326', 'G06F302'), ('G09G33241', 'G09G33266'), ('G06F30485', 'G08C1702'), ('G06F302', 'G06F30362'), ('G04C300', 'G04G900'), ('G06F3041', 'G06K714'), ('G06F120817', 'G06F120837'), ('G06F108', 'G06F112'), ('G06F132', 'G06F1730'), ('G06F306', 'G06Q3004'), ('G01B1314', 'G06F30481'), ('G06F15173', 'G06F930'), ('G06F302', 'G06F30482'), ('B60K3500', 'G06T780'), ('G06F1210', 'G11C2952'), ('G06F314', 'G08G500'), ('C23C1404', 'H05K304'), ('G06F1110', 'G11C2938'), ('G06F1120', 'H04L932'), ('F28F140', 'F28F1900'), ('G06F1342', 'G11C1610'), ('G11C11406', 'G11C502'), ('G06F1342', 'H01P3127'), ('G06F306', 'G11B3302'), ('G06F120817', 'G06F1328'), ('G06F116', 'G06F2162'), ('A61L224', 'G06F3041'), ('G06F1120', 'G06F306'), ('G06F30484', 'G09B2900'), ('G06F1900', 'G06K714'), ('G06F2160', 'H04N718'), ('G06F1120', 'H04L2906'), ('G06F2145', 'G06K918'), ('B43K2918', 'G06F3038'), ('G06F1107', 'G06F1134'), ('A63F13213', 'G06F303'), ('G06F2131', 'G06F2171'), ('G09F930', 'H04M123'), ('G06F1130', 'G06F13366'), ('F16B1100', 'F16M1104'), ('G11C700', 'H02M307'), ('G06F1730', 'H04B726'), ('C23C1422', 'C23C1802'), ('G06F112', 'H03K303'), ('G06F126', 'H04B13827'), ('E05D1108', 'E05D306'), ('F25B1300', 'G08C1702'), ('G06F1134', 'G06F952'), ('G06F116', 'H01L4310'), ('G06F30346', 'G09G336'), ('B32B102', 'C25D1102'), ('G06F316', 'G06F948'), ('G06F306', 'G11C2910'), ('G06T1300', 'G10L2563'), ('G06F1100', 'G11C1610'), ('G04B304', 'G06F30487'), ('G06F7487', 'G06F7552'), ('H04N104', 'H04W1206'), ('G06F1210', 'G11C1610'), ('G06F1320', 'G06K714'), ('G06Q2014', 'G09B700'), ('A63F1355', 'G06F316'), ('G06F114', 'G06F314'), ('A61B5026', 'A61N100'), ('G06F2132', 'G06K710'), ('H04N2143', 'H04N214784'), ('A44C1500', 'G06F30346'), ('G06F1730', 'H04N1946'), ('H01H13705', 'H01H1386'), ('G06F2132', 'G06F2145'), ('G01N3510', 'G06F1730'), ('G06F30362', 'H05B3702'), ('G06F1340', 'H04N21436'), ('A63F1335', 'G06T300'), ('G06F120842', 'G06F944'), ('G06F3041', 'H03H1104'), ('G06F2145', 'G06F2146'), ('G06F3044', 'H03M108'), ('G06F120815', 'G06F120868'), ('G06F1324', 'G06F945'), ('H04N218547', 'H04N718'), ('G09F1500', 'H04L2908'), ('G06F2183', 'G06T1900'), ('G06F121009', 'G11C1616'), ('B32B310', 'G06F3041'), ('A61B806', 'G06F1750'), ('G06F12084', 'G06F121009'), ('A44C1500', 'G05B19048'), ('G06F120811', 'G06F120895'), ('G06F3023', 'H04N214782'), ('G06F3045', 'G06F30487'), ('G06F2131', 'H04L1206'), ('G06F1114', 'G06F1202'), ('G06F1310', 'H04B1040'), ('G06F1340', 'G06Q2016'), ('G06Q2020', 'G09C500'), ('G06F13366', 'G06F950'), ('G06F314', 'H02J5010'), ('G06F2179', 'G06F306'), ('G06F13364', 'G06F2185'), ('G06F2174', 'G06F2187'), ('G06F7505', 'G06F7575'), ('G06F1202', 'G06F12123'), ('G06F1728', 'G06F2131'), ('A61J704', 'G06F1730'), ('G06F501', 'G06F7499'), ('G06F30482', 'G09G510'), ('H01L23528', 'H03K19177'), ('A63F13428', 'G06T1920'), ('G06F2160', 'H04N21266'), ('G01R1925', 'G01R2302'), ('G05D104', 'G06F1750'), ('G10L1530', 'G10L2533'), ('G06F303', 'G06K952'), ('G06F1120', 'G11C712'), ('G06F1730', 'H04M12755'), ('G06F2110', 'H04N2141'), ('A44C1500', 'A61B500'), ('G06F314', 'H04W404'), ('G06F11263', 'G06F1128'), ('A47F1106', 'G06F30484'), ('H01L23538', 'H01L310216'), ('G06F1110', 'G06F1110'), ('G06F7535', 'G06T1120'), ('G06F2110', 'G06F2132'), ('G06Q2032', 'G07F708'), ('G06F938', 'G11C2952'), ('G06F2141', 'G06F2157'), ('G06F1130', 'H04N214143'), ('G06F1136', 'G06F945'), ('B60R1104', 'B60R2530'), ('G06F1716', 'G06F930'), ('A63B2400', 'G06F3038'), ('G06F316', 'H03M112'), ('G06F1122', 'G06F1322'), ('G06F1711', 'G06F9455'), ('G06F126', 'G11C1400'), ('G06F1338', 'G06F30482'), ('G06F120831', 'G06F306'), ('G06F118', 'H05K109'), ('G06F126', 'G06F9455'), ('G06F303', 'G06F316'), ('G06F1110', 'G11C114096'), ('G01B2130', 'G06K962'), ('F02D4100', 'G05B1502'), ('G06F3046', 'G06F3047'), ('G11C1616', 'G11C2938'), ('G09G514', 'H04N21422'), ('G06F1340', 'H03K515'), ('G06F1130', 'G06F1202'), ('G06F1728', 'H04M127'), ('G02F1163', 'G06F3041'), ('G06F120871', 'G06F12123'), ('G06F2160', 'H04N214405'), ('G06F1900', 'H04W818'), ('G06F121045', 'G06F12128'), ('G06F120811', 'G06F930'), ('E05D100', 'E05D1100'), ('G06F2110', 'H04L906'), ('E05D1108', 'F16M1120'), ('H01L2706', 'H04L908'), ('G06F3041', 'H04N21482'), ('G06K900', 'G10L2521'), ('G06F118', 'G06F1340'), ('B60K3500', 'G01C2120'), ('G06F1316', 'G06F15173'), ('G06F1727', 'H04N21431'), ('A63F13214', 'A63F13335'), ('G06F120842', 'G06F121009'), ('G06F1114', 'G06F12128'), ('G06F1328', 'G06F944'), ('G06F1316', 'G06F930'), ('B60W5016', 'G06F30354'), ('G06F1730', 'G06F702'), ('G06F30486', 'G06F944'), ('A63F13214', 'G06F3041'), ('G06F1326', 'G06F306'), ('A61L2720', 'A61M520'), ('G06F120808', 'G06F12128'), ('G01L500', 'G06F2162'), ('G06F3044', 'H01L5150'), ('G06F126', 'G06F2176'), ('B05D700', 'G06F3041'), ('G06F3038', 'H01H5044'), ('F21S902', 'G06F30354'), ('G06F12122', 'G06F12128'), ('A61K4732', 'G06F1900'), ('G06F1210', 'G11C2950'), ('G06F1718', 'G06F7483'), ('B60Q150', 'G06F1730'), ('G06K1906', 'H04M12755'), ('C01B3302', 'C01F700'), ('G06F126', 'H03F3183'), ('C23C1458', 'H05K304'), ('G06F1750', 'H04Q900'), ('G01S1508', 'G06T700'), ('G06F1342', 'G06F3038'), ('G06F1202', 'H03K2140'), ('G01C2120', 'G01C2130'), ('G06F120802', 'G06F1340'), ('G06F128', 'G11C1604'), ('G06F2110', 'H04N218358'), ('G06F301', 'H04M1904'), ('G06F306', 'H04L12935'), ('G06F30481', 'G06T1730'), ('G06F1342', 'H02N206'), ('B60R1102', 'G06F300'), ('G06F7485', 'G06F7499'), ('G06F120', 'G06F2155'), ('A61B502', 'G06F1750'), ('G06F1214', 'G06F2171'), ('A63F13212', 'A63F1354'), ('B41J2315', 'G06K1500'), ('G06F30482', 'G06N700'), ('G06F1340', 'H04N214405'), ('G06F1130', 'G06F12128'), ('H01L5156', 'H05K328'), ('G06F116', 'H01L25075'), ('G06F120891', 'G06F948'), ('G06F302', 'G06Q2032'), ('G06F2141', 'G06F30489'), ('C07K1471', 'C07K1600'), ('G04G900', 'G06T360'), ('G06T360', 'G09B502'), ('G06F1324', 'G06F306'), ('G01D526', 'G06F128'), ('G06F1724', 'G06T320'), ('A61K835', 'G06F1750'), ('H01L2702', 'H03K19177'), ('G06F1324', 'H04L2906'), ('G06K932', 'G06N9900'), ('G06F12109', 'G06F9445'), ('G05B1919', 'G06F30481'), ('G06F1722', 'H04N2183'), ('G06F3042', 'G06T520'), ('G06F1900', 'G10L2563'), ('G06F2110', 'G10L2521'), ('G06F1342', 'G06F30481'), ('G06F1716', 'G06T120'), ('G06F2186', 'G06F3023'), ('G06F2146', 'G06F2157'), ('G06T7246', 'H04L2908'), ('G06F128', 'G10L2551'), ('G01S1950', 'G06F1730'), ('G06F1202', 'G06F121036'), ('G06F1120', 'G11C1608'), ('G06K900', 'H04N216377'), ('G06F2162', 'H04W7602'), ('E05B1300', 'E05B6320'), ('G06F132', 'G09G300'), ('H04N514', 'H04N5268'), ('G06F1202', 'G06F2110'), ('G06F2145', 'G06K900'), ('G06F1116', 'G11C1400'), ('G06F1212', 'G06F506'), ('A63F13213', 'G06T1160'), ('G06F13368', 'G06F1342'), ('G06F1721', 'G06T160'), ('G06F3033', 'G06F3042'), ('G06F306', 'G11C716'), ('G06F302', 'G06F3039'), ('G06F2152', 'G06F2171'), ('G06F30485', 'G11B27031'), ('G06F1136', 'G06F306'), ('G06F132', 'G06F954'), ('G09G500', 'H02J5010'), ('G06F1214', 'G06F2144'), ('G06F2184', 'G06T1100'), ('A61B804', 'G06T700'), ('G06F708', 'G06T1160'), ('H04L912', 'H04N21436'), ('G07C500', 'H04W2802'), ('G06F3038', 'G06K903'), ('H04N19467', 'H04N216334'), ('G09G514', 'H01L5100'), ('G06F1718', 'G06F2162'), ('G06F1114', 'G06F1130'), ('A63F13235', 'G06F316'), ('G06F501', 'G06F7483'), ('G06F30483', 'H04N2184'), ('A61B501', 'G06F30484'), ('G06F126', 'G06F950'), ('G06F30481', 'G06Q2014'), ('G06F1340', 'G11C114093'), ('C03B23035', 'G06F1750'), ('B41M130', 'C23C1458'), ('G06F30485', 'G06K962'), ('G06F2164', 'H04N5765'), ('G06F1120', 'G06F120813'), ('G06F1107', 'G06F1136'), ('B05D704', 'G06F3044'), ('E05D710', 'G06F116'), ('H04L908', 'H04N214405'), ('G06T700', 'G09G302'), ('A63F1355', 'G06F300'), ('G06F1310', 'H02N206'), ('A61B50215', 'G06F1900'), ('G06F1110', 'G06F1322'), ('G06F1750', 'H01L5150'), ('A61B50476', 'G06F30346'), ('G10L1722', 'H04W6400'), ('G06F1722', 'G06F30354'), ('G06F3041', 'H05K304'), ('A61B3103', 'G06T340'), ('G06F30481', 'G06F30481'), ('G06F130', 'G11C1626'), ('A63F1335', 'A63F13428'), ('G06F121009', 'G06F1730'), ('G06F2162', 'G06F2171'), ('G06F120891', 'G06F306'), ('H04N216334', 'H04N718'), ('H03G332', 'H03G700'), ('B41M104', 'C23C1458'), ('G06F1136', 'G06N304'), ('G06F120811', 'G06F2157'), ('G06Q1010', 'G06T1300'), ('G06F1724', 'G06N308'), ('G06F2174', 'H04W1206'), ('G06F1114', 'H04L912'), ('G01B731', 'G02B2702'), ('G11B5596', 'H03M1335'), ('F21V1501', 'G06F3042'), ('G06F132', 'G06F950'), ('A63F1340', 'G06F303'), ('A63F13335', 'G06F3041'), ('G06F316', 'H04B304'), ('G06F2146', 'G06F30489'), ('G06F1114', 'H03M730'), ('G06F3043', 'G06F30484'), ('G06F1316', 'G06F13364'), ('B43K100', 'G06F3038'), ('G06F118', 'G06F30484'), ('G06F2136', 'G09G508'), ('G06F1717', 'G06T1705'), ('G06F2140', 'G06F30482'), ('G06F2164', 'H03K19003'), ('G06F30482', 'H04N2184'), ('H01L2338', 'H01L310525'), ('H01L4500', 'H04L914'), ('H04N212347', 'H04N21443'), ('G06F1107', 'G06F1122'), ('G06F30481', 'G09G538'), ('G06F3042', 'G06T500'), ('F21V800', 'G06F3045'), ('G06F1721', 'G06F2162'), ('G06F1310', 'G06Q2006'), ('C11B900', 'G06F1750'), ('G06F1316', 'G11C2900'), ('G06F1722', 'G06F944'), ('G06F120875', 'G06F938'), ('G04G504', 'G06F30482'), ('G06F126', 'G06F1316'), ('B41M130', 'C23C1404'), ('G06F1114', 'G06F120868'), ('E05B1300', 'E05C904'), ('G06F1320', 'G06F2186'), ('G09G5373', 'H04W412'), ('G01P1500', 'G06F1912'), ('G06F944', 'H04L12911'), ('G06F301', 'G06Q1002'), ('G06F120846', 'G06F120871'), ('G06F116', 'G06N502'), ('G11C710', 'H04L2908'), ('G06F1107', 'G06F1210'), ('G05B1502', 'G06F2132'), ('G06F3045', 'G06T1900'), ('A63F13213', 'G06T340'), ('H05B326', 'H05K102'), ('A61B300', 'A61B51172'), ('G06F2181', 'H02J5090'), ('G06F1320', 'G06F2175'), ('G06F9455', 'G06F952'), ('G06F30362', 'G06F30485'), ('G06F1340', 'H01L310525'), ('G06F2164', 'H04N218358'), ('A61B5024', 'G06F2132'), ('G03B1100', 'G06F3042'), ('G06F120862', 'G06F1336'), ('G06F1716', 'G06F757'), ('G06F2141', 'G06K918'), ('G06F104', 'H03K514'), ('G06F12128', 'G06F1730'), ('G06F753', 'G06F757'), ('G06T700', 'G09G33258'), ('B60W5016', 'G06F301'), ('G06F2144', 'G06F954'), ('G06F3044', 'G06K968'), ('G06F1210', 'G06F1212'), ('B60K3500', 'F16M1302'), ('H04N121', 'H04N218358'), ('A63F13655', 'G09G502'), ('G06F312', 'G06F948'), ('G06F2171', 'H04W1206'), ('G09G320', 'H04N5225'), ('G06F3041', 'H04M157'), ('G06F30346', 'G06T1340'), ('H04L912', 'H04N214405'), ('G06F116', 'H04L932'), ('G06F3023', 'G06F3038'), ('G06F2186', 'H05K506'), ('G06F2174', 'G06F2181'), ('G06F116', 'G09F1500'), ('G06F3041', 'H01L310216'), ('G06F1727', 'G06F302'), ('G06F1316', 'G11C11401'), ('F16B3712', 'H05K500'), ('G06Q2034', 'G07F710'), ('G06F2110', 'G06T1900'), ('H04R300', 'H04W6400'), ('H01P3127', 'H02J5080'), ('A61B50488', 'G06F116'), ('G06F2153', 'G06F954'), ('G06F314', 'H02J5080'), ('C23F132', 'G06F3041'), ('G06F108', 'G06F1322'), ('F16B100', 'H02J5010'), ('B60K3500', 'G06Q3000'), ('G09G510', 'H04L1258'), ('G06F120815', 'G06F938'), ('G06F9445', 'H04L12923'), ('G06F1340', 'H04R312'), ('G06F314', 'H04W8418'), ('G01P1300', 'G06F316'), ('G09G5373', 'H04N21488'), ('G06F750', 'H03M730'), ('G06F316', 'G06F316'), ('G06F116', 'H01L2516'), ('G06F954', 'G09G5377'), ('G06F1107', 'G06T100'), ('G06F1316', 'G11C11409'), ('G06F1114', 'G11C710'), ('G04B1928', 'G10L1526'), ('G06F316', 'H04R140'), ('A63B6912', 'G09B502'), ('G06F120864', 'G06F12128'), ('G06F2157', 'H04L906'), ('G04G2108', 'G06F30484'), ('G06F2134', 'H04R110'), ('B64D4300', 'G06F314'), ('A63F1355', 'G06F30354'), ('H01R1350', 'H01R136582'), ('G06F3041', 'G09F1500'), ('G06F312', 'H04W3614'), ('G06F1110', 'G11C800'), ('G06F2132', 'G06F2184'), ('H05B326', 'H05K118'), ('G04B1928', 'G06F30488'), ('G06F120802', 'G06F121009'), ('G06F3044', 'H01L29786'), ('H01L2182', 'H01L29786'), ('G06F1107', 'G06F1336'), ('H04N21858', 'H04N5775'), ('G06F950', 'H04W8802'), ('G06F306', 'G11C722'), ('G06F120897', 'G06F938'), ('F21V800', 'G06F120'), ('G06F2132', 'G10L1706'), ('E05D300', 'G06F116'), ('G06F3045', 'H04M160'), ('G06F1328', 'H04R1904'), ('G06F9445', 'G11C11401'), ('F21V1402', 'G06F3042'), ('G02B1900', 'G06K900'), ('G06F301', 'H02P25032'), ('G06F316', 'H04W800'), ('G06F2156', 'G06N308'), ('G06F1340', 'H04N214363'), ('G06F1208', 'G11C114091'), ('G06F30346', 'G06Q3002'), ('G06F302', 'G06F3044'), ('G06F108', 'G06F126'), ('G10L15187', 'G10L2533'), ('G06F116', 'G06F758'), ('G04G2102', 'G08B536'), ('G06F1900', 'H04L1224'), ('G06K900', 'G06T7246'), ('G06F2162', 'G10L1530'), ('H04N121', 'H04N2184'), ('B29C7324', 'G06F3041'), ('G06F1126', 'G06F11263'), ('G06F2162', 'G06F2185'), ('G06F1912', 'G09B1900'), ('G06F120811', 'G06F1342'), ('A63F13212', 'G06F1900'), ('G06F301', 'G09G33258'), ('G06F30346', 'G06F30482'), ('G06F1322', 'H03M1309'), ('G06F3041', 'H01L3350'), ('G06F116', 'H01L27146'), ('G06F1116', 'G06F946'), ('G06F3023', 'H01H1384'), ('G06F1202', 'G06F1310'), ('G07C500', 'H04L12803'), ('G01N3504', 'G06F1730'), ('A61L224', 'G06F30488'), ('G02B2701', 'G08B2501'), ('G06F1210', 'G06F1342'), ('G06F300', 'G06F30485'), ('G06F316', 'H04N21232'), ('H01L2331', 'H01L3344'), ('G01V130', 'G06T1720'), ('G06F1900', 'G06F1900'), ('G06F12084', 'G06F1324'), ('G06F1316', 'G11C11417'), ('G06F2110', 'H04L930'), ('G06F2155', 'G06F2160'), ('B21D2800', 'G06F118'), ('G06F1208', 'G06F1208'), ('G06F1900', 'G06N304'), ('G06F1214', 'G06F1342'), ('G06F1918', 'H04L908'), ('G06F1711', 'G06F1718'), ('G11B2719', 'H04N21234'), ('E04H1300', 'G06F316'), ('G01V130', 'G06F1717'), ('B60Q100', 'G06F3041'), ('G06F1342', 'G11C722'), ('G06F2170', 'H04L932'), ('G06F1120', 'G06F1208'), ('G06F1340', 'G06F1730'), ('A44C1500', 'G06K710'), ('G06F1727', 'G06F314'), ('G06F15167', 'H04L1258'), ('G06F9455', 'H04W824'), ('G06F314', 'H05K102'), ('G06F1727', 'G06Q5012'), ('G06F1338', 'H04L912'), ('B32B3814', 'B32B702'), ('G06F30481', 'G07G500'), ('G06F1900', 'H04N144'), ('G09G5373', 'H04N21443'), ('H03K2140', 'H03K2356'), ('G06F3045', 'G09F930'), ('G06F30486', 'H03K1796'), ('G06F1728', 'G06F948'), ('G06F120802', 'H01L4308'), ('C23C1456', 'C23C1458'), ('G06F108', 'H03K303'), ('G06F30488', 'H04N21436'), ('B60N202', 'G06F30488'), ('G06F30483', 'H05B3702'), ('H04N216334', 'H04N5765'), ('G06F950', 'H04W5202'), ('G06F1922', 'H03K19177'), ('G06F120875', 'H01L2300'), ('G06F120808', 'G06F120817'), ('G06F12084', 'G06F1730'), ('G06F1730', 'G11C1616'), ('G06F1721', 'G06F944'), ('G06F126', 'H04N557'), ('G06F2155', 'G06Q3000'), ('G06F306', 'G11C2912'), ('A63F13213', 'A63F1342'), ('G04B1928', 'G04B304'), ('G06F30484', 'G06Q2006'), ('G06F316', 'H04W5600'), ('G06F120875', 'G06F944'), ('G06F1711', 'G06N504'), ('G06F120804', 'G06F12128'), ('G06F120', 'G06F30481'), ('A63F1324', 'G06F116'), ('G06F2116', 'H04N21254'), ('H04L2906', 'H04M1675'), ('G06F944', 'H04L908'), ('G09G500', 'H02J5080'), ('G06F1338', 'H03M166'), ('G01S1308', 'G05D100'), ('G06F1212', 'G06F1750'), ('G06F1134', 'G06F132'), ('A63F1326', 'G06T1340'), ('G09G320', 'H04N564'), ('C23C1404', 'H05K102'), ('G06F1110', 'G11C11408'), ('G06F116', 'H04W824'), ('G06F2160', 'G06K1502'), ('G06F1202', 'G06F2135'), ('G06F1310', 'G06F1328'), ('G06F1320', 'G06Q2010'), ('G06F948', 'H04L12927'), ('B41M130', 'C23C1456'), ('G06F1310', 'G06F30354'), ('H04L12879', 'H04L12883'), ('A61B5021', 'A61J700'), ('G06F2145', 'G06F30481'), ('G06F120813', 'H04L2908'), ('G06F2132', 'G06K1906'), ('B32B1508', 'G06F3041'), ('G04G1706', 'G06F116'), ('G01W100', 'G06F314'), ('G02B520', 'H01L3342'), ('G06F3041', 'H01L2951'), ('G06F1727', 'H04L12751'), ('G06T120', 'G09G33258'), ('G06F314', 'G08B2104'), ('G06F1582', 'G06F930'), ('G06F132', 'H04N557'), ('G02B2700', 'G06F3038'), ('G06F2156', 'G06F2180'), ('G06F944', 'G10L2551'), ('G06F306', 'G06F732'), ('G06F12128', 'G11C1718'), ('B60Q108', 'B60Q310'), ('G02B114', 'G09G332'), ('G06F30482', 'G11B2722'), ('A63F13216', 'A63F1342'), ('G06F2173', 'H01L218234'), ('G06F1340', 'H04B13827'), ('G06N9900', 'G10L1724'), ('G06F1900', 'G08B2510'), ('B60W5012', 'G08G10967'), ('G11B2722', 'H04N21431'), ('A61B802', 'A61M500'), ('G06F1208', 'H04L930'), ('G06F9445', 'G07C900'), ('G06F30346', 'H04W7204'), ('A61B51455', 'A61J704'), ('G06F9445', 'H04L12855'), ('G06F1107', 'G06F1107'), ('A61B50205', 'A61J704'), ('G06F1212', 'G06F1338'), ('G06F1206', 'G06F2154'), ('G06T1900', 'G08B2501'), ('G06F1110', 'G11C514'), ('G06F938', 'H03L708'), ('G06F306', 'G11C114074'), ('A61K837', 'G06F1750'), ('C12Q168', 'G11B7245'), ('G06F1120', 'H04L930'), ('G06F2110', 'H04N21435'), ('A61B802', 'G06T720'), ('G06F1130', 'G06F30481'), ('G06F3038', 'G09G508'), ('B32B1500', 'B32B3814'), ('G06F1340', 'G06Q3000'), ('G06F1727', 'G06F30483'), ('G06F118', 'G11C114093'), ('G06F306', 'G06F306'), ('G06F2155', 'G06F9455'), ('G06K710', 'H04W1208'), ('G06F2171', 'G06F938'), ('G06F1728', 'G09B1908'), ('G06F1130', 'G06F1310'), ('G09G334', 'H04N550'), ('A63F13214', 'G06F30488'), ('G06F1120', 'G06F128'), ('A63F13428', 'G06T320'), ('G06F948', 'G06T1500'), ('G06F1120', 'G06F130'), ('G02B2700', 'G06F30481'), ('G06F118', 'H01R1272'), ('G06F1710', 'G06F753'), ('G04G2100', 'G06F30362'), ('G06F3045', 'G09G33208'), ('G06F132', 'G06F30362'), ('G06F2162', 'H04M1725'), ('G06F114', 'G06F1342'), ('G06F1214', 'G06K710'), ('G06F314', 'H04N2145'), ('G06F1928', 'H01L23528'), ('G06F120875', 'G06F121009'), ('A61B300', 'F25D2900'), ('A41D300', 'A61B501'), ('F16M1138', 'G06F116'), ('C12Q168', 'G06F306'), ('G11B3302', 'H05K720'), ('G06F130', 'G06F306'), ('G06F1110', 'G06F120804'), ('G06F708', 'H04L2908'), ('G06F2112', 'G06F2130'), ('G06F1500', 'G06F506'), ('G06F1100', 'G06F948'), ('G06F1316', 'G06F948'), ('G06F1728', 'G06N302'), ('H04L912', 'H04N214363'), ('H04M105', 'H04M123'), ('G06F121009', 'G06F930'), ('A61B511', 'G06F1136'), ('G06F30481', 'G06K710'), ('G03B2156', 'G06F30488'), ('B05D704', 'C09D13314'), ('G06F930', 'H03M730'), ('G11B27029', 'H04N1944'), ('G06F2136', 'G06F30346'), ('A63F1326', 'G06F30482'), ('F28F900', 'G06F120'), ('G06F314', 'H04N5268'), ('G06F2134', 'H04B304'), ('G06F2187', 'H04L910'), ('E05B6320', 'E05B6500'), ('G06F1208', 'G11C502'), ('G06F314', 'G09F2104'), ('G09F1500', 'G09G510'), ('G06F7535', 'G06T340'), ('G06F1107', 'G06K900'), ('A61M531', 'G06F3041'), ('G06F11263', 'G06F930'), ('G06F121009', 'G06F1214'), ('A61M5172', 'A61N105'), ('G01C2126', 'G06F306'), ('G06F1342', 'H02J5010'), ('G06F1120', 'G11C502'), ('G11C11409', 'G11C2900'), ('G06F1728', 'G06F1900'), ('G06F2144', 'G06F2185'), ('G06F116', 'H04W6800'), ('G06F7548', 'G06N9900'), ('G06F7485', 'G06F7544'), ('G06F120811', 'G06F12084'), ('G06F121009', 'G06F1316'), ('G06F1342', 'H03M112'), ('G06F2145', 'G06F2162'), ('G06F1134', 'G06F954'), ('G06F306', 'H04N132'), ('G06F2132', 'G06F300'), ('G06F30346', 'G06Q2032'), ('G06F950', 'G06F952'), ('G06F1342', 'H02P304'), ('G10L1302', 'G10L1502'), ('G06F130', 'H04L1212'), ('G06F3041', 'G06K952'), ('G06F952', 'G06T1500'), ('F16M1302', 'G07C508'), ('G06F116', 'H02J5080'), ('G06F3044', 'H01L41193'), ('G06F302', 'G06F30481'), ('G06F1727', 'G06N300'), ('G06F303', 'G06T1920'), ('B64C3902', 'G01C2104'), ('H04L100', 'H04N700'), ('G06F1722', 'G06F9445'), ('G06F306', 'G06F758'), ('G06F1127', 'G06F1316'), ('G06F1114', 'G06F1212'), ('G04G902', 'G06F30484'), ('G06F1342', 'G06F301'), ('G06F2144', 'G06F2151'), ('G06F1727', 'H04W1208'), ('G06F30346', 'H04M102'), ('G06F2153', 'G06F2164'), ('G06F1730', 'G11B27029'), ('G06F1730', 'G10L2521'), ('G06F1130', 'G06T1120'), ('A61B50205', 'G06F30488'), ('G06F1342', 'G06F306'), ('G06F116', 'H01L3344'), ('A61B50215', 'G06F1750'), ('G06F1208', 'G06F950'), ('G06F1136', 'G06F1750'), ('G02B2701', 'H04W400'), ('G06F120815', 'G06F121009'), ('G06F2132', 'G09B1900'), ('G11B2018', 'H04N700'), ('G06F132', 'H01R13713'), ('G06F2164', 'H04N121'), ('G06F1718', 'G06F758'), ('G11C1116', 'H03M1315'), ('A63F13212', 'G06F316'), ('G06F3038', 'G06F314'), ('G02F11335', 'H01L27146'), ('G06F1120', 'G06F950'), ('F24C708', 'G06F316'), ('G06F2160', 'G06F954'), ('G06F1340', 'G06Q3006'), ('G06F1120', 'G06F120842'), ('G06F3041', 'H02J5080'), ('G06F1728', 'G10L1302'), ('G06F126', 'G06F1336'), ('G06F1130', 'G06F2162'), ('G06F12084', 'G06F9455'), ('G06F1130', 'G06F938'), ('G06F30346', 'G06F3039'), ('A61B500', 'A61J704'), ('H04N1942', 'H04N504'), ('B29C4514', 'G06F116'), ('G06K946', 'G10L1522'), ('G06F1316', 'G06F514'), ('B05D506', 'B05D704'), ('G06F30489', 'G06K918'), ('G02F11335', 'G11C1928'), ('G06F306', 'G11C1628'), ('A61K900', 'A61L2716'), ('G06F1114', 'H04L12741'), ('G06F1312', 'G06F1342'), ('H01L5152', 'H04B13827'), ('G06F1320', 'H04W1206'), ('G06F2162', 'H04M342'), ('G06F1714', 'G06F758'), ('B41J2315', 'G06K1502'), ('G06F108', 'G06F110'), ('G06F120897', 'G06F121009'), ('G06F302', 'H01H1384'), ('G06F9445', 'H04Q902'), ('G04G2108', 'G04G902'), ('H04N21254', 'H04N5775'), ('A45C1100', 'G06F3045'), ('G06F3023', 'G06F944'), ('B64D1100', 'G06F314'), ('G06F12128', 'G06F1316'), ('G01C1738', 'G06F1730'), ('G06F938', 'G06F948'), ('G06F1900', 'G06K1907'), ('G06F1336', 'G06F1580'), ('G01L500', 'G06F2132'), ('A61G1708', 'G06F3147'), ('B60K3706', 'G06F116'), ('G06F1340', 'H04L1218'), ('G06F132', 'G06F1336'), ('G06F1110', 'G06F120811'), ('G06F2183', 'G06Q2020'), ('G06F120897', 'G06F121045'), ('G06F120862', 'G06F120866'), ('G09C500', 'H04W400'), ('G06F1338', 'G06F3038'), ('G06F2144', 'G06F30482'), ('G06F1730', 'G06F1730'), ('G06F1320', 'G06F316'), ('G06F1727', 'G06F30346'), ('G06F774', 'G06F930'), ('G06F2162', 'G06F948'), ('G06F303', 'G06T740'), ('G09G300', 'H04M102'), ('G06F1900', 'H04W800'), ('G02B632', 'G06F3041'), ('G06F2171', 'G06F2178'), ('G06F2183', 'G06F3023'), ('G06K962', 'H03M730'), ('G06F1134', 'G06F1134'), ('G09F930', 'H01H1386'), ('G06F300', 'G06F948'), ('G06F1340', 'G06F954'), ('G06F1900', 'G06Q1004'), ('H01L310525', 'H01L3534'), ('G06F1130', 'H04L12741'), ('G06F130', 'H04N21488'), ('G06F306', 'H04L12879'), ('G06F12109', 'G06F930'), ('A61B50205', 'A61G1200'), ('A61B500', 'A61B51172'), ('A63F13335', 'G06F30488'), ('A61N100', 'G06F1900'), ('G06F2162', 'H04N5265'), ('G06F302', 'H04M105'), ('G06F1114', 'G06F1120'), ('G06F1340', 'G06F2133'), ('G06F1134', 'G06F930'), ('G06F1336', 'G06F2185'), ('B60R2532', 'G06F1730'), ('B60R2532', 'G06K932'), ('G06F2114', 'G06F2162'), ('G06F30486', 'H04B13827'), ('G06F1730', 'G10L1524'), ('H04M167', 'H04W1206'), ('G06F114', 'G06F948'), ('G06F1310', 'G06F306'), ('G06F120837', 'G06F12084'), ('G06F15167', 'G06F15173'), ('G06F3041', 'H02J5012'), ('G11B27031', 'H04N132'), ('G06F126', 'G06F30488'), ('G06F1214', 'G06F1900'), ('C40B3002', 'G06F1918'), ('G06F1208', 'G06F946'), ('G06F1342', 'G11C1928'), ('A61K834', 'G06F1750'), ('G06F30354', 'H04W402'), ('G04C300', 'G06F30346'), ('B60R16037', 'G10L1504'), ('G06F2183', 'G06F30488'), ('G06F1338', 'G06F30481'), ('G06F2132', 'G06F2188'), ('A63B7106', 'A63G3116'), ('G06F1318', 'G06F13364'), ('G06F1202', 'G06F120891'), ('G06F2172', 'G06F954'), ('A63F13218', 'A63F13335'), ('H01L2329', 'H01L310216'), ('G11C11406', 'G11C2952'), ('C09K1944', 'G02F11343'), ('G06F126', 'H04M102'), ('G06F3046', 'H01L3352'), ('G06F1202', 'G06F12109'), ('C03C3091', 'H05K102'), ('G06F1900', 'G07F1162'), ('G06F2135', 'G10L19018'), ('G09G33241', 'G09G33291'), ('G06F2132', 'G06F702'), ('A61J700', 'G06Q1004'), ('G06F1342', 'G06Q2034'), ('G06F2160', 'G06F930'), ('F16B3712', 'G06F116'), ('G06F120831', 'G06F120842'), ('G06F132', 'H04L708'), ('A61M531', 'G02F11333'), ('B60K3500', 'G06K903'), ('H04L930', 'H04M1725'), ('G06F132', 'H05K714'), ('G06F3041', 'G06K1906'), ('G06F103', 'H03K3012'), ('G06F306', 'G11C1608'), ('A23F318', 'A47J3152'), ('G03F740', 'G06F1750'), ('G06F12123', 'G06F948'), ('G06F1717', 'G06T1120'), ('G06F1316', 'G06F501'), ('G06F2160', 'G06F2171'), ('G11C1628', 'H03M1337'), ('G06F1716', 'H03M166'), ('G06F2136', 'G06T1120'), ('G06F3038', 'G08C1702'), ('G06F2171', 'G06F944'), ('G06F306', 'G11C114076'), ('G06F1340', 'H04L12933'), ('F28F926', 'H05K720'), ('G06F121036', 'G06F12109'), ('A63B6912', 'G06F116'), ('G11C1300', 'H03M1315'), ('H04N21222', 'H04N5775'), ('H04N21235', 'H04N216377'), ('G04B304', 'G06F30362'), ('G06F1730', 'G06F2134'), ('A63B2400', 'G06F2132'), ('G06F30346', 'H04W412'), ('G06F301', 'H01H5064'), ('G01S1308', 'G06T700'), ('G06F1312', 'H04L12883'), ('G06F1342', 'H04L12879'), ('G06F1710', 'H03M1315'), ('G05B19042', 'H04L1224'), ('H04R300', 'H04W820'), ('G06F1316', 'G11C1116'), ('G06F9455', 'G06T1900'), ('G06F12084', 'G06F950'), ('A61B518', 'G06F1900'), ('F25D2302', 'G09B1900'), ('G06F1110', 'G06F132'), ('G06F30354', 'G06F30487'), ('G06F12084', 'G06F120842'), ('G02B520', 'G06F3044'), ('G06F306', 'H04L906'), ('G06F9445', 'G06Q2010'), ('G06F116', 'G08B2104'), ('G07F708', 'H04W7602'), ('A61J700', 'G07F1162'), ('G02B2728', 'G03B1754'), ('G06F1316', 'G11C818'), ('G06F1208', 'G06F126'), ('G06F120811', 'G06F120868'), ('G10L1526', 'G10L2575'), ('G06F1722', 'G06F302'), ('G06F12084', 'G06F120862'), ('G06F130', 'G09G5373'), ('G06F2157', 'G06F950'), ('G06F1722', 'H04N2184'), ('G06F1340', 'G06F930'), ('G06F118', 'H01R1271'), ('G06F116', 'G06F1722'), ('G06F30354', 'H01H5064'), ('G06F1110', 'G06F12126'), ('G06F132', 'H02M307'), ('H04N21435', 'H04N5775'), ('G01L1900', 'G06F116'), ('G06F1312', 'G06F948'), ('H04N121', 'H04N19467'), ('G06F1342', 'G06F1578'), ('G02B1900', 'H04N1304'), ('G11C2704', 'H04B1027'), ('G06F3045', 'G06F30482'), ('A63F1350', 'G06F301'), ('B32B308', 'G06F3041'), ('G06F116', 'H01H13705'), ('A61M500', 'G06F1750'), ('G06F116', 'G06F1208'), ('G06F121045', 'G06F12109'), ('G06F120802', 'G06F1730'), ('G06K1502', 'H04W1208'), ('G06F501', 'G06F7487'), ('B29C6548', 'G06F3041'), ('G06F128', 'G06F938'), ('G06F1724', 'G06F945'), ('G06F1206', 'G06F1210'), ('G06F116', 'H01H1370'), ('G06F3044', 'G06F30485'), ('G06Q2024', 'G06Q3000'), ('G06F9455', 'G06F9455'), ('G06F1310', 'G06Q2034'), ('G06F1120', 'G07F1900'), ('G06F2142', 'G06K710'), ('A44C1500', 'G06F316'), ('G06F306', 'H04L2912'), ('G06F116', 'H05B3308'), ('H04M12755', 'H04W416'), ('G06F1722', 'G06K968'), ('G06F1716', 'G11C710'), ('E05B6500', 'G06F116'), ('D04B128', 'G06F301'), ('G06F1727', 'G06F2157'), ('G06F1120', 'H03M1319'), ('A61B501', 'G06F314'), ('G11C1116', 'G11C114093'), ('G06F116', 'G08B1324'), ('G06F116', 'H01L3362'), ('G02B2700', 'G06F303'), ('G06F1206', 'G11C1604'), ('C23C1402', 'H05K304'), ('G06F316', 'H03G332'), ('G06F1338', 'G11C1626'), ('G06F30346', 'G06F3044'), ('G06F120806', 'G06F132'), ('A63F13332', 'G06F301'), ('G06F1126', 'G06F1127'), ('G06F1328', 'H04L1218'), ('G06F120804', 'G06F120817'), ('G06F120', 'G06F948'), ('G06F120842', 'G06F120862'), ('E05D1110', 'E05D304'), ('G06F120864', 'G06F120897'), ('G06F1208', 'G06F1922'), ('G06F118', 'H05K1300'), ('G06F126', 'H03L706'), ('G06F1136', 'G06F30484'), ('G06F1340', 'H03M1300'), ('G06F9445', 'H04B1040'), ('G06F1900', 'G07F1154'), ('G06F2180', 'G06F306'), ('G01R1925', 'G06F1730'), ('G06F116', 'G06F9455'), ('G06F12084', 'G06F946'), ('G01B731', 'G06F116'), ('G06F1328', 'G06F954'), ('G02F11343', 'G09G33225'), ('A61B50205', 'G06F3044'), ('A61B5145', 'G06F30488'), ('G06F3041', 'H01L3358'), ('G06F118', 'G06F118'), ('G06F2135', 'G06K900'), ('G06F2145', 'G06F30486'), ('G06F1730', 'H04K102'), ('G01K114', 'G06F3042'), ('G06F2136', 'G06F3042'), ('B32B3702', 'G06F3041'), ('G06F312', 'G06T550'), ('A63F13211', 'G06T300'), ('G06F922', 'G06F945'), ('B62M2508', 'G06F116'), ('A61L224', 'G06F30481'), ('A61J702', 'G06Q5024'), ('G06F1727', 'H03M1108'), ('G06F1727', 'G06F30485'), ('A61B51172', 'F25D2900'), ('G06F1312', 'G06F306'), ('G06F1724', 'G10L1508'), ('G06F1342', 'H02J5080'), ('G06F128', 'G10L1522'), ('G06F930', 'G06F934'), ('G06F108', 'G06F132'), ('G06F302', 'G06F303'), ('G06F2140', 'G06Q2014'), ('B60R1104', 'G01S1706'), ('G06F1716', 'G06F7535'), ('G06F1214', 'G06F2112'), ('G06F30486', 'G06Q5018'), ('G09F1500', 'H04L1258'), ('G06F7485', 'G06F7487'), ('B60Q150', 'G10L1526'), ('G06T300', 'G09G33258'), ('B41M118', 'B41M130'), ('G06F314', 'H01L2732'), ('G06F2171', 'H04L932'), ('G06F1202', 'G06N3063'), ('G01N3353', 'G06F1922'), ('G06F2140', 'G06F30481'), ('G06F12084', 'G06F121027'), ('G06T100', 'H04W404'), ('G06F2160', 'G06F2164'), ('G06F120895', 'G06F12128'), ('G06F120817', 'G06F1316'), ('G06F120864', 'G06F120875'), ('G06F1130', 'G11C1634'), ('G02B2700', 'G09G534'), ('G06F9445', 'G11C710'), ('G06F2160', 'G06F2185'), ('G06F13368', 'G06F1340'), ('A61B508', 'A61G1200'), ('G06F126', 'G09G512'), ('G06F116', 'H01R4326'), ('G06F2171', 'H04W1212'), ('G06F1110', 'G06F120895'), ('G06F30362', 'G06F3045'), ('E05D712', 'F16M1120'), ('G06F758', 'H01L4500'), ('G06F1120', 'G11C1614'), ('G04B1928', 'G06F30485'), ('G06F1114', 'G06F732'), ('G06F3042', 'G06K962'), ('A61B511', 'G06F314'), ('G01V9900', 'G06F1717'), ('G06F120862', 'G06F120897'), ('G06F300', 'G06F3033'), ('G06F944', 'H04W1206'), ('B41M130', 'H05K304'), ('G06F9445', 'G06Q3004'), ('G06F2112', 'G06F2156'), ('G06F1730', 'G06N300'), ('G06F120', 'G06F306'), ('G06F1724', 'G10L1308'), ('A63F1340', 'H04N5222'), ('G06F2132', 'G06F2183'), ('H03M730', 'H03M730'), ('A61B50402', 'G06F116'), ('G06F2178', 'G06F2179'), ('G06F302', 'G08G10967'), ('G06K19077', 'H04L908'), ('G06F118', 'G09G500'), ('G06F120875', 'G06F1324'), ('G06F1214', 'G06K1907'), ('G06F2184', 'H04L1258'), ('G06F316', 'H01R2702'), ('G06F1114', 'G06F306'), ('G01D534', 'G06F301'), ('A61J116', 'A61J700'), ('G06F1120', 'G06F1122'), ('G06F30346', 'G06F3045'), ('G06F1134', 'G06F30482'), ('G06F2156', 'G06N9900'), ('C23C1644', 'G06F3041'), ('G06F12084', 'H03M1319'), ('G06F2164', 'H04N216334'), ('G06F120842', 'G06F121027'), ('G06F3042', 'G06F30485'), ('G06F1722', 'G09G500'), ('G06F306', 'H03M1311'), ('G06F116', 'H04W414'), ('G06F306', 'H01Q122'), ('A61L2716', 'G06F1900'), ('G06F1582', 'G06F948'), ('G06F120804', 'G06F120897'), ('G06F1116', 'G06F132'), ('G06F1724', 'G06F1900'), ('G06F1120', 'G06F1210'), ('G06F1110', 'G06F930'), ('A63F1323', 'A63F1387'), ('G06F2140', 'G06T1120'), ('H04N2145', 'H04N214728'), ('G06F2157', 'G06F2174'), ('G06F1716', 'G06T160'), ('G06F3047', 'H01L5152'), ('B60K3700', 'G06F30482'), ('G06F120804', 'G06F1212'), ('H04N121', 'H04N216334'), ('G06F2162', 'H04M351'), ('G06F1724', 'G06N304'), ('H04N1942', 'H04N546'), ('G06F120862', 'G06F120875'), ('G06F2136', 'G06F2186'), ('G06F1900', 'H04N218547'), ('G06F1110', 'H04W1202'), ('G06F2134', 'G06F2136'), ('G06F3045', 'H04M102'), ('G06F126', 'H04N563'), ('G06F1130', 'G06F306'), ('G06F132', 'G08C1702'), ('G11C2904', 'H04N700'), ('G11B2719', 'H04N132'), ('G06F314', 'H04N21431'), ('G06F1132', 'G06F1328'), ('G01N3504', 'G06Q3002'), ('G06F306', 'G11C1624'), ('G06F2160', 'G06F30482'), ('G11C11406', 'G11C506'), ('G06F1310', 'H04N214363'), ('G09G514', 'H04N21482'), ('G06F132', 'G11C1610'), ('G01B1314', 'G01C506'), ('G06F120815', 'G06F1324'), ('G06F302', 'H04M157'), ('G06F1900', 'H04N5272'), ('G03F742', 'H05K720'), ('B60R16023', 'G06F316'), ('G06F2136', 'G06F2145'), ('G06F120877', 'G06F1342'), ('G01L900', 'G06F3044'), ('G11C2704', 'H04L700'), ('G06F1340', 'G06F30489'), ('B60W5016', 'G06F3041'), ('G06F1342', 'H03K3356'), ('G06F2134', 'G06F30354'), ('G06F116', 'G09G33275'), ('G01K742', 'G06F126'), ('C09K1944', 'C09K1946'), ('C25D1102', 'G06F116'), ('G06F3047', 'H05K111'), ('H01R2464', 'H05K714'), ('H03K19177', 'H04B1027'), ('G06F1730', 'G06F2171'), ('G06F120842', 'H03M1319'), ('A61B812', 'G06F1711'), ('G06F120804', 'G06F120875'), ('G01R1700', 'G06F2162'), ('G06F112', 'G06F2175'), ('G06F1722', 'G06F954'), ('G05B19042', 'H04L1226'), ('G06F126', 'H04L12733'), ('G06F9455', 'G06F946'), ('G06F128', 'G09G5377'), ('B60Q150', 'G06K900'), ('B32B3702', 'B32B514'), ('G06F2114', 'H04L932'), ('G06F112', 'H03K19177'), ('G06F1340', 'G06F748'), ('G06F1107', 'G11C11409'), ('G02B1300', 'G03B1754'), ('G06F306', 'G06F312'), ('G06F314', 'G06F9445'), ('G06F2132', 'H01L25065'), ('G06F3038', 'G06F30485'), ('G06F1730', 'H04N19467'), ('G06F1340', 'G06F30482'), ('G06F302', 'H04L2906'), ('H04L12911', 'H04N216543'), ('G06F316', 'H04W824'), ('G06F2157', 'G06N504'), ('G06F1342', 'G06Q2024'), ('G06F30481', 'G06K1906'), ('G06F30489', 'G06F316'), ('G06F120864', 'G06F120891'), ('A61B100', 'G06F30487'), ('H01L310224', 'H05K322'), ('G06F1716', 'G06F2162'), ('G06T1120', 'H04N715'), ('G06F758', 'G06N9900'), ('G06F2151', 'H04L906'), ('G06F758', 'H04L914'), ('G06F501', 'G06F7485'), ('A61B5117', 'G06F301'), ('A44C1500', 'H04W400'), ('G06F1320', 'G06F944'), ('G06F121018', 'G06F9455'), ('G02B1708', 'G06T700'), ('G06F2162', 'G06F2181'), ('C09K1944', 'G02F11337'), ('G06F301', 'H04M160'), ('G06F1322', 'G06F13364'), ('G06F30482', 'G06F948'), ('G06F1320', 'G06F30484'), ('G06F1717', 'G06N502'), ('G06F121009', 'G06F12128'), ('G06F2156', 'G06F306'), ('A61L210', 'G06F30484'), ('A63F13428', 'G06T300'), ('B41M130', 'C23C1408'), ('G06F9445', 'G06Q2006'), ('G06F7501', 'G06F7575'), ('A47F300', 'G06F30484'), ('H04L2908', 'H04N214335'), ('G06F944', 'H04W5600'), ('G06F7535', 'G11C706'), ('G06F1212', 'G06N700'), ('G06F2132', 'H04W402'), ('G06F120802', 'H01L4302'), ('B41J221', 'H04N123'), ('B32B2708', 'G06F3044'), ('G06F1130', 'G11C1628'), ('G06F2157', 'H04W402'), ('G06F30485', 'H04B726'), ('G06F116', 'H01L3528'), ('G06F2144', 'G06F3044'), ('G06F1316', 'G06F938'), ('G06F3042', 'H04M1725'), ('A63F13235', 'G06F302'), ('G06F30354', 'H04M160'), ('G06F946', 'G06F954'), ('G06F1722', 'H04N21435'), ('G06F1918', 'G06F2162'), ('G06F954', 'H04W414'), ('G06F2164', 'G11B2719'), ('G06F112', 'G06F12084'), ('G06K710', 'H04W416'), ('G06F30354', 'G06F30483'), ('G06F1107', 'G06F1342'), ('H04N132', 'H04N21235'), ('G06F121009', 'G06F12123'), ('G06F2162', 'H04L916'), ('G06F306', 'G11C1718'), ('G06F1136', 'G06N504'), ('G06F945', 'G06F9455'), ('C09K1946', 'G02F11343'), ('G02B632', 'G06F30488'), ('A63F1324', 'G06F302'), ('E05D100', 'H04B13888'), ('E05D1100', 'H04B13888'), ('G11C1116', 'G11C114091'), ('G06F301', 'G06T7246'), ('G06F30481', 'G08B2104'), ('G06F1110', 'G06F13364'), ('G06F1728', 'G06Q1002'), ('A61M1100', 'A61M5142'), ('G06F2162', 'G06T160'), ('G06F1122', 'G06F1342'), ('G06F118', 'G06F1316'), ('G06F1342', 'G06F9455'), ('G06F3038', 'H04N714'), ('G06F301', 'H05B3702'), ('G06F2171', 'H03K19003'), ('A47G106', 'G06F116'), ('G06F120862', 'G06F120891'), ('F28F1900', 'G06F120'), ('B32B1500', 'B32B3718'), ('A63F1365', 'G06F300'), ('A63F13332', 'G06T1506'), ('G06F1310', 'G06Q2024'), ('G06F3047', 'G09G33266'), ('G06F301', 'G08B706'), ('G06F1110', 'G06F1132'), ('A61B511', 'G06F30346'), ('G06F1210', 'G06F1340'), ('G06F120873', 'G06F120895'), ('G06F303', 'H04N5222'), ('G06F11273', 'G06F1342'), ('G06F120802', 'G06F1214'), ('G06F1210', 'G11C2938'), ('G06F1310', 'G06Q3000'), ('H04R314', 'H04S100'), ('G06F306', 'G11C114096'), ('G06F1130', 'G06F2156'), ('A47G114', 'G06F116'), ('G06F120802', 'G06F1316'), ('F21V2300', 'G06F3038'), ('G06F301', 'G09F930'), ('G06F3044', 'G09G314'), ('G06F2155', 'H05K714'), ('G02B110', 'G06F3044'), ('G06F1214', 'G06F1340'), ('G06F128', 'G06F306'), ('A61B5024', 'A61J704'), ('G06F1130', 'G06F1578'), ('G11C1616', 'G11C2944'), ('G06F1727', 'G06F1727'), ('G06F7483', 'G06F930'), ('G06F1114', 'G06F1116'), ('G06F306', 'H04N216543'), ('G06F2132', 'G10L1704'), ('B43K2918', 'G06F3041'), ('G06F1114', 'H04L906'), ('G01C2126', 'G06F1110'), ('G06F108', 'G06T120'), ('G06F120804', 'G06F120891'), ('G10L1522', 'G10L2533'), ('F16M1302', 'H02J5010'), ('H03G330', 'H04R2700'), ('G06F944', 'H04B726'), ('G06F950', 'G06F954'), ('G06F120804', 'G06F12109'), ('G06F30354', 'G09F930'), ('G01C2136', 'G06T1320'), ('G06F120', 'H05K103'), ('G06F306', 'G06F950'), ('G06F1730', 'G06F2185'), ('G11C2952', 'H03M1327'), ('G06F132', 'G06F30481'), ('G06F316', 'G10L2521'), ('G06F1214', 'G06F935'), ('A61Q1500', 'G06F1750'), ('G06F1136', 'H04N1700'), ('G11C700', 'H02M3158'), ('G01D5241', 'H03K1796'), ('G06F316', 'H04N214363'), ('G06F301', 'H01L41193'), ('G06F30484', 'H04N214363'), ('G06F1728', 'G06F944'), ('G10L1501', 'G10L2533'), ('G06F120875', 'G06F128'), ('G11C1626', 'H03M1345'), ('G06K922', 'G06T1120'), ('A63F1398', 'G09B900'), ('G06F1310', 'G11C1400'), ('G06F1727', 'G06F720'), ('G06F1208', 'H04L1258'), ('H04N1944', 'H04N577'), ('G06F2162', 'G06F938'), ('A44C900', 'G06Q2032'), ('G06F7507', 'G06F753'), ('G06F1110', 'G11C11409'), ('G06F120811', 'G06F120837'), ('G06F1340', 'G10L1526'), ('G06F1728', 'G06T1300'), ('H04N21835', 'H04N21858'), ('G06F1136', 'G06N700'), ('G06F120846', 'G06F12128'), ('G06F1328', 'G06F748'), ('G06K1907', 'H04L908'), ('G06F1206', 'G11C1610'), ('G06F1202', 'G06F120802'), ('G06F1721', 'G06F954'), ('G06F124', 'G06F944'), ('G06F2162', 'G06F300'), ('G06F12109', 'G06F12123'), ('G06F120875', 'G06F954'), ('G06F1724', 'G09G5391'), ('G01C506', 'G06F302'), ('G06T1380', 'G11B1522'), ('G06F120862', 'G06N502'), ('G06F116', 'H04Q900'), ('G06F1322', 'G06F1342'), ('G06F120811', 'G06F1328'), ('G06F108', 'G06F13364'), ('G06F121009', 'G06F121036'), ('G06F1730', 'G06F30489'), ('G01C2120', 'G06F30482'), ('G01C2136', 'G06F302'), ('G06F3023', 'H04B13827'), ('G06F104', 'G06F112'), ('G05B19042', 'G06F1340'), ('G06F2151', 'G06F2160'), ('A61B5024', 'G06F30488'), ('G06F1122', 'G06N9900'), ('G06F945', 'G06F950'), ('H03K19177', 'H04L700'), ('G06F301', 'G09G33208'), ('G06F501', 'G06F702'), ('G06F106', 'G06F758'), ('G06F9445', 'H04W4818'), ('G06F120846', 'G06F12123'), ('G06F120844', 'G06F1730'), ('G06F120871', 'G06F1730'), ('G06F1114', 'G06F1324'), ('G06F1107', 'G06F948'), ('H01L2329', 'H01L3362'), ('G06F1750', 'G06F720'), ('G06F132', 'G09G514'), ('H04N212347', 'H04N218352'), ('A61B3400', 'A61B804'), ('F21V800', 'G06F118'), ('G06F2136', 'G06T340'), ('A63F1350', 'G06T1900'), ('G05B1919', 'G06F30484'), ('G09G510', 'H04N21488'), ('G06F120815', 'G06F128'), ('G06F1342', 'G06F30484'), ('G06F2154', 'G06F944'), ('G06F2112', 'H04W400'), ('B43K2406', 'G06F30354'), ('G06F1136', 'G06F2153'), ('C23C1640', 'G06F3041'), ('G06F1122', 'H03K504'), ('G06F3041', 'H03M108'), ('G06F120862', 'G06F306'), ('G06F3044', 'G09B502'), ('G06F2132', 'G06F302'), ('G06F112', 'G11C818'), ('A63F1392', 'A63F500'), ('G06F126', 'H01H4700'), ('G06F306', 'G06F946'), ('G06F120817', 'G06F120831'), ('G06F2112', 'G06F9455'), ('G06F1110', 'G06F1342'), ('F28F1900', 'G06F116'), ('G06F120875', 'G06F950'), ('A63F1392', 'G06F3041'), ('G06F9445', 'H04W8802'), ('G06F108', 'H03M900'), ('G06F1340', 'G06Q1008'), ('A61B50476', 'G06F116'), ('G06F758', 'G06F772'), ('G06F1130', 'H04N214363'), ('A61B3400', 'G06F301'), ('G06F300', 'G06T1380'), ('G06F2171', 'H04L2908'), ('G06F1130', 'G06F1324'), ('G06F1316', 'G06F944'), ('A63F13655', 'G06K900'), ('G06F1107', 'G11B2012'), ('G06F1716', 'G06Q5030'), ('G06F1210', 'G06F944'), ('G06F2152', 'G06F2178'), ('G06F930', 'G06N3063'), ('F25B1300', 'G06F30484'), ('G06F1918', 'G06F944'), ('A61K3113', 'G06F1926'), ('B60K3500', 'G06F3147'), ('G05F1575', 'G06F1750'), ('G06F506', 'G06F512'), ('G06F30486', 'G06T100'), ('G06F12084', 'G06F12128'), ('G06F120804', 'G06F120815'), ('G06F1721', 'G06F1721'), ('G06F132', 'G11C1626'), ('A61B5024', 'A61G1200'), ('G06F316', 'H03G700'), ('G06F120804', 'G06F306'), ('G06F1310', 'H04N214408'), ('G11B2702', 'H04N2143'), ('B41M130', 'C23C1402'), ('H04B304', 'H04R110'), ('G06F30488', 'G10L1304'), ('H04M12745', 'H04W414'), ('G06K1906', 'G09G332'), ('G06F945', 'G06F946'), ('G06F121081', 'G06F1328'), ('G06F1338', 'G06F1578'), ('G06F1127', 'G11C710'), ('G06F1120', 'G11C2952'), ('G06F30484', 'G08B2104'), ('G06T1900', 'H04M123'), ('G06F2162', 'H04N100'), ('G06F128', 'G11C1630'), ('G06F758', 'G11C11419'), ('G06F3041', 'G06F9445'), ('G06F3046', 'G06F30488'), ('C07K1618', 'G06F1922'), ('G06F120815', 'G06F120842'), ('H04R312', 'H04W5600'), ('G06F3044', 'H01Q152'), ('G06F1310', 'G06F950'), ('G06F1312', 'G06F1338'), ('G06F944', 'G06F944'), ('G06F120875', 'G06F1316'), ('C23C1402', 'H05K102'), ('G06F1342', 'G06F946'), ('G06F3023', 'G06Q3006'), ('G05G503', 'G06F30354'), ('G06F1202', 'G11C2938'), ('G06F30346', 'H04R300'), ('G06F120868', 'G06F120888'), ('H04N521', 'H04N5268'), ('G06F120815', 'G06F120862'), ('G06F1722', 'G06F30489'), ('G01J144', 'G06F30346'), ('G06F1900', 'G06F9445'), ('G06F2162', 'G06F702'), ('B60N200', 'B60Q310'), ('G06F120811', 'G06F121009'), ('G06F2162', 'G06F30354'), ('H04N1946', 'H04N577'), ('G11C2952', 'G11C800'), ('G06F303', 'H01S500'), ('G06F1340', 'G06K900'), ('G06F112', 'H04B1027'), ('G06F1312', 'G06F1340'), ('G06Q1010', 'G10L1525'), ('C09K1944', 'G02F11362'), ('G06F2152', 'G06F944'), ('G06F1122', 'H04L1224'), ('B62K2302', 'B62M2508'), ('G06F116', 'H04M121'), ('H04N100', 'H04N100'), ('A63F1335', 'G06T1506'), ('G06F120875', 'G06F946'), ('G06F1202', 'G06F9455'), ('G09G336', 'G09G514'), ('B60R1102', 'H01F702'), ('G06F120897', 'G06F950'), ('G06F120842', 'G06F12128'), ('G06F120', 'H05K118'), ('G09G510', 'H04N21443'), ('G06F1120', 'G11C1610'), ('G06F2188', 'H04L908'), ('G06F935', 'G06F938'), ('G11C1300', 'H04L930'), ('B60R16037', 'G06F306'), ('G05B1502', 'H04R2700'), ('A63F13211', 'A63F1344'), ('G06F132', 'G06F3042'), ('G06F120817', 'G06F12128'), ('G06F1900', 'G06F2132'), ('G06F306', 'H03M1319'), ('G06F30482', 'G06Q9000'), ('G06F120895', 'G06F120897'), ('G01C2126', 'G06F126'), ('A61B51455', 'A61J700'), ('G06F13364', 'G06F1578'), ('G06F1750', 'G06F506'), ('G06F108', 'G06F1342'), ('G06F1320', 'G06F9445'), ('G06F1724', 'G06F300'), ('A61B50205', 'A61J700'), ('G06F938', 'G06F944'), ('A61L2752', 'G06F1900'), ('A63F1320', 'G06F30346'), ('G06F130', 'H04N550'), ('G06F120', 'G06F1338'), ('G06F120', 'H05K109'), ('G06F1336', 'H04L916'), ('G01S1504', 'G06F301'), ('G06F30346', 'G06F30486'), ('G06F120815', 'G06F1316'), ('G06F301', 'G09B900'), ('G06F120875', 'G06F121027'), ('B65D8304', 'G05B19406'), ('G06F302', 'G06K1906'), ('G06F2171', 'G06F9455'), ('A63F13213', 'G06T320'), ('G06F2160', 'G06F3044'), ('B41J221', 'G06F312'), ('G06F3045', 'G06F30481'), ('A61B50402', 'G06F2132'), ('G02B530', 'G06F3042'), ('G06F1730', 'G06F3023'), ('G06F118', 'H05B326'), ('A61Q1300', 'G06F1750'), ('G06F314', 'H04M160'), ('G06F2153', 'G06F2162'), ('G06F1340', 'H04L912'), ('G06F306', 'G11C800'), ('G06F1900', 'G06T1550'), ('G06F30488', 'H04Q900'), ('A61J700', 'G06F2132'), ('G06F1714', 'H03H1704'), ('G06F120815', 'G06F946'), ('G06F2150', 'G06F2176'), ('G06F1136', 'H04L1258'), ('G06F2142', 'G06F312'), ('G04G2100', 'G06F30354'), ('G06F946', 'G06T900'), ('G09G512', 'H04L1258'), ('G06F2142', 'H04W400'), ('G06F2130', 'H04W1206'), ('F21V2300', 'G06F30354'), ('G06F13366', 'G06F306'), ('G06F1136', 'G06F2155'), ('G01S1914', 'G06F1730'), ('G05B1942', 'G06F316'), ('G06F1110', 'G11C114072'), ('G06F120897', 'G06F1316'), ('G06F1310', 'H04W8806'), ('G04G910', 'H01L310216'), ('A61B600', 'G06F1711'), ('B41M130', 'H05K102'), ('G06Q1010', 'G10L1500'), ('G06F3044', 'H01L3332'), ('G06F1928', 'G06T1900'), ('G06F316', 'G09G336'), ('G06F30346', 'H04M157'), ('A61B500', 'G06F303'), ('B41M118', 'C23C1458'), ('G10L2572', 'H04R110'), ('E05D700', 'G06F302'), ('G06F1310', 'G06F1322'), ('A44C900', 'G06F3044'), ('G06F1340', 'H03M166'), ('G06F2184', 'G09G5393'), ('G01C2120', 'G06F1727'), ('C09D13314', 'G06F3044'), ('G06F3147', 'G09G33208'), ('G06F2110', 'G06F30481'), ('F24C708', 'F24C708'), ('G11C2952', 'H03M1309'), ('G06F120846', 'G11C710'), ('G02B2701', 'H04M160'), ('B41M104', 'H05K102'), ('E05D318', 'E05F112'), ('G06F1110', 'G06F12084'), ('G06F1714', 'G06F1718'), ('G02B520', 'H01L3350'), ('G06F2144', 'G10L1522'), ('A63B6900', 'A63G3116'), ('G04G2108', 'G06F30482'), ('G06F128', 'G06F1324'), ('F16B3712', 'G06F118'), ('G06F114', 'H04W5202'), ('G04G1900', 'G06F116'), ('G06F132', 'G06F303'), ('G06F2183', 'G06F2186'), ('F21V21088', 'G06F314'), ('G06F1214', 'G06F952'), ('G06F301', 'G06F30338'), ('G06F301', 'G06F30362'), ('G06F316', 'H04L1218'), ('G11B2018', 'G11C2904'), ('G06F1316', 'H01L4308'), ('B60K3500', 'H04N533'), ('G06F30354', 'G06F30489'), ('B32B308', 'G06F3044'), ('G06F1711', 'G06N9900'), ('G06F1116', 'G06F1342'), ('G09G5393', 'H04L908'), ('G06F1328', 'G06F514'), ('G06F2132', 'G06F30483'), ('B60K3702', 'G06F30354'), ('G06F13364', 'H04L2912'), ('G06F316', 'G06F954'), ('A61B802', 'G06F1900'), ('G06F130', 'G09G510'), ('G06T1120', 'G09B2900'), ('G06F132', 'G06F7544'), ('G06F1922', 'H01L27118'), ('F16B100', 'G07C502'), ('G06F316', 'G10L2572'), ('G06F2110', 'G06K714'), ('G06F1202', 'G06F950'), ('G06F1582', 'G06F938'), ('G06F2145', 'H04L930'), ('G06F1336', 'G06F938'), ('G06F1130', 'G06F9455'), ('G06F30354', 'G06F30362'), ('G06F944', 'G06F952'), ('G06F314', 'H04N514'), ('G06F314', 'G09F930'), ('G06F120897', 'G06F121027'), ('G06F3045', 'H04M105'), ('G02B1300', 'G02B2728'), ('G06F2135', 'G06K710'), ('G06F1722', 'G06K918'), ('H01L23427', 'H01L3534'), ('G06F302', 'H01H13705'), ('G06F2132', 'G10L1722'), ('G06F1122', 'G06F1582'), ('G06F110', 'G06F1342'), ('G06F132', 'G06F2175'), ('C12N1582', 'G06F1922'), ('G04B1928', 'G06F316'), ('G06F1206', 'G06F1212'), ('G06F1730', 'G06Q5010'), ('G06F7487', 'G06F7499'), ('G06F2110', 'G09G514'), ('G06F132', 'G06F3047'), ('G06F2184', 'H04L908'), ('G06F1728', 'G06F9445'), ('G01W100', 'G06F316'), ('G06F1336', 'G06F1338'), ('G06F306', 'H03M1309'), ('H03K2366', 'H03K3011'), ('G06F120891', 'G06F132'), ('G11C11406', 'G11C818'), ('G06F950', 'G06Q3002'), ('G06F2184', 'H04M1725'), ('G06F1136', 'G06F1724'), ('A61G1708', 'G06F316'), ('A61B3400', 'H04N5225'), ('G11C2952', 'G11C514'), ('G11B2719', 'H04N218547'), ('A61N105', 'G06F1900'), ('G06F3042', 'G06K952'), ('G06F2181', 'H02J5010'), ('G06F30482', 'G10L1502'), ('G06F2151', 'G06F3041'), ('G06F1717', 'G06F1750'), ('G06F2110', 'G06F2135'), ('G06F1136', 'H04K102'), ('G06F2186', 'H05K118'), ('G06F1724', 'H04N5272'), ('G02B2701', 'G09F930'), ('G06F120891', 'G06F12126'), ('G06F2144', 'G06F30354'), ('G06F2114', 'G06F2116'), ('G06F1926', 'G06F1928'), ('G06F120866', 'G06F120897'), ('H01L310216', 'H05K322'), ('G06F1324', 'G06F954'), ('G06F1900', 'G06K932'), ('G06F1316', 'G11C1628'), ('G06F938', 'G06F952'), ('G06T300', 'G09G336'), ('G06F128', 'H04L2908'), ('G06F2151', 'G06F2154'), ('G06F1322', 'G06F501'), ('G06F120811', 'G06F120846'), ('G06F121009', 'G06F938'), ('G01B1314', 'G06F302'), ('A61K835', 'C11D1100'), ('G06F30485', 'H04W402'), ('B60K3500', 'G02F11335'), ('G06F314', 'H05K502'), ('G11C114091', 'G11C1400'), ('G06F30338', 'G06F314'), ('G06F13362', 'G06F930'), ('B32B3814', 'B32B704'), ('G06F118', 'H01R3397'), ('A63F13211', 'G02B2700'), ('G06F7499', 'G06F948'), ('G06F2164', 'H04N21234'), ('G06F116', 'H04L1258'), ('G06F1342', 'G11C1616'), ('G06F1110', 'G06F1130'), ('G07F708', 'H04W1206'), ('G06F126', 'H02J5010'), ('G06F1724', 'G06F944'), ('G06F120', 'G06F30484'), ('G06F1316', 'G11C114093'), ('G06F120862', 'G06F1324'), ('G06F1342', 'G06F9445'), ('G06F1320', 'G06F1730'), ('H02N206', 'H02P304'), ('A61B501', 'G09G536'), ('G06F1214', 'H01L25065'), ('G06F112', 'H04L700'), ('G06F1136', 'G06F954'), ('G06F1134', 'G06F30481'), ('G06F1116', 'G06F945'), ('H04N121', 'H04N21234'), ('G06F2154', 'G06F9445'), ('G06F1114', 'G06F950'), ('G06F303', 'G06F30482'), ('A61J700', 'G06F1730'), ('G06F1114', 'G06F30484'), ('B60K3500', 'G09G320'), ('G06F954', 'G10L1526'), ('G06F126', 'G09F1500'), ('H04L1218', 'H04L704'), ('A61B3400', 'A61B802'), ('G06F112', 'G06F938'), ('G06F2133', 'H04L908'), ('G02F11333', 'H02J735'), ('G06F2112', 'G06F2174'), ('G06K19077', 'G06K1914'), ('G06F126', 'G06F306'), ('G06F2133', 'H04M1725'), ('G06F1922', 'G06N700'), ('B60R2532', 'G06K900'), ('A63F13655', 'G06F30481'), ('G06F30485', 'H03K1796'), ('G06F1338', 'G11C1624'), ('G05F326', 'G06F132'), ('G06F1100', 'G11C1616'), ('G06F1107', 'G06Q2004'), ('G06F120842', 'G06F120866'), ('G06F2136', 'G06T1100'), ('G06F301', 'H04M358'), ('G06F1210', 'G11C1616'), ('A61K900', 'A61M520'), ('G06F301', 'H02J702'), ('H01L2732', 'H05K328'), ('H04N21472', 'H04N2183'), ('G10L2563', 'G10L2575'), ('G06F2160', 'H04L916'), ('G05B19048', 'G06F30488'), ('G06F110', 'G06F2175'), ('H03G332', 'H04N21485'), ('G06F3038', 'G06K952'), ('G06K900', 'G07G500'), ('B60R2530', 'G01S1706'), ('G02B2701', 'H04W1202'), ('H04N2143', 'H04S300'), ('G06F944', 'H01R13717'), ('G06F30485', 'G06F30487'), ('G06F2153', 'G06F944'), ('G06F2135', 'G06F306'), ('G06F30485', 'H04N214223'), ('G01S1706', 'H04N5225'), ('B29C4514', 'G06F3041'), ('F24C708', 'G06F3046'), ('G06F1316', 'G06F1578'), ('G06F2162', 'G06F758'), ('G06F30354', 'H04W7204'), ('G06F2112', 'G06F2172'), ('G06F1711', 'G06F1900'), ('G04B304', 'G06F30354'), ('G06F1130', 'G06F950'), ('G11B2702', 'H04N21414'), ('G06F1202', 'G06F121027'), ('G06F30482', 'H04B726'), ('G06F2132', 'G06F2171'), ('G06F1214', 'G06F9445'), ('G06F30488', 'H04M123'), ('B33Y5002', 'G06F1750'), ('G06F30346', 'H04W824'), ('G06F1324', 'G06F15173'), ('G06F1120', 'G11C2900'), ('A63F13213', 'G06F30346'), ('G06F3038', 'G06F316'), ('G06F1110', 'G06F120868'), ('G06F1324', 'G06F930'), ('G06F1340', 'H02N206'), ('A63F1324', 'H04N1304'), ('G06F1316', 'G11C114076'), ('G06F946', 'G06F948'), ('G06F2164', 'G11B27031'), ('G06F2145', 'G06F2154'), ('G06F2130', 'G06F2162'), ('G06F2131', 'G06F302'), ('G06F1202', 'G06F126'), ('G06F3047', 'H01L2951'), ('G06F1134', 'G06T1120'), ('B60R1102', 'G06F3039'), ('A63F1324', 'G09B900'), ('G06F1730', 'G06F708'), ('G06F1730', 'H03M730'), ('G06F15163', 'G06F1580'), ('G06F302', 'H04N5232'), ('G06F120862', 'H04L2908'), ('C23C1402', 'G06F3041'), ('G06F120813', 'G06F120817'), ('B29C4517', 'G06F30488'), ('G06F1727', 'G06F2162'), ('G06F1517', 'G06F1578'), ('A63F1350', 'G06T1340'), ('H04N21835', 'H04N5775'), ('G06F1730', 'G06T770'), ('G06F30488', 'G06F30488'), ('G06F104', 'G06F126'), ('G06F9445', 'H04L12803'), ('G06F1338', 'G06F9455'), ('G06F120811', 'G06F120813'), ('G06F128', 'G06F9455'), ('G06F1316', 'H04L906'), ('A63F1342', 'G06F30484'), ('G06Q5000', 'G10L1522'), ('G06F1730', 'G06F1924'), ('G06F1714', 'G11C804'), ('G06F1114', 'G06F946'), ('G06F1136', 'G06F2114'), ('G06F120895', 'G06F121045'), ('G06F1721', 'H04M700'), ('G02F11335', 'G06F30488'), ('G06Q2032', 'H04W416'), ('G06F30481', 'G06T500'), ('G06F1130', 'G06F3041'), ('G06F1136', 'G06F930'), ('G06F120', 'H01L3528'), ('G06F2152', 'G06F9445'), ('C23C1456', 'H05K102'), ('G06F1750', 'G06F1750'), ('G06F1132', 'G08B1324'), ('A63F1340', 'G06K900'), ('G06F30484', 'H04S300'), ('G06F1730', 'G06F3044'), ('G06F1728', 'G06F302'), ('G06F120875', 'G06F1336'), ('H03L7099', 'H04W8802'), ('A63F132145', 'A63F1326'), ('G06F301', 'G06F3039'), ('G10L1522', 'G10L1704'), ('G06F1900', 'G06F1926'), ('F21V2304', 'G06F301'), ('G06F1900', 'G08B522'), ('F16B3712', 'H05K502'), ('G06F120897', 'G06F1210'), ('G06F120877', 'G06F1338'), ('G04G902', 'G06F30482'), ('G10L1702', 'H04L2906'), ('G06F1132', 'G06F9455'), ('G06F1202', 'G11C2936'), ('F28F2108', 'G06F116'), ('G06F128', 'H03F3183'), ('G06F2156', 'G06F944'), ('G06F116', 'G08C1702'), ('G06T1120', 'H03M730'), ('B41M118', 'C23C1456'), ('G06F1130', 'G06F946'), ('G06F2156', 'G06F30484'), ('A63F13537', 'G06F314'), ('B60R16023', 'G06F9445'), ('G06F1206', 'G06F12109'), ('G06F1728', 'G09B2100'), ('A47J3152', 'G06F316'), ('G06F126', 'H04N21488'), ('G06F312', 'H03M514'), ('G06F1330', 'G06F944'), ('G06F120891', 'G06F930'), ('G06F132', 'G11C1928'), ('G01N3510', 'G06F1900'), ('H04N21443', 'H04N21835'), ('G06F120', 'G06F126'), ('G06F30354', 'G06F3039'), ('G06F314', 'G09G33225'), ('G06F3044', 'H01L41257'), ('G06F1721', 'G06F3023'), ('G06F1130', 'G06F1322'), ('C07K1471', 'G06F1916'), ('A63F1367', 'G06F30485'), ('G06F120864', 'G06F12121'), ('H01L4500', 'H04L930'), ('G06F120891', 'G06F1214'), ('G06F1342', 'H05K714'), ('H01L41257', 'H01L41277'), ('G06F106', 'G06F128'), ('G11C1714', 'H01L27112'), ('H01L25075', 'H01L310216'), ('C09K1946', 'G02F11362'), ('G06F1320', 'G06F1724'), ('G06F30482', 'G06T1140'), ('G06F120815', 'G06F1336'), ('G06F2114', 'G06F2154'), ('G06F1316', 'G06F1324'), ('G06F118', 'G09G512'), ('G11C1610', 'G11C2936'), ('B41M130', 'G06F3041'), ('G06F120846', 'G06F120875'), ('G06F132', 'G06F506'), ('G06F1320', 'G06Q3006'), ('G06F2132', 'H01L2500'), ('G06F132', 'H04N21488'), ('G06F2136', 'G06F944'), ('G06F1342', 'H03K1700'), ('B01D6132', 'G06F1900'), ('G01L114', 'G06F3044'), ('A63F1365', 'G06T1320'), ('H01L5152', 'H05K328'), ('G06F116', 'G06T1700'), ('G06F1208', 'G06F1342'), ('G06F3044', 'H01L25075'), ('G06F30354', 'H01H1310'), ('G06F1206', 'G11C1634'), ('G06F1730', 'G06Q9000'), ('H04M1675', 'H04M700'), ('G06F930', 'G06F9455'), ('G06F3047', 'H05K103'), ('B41M104', 'G06F3041'), ('G06F121009', 'G06F12109'), ('G06F1722', 'G09G512'), ('G06F1900', 'G06F954'), ('G06F1110', 'H04N700'), ('G06F121009', 'G06F121018'), ('G06F1120', 'G06F1342'), ('G06F1728', 'H04B13827'), ('G06F120802', 'G11C1116'), ('G06F1727', 'G06F2136'), ('A61F5058', 'G06F1900'), ('G06F106', 'G06F108'), ('G06F2151', 'G06F2152'), ('G06F2110', 'G06N9900'), ('G06F1900', 'G06F2133'), ('G06F30338', 'G06F30346'), ('G06F132', 'G06F7487'), ('G06F118', 'G06F3044'), ('G06F3046', 'H01L3348'), ('G06T1700', 'G09G320'), ('G06Q1006', 'G08B2510'), ('G06F1324', 'G06F2157'), ('G11B27029', 'H04N577'), ('G06K900', 'H04M157'), ('G07F1154', 'G07F1700'), ('G06F112', 'G06F944'), ('G06F12084', 'G06F120897'), ('G06F30485', 'G06K968'), ('G06F1324', 'G06F13364'), ('G06F944', 'G06T700'), ('H01L5152', 'H04N533'), ('G06F1340', 'G11C1626'), ('G06F2144', 'H04N132'), ('G01S1708', 'G01S1953'), ('G06T1160', 'H04M102'), ('G06K922', 'G06K952'), ('G06F128', 'G06F950'), ('G06F1100', 'G06F1730'), ('G06F303', 'G06F3039'), ('G06F1210', 'G06F1730'), ('G06F132', 'G06F1578'), ('G06F1730', 'G06F7535'), ('G01P1300', 'H04R2900'), ('G06F1750', 'H03H308'), ('G01K114', 'G06F3041'), ('G06F316', 'H04N21218'), ('G06F126', 'G09G5373'), ('G01S1508', 'G05D104'), ('G06F1310', 'G10L1526'), ('H01H1386', 'H04M160'), ('E05D300', 'H04M102'), ('G06F30484', 'H04N216547'), ('A61B5021', 'A61G1200'), ('G06F2181', 'H02J5080'), ('G11B27031', 'H04N216377'), ('A61B518', 'G06T700'), ('G06F2162', 'H04N218358'), ('G06F1122', 'G06F1338'), ('G06F1126', 'G06F306'), ('B32B1500', 'G06F3041'), ('G06F708', 'G06T1120'), ('C01B3302', 'G06F2170'), ('G06F121009', 'G11C1634'), ('G06F1136', 'G06F2157'), ('G06F1712', 'G06F501'), ('G06F112', 'H04W5202'), ('G06F1310', 'G06F30488'), ('G06F2112', 'G06F2153'), ('G06F121009', 'G06F121072'), ('G06F1202', 'G06F1210'), ('G06F2183', 'G06F2184'), ('G06F30485', 'H04B13827'), ('F16C1112', 'G06F116'), ('A61M531', 'G02F11343'), ('G06F1337', 'G06F306'), ('G06F1122', 'G06F1340'), ('G06F126', 'G06F13362'), ('A61B3410', 'G06T1120'), ('G04B304', 'G04G2100'), ('G06F130', 'G06F132'), ('G06F1920', 'G06F1926'), ('G03B1100', 'G03B1754'), ('G01L500', 'G06F3044'), ('G06F30482', 'G06Q2042'), ('G06F314', 'G07G101'), ('G06F121009', 'G06F121045'), ('G06F126', 'G06F316'), ('G07F710', 'H04L2906'), ('G06F120866', 'G11B2012'), ('G06F1338', 'G06F3041'), ('G06F132', 'G09G5373'), ('G06F12084', 'G06F120875'), ('G06F300', 'G06T1320'), ('G06F1114', 'G06F1136'), ('G05G110', 'G06F30338'), ('G04G2102', 'H02J700'), ('G06F30481', 'G09G508'), ('G06F120842', 'G06F120897'), ('G06F1212', 'G06F1342'), ('G06F1580', 'H01L25065'), ('G06F1727', 'G06F944'), ('G06F1122', 'G06F116'), ('G06F120', 'H01L23467'), ('A61L2752', 'A61M520'), ('G06F120817', 'G06F120897'), ('G06F30481', 'G06K968'), ('G06F1728', 'G08B522'), ('A63F13214', 'A63F13285'), ('G06F1214', 'G06F2160'), ('G06F3038', 'H04B726'), ('G06F314', 'G09F9302'), ('C12Q168', 'G06F1926'), ('G06F1202', 'G06N700'), ('G06F2135', 'G06F316'), ('G06F1722', 'G11C710'), ('G06F306', 'H04L912'), ('G06F2116', 'G10L19018'), ('A61B802', 'G06F1750'), ('G06F726', 'G06F950'), ('G06F13362', 'G06F1342'), ('G06F1342', 'G06F314'), ('A61F501', 'G06F1900'), ('G06F1132', 'G06F1134'), ('G06F106', 'G06F3041'), ('G06F132', 'G06F13362'), ('G06F120831', 'G06F1342'), ('B05D506', 'G06F3044'), ('G06F2114', 'G06F2174'), ('G11C11409', 'G11C114093'), ('A63F13655', 'G06F303'), ('G06F132', 'G11C700'), ('A42B304', 'H04W400'), ('G06F1328', 'H04L12935'), ('G06F120815', 'G06F12128'), ('F28D1500', 'F28F2108'), ('G06F1338', 'G06F946'), ('F28F140', 'G06F120'), ('G06F1722', 'G06Q9000'), ('G06F1576', 'G06F1578'), ('G06F2135', 'G06K1907'), ('G06F30489', 'G06T700'), ('G06F120866', 'G06F306'), ('G06F1132', 'G06F3041'), ('G06F1922', 'G06F1926'), ('G06F1342', 'H04L704'), ('A23F526', 'G06F316'), ('G06F1130', 'G06F1136'), ('G06F1724', 'G06F9445'), ('G06F1120', 'H04L914'), ('G06F301', 'H01H1385'), ('G06F2110', 'G06F306'), ('G01C506', 'H04M1725'), ('G06F3047', 'G09G33291'), ('G06F930', 'G06F950'), ('G02B2701', 'H01H1386'), ('H04N19467', 'H04N218547'), ('G06F3042', 'G09G302'), ('G06F121009', 'G06F306'), ('G06F1750', 'G06F944'), ('G06F1107', 'H04N100'), ('G06F1114', 'G06F1122'), ('G04G910', 'H01L3116'), ('G06F1730', 'G10L1726'), ('H04R312', 'H04W402'), ('G06F2160', 'G06F944'), ('G02B2701', 'G06F1342'), ('G06F1208', 'G06F948'), ('H01L310216', 'H05K109'), ('G06F2144', 'G06F2156'), ('G06F2136', 'G06F2183'), ('G06F1918', 'G06T1900'), ('G06K900', 'G06T780'), ('G06F1712', 'G06F1716'), ('G06F2152', 'G06F2160'), ('G06F120842', 'G06F120875'), ('G06F944', 'G11C114091'), ('G06F120862', 'G06F30484'), ('G06F120846', 'G06F121018'), ('G06F2162', 'G07F708'), ('G06F1120', 'G06F948'), ('A63F1324', 'H04N1302'), ('G06F300', 'G06K932'), ('G06F120817', 'G06F120875'), ('G09G5373', 'H04N557'), ('G06F1114', 'G06F1210'), ('G06F132', 'G09G5391'), ('G06F2172', 'G06F2178'), ('C03C2100', 'G06F1710'), ('G10L1522', 'G10L2575'), ('A61K837', 'C11D1100'), ('G06F3041', 'H03K17945'), ('G06F1727', 'G06F30486'), ('A63F1344', 'A63F1395'), ('G11C1608', 'H03M1300'), ('G06F1728', 'G06F954'), ('G06F3044', 'H01L41277'), ('B32B2732', 'G06F3041'), ('B60R2530', 'H04N5225'), ('A44C520', 'G06K900'), ('A63F1322', 'A63F13335'), ('G06F112', 'H03K515'), ('G06F1132', 'G06F1322'), ('G06F1322', 'G06F1340'), ('G06F1136', 'G06F30482'), ('G06F13366', 'G06F9455'), ('G01J142', 'G06F30484'), ('B32B1520', 'G06F3041'), ('G06F2160', 'H04N21236'), ('G06F1340', 'G11C722'), ('G06F1110', 'G06F938'), ('G06T360', 'G09B2900'), ('A61K900', 'A61L2752'), ('G06F2136', 'G06F2174'), ('G06F922', 'G06F9445'), ('G01R1925', 'G01R2100'), ('A63F1322', 'G06F3041'), ('G06F1324', 'G06F1342'), ('G06F120868', 'G06F9455'), ('G06F314', 'G06T1560'), ('A61G1200', 'A61J704'), ('G06F2184', 'H04W1206'), ('G06F116', 'G06K714'), ('G02C1100', 'G06F300'), ('G06F1110', 'G11B5596'), ('G06F1342', 'G11C2952'), ('G06F120804', 'G06F120842'), ('A61L224', 'G06F30484'), ('G06F1728', 'G06N300'), ('G01C2104', 'G07C500'), ('G06F121027', 'G06F306'), ('H04L908', 'H04N100'), ('G05B19048', 'G06F30346'), ('A61J700', 'G05B19406'), ('G06F1310', 'G06K900'), ('G06F1328', 'G11C1626'), ('G06F121072', 'G06F1340'), ('G06F2151', 'G06F30488'), ('G06F2144', 'H04L906'), ('G06F1721', 'G09G512'), ('G06F116', 'G06F13364'), ('G06F1717', 'H03K3011'), ('G06F12128', 'G06F306'), ('G09G334', 'H04N21443'), ('G06F3044', 'H01L3338'), ('G06F1208', 'H02P304'), ('G06F1340', 'G06F2186'), ('G06F2150', 'G06F3023'), ('G01R313177', 'G06F1122'), ('G06F110', 'G06F13362'), ('H04N132', 'H04N216334'), ('G06F116', 'G09G33266'), ('G04G910', 'G06F116'), ('G06F116', 'G09G33225'), ('G06F2140', 'G06F30484'), ('G06F2114', 'G06F2152'), ('G06F1730', 'G06F938'), ('G09B2900', 'G09B502'), ('G06F930', 'G06F946'), ('G06F1107', 'G06F1714'), ('G06F2130', 'H04W404'), ('H01R2464', 'H05K503'), ('H04L2906', 'H04L2906'), ('G06F1110', 'G06F1340'), ('G06N700', 'G10L1526'), ('G06F1122', 'G06F944'), ('A61K833', 'G06F1750'), ('G06F3044', 'H01L3350'), ('F21V21088', 'G09F9302'), ('G06F120813', 'G06F120891'), ('G06F2162', 'H04W816'), ('B60R1104', 'B60R2532'), ('G06F1914', 'G06F1922'), ('G06F2153', 'H04L906'), ('G06F758', 'H01L4308'), ('G02B500', 'G06F3045'), ('G06F120811', 'G11C1718'), ('G06F1316', 'H04L930'), ('G06F2112', 'G06F2155'), ('C23C1456', 'G06F3041'), ('G06F1212', 'G06F948'), ('G06F12084', 'G06F120891'), ('H04N21436', 'H04N21835'), ('F21S200', 'G09F933'), ('G08G10967', 'G10L1304'), ('G06F2162', 'G06K1502'), ('G06T1300', 'G10L1525'), ('G06F1318', 'H04L1240'), ('B60N202', 'G06F30484'), ('G06F948', 'G06T1710'), ('A61B5024', 'A61J700'), ('G06F303', 'G06F3033'), ('G06T1900', 'H01H1386'), ('B32B514', 'G06F3041'), ('G06F112', 'H04B500'), ('G06F301', 'G06F3045'), ('G06F1900', 'G07F710'), ('G07C500', 'H04W4818'), ('G06F1114', 'G06F120804'), ('G06F30489', 'H04B13827'), ('H04M1725', 'H04N214728'), ('A61B51172', 'G09B1900'), ('G01S1953', 'G06F1750'), ('G06F1134', 'G06F306'), ('G06F1310', 'H04L912'), ('F28F140', 'G06F116'), ('G06K934', 'H04N5765'), ('A63F13332', 'A63F13428'), ('B62K2302', 'G06F301'), ('G06F116', 'H01R2464'), ('F21S200', 'F21V21088'), ('G06F2156', 'G06F9445'), ('G01R31317', 'G06F11263'), ('G06F2157', 'G06F945'), ('B60K3700', 'G06F301'), ('G06F130', 'G09G334'), ('G06F1210', 'G06F954'), ('G10K11175', 'H04R312'), ('B41J2175', 'G06F1134'), ('A41D300', 'G06F3041'), ('G06F103', 'G06F1710'), ('G04C300', 'G06F301'), ('G06F306', 'H04W1202'), ('G04C300', 'G06T360'), ('G01C2200', 'G06F1912'), ('G06F2186', 'H04W402'), ('A63F13655', 'G06F301'), ('G06F2157', 'G06N9900'), ('H01L3338', 'H01L5150'), ('G06F120846', 'G06F306'), ('B32B3700', 'B32B514'), ('H01H4700', 'H01R2460'), ('G06F2153', 'H04L2912'), ('G04G504', 'G06F3041'), ('G06F132', 'G06F7485'), ('G06F1721', 'G07C508'), ('A63F13212', 'G09B900'), ('G06F1716', 'G11C706'), ('G06F2155', 'G06F306'), ('G02B2728', 'G06F3042'), ('A61B5024', 'G06F1912'), ('F02D4126', 'G06F948'), ('G06F1214', 'G06F954'), ('G06F106', 'G06F1718'), ('G06F1722', 'G09G538'), ('G06F121045', 'G06F12122'), ('H01L25065', 'H01L27112'), ('G06F301', 'H03G330'), ('G06F1750', 'H03K515'), ('H04N19467', 'H04N718'), ('B60R2530', 'G06F1730'), ('B60R2530', 'G06K932'), ('G06F952', 'G06T1710'), ('G06F30481', 'G08C1702'), ('G06K946', 'H04N2184'), ('G06F2110', 'G06F2156'), ('G06F30482', 'H04L1240'), ('G06F3039', 'G06F3041'), ('G06F120891', 'G06F120893'), ('G06F120842', 'G06F120891'), ('E05B6320', 'G06F116'), ('G04B1928', 'G04G2100'), ('G06F121009', 'G06F2156'), ('G01S1508', 'G01S1953'), ('G06F300', 'H04N5222'), ('G06F3033', 'G06T760'), ('E05B4700', 'G06F2183'), ('G06F120817', 'G06F120891'), ('G06F120811', 'G06F950'), ('G06F116', 'G06F30338'), ('G06F9445', 'H04N121'), ('G09G514', 'H01L2732'), ('G06F2162', 'H04M1675'), ('G11B2719', 'H04N2184'), ('G02F113', 'G06F303'), ('G06F132', 'G11C1624'), ('G06F1721', 'G06Q9000'), ('G06T1300', 'G10L1500'), ('G06F128', 'G11C1614'), ('G06F1316', 'G06F950'), ('G06F120811', 'G06F120862'), ('G06F1342', 'G06F15173'), ('G06F2160', 'G06T1160'), ('A61B500', 'F25D2302'), ('G06F1324', 'G06F948'), ('G06F1110', 'G06F1328'), ('G06F1342', 'H05K502'), ('G06F1340', 'H02P304'), ('G01S1508', 'H04N5225'), ('A61K834', 'C11D1100'), ('G06F1336', 'H04R312'), ('G06F132', 'G06F1338'), ('G06F108', 'G06F1340'), ('G06F2164', 'H04N21235'), ('G11B2719', 'H04N216377'), ('G06F1728', 'G10L1501'), ('G06F110', 'G06F112'), ('G05B1905', 'G06F300'), ('H04N21266', 'H04N5775'), ('G06K900', 'G06K924'), ('G10L2518', 'H04M102'), ('G06F1724', 'G06K968'), ('G06F30488', 'H04N533'), ('G06F1130', 'G06F30488'), ('G04G2102', 'G06F301'), ('G06F2114', 'G06F2153'), ('G06F132', 'H05B3308'), ('G06F2164', 'H04N132'), ('G05F326', 'G06F1342'), ('G06F1338', 'G06F9445'), ('G06F306', 'H03M1337'), ('G06F1730', 'G07G500'), ('G06F116', 'H01H1386'), ('G06F1100', 'G06F1134'), ('G06F1340', 'H01R1344'), ('H04N121', 'H04N21235'), ('G06F1107', 'G06F1206'), ('G06F2160', 'G06F758'), ('F24C708', 'G06F30482'), ('G06F1724', 'G06F2160'), ('G06F1727', 'H04L1240'), ('G06F114', 'G06F2176'), ('G06F1126', 'G06F1324'), ('G06F2110', 'G06F2184'), ('G11C2900', 'H03M1315'), ('G06F116', 'G06F1342'), ('H01L2331', 'H01L310216'), ('G06F120813', 'G06F120815'), ('G06F1136', 'G06F948'), ('G06F30354', 'H01H1314'), ('C09K1944', 'G09G336'), ('H04N21472', 'H04R312'), ('G06F938', 'G06F954'), ('G06F758', 'G11C11418'), ('G06F132', 'H04W400'), ('G06F120802', 'H01L4310'), ('G06F2181', 'G06F2188'), ('G06F1320', 'G06F30489'), ('G06F1107', 'G06F126'), ('G06F1210', 'G06F930'), ('G06F2160', 'H04B500'), ('G06F9445', 'G06F950'), ('G06F1900', 'G06F30482'), ('G06F120811', 'G06F1316'), ('G06F12084', 'G06F306'), ('G06F302', 'H04M123'), ('G06F3042', 'G06T740'), ('G06F778', 'G06F930'), ('G06F2131', 'G06F2157'), ('A63F13285', 'G06F30488'), ('A63F13428', 'G06T1160'), ('G06F104', 'G06F132'), ('G06Q2006', 'H04W1206'), ('G06F2162', 'G06F954'), ('G06F1122', 'G06F952'), ('G06F1210', 'G06F1214'), ('B05D312', 'G06F3044'), ('G06F950', 'G06Q2014'), ('A63F1324', 'G06F3033'), ('G06F1214', 'G06F930'), ('G06F9445', 'H04L12927'), ('G06F1316', 'G06F1316'), ('A61B511', 'H04B726'), ('G06F106', 'G06F1210'), ('G06F702', 'H04L2906'), ('G06F1136', 'G06F1727'), ('G06F1926', 'G06T1120'), ('G06F1310', 'G06F1320'), ('G09G5373', 'H04M102'), ('G06F2157', 'H04L1224'), ('B60K3500', 'G06F316'), ('G06F1214', 'H04W1202'), ('G06F2178', 'G06K1907'), ('G06F2153', 'G06F2160'), ('G06F1136', 'G06F12084'), ('G06F30354', 'G09G538'), ('G06F1114', 'H04L1258'), ('G06F1107', 'H04L12825'), ('G06F1214', 'G06F1316'), ('A61B5145', 'G06F1750'), ('G06F2142', 'G06K1502'), ('G06F3044', 'H04L906'), ('G06F1316', 'G06F946'), ('G01S1708', 'G01S1942'), ('F21S902', 'G06F303'), ('G06F2145', 'G06F2155'), ('G06F708', 'G06F720'), ('G06Q1010', 'G10L2563'), ('A61B501', 'G01B2130'), ('G06F758', 'G11C11408'), ('G06F2157', 'G06F2187'), ('G06F132', 'H03K17687'), ('A61B511', 'G06F116'), ('A63F1324', 'G05B1502'), ('G01D400', 'H04Q902'), ('D03D100', 'G06F301'), ('H01R2702', 'H04R300'), ('G06F1310', 'H04N214402'), ('H01L4500', 'H04L908'), ('G06F2135', 'G06F2188'), ('G06F306', 'G11C2900'), ('G06F314', 'H04N1944'), ('G06F2154', 'G06T120'), ('G06F3047', 'G09G33258'), ('G11C1610', 'H03K2140'), ('A63F13211', 'G06T1506'), ('G06F2162', 'G06F950'), ('G06F1727', 'H04N2141'), ('G06F126', 'G06F2150'), ('G06F120842', 'G06F306'), ('G06F1340', 'G11C1928'), ('H02J5080', 'H04B500'), ('G06F120811', 'G06F121027'), ('G06F121009', 'G06F1324'), ('G06F314', 'H05K500'), ('G06F120817', 'G06F306'), ('G06F30338', 'G06K710'), ('B32B3712', 'G06F3044'), ('G06F128', 'G06F1336'), ('G06F1210', 'G11C2944'), ('G06F314', 'G09B502'), ('H01L25075', 'H01L3116'), ('G06K948', 'G06T770'), ('G06F1750', 'G11C11418'), ('G06F9445', 'H04W812'), ('G06F30354', 'H04M105'), ('G06F2146', 'G06F2172'), ('G06F116', 'G06F2186'), ('A63F13211', 'A63F1342'), ('G06F1110', 'G06F121009'), ('G06F501', 'G06T120'), ('G06F9445', 'G06F946'), ('G06F1750', 'G06F9445'), ('G06F306', 'H03M1313'), ('G06F314', 'H01L5156'), ('G06F15177', 'G06F944'), ('G06F1340', 'G06Q2034'), ('G06F2186', 'G06F302'), ('G01B1314', 'H04M1725'), ('G02B1900', 'G06T700'), ('A63B6900', 'G06F301'), ('G05B19042', 'G06F930'), ('A63F1331', 'G06T1900'), ('A01G100', 'G06F1724'), ('G06F1110', 'G11C2912'), ('G06F1722', 'G07G500'), ('G06F2112', 'G06F2114'), ('G06F116', 'H04M342'), ('G06F120875', 'H01L2712'), ('G06F121081', 'G06F1316'), ('B32B2730', 'G06F3044'), ('G06F306', 'G11C11401'), ('G06F945', 'G06T1120'), ('G06F1342', 'G06F1580'), ('G06F1336', 'G06F2160'), ('G06F30482', 'G09G502'), ('G01D400', 'H04L1224'), ('G06F316', 'G10L1504'), ('G06F2154', 'G06F2157'), ('G06F1724', 'G09G500'), ('G06T100', 'H04M160'), ('G06F303', 'G09G538'), ('C01F700', 'G06F2170'), ('G06F1310', 'G06F2144'), ('A63F500', 'G06F132'), ('G06F2162', 'G06F3041'), ('G09F930', 'H04M160'), ('G06F1340', 'H04L12879'), ('G06F108', 'G06F944'), ('G06F2112', 'G06F2171'), ('G06F1922', 'H01L2702'), ('G06F1730', 'G06F1912'), ('G06F120891', 'G06F12123'), ('G06F132', 'G06K946'), ('G06F2110', 'G06K1906'), ('G06F1728', 'H04R2900'), ('G06F12123', 'G06F950'), ('G04B1928', 'G06F30487'), ('F16B1100', 'F16M1122'), ('G06F132', 'H01R1366'), ('G06F120875', 'G06F1580'), ('G06F306', 'G11C11409'), ('G06F121027', 'G06F1324'), ('G11B1522', 'G11B27036'), ('G06F120811', 'H03M1319'), ('B60R2532', 'G01S1706'), ('G06F2132', 'G09B502'), ('G06Q2032', 'H04M12755'), ('G05F146', 'G06F930'), ('G06F1342', 'G06F2185'), ('G06F114', 'G06F3041'), ('G06F1316', 'G06F1318'), ('H01L41193', 'H01L41257'), ('G06F1116', 'G06F120837'), ('G01S1508', 'G06F1750'), ('G06F2144', 'G06Q3006'), ('G06F1338', 'H05K714'), ('A63F13285', 'A63F1398'), ('G06F30484', 'G11B2722'), ('G06F2114', 'G06F2155'), ('G06F120862', 'G06N700'), ('G06F132', 'G06F1714'), ('G06F1114', 'G11C2952'), ('A61B3400', 'A61B603'), ('G06F1320', 'G06K918'), ('G06F1340', 'G06F1578'), ('G06F2160', 'H03K19003'), ('B43K100', 'B43K2406'), ('G06F1721', 'G06Q4004'), ('G06F1126', 'G06F11273'), ('C23C1408', 'C23C1456'), ('G06F1730', 'G10L21055'), ('G06F1342', 'H03M900'), ('C09K1944', 'G02F11345'), ('G06F1214', 'G06F2157'), ('B60R1102', 'G06F30354'), ('B60R112', 'G06F301'), ('G06K700', 'H04L908'), ('G06F1107', 'G06F9445'), ('B32B3814', 'G06F3041'), ('C03C2100', 'G06F1750'), ('G06F116', 'H04W416'), ('G06F1127', 'H04L2908'), ('G06F120875', 'G06F120897'), ('G06F1342', 'H01R2464'), ('A61M3500', 'A61M5142'), ('G09G500', 'H04W412'), ('G06F1206', 'G06F1208'), ('E05D100', 'G06F116'), ('G06F1724', 'G06F954'), ('A61B700', 'A61M5172'), ('H01H1310', 'H01H13705'), ('G06F1310', 'G06K714'), ('G06F120875', 'G06F1212'), ('G06F116', 'H01L310216'), ('G06F121009', 'G11C114091'), ('G06F301', 'H01L41257'), ('B60Q108', 'G06F3041'), ('G02F11333', 'H04N533'), ('G06F1132', 'G06F30488'), ('B41M104', 'C23C1404'), ('G06F120815', 'G06F1580'), ('G06F1136', 'H03M730'), ('G02B2709', 'G02B2709'), ('G06F1134', 'G06F1324'), ('F02D4126', 'G05B1502'), ('G06F1310', 'G06F13364'), ('F16B100', 'G06F3039'), ('G06F1900', 'H04N1302'), ('G06F1724', 'G06N300'), ('A63F1398', 'G06F301'), ('G06F116', 'H02P304'), ('G06F2162', 'G06T120'), ('A63F13332', 'G06T1520'), ('G06K962', 'G10L1525'), ('G06F1730', 'G06F952'), ('F16B1100', 'F16M1110'), ('G06F306', 'G11C11417'), ('G06F2142', 'H04W1208'), ('G09G526', 'H04M102'), ('G06F2132', 'H01L2331'), ('G07F710', 'H04W400'), ('B41J2938', 'G06F30481'), ('G02B1708', 'H04N533'), ('G06F1116', 'G06F944'), ('G06F2134', 'G10L19018'), ('G06F2152', 'G06F2157'), ('G06F104', 'G06F930'), ('B62J110', 'G06F116'), ('G06F1336', 'G06K708'), ('G06F106', 'H02M307'), ('G09G334', 'H04N21438'), ('G06F2110', 'G06F300'), ('G06F120871', 'G06F1320'), ('B60Q310', 'G06F1900'), ('G06F2188', 'H02J5010'), ('G06F114', 'G06T120'), ('G06F121036', 'G06F930'), ('G06F1310', 'G06F2185'), ('B29C3512', 'B29C7324'), ('G01D5241', 'G06F3044'), ('G06F1721', 'G10L1522'), ('G06F506', 'G06F514'), ('H01R3397', 'H05K502'), ('G06F120806', 'G06F306'), ('G11C11408', 'G11C2952'), ('G06F30346', 'H04Q900'), ('G06F1130', 'G11C1610'), ('G06F1722', 'G06F30486'), ('H04R2700', 'H05B3702'), ('G06F1110', 'G11C712'), ('G06F132', 'G06F1322'), ('G06F30482', 'H04B13827'), ('G06F120804', 'G06F120871'), ('G06F2157', 'H04W1206'), ('B25J1308', 'G06F1722'), ('G06F30482', 'H04N931'), ('A63F1322', 'G06F30488'), ('G06F2132', 'H01L2156'), ('G06F2144', 'G06F950'), ('G06F3023', 'G06F30481'), ('A61B3400', 'A61M500'), ('G06F120891', 'G06F121036'), ('G06F2162', 'H05K720'), ('G06F1340', 'H04L2912'), ('G06F2188', 'H04L2906'), ('G06F11263', 'G06F11273'), ('G06F3041', 'G09G314'), ('G06F2162', 'G07F710'), ('G05B19048', 'G06K710'), ('G06F2144', 'H03K3037'), ('G06F301', 'G06F944'), ('G06F116', 'G06F1900'), ('A41B108', 'G06F116'), ('F28F1900', 'H05K720'), ('A61K4736', 'A61L2716'), ('G06F3042', 'G06T700'), ('G02F11333', 'G09G33225'), ('G06F2100', 'G06F9455'), ('G06F2188', 'H04W1212'), ('A61B3400', 'G06T720'), ('G06F1730', 'G06F758'), ('G02B2701', 'G06F3045'), ('G06F306', 'G06K918'), ('G06F312', 'H04N1405'), ('C40B3002', 'G06F1914'), ('G06F30362', 'H01L5100'), ('G06F1214', 'G06F2152'), ('H01L310525', 'H01L3528'), ('G06F1722', 'H04W822'), ('G06F512', 'G06F938'), ('G06F2131', 'G06F3023'), ('A63F13428', 'G06T1506'), ('G06F1318', 'G06F9455'), ('G06F1338', 'G06F314'), ('G06F3038', 'H01H5064'), ('G06F1107', 'G06F120804'), ('G06F121009', 'G06F9455'), ('G06F1208', 'G06F1750'), ('H01H1386', 'H04M102'), ('A63F1355', 'G06F303'), ('G06F2160', 'G07F708'), ('G06F120815', 'G06F120875'), ('G10L1706', 'H04L2906'), ('G06F2142', 'H04W1202'), ('G06F1136', 'G06F2112'), ('G06F13372', 'G06F1342'), ('G06F112', 'G06F132'), ('G01S1953', 'G05D100'), ('G09G5373', 'H04N563'), ('G06F301', 'G06F3047'), ('G06F118', 'G09F1500'), ('G06F1716', 'G06F778'), ('G06F118', 'G06F301'), ('G06F1580', 'G06F930'), ('G06F126', 'H04N550'), ('G01S1308', 'G05D104'), ('B60N200', 'B60Q108'), ('G06F301', 'G08G10967'), ('A47B8100', 'B41J2525'), ('G06F1114', 'G06F1214'), ('G02B530', 'G03B1100'), ('G06F306', 'G06F945'), ('G06F3044', 'H01L3362'), ('F16B4700', 'F16M1122'), ('G06F2112', 'G06F2151'), ('G06F3023', 'G06K962'), ('G06F30488', 'G06K710'), ('G06F306', 'H04L12883'), ('G06F7485', 'G06F757'), ('A61L210', 'G09G314'), ('H03G700', 'H04N21485'), ('G06F121009', 'G06F12121'), ('G01S1508', 'G01S1942'), ('H04N19467', 'H04N2184'), ('G06F1722', 'G06F301'), ('G06F121018', 'G06F945'), ('A63F1324', 'G02B2700'), ('G06F116', 'H02K7116'), ('G06F306', 'G11C1632'), ('G06F302', 'H04W1208'), ('H03L7093', 'H04W8802'), ('G06F2150', 'G06F30481'), ('G06F1722', 'G06F306'), ('G06F3042', 'G06K932'), ('G06F1310', 'H01L4500'), ('G06F7491', 'H03M724'), ('G06F1340', 'H02M3158'), ('G06F1328', 'G06F1578'), ('G06F30485', 'G07C900'), ('G06F1130', 'G06F15173'), ('G11B2719', 'H04N19467'), ('G06F120893', 'G06F12109'), ('G06F1208', 'G06F1338'), ('G06F1107', 'H02H100'), ('G06F120802', 'G06F306'), ('G06F121009', 'G06F128'), ('G06F132', 'H04N550'), ('G06F2132', 'G06F3038'), ('G06F312', 'G06K900'), ('G06F126', 'H03K303'), ('G05B2302', 'G06F1107'), ('G06F116', 'G09B502'), ('G06F121027', 'G06F9455'), ('G06F108', 'G06F758'), ('G06F1210', 'G11C1300'), ('G06F306', 'G06F948'), ('A61M531', 'G02F11362'), ('F16B3506', 'F16B502'), ('G09F2104', 'G09F9302'), ('H04N19467', 'H04N216377'), ('H01H13704', 'H01H13705'), ('G04G504', 'G06F30488'), ('A61B50488', 'G06F303'), ('G06F126', 'H02M5458'), ('G06F1750', 'H03H300'), ('G06F3023', 'H03M1108'), ('G06F1202', 'G06F1580'), ('G06F2146', 'G06F30488'), ('G06F1582', 'G06F950'), ('G06F15163', 'G06F938'), ('G06F1107', 'G06F1730'), ('G06F1310', 'G06F1342'), ('A44C1500', 'G06Q2032'), ('G06F3041', 'H05K322'), ('G06F1120', 'G06F1340'), ('G06F30354', 'G06F30486'), ('G06F1214', 'G06F1928'), ('A45C1100', 'H04M118'), ('G06F945', 'G06F945'), ('G06F1722', 'G10L13027'), ('G06F1114', 'G06F2144'), ('G06F2162', 'H04M167'), ('E05B5100', 'G06F116'), ('G06Q2038', 'G09C500'), ('G06F1722', 'H04N21235'), ('G06F2162', 'G09G332'), ('G06F3044', 'G06F30483'), ('G06F2130', 'G06F312'), ('G06F1316', 'G06F1336'), ('G06F30354', 'H01H1320'), ('G06F3023', 'G09G320'), ('G06F108', 'G11C1928'), ('C11D1100', 'G06F1750'), ('G06F132', 'H03K303'), ('G06F2186', 'H04W1208'), ('G06F3041', 'G09B502'), ('G06F944', 'H01R13713'), ('G06F112', 'G06F128'), ('G06F3046', 'H01F2728'), ('G06F120895', 'G06F121027'), ('G06F2151', 'G06F2162'), ('G06F121009', 'G11C114096'), ('G01B714', 'G06F316'), ('G02B632', 'G06F116'), ('B66B300', 'G06F1727'), ('G06F1730', 'G11C1630'), ('G06F120811', 'G06F120831'), ('G06F1340', 'H03K3356'), ('F16B4700', 'F16M1110'), ('G06F120875', 'G06F120891'), ('G10L2551', 'H03G330'), ('A61B500', 'G06F1136'), ('G06F2179', 'G06F938'), ('G06F132', 'H02M5458'), ('G06F1727', 'G10L2533'), ('C09K1946', 'G09G336'), ('G06F1214', 'G07C900'), ('G06F500', 'H04L2908'), ('G06F1214', 'G06F2179'), ('G06F1134', 'G06F312'), ('G06F30482', 'G06K920'), ('G06F1202', 'G06F124'), ('G06F938', 'G06T300'), ('G06F120875', 'G06F12109'), ('G06F30482', 'G09G300'), ('G06F945', 'G06F948'), ('G06F12109', 'G06F9455'), ('G06F946', 'G06F952'), ('A61G1708', 'G06F314'), ('G06F2187', 'H04L932'), ('G06F301', 'H01L41277'), ('G06F1340', 'H03M1311'), ('B41J2525', 'G06F116'), ('B41M104', 'C23C1456'), ('G06F1336', 'G06F930'), ('G06F110', 'G06F126'), ('G06F1728', 'G06K934'), ('G06F1134', 'G06F9455'), ('H04M1675', 'H04M1725'), ('G06F1202', 'H03M1313'), ('A61F5058', 'G05B194099'), ('G06F2155', 'G08B1324'), ('G06F301', 'G06F301'), ('B41M118', 'C23C1402'), ('G06F2110', 'G06F30484'), ('G06F306', 'G11B7245'), ('G06F316', 'G06T1120'), ('G06F128', 'G11C1610'), ('G08G500', 'G09G538'), ('G06F1342', 'G06F948'), ('G06F3042', 'G06F3046'), ('G01S1758', 'G06F301'), ('G06F13364', 'G11C2952'), ('A61B5024', 'G06F1750'), ('G06F7483', 'G06F758'), ('G06F1322', 'G06F1324'), ('G06F30362', 'G10L1526'), ('G06F9445', 'H04W7204'), ('G06F3023', 'H04N21482'), ('G06F1728', 'G10L1724'), ('G06F1340', 'G11C1624'), ('G11C1714', 'H01L25065'), ('A63F1335', 'G06T1520'), ('G06F2152', 'G06F2179'), ('G06F1721', 'G06F30486'), ('G06F1722', 'G06Q2034'), ('G06F303', 'G06F30486'), ('G06F121018', 'G06F12123'), ('G06F120815', 'G06F120891'), ('G06F116', 'H01R1350'), ('G06F3046', 'H01Q700'), ('H04N21235', 'H04N5765'), ('H04N218358', 'H04N218547'), ('A63F1355', 'G06F301'), ('G06F30481', 'G06F945'), ('G02B2701', 'G06F2162'), ('A61J702', 'G06Q1004'), ('G06F1310', 'G06F2186'), ('G06F944', 'G06Q2020'), ('G06K1907', 'G07F708'), ('G06F13362', 'G06F1340'), ('G06F506', 'G11C710'), ('B32B1508', 'C25D1102'), ('B60W5016', 'G06F316'), ('G06F30481', 'G09B2900'), ('A61M128', 'B01D6132'), ('G06F30482', 'G06F950'), ('G06F1122', 'H04L12707'), ('G06F120893', 'G06F306'), ('A61L210', 'G06F3044'), ('G06F1310', 'G06F2175'), ('B60R2532', 'H04N5225'), ('G06F2162', 'G06T100'), ('G06F1114', 'G06F1132'), ('A41D300', 'G06F314'), ('G06F2157', 'H04W1210'), ('G06F30483', 'G11B1522'), ('G06F930', 'G11C2952'), ('H01L27118', 'H03K19177'), ('G02F11333', 'G06F303'), ('G06F2162', 'H04M700'), ('G01K742', 'G06F120'), ('G06F948', 'G06K1500'), ('G06Q3004', 'H04L908'), ('G06F116', 'G08B600'), ('G06F314', 'H04N214728'), ('G06F110', 'H03K303'), ('G06F932', 'G06F9455'), ('A42B330', 'G06F316'), ('A63B6912', 'G06F30481'), ('G06F1107', 'G06F132'), ('G06F1130', 'G06F1580'), ('G06F1750', 'H03K51536'), ('B29C3512', 'G06F3044'), ('G06F120811', 'G06F12128'), ('B32B1520', 'G06F3044'), ('G06F120871', 'G06F120875'), ('G06F1326', 'G06F1340'), ('G06F1324', 'G06F938'), ('G06F301', 'G06T780'), ('G06F1340', 'G06F9455'), ('G06F1928', 'G06T1120'), ('G06F120868', 'G06F12128'), ('F02D4100', 'G06F948'), ('G06F2134', 'H04W1208'), ('G06K1906', 'H04L906'), ('G06F1116', 'G11C114093'), ('H04M1675', 'H04M342'), ('G06F112', 'G06F930'), ('G06F3038', 'G06F3046'), ('G06F1122', 'G06F132'), ('G06F1310', 'G06F948'), ('G06F1208', 'G06F944'), ('G06F1727', 'H04W414'), ('A63F1331', 'G06T1340'), ('G06F2110', 'H04N21222'), ('H04N21266', 'H04N21443'), ('A42B304', 'G06F314'), ('G06F1724', 'G06F30489'), ('G11C11417', 'G11C710'), ('G06F2188', 'H02J5080'), ('E21B3313', 'G06F30484'), ('G06F120813', 'G06F9455'), ('G06F1750', 'G06F954'), ('G06F1120', 'G06F944'), ('G06F121009', 'G06F1322'), ('G06F300', 'G06Q2020'), ('G06F3042', 'G06F30483'), ('G06F112', 'G06F1316'), ('G06F2164', 'H04N218547'), ('G06F948', 'G06F952'), ('G06F1727', 'G06F950'), ('G06F30346', 'G09G508'), ('G06F120875', 'G06F306'), ('G06F1316', 'G06F1337'), ('G06F2157', 'H04W400'), ('B41M118', 'H05K102'), ('E05D318', 'F16M1120'), ('G06F132', 'H02M704'), ('G06F2185', 'H04L908'), ('G06F1136', 'G06F938'), ('G06F302', 'G06K714'), ('F21V800', 'G06F303'), ('G06F3044', 'G09G33208'), ('G06F1134', 'G06F950'), ('G06F1324', 'G06F1340'), ('G06F3045', 'H01L2732'), ('G06F30483', 'G06T120'), ('G06F1134', 'G06F30484'), ('G06F3041', 'H01F2728'), ('G06F2162', 'G10L1526'), ('G06F1722', 'G09G5373'), ('G06F3041', 'H01L3332'), ('B01J1900', 'G06F306'), ('G06F3038', 'H01H5036'), ('G06F121009', 'G06F121027'), ('H04M12755', 'H04M1725'), ('C09K1946', 'G02F11345'), ('G06F2144', 'G06F2152'), ('G06F306', 'G06F506'), ('G06F120864', 'G06F1214'), ('H01L23427', 'H01L310525'), ('A61B800', 'G06T1920'), ('G06F306', 'G11C818'), ('G06F120802', 'H04L906'), ('G06F1340', 'H01R4326'), ('G01S1308', 'G01S1953'), ('G06F121027', 'G06F946'), ('G06F2160', 'G06K946'), ('G01S1953', 'G06T700'), ('G06F301', 'H04W824'), ('G06F1310', 'H02P304'), ('G06F30481', 'G10L1308'), ('A61B51455', 'A61G1200'), ('G06F1116', 'G11C114076'), ('G06F1342', 'G06Q2010'), ('G06F120897', 'G11B2012'), ('G06F120891', 'G06F938'), ('G01D5353', 'G06F3042'), ('G06F2174', 'G06F2186'), ('G11C1626', 'G11C2936'), ('G06F121027', 'G06F1322'), ('G06F30489', 'G10L1526'), ('G06F1342', 'H05K503'), ('G06F2130', 'G06F2154'), ('G06F2110', 'H04N21266'), ('F21V800', 'G06F3047'), ('G06F2134', 'G06F2171'), ('G05B19042', 'G06F1312'), ('G06F120815', 'G06F306'), ('B60K3500', 'G02F1163'), ('B41J2315', 'G06F312'), ('G06F108', 'G06F1324'), ('G06F1208', 'H03M1315'), ('G01S1308', 'H04N5225'), ('G06F302', 'H03M1108'), ('G06F1107', 'G06F954'), ('G06F302', 'G06F30485'), ('G06F7501', 'H03M730'), ('H04N218547', 'H04N5272'), ('A63F1320', 'G06F301'), ('B60R16023', 'G06F3039'), ('C23C1408', 'H05K304'), ('G06F2156', 'G06F2164'), ('G06F12109', 'G06F1316'), ('G11C1610', 'H03M1329'), ('G05G110', 'G06F30354'), ('G06F30482', 'G06Q2030'), ('G06F1212', 'G06F944'), ('G06F120837', 'G06F12128'), ('A44C1500', 'G06F3044'), ('G06F1340', 'H04N214408'), ('G06F2157', 'G06F2178'), ('G06F30354', 'G06K712'), ('G06F1100', 'G06F1130'), ('H04N218358', 'H04N718'), ('G06F3038', 'G06F30483'), ('B60K3700', 'G06F3041'), ('G06F2183', 'G06F302'), ('G06F1711', 'G06F1730'), ('G01N3500', 'G06Q1010'), ('G06F302', 'G09G526'), ('G06F3041', 'H01Q700'), ('G06F120804', 'G06F120895'), ('G06F1727', 'G06F946'), ('G06F2136', 'G06F2157'), ('A63F13218', 'G06F3041'), ('G06F120', 'H01L2338'), ('G04G2100', 'G10L1526'), ('A61J702', 'G07F1154'), ('A63B7106', 'G06F314'), ('G06F120897', 'G06F306'), ('G06F2132', 'G06F30354'), ('G06K900', 'H04N216334'), ('G06F128', 'H03K708'), ('G06F120862', 'G06F930'), ('G06F30487', 'G10L1526'), ('C23C1802', 'G06F3041'), ('G06F1328', 'G06F1338'), ('G05D104', 'G06T700'), ('G06F2145', 'H04M1725'), ('G06F1134', 'G06F946'), ('G05B19048', 'G06F316'), ('G06F1342', 'G06F506'), ('G06F1342', 'G11C818'), ('G06F1340', 'G06F950'), ('G06F1342', 'G06F1517'), ('G06F3041', 'H05K318'), ('G04G2100', 'G06F30488'), ('G06F1202', 'G06N9900'), ('G06F120', 'H01R136582'), ('G11C2936', 'G11C2952'), ('G06F2173', 'G06F9445'), ('G06K1906', 'G07F708'), ('G06F120862', 'G06F1214'), ('G06F132', 'G06F302'), ('G06F1900', 'G06T160'), ('G06F1721', 'G06Q2034'), ('G06F1324', 'G06F1328'), ('G06K1906', 'G06K1906'), ('G06F120', 'H01L3534'), ('A63F1326', 'G06F30488'), ('A61B4610', 'G06F116'), ('G06F106', 'H03K708'), ('B60K3706', 'G06F30354'), ('A23F526', 'A47J3152'), ('G06F120871', 'G06F120891'), ('G06F2132', 'H01L23538'), ('G06F1730', 'G06Q2024'), ('G06F3041', 'G09G33291'), ('A61B5024', 'G06F30484'), ('G06F30485', 'H01H1385'), ('G06F1326', 'G06F944'), ('G06F120813', 'G06F120842'), ('G06F13372', 'G06F506'), ('G06F1342', 'H04B1040'), ('H04N21835', 'H04N7167'), ('A44C900', 'A61B50205'), ('G06F302', 'G06F30338'), ('G06F306', 'H04W1206'), ('G06F1714', 'G06F1716'), ('G06F1202', 'G06F948'), ('G06F1136', 'G06F120837'), ('G06F116', 'H01L3116'), ('G06F1316', 'G11C2952'), ('G06F1310', 'G06Q2010'), ('G06F128', 'G06F1580'), ('G06F316', 'G09G5377'), ('G06F3044', 'H02J735'), ('G06F30484', 'G06F945'), ('G06F301', 'H04R312'), ('G06F1328', 'G06F9455'), ('A61L210', 'G06F30481'), ('G06F9445', 'H04W422'), ('G06F316', 'G06K710'), ('G06F944', 'H04W422'), ('G06F2157', 'G06F30484'), ('G01D534', 'G06F303'), ('G06F1206', 'G11C1616'), ('G06F30488', 'G08B600'), ('G06F1120', 'G06F126'), ('G06F1120', 'G11C1156'), ('G06N504', 'G10L2563'), ('H01H5036', 'H01H5044'), ('G06F2164', 'H04N718'), ('G06F120804', 'G06F1214'), ('G06F1340', 'G06F3041'), ('A61Q1300', 'C11D1100'), ('G06F2144', 'G06F2153'), ('G06F12123', 'G06F12128'), ('E05B1300', 'E05B6500'), ('G06F303', 'G06K712'), ('G06F30362', 'G06F3044'), ('G06F118', 'H05K102'), ('G06F2162', 'H05K506'), ('H04L12911', 'H04N21426'), ('G06F112', 'G06F1718'), ('A45C1300', 'G06F126'), ('G06F30346', 'G06N308'), ('G06F130', 'H04N21443'), ('G06F1214', 'G06F1924'), ('G02F11335', 'G06F316'), ('G06F1324', 'G06F944'), ('G06F1320', 'G06Q2006'), ('G06F1724', 'G06F3023'), ('G06F118', 'H04L2908'), ('G06F1722', 'G06K1906'), ('G06F506', 'G06F938'), ('G11C114096', 'G11C2952'), ('A63F1328', 'G06F301'), ('A63F13213', 'G06F30484'), ('G06F116', 'G06F1338'), ('G06F126', 'H04L1258'), ('G06F2136', 'G06F30489'), ('G09G33291', 'H01L2732'), ('G06F306', 'G11B2730'), ('A63B2400', 'G06F316'), ('G06F30484', 'G06F948'), ('G06F1316', 'G11C1610'), ('G06F116', 'H04B726'), ('A63F132145', 'A63F13218'), ('G06F2174', 'H04L932'), ('G06F1730', 'G06F2116'), ('G11B2702', 'H04N5272'), ('G06F1750', 'G06T120'), ('G06F30488', 'H04M1247'), ('H01L2338', 'H01L3528'), ('A61Q1910', 'C11D1100'), ('G06F104', 'G06F12084'), ('G06F1725', 'G06F1727'), ('G06F1322', 'G06F1326'), ('G06F1114', 'G06F945'), ('G06F301', 'G06T1506'), ('G06F116', 'G06F1340'), ('G06F1342', 'H04B1027'), ('G06F1114', 'H04L914'), ('G06F2145', 'G06N9900'), ('A61M531', 'G02F11368'), ('G06F2145', 'H04L914'), ('G06F1110', 'H04L930'), ('G06F314', 'G06Q2016'), ('G06F1342', 'H04W1206'), ('G02B114', 'G06F314'), ('G06F1122', 'G06F1316'), ('G06F120817', 'G06F120842'), ('G06F1336', 'H04L908'), ('G06F1116', 'G06F1730'), ('H04N212343', 'H04N5272'), ('G09F930', 'H04M102'), ('G06F2110', 'G06F9445'), ('G06F120811', 'G11C1716'), ('G02F11333', 'G11C1928'), ('G06T360', 'H04L2906'), ('G06F2154', 'H04W1206'), ('G09G5373', 'H04N21438'), ('B64D4300', 'G06F30362'), ('G06F120811', 'G11C710'), ('G06F1206', 'G06N700'), ('G06F116', 'G06F116'), ('A41D300', 'A61B500'), ('G06F30482', 'H04R2900'), ('G06F316', 'H04W822'), ('G02F11343', 'H02J735'), ('H01P3127', 'H02J5010'), ('G06F120', 'H04M102'), ('G06F30482', 'H04N216547'), ('G06F3038', 'H04N715'), ('B32B2720', 'G06F3044'), ('G06F2144', 'G06F30488'), ('G06F316', 'H04M157'), ('B64D4300', 'G06F30482'), ('B32B1706', 'B32B514'), ('G11C11417', 'G11C704'), ('G06F106', 'G09G320'), ('G06F1212', 'H04L932'), ('G06F1114', 'G06F948'), ('G06F1210', 'G11C1716'), ('G06N9900', 'G10L15187'), ('G06F938', 'H03M730'), ('G06F1324', 'G11C11406'), ('G06F1342', 'G06F316'), ('G06F1928', 'G06K710'), ('G06F2131', 'G06F30481'), ('E05B6320', 'E05C904'), ('G06F306', 'H04L12861'), ('G02B635', 'G06F3042'), ('C23F132', 'H05K306'), ('G06F1928', 'H03K19177'), ('G06K900', 'G11B2719'), ('G06F2136', 'G06T300'), ('G06T1520', 'H04W402'), ('G06F2160', 'G07F710'), ('G06F121036', 'G06F12123'), ('A63F1340', 'G06F300'), ('G01S1308', 'G06F1750'), ('G06F120862', 'G06F1580'), ('A63F1326', 'G06F314'), ('G06F2144', 'G06F2173'), ('G06F316', 'H04W404'), ('H04N216334', 'H04N218547'), ('G06F30484', 'G06F720'), ('G06F724', 'G06F930'), ('G06K1906', 'H04N1946'), ('G06F1208', 'H04R1904'), ('G06F30354', 'H02J5012'), ('G06K1502', 'H04W1202'), ('H04L912', 'H04N214408'), ('G06F316', 'G09F1500'), ('A61B3103', 'G06F301'), ('G06F1316', 'G06F1320'), ('G06F1107', 'G06T120'), ('G06F132', 'G06F132'), ('G06F120871', 'G06F306'), ('G06F944', 'G07C508'), ('G06F1120', 'H01L25065'), ('G06F1214', 'G11C1714'), ('G06F1130', 'H03K504'), ('G06F114', 'G09G512'), ('G06F1130', 'G06F948'), ('G01V9900', 'G06T1720'), ('G06F120808', 'G06F12084'), ('G06F1721', 'H04L2912'), ('G06F120891', 'G06F12109'), ('G06F1727', 'G06F30489'), ('G06F2131', 'G06K714'), ('G06F3042', 'G06T760'), ('G06F306', 'H04N21426'), ('G06F954', 'G06Q1010'), ('G01R1925', 'G06F1750'), ('G06F30488', 'G10L1502'), ('G06F120842', 'G06F946'), ('A45F500', 'H04M118'), ('G06F1336', 'G06Q2020'), ('G06F312', 'H04W7604'), ('H01H1386', 'H04M105'), ('G06F1134', 'G06N504'), ('G06F12084', 'G06F126'), ('G06F1730', 'G11C502'), ('B60W3012', 'G06F1100'), ('G06F15173', 'G06F1580'), ('G06F1310', 'H04W1206'), ('G06F1202', 'H04L900'), ('G06F301', 'H04W420'), ('G06F2186', 'G07C900'), ('G04B304', 'G10L1526'), ('H04N216377', 'H04N218547'), ('G06F1110', 'G06F120842'), ('G06F1721', 'G09G5391'), ('G11C11406', 'H03M1300'), ('G06F128', 'G06F1342'), ('G06F301', 'H04N564'), ('G06F121045', 'G06F12123'), ('G02B530', 'G03B1754'), ('G06F1710', 'G06F772'), ('H04L12911', 'H04N214335'), ('G06F2136', 'G06F2142'), ('G06F1722', 'G06F312'), ('G04B304', 'G06F30488'), ('G06F3045', 'H04M123'), ('G06F1208', 'G06F9445'), ('G06F121009', 'G06F1336'), ('G06F1114', 'G06F120815'), ('G06F1120', 'G11C1616'), ('G06F2110', 'G06F2153'), ('B41M104', 'H05K304'), ('G06F1324', 'H04L932'), ('H04N218358', 'H04N5765'), ('G06F1107', 'G06F13364'), ('G06F314', 'H04B500'), ('G06F1722', 'G06F9455'), ('G06F3048', 'G06F30488'), ('H01L218234', 'H04L908'), ('B64C3902', 'G06F1750'), ('H03G330', 'H04R312'), ('G06F30338', 'G06F30484'), ('G06F1310', 'G06F316'), ('G02B2702', 'G03B2156'), ('B41M118', 'G06F3041'), ('G06F1900', 'G06F2136'), ('A63F1392', 'G06F1114'), ('G06F108', 'G06F128'), ('A63B2400', 'G05B1942'), ('G06F116', 'H01L23538'), ('G06F2160', 'H04N216334'), ('G06F1922', 'H01L23528'), ('G06F120811', 'G06F120817'), ('F21V2304', 'H04R2700'), ('G06T1380', 'G10H136'), ('G06F1122', 'G06F2157'), ('F16B100', 'G06F30354'), ('G06F120891', 'G06F121009'), ('G06F120866', 'G11B2010'), ('G06F30362', 'G06F3038'), ('B43K100', 'B43K2900'), ('G06F121072', 'G06F1316'), ('G06F1202', 'G06F708'), ('G03F720', 'G06N700'), ('G06F3045', 'G06F30488'), ('A61B50205', 'G06F30346'), ('G06K932', 'G08G10967'), ('G06F1132', 'G06F1342'), ('G06F13366', 'G06F1711'), ('G06F1107', 'G06F1132'), ('A61L2754', 'A61M520'), ('G06F30354', 'H01Q122'), ('G06F2154', 'G06T160'), ('G06F2175', 'H03L708'), ('G06F2155', 'H04W402'), ('G04B1928', 'G06F30362'), ('G01L500', 'G06F116'), ('G06F118', 'G06F128'), ('G07F1162', 'G07F1700'), ('H01L5156', 'H04N533'), ('G06F120891', 'G06F121045'), ('G06F2144', 'G06F314'), ('G06F1208', 'G11C11408'), ('G06F2133', 'G06F2160'), ('G06F3041', 'H01L25075'), ('G06F2112', 'H04W1206'), ('B43K2406', 'G06F3038'), ('G05B19048', 'H04W400'), ('F24F1100', 'F25B1300'), ('G06F1110', 'G06F1316'), ('B62M2508', 'G06F303'), ('G06F506', 'G11C722'), ('G05F308', 'G06F116'), ('G06F120871', 'G06F120873'), ('H04M356', 'H04M358'), ('G06F1208', 'G06N700'), ('A61B5145', 'G06F314'), ('G06F1342', 'G06Q2006'), ('G06F3044', 'H01L41113'), ('A63F13533', 'G06F30482'), ('B32B1502', 'G06F3044'), ('G06F1136', 'G06F952'), ('G06K946', 'H04N144'), ('G06F110', 'G06F132'), ('G06F1328', 'G06F946'), ('G06F3044', 'H04W7204'), ('G06F30362', 'G06F30481'), ('G06F303', 'G06K1906'), ('G06F120831', 'G06F120846'), ('A63F1320', 'G06T700'), ('G06F501', 'G06T160'), ('G06F1714', 'G06F1750'), ('G06F2110', 'G10L19018'), ('G06F301', 'H05B3308'), ('G06F2164', 'G06F9445'), ('G06F121009', 'G06F12122'), ('A61B804', 'A61M500'), ('G06F30481', 'H04N21232'), ('G06F316', 'H04L1240'), ('E05D304', 'G06F116'), ('H01R1366', 'H04R300'), ('G06F3041', 'G06F944'), ('A63F13218', 'A63F1325'), ('H01F702', 'H02J5010'), ('G06F128', 'H02J702'), ('G06F116', 'H04W5202'), ('G06F1320', 'G06F30354'), ('A61B804', 'G06T720'), ('G06F301', 'H01H5036'), ('G06F112', 'G06F114'), ('A61L210', 'G06F30354'), ('G06F120862', 'G06F120884'), ('G06F1107', 'G06F1126'), ('G06F124', 'G06F938'), ('G06F1730', 'G06F2154'), ('G01J142', 'G06F30482'), ('G06F944', 'H04W418'), ('E05D100', 'G06F118'), ('E05D1100', 'G06F118'), ('G06F3044', 'H04M123'), ('H04N21443', 'H04N7167'), ('G06F930', 'G06F932'), ('A63B6912', 'G06F301'), ('G06F316', 'G06T340'), ('G06F108', 'G06F950'), ('G06F1202', 'G06F1716'), ('A63F13818', 'G06F1730'), ('G06F1342', 'G06F1750'), ('G06F306', 'H04B138'), ('G06K1907', 'G07F710'), ('G06F301', 'G06F9455'), ('G06F302', 'G09B1908'), ('G10K11175', 'H04R2700'), ('G06F3044', 'H01L3342'), ('G06F120862', 'G06F1342'), ('G06F3033', 'G06F30354'), ('G06F1122', 'G06F1126'), ('G06K946', 'G06T770'), ('G09C500', 'H04B500'), ('B29C6502', 'G06F3041'), ('G01N3300', 'G06F3044'), ('A63G3116', 'G06F301'), ('G06F2155', 'G06N700'), ('G06F306', 'H04N214335'), ('G06F1730', 'G06F946'), ('G06F30354', 'H01H5036'), ('G06F118', 'H01R1366'), ('G01S1308', 'G01S1942'), ('G06F2175', 'G06F2186'), ('G06F2174', 'G06F2184'), ('G02B2728', 'G03B1100'), ('G06F944', 'G06T160'), ('G06F1340', 'G06F9445'), ('G06F1342', 'G06F938'), ('G06F1316', 'G06F1580'), ('A61B501', 'G06F3041'), ('H04N21442', 'H04N7167'), ('G06F3023', 'G06F316'), ('G06F30362', 'G09G514'), ('G02B1900', 'H04N1302'), ('G10L19018', 'G10L2521'), ('H04W800', 'H04W812'), ('G06F3044', 'H03K17955'), ('G06F2154', 'G06F2162'), ('B43K2918', 'G06F30354'), ('G06F1338', 'G06F948'), ('A61B500', 'G06F30346'), ('G06F128', 'G06F948'), ('G01C2126', 'G06F1340'), ('G06F2114', 'G06F2187'), ('G06F120862', 'G06F120893'), ('G11B2722', 'H04N21435'), ('G06F2179', 'H04L906'), ('B60K3702', 'G06F3147'), ('G06Q1002', 'G10L1522'), ('A61B603', 'G06F1711'), ('H04N216377', 'H04N718'), ('G06F3038', 'G06F30489'), ('G06F1918', 'G06T1120'), ('G06F3048', 'G06F314'), ('G06F948', 'G06K1502'), ('G06F300', 'G06F3038'), ('G06F120811', 'G06F120897'), ('G11B2018', 'H03M1335'), ('G06F1578', 'G06F506'), ('G06F1316', 'G11C704'), ('G06F120884', 'G06F120897'), ('G06F116', 'G06Q2016'), ('G06F30354', 'G06Q3006'), ('G06F132', 'G06F30346'), ('G06F312', 'G06K710'), ('G06F944', 'G06K714'), ('H04N104', 'H04W400'), ('G06F132', 'G06F930'), ('B41M104', 'C23C1408'), ('G06F2160', 'H04N21434'), ('B01L300', 'G06F1750'), ('G06F1210', 'G06F938'), ('A41D100', 'G06F314'), ('G06F108', 'G06F1316'), ('A61J116', 'G06F1900'), ('G06F30482', 'G09G508'), ('G06N9900', 'G10L2563'), ('G11C2952', 'G11C722'), ('G06F1730', 'G10L1304'), ('G06F2110', 'H04L1258'), ('G06F1120', 'G11C2904'), ('G06F1130', 'G06F1517'), ('G06F944', 'G06K962'), ('A61B50432', 'G06F1900'), ('G06F118', 'G06F3041'), ('G06F1214', 'G06K1914'), ('G06F30346', 'G06T1120'), ('B32B3718', 'G06F3041'), ('G06F316', 'G09G5373'), ('H01L3116', 'H01L3344'), ('G06F1214', 'G06F938'), ('G06F303', 'H05B3308'), ('G06F7499', 'G06F930'), ('G06F3147', 'H05K102'), ('G06F3038', 'G06F30482'), ('G06F120804', 'G06F120893'), ('G06F13364', 'G06F948'), ('G06F13372', 'G06F1340'), ('G06F1210', 'G11C1626'), ('G06F2188', 'H02J5090'), ('G06F1202', 'H04L1226'), ('B60Q310', 'G05D100'), ('G06F2160', 'G06Q2020'), ('G06F1580', 'G06F1716'), ('G06F1324', 'G06F1578'), ('G06F116', 'G06F2183'), ('G06F1721', 'G06F312'), ('G06F1338', 'H03M112'), ('G06F3047', 'G09G33241'), ('G06F306', 'G11C1612'), ('G06F30488', 'G09G302'), ('G06F2133', 'H04L930'), ('G06F930', 'G06F945'), ('G02F1163', 'G06F30362'), ('G06F30485', 'H04N2183'), ('G06F112', 'G06F514'), ('G06F1342', 'G06Q2038'), ('G06K962', 'G10L2563'), ('G06F2157', 'G06F30487'), ('G06F120811', 'G06F120875'), ('F16B3506', 'G06F120'), ('A63F13211', 'A63F1395'), ('G06N700', 'G06Q2004'), ('G01L1900', 'H04B500'), ('A61B500', 'G06F1711'), ('G06F120', 'H01R1350'), ('G06F120806', 'G06F126'), ('B62M2508', 'G06F301'), ('G06F130', 'G06F1328'), ('A47B8100', 'G06F116'), ('G06F2110', 'H04N21858'), ('G06F946', 'G06F950'), ('G06F120862', 'G06N9900'), ('G06F1116', 'G06F1134'), ('A63F13655', 'A63F1367'), ('G06F116', 'H01L4308'), ('A63F13218', 'G06F30488'), ('G06F1926', 'G06F30484'), ('G06F30346', 'G09G526'), ('G06F1208', 'G06F120811'), ('G07G101', 'H05K500'), ('B41J221', 'G03G1501'), ('G06F2152', 'G06F2162'), ('G06F2152', 'G06F938'), ('G06F1122', 'G06F1127'), ('G01S1942', 'G01S1953'), ('F24C708', 'G06F301'), ('G06F2160', 'G06F30488'), ('G06F316', 'H04L2912'), ('C23C1456', 'H05K304'), ('G06F1120', 'G06F120811'), ('G06F7535', 'G06F7552'), ('G06F120804', 'G06F120808'), ('G06F314', 'G08B536'), ('G06F130', 'H04N21438'), ('B32B1504', 'G06F3042'), ('B29C4517', 'G06F30484'), ('H01L23538', 'H01L3344'), ('G06F30484', 'H04M1247'), ('G06F106', 'G06F306'), ('G06F116', 'H01R2702'), ('F16B502', 'G06F120'), ('G06F2164', 'H04N2184'), ('G01D400', 'G06F9445'), ('G06F120862', 'G06F948'), ('A44C520', 'G06F116'), ('G06F306', 'G06F944'), ('G06F3147', 'G06Q3000'), ('G06F1310', 'G06F1340'), ('G06T100', 'H04L1226'), ('G06F30362', 'G06F3042'), ('G06F1924', 'G06F1928'), ('H01L2329', 'H01L3116'), ('G06F1342', 'H04W8802'), ('G06F1100', 'G06F1120'), ('G06F15177', 'G06F2157'), ('A61B5024', 'A61B812'), ('G06F1721', 'G06Q1002'), ('G06F1132', 'G06F306'), ('G06F2181', 'G06F2185'), ('G06F110', 'G06F930'), ('G06F130', 'G06F944'), ('G06F9445', 'H04W818'), ('H04L12855', 'H04L12923'), ('A63F1387', 'G06F316'), ('A63B2400', 'G06F30484'), ('G06F1342', 'G06F30354'), ('G06F1727', 'G10L1724'), ('G06F126', 'G06F13364'), ('H01L23427', 'H01L3528'), ('G06F2164', 'H04N216377'), ('G01K1300', 'G06F3147'), ('G06F13364', 'G06F306'), ('G06F944', 'G10L1522'), ('G06F118', 'G06F126'), ('G06K1906', 'G07F710'), ('A61B50402', 'G06F301'), ('G08B600', 'H04W420'), ('G06F1900', 'G11B2702'), ('G06F1212', 'G06F1730'), ('G06F120802', 'G06F121027'), ('G06F2130', 'G06F2155'), ('G06F1340', 'G06F30488'), ('G06F30346', 'H04N714'), ('G06F2135', 'G06F2157'), ('G01K1300', 'G06T1700'), ('G06F2134', 'H04L1224'), ('G06F120804', 'G06F948'), ('G06F3042', 'H04M102'), ('G06F121009', 'G11C2952'), ('G06F30488', 'G06Q2042'), ('H04N121', 'H04N216377'), ('G02F11339', 'G06F3044'), ('G06F1721', 'G07C500'), ('G06F1338', 'H04N144'), ('G06F1328', 'G06F9445'), ('G06F3038', 'H04W7204'), ('G06F2140', 'G06F2145'), ('G06F116', 'H01H1388'), ('G06F30486', 'G06F9445'), ('G06F2162', 'G09G320'), ('G06F950', 'G06F950'), ('G06F1134', 'H04L1258'), ('B25J1308', 'G06F1724'), ('G06F1728', 'G08G10967'), ('G06F1721', 'H04N5272'), ('G06F1210', 'G06F1328'), ('G06F132', 'G06F13364'), ('G06F1328', 'G06F13372'), ('G06F2146', 'H04L914'), ('G06F2132', 'H01L2148'), ('G06F3045', 'G06F3147'), ('G11C1616', 'G11C2936'), ('G06F316', 'G10L1902'), ('G06F950', 'H04L12927'), ('A63F13213', 'G09G502'), ('A63F13537', 'G06F301'), ('G01C2136', 'G06K932'), ('G06F1342', 'G06F944'), ('G08B1324', 'H05K714'), ('G11B2702', 'H04N212343'), ('G06F1122', 'G06F1202'), ('G06F120817', 'G06F120871'), ('B60K3500', 'B60W5012'), ('G06F1110', 'G06F1210'), ('H04N21443', 'H04N218358'), ('G06F1214', 'G06F1328'), ('A63F1355', 'G06F3041'), ('H04L1264', 'H04L2908'), ('G06F2136', 'G06F3044'), ('G06F303', 'G06K946'), ('A61B500', 'G06F30485'), ('G07F710', 'H04W7602'), ('G06F952', 'G06F954'), ('G06F2171', 'G06K1906'), ('G05G503', 'G06F30338'), ('G06F1136', 'H04L2912'), ('G06F303', 'H01S542'), ('F25D2302', 'G06F2132'), ('G06F108', 'G06F1718'), ('G06F120804', 'G06F12084'), ('G06F120862', 'G06F12123'), ('F28D1500', 'F28F304'), ('G06F116', 'H01R1272'), ('G06F121009', 'G11C1610'), ('G06F30489', 'G09G526'), ('G06F1730', 'G06K700'), ('G06F2136', 'G06F3033'), ('B41M104', 'B41M118'), ('G06F1338', 'G06F506'), ('H04N214728', 'H04N214784'), ('G06F1730', 'H04M3533'), ('G06F1338', 'G06F1517'), ('G06F1324', 'G11C2904'), ('G06F301', 'H01H5044'), ('G06F120864', 'G06F120873'), ('G04G2100', 'G06F30485'), ('G06F2110', 'H04W1208'), ('G06F1712', 'G06T120'), ('E05D1106', 'E05D304'), ('G06F116', 'H04R314'), ('A61B5145', 'G06F1711'), ('G06F1310', 'G06F702'), ('G06F1728', 'G10L21034'), ('G06F132', 'H03M900'), ('G06F112', 'G06F3044'), ('A61B3113', 'G06K903'), ('G06F116', 'G06F9445'), ('A63F1326', 'G06F30485'), ('G06F120811', 'G06F12109'), ('G01C2120', 'G01S1950'), ('G10L1500', 'G10L1525'), ('G11C1116', 'G11C114096'), ('G06F120802', 'G06F2172'), ('G10L2509', 'H03M112'), ('G06F930', 'G06N304'), ('G06F1728', 'G10L21055'), ('G06F2162', 'G06F3042'), ('G06F1202', 'H03K2356'), ('G06F104', 'G06F938'), ('G06F300', 'G06F3042'), ('G06F30354', 'H01H5044'), ('G01C506', 'H04B13827'), ('H04N216377', 'H04N5765'), ('G06F120804', 'G06F12123'), ('G06F302', 'G06F3045'), ('G06F1114', 'G06F1114'), ('G06F2186', 'H04W1206'), ('H04N21439', 'H04R312'), ('G06F30483', 'G06Q9000'), ('A61B3400', 'G06F1900'), ('G06F132', 'G06F757'), ('G06F1206', 'G06F1214'), ('C07K1618', 'G06F1918'), ('G06F1107', 'G06F514'), ('G06F1316', 'H04L12883'), ('G11B2722', 'H04N216547'), ('G06F1727', 'G09G512'), ('G09G514', 'H04W412'), ('G06F2157', 'G06F2160'), ('A41D300', 'G09G536'), ('G06F1120', 'H02J906'), ('G06T120', 'G11B1522'), ('G06F1320', 'G06Q2034'), ('A61B500', 'G06F30482'), ('A63F1326', 'A63F13537'), ('A61B511', 'G06F30485'), ('G01B731', 'G03B2156'), ('B43K100', 'G06F30354'), ('G06F1918', 'H04L914'), ('G06F306', 'G06F952'), ('A63F1342', 'G06F3038'), ('G06F316', 'G10H136'), ('B41M104', 'C23C1402'), ('G06F118', 'G09G510'), ('G06F2151', 'H04W400'), ('G06F2181', 'H04L908'), ('A61K4736', 'A61M520'), ('G06F1310', 'G06F944'), ('G06F116', 'G06F30487'), ('G06F2131', 'G06T1160'), ('A47F1106', 'G06F30488'), ('A63F500', 'G06F1114'), ('G06Q5000', 'H04W1208'), ('B60R16023', 'G06F30354'), ('G06F1136', 'G06F1730'), ('G11C1610', 'H03K2356'), ('G06F1130', 'G06F120'), ('G11C2952', 'G11C712'), ('F16B100', 'F16M1122'), ('G06F1340', 'G06F314'), ('G04G2102', 'G06F314'), ('G09F930', 'H04M105'), ('G06F1208', 'G06F954'), ('G03G1516', 'G06F312'), ('G06F1580', 'G06F934'), ('G06F1110', 'G06F120831'), ('A63F1326', 'G06F30338'), ('G06F1100', 'G11C1634'), ('G06F1316', 'G11C1634'), ('B60R16023', 'B60W5016'), ('A61K833', 'C11D1100'), ('A61B518', 'G06F944'), ('G06F30346', 'G06K710'), ('G06F104', 'G06F120875'), ('G06F2142', 'G06F2162'), ('G06F1711', 'H04L908'), ('G01S1942', 'G06F1750'), ('H01R2464', 'H05K502'), ('G06F1212', 'G06F9455'), ('F16B100', 'G01C2120'), ('G06F316', 'H05B3308'), ('G06F30346', 'G08C1916'), ('G06F2160', 'G06N308'), ('A61B5107', 'A61N700'), ('B41J2938', 'H04N5232'), ('A63F13211', 'G06T1520'), ('G06F128', 'H03F321'), ('G06F116', 'H04R312'), ('G06F1578', 'G06F1750'), ('G06F1114', 'G06F938'), ('G06F1716', 'H03M112'), ('B25J1308', 'G06F1721'), ('G06F2144', 'G06F2170'), ('G11C1610', 'G11C2938'), ('G06K1904', 'G06Q5030'), ('G06F2132', 'G06T1900'), ('G06F3041', 'H04L906'), ('A61K4732', 'A61M520'), ('H04N216377', 'H04N218358'), ('H01H1314', 'H01H1320'), ('G06F2162', 'G06F303'), ('G06F1580', 'G06F938'), ('G06F945', 'G06F952'), ('G01N3510', 'G06Q3002'), ('A63F13213', 'A63F13818'), ('G06F300', 'G06F303'), ('G06F2110', 'H04N21835'), ('G06F2171', 'H04W400'), ('H04M1725', 'H04N2143'), ('G06F12084', 'G06F132'), ('G06F128', 'G06F13362'), ('G02B1708', 'G06K946'), ('A61B50476', 'G06F303'), ('G06F2179', 'H04L930'), ('G06F30484', 'H04N214728'), ('G06F1342', 'H03K515'), ('A61B511', 'G06F30482'), ('H04N214363', 'H04S300'), ('A61B50205', 'G06Q2032'), ('G06F301', 'H04Q900'), ('G06F120', 'G06F1340'), ('G06F2181', 'H02J702'), ('B41J2938', 'G06F30484'), ('C23C1656', 'G06F3044'), ('G09G502', 'G11C716'), ('G06F2154', 'H04L2906'), ('G06F2173', 'H01L2706'), ('G06F132', 'H03L708'), ('G06F1340', 'G06F1724'), ('G06F2156', 'G06F30481'), ('G06F30484', 'H04N2183'), ('G06F120891', 'H04L2908'), ('G06F124', 'H04N132'), ('F16B100', 'F16M1110'), ('G06F120811', 'G06F120815'), ('G06F30483', 'G06Q2014'), ('G06F2110', 'G06F2144'), ('G06F106', 'G11C700'), ('G06F1310', 'H04N21436'), ('G06F1114', 'G06F1340'), ('G03F720', 'H05K502'), ('G06F2136', 'G06F3038'), ('G06F3041', 'H05K314'), ('A61B5055', 'A61B804'), ('G06F2183', 'G07C900'), ('G06F120811', 'G06F306'), ('H04R314', 'H04R504'), ('G01N3500', 'G06F1730'), ('G06F116', 'G08B536'), ('G06F946', 'H04L12801'), ('G06F121027', 'G06F1214'), ('G06F1340', 'G11C2952'), ('G06F120804', 'G06F121036'), ('G06T1160', 'G10L1304'), ('G06N9900', 'H03M730'), ('H04M12755', 'H04N100'), ('G06F1210', 'H04L932'), ('G06F120868', 'G06F306'), ('G06F1724', 'G10L1522'), ('G06F1322', 'G06F1337'), ('G06F2184', 'H04M167'), ('G06F2135', 'G07C900'), ('G06F1100', 'G06F306'), ('G06F1107', 'G11C1116'), ('G06F2154', 'G06T1160'), ('G06F3045', 'H01L2712'), ('G06F132', 'G10L2551'), ('G06F120804', 'G06F120868'), ('G04G902', 'G06F3041'), ('G06F1130', 'G06F1338'), ('G06F3044', 'H03K1722'), ('G06F306', 'H04R1904'), ('G06F3023', 'G06F30484'), ('G06F1208', 'G06F930'), ('G06F114', 'G09G5377'), ('G06F1120', 'G06F1134'), ('A63F1344', 'G06F301'), ('B66B300', 'H04L1240'), ('G10L1530', 'H04M342'), ('G06F116', 'G07C502'), ('A61B3113', 'B60K3500'), ('G06F306', 'G11C114093'), ('A63F1324', 'G06F3041'), ('F21V2300', 'G06F303'), ('A63F1365', 'G06F301'), ('G06F2134', 'G06F316'), ('G06F1110', 'G06F12128'), ('G06F120831', 'G06F954'), ('A63B6912', 'G08B2104'), ('G06K1906', 'G11B27029'), ('G06F30362', 'G06T1160'), ('G06F30481', 'G06T360'), ('G06F1120', 'G11C808'), ('G06F2171', 'G06F2188'), ('G06F1120', 'G06F1214'), ('G06F1900', 'G06T1506'), ('G06F116', 'H01R2460'), ('G04B304', 'G06F30485'), ('G05B1502', 'G06F954'), ('G06F30483', 'G09G538'), ('G06F108', 'G06F114'), ('G06F1136', 'G06F2116'), ('A61B501', 'G06F30488'), ('G06F312', 'H04W800'), ('G01K1300', 'G09G320'), ('G06F1336', 'G06F2162'), ('G06F306', 'G11C1616'), ('G06F316', 'H04W6400'), ('G06F1134', 'G06F1214'), ('G06F1326', 'G06F954'), ('G06F948', 'H04L12923'), ('G06F3023', 'H03M1120'), ('H03G330', 'H03G500'), ('G06F1716', 'G06F501'), ('G06F306', 'G06K966'), ('G06F12084', 'G06F954'), ('G06F2110', 'G06F2157'), ('G06F1212', 'G06F950'), ('G06F1136', 'G06F9455'), ('A63F1328', 'G06F3041'), ('B41M118', 'C23C1404'), ('G06F306', 'G06F9445'), ('A63F13818', 'G06T760'), ('G06F2152', 'H04L932'), ('H04M1725', 'H04N214784'), ('G06Q3000', 'G09G320'), ('G02B304', 'G06F303'), ('G06F30346', 'H04N21478'), ('E05D300', 'G02F11333'), ('A61B500', 'G06Q2032'), ('B32B310', 'G06F3044'), ('G06F2185', 'G06F2186'), ('G06F121009', 'G06F1580'), ('G06F1727', 'G06F2131'), ('G06F2162', 'G06N502'), ('G06F13362', 'G06F950'), ('B64D4300', 'G09G538'), ('G06F2140', 'G09B700'), ('G06F30483', 'G06T1120'), ('G06F1310', 'H01L4308'), ('G06F316', 'H04W414'), ('G06F30485', 'G06Q2034'), ('G06F118', 'G11B3312'), ('G06F106', 'H02M3158'), ('G06F1336', 'G11C1626'), ('A61B518', 'G01N33497'), ('G06F118', 'G11B3314'), ('G06F30488', 'H03K1796'), ('G06F316', 'H01R1366'), ('G11C114093', 'G11C1400'), ('G06F1730', 'G10L1724'), ('C23C1408', 'G06F3041'), ('A63F1323', 'G06F30346'), ('G06F3043', 'G06F30488'), ('H04N21436', 'H04N218358'), ('G06F2164', 'G06F2171'), ('G06F30484', 'G06F30484'), ('G06F1100', 'G11C1628'), ('G06F132', 'G06F948'), ('G06F3147', 'H01L2732'), ('G06F944', 'H04N132'), ('G06F1900', 'G07F708'), ('G05B19042', 'G06F306'), ('G06F9455', 'G06K1502'), ('G06F30338', 'G06F3046'), ('G06F120891', 'G06F9455'), ('G06F306', 'G11C11408'), ('G06F12084', 'G06F120895'), ('G06F106', 'G06F112'), ('G06F1214', 'H01L27112'), ('G06F1310', 'H04N214405'), ('G06F1722', 'G10L1526'), ('G06F2131', 'H04N5225'), ('G06F312', 'H04N1409'), ('A63F13211', 'H04N1304'), ('A61B508', 'A61J704'), ('G06K1914', 'H04L908'), ('G06F2110', 'G06F2151'), ('A44C900', 'G06F30346'), ('G06F2135', 'H04R110'), ('G06F1724', 'G06F303'), ('G06F30338', 'G06T1900'), ('G06F2136', 'G06F2162'), ('G06F1342', 'G06F512'), ('G06F948', 'G06Q3002'), ('G03F124', 'G06F1750'), ('G11B27034', 'H04H6004'), ('G06F2164', 'H04N19467'), ('B41J2938', 'G06F126'), ('G06F1316', 'G06F506'), ('H04N5775', 'H04N7167'), ('G06K903', 'G06T780'), ('G06T1900', 'H04M160'), ('G06F1202', 'G06F121009'), ('G06F938', 'G06T1160'), ('G04G2102', 'G06F30346'), ('A61B3400', 'A61B5055'), ('G06F1730', 'G10L2575'), ('A44C900', 'G05B19048'), ('G06F1721', 'H04W402'), ('G04G910', 'H01L2329'), ('G06F2154', 'G06F2156'), ('G06F120831', 'G06F1214'), ('G06F2173', 'H04L908'), ('G06F1114', 'G06F944'), ('G06F1340', 'H04N214402'), ('G06F120831', 'G06F1316'), ('G06F2145', 'G06F30484'), ('G06F1126', 'G06F1342'), ('G06F314', 'G09G33208'), ('A63F13428', 'G06T1520'), ('G06F1730', 'H04R2700'), ('G06F3041', 'H05K1300'), ('G06F1212', 'G06F946'), ('B05D700', 'G06F3044'), ('G06F2184', 'G06Q2020'), ('G06F1721', 'G06F9445'), ('D03D100', 'D04B128'), ('G06F1324', 'G06F950'), ('G09G502', 'G11C722'), ('A61B500', 'G09G536'), ('A44C900', 'A61B500'), ('C23C1404', 'G06F3041'), ('G06F12084', 'G06F930'), ('G06F1724', 'G09G5377'), ('A63F13332', 'G06T1920'), ('G06F2110', 'H04N5775'), ('G06F1578', 'G06F944'), ('G06F1107', 'H04N700'), ('G06F120813', 'G06F1214'), ('G06F2162', 'H04N132'), ('G06F1517', 'G06F506'), ('G06F3044', 'H03H1104'), ('G06F114', 'G06T1160'), ('A63F13285', 'A63F1392'), ('A61J702', 'G07F1700'), ('G06F120842', 'G06F120895'), ('G06F1750', 'G06F30481'), ('G06F306', 'G11C1606'), ('G06F12084', 'G06F1214'), ('G06F2174', 'G06F2183'), ('A61B50404', 'G06F116'), ('A63F1342', 'G06F30354'), ('H01H1310', 'H01H1386'), ('G06F121036', 'G06F121045'), ('G06F132', 'G09G536'), ('G06F3045', 'H01H1386'), ('G06F132', 'G06F514'), ('G06F12128', 'G06F124'), ('G06F301', 'H04M123'), ('G06F12123', 'G06F306'), ('G06F128', 'G06F1338'), ('G06F108', 'G06F2155'), ('G06F30484', 'H03G332'), ('F24C708', 'G06T1900'), ('G06F306', 'G09G502'), ('G06F1136', 'G06F950'), ('G06F120864', 'G06F938'), ('G03B2160', 'G06F3045'), ('G06F30488', 'G08B536'), ('G06F2184', 'G06F30488'), ('A61B3400', 'A61B806'), ('G06F1134', 'G06F1580'), ('G04G2108', 'G06F30488'), ('G04C300', 'G04G2102'), ('H01L310224', 'H05K310'), ('G04G900', 'G06F30346'), ('G06F30487', 'H04L2906'), ('G01B1314', 'H04B13827'), ('G06F758', 'H01L4310'), ('G06F2130', 'G06F2135'), ('G06F128', 'G06F1340'), ('G06F1114', 'G11C11406'), ('G06F1730', 'H04L912'), ('G06K1907', 'G11B2000'), ('G06F118', 'H04L1258'), ('G06K1907', 'H04W7602'), ('G06F1721', 'G06N700'), ('H04L12911', 'H04N214147'), ('G06F12121', 'G06F1730'), ('A61K3113', 'G06F1918'), ('E05D710', 'G06F302'), ('G06F1202', 'G06F952'), ('F24F1100', 'G08C1702'), ('C07K1618', 'G06F1920'), ('G06F30354', 'H04M123'), ('G06F1727', 'G06Q4004'), ('G06F112', 'G06F120875'), ('H04N132', 'H04N218547'), ('G06F1320', 'G06Q2024'), ('G06F3042', 'G06F30481'), ('G06F3038', 'G06F3045'), ('G06T1900', 'G09F930'), ('G03F742', 'H05K502'), ('G06F128', 'H04W400'), ('G06F2160', 'G06K714'), ('G06F30485', 'H04W6800'), ('A61K3113', 'G06F1922'), ('G06F1730', 'G11C2952'), ('C12N15113', 'G06F1918'), ('G06F1310', 'G06F9445'), ('G06F306', 'G11C2904'), ('G04G910', 'H01L2331'), ('G06F116', 'G06F1724'), ('B60Q108', 'G06F1900'), ('G06F1132', 'G06F1338'), ('G06F120842', 'G06F930'), ('G06F3044', 'G10L1522'), ('G06F1318', 'G06F1342'), ('G06F1320', 'G06Q3000'), ('G06F1136', 'G06F1721'), ('A61B5024', 'G06F1711'), ('G06K714', 'G06Q3004'), ('G06F30354', 'G10L1526'), ('G02B304', 'G06F301'), ('G02F1167', 'G06F30354'), ('G06F121009', 'G06F1342'), ('G06F120817', 'G06F930'), ('G06F1722', 'G06F2155'), ('G06F1900', 'G08B1324'), ('F28F304', 'G06F120'), ('G06F13364', 'G06F1338'), ('G06F120891', 'G06F950'), ('G06F120842', 'G06F1214'), ('G06F2152', 'G06F2156'), ('G05B19406', 'G06F1900'), ('E04H1300', 'G06F3041'), ('G06T320', 'G09G5377'), ('G06F1132', 'G06F1340'), ('A63B6912', 'G06F30484'), ('G06F1900', 'G06F312'), ('G06F120817', 'G06F1214'), ('G06F948', 'H04L12855'), ('F24C708', 'H01L3352'), ('G06F30481', 'H04N214223'), ('A63F13214', 'A63F13218'), ('E05F112', 'F16M1120'), ('E05C110', 'G06F116'), ('G06F30362', 'G06F316'), ('G06F30484', 'G06F952'), ('G06F120873', 'G06F12128'), ('G06F132', 'H04W412'), ('H04N218358', 'H04N5775'), ('G02B520', 'H01L3332'), ('G06F30346', 'G09G5373'), ('G06F300', 'G06T340'), ('G06F1107', 'G06F120'), ('A63F13655', 'G06F30485'), ('G06F1132', 'G06F116'), ('A63F13214', 'A63F1322'), ('G06F312', 'G06F312'), ('G06F1730', 'G11C1610'), ('A61B300', 'F25D2302'), ('G06F126', 'G11C1116'), ('A61B3400', 'G06F1750'), ('G11B27031', 'H04N218358'), ('B32B3712', 'B32B514'), ('G06F2136', 'G06F30354'), ('E21B4706', 'G06F1716'), ('E21B4100', 'G06F30482'), ('G06F1122', 'G06F1310'), ('G06F128', 'H03K17687'), ('G06F2160', 'H04W1204'), ('G06F1724', 'G09G5395'), ('G06F120862', 'G06F938'), ('B43K2918', 'G06F3046'), ('G06F1728', 'G06K1906'), ('B60N202', 'G06F30481'), ('G06F3023', 'H04N21431'), ('G06F1136', 'G06F1728'), ('G06F1316', 'H04L1226'), ('G06F1724', 'G06T360'), ('G06Q9000', 'H04N2184'), ('G06F1136', 'G06F946'), ('G01N3350', 'G06F1918'), ('E21B3313', 'G06F30482'), ('G06F1338', 'H04W8802'), ('G06F106', 'H03K17687'), ('B66B300', 'H04L2908'), ('H01R13713', 'H02M704'), ('G06F2152', 'H04L906'), ('G06F1114', 'G06F952'), ('G06F30346', 'H04R140'), ('G06F3038', 'G06F30481'), ('G06F1328', 'G06F15173'), ('A45C1330', 'G06F116'), ('H03H1104', 'H03K1796'), ('G06F1912', 'G06F1928'), ('G06F132', 'H04N504'), ('G06F1340', 'G11C2900'), ('G06F1338', 'G06F30354'), ('E05D318', 'E05D712'), ('G06F12084', 'G06F2157'), ('G06F103', 'G06F7507'), ('G09G510', 'H04N21438'), ('G06F30483', 'G11B27036'), ('G06F12122', 'G06F306'), ('G06F2116', 'G06N700'), ('G06F1210', 'G06F1324'), ('G06F132', 'G06F1517'), ('G06F306', 'G11C114091'), ('G06F1340', 'G06F2185'), ('C23C1422', 'G06F3041'), ('G06F2171', 'G06F2172'), ('G06F306', 'H04N214147'), ('H04L912', 'H04N214402'), ('B60K3706', 'H01L2732'), ('G06T500', 'G09G33258'), ('B60W5012', 'G06F302'), ('G06F938', 'H04L906'), ('G06F1721', 'H04N2184'), ('G06F1727', 'H04M3493'), ('H04N2184', 'H04N218547'), ('G06F2135', 'H04B304'), ('G06F3023', 'G06F9445'), ('G06F1722', 'G06N308'), ('G05B194155', 'G06F2131'), ('G06F1340', 'H03M900'), ('G06F112', 'G11C722'), ('G06F1202', 'G11C114093'), ('G11B27029', 'H04N1946'), ('C07K1618', 'G06F1926'), ('G06F3043', 'G06F3044'), ('G06F2160', 'G09G5393'), ('H01R13717', 'H02M704'), ('G06F1107', 'G06F938'), ('G06F2153', 'H04L1224'), ('G06F1120', 'G11C1604'), ('G06F1130', 'G06F952'), ('G06F3038', 'G09G538'), ('G06F1730', 'G06F2180'), ('G03B1100', 'H04N931'), ('A63F13213', 'G06T760'), ('G09F1500', 'G09G512'), ('G01C2104', 'G06F1750'), ('G06F1107', 'G11B5596'), ('G06F2116', 'H04N212343'), ('G06F12084', 'G06F124'), ('A61K3113', 'C07K1618'), ('G06F3023', 'H04N2141'), ('G06F7487', 'G06F757'), ('G06F1340', 'G11C11401'), ('G06F1730', 'G06T1730'), ('G06F128', 'G06F944'), ('G01C506', 'G06F30489'), ('G06F301', 'H04R2700'), ('G06F2153', 'G06F2187'), ('G06F1338', 'G06F30484'), ('H01Q124', 'H03K17955'), ('G06F2151', 'G06F9445'), ('G06F2154', 'H04L2908'), ('H05K506', 'H05K506'), ('G06F1730', 'G06K1904'), ('G06F1202', 'G06K966'), ('G02B530', 'G06F3044'), ('G06F2154', 'G06F2160'), ('A63F1342', 'G06F301'), ('G08G10962', 'G10L1304'), ('G06F121009', 'G06F948'), ('B60K3500', 'F16B100'), ('G06F120897', 'G11B2010'), ('G06F120817', 'G06F2157'), ('G09G33241', 'G09G33258'), ('H04B726', 'H04W422'), ('G06F126', 'H03F321'), ('G06F2144', 'G10L1302'), ('G02B2701', 'H04R2900'), ('G02F11335', 'G06F132'), ('A61J700', 'G06Q5024'), ('G06F2136', 'G06F30486'), ('G06F2162', 'G06K1907'), ('G06F114', 'G06F316'), ('H01L2329', 'H01L3344'), ('A63F1335', 'G06T1920'), ('G06F2162', 'H04L2912'), ('G06F1100', 'H04L2908'), ('G06F30485', 'G06F750'), ('G06F1342', 'H04B13827'), ('G06F126', 'H04N21443'), ('G06F121027', 'G06F945'), ('A61B3400', 'G06T1504'), ('G06F1750', 'H04W8802'), ('G06F1132', 'G06F30484'), ('G06F1312', 'G06F1578'), ('H04R2900', 'H04W800'), ('G06F1122', 'H04L12741'), ('G06F1210', 'G06F2160'), ('A41D100', 'G09G536'), ('G06F9455', 'H04L1264'), ('A41D300', 'G06F116'), ('G11C11418', 'H01L23528'), ('G05B19042', 'G06F1324'), ('G04B1928', 'G06F30354'), ('G09G5373', 'H04N550'), ('G06F314', 'H04N214788'), ('G02B2701', 'G06F30362'), ('G06F1728', 'G10L2533'), ('G06F1342', 'G06Q3000'), ('G06F2134', 'G06F944'), ('G06F954', 'G06F954'), ('G05F166', 'G06F126'), ('B41J2175', 'G06F312'), ('G06F3041', 'G06F3041'), ('G06F2157', 'G06Q3002'), ('A63F1392', 'G06F132'), ('G06F306', 'G09G500'), ('G06F1316', 'H03M1311'), ('G06F724', 'G06F938'), ('G06F120875', 'H01L29786'), ('G06F1721', 'G06F2155'), ('B62K2302', 'G06F303'), ('B29C7324', 'G06F3044'), ('G06F3041', 'G09G33208'), ('G02B2702', 'G06F30488'), ('G04G2100', 'G06F316'), ('G04G902', 'G06F30488'), ('G06F1928', 'H01L27118'), ('G06F1208', 'G11C1632'), ('G06F102', 'G06F501'), ('G06F772', 'H03M1315'), ('A63B7106', 'G05B1942'), ('H04L2908', 'H04M1675'), ('G06F30484', 'H03K1796'), ('G06F1721', 'G06F314'), ('G06F306', 'H04L930'), ('G06F303', 'G06F314'), ('G11C2944', 'H03M1315'), ('G06F2130', 'G06F2145'), ('G06F948', 'G06K900'), ('G06F1318', 'G06F306'), ('G06F930', 'G06F944'), ('G06F132', 'G06F3045'), ('H04N21443', 'H04N557'), ('G06F1136', 'G06F1136'), ('G06F3041', 'H05K342'), ('G06F7483', 'G06F7499'), ('G06F30481', 'H04B13827'), ('A61L224', 'G06F30354'), ('G06F2151', 'G06F2153'), ('G06F2136', 'G06F301'), ('G06F2136', 'G06T360'), ('G06F1120', 'G06F1202'), ('G06F306', 'H04L1218'), ('G01S1504', 'G06F116'), ('G06F1116', 'G11C710'), ('G06F1342', 'G06K708'), ('G06F314', 'G06T100'), ('G11C2952', 'G11C706'), ('G06F3044', 'G08B2118'), ('G06F1340', 'H01L2338'), ('G06F1316', 'G06F1338'), ('G06F120875', 'G06F132'), ('G11C1400', 'G11C2912'), ('G06F13366', 'G06F1340'), ('G09G334', 'H04N563'), ('G06F1202', 'G06F120871'), ('G06F120888', 'G06F306'), ('A61B500', 'G06F3038'), ('G06F11263', 'H04L1224'), ('G06F316', 'H04W820'), ('G06F2160', 'G06F2186'), ('G06F1202', 'G11C1606'), ('G06F316', 'G10K11175'), ('G06F306', 'G06F954'), ('H04N2184', 'H04N718'), ('G06F1716', 'G06F753'), ('G06F2154', 'G06F9455'), ('G02B1900', 'G06F301'), ('G06F1337', 'G06F501'), ('G06F9445', 'G06Q2024'), ('G06F120', 'H01L310525'), ('G06F1136', 'G06F2152'), ('G06F1134', 'G06F948'), ('G06F1340', 'H01L3534'), ('G06F2146', 'G06F2188'), ('G06F2162', 'H05K102'), ('G06F30482', 'G06F720'), ('G06F1130', 'G11C1616'), ('G06F7544', 'G06F757'), ('B29C3512', 'G06F3041'), ('B43K2900', 'G06F3044'), ('H01L2338', 'H01L23427'), ('G06F2136', 'G06T1160'), ('G06F1342', 'G06Q3006'), ('A61F700', 'A61N100'), ('G06F120811', 'G06F9455'), ('G06F30483', 'G06Q5000'), ('G06F30338', 'H04N21422'), ('G06F132', 'G06F3038'), ('G09G33241', 'H01L2732'), ('G06F2160', 'G06K710'), ('G06F1208', 'G06F12084'), ('A61B3400', 'A61B600'), ('G06F120804', 'G06F944'), ('G06T160', 'G09G33258'), ('G06F302', 'H04N21431'), ('G06F126', 'G06F1310'), ('F21V2304', 'G06F316'), ('G06F1340', 'G06K918'), ('G06F114', 'H04W5600'), ('E05C904', 'G06F116'), ('A61B603', 'G06F1750'), ('G06F1120', 'G06F12084'), ('G06F1210', 'G06F9455'), ('G06F314', 'G06Q2020'), ('B62J110', 'B62M2508'), ('G06F1316', 'G06F935'), ('G06F30354', 'G06F3147'), ('G06F104', 'G06F1324'), ('G06F1727', 'G10L21055'), ('G06F1130', 'H04N2141'), ('G06F1340', 'H01L23427'), ('G03B2156', 'G06F116'), ('G02B2722', 'G02F1163'), ('G06F30346', 'G06T1100'), ('G06F2144', 'G06F2184'), ('G06F2151', 'G06F302'), ('G06F1312', 'G06F1324'), ('G06F1727', 'G08B2118'), ('G06F106', 'G06F126'), ('G06F1214', 'G06F9455'), ('G06F1730', 'G06F2135'), ('G06F1310', 'G06F132'), ('G01C506', 'G06F3023'), ('G06F945', 'G06F954'), ('G06F3044', 'G06T1160'), ('A45C1100', 'G06F126'), ('G06F120817', 'G06F1342'), ('G06F30489', 'H04L2908'), ('B62J110', 'B62K2302'), ('H04N21438', 'H04N557'), ('G06F2160', 'H04N5265'), ('G06F120862', 'G06F121009'), ('A61B50472', 'G06F1900'), ('G06F1340', 'G06F2175'), ('G06F314', 'G10L1526'), ('A61B511', 'G06F3038'), ('G06F1132', 'G06F126'), ('G06F2144', 'G06F316'), ('G11B2719', 'H04N218358'), ('G06F1342', 'G06F954'), ('G06F30354', 'H04W7602'), ('A61B3113', 'G06F3038'), ('G09G33233', 'H01L2732'), ('G04G504', 'G06F30484'), ('G06F1724', 'H04L2912'), ('G01N2155', 'G06F1750'), ('G06Q2030', 'G06Q2042'), ('G01S1708', 'G06F1750'), ('G06F2162', 'H05K118'), ('H04N104', 'H04W1208'), ('G06F1342', 'G06F2133'), ('G06F1202', 'G06F1730'), ('B33Y5002', 'G06F301'), ('G06F2146', 'G06F30484'), ('G06F120897', 'G06F132'), ('G01N3500', 'G06Q3002'), ('G06F2114', 'G06F9445'), ('G06F2150', 'G06F30488'), ('G06F120862', 'G06F121045'), ('G06F3041', 'H02J735'), ('G06F12123', 'H04L2908'), ('G02B2701', 'H04M123'), ('G06F3041', 'G09G33241'), ('G06F1324', 'G06F1336'), ('G06F1730', 'G09G320'), ('A61J704', 'G06Q1004'), ('G02F11343', 'G06F301'), ('G06F120804', 'G06F120888'), ('G06F12109', 'G06F306'), ('G06F9445', 'G06Q2038'), ('G06F30481', 'H04M160'), ('A61B51172', 'F25D2302'), ('G06F3041', 'H05K332'), ('G06F306', 'G06F930'), ('F21S200', 'G06F314'), ('G06F1310', 'G06F1724'), ('G06F1340', 'G06F948'), ('G02B520', 'H01L25075'), ('A63F1324', 'G06F314'), ('G06F116', 'H01H13704'), ('G06F120877', 'G06F306'), ('G06F2145', 'G06T700'), ('G06F120875', 'H01L2182'), ('G06F2132', 'G10L1702'), ('G06F1202', 'G06F120811'), ('H03K515', 'H03K51536'), ('A63F13214', 'A63F1392'), ('G06F1127', 'G11C818'), ('G06F15167', 'G06F306'), ('H04N132', 'H04N5765'), ('G06F3044', 'G11C1928'), ('G06F300', 'H05B3308'), ('A44C1500', 'A61B50205'), ('G06F128', 'H02M5458'), ('G01S1942', 'G06T700'), ('G06F1727', 'G06F1900'), ('B41J2938', 'G06F132'), ('G05B194099', 'G06F1900'), ('G06K900', 'G09G5373'), ('G06F1342', 'G06F950'), ('G06F30338', 'G06F30482'), ('G06F120804', 'G06F121045'), ('A61M531', 'G06F3044'), ('G06F930', 'G06F952'), ('G06F1730', 'G06F30338'), ('G06F938', 'G06F9455'), ('C11D350', 'G06F1750'), ('G01W100', 'G06F301'), ('G06F2162', 'G06F312'), ('G06F1750', 'G06F306'), ('G06F1727', 'G06N304'), ('G06F1107', 'H03M1315'), ('G06F2114', 'G06N700'), ('G06F120831', 'G06F12084'), ('G06F2160', 'G06F306'), ('G06F2175', 'H03K303'), ('G06F300', 'H04W400'), ('G06F1202', 'G11C114091'), ('G06F3038', 'G06F3047'), ('G06F120831', 'G06F12128'), ('G06F30485', 'H04N21435'), ('G06F1120', 'G06F1130'), ('G06F120', 'H01R2460'), ('G06F126', 'H04B726'), ('G06F1924', 'H03K19177'), ('G06F116', 'G06F30362'), ('C12N1582', 'C40B3002'), ('G06F300', 'G06F9455'), ('G06F132', 'G06F938'), ('G06F2151', 'G06F2155'), ('G06F120811', 'G06F120842'), ('G06F2136', 'G06F2156'), ('G06F2116', 'H04K102'), ('H03K3356', 'H03K515'), ('G04B304', 'G06F316'), ('A61B502', 'G06F1711'), ('G02F11368', 'H04N533'), ('G06F1310', 'G06F954'), ('G06F30346', 'G10K11178'), ('G06F2186', 'H05K718'), ('G06F132', 'H04N546'), ('G04G910', 'H01L25075'), ('A63F1387', 'G06F302'), ('G06F120813', 'G06F12084'), ('G06F934', 'G06F938'), ('G06F3044', 'H01L2951'), ('G06F30362', 'G06F30484'), ('G06F1712', 'G06T160'), ('H04L908', 'H04N214627'), ('G06F126', 'H04W8808'), ('G06F1210', 'G06F950'), ('G06F30484', 'H04W420'), ('G06F1340', 'H03M112'), ('G06F1724', 'G06K1906'), ('G06F314', 'H04N214784'), ('G06F120866', 'G11C1716'), ('G04G910', 'H01L23538'), ('G06F1342', 'G06F930'), ('B32B702', 'G06F3044'), ('G06F1722', 'G06Q4004'), ('H03G330', 'H04R304'), ('G06F110', 'G06F120'), ('G06F3038', 'G06F30486'), ('G06F2110', 'G06F2112'), ('G06F2131', 'G06F2183'), ('A61B50488', 'G06F30346'), ('G06F1214', 'G06F950'), ('G06F30488', 'G06Q2030'), ('G06F118', 'H01R2464'), ('G06F30484', 'H03G700'), ('B43K2900', 'G06F3038'), ('G06F314', 'G09F933'), ('G06F120875', 'G06F930'), ('G01N3504', 'G06F1900'), ('B60R1104', 'G06F1730'), ('A63F1367', 'G06K900'), ('G06F30484', 'H04B13827'), ('A63F13537', 'G06T1340'), ('G06F1136', 'G06F1202'), ('G06T700', 'G09G526'), ('G06F2144', 'G10L1502'), ('G06F944', 'H04W414'), ('G06F2142', 'G06F2160'), ('G10L1500', 'G10L2563'), ('A63F1325', 'G06F3041'), ('G06F1208', 'G06F1924'), ('G06F121018', 'G06F121027'), ('H01L310216', 'H05K310'), ('B32B1504', 'G06F3041'), ('G01N3510', 'G06Q1010'), ('G06F1114', 'G06F120811'), ('G06F1517', 'G06F944'), ('G11C1156', 'H03M1337'), ('G01B1314', 'G06F30489'), ('G06F120875', 'G06F1214'), ('G06F944', 'H01R1366'), ('G06F3042', 'G06T1160'), ('G09G500', 'H04N214143'), ('G06F120813', 'G06F12123'), ('G06F303', 'G06T1520'), ('G06F1107', 'G06F952'), ('G06F1202', 'G06F132'), ('G06F1310', 'H01L4302'), ('G06F120808', 'G06F120811'), ('G06F12123', 'G06F9455'), ('G06F2110', 'H04N21443'), ('G06F1114', 'G06F2160'), ('G06F2145', 'G06F2160'), ('G06F12084', 'G06F12123'), ('F25B1300', 'G06F3041'), ('G06F120', 'H01Q122'), ('B41M118', 'H05K304'), ('G06F2184', 'G09G514'), ('G06F302', 'G06K922'), ('A61M3500', 'G06F1900'), ('G06F7491', 'G06F930'), ('G06F108', 'H02J700'), ('G06F1122', 'G06F306'), ('G07F708', 'H04L2906'), ('G10L19018', 'H04B304'), ('A63F1326', 'G06F116'), ('G06F2136', 'H04N5225'), ('G06F312', 'H04W402'), ('G06K1512', 'G06K900'), ('G06F1202', 'G06F12126'), ('G06F2112', 'G06F2133'), ('G06F1730', 'G06F726'), ('G06F1210', 'G06F1316'), ('H04N2184', 'H04N5765'), ('G06F1110', 'G06F120891'), ('G06F3147', 'G06T1700'), ('G06F120811', 'G06F946'), ('G06F120817', 'G06F12084'), ('G06F1107', 'H04L1212'), ('G01S1758', 'G06K962'), ('G06F110', 'H04L700'), ('G06F1130', 'G06F120811'), ('G06F116', 'H01R136582'), ('G06F2162', 'H04N5232'), ('G06F30354', 'G06K714'), ('G11B27031', 'H04N19467'), ('G02B1900', 'H04N5225'), ('G06F12128', 'G11C1716'), ('A61B5021', 'G06F1711'), ('G06F1100', 'G06F946'), ('G06F120815', 'G06F930'), ('G06F1727', 'G06F2156'), ('G06F12128', 'G11C710'), ('G06F1210', 'G06F946'), ('G06F302', 'G06F302'), ('G06F110', 'G06F938'), ('G06F3038', 'G06T360'), ('G06F1900', 'H04N1700'), ('G06F1114', 'H04L12707'), ('G06F1114', 'G06F118'), ('G06F1340', 'G06Q2010'), ('G06N300', 'G10L1724'), ('G06F114', 'G06F2150'), ('G06F116', 'G07C900'), ('G06F120837', 'G06F120842'), ('G06F121036', 'G06F9455'), ('G06F948', 'G06Q2014'), ('G06F120815', 'G06F1214'), ('G01C2104', 'G05D100'), ('G06F1316', 'G06F1322'), ('G06F132', 'G06F2136'), ('G06F2183', 'G06F30354'), ('G06F1214', 'G06F946'), ('G06F1328', 'G06F948'), ('G06F108', 'H03L708'), ('G06F2184', 'G09G320'), ('G06F2178', 'G06F2181'), ('G06F1730', 'G06F2186'), ('G06F120842', 'G06F12123'), ('H04N132', 'H04N2184'), ('G06F2176', 'H04L2906'), ('G06F316', 'G10L1916'), ('F16M1302', 'G01C2120'), ('G06F120897', 'G06F930'), ('G06K932', 'G08G10962'), ('G06F2135', 'G06F30354'), ('A61B300', 'G06F2132'), ('G06F120817', 'G06F12123'), ('G06F132', 'H04W8802'), ('G06F3044', 'H02J5080'), ('G06F1202', 'G06F130'), ('G06F126', 'H04N21438'), ('G06N700', 'H04K102'), ('G06F30338', 'G08C1916'), ('B32B702', 'G06F3045'), ('G02F11345', 'G06F3044'), ('G06F1100', 'G06F121027'), ('G06F301', 'G09G526'), ('G06F1730', 'H04H6004'), ('G06F120897', 'G06F1214'), ('G06F1114', 'G06F132'), ('G06F1724', 'G06F312'), ('G06F132', 'G06F30354'), ('G06F120891', 'G06F12128'), ('G06F1130', 'H04L12707'), ('G06F944', 'G06F946'), ('A61L2716', 'A61M520'), ('G06F116', 'G06F3023'), ('B60K3500', 'G06F3038'), ('G06F3023', 'H04N544'), ('H04N132', 'H04N216377'), ('H04N21485', 'H04S300'), ('A63F13214', 'G06F301'), ('G01R313177', 'G06F1107'), ('A63B2400', 'G06F30485'), ('G06F2174', 'H04W1208'), ('G05B1502', 'G09G512'), ('G06F1900', 'H04N212343'), ('G06F1202', 'G06F954'), ('G06F1340', 'G06F506'), ('G06F1340', 'G11C818'), ('G06F302', 'H04W420'), ('G06F1340', 'G06F1517'), ('G06F121045', 'G06F9455'), ('A63F132145', 'G06F30485'), ('G06F1342', 'G06F2157'), ('G06F2188', 'H02J702'), ('A61Q1910', 'G06F1750'), ('F21V21088', 'G09F933'), ('G10L1501', 'G10L15187'), ('G06F120831', 'G06F120868'), ('E04H1300', 'G06F314'), ('G06F1107', 'H04L1240'), ('G11C716', 'G11C722'), ('B60R16023', 'G06F3041'), ('G02B1708', 'G02B1900'), ('G06F112', 'G06F1324'), ('G06F132', 'H04N21438'), ('G06F9445', 'H04W2802'), ('G09G514', 'H04N2141'), ('G06F314', 'G08C1702'), ('G06F303', 'G06K714'), ('A63F13428', 'G06T340'), ('G06F1322', 'G06F306'), ('G06F30362', 'H01L2732'), ('G10L2554', 'H04L2908'), ('G06F1100', 'G08G116'), ('G06F130', 'H04N557'), ('G06F1926', 'G06F30482'), ('G06F2131', 'H04W402'), ('H04N21236', 'H04N214405'), ('G06F132', 'G11C722'), ('G06F1340', 'H04B1040'), ('G06F2112', 'G06F2154'), ('G06Q4000', 'G07G500'), ('G06F314', 'H01P3127'), ('G06F12084', 'G06F121036'), ('G06F3038', 'G06T780'), ('G06F2156', 'G06F2160'), ('G06F302', 'H04B13827'), ('G01B731', 'G06F30488'), ('G06F1340', 'G06F1582'), ('G02B2709', 'G06F301'), ('G06F2186', 'H05K102'), ('H03M1317', 'H03M1329'), ('G11C1626', 'H03M1311'), ('G06F120813', 'G06F120868'), ('A63F132145', 'A63F1387'), ('G06F30485', 'G06T1340'), ('G06F930', 'G06N700'), ('G11C1116', 'H03M1337'), ('G06F2155', 'H04W1206'), ('A61B800', 'G06F30481'), ('G06F938', 'G06F946'), ('G06F116', 'H01R3106'), ('G06F2131', 'G06F9445'), ('G02B2700', 'G06F132'), ('G11C2952', 'H03M1317'), ('G05B1502', 'G06F3033'), ('B29C4517', 'G06F30482'), ('E05B1300', 'G06F116'), ('C09K1944', 'G06F3041'), ('A63F13816', 'G06F1900'), ('G06F3044', 'H02J5012'), ('A63F1320', 'G06F30481'), ('G06F306', 'G06F748'), ('G04G910', 'H01L2516'), ('A61M500', 'G06T720'), ('G06F1721', 'G06F2164'), ('A61B500', 'A61J700'), ('G06F1722', 'G07C900'), ('G06F1722', 'H04W8412'), ('G06Q2014', 'G06T1120'), ('G06F108', 'G06F2175'), ('G06F1727', 'H04L1226'), ('H04N19467', 'H04N5765'), ('G04G504', 'G04G902'), ('G06F2160', 'G06F2184'), ('G06F132', 'H04R300'), ('G06F1206', 'G06F938'), ('G10L1525', 'G10L2563'), ('G06F922', 'G06F9455'), ('A63B6912', 'G06F314'), ('B41M118', 'C23C1408'), ('G06F1132', 'G08B536'), ('G06F1728', 'H04W402'), ('G02B530', 'G06F303'), ('G06F1107', 'G06F2156'), ('G06F1336', 'G11C1624'), ('A61B50205', 'G06F301'), ('G06F1900', 'H04N2143'), ('G06F1324', 'G11C2952'), ('G06F302', 'G06T1900'), ('G06F1338', 'H01R2460'), ('G06F1114', 'G06F128'), ('G06F1114', 'G06F130'), ('G06F930', 'G06F9355'), ('G06F1130', 'G09G500'), ('G06F116', 'G06F3039'), ('G06F1210', 'G11C2936'), ('G06F120875', 'G06F124'), ('F28F926', 'G06F120'), ('G06F2132', 'G08C1702'), ('G06F7499', 'G06F7544'), ('G06F104', 'H03K3037'), ('G06F954', 'G06T100'), ('G06F301', 'H01H1386'), ('A61B511', 'G06F303'), ('G06F2171', 'H04W1208'), ('G06F116', 'H02G322'), ('G06F2136', 'G06F2160'), ('G01B1314', 'G06F3023'), ('G06F2144', 'H04N100'), ('G06F1730', 'G06F732'), ('A63F13218', 'A63F1322'), ('G06F2160', 'G06F316'), ('G06F120831', 'G11C710'), ('A61B812', 'G06F1900'), ('G09G510', 'H04L2908'), ('A45C1100', 'G06F302'), ('G06F30482', 'G06K1906'), ('G06F2151', 'G06F30346'), ('G06F1208', 'H02N206'), ('G02B1300', 'G06F3042'), ('G06F120871', 'G06F120895'), ('G06F1728', 'G10L1525'), ('F16M1302', 'G07C502'), ('G06F108', 'G06F948'), ('G06F1340', 'H04B1027'), ('G06F1730', 'G06F720'), ('G01K1300', 'G06F116'), ('G06F1136', 'G06N308'), ('G06F116', 'H01R13639'), ('G06F303', 'G09G526'), ('G06F1214', 'G06F1922'), ('G06F132', 'G11C11406'), ('G06F2160', 'G06K1907'), ('G06F1320', 'G10L1526'), ('G06F1722', 'G06F945'), ('G06F116', 'H05K312'), ('G06F1202', 'G06F930'), ('G03F720', 'G06F120'), ('G06F116', 'H02H718')}\n"
     ]
    }
   ],
   "source": [
    "new_surp = new_surprise(pmi_tE_dict, pmi_ES_dict)"
   ]
  },
  {
   "cell_type": "code",
   "execution_count": 548,
   "metadata": {},
   "outputs": [
    {
     "name": "stdout",
     "output_type": "stream",
     "text": [
      "Counter({0: 6504, 1: 2730})\n"
     ]
    },
    {
     "data": {
      "text/plain": [
       "0.29564652371669914"
      ]
     },
     "execution_count": 548,
     "metadata": {},
     "output_type": "execute_result"
    }
   ],
   "source": [
    "print(Counter(new_surp[1]))\n",
    "2730/9234\n",
    "\n"
   ]
  },
  {
   "cell_type": "code",
   "execution_count": 179,
   "metadata": {},
   "outputs": [
    {
     "data": {
      "text/plain": [
       "[('G06F301', 'G06F3041'),\n",
       " ('G06F312', 'G06Q3004'),\n",
       " ('G06F1730', 'G06F30482'),\n",
       " ('G06F1730', 'G06F30484'),\n",
       " ('G06F30482', 'G06F30484'),\n",
       " ('G06F3041', 'G06T700'),\n",
       " ('G06F3041', 'G06T520'),\n",
       " ('G06F3041', 'G06F3042'),\n",
       " ('G06F3041', 'G06T500'),\n",
       " ('G06T520', 'G06T700'),\n",
       " ('G06F3042', 'G06T700'),\n",
       " ('G06T500', 'G06T700'),\n",
       " ('G06F3042', 'G06T520'),\n",
       " ('G06T500', 'G06T520'),\n",
       " ('G06F3042', 'G06T500'),\n",
       " ('G02F113', 'G06F301'),\n",
       " ('G06F301', 'G06T700'),\n",
       " ('G02B2700', 'G06F301'),\n",
       " ('G06F301', 'G06F303'),\n",
       " ('G02B530', 'G06F301'),\n",
       " ('G02B2701', 'G06F301'),\n",
       " ('G02F113', 'G06T700'),\n",
       " ('G02B2700', 'G02F113'),\n",
       " ('G02F113', 'G06F303'),\n",
       " ('G02B530', 'G02F113'),\n",
       " ('G02B2701', 'G02F113'),\n",
       " ('G02B2700', 'G06T700'),\n",
       " ('G06F303', 'G06T700'),\n",
       " ('G02B530', 'G06T700'),\n",
       " ('G02B2701', 'G06T700'),\n",
       " ('G02B2700', 'G06F303'),\n",
       " ('G02B2700', 'G02B530'),\n",
       " ('G02B2700', 'G02B2701'),\n",
       " ('G02B530', 'G06F303'),\n",
       " ('G02B2701', 'G06F303'),\n",
       " ('G02B2701', 'G02B530'),\n",
       " ('G06F2156', 'G06F2157'),\n",
       " ('G06F2156', 'G06F2162'),\n",
       " ('G06F2157', 'G06F2162'),\n",
       " ('G06F3041', 'G06F3044'),\n",
       " ('G06F1136', 'G06Q1006'),\n",
       " ('G06F128', 'H04W5202'),\n",
       " ('G06F128', 'H02J702'),\n",
       " ('G06F126', 'G06F128'),\n",
       " ('H02J702', 'H04W5202'),\n",
       " ('G06F126', 'H04W5202'),\n",
       " ('G06F126', 'H02J702'),\n",
       " ('G06F1130', 'G06F1134'),\n",
       " ('G06F120897', 'G06F1316'),\n",
       " ('A63F1326', 'G06F314'),\n",
       " ('G06F116', 'G06F314'),\n",
       " ('A63F1324', 'G06F314'),\n",
       " ('G06F302', 'G06F314'),\n",
       " ('G06F30338', 'G06F314'),\n",
       " ('A63F1326', 'G06F116'),\n",
       " ('A63F1324', 'A63F1326'),\n",
       " ('A63F1326', 'G06F302'),\n",
       " ('A63F1326', 'G06F30338'),\n",
       " ('A63F1324', 'G06F116'),\n",
       " ('G06F116', 'G06F302'),\n",
       " ('G06F116', 'G06F30338'),\n",
       " ('A63F1324', 'G06F302'),\n",
       " ('A63F1324', 'G06F30338'),\n",
       " ('G06F302', 'G06F30338'),\n",
       " ('G06F314', 'G09G33208'),\n",
       " ('G06F1727', 'G06F1730'),\n",
       " ('G06F1730', 'G10L1526'),\n",
       " ('G06F1727', 'G10L1526'),\n",
       " ('G06F301', 'G09B502'),\n",
       " ('G06F301', 'G06F3044'),\n",
       " ('G06F3041', 'G09B502'),\n",
       " ('G06F3044', 'G09B502'),\n",
       " ('G06F1324', 'G06F306'),\n",
       " ('G06F1312', 'G06F1324'),\n",
       " ('G05B19042', 'G06F1324'),\n",
       " ('G06F1312', 'G06F306'),\n",
       " ('G05B19042', 'G06F306'),\n",
       " ('G05B19042', 'G06F1312'),\n",
       " ('G06F948', 'H04L12911'),\n",
       " ('G06F948', 'G06F950'),\n",
       " ('G06F950', 'H04L12911'),\n",
       " ('G06F1721', 'H04L2908'),\n",
       " ('G06F1721', 'G06K920'),\n",
       " ('G06K920', 'H04L2908'),\n",
       " ('B60K3500', 'G06F116'),\n",
       " ('G06F116', 'G06F3041'),\n",
       " ('G02F11335', 'G06F116'),\n",
       " ('G02F11333', 'G06F116'),\n",
       " ('B60K3500', 'G06F3041'),\n",
       " ('B60K3500', 'G02F11335'),\n",
       " ('B60K3500', 'G02F11333'),\n",
       " ('G02F11335', 'G06F3041'),\n",
       " ('G02F11333', 'G06F3041'),\n",
       " ('G02F11333', 'G02F11335'),\n",
       " ('G06F950', 'H04L2908'),\n",
       " ('G06F1214', 'G06F306'),\n",
       " ('G06F312', 'G07G500'),\n",
       " ('G06F2157', 'H04L2906'),\n",
       " ('G06F30354', 'G06F3038'),\n",
       " ('G06F9455', 'G06K1502'),\n",
       " ('G06F1727', 'G06F1728'),\n",
       " ('G06F1724', 'G06F1728'),\n",
       " ('G06F1724', 'G06F1727'),\n",
       " ('G06F2162', 'H04L2906'),\n",
       " ('G06F1336', 'G06F2160'),\n",
       " ('G06F2160', 'H04L908'),\n",
       " ('G06F2160', 'G06F2162'),\n",
       " ('G06F2160', 'H04L916'),\n",
       " ('G06F1336', 'H04L908'),\n",
       " ('G06F1336', 'G06F2162'),\n",
       " ('G06F1336', 'H04L916'),\n",
       " ('G06F2162', 'H04L908'),\n",
       " ('H04L908', 'H04L916'),\n",
       " ('G06F2162', 'H04L916'),\n",
       " ('G06F306', 'G11B5008'),\n",
       " ('G06F306', 'G11C1604'),\n",
       " ('G06F306', 'G11C1606'),\n",
       " ('G11C1604', 'G11C1606'),\n",
       " ('G06F132', 'G06F1340'),\n",
       " ('G06F1340', 'G06F1342'),\n",
       " ('G06F132', 'G06F1342'),\n",
       " ('G06F2160', 'G06F312'),\n",
       " ('G06F2131', 'G06F2160'),\n",
       " ('G06F2131', 'G06F312'),\n",
       " ('G06F948', 'G06F954'),\n",
       " ('G06F30354', 'G06F3042'),\n",
       " ('G06F30354', 'G06F3043'),\n",
       " ('G06F30354', 'G06F3041'),\n",
       " ('G06F3042', 'G06F3043'),\n",
       " ('G06F3041', 'G06F3043'),\n",
       " ('G06F1728', 'G10L1518'),\n",
       " ('G06F1727', 'G10L1518'),\n",
       " ('G06F1340', 'G06F306'),\n",
       " ('G06F306', 'G06F9455'),\n",
       " ('G06F1342', 'G06F306'),\n",
       " ('G06F1340', 'G06F9455'),\n",
       " ('G06F1342', 'G06F9455'),\n",
       " ('G06F1212', 'G06F1730'),\n",
       " ('G06F1730', 'H04L2908'),\n",
       " ('G06F1208', 'G06F1730'),\n",
       " ('G06F1212', 'H04L2908'),\n",
       " ('G06F1208', 'G06F1212'),\n",
       " ('G06F1208', 'H04L2908'),\n",
       " ('G06F1900', 'H04N144'),\n",
       " ('G06F1900', 'G06K946'),\n",
       " ('G06K946', 'H04N144'),\n",
       " ('G06F1730', 'H04L12851'),\n",
       " ('B25J1308', 'G06F1721'),\n",
       " ('G06F1721', 'G06F1724'),\n",
       " ('G06F1721', 'G06F30488'),\n",
       " ('G06F1721', 'G06F1722'),\n",
       " ('B25J1308', 'G06F1724'),\n",
       " ('B25J1308', 'G06F30488'),\n",
       " ('B25J1308', 'G06F1722'),\n",
       " ('G06F1724', 'G06F30488'),\n",
       " ('G06F1722', 'G06F1724'),\n",
       " ('G06F1722', 'G06F30488'),\n",
       " ('G06F1730', 'G06F2136'),\n",
       " ('C12N1510', 'G06F1900'),\n",
       " ('G06F13362', 'G06F1342'),\n",
       " ('G06F13362', 'G06F1340'),\n",
       " ('G06F128', 'G09G5377'),\n",
       " ('G06F306', 'G11C1610'),\n",
       " ('G06F306', 'G11C1626'),\n",
       " ('G06F306', 'G11C1634'),\n",
       " ('G11C1610', 'G11C1626'),\n",
       " ('G11C1610', 'G11C1634'),\n",
       " ('G11C1626', 'G11C1634'),\n",
       " ('G06F120', 'H05K720'),\n",
       " ('A61B500', 'G06F1900'),\n",
       " ('A61B50205', 'G06F1900'),\n",
       " ('A61B500', 'A61B50205'),\n",
       " ('G06F30484', 'G06F944'),\n",
       " ('G06F120', 'G06F950'),\n",
       " ('G06F132', 'G06F950'),\n",
       " ('G06F1130', 'G06F950'),\n",
       " ('G06F120', 'G06F132'),\n",
       " ('G06F120', 'G06F948'),\n",
       " ('G06F1130', 'G06F120'),\n",
       " ('G06F132', 'G06F948'),\n",
       " ('G06F1130', 'G06F132'),\n",
       " ('G06F1130', 'G06F948'),\n",
       " ('G06F2145', 'H04L932'),\n",
       " ('G06F2145', 'H04L930'),\n",
       " ('G06F2145', 'H04L908'),\n",
       " ('G06F2145', 'H04L914'),\n",
       " ('H04L930', 'H04L932'),\n",
       " ('H04L908', 'H04L932'),\n",
       " ('H04L914', 'H04L932'),\n",
       " ('H04L908', 'H04L930'),\n",
       " ('H04L914', 'H04L930'),\n",
       " ('H04L908', 'H04L914'),\n",
       " ('G06F3038', 'G06K1906'),\n",
       " ('G06F303', 'G06F3038'),\n",
       " ('G06F3038', 'G09G332'),\n",
       " ('G06F303', 'G06K1906'),\n",
       " ('G06F30354', 'G06K1906'),\n",
       " ('G06K1906', 'G09G332'),\n",
       " ('G06F303', 'G06F30354'),\n",
       " ('G06F303', 'G09G332'),\n",
       " ('G06F30354', 'G09G332'),\n",
       " ('G06F1340', 'G06F938'),\n",
       " ('G06F930', 'G06F938'),\n",
       " ('G06F1340', 'G06F930'),\n",
       " ('G06F9455', 'G06F950'),\n",
       " ('G06F1136', 'G06F930'),\n",
       " ('G06F1107', 'G06F306'),\n",
       " ('G06F1206', 'G06F306'),\n",
       " ('G03F170', 'G06F1750'),\n",
       " ('G06F1730', 'G06Q3006'),\n",
       " ('G06F301', 'G06F30488'),\n",
       " ('G06F301', 'G06F30484'),\n",
       " ('G06F30484', 'G06F30488'),\n",
       " ('G06F3041', 'G06F30488'),\n",
       " ('G06F3041', 'G06F30484'),\n",
       " ('G06F1730', 'G06F2162'),\n",
       " ('G06F30482', 'G06F30488'),\n",
       " ('G06F1922', 'G06F1924'),\n",
       " ('G06F1208', 'G06F1924'),\n",
       " ('G06F1208', 'G06F1922'),\n",
       " ('G06F301', 'G08B600'),\n",
       " ('G06F116', 'G06F301'),\n",
       " ('G06F116', 'G08B600'),\n",
       " ('G06F2162', 'G06F9445'),\n",
       " ('G06F9445', 'H04L2906'),\n",
       " ('G06F120811', 'G06F120817'),\n",
       " ('G06F314', 'H04N564'),\n",
       " ('G06F316', 'H04R300'),\n",
       " ('G06F3041', 'H02J735'),\n",
       " ('G02F11343', 'G06F3041'),\n",
       " ('G06F3044', 'H02J735'),\n",
       " ('G02F11333', 'G06F3044'),\n",
       " ('G02F11343', 'G06F3044'),\n",
       " ('G02F11333', 'H02J735'),\n",
       " ('G02F11343', 'H02J735'),\n",
       " ('G02F11333', 'G02F11343'),\n",
       " ('G06F2100', 'G06F9455'),\n",
       " ('G06F1728', 'G06F944'),\n",
       " ('G06F1728', 'G06F1730'),\n",
       " ('G06F1730', 'G06F944'),\n",
       " ('G06F2136', 'G06F3041'),\n",
       " ('G06F2136', 'H04W1208'),\n",
       " ('G06F3041', 'H04W1208'),\n",
       " ('G06F132', 'G06F316'),\n",
       " ('G05B1502', 'G06F132'),\n",
       " ('G05B1502', 'G06F316'),\n",
       " ('G06F2155', 'G06F2157'),\n",
       " ('G06F1730', 'G06F2157'),\n",
       " ('G06F1730', 'G06F2155'),\n",
       " ('G06F2155', 'H04L2906'),\n",
       " ('G06F1730', 'H04L2906'),\n",
       " ('G06F30354', 'G06F3044'),\n",
       " ('G06F3038', 'G06F3041'),\n",
       " ('G06F3038', 'G06F3044'),\n",
       " ('G06F1136', 'G06F944'),\n",
       " ('G06F301', 'H04N21422'),\n",
       " ('G06F301', 'G06F30338'),\n",
       " ('G06F30338', 'H04N21422'),\n",
       " ('B60K3500', 'G06F301'),\n",
       " ('G06F301', 'H04N533'),\n",
       " ('B60K3500', 'G02B2701'),\n",
       " ('G02B2701', 'H04N533'),\n",
       " ('B60K3500', 'H04N533'),\n",
       " ('G06F1337', 'G06F306'),\n",
       " ('G06F1114', 'G06F1730'),\n",
       " ('G06F1316', 'G06F13364'),\n",
       " ('G06F1110', 'G06F306'),\n",
       " ('G06F1107', 'G06F130'),\n",
       " ('G06F130', 'H04L1212'),\n",
       " ('G06F1107', 'H04L1212'),\n",
       " ('G06F13372', 'G06F1340'),\n",
       " ('G06F30362', 'G06F3041'),\n",
       " ('G06F3041', 'G06F30481'),\n",
       " ('G06F3041', 'G06F30482'),\n",
       " ('G06F30354', 'G06F30362'),\n",
       " ('G06F30354', 'G06F30481'),\n",
       " ('G06F30354', 'G06F30488'),\n",
       " ('G06F30354', 'G06F30482'),\n",
       " ('G06F30362', 'G06F3044'),\n",
       " ('G06F30362', 'G06F30481'),\n",
       " ('G06F30362', 'G06F30488'),\n",
       " ('G06F30362', 'G06F30482'),\n",
       " ('G06F3044', 'G06F30481'),\n",
       " ('G06F3044', 'G06F30488'),\n",
       " ('G06F3044', 'G06F30482'),\n",
       " ('G06F30481', 'G06F30488'),\n",
       " ('G06F30481', 'G06F30482'),\n",
       " ('G06F2136', 'G06F30488'),\n",
       " ('G06F2136', 'G06K900'),\n",
       " ('G06F2136', 'G06F30481'),\n",
       " ('G06F3041', 'G06K900'),\n",
       " ('G06F30488', 'G06K900'),\n",
       " ('G06F30481', 'G06K900'),\n",
       " ('G06F13364', 'G06F948'),\n",
       " ('G06F1136', 'G06F2157'),\n",
       " ('G06F1110', 'H03M1315'),\n",
       " ('G06F1110', 'G06F1114'),\n",
       " ('G06F1110', 'H04L2908'),\n",
       " ('G06F1114', 'H03M1315'),\n",
       " ('H03M1315', 'H04L2908'),\n",
       " ('G06F1114', 'G06F1114'),\n",
       " ('G06F1114', 'H04L2908'),\n",
       " ('H04L2908', 'H04L2908'),\n",
       " ('G06F3044', 'H04N100'),\n",
       " ('G06F3044', 'G06F30484'),\n",
       " ('G06F30484', 'H04N100'),\n",
       " ('G06F3041', 'H04N100'),\n",
       " ('G06F30488', 'H04N100'),\n",
       " ('E05D1110', 'G06F116'),\n",
       " ('G06F30482', 'H04N718'),\n",
       " ('G06F2160', 'G06F30482'),\n",
       " ('G06F30482', 'H04L2912'),\n",
       " ('G06F30482', 'H04L2908'),\n",
       " ('G06F2160', 'H04N718'),\n",
       " ('H04L2912', 'H04N718'),\n",
       " ('H04L2908', 'H04N718'),\n",
       " ('G06F2160', 'H04L2912'),\n",
       " ('G06F2160', 'H04L2908'),\n",
       " ('H04L2908', 'H04L2912'),\n",
       " ('G06F1107', 'H03M1309'),\n",
       " ('G06F1107', 'H03M1300'),\n",
       " ('G06F1107', 'G06F1110'),\n",
       " ('H03M1300', 'H03M1309'),\n",
       " ('G06F1110', 'H03M1309'),\n",
       " ('G06F1110', 'H03M1300'),\n",
       " ('G06F316', 'G10L2572'),\n",
       " ('G06F316', 'H04R110'),\n",
       " ('G10L2572', 'H04R110'),\n",
       " ('G06F316', 'H04R312'),\n",
       " ('G06F316', 'H04R2900'),\n",
       " ('H04R2900', 'H04R312'),\n",
       " ('G02F11335', 'G02F11343'),\n",
       " ('G02F11335', 'G06F3044'),\n",
       " ('G06F1724', 'G06F1730'),\n",
       " ('G06F1722', 'G06F1730'),\n",
       " ('G06F30484', 'G06F9445'),\n",
       " ('G03F742', 'G06F120'),\n",
       " ('G03F720', 'G06F120'),\n",
       " ('G06F120', 'H05K502'),\n",
       " ('G03F720', 'G03F742'),\n",
       " ('G03F742', 'H05K720'),\n",
       " ('G03F742', 'H05K502'),\n",
       " ('G03F720', 'H05K720'),\n",
       " ('G03F720', 'H05K502'),\n",
       " ('H05K502', 'H05K720'),\n",
       " ('G06F2135', 'G06F316'),\n",
       " ('G06F316', 'H04B304'),\n",
       " ('G06F2134', 'G06F316'),\n",
       " ('G06F316', 'G10L19018'),\n",
       " ('G06F2135', 'H04B304'),\n",
       " ('G06F2134', 'G06F2135'),\n",
       " ('G06F2135', 'H04R110'),\n",
       " ('G06F2135', 'G10L19018'),\n",
       " ('G06F2134', 'H04B304'),\n",
       " ('H04B304', 'H04R110'),\n",
       " ('G10L19018', 'H04B304'),\n",
       " ('G06F2134', 'H04R110'),\n",
       " ('G06F2134', 'G10L19018'),\n",
       " ('G10L19018', 'H04R110'),\n",
       " ('G06F30481', 'G06F30484'),\n",
       " ('G06F1730', 'G06N9900'),\n",
       " ('G06F30488', 'H04N5232'),\n",
       " ('G06F30488', 'G11B27031'),\n",
       " ('G11B27031', 'H04N5232'),\n",
       " ('G06F30484', 'H04N5232'),\n",
       " ('G06F30484', 'G11B27031'),\n",
       " ('G06F116', 'G06F30488'),\n",
       " ('G06F116', 'G06F30484'),\n",
       " ('G06F1336', 'G06F1342'),\n",
       " ('G06F2157', 'H04L932'),\n",
       " ('H04L2906', 'H04L932'),\n",
       " ('G06F1107', 'G06N9900'),\n",
       " ('G06F1107', 'G06N700'),\n",
       " ('G06N700', 'G06N9900'),\n",
       " ('G06F1730', 'H04L1224'),\n",
       " ('G06F1730', 'H04L1258'),\n",
       " ('H04L1224', 'H04L1258'),\n",
       " ('G06F2155', 'G06N700'),\n",
       " ('G06F2155', 'G06N9900'),\n",
       " ('G06F2136', 'G06F3044'),\n",
       " ('G06F1312', 'G06F1316'),\n",
       " ('G06F1316', 'G06F1340'),\n",
       " ('G06F1316', 'G06F1342'),\n",
       " ('G06F1316', 'G06F1578'),\n",
       " ('G06F1312', 'G06F1340'),\n",
       " ('G06F1312', 'G06F1342'),\n",
       " ('G06F1312', 'G06F1578'),\n",
       " ('G06F1340', 'G06F1578'),\n",
       " ('G06F1342', 'G06F1578'),\n",
       " ('G06F30484', 'G06F30486'),\n",
       " ('G06F30482', 'G06F944'),\n",
       " ('G06F30482', 'G06F30486'),\n",
       " ('G06F3041', 'G06F944'),\n",
       " ('G06F3041', 'G06F30486'),\n",
       " ('G06F30488', 'G06F944'),\n",
       " ('G06F30486', 'G06F30488'),\n",
       " ('G06F30481', 'G06F944'),\n",
       " ('G06F30486', 'G06F944'),\n",
       " ('G06F30481', 'G06F30486'),\n",
       " ('G06F1750', 'H01L5150'),\n",
       " ('G06F128', 'G06F13362'),\n",
       " ('G06F126', 'G06F13362'),\n",
       " ('G06F128', 'G06F1340'),\n",
       " ('G06F126', 'G06F1340'),\n",
       " ('G06F1340', 'H01L25065'),\n",
       " ('G06F1340', 'G11C11401'),\n",
       " ('G06F306', 'H01L25065'),\n",
       " ('G06F306', 'G11C11401'),\n",
       " ('G11C11401', 'H01L25065'),\n",
       " ('G06F1136', 'G06F1730'),\n",
       " ('G06F1900', 'G06T700'),\n",
       " ('G06F3042', 'G06K952'),\n",
       " ('G06F3042', 'G06K900'),\n",
       " ('G06F3042', 'G06T760'),\n",
       " ('G06F3042', 'G06K962'),\n",
       " ('G06K900', 'G06K952'),\n",
       " ('G06K952', 'G06T760'),\n",
       " ('G06K952', 'G06T700'),\n",
       " ('G06K952', 'G06K962'),\n",
       " ('G06K900', 'G06T760'),\n",
       " ('G06K900', 'G06T700'),\n",
       " ('G06K900', 'G06K962'),\n",
       " ('G06T700', 'G06T760'),\n",
       " ('G06K962', 'G06T760'),\n",
       " ('G06K962', 'G06T700'),\n",
       " ('G06F2162', 'H04W402'),\n",
       " ('G06F2162', 'H04W816'),\n",
       " ('G06F2162', 'H04W1202'),\n",
       " ('H04W402', 'H04W816'),\n",
       " ('H04W1202', 'H04W402'),\n",
       " ('H04W1202', 'H04W816'),\n",
       " ('G06F930', 'G06F946'),\n",
       " ('G06F938', 'G06F946'),\n",
       " ('F16B204', 'G06F120'),\n",
       " ('G06F1202', 'G06F306'),\n",
       " ('G06F1214', 'G06F9455'),\n",
       " ('G06F1202', 'G06F1214'),\n",
       " ('G06F1202', 'G06F9455'),\n",
       " ('G06F302', 'G06F3038'),\n",
       " ('G06F302', 'G06F30354'),\n",
       " ('G06F2162', 'H04L930'),\n",
       " ('H04L2906', 'H04L930'),\n",
       " ('G06F1214', 'G06F1328'),\n",
       " ('G06F1900', 'G06N9900'),\n",
       " ('G06F1900', 'G06K962'),\n",
       " ('G06F1730', 'G06F1900'),\n",
       " ('G06F1900', 'G06K932'),\n",
       " ('G06K962', 'G06N9900'),\n",
       " ('G06N9900', 'G06T700'),\n",
       " ('G06K932', 'G06N9900'),\n",
       " ('G06F1730', 'G06K962'),\n",
       " ('G06K932', 'G06K962'),\n",
       " ('G06F1730', 'G06T700'),\n",
       " ('G06F1730', 'G06K932'),\n",
       " ('G06K932', 'G06T700'),\n",
       " ('G06F702', 'H04L2906'),\n",
       " ('G06F2186', 'H05K718'),\n",
       " ('G06F2186', 'H05K720'),\n",
       " ('H05K718', 'H05K720'),\n",
       " ('G06F120842', 'G06F946'),\n",
       " ('G06F120815', 'G06F946'),\n",
       " ('G06F12084', 'G06F946'),\n",
       " ('G06F306', 'G06F946'),\n",
       " ('G06F120811', 'G06F946'),\n",
       " ('G06F120815', 'G06F120842'),\n",
       " ('G06F12084', 'G06F120842'),\n",
       " ('G06F120842', 'G06F306'),\n",
       " ('G06F120811', 'G06F120842'),\n",
       " ('G06F120815', 'G06F12084'),\n",
       " ('G06F120815', 'G06F306'),\n",
       " ('G06F120811', 'G06F120815'),\n",
       " ('G06F12084', 'G06F306'),\n",
       " ('G06F120811', 'G06F12084'),\n",
       " ('G06F120811', 'G06F306'),\n",
       " ('G06F1120', 'H04L2908'),\n",
       " ('G06F2156', 'G06F2164'),\n",
       " ('G06F2162', 'G06F2164'),\n",
       " ('G06F120871', 'G06F306'),\n",
       " ('G06F120817', 'G06F120871'),\n",
       " ('G06F306', 'G06F306'),\n",
       " ('G06F120817', 'G06F306'),\n",
       " ('G06F1107', 'G06F944'),\n",
       " ('G06F944', 'G06F9445'),\n",
       " ('G06F1107', 'G06F9445'),\n",
       " ('G06F1208', 'G06F306'),\n",
       " ('G06F120804', 'G06F120811'),\n",
       " ('G06F120804', 'G06F12128'),\n",
       " ('G06F120804', 'G06F120808'),\n",
       " ('G06F120811', 'G06F12128'),\n",
       " ('G06F120808', 'G06F120811'),\n",
       " ('G06F120808', 'G06F12128'),\n",
       " ('G06F30484', 'H05B3702'),\n",
       " ('G06F30483', 'G06F30484'),\n",
       " ('G06F30483', 'H05B3702'),\n",
       " ('G06F9445', 'H04L2908'),\n",
       " ('G06F1136', 'G06F306'),\n",
       " ('G06F3041', 'H01L2712'),\n",
       " ('G06F1730', 'H04W402'),\n",
       " ('G06F1730', 'G06F306'),\n",
       " ('G06F1114', 'G06F306'),\n",
       " ('G06F301', 'G06K900'),\n",
       " ('G06F301', 'G06T720'),\n",
       " ('G06K900', 'G06T720'),\n",
       " ('G06T700', 'G06T720'),\n",
       " ('G06F944', 'H04L2908'),\n",
       " ('G06F2164', 'H04L2906'),\n",
       " ('G06F306', 'G06F930'),\n",
       " ('G06F1208', 'G06F930'),\n",
       " ('G06F930', 'G06F9455'),\n",
       " ('G06F1208', 'G06F9455'),\n",
       " ('G06F1730', 'H04B726'),\n",
       " ('G06F30484', 'H04B726'),\n",
       " ('G06F30484', 'H04W402'),\n",
       " ('G06F30482', 'H04B726'),\n",
       " ('G06F30482', 'H04W402'),\n",
       " ('H04B726', 'H04W402'),\n",
       " ('G06F1120', 'H04L1224'),\n",
       " ('G06F2162', 'G06F3041'),\n",
       " ('G06F2136', 'G06F2162'),\n",
       " ('G06F2136', 'G06F3042'),\n",
       " ('G06F2162', 'G06F3042'),\n",
       " ('G06F2162', 'G06K900'),\n",
       " ('G06F1202', 'G06F1206'),\n",
       " ('G06F1724', 'G06K1502'),\n",
       " ('G06F1721', 'G06K1502'),\n",
       " ('G06F130', 'H02M744'),\n",
       " ('G06F130', 'H02M132'),\n",
       " ('H02M132', 'H02M744'),\n",
       " ('G06F120862', 'G06N502'),\n",
       " ('G06F120862', 'G06N700'),\n",
       " ('G06N502', 'G06N700'),\n",
       " ('G06F30346', 'G06F3038'),\n",
       " ('G06F1730', 'G06Q3002'),\n",
       " ('G06Q3002', 'H04L1258'),\n",
       " ('G06F9445', 'G06Q3006'),\n",
       " ('G06F132', 'G06F2132'),\n",
       " ('G06F1210', 'G06F306'),\n",
       " ('G06F312', 'H04N132'),\n",
       " ('G06F312', 'H04N100'),\n",
       " ('H04N100', 'H04N132'),\n",
       " ('G06F306', 'H04L2908'),\n",
       " ('G06F1730', 'G06F950'),\n",
       " ('B66B300', 'G06F316'),\n",
       " ('G06F30482', 'G06F316'),\n",
       " ('G06F1727', 'G06F316'),\n",
       " ('G06F316', 'H04L2908'),\n",
       " ('G06F316', 'H04L1240'),\n",
       " ('B66B300', 'G06F30482'),\n",
       " ('B66B300', 'G06F1727'),\n",
       " ('B66B300', 'H04L2908'),\n",
       " ('B66B300', 'H04L1240'),\n",
       " ('G06F1727', 'G06F30482'),\n",
       " ('G06F30482', 'H04L1240'),\n",
       " ('G06F1727', 'H04L2908'),\n",
       " ('G06F1727', 'H04L1240'),\n",
       " ('H04L1240', 'H04L2908'),\n",
       " ('G06F1922', 'G06F1928'),\n",
       " ('G06F1924', 'G06F1928'),\n",
       " ('G06F121009', 'G06F121036'),\n",
       " ('G06F108', 'G06F1322'),\n",
       " ('G06F12084', 'G06F120875'),\n",
       " ('G06F12084', 'G06F930'),\n",
       " ('G06F120875', 'G06F930'),\n",
       " ('G06F120842', 'G06F120875'),\n",
       " ('G06F120842', 'G06F930'),\n",
       " ('G06F312', 'H04N140'),\n",
       " ('G06F312', 'H04N1405'),\n",
       " ('G06F312', 'H04N1409'),\n",
       " ('H04N140', 'H04N1405'),\n",
       " ('H04N140', 'H04N1409'),\n",
       " ('H04N1405', 'H04N1409'),\n",
       " ('G06F946', 'G06F954'),\n",
       " ('G06F938', 'G06F952'),\n",
       " ('G06F2131', 'G06F2162'),\n",
       " ('G06F3041', 'G06F3047'),\n",
       " ('G06F3044', 'G06F3047'),\n",
       " ('G06F306', 'G11C2944'),\n",
       " ('G06F306', 'G11C2936'),\n",
       " ('G06F306', 'G11C2938'),\n",
       " ('G11C2936', 'G11C2944'),\n",
       " ('G11C2938', 'G11C2944'),\n",
       " ('G06F1202', 'G11C2944'),\n",
       " ('G06F1210', 'G11C2944'),\n",
       " ('G11C2936', 'G11C2938'),\n",
       " ('G06F1202', 'G11C2936'),\n",
       " ('G06F1210', 'G11C2936'),\n",
       " ('G06F1202', 'G11C2938'),\n",
       " ('G06F1210', 'G11C2938'),\n",
       " ('G06F1202', 'G06F1210'),\n",
       " ('G06F1130', 'H04L2908'),\n",
       " ('G06F132', 'H04L2908'),\n",
       " ('G06F301', 'H04W824'),\n",
       " ('G06F301', 'H04W400'),\n",
       " ('G06F301', 'H04W402'),\n",
       " ('G06F301', 'G06F30346'),\n",
       " ('H04W400', 'H04W824'),\n",
       " ('H04W402', 'H04W824'),\n",
       " ('G06F30346', 'H04W824'),\n",
       " ('G06F116', 'H04W824'),\n",
       " ('H04W400', 'H04W402'),\n",
       " ('G06F30346', 'H04W400'),\n",
       " ('G06F116', 'H04W400'),\n",
       " ('G06F30346', 'H04W402'),\n",
       " ('G06F116', 'H04W402'),\n",
       " ('G06F116', 'G06F30346'),\n",
       " ('G06F2136', 'G06F2145'),\n",
       " ('G06F2145', 'G06F30486'),\n",
       " ('G06F2145', 'G06F30482'),\n",
       " ('G06F2145', 'G06F30484'),\n",
       " ('G06F2145', 'G06F944'),\n",
       " ('G06F2145', 'G06F30481'),\n",
       " ('G06F2136', 'G06F30486'),\n",
       " ('G06F2136', 'G06F30482'),\n",
       " ('G06F2136', 'G06F30484'),\n",
       " ('G06F2136', 'G06F944'),\n",
       " ('G06F944', 'G06Q1006'),\n",
       " ('G06F1730', 'G06Q1006'),\n",
       " ('G06F30362', 'G06F30484'),\n",
       " ('G06F116', 'G06F30362'),\n",
       " ('G06F30362', 'G06F316'),\n",
       " ('G06F3041', 'G06F316'),\n",
       " ('G06F30484', 'G06F316'),\n",
       " ('G06F116', 'G06F316'),\n",
       " ('G06F30488', 'G06F316'),\n",
       " ('G06F316', 'G06F316'),\n",
       " ('G06F1750', 'G06F1750'),\n",
       " ('G06F1730', 'G06K900'),\n",
       " ('G06F314', 'G09G502'),\n",
       " ('G06F314', 'G09G512'),\n",
       " ('G09G502', 'G09G512'),\n",
       " ('G06F944', 'G06F945'),\n",
       " ('G06F1340', 'H04M102'),\n",
       " ('G06F108', 'G06F110'),\n",
       " ('G06F301', 'G06F3147'),\n",
       " ('G06F301', 'G06F314'),\n",
       " ('G06F314', 'G06F3147'),\n",
       " ('G06F3147', 'G06K900'),\n",
       " ('G06F314', 'G06K900'),\n",
       " ('G06F30488', 'G08C1702'),\n",
       " ('G06F30346', 'G06F30488'),\n",
       " ('G06F30488', 'H04W400'),\n",
       " ('G06F30346', 'G08C1702'),\n",
       " ('G08C1702', 'H04W400'),\n",
       " ('F28D1504', 'G06F120'),\n",
       " ('F28D1504', 'H05K720'),\n",
       " ('G06F1208', 'G06F946'),\n",
       " ('G06F1208', 'G06F1210'),\n",
       " ('G06F1210', 'G06F946'),\n",
       " ('G06F120891', 'G06F306'),\n",
       " ('G06F120804', 'G06F306'),\n",
       " ('G06F120804', 'G06F120891'),\n",
       " ('G06F3041', 'H01L5152'),\n",
       " ('G06F3041', 'H01L2732'),\n",
       " ('G02F11333', 'H01L5152'),\n",
       " ('H01L2732', 'H01L5152'),\n",
       " ('G06F3044', 'H01L5152'),\n",
       " ('G06F3047', 'H01L5152'),\n",
       " ('G02F11333', 'H01L2732'),\n",
       " ('G02F11333', 'G06F3047'),\n",
       " ('G06F3044', 'H01L2732'),\n",
       " ('G06F3047', 'H01L2732'),\n",
       " ('G06F1724', 'G06F301'),\n",
       " ('G06F1724', 'G06F303'),\n",
       " ('G06F301', 'G09G500'),\n",
       " ('G06F301', 'G09G5373'),\n",
       " ('G09G500', 'G09G5373'),\n",
       " ('G06K900', 'G09G500'),\n",
       " ('G06K900', 'G09G5373'),\n",
       " ('G01L114', 'G06F3041'),\n",
       " ('G01L114', 'G06F3044'),\n",
       " ('G06F1724', 'G06Q3006'),\n",
       " ('G06F1724', 'G06Q3002'),\n",
       " ('G06F1724', 'G06Q1002'),\n",
       " ('G06F1724', 'G06F30482'),\n",
       " ('G06F1724', 'G06F30484'),\n",
       " ('G06Q3002', 'G06Q3006'),\n",
       " ('G06Q1002', 'G06Q3006'),\n",
       " ('G06F30482', 'G06Q3006'),\n",
       " ('G06F30484', 'G06Q3006'),\n",
       " ('G06Q1002', 'G06Q3002'),\n",
       " ('G06F30482', 'G06Q3002'),\n",
       " ('G06F30484', 'G06Q3002'),\n",
       " ('G06F30482', 'G06Q1002'),\n",
       " ('G06F30484', 'G06Q1002'),\n",
       " ('G06F950', 'G06N9900'),\n",
       " ('F16M1122', 'G06F116'),\n",
       " ('F16B4700', 'G06F116'),\n",
       " ('F16B100', 'G06F116'),\n",
       " ('F16M1302', 'G06F116'),\n",
       " ('F16B1100', 'G06F116'),\n",
       " ('F16M1104', 'G06F116'),\n",
       " ('F16M1110', 'G06F116'),\n",
       " ('F16B4700', 'F16M1122'),\n",
       " ('F16B100', 'F16M1122'),\n",
       " ('F16M1122', 'F16M1302'),\n",
       " ('F16B1100', 'F16M1122'),\n",
       " ('F16M1104', 'F16M1122'),\n",
       " ('F16M1110', 'F16M1122'),\n",
       " ('F16B100', 'F16B4700'),\n",
       " ('F16B4700', 'F16M1302'),\n",
       " ('F16B1100', 'F16B4700'),\n",
       " ('F16B4700', 'F16M1104'),\n",
       " ('F16B4700', 'F16M1110'),\n",
       " ('F16B100', 'F16M1302'),\n",
       " ('F16B100', 'F16B1100'),\n",
       " ('F16B100', 'F16M1104'),\n",
       " ('F16B100', 'F16M1110'),\n",
       " ('F16B1100', 'F16M1302'),\n",
       " ('F16M1104', 'F16M1302'),\n",
       " ('F16M1110', 'F16M1302'),\n",
       " ('F16B1100', 'F16M1104'),\n",
       " ('F16B1100', 'F16M1110'),\n",
       " ('F16M1104', 'F16M1110'),\n",
       " ('E05D1100', 'G06F116'),\n",
       " ('E05D312', 'G06F116'),\n",
       " ('E05D1100', 'E05D312'),\n",
       " ('G06F30481', 'H04N214223'),\n",
       " ('G06F30481', 'H04N21234'),\n",
       " ('G06F30481', 'H04N5232'),\n",
       " ('G06F30481', 'G06F30485'),\n",
       " ('H04N21234', 'H04N214223'),\n",
       " ('H04N214223', 'H04N5232'),\n",
       " ('G06F30485', 'H04N214223'),\n",
       " ('H04N21234', 'H04N5232'),\n",
       " ('G06F30485', 'H04N21234'),\n",
       " ('G06F30485', 'H04N5232'),\n",
       " ('G06F2160', 'H04L2906'),\n",
       " ('H04L2906', 'H04L2908'),\n",
       " ('G06F1116', 'G06F1120'),\n",
       " ('G06F1120', 'G06F306'),\n",
       " ('G06F1116', 'G06F306'),\n",
       " ('G06F1107', 'G06F1114'),\n",
       " ('G06F30484', 'G06T340'),\n",
       " ('G06F30488', 'G06T340'),\n",
       " ('G06F1730', 'G06F954'),\n",
       " ('G06F954', 'H04L2908'),\n",
       " ('G06F1730', 'G06N504'),\n",
       " ('G06F121009', 'G06F948'),\n",
       " ('G06F306', 'G06F948'),\n",
       " ('G06F121009', 'G06F306'),\n",
       " ('G06F1202', 'G06F2110'),\n",
       " ('G06F2110', 'G06F306'),\n",
       " ('G06F2110', 'G06F2135'),\n",
       " ('G06F1202', 'G06F2135'),\n",
       " ('G06F2135', 'G06F306'),\n",
       " ('G06F116', 'G06F1730'),\n",
       " ('G06F1730', 'H04M342'),\n",
       " ('G06F1730', 'H04W416'),\n",
       " ('G06F1730', 'H04W414'),\n",
       " ('G06F116', 'H04M342'),\n",
       " ('G06F116', 'H04W416'),\n",
       " ('G06F116', 'H04W414'),\n",
       " ('H04M342', 'H04W416'),\n",
       " ('H04M342', 'H04W414'),\n",
       " ('H04W414', 'H04W416'),\n",
       " ('G05B1502', 'G06F120'),\n",
       " ('G06F2156', 'G06F30484'),\n",
       " ('G06F2156', 'G06F30481'),\n",
       " ('G06F2162', 'G06F30484'),\n",
       " ('G06F2162', 'G06F30481'),\n",
       " ('G06F1721', 'G06F1727'),\n",
       " ('G06F1721', 'G10L1522'),\n",
       " ('G06F1727', 'G10L1522'),\n",
       " ('G06F950', 'G06F952'),\n",
       " ('G02B1300', 'G06F3042'),\n",
       " ('G06F3042', 'H04N931'),\n",
       " ('G02B2728', 'G06F3042'),\n",
       " ('G02B530', 'G06F3042'),\n",
       " ('G02B1300', 'H04N931'),\n",
       " ('G02B1300', 'G02B2728'),\n",
       " ('G02B1300', 'G02B530'),\n",
       " ('G02B2728', 'H04N931'),\n",
       " ('G02B530', 'H04N931'),\n",
       " ('G02B2728', 'G02B530'),\n",
       " ('G01S1758', 'G06F301'),\n",
       " ('G06F301', 'G06K962'),\n",
       " ('G01S1758', 'G06K962'),\n",
       " ('G01S1758', 'G06F303'),\n",
       " ('G01S1758', 'G06K900'),\n",
       " ('G06F303', 'G06K962'),\n",
       " ('G06F303', 'G06K900'),\n",
       " ('G06F130', 'G06F306'),\n",
       " ('G06F306', 'G11C1156'),\n",
       " ('C40B3002', 'G06F1922'),\n",
       " ('G06F1914', 'G06F1922'),\n",
       " ('C40B3002', 'G06F1914'),\n",
       " ('G06F1210', 'G06F9455'),\n",
       " ('G06F120897', 'G06F306'),\n",
       " ('G06F120897', 'G06F1210'),\n",
       " ('G06F120897', 'G06F930'),\n",
       " ('G06F1210', 'G06F930'),\n",
       " ('G06F1202', 'G11C1400'),\n",
       " ('G06F1202', 'G11C710'),\n",
       " ('G06F1202', 'G11C11406'),\n",
       " ('G06F1202', 'G11C114093'),\n",
       " ('G06F1202', 'G11C114096'),\n",
       " ('G11C1400', 'G11C710'),\n",
       " ('G11C11406', 'G11C1400'),\n",
       " ('G11C114093', 'G11C1400'),\n",
       " ('G11C114096', 'G11C1400'),\n",
       " ('G11C11406', 'G11C710'),\n",
       " ('G11C114093', 'G11C710'),\n",
       " ('G11C114096', 'G11C710'),\n",
       " ('G11C11406', 'G11C114093'),\n",
       " ('G11C11406', 'G11C114096'),\n",
       " ('G11C114093', 'G11C114096'),\n",
       " ('G06F306', 'H04L1224'),\n",
       " ('G06F306', 'H04L1226'),\n",
       " ('H04L1224', 'H04L1226'),\n",
       " ('H04L1224', 'H04L2908'),\n",
       " ('H04L1226', 'H04L2908'),\n",
       " ('G06F1722', 'G06F30484'),\n",
       " ('G06F1722', 'G06F30482'),\n",
       " ('G06F1134', 'G06F948'),\n",
       " ('G06F2162', 'G06F944'),\n",
       " ('G06F1728', 'G06F30484'),\n",
       " ('G06F126', 'H04L1210'),\n",
       " ('G06F30346', 'G06F30482'),\n",
       " ('G06F30346', 'H04N544'),\n",
       " ('G06F30346', 'H04N21431'),\n",
       " ('G06F30346', 'H04N21422'),\n",
       " ('G06F30346', 'G06F314'),\n",
       " ('G06F30482', 'H04N544'),\n",
       " ('G06F30482', 'H04N21431'),\n",
       " ('G06F30482', 'H04N21422'),\n",
       " ('G06F30482', 'G06F314'),\n",
       " ('H04N21431', 'H04N544'),\n",
       " ('H04N21422', 'H04N544'),\n",
       " ('G06F314', 'H04N544'),\n",
       " ('G06F30488', 'H04N544'),\n",
       " ('H04N21422', 'H04N21431'),\n",
       " ('G06F314', 'H04N21431'),\n",
       " ('G06F30488', 'H04N21431'),\n",
       " ('G06F314', 'H04N21422'),\n",
       " ('G06F30488', 'H04N21422'),\n",
       " ('G06F30488', 'G06F314'),\n",
       " ('G06F2162', 'G06F2171'),\n",
       " ('G06F1730', 'G06F2171'),\n",
       " ('G06F2110', 'G06F2162'),\n",
       " ('G06F1730', 'G06F2110'),\n",
       " ('B32B514', 'G06F3041'),\n",
       " ('B32B702', 'G06F3041'),\n",
       " ('B32B3814', 'G06F3041'),\n",
       " ('B32B3718', 'G06F3041'),\n",
       " ('B32B3714', 'G06F3041'),\n",
       " ('B32B1504', 'G06F3041'),\n",
       " ('B32B1706', 'G06F3041'),\n",
       " ('B32B3700', 'G06F3041'),\n",
       " ('B32B3712', 'G06F3041'),\n",
       " ('B32B3702', 'G06F3041'),\n",
       " ('B32B704', 'G06F3041'),\n",
       " ('B32B1500', 'G06F3041'),\n",
       " ('B32B514', 'B32B702'),\n",
       " ('B32B3814', 'B32B514'),\n",
       " ('B32B3718', 'B32B514'),\n",
       " ('B32B3714', 'B32B514'),\n",
       " ('B32B1504', 'B32B514'),\n",
       " ('B32B1706', 'B32B514'),\n",
       " ('B32B3700', 'B32B514'),\n",
       " ('B32B3712', 'B32B514'),\n",
       " ('B32B3702', 'B32B514'),\n",
       " ('B32B514', 'B32B704'),\n",
       " ('B32B1500', 'B32B514'),\n",
       " ('B32B3814', 'B32B702'),\n",
       " ('B32B3718', 'B32B702'),\n",
       " ('B32B3714', 'B32B702'),\n",
       " ('B32B1504', 'B32B702'),\n",
       " ('B32B1706', 'B32B702'),\n",
       " ('B32B3700', 'B32B702'),\n",
       " ('B32B3712', 'B32B702'),\n",
       " ('B32B3702', 'B32B702'),\n",
       " ('B32B702', 'B32B704'),\n",
       " ('B32B1500', 'B32B702'),\n",
       " ('B32B3718', 'B32B3814'),\n",
       " ('B32B3714', 'B32B3814'),\n",
       " ('B32B1504', 'B32B3814'),\n",
       " ('B32B1706', 'B32B3814'),\n",
       " ('B32B3700', 'B32B3814'),\n",
       " ('B32B3712', 'B32B3814'),\n",
       " ('B32B3702', 'B32B3814'),\n",
       " ('B32B3814', 'B32B704'),\n",
       " ('B32B1500', 'B32B3814'),\n",
       " ('B32B3714', 'B32B3718'),\n",
       " ('B32B1504', 'B32B3718'),\n",
       " ('B32B1706', 'B32B3718'),\n",
       " ('B32B3700', 'B32B3718'),\n",
       " ('B32B3712', 'B32B3718'),\n",
       " ('B32B3702', 'B32B3718'),\n",
       " ('B32B3718', 'B32B704'),\n",
       " ('B32B1500', 'B32B3718'),\n",
       " ('B32B1504', 'B32B3714'),\n",
       " ('B32B1706', 'B32B3714'),\n",
       " ('B32B3700', 'B32B3714'),\n",
       " ('B32B3712', 'B32B3714'),\n",
       " ('B32B3702', 'B32B3714'),\n",
       " ('B32B3714', 'B32B704'),\n",
       " ('B32B1500', 'B32B3714'),\n",
       " ('B32B1504', 'B32B1706'),\n",
       " ('B32B1504', 'B32B3700'),\n",
       " ('B32B1504', 'B32B3712'),\n",
       " ('B32B1504', 'B32B3702'),\n",
       " ('B32B1504', 'B32B704'),\n",
       " ('B32B1500', 'B32B1504'),\n",
       " ('B32B1706', 'B32B3700'),\n",
       " ('B32B1706', 'B32B3712'),\n",
       " ('B32B1706', 'B32B3702'),\n",
       " ('B32B1706', 'B32B704'),\n",
       " ('B32B1500', 'B32B1706'),\n",
       " ('B32B3700', 'B32B3712'),\n",
       " ('B32B3700', 'B32B3702'),\n",
       " ('B32B3700', 'B32B704'),\n",
       " ('B32B1500', 'B32B3700'),\n",
       " ('B32B3702', 'B32B3712'),\n",
       " ('B32B3712', 'B32B704'),\n",
       " ('B32B1500', 'B32B3712'),\n",
       " ('B32B3702', 'B32B704'),\n",
       " ('B32B1500', 'B32B3702'),\n",
       " ('B32B1500', 'B32B704'),\n",
       " ('G06F126', 'G06F1578'),\n",
       " ('G06F126', 'G06F944'),\n",
       " ('G06F1578', 'G06F944'),\n",
       " ('G06F3041', 'G09G336'),\n",
       " ('G02F11368', 'G06F3041'),\n",
       " ('G02F11362', 'G06F3041'),\n",
       " ('G02F11368', 'G09G336'),\n",
       " ('G02F11362', 'G09G336'),\n",
       " ('G02F11343', 'G09G336'),\n",
       " ('G06F3044', 'G09G336'),\n",
       " ('G02F11333', 'G09G336'),\n",
       " ('G02F11362', 'G02F11368'),\n",
       " ('G02F11343', 'G02F11368'),\n",
       " ('G02F11368', 'G06F3044'),\n",
       " ('G02F11333', 'G02F11368'),\n",
       " ('G02F11343', 'G02F11362'),\n",
       " ('G02F11362', 'G06F3044'),\n",
       " ('G02F11333', 'G02F11362'),\n",
       " ('G06F132', 'G06F9445'),\n",
       " ('G06F132', 'G06F944'),\n",
       " ('G06F120875', 'G06F120891'),\n",
       " ('G06F301', 'G09G508'),\n",
       " ('G06F301', 'G06F30481'),\n",
       " ('G06F301', 'G06F30482'),\n",
       " ('G06F2136', 'G06F301'),\n",
       " ('G06F301', 'G06F3033'),\n",
       " ('G06F30481', 'G09G508'),\n",
       " ('G06F30482', 'G09G508'),\n",
       " ('G06F2136', 'G09G508'),\n",
       " ('G06F3033', 'G09G508'),\n",
       " ('G06F3033', 'G06F30481'),\n",
       " ('G06F3033', 'G06F30482'),\n",
       " ('G06F2136', 'G06F3033'),\n",
       " ('A61B51455', 'G06F1900'),\n",
       " ('A61B500', 'A61B51455'),\n",
       " ('A61B50205', 'A61B51455'),\n",
       " ('G06F306', 'G11C2952'),\n",
       " ('G06F1110', 'G11C2952'),\n",
       " ('G06F30484', 'H04L2908'),\n",
       " ('G06F30486', 'H04N100'),\n",
       " ('G06F2153', 'G06F2162'),\n",
       " ('G06F1580', 'G06F930'),\n",
       " ('G06F116', 'G06F120'),\n",
       " ('G06F116', 'H05K720'),\n",
       " ('G06F316', 'H04R2700'),\n",
       " ('G06F1730', 'H04L2912'),\n",
       " ('G06F1134', 'G06F954'),\n",
       " ('G06F1130', 'G06F954'),\n",
       " ('G06F2132', 'G06F2188'),\n",
       " ('G06F2188', 'H04W1206'),\n",
       " ('G06F2188', 'H04W1208'),\n",
       " ('G06F2132', 'H04W1206'),\n",
       " ('G06F2132', 'H04W1208'),\n",
       " ('H04W1206', 'H04W1208'),\n",
       " ('G06F1730', 'G06F30485'),\n",
       " ('G06F30484', 'G06F30485'),\n",
       " ('G05D100', 'G06F301'),\n",
       " ('G05D100', 'G06F3041'),\n",
       " ('G06F1750', 'H01L2702'),\n",
       " ('G06F1328', 'G06F306'),\n",
       " ('G06F130', 'G06F1328'),\n",
       " ('G06F1328', 'G11C1610'),\n",
       " ('G06F1328', 'G11C1626'),\n",
       " ('G06F130', 'G11C1610'),\n",
       " ('G06F130', 'G11C1626'),\n",
       " ('G06F108', 'G06F132'),\n",
       " ('G06F132', 'H03M900'),\n",
       " ('G06F132', 'G11C1928'),\n",
       " ('G06F108', 'G06F1342'),\n",
       " ('G06F1342', 'H03M900'),\n",
       " ('G06F1342', 'G11C1928'),\n",
       " ('G06F108', 'G06F1340'),\n",
       " ('G06F108', 'H03M900'),\n",
       " ('G06F108', 'G11C1928'),\n",
       " ('G06F1340', 'H03M900'),\n",
       " ('G06F1340', 'G11C1928'),\n",
       " ('G11C1928', 'H03M900'),\n",
       " ('G06F1206', 'G06F1208'),\n",
       " ('G06F9445', 'G06F954'),\n",
       " ('G06F9445', 'G06F9445'),\n",
       " ('G06F954', 'G06F954'),\n",
       " ('G06F30484', 'G06F954'),\n",
       " ...]"
      ]
     },
     "execution_count": 179,
     "metadata": {},
     "output_type": "execute_result"
    }
   ],
   "source": [
    "from collections import OrderedDict\n",
    "\n",
    "# pmi_tE_dict.values()\n",
    "list(OrderedDict.fromkeys(item[0][1] for item in pmi_tE_dict))\n",
    "\n",
    "list(OrderedDict.fromkeys([item for item in pmi_tE_dict]))"
   ]
  },
  {
   "cell_type": "code",
   "execution_count": null,
   "metadata": {},
   "outputs": [],
   "source": [
    "# flat_list = [item for sublist in toEval_ipc for item in sublist]\n",
    "# \"\"\" Input : list of ORDERED feature variables (words for example) -- if feature order does not matter set window_size to inf. \"\"\"\n",
    "# bigram_measures = BigramAssocMeasures()\n",
    "# finder = BigramCollocationFinder.from_words(flat_list, window_size= 2)\n",
    "# temp_pmi = finder.score_ngrams(bigram_measures.pmi)"
   ]
  },
  {
   "cell_type": "code",
   "execution_count": null,
   "metadata": {},
   "outputs": [
    {
     "name": "stdout",
     "output_type": "stream",
     "text": [
      "[(('A23F318', 'A23F526'), 14.46326891598129), (('A23F526', 'A47J3152'), 14.46326891598129), (('A44C900', 'A44C1500'), 14.46326891598129), (('A47F300', 'A47F1106'), 14.46326891598129), (('A47G106', 'A47G114'), 14.46326891598129)]\n",
      "10740\n"
     ]
    }
   ],
   "source": [
    "# print(temp_pmi[:5])\n",
    "# print(len(temp_pmi))"
   ]
  },
  {
   "cell_type": "code",
   "execution_count": null,
   "metadata": {},
   "outputs": [
    {
     "data": {
      "text/plain": [
       "[(('A01G100', 'G06F3041'), 4.705045701254566),\n",
       " (('A23F318', 'A23F526'), 14.46326891598129),\n",
       " (('A23F526', 'A47J3152'), 14.46326891598129),\n",
       " (('A41B108', 'A41D100'), 13.46326891598129),\n",
       " (('A41D100', 'A61B500'), 8.46326891598129)]"
      ]
     },
     "execution_count": 382,
     "metadata": {},
     "output_type": "execute_result"
    }
   ],
   "source": [
    "# sorted(temp_pmi)[:5]"
   ]
  },
  {
   "cell_type": "code",
   "execution_count": null,
   "metadata": {},
   "outputs": [
    {
     "data": {
      "text/plain": [
       "['A23F526', 'A47J3152', 'A44C1500', 'A47F1106', 'A47G114']"
      ]
     },
     "execution_count": 348,
     "metadata": {},
     "output_type": "execute_result"
    }
   ],
   "source": [
    "# list(OrderedDict.fromkeys(item[0][1] for item in temp_pmi))[:5]"
   ]
  },
  {
   "cell_type": "code",
   "execution_count": 383,
   "metadata": {},
   "outputs": [
    {
     "data": {
      "text/plain": [
       "[(('A01G100', 'G06F1724'), 3.5020163500887067),\n",
       " (('A23F318', 'A23F526'), 8.759511722116487),\n",
       " (('A23F318', 'A47J3152'), 8.759511722116487),\n",
       " (('A23F318', 'G06F316'), 3.431635553326907),\n",
       " (('A23F526', 'A47J3152'), 8.759511722116487)]"
      ]
     },
     "execution_count": 383,
     "metadata": {},
     "output_type": "execute_result"
    }
   ],
   "source": [
    "# Convert to list of tuples\n",
    "temp_pmi = [((ipc1, ipc2), value) for (ipc1, ipc2), value in pmi_tE_dict.items()]\n",
    "\n",
    "# Output\n",
    "sorted(temp_pmi)[:5]"
   ]
  },
  {
   "cell_type": "code",
   "execution_count": 459,
   "metadata": {},
   "outputs": [],
   "source": [
    "column_names0 = list(OrderedDict.fromkeys(item[0][0] for item in temp_pmi))\n",
    "column_names1 = list(OrderedDict.fromkeys(item[0][1] for item in temp_pmi))"
   ]
  },
  {
   "cell_type": "code",
   "execution_count": 476,
   "metadata": {},
   "outputs": [
    {
     "name": "stdout",
     "output_type": "stream",
     "text": [
      "False\n",
      "1283\n",
      "1330\n"
     ]
    },
    {
     "data": {
      "text/plain": [
       "False"
      ]
     },
     "execution_count": 476,
     "metadata": {},
     "output_type": "execute_result"
    }
   ],
   "source": [
    "print(sorted(column_names0)==sorted(column_names1))\n",
    "print(len(column_names0))\n",
    "print(len(column_names1))\n",
    "all(item in column_names0 for item in column_names1)"
   ]
  },
  {
   "cell_type": "code",
   "execution_count": 384,
   "metadata": {},
   "outputs": [],
   "source": [
    "\"\"\" Take a PMI list of tuples in nltk format [((w1,w2),value)] and output a nested dictionary \"\"\"\n",
    "nested_dict = {}\n",
    "column_names = list(OrderedDict.fromkeys(item[0][1] for item in temp_pmi))\n",
    "\n",
    "for (key1, key2), value in temp_pmi:\n",
    "    if key1 not in nested_dict:\n",
    "        nested_dict[key1] = {}\n",
    "    nested_dict[key1][key2] = value\n",
    "nested_dict['variables'] = column_names"
   ]
  },
  {
   "cell_type": "code",
   "execution_count": 387,
   "metadata": {},
   "outputs": [],
   "source": [
    "def convert_dict(dict):    \n",
    "    original_dict = dict\n",
    "    converted_dict = {}\n",
    "    # column_names = [item[i][0][1] for i in list(dict.keys()) for item in list(dict.keys())]\n",
    "    column_names = list(OrderedDict.fromkeys(item[1] for item in list(dict.keys())))\n",
    "    # print(column_names)\n",
    "    for (key1, key2), value in original_dict.items():\n",
    "        if key1 not in converted_dict:\n",
    "            converted_dict[key1] = {}\n",
    "        converted_dict[key1][key2] = value\n",
    "    converted_dict['variables'] = column_names\n",
    "    return converted_dict\n",
    "\n",
    "\n",
    "tE_dict_conv = convert_dict(pmi_tE_dict)\n",
    "ES_dict_conv = convert_dict(pmi_ES_dict)\n",
    "# Output the converted dictionary\n",
    "# print(tE_dict_conv)\n",
    "# pprint(ES_dict_conv)\n",
    "\n",
    "# print(pmi_tE_dict)\n",
    "# (pmi_ES_dict)\n",
    "# print(column_names)"
   ]
  },
  {
   "cell_type": "code",
   "execution_count": 403,
   "metadata": {},
   "outputs": [
    {
     "name": "stdout",
     "output_type": "stream",
     "text": [
      "1284\n",
      "1284\n",
      "True\n"
     ]
    }
   ],
   "source": [
    "print(len(nested_dict))\n",
    "print(len(tE_dict_conv))\n",
    "print(nested_dict==tE_dict_conv)"
   ]
  },
  {
   "cell_type": "code",
   "execution_count": 477,
   "metadata": {},
   "outputs": [
    {
     "name": "stdout",
     "output_type": "stream",
     "text": [
      "14693\n",
      "1330\n",
      "14799\n"
     ]
    }
   ],
   "source": [
    "epsilon = 0.01\n",
    "variables_1 = ES_dict_conv['variables']\n",
    "variables_2 = tE_dict_conv['variables']\n",
    "inter_list = list(set(variables_1 + variables_2))\n",
    "\n",
    "print(len(variables_1))\n",
    "print(len(variables_2))\n",
    "print(len(inter_list))\n"
   ]
  },
  {
   "cell_type": "code",
   "execution_count": null,
   "metadata": {},
   "outputs": [
    {
     "name": "stdout",
     "output_type": "stream",
     "text": [
      "None\n"
     ]
    },
    {
     "data": {
      "text/plain": [
       "'G01L906'"
      ]
     },
     "execution_count": 410,
     "metadata": {},
     "output_type": "execute_result"
    }
   ],
   "source": [
    "print(tE_dict_conv.get('G01L906'))"
   ]
  },
  {
   "cell_type": "code",
   "execution_count": 479,
   "metadata": {},
   "outputs": [
    {
     "name": "stderr",
     "output_type": "stream",
     "text": [
      "100%|██████████| 14799/14799 [05:23<00:00, 45.77it/s]\n"
     ]
    }
   ],
   "source": [
    "# get common vectors\n",
    "\n",
    "epsilon = 0.01\n",
    "variables_1 = ES_dict_conv['variables']\n",
    "variables_2 = tE_dict_conv['variables']\n",
    "inter_list = list(set(variables_1 + variables_2))\n",
    "\n",
    "# print(variables_1)\n",
    "\n",
    "vectors = {}\n",
    "for entry in tqdm(inter_list):\n",
    "    vec_1 = [ES_dict_conv.get(entry, {}).get(key, epsilon) for key in list(ES_dict_conv.keys())]\n",
    "    vec_2 = [tE_dict_conv.get(entry, {}).get(key, epsilon) for key in list(tE_dict_conv.keys())]\n",
    "    vectors[entry] = (vec_1, vec_2)"
   ]
  },
  {
   "cell_type": "code",
   "execution_count": 489,
   "metadata": {},
   "outputs": [
    {
     "name": "stdout",
     "output_type": "stream",
     "text": [
      "[0]\n",
      "[(904, 5.229075494282744)]\n",
      "[]\n"
     ]
    }
   ],
   "source": [
    "print([i for i, val in enumerate(inter_list) if val == 'G01L906'])\n",
    "print([(idx, item) for (idx, item) in enumerate(vectors['G01L906'][0]) if item!=0.01])\n",
    "print([(idx, item) for (idx, item) in enumerate(vectors['G01L906'][1]) if item!=0.01])"
   ]
  },
  {
   "cell_type": "code",
   "execution_count": 490,
   "metadata": {},
   "outputs": [
    {
     "name": "stdout",
     "output_type": "stream",
     "text": [
      "G01L906\n",
      "H05K1304\n"
     ]
    },
    {
     "data": {
      "text/plain": [
       "{'H05K1304': 5.229075494282744}"
      ]
     },
     "execution_count": 490,
     "metadata": {},
     "output_type": "execute_result"
    }
   ],
   "source": [
    "print(inter_list[0])\n",
    "print(list(ES_dict_conv.keys())[904])\n",
    "ES_dict_conv[\"G01L906\"]\n",
    "# tE_dict_conv[\"G01L906\"]"
   ]
  },
  {
   "cell_type": "code",
   "execution_count": 494,
   "metadata": {},
   "outputs": [
    {
     "data": {
      "text/plain": [
       "True"
      ]
     },
     "execution_count": 494,
     "metadata": {},
     "output_type": "execute_result"
    }
   ],
   "source": [
    "vecotr_tuples = vectors\n",
    "key_list = vecotr_tuples.keys()\n",
    "surprise_dists = []\n",
    "\n",
    "len(key_list)==len(inter_list)"
   ]
  },
  {
   "cell_type": "code",
   "execution_count": 500,
   "metadata": {},
   "outputs": [
    {
     "ename": "AttributeError",
     "evalue": "type object 'Distance' has no attribute 'jacc_matrix'",
     "output_type": "error",
     "traceback": [
      "\u001b[1;31m---------------------------------------------------------------------------\u001b[0m",
      "\u001b[1;31mAttributeError\u001b[0m                            Traceback (most recent call last)",
      "Cell \u001b[1;32mIn[500], line 11\u001b[0m\n\u001b[0;32m      9\u001b[0m tuple_new \u001b[38;5;241m=\u001b[39m [\u001b[38;5;28mmax\u001b[39m(\u001b[38;5;241m0.\u001b[39m, val) \u001b[38;5;28;01mfor\u001b[39;00m val \u001b[38;5;129;01min\u001b[39;00m tuple_new]   \n\u001b[0;32m     10\u001b[0m \u001b[38;5;28;01mif\u001b[39;00m \u001b[38;5;28msum\u001b[39m(tuple_known) \u001b[38;5;241m!=\u001b[39m \u001b[38;5;241m0\u001b[39m \u001b[38;5;129;01mand\u001b[39;00m \u001b[38;5;28msum\u001b[39m(tuple_new) \u001b[38;5;241m!=\u001b[39m \u001b[38;5;241m0\u001b[39m:   \u001b[38;5;66;03m#### We can't compare to non existing vectors neither - utilité???? car on popule de epsilon!\u001b[39;00m\n\u001b[1;32m---> 11\u001b[0m     surprise_dists\u001b[38;5;241m.\u001b[39mappend(\u001b[43mDistance\u001b[49m\u001b[38;5;241;43m.\u001b[39;49m\u001b[43mjacc_matrix\u001b[49m(tuple_known, tuple_new))\n",
      "\u001b[1;31mAttributeError\u001b[0m: type object 'Distance' has no attribute 'jacc_matrix'"
     ]
    }
   ],
   "source": [
    "from ipcMetrics.divergences import Distance\n",
    "\n",
    "for entry in key_list:\n",
    "    tuple_known = vecotr_tuples[entry][0]\n",
    "    tuple_new = vecotr_tuples[entry][1]\n",
    "    \n",
    "    #### We want only positive PMI score -- no negative values for not going nan or inf values\n",
    "    tuple_known = [max(0., val) for val in tuple_known]\n",
    "    tuple_new = [max(0., val) for val in tuple_new]   \n",
    "    if sum(tuple_known) != 0 and sum(tuple_new) != 0:   #### We can't compare to non existing vectors neither - utilité???? car on popule de epsilon!\n",
    "        surprise_dists.append(Distance.jacc_matrix(tuple_known, tuple_new))\n"
   ]
  },
  {
   "cell_type": "code",
   "execution_count": null,
   "metadata": {},
   "outputs": [],
   "source": [
    "surprise_score = sum(surprise_dists) / len(surprise_dists)\n",
    "dist_surprise = 0\n",
    "if surprise_score > thr_surp:\n",
    "    dist_surprise = 1\n",
    "            "
   ]
  },
  {
   "cell_type": "code",
   "execution_count": 33,
   "metadata": {},
   "outputs": [
    {
     "name": "stderr",
     "output_type": "stream",
     "text": [
      "  7%|▋         | 647/9234 [00:09<02:01, 70.89it/s] \n"
     ]
    },
    {
     "ename": "KeyboardInterrupt",
     "evalue": "",
     "output_type": "error",
     "traceback": [
      "\u001b[1;31m---------------------------------------------------------------------------\u001b[0m",
      "\u001b[1;31mKeyboardInterrupt\u001b[0m                         Traceback (most recent call last)",
      "Cell \u001b[1;32mIn[33], line 15\u001b[0m\n\u001b[0;32m     13\u001b[0m     pmi \u001b[38;5;241m=\u001b[39m pmi_ES_dict\u001b[38;5;241m.\u001b[39mget(pair, \u001b[38;5;28;01mNone\u001b[39;00m)\n\u001b[0;32m     14\u001b[0m     \u001b[38;5;28;01mif\u001b[39;00m pmi \u001b[38;5;129;01mis\u001b[39;00m \u001b[38;5;28;01mNone\u001b[39;00m:\n\u001b[1;32m---> 15\u001b[0m         pmi \u001b[38;5;241m=\u001b[39m \u001b[43mnp\u001b[49m\u001b[38;5;241;43m.\u001b[39;49m\u001b[43mmax\u001b[49m\u001b[43m(\u001b[49m\u001b[38;5;28;43mlist\u001b[39;49m\u001b[43m(\u001b[49m\u001b[43mpmi_ES_dict\u001b[49m\u001b[38;5;241;43m.\u001b[39;49m\u001b[43mvalues\u001b[49m\u001b[43m(\u001b[49m\u001b[43m)\u001b[49m\u001b[43m)\u001b[49m\u001b[43m)\u001b[49m  \u001b[38;5;66;03m# Arbitraire\u001b[39;00m\n\u001b[0;32m     16\u001b[0m     pmi_sum \u001b[38;5;241m+\u001b[39m\u001b[38;5;241m=\u001b[39m pmi\n\u001b[0;32m     17\u001b[0m pmi_surprise\u001b[38;5;241m.\u001b[39mappend(pmi_sum)\n",
      "File \u001b[1;32m<__array_function__ internals>:180\u001b[0m, in \u001b[0;36mamax\u001b[1;34m(*args, **kwargs)\u001b[0m\n",
      "File \u001b[1;32mc:\\Users\\edgar\\anaconda3\\lib\\site-packages\\numpy\\core\\fromnumeric.py:2793\u001b[0m, in \u001b[0;36mamax\u001b[1;34m(a, axis, out, keepdims, initial, where)\u001b[0m\n\u001b[0;32m   2677\u001b[0m \u001b[38;5;129m@array_function_dispatch\u001b[39m(_amax_dispatcher)\n\u001b[0;32m   2678\u001b[0m \u001b[38;5;28;01mdef\u001b[39;00m \u001b[38;5;21mamax\u001b[39m(a, axis\u001b[38;5;241m=\u001b[39m\u001b[38;5;28;01mNone\u001b[39;00m, out\u001b[38;5;241m=\u001b[39m\u001b[38;5;28;01mNone\u001b[39;00m, keepdims\u001b[38;5;241m=\u001b[39mnp\u001b[38;5;241m.\u001b[39m_NoValue, initial\u001b[38;5;241m=\u001b[39mnp\u001b[38;5;241m.\u001b[39m_NoValue,\n\u001b[0;32m   2679\u001b[0m          where\u001b[38;5;241m=\u001b[39mnp\u001b[38;5;241m.\u001b[39m_NoValue):\n\u001b[0;32m   2680\u001b[0m \u001b[38;5;250m    \u001b[39m\u001b[38;5;124;03m\"\"\"\u001b[39;00m\n\u001b[0;32m   2681\u001b[0m \u001b[38;5;124;03m    Return the maximum of an array or maximum along an axis.\u001b[39;00m\n\u001b[0;32m   2682\u001b[0m \n\u001b[1;32m   (...)\u001b[0m\n\u001b[0;32m   2791\u001b[0m \u001b[38;5;124;03m    5\u001b[39;00m\n\u001b[0;32m   2792\u001b[0m \u001b[38;5;124;03m    \"\"\"\u001b[39;00m\n\u001b[1;32m-> 2793\u001b[0m     \u001b[38;5;28;01mreturn\u001b[39;00m \u001b[43m_wrapreduction\u001b[49m\u001b[43m(\u001b[49m\u001b[43ma\u001b[49m\u001b[43m,\u001b[49m\u001b[43m \u001b[49m\u001b[43mnp\u001b[49m\u001b[38;5;241;43m.\u001b[39;49m\u001b[43mmaximum\u001b[49m\u001b[43m,\u001b[49m\u001b[43m \u001b[49m\u001b[38;5;124;43m'\u001b[39;49m\u001b[38;5;124;43mmax\u001b[39;49m\u001b[38;5;124;43m'\u001b[39;49m\u001b[43m,\u001b[49m\u001b[43m \u001b[49m\u001b[43maxis\u001b[49m\u001b[43m,\u001b[49m\u001b[43m \u001b[49m\u001b[38;5;28;43;01mNone\u001b[39;49;00m\u001b[43m,\u001b[49m\u001b[43m \u001b[49m\u001b[43mout\u001b[49m\u001b[43m,\u001b[49m\n\u001b[0;32m   2794\u001b[0m \u001b[43m                          \u001b[49m\u001b[43mkeepdims\u001b[49m\u001b[38;5;241;43m=\u001b[39;49m\u001b[43mkeepdims\u001b[49m\u001b[43m,\u001b[49m\u001b[43m \u001b[49m\u001b[43minitial\u001b[49m\u001b[38;5;241;43m=\u001b[39;49m\u001b[43minitial\u001b[49m\u001b[43m,\u001b[49m\u001b[43m \u001b[49m\u001b[43mwhere\u001b[49m\u001b[38;5;241;43m=\u001b[39;49m\u001b[43mwhere\u001b[49m\u001b[43m)\u001b[49m\n",
      "File \u001b[1;32mc:\\Users\\edgar\\anaconda3\\lib\\site-packages\\numpy\\core\\fromnumeric.py:86\u001b[0m, in \u001b[0;36m_wrapreduction\u001b[1;34m(obj, ufunc, method, axis, dtype, out, **kwargs)\u001b[0m\n\u001b[0;32m     83\u001b[0m         \u001b[38;5;28;01melse\u001b[39;00m:\n\u001b[0;32m     84\u001b[0m             \u001b[38;5;28;01mreturn\u001b[39;00m reduction(axis\u001b[38;5;241m=\u001b[39maxis, out\u001b[38;5;241m=\u001b[39mout, \u001b[38;5;241m*\u001b[39m\u001b[38;5;241m*\u001b[39mpasskwargs)\n\u001b[1;32m---> 86\u001b[0m \u001b[38;5;28;01mreturn\u001b[39;00m ufunc\u001b[38;5;241m.\u001b[39mreduce(obj, axis, dtype, out, \u001b[38;5;241m*\u001b[39m\u001b[38;5;241m*\u001b[39mpasskwargs)\n",
      "\u001b[1;31mKeyboardInterrupt\u001b[0m: "
     ]
    }
   ],
   "source": [
    "pmi_surprise = []\n",
    "\n",
    "for patent in tqdm(toEval_ipc):\n",
    "    # Generate pairs from the new patent\n",
    "    new_patent_pairs = []\n",
    "    for i in range(len(patent)):\n",
    "        for j in range(i + 1, len(patent)):\n",
    "            pair = tuple(sorted([patent[i], patent[j]]))\n",
    "            new_patent_pairs.append(pair)\n",
    "    # Sum the PMI values of the pairs in the new patent\n",
    "    pmi_sum = 0\n",
    "    for pair in new_patent_pairs:\n",
    "        pmi = pmi_ES_dict.get(pair, None)\n",
    "        if pmi is None:\n",
    "            pmi = np.max(list(pmi_ES_dict.values()))  # Arbitraire\n",
    "        pmi_sum += pmi\n",
    "    pmi_surprise.append(pmi_sum)\n",
    "    "
   ]
  },
  {
   "cell_type": "code",
   "execution_count": 34,
   "metadata": {},
   "outputs": [],
   "source": [
    "from collections import defaultdict\n",
    "\n",
    "epsilon = np.max(list(pmi_ES_dict.values()))\n",
    "pmi_ES_dict_lambda = defaultdict(lambda: epsilon, pmi_ES_dict)\n",
    "\n",
    "pmi_surprise = []\n",
    "\n",
    "for patent in toEval_ipc:\n",
    "    # Sum the PMI values of the pairs in the new patent\n",
    "    pmi_sum = sum(\n",
    "        pmi_ES_dict_lambda[tuple(sorted([patent[i], patent[j]]))]\n",
    "        for i in range(len(patent))\n",
    "        for j in range(i + 1, len(patent))\n",
    "    )\n",
    "    pmi_surprise.append(pmi_sum)"
   ]
  },
  {
   "cell_type": "code",
   "execution_count": 11,
   "metadata": {},
   "outputs": [
    {
     "name": "stderr",
     "output_type": "stream",
     "text": [
      "  0%|          | 0/9234 [00:00<?, ?it/s]"
     ]
    },
    {
     "name": "stderr",
     "output_type": "stream",
     "text": [
      "100%|██████████| 9234/9234 [00:00<00:00, 62897.40it/s]\n"
     ]
    }
   ],
   "source": [
    "pmi_surprise = []\n",
    "bin=[]\n",
    "\n",
    "for patent in tqdm(toEval_ipc):\n",
    "    # Sum the PMI values of the pairs in the new patent\n",
    "    pmi_sum = sum(\n",
    "        pmi_ES_dict_lambda[tuple(sorted([patent[i], patent[j]]))]\n",
    "        for i in range(len(patent))\n",
    "        for j in range(i + 1, len(patent))\n",
    "    )\n",
    "    pmi_surprise.append(pmi_sum)\n",
    "    bin.append(1 if pmi_sum > 0 else 0)"
   ]
  },
  {
   "cell_type": "code",
   "execution_count": 19,
   "metadata": {},
   "outputs": [
    {
     "data": {
      "text/plain": [
       "12.974482666840602"
      ]
     },
     "execution_count": 19,
     "metadata": {},
     "output_type": "execute_result"
    }
   ],
   "source": [
    "len(pmi_ES_dict)\n",
    "len(pmi_ES_dict_lambda)\n",
    "epsilon"
   ]
  },
  {
   "cell_type": "code",
   "execution_count": 27,
   "metadata": {},
   "outputs": [
    {
     "name": "stdout",
     "output_type": "stream",
     "text": [
      "94.17637767292642\n",
      "0.6846437080355209\n"
     ]
    }
   ],
   "source": [
    "print(np.mean(pmi_surprise))\n",
    "print(np.mean(bin))"
   ]
  },
  {
   "cell_type": "code",
   "execution_count": 677,
   "metadata": {},
   "outputs": [
    {
     "data": {
      "text/plain": [
       "array([[1.        , 0.84737819],\n",
       "       [0.84737819, 1.        ]])"
      ]
     },
     "execution_count": 677,
     "metadata": {},
     "output_type": "execute_result"
    }
   ],
   "source": [
    "np.corrcoef(surprise_bin[0], surprise_norm[0])"
   ]
  },
  {
   "cell_type": "code",
   "execution_count": 678,
   "metadata": {},
   "outputs": [
    {
     "data": {
      "text/plain": [
       "array([[1.        , 0.36115185],\n",
       "       [0.36115185, 1.        ]])"
      ]
     },
     "execution_count": 678,
     "metadata": {},
     "output_type": "execute_result"
    }
   ],
   "source": [
    "np.corrcoef(pmi_surprise, surprise_norm[0])"
   ]
  },
  {
   "cell_type": "code",
   "execution_count": 679,
   "metadata": {},
   "outputs": [
    {
     "data": {
      "text/plain": [
       "array([[ 1.        , -0.50988277],\n",
       "       [-0.50988277,  1.        ]])"
      ]
     },
     "execution_count": 679,
     "metadata": {},
     "output_type": "execute_result"
    }
   ],
   "source": [
    "np.corrcoef([int(b) for b in list(pd.Series(pmi_surprise)<2.5)], surprise_bin[0])"
   ]
  },
  {
   "cell_type": "code",
   "execution_count": 40,
   "metadata": {},
   "outputs": [
    {
     "data": {
      "text/plain": [
       "<module 'ipcMetrics.divergences' from 'c:\\\\Users\\\\edgar\\\\OneDrive\\\\Bureau\\\\Ecole\\\\HEC\\\\A24\\\\BrevetNLP\\\\PatentNovelty\\\\ipcMetrics\\\\divergences.py'>"
      ]
     },
     "execution_count": 40,
     "metadata": {},
     "output_type": "execute_result"
    }
   ],
   "source": [
    "import importlib\n",
    "from ipcMetrics import divergences\n",
    "importlib.reload(divergences)"
   ]
  },
  {
   "cell_type": "code",
   "execution_count": 85,
   "metadata": {},
   "outputs": [
    {
     "data": {
      "text/plain": [
       "[(('H05K500', 'H01H1314'), 0.5849625007211562),\n",
       " (('H05K506', 'H01H1314'), 0.5849625007211562),\n",
       " (('H05K506', 'H05K500'), 0.5849625007211562)]"
      ]
     },
     "execution_count": 85,
     "metadata": {},
     "output_type": "execute_result"
    }
   ],
   "source": [
    "divergences.Distance.pmi(ES_sec_ipc[10], w_size=len(ES_sec_ipc[10]))"
   ]
  },
  {
   "cell_type": "code",
   "execution_count": 90,
   "metadata": {},
   "outputs": [
    {
     "ename": "AttributeError",
     "evalue": "'list' object has no attribute 'values'",
     "output_type": "error",
     "traceback": [
      "\u001b[1;31m---------------------------------------------------------------------------\u001b[0m",
      "\u001b[1;31mAttributeError\u001b[0m                            Traceback (most recent call last)",
      "Cell \u001b[1;32mIn[90], line 1\u001b[0m\n\u001b[1;32m----> 1\u001b[0m pmi_val_list \u001b[38;5;241m=\u001b[39m \u001b[38;5;28mlist\u001b[39m(\u001b[43mpmi_values\u001b[49m\u001b[38;5;241;43m.\u001b[39;49m\u001b[43mvalues\u001b[49m())\n\u001b[0;32m      2\u001b[0m \u001b[38;5;28mprint\u001b[39m(\u001b[38;5;124m\"\u001b[39m\u001b[38;5;124mMean: \u001b[39m\u001b[38;5;124m\"\u001b[39m, np\u001b[38;5;241m.\u001b[39mmean(pmi_val_list))\n\u001b[0;32m      3\u001b[0m \u001b[38;5;28mprint\u001b[39m(\u001b[38;5;124m\"\u001b[39m\u001b[38;5;124mMin: \u001b[39m\u001b[38;5;124m\"\u001b[39m, np\u001b[38;5;241m.\u001b[39mmin(pmi_val_list))\n",
      "\u001b[1;31mAttributeError\u001b[0m: 'list' object has no attribute 'values'"
     ]
    }
   ],
   "source": [
    "pmi_val_list = list(pmi_values.values())\n",
    "print(\"Mean: \", np.mean(pmi_val_list))\n",
    "print(\"Min: \", np.min(pmi_val_list))\n",
    "print(\"Max: \", np.max(pmi_val_list))\n",
    "print(\"Median: \", np.median (pmi_val_list))\n",
    "print(\"St. deviation: \", np.std(pmi_val_list))"
   ]
  }
 ],
 "metadata": {
  "kernelspec": {
   "display_name": "base",
   "language": "python",
   "name": "python3"
  },
  "language_info": {
   "codemirror_mode": {
    "name": "ipython",
    "version": 3
   },
   "file_extension": ".py",
   "mimetype": "text/x-python",
   "name": "python",
   "nbconvert_exporter": "python",
   "pygments_lexer": "ipython3",
   "version": "3.9.16"
  }
 },
 "nbformat": 4,
 "nbformat_minor": 2
}
