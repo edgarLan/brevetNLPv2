{
 "cells": [
  {
   "cell_type": "code",
   "execution_count": 11,
   "metadata": {},
   "outputs": [],
   "source": [
    "import pandas as pd\n",
    "from os import listdir\n",
    "from os.path import isfile, join\n",
    "import json\n",
    "import collections\n",
    "import re\n",
    "from tqdm import tqdm\n",
    "import itertools\n",
    "\n",
    "from itertools import islice\n",
    "from collections import Counter, defaultdict\n",
    "\n",
    "from itertools import chain, combinations\n",
    "import ast\n",
    "\n",
    "\n",
    "import statistics\n",
    "import numpy as np\n",
    "\n",
    "from numpy import core\n",
    "import novelty_ipc\n",
    "from novelty_ipc import Newness, Uniqueness, Difference, Surprise, compute_scores, ipcMetrics\n",
    "import glob"
   ]
  },
  {
   "cell_type": "code",
   "execution_count": 2,
   "metadata": {},
   "outputs": [
    {
     "data": {
      "text/plain": [
       "<module 'novelty_ipc' from 'c:\\\\Users\\\\edgar\\\\OneDrive\\\\Bureau\\\\Ecole\\\\HEC\\\\A24\\\\BrevetNLP\\\\PatentNovelty\\\\ipcMetrics\\\\novelty_ipc.py'>"
      ]
     },
     "execution_count": 2,
     "metadata": {},
     "output_type": "execute_result"
    }
   ],
   "source": [
    "import importlib\n",
    "importlib.reload(novelty_ipc)"
   ]
  },
  {
   "cell_type": "code",
   "execution_count": 4,
   "metadata": {},
   "outputs": [
    {
     "name": "stdout",
     "output_type": "stream",
     "text": [
      "toEval lenght:  9234\n",
      "KS lenght:  173662\n"
     ]
    }
   ],
   "source": [
    "# Importation données\n",
    "# toEval = pd.read_csv('C:/Users/edgar/OneDrive/Bureau/Ecole/HEC/A24/BrevetNLP/exemple données/test/toEval/2016_G06F_patents_toEval.csv') # /home/edgarlanoue/data/csv/toEval/2016_G06F_patents_toEval.csv 'C:/Users/edgar/OneDrive/Bureau/Ecole/HEC/A24/BrevetNLP/exemple données/toEval/2016_G06F_patents_toEval.csv'\n",
    "# KS = pd.read_csv('C:/Users/edgar/OneDrive/Bureau/Ecole/HEC/A24/BrevetNLP/exemple données/test/KS/2016_1115_G06F_KS_raw.csv') # /home/edgarlanoue/data/csv/KS/2016_1115_G06F_KS_raw.csv C:/Users/edgar/OneDrive/Bureau/Ecole/HEC/A24/BrevetNLP/exemple données/KS/2016_1115_G06F_KS_raw.csv\n",
    "\n",
    "# toEval.to_pickle(\"C:/Users/edgar/OneDrive/Bureau/Ecole/HEC/A24/BrevetNLP/exemple données/test/pickledDF/2016_G06F_patents_toEval.pkl\")\n",
    "toEval = pd.read_pickle('C:/Users/edgar/OneDrive/Bureau/Ecole/HEC/A24/BrevetNLP/exemple données/test/pickledDF/2016_G06F_patents_toEval.pkl')\n",
    "KS = pd.read_pickle('C:/Users/edgar/OneDrive/Bureau/Ecole/HEC/A24/BrevetNLP/exemple données/test/pickledDF/2016_1115_G06F_KS_raw.pkl')\n",
    "\n",
    "print(\"toEval lenght: \", len(toEval))\n",
    "print(\"KS lenght: \", len(KS))\n",
    "\n",
    "\n",
    "\n",
    "# Création différents jdD\n",
    "toEval_ipc = list([ast.literal_eval(i) for i in toEval.sec_ipc])\n",
    "KS_ipc = list(set(chain.from_iterable([ast.literal_eval(s) for s in KS.sec_ipc])))\n",
    "KS_sec_ipc = list(pd.Series([ast.literal_eval(i) for i in KS.sec_ipc]))\n",
    "\n"
   ]
  },
  {
   "cell_type": "code",
   "execution_count": 5,
   "metadata": {},
   "outputs": [
    {
     "name": "stdout",
     "output_type": "stream",
     "text": [
      "toEval lenght:  9234\n",
      "KS lenght:  431267\n"
     ]
    }
   ],
   "source": [
    "# toEval = pd.read_pickle('C:/Users/edgar/OneDrive/Bureau/Ecole/HEC/A24/BrevetNLP/exemple données/test/pickledDF/2016_G06F_patents_toEval.pkl') \n",
    "ES = pd.read_pickle('C:/Users/edgar/OneDrive/Bureau/Ecole/HEC/A24/BrevetNLP/exemple données/test/pickledDF/2016_1115_G06F_ES_raw.pkl')\n",
    "print(\"toEval lenght: \", len(toEval))\n",
    "print(\"KS lenght: \", len(ES))\n",
    "\n",
    "# Création différents jdD\n",
    "# toEval_ipc = list([ast.literal_eval(i) for i in toEval.sec_ipc])\n",
    "ES_ipc = list(set(chain.from_iterable([ast.literal_eval(s) for s in ES.sec_ipc])))\n",
    "ES_sec_ipc = list(pd.Series([ast.literal_eval(i) for i in ES.sec_ipc]))"
   ]
  },
  {
   "cell_type": "markdown",
   "metadata": {},
   "source": [
    "### Newness"
   ]
  },
  {
   "cell_type": "code",
   "execution_count": 196,
   "metadata": {},
   "outputs": [],
   "source": [
    "import novelty_ipc\n",
    "import importlib\n",
    "importlib.reload(novelty_ipc)\n",
    "from novelty_ipc import Newness\n",
    "\n",
    "instanceNewness = Newness(list_unique_known=KS_ipc, list_new=toEval_ipc)"
   ]
  },
  {
   "cell_type": "code",
   "execution_count": 197,
   "metadata": {},
   "outputs": [
    {
     "name": "stderr",
     "output_type": "stream",
     "text": [
      "100%|██████████| 9234/9234 [00:01<00:00, 5752.73it/s]\n"
     ]
    }
   ],
   "source": [
    "scoreNewness = instanceNewness.novelty_newness(thr=0)"
   ]
  },
  {
   "cell_type": "code",
   "execution_count": 198,
   "metadata": {},
   "outputs": [
    {
     "name": "stdout",
     "output_type": "stream",
     "text": [
      "[0.0, 0.0, 0.16666666666666666, 0.0, 0.0, 0.0]\n",
      "[0, 0, 1, 0, 0, 0]\n",
      "[0, 0, 0, 0, 0, 0]\n"
     ]
    }
   ],
   "source": [
    "print(scoreNewness[0][10:16])\n",
    "print(scoreNewness[1][10:16])\n",
    "print([1 if (scoreNewness[1][i] == 1 and scoreNewness[2][i] == 1) else 0 for i in range(len(scoreNewness[0]))][:6])"
   ]
  },
  {
   "cell_type": "code",
   "execution_count": 200,
   "metadata": {},
   "outputs": [
    {
     "name": "stdout",
     "output_type": "stream",
     "text": [
      "Counter({'0': 8843, '>0': 391})\n",
      "Counter({0: 8843, 1: 391})\n",
      "Counter({0: 9226, 1: 8})\n"
     ]
    },
    {
     "data": {
      "text/plain": [
       "0.014945940307376301"
      ]
     },
     "execution_count": 200,
     "metadata": {},
     "output_type": "execute_result"
    }
   ],
   "source": [
    "print(Counter('>0' if score > 0 else '0' for score in scoreNewness[0]))\n",
    "print(Counter(scoreNewness[1]))\n",
    "print(Counter([1 if (scoreNewness[1][i] == 1 and scoreNewness[2][i] == 1) else 0 for i in range(len(scoreNewness[0]))]))\n",
    "np.mean(scoreNewness[0])\n"
   ]
  },
  {
   "cell_type": "code",
   "execution_count": 205,
   "metadata": {},
   "outputs": [],
   "source": [
    "import novelty_ipc\n",
    "import importlib\n",
    "importlib.reload(novelty_ipc)\n",
    "from novelty_ipc import Uniqueness\n",
    "from novelty_ipc import Difference"
   ]
  },
  {
   "cell_type": "markdown",
   "metadata": {},
   "source": [
    "### Uniqueness"
   ]
  },
  {
   "cell_type": "code",
   "execution_count": 206,
   "metadata": {},
   "outputs": [],
   "source": [
    "from novelty_ipc import Uniqueness\n",
    "\n",
    "instanceUnique = Uniqueness(list_new=toEval_ipc, list_known=KS_sec_ipc)"
   ]
  },
  {
   "cell_type": "code",
   "execution_count": 207,
   "metadata": {},
   "outputs": [
    {
     "name": "stderr",
     "output_type": "stream",
     "text": [
      "100%|██████████| 9234/9234 [00:00<00:00, 841832.83it/s]\n"
     ]
    }
   ],
   "source": [
    "scoreUnique = instanceUnique.dist_toProto(thr=0.5)"
   ]
  },
  {
   "cell_type": "code",
   "execution_count": 208,
   "metadata": {},
   "outputs": [
    {
     "name": "stdout",
     "output_type": "stream",
     "text": [
      "[1.0, 1.0, 1.0, 0.0, 0.0]\n",
      "[1, 1, 1, 0, 0]\n"
     ]
    }
   ],
   "source": [
    "print(scoreUnique[0][10:15])\n",
    "print(scoreUnique[1][10:15])"
   ]
  },
  {
   "cell_type": "code",
   "execution_count": 209,
   "metadata": {},
   "outputs": [
    {
     "data": {
      "text/plain": [
       "Counter({1: 8184, 0: 1050})"
      ]
     },
     "execution_count": 209,
     "metadata": {},
     "output_type": "execute_result"
    }
   ],
   "source": [
    "Counter(scoreUnique[1])"
   ]
  },
  {
   "cell_type": "code",
   "execution_count": 210,
   "metadata": {},
   "outputs": [
    {
     "data": {
      "text/plain": [
       "0.8949833497429338"
      ]
     },
     "execution_count": 210,
     "metadata": {},
     "output_type": "execute_result"
    }
   ],
   "source": [
    "np.mean(scoreUnique[0])"
   ]
  },
  {
   "cell_type": "markdown",
   "metadata": {},
   "source": [
    "### Difference"
   ]
  },
  {
   "cell_type": "code",
   "execution_count": 212,
   "metadata": {},
   "outputs": [],
   "source": [
    "################################################\n",
    "#do not forget to take out random state!\n",
    "#from PatentNovelty.ipcMetrics.novelty_ipc\n",
    "import novelty_ipc\n",
    "import importlib\n",
    "importlib.reload(novelty_ipc)\n",
    "from novelty_ipc import Uniqueness\n",
    "from novelty_ipc import Difference\n",
    "\n",
    "instanceDiff10 = Difference(list_new=toEval_ipc, list_known=KS_sec_ipc, N=10, nb_K=1000, chunksize=500)\n",
    "# instanceDiff100 = Difference(list_new_Q=KS_sec_ipc, list_known_P=KS_sec_ipc, N=100, nbKS=1000)"
   ]
  },
  {
   "cell_type": "code",
   "execution_count": 213,
   "metadata": {},
   "outputs": [
    {
     "name": "stdout",
     "output_type": "stream",
     "text": [
      "Seuil avec 10:  0.05764059523809524\n"
     ]
    }
   ],
   "source": [
    "print(\"Seuil avec 10: \", instanceDiff10.neighbor_dist)\n",
    "# print(\"Seuil avec 100: \", instanceDiff100.neighbor_dist)"
   ]
  },
  {
   "cell_type": "code",
   "execution_count": 131,
   "metadata": {},
   "outputs": [
    {
     "name": "stderr",
     "output_type": "stream",
     "text": [
      "100%|██████████| 50/50 [00:09<00:00,  5.07it/s]\n"
     ]
    }
   ],
   "source": [
    "rTA10 = instanceDiff10.ratio_toAll(n=50)"
   ]
  },
  {
   "cell_type": "code",
   "execution_count": 139,
   "metadata": {},
   "outputs": [
    {
     "name": "stderr",
     "output_type": "stream",
     "text": [
      "  0%|          | 0/1 [00:00<?, ?it/s]100%|██████████| 1/1 [00:08<00:00,  8.25s/it]\n"
     ]
    }
   ],
   "source": [
    "rTA10_matrix = instanceDiff10.ratio_toAll_matrix(n=50) # Plus rapide (de moitié), ajout de chunksize pour éviter problème de RAM!"
   ]
  },
  {
   "cell_type": "code",
   "execution_count": 140,
   "metadata": {},
   "outputs": [
    {
     "name": "stdout",
     "output_type": "stream",
     "text": [
      "0.9837423270490953\n",
      "0.9837423270490953\n"
     ]
    }
   ],
   "source": [
    "print(np.mean(rTA10[0]))\n",
    "print(np.mean(rTA10_matrix[0]))"
   ]
  },
  {
   "cell_type": "code",
   "execution_count": 141,
   "metadata": {},
   "outputs": [
    {
     "name": "stdout",
     "output_type": "stream",
     "text": [
      "0.9\n",
      "0.9\n"
     ]
    }
   ],
   "source": [
    "print(np.mean(rTA10[1]))\n",
    "print(np.mean(rTA10_matrix[1]))"
   ]
  },
  {
   "cell_type": "code",
   "execution_count": null,
   "metadata": {},
   "outputs": [
    {
     "name": "stderr",
     "output_type": "stream",
     "text": [
      "  0%|          | 0/2 [00:00<?, ?it/s]100%|██████████| 2/2 [00:48<00:00, 24.33s/it]\n",
      "100%|██████████| 19/19 [08:08<00:00, 25.69s/it]\n"
     ]
    }
   ],
   "source": [
    "rTA10_matrix_n1000 = instanceDiff10.ratio_toAll_matrix(n=1000)\n",
    "rTA10_matrix_nall = instanceDiff10.ratio_toAll_matrix(n=\"all\")"
   ]
  },
  {
   "cell_type": "code",
   "execution_count": null,
   "metadata": {},
   "outputs": [],
   "source": [
    "rTA10_test_nall = instanceDiff10.ratio_toAll(n=\"all\") # prend 30 minutes+, version matrix 3 fois moins longue."
   ]
  },
  {
   "cell_type": "code",
   "execution_count": 152,
   "metadata": {},
   "outputs": [
    {
     "name": "stdout",
     "output_type": "stream",
     "text": [
      "0.9837423270490953\n",
      "0.987445186626896\n",
      "0.9887992441791914\n"
     ]
    }
   ],
   "source": [
    "print(np.mean(rTA10_matrix[0]))\n",
    "print(np.mean(rTA10_matrix_n1000[0]))\n",
    "print(np.mean(rTA10_matrix_nall[0]))"
   ]
  },
  {
   "cell_type": "code",
   "execution_count": 193,
   "metadata": {},
   "outputs": [
    {
     "name": "stderr",
     "output_type": "stream",
     "text": [
      "100%|██████████| 500/500 [01:33<00:00,  5.35it/s]\n"
     ]
    }
   ],
   "source": [
    "rTN = instanceDiff10.ratio_toNeighbors(n=500)"
   ]
  },
  {
   "cell_type": "code",
   "execution_count": 214,
   "metadata": {},
   "outputs": [
    {
     "name": "stderr",
     "output_type": "stream",
     "text": [
      "100%|██████████| 1/1 [00:19<00:00, 19.66s/it]\n"
     ]
    }
   ],
   "source": [
    "rTN_matrix = instanceDiff10.ratio_toNeighbors_matrix(n=500)"
   ]
  },
  {
   "cell_type": "code",
   "execution_count": 215,
   "metadata": {},
   "outputs": [
    {
     "name": "stdout",
     "output_type": "stream",
     "text": [
      "0.44339999999999996\n"
     ]
    }
   ],
   "source": [
    "# print(np.mean(rTN[0]))\n",
    "print(np.mean(rTN_matrix[0]))"
   ]
  },
  {
   "cell_type": "code",
   "execution_count": 196,
   "metadata": {},
   "outputs": [
    {
     "name": "stdout",
     "output_type": "stream",
     "text": [
      "0.342\n",
      "0.342\n"
     ]
    }
   ],
   "source": [
    "print(np.mean(rTN[1]))\n",
    "print(np.mean(rTN_matrix[1]))"
   ]
  },
  {
   "cell_type": "markdown",
   "metadata": {},
   "source": [
    "# Surprise"
   ]
  },
  {
   "cell_type": "code",
   "execution_count": 176,
   "metadata": {},
   "outputs": [],
   "source": [
    "import novelty_ipc\n",
    "import importlib\n",
    "importlib.reload(novelty_ipc)\n",
    "from novelty_ipc import Surprise\n",
    "\n",
    "instanceSurp = Surprise(list_expec=ES_sec_ipc, list_new=toEval_ipc)"
   ]
  },
  {
   "cell_type": "code",
   "execution_count": 177,
   "metadata": {},
   "outputs": [
    {
     "name": "stderr",
     "output_type": "stream",
     "text": [
      "100%|██████████| 9234/9234 [00:00<00:00, 318898.34it/s]\n"
     ]
    }
   ],
   "source": [
    "scoreSurpNew = instanceSurp.surprise_new()"
   ]
  },
  {
   "cell_type": "code",
   "execution_count": 216,
   "metadata": {},
   "outputs": [
    {
     "name": "stdout",
     "output_type": "stream",
     "text": [
      "Counter({0: 6504, 1: 2730})\n",
      "0.1820793951073353\n",
      "5.0751831145250845\n"
     ]
    }
   ],
   "source": [
    "print(Counter(scoreSurpNew[1]))\n",
    "print(np.mean(scoreSurpNew[0]))\n",
    "print(np.mean(list(instanceSurp.dict_expec.values())))"
   ]
  },
  {
   "cell_type": "code",
   "execution_count": 179,
   "metadata": {},
   "outputs": [
    {
     "name": "stderr",
     "output_type": "stream",
     "text": [
      "100%|██████████| 9234/9234 [00:00<00:00, 154316.51it/s]\n"
     ]
    }
   ],
   "source": [
    "scoreSurpDiv = instanceSurp.surprise_div(0)"
   ]
  },
  {
   "cell_type": "code",
   "execution_count": 180,
   "metadata": {},
   "outputs": [
    {
     "name": "stdout",
     "output_type": "stream",
     "text": [
      "4.11553224368677\n",
      "0.6846437080355209\n"
     ]
    }
   ],
   "source": [
    "print(np.mean(scoreSurpDiv[0]))\n",
    "print(np.mean(scoreSurpDiv[1]))"
   ]
  },
  {
   "cell_type": "markdown",
   "metadata": {},
   "source": [
    "# Train \n",
    "Fixing thresholds as mean + standard deviation\n",
    "Taking 2 IPC classes: B32B, C07D"
   ]
  },
  {
   "cell_type": "code",
   "execution_count": 26,
   "metadata": {},
   "outputs": [],
   "source": [
    "pathData = \"/home/edgarlanoue/data/csv\" #\"C:/Users/edgar/OneDrive/Bureau/Ecole/HEC/A24/BrevetNLP/exemple données/trainData\"\n",
    "pathOutput = \"/home/edgarlanoue/data/csv/ipcMetrics/train\" #\"C:/Users/edgar/OneDrive/Bureau/Ecole/HEC/A24/BrevetNLP/exemple données/trainData/ipcMetrics\"\n",
    "listIPC =  [\"C07D\", \"B32B\"]\n",
    "listYear = range(2011, 2017)"
   ]
  },
  {
   "cell_type": "code",
   "execution_count": 35,
   "metadata": {},
   "outputs": [],
   "source": [
    "# # import novelty_ipc\n",
    "# import importlib\n",
    "importlib.reload(novelty_ipc)\n",
    "from novelty_ipc import Newness, Uniqueness, Difference, Surprise, compute_scores, ipcMetrics"
   ]
  },
  {
   "cell_type": "code",
   "execution_count": 36,
   "metadata": {},
   "outputs": [
    {
     "name": "stdout",
     "output_type": "stream",
     "text": [
      "C07D\n",
      "     2011\n",
      "\n",
      "\n"
     ]
    },
    {
     "name": "stderr",
     "output_type": "stream",
     "text": [
      "100%|██████████| 1121/1121 [00:00<00:00, 10913.36it/s]\n"
     ]
    },
    {
     "name": "stdout",
     "output_type": "stream",
     "text": [
      "Newness for C07D in 2011; mean: 0.07878416611981363; sd: 0.18805025579562323, mean+sdL: 0.2668344219154369\n"
     ]
    },
    {
     "name": "stderr",
     "output_type": "stream",
     "text": [
      "100%|██████████| 1121/1121 [00:00<00:00, 662414.03it/s]"
     ]
    },
    {
     "name": "stdout",
     "output_type": "stream",
     "text": [
      "Uniqueness for C07D in 2011; mean: 0.9613716073796361; sd: 0.1760034007168493, mean+sdL: 1.1373750080964855\n"
     ]
    },
    {
     "name": "stderr",
     "output_type": "stream",
     "text": [
      "\n",
      "100%|██████████| 3/3 [00:01<00:00,  2.49it/s]\n"
     ]
    },
    {
     "name": "stdout",
     "output_type": "stream",
     "text": [
      "Difference for C07D in 2011; mean: 0.6689027653880464; sd: 0.3551330622224876, mean+sdL: 1.024035827610534\n"
     ]
    },
    {
     "name": "stderr",
     "output_type": "stream",
     "text": [
      "100%|██████████| 1121/1121 [00:00<00:00, 170312.41it/s]\n"
     ]
    },
    {
     "name": "stdout",
     "output_type": "stream",
     "text": [
      "SurpriseNew for C07D in 2011; mean: 0.35676924861593245; sd: 0.44658117735793146, mean+sdL: 0.803350425973864\n"
     ]
    },
    {
     "name": "stderr",
     "output_type": "stream",
     "text": [
      "100%|██████████| 1121/1121 [00:00<00:00, 68172.87it/s]\n"
     ]
    },
    {
     "name": "stdout",
     "output_type": "stream",
     "text": [
      "SurpriseDiv for C07D in 2011; mean: 4.418603462957523; sd: 4.7471051969263405, mean+sdL: 9.165708659883864\n",
      "\n",
      "\n",
      "     2012\n",
      "\n",
      "\n"
     ]
    },
    {
     "name": "stderr",
     "output_type": "stream",
     "text": [
      "100%|██████████| 2430/2430 [00:00<00:00, 7046.54it/s]\n"
     ]
    },
    {
     "name": "stdout",
     "output_type": "stream",
     "text": [
      "Newness for C07D in 2012; mean: 0.07326914812023165; sd: 0.17455781201973938, mean+sdL: 0.24782696013997102\n"
     ]
    },
    {
     "name": "stderr",
     "output_type": "stream",
     "text": [
      "100%|██████████| 2430/2430 [00:00<00:00, 653804.52it/s]\n"
     ]
    },
    {
     "name": "stdout",
     "output_type": "stream",
     "text": [
      "Uniqueness for C07D in 2012; mean: 0.9635243990439974; sd: 0.16142721560311532, mean+sdL: 1.1249516146471128\n"
     ]
    },
    {
     "name": "stderr",
     "output_type": "stream",
     "text": [
      "100%|██████████| 5/5 [00:02<00:00,  1.91it/s]\n"
     ]
    },
    {
     "name": "stdout",
     "output_type": "stream",
     "text": [
      "Difference for C07D in 2012; mean: 0.6326666666666667; sd: 0.3722544596321841, mean+sdL: 1.0049211262988509\n"
     ]
    },
    {
     "name": "stderr",
     "output_type": "stream",
     "text": [
      "100%|██████████| 2430/2430 [00:00<00:00, 65705.84it/s]\n"
     ]
    },
    {
     "name": "stdout",
     "output_type": "stream",
     "text": [
      "SurpriseNew for C07D in 2012; mean: 0.2418157487123295; sd: 0.36086039344087384, mean+sdL: 0.6026761421532033\n"
     ]
    },
    {
     "name": "stderr",
     "output_type": "stream",
     "text": [
      "100%|██████████| 2430/2430 [00:00<00:00, 28526.77it/s]\n"
     ]
    },
    {
     "name": "stdout",
     "output_type": "stream",
     "text": [
      "SurpriseDiv for C07D in 2012; mean: 3.922005316623381; sd: 4.098064846569458, mean+sdL: 8.02007016319284\n",
      "\n",
      "\n",
      "     2013\n",
      "\n",
      "\n"
     ]
    },
    {
     "name": "stderr",
     "output_type": "stream",
     "text": [
      "100%|██████████| 3893/3893 [00:00<00:00, 7749.65it/s]\n"
     ]
    },
    {
     "name": "stdout",
     "output_type": "stream",
     "text": [
      "Newness for C07D in 2013; mean: 0.03463793048039282; sd: 0.12499789919262455, mean+sdL: 0.15963582967301737\n"
     ]
    },
    {
     "name": "stderr",
     "output_type": "stream",
     "text": [
      "100%|██████████| 3893/3893 [00:00<00:00, 685895.38it/s]\n"
     ]
    },
    {
     "name": "stdout",
     "output_type": "stream",
     "text": [
      "Uniqueness for C07D in 2013; mean: 0.9415637921252369; sd: 0.2023798600045317, mean+sdL: 1.1439436521297686\n"
     ]
    },
    {
     "name": "stderr",
     "output_type": "stream",
     "text": [
      "100%|██████████| 8/8 [00:04<00:00,  1.64it/s]\n"
     ]
    },
    {
     "name": "stdout",
     "output_type": "stream",
     "text": [
      "Difference for C07D in 2013; mean: 0.5481376830208066; sd: 0.4011463147488761, mean+sdL: 0.9492839977696826\n"
     ]
    },
    {
     "name": "stderr",
     "output_type": "stream",
     "text": [
      "100%|██████████| 3893/3893 [00:00<00:00, 117702.71it/s]\n"
     ]
    },
    {
     "name": "stdout",
     "output_type": "stream",
     "text": [
      "SurpriseNew for C07D in 2013; mean: 0.1865486868011688; sd: 0.32277877116008524, mean+sdL: 0.509327457961254\n"
     ]
    },
    {
     "name": "stderr",
     "output_type": "stream",
     "text": [
      "100%|██████████| 3893/3893 [00:00<00:00, 50222.92it/s]\n"
     ]
    },
    {
     "name": "stdout",
     "output_type": "stream",
     "text": [
      "SurpriseDiv for C07D in 2013; mean: 3.2031226517328277; sd: 3.6560499383666345, mean+sdL: 6.859172590099462\n",
      "\n",
      "\n",
      "     2014\n",
      "\n",
      "\n"
     ]
    },
    {
     "name": "stderr",
     "output_type": "stream",
     "text": [
      "100%|██████████| 4241/4241 [00:00<00:00, 6609.81it/s]\n"
     ]
    },
    {
     "name": "stdout",
     "output_type": "stream",
     "text": [
      "Newness for C07D in 2014; mean: 0.02490610465169046; sd: 0.10042496387951944, mean+sdL: 0.1253310685312099\n"
     ]
    },
    {
     "name": "stderr",
     "output_type": "stream",
     "text": [
      "100%|██████████| 4241/4241 [00:00<00:00, 631812.29it/s]\n"
     ]
    },
    {
     "name": "stdout",
     "output_type": "stream",
     "text": [
      "Uniqueness for C07D in 2014; mean: 0.949721119236394; sd: 0.18386873966396486, mean+sdL: 1.1335898589003588\n"
     ]
    },
    {
     "name": "stderr",
     "output_type": "stream",
     "text": [
      "100%|██████████| 9/9 [00:07<00:00,  1.25it/s]\n"
     ]
    },
    {
     "name": "stdout",
     "output_type": "stream",
     "text": [
      "Difference for C07D in 2014; mean: 0.5951520867719877; sd: 0.39931464715579884, mean+sdL: 0.9944667339277866\n"
     ]
    },
    {
     "name": "stderr",
     "output_type": "stream",
     "text": [
      "100%|██████████| 4241/4241 [00:00<00:00, 107083.35it/s]\n"
     ]
    },
    {
     "name": "stdout",
     "output_type": "stream",
     "text": [
      "SurpriseNew for C07D in 2014; mean: 0.20510926790476963; sd: 0.3357136716434687, mean+sdL: 0.5408229395482383\n"
     ]
    },
    {
     "name": "stderr",
     "output_type": "stream",
     "text": [
      "100%|██████████| 4241/4241 [00:00<00:00, 48070.08it/s]\n"
     ]
    },
    {
     "name": "stdout",
     "output_type": "stream",
     "text": [
      "SurpriseDiv for C07D in 2014; mean: 3.551538186617995; sd: 3.737320524453803, mean+sdL: 7.288858711071798\n",
      "\n",
      "\n",
      "     2015\n",
      "\n",
      "\n"
     ]
    },
    {
     "name": "stderr",
     "output_type": "stream",
     "text": [
      "100%|██████████| 3522/3522 [00:00<00:00, 6172.10it/s]\n"
     ]
    },
    {
     "name": "stdout",
     "output_type": "stream",
     "text": [
      "Newness for C07D in 2015; mean: 0.023668735853431395; sd: 0.09533036125789415, mean+sdL: 0.11899909711132554\n"
     ]
    },
    {
     "name": "stderr",
     "output_type": "stream",
     "text": [
      "100%|██████████| 3522/3522 [00:00<00:00, 535055.19it/s]\n"
     ]
    },
    {
     "name": "stdout",
     "output_type": "stream",
     "text": [
      "Uniqueness for C07D in 2015; mean: 0.9372084432102861; sd: 0.19598597012063027, mean+sdL: 1.1331944133309164\n"
     ]
    },
    {
     "name": "stderr",
     "output_type": "stream",
     "text": [
      "100%|██████████| 8/8 [00:08<00:00,  1.00s/it]\n"
     ]
    },
    {
     "name": "stdout",
     "output_type": "stream",
     "text": [
      "Difference for C07D in 2015; mean: 0.5335264054514481; sd: 0.41307774128114727, mean+sdL: 0.9466041467325954\n"
     ]
    },
    {
     "name": "stderr",
     "output_type": "stream",
     "text": [
      "100%|██████████| 3522/3522 [00:00<00:00, 101788.34it/s]\n"
     ]
    },
    {
     "name": "stdout",
     "output_type": "stream",
     "text": [
      "SurpriseNew for C07D in 2015; mean: 0.2182634754177261; sd: 0.3414668852652422, mean+sdL: 0.5597303606829683\n"
     ]
    },
    {
     "name": "stderr",
     "output_type": "stream",
     "text": [
      "100%|██████████| 3522/3522 [00:00<00:00, 43441.54it/s]\n"
     ]
    },
    {
     "name": "stdout",
     "output_type": "stream",
     "text": [
      "SurpriseDiv for C07D in 2015; mean: 3.9448339596603224; sd: 3.81365673722637, mean+sdL: 7.7584906968866925\n",
      "\n",
      "\n",
      "     2016\n",
      "\n",
      "\n"
     ]
    },
    {
     "name": "stderr",
     "output_type": "stream",
     "text": [
      "100%|██████████| 2569/2569 [00:00<00:00, 5599.81it/s]\n"
     ]
    },
    {
     "name": "stdout",
     "output_type": "stream",
     "text": [
      "Newness for C07D in 2016; mean: 0.02347430769494956; sd: 0.10054991384492547, mean+sdL: 0.12402422153987502\n"
     ]
    },
    {
     "name": "stderr",
     "output_type": "stream",
     "text": [
      "100%|██████████| 2569/2569 [00:00<00:00, 576397.08it/s]\n"
     ]
    },
    {
     "name": "stdout",
     "output_type": "stream",
     "text": [
      "Uniqueness for C07D in 2016; mean: 0.935128219719127; sd: 0.19692428041289034, mean+sdL: 1.1320525001320174\n"
     ]
    },
    {
     "name": "stderr",
     "output_type": "stream",
     "text": [
      "100%|██████████| 6/6 [00:07<00:00,  1.19s/it]\n"
     ]
    },
    {
     "name": "stdout",
     "output_type": "stream",
     "text": [
      "Difference for C07D in 2016; mean: 0.6136200856364344; sd: 0.4058553209396973, mean+sdL: 1.0194754065761318\n"
     ]
    },
    {
     "name": "stderr",
     "output_type": "stream",
     "text": [
      "100%|██████████| 2569/2569 [00:00<00:00, 83063.53it/s]\n"
     ]
    },
    {
     "name": "stdout",
     "output_type": "stream",
     "text": [
      "SurpriseNew for C07D in 2016; mean: 0.23170290108985817; sd: 0.3436596221284634, mean+sdL: 0.5753625232183216\n"
     ]
    },
    {
     "name": "stderr",
     "output_type": "stream",
     "text": [
      "100%|██████████| 2569/2569 [00:00<00:00, 35577.93it/s]\n"
     ]
    },
    {
     "name": "stdout",
     "output_type": "stream",
     "text": [
      "SurpriseDiv for C07D in 2016; mean: 4.201343094608379; sd: 3.82125960937673, mean+sdL: 8.02260270398511\n",
      "\n",
      "\n",
      "B32B\n",
      "     2011\n",
      "\n",
      "\n"
     ]
    },
    {
     "name": "stderr",
     "output_type": "stream",
     "text": [
      "100%|██████████| 4508/4508 [00:00<00:00, 5186.64it/s]\n"
     ]
    },
    {
     "name": "stdout",
     "output_type": "stream",
     "text": [
      "Newness for B32B in 2011; mean: 0.043712196999059226; sd: 0.12009527723605187, mean+sdL: 0.1638074742351111\n"
     ]
    },
    {
     "name": "stderr",
     "output_type": "stream",
     "text": [
      "100%|██████████| 4508/4508 [00:00<00:00, 649265.93it/s]\n"
     ]
    },
    {
     "name": "stdout",
     "output_type": "stream",
     "text": [
      "Uniqueness for B32B in 2011; mean: 0.9896419592681793; sd: 0.08217136396073073, mean+sdL: 1.07181332322891\n"
     ]
    },
    {
     "name": "stderr",
     "output_type": "stream",
     "text": [
      "100%|██████████| 10/10 [00:17<00:00,  1.72s/it]\n"
     ]
    },
    {
     "name": "stdout",
     "output_type": "stream",
     "text": [
      "Difference for B32B in 2011; mean: 0.8510647737355813; sd: 0.3109730446375413, mean+sdL: 1.1620378183731226\n"
     ]
    },
    {
     "name": "stderr",
     "output_type": "stream",
     "text": [
      "100%|██████████| 4508/4508 [00:00<00:00, 146839.40it/s]\n"
     ]
    },
    {
     "name": "stdout",
     "output_type": "stream",
     "text": [
      "SurpriseNew for B32B in 2011; mean: 0.4136866052037395; sd: 0.385858834217015, mean+sdL: 0.7995454394207545\n"
     ]
    },
    {
     "name": "stderr",
     "output_type": "stream",
     "text": [
      "100%|██████████| 4508/4508 [00:00<00:00, 69946.18it/s]\n"
     ]
    },
    {
     "name": "stdout",
     "output_type": "stream",
     "text": [
      "SurpriseDiv for B32B in 2011; mean: 6.492733559879007; sd: 4.246409335968049, mean+sdL: 10.739142895847056\n",
      "\n",
      "\n",
      "     2012\n",
      "\n",
      "\n"
     ]
    },
    {
     "name": "stderr",
     "output_type": "stream",
     "text": [
      "100%|██████████| 3450/3450 [00:00<00:00, 4995.47it/s]\n"
     ]
    },
    {
     "name": "stdout",
     "output_type": "stream",
     "text": [
      "Newness for B32B in 2012; mean: 0.040329229050575184; sd: 0.12153849255398462, mean+sdL: 0.1618677216045598\n"
     ]
    },
    {
     "name": "stderr",
     "output_type": "stream",
     "text": [
      "100%|██████████| 3450/3450 [00:00<00:00, 603887.35it/s]\n"
     ]
    },
    {
     "name": "stdout",
     "output_type": "stream",
     "text": [
      "Uniqueness for B32B in 2012; mean: 0.9872025534851623; sd: 0.09301993552562926, mean+sdL: 1.0802224890107914\n"
     ]
    },
    {
     "name": "stderr",
     "output_type": "stream",
     "text": [
      "100%|██████████| 7/7 [00:26<00:00,  3.81s/it]\n"
     ]
    },
    {
     "name": "stdout",
     "output_type": "stream",
     "text": [
      "Difference for B32B in 2012; mean: 0.5286840579710145; sd: 0.4507944117110478, mean+sdL: 0.9794784696820622\n"
     ]
    },
    {
     "name": "stderr",
     "output_type": "stream",
     "text": [
      "100%|██████████| 3450/3450 [00:00<00:00, 163856.70it/s]\n"
     ]
    },
    {
     "name": "stdout",
     "output_type": "stream",
     "text": [
      "SurpriseNew for B32B in 2012; mean: 0.3403145422538269; sd: 0.3865271060121872, mean+sdL: 0.726841648266014\n"
     ]
    },
    {
     "name": "stderr",
     "output_type": "stream",
     "text": [
      "100%|██████████| 3450/3450 [00:00<00:00, 79379.62it/s]\n"
     ]
    },
    {
     "name": "stdout",
     "output_type": "stream",
     "text": [
      "SurpriseDiv for B32B in 2012; mean: 5.477546550065974; sd: 4.311098594712014, mean+sdL: 9.788645144777988\n",
      "\n",
      "\n",
      "     2013\n",
      "\n",
      "\n"
     ]
    },
    {
     "name": "stderr",
     "output_type": "stream",
     "text": [
      "100%|██████████| 1246/1246 [00:00<00:00, 6430.22it/s]"
     ]
    },
    {
     "name": "stdout",
     "output_type": "stream",
     "text": [
      "Newness for B32B in 2013; mean: 0.022164736681189328; sd: 0.09292121957158839, mean+sdL: 0.11508595625277772\n"
     ]
    },
    {
     "name": "stderr",
     "output_type": "stream",
     "text": [
      "\n",
      "100%|██████████| 1246/1246 [00:00<00:00, 630258.42it/s]\n"
     ]
    },
    {
     "name": "stdout",
     "output_type": "stream",
     "text": [
      "Uniqueness for B32B in 2013; mean: 0.9530344722158527; sd: 0.19692027461353248, mean+sdL: 1.1499547468293851\n"
     ]
    },
    {
     "name": "stderr",
     "output_type": "stream",
     "text": [
      "100%|██████████| 3/3 [00:05<00:00,  1.72s/it]\n"
     ]
    },
    {
     "name": "stdout",
     "output_type": "stream",
     "text": [
      "Difference for B32B in 2013; mean: 0.37262439807383624; sd: 0.4118668283369623, mean+sdL: 0.7844912264107986\n"
     ]
    },
    {
     "name": "stderr",
     "output_type": "stream",
     "text": [
      "100%|██████████| 1246/1246 [00:00<00:00, 373293.06it/s]\n"
     ]
    },
    {
     "name": "stdout",
     "output_type": "stream",
     "text": [
      "SurpriseNew for B32B in 2013; mean: 0.28637301703112295; sd: 0.4043974942544552, mean+sdL: 0.6907705112855782\n"
     ]
    },
    {
     "name": "stderr",
     "output_type": "stream",
     "text": [
      "100%|██████████| 1246/1246 [00:00<00:00, 204832.75it/s]\n"
     ]
    },
    {
     "name": "stdout",
     "output_type": "stream",
     "text": [
      "SurpriseDiv for B32B in 2013; mean: 3.931653182234486; sd: 4.38871525471091, mean+sdL: 8.320368436945396\n",
      "\n",
      "\n",
      "     2014\n",
      "\n",
      "\n"
     ]
    },
    {
     "name": "stderr",
     "output_type": "stream",
     "text": [
      "100%|██████████| 1010/1010 [00:00<00:00, 4283.31it/s]\n"
     ]
    },
    {
     "name": "stdout",
     "output_type": "stream",
     "text": [
      "Newness for B32B in 2014; mean: 0.037011948447592015; sd: 0.11072114232890867, mean+sdL: 0.14773309077650068\n"
     ]
    },
    {
     "name": "stderr",
     "output_type": "stream",
     "text": [
      "100%|██████████| 1010/1010 [00:00<00:00, 549163.47it/s]\n"
     ]
    },
    {
     "name": "stdout",
     "output_type": "stream",
     "text": [
      "Uniqueness for B32B in 2014; mean: 0.9848683796951124; sd: 0.08365705691433882, mean+sdL: 1.0685254366094512\n"
     ]
    },
    {
     "name": "stderr",
     "output_type": "stream",
     "text": [
      "100%|██████████| 3/3 [00:03<00:00,  1.28s/it]\n"
     ]
    },
    {
     "name": "stdout",
     "output_type": "stream",
     "text": [
      "Difference for B32B in 2014; mean: 0.5723267326732674; sd: 0.43252154090261224, mean+sdL: 1.0048482735758797\n"
     ]
    },
    {
     "name": "stderr",
     "output_type": "stream",
     "text": [
      "100%|██████████| 1010/1010 [00:00<00:00, 164189.26it/s]\n"
     ]
    },
    {
     "name": "stdout",
     "output_type": "stream",
     "text": [
      "SurpriseNew for B32B in 2014; mean: 0.3795694569456946; sd: 0.3715216748298462, mean+sdL: 0.7510911317755409\n"
     ]
    },
    {
     "name": "stderr",
     "output_type": "stream",
     "text": [
      "100%|██████████| 1010/1010 [00:00<00:00, 103694.88it/s]\n"
     ]
    },
    {
     "name": "stdout",
     "output_type": "stream",
     "text": [
      "SurpriseDiv for B32B in 2014; mean: 5.686828674805864; sd: 3.8492798188221706, mean+sdL: 9.536108493628035\n",
      "\n",
      "\n",
      "     2015\n",
      "\n",
      "\n"
     ]
    },
    {
     "name": "stderr",
     "output_type": "stream",
     "text": [
      "100%|██████████| 661/661 [00:00<00:00, 3822.43it/s]\n"
     ]
    },
    {
     "name": "stdout",
     "output_type": "stream",
     "text": [
      "Newness for B32B in 2015; mean: 0.05750684196110022; sd: 0.1311248832165979, mean+sdL: 0.18863172517769813\n"
     ]
    },
    {
     "name": "stderr",
     "output_type": "stream",
     "text": [
      "100%|██████████| 661/661 [00:00<00:00, 500078.45it/s]\n"
     ]
    },
    {
     "name": "stdout",
     "output_type": "stream",
     "text": [
      "Uniqueness for B32B in 2015; mean: 0.9792293477240528; sd: 0.08449711388976656, mean+sdL: 1.0637264616138193\n"
     ]
    },
    {
     "name": "stderr",
     "output_type": "stream",
     "text": [
      "100%|██████████| 2/2 [00:02<00:00,  1.02s/it]\n"
     ]
    },
    {
     "name": "stdout",
     "output_type": "stream",
     "text": [
      "Difference for B32B in 2015; mean: 0.7014523449319213; sd: 0.3914162302181176, mean+sdL: 1.0928685751500389\n"
     ]
    },
    {
     "name": "stderr",
     "output_type": "stream",
     "text": [
      "100%|██████████| 661/661 [00:00<00:00, 115561.46it/s]\n"
     ]
    },
    {
     "name": "stdout",
     "output_type": "stream",
     "text": [
      "SurpriseNew for B32B in 2015; mean: 0.3797808726726587; sd: 0.34362319761890003, mean+sdL: 0.7234040702915587\n"
     ]
    },
    {
     "name": "stderr",
     "output_type": "stream",
     "text": [
      "100%|██████████| 661/661 [00:00<00:00, 47204.84it/s]\n"
     ]
    },
    {
     "name": "stdout",
     "output_type": "stream",
     "text": [
      "SurpriseDiv for B32B in 2015; mean: 6.376743085008199; sd: 3.078970455368293, mean+sdL: 9.455713540376491\n",
      "\n",
      "\n",
      "     2016\n",
      "\n",
      "\n"
     ]
    },
    {
     "name": "stderr",
     "output_type": "stream",
     "text": [
      "100%|██████████| 271/271 [00:00<00:00, 4023.26it/s]\n"
     ]
    },
    {
     "name": "stdout",
     "output_type": "stream",
     "text": [
      "Newness for B32B in 2016; mean: 0.0732563510700042; sd: 0.15499519395189576, mean+sdL: 0.22825154502189995\n"
     ]
    },
    {
     "name": "stderr",
     "output_type": "stream",
     "text": [
      "100%|██████████| 271/271 [00:00<00:00, 479601.85it/s]"
     ]
    },
    {
     "name": "stdout",
     "output_type": "stream",
     "text": [
      "Uniqueness for B32B in 2016; mean: 0.9804955192409067; sd: 0.08782948491052428, mean+sdL: 1.068325004151431\n"
     ]
    },
    {
     "name": "stderr",
     "output_type": "stream",
     "text": [
      "\n",
      "100%|██████████| 1/1 [00:00<00:00,  1.40it/s]\n"
     ]
    },
    {
     "name": "stdout",
     "output_type": "stream",
     "text": [
      "Difference for B32B in 2016; mean: 0.7057933579335792; sd: 0.3731574879385264, mean+sdL: 1.0789508458721055\n"
     ]
    },
    {
     "name": "stderr",
     "output_type": "stream",
     "text": [
      "100%|██████████| 271/271 [00:00<00:00, 107536.08it/s]\n"
     ]
    },
    {
     "name": "stdout",
     "output_type": "stream",
     "text": [
      "SurpriseNew for B32B in 2016; mean: 0.34525679322727293; sd: 0.33692498271444105, mean+sdL: 0.6821817759417139\n"
     ]
    },
    {
     "name": "stderr",
     "output_type": "stream",
     "text": [
      "100%|██████████| 271/271 [00:00<00:00, 65736.88it/s]"
     ]
    },
    {
     "name": "stdout",
     "output_type": "stream",
     "text": [
      "SurpriseDiv for B32B in 2016; mean: 6.0723410376596565; sd: 2.9780125679974456, mean+sdL: 9.050353605657103\n",
      "\n",
      "\n"
     ]
    },
    {
     "name": "stderr",
     "output_type": "stream",
     "text": [
      "\n"
     ]
    }
   ],
   "source": [
    "ipcMetrics(listIPC, listYear, pathData=pathData, pathOutput=pathOutput)"
   ]
  },
  {
   "cell_type": "code",
   "execution_count": 37,
   "metadata": {},
   "outputs": [
    {
     "data": {
      "text/html": [
       "<div>\n",
       "<style scoped>\n",
       "    .dataframe tbody tr th:only-of-type {\n",
       "        vertical-align: middle;\n",
       "    }\n",
       "\n",
       "    .dataframe tbody tr th {\n",
       "        vertical-align: top;\n",
       "    }\n",
       "\n",
       "    .dataframe thead th {\n",
       "        text-align: right;\n",
       "    }\n",
       "</style>\n",
       "<table border=\"1\" class=\"dataframe\">\n",
       "  <thead>\n",
       "    <tr style=\"text-align: right;\">\n",
       "      <th></th>\n",
       "      <th>application_number</th>\n",
       "      <th>label</th>\n",
       "      <th>new_ratio</th>\n",
       "      <th>new_bin</th>\n",
       "      <th>new_len1</th>\n",
       "      <th>uniq_ratio</th>\n",
       "      <th>uniq_bin</th>\n",
       "      <th>diff_ratio</th>\n",
       "      <th>diff_bin</th>\n",
       "      <th>surpNew_ratio</th>\n",
       "      <th>surpNew_bin</th>\n",
       "      <th>surpDiv_ratio</th>\n",
       "      <th>surpDiv_bin</th>\n",
       "    </tr>\n",
       "  </thead>\n",
       "  <tbody>\n",
       "    <tr>\n",
       "      <th>0</th>\n",
       "      <td>14900663</td>\n",
       "      <td>1</td>\n",
       "      <td>0.000000</td>\n",
       "      <td>0</td>\n",
       "      <td>1</td>\n",
       "      <td>1.00</td>\n",
       "      <td>1</td>\n",
       "      <td>0.80</td>\n",
       "      <td>1</td>\n",
       "      <td>0.000000</td>\n",
       "      <td>0</td>\n",
       "      <td>0.000000</td>\n",
       "      <td>0</td>\n",
       "    </tr>\n",
       "    <tr>\n",
       "      <th>1</th>\n",
       "      <td>14724494</td>\n",
       "      <td>1</td>\n",
       "      <td>0.000000</td>\n",
       "      <td>0</td>\n",
       "      <td>0</td>\n",
       "      <td>1.00</td>\n",
       "      <td>1</td>\n",
       "      <td>1.00</td>\n",
       "      <td>1</td>\n",
       "      <td>0.476190</td>\n",
       "      <td>1</td>\n",
       "      <td>7.698116</td>\n",
       "      <td>1</td>\n",
       "    </tr>\n",
       "    <tr>\n",
       "      <th>2</th>\n",
       "      <td>14896426</td>\n",
       "      <td>1</td>\n",
       "      <td>0.000000</td>\n",
       "      <td>0</td>\n",
       "      <td>0</td>\n",
       "      <td>0.75</td>\n",
       "      <td>1</td>\n",
       "      <td>0.00</td>\n",
       "      <td>0</td>\n",
       "      <td>0.000000</td>\n",
       "      <td>0</td>\n",
       "      <td>1.547181</td>\n",
       "      <td>1</td>\n",
       "    </tr>\n",
       "    <tr>\n",
       "      <th>3</th>\n",
       "      <td>14615972</td>\n",
       "      <td>1</td>\n",
       "      <td>0.111111</td>\n",
       "      <td>1</td>\n",
       "      <td>0</td>\n",
       "      <td>1.00</td>\n",
       "      <td>1</td>\n",
       "      <td>1.00</td>\n",
       "      <td>1</td>\n",
       "      <td>0.972222</td>\n",
       "      <td>1</td>\n",
       "      <td>11.318805</td>\n",
       "      <td>1</td>\n",
       "    </tr>\n",
       "    <tr>\n",
       "      <th>4</th>\n",
       "      <td>14890354</td>\n",
       "      <td>1</td>\n",
       "      <td>0.600000</td>\n",
       "      <td>1</td>\n",
       "      <td>0</td>\n",
       "      <td>1.00</td>\n",
       "      <td>1</td>\n",
       "      <td>1.00</td>\n",
       "      <td>1</td>\n",
       "      <td>1.000000</td>\n",
       "      <td>1</td>\n",
       "      <td>11.525131</td>\n",
       "      <td>1</td>\n",
       "    </tr>\n",
       "    <tr>\n",
       "      <th>...</th>\n",
       "      <td>...</td>\n",
       "      <td>...</td>\n",
       "      <td>...</td>\n",
       "      <td>...</td>\n",
       "      <td>...</td>\n",
       "      <td>...</td>\n",
       "      <td>...</td>\n",
       "      <td>...</td>\n",
       "      <td>...</td>\n",
       "      <td>...</td>\n",
       "      <td>...</td>\n",
       "      <td>...</td>\n",
       "      <td>...</td>\n",
       "    </tr>\n",
       "    <tr>\n",
       "      <th>28917</th>\n",
       "      <td>13263792</td>\n",
       "      <td>0</td>\n",
       "      <td>0.000000</td>\n",
       "      <td>0</td>\n",
       "      <td>1</td>\n",
       "      <td>1.00</td>\n",
       "      <td>1</td>\n",
       "      <td>0.00</td>\n",
       "      <td>0</td>\n",
       "      <td>0.000000</td>\n",
       "      <td>0</td>\n",
       "      <td>0.000000</td>\n",
       "      <td>0</td>\n",
       "    </tr>\n",
       "    <tr>\n",
       "      <th>28918</th>\n",
       "      <td>12998018</td>\n",
       "      <td>1</td>\n",
       "      <td>0.000000</td>\n",
       "      <td>0</td>\n",
       "      <td>0</td>\n",
       "      <td>1.00</td>\n",
       "      <td>1</td>\n",
       "      <td>0.97</td>\n",
       "      <td>1</td>\n",
       "      <td>0.000000</td>\n",
       "      <td>0</td>\n",
       "      <td>2.408562</td>\n",
       "      <td>1</td>\n",
       "    </tr>\n",
       "    <tr>\n",
       "      <th>28919</th>\n",
       "      <td>13066570</td>\n",
       "      <td>0</td>\n",
       "      <td>0.000000</td>\n",
       "      <td>0</td>\n",
       "      <td>0</td>\n",
       "      <td>1.00</td>\n",
       "      <td>1</td>\n",
       "      <td>1.00</td>\n",
       "      <td>1</td>\n",
       "      <td>0.000000</td>\n",
       "      <td>0</td>\n",
       "      <td>4.647508</td>\n",
       "      <td>1</td>\n",
       "    </tr>\n",
       "    <tr>\n",
       "      <th>28920</th>\n",
       "      <td>13336171</td>\n",
       "      <td>0</td>\n",
       "      <td>0.000000</td>\n",
       "      <td>0</td>\n",
       "      <td>1</td>\n",
       "      <td>1.00</td>\n",
       "      <td>1</td>\n",
       "      <td>0.00</td>\n",
       "      <td>0</td>\n",
       "      <td>0.000000</td>\n",
       "      <td>0</td>\n",
       "      <td>0.000000</td>\n",
       "      <td>0</td>\n",
       "    </tr>\n",
       "    <tr>\n",
       "      <th>28921</th>\n",
       "      <td>13296621</td>\n",
       "      <td>1</td>\n",
       "      <td>0.000000</td>\n",
       "      <td>0</td>\n",
       "      <td>0</td>\n",
       "      <td>1.00</td>\n",
       "      <td>1</td>\n",
       "      <td>1.00</td>\n",
       "      <td>1</td>\n",
       "      <td>0.095238</td>\n",
       "      <td>1</td>\n",
       "      <td>3.816703</td>\n",
       "      <td>1</td>\n",
       "    </tr>\n",
       "  </tbody>\n",
       "</table>\n",
       "<p>28922 rows × 13 columns</p>\n",
       "</div>"
      ],
      "text/plain": [
       "       application_number  label  new_ratio  new_bin  new_len1  uniq_ratio  \\\n",
       "0                14900663      1   0.000000        0         1        1.00   \n",
       "1                14724494      1   0.000000        0         0        1.00   \n",
       "2                14896426      1   0.000000        0         0        0.75   \n",
       "3                14615972      1   0.111111        1         0        1.00   \n",
       "4                14890354      1   0.600000        1         0        1.00   \n",
       "...                   ...    ...        ...      ...       ...         ...   \n",
       "28917            13263792      0   0.000000        0         1        1.00   \n",
       "28918            12998018      1   0.000000        0         0        1.00   \n",
       "28919            13066570      0   0.000000        0         0        1.00   \n",
       "28920            13336171      0   0.000000        0         1        1.00   \n",
       "28921            13296621      1   0.000000        0         0        1.00   \n",
       "\n",
       "       uniq_bin  diff_ratio  diff_bin  surpNew_ratio  surpNew_bin  \\\n",
       "0             1        0.80         1       0.000000            0   \n",
       "1             1        1.00         1       0.476190            1   \n",
       "2             1        0.00         0       0.000000            0   \n",
       "3             1        1.00         1       0.972222            1   \n",
       "4             1        1.00         1       1.000000            1   \n",
       "...         ...         ...       ...            ...          ...   \n",
       "28917         1        0.00         0       0.000000            0   \n",
       "28918         1        0.97         1       0.000000            0   \n",
       "28919         1        1.00         1       0.000000            0   \n",
       "28920         1        0.00         0       0.000000            0   \n",
       "28921         1        1.00         1       0.095238            1   \n",
       "\n",
       "       surpDiv_ratio  surpDiv_bin  \n",
       "0           0.000000            0  \n",
       "1           7.698116            1  \n",
       "2           1.547181            1  \n",
       "3          11.318805            1  \n",
       "4          11.525131            1  \n",
       "...              ...          ...  \n",
       "28917       0.000000            0  \n",
       "28918       2.408562            1  \n",
       "28919       4.647508            1  \n",
       "28920       0.000000            0  \n",
       "28921       3.816703            1  \n",
       "\n",
       "[28922 rows x 13 columns]"
      ]
     },
     "execution_count": 37,
     "metadata": {},
     "output_type": "execute_result"
    }
   ],
   "source": [
    "import pandas as pd\n",
    "import glob\n",
    "\n",
    "# Define the path where your CSV files are stored\n",
    "path = '/home/edgarlanoue/data/csv/ipcMetrics/train'\n",
    "\n",
    "# Use glob to find all CSV files in the directory\n",
    "all_files = glob.glob(f\"{path}/*.csv\")\n",
    "\n",
    "# Read each CSV file and store it in a list of DataFrames\n",
    "df_list = [pd.read_csv(file) for file in all_files]\n",
    "\n",
    "# Concatenate all DataFrames in the list into a single DataFrame\n",
    "combined_df = pd.concat(df_list, ignore_index=True)\n",
    "\n",
    "# Display the first few rows of the combined DataFrame\n",
    "combined_df"
   ]
  },
  {
   "cell_type": "code",
   "execution_count": 50,
   "metadata": {},
   "outputs": [
    {
     "data": {
      "text/html": [
       "<div>\n",
       "<style scoped>\n",
       "    .dataframe tbody tr th:only-of-type {\n",
       "        vertical-align: middle;\n",
       "    }\n",
       "\n",
       "    .dataframe tbody tr th {\n",
       "        vertical-align: top;\n",
       "    }\n",
       "\n",
       "    .dataframe thead th {\n",
       "        text-align: right;\n",
       "    }\n",
       "</style>\n",
       "<table border=\"1\" class=\"dataframe\">\n",
       "  <thead>\n",
       "    <tr style=\"text-align: right;\">\n",
       "      <th></th>\n",
       "      <th>part</th>\n",
       "      <th>new_ratio_mean</th>\n",
       "      <th>uniq_ratio_mean</th>\n",
       "      <th>diff_ratio_mean</th>\n",
       "      <th>surpNew_ratio_mean</th>\n",
       "      <th>surpDiv_ratio_mean</th>\n",
       "      <th>new_ratio_std</th>\n",
       "      <th>uniq_ratio_std</th>\n",
       "      <th>diff_ratio_std</th>\n",
       "      <th>surpNew_ratio_std</th>\n",
       "      <th>...</th>\n",
       "      <th>new_ratio_mean_plus_sd</th>\n",
       "      <th>uniq_ratio_mean_plus_sd</th>\n",
       "      <th>diff_ratio_mean_plus_sd</th>\n",
       "      <th>surpNew_ratio_mean_plus_sd</th>\n",
       "      <th>surpDiv_ratio_mean_plus_sd</th>\n",
       "      <th>new_ratio_mean_minus_sd</th>\n",
       "      <th>uniq_ratio_mean_minus_sd</th>\n",
       "      <th>diff_ratio_mean_minus_sd</th>\n",
       "      <th>surpNew_ratio_mean_minus_sd</th>\n",
       "      <th>surpDiv_ratio_mean_minus_sd</th>\n",
       "    </tr>\n",
       "  </thead>\n",
       "  <tbody>\n",
       "    <tr>\n",
       "      <th>0</th>\n",
       "      <td>Global</td>\n",
       "      <td>0.038364</td>\n",
       "      <td>0.960441</td>\n",
       "      <td>0.614012</td>\n",
       "      <td>0.279074</td>\n",
       "      <td>4.542302</td>\n",
       "      <td>0.123379</td>\n",
       "      <td>0.16328</td>\n",
       "      <td>0.411063</td>\n",
       "      <td>0.37071</td>\n",
       "      <td>...</td>\n",
       "      <td>0.161743</td>\n",
       "      <td>1.12372</td>\n",
       "      <td>1.025075</td>\n",
       "      <td>0.649785</td>\n",
       "      <td>8.690208</td>\n",
       "      <td>-0.085015</td>\n",
       "      <td>0.797161</td>\n",
       "      <td>0.202949</td>\n",
       "      <td>-0.091636</td>\n",
       "      <td>0.394396</td>\n",
       "    </tr>\n",
       "  </tbody>\n",
       "</table>\n",
       "<p>1 rows × 21 columns</p>\n",
       "</div>"
      ],
      "text/plain": [
       "     part  new_ratio_mean  uniq_ratio_mean  diff_ratio_mean  \\\n",
       "0  Global        0.038364         0.960441         0.614012   \n",
       "\n",
       "   surpNew_ratio_mean  surpDiv_ratio_mean  new_ratio_std  uniq_ratio_std  \\\n",
       "0            0.279074            4.542302       0.123379         0.16328   \n",
       "\n",
       "   diff_ratio_std  surpNew_ratio_std  ...  new_ratio_mean_plus_sd  \\\n",
       "0        0.411063            0.37071  ...                0.161743   \n",
       "\n",
       "   uniq_ratio_mean_plus_sd  diff_ratio_mean_plus_sd  \\\n",
       "0                  1.12372                 1.025075   \n",
       "\n",
       "   surpNew_ratio_mean_plus_sd  surpDiv_ratio_mean_plus_sd  \\\n",
       "0                    0.649785                    8.690208   \n",
       "\n",
       "   new_ratio_mean_minus_sd  uniq_ratio_mean_minus_sd  \\\n",
       "0                -0.085015                  0.797161   \n",
       "\n",
       "   diff_ratio_mean_minus_sd  surpNew_ratio_mean_minus_sd  \\\n",
       "0                  0.202949                    -0.091636   \n",
       "\n",
       "   surpDiv_ratio_mean_minus_sd  \n",
       "0                     0.394396  \n",
       "\n",
       "[1 rows x 21 columns]"
      ]
     },
     "execution_count": 50,
     "metadata": {},
     "output_type": "execute_result"
    }
   ],
   "source": [
    "# Step 1: Calculate global statistics for columns ending in 'ratio'\n",
    "ratio_columns_global = combined_df.filter(regex=\"ratio$\")\n",
    "global_mean = ratio_columns_global.mean()\n",
    "global_std = ratio_columns_global.std()\n",
    "global_mean_plus_sd = global_mean + global_std\n",
    "global_mean_minus_sd = global_mean - global_std\n",
    "\n",
    "# Step 2: Create a dictionary for the global stats row\n",
    "global_stats = {\n",
    "    \"part\": \"Global\",\n",
    "    **{f\"{col}_mean\": global_mean[col] for col in global_mean.index},\n",
    "    **{f\"{col}_std\": global_std[col] for col in global_std.index},\n",
    "    **{f\"{col}_mean_plus_sd\": global_mean_plus_sd[col] for col in global_mean.index},\n",
    "    **{f\"{col}_mean_minus_sd\": global_mean_minus_sd[col] for col in global_mean.index}\n",
    "}\n",
    "\n",
    "# Step 3: Determine the number of rows in each of the 12 parts\n",
    "num_parts = 12\n",
    "rows_per_part = len(combined_df) // num_parts\n",
    "\n",
    "# Step 4: Initialize a list to store the results and add the global stats as the first entry\n",
    "summary_stats = [global_stats]\n",
    "\n",
    "# Step 5: Loop over each part, compute the mean, std, mean+sd, and mean-sd, and store in summary_stats\n",
    "for i in range(num_parts):\n",
    "    # Get the subset for the current part\n",
    "    part_df = combined_df.iloc[i * rows_per_part : (i + 1) * rows_per_part]\n",
    "    \n",
    "    # Filter columns ending in 'ratio'\n",
    "    ratio_columns = part_df.filter(regex=\"ratio$\")\n",
    "    \n",
    "    # Calculate mean and standard deviation\n",
    "    part_mean = ratio_columns.mean()\n",
    "    part_std = ratio_columns.std()\n",
    "    \n",
    "    # Calculate mean + sd and mean - sd\n",
    "    part_mean_plus_sd = part_mean + part_std\n",
    "    part_mean_minus_sd = part_mean - part_std\n",
    "    \n",
    "    # Append to summary_stats with an identifier for the part\n",
    "    summary_stats.append({\n",
    "        \"part\": i + 1,\n",
    "        **{f\"{col}_mean\": part_mean[col] for col in part_mean.index},\n",
    "        **{f\"{col}_std\": part_std[col] for col in part_std.index},\n",
    "        **{f\"{col}_mean_plus_sd\": part_mean_plus_sd[col] for col in part_mean.index},\n",
    "        **{f\"{col}_mean_minus_sd\": part_mean_minus_sd[col] for col in part_mean.index}\n",
    "    })\n",
    "\n",
    "# Step 6: Create a DataFrame from the summary_stats list\n",
    "summary_df = pd.DataFrame(summary_stats)\n",
    "\n",
    "# Display the summary statistics DataFrame\n",
    "summary_df[:1]\n",
    "\n"
   ]
  },
  {
   "cell_type": "code",
   "execution_count": null,
   "metadata": {},
   "outputs": [],
   "source": [
    "thr_new = 0.161743\n",
    "thr_uniq = 0.85 #arbitrary\n",
    "thr_diff = 0.85 #arbitrary\n",
    "thr_surpNew = 0.649785\n",
    "thr_surpDiv = 8.690208"
   ]
  },
  {
   "cell_type": "markdown",
   "metadata": {},
   "source": [
    "# Compute metrics"
   ]
  },
  {
   "cell_type": "code",
   "execution_count": 28,
   "metadata": {},
   "outputs": [],
   "source": [
    "pathData = \"/home/edgarlanoue/data/csv\" #\"C:/Users/edgar/OneDrive/Bureau/Ecole/HEC/A24/BrevetNLP/exemple données/trainData\"\n",
    "pathOutput = \"/home/edgarlanoue/data/csv/ipcMetrics\" #\"C:/Users/edgar/OneDrive/Bureau/Ecole/HEC/A24/BrevetNLP/exemple données/trainData/ipcMetrics\"\n",
    "listIPC =  [\"G06F\", \"G01N\", \"A61B\", \"B60L\", \"E21B\", \"F03D\", \"H01L\", \"H04W\", \"D07B\"]\n",
    "listYear = range(2011, 2017)"
   ]
  },
  {
   "cell_type": "code",
   "execution_count": 5,
   "metadata": {},
   "outputs": [
    {
     "name": "stdout",
     "output_type": "stream",
     "text": [
      "G06F\n",
      "     2011\n",
      "\n",
      "\n"
     ]
    },
    {
     "name": "stderr",
     "output_type": "stream",
     "text": [
      "100%|██████████████████████████████████| 35681/35681 [00:02<00:00, 13326.10it/s]\n"
     ]
    },
    {
     "name": "stdout",
     "output_type": "stream",
     "text": [
      "Newness for G06F in 2011; mean: 0.0061774240258587665; sd: 0.05492742576115211, mean+sdL: 0.061104849787010876\n"
     ]
    },
    {
     "name": "stderr",
     "output_type": "stream",
     "text": [
      "100%|█████████████████████████████████| 35681/35681 [00:00<00:00, 785852.48it/s]\n"
     ]
    },
    {
     "name": "stdout",
     "output_type": "stream",
     "text": [
      "Uniqueness for G06F in 2011; mean: 0.8796777930364433; sd: 0.31649957835835085, mean+sdL: 1.196177371394794\n"
     ]
    },
    {
     "name": "stderr",
     "output_type": "stream",
     "text": [
      "100%|███████████████████████████████████████████| 72/72 [14:57<00:00, 12.47s/it]\n"
     ]
    },
    {
     "name": "stdout",
     "output_type": "stream",
     "text": [
      "Difference for G06F in 2011; mean: 0.14810963818278636; sd: 0.33383761708882337, mean+sdL: 0.48194725527160975\n"
     ]
    },
    {
     "name": "stderr",
     "output_type": "stream",
     "text": [
      "100%|████████████████████████████████| 35681/35681 [00:00<00:00, 1007221.24it/s]\n"
     ]
    },
    {
     "name": "stdout",
     "output_type": "stream",
     "text": [
      "SurpriseNew for G06F in 2011; mean: 0.047736640976740755; sd: 0.20312399363416195, mean+sdL: 0.2508606346109027\n"
     ]
    },
    {
     "name": "stderr",
     "output_type": "stream",
     "text": [
      "100%|█████████████████████████████████| 35681/35681 [00:00<00:00, 507426.98it/s]\n"
     ]
    },
    {
     "name": "stdout",
     "output_type": "stream",
     "text": [
      "SurpriseDiv for G06F in 2011; mean: 1.0797469351601465; sd: 2.8800305702242883, mean+sdL: 3.9597775053844346\n",
      "\n",
      "\n",
      "     2012\n",
      "\n",
      "\n"
     ]
    },
    {
     "name": "stderr",
     "output_type": "stream",
     "text": [
      "100%|██████████████████████████████████| 40960/40960 [00:03<00:00, 12261.19it/s]\n"
     ]
    },
    {
     "name": "stdout",
     "output_type": "stream",
     "text": [
      "Newness for G06F in 2012; mean: 0.008681960332961309; sd: 0.07874744649179433, mean+sdL: 0.08742940682475564\n"
     ]
    },
    {
     "name": "stderr",
     "output_type": "stream",
     "text": [
      "100%|█████████████████████████████████| 40960/40960 [00:00<00:00, 774593.73it/s]\n"
     ]
    },
    {
     "name": "stdout",
     "output_type": "stream",
     "text": [
      "Uniqueness for G06F in 2012; mean: 0.8699617513020833; sd: 0.32795466172518445, mean+sdL: 1.1979164130272677\n"
     ]
    },
    {
     "name": "stderr",
     "output_type": "stream",
     "text": [
      "100%|███████████████████████████████████████████| 82/82 [17:37<00:00, 12.89s/it]\n"
     ]
    },
    {
     "name": "stdout",
     "output_type": "stream",
     "text": [
      "Difference for G06F in 2012; mean: 0.153257080078125; sd: 0.3394365150908501, mean+sdL: 0.4926935951689751\n"
     ]
    },
    {
     "name": "stderr",
     "output_type": "stream",
     "text": [
      "100%|█████████████████████████████████| 40960/40960 [00:00<00:00, 970033.15it/s]\n"
     ]
    },
    {
     "name": "stdout",
     "output_type": "stream",
     "text": [
      "SurpriseNew for G06F in 2012; mean: 0.04552100771949404; sd: 0.19971905919193075, mean+sdL: 0.2452400669114248\n"
     ]
    },
    {
     "name": "stderr",
     "output_type": "stream",
     "text": [
      "100%|█████████████████████████████████| 40960/40960 [00:00<00:00, 519864.83it/s]\n"
     ]
    },
    {
     "name": "stdout",
     "output_type": "stream",
     "text": [
      "SurpriseDiv for G06F in 2012; mean: 0.9576840253577646; sd: 2.784870486966703, mean+sdL: 3.742554512324468\n",
      "\n",
      "\n",
      "     2013\n",
      "\n",
      "\n"
     ]
    },
    {
     "name": "stderr",
     "output_type": "stream",
     "text": [
      "100%|██████████████████████████████████| 33095/33095 [00:02<00:00, 12557.52it/s]\n"
     ]
    },
    {
     "name": "stdout",
     "output_type": "stream",
     "text": [
      "Newness for G06F in 2013; mean: 0.006055223418873517; sd: 0.06234037956206366, mean+sdL: 0.06839560298093718\n"
     ]
    },
    {
     "name": "stderr",
     "output_type": "stream",
     "text": [
      "100%|█████████████████████████████████| 33095/33095 [00:00<00:00, 786760.36it/s]\n"
     ]
    },
    {
     "name": "stdout",
     "output_type": "stream",
     "text": [
      "Uniqueness for G06F in 2013; mean: 0.8311579939424024; sd: 0.36996467195499455, mean+sdL: 1.201122665897397\n"
     ]
    },
    {
     "name": "stderr",
     "output_type": "stream",
     "text": [
      "100%|███████████████████████████████████████████| 67/67 [14:49<00:00, 13.28s/it]\n"
     ]
    },
    {
     "name": "stdout",
     "output_type": "stream",
     "text": [
      "Difference for G06F in 2013; mean: 0.20619428916754798; sd: 0.3634960497386112, mean+sdL: 0.5696903389061592\n"
     ]
    },
    {
     "name": "stderr",
     "output_type": "stream",
     "text": [
      "100%|████████████████████████████████| 33095/33095 [00:00<00:00, 1091268.86it/s]\n"
     ]
    },
    {
     "name": "stdout",
     "output_type": "stream",
     "text": [
      "SurpriseNew for G06F in 2013; mean: 0.07682069655177373; sd: 0.2594466733202134, mean+sdL: 0.33626736987198713\n"
     ]
    },
    {
     "name": "stderr",
     "output_type": "stream",
     "text": [
      "100%|█████████████████████████████████| 33095/33095 [00:00<00:00, 527686.19it/s]\n"
     ]
    },
    {
     "name": "stdout",
     "output_type": "stream",
     "text": [
      "SurpriseDiv for G06F in 2013; mean: 1.1601119936988404; sd: 3.402205368164805, mean+sdL: 4.562317361863645\n",
      "\n",
      "\n",
      "     2014\n",
      "\n",
      "\n"
     ]
    },
    {
     "name": "stderr",
     "output_type": "stream",
     "text": [
      "100%|███████████████████████████████████| 28378/28378 [00:03<00:00, 9214.74it/s]\n"
     ]
    },
    {
     "name": "stdout",
     "output_type": "stream",
     "text": [
      "Newness for G06F in 2014; mean: 0.010326219109431456; sd: 0.0679274894177019, mean+sdL: 0.07825370852713336\n"
     ]
    },
    {
     "name": "stderr",
     "output_type": "stream",
     "text": [
      "100%|█████████████████████████████████| 28378/28378 [00:00<00:00, 769975.93it/s]"
     ]
    },
    {
     "name": "stdout",
     "output_type": "stream",
     "text": [
      "Uniqueness for G06F in 2014; mean: 0.8481146109159007; sd: 0.33293746683454944, mean+sdL: 1.18105207775045\n"
     ]
    },
    {
     "name": "stderr",
     "output_type": "stream",
     "text": [
      "\n",
      "100%|███████████████████████████████████████████| 57/57 [12:34<00:00, 13.24s/it]\n"
     ]
    },
    {
     "name": "stdout",
     "output_type": "stream",
     "text": [
      "Difference for G06F in 2014; mean: 0.4240693494960885; sd: 0.4660041629535753, mean+sdL: 0.8900735124496637\n"
     ]
    },
    {
     "name": "stderr",
     "output_type": "stream",
     "text": [
      "100%|█████████████████████████████████| 28378/28378 [00:00<00:00, 534976.98it/s]\n"
     ]
    },
    {
     "name": "stdout",
     "output_type": "stream",
     "text": [
      "SurpriseNew for G06F in 2014; mean: 0.20248425879724777; sd: 0.3747666983599265, mean+sdL: 0.5772509571571742\n"
     ]
    },
    {
     "name": "stderr",
     "output_type": "stream",
     "text": [
      "100%|█████████████████████████████████| 28378/28378 [00:00<00:00, 274148.50it/s]\n"
     ]
    },
    {
     "name": "stdout",
     "output_type": "stream",
     "text": [
      "SurpriseDiv for G06F in 2014; mean: 3.489174631087416; sd: 4.881928892765723, mean+sdL: 8.371103523853138\n",
      "\n",
      "\n",
      "     2015\n",
      "\n",
      "\n"
     ]
    },
    {
     "name": "stderr",
     "output_type": "stream",
     "text": [
      "100%|███████████████████████████████████| 21100/21100 [00:03<00:00, 6582.77it/s]\n"
     ]
    },
    {
     "name": "stdout",
     "output_type": "stream",
     "text": [
      "Newness for G06F in 2015; mean: 0.010098936082348403; sd: 0.06556709740481158, mean+sdL: 0.07566603348715999\n"
     ]
    },
    {
     "name": "stderr",
     "output_type": "stream",
     "text": [
      "100%|█████████████████████████████████| 21100/21100 [00:00<00:00, 725741.44it/s]\n"
     ]
    },
    {
     "name": "stdout",
     "output_type": "stream",
     "text": [
      "Uniqueness for G06F in 2015; mean: 0.8883033016220221; sd: 0.2808029527609707, mean+sdL: 1.1691062543829929\n"
     ]
    },
    {
     "name": "stderr",
     "output_type": "stream",
     "text": [
      "100%|███████████████████████████████████████████| 43/43 [09:50<00:00, 13.73s/it]\n"
     ]
    },
    {
     "name": "stdout",
     "output_type": "stream",
     "text": [
      "Difference for G06F in 2015; mean: 0.5113658767772512; sd: 0.4625628808506136, mean+sdL: 0.9739287576278648\n"
     ]
    },
    {
     "name": "stderr",
     "output_type": "stream",
     "text": [
      "100%|█████████████████████████████████| 21100/21100 [00:00<00:00, 380315.57it/s]\n"
     ]
    },
    {
     "name": "stdout",
     "output_type": "stream",
     "text": [
      "SurpriseNew for G06F in 2015; mean: 0.19445378505256283; sd: 0.35363068021217914, mean+sdL: 0.548084465264742\n"
     ]
    },
    {
     "name": "stderr",
     "output_type": "stream",
     "text": [
      "100%|█████████████████████████████████| 21100/21100 [00:00<00:00, 204328.58it/s]"
     ]
    },
    {
     "name": "stdout",
     "output_type": "stream",
     "text": [
      "SurpriseDiv for G06F in 2015; mean: 4.119393249411114; sd: 4.52356248621339, mean+sdL: 8.642955735624504\n",
      "\n",
      "\n"
     ]
    },
    {
     "name": "stderr",
     "output_type": "stream",
     "text": [
      "\n"
     ]
    },
    {
     "name": "stdout",
     "output_type": "stream",
     "text": [
      "     2016\n",
      "\n",
      "\n"
     ]
    },
    {
     "name": "stderr",
     "output_type": "stream",
     "text": [
      "100%|█████████████████████████████████████| 9234/9234 [00:01<00:00, 5179.62it/s]\n"
     ]
    },
    {
     "name": "stdout",
     "output_type": "stream",
     "text": [
      "Newness for G06F in 2016; mean: 0.014945940307376301; sd: 0.08043892827690431, mean+sdL: 0.09538486858428061\n"
     ]
    },
    {
     "name": "stderr",
     "output_type": "stream",
     "text": [
      "100%|███████████████████████████████████| 9234/9234 [00:00<00:00, 678965.05it/s]\n"
     ]
    },
    {
     "name": "stdout",
     "output_type": "stream",
     "text": [
      "Uniqueness for G06F in 2016; mean: 0.8949833497429338; sd: 0.2652974853981096, mean+sdL: 1.1602808351410434\n"
     ]
    },
    {
     "name": "stderr",
     "output_type": "stream",
     "text": [
      "100%|███████████████████████████████████████████| 19/19 [04:16<00:00, 13.47s/it]\n"
     ]
    },
    {
     "name": "stdout",
     "output_type": "stream",
     "text": [
      "Difference for G06F in 2016; mean: 0.5368897552523283; sd: 0.4688052586758653, mean+sdL: 1.0056950139281935\n"
     ]
    },
    {
     "name": "stderr",
     "output_type": "stream",
     "text": [
      "100%|███████████████████████████████████| 9234/9234 [00:00<00:00, 277546.33it/s]\n"
     ]
    },
    {
     "name": "stdout",
     "output_type": "stream",
     "text": [
      "SurpriseNew for G06F in 2016; mean: 0.1820793951073353; sd: 0.331659515605271, mean+sdL: 0.5137389107126064\n"
     ]
    },
    {
     "name": "stderr",
     "output_type": "stream",
     "text": [
      "100%|███████████████████████████████████| 9234/9234 [00:00<00:00, 148385.90it/s]\n"
     ]
    },
    {
     "name": "stdout",
     "output_type": "stream",
     "text": [
      "SurpriseDiv for G06F in 2016; mean: 4.11553224368677; sd: 4.223081378739045, mean+sdL: 8.338613622425814\n",
      "\n",
      "\n",
      "G01N\n",
      "     2011\n",
      "\n",
      "\n"
     ]
    },
    {
     "name": "stderr",
     "output_type": "stream",
     "text": [
      "100%|████████████████████████████████████| 4248/4248 [00:00<00:00, 13459.43it/s]\n"
     ]
    },
    {
     "name": "stdout",
     "output_type": "stream",
     "text": [
      "Newness for G01N in 2011; mean: 0.032244266913447776; sd: 0.1182738473881684, mean+sdL: 0.15051811430161618\n"
     ]
    },
    {
     "name": "stderr",
     "output_type": "stream",
     "text": [
      "100%|███████████████████████████████████| 4248/4248 [00:00<00:00, 601066.13it/s]\n"
     ]
    },
    {
     "name": "stdout",
     "output_type": "stream",
     "text": [
      "Uniqueness for G01N in 2011; mean: 0.9665626961707472; sd: 0.16688047034334824, mean+sdL: 1.1334431665140954\n"
     ]
    },
    {
     "name": "stderr",
     "output_type": "stream",
     "text": [
      "100%|█████████████████████████████████████████████| 9/9 [00:14<00:00,  1.56s/it]\n"
     ]
    },
    {
     "name": "stdout",
     "output_type": "stream",
     "text": [
      "Difference for G01N in 2011; mean: 0.6255343691148777; sd: 0.42597284992738815, mean+sdL: 1.0515072190422659\n"
     ]
    },
    {
     "name": "stderr",
     "output_type": "stream",
     "text": [
      "100%|███████████████████████████████████| 4248/4248 [00:00<00:00, 343295.96it/s]\n"
     ]
    },
    {
     "name": "stdout",
     "output_type": "stream",
     "text": [
      "SurpriseNew for G01N in 2011; mean: 0.25314488458945483; sd: 0.3955569296246518, mean+sdL: 0.6487018142141066\n"
     ]
    },
    {
     "name": "stderr",
     "output_type": "stream",
     "text": [
      "100%|███████████████████████████████████| 4248/4248 [00:00<00:00, 116298.55it/s]\n"
     ]
    },
    {
     "name": "stdout",
     "output_type": "stream",
     "text": [
      "SurpriseDiv for G01N in 2011; mean: 3.8325078310143423; sd: 4.8776203843214025, mean+sdL: 8.710128215335745\n",
      "\n",
      "\n",
      "     2012\n",
      "\n",
      "\n"
     ]
    },
    {
     "name": "stderr",
     "output_type": "stream",
     "text": [
      "100%|████████████████████████████████████| 5107/5107 [00:00<00:00, 13418.97it/s]\n"
     ]
    },
    {
     "name": "stdout",
     "output_type": "stream",
     "text": [
      "Newness for G01N in 2012; mean: 0.025371858969919305; sd: 0.10652052641409086, mean+sdL: 0.13189238538401016\n"
     ]
    },
    {
     "name": "stderr",
     "output_type": "stream",
     "text": [
      "100%|███████████████████████████████████| 5107/5107 [00:00<00:00, 609587.94it/s]\n"
     ]
    },
    {
     "name": "stdout",
     "output_type": "stream",
     "text": [
      "Uniqueness for G01N in 2012; mean: 0.9901730739942998; sd: 0.09192900665509753, mean+sdL: 1.0821020806493973\n"
     ]
    },
    {
     "name": "stderr",
     "output_type": "stream",
     "text": [
      "100%|███████████████████████████████████████████| 11/11 [00:17<00:00,  1.56s/it]\n"
     ]
    },
    {
     "name": "stdout",
     "output_type": "stream",
     "text": [
      "Difference for G01N in 2012; mean: 0.6206755433718426; sd: 0.4153556301129076, mean+sdL: 1.0360311734847503\n"
     ]
    },
    {
     "name": "stderr",
     "output_type": "stream",
     "text": [
      "100%|███████████████████████████████████| 5107/5107 [00:00<00:00, 325714.84it/s]\n"
     ]
    },
    {
     "name": "stdout",
     "output_type": "stream",
     "text": [
      "SurpriseNew for G01N in 2012; mean: 0.1893808550709993; sd: 0.3603799712418206, mean+sdL: 0.5497608263128199\n"
     ]
    },
    {
     "name": "stderr",
     "output_type": "stream",
     "text": [
      "100%|███████████████████████████████████| 5107/5107 [00:00<00:00, 139358.07it/s]\n"
     ]
    },
    {
     "name": "stdout",
     "output_type": "stream",
     "text": [
      "SurpriseDiv for G01N in 2012; mean: 3.0447788421472337; sd: 4.543054464649723, mean+sdL: 7.587833306796957\n",
      "\n",
      "\n",
      "     2013\n",
      "\n",
      "\n"
     ]
    },
    {
     "name": "stderr",
     "output_type": "stream",
     "text": [
      "100%|████████████████████████████████████| 6294/6294 [00:00<00:00, 17932.24it/s]\n"
     ]
    },
    {
     "name": "stdout",
     "output_type": "stream",
     "text": [
      "Newness for G01N in 2013; mean: 0.028250701916097527; sd: 0.12049733680588597, mean+sdL: 0.1487480387219835\n"
     ]
    },
    {
     "name": "stderr",
     "output_type": "stream",
     "text": [
      "100%|███████████████████████████████████| 6294/6294 [00:00<00:00, 575366.14it/s]\n"
     ]
    },
    {
     "name": "stdout",
     "output_type": "stream",
     "text": [
      "Uniqueness for G01N in 2013; mean: 0.9837263758379108; sd: 0.12023163787030436, mean+sdL: 1.1039580137082152\n"
     ]
    },
    {
     "name": "stderr",
     "output_type": "stream",
     "text": [
      "100%|███████████████████████████████████████████| 13/13 [00:21<00:00,  1.66s/it]\n"
     ]
    },
    {
     "name": "stdout",
     "output_type": "stream",
     "text": [
      "Difference for G01N in 2013; mean: 0.5227899586908167; sd: 0.41894631705669844, mean+sdL: 0.9417362757475152\n"
     ]
    },
    {
     "name": "stderr",
     "output_type": "stream",
     "text": [
      "100%|███████████████████████████████████| 6294/6294 [00:00<00:00, 667533.55it/s]\n"
     ]
    },
    {
     "name": "stdout",
     "output_type": "stream",
     "text": [
      "SurpriseNew for G01N in 2013; mean: 0.14642452757198632; sd: 0.3432595373547592, mean+sdL: 0.48968406492674554\n"
     ]
    },
    {
     "name": "stderr",
     "output_type": "stream",
     "text": [
      "100%|███████████████████████████████████| 6294/6294 [00:00<00:00, 348284.88it/s]\n"
     ]
    },
    {
     "name": "stdout",
     "output_type": "stream",
     "text": [
      "SurpriseDiv for G01N in 2013; mean: 2.082168016635727; sd: 4.329141766397686, mean+sdL: 6.4113097830334125\n",
      "\n",
      "\n",
      "     2014\n",
      "\n",
      "\n"
     ]
    },
    {
     "name": "stderr",
     "output_type": "stream",
     "text": [
      "100%|████████████████████████████████████| 6028/6028 [00:00<00:00, 11620.95it/s]\n"
     ]
    },
    {
     "name": "stdout",
     "output_type": "stream",
     "text": [
      "Newness for G01N in 2014; mean: 0.04558594883329455; sd: 0.14423336259734965, mean+sdL: 0.1898193114306442\n"
     ]
    },
    {
     "name": "stderr",
     "output_type": "stream",
     "text": [
      "100%|███████████████████████████████████| 6028/6028 [00:00<00:00, 516628.14it/s]\n"
     ]
    },
    {
     "name": "stdout",
     "output_type": "stream",
     "text": [
      "Uniqueness for G01N in 2014; mean: 0.9507917417132745; sd: 0.19128777215859363, mean+sdL: 1.1420795138718682\n"
     ]
    },
    {
     "name": "stderr",
     "output_type": "stream",
     "text": [
      "100%|███████████████████████████████████████████| 13/13 [00:22<00:00,  1.76s/it]\n"
     ]
    },
    {
     "name": "stdout",
     "output_type": "stream",
     "text": [
      "Difference for G01N in 2014; mean: 0.6476642335766423; sd: 0.4226763074159974, mean+sdL: 1.0703405409926396\n"
     ]
    },
    {
     "name": "stderr",
     "output_type": "stream",
     "text": [
      "100%|███████████████████████████████████| 6028/6028 [00:00<00:00, 385298.15it/s]\n"
     ]
    },
    {
     "name": "stdout",
     "output_type": "stream",
     "text": [
      "SurpriseNew for G01N in 2014; mean: 0.33875490387949786; sd: 0.44659446173348616, mean+sdL: 0.785349365612984\n"
     ]
    },
    {
     "name": "stderr",
     "output_type": "stream",
     "text": [
      "100%|███████████████████████████████████| 6028/6028 [00:00<00:00, 149175.24it/s]\n"
     ]
    },
    {
     "name": "stdout",
     "output_type": "stream",
     "text": [
      "SurpriseDiv for G01N in 2014; mean: 4.918035979826729; sd: 5.559895291776746, mean+sdL: 10.477931271603474\n",
      "\n",
      "\n",
      "     2015\n",
      "\n",
      "\n"
     ]
    },
    {
     "name": "stderr",
     "output_type": "stream",
     "text": [
      "100%|█████████████████████████████████████| 4607/4607 [00:00<00:00, 9633.37it/s]\n"
     ]
    },
    {
     "name": "stdout",
     "output_type": "stream",
     "text": [
      "Newness for G01N in 2015; mean: 0.04708594325641274; sd: 0.1380020607215166, mean+sdL: 0.18508800397792935\n"
     ]
    },
    {
     "name": "stderr",
     "output_type": "stream",
     "text": [
      "100%|███████████████████████████████████| 4607/4607 [00:00<00:00, 614799.83it/s]\n"
     ]
    },
    {
     "name": "stdout",
     "output_type": "stream",
     "text": [
      "Uniqueness for G01N in 2015; mean: 0.9504901099431163; sd: 0.19280895391216651, mean+sdL: 1.143299063855283\n"
     ]
    },
    {
     "name": "stderr",
     "output_type": "stream",
     "text": [
      "100%|███████████████████████████████████████████| 10/10 [00:19<00:00,  1.99s/it]\n"
     ]
    },
    {
     "name": "stdout",
     "output_type": "stream",
     "text": [
      "Difference for G01N in 2015; mean: 0.738836553071413; sd: 0.38308883761441975, mean+sdL: 1.1219253906858329\n"
     ]
    },
    {
     "name": "stderr",
     "output_type": "stream",
     "text": [
      "100%|███████████████████████████████████| 4607/4607 [00:00<00:00, 330400.77it/s]\n"
     ]
    },
    {
     "name": "stdout",
     "output_type": "stream",
     "text": [
      "SurpriseNew for G01N in 2015; mean: 0.413835993301704; sd: 0.4514507506300779, mean+sdL: 0.865286743931782\n"
     ]
    },
    {
     "name": "stderr",
     "output_type": "stream",
     "text": [
      "100%|███████████████████████████████████| 4607/4607 [00:00<00:00, 120493.36it/s]\n"
     ]
    },
    {
     "name": "stdout",
     "output_type": "stream",
     "text": [
      "SurpriseDiv for G01N in 2015; mean: 6.247250693053904; sd: 5.499891351472069, mean+sdL: 11.747142044525972\n",
      "\n",
      "\n",
      "     2016\n",
      "\n",
      "\n"
     ]
    },
    {
     "name": "stderr",
     "output_type": "stream",
     "text": [
      "100%|█████████████████████████████████████| 1979/1979 [00:00<00:00, 6942.87it/s]\n"
     ]
    },
    {
     "name": "stdout",
     "output_type": "stream",
     "text": [
      "Newness for G01N in 2016; mean: 0.05015967694087957; sd: 0.13626458657117227, mean+sdL: 0.18642426351205182\n"
     ]
    },
    {
     "name": "stderr",
     "output_type": "stream",
     "text": [
      "100%|███████████████████████████████████| 1979/1979 [00:00<00:00, 496532.13it/s]\n"
     ]
    },
    {
     "name": "stdout",
     "output_type": "stream",
     "text": [
      "Uniqueness for G01N in 2016; mean: 0.951309414295771; sd: 0.18787491251427318, mean+sdL: 1.1391843268100441\n"
     ]
    },
    {
     "name": "stderr",
     "output_type": "stream",
     "text": [
      "100%|█████████████████████████████████████████████| 4/4 [00:09<00:00,  2.27s/it]\n"
     ]
    },
    {
     "name": "stdout",
     "output_type": "stream",
     "text": [
      "Difference for G01N in 2016; mean: 0.7726831733198585; sd: 0.3602068719165176, mean+sdL: 1.1328900452363762\n"
     ]
    },
    {
     "name": "stderr",
     "output_type": "stream",
     "text": [
      "100%|███████████████████████████████████| 1979/1979 [00:00<00:00, 237449.66it/s]\n"
     ]
    },
    {
     "name": "stdout",
     "output_type": "stream",
     "text": [
      "SurpriseNew for G01N in 2016; mean: 0.4315878062727333; sd: 0.4348176950333524, mean+sdL: 0.8664055013060856\n"
     ]
    },
    {
     "name": "stderr",
     "output_type": "stream",
     "text": [
      "100%|████████████████████████████████████| 1979/1979 [00:00<00:00, 75959.29it/s]\n"
     ]
    },
    {
     "name": "stdout",
     "output_type": "stream",
     "text": [
      "SurpriseDiv for G01N in 2016; mean: 6.741655983815106; sd: 5.092837824042911, mean+sdL: 11.834493807858017\n",
      "\n",
      "\n",
      "A61B\n",
      "     2011\n",
      "\n",
      "\n"
     ]
    },
    {
     "name": "stderr",
     "output_type": "stream",
     "text": [
      "100%|████████████████████████████████████| 7963/7963 [00:00<00:00, 22652.25it/s]\n"
     ]
    },
    {
     "name": "stdout",
     "output_type": "stream",
     "text": [
      "Newness for A61B in 2011; mean: 0.015851654329119183; sd: 0.08620915134575974, mean+sdL: 0.10206080567487892\n"
     ]
    },
    {
     "name": "stderr",
     "output_type": "stream",
     "text": [
      "100%|███████████████████████████████████| 7963/7963 [00:00<00:00, 650322.11it/s]\n"
     ]
    },
    {
     "name": "stdout",
     "output_type": "stream",
     "text": [
      "Uniqueness for A61B in 2011; mean: 0.9609535810025575; sd: 0.18141446192556696, mean+sdL: 1.1423680429281244\n"
     ]
    },
    {
     "name": "stderr",
     "output_type": "stream",
     "text": [
      "100%|███████████████████████████████████████████| 16/16 [00:38<00:00,  2.42s/it]\n"
     ]
    },
    {
     "name": "stdout",
     "output_type": "stream",
     "text": [
      "Difference for A61B in 2011; mean: 0.3362727615220394; sd: 0.4379884744489186, mean+sdL: 0.774261235970958\n"
     ]
    },
    {
     "name": "stderr",
     "output_type": "stream",
     "text": [
      "100%|███████████████████████████████████| 7963/7963 [00:00<00:00, 541246.56it/s]\n"
     ]
    },
    {
     "name": "stdout",
     "output_type": "stream",
     "text": [
      "SurpriseNew for A61B in 2011; mean: 0.16831308017434332; sd: 0.35481629608381987, mean+sdL: 0.5231293762581632\n"
     ]
    },
    {
     "name": "stderr",
     "output_type": "stream",
     "text": [
      "100%|███████████████████████████████████| 7963/7963 [00:00<00:00, 180524.74it/s]\n"
     ]
    },
    {
     "name": "stdout",
     "output_type": "stream",
     "text": [
      "SurpriseDiv for A61B in 2011; mean: 2.7105775788554927; sd: 4.7241556501485835, mean+sdL: 7.434733229004076\n",
      "\n",
      "\n",
      "     2012\n",
      "\n",
      "\n"
     ]
    },
    {
     "name": "stderr",
     "output_type": "stream",
     "text": [
      "100%|████████████████████████████████████| 8459/8459 [00:00<00:00, 18395.36it/s]\n"
     ]
    },
    {
     "name": "stdout",
     "output_type": "stream",
     "text": [
      "Newness for A61B in 2012; mean: 0.009964285363268694; sd: 0.06986891800370713, mean+sdL: 0.07983320336697583\n"
     ]
    },
    {
     "name": "stderr",
     "output_type": "stream",
     "text": [
      "100%|███████████████████████████████████| 8459/8459 [00:00<00:00, 641097.49it/s]\n"
     ]
    },
    {
     "name": "stdout",
     "output_type": "stream",
     "text": [
      "Uniqueness for A61B in 2012; mean: 0.9632477147676943; sd: 0.15853066500184007, mean+sdL: 1.1217783797695344\n"
     ]
    },
    {
     "name": "stderr",
     "output_type": "stream",
     "text": [
      "100%|███████████████████████████████████████████| 17/17 [00:47<00:00,  2.79s/it]\n"
     ]
    },
    {
     "name": "stdout",
     "output_type": "stream",
     "text": [
      "Difference for A61B in 2012; mean: 0.4242227213618632; sd: 0.45676359138255657, mean+sdL: 0.8809863127444197\n"
     ]
    },
    {
     "name": "stderr",
     "output_type": "stream",
     "text": [
      "100%|███████████████████████████████████| 8459/8459 [00:00<00:00, 482571.44it/s]\n"
     ]
    },
    {
     "name": "stdout",
     "output_type": "stream",
     "text": [
      "SurpriseNew for A61B in 2012; mean: 0.21511317432652796; sd: 0.3864172486394285, mean+sdL: 0.6015304229659565\n"
     ]
    },
    {
     "name": "stderr",
     "output_type": "stream",
     "text": [
      "100%|███████████████████████████████████| 8459/8459 [00:00<00:00, 214863.91it/s]\n"
     ]
    },
    {
     "name": "stdout",
     "output_type": "stream",
     "text": [
      "SurpriseDiv for A61B in 2012; mean: 3.3833751417607436; sd: 5.029307788782648, mean+sdL: 8.412682930543392\n",
      "\n",
      "\n",
      "     2013\n",
      "\n",
      "\n"
     ]
    },
    {
     "name": "stderr",
     "output_type": "stream",
     "text": [
      "100%|████████████████████████████████████| 9403/9403 [00:00<00:00, 16624.75it/s]\n"
     ]
    },
    {
     "name": "stdout",
     "output_type": "stream",
     "text": [
      "Newness for A61B in 2013; mean: 0.009507814966179317; sd: 0.06504009272610235, mean+sdL: 0.07454790769228167\n"
     ]
    },
    {
     "name": "stderr",
     "output_type": "stream",
     "text": [
      "100%|███████████████████████████████████| 9403/9403 [00:00<00:00, 640545.72it/s]\n"
     ]
    },
    {
     "name": "stdout",
     "output_type": "stream",
     "text": [
      "Uniqueness for A61B in 2013; mean: 0.9026171542700218; sd: 0.24310534349071125, mean+sdL: 1.145722497760733\n"
     ]
    },
    {
     "name": "stderr",
     "output_type": "stream",
     "text": [
      "100%|███████████████████████████████████████████| 19/19 [00:51<00:00,  2.70s/it]\n"
     ]
    },
    {
     "name": "stdout",
     "output_type": "stream",
     "text": [
      "Difference for A61B in 2013; mean: 0.4708603637137084; sd: 0.4563725046341213, mean+sdL: 0.9272328683478297\n"
     ]
    },
    {
     "name": "stderr",
     "output_type": "stream",
     "text": [
      "100%|███████████████████████████████████| 9403/9403 [00:00<00:00, 461054.24it/s]\n"
     ]
    },
    {
     "name": "stdout",
     "output_type": "stream",
     "text": [
      "SurpriseNew for A61B in 2013; mean: 0.2025306128388061; sd: 0.3664648848763269, mean+sdL: 0.568995497715133\n"
     ]
    },
    {
     "name": "stderr",
     "output_type": "stream",
     "text": [
      "100%|███████████████████████████████████| 9403/9403 [00:00<00:00, 216620.66it/s]\n"
     ]
    },
    {
     "name": "stdout",
     "output_type": "stream",
     "text": [
      "SurpriseDiv for A61B in 2013; mean: 3.362430907675439; sd: 4.690250746500019, mean+sdL: 8.052681654175458\n",
      "\n",
      "\n",
      "     2014\n",
      "\n",
      "\n"
     ]
    },
    {
     "name": "stderr",
     "output_type": "stream",
     "text": [
      "100%|████████████████████████████████████| 8383/8383 [00:00<00:00, 13939.84it/s]\n"
     ]
    },
    {
     "name": "stdout",
     "output_type": "stream",
     "text": [
      "Newness for A61B in 2014; mean: 0.019518939619299368; sd: 0.09215263365772884, mean+sdL: 0.1116715732770282\n"
     ]
    },
    {
     "name": "stderr",
     "output_type": "stream",
     "text": [
      "100%|███████████████████████████████████| 8383/8383 [00:00<00:00, 684103.17it/s]\n"
     ]
    },
    {
     "name": "stdout",
     "output_type": "stream",
     "text": [
      "Uniqueness for A61B in 2014; mean: 0.9087852405935054; sd: 0.2041655096785809, mean+sdL: 1.1129507502720863\n"
     ]
    },
    {
     "name": "stderr",
     "output_type": "stream",
     "text": [
      "100%|███████████████████████████████████████████| 17/17 [00:48<00:00,  2.86s/it]\n"
     ]
    },
    {
     "name": "stdout",
     "output_type": "stream",
     "text": [
      "Difference for A61B in 2014; mean: 0.5987844447095313; sd: 0.445013823708179, mean+sdL: 1.0437982684177103\n"
     ]
    },
    {
     "name": "stderr",
     "output_type": "stream",
     "text": [
      "100%|███████████████████████████████████| 8383/8383 [00:00<00:00, 342618.20it/s]\n"
     ]
    },
    {
     "name": "stdout",
     "output_type": "stream",
     "text": [
      "SurpriseNew for A61B in 2014; mean: 0.26948566759624737; sd: 0.387519398001956, mean+sdL: 0.6570050655982034\n"
     ]
    },
    {
     "name": "stderr",
     "output_type": "stream",
     "text": [
      "100%|███████████████████████████████████| 8383/8383 [00:00<00:00, 163970.50it/s]\n"
     ]
    },
    {
     "name": "stdout",
     "output_type": "stream",
     "text": [
      "SurpriseDiv for A61B in 2014; mean: 5.186531915906218; sd: 4.874292823463612, mean+sdL: 10.06082473936983\n",
      "\n",
      "\n",
      "     2015\n",
      "\n",
      "\n"
     ]
    },
    {
     "name": "stderr",
     "output_type": "stream",
     "text": [
      "100%|████████████████████████████████████| 5811/5811 [00:00<00:00, 10448.01it/s]\n"
     ]
    },
    {
     "name": "stdout",
     "output_type": "stream",
     "text": [
      "Newness for A61B in 2015; mean: 0.02606319233836012; sd: 0.10894052975028264, mean+sdL: 0.13500372208864275\n"
     ]
    },
    {
     "name": "stderr",
     "output_type": "stream",
     "text": [
      "100%|███████████████████████████████████| 5811/5811 [00:00<00:00, 638106.10it/s]\n"
     ]
    },
    {
     "name": "stdout",
     "output_type": "stream",
     "text": [
      "Uniqueness for A61B in 2015; mean: 0.9062821667042111; sd: 0.18736419828132359, mean+sdL: 1.0936463649855348\n"
     ]
    },
    {
     "name": "stderr",
     "output_type": "stream",
     "text": [
      "100%|███████████████████████████████████████████| 12/12 [00:36<00:00,  3.07s/it]\n"
     ]
    },
    {
     "name": "stdout",
     "output_type": "stream",
     "text": [
      "Difference for A61B in 2015; mean: 0.6712149371880916; sd: 0.4269337399011149, mean+sdL: 1.0981486770892064\n"
     ]
    },
    {
     "name": "stderr",
     "output_type": "stream",
     "text": [
      "100%|███████████████████████████████████| 5811/5811 [00:00<00:00, 253163.89it/s]\n"
     ]
    },
    {
     "name": "stdout",
     "output_type": "stream",
     "text": [
      "SurpriseNew for A61B in 2015; mean: 0.2551262400384755; sd: 0.3579139924948187, mean+sdL: 0.6130402325332942\n"
     ]
    },
    {
     "name": "stderr",
     "output_type": "stream",
     "text": [
      "100%|███████████████████████████████████| 5811/5811 [00:00<00:00, 124410.95it/s]\n"
     ]
    },
    {
     "name": "stdout",
     "output_type": "stream",
     "text": [
      "SurpriseDiv for A61B in 2015; mean: 5.755091514541952; sd: 4.316243350239003, mean+sdL: 10.071334864780955\n",
      "\n",
      "\n",
      "     2016\n",
      "\n",
      "\n"
     ]
    },
    {
     "name": "stderr",
     "output_type": "stream",
     "text": [
      "100%|█████████████████████████████████████| 2708/2708 [00:00<00:00, 7549.10it/s]\n"
     ]
    },
    {
     "name": "stdout",
     "output_type": "stream",
     "text": [
      "Newness for A61B in 2016; mean: 0.023943701034727625; sd: 0.0935080524531953, mean+sdL: 0.11745175348792292\n"
     ]
    },
    {
     "name": "stderr",
     "output_type": "stream",
     "text": [
      "100%|███████████████████████████████████| 2708/2708 [00:00<00:00, 623082.74it/s]\n"
     ]
    },
    {
     "name": "stdout",
     "output_type": "stream",
     "text": [
      "Uniqueness for A61B in 2016; mean: 0.9223213670868767; sd: 0.1551518167200432, mean+sdL: 1.0774731838069198\n"
     ]
    },
    {
     "name": "stderr",
     "output_type": "stream",
     "text": [
      "100%|█████████████████████████████████████████████| 6/6 [00:18<00:00,  3.09s/it]\n"
     ]
    },
    {
     "name": "stdout",
     "output_type": "stream",
     "text": [
      "Difference for A61B in 2016; mean: 0.7366358936484491; sd: 0.4033833339431351, mean+sdL: 1.1400192275915841\n"
     ]
    },
    {
     "name": "stderr",
     "output_type": "stream",
     "text": [
      "100%|███████████████████████████████████| 2708/2708 [00:00<00:00, 177763.13it/s]\n"
     ]
    },
    {
     "name": "stdout",
     "output_type": "stream",
     "text": [
      "SurpriseNew for A61B in 2016; mean: 0.2750588683842007; sd: 0.3528529026172919, mean+sdL: 0.6279117710014925\n"
     ]
    },
    {
     "name": "stderr",
     "output_type": "stream",
     "text": [
      "100%|████████████████████████████████████| 2708/2708 [00:00<00:00, 80834.78it/s]\n"
     ]
    },
    {
     "name": "stdout",
     "output_type": "stream",
     "text": [
      "SurpriseDiv for A61B in 2016; mean: 6.237308894548842; sd: 4.03242618882034, mean+sdL: 10.26973508336918\n",
      "\n",
      "\n",
      "B60L\n",
      "     2011\n",
      "\n",
      "\n"
     ]
    },
    {
     "name": "stderr",
     "output_type": "stream",
     "text": [
      "100%|█████████████████████████████████████| 346/346 [00:00<00:00, 107978.36it/s]\n"
     ]
    },
    {
     "name": "stdout",
     "output_type": "stream",
     "text": [
      "Newness for B60L in 2011; mean: 0.12217175887696119; sd: 0.2370366741140351, mean+sdL: 0.35920843299099625\n"
     ]
    },
    {
     "name": "stderr",
     "output_type": "stream",
     "text": [
      "100%|█████████████████████████████████████| 346/346 [00:00<00:00, 506714.10it/s]\n"
     ]
    },
    {
     "name": "stdout",
     "output_type": "stream",
     "text": [
      "Uniqueness for B60L in 2011; mean: 0.6958092485549133; sd: 0.4274304529748247, mean+sdL: 1.123239701529738\n"
     ]
    },
    {
     "name": "stderr",
     "output_type": "stream",
     "text": [
      "100%|█████████████████████████████████████████████| 1/1 [00:00<00:00, 12.01it/s]"
     ]
    },
    {
     "name": "stdout",
     "output_type": "stream",
     "text": [
      "Difference for B60L in 2011; mean: 0.6698265895953757; sd: 0.42144600239486424, mean+sdL: 1.09127259199024\n"
     ]
    },
    {
     "name": "stderr",
     "output_type": "stream",
     "text": [
      "\n",
      "100%|█████████████████████████████████████| 346/346 [00:00<00:00, 438437.82it/s]\n"
     ]
    },
    {
     "name": "stdout",
     "output_type": "stream",
     "text": [
      "SurpriseNew for B60L in 2011; mean: 0.31658409028351225; sd: 0.4464079283935433, mean+sdL: 0.7629920186770556\n"
     ]
    },
    {
     "name": "stderr",
     "output_type": "stream",
     "text": [
      "100%|█████████████████████████████████████| 346/346 [00:00<00:00, 286182.05it/s]\n"
     ]
    },
    {
     "name": "stdout",
     "output_type": "stream",
     "text": [
      "SurpriseDiv for B60L in 2011; mean: 3.8183997860881385; sd: 4.858792862475997, mean+sdL: 8.677192648564136\n",
      "\n",
      "\n",
      "     2012\n",
      "\n",
      "\n"
     ]
    },
    {
     "name": "stderr",
     "output_type": "stream",
     "text": [
      "100%|█████████████████████████████████████| 389/389 [00:00<00:00, 100140.20it/s]\n"
     ]
    },
    {
     "name": "stdout",
     "output_type": "stream",
     "text": [
      "Newness for B60L in 2012; mean: 0.0979913902150406; sd: 0.21783755120102802, mean+sdL: 0.3158289414160686\n"
     ]
    },
    {
     "name": "stderr",
     "output_type": "stream",
     "text": [
      "100%|█████████████████████████████████████| 389/389 [00:00<00:00, 601394.86it/s]\n"
     ]
    },
    {
     "name": "stdout",
     "output_type": "stream",
     "text": [
      "Uniqueness for B60L in 2012; mean: 0.6887532133676091; sd: 0.4462002075145716, mean+sdL: 1.1349534208821808\n"
     ]
    },
    {
     "name": "stderr",
     "output_type": "stream",
     "text": [
      "100%|█████████████████████████████████████████████| 1/1 [00:00<00:00,  9.71it/s]"
     ]
    },
    {
     "name": "stdout",
     "output_type": "stream",
     "text": [
      "Difference for B60L in 2012; mean: 0.6195629820051415; sd: 0.41444305771700685, mean+sdL: 1.0340060397221484\n"
     ]
    },
    {
     "name": "stderr",
     "output_type": "stream",
     "text": [
      "\n",
      "100%|█████████████████████████████████████| 389/389 [00:00<00:00, 499719.53it/s]\n"
     ]
    },
    {
     "name": "stdout",
     "output_type": "stream",
     "text": [
      "SurpriseNew for B60L in 2012; mean: 0.22546823356591994; sd: 0.40194428426806234, mean+sdL: 0.6274125178339822\n"
     ]
    },
    {
     "name": "stderr",
     "output_type": "stream",
     "text": [
      "100%|█████████████████████████████████████| 389/389 [00:00<00:00, 287503.83it/s]\n"
     ]
    },
    {
     "name": "stdout",
     "output_type": "stream",
     "text": [
      "SurpriseDiv for B60L in 2012; mean: 2.780618248621792; sd: 4.428084560101178, mean+sdL: 7.20870280872297\n",
      "\n",
      "\n",
      "     2013\n",
      "\n",
      "\n"
     ]
    },
    {
     "name": "stderr",
     "output_type": "stream",
     "text": [
      "100%|██████████████████████████████████████| 617/617 [00:00<00:00, 91480.28it/s]\n"
     ]
    },
    {
     "name": "stdout",
     "output_type": "stream",
     "text": [
      "Newness for B60L in 2013; mean: 0.05056726094003241; sd: 0.16641564734176859, mean+sdL: 0.216982908281801\n"
     ]
    },
    {
     "name": "stderr",
     "output_type": "stream",
     "text": [
      "100%|█████████████████████████████████████| 617/617 [00:00<00:00, 612807.38it/s]\n"
     ]
    },
    {
     "name": "stdout",
     "output_type": "stream",
     "text": [
      "Uniqueness for B60L in 2013; mean: 0.9579956780118856; sd: 0.18919345616776256, mean+sdL: 1.147189134179648\n"
     ]
    },
    {
     "name": "stderr",
     "output_type": "stream",
     "text": [
      "100%|█████████████████████████████████████████████| 2/2 [00:00<00:00,  9.81it/s]\n"
     ]
    },
    {
     "name": "stdout",
     "output_type": "stream",
     "text": [
      "Difference for B60L in 2013; mean: 0.5818314424635331; sd: 0.3019381758339912, mean+sdL: 0.8837696182975243\n"
     ]
    },
    {
     "name": "stderr",
     "output_type": "stream",
     "text": [
      "100%|█████████████████████████████████████| 617/617 [00:00<00:00, 572161.30it/s]\n"
     ]
    },
    {
     "name": "stdout",
     "output_type": "stream",
     "text": [
      "SurpriseNew for B60L in 2013; mean: 0.1606355287068415; sd: 0.35612316681090694, mean+sdL: 0.5167586955177484\n"
     ]
    },
    {
     "name": "stderr",
     "output_type": "stream",
     "text": [
      "100%|█████████████████████████████████████| 617/617 [00:00<00:00, 349667.01it/s]\n"
     ]
    },
    {
     "name": "stdout",
     "output_type": "stream",
     "text": [
      "SurpriseDiv for B60L in 2013; mean: 1.7678090118324863; sd: 3.653095210318079, mean+sdL: 5.420904222150565\n",
      "\n",
      "\n",
      "     2014\n",
      "\n",
      "\n"
     ]
    },
    {
     "name": "stderr",
     "output_type": "stream",
     "text": [
      "100%|██████████████████████████████████████| 882/882 [00:00<00:00, 70605.52it/s]\n"
     ]
    },
    {
     "name": "stdout",
     "output_type": "stream",
     "text": [
      "Newness for B60L in 2014; mean: 0.08543353849476298; sd: 0.19580544389903862, mean+sdL: 0.28123898239380163\n"
     ]
    },
    {
     "name": "stderr",
     "output_type": "stream",
     "text": [
      "100%|█████████████████████████████████████| 882/882 [00:00<00:00, 574080.72it/s]\n"
     ]
    },
    {
     "name": "stdout",
     "output_type": "stream",
     "text": [
      "Uniqueness for B60L in 2014; mean: 0.4898620559334846; sd: 0.40793685904982224, mean+sdL: 0.8977989149833068\n"
     ]
    },
    {
     "name": "stderr",
     "output_type": "stream",
     "text": [
      "100%|█████████████████████████████████████████████| 2/2 [00:00<00:00,  5.87it/s]\n"
     ]
    },
    {
     "name": "stdout",
     "output_type": "stream",
     "text": [
      "Difference for B60L in 2014; mean: 0.5382879818594104; sd: 0.46630198925627847, mean+sdL: 1.004589971115689\n"
     ]
    },
    {
     "name": "stderr",
     "output_type": "stream",
     "text": [
      "100%|█████████████████████████████████████| 882/882 [00:00<00:00, 428565.35it/s]\n"
     ]
    },
    {
     "name": "stdout",
     "output_type": "stream",
     "text": [
      "SurpriseNew for B60L in 2014; mean: 0.2669231184537307; sd: 0.4086074583454003, mean+sdL: 0.675530576799131\n"
     ]
    },
    {
     "name": "stderr",
     "output_type": "stream",
     "text": [
      "100%|█████████████████████████████████████| 882/882 [00:00<00:00, 255711.35it/s]\n"
     ]
    },
    {
     "name": "stdout",
     "output_type": "stream",
     "text": [
      "SurpriseDiv for B60L in 2014; mean: 3.484808188970219; sd: 4.46617991406609, mean+sdL: 7.950988103036309\n",
      "\n",
      "\n",
      "     2015\n",
      "\n",
      "\n"
     ]
    },
    {
     "name": "stderr",
     "output_type": "stream",
     "text": [
      "100%|██████████████████████████████████████| 773/773 [00:00<00:00, 47937.38it/s]\n"
     ]
    },
    {
     "name": "stdout",
     "output_type": "stream",
     "text": [
      "Newness for B60L in 2015; mean: 0.08498223782829216; sd: 0.17948212155362034, mean+sdL: 0.2644643593819125\n"
     ]
    },
    {
     "name": "stderr",
     "output_type": "stream",
     "text": [
      "100%|█████████████████████████████████████| 773/773 [00:00<00:00, 634605.01it/s]\n"
     ]
    },
    {
     "name": "stdout",
     "output_type": "stream",
     "text": [
      "Uniqueness for B60L in 2015; mean: 0.5270672909094644; sd: 0.379582507231319, mean+sdL: 0.9066497981407833\n"
     ]
    },
    {
     "name": "stderr",
     "output_type": "stream",
     "text": [
      "100%|█████████████████████████████████████████████| 2/2 [00:00<00:00,  5.38it/s]\n"
     ]
    },
    {
     "name": "stdout",
     "output_type": "stream",
     "text": [
      "Difference for B60L in 2015; mean: 0.644359637774903; sd: 0.4665310700843763, mean+sdL: 1.1108907078592793\n"
     ]
    },
    {
     "name": "stderr",
     "output_type": "stream",
     "text": [
      "100%|█████████████████████████████████████| 773/773 [00:00<00:00, 309104.49it/s]\n"
     ]
    },
    {
     "name": "stdout",
     "output_type": "stream",
     "text": [
      "SurpriseNew for B60L in 2015; mean: 0.30289636337501796; sd: 0.40264298216329764, mean+sdL: 0.7055393455383157\n"
     ]
    },
    {
     "name": "stderr",
     "output_type": "stream",
     "text": [
      "100%|█████████████████████████████████████| 773/773 [00:00<00:00, 171291.05it/s]\n"
     ]
    },
    {
     "name": "stdout",
     "output_type": "stream",
     "text": [
      "SurpriseDiv for B60L in 2015; mean: 4.507891275068909; sd: 4.604464376500449, mean+sdL: 9.112355651569358\n",
      "\n",
      "\n",
      "     2016\n",
      "\n",
      "\n"
     ]
    },
    {
     "name": "stderr",
     "output_type": "stream",
     "text": [
      "100%|██████████████████████████████████████| 368/368 [00:00<00:00, 28388.89it/s]\n"
     ]
    },
    {
     "name": "stdout",
     "output_type": "stream",
     "text": [
      "Newness for B60L in 2016; mean: 0.11577096665411882; sd: 0.17850148967021756, mean+sdL: 0.2942724563243364\n"
     ]
    },
    {
     "name": "stderr",
     "output_type": "stream",
     "text": [
      "100%|█████████████████████████████████████| 368/368 [00:00<00:00, 550268.76it/s]\n"
     ]
    },
    {
     "name": "stdout",
     "output_type": "stream",
     "text": [
      "Uniqueness for B60L in 2016; mean: 0.6673846383085514; sd: 0.3222405235485285, mean+sdL: 0.9896251618570799\n"
     ]
    },
    {
     "name": "stderr",
     "output_type": "stream",
     "text": [
      "100%|█████████████████████████████████████████████| 1/1 [00:00<00:00,  4.75it/s]\n"
     ]
    },
    {
     "name": "stdout",
     "output_type": "stream",
     "text": [
      "Difference for B60L in 2016; mean: 0.764320652173913; sd: 0.41653536752546555, mean+sdL: 1.1808560196993785\n"
     ]
    },
    {
     "name": "stderr",
     "output_type": "stream",
     "text": [
      "100%|█████████████████████████████████████| 368/368 [00:00<00:00, 183357.55it/s]\n"
     ]
    },
    {
     "name": "stdout",
     "output_type": "stream",
     "text": [
      "SurpriseNew for B60L in 2016; mean: 0.3584107770249075; sd: 0.372359009634367, mean+sdL: 0.7307697866592745\n"
     ]
    },
    {
     "name": "stderr",
     "output_type": "stream",
     "text": [
      "100%|█████████████████████████████████████| 368/368 [00:00<00:00, 118176.55it/s]\n"
     ]
    },
    {
     "name": "stdout",
     "output_type": "stream",
     "text": [
      "SurpriseDiv for B60L in 2016; mean: 5.079827675894729; sd: 3.9931511941213564, mean+sdL: 9.072978870016087\n",
      "\n",
      "\n",
      "E21B\n",
      "     2011\n",
      "\n",
      "\n"
     ]
    },
    {
     "name": "stderr",
     "output_type": "stream",
     "text": [
      "100%|████████████████████████████████████| 2410/2410 [00:00<00:00, 35803.42it/s]\n"
     ]
    },
    {
     "name": "stdout",
     "output_type": "stream",
     "text": [
      "Newness for E21B in 2011; mean: 0.03629166591822193; sd: 0.12939018346385142, mean+sdL: 0.16568184938207337\n"
     ]
    },
    {
     "name": "stderr",
     "output_type": "stream",
     "text": [
      "100%|███████████████████████████████████| 2410/2410 [00:00<00:00, 690361.47it/s]"
     ]
    },
    {
     "name": "stdout",
     "output_type": "stream",
     "text": [
      "Uniqueness for E21B in 2011; mean: 0.9497256800368832; sd: 0.18786882935989951, mean+sdL: 1.1375945093967827\n"
     ]
    },
    {
     "name": "stderr",
     "output_type": "stream",
     "text": [
      "\n",
      "100%|█████████████████████████████████████████████| 5/5 [00:02<00:00,  1.69it/s]\n"
     ]
    },
    {
     "name": "stdout",
     "output_type": "stream",
     "text": [
      "Difference for E21B in 2011; mean: 0.691045643153527; sd: 0.375367131477812, mean+sdL: 1.066412774631339\n"
     ]
    },
    {
     "name": "stderr",
     "output_type": "stream",
     "text": [
      "100%|███████████████████████████████████| 2410/2410 [00:00<00:00, 476985.31it/s]\n"
     ]
    },
    {
     "name": "stdout",
     "output_type": "stream",
     "text": [
      "SurpriseNew for E21B in 2011; mean: 0.5037153994000467; sd: 0.4847392644686066, mean+sdL: 0.9884546638686533\n"
     ]
    },
    {
     "name": "stderr",
     "output_type": "stream",
     "text": [
      "100%|███████████████████████████████████| 2410/2410 [00:00<00:00, 239181.12it/s]\n"
     ]
    },
    {
     "name": "stdout",
     "output_type": "stream",
     "text": [
      "SurpriseDiv for E21B in 2011; mean: 5.940793643152592; sd: 5.412997246959369, mean+sdL: 11.353790890111961\n",
      "\n",
      "\n",
      "     2012\n",
      "\n",
      "\n"
     ]
    },
    {
     "name": "stderr",
     "output_type": "stream",
     "text": [
      "100%|████████████████████████████████████| 2408/2408 [00:00<00:00, 33863.71it/s]\n"
     ]
    },
    {
     "name": "stdout",
     "output_type": "stream",
     "text": [
      "Newness for E21B in 2012; mean: 0.028771159626641354; sd: 0.11917436156694457, mean+sdL: 0.14794552119358592\n"
     ]
    },
    {
     "name": "stderr",
     "output_type": "stream",
     "text": [
      "100%|███████████████████████████████████| 2408/2408 [00:00<00:00, 709062.34it/s]"
     ]
    },
    {
     "name": "stdout",
     "output_type": "stream",
     "text": [
      "Uniqueness for E21B in 2012; mean: 0.9684662236987818; sd: 0.14913770502697118, mean+sdL: 1.1176039287257529\n"
     ]
    },
    {
     "name": "stderr",
     "output_type": "stream",
     "text": [
      "\n",
      "100%|█████████████████████████████████████████████| 5/5 [00:03<00:00,  1.52it/s]\n"
     ]
    },
    {
     "name": "stdout",
     "output_type": "stream",
     "text": [
      "Difference for E21B in 2012; mean: 0.6967109634551495; sd: 0.3632962962237605, mean+sdL: 1.06000725967891\n"
     ]
    },
    {
     "name": "stderr",
     "output_type": "stream",
     "text": [
      "100%|███████████████████████████████████| 2408/2408 [00:00<00:00, 570647.16it/s]\n"
     ]
    },
    {
     "name": "stdout",
     "output_type": "stream",
     "text": [
      "SurpriseNew for E21B in 2012; mean: 0.41189223751516113; sd: 0.4831842037939926, mean+sdL: 0.8950764413091536\n"
     ]
    },
    {
     "name": "stderr",
     "output_type": "stream",
     "text": [
      "100%|███████████████████████████████████| 2408/2408 [00:00<00:00, 300270.07it/s]\n"
     ]
    },
    {
     "name": "stdout",
     "output_type": "stream",
     "text": [
      "SurpriseDiv for E21B in 2012; mean: 4.887434938732939; sd: 5.373174844875473, mean+sdL: 10.260609783608412\n",
      "\n",
      "\n",
      "     2013\n",
      "\n",
      "\n"
     ]
    },
    {
     "name": "stderr",
     "output_type": "stream",
     "text": [
      "100%|████████████████████████████████████| 2621/2621 [00:00<00:00, 35438.04it/s]\n"
     ]
    },
    {
     "name": "stdout",
     "output_type": "stream",
     "text": [
      "Newness for E21B in 2013; mean: 0.022012681455642155; sd: 0.10458921807686039, mean+sdL: 0.12660189953250256\n"
     ]
    },
    {
     "name": "stderr",
     "output_type": "stream",
     "text": [
      "100%|███████████████████████████████████| 2621/2621 [00:00<00:00, 697719.65it/s]"
     ]
    },
    {
     "name": "stdout",
     "output_type": "stream",
     "text": [
      "Uniqueness for E21B in 2013; mean: 0.9792127686633599; sd: 0.1217244502780819, mean+sdL: 1.100937218941442\n"
     ]
    },
    {
     "name": "stderr",
     "output_type": "stream",
     "text": [
      "\n",
      "100%|█████████████████████████████████████████████| 6/6 [00:03<00:00,  1.55it/s]\n"
     ]
    },
    {
     "name": "stdout",
     "output_type": "stream",
     "text": [
      "Difference for E21B in 2013; mean: 0.7123922167111789; sd: 0.34784017783677657, mean+sdL: 1.0602323945479555\n"
     ]
    },
    {
     "name": "stderr",
     "output_type": "stream",
     "text": [
      "100%|███████████████████████████████████| 2621/2621 [00:00<00:00, 694677.46it/s]\n"
     ]
    },
    {
     "name": "stdout",
     "output_type": "stream",
     "text": [
      "SurpriseNew for E21B in 2013; mean: 0.3322541378245308; sd: 0.4662845443189121, mean+sdL: 0.7985386821434428\n"
     ]
    },
    {
     "name": "stderr",
     "output_type": "stream",
     "text": [
      "100%|███████████████████████████████████| 2621/2621 [00:00<00:00, 326393.84it/s]\n"
     ]
    },
    {
     "name": "stdout",
     "output_type": "stream",
     "text": [
      "SurpriseDiv for E21B in 2013; mean: 3.819106867549042; sd: 5.1825968531069915, mean+sdL: 9.001703720656034\n",
      "\n",
      "\n",
      "     2014\n",
      "\n",
      "\n"
     ]
    },
    {
     "name": "stderr",
     "output_type": "stream",
     "text": [
      "100%|████████████████████████████████████| 2679/2679 [00:00<00:00, 22991.49it/s]\n"
     ]
    },
    {
     "name": "stdout",
     "output_type": "stream",
     "text": [
      "Newness for E21B in 2014; mean: 0.03782060397401942; sd: 0.12941889206260215, mean+sdL: 0.16723949603662158\n"
     ]
    },
    {
     "name": "stderr",
     "output_type": "stream",
     "text": [
      "100%|███████████████████████████████████| 2679/2679 [00:00<00:00, 681043.72it/s]"
     ]
    },
    {
     "name": "stdout",
     "output_type": "stream",
     "text": [
      "Uniqueness for E21B in 2014; mean: 0.9733091324916633; sd: 0.12927708656456122, mean+sdL: 1.1025862190562246\n"
     ]
    },
    {
     "name": "stderr",
     "output_type": "stream",
     "text": [
      "\n",
      "100%|█████████████████████████████████████████████| 6/6 [00:04<00:00,  1.41it/s]\n"
     ]
    },
    {
     "name": "stdout",
     "output_type": "stream",
     "text": [
      "Difference for E21B in 2014; mean: 0.7892945128779397; sd: 0.32220310959590903, mean+sdL: 1.1114976224738489\n"
     ]
    },
    {
     "name": "stderr",
     "output_type": "stream",
     "text": [
      "100%|███████████████████████████████████| 2679/2679 [00:00<00:00, 351526.37it/s]\n"
     ]
    },
    {
     "name": "stdout",
     "output_type": "stream",
     "text": [
      "SurpriseNew for E21B in 2014; mean: 0.5409741662261259; sd: 0.4801091365060861, mean+sdL: 1.0210833027322122\n"
     ]
    },
    {
     "name": "stderr",
     "output_type": "stream",
     "text": [
      "100%|███████████████████████████████████| 2679/2679 [00:00<00:00, 165262.68it/s]\n"
     ]
    },
    {
     "name": "stdout",
     "output_type": "stream",
     "text": [
      "SurpriseDiv for E21B in 2014; mean: 6.372203719468786; sd: 5.269356540815363, mean+sdL: 11.641560260284148\n",
      "\n",
      "\n",
      "     2015\n",
      "\n",
      "\n"
     ]
    },
    {
     "name": "stderr",
     "output_type": "stream",
     "text": [
      "100%|████████████████████████████████████| 1895/1895 [00:00<00:00, 16623.32it/s]\n"
     ]
    },
    {
     "name": "stdout",
     "output_type": "stream",
     "text": [
      "Newness for E21B in 2015; mean: 0.055320618988165156; sd: 0.15435452063594082, mean+sdL: 0.20967513962410597\n"
     ]
    },
    {
     "name": "stderr",
     "output_type": "stream",
     "text": [
      "100%|███████████████████████████████████| 1895/1895 [00:00<00:00, 634891.45it/s]"
     ]
    },
    {
     "name": "stdout",
     "output_type": "stream",
     "text": [
      "Uniqueness for E21B in 2015; mean: 0.9768576454328434; sd: 0.11737798528529579, mean+sdL: 1.0942356307181391\n"
     ]
    },
    {
     "name": "stderr",
     "output_type": "stream",
     "text": [
      "\n",
      "100%|█████████████████████████████████████████████| 4/4 [00:03<00:00,  1.23it/s]\n"
     ]
    },
    {
     "name": "stdout",
     "output_type": "stream",
     "text": [
      "Difference for E21B in 2015; mean: 0.8525171503957784; sd: 0.2805867327824244, mean+sdL: 1.1331038831782028\n"
     ]
    },
    {
     "name": "stderr",
     "output_type": "stream",
     "text": [
      "100%|███████████████████████████████████| 1895/1895 [00:00<00:00, 222601.41it/s]\n"
     ]
    },
    {
     "name": "stdout",
     "output_type": "stream",
     "text": [
      "SurpriseNew for E21B in 2015; mean: 0.643768814006281; sd: 0.4431828659087204, mean+sdL: 1.0869516799150014\n"
     ]
    },
    {
     "name": "stderr",
     "output_type": "stream",
     "text": [
      "100%|███████████████████████████████████| 1895/1895 [00:00<00:00, 111104.67it/s]\n"
     ]
    },
    {
     "name": "stdout",
     "output_type": "stream",
     "text": [
      "SurpriseDiv for E21B in 2015; mean: 7.996190179401934; sd: 4.7575080045528075, mean+sdL: 12.753698183954741\n",
      "\n",
      "\n",
      "     2016\n",
      "\n",
      "\n"
     ]
    },
    {
     "name": "stderr",
     "output_type": "stream",
     "text": [
      "100%|██████████████████████████████████████| 661/661 [00:00<00:00, 13017.72it/s]\n"
     ]
    },
    {
     "name": "stdout",
     "output_type": "stream",
     "text": [
      "Newness for E21B in 2016; mean: 0.0562933746367937; sd: 0.14262862866204334, mean+sdL: 0.19892200329883705\n"
     ]
    },
    {
     "name": "stderr",
     "output_type": "stream",
     "text": [
      "100%|█████████████████████████████████████| 661/661 [00:00<00:00, 501798.18it/s]"
     ]
    },
    {
     "name": "stdout",
     "output_type": "stream",
     "text": [
      "Uniqueness for E21B in 2016; mean: 0.9900955742861945; sd: 0.06275377142033091, mean+sdL: 1.0528493457065256\n"
     ]
    },
    {
     "name": "stderr",
     "output_type": "stream",
     "text": [
      "\n",
      "100%|█████████████████████████████████████████████| 2/2 [00:01<00:00,  1.52it/s]\n"
     ]
    },
    {
     "name": "stdout",
     "output_type": "stream",
     "text": [
      "Difference for E21B in 2016; mean: 0.8880786686838124; sd: 0.22609511577107258, mean+sdL: 1.114173784454885\n"
     ]
    },
    {
     "name": "stderr",
     "output_type": "stream",
     "text": [
      "100%|█████████████████████████████████████| 661/661 [00:00<00:00, 206851.82it/s]\n"
     ]
    },
    {
     "name": "stdout",
     "output_type": "stream",
     "text": [
      "SurpriseNew for E21B in 2016; mean: 0.6812466571921942; sd: 0.4145244479767235, mean+sdL: 1.0957711051689176\n"
     ]
    },
    {
     "name": "stderr",
     "output_type": "stream",
     "text": [
      "100%|█████████████████████████████████████| 661/661 [00:00<00:00, 100261.64it/s]\n"
     ]
    },
    {
     "name": "stdout",
     "output_type": "stream",
     "text": [
      "SurpriseDiv for E21B in 2016; mean: 8.098155392932643; sd: 4.102333060572165, mean+sdL: 12.200488453504807\n",
      "\n",
      "\n",
      "F03D\n",
      "     2011\n",
      "\n",
      "\n"
     ]
    },
    {
     "name": "stderr",
     "output_type": "stream",
     "text": [
      "100%|█████████████████████████████████████| 533/533 [00:00<00:00, 123840.24it/s]\n"
     ]
    },
    {
     "name": "stdout",
     "output_type": "stream",
     "text": [
      "Newness for F03D in 2011; mean: 0.0943223443223443; sd: 0.19850153580037724, mean+sdL: 0.29282388012272154\n"
     ]
    },
    {
     "name": "stderr",
     "output_type": "stream",
     "text": [
      "100%|█████████████████████████████████████| 533/533 [00:00<00:00, 577963.81it/s]\n"
     ]
    },
    {
     "name": "stdout",
     "output_type": "stream",
     "text": [
      "Uniqueness for F03D in 2011; mean: 0.7687304565353346; sd: 0.35809660824711304, mean+sdL: 1.1268270647824477\n"
     ]
    },
    {
     "name": "stderr",
     "output_type": "stream",
     "text": [
      "100%|█████████████████████████████████████████████| 2/2 [00:00<00:00,  9.98it/s]\n"
     ]
    },
    {
     "name": "stdout",
     "output_type": "stream",
     "text": [
      "Difference for F03D in 2011; mean: 0.6468855534709193; sd: 0.3845126298468596, mean+sdL: 1.0313981833177788\n"
     ]
    },
    {
     "name": "stderr",
     "output_type": "stream",
     "text": [
      "100%|█████████████████████████████████████| 533/533 [00:00<00:00, 403458.59it/s]\n"
     ]
    },
    {
     "name": "stdout",
     "output_type": "stream",
     "text": [
      "SurpriseNew for F03D in 2011; mean: 0.3374251764495667; sd: 0.4429826569904645, mean+sdL: 0.7804078334400313\n"
     ]
    },
    {
     "name": "stderr",
     "output_type": "stream",
     "text": [
      "100%|█████████████████████████████████████| 533/533 [00:00<00:00, 256931.85it/s]\n"
     ]
    },
    {
     "name": "stdout",
     "output_type": "stream",
     "text": [
      "SurpriseDiv for F03D in 2011; mean: 4.340529429289811; sd: 4.840211119468853, mean+sdL: 9.180740548758664\n",
      "\n",
      "\n",
      "     2012\n",
      "\n",
      "\n"
     ]
    },
    {
     "name": "stderr",
     "output_type": "stream",
     "text": [
      "100%|██████████████████████████████████████| 537/537 [00:00<00:00, 92411.33it/s]\n"
     ]
    },
    {
     "name": "stdout",
     "output_type": "stream",
     "text": [
      "Newness for F03D in 2012; mean: 0.060614525139664796; sd: 0.1614615347399062, mean+sdL: 0.22207605987957102\n"
     ]
    },
    {
     "name": "stderr",
     "output_type": "stream",
     "text": [
      "100%|█████████████████████████████████████| 537/537 [00:00<00:00, 503091.63it/s]\n"
     ]
    },
    {
     "name": "stdout",
     "output_type": "stream",
     "text": [
      "Uniqueness for F03D in 2012; mean: 0.8193047796399753; sd: 0.34677547594646274, mean+sdL: 1.166080255586438\n"
     ]
    },
    {
     "name": "stderr",
     "output_type": "stream",
     "text": [
      "100%|█████████████████████████████████████████████| 2/2 [00:00<00:00,  8.53it/s]\n"
     ]
    },
    {
     "name": "stdout",
     "output_type": "stream",
     "text": [
      "Difference for F03D in 2012; mean: 0.5826629422718808; sd: 0.3909456900575619, mean+sdL: 0.9736086323294426\n"
     ]
    },
    {
     "name": "stderr",
     "output_type": "stream",
     "text": [
      "100%|█████████████████████████████████████| 537/537 [00:00<00:00, 477190.94it/s]\n"
     ]
    },
    {
     "name": "stdout",
     "output_type": "stream",
     "text": [
      "SurpriseNew for F03D in 2012; mean: 0.33324022346368715; sd: 0.4506386616948707, mean+sdL: 0.7838788851585579\n"
     ]
    },
    {
     "name": "stderr",
     "output_type": "stream",
     "text": [
      "100%|█████████████████████████████████████| 537/537 [00:00<00:00, 244050.41it/s]\n"
     ]
    },
    {
     "name": "stdout",
     "output_type": "stream",
     "text": [
      "SurpriseDiv for F03D in 2012; mean: 3.9781178555964725; sd: 4.6688966918285155, mean+sdL: 8.647014547424988\n",
      "\n",
      "\n",
      "     2013\n",
      "\n",
      "\n"
     ]
    },
    {
     "name": "stderr",
     "output_type": "stream",
     "text": [
      "100%|█████████████████████████████████████| 517/517 [00:00<00:00, 107296.15it/s]\n"
     ]
    },
    {
     "name": "stdout",
     "output_type": "stream",
     "text": [
      "Newness for F03D in 2013; mean: 0.033268858800773696; sd: 0.12294734646035271, mean+sdL: 0.1562162052611264\n"
     ]
    },
    {
     "name": "stderr",
     "output_type": "stream",
     "text": [
      "100%|█████████████████████████████████████| 517/517 [00:00<00:00, 523781.44it/s]\n"
     ]
    },
    {
     "name": "stdout",
     "output_type": "stream",
     "text": [
      "Uniqueness for F03D in 2013; mean: 0.8298839458413926; sd: 0.3366668062542415, mean+sdL: 1.1665507520956342\n"
     ]
    },
    {
     "name": "stderr",
     "output_type": "stream",
     "text": [
      "100%|█████████████████████████████████████████████| 2/2 [00:00<00:00,  8.08it/s]\n"
     ]
    },
    {
     "name": "stdout",
     "output_type": "stream",
     "text": [
      "Difference for F03D in 2013; mean: 0.46346228239845266; sd: 0.3896546666160696, mean+sdL: 0.8531169490145223\n"
     ]
    },
    {
     "name": "stderr",
     "output_type": "stream",
     "text": [
      "100%|█████████████████████████████████████| 517/517 [00:00<00:00, 499069.08it/s]\n"
     ]
    },
    {
     "name": "stdout",
     "output_type": "stream",
     "text": [
      "SurpriseNew for F03D in 2013; mean: 0.22843326885880078; sd: 0.41092125967476184, mean+sdL: 0.6393545285335627\n"
     ]
    },
    {
     "name": "stderr",
     "output_type": "stream",
     "text": [
      "100%|█████████████████████████████████████| 517/517 [00:00<00:00, 306192.48it/s]\n"
     ]
    },
    {
     "name": "stdout",
     "output_type": "stream",
     "text": [
      "SurpriseDiv for F03D in 2013; mean: 2.318874554109858; sd: 3.7110900497118418, mean+sdL: 6.0299646038217\n",
      "\n",
      "\n",
      "     2014\n",
      "\n",
      "\n"
     ]
    },
    {
     "name": "stderr",
     "output_type": "stream",
     "text": [
      "100%|██████████████████████████████████████| 522/522 [00:00<00:00, 63371.64it/s]\n"
     ]
    },
    {
     "name": "stdout",
     "output_type": "stream",
     "text": [
      "Newness for F03D in 2014; mean: 0.0831539256826613; sd: 0.18058988610318766, mean+sdL: 0.26374381178584894\n"
     ]
    },
    {
     "name": "stderr",
     "output_type": "stream",
     "text": [
      "100%|█████████████████████████████████████| 522/522 [00:00<00:00, 525042.37it/s]\n"
     ]
    },
    {
     "name": "stdout",
     "output_type": "stream",
     "text": [
      "Uniqueness for F03D in 2014; mean: 0.8592995499604695; sd: 0.23337707334947333, mean+sdL: 1.0926766233099428\n"
     ]
    },
    {
     "name": "stderr",
     "output_type": "stream",
     "text": [
      "100%|█████████████████████████████████████████████| 2/2 [00:00<00:00,  7.45it/s]\n"
     ]
    },
    {
     "name": "stdout",
     "output_type": "stream",
     "text": [
      "Difference for F03D in 2014; mean: 0.7211877394636014; sd: 0.3869664503796305, mean+sdL: 1.1081541898432319\n"
     ]
    },
    {
     "name": "stderr",
     "output_type": "stream",
     "text": [
      "100%|█████████████████████████████████████| 522/522 [00:00<00:00, 334365.71it/s]\n"
     ]
    },
    {
     "name": "stdout",
     "output_type": "stream",
     "text": [
      "SurpriseNew for F03D in 2014; mean: 0.4868135376756066; sd: 0.4544960318017836, mean+sdL: 0.9413095694773902\n"
     ]
    },
    {
     "name": "stderr",
     "output_type": "stream",
     "text": [
      "100%|█████████████████████████████████████| 522/522 [00:00<00:00, 195764.19it/s]\n"
     ]
    },
    {
     "name": "stdout",
     "output_type": "stream",
     "text": [
      "SurpriseDiv for F03D in 2014; mean: 6.019479363709195; sd: 4.296230044589796, mean+sdL: 10.315709408298991\n",
      "\n",
      "\n",
      "     2015\n",
      "\n",
      "\n"
     ]
    },
    {
     "name": "stderr",
     "output_type": "stream",
     "text": [
      "100%|██████████████████████████████████████| 334/334 [00:00<00:00, 45235.48it/s]\n"
     ]
    },
    {
     "name": "stdout",
     "output_type": "stream",
     "text": [
      "Newness for F03D in 2015; mean: 0.09474870605110126; sd: 0.18513166917703644, mean+sdL: 0.2798803752281377\n"
     ]
    },
    {
     "name": "stderr",
     "output_type": "stream",
     "text": [
      "100%|█████████████████████████████████████| 334/334 [00:00<00:00, 440256.93it/s]\n"
     ]
    },
    {
     "name": "stdout",
     "output_type": "stream",
     "text": [
      "Uniqueness for F03D in 2015; mean: 0.8291070456489619; sd: 0.21414370986097608, mean+sdL: 1.043250755509938\n"
     ]
    },
    {
     "name": "stderr",
     "output_type": "stream",
     "text": [
      "100%|█████████████████████████████████████████████| 1/1 [00:00<00:00,  5.55it/s]\n"
     ]
    },
    {
     "name": "stdout",
     "output_type": "stream",
     "text": [
      "Difference for F03D in 2015; mean: 0.8535928143712576; sd: 0.29175233848974547, mean+sdL: 1.145345152861003\n"
     ]
    },
    {
     "name": "stderr",
     "output_type": "stream",
     "text": [
      "100%|█████████████████████████████████████| 334/334 [00:00<00:00, 201394.13it/s]\n"
     ]
    },
    {
     "name": "stdout",
     "output_type": "stream",
     "text": [
      "SurpriseNew for F03D in 2015; mean: 0.5298420475067182; sd: 0.3700618408774586, mean+sdL: 0.8999038883841768\n"
     ]
    },
    {
     "name": "stderr",
     "output_type": "stream",
     "text": [
      "100%|█████████████████████████████████████| 334/334 [00:00<00:00, 102404.79it/s]\n"
     ]
    },
    {
     "name": "stdout",
     "output_type": "stream",
     "text": [
      "SurpriseDiv for F03D in 2015; mean: 7.110516743310879; sd: 3.074388359483513, mean+sdL: 10.184905102794392\n",
      "\n",
      "\n",
      "     2016\n",
      "\n",
      "\n"
     ]
    },
    {
     "name": "stderr",
     "output_type": "stream",
     "text": [
      "100%|████████████████████████████████████████| 90/90 [00:00<00:00, 22715.57it/s]\n"
     ]
    },
    {
     "name": "stdout",
     "output_type": "stream",
     "text": [
      "Newness for F03D in 2016; mean: 0.15786636203302867; sd: 0.22072631030449005, mean+sdL: 0.3785926723375187\n"
     ]
    },
    {
     "name": "stderr",
     "output_type": "stream",
     "text": [
      "100%|███████████████████████████████████████| 90/90 [00:00<00:00, 287938.49it/s]\n"
     ]
    },
    {
     "name": "stdout",
     "output_type": "stream",
     "text": [
      "Uniqueness for F03D in 2016; mean: 0.8667544492544492; sd: 0.13322533149462945, mean+sdL: 0.9999797807490787\n"
     ]
    },
    {
     "name": "stderr",
     "output_type": "stream",
     "text": [
      "100%|█████████████████████████████████████████████| 1/1 [00:00<00:00, 15.90it/s]\n"
     ]
    },
    {
     "name": "stdout",
     "output_type": "stream",
     "text": [
      "Difference for F03D in 2016; mean: 0.9157777777777778; sd: 0.22777658536273251, mean+sdL: 1.1435543631405103\n"
     ]
    },
    {
     "name": "stderr",
     "output_type": "stream",
     "text": [
      "100%|████████████████████████████████████████| 90/90 [00:00<00:00, 92070.09it/s]\n"
     ]
    },
    {
     "name": "stdout",
     "output_type": "stream",
     "text": [
      "SurpriseNew for F03D in 2016; mean: 0.6636018919352253; sd: 0.2597354214600635, mean+sdL: 0.9233373133952889\n"
     ]
    },
    {
     "name": "stderr",
     "output_type": "stream",
     "text": [
      "100%|████████████████████████████████████████| 90/90 [00:00<00:00, 50949.84it/s]\n"
     ]
    },
    {
     "name": "stdout",
     "output_type": "stream",
     "text": [
      "SurpriseDiv for F03D in 2016; mean: 8.496548734126357; sd: 1.8488456931951769, mean+sdL: 10.345394427321533\n",
      "\n",
      "\n",
      "H01L\n",
      "     2011\n",
      "\n",
      "\n"
     ]
    },
    {
     "name": "stderr",
     "output_type": "stream",
     "text": [
      "100%|██████████████████████████████████| 19210/19210 [00:01<00:00, 10780.06it/s]\n"
     ]
    },
    {
     "name": "stdout",
     "output_type": "stream",
     "text": [
      "Newness for H01L in 2011; mean: 0.011141805588708245; sd: 0.06745429669917521, mean+sdL: 0.07859610228788345\n"
     ]
    },
    {
     "name": "stderr",
     "output_type": "stream",
     "text": [
      "100%|█████████████████████████████████| 19210/19210 [00:00<00:00, 730373.20it/s]\n"
     ]
    },
    {
     "name": "stdout",
     "output_type": "stream",
     "text": [
      "Uniqueness for H01L in 2011; mean: 0.9962259239979178; sd: 0.05483781688937758, mean+sdL: 1.0510637408872954\n"
     ]
    },
    {
     "name": "stderr",
     "output_type": "stream",
     "text": [
      "100%|███████████████████████████████████████████| 39/39 [03:47<00:00,  5.84s/it]\n"
     ]
    },
    {
     "name": "stdout",
     "output_type": "stream",
     "text": [
      "Difference for H01L in 2011; mean: 0.5663253513794898; sd: 0.4362178740688549, mean+sdL: 1.0025432254483446\n"
     ]
    },
    {
     "name": "stderr",
     "output_type": "stream",
     "text": [
      "100%|█████████████████████████████████| 19210/19210 [00:00<00:00, 452784.67it/s]\n"
     ]
    },
    {
     "name": "stdout",
     "output_type": "stream",
     "text": [
      "SurpriseNew for H01L in 2011; mean: 0.3778722146902782; sd: 0.4577315317928257, mean+sdL: 0.8356037464831039\n"
     ]
    },
    {
     "name": "stderr",
     "output_type": "stream",
     "text": [
      "100%|█████████████████████████████████| 19210/19210 [00:00<00:00, 221941.63it/s]\n"
     ]
    },
    {
     "name": "stdout",
     "output_type": "stream",
     "text": [
      "SurpriseDiv for H01L in 2011; mean: 5.802571001194674; sd: 5.49020739923495, mean+sdL: 11.292778400429624\n",
      "\n",
      "\n",
      "     2012\n",
      "\n",
      "\n"
     ]
    },
    {
     "name": "stderr",
     "output_type": "stream",
     "text": [
      "100%|███████████████████████████████████| 19198/19198 [00:02<00:00, 8977.93it/s]\n"
     ]
    },
    {
     "name": "stdout",
     "output_type": "stream",
     "text": [
      "Newness for H01L in 2012; mean: 0.008830881154821148; sd: 0.06493481334237718, mean+sdL: 0.07376569449719833\n"
     ]
    },
    {
     "name": "stderr",
     "output_type": "stream",
     "text": [
      "100%|█████████████████████████████████| 19198/19198 [00:00<00:00, 724446.68it/s]\n"
     ]
    },
    {
     "name": "stdout",
     "output_type": "stream",
     "text": [
      "Uniqueness for H01L in 2012; mean: 0.9949352363093378; sd: 0.06136023699977024, mean+sdL: 1.0562954733091081\n"
     ]
    },
    {
     "name": "stderr",
     "output_type": "stream",
     "text": [
      "100%|███████████████████████████████████████████| 39/39 [04:03<00:00,  6.24s/it]\n"
     ]
    },
    {
     "name": "stdout",
     "output_type": "stream",
     "text": [
      "Difference for H01L in 2012; mean: 0.47775809980206274; sd: 0.44867851876382264, mean+sdL: 0.9264366185658854\n"
     ]
    },
    {
     "name": "stderr",
     "output_type": "stream",
     "text": [
      "100%|█████████████████████████████████| 19198/19198 [00:00<00:00, 531931.85it/s]\n"
     ]
    },
    {
     "name": "stdout",
     "output_type": "stream",
     "text": [
      "SurpriseNew for H01L in 2012; mean: 0.30493098379865075; sd: 0.43785601579196154, mean+sdL: 0.7427869995906122\n"
     ]
    },
    {
     "name": "stderr",
     "output_type": "stream",
     "text": [
      "100%|█████████████████████████████████| 19198/19198 [00:00<00:00, 256485.21it/s]\n"
     ]
    },
    {
     "name": "stdout",
     "output_type": "stream",
     "text": [
      "SurpriseDiv for H01L in 2012; mean: 5.054780437840455; sd: 5.312010379242269, mean+sdL: 10.366790817082723\n",
      "\n",
      "\n",
      "     2013\n",
      "\n",
      "\n"
     ]
    },
    {
     "name": "stderr",
     "output_type": "stream",
     "text": [
      "100%|███████████████████████████████████| 20359/20359 [00:02<00:00, 9698.30it/s]\n"
     ]
    },
    {
     "name": "stdout",
     "output_type": "stream",
     "text": [
      "Newness for H01L in 2013; mean: 0.008114094074848532; sd: 0.06269602234558062, mean+sdL: 0.07081011642042916\n"
     ]
    },
    {
     "name": "stderr",
     "output_type": "stream",
     "text": [
      "100%|█████████████████████████████████| 20359/20359 [00:00<00:00, 725948.20it/s]\n"
     ]
    },
    {
     "name": "stdout",
     "output_type": "stream",
     "text": [
      "Uniqueness for H01L in 2013; mean: 0.9909358786341939; sd: 0.08148574778966458, mean+sdL: 1.0724216264238584\n"
     ]
    },
    {
     "name": "stderr",
     "output_type": "stream",
     "text": [
      "100%|███████████████████████████████████████████| 41/41 [04:24<00:00,  6.46s/it]\n"
     ]
    },
    {
     "name": "stdout",
     "output_type": "stream",
     "text": [
      "Difference for H01L in 2013; mean: 0.45438872243233946; sd: 0.44417299465383625, mean+sdL: 0.8985617170861757\n"
     ]
    },
    {
     "name": "stderr",
     "output_type": "stream",
     "text": [
      "100%|█████████████████████████████████| 20359/20359 [00:00<00:00, 566837.72it/s]\n"
     ]
    },
    {
     "name": "stdout",
     "output_type": "stream",
     "text": [
      "SurpriseNew for H01L in 2013; mean: 0.3260557600898482; sd: 0.45426506033016123, mean+sdL: 0.7803208204200094\n"
     ]
    },
    {
     "name": "stderr",
     "output_type": "stream",
     "text": [
      "100%|█████████████████████████████████| 20359/20359 [00:00<00:00, 292233.63it/s]\n"
     ]
    },
    {
     "name": "stdout",
     "output_type": "stream",
     "text": [
      "SurpriseDiv for H01L in 2013; mean: 4.650892587853719; sd: 5.452682876544412, mean+sdL: 10.103575464398132\n",
      "\n",
      "\n",
      "     2014\n",
      "\n",
      "\n"
     ]
    },
    {
     "name": "stderr",
     "output_type": "stream",
     "text": [
      "100%|███████████████████████████████████| 19925/19925 [00:03<00:00, 6156.18it/s]\n"
     ]
    },
    {
     "name": "stdout",
     "output_type": "stream",
     "text": [
      "Newness for H01L in 2014; mean: 0.009974784451572407; sd: 0.06325592519142018, mean+sdL: 0.07323070964299258\n"
     ]
    },
    {
     "name": "stderr",
     "output_type": "stream",
     "text": [
      "100%|█████████████████████████████████| 19925/19925 [00:00<00:00, 679962.79it/s]\n"
     ]
    },
    {
     "name": "stdout",
     "output_type": "stream",
     "text": [
      "Uniqueness for H01L in 2014; mean: 0.9727420052413779; sd: 0.10872810155219778, mean+sdL: 1.0814701067935757\n"
     ]
    },
    {
     "name": "stderr",
     "output_type": "stream",
     "text": [
      "100%|███████████████████████████████████████████| 40/40 [04:35<00:00,  6.89s/it]\n"
     ]
    },
    {
     "name": "stdout",
     "output_type": "stream",
     "text": [
      "Difference for H01L in 2014; mean: 0.6728075282308659; sd: 0.43386426517491905, mean+sdL: 1.106671793405785\n"
     ]
    },
    {
     "name": "stderr",
     "output_type": "stream",
     "text": [
      "100%|█████████████████████████████████| 19925/19925 [00:00<00:00, 279937.79it/s]\n"
     ]
    },
    {
     "name": "stdout",
     "output_type": "stream",
     "text": [
      "SurpriseNew for H01L in 2014; mean: 0.474272948765877; sd: 0.4376136699204641, mean+sdL: 0.911886618686341\n"
     ]
    },
    {
     "name": "stderr",
     "output_type": "stream",
     "text": [
      "100%|█████████████████████████████████| 19925/19925 [00:00<00:00, 134108.80it/s]\n"
     ]
    },
    {
     "name": "stdout",
     "output_type": "stream",
     "text": [
      "SurpriseDiv for H01L in 2014; mean: 7.185015607737782; sd: 5.0621668104325845, mean+sdL: 12.247182418170366\n",
      "\n",
      "\n",
      "     2015\n",
      "\n",
      "\n"
     ]
    },
    {
     "name": "stderr",
     "output_type": "stream",
     "text": [
      "100%|███████████████████████████████████| 17315/17315 [00:03<00:00, 4497.11it/s]\n"
     ]
    },
    {
     "name": "stdout",
     "output_type": "stream",
     "text": [
      "Newness for H01L in 2015; mean: 0.00924187276771741; sd: 0.0574448473490047, mean+sdL: 0.06668672011672211\n"
     ]
    },
    {
     "name": "stderr",
     "output_type": "stream",
     "text": [
      "100%|█████████████████████████████████| 17315/17315 [00:00<00:00, 650971.86it/s]\n"
     ]
    },
    {
     "name": "stdout",
     "output_type": "stream",
     "text": [
      "Uniqueness for H01L in 2015; mean: 0.9756898191892077; sd: 0.08661320292084114, mean+sdL: 1.062303022110049\n"
     ]
    },
    {
     "name": "stderr",
     "output_type": "stream",
     "text": [
      "100%|███████████████████████████████████████████| 35/35 [04:21<00:00,  7.48s/it]\n"
     ]
    },
    {
     "name": "stdout",
     "output_type": "stream",
     "text": [
      "Difference for H01L in 2015; mean: 0.752794686687843; sd: 0.3821833611989317, mean+sdL: 1.1349780478867748\n"
     ]
    },
    {
     "name": "stderr",
     "output_type": "stream",
     "text": [
      "100%|█████████████████████████████████| 17315/17315 [00:00<00:00, 184737.03it/s]\n"
     ]
    },
    {
     "name": "stdout",
     "output_type": "stream",
     "text": [
      "SurpriseNew for H01L in 2015; mean: 0.33111829353821876; sd: 0.34866305656600843, mean+sdL: 0.6797813501042271\n"
     ]
    },
    {
     "name": "stderr",
     "output_type": "stream",
     "text": [
      "100%|██████████████████████████████████| 17315/17315 [00:00<00:00, 96930.33it/s]\n"
     ]
    },
    {
     "name": "stdout",
     "output_type": "stream",
     "text": [
      "SurpriseDiv for H01L in 2015; mean: 7.076077149687818; sd: 3.7554354131523926, mean+sdL: 10.83151256284021\n",
      "\n",
      "\n",
      "     2016\n",
      "\n",
      "\n"
     ]
    },
    {
     "name": "stderr",
     "output_type": "stream",
     "text": [
      "100%|███████████████████████████████████| 11700/11700 [00:03<00:00, 3660.63it/s]\n"
     ]
    },
    {
     "name": "stdout",
     "output_type": "stream",
     "text": [
      "Newness for H01L in 2016; mean: 0.009361000452817948; sd: 0.05730436788740649, mean+sdL: 0.06666536834022443\n"
     ]
    },
    {
     "name": "stderr",
     "output_type": "stream",
     "text": [
      "100%|█████████████████████████████████| 11700/11700 [00:00<00:00, 627512.46it/s]\n"
     ]
    },
    {
     "name": "stdout",
     "output_type": "stream",
     "text": [
      "Uniqueness for H01L in 2016; mean: 0.9667801910814732; sd: 0.16534755916288682, mean+sdL: 1.13212775024436\n"
     ]
    },
    {
     "name": "stderr",
     "output_type": "stream",
     "text": [
      "100%|███████████████████████████████████████████| 24/24 [03:07<00:00,  7.81s/it]\n"
     ]
    },
    {
     "name": "stdout",
     "output_type": "stream",
     "text": [
      "Difference for H01L in 2016; mean: 0.7382880341880341; sd: 0.38549872341455976, mean+sdL: 1.123786757602594\n"
     ]
    },
    {
     "name": "stderr",
     "output_type": "stream",
     "text": [
      "100%|█████████████████████████████████| 11700/11700 [00:00<00:00, 143200.43it/s]\n"
     ]
    },
    {
     "name": "stdout",
     "output_type": "stream",
     "text": [
      "SurpriseNew for H01L in 2016; mean: 0.2631428640820162; sd: 0.3025697163712091, mean+sdL: 0.5657125804532253\n"
     ]
    },
    {
     "name": "stderr",
     "output_type": "stream",
     "text": [
      "100%|██████████████████████████████████| 11700/11700 [00:00<00:00, 71790.75it/s]"
     ]
    },
    {
     "name": "stdout",
     "output_type": "stream",
     "text": [
      "SurpriseDiv for H01L in 2016; mean: 6.857355280849253; sd: 3.2104908852247656, mean+sdL: 10.06784616607402\n",
      "\n",
      "\n"
     ]
    },
    {
     "name": "stderr",
     "output_type": "stream",
     "text": [
      "\n"
     ]
    },
    {
     "name": "stdout",
     "output_type": "stream",
     "text": [
      "H04W\n",
      "     2011\n",
      "\n",
      "\n"
     ]
    },
    {
     "name": "stderr",
     "output_type": "stream",
     "text": [
      "100%|████████████████████████████████████| 9232/9232 [00:00<00:00, 94886.18it/s]\n"
     ]
    },
    {
     "name": "stdout",
     "output_type": "stream",
     "text": [
      "Newness for H04W in 2011; mean: 0.013672251107259774; sd: 0.0953899437720812, mean+sdL: 0.10906219487934096\n"
     ]
    },
    {
     "name": "stderr",
     "output_type": "stream",
     "text": [
      "100%|███████████████████████████████████| 9232/9232 [00:00<00:00, 654095.75it/s]"
     ]
    },
    {
     "name": "stdout",
     "output_type": "stream",
     "text": [
      "Uniqueness for H04W in 2011; mean: 0.8827809069901792; sd: 0.2998866377789719, mean+sdL: 1.182667544769151\n"
     ]
    },
    {
     "name": "stderr",
     "output_type": "stream",
     "text": [
      "\n",
      "100%|███████████████████████████████████████████| 19/19 [00:13<00:00,  1.37it/s]\n"
     ]
    },
    {
     "name": "stdout",
     "output_type": "stream",
     "text": [
      "Difference for H04W in 2011; mean: 0.469590554592721; sd: 0.45361997808830723, mean+sdL: 0.9232105326810283\n"
     ]
    },
    {
     "name": "stderr",
     "output_type": "stream",
     "text": [
      "100%|███████████████████████████████████| 9232/9232 [00:00<00:00, 665998.43it/s]\n"
     ]
    },
    {
     "name": "stdout",
     "output_type": "stream",
     "text": [
      "SurpriseNew for H04W in 2011; mean: 0.20120457483975682; sd: 0.38768523994004317, mean+sdL: 0.5888898147798\n"
     ]
    },
    {
     "name": "stderr",
     "output_type": "stream",
     "text": [
      "100%|███████████████████████████████████| 9232/9232 [00:00<00:00, 383300.81it/s]\n"
     ]
    },
    {
     "name": "stdout",
     "output_type": "stream",
     "text": [
      "SurpriseDiv for H04W in 2011; mean: 2.906595644148953; sd: 4.864444874882307, mean+sdL: 7.77104051903126\n",
      "\n",
      "\n",
      "     2012\n",
      "\n",
      "\n"
     ]
    },
    {
     "name": "stderr",
     "output_type": "stream",
     "text": [
      "100%|██████████████████████████████████| 12345/12345 [00:00<00:00, 77047.48it/s]"
     ]
    },
    {
     "name": "stdout",
     "output_type": "stream",
     "text": [
      "Newness for H04W in 2012; mean: 0.004769812339678682; sd: 0.05181722993317737, mean+sdL: 0.05658704227285605\n"
     ]
    },
    {
     "name": "stderr",
     "output_type": "stream",
     "text": [
      "\n",
      "100%|█████████████████████████████████| 12345/12345 [00:00<00:00, 706934.12it/s]\n"
     ]
    },
    {
     "name": "stdout",
     "output_type": "stream",
     "text": [
      "Uniqueness for H04W in 2012; mean: 0.9327501012555691; sd: 0.2362802053018835, mean+sdL: 1.1690303065574525\n"
     ]
    },
    {
     "name": "stderr",
     "output_type": "stream",
     "text": [
      "100%|███████████████████████████████████████████| 25/25 [00:31<00:00,  1.27s/it]\n"
     ]
    },
    {
     "name": "stdout",
     "output_type": "stream",
     "text": [
      "Difference for H04W in 2012; mean: 0.43347266099635484; sd: 0.4371633799153477, mean+sdL: 0.8706360409117025\n"
     ]
    },
    {
     "name": "stderr",
     "output_type": "stream",
     "text": [
      "100%|█████████████████████████████████| 12345/12345 [00:00<00:00, 746004.54it/s]\n"
     ]
    },
    {
     "name": "stdout",
     "output_type": "stream",
     "text": [
      "SurpriseNew for H04W in 2012; mean: 0.20417635827113348; sd: 0.3933745272128534, mean+sdL: 0.5975508854839868\n"
     ]
    },
    {
     "name": "stderr",
     "output_type": "stream",
     "text": [
      "100%|█████████████████████████████████| 12345/12345 [00:00<00:00, 418968.84it/s]\n"
     ]
    },
    {
     "name": "stdout",
     "output_type": "stream",
     "text": [
      "SurpriseDiv for H04W in 2012; mean: 2.9095934562464754; sd: 4.942082507308743, mean+sdL: 7.851675963555218\n",
      "\n",
      "\n",
      "     2013\n",
      "\n",
      "\n"
     ]
    },
    {
     "name": "stderr",
     "output_type": "stream",
     "text": [
      "100%|██████████████████████████████████| 11740/11740 [00:00<00:00, 82945.98it/s]\n"
     ]
    },
    {
     "name": "stdout",
     "output_type": "stream",
     "text": [
      "Newness for H04W in 2013; mean: 0.00579190542563626; sd: 0.052472971913389795, mean+sdL: 0.05826487733902606\n"
     ]
    },
    {
     "name": "stderr",
     "output_type": "stream",
     "text": [
      "100%|█████████████████████████████████| 11740/11740 [00:00<00:00, 733781.32it/s]\n"
     ]
    },
    {
     "name": "stdout",
     "output_type": "stream",
     "text": [
      "Uniqueness for H04W in 2013; mean: 0.8662024417944348; sd: 0.3300992275026153, mean+sdL: 1.19630166929705\n"
     ]
    },
    {
     "name": "stderr",
     "output_type": "stream",
     "text": [
      "100%|███████████████████████████████████████████| 24/24 [00:46<00:00,  1.93s/it]\n"
     ]
    },
    {
     "name": "stdout",
     "output_type": "stream",
     "text": [
      "Difference for H04W in 2013; mean: 0.3134352640545145; sd: 0.4158263212627517, mean+sdL: 0.7292615853172661\n"
     ]
    },
    {
     "name": "stderr",
     "output_type": "stream",
     "text": [
      "100%|█████████████████████████████████| 11740/11740 [00:00<00:00, 953361.64it/s]\n"
     ]
    },
    {
     "name": "stdout",
     "output_type": "stream",
     "text": [
      "SurpriseNew for H04W in 2013; mean: 0.1521066469022176; sd: 0.35459107608911394, mean+sdL: 0.5066977229913315\n"
     ]
    },
    {
     "name": "stderr",
     "output_type": "stream",
     "text": [
      "100%|█████████████████████████████████| 11740/11740 [00:00<00:00, 486832.19it/s]\n"
     ]
    },
    {
     "name": "stdout",
     "output_type": "stream",
     "text": [
      "SurpriseDiv for H04W in 2013; mean: 1.9333878176919552; sd: 4.291567135196752, mean+sdL: 6.224954952888707\n",
      "\n",
      "\n",
      "     2014\n",
      "\n",
      "\n"
     ]
    },
    {
     "name": "stderr",
     "output_type": "stream",
     "text": [
      "100%|██████████████████████████████████| 11050/11050 [00:00<00:00, 47022.20it/s]\n"
     ]
    },
    {
     "name": "stdout",
     "output_type": "stream",
     "text": [
      "Newness for H04W in 2014; mean: 0.012992781728075846; sd: 0.07294757316648366, mean+sdL: 0.0859403548945595\n"
     ]
    },
    {
     "name": "stderr",
     "output_type": "stream",
     "text": [
      "100%|█████████████████████████████████| 11050/11050 [00:00<00:00, 714328.46it/s]\n"
     ]
    },
    {
     "name": "stdout",
     "output_type": "stream",
     "text": [
      "Uniqueness for H04W in 2014; mean: 0.8963145873734109; sd: 0.2499060090241445, mean+sdL: 1.1462205963975554\n"
     ]
    },
    {
     "name": "stderr",
     "output_type": "stream",
     "text": [
      "100%|███████████████████████████████████████████| 23/23 [00:57<00:00,  2.48s/it]\n"
     ]
    },
    {
     "name": "stdout",
     "output_type": "stream",
     "text": [
      "Difference for H04W in 2014; mean: 0.6498235294117647; sd: 0.4459616033511869, mean+sdL: 1.0957851327629515\n"
     ]
    },
    {
     "name": "stderr",
     "output_type": "stream",
     "text": [
      "100%|█████████████████████████████████| 11050/11050 [00:00<00:00, 423678.69it/s]\n"
     ]
    },
    {
     "name": "stdout",
     "output_type": "stream",
     "text": [
      "SurpriseNew for H04W in 2014; mean: 0.4232574876104288; sd: 0.4588589219836969, mean+sdL: 0.8821164095941256\n"
     ]
    },
    {
     "name": "stderr",
     "output_type": "stream",
     "text": [
      "100%|█████████████████████████████████| 11050/11050 [00:00<00:00, 213453.04it/s]\n"
     ]
    },
    {
     "name": "stdout",
     "output_type": "stream",
     "text": [
      "SurpriseDiv for H04W in 2014; mean: 6.042231403993181; sd: 5.436908942732406, mean+sdL: 11.479140346725586\n",
      "\n",
      "\n",
      "     2015\n",
      "\n",
      "\n"
     ]
    },
    {
     "name": "stderr",
     "output_type": "stream",
     "text": [
      "100%|██████████████████████████████████| 10015/10015 [00:00<00:00, 28114.97it/s]\n"
     ]
    },
    {
     "name": "stdout",
     "output_type": "stream",
     "text": [
      "Newness for H04W in 2015; mean: 0.008492420100008715; sd: 0.05626414324477362, mean+sdL: 0.06475656334478233\n"
     ]
    },
    {
     "name": "stderr",
     "output_type": "stream",
     "text": [
      "100%|█████████████████████████████████| 10015/10015 [00:00<00:00, 656414.84it/s]\n"
     ]
    },
    {
     "name": "stdout",
     "output_type": "stream",
     "text": [
      "Uniqueness for H04W in 2015; mean: 0.8840732551965702; sd: 0.22580412029146624, mean+sdL: 1.1098773754880364\n"
     ]
    },
    {
     "name": "stderr",
     "output_type": "stream",
     "text": [
      "100%|███████████████████████████████████████████| 21/21 [00:59<00:00,  2.82s/it]\n"
     ]
    },
    {
     "name": "stdout",
     "output_type": "stream",
     "text": [
      "Difference for H04W in 2015; mean: 0.804901647528707; sd: 0.3618742852356456, mean+sdL: 1.1667759327643525\n"
     ]
    },
    {
     "name": "stderr",
     "output_type": "stream",
     "text": [
      "100%|█████████████████████████████████| 10015/10015 [00:00<00:00, 288931.07it/s]\n"
     ]
    },
    {
     "name": "stdout",
     "output_type": "stream",
     "text": [
      "SurpriseNew for H04W in 2015; mean: 0.3388493067923921; sd: 0.38994406202522364, mean+sdL: 0.7287933688176158\n"
     ]
    },
    {
     "name": "stderr",
     "output_type": "stream",
     "text": [
      "100%|█████████████████████████████████| 10015/10015 [00:00<00:00, 155634.10it/s]\n"
     ]
    },
    {
     "name": "stdout",
     "output_type": "stream",
     "text": [
      "SurpriseDiv for H04W in 2015; mean: 6.005201172416768; sd: 4.311413561688577, mean+sdL: 10.316614734105347\n",
      "\n",
      "\n",
      "     2016\n",
      "\n",
      "\n"
     ]
    },
    {
     "name": "stderr",
     "output_type": "stream",
     "text": [
      "100%|████████████████████████████████████| 5341/5341 [00:00<00:00, 19643.00it/s]\n"
     ]
    },
    {
     "name": "stdout",
     "output_type": "stream",
     "text": [
      "Newness for H04W in 2016; mean: 0.009169570365975533; sd: 0.05590415678874008, mean+sdL: 0.06507372715471561\n"
     ]
    },
    {
     "name": "stderr",
     "output_type": "stream",
     "text": [
      "100%|███████████████████████████████████| 5341/5341 [00:00<00:00, 618884.93it/s]\n"
     ]
    },
    {
     "name": "stdout",
     "output_type": "stream",
     "text": [
      "Uniqueness for H04W in 2016; mean: 0.9165812037512094; sd: 0.17926166597067947, mean+sdL: 1.095842869721889\n"
     ]
    },
    {
     "name": "stderr",
     "output_type": "stream",
     "text": [
      "100%|███████████████████████████████████████████| 11/11 [00:35<00:00,  3.24s/it]\n"
     ]
    },
    {
     "name": "stdout",
     "output_type": "stream",
     "text": [
      "Difference for H04W in 2016; mean: 0.8471971540909942; sd: 0.32068276411243385, mean+sdL: 1.167879918203428\n"
     ]
    },
    {
     "name": "stderr",
     "output_type": "stream",
     "text": [
      "100%|███████████████████████████████████| 5341/5341 [00:00<00:00, 203535.95it/s]\n"
     ]
    },
    {
     "name": "stdout",
     "output_type": "stream",
     "text": [
      "SurpriseNew for H04W in 2016; mean: 0.26403802879182015; sd: 0.3423125696076209, mean+sdL: 0.606350598399441\n"
     ]
    },
    {
     "name": "stderr",
     "output_type": "stream",
     "text": [
      "100%|███████████████████████████████████| 5341/5341 [00:00<00:00, 115373.76it/s]\n"
     ]
    },
    {
     "name": "stdout",
     "output_type": "stream",
     "text": [
      "SurpriseDiv for H04W in 2016; mean: 5.256139864378527; sd: 3.80807415173543, mean+sdL: 9.064214016113958\n",
      "\n",
      "\n",
      "D07B\n",
      "     2011\n",
      "\n",
      "\n"
     ]
    },
    {
     "name": "stderr",
     "output_type": "stream",
     "text": [
      "100%|████████████████████████████████████████| 11/11 [00:00<00:00, 73819.75it/s]\n"
     ]
    },
    {
     "name": "stdout",
     "output_type": "stream",
     "text": [
      "Newness for D07B in 2011; mean: 0.3722943722943723; sd: 0.38180002116404677, mean+sdL: 0.754094393458419\n"
     ]
    },
    {
     "name": "stderr",
     "output_type": "stream",
     "text": [
      "100%|████████████████████████████████████████| 11/11 [00:00<00:00, 68861.71it/s]\n"
     ]
    },
    {
     "name": "stdout",
     "output_type": "stream",
     "text": [
      "Uniqueness for D07B in 2011; mean: 0.7575757575757577; sd: 0.3850989402163283, mean+sdL: 1.1426746977920859\n"
     ]
    },
    {
     "name": "stderr",
     "output_type": "stream",
     "text": [
      "100%|████████████████████████████████████████████| 1/1 [00:00<00:00, 355.81it/s]\n"
     ]
    },
    {
     "name": "stdout",
     "output_type": "stream",
     "text": [
      "Difference for D07B in 2011; mean: 0.40363636363636357; sd: 0.09508586810903913, mean+sdL: 0.4987222317454027\n"
     ]
    },
    {
     "name": "stderr",
     "output_type": "stream",
     "text": [
      "100%|████████████████████████████████████████| 11/11 [00:00<00:00, 70117.54it/s]\n"
     ]
    },
    {
     "name": "stdout",
     "output_type": "stream",
     "text": [
      "SurpriseNew for D07B in 2011; mean: 0.6939393939393939; sd: 0.43036704602781034, mean+sdL: 1.1243064399672043\n"
     ]
    },
    {
     "name": "stderr",
     "output_type": "stream",
     "text": [
      "100%|████████████████████████████████████████| 11/11 [00:00<00:00, 48616.80it/s]"
     ]
    },
    {
     "name": "stdout",
     "output_type": "stream",
     "text": [
      "SurpriseDiv for D07B in 2011; mean: 4.408711626795275; sd: 2.7246127614131455, mean+sdL: 7.13332438820842\n",
      "\n",
      "\n",
      "     2012\n"
     ]
    },
    {
     "name": "stderr",
     "output_type": "stream",
     "text": [
      "\n"
     ]
    },
    {
     "name": "stdout",
     "output_type": "stream",
     "text": [
      "\n",
      "\n"
     ]
    },
    {
     "name": "stderr",
     "output_type": "stream",
     "text": [
      "100%|████████████████████████████████████████| 14/14 [00:00<00:00, 81555.91it/s]\n"
     ]
    },
    {
     "name": "stdout",
     "output_type": "stream",
     "text": [
      "Newness for D07B in 2012; mean: 0.33095238095238094; sd: 0.3430637604938364, mean+sdL: 0.6740161414462174\n"
     ]
    },
    {
     "name": "stderr",
     "output_type": "stream",
     "text": [
      "100%|███████████████████████████████████████| 14/14 [00:00<00:00, 114688.00it/s]\n"
     ]
    },
    {
     "name": "stdout",
     "output_type": "stream",
     "text": [
      "Uniqueness for D07B in 2012; mean: 0.9261904761904762; sd: 0.15232513858784102, mean+sdL: 1.0785156147783173\n"
     ]
    },
    {
     "name": "stderr",
     "output_type": "stream",
     "text": [
      "100%|████████████████████████████████████████████| 1/1 [00:00<00:00, 478.80it/s]\n"
     ]
    },
    {
     "name": "stdout",
     "output_type": "stream",
     "text": [
      "Difference for D07B in 2012; mean: 0.4364285714285714; sd: 0.09889439842992284, mean+sdL: 0.5353229698584943\n"
     ]
    },
    {
     "name": "stderr",
     "output_type": "stream",
     "text": [
      "100%|████████████████████████████████████████| 14/14 [00:00<00:00, 89105.09it/s]\n"
     ]
    },
    {
     "name": "stdout",
     "output_type": "stream",
     "text": [
      "SurpriseNew for D07B in 2012; mean: 0.8738095238095239; sd: 0.2965886926497868, mean+sdL: 1.1703982164593107\n"
     ]
    },
    {
     "name": "stderr",
     "output_type": "stream",
     "text": [
      "100%|████████████████████████████████████████| 14/14 [00:00<00:00, 49678.73it/s]"
     ]
    },
    {
     "name": "stdout",
     "output_type": "stream",
     "text": [
      "SurpriseDiv for D07B in 2012; mean: 5.515259578653688; sd: 1.9071843950373093, mean+sdL: 7.4224439736909975\n",
      "\n",
      "\n",
      "     2013\n"
     ]
    },
    {
     "name": "stderr",
     "output_type": "stream",
     "text": [
      "\n"
     ]
    },
    {
     "name": "stdout",
     "output_type": "stream",
     "text": [
      "\n",
      "\n"
     ]
    },
    {
     "name": "stderr",
     "output_type": "stream",
     "text": [
      "100%|███████████████████████████████████████| 25/25 [00:00<00:00, 107656.67it/s]\n"
     ]
    },
    {
     "name": "stdout",
     "output_type": "stream",
     "text": [
      "Newness for D07B in 2013; mean: 0.14266666666666666; sd: 0.2413885756295116, mean+sdL: 0.38405524229617827\n"
     ]
    },
    {
     "name": "stderr",
     "output_type": "stream",
     "text": [
      "100%|███████████████████████████████████████| 25/25 [00:00<00:00, 129774.26it/s]\n"
     ]
    },
    {
     "name": "stdout",
     "output_type": "stream",
     "text": [
      "Uniqueness for D07B in 2013; mean: 0.7933333333333334; sd: 0.31012542265634685, mean+sdL: 1.1034587559896802\n"
     ]
    },
    {
     "name": "stderr",
     "output_type": "stream",
     "text": [
      "100%|████████████████████████████████████████████| 1/1 [00:00<00:00, 333.38it/s]\n"
     ]
    },
    {
     "name": "stdout",
     "output_type": "stream",
     "text": [
      "Difference for D07B in 2013; mean: 0.45919999999999994; sd: 0.10003679323129065, mean+sdL: 0.5592367932312906\n"
     ]
    },
    {
     "name": "stderr",
     "output_type": "stream",
     "text": [
      "100%|███████████████████████████████████████| 25/25 [00:00<00:00, 128501.96it/s]\n"
     ]
    },
    {
     "name": "stdout",
     "output_type": "stream",
     "text": [
      "SurpriseNew for D07B in 2013; mean: 0.4586666666666666; sd: 0.4827034976739517, mean+sdL: 0.9413701643406183\n"
     ]
    },
    {
     "name": "stderr",
     "output_type": "stream",
     "text": [
      "100%|████████████████████████████████████████| 25/25 [00:00<00:00, 89240.51it/s]"
     ]
    },
    {
     "name": "stdout",
     "output_type": "stream",
     "text": [
      "SurpriseDiv for D07B in 2013; mean: 3.615458522668937; sd: 3.576748239877006, mean+sdL: 7.192206762545943\n",
      "\n",
      "\n",
      "     2014\n"
     ]
    },
    {
     "name": "stderr",
     "output_type": "stream",
     "text": [
      "\n"
     ]
    },
    {
     "name": "stdout",
     "output_type": "stream",
     "text": [
      "\n",
      "\n"
     ]
    },
    {
     "name": "stderr",
     "output_type": "stream",
     "text": [
      "100%|███████████████████████████████████████| 31/31 [00:00<00:00, 141176.36it/s]\n"
     ]
    },
    {
     "name": "stdout",
     "output_type": "stream",
     "text": [
      "Newness for D07B in 2014; mean: 0.16881720430107527; sd: 0.24402324994567196, mean+sdL: 0.4128404542467472\n"
     ]
    },
    {
     "name": "stderr",
     "output_type": "stream",
     "text": [
      "100%|███████████████████████████████████████| 31/31 [00:00<00:00, 192913.09it/s]\n"
     ]
    },
    {
     "name": "stdout",
     "output_type": "stream",
     "text": [
      "Uniqueness for D07B in 2014; mean: 0.8376344086021505; sd: 0.279238844526958, mean+sdL: 1.1168732531291086\n"
     ]
    },
    {
     "name": "stderr",
     "output_type": "stream",
     "text": [
      "100%|████████████████████████████████████████████| 1/1 [00:00<00:00, 326.43it/s]\n"
     ]
    },
    {
     "name": "stdout",
     "output_type": "stream",
     "text": [
      "Difference for D07B in 2014; mean: 0.5645161290322582; sd: 0.12943646366828432, mean+sdL: 0.6939525927005425\n"
     ]
    },
    {
     "name": "stderr",
     "output_type": "stream",
     "text": [
      "100%|███████████████████████████████████████| 31/31 [00:00<00:00, 115576.38it/s]\n"
     ]
    },
    {
     "name": "stdout",
     "output_type": "stream",
     "text": [
      "SurpriseNew for D07B in 2014; mean: 0.6602150537634408; sd: 0.4364584872580084, mean+sdL: 1.0966735410214492\n"
     ]
    },
    {
     "name": "stderr",
     "output_type": "stream",
     "text": [
      "100%|████████████████████████████████████████| 31/31 [00:00<00:00, 76349.63it/s]"
     ]
    },
    {
     "name": "stdout",
     "output_type": "stream",
     "text": [
      "SurpriseDiv for D07B in 2014; mean: 5.286961877442059; sd: 3.2022059167137416, mean+sdL: 8.4891677941558\n",
      "\n",
      "\n",
      "     2015\n",
      "\n",
      "\n"
     ]
    },
    {
     "name": "stderr",
     "output_type": "stream",
     "text": [
      "\n",
      "100%|████████████████████████████████████████| 15/15 [00:00<00:00, 77480.99it/s]\n"
     ]
    },
    {
     "name": "stdout",
     "output_type": "stream",
     "text": [
      "Newness for D07B in 2015; mean: 0.16; sd: 0.20154955277107964, mean+sdL: 0.36154955277107964\n"
     ]
    },
    {
     "name": "stderr",
     "output_type": "stream",
     "text": [
      "100%|████████████████████████████████████████| 15/15 [00:00<00:00, 99078.05it/s]\n"
     ]
    },
    {
     "name": "stdout",
     "output_type": "stream",
     "text": [
      "Uniqueness for D07B in 2015; mean: 0.8588888888888888; sd: 0.1872675513869638, mean+sdL: 1.0461564402758525\n"
     ]
    },
    {
     "name": "stderr",
     "output_type": "stream",
     "text": [
      "100%|████████████████████████████████████████████| 1/1 [00:00<00:00, 454.57it/s]\n"
     ]
    },
    {
     "name": "stdout",
     "output_type": "stream",
     "text": [
      "Difference for D07B in 2015; mean: 0.7106666666666668; sd: 0.14106578449629648, mean+sdL: 0.8517324511629633\n"
     ]
    },
    {
     "name": "stderr",
     "output_type": "stream",
     "text": [
      "100%|████████████████████████████████████████| 15/15 [00:00<00:00, 86778.70it/s]\n"
     ]
    },
    {
     "name": "stdout",
     "output_type": "stream",
     "text": [
      "SurpriseNew for D07B in 2015; mean: 0.9444444444444444; sd: 0.20786985482077452, mean+sdL: 1.1523142992652189\n"
     ]
    },
    {
     "name": "stderr",
     "output_type": "stream",
     "text": [
      "100%|████████████████████████████████████████| 15/15 [00:00<00:00, 75800.67it/s]\n"
     ]
    },
    {
     "name": "stdout",
     "output_type": "stream",
     "text": [
      "SurpriseDiv for D07B in 2015; mean: 5.320690455364903; sd: 0.955090405009249, mean+sdL: 6.275780860374152\n",
      "\n",
      "\n",
      "     2016\n",
      "\n",
      "\n"
     ]
    },
    {
     "name": "stderr",
     "output_type": "stream",
     "text": [
      "100%|██████████████████████████████████████████| 4/4 [00:00<00:00, 28197.00it/s]\n"
     ]
    },
    {
     "name": "stdout",
     "output_type": "stream",
     "text": [
      "Newness for D07B in 2016; mean: 0.125; sd: 0.21650635094610965, mean+sdL: 0.34150635094610965\n"
     ]
    },
    {
     "name": "stderr",
     "output_type": "stream",
     "text": [
      "100%|██████████████████████████████████████████| 4/4 [00:00<00:00, 22017.34it/s]\n"
     ]
    },
    {
     "name": "stdout",
     "output_type": "stream",
     "text": [
      "Uniqueness for D07B in 2016; mean: 0.9375; sd: 0.10825317547305482, mean+sdL: 1.045753175473055\n"
     ]
    },
    {
     "name": "stderr",
     "output_type": "stream",
     "text": [
      "100%|████████████████████████████████████████████| 1/1 [00:00<00:00, 353.83it/s]\n"
     ]
    },
    {
     "name": "stdout",
     "output_type": "stream",
     "text": [
      "Difference for D07B in 2016; mean: 0.775; sd: 0.17698870020427857, mean+sdL: 0.9519887002042786\n"
     ]
    },
    {
     "name": "stderr",
     "output_type": "stream",
     "text": [
      "100%|██████████████████████████████████████████| 4/4 [00:00<00:00, 29026.33it/s]\n"
     ]
    },
    {
     "name": "stdout",
     "output_type": "stream",
     "text": [
      "SurpriseNew for D07B in 2016; mean: 1.0; sd: 0.0, mean+sdL: 1.0\n"
     ]
    },
    {
     "name": "stderr",
     "output_type": "stream",
     "text": [
      "100%|██████████████████████████████████████████| 4/4 [00:00<00:00, 15462.87it/s]"
     ]
    },
    {
     "name": "stdout",
     "output_type": "stream",
     "text": [
      "SurpriseDiv for D07B in 2016; mean: 4.07753744390572; sd: 0.0, mean+sdL: 4.07753744390572\n",
      "\n",
      "\n"
     ]
    },
    {
     "name": "stderr",
     "output_type": "stream",
     "text": [
      "\n"
     ]
    }
   ],
   "source": [
    "ipcMetrics(listIPC, listYear, pathData=pathData, pathOutput=pathOutput)"
   ]
  },
  {
   "cell_type": "markdown",
   "metadata": {},
   "source": [
    "# Création proportions"
   ]
  },
  {
   "cell_type": "code",
   "execution_count": 6,
   "metadata": {},
   "outputs": [
    {
     "name": "stdout",
     "output_type": "stream",
     "text": [
      "(425550, 13)\n"
     ]
    },
    {
     "data": {
      "text/html": [
       "<div>\n",
       "<style scoped>\n",
       "    .dataframe tbody tr th:only-of-type {\n",
       "        vertical-align: middle;\n",
       "    }\n",
       "\n",
       "    .dataframe tbody tr th {\n",
       "        vertical-align: top;\n",
       "    }\n",
       "\n",
       "    .dataframe thead th {\n",
       "        text-align: right;\n",
       "    }\n",
       "</style>\n",
       "<table border=\"1\" class=\"dataframe\">\n",
       "  <thead>\n",
       "    <tr style=\"text-align: right;\">\n",
       "      <th></th>\n",
       "      <th>application_number</th>\n",
       "      <th>label</th>\n",
       "      <th>new_ratio</th>\n",
       "      <th>new_bin</th>\n",
       "      <th>new_len1</th>\n",
       "      <th>uniq_ratio</th>\n",
       "      <th>uniq_bin</th>\n",
       "      <th>diff_ratio</th>\n",
       "      <th>diff_bin</th>\n",
       "      <th>surpNew_ratio</th>\n",
       "      <th>surpNew_bin</th>\n",
       "      <th>surpDiv_ratio</th>\n",
       "      <th>surpDiv_bin</th>\n",
       "    </tr>\n",
       "  </thead>\n",
       "  <tbody>\n",
       "    <tr>\n",
       "      <th>0</th>\n",
       "      <td>14987293</td>\n",
       "      <td>1</td>\n",
       "      <td>0.0</td>\n",
       "      <td>0</td>\n",
       "      <td>0</td>\n",
       "      <td>1.0</td>\n",
       "      <td>1</td>\n",
       "      <td>1.0</td>\n",
       "      <td>1</td>\n",
       "      <td>0.333333</td>\n",
       "      <td>1</td>\n",
       "      <td>7.726376</td>\n",
       "      <td>1</td>\n",
       "    </tr>\n",
       "    <tr>\n",
       "      <th>1</th>\n",
       "      <td>15154703</td>\n",
       "      <td>1</td>\n",
       "      <td>0.0</td>\n",
       "      <td>0</td>\n",
       "      <td>1</td>\n",
       "      <td>1.0</td>\n",
       "      <td>1</td>\n",
       "      <td>0.0</td>\n",
       "      <td>0</td>\n",
       "      <td>0.000000</td>\n",
       "      <td>0</td>\n",
       "      <td>0.000000</td>\n",
       "      <td>0</td>\n",
       "    </tr>\n",
       "    <tr>\n",
       "      <th>2</th>\n",
       "      <td>15226776</td>\n",
       "      <td>1</td>\n",
       "      <td>0.0</td>\n",
       "      <td>0</td>\n",
       "      <td>0</td>\n",
       "      <td>0.8</td>\n",
       "      <td>1</td>\n",
       "      <td>1.0</td>\n",
       "      <td>1</td>\n",
       "      <td>0.600000</td>\n",
       "      <td>1</td>\n",
       "      <td>9.554882</td>\n",
       "      <td>1</td>\n",
       "    </tr>\n",
       "    <tr>\n",
       "      <th>3</th>\n",
       "      <td>15174948</td>\n",
       "      <td>1</td>\n",
       "      <td>0.0</td>\n",
       "      <td>0</td>\n",
       "      <td>0</td>\n",
       "      <td>1.0</td>\n",
       "      <td>1</td>\n",
       "      <td>1.0</td>\n",
       "      <td>1</td>\n",
       "      <td>0.000000</td>\n",
       "      <td>0</td>\n",
       "      <td>3.840714</td>\n",
       "      <td>1</td>\n",
       "    </tr>\n",
       "    <tr>\n",
       "      <th>4</th>\n",
       "      <td>15187340</td>\n",
       "      <td>1</td>\n",
       "      <td>0.0</td>\n",
       "      <td>0</td>\n",
       "      <td>0</td>\n",
       "      <td>1.0</td>\n",
       "      <td>1</td>\n",
       "      <td>1.0</td>\n",
       "      <td>1</td>\n",
       "      <td>0.333333</td>\n",
       "      <td>1</td>\n",
       "      <td>7.870243</td>\n",
       "      <td>1</td>\n",
       "    </tr>\n",
       "  </tbody>\n",
       "</table>\n",
       "</div>"
      ],
      "text/plain": [
       "   application_number  label  new_ratio  new_bin  new_len1  uniq_ratio  \\\n",
       "0            14987293      1        0.0        0         0         1.0   \n",
       "1            15154703      1        0.0        0         1         1.0   \n",
       "2            15226776      1        0.0        0         0         0.8   \n",
       "3            15174948      1        0.0        0         0         1.0   \n",
       "4            15187340      1        0.0        0         0         1.0   \n",
       "\n",
       "   uniq_bin  diff_ratio  diff_bin  surpNew_ratio  surpNew_bin  surpDiv_ratio  \\\n",
       "0         1         1.0         1       0.333333            1       7.726376   \n",
       "1         1         0.0         0       0.000000            0       0.000000   \n",
       "2         1         1.0         1       0.600000            1       9.554882   \n",
       "3         1         1.0         1       0.000000            0       3.840714   \n",
       "4         1         1.0         1       0.333333            1       7.870243   \n",
       "\n",
       "   surpDiv_bin  \n",
       "0            1  \n",
       "1            0  \n",
       "2            1  \n",
       "3            1  \n",
       "4            1  "
      ]
     },
     "execution_count": 6,
     "metadata": {},
     "output_type": "execute_result"
    }
   ],
   "source": [
    "import glob\n",
    "# Specify the directory containing the CSV files\n",
    "directory = '/home/edgarlanoue/data/csv/ipcMetrics/'\n",
    "\n",
    "# Use glob to get all CSV file paths in the directory\n",
    "csv_files = glob.glob(f\"{directory}/*.csv\")\n",
    "\n",
    "# Read each CSV file and append it to a list of DataFrames\n",
    "df_list = [pd.read_csv(file) for file in csv_files]\n",
    "\n",
    "# Concatenate all DataFrames in the list into a single DataFrame\n",
    "merged_df = pd.concat(df_list, ignore_index=True)\n",
    "\n",
    "# Display the first few rows of the merged DataFrame\n",
    "print(merged_df.shape)\n",
    "merged_df.head()"
   ]
  },
  {
   "cell_type": "code",
   "execution_count": 41,
   "metadata": {},
   "outputs": [],
   "source": [
    "merged_df.to_csv(\"/home/edgarlanoue/data/ipcMetrics.csv\", index=False)"
   ]
  },
  {
   "cell_type": "code",
   "execution_count": 18,
   "metadata": {},
   "outputs": [],
   "source": [
    "def combi_pourc(merged_df, label):\n",
    "    label_1_df = merged_df[merged_df['label'] == label]\n",
    "    # Get columns ending with '_bin'\n",
    "    bin_columns = [col for col in merged_df.columns if col.endswith('_bin')]\n",
    "\n",
    "    results = []\n",
    "\n",
    "    # Loop through different lengths of combinations (1 to the total number of _bin columns)\n",
    "    for r in range(1, len(bin_columns) + 1):\n",
    "        for combo in combinations(bin_columns, r):\n",
    "            # Filter rows where all columns in the combination equal 1\n",
    "            condition = (label_1_df[list(combo)] == 1).all(axis=1)\n",
    "            percentage = (condition.sum() / len(label_1_df)) * 100\n",
    "            results.append({\"Combination\": \", \".join(combo), \"Percentage\": percentage})\n",
    "\n",
    "    # Convert the results list to a DataFrame\n",
    "    results_df = pd.DataFrame(results)\n",
    "    return results_df"
   ]
  },
  {
   "cell_type": "code",
   "execution_count": 19,
   "metadata": {},
   "outputs": [],
   "source": [
    "df_1 = combi_pourc(merged_df, 1)\n",
    "df_0 = combi_pourc(merged_df, 0)"
   ]
  },
  {
   "cell_type": "code",
   "execution_count": 26,
   "metadata": {},
   "outputs": [
    {
     "name": "stdout",
     "output_type": "stream",
     "text": [
      "Percentage of label=1 where combination\n"
     ]
    },
    {
     "data": {
      "text/html": [
       "<div>\n",
       "<style scoped>\n",
       "    .dataframe tbody tr th:only-of-type {\n",
       "        vertical-align: middle;\n",
       "    }\n",
       "\n",
       "    .dataframe tbody tr th {\n",
       "        vertical-align: top;\n",
       "    }\n",
       "\n",
       "    .dataframe thead th {\n",
       "        text-align: right;\n",
       "    }\n",
       "</style>\n",
       "<table border=\"1\" class=\"dataframe\">\n",
       "  <thead>\n",
       "    <tr style=\"text-align: right;\">\n",
       "      <th></th>\n",
       "      <th>Combination</th>\n",
       "      <th>Percentage</th>\n",
       "    </tr>\n",
       "  </thead>\n",
       "  <tbody>\n",
       "    <tr>\n",
       "      <th>0</th>\n",
       "      <td>new_bin</td>\n",
       "      <td>3.13</td>\n",
       "    </tr>\n",
       "    <tr>\n",
       "      <th>1</th>\n",
       "      <td>uniq_bin</td>\n",
       "      <td>93.76</td>\n",
       "    </tr>\n",
       "    <tr>\n",
       "      <th>2</th>\n",
       "      <td>diff_bin</td>\n",
       "      <td>54.72</td>\n",
       "    </tr>\n",
       "    <tr>\n",
       "      <th>3</th>\n",
       "      <td>surpNew_bin</td>\n",
       "      <td>29.84</td>\n",
       "    </tr>\n",
       "    <tr>\n",
       "      <th>4</th>\n",
       "      <td>surpDiv_bin</td>\n",
       "      <td>46.50</td>\n",
       "    </tr>\n",
       "    <tr>\n",
       "      <th>5</th>\n",
       "      <td>new_bin, uniq_bin</td>\n",
       "      <td>3.13</td>\n",
       "    </tr>\n",
       "    <tr>\n",
       "      <th>6</th>\n",
       "      <td>new_bin, diff_bin</td>\n",
       "      <td>3.13</td>\n",
       "    </tr>\n",
       "    <tr>\n",
       "      <th>7</th>\n",
       "      <td>new_bin, surpNew_bin</td>\n",
       "      <td>2.92</td>\n",
       "    </tr>\n",
       "    <tr>\n",
       "      <th>8</th>\n",
       "      <td>new_bin, surpDiv_bin</td>\n",
       "      <td>3.03</td>\n",
       "    </tr>\n",
       "    <tr>\n",
       "      <th>9</th>\n",
       "      <td>uniq_bin, diff_bin</td>\n",
       "      <td>54.71</td>\n",
       "    </tr>\n",
       "    <tr>\n",
       "      <th>10</th>\n",
       "      <td>uniq_bin, surpNew_bin</td>\n",
       "      <td>29.84</td>\n",
       "    </tr>\n",
       "    <tr>\n",
       "      <th>11</th>\n",
       "      <td>uniq_bin, surpDiv_bin</td>\n",
       "      <td>46.50</td>\n",
       "    </tr>\n",
       "    <tr>\n",
       "      <th>12</th>\n",
       "      <td>diff_bin, surpNew_bin</td>\n",
       "      <td>29.45</td>\n",
       "    </tr>\n",
       "    <tr>\n",
       "      <th>13</th>\n",
       "      <td>diff_bin, surpDiv_bin</td>\n",
       "      <td>43.30</td>\n",
       "    </tr>\n",
       "    <tr>\n",
       "      <th>14</th>\n",
       "      <td>surpNew_bin, surpDiv_bin</td>\n",
       "      <td>29.84</td>\n",
       "    </tr>\n",
       "    <tr>\n",
       "      <th>15</th>\n",
       "      <td>new_bin, uniq_bin, diff_bin</td>\n",
       "      <td>3.13</td>\n",
       "    </tr>\n",
       "    <tr>\n",
       "      <th>16</th>\n",
       "      <td>new_bin, uniq_bin, surpNew_bin</td>\n",
       "      <td>2.92</td>\n",
       "    </tr>\n",
       "    <tr>\n",
       "      <th>17</th>\n",
       "      <td>new_bin, uniq_bin, surpDiv_bin</td>\n",
       "      <td>3.03</td>\n",
       "    </tr>\n",
       "    <tr>\n",
       "      <th>18</th>\n",
       "      <td>new_bin, diff_bin, surpNew_bin</td>\n",
       "      <td>2.92</td>\n",
       "    </tr>\n",
       "    <tr>\n",
       "      <th>19</th>\n",
       "      <td>new_bin, diff_bin, surpDiv_bin</td>\n",
       "      <td>3.03</td>\n",
       "    </tr>\n",
       "    <tr>\n",
       "      <th>20</th>\n",
       "      <td>new_bin, surpNew_bin, surpDiv_bin</td>\n",
       "      <td>2.92</td>\n",
       "    </tr>\n",
       "    <tr>\n",
       "      <th>21</th>\n",
       "      <td>uniq_bin, diff_bin, surpNew_bin</td>\n",
       "      <td>29.45</td>\n",
       "    </tr>\n",
       "    <tr>\n",
       "      <th>22</th>\n",
       "      <td>uniq_bin, diff_bin, surpDiv_bin</td>\n",
       "      <td>43.30</td>\n",
       "    </tr>\n",
       "    <tr>\n",
       "      <th>23</th>\n",
       "      <td>uniq_bin, surpNew_bin, surpDiv_bin</td>\n",
       "      <td>29.84</td>\n",
       "    </tr>\n",
       "    <tr>\n",
       "      <th>24</th>\n",
       "      <td>diff_bin, surpNew_bin, surpDiv_bin</td>\n",
       "      <td>29.45</td>\n",
       "    </tr>\n",
       "    <tr>\n",
       "      <th>25</th>\n",
       "      <td>new_bin, uniq_bin, diff_bin, surpNew_bin</td>\n",
       "      <td>2.92</td>\n",
       "    </tr>\n",
       "    <tr>\n",
       "      <th>26</th>\n",
       "      <td>new_bin, uniq_bin, diff_bin, surpDiv_bin</td>\n",
       "      <td>3.03</td>\n",
       "    </tr>\n",
       "    <tr>\n",
       "      <th>27</th>\n",
       "      <td>new_bin, uniq_bin, surpNew_bin, surpDiv_bin</td>\n",
       "      <td>2.92</td>\n",
       "    </tr>\n",
       "    <tr>\n",
       "      <th>28</th>\n",
       "      <td>new_bin, diff_bin, surpNew_bin, surpDiv_bin</td>\n",
       "      <td>2.92</td>\n",
       "    </tr>\n",
       "    <tr>\n",
       "      <th>29</th>\n",
       "      <td>uniq_bin, diff_bin, surpNew_bin, surpDiv_bin</td>\n",
       "      <td>29.45</td>\n",
       "    </tr>\n",
       "    <tr>\n",
       "      <th>30</th>\n",
       "      <td>new_bin, uniq_bin, diff_bin, surpNew_bin, surpDiv_bin</td>\n",
       "      <td>2.92</td>\n",
       "    </tr>\n",
       "  </tbody>\n",
       "</table>\n",
       "</div>"
      ],
      "text/plain": [
       "                                              Combination  Percentage\n",
       "0                                                 new_bin        3.13\n",
       "1                                                uniq_bin       93.76\n",
       "2                                                diff_bin       54.72\n",
       "3                                             surpNew_bin       29.84\n",
       "4                                             surpDiv_bin       46.50\n",
       "5                                       new_bin, uniq_bin        3.13\n",
       "6                                       new_bin, diff_bin        3.13\n",
       "7                                    new_bin, surpNew_bin        2.92\n",
       "8                                    new_bin, surpDiv_bin        3.03\n",
       "9                                      uniq_bin, diff_bin       54.71\n",
       "10                                  uniq_bin, surpNew_bin       29.84\n",
       "11                                  uniq_bin, surpDiv_bin       46.50\n",
       "12                                  diff_bin, surpNew_bin       29.45\n",
       "13                                  diff_bin, surpDiv_bin       43.30\n",
       "14                               surpNew_bin, surpDiv_bin       29.84\n",
       "15                            new_bin, uniq_bin, diff_bin        3.13\n",
       "16                         new_bin, uniq_bin, surpNew_bin        2.92\n",
       "17                         new_bin, uniq_bin, surpDiv_bin        3.03\n",
       "18                         new_bin, diff_bin, surpNew_bin        2.92\n",
       "19                         new_bin, diff_bin, surpDiv_bin        3.03\n",
       "20                      new_bin, surpNew_bin, surpDiv_bin        2.92\n",
       "21                        uniq_bin, diff_bin, surpNew_bin       29.45\n",
       "22                        uniq_bin, diff_bin, surpDiv_bin       43.30\n",
       "23                     uniq_bin, surpNew_bin, surpDiv_bin       29.84\n",
       "24                     diff_bin, surpNew_bin, surpDiv_bin       29.45\n",
       "25               new_bin, uniq_bin, diff_bin, surpNew_bin        2.92\n",
       "26               new_bin, uniq_bin, diff_bin, surpDiv_bin        3.03\n",
       "27            new_bin, uniq_bin, surpNew_bin, surpDiv_bin        2.92\n",
       "28            new_bin, diff_bin, surpNew_bin, surpDiv_bin        2.92\n",
       "29           uniq_bin, diff_bin, surpNew_bin, surpDiv_bin       29.45\n",
       "30  new_bin, uniq_bin, diff_bin, surpNew_bin, surpDiv_bin        2.92"
      ]
     },
     "execution_count": 26,
     "metadata": {},
     "output_type": "execute_result"
    }
   ],
   "source": [
    "pd.set_option('display.max_colwidth', None)\n",
    "print(\"Percentage of label=1 where combination\")\n",
    "round(df_1, 2)"
   ]
  },
  {
   "cell_type": "code",
   "execution_count": 27,
   "metadata": {},
   "outputs": [
    {
     "name": "stdout",
     "output_type": "stream",
     "text": [
      "Percentage of label=0 where combination\n"
     ]
    },
    {
     "data": {
      "text/html": [
       "<div>\n",
       "<style scoped>\n",
       "    .dataframe tbody tr th:only-of-type {\n",
       "        vertical-align: middle;\n",
       "    }\n",
       "\n",
       "    .dataframe tbody tr th {\n",
       "        vertical-align: top;\n",
       "    }\n",
       "\n",
       "    .dataframe thead th {\n",
       "        text-align: right;\n",
       "    }\n",
       "</style>\n",
       "<table border=\"1\" class=\"dataframe\">\n",
       "  <thead>\n",
       "    <tr style=\"text-align: right;\">\n",
       "      <th></th>\n",
       "      <th>Combination</th>\n",
       "      <th>Percentage</th>\n",
       "    </tr>\n",
       "  </thead>\n",
       "  <tbody>\n",
       "    <tr>\n",
       "      <th>0</th>\n",
       "      <td>new_bin</td>\n",
       "      <td>3.65</td>\n",
       "    </tr>\n",
       "    <tr>\n",
       "      <th>1</th>\n",
       "      <td>uniq_bin</td>\n",
       "      <td>93.07</td>\n",
       "    </tr>\n",
       "    <tr>\n",
       "      <th>2</th>\n",
       "      <td>diff_bin</td>\n",
       "      <td>52.73</td>\n",
       "    </tr>\n",
       "    <tr>\n",
       "      <th>3</th>\n",
       "      <td>surpNew_bin</td>\n",
       "      <td>26.77</td>\n",
       "    </tr>\n",
       "    <tr>\n",
       "      <th>4</th>\n",
       "      <td>surpDiv_bin</td>\n",
       "      <td>43.03</td>\n",
       "    </tr>\n",
       "    <tr>\n",
       "      <th>5</th>\n",
       "      <td>new_bin, uniq_bin</td>\n",
       "      <td>3.65</td>\n",
       "    </tr>\n",
       "    <tr>\n",
       "      <th>6</th>\n",
       "      <td>new_bin, diff_bin</td>\n",
       "      <td>3.65</td>\n",
       "    </tr>\n",
       "    <tr>\n",
       "      <th>7</th>\n",
       "      <td>new_bin, surpNew_bin</td>\n",
       "      <td>3.38</td>\n",
       "    </tr>\n",
       "    <tr>\n",
       "      <th>8</th>\n",
       "      <td>new_bin, surpDiv_bin</td>\n",
       "      <td>3.52</td>\n",
       "    </tr>\n",
       "    <tr>\n",
       "      <th>9</th>\n",
       "      <td>uniq_bin, diff_bin</td>\n",
       "      <td>52.72</td>\n",
       "    </tr>\n",
       "    <tr>\n",
       "      <th>10</th>\n",
       "      <td>uniq_bin, surpNew_bin</td>\n",
       "      <td>26.77</td>\n",
       "    </tr>\n",
       "    <tr>\n",
       "      <th>11</th>\n",
       "      <td>uniq_bin, surpDiv_bin</td>\n",
       "      <td>43.03</td>\n",
       "    </tr>\n",
       "    <tr>\n",
       "      <th>12</th>\n",
       "      <td>diff_bin, surpNew_bin</td>\n",
       "      <td>26.53</td>\n",
       "    </tr>\n",
       "    <tr>\n",
       "      <th>13</th>\n",
       "      <td>diff_bin, surpDiv_bin</td>\n",
       "      <td>40.22</td>\n",
       "    </tr>\n",
       "    <tr>\n",
       "      <th>14</th>\n",
       "      <td>surpNew_bin, surpDiv_bin</td>\n",
       "      <td>26.77</td>\n",
       "    </tr>\n",
       "    <tr>\n",
       "      <th>15</th>\n",
       "      <td>new_bin, uniq_bin, diff_bin</td>\n",
       "      <td>3.65</td>\n",
       "    </tr>\n",
       "    <tr>\n",
       "      <th>16</th>\n",
       "      <td>new_bin, uniq_bin, surpNew_bin</td>\n",
       "      <td>3.38</td>\n",
       "    </tr>\n",
       "    <tr>\n",
       "      <th>17</th>\n",
       "      <td>new_bin, uniq_bin, surpDiv_bin</td>\n",
       "      <td>3.52</td>\n",
       "    </tr>\n",
       "    <tr>\n",
       "      <th>18</th>\n",
       "      <td>new_bin, diff_bin, surpNew_bin</td>\n",
       "      <td>3.38</td>\n",
       "    </tr>\n",
       "    <tr>\n",
       "      <th>19</th>\n",
       "      <td>new_bin, diff_bin, surpDiv_bin</td>\n",
       "      <td>3.52</td>\n",
       "    </tr>\n",
       "    <tr>\n",
       "      <th>20</th>\n",
       "      <td>new_bin, surpNew_bin, surpDiv_bin</td>\n",
       "      <td>3.38</td>\n",
       "    </tr>\n",
       "    <tr>\n",
       "      <th>21</th>\n",
       "      <td>uniq_bin, diff_bin, surpNew_bin</td>\n",
       "      <td>26.53</td>\n",
       "    </tr>\n",
       "    <tr>\n",
       "      <th>22</th>\n",
       "      <td>uniq_bin, diff_bin, surpDiv_bin</td>\n",
       "      <td>40.22</td>\n",
       "    </tr>\n",
       "    <tr>\n",
       "      <th>23</th>\n",
       "      <td>uniq_bin, surpNew_bin, surpDiv_bin</td>\n",
       "      <td>26.77</td>\n",
       "    </tr>\n",
       "    <tr>\n",
       "      <th>24</th>\n",
       "      <td>diff_bin, surpNew_bin, surpDiv_bin</td>\n",
       "      <td>26.53</td>\n",
       "    </tr>\n",
       "    <tr>\n",
       "      <th>25</th>\n",
       "      <td>new_bin, uniq_bin, diff_bin, surpNew_bin</td>\n",
       "      <td>3.38</td>\n",
       "    </tr>\n",
       "    <tr>\n",
       "      <th>26</th>\n",
       "      <td>new_bin, uniq_bin, diff_bin, surpDiv_bin</td>\n",
       "      <td>3.52</td>\n",
       "    </tr>\n",
       "    <tr>\n",
       "      <th>27</th>\n",
       "      <td>new_bin, uniq_bin, surpNew_bin, surpDiv_bin</td>\n",
       "      <td>3.38</td>\n",
       "    </tr>\n",
       "    <tr>\n",
       "      <th>28</th>\n",
       "      <td>new_bin, diff_bin, surpNew_bin, surpDiv_bin</td>\n",
       "      <td>3.38</td>\n",
       "    </tr>\n",
       "    <tr>\n",
       "      <th>29</th>\n",
       "      <td>uniq_bin, diff_bin, surpNew_bin, surpDiv_bin</td>\n",
       "      <td>26.53</td>\n",
       "    </tr>\n",
       "    <tr>\n",
       "      <th>30</th>\n",
       "      <td>new_bin, uniq_bin, diff_bin, surpNew_bin, surpDiv_bin</td>\n",
       "      <td>3.38</td>\n",
       "    </tr>\n",
       "  </tbody>\n",
       "</table>\n",
       "</div>"
      ],
      "text/plain": [
       "                                              Combination  Percentage\n",
       "0                                                 new_bin        3.65\n",
       "1                                                uniq_bin       93.07\n",
       "2                                                diff_bin       52.73\n",
       "3                                             surpNew_bin       26.77\n",
       "4                                             surpDiv_bin       43.03\n",
       "5                                       new_bin, uniq_bin        3.65\n",
       "6                                       new_bin, diff_bin        3.65\n",
       "7                                    new_bin, surpNew_bin        3.38\n",
       "8                                    new_bin, surpDiv_bin        3.52\n",
       "9                                      uniq_bin, diff_bin       52.72\n",
       "10                                  uniq_bin, surpNew_bin       26.77\n",
       "11                                  uniq_bin, surpDiv_bin       43.03\n",
       "12                                  diff_bin, surpNew_bin       26.53\n",
       "13                                  diff_bin, surpDiv_bin       40.22\n",
       "14                               surpNew_bin, surpDiv_bin       26.77\n",
       "15                            new_bin, uniq_bin, diff_bin        3.65\n",
       "16                         new_bin, uniq_bin, surpNew_bin        3.38\n",
       "17                         new_bin, uniq_bin, surpDiv_bin        3.52\n",
       "18                         new_bin, diff_bin, surpNew_bin        3.38\n",
       "19                         new_bin, diff_bin, surpDiv_bin        3.52\n",
       "20                      new_bin, surpNew_bin, surpDiv_bin        3.38\n",
       "21                        uniq_bin, diff_bin, surpNew_bin       26.53\n",
       "22                        uniq_bin, diff_bin, surpDiv_bin       40.22\n",
       "23                     uniq_bin, surpNew_bin, surpDiv_bin       26.77\n",
       "24                     diff_bin, surpNew_bin, surpDiv_bin       26.53\n",
       "25               new_bin, uniq_bin, diff_bin, surpNew_bin        3.38\n",
       "26               new_bin, uniq_bin, diff_bin, surpDiv_bin        3.52\n",
       "27            new_bin, uniq_bin, surpNew_bin, surpDiv_bin        3.38\n",
       "28            new_bin, diff_bin, surpNew_bin, surpDiv_bin        3.38\n",
       "29           uniq_bin, diff_bin, surpNew_bin, surpDiv_bin       26.53\n",
       "30  new_bin, uniq_bin, diff_bin, surpNew_bin, surpDiv_bin        3.38"
      ]
     },
     "execution_count": 27,
     "metadata": {},
     "output_type": "execute_result"
    }
   ],
   "source": [
    "print(\"Percentage of label=0 where combination\")\n",
    "round(df_0, 2)"
   ]
  }
 ],
 "metadata": {
  "kernelspec": {
   "display_name": "base",
   "language": "python",
   "name": "python3"
  },
  "language_info": {
   "codemirror_mode": {
    "name": "ipython",
    "version": 3
   },
   "file_extension": ".py",
   "mimetype": "text/x-python",
   "name": "python",
   "nbconvert_exporter": "python",
   "pygments_lexer": "ipython3",
   "version": "3.7.12"
  }
 },
 "nbformat": 4,
 "nbformat_minor": 2
}
