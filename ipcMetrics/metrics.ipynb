{
 "cells": [
  {
   "cell_type": "code",
   "execution_count": 1,
   "metadata": {},
   "outputs": [],
   "source": [
    "import pandas as pd\n",
    "from os import listdir\n",
    "from os.path import isfile, join\n",
    "import json\n",
    "import collections\n",
    "import re\n",
    "from tqdm import tqdm\n",
    "import itertools\n",
    "\n",
    "from itertools import islice\n",
    "from collections import Counter, defaultdict\n",
    "\n",
    "from itertools import chain\n",
    "import ast\n",
    "\n",
    "\n",
    "import statistics\n",
    "import numpy as np"
   ]
  },
  {
   "cell_type": "code",
   "execution_count": 2,
   "metadata": {},
   "outputs": [
    {
     "name": "stdout",
     "output_type": "stream",
     "text": [
      "toEval lenght:  9234\n",
      "KS lenght:  173662\n"
     ]
    }
   ],
   "source": [
    "# Importation données\n",
    "# toEval = pd.read_csv('C:/Users/edgar/OneDrive/Bureau/Ecole/HEC/A24/BrevetNLP/exemple données/test/toEval/2016_G06F_patents_toEval.csv') # /home/edgarlanoue/data/csv/toEval/2016_G06F_patents_toEval.csv 'C:/Users/edgar/OneDrive/Bureau/Ecole/HEC/A24/BrevetNLP/exemple données/toEval/2016_G06F_patents_toEval.csv'\n",
    "# KS = pd.read_csv('C:/Users/edgar/OneDrive/Bureau/Ecole/HEC/A24/BrevetNLP/exemple données/test/KS/2016_1115_G06F_KS_raw.csv') # /home/edgarlanoue/data/csv/KS/2016_1115_G06F_KS_raw.csv C:/Users/edgar/OneDrive/Bureau/Ecole/HEC/A24/BrevetNLP/exemple données/KS/2016_1115_G06F_KS_raw.csv\n",
    "toEval = pd.read_pickle('C:/Users/edgar/OneDrive/Bureau/Ecole/HEC/A24/BrevetNLP/PatentNovelty/pickledDF/2016_G06F_patents_toEval.pkl')\n",
    "KS = pd.read_pickle('C:/Users/edgar/OneDrive/Bureau/Ecole/HEC/A24/BrevetNLP/PatentNovelty/pickledDF/2016_1115_G06F_KS_raw.pkl')\n",
    "print(\"toEval lenght: \", len(toEval))\n",
    "print(\"KS lenght: \", len(KS))\n",
    "\n",
    "\n",
    "\n",
    "# Création différents jdD\n",
    "toEval_ipc = list([ast.literal_eval(i) for i in toEval.sec_ipc])\n",
    "KS_ipc = list(set(chain.from_iterable([ast.literal_eval(s) for s in KS.sec_ipc])))\n",
    "KS_sec_ipc = list(pd.Series([ast.literal_eval(i) for i in KS.sec_ipc]))\n",
    "# print(toEval_ipc)\n",
    "# print(KS_ipc)\n",
    "# print(\"toEval length ipc: \", len(toEval_ipc))\n",
    "# print(\"KS length of unique ipc: \", len(KS_ipc))\n",
    "\n",
    "\n",
    "\n",
    "# set_toEval_ipc = [set(sublist) for sublist in toEval_ipc]\n",
    "# set_KS_ipc = [set(sublist) for sublist in KS_sec_ipc]\n",
    "\n"
   ]
  },
  {
   "cell_type": "markdown",
   "metadata": {},
   "source": [
    "### Newness"
   ]
  },
  {
   "cell_type": "code",
   "execution_count": null,
   "metadata": {},
   "outputs": [],
   "source": [
    "from novelty_ipc import Newness\n",
    "\n",
    "instanceNewness = Newness(known_ipc=KS_ipc, list_new_Q=toEval_ipc)"
   ]
  },
  {
   "cell_type": "code",
   "execution_count": 19,
   "metadata": {},
   "outputs": [
    {
     "name": "stderr",
     "output_type": "stream",
     "text": [
      "100%|██████████| 9234/9234 [00:01<00:00, 6333.79it/s]\n"
     ]
    }
   ],
   "source": [
    "scoreNewness = instanceNewness.novelty_score_norm()"
   ]
  },
  {
   "cell_type": "code",
   "execution_count": 20,
   "metadata": {},
   "outputs": [
    {
     "data": {
      "text/plain": [
       "0.042343513103747024"
      ]
     },
     "execution_count": 20,
     "metadata": {},
     "output_type": "execute_result"
    }
   ],
   "source": [
    "scoreNewness[1]"
   ]
  },
  {
   "cell_type": "code",
   "execution_count": 46,
   "metadata": {},
   "outputs": [
    {
     "data": {
      "text/plain": [
       "<module 'novelty_ipc' from 'c:\\\\Users\\\\edgar\\\\OneDrive\\\\Bureau\\\\Ecole\\\\HEC\\\\A24\\\\BrevetNLP\\\\PatentNovelty\\\\ipcMetrics\\\\novelty_ipc.py'>"
      ]
     },
     "execution_count": 46,
     "metadata": {},
     "output_type": "execute_result"
    }
   ],
   "source": [
    "import novelty_ipc\n",
    "import importlib\n",
    "importlib.reload(novelty_ipc)"
   ]
  },
  {
   "cell_type": "markdown",
   "metadata": {},
   "source": [
    "### Uniqueness"
   ]
  },
  {
   "cell_type": "code",
   "execution_count": 3,
   "metadata": {},
   "outputs": [],
   "source": [
    "from novelty_ipc import Uniqueness\n",
    "\n",
    "instanceUnique = Uniqueness(list_new_Q=toEval_ipc, list_known_P=KS_sec_ipc)"
   ]
  },
  {
   "cell_type": "code",
   "execution_count": 5,
   "metadata": {},
   "outputs": [
    {
     "data": {
      "text/plain": [
       "Counter({1.0: 7651,\n",
       "         0.0: 595,\n",
       "         0.5: 455,\n",
       "         0.6666666666666667: 275,\n",
       "         0.75: 139,\n",
       "         0.8: 65,\n",
       "         0.8333333333333334: 23,\n",
       "         0.8571428571428572: 16,\n",
       "         0.8888888888888888: 7,\n",
       "         0.875: 6,\n",
       "         0.9230769230769231: 1,\n",
       "         0.9166666666666666: 1})"
      ]
     },
     "execution_count": 5,
     "metadata": {},
     "output_type": "execute_result"
    }
   ],
   "source": [
    "Counter(instanceUnique.dist_to_proto())"
   ]
  },
  {
   "cell_type": "markdown",
   "metadata": {},
   "source": [
    "### Difference"
   ]
  },
  {
   "cell_type": "code",
   "execution_count": 47,
   "metadata": {},
   "outputs": [],
   "source": [
    "################################################\n",
    "#do not forget to take out random state!\n",
    "#from PatentNovelty.ipcMetrics.novelty_ipc\n",
    "\n",
    "from novelty_ipc import Difference\n",
    "\n",
    "instanceDiff10 = Difference(list_new_Q=toEval_ipc, list_known_P=KS_sec_ipc, N=10, nbKS=1000)\n",
    "# instanceDiff100 = Difference(list_new_Q=KS_sec_ipc, list_known_P=KS_sec_ipc, N=100, nbKS=1000)"
   ]
  },
  {
   "cell_type": "code",
   "execution_count": 48,
   "metadata": {},
   "outputs": [
    {
     "name": "stdout",
     "output_type": "stream",
     "text": [
      "Seuil avec 10:  0.0498352380952381\n"
     ]
    }
   ],
   "source": [
    "print(\"Seuil avec 10: \", instanceDiff10.neighbor_dist)\n",
    "# print(\"Seuil avec 100: \", instanceDiff100.neighbor_dist)"
   ]
  },
  {
   "cell_type": "code",
   "execution_count": 49,
   "metadata": {},
   "outputs": [
    {
     "name": "stderr",
     "output_type": "stream",
     "text": [
      "100%|██████████| 500/500 [01:00<00:00,  8.29it/s]\n"
     ]
    }
   ],
   "source": [
    "rTA10 = instanceDiff10.ratio_toAll(n=500)"
   ]
  },
  {
   "cell_type": "code",
   "execution_count": 50,
   "metadata": {},
   "outputs": [
    {
     "name": "stderr",
     "output_type": "stream",
     "text": [
      "100%|██████████| 500/500 [00:09<00:00, 52.31it/s]\n"
     ]
    }
   ],
   "source": [
    "rTA10_matrix = instanceDiff10.ratio_toAll_matrix(n=500) # petit problème avec la RAM si on veut tout prendre le jdD, sinon plus rapide!"
   ]
  },
  {
   "cell_type": "code",
   "execution_count": 52,
   "metadata": {},
   "outputs": [
    {
     "name": "stdout",
     "output_type": "stream",
     "text": [
      "0.988295067429835\n",
      "0.988295067429835\n"
     ]
    }
   ],
   "source": [
    "print(np.mean(rTA10))\n",
    "print(np.mean(rTA10_matrix))"
   ]
  },
  {
   "cell_type": "code",
   "execution_count": 32,
   "metadata": {},
   "outputs": [
    {
     "name": "stderr",
     "output_type": "stream",
     "text": [
      "100%|██████████| 1000/1000 [00:27<00:00, 36.20it/s]\n"
     ]
    }
   ],
   "source": [
    "rTA10_matrix_test = instanceDiff10.ratio_toAll_matrix(n=1000)"
   ]
  },
  {
   "cell_type": "code",
   "execution_count": 33,
   "metadata": {},
   "outputs": [
    {
     "name": "stdout",
     "output_type": "stream",
     "text": [
      "0.9904337160691458\n"
     ]
    }
   ],
   "source": [
    "print(np.mean(rTA10_matrix_test))"
   ]
  }
 ],
 "metadata": {
  "kernelspec": {
   "display_name": "base",
   "language": "python",
   "name": "python3"
  },
  "language_info": {
   "codemirror_mode": {
    "name": "ipython",
    "version": 3
   },
   "file_extension": ".py",
   "mimetype": "text/x-python",
   "name": "python",
   "nbconvert_exporter": "python",
   "pygments_lexer": "ipython3",
   "version": "undefined.undefined.undefined"
  }
 },
 "nbformat": 4,
 "nbformat_minor": 2
}
