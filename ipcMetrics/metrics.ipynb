{
 "cells": [
  {
   "cell_type": "code",
   "execution_count": 152,
   "metadata": {},
   "outputs": [],
   "source": [
    "import pandas as pd\n",
    "from os import listdir\n",
    "from os.path import isfile, join\n",
    "import json\n",
    "import collections\n",
    "import re\n",
    "from tqdm import tqdm\n",
    "import itertools\n",
    "\n",
    "from itertools import islice\n",
    "from collections import Counter, defaultdict\n",
    "\n",
    "from itertools import chain\n",
    "import ast\n",
    "\n",
    "\n",
    "import statistics\n",
    "import numpy as np\n",
    "\n",
    "from numpy import core\n",
    "import novelty_ipc\n",
    "from novelty_ipc import Newness, Surprise, Uniqueness, Difference\n",
    "\n"
   ]
  },
  {
   "cell_type": "code",
   "execution_count": 153,
   "metadata": {},
   "outputs": [
    {
     "data": {
      "text/plain": [
       "<module 'novelty_ipc' from 'c:\\\\Users\\\\edgar\\\\OneDrive\\\\Bureau\\\\Ecole\\\\HEC\\\\A24\\\\BrevetNLP\\\\PatentNovelty\\\\ipcMetrics\\\\novelty_ipc.py'>"
      ]
     },
     "execution_count": 153,
     "metadata": {},
     "output_type": "execute_result"
    }
   ],
   "source": [
    "import importlib\n",
    "importlib.reload(novelty_ipc)"
   ]
  },
  {
   "cell_type": "code",
   "execution_count": 4,
   "metadata": {},
   "outputs": [
    {
     "name": "stdout",
     "output_type": "stream",
     "text": [
      "toEval lenght:  9234\n",
      "KS lenght:  173662\n"
     ]
    }
   ],
   "source": [
    "# Importation données\n",
    "# toEval = pd.read_csv('C:/Users/edgar/OneDrive/Bureau/Ecole/HEC/A24/BrevetNLP/exemple données/test/toEval/2016_G06F_patents_toEval.csv') # /home/edgarlanoue/data/csv/toEval/2016_G06F_patents_toEval.csv 'C:/Users/edgar/OneDrive/Bureau/Ecole/HEC/A24/BrevetNLP/exemple données/toEval/2016_G06F_patents_toEval.csv'\n",
    "# KS = pd.read_csv('C:/Users/edgar/OneDrive/Bureau/Ecole/HEC/A24/BrevetNLP/exemple données/test/KS/2016_1115_G06F_KS_raw.csv') # /home/edgarlanoue/data/csv/KS/2016_1115_G06F_KS_raw.csv C:/Users/edgar/OneDrive/Bureau/Ecole/HEC/A24/BrevetNLP/exemple données/KS/2016_1115_G06F_KS_raw.csv\n",
    "\n",
    "# toEval.to_pickle(\"C:/Users/edgar/OneDrive/Bureau/Ecole/HEC/A24/BrevetNLP/exemple données/test/pickledDF/2016_G06F_patents_toEval.pkl\")\n",
    "toEval = pd.read_pickle('C:/Users/edgar/OneDrive/Bureau/Ecole/HEC/A24/BrevetNLP/exemple données/test/pickledDF/2016_G06F_patents_toEval.pkl')\n",
    "KS = pd.read_pickle('C:/Users/edgar/OneDrive/Bureau/Ecole/HEC/A24/BrevetNLP/exemple données/test/pickledDF/2016_1115_G06F_KS_raw.pkl')\n",
    "\n",
    "print(\"toEval lenght: \", len(toEval))\n",
    "print(\"KS lenght: \", len(KS))\n",
    "\n",
    "\n",
    "\n",
    "# Création différents jdD\n",
    "toEval_ipc = list([ast.literal_eval(i) for i in toEval.sec_ipc])\n",
    "KS_ipc = list(set(chain.from_iterable([ast.literal_eval(s) for s in KS.sec_ipc])))\n",
    "KS_sec_ipc = list(pd.Series([ast.literal_eval(i) for i in KS.sec_ipc]))\n",
    "\n"
   ]
  },
  {
   "cell_type": "code",
   "execution_count": 5,
   "metadata": {},
   "outputs": [
    {
     "name": "stdout",
     "output_type": "stream",
     "text": [
      "toEval lenght:  9234\n",
      "KS lenght:  431267\n"
     ]
    }
   ],
   "source": [
    "# toEval = pd.read_pickle('C:/Users/edgar/OneDrive/Bureau/Ecole/HEC/A24/BrevetNLP/exemple données/test/pickledDF/2016_G06F_patents_toEval.pkl') \n",
    "ES = pd.read_pickle('C:/Users/edgar/OneDrive/Bureau/Ecole/HEC/A24/BrevetNLP/exemple données/test/pickledDF/2016_1115_G06F_ES_raw.pkl')\n",
    "print(\"toEval lenght: \", len(toEval))\n",
    "print(\"KS lenght: \", len(ES))\n",
    "\n",
    "# Création différents jdD\n",
    "# toEval_ipc = list([ast.literal_eval(i) for i in toEval.sec_ipc])\n",
    "ES_ipc = list(set(chain.from_iterable([ast.literal_eval(s) for s in ES.sec_ipc])))\n",
    "ES_sec_ipc = list(pd.Series([ast.literal_eval(i) for i in ES.sec_ipc]))"
   ]
  },
  {
   "cell_type": "markdown",
   "metadata": {},
   "source": [
    "### Newness"
   ]
  },
  {
   "cell_type": "code",
   "execution_count": 196,
   "metadata": {},
   "outputs": [],
   "source": [
    "import novelty_ipc\n",
    "import importlib\n",
    "importlib.reload(novelty_ipc)\n",
    "from novelty_ipc import Newness\n",
    "\n",
    "instanceNewness = Newness(list_unique_known=KS_ipc, list_new=toEval_ipc)"
   ]
  },
  {
   "cell_type": "code",
   "execution_count": 197,
   "metadata": {},
   "outputs": [
    {
     "name": "stderr",
     "output_type": "stream",
     "text": [
      "100%|██████████| 9234/9234 [00:01<00:00, 5752.73it/s]\n"
     ]
    }
   ],
   "source": [
    "scoreNewness = instanceNewness.novelty_newness(thr=0)"
   ]
  },
  {
   "cell_type": "code",
   "execution_count": 198,
   "metadata": {},
   "outputs": [
    {
     "name": "stdout",
     "output_type": "stream",
     "text": [
      "[0.0, 0.0, 0.16666666666666666, 0.0, 0.0, 0.0]\n",
      "[0, 0, 1, 0, 0, 0]\n",
      "[0, 0, 0, 0, 0, 0]\n"
     ]
    }
   ],
   "source": [
    "print(scoreNewness[0][10:16])\n",
    "print(scoreNewness[1][10:16])\n",
    "print([1 if (scoreNewness[1][i] == 1 and scoreNewness[2][i] == 1) else 0 for i in range(len(scoreNewness[0]))][:6])"
   ]
  },
  {
   "cell_type": "code",
   "execution_count": 200,
   "metadata": {},
   "outputs": [
    {
     "name": "stdout",
     "output_type": "stream",
     "text": [
      "Counter({'0': 8843, '>0': 391})\n",
      "Counter({0: 8843, 1: 391})\n",
      "Counter({0: 9226, 1: 8})\n"
     ]
    },
    {
     "data": {
      "text/plain": [
       "0.014945940307376301"
      ]
     },
     "execution_count": 200,
     "metadata": {},
     "output_type": "execute_result"
    }
   ],
   "source": [
    "print(Counter('>0' if score > 0 else '0' for score in scoreNewness[0]))\n",
    "print(Counter(scoreNewness[1]))\n",
    "print(Counter([1 if (scoreNewness[1][i] == 1 and scoreNewness[2][i] == 1) else 0 for i in range(len(scoreNewness[0]))]))\n",
    "np.mean(scoreNewness[0])\n"
   ]
  },
  {
   "cell_type": "code",
   "execution_count": 205,
   "metadata": {},
   "outputs": [],
   "source": [
    "import novelty_ipc\n",
    "import importlib\n",
    "importlib.reload(novelty_ipc)\n",
    "from novelty_ipc import Uniqueness\n",
    "from novelty_ipc import Difference"
   ]
  },
  {
   "cell_type": "markdown",
   "metadata": {},
   "source": [
    "### Uniqueness"
   ]
  },
  {
   "cell_type": "code",
   "execution_count": 206,
   "metadata": {},
   "outputs": [],
   "source": [
    "from novelty_ipc import Uniqueness\n",
    "\n",
    "instanceUnique = Uniqueness(list_new=toEval_ipc, list_known=KS_sec_ipc)"
   ]
  },
  {
   "cell_type": "code",
   "execution_count": 207,
   "metadata": {},
   "outputs": [
    {
     "name": "stderr",
     "output_type": "stream",
     "text": [
      "100%|██████████| 9234/9234 [00:00<00:00, 841832.83it/s]\n"
     ]
    }
   ],
   "source": [
    "scoreUnique = instanceUnique.dist_toProto(thr=0.5)"
   ]
  },
  {
   "cell_type": "code",
   "execution_count": 208,
   "metadata": {},
   "outputs": [
    {
     "name": "stdout",
     "output_type": "stream",
     "text": [
      "[1.0, 1.0, 1.0, 0.0, 0.0]\n",
      "[1, 1, 1, 0, 0]\n"
     ]
    }
   ],
   "source": [
    "print(scoreUnique[0][10:15])\n",
    "print(scoreUnique[1][10:15])"
   ]
  },
  {
   "cell_type": "code",
   "execution_count": 209,
   "metadata": {},
   "outputs": [
    {
     "data": {
      "text/plain": [
       "Counter({1: 8184, 0: 1050})"
      ]
     },
     "execution_count": 209,
     "metadata": {},
     "output_type": "execute_result"
    }
   ],
   "source": [
    "Counter(scoreUnique[1])"
   ]
  },
  {
   "cell_type": "code",
   "execution_count": 210,
   "metadata": {},
   "outputs": [
    {
     "data": {
      "text/plain": [
       "0.8949833497429338"
      ]
     },
     "execution_count": 210,
     "metadata": {},
     "output_type": "execute_result"
    }
   ],
   "source": [
    "np.mean(scoreUnique[0])"
   ]
  },
  {
   "cell_type": "markdown",
   "metadata": {},
   "source": [
    "### Difference"
   ]
  },
  {
   "cell_type": "code",
   "execution_count": 212,
   "metadata": {},
   "outputs": [],
   "source": [
    "################################################\n",
    "#do not forget to take out random state!\n",
    "#from PatentNovelty.ipcMetrics.novelty_ipc\n",
    "import novelty_ipc\n",
    "import importlib\n",
    "importlib.reload(novelty_ipc)\n",
    "from novelty_ipc import Uniqueness\n",
    "from novelty_ipc import Difference\n",
    "\n",
    "instanceDiff10 = Difference(list_new=toEval_ipc, list_known=KS_sec_ipc, N=10, nb_K=1000, chunksize=500)\n",
    "# instanceDiff100 = Difference(list_new_Q=KS_sec_ipc, list_known_P=KS_sec_ipc, N=100, nbKS=1000)"
   ]
  },
  {
   "cell_type": "code",
   "execution_count": 213,
   "metadata": {},
   "outputs": [
    {
     "name": "stdout",
     "output_type": "stream",
     "text": [
      "Seuil avec 10:  0.05764059523809524\n"
     ]
    }
   ],
   "source": [
    "print(\"Seuil avec 10: \", instanceDiff10.neighbor_dist)\n",
    "# print(\"Seuil avec 100: \", instanceDiff100.neighbor_dist)"
   ]
  },
  {
   "cell_type": "code",
   "execution_count": 131,
   "metadata": {},
   "outputs": [
    {
     "name": "stderr",
     "output_type": "stream",
     "text": [
      "100%|██████████| 50/50 [00:09<00:00,  5.07it/s]\n"
     ]
    }
   ],
   "source": [
    "rTA10 = instanceDiff10.ratio_toAll(n=50)"
   ]
  },
  {
   "cell_type": "code",
   "execution_count": 139,
   "metadata": {},
   "outputs": [
    {
     "name": "stderr",
     "output_type": "stream",
     "text": [
      "  0%|          | 0/1 [00:00<?, ?it/s]"
     ]
    },
    {
     "name": "stderr",
     "output_type": "stream",
     "text": [
      "100%|██████████| 1/1 [00:08<00:00,  8.25s/it]\n"
     ]
    }
   ],
   "source": [
    "rTA10_matrix = instanceDiff10.ratio_toAll_matrix(n=50) # Plus rapide (de moitié), ajout de chunksize pour éviter problème de RAM!"
   ]
  },
  {
   "cell_type": "code",
   "execution_count": 140,
   "metadata": {},
   "outputs": [
    {
     "name": "stdout",
     "output_type": "stream",
     "text": [
      "0.9837423270490953\n",
      "0.9837423270490953\n"
     ]
    }
   ],
   "source": [
    "print(np.mean(rTA10[0]))\n",
    "print(np.mean(rTA10_matrix[0]))"
   ]
  },
  {
   "cell_type": "code",
   "execution_count": 141,
   "metadata": {},
   "outputs": [
    {
     "name": "stdout",
     "output_type": "stream",
     "text": [
      "0.9\n",
      "0.9\n"
     ]
    }
   ],
   "source": [
    "print(np.mean(rTA10[1]))\n",
    "print(np.mean(rTA10_matrix[1]))"
   ]
  },
  {
   "cell_type": "code",
   "execution_count": null,
   "metadata": {},
   "outputs": [
    {
     "name": "stderr",
     "output_type": "stream",
     "text": [
      "  0%|          | 0/2 [00:00<?, ?it/s]"
     ]
    },
    {
     "name": "stderr",
     "output_type": "stream",
     "text": [
      "100%|██████████| 2/2 [00:48<00:00, 24.33s/it]\n",
      "100%|██████████| 19/19 [08:08<00:00, 25.69s/it]\n"
     ]
    }
   ],
   "source": [
    "rTA10_matrix_n1000 = instanceDiff10.ratio_toAll_matrix(n=1000)\n",
    "rTA10_matrix_nall = instanceDiff10.ratio_toAll_matrix(n=\"all\")"
   ]
  },
  {
   "cell_type": "code",
   "execution_count": null,
   "metadata": {},
   "outputs": [],
   "source": [
    "rTA10_test_nall = instanceDiff10.ratio_toAll(n=\"all\") # prend 30 minutes+, version matrix 3 fois moins longue."
   ]
  },
  {
   "cell_type": "code",
   "execution_count": 152,
   "metadata": {},
   "outputs": [
    {
     "name": "stdout",
     "output_type": "stream",
     "text": [
      "0.9837423270490953\n",
      "0.987445186626896\n",
      "0.9887992441791914\n"
     ]
    }
   ],
   "source": [
    "print(np.mean(rTA10_matrix[0]))\n",
    "print(np.mean(rTA10_matrix_n1000[0]))\n",
    "print(np.mean(rTA10_matrix_nall[0]))"
   ]
  },
  {
   "cell_type": "code",
   "execution_count": 193,
   "metadata": {},
   "outputs": [
    {
     "name": "stderr",
     "output_type": "stream",
     "text": [
      "100%|██████████| 500/500 [01:33<00:00,  5.35it/s]\n"
     ]
    }
   ],
   "source": [
    "rTN = instanceDiff10.ratio_toNeighbors(n=500)"
   ]
  },
  {
   "cell_type": "code",
   "execution_count": 214,
   "metadata": {},
   "outputs": [
    {
     "name": "stderr",
     "output_type": "stream",
     "text": [
      "100%|██████████| 1/1 [00:19<00:00, 19.66s/it]\n"
     ]
    }
   ],
   "source": [
    "rTN_matrix = instanceDiff10.ratio_toNeighbors_matrix(n=500)"
   ]
  },
  {
   "cell_type": "code",
   "execution_count": 215,
   "metadata": {},
   "outputs": [
    {
     "name": "stdout",
     "output_type": "stream",
     "text": [
      "0.44339999999999996\n"
     ]
    }
   ],
   "source": [
    "# print(np.mean(rTN[0]))\n",
    "print(np.mean(rTN_matrix[0]))"
   ]
  },
  {
   "cell_type": "code",
   "execution_count": 196,
   "metadata": {},
   "outputs": [
    {
     "name": "stdout",
     "output_type": "stream",
     "text": [
      "0.342\n",
      "0.342\n"
     ]
    }
   ],
   "source": [
    "print(np.mean(rTN[1]))\n",
    "print(np.mean(rTN_matrix[1]))"
   ]
  },
  {
   "cell_type": "markdown",
   "metadata": {},
   "source": [
    "# Surprise"
   ]
  },
  {
   "cell_type": "code",
   "execution_count": 176,
   "metadata": {},
   "outputs": [],
   "source": [
    "import novelty_ipc\n",
    "import importlib\n",
    "importlib.reload(novelty_ipc)\n",
    "from novelty_ipc import Surprise\n",
    "\n",
    "instanceSurp = Surprise(list_expec=ES_sec_ipc, list_new=toEval_ipc)"
   ]
  },
  {
   "cell_type": "code",
   "execution_count": 177,
   "metadata": {},
   "outputs": [
    {
     "name": "stderr",
     "output_type": "stream",
     "text": [
      "100%|██████████| 9234/9234 [00:00<00:00, 318898.34it/s]\n"
     ]
    }
   ],
   "source": [
    "scoreSurpNew = instanceSurp.surprise_new()"
   ]
  },
  {
   "cell_type": "code",
   "execution_count": 216,
   "metadata": {},
   "outputs": [
    {
     "name": "stdout",
     "output_type": "stream",
     "text": [
      "Counter({0: 6504, 1: 2730})\n",
      "0.1820793951073353\n",
      "5.0751831145250845\n"
     ]
    }
   ],
   "source": [
    "print(Counter(scoreSurpNew[1]))\n",
    "print(np.mean(scoreSurpNew[0]))\n",
    "print(np.mean(list(instanceSurp.dict_expec.values())))"
   ]
  },
  {
   "cell_type": "code",
   "execution_count": 179,
   "metadata": {},
   "outputs": [
    {
     "name": "stderr",
     "output_type": "stream",
     "text": [
      "100%|██████████| 9234/9234 [00:00<00:00, 154316.51it/s]\n"
     ]
    }
   ],
   "source": [
    "scoreSurpDiv = instanceSurp.surprise_div(0)"
   ]
  },
  {
   "cell_type": "code",
   "execution_count": 180,
   "metadata": {},
   "outputs": [
    {
     "name": "stdout",
     "output_type": "stream",
     "text": [
      "4.11553224368677\n",
      "0.6846437080355209\n"
     ]
    }
   ],
   "source": [
    "print(np.mean(scoreSurpDiv[0]))\n",
    "print(np.mean(scoreSurpDiv[1]))"
   ]
  },
  {
   "cell_type": "markdown",
   "metadata": {},
   "source": [
    "# Train \n",
    "Fixing thresholds as mean + standard deviation\n",
    "Taking 2 IPC classes: B32B, C07D"
   ]
  },
  {
   "cell_type": "code",
   "execution_count": null,
   "metadata": {},
   "outputs": [],
   "source": [
    "# Importation\n",
    "toEval = pd.read_csv('C:/Users/edgar/OneDrive/Bureau/Ecole/HEC/A24/BrevetNLP/exemple données/trainData/toEval/2016_C07D_patents_toEval.csv') # /home/edgarlanoue/data/csv/toEval/2016_G06F_patents_toEval.csv 'C:/Users/edgar/OneDrive/Bureau/Ecole/HEC/A24/BrevetNLP/exemple données/toEval/2016_G06F_patents_toEval.csv'\n",
    "KS = pd.read_csv('C:/Users/edgar/OneDrive/Bureau/Ecole/HEC/A24/BrevetNLP/exemple données/trainData/KS/2016_1115_C07D_KS_raw.csv') # /home/edgarlanoue/data/csv/KS/2016_1115_G06F_KS_raw.csv C:/Users/edgar/OneDrive/Bureau/Ecole/HEC/A24/BrevetNLP/exemple données/KS/2016_1115_G06F_KS_raw.csv\n",
    "\n",
    "pathData = \"C:/Users/edgar/OneDrive/Bureau/Ecole/HEC/A24/BrevetNLP/data\"\n",
    "pathOutput = \"/home/edgarlanoue/data/csv\"  #\"/home/edgarlanoue/data/csv\" #\"C:/Users/edgar/OneDrive/Bureau/Ecole/HEC/A24/BrevetNLP/exemple données\" \n",
    "listIPC =  [\"C07D\"\"B32B\"]\n",
    "listYear = range(2011, 2017)"
   ]
  },
  {
   "cell_type": "code",
   "execution_count": 371,
   "metadata": {},
   "outputs": [],
   "source": [
    "import novelty_ipc\n",
    "import importlib\n",
    "importlib.reload(novelty_ipc)\n",
    "from novelty_ipc import Newness, Uniqueness, Difference, Surprise, compute_scores, ipcMetrics"
   ]
  },
  {
   "cell_type": "code",
   "execution_count": 372,
   "metadata": {},
   "outputs": [],
   "source": [
    "pathData = \"C:/Users/edgar/OneDrive/Bureau/Ecole/HEC/A24/BrevetNLP/exemple données/trainData\"\n",
    "pathOutput = \"C:/Users/edgar/OneDrive/Bureau/Ecole/HEC/A24/BrevetNLP/exemple données/trainData/ipcMetrics\""
   ]
  },
  {
   "cell_type": "code",
   "execution_count": null,
   "metadata": {},
   "outputs": [
    {
     "name": "stdout",
     "output_type": "stream",
     "text": [
      "G06F\n",
      "     2016\n"
     ]
    }
   ],
   "source": [
    "ipcMetrics([\"G06F\"], [2016], pathData=pathData, pathOutput=pathOutput)"
   ]
  },
  {
   "cell_type": "code",
   "execution_count": 367,
   "metadata": {},
   "outputs": [
    {
     "name": "stdout",
     "output_type": "stream",
     "text": [
      "\n",
      "\n"
     ]
    },
    {
     "name": "stderr",
     "output_type": "stream",
     "text": [
      "100%|██████████| 9234/9234 [00:01<00:00, 6255.91it/s]\n"
     ]
    },
    {
     "name": "stdout",
     "output_type": "stream",
     "text": [
      "Newness for G06F in 2016; mean: 0.014945940307376301; sd: 0.08043892827690431, mean+sdL: 0.09538486858428061\n"
     ]
    },
    {
     "name": "stderr",
     "output_type": "stream",
     "text": [
      "100%|██████████| 9234/9234 [00:00<00:00, 589545.68it/s]\n"
     ]
    },
    {
     "name": "stdout",
     "output_type": "stream",
     "text": [
      "Uniqueness for G06F in 2016; mean: 0.8949833497429338; sd: 0.2652974853981096, mean+sdL: 1.1602808351410434\n"
     ]
    },
    {
     "name": "stderr",
     "output_type": "stream",
     "text": [
      "100%|██████████| 19/19 [04:04<00:00, 12.87s/it]\n"
     ]
    },
    {
     "name": "stdout",
     "output_type": "stream",
     "text": [
      "Difference for G06F in 2016; mean: 0.5368897552523283; sd: 0.4688052586758653, mean+sdL: 1.0056950139281935\n"
     ]
    },
    {
     "name": "stderr",
     "output_type": "stream",
     "text": [
      "100%|██████████| 9234/9234 [00:00<00:00, 371224.31it/s]\n"
     ]
    },
    {
     "name": "stdout",
     "output_type": "stream",
     "text": [
      "SurpriseNew for G06F in 2016; mean: 0.1820793951073353; sd: 0.331659515605271, mean+sdL: 0.5137389107126064\n"
     ]
    },
    {
     "name": "stderr",
     "output_type": "stream",
     "text": [
      "100%|██████████| 9234/9234 [00:00<00:00, 187657.24it/s]\n"
     ]
    },
    {
     "name": "stdout",
     "output_type": "stream",
     "text": [
      "SurpriseDiv for G06F in 2016; mean: 4.11553224368677; sd: 4.223081378739045, mean+sdL: 8.338613622425814\n",
      "\n",
      "\n"
     ]
    }
   ],
   "source": [
    "results = compute_scores(list_unique_known=KS_ipc, list_known=KS_sec_ipc, list_expec=ES_sec_ipc, list_new=toEval_ipc, ipc=\"G06F\", year=2016, N=100, nb_K=1000)"
   ]
  },
  {
   "cell_type": "code",
   "execution_count": 337,
   "metadata": {},
   "outputs": [],
   "source": [
    "new_ratio = results[0]\n",
    "new_bin = results[1]\n",
    "\n",
    "uniq_ratio = results[2]\n",
    "uniq_bin = results[3]\n",
    "\n",
    "diff_ratio = results[4]\n",
    "diff_bin = results[5]\n",
    "\n",
    "surpNew_ratio = results[6]\n",
    "surpNew_bin = results[7]\n",
    "\n",
    "surpDiv_ratio = results[8]\n",
    "surpDiv_bin = results[9]\n"
   ]
  },
  {
   "cell_type": "code",
   "execution_count": 338,
   "metadata": {},
   "outputs": [
    {
     "name": "stdout",
     "output_type": "stream",
     "text": [
      "Newness:  0.011094871794871794\n",
      "Uniqueness:  0.8782000000000001\n",
      "Difference:  0.52174\n",
      "Surprise Newness:  0.16584835164835163\n",
      "Surprise Divergence:  3.9066710228442374\n"
     ]
    }
   ],
   "source": [
    "print(\"Newness: \", np.mean(new_ratio))\n",
    "print(\"Uniqueness: \", np.mean(uniq_ratio))\n",
    "print(\"Difference: \", np.mean(diff_ratio))\n",
    "print(\"Surprise Newness: \", np.mean(surpNew_ratio))\n",
    "print(\"Surprise Divergence: \", np.mean(surpDiv_ratio))"
   ]
  }
 ],
 "metadata": {
  "kernelspec": {
   "display_name": "base",
   "language": "python",
   "name": "python3"
  },
  "language_info": {
   "codemirror_mode": {
    "name": "ipython",
    "version": 3
   },
   "file_extension": ".py",
   "mimetype": "text/x-python",
   "name": "python",
   "nbconvert_exporter": "python",
   "pygments_lexer": "ipython3",
   "version": "3.9.20"
  }
 },
 "nbformat": 4,
 "nbformat_minor": 2
}
