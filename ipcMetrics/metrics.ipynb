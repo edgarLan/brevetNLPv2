{
 "cells": [
  {
   "cell_type": "code",
   "execution_count": 1,
   "metadata": {},
   "outputs": [],
   "source": [
    "import pandas as pd\n",
    "from os import listdir\n",
    "from os.path import isfile, join\n",
    "import json\n",
    "import collections\n",
    "import re\n",
    "from tqdm import tqdm\n",
    "import itertools\n",
    "\n",
    "from itertools import islice\n",
    "from collections import Counter, defaultdict\n",
    "\n",
    "from itertools import chain\n",
    "import ast\n",
    "\n",
    "\n",
    "import statistics\n",
    "import numpy as np\n",
    "\n",
    "from numpy import core\n",
    "import novelty_ipc\n",
    "from novelty_ipc import Newness, Surprise, Uniqueness, Difference\n",
    "\n"
   ]
  },
  {
   "cell_type": "code",
   "execution_count": 2,
   "metadata": {},
   "outputs": [
    {
     "data": {
      "text/plain": [
       "<module 'novelty_ipc' from 'c:\\\\Users\\\\edgar\\\\OneDrive\\\\Bureau\\\\Ecole\\\\HEC\\\\A24\\\\BrevetNLP\\\\PatentNovelty\\\\ipcMetrics\\\\novelty_ipc.py'>"
      ]
     },
     "execution_count": 2,
     "metadata": {},
     "output_type": "execute_result"
    }
   ],
   "source": [
    "import importlib\n",
    "importlib.reload(novelty_ipc)"
   ]
  },
  {
   "cell_type": "code",
   "execution_count": 4,
   "metadata": {},
   "outputs": [
    {
     "name": "stdout",
     "output_type": "stream",
     "text": [
      "toEval lenght:  9234\n",
      "KS lenght:  173662\n"
     ]
    }
   ],
   "source": [
    "# Importation données\n",
    "# toEval = pd.read_csv('C:/Users/edgar/OneDrive/Bureau/Ecole/HEC/A24/BrevetNLP/exemple données/test/toEval/2016_G06F_patents_toEval.csv') # /home/edgarlanoue/data/csv/toEval/2016_G06F_patents_toEval.csv 'C:/Users/edgar/OneDrive/Bureau/Ecole/HEC/A24/BrevetNLP/exemple données/toEval/2016_G06F_patents_toEval.csv'\n",
    "# KS = pd.read_csv('C:/Users/edgar/OneDrive/Bureau/Ecole/HEC/A24/BrevetNLP/exemple données/test/KS/2016_1115_G06F_KS_raw.csv') # /home/edgarlanoue/data/csv/KS/2016_1115_G06F_KS_raw.csv C:/Users/edgar/OneDrive/Bureau/Ecole/HEC/A24/BrevetNLP/exemple données/KS/2016_1115_G06F_KS_raw.csv\n",
    "\n",
    "# toEval.to_pickle(\"C:/Users/edgar/OneDrive/Bureau/Ecole/HEC/A24/BrevetNLP/exemple données/test/pickledDF/2016_G06F_patents_toEval.pkl\")\n",
    "toEval = pd.read_pickle('C:/Users/edgar/OneDrive/Bureau/Ecole/HEC/A24/BrevetNLP/exemple données/test/pickledDF/2016_G06F_patents_toEval.pkl')\n",
    "KS = pd.read_pickle('C:/Users/edgar/OneDrive/Bureau/Ecole/HEC/A24/BrevetNLP/exemple données/test/pickledDF/2016_1115_G06F_KS_raw.pkl')\n",
    "\n",
    "print(\"toEval lenght: \", len(toEval))\n",
    "print(\"KS lenght: \", len(KS))\n",
    "\n",
    "\n",
    "\n",
    "# Création différents jdD\n",
    "toEval_ipc = list([ast.literal_eval(i) for i in toEval.sec_ipc])\n",
    "KS_ipc = list(set(chain.from_iterable([ast.literal_eval(s) for s in KS.sec_ipc])))\n",
    "KS_sec_ipc = list(pd.Series([ast.literal_eval(i) for i in KS.sec_ipc]))\n",
    "\n"
   ]
  },
  {
   "cell_type": "code",
   "execution_count": 5,
   "metadata": {},
   "outputs": [
    {
     "name": "stdout",
     "output_type": "stream",
     "text": [
      "toEval lenght:  9234\n",
      "KS lenght:  431267\n"
     ]
    }
   ],
   "source": [
    "# toEval = pd.read_pickle('C:/Users/edgar/OneDrive/Bureau/Ecole/HEC/A24/BrevetNLP/exemple données/test/pickledDF/2016_G06F_patents_toEval.pkl') \n",
    "ES = pd.read_pickle('C:/Users/edgar/OneDrive/Bureau/Ecole/HEC/A24/BrevetNLP/exemple données/test/pickledDF/2016_1115_G06F_ES_raw.pkl')\n",
    "print(\"toEval lenght: \", len(toEval))\n",
    "print(\"KS lenght: \", len(ES))\n",
    "\n",
    "# Création différents jdD\n",
    "# toEval_ipc = list([ast.literal_eval(i) for i in toEval.sec_ipc])\n",
    "ES_ipc = list(set(chain.from_iterable([ast.literal_eval(s) for s in ES.sec_ipc])))\n",
    "ES_sec_ipc = list(pd.Series([ast.literal_eval(i) for i in ES.sec_ipc]))"
   ]
  },
  {
   "cell_type": "markdown",
   "metadata": {},
   "source": [
    "### Newness"
   ]
  },
  {
   "cell_type": "code",
   "execution_count": 196,
   "metadata": {},
   "outputs": [],
   "source": [
    "import novelty_ipc\n",
    "import importlib\n",
    "importlib.reload(novelty_ipc)\n",
    "from novelty_ipc import Newness\n",
    "\n",
    "instanceNewness = Newness(list_unique_known=KS_ipc, list_new=toEval_ipc)"
   ]
  },
  {
   "cell_type": "code",
   "execution_count": 197,
   "metadata": {},
   "outputs": [
    {
     "name": "stderr",
     "output_type": "stream",
     "text": [
      "100%|██████████| 9234/9234 [00:01<00:00, 5752.73it/s]\n"
     ]
    }
   ],
   "source": [
    "scoreNewness = instanceNewness.novelty_newness(thr=0)"
   ]
  },
  {
   "cell_type": "code",
   "execution_count": 198,
   "metadata": {},
   "outputs": [
    {
     "name": "stdout",
     "output_type": "stream",
     "text": [
      "[0.0, 0.0, 0.16666666666666666, 0.0, 0.0, 0.0]\n",
      "[0, 0, 1, 0, 0, 0]\n",
      "[0, 0, 0, 0, 0, 0]\n"
     ]
    }
   ],
   "source": [
    "print(scoreNewness[0][10:16])\n",
    "print(scoreNewness[1][10:16])\n",
    "print([1 if (scoreNewness[1][i] == 1 and scoreNewness[2][i] == 1) else 0 for i in range(len(scoreNewness[0]))][:6])"
   ]
  },
  {
   "cell_type": "code",
   "execution_count": 200,
   "metadata": {},
   "outputs": [
    {
     "name": "stdout",
     "output_type": "stream",
     "text": [
      "Counter({'0': 8843, '>0': 391})\n",
      "Counter({0: 8843, 1: 391})\n",
      "Counter({0: 9226, 1: 8})\n"
     ]
    },
    {
     "data": {
      "text/plain": [
       "0.014945940307376301"
      ]
     },
     "execution_count": 200,
     "metadata": {},
     "output_type": "execute_result"
    }
   ],
   "source": [
    "print(Counter('>0' if score > 0 else '0' for score in scoreNewness[0]))\n",
    "print(Counter(scoreNewness[1]))\n",
    "print(Counter([1 if (scoreNewness[1][i] == 1 and scoreNewness[2][i] == 1) else 0 for i in range(len(scoreNewness[0]))]))\n",
    "np.mean(scoreNewness[0])\n"
   ]
  },
  {
   "cell_type": "code",
   "execution_count": 205,
   "metadata": {},
   "outputs": [],
   "source": [
    "import novelty_ipc\n",
    "import importlib\n",
    "importlib.reload(novelty_ipc)\n",
    "from novelty_ipc import Uniqueness\n",
    "from novelty_ipc import Difference"
   ]
  },
  {
   "cell_type": "markdown",
   "metadata": {},
   "source": [
    "### Uniqueness"
   ]
  },
  {
   "cell_type": "code",
   "execution_count": 206,
   "metadata": {},
   "outputs": [],
   "source": [
    "from novelty_ipc import Uniqueness\n",
    "\n",
    "instanceUnique = Uniqueness(list_new=toEval_ipc, list_known=KS_sec_ipc)"
   ]
  },
  {
   "cell_type": "code",
   "execution_count": 207,
   "metadata": {},
   "outputs": [
    {
     "name": "stderr",
     "output_type": "stream",
     "text": [
      "100%|██████████| 9234/9234 [00:00<00:00, 841832.83it/s]\n"
     ]
    }
   ],
   "source": [
    "scoreUnique = instanceUnique.dist_toProto(thr=0.5)"
   ]
  },
  {
   "cell_type": "code",
   "execution_count": 208,
   "metadata": {},
   "outputs": [
    {
     "name": "stdout",
     "output_type": "stream",
     "text": [
      "[1.0, 1.0, 1.0, 0.0, 0.0]\n",
      "[1, 1, 1, 0, 0]\n"
     ]
    }
   ],
   "source": [
    "print(scoreUnique[0][10:15])\n",
    "print(scoreUnique[1][10:15])"
   ]
  },
  {
   "cell_type": "code",
   "execution_count": 209,
   "metadata": {},
   "outputs": [
    {
     "data": {
      "text/plain": [
       "Counter({1: 8184, 0: 1050})"
      ]
     },
     "execution_count": 209,
     "metadata": {},
     "output_type": "execute_result"
    }
   ],
   "source": [
    "Counter(scoreUnique[1])"
   ]
  },
  {
   "cell_type": "code",
   "execution_count": 210,
   "metadata": {},
   "outputs": [
    {
     "data": {
      "text/plain": [
       "0.8949833497429338"
      ]
     },
     "execution_count": 210,
     "metadata": {},
     "output_type": "execute_result"
    }
   ],
   "source": [
    "np.mean(scoreUnique[0])"
   ]
  },
  {
   "cell_type": "markdown",
   "metadata": {},
   "source": [
    "### Difference"
   ]
  },
  {
   "cell_type": "code",
   "execution_count": 212,
   "metadata": {},
   "outputs": [],
   "source": [
    "################################################\n",
    "#do not forget to take out random state!\n",
    "#from PatentNovelty.ipcMetrics.novelty_ipc\n",
    "import novelty_ipc\n",
    "import importlib\n",
    "importlib.reload(novelty_ipc)\n",
    "from novelty_ipc import Uniqueness\n",
    "from novelty_ipc import Difference\n",
    "\n",
    "instanceDiff10 = Difference(list_new=toEval_ipc, list_known=KS_sec_ipc, N=10, nb_K=1000, chunksize=500)\n",
    "# instanceDiff100 = Difference(list_new_Q=KS_sec_ipc, list_known_P=KS_sec_ipc, N=100, nbKS=1000)"
   ]
  },
  {
   "cell_type": "code",
   "execution_count": 213,
   "metadata": {},
   "outputs": [
    {
     "name": "stdout",
     "output_type": "stream",
     "text": [
      "Seuil avec 10:  0.05764059523809524\n"
     ]
    }
   ],
   "source": [
    "print(\"Seuil avec 10: \", instanceDiff10.neighbor_dist)\n",
    "# print(\"Seuil avec 100: \", instanceDiff100.neighbor_dist)"
   ]
  },
  {
   "cell_type": "code",
   "execution_count": 131,
   "metadata": {},
   "outputs": [
    {
     "name": "stderr",
     "output_type": "stream",
     "text": [
      "100%|██████████| 50/50 [00:09<00:00,  5.07it/s]\n"
     ]
    }
   ],
   "source": [
    "rTA10 = instanceDiff10.ratio_toAll(n=50)"
   ]
  },
  {
   "cell_type": "code",
   "execution_count": 139,
   "metadata": {},
   "outputs": [
    {
     "name": "stderr",
     "output_type": "stream",
     "text": [
      "  0%|          | 0/1 [00:00<?, ?it/s]"
     ]
    },
    {
     "name": "stderr",
     "output_type": "stream",
     "text": [
      "100%|██████████| 1/1 [00:08<00:00,  8.25s/it]\n"
     ]
    }
   ],
   "source": [
    "rTA10_matrix = instanceDiff10.ratio_toAll_matrix(n=50) # Plus rapide (de moitié), ajout de chunksize pour éviter problème de RAM!"
   ]
  },
  {
   "cell_type": "code",
   "execution_count": 140,
   "metadata": {},
   "outputs": [
    {
     "name": "stdout",
     "output_type": "stream",
     "text": [
      "0.9837423270490953\n",
      "0.9837423270490953\n"
     ]
    }
   ],
   "source": [
    "print(np.mean(rTA10[0]))\n",
    "print(np.mean(rTA10_matrix[0]))"
   ]
  },
  {
   "cell_type": "code",
   "execution_count": 141,
   "metadata": {},
   "outputs": [
    {
     "name": "stdout",
     "output_type": "stream",
     "text": [
      "0.9\n",
      "0.9\n"
     ]
    }
   ],
   "source": [
    "print(np.mean(rTA10[1]))\n",
    "print(np.mean(rTA10_matrix[1]))"
   ]
  },
  {
   "cell_type": "code",
   "execution_count": null,
   "metadata": {},
   "outputs": [
    {
     "name": "stderr",
     "output_type": "stream",
     "text": [
      "  0%|          | 0/2 [00:00<?, ?it/s]"
     ]
    },
    {
     "name": "stderr",
     "output_type": "stream",
     "text": [
      "100%|██████████| 2/2 [00:48<00:00, 24.33s/it]\n",
      "100%|██████████| 19/19 [08:08<00:00, 25.69s/it]\n"
     ]
    }
   ],
   "source": [
    "rTA10_matrix_n1000 = instanceDiff10.ratio_toAll_matrix(n=1000)\n",
    "rTA10_matrix_nall = instanceDiff10.ratio_toAll_matrix(n=\"all\")"
   ]
  },
  {
   "cell_type": "code",
   "execution_count": null,
   "metadata": {},
   "outputs": [],
   "source": [
    "rTA10_test_nall = instanceDiff10.ratio_toAll(n=\"all\") # prend 30 minutes+, version matrix 3 fois moins longue."
   ]
  },
  {
   "cell_type": "code",
   "execution_count": 152,
   "metadata": {},
   "outputs": [
    {
     "name": "stdout",
     "output_type": "stream",
     "text": [
      "0.9837423270490953\n",
      "0.987445186626896\n",
      "0.9887992441791914\n"
     ]
    }
   ],
   "source": [
    "print(np.mean(rTA10_matrix[0]))\n",
    "print(np.mean(rTA10_matrix_n1000[0]))\n",
    "print(np.mean(rTA10_matrix_nall[0]))"
   ]
  },
  {
   "cell_type": "code",
   "execution_count": 193,
   "metadata": {},
   "outputs": [
    {
     "name": "stderr",
     "output_type": "stream",
     "text": [
      "100%|██████████| 500/500 [01:33<00:00,  5.35it/s]\n"
     ]
    }
   ],
   "source": [
    "rTN = instanceDiff10.ratio_toNeighbors(n=500)"
   ]
  },
  {
   "cell_type": "code",
   "execution_count": 214,
   "metadata": {},
   "outputs": [
    {
     "name": "stderr",
     "output_type": "stream",
     "text": [
      "100%|██████████| 1/1 [00:19<00:00, 19.66s/it]\n"
     ]
    }
   ],
   "source": [
    "rTN_matrix = instanceDiff10.ratio_toNeighbors_matrix(n=500)"
   ]
  },
  {
   "cell_type": "code",
   "execution_count": 215,
   "metadata": {},
   "outputs": [
    {
     "name": "stdout",
     "output_type": "stream",
     "text": [
      "0.44339999999999996\n"
     ]
    }
   ],
   "source": [
    "# print(np.mean(rTN[0]))\n",
    "print(np.mean(rTN_matrix[0]))"
   ]
  },
  {
   "cell_type": "code",
   "execution_count": 196,
   "metadata": {},
   "outputs": [
    {
     "name": "stdout",
     "output_type": "stream",
     "text": [
      "0.342\n",
      "0.342\n"
     ]
    }
   ],
   "source": [
    "print(np.mean(rTN[1]))\n",
    "print(np.mean(rTN_matrix[1]))"
   ]
  },
  {
   "cell_type": "markdown",
   "metadata": {},
   "source": [
    "# Surprise"
   ]
  },
  {
   "cell_type": "code",
   "execution_count": 176,
   "metadata": {},
   "outputs": [],
   "source": [
    "import novelty_ipc\n",
    "import importlib\n",
    "importlib.reload(novelty_ipc)\n",
    "from novelty_ipc import Surprise\n",
    "\n",
    "instanceSurp = Surprise(list_expec=ES_sec_ipc, list_new=toEval_ipc)"
   ]
  },
  {
   "cell_type": "code",
   "execution_count": 177,
   "metadata": {},
   "outputs": [
    {
     "name": "stderr",
     "output_type": "stream",
     "text": [
      "100%|██████████| 9234/9234 [00:00<00:00, 318898.34it/s]\n"
     ]
    }
   ],
   "source": [
    "scoreSurpNew = instanceSurp.surprise_new()"
   ]
  },
  {
   "cell_type": "code",
   "execution_count": 216,
   "metadata": {},
   "outputs": [
    {
     "name": "stdout",
     "output_type": "stream",
     "text": [
      "Counter({0: 6504, 1: 2730})\n",
      "0.1820793951073353\n",
      "5.0751831145250845\n"
     ]
    }
   ],
   "source": [
    "print(Counter(scoreSurpNew[1]))\n",
    "print(np.mean(scoreSurpNew[0]))\n",
    "print(np.mean(list(instanceSurp.dict_expec.values())))"
   ]
  },
  {
   "cell_type": "code",
   "execution_count": 179,
   "metadata": {},
   "outputs": [
    {
     "name": "stderr",
     "output_type": "stream",
     "text": [
      "100%|██████████| 9234/9234 [00:00<00:00, 154316.51it/s]\n"
     ]
    }
   ],
   "source": [
    "scoreSurpDiv = instanceSurp.surprise_div(0)"
   ]
  },
  {
   "cell_type": "code",
   "execution_count": 180,
   "metadata": {},
   "outputs": [
    {
     "name": "stdout",
     "output_type": "stream",
     "text": [
      "4.11553224368677\n",
      "0.6846437080355209\n"
     ]
    }
   ],
   "source": [
    "print(np.mean(scoreSurpDiv[0]))\n",
    "print(np.mean(scoreSurpDiv[1]))"
   ]
  },
  {
   "cell_type": "markdown",
   "metadata": {},
   "source": [
    "# Train \n",
    "Fixing thresholds as mean + standard deviation\n",
    "Taking 2 IPC classes: B32B, C07D"
   ]
  },
  {
   "cell_type": "code",
   "execution_count": 26,
   "metadata": {},
   "outputs": [],
   "source": [
    "pathData = \"/home/edgarlanoue/data/csv\" #\"C:/Users/edgar/OneDrive/Bureau/Ecole/HEC/A24/BrevetNLP/exemple données/trainData\"\n",
    "pathOutput = \"/home/edgarlanoue/data/csv/ipcMetrics/train\" #\"C:/Users/edgar/OneDrive/Bureau/Ecole/HEC/A24/BrevetNLP/exemple données/trainData/ipcMetrics\"\n",
    "listIPC =  [\"C07D\", \"B32B\"]\n",
    "listYear = range(2011, 2017)"
   ]
  },
  {
   "cell_type": "code",
   "execution_count": 35,
   "metadata": {},
   "outputs": [],
   "source": [
    "# # import novelty_ipc\n",
    "# import importlib\n",
    "importlib.reload(novelty_ipc)\n",
    "from novelty_ipc import Newness, Uniqueness, Difference, Surprise, compute_scores, ipcMetrics"
   ]
  },
  {
   "cell_type": "code",
   "execution_count": 36,
   "metadata": {},
   "outputs": [
    {
     "name": "stdout",
     "output_type": "stream",
     "text": [
      "C07D\n",
      "     2011\n",
      "\n",
      "\n"
     ]
    },
    {
     "name": "stderr",
     "output_type": "stream",
     "text": [
      "100%|██████████| 1121/1121 [00:00<00:00, 10913.36it/s]\n"
     ]
    },
    {
     "name": "stdout",
     "output_type": "stream",
     "text": [
      "Newness for C07D in 2011; mean: 0.07878416611981363; sd: 0.18805025579562323, mean+sdL: 0.2668344219154369\n"
     ]
    },
    {
     "name": "stderr",
     "output_type": "stream",
     "text": [
      "100%|██████████| 1121/1121 [00:00<00:00, 662414.03it/s]"
     ]
    },
    {
     "name": "stdout",
     "output_type": "stream",
     "text": [
      "Uniqueness for C07D in 2011; mean: 0.9613716073796361; sd: 0.1760034007168493, mean+sdL: 1.1373750080964855\n"
     ]
    },
    {
     "name": "stderr",
     "output_type": "stream",
     "text": [
      "\n",
      "100%|██████████| 3/3 [00:01<00:00,  2.49it/s]\n"
     ]
    },
    {
     "name": "stdout",
     "output_type": "stream",
     "text": [
      "Difference for C07D in 2011; mean: 0.6689027653880464; sd: 0.3551330622224876, mean+sdL: 1.024035827610534\n"
     ]
    },
    {
     "name": "stderr",
     "output_type": "stream",
     "text": [
      "100%|██████████| 1121/1121 [00:00<00:00, 170312.41it/s]\n"
     ]
    },
    {
     "name": "stdout",
     "output_type": "stream",
     "text": [
      "SurpriseNew for C07D in 2011; mean: 0.35676924861593245; sd: 0.44658117735793146, mean+sdL: 0.803350425973864\n"
     ]
    },
    {
     "name": "stderr",
     "output_type": "stream",
     "text": [
      "100%|██████████| 1121/1121 [00:00<00:00, 68172.87it/s]\n"
     ]
    },
    {
     "name": "stdout",
     "output_type": "stream",
     "text": [
      "SurpriseDiv for C07D in 2011; mean: 4.418603462957523; sd: 4.7471051969263405, mean+sdL: 9.165708659883864\n",
      "\n",
      "\n",
      "     2012\n",
      "\n",
      "\n"
     ]
    },
    {
     "name": "stderr",
     "output_type": "stream",
     "text": [
      "100%|██████████| 2430/2430 [00:00<00:00, 7046.54it/s]\n"
     ]
    },
    {
     "name": "stdout",
     "output_type": "stream",
     "text": [
      "Newness for C07D in 2012; mean: 0.07326914812023165; sd: 0.17455781201973938, mean+sdL: 0.24782696013997102\n"
     ]
    },
    {
     "name": "stderr",
     "output_type": "stream",
     "text": [
      "100%|██████████| 2430/2430 [00:00<00:00, 653804.52it/s]\n"
     ]
    },
    {
     "name": "stdout",
     "output_type": "stream",
     "text": [
      "Uniqueness for C07D in 2012; mean: 0.9635243990439974; sd: 0.16142721560311532, mean+sdL: 1.1249516146471128\n"
     ]
    },
    {
     "name": "stderr",
     "output_type": "stream",
     "text": [
      "100%|██████████| 5/5 [00:02<00:00,  1.91it/s]\n"
     ]
    },
    {
     "name": "stdout",
     "output_type": "stream",
     "text": [
      "Difference for C07D in 2012; mean: 0.6326666666666667; sd: 0.3722544596321841, mean+sdL: 1.0049211262988509\n"
     ]
    },
    {
     "name": "stderr",
     "output_type": "stream",
     "text": [
      "100%|██████████| 2430/2430 [00:00<00:00, 65705.84it/s]\n"
     ]
    },
    {
     "name": "stdout",
     "output_type": "stream",
     "text": [
      "SurpriseNew for C07D in 2012; mean: 0.2418157487123295; sd: 0.36086039344087384, mean+sdL: 0.6026761421532033\n"
     ]
    },
    {
     "name": "stderr",
     "output_type": "stream",
     "text": [
      "100%|██████████| 2430/2430 [00:00<00:00, 28526.77it/s]\n"
     ]
    },
    {
     "name": "stdout",
     "output_type": "stream",
     "text": [
      "SurpriseDiv for C07D in 2012; mean: 3.922005316623381; sd: 4.098064846569458, mean+sdL: 8.02007016319284\n",
      "\n",
      "\n",
      "     2013\n",
      "\n",
      "\n"
     ]
    },
    {
     "name": "stderr",
     "output_type": "stream",
     "text": [
      "100%|██████████| 3893/3893 [00:00<00:00, 7749.65it/s]\n"
     ]
    },
    {
     "name": "stdout",
     "output_type": "stream",
     "text": [
      "Newness for C07D in 2013; mean: 0.03463793048039282; sd: 0.12499789919262455, mean+sdL: 0.15963582967301737\n"
     ]
    },
    {
     "name": "stderr",
     "output_type": "stream",
     "text": [
      "100%|██████████| 3893/3893 [00:00<00:00, 685895.38it/s]\n"
     ]
    },
    {
     "name": "stdout",
     "output_type": "stream",
     "text": [
      "Uniqueness for C07D in 2013; mean: 0.9415637921252369; sd: 0.2023798600045317, mean+sdL: 1.1439436521297686\n"
     ]
    },
    {
     "name": "stderr",
     "output_type": "stream",
     "text": [
      "100%|██████████| 8/8 [00:04<00:00,  1.64it/s]\n"
     ]
    },
    {
     "name": "stdout",
     "output_type": "stream",
     "text": [
      "Difference for C07D in 2013; mean: 0.5481376830208066; sd: 0.4011463147488761, mean+sdL: 0.9492839977696826\n"
     ]
    },
    {
     "name": "stderr",
     "output_type": "stream",
     "text": [
      "100%|██████████| 3893/3893 [00:00<00:00, 117702.71it/s]\n"
     ]
    },
    {
     "name": "stdout",
     "output_type": "stream",
     "text": [
      "SurpriseNew for C07D in 2013; mean: 0.1865486868011688; sd: 0.32277877116008524, mean+sdL: 0.509327457961254\n"
     ]
    },
    {
     "name": "stderr",
     "output_type": "stream",
     "text": [
      "100%|██████████| 3893/3893 [00:00<00:00, 50222.92it/s]\n"
     ]
    },
    {
     "name": "stdout",
     "output_type": "stream",
     "text": [
      "SurpriseDiv for C07D in 2013; mean: 3.2031226517328277; sd: 3.6560499383666345, mean+sdL: 6.859172590099462\n",
      "\n",
      "\n",
      "     2014\n",
      "\n",
      "\n"
     ]
    },
    {
     "name": "stderr",
     "output_type": "stream",
     "text": [
      "100%|██████████| 4241/4241 [00:00<00:00, 6609.81it/s]\n"
     ]
    },
    {
     "name": "stdout",
     "output_type": "stream",
     "text": [
      "Newness for C07D in 2014; mean: 0.02490610465169046; sd: 0.10042496387951944, mean+sdL: 0.1253310685312099\n"
     ]
    },
    {
     "name": "stderr",
     "output_type": "stream",
     "text": [
      "100%|██████████| 4241/4241 [00:00<00:00, 631812.29it/s]\n"
     ]
    },
    {
     "name": "stdout",
     "output_type": "stream",
     "text": [
      "Uniqueness for C07D in 2014; mean: 0.949721119236394; sd: 0.18386873966396486, mean+sdL: 1.1335898589003588\n"
     ]
    },
    {
     "name": "stderr",
     "output_type": "stream",
     "text": [
      "100%|██████████| 9/9 [00:07<00:00,  1.25it/s]\n"
     ]
    },
    {
     "name": "stdout",
     "output_type": "stream",
     "text": [
      "Difference for C07D in 2014; mean: 0.5951520867719877; sd: 0.39931464715579884, mean+sdL: 0.9944667339277866\n"
     ]
    },
    {
     "name": "stderr",
     "output_type": "stream",
     "text": [
      "100%|██████████| 4241/4241 [00:00<00:00, 107083.35it/s]\n"
     ]
    },
    {
     "name": "stdout",
     "output_type": "stream",
     "text": [
      "SurpriseNew for C07D in 2014; mean: 0.20510926790476963; sd: 0.3357136716434687, mean+sdL: 0.5408229395482383\n"
     ]
    },
    {
     "name": "stderr",
     "output_type": "stream",
     "text": [
      "100%|██████████| 4241/4241 [00:00<00:00, 48070.08it/s]\n"
     ]
    },
    {
     "name": "stdout",
     "output_type": "stream",
     "text": [
      "SurpriseDiv for C07D in 2014; mean: 3.551538186617995; sd: 3.737320524453803, mean+sdL: 7.288858711071798\n",
      "\n",
      "\n",
      "     2015\n",
      "\n",
      "\n"
     ]
    },
    {
     "name": "stderr",
     "output_type": "stream",
     "text": [
      "100%|██████████| 3522/3522 [00:00<00:00, 6172.10it/s]\n"
     ]
    },
    {
     "name": "stdout",
     "output_type": "stream",
     "text": [
      "Newness for C07D in 2015; mean: 0.023668735853431395; sd: 0.09533036125789415, mean+sdL: 0.11899909711132554\n"
     ]
    },
    {
     "name": "stderr",
     "output_type": "stream",
     "text": [
      "100%|██████████| 3522/3522 [00:00<00:00, 535055.19it/s]\n"
     ]
    },
    {
     "name": "stdout",
     "output_type": "stream",
     "text": [
      "Uniqueness for C07D in 2015; mean: 0.9372084432102861; sd: 0.19598597012063027, mean+sdL: 1.1331944133309164\n"
     ]
    },
    {
     "name": "stderr",
     "output_type": "stream",
     "text": [
      "100%|██████████| 8/8 [00:08<00:00,  1.00s/it]\n"
     ]
    },
    {
     "name": "stdout",
     "output_type": "stream",
     "text": [
      "Difference for C07D in 2015; mean: 0.5335264054514481; sd: 0.41307774128114727, mean+sdL: 0.9466041467325954\n"
     ]
    },
    {
     "name": "stderr",
     "output_type": "stream",
     "text": [
      "100%|██████████| 3522/3522 [00:00<00:00, 101788.34it/s]\n"
     ]
    },
    {
     "name": "stdout",
     "output_type": "stream",
     "text": [
      "SurpriseNew for C07D in 2015; mean: 0.2182634754177261; sd: 0.3414668852652422, mean+sdL: 0.5597303606829683\n"
     ]
    },
    {
     "name": "stderr",
     "output_type": "stream",
     "text": [
      "100%|██████████| 3522/3522 [00:00<00:00, 43441.54it/s]\n"
     ]
    },
    {
     "name": "stdout",
     "output_type": "stream",
     "text": [
      "SurpriseDiv for C07D in 2015; mean: 3.9448339596603224; sd: 3.81365673722637, mean+sdL: 7.7584906968866925\n",
      "\n",
      "\n",
      "     2016\n",
      "\n",
      "\n"
     ]
    },
    {
     "name": "stderr",
     "output_type": "stream",
     "text": [
      "100%|██████████| 2569/2569 [00:00<00:00, 5599.81it/s]\n"
     ]
    },
    {
     "name": "stdout",
     "output_type": "stream",
     "text": [
      "Newness for C07D in 2016; mean: 0.02347430769494956; sd: 0.10054991384492547, mean+sdL: 0.12402422153987502\n"
     ]
    },
    {
     "name": "stderr",
     "output_type": "stream",
     "text": [
      "100%|██████████| 2569/2569 [00:00<00:00, 576397.08it/s]\n"
     ]
    },
    {
     "name": "stdout",
     "output_type": "stream",
     "text": [
      "Uniqueness for C07D in 2016; mean: 0.935128219719127; sd: 0.19692428041289034, mean+sdL: 1.1320525001320174\n"
     ]
    },
    {
     "name": "stderr",
     "output_type": "stream",
     "text": [
      "100%|██████████| 6/6 [00:07<00:00,  1.19s/it]\n"
     ]
    },
    {
     "name": "stdout",
     "output_type": "stream",
     "text": [
      "Difference for C07D in 2016; mean: 0.6136200856364344; sd: 0.4058553209396973, mean+sdL: 1.0194754065761318\n"
     ]
    },
    {
     "name": "stderr",
     "output_type": "stream",
     "text": [
      "100%|██████████| 2569/2569 [00:00<00:00, 83063.53it/s]\n"
     ]
    },
    {
     "name": "stdout",
     "output_type": "stream",
     "text": [
      "SurpriseNew for C07D in 2016; mean: 0.23170290108985817; sd: 0.3436596221284634, mean+sdL: 0.5753625232183216\n"
     ]
    },
    {
     "name": "stderr",
     "output_type": "stream",
     "text": [
      "100%|██████████| 2569/2569 [00:00<00:00, 35577.93it/s]\n"
     ]
    },
    {
     "name": "stdout",
     "output_type": "stream",
     "text": [
      "SurpriseDiv for C07D in 2016; mean: 4.201343094608379; sd: 3.82125960937673, mean+sdL: 8.02260270398511\n",
      "\n",
      "\n",
      "B32B\n",
      "     2011\n",
      "\n",
      "\n"
     ]
    },
    {
     "name": "stderr",
     "output_type": "stream",
     "text": [
      "100%|██████████| 4508/4508 [00:00<00:00, 5186.64it/s]\n"
     ]
    },
    {
     "name": "stdout",
     "output_type": "stream",
     "text": [
      "Newness for B32B in 2011; mean: 0.043712196999059226; sd: 0.12009527723605187, mean+sdL: 0.1638074742351111\n"
     ]
    },
    {
     "name": "stderr",
     "output_type": "stream",
     "text": [
      "100%|██████████| 4508/4508 [00:00<00:00, 649265.93it/s]\n"
     ]
    },
    {
     "name": "stdout",
     "output_type": "stream",
     "text": [
      "Uniqueness for B32B in 2011; mean: 0.9896419592681793; sd: 0.08217136396073073, mean+sdL: 1.07181332322891\n"
     ]
    },
    {
     "name": "stderr",
     "output_type": "stream",
     "text": [
      "100%|██████████| 10/10 [00:17<00:00,  1.72s/it]\n"
     ]
    },
    {
     "name": "stdout",
     "output_type": "stream",
     "text": [
      "Difference for B32B in 2011; mean: 0.8510647737355813; sd: 0.3109730446375413, mean+sdL: 1.1620378183731226\n"
     ]
    },
    {
     "name": "stderr",
     "output_type": "stream",
     "text": [
      "100%|██████████| 4508/4508 [00:00<00:00, 146839.40it/s]\n"
     ]
    },
    {
     "name": "stdout",
     "output_type": "stream",
     "text": [
      "SurpriseNew for B32B in 2011; mean: 0.4136866052037395; sd: 0.385858834217015, mean+sdL: 0.7995454394207545\n"
     ]
    },
    {
     "name": "stderr",
     "output_type": "stream",
     "text": [
      "100%|██████████| 4508/4508 [00:00<00:00, 69946.18it/s]\n"
     ]
    },
    {
     "name": "stdout",
     "output_type": "stream",
     "text": [
      "SurpriseDiv for B32B in 2011; mean: 6.492733559879007; sd: 4.246409335968049, mean+sdL: 10.739142895847056\n",
      "\n",
      "\n",
      "     2012\n",
      "\n",
      "\n"
     ]
    },
    {
     "name": "stderr",
     "output_type": "stream",
     "text": [
      "100%|██████████| 3450/3450 [00:00<00:00, 4995.47it/s]\n"
     ]
    },
    {
     "name": "stdout",
     "output_type": "stream",
     "text": [
      "Newness for B32B in 2012; mean: 0.040329229050575184; sd: 0.12153849255398462, mean+sdL: 0.1618677216045598\n"
     ]
    },
    {
     "name": "stderr",
     "output_type": "stream",
     "text": [
      "100%|██████████| 3450/3450 [00:00<00:00, 603887.35it/s]\n"
     ]
    },
    {
     "name": "stdout",
     "output_type": "stream",
     "text": [
      "Uniqueness for B32B in 2012; mean: 0.9872025534851623; sd: 0.09301993552562926, mean+sdL: 1.0802224890107914\n"
     ]
    },
    {
     "name": "stderr",
     "output_type": "stream",
     "text": [
      "100%|██████████| 7/7 [00:26<00:00,  3.81s/it]\n"
     ]
    },
    {
     "name": "stdout",
     "output_type": "stream",
     "text": [
      "Difference for B32B in 2012; mean: 0.5286840579710145; sd: 0.4507944117110478, mean+sdL: 0.9794784696820622\n"
     ]
    },
    {
     "name": "stderr",
     "output_type": "stream",
     "text": [
      "100%|██████████| 3450/3450 [00:00<00:00, 163856.70it/s]\n"
     ]
    },
    {
     "name": "stdout",
     "output_type": "stream",
     "text": [
      "SurpriseNew for B32B in 2012; mean: 0.3403145422538269; sd: 0.3865271060121872, mean+sdL: 0.726841648266014\n"
     ]
    },
    {
     "name": "stderr",
     "output_type": "stream",
     "text": [
      "100%|██████████| 3450/3450 [00:00<00:00, 79379.62it/s]\n"
     ]
    },
    {
     "name": "stdout",
     "output_type": "stream",
     "text": [
      "SurpriseDiv for B32B in 2012; mean: 5.477546550065974; sd: 4.311098594712014, mean+sdL: 9.788645144777988\n",
      "\n",
      "\n",
      "     2013\n",
      "\n",
      "\n"
     ]
    },
    {
     "name": "stderr",
     "output_type": "stream",
     "text": [
      "100%|██████████| 1246/1246 [00:00<00:00, 6430.22it/s]"
     ]
    },
    {
     "name": "stdout",
     "output_type": "stream",
     "text": [
      "Newness for B32B in 2013; mean: 0.022164736681189328; sd: 0.09292121957158839, mean+sdL: 0.11508595625277772\n"
     ]
    },
    {
     "name": "stderr",
     "output_type": "stream",
     "text": [
      "\n",
      "100%|██████████| 1246/1246 [00:00<00:00, 630258.42it/s]\n"
     ]
    },
    {
     "name": "stdout",
     "output_type": "stream",
     "text": [
      "Uniqueness for B32B in 2013; mean: 0.9530344722158527; sd: 0.19692027461353248, mean+sdL: 1.1499547468293851\n"
     ]
    },
    {
     "name": "stderr",
     "output_type": "stream",
     "text": [
      "100%|██████████| 3/3 [00:05<00:00,  1.72s/it]\n"
     ]
    },
    {
     "name": "stdout",
     "output_type": "stream",
     "text": [
      "Difference for B32B in 2013; mean: 0.37262439807383624; sd: 0.4118668283369623, mean+sdL: 0.7844912264107986\n"
     ]
    },
    {
     "name": "stderr",
     "output_type": "stream",
     "text": [
      "100%|██████████| 1246/1246 [00:00<00:00, 373293.06it/s]\n"
     ]
    },
    {
     "name": "stdout",
     "output_type": "stream",
     "text": [
      "SurpriseNew for B32B in 2013; mean: 0.28637301703112295; sd: 0.4043974942544552, mean+sdL: 0.6907705112855782\n"
     ]
    },
    {
     "name": "stderr",
     "output_type": "stream",
     "text": [
      "100%|██████████| 1246/1246 [00:00<00:00, 204832.75it/s]\n"
     ]
    },
    {
     "name": "stdout",
     "output_type": "stream",
     "text": [
      "SurpriseDiv for B32B in 2013; mean: 3.931653182234486; sd: 4.38871525471091, mean+sdL: 8.320368436945396\n",
      "\n",
      "\n",
      "     2014\n",
      "\n",
      "\n"
     ]
    },
    {
     "name": "stderr",
     "output_type": "stream",
     "text": [
      "100%|██████████| 1010/1010 [00:00<00:00, 4283.31it/s]\n"
     ]
    },
    {
     "name": "stdout",
     "output_type": "stream",
     "text": [
      "Newness for B32B in 2014; mean: 0.037011948447592015; sd: 0.11072114232890867, mean+sdL: 0.14773309077650068\n"
     ]
    },
    {
     "name": "stderr",
     "output_type": "stream",
     "text": [
      "100%|██████████| 1010/1010 [00:00<00:00, 549163.47it/s]\n"
     ]
    },
    {
     "name": "stdout",
     "output_type": "stream",
     "text": [
      "Uniqueness for B32B in 2014; mean: 0.9848683796951124; sd: 0.08365705691433882, mean+sdL: 1.0685254366094512\n"
     ]
    },
    {
     "name": "stderr",
     "output_type": "stream",
     "text": [
      "100%|██████████| 3/3 [00:03<00:00,  1.28s/it]\n"
     ]
    },
    {
     "name": "stdout",
     "output_type": "stream",
     "text": [
      "Difference for B32B in 2014; mean: 0.5723267326732674; sd: 0.43252154090261224, mean+sdL: 1.0048482735758797\n"
     ]
    },
    {
     "name": "stderr",
     "output_type": "stream",
     "text": [
      "100%|██████████| 1010/1010 [00:00<00:00, 164189.26it/s]\n"
     ]
    },
    {
     "name": "stdout",
     "output_type": "stream",
     "text": [
      "SurpriseNew for B32B in 2014; mean: 0.3795694569456946; sd: 0.3715216748298462, mean+sdL: 0.7510911317755409\n"
     ]
    },
    {
     "name": "stderr",
     "output_type": "stream",
     "text": [
      "100%|██████████| 1010/1010 [00:00<00:00, 103694.88it/s]\n"
     ]
    },
    {
     "name": "stdout",
     "output_type": "stream",
     "text": [
      "SurpriseDiv for B32B in 2014; mean: 5.686828674805864; sd: 3.8492798188221706, mean+sdL: 9.536108493628035\n",
      "\n",
      "\n",
      "     2015\n",
      "\n",
      "\n"
     ]
    },
    {
     "name": "stderr",
     "output_type": "stream",
     "text": [
      "100%|██████████| 661/661 [00:00<00:00, 3822.43it/s]\n"
     ]
    },
    {
     "name": "stdout",
     "output_type": "stream",
     "text": [
      "Newness for B32B in 2015; mean: 0.05750684196110022; sd: 0.1311248832165979, mean+sdL: 0.18863172517769813\n"
     ]
    },
    {
     "name": "stderr",
     "output_type": "stream",
     "text": [
      "100%|██████████| 661/661 [00:00<00:00, 500078.45it/s]\n"
     ]
    },
    {
     "name": "stdout",
     "output_type": "stream",
     "text": [
      "Uniqueness for B32B in 2015; mean: 0.9792293477240528; sd: 0.08449711388976656, mean+sdL: 1.0637264616138193\n"
     ]
    },
    {
     "name": "stderr",
     "output_type": "stream",
     "text": [
      "100%|██████████| 2/2 [00:02<00:00,  1.02s/it]\n"
     ]
    },
    {
     "name": "stdout",
     "output_type": "stream",
     "text": [
      "Difference for B32B in 2015; mean: 0.7014523449319213; sd: 0.3914162302181176, mean+sdL: 1.0928685751500389\n"
     ]
    },
    {
     "name": "stderr",
     "output_type": "stream",
     "text": [
      "100%|██████████| 661/661 [00:00<00:00, 115561.46it/s]\n"
     ]
    },
    {
     "name": "stdout",
     "output_type": "stream",
     "text": [
      "SurpriseNew for B32B in 2015; mean: 0.3797808726726587; sd: 0.34362319761890003, mean+sdL: 0.7234040702915587\n"
     ]
    },
    {
     "name": "stderr",
     "output_type": "stream",
     "text": [
      "100%|██████████| 661/661 [00:00<00:00, 47204.84it/s]\n"
     ]
    },
    {
     "name": "stdout",
     "output_type": "stream",
     "text": [
      "SurpriseDiv for B32B in 2015; mean: 6.376743085008199; sd: 3.078970455368293, mean+sdL: 9.455713540376491\n",
      "\n",
      "\n",
      "     2016\n",
      "\n",
      "\n"
     ]
    },
    {
     "name": "stderr",
     "output_type": "stream",
     "text": [
      "100%|██████████| 271/271 [00:00<00:00, 4023.26it/s]\n"
     ]
    },
    {
     "name": "stdout",
     "output_type": "stream",
     "text": [
      "Newness for B32B in 2016; mean: 0.0732563510700042; sd: 0.15499519395189576, mean+sdL: 0.22825154502189995\n"
     ]
    },
    {
     "name": "stderr",
     "output_type": "stream",
     "text": [
      "100%|██████████| 271/271 [00:00<00:00, 479601.85it/s]"
     ]
    },
    {
     "name": "stdout",
     "output_type": "stream",
     "text": [
      "Uniqueness for B32B in 2016; mean: 0.9804955192409067; sd: 0.08782948491052428, mean+sdL: 1.068325004151431\n"
     ]
    },
    {
     "name": "stderr",
     "output_type": "stream",
     "text": [
      "\n",
      "100%|██████████| 1/1 [00:00<00:00,  1.40it/s]\n"
     ]
    },
    {
     "name": "stdout",
     "output_type": "stream",
     "text": [
      "Difference for B32B in 2016; mean: 0.7057933579335792; sd: 0.3731574879385264, mean+sdL: 1.0789508458721055\n"
     ]
    },
    {
     "name": "stderr",
     "output_type": "stream",
     "text": [
      "100%|██████████| 271/271 [00:00<00:00, 107536.08it/s]\n"
     ]
    },
    {
     "name": "stdout",
     "output_type": "stream",
     "text": [
      "SurpriseNew for B32B in 2016; mean: 0.34525679322727293; sd: 0.33692498271444105, mean+sdL: 0.6821817759417139\n"
     ]
    },
    {
     "name": "stderr",
     "output_type": "stream",
     "text": [
      "100%|██████████| 271/271 [00:00<00:00, 65736.88it/s]"
     ]
    },
    {
     "name": "stdout",
     "output_type": "stream",
     "text": [
      "SurpriseDiv for B32B in 2016; mean: 6.0723410376596565; sd: 2.9780125679974456, mean+sdL: 9.050353605657103\n",
      "\n",
      "\n"
     ]
    },
    {
     "name": "stderr",
     "output_type": "stream",
     "text": [
      "\n"
     ]
    }
   ],
   "source": [
    "ipcMetrics(listIPC, listYear, pathData=pathData, pathOutput=pathOutput)"
   ]
  },
  {
   "cell_type": "code",
   "execution_count": 37,
   "metadata": {},
   "outputs": [
    {
     "data": {
      "text/html": [
       "<div>\n",
       "<style scoped>\n",
       "    .dataframe tbody tr th:only-of-type {\n",
       "        vertical-align: middle;\n",
       "    }\n",
       "\n",
       "    .dataframe tbody tr th {\n",
       "        vertical-align: top;\n",
       "    }\n",
       "\n",
       "    .dataframe thead th {\n",
       "        text-align: right;\n",
       "    }\n",
       "</style>\n",
       "<table border=\"1\" class=\"dataframe\">\n",
       "  <thead>\n",
       "    <tr style=\"text-align: right;\">\n",
       "      <th></th>\n",
       "      <th>application_number</th>\n",
       "      <th>label</th>\n",
       "      <th>new_ratio</th>\n",
       "      <th>new_bin</th>\n",
       "      <th>new_len1</th>\n",
       "      <th>uniq_ratio</th>\n",
       "      <th>uniq_bin</th>\n",
       "      <th>diff_ratio</th>\n",
       "      <th>diff_bin</th>\n",
       "      <th>surpNew_ratio</th>\n",
       "      <th>surpNew_bin</th>\n",
       "      <th>surpDiv_ratio</th>\n",
       "      <th>surpDiv_bin</th>\n",
       "    </tr>\n",
       "  </thead>\n",
       "  <tbody>\n",
       "    <tr>\n",
       "      <th>0</th>\n",
       "      <td>14900663</td>\n",
       "      <td>1</td>\n",
       "      <td>0.000000</td>\n",
       "      <td>0</td>\n",
       "      <td>1</td>\n",
       "      <td>1.00</td>\n",
       "      <td>1</td>\n",
       "      <td>0.80</td>\n",
       "      <td>1</td>\n",
       "      <td>0.000000</td>\n",
       "      <td>0</td>\n",
       "      <td>0.000000</td>\n",
       "      <td>0</td>\n",
       "    </tr>\n",
       "    <tr>\n",
       "      <th>1</th>\n",
       "      <td>14724494</td>\n",
       "      <td>1</td>\n",
       "      <td>0.000000</td>\n",
       "      <td>0</td>\n",
       "      <td>0</td>\n",
       "      <td>1.00</td>\n",
       "      <td>1</td>\n",
       "      <td>1.00</td>\n",
       "      <td>1</td>\n",
       "      <td>0.476190</td>\n",
       "      <td>1</td>\n",
       "      <td>7.698116</td>\n",
       "      <td>1</td>\n",
       "    </tr>\n",
       "    <tr>\n",
       "      <th>2</th>\n",
       "      <td>14896426</td>\n",
       "      <td>1</td>\n",
       "      <td>0.000000</td>\n",
       "      <td>0</td>\n",
       "      <td>0</td>\n",
       "      <td>0.75</td>\n",
       "      <td>1</td>\n",
       "      <td>0.00</td>\n",
       "      <td>0</td>\n",
       "      <td>0.000000</td>\n",
       "      <td>0</td>\n",
       "      <td>1.547181</td>\n",
       "      <td>1</td>\n",
       "    </tr>\n",
       "    <tr>\n",
       "      <th>3</th>\n",
       "      <td>14615972</td>\n",
       "      <td>1</td>\n",
       "      <td>0.111111</td>\n",
       "      <td>1</td>\n",
       "      <td>0</td>\n",
       "      <td>1.00</td>\n",
       "      <td>1</td>\n",
       "      <td>1.00</td>\n",
       "      <td>1</td>\n",
       "      <td>0.972222</td>\n",
       "      <td>1</td>\n",
       "      <td>11.318805</td>\n",
       "      <td>1</td>\n",
       "    </tr>\n",
       "    <tr>\n",
       "      <th>4</th>\n",
       "      <td>14890354</td>\n",
       "      <td>1</td>\n",
       "      <td>0.600000</td>\n",
       "      <td>1</td>\n",
       "      <td>0</td>\n",
       "      <td>1.00</td>\n",
       "      <td>1</td>\n",
       "      <td>1.00</td>\n",
       "      <td>1</td>\n",
       "      <td>1.000000</td>\n",
       "      <td>1</td>\n",
       "      <td>11.525131</td>\n",
       "      <td>1</td>\n",
       "    </tr>\n",
       "    <tr>\n",
       "      <th>...</th>\n",
       "      <td>...</td>\n",
       "      <td>...</td>\n",
       "      <td>...</td>\n",
       "      <td>...</td>\n",
       "      <td>...</td>\n",
       "      <td>...</td>\n",
       "      <td>...</td>\n",
       "      <td>...</td>\n",
       "      <td>...</td>\n",
       "      <td>...</td>\n",
       "      <td>...</td>\n",
       "      <td>...</td>\n",
       "      <td>...</td>\n",
       "    </tr>\n",
       "    <tr>\n",
       "      <th>28917</th>\n",
       "      <td>13263792</td>\n",
       "      <td>0</td>\n",
       "      <td>0.000000</td>\n",
       "      <td>0</td>\n",
       "      <td>1</td>\n",
       "      <td>1.00</td>\n",
       "      <td>1</td>\n",
       "      <td>0.00</td>\n",
       "      <td>0</td>\n",
       "      <td>0.000000</td>\n",
       "      <td>0</td>\n",
       "      <td>0.000000</td>\n",
       "      <td>0</td>\n",
       "    </tr>\n",
       "    <tr>\n",
       "      <th>28918</th>\n",
       "      <td>12998018</td>\n",
       "      <td>1</td>\n",
       "      <td>0.000000</td>\n",
       "      <td>0</td>\n",
       "      <td>0</td>\n",
       "      <td>1.00</td>\n",
       "      <td>1</td>\n",
       "      <td>0.97</td>\n",
       "      <td>1</td>\n",
       "      <td>0.000000</td>\n",
       "      <td>0</td>\n",
       "      <td>2.408562</td>\n",
       "      <td>1</td>\n",
       "    </tr>\n",
       "    <tr>\n",
       "      <th>28919</th>\n",
       "      <td>13066570</td>\n",
       "      <td>0</td>\n",
       "      <td>0.000000</td>\n",
       "      <td>0</td>\n",
       "      <td>0</td>\n",
       "      <td>1.00</td>\n",
       "      <td>1</td>\n",
       "      <td>1.00</td>\n",
       "      <td>1</td>\n",
       "      <td>0.000000</td>\n",
       "      <td>0</td>\n",
       "      <td>4.647508</td>\n",
       "      <td>1</td>\n",
       "    </tr>\n",
       "    <tr>\n",
       "      <th>28920</th>\n",
       "      <td>13336171</td>\n",
       "      <td>0</td>\n",
       "      <td>0.000000</td>\n",
       "      <td>0</td>\n",
       "      <td>1</td>\n",
       "      <td>1.00</td>\n",
       "      <td>1</td>\n",
       "      <td>0.00</td>\n",
       "      <td>0</td>\n",
       "      <td>0.000000</td>\n",
       "      <td>0</td>\n",
       "      <td>0.000000</td>\n",
       "      <td>0</td>\n",
       "    </tr>\n",
       "    <tr>\n",
       "      <th>28921</th>\n",
       "      <td>13296621</td>\n",
       "      <td>1</td>\n",
       "      <td>0.000000</td>\n",
       "      <td>0</td>\n",
       "      <td>0</td>\n",
       "      <td>1.00</td>\n",
       "      <td>1</td>\n",
       "      <td>1.00</td>\n",
       "      <td>1</td>\n",
       "      <td>0.095238</td>\n",
       "      <td>1</td>\n",
       "      <td>3.816703</td>\n",
       "      <td>1</td>\n",
       "    </tr>\n",
       "  </tbody>\n",
       "</table>\n",
       "<p>28922 rows × 13 columns</p>\n",
       "</div>"
      ],
      "text/plain": [
       "       application_number  label  new_ratio  new_bin  new_len1  uniq_ratio  \\\n",
       "0                14900663      1   0.000000        0         1        1.00   \n",
       "1                14724494      1   0.000000        0         0        1.00   \n",
       "2                14896426      1   0.000000        0         0        0.75   \n",
       "3                14615972      1   0.111111        1         0        1.00   \n",
       "4                14890354      1   0.600000        1         0        1.00   \n",
       "...                   ...    ...        ...      ...       ...         ...   \n",
       "28917            13263792      0   0.000000        0         1        1.00   \n",
       "28918            12998018      1   0.000000        0         0        1.00   \n",
       "28919            13066570      0   0.000000        0         0        1.00   \n",
       "28920            13336171      0   0.000000        0         1        1.00   \n",
       "28921            13296621      1   0.000000        0         0        1.00   \n",
       "\n",
       "       uniq_bin  diff_ratio  diff_bin  surpNew_ratio  surpNew_bin  \\\n",
       "0             1        0.80         1       0.000000            0   \n",
       "1             1        1.00         1       0.476190            1   \n",
       "2             1        0.00         0       0.000000            0   \n",
       "3             1        1.00         1       0.972222            1   \n",
       "4             1        1.00         1       1.000000            1   \n",
       "...         ...         ...       ...            ...          ...   \n",
       "28917         1        0.00         0       0.000000            0   \n",
       "28918         1        0.97         1       0.000000            0   \n",
       "28919         1        1.00         1       0.000000            0   \n",
       "28920         1        0.00         0       0.000000            0   \n",
       "28921         1        1.00         1       0.095238            1   \n",
       "\n",
       "       surpDiv_ratio  surpDiv_bin  \n",
       "0           0.000000            0  \n",
       "1           7.698116            1  \n",
       "2           1.547181            1  \n",
       "3          11.318805            1  \n",
       "4          11.525131            1  \n",
       "...              ...          ...  \n",
       "28917       0.000000            0  \n",
       "28918       2.408562            1  \n",
       "28919       4.647508            1  \n",
       "28920       0.000000            0  \n",
       "28921       3.816703            1  \n",
       "\n",
       "[28922 rows x 13 columns]"
      ]
     },
     "execution_count": 37,
     "metadata": {},
     "output_type": "execute_result"
    }
   ],
   "source": [
    "import pandas as pd\n",
    "import glob\n",
    "\n",
    "# Define the path where your CSV files are stored\n",
    "path = '/home/edgarlanoue/data/csv/ipcMetrics/train'\n",
    "\n",
    "# Use glob to find all CSV files in the directory\n",
    "all_files = glob.glob(f\"{path}/*.csv\")\n",
    "\n",
    "# Read each CSV file and store it in a list of DataFrames\n",
    "df_list = [pd.read_csv(file) for file in all_files]\n",
    "\n",
    "# Concatenate all DataFrames in the list into a single DataFrame\n",
    "combined_df = pd.concat(df_list, ignore_index=True)\n",
    "\n",
    "# Display the first few rows of the combined DataFrame\n",
    "combined_df"
   ]
  },
  {
   "cell_type": "code",
   "execution_count": 50,
   "metadata": {},
   "outputs": [
    {
     "data": {
      "text/html": [
       "<div>\n",
       "<style scoped>\n",
       "    .dataframe tbody tr th:only-of-type {\n",
       "        vertical-align: middle;\n",
       "    }\n",
       "\n",
       "    .dataframe tbody tr th {\n",
       "        vertical-align: top;\n",
       "    }\n",
       "\n",
       "    .dataframe thead th {\n",
       "        text-align: right;\n",
       "    }\n",
       "</style>\n",
       "<table border=\"1\" class=\"dataframe\">\n",
       "  <thead>\n",
       "    <tr style=\"text-align: right;\">\n",
       "      <th></th>\n",
       "      <th>part</th>\n",
       "      <th>new_ratio_mean</th>\n",
       "      <th>uniq_ratio_mean</th>\n",
       "      <th>diff_ratio_mean</th>\n",
       "      <th>surpNew_ratio_mean</th>\n",
       "      <th>surpDiv_ratio_mean</th>\n",
       "      <th>new_ratio_std</th>\n",
       "      <th>uniq_ratio_std</th>\n",
       "      <th>diff_ratio_std</th>\n",
       "      <th>surpNew_ratio_std</th>\n",
       "      <th>...</th>\n",
       "      <th>new_ratio_mean_plus_sd</th>\n",
       "      <th>uniq_ratio_mean_plus_sd</th>\n",
       "      <th>diff_ratio_mean_plus_sd</th>\n",
       "      <th>surpNew_ratio_mean_plus_sd</th>\n",
       "      <th>surpDiv_ratio_mean_plus_sd</th>\n",
       "      <th>new_ratio_mean_minus_sd</th>\n",
       "      <th>uniq_ratio_mean_minus_sd</th>\n",
       "      <th>diff_ratio_mean_minus_sd</th>\n",
       "      <th>surpNew_ratio_mean_minus_sd</th>\n",
       "      <th>surpDiv_ratio_mean_minus_sd</th>\n",
       "    </tr>\n",
       "  </thead>\n",
       "  <tbody>\n",
       "    <tr>\n",
       "      <th>0</th>\n",
       "      <td>Global</td>\n",
       "      <td>0.038364</td>\n",
       "      <td>0.960441</td>\n",
       "      <td>0.614012</td>\n",
       "      <td>0.279074</td>\n",
       "      <td>4.542302</td>\n",
       "      <td>0.123379</td>\n",
       "      <td>0.16328</td>\n",
       "      <td>0.411063</td>\n",
       "      <td>0.37071</td>\n",
       "      <td>...</td>\n",
       "      <td>0.161743</td>\n",
       "      <td>1.12372</td>\n",
       "      <td>1.025075</td>\n",
       "      <td>0.649785</td>\n",
       "      <td>8.690208</td>\n",
       "      <td>-0.085015</td>\n",
       "      <td>0.797161</td>\n",
       "      <td>0.202949</td>\n",
       "      <td>-0.091636</td>\n",
       "      <td>0.394396</td>\n",
       "    </tr>\n",
       "  </tbody>\n",
       "</table>\n",
       "<p>1 rows × 21 columns</p>\n",
       "</div>"
      ],
      "text/plain": [
       "     part  new_ratio_mean  uniq_ratio_mean  diff_ratio_mean  \\\n",
       "0  Global        0.038364         0.960441         0.614012   \n",
       "\n",
       "   surpNew_ratio_mean  surpDiv_ratio_mean  new_ratio_std  uniq_ratio_std  \\\n",
       "0            0.279074            4.542302       0.123379         0.16328   \n",
       "\n",
       "   diff_ratio_std  surpNew_ratio_std  ...  new_ratio_mean_plus_sd  \\\n",
       "0        0.411063            0.37071  ...                0.161743   \n",
       "\n",
       "   uniq_ratio_mean_plus_sd  diff_ratio_mean_plus_sd  \\\n",
       "0                  1.12372                 1.025075   \n",
       "\n",
       "   surpNew_ratio_mean_plus_sd  surpDiv_ratio_mean_plus_sd  \\\n",
       "0                    0.649785                    8.690208   \n",
       "\n",
       "   new_ratio_mean_minus_sd  uniq_ratio_mean_minus_sd  \\\n",
       "0                -0.085015                  0.797161   \n",
       "\n",
       "   diff_ratio_mean_minus_sd  surpNew_ratio_mean_minus_sd  \\\n",
       "0                  0.202949                    -0.091636   \n",
       "\n",
       "   surpDiv_ratio_mean_minus_sd  \n",
       "0                     0.394396  \n",
       "\n",
       "[1 rows x 21 columns]"
      ]
     },
     "execution_count": 50,
     "metadata": {},
     "output_type": "execute_result"
    }
   ],
   "source": [
    "# Step 1: Calculate global statistics for columns ending in 'ratio'\n",
    "ratio_columns_global = combined_df.filter(regex=\"ratio$\")\n",
    "global_mean = ratio_columns_global.mean()\n",
    "global_std = ratio_columns_global.std()\n",
    "global_mean_plus_sd = global_mean + global_std\n",
    "global_mean_minus_sd = global_mean - global_std\n",
    "\n",
    "# Step 2: Create a dictionary for the global stats row\n",
    "global_stats = {\n",
    "    \"part\": \"Global\",\n",
    "    **{f\"{col}_mean\": global_mean[col] for col in global_mean.index},\n",
    "    **{f\"{col}_std\": global_std[col] for col in global_std.index},\n",
    "    **{f\"{col}_mean_plus_sd\": global_mean_plus_sd[col] for col in global_mean.index},\n",
    "    **{f\"{col}_mean_minus_sd\": global_mean_minus_sd[col] for col in global_mean.index}\n",
    "}\n",
    "\n",
    "# Step 3: Determine the number of rows in each of the 12 parts\n",
    "num_parts = 12\n",
    "rows_per_part = len(combined_df) // num_parts\n",
    "\n",
    "# Step 4: Initialize a list to store the results and add the global stats as the first entry\n",
    "summary_stats = [global_stats]\n",
    "\n",
    "# Step 5: Loop over each part, compute the mean, std, mean+sd, and mean-sd, and store in summary_stats\n",
    "for i in range(num_parts):\n",
    "    # Get the subset for the current part\n",
    "    part_df = combined_df.iloc[i * rows_per_part : (i + 1) * rows_per_part]\n",
    "    \n",
    "    # Filter columns ending in 'ratio'\n",
    "    ratio_columns = part_df.filter(regex=\"ratio$\")\n",
    "    \n",
    "    # Calculate mean and standard deviation\n",
    "    part_mean = ratio_columns.mean()\n",
    "    part_std = ratio_columns.std()\n",
    "    \n",
    "    # Calculate mean + sd and mean - sd\n",
    "    part_mean_plus_sd = part_mean + part_std\n",
    "    part_mean_minus_sd = part_mean - part_std\n",
    "    \n",
    "    # Append to summary_stats with an identifier for the part\n",
    "    summary_stats.append({\n",
    "        \"part\": i + 1,\n",
    "        **{f\"{col}_mean\": part_mean[col] for col in part_mean.index},\n",
    "        **{f\"{col}_std\": part_std[col] for col in part_std.index},\n",
    "        **{f\"{col}_mean_plus_sd\": part_mean_plus_sd[col] for col in part_mean.index},\n",
    "        **{f\"{col}_mean_minus_sd\": part_mean_minus_sd[col] for col in part_mean.index}\n",
    "    })\n",
    "\n",
    "# Step 6: Create a DataFrame from the summary_stats list\n",
    "summary_df = pd.DataFrame(summary_stats)\n",
    "\n",
    "# Display the summary statistics DataFrame\n",
    "summary_df[:1]\n",
    "\n"
   ]
  },
  {
   "cell_type": "code",
   "execution_count": null,
   "metadata": {},
   "outputs": [],
   "source": [
    "thr_new = 0.161743\n",
    "thr_uniq = 0.85 #arbitrary\n",
    "thr_diff = 0.85 #arbitrary\n",
    "thr_surpNew = 0.649785\n",
    "thr_surpDiv = 8.690208"
   ]
  },
  {
   "cell_type": "code",
   "execution_count": null,
   "metadata": {},
   "outputs": [],
   "source": []
  }
 ],
 "metadata": {
  "kernelspec": {
   "display_name": "base",
   "language": "python",
   "name": "python3"
  },
  "language_info": {
   "codemirror_mode": {
    "name": "ipython",
    "version": 3
   },
   "file_extension": ".py",
   "mimetype": "text/x-python",
   "name": "python",
   "nbconvert_exporter": "python",
   "pygments_lexer": "ipython3",
   "version": "3.7.12"
  }
 },
 "nbformat": 4,
 "nbformat_minor": 2
}
