{
 "cells": [
  {
   "cell_type": "code",
   "execution_count": 1,
   "metadata": {},
   "outputs": [
    {
     "name": "stdout",
     "output_type": "stream",
     "text": [
      "Collecting patent_client\n",
      "  Downloading patent_client-5.0.18-py3-none-any.whl.metadata (7.9 kB)\n",
      "Collecting async-property<0.3.0,>=0.2.2 (from patent_client)\n",
      "  Downloading async_property-0.2.2-py2.py3-none-any.whl.metadata (5.3 kB)\n",
      "Collecting hishel<0.2,>=0.1 (from patent_client)\n",
      "  Downloading hishel-0.1.1-py3-none-any.whl.metadata (12 kB)\n",
      "Collecting httpx<0.28.0,>=0.27.0 (from httpx[http2]<0.28.0,>=0.27.0->patent_client)\n",
      "  Downloading httpx-0.27.2-py3-none-any.whl.metadata (7.1 kB)\n",
      "Collecting inflection<0.6.0,>=0.5.1 (from patent_client)\n",
      "  Downloading inflection-0.5.1-py2.py3-none-any.whl.metadata (1.7 kB)\n",
      "Collecting lxml<6.0.0,>=5.2.2 (from patent_client)\n",
      "  Downloading lxml-5.3.0-cp311-cp311-win_amd64.whl.metadata (3.9 kB)\n",
      "Collecting openpyxl<4.0.0,>=3.1.2 (from patent_client)\n",
      "  Downloading openpyxl-3.1.5-py2.py3-none-any.whl.metadata (2.5 kB)\n",
      "Requirement already satisfied: pydantic<3.0.0,>=2.7.1 in c:\\users\\edgar\\onedrive\\bureau\\ecole\\hec\\a24\\brevetnlp\\.conda\\lib\\site-packages (from patent_client) (2.9.2)\n",
      "Collecting pydantic-settings<3.0.0,>=2.2.1 (from patent_client)\n",
      "  Downloading pydantic_settings-2.7.1-py3-none-any.whl.metadata (3.5 kB)\n",
      "Collecting pypdf<5.0.0,>=4.2.0 (from patent_client)\n",
      "  Downloading pypdf-4.3.1-py3-none-any.whl.metadata (7.4 kB)\n",
      "Collecting python-dateutil<3.0.0,>=2.9.0.post0 (from patent_client)\n",
      "  Downloading python_dateutil-2.9.0.post0-py2.py3-none-any.whl.metadata (8.4 kB)\n",
      "Collecting yankee<0.2.0,>=0.1.46 (from patent_client)\n",
      "  Downloading yankee-0.1.46-py3-none-any.whl.metadata (5.0 kB)\n",
      "Collecting anyio (from httpx<0.28.0,>=0.27.0->httpx[http2]<0.28.0,>=0.27.0->patent_client)\n",
      "  Downloading anyio-4.8.0-py3-none-any.whl.metadata (4.6 kB)\n",
      "Requirement already satisfied: certifi in c:\\users\\edgar\\onedrive\\bureau\\ecole\\hec\\a24\\brevetnlp\\.conda\\lib\\site-packages (from httpx<0.28.0,>=0.27.0->httpx[http2]<0.28.0,>=0.27.0->patent_client) (2024.8.30)\n",
      "Collecting httpcore==1.* (from httpx<0.28.0,>=0.27.0->httpx[http2]<0.28.0,>=0.27.0->patent_client)\n",
      "  Downloading httpcore-1.0.7-py3-none-any.whl.metadata (21 kB)\n",
      "Requirement already satisfied: idna in c:\\users\\edgar\\onedrive\\bureau\\ecole\\hec\\a24\\brevetnlp\\.conda\\lib\\site-packages (from httpx<0.28.0,>=0.27.0->httpx[http2]<0.28.0,>=0.27.0->patent_client) (3.10)\n",
      "Collecting sniffio (from httpx<0.28.0,>=0.27.0->httpx[http2]<0.28.0,>=0.27.0->patent_client)\n",
      "  Downloading sniffio-1.3.1-py3-none-any.whl.metadata (3.9 kB)\n",
      "Collecting h11<0.15,>=0.13 (from httpcore==1.*->httpx<0.28.0,>=0.27.0->httpx[http2]<0.28.0,>=0.27.0->patent_client)\n",
      "  Downloading h11-0.14.0-py3-none-any.whl.metadata (8.2 kB)\n",
      "Collecting h2<5,>=3 (from httpx[http2]<0.28.0,>=0.27.0->patent_client)\n",
      "  Downloading h2-4.1.0-py3-none-any.whl.metadata (3.6 kB)\n",
      "Collecting et-xmlfile (from openpyxl<4.0.0,>=3.1.2->patent_client)\n",
      "  Downloading et_xmlfile-2.0.0-py3-none-any.whl.metadata (2.7 kB)\n",
      "Requirement already satisfied: annotated-types>=0.6.0 in c:\\users\\edgar\\onedrive\\bureau\\ecole\\hec\\a24\\brevetnlp\\.conda\\lib\\site-packages (from pydantic<3.0.0,>=2.7.1->patent_client) (0.7.0)\n",
      "Requirement already satisfied: pydantic-core==2.23.4 in c:\\users\\edgar\\onedrive\\bureau\\ecole\\hec\\a24\\brevetnlp\\.conda\\lib\\site-packages (from pydantic<3.0.0,>=2.7.1->patent_client) (2.23.4)\n",
      "Requirement already satisfied: typing-extensions>=4.6.1 in c:\\users\\edgar\\onedrive\\bureau\\ecole\\hec\\a24\\brevetnlp\\.conda\\lib\\site-packages (from pydantic<3.0.0,>=2.7.1->patent_client) (4.12.2)\n",
      "Collecting python-dotenv>=0.21.0 (from pydantic-settings<3.0.0,>=2.2.1->patent_client)\n",
      "  Downloading python_dotenv-1.0.1-py3-none-any.whl.metadata (23 kB)\n",
      "Requirement already satisfied: six>=1.5 in c:\\users\\edgar\\onedrive\\bureau\\ecole\\hec\\a24\\brevetnlp\\.conda\\lib\\site-packages (from python-dateutil<3.0.0,>=2.9.0.post0->patent_client) (1.16.0)\n",
      "Collecting cssselect<2.0.0,>=1.2.0 (from yankee<0.2.0,>=0.1.46->patent_client)\n",
      "  Downloading cssselect-1.2.0-py2.py3-none-any.whl.metadata (2.2 kB)\n",
      "Collecting jsonpath-ng<2.0.0,>=1.6.1 (from yankee<0.2.0,>=0.1.46->patent_client)\n",
      "  Downloading jsonpath_ng-1.7.0-py3-none-any.whl.metadata (18 kB)\n",
      "Collecting toolz<0.13.0,>=0.12.1 (from yankee<0.2.0,>=0.1.46->patent_client)\n",
      "  Downloading toolz-0.12.1-py3-none-any.whl.metadata (5.1 kB)\n",
      "Collecting ujson<6.0.0,>=5.10.0 (from yankee<0.2.0,>=0.1.46->patent_client)\n",
      "  Downloading ujson-5.10.0-cp311-cp311-win_amd64.whl.metadata (9.5 kB)\n",
      "Collecting hyperframe<7,>=6.0 (from h2<5,>=3->httpx[http2]<0.28.0,>=0.27.0->patent_client)\n",
      "  Downloading hyperframe-6.0.1-py3-none-any.whl.metadata (2.7 kB)\n",
      "Collecting hpack<5,>=4.0 (from h2<5,>=3->httpx[http2]<0.28.0,>=0.27.0->patent_client)\n",
      "  Downloading hpack-4.0.0-py3-none-any.whl.metadata (2.5 kB)\n",
      "Requirement already satisfied: ply in c:\\users\\edgar\\onedrive\\bureau\\ecole\\hec\\a24\\brevetnlp\\.conda\\lib\\site-packages (from jsonpath-ng<2.0.0,>=1.6.1->yankee<0.2.0,>=0.1.46->patent_client) (3.11)\n",
      "Downloading patent_client-5.0.18-py3-none-any.whl (4.8 MB)\n",
      "   ---------------------------------------- 0.0/4.8 MB ? eta -:--:--\n",
      "   -------------------------------------- - 4.7/4.8 MB 28.6 MB/s eta 0:00:01\n",
      "   ---------------------------------------- 4.8/4.8 MB 19.6 MB/s eta 0:00:00\n",
      "Downloading async_property-0.2.2-py2.py3-none-any.whl (9.5 kB)\n",
      "Downloading hishel-0.1.1-py3-none-any.whl (41 kB)\n",
      "Downloading httpx-0.27.2-py3-none-any.whl (76 kB)\n",
      "Downloading httpcore-1.0.7-py3-none-any.whl (78 kB)\n",
      "Downloading inflection-0.5.1-py2.py3-none-any.whl (9.5 kB)\n",
      "Downloading lxml-5.3.0-cp311-cp311-win_amd64.whl (3.8 MB)\n",
      "   ---------------------------------------- 0.0/3.8 MB ? eta -:--:--\n",
      "   ---------------------------------------- 3.8/3.8 MB 20.7 MB/s eta 0:00:00\n",
      "Downloading openpyxl-3.1.5-py2.py3-none-any.whl (250 kB)\n",
      "Downloading pydantic_settings-2.7.1-py3-none-any.whl (29 kB)\n",
      "Downloading pypdf-4.3.1-py3-none-any.whl (295 kB)\n",
      "Downloading python_dateutil-2.9.0.post0-py2.py3-none-any.whl (229 kB)\n",
      "Downloading yankee-0.1.46-py3-none-any.whl (103 kB)\n",
      "Downloading cssselect-1.2.0-py2.py3-none-any.whl (18 kB)\n",
      "Downloading h2-4.1.0-py3-none-any.whl (57 kB)\n",
      "Downloading jsonpath_ng-1.7.0-py3-none-any.whl (30 kB)\n",
      "Downloading python_dotenv-1.0.1-py3-none-any.whl (19 kB)\n",
      "Downloading toolz-0.12.1-py3-none-any.whl (56 kB)\n",
      "Downloading ujson-5.10.0-cp311-cp311-win_amd64.whl (42 kB)\n",
      "Downloading anyio-4.8.0-py3-none-any.whl (96 kB)\n",
      "Downloading sniffio-1.3.1-py3-none-any.whl (10 kB)\n",
      "Downloading et_xmlfile-2.0.0-py3-none-any.whl (18 kB)\n",
      "Downloading h11-0.14.0-py3-none-any.whl (58 kB)\n",
      "Downloading hpack-4.0.0-py3-none-any.whl (32 kB)\n",
      "Downloading hyperframe-6.0.1-py3-none-any.whl (12 kB)\n",
      "Installing collected packages: async-property, ujson, toolz, sniffio, python-dotenv, python-dateutil, pypdf, lxml, jsonpath-ng, inflection, hyperframe, hpack, h11, et-xmlfile, cssselect, yankee, openpyxl, httpcore, h2, anyio, pydantic-settings, httpx, hishel, patent_client\n",
      "  Attempting uninstall: python-dateutil\n",
      "    Found existing installation: python-dateutil 2.9.0\n",
      "    Uninstalling python-dateutil-2.9.0:\n",
      "      Successfully uninstalled python-dateutil-2.9.0\n",
      "Successfully installed anyio-4.8.0 async-property-0.2.2 cssselect-1.2.0 et-xmlfile-2.0.0 h11-0.14.0 h2-4.1.0 hishel-0.1.1 hpack-4.0.0 httpcore-1.0.7 httpx-0.27.2 hyperframe-6.0.1 inflection-0.5.1 jsonpath-ng-1.7.0 lxml-5.3.0 openpyxl-3.1.5 patent_client-5.0.18 pydantic-settings-2.7.1 pypdf-4.3.1 python-dateutil-2.9.0.post0 python-dotenv-1.0.1 sniffio-1.3.1 toolz-0.12.1 ujson-5.10.0 yankee-0.1.46\n",
      "Note: you may need to restart the kernel to use updated packages.\n"
     ]
    }
   ],
   "source": [
    "pip install patent_client"
   ]
  },
  {
   "cell_type": "code",
   "execution_count": 6,
   "metadata": {},
   "outputs": [
    {
     "ename": "HTTPStatusError",
     "evalue": "Server error '500 Internal Server Error' for url 'https://assignment-api.uspto.gov/patent/lookup?filter=OwnerName&query=Google&rows=8&start=0&sort=ExecutionDate%2Bdesc&facet=false'\nFor more information check: https://developer.mozilla.org/en-US/docs/Web/HTTP/Status/500",
     "output_type": "error",
     "traceback": [
      "\u001b[1;31m---------------------------------------------------------------------------\u001b[0m",
      "\u001b[1;31mHTTPStatusError\u001b[0m                           Traceback (most recent call last)",
      "Cell \u001b[1;32mIn[6], line 1\u001b[0m\n\u001b[1;32m----> 1\u001b[0m \u001b[38;5;28;43mlen\u001b[39;49m\u001b[43m(\u001b[49m\u001b[43massignments\u001b[49m\u001b[43m)\u001b[49m \n",
      "File \u001b[1;32mc:\\Users\\edgar\\OneDrive\\Bureau\\Ecole\\HEC\\A24\\BrevetNLP\\.conda\\Lib\\site-packages\\patent_client\\util\\manager.py:165\u001b[0m, in \u001b[0;36mManager.__len__\u001b[1;34m(self)\u001b[0m\n\u001b[0;32m    164\u001b[0m \u001b[38;5;28;01mdef\u001b[39;00m \u001b[38;5;21m__len__\u001b[39m(\u001b[38;5;28mself\u001b[39m) \u001b[38;5;241m-\u001b[39m\u001b[38;5;241m>\u001b[39m \u001b[38;5;28mint\u001b[39m:\n\u001b[1;32m--> 165\u001b[0m     \u001b[38;5;28;01mreturn\u001b[39;00m \u001b[38;5;28;43mself\u001b[39;49m\u001b[38;5;241;43m.\u001b[39;49m\u001b[43mcount\u001b[49m\u001b[43m(\u001b[49m\u001b[43m)\u001b[49m\n",
      "File \u001b[1;32mc:\\Users\\edgar\\OneDrive\\Bureau\\Ecole\\HEC\\A24\\BrevetNLP\\.conda\\Lib\\site-packages\\patent_client\\_sync\\uspto\\assignment\\manager.py:101\u001b[0m, in \u001b[0;36mAssignmentManager.count\u001b[1;34m(self)\u001b[0m\n\u001b[0;32m    100\u001b[0m \u001b[38;5;28;01mdef\u001b[39;00m \u001b[38;5;21mcount\u001b[39m(\u001b[38;5;28mself\u001b[39m) \u001b[38;5;241m-\u001b[39m\u001b[38;5;241m>\u001b[39m \u001b[38;5;28mint\u001b[39m:\n\u001b[1;32m--> 101\u001b[0m     response \u001b[38;5;241m=\u001b[39m \u001b[43mAssignmentApi\u001b[49m\u001b[38;5;241;43m.\u001b[39;49m\u001b[43mlookup\u001b[49m\u001b[43m(\u001b[49m\u001b[38;5;241;43m*\u001b[39;49m\u001b[38;5;241;43m*\u001b[39;49m\u001b[38;5;28;43mself\u001b[39;49m\u001b[38;5;241;43m.\u001b[39;49m\u001b[43mget_query\u001b[49m\u001b[43m(\u001b[49m\u001b[43m)\u001b[49m\u001b[43m)\u001b[49m\n\u001b[0;32m    102\u001b[0m     max_len \u001b[38;5;241m=\u001b[39m response\u001b[38;5;241m.\u001b[39mnum_found\n\u001b[0;32m    103\u001b[0m     \u001b[38;5;28;01mreturn\u001b[39;00m \u001b[38;5;28mmin\u001b[39m(max_len, \u001b[38;5;28mself\u001b[39m\u001b[38;5;241m.\u001b[39mconfig\u001b[38;5;241m.\u001b[39mlimit) \u001b[38;5;28;01mif\u001b[39;00m \u001b[38;5;28mself\u001b[39m\u001b[38;5;241m.\u001b[39mconfig\u001b[38;5;241m.\u001b[39mlimit \u001b[38;5;28;01melse\u001b[39;00m max_len\n",
      "File \u001b[1;32mc:\\Users\\edgar\\OneDrive\\Bureau\\Ecole\\HEC\\A24\\BrevetNLP\\.conda\\Lib\\site-packages\\patent_client\\_sync\\uspto\\assignment\\api.py:62\u001b[0m, in \u001b[0;36mAssignmentApi.lookup\u001b[1;34m(cls, query, filter, rows, start, sort)\u001b[0m\n\u001b[0;32m     49\u001b[0m validate_input(sort, \u001b[38;5;124m\"\u001b[39m\u001b[38;5;124msort\u001b[39m\u001b[38;5;124m\"\u001b[39m, allowed_sorts)\n\u001b[0;32m     50\u001b[0m response \u001b[38;5;241m=\u001b[39m client\u001b[38;5;241m.\u001b[39mget(\n\u001b[0;32m     51\u001b[0m     url,\n\u001b[0;32m     52\u001b[0m     params\u001b[38;5;241m=\u001b[39m{\n\u001b[1;32m   (...)\u001b[0m\n\u001b[0;32m     60\u001b[0m     headers\u001b[38;5;241m=\u001b[39m{\u001b[38;5;124m\"\u001b[39m\u001b[38;5;124mAccept\u001b[39m\u001b[38;5;124m\"\u001b[39m: \u001b[38;5;124m\"\u001b[39m\u001b[38;5;124mapplication/xml\u001b[39m\u001b[38;5;124m\"\u001b[39m},\n\u001b[0;32m     61\u001b[0m )\n\u001b[1;32m---> 62\u001b[0m \u001b[43mresponse\u001b[49m\u001b[38;5;241;43m.\u001b[39;49m\u001b[43mraise_for_status\u001b[49m\u001b[43m(\u001b[49m\u001b[43m)\u001b[49m\n\u001b[0;32m     63\u001b[0m \u001b[38;5;28;01mreturn\u001b[39;00m AssignmentPage\u001b[38;5;241m.\u001b[39mmodel_validate(convert_xml_to_json(response\u001b[38;5;241m.\u001b[39mcontent))\n",
      "File \u001b[1;32mc:\\Users\\edgar\\OneDrive\\Bureau\\Ecole\\HEC\\A24\\BrevetNLP\\.conda\\Lib\\site-packages\\httpx\\_models.py:763\u001b[0m, in \u001b[0;36mResponse.raise_for_status\u001b[1;34m(self)\u001b[0m\n\u001b[0;32m    761\u001b[0m error_type \u001b[38;5;241m=\u001b[39m error_types\u001b[38;5;241m.\u001b[39mget(status_class, \u001b[38;5;124m\"\u001b[39m\u001b[38;5;124mInvalid status code\u001b[39m\u001b[38;5;124m\"\u001b[39m)\n\u001b[0;32m    762\u001b[0m message \u001b[38;5;241m=\u001b[39m message\u001b[38;5;241m.\u001b[39mformat(\u001b[38;5;28mself\u001b[39m, error_type\u001b[38;5;241m=\u001b[39merror_type)\n\u001b[1;32m--> 763\u001b[0m \u001b[38;5;28;01mraise\u001b[39;00m HTTPStatusError(message, request\u001b[38;5;241m=\u001b[39mrequest, response\u001b[38;5;241m=\u001b[39m\u001b[38;5;28mself\u001b[39m)\n",
      "\u001b[1;31mHTTPStatusError\u001b[0m: Server error '500 Internal Server Error' for url 'https://assignment-api.uspto.gov/patent/lookup?filter=OwnerName&query=Google&rows=8&start=0&sort=ExecutionDate%2Bdesc&facet=false'\nFor more information check: https://developer.mozilla.org/en-US/docs/Web/HTTP/Status/500"
     ]
    }
   ],
   "source": [
    "len(assignments) "
   ]
  },
  {
   "cell_type": "code",
   "execution_count": 4,
   "metadata": {},
   "outputs": [
    {
     "ename": "HTTPStatusError",
     "evalue": "Server error '500 Internal Server Error' for url 'https://assignment-api.uspto.gov/patent/lookup?filter=OwnerName&query=Google&rows=8&start=0&sort=ExecutionDate%2Bdesc&facet=false'\nFor more information check: https://developer.mozilla.org/en-US/docs/Web/HTTP/Status/500",
     "output_type": "error",
     "traceback": [
      "\u001b[1;31m---------------------------------------------------------------------------\u001b[0m",
      "\u001b[1;31mHTTPStatusError\u001b[0m                           Traceback (most recent call last)",
      "Cell \u001b[1;32mIn[4], line 11\u001b[0m\n\u001b[0;32m      9\u001b[0m \u001b[38;5;66;03m# Fetch from USPTO Assignments\u001b[39;00m\n\u001b[0;32m     10\u001b[0m assignments \u001b[38;5;241m=\u001b[39m Assignment\u001b[38;5;241m.\u001b[39mobjects\u001b[38;5;241m.\u001b[39mfilter(assignee\u001b[38;5;241m=\u001b[39m\u001b[38;5;124m'\u001b[39m\u001b[38;5;124mGoogle\u001b[39m\u001b[38;5;124m'\u001b[39m)\n\u001b[1;32m---> 11\u001b[0m \u001b[38;5;28;43mlen\u001b[39;49m\u001b[43m(\u001b[49m\u001b[43massignments\u001b[49m\u001b[43m)\u001b[49m \u001b[38;5;241m>\u001b[39m \u001b[38;5;241m23000\u001b[39m\n\u001b[0;32m     12\u001b[0m \u001b[38;5;28;01mTrue\u001b[39;00m\n\u001b[0;32m     13\u001b[0m assignment \u001b[38;5;241m=\u001b[39m Assignment\u001b[38;5;241m.\u001b[39mobjects\u001b[38;5;241m.\u001b[39mget(\u001b[38;5;124m'\u001b[39m\u001b[38;5;124m47086-788\u001b[39m\u001b[38;5;124m'\u001b[39m)\n",
      "File \u001b[1;32mc:\\Users\\edgar\\OneDrive\\Bureau\\Ecole\\HEC\\A24\\BrevetNLP\\.conda\\Lib\\site-packages\\patent_client\\util\\manager.py:165\u001b[0m, in \u001b[0;36mManager.__len__\u001b[1;34m(self)\u001b[0m\n\u001b[0;32m    164\u001b[0m \u001b[38;5;28;01mdef\u001b[39;00m \u001b[38;5;21m__len__\u001b[39m(\u001b[38;5;28mself\u001b[39m) \u001b[38;5;241m-\u001b[39m\u001b[38;5;241m>\u001b[39m \u001b[38;5;28mint\u001b[39m:\n\u001b[1;32m--> 165\u001b[0m     \u001b[38;5;28;01mreturn\u001b[39;00m \u001b[38;5;28;43mself\u001b[39;49m\u001b[38;5;241;43m.\u001b[39;49m\u001b[43mcount\u001b[49m\u001b[43m(\u001b[49m\u001b[43m)\u001b[49m\n",
      "File \u001b[1;32mc:\\Users\\edgar\\OneDrive\\Bureau\\Ecole\\HEC\\A24\\BrevetNLP\\.conda\\Lib\\site-packages\\patent_client\\_sync\\uspto\\assignment\\manager.py:101\u001b[0m, in \u001b[0;36mAssignmentManager.count\u001b[1;34m(self)\u001b[0m\n\u001b[0;32m    100\u001b[0m \u001b[38;5;28;01mdef\u001b[39;00m \u001b[38;5;21mcount\u001b[39m(\u001b[38;5;28mself\u001b[39m) \u001b[38;5;241m-\u001b[39m\u001b[38;5;241m>\u001b[39m \u001b[38;5;28mint\u001b[39m:\n\u001b[1;32m--> 101\u001b[0m     response \u001b[38;5;241m=\u001b[39m \u001b[43mAssignmentApi\u001b[49m\u001b[38;5;241;43m.\u001b[39;49m\u001b[43mlookup\u001b[49m\u001b[43m(\u001b[49m\u001b[38;5;241;43m*\u001b[39;49m\u001b[38;5;241;43m*\u001b[39;49m\u001b[38;5;28;43mself\u001b[39;49m\u001b[38;5;241;43m.\u001b[39;49m\u001b[43mget_query\u001b[49m\u001b[43m(\u001b[49m\u001b[43m)\u001b[49m\u001b[43m)\u001b[49m\n\u001b[0;32m    102\u001b[0m     max_len \u001b[38;5;241m=\u001b[39m response\u001b[38;5;241m.\u001b[39mnum_found\n\u001b[0;32m    103\u001b[0m     \u001b[38;5;28;01mreturn\u001b[39;00m \u001b[38;5;28mmin\u001b[39m(max_len, \u001b[38;5;28mself\u001b[39m\u001b[38;5;241m.\u001b[39mconfig\u001b[38;5;241m.\u001b[39mlimit) \u001b[38;5;28;01mif\u001b[39;00m \u001b[38;5;28mself\u001b[39m\u001b[38;5;241m.\u001b[39mconfig\u001b[38;5;241m.\u001b[39mlimit \u001b[38;5;28;01melse\u001b[39;00m max_len\n",
      "File \u001b[1;32mc:\\Users\\edgar\\OneDrive\\Bureau\\Ecole\\HEC\\A24\\BrevetNLP\\.conda\\Lib\\site-packages\\patent_client\\_sync\\uspto\\assignment\\api.py:62\u001b[0m, in \u001b[0;36mAssignmentApi.lookup\u001b[1;34m(cls, query, filter, rows, start, sort)\u001b[0m\n\u001b[0;32m     49\u001b[0m validate_input(sort, \u001b[38;5;124m\"\u001b[39m\u001b[38;5;124msort\u001b[39m\u001b[38;5;124m\"\u001b[39m, allowed_sorts)\n\u001b[0;32m     50\u001b[0m response \u001b[38;5;241m=\u001b[39m client\u001b[38;5;241m.\u001b[39mget(\n\u001b[0;32m     51\u001b[0m     url,\n\u001b[0;32m     52\u001b[0m     params\u001b[38;5;241m=\u001b[39m{\n\u001b[1;32m   (...)\u001b[0m\n\u001b[0;32m     60\u001b[0m     headers\u001b[38;5;241m=\u001b[39m{\u001b[38;5;124m\"\u001b[39m\u001b[38;5;124mAccept\u001b[39m\u001b[38;5;124m\"\u001b[39m: \u001b[38;5;124m\"\u001b[39m\u001b[38;5;124mapplication/xml\u001b[39m\u001b[38;5;124m\"\u001b[39m},\n\u001b[0;32m     61\u001b[0m )\n\u001b[1;32m---> 62\u001b[0m \u001b[43mresponse\u001b[49m\u001b[38;5;241;43m.\u001b[39;49m\u001b[43mraise_for_status\u001b[49m\u001b[43m(\u001b[49m\u001b[43m)\u001b[49m\n\u001b[0;32m     63\u001b[0m \u001b[38;5;28;01mreturn\u001b[39;00m AssignmentPage\u001b[38;5;241m.\u001b[39mmodel_validate(convert_xml_to_json(response\u001b[38;5;241m.\u001b[39mcontent))\n",
      "File \u001b[1;32mc:\\Users\\edgar\\OneDrive\\Bureau\\Ecole\\HEC\\A24\\BrevetNLP\\.conda\\Lib\\site-packages\\httpx\\_models.py:763\u001b[0m, in \u001b[0;36mResponse.raise_for_status\u001b[1;34m(self)\u001b[0m\n\u001b[0;32m    761\u001b[0m error_type \u001b[38;5;241m=\u001b[39m error_types\u001b[38;5;241m.\u001b[39mget(status_class, \u001b[38;5;124m\"\u001b[39m\u001b[38;5;124mInvalid status code\u001b[39m\u001b[38;5;124m\"\u001b[39m)\n\u001b[0;32m    762\u001b[0m message \u001b[38;5;241m=\u001b[39m message\u001b[38;5;241m.\u001b[39mformat(\u001b[38;5;28mself\u001b[39m, error_type\u001b[38;5;241m=\u001b[39merror_type)\n\u001b[1;32m--> 763\u001b[0m \u001b[38;5;28;01mraise\u001b[39;00m HTTPStatusError(message, request\u001b[38;5;241m=\u001b[39mrequest, response\u001b[38;5;241m=\u001b[39m\u001b[38;5;28mself\u001b[39m)\n",
      "\u001b[1;31mHTTPStatusError\u001b[0m: Server error '500 Internal Server Error' for url 'https://assignment-api.uspto.gov/patent/lookup?filter=OwnerName&query=Google&rows=8&start=0&sort=ExecutionDate%2Bdesc&facet=false'\nFor more information check: https://developer.mozilla.org/en-US/docs/Web/HTTP/Status/500"
     ]
    }
   ],
   "source": [
    "# Import the model classes you need\n",
    "from patent_client import Inpadoc, Assignment, USApplication\n",
    "\n",
    "# Fetch US Applications\n",
    "app = USApplication.objects.get('15710770')\n",
    "app.patent_title\n",
    "'Camera Assembly with Concave-Shaped Front Face'\n",
    "\n",
    "# Fetch from USPTO Assignments\n",
    "assignments = Assignment.objects.filter(assignee='Google')\n",
    "len(assignments) > 23000\n",
    "True\n",
    "assignment = Assignment.objects.get('47086-788')\n",
    "assignment.conveyance_text\n",
    "'ASSIGNMENT OF ASSIGNORS INTEREST'\n",
    "\n",
    "# # Fetch from INPADOC\n",
    "# pub = Inpadoc.objects.get('EP3082535A1')\n",
    "# pub.biblio.title\n",
    "# 'AUTOMATIC FLUID DISPENSER'\n"
   ]
  }
 ],
 "metadata": {
  "kernelspec": {
   "display_name": ".conda",
   "language": "python",
   "name": "python3"
  },
  "language_info": {
   "codemirror_mode": {
    "name": "ipython",
    "version": 3
   },
   "file_extension": ".py",
   "mimetype": "text/x-python",
   "name": "python",
   "nbconvert_exporter": "python",
   "pygments_lexer": "ipython3",
   "version": "3.11.10"
  }
 },
 "nbformat": 4,
 "nbformat_minor": 2
}
