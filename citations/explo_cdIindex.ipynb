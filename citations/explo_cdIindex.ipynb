{
 "cells": [
  {
   "cell_type": "code",
   "execution_count": 2,
   "metadata": {},
   "outputs": [
    {
     "name": "stderr",
     "output_type": "stream",
     "text": [
      "ERROR: Could not find a version that satisfies the requirement fast_cdindex (from versions: none)\n",
      "ERROR: No matching distribution found for fast_cdindex\n"
     ]
    }
   ],
   "source": [
    "# !pip install fast_cdindex"
   ]
  },
  {
   "cell_type": "markdown",
   "metadata": {},
   "source": [
    "## CD index"
   ]
  },
  {
   "cell_type": "code",
   "execution_count": 29,
   "metadata": {},
   "outputs": [],
   "source": [
    "# pip install git+https://github.com/dspinellis/fast-cdindex.git"
   ]
  },
  {
   "cell_type": "code",
   "execution_count": 1,
   "metadata": {},
   "outputs": [],
   "source": [
    "from fast_cdindex import cdindex\n",
    "import datetime\n",
    "import pandas as pd\n",
    "# from datetime import datetime\n",
    "from tqdm import tqdm"
   ]
  },
  {
   "cell_type": "markdown",
   "metadata": {},
   "source": [
    "## Import data"
   ]
  },
  {
   "cell_type": "markdown",
   "metadata": {},
   "source": [
    "### Patents"
   ]
  },
  {
   "cell_type": "code",
   "execution_count": 156,
   "metadata": {},
   "outputs": [
    {
     "name": "stderr",
     "output_type": "stream",
     "text": [
      "C:\\Users\\edgar\\AppData\\Local\\Temp\\ipykernel_28968\\3886042248.py:5: DtypeWarning: Columns (0) have mixed types. Specify dtype option on import or set low_memory=False.\n",
      "  patent_df = pd.read_csv(file_path, sep='\\t', on_bad_lines='skip')\n"
     ]
    },
    {
     "name": "stdout",
     "output_type": "stream",
     "text": [
      "(8980130, 8)\n"
     ]
    },
    {
     "data": {
      "text/html": [
       "<div>\n",
       "<style scoped>\n",
       "    .dataframe tbody tr th:only-of-type {\n",
       "        vertical-align: middle;\n",
       "    }\n",
       "\n",
       "    .dataframe tbody tr th {\n",
       "        vertical-align: top;\n",
       "    }\n",
       "\n",
       "    .dataframe thead th {\n",
       "        text-align: right;\n",
       "    }\n",
       "</style>\n",
       "<table border=\"1\" class=\"dataframe\">\n",
       "  <thead>\n",
       "    <tr style=\"text-align: right;\">\n",
       "      <th></th>\n",
       "      <th>patent_id</th>\n",
       "      <th>patent_type</th>\n",
       "      <th>patent_date</th>\n",
       "      <th>patent_title</th>\n",
       "      <th>wipo_kind</th>\n",
       "      <th>num_claims</th>\n",
       "      <th>withdrawn</th>\n",
       "      <th>filename</th>\n",
       "    </tr>\n",
       "  </thead>\n",
       "  <tbody>\n",
       "    <tr>\n",
       "      <th>0</th>\n",
       "      <td>10000000</td>\n",
       "      <td>utility</td>\n",
       "      <td>2018-06-19</td>\n",
       "      <td>Coherent LADAR using intra-pixel quadrature de...</td>\n",
       "      <td>B2</td>\n",
       "      <td>20</td>\n",
       "      <td>0</td>\n",
       "      <td>ipg180619.xml</td>\n",
       "    </tr>\n",
       "    <tr>\n",
       "      <th>1</th>\n",
       "      <td>10000001</td>\n",
       "      <td>utility</td>\n",
       "      <td>2018-06-19</td>\n",
       "      <td>Injection molding machine and mold thickness c...</td>\n",
       "      <td>B2</td>\n",
       "      <td>12</td>\n",
       "      <td>0</td>\n",
       "      <td>ipg180619.xml</td>\n",
       "    </tr>\n",
       "    <tr>\n",
       "      <th>2</th>\n",
       "      <td>10000002</td>\n",
       "      <td>utility</td>\n",
       "      <td>2018-06-19</td>\n",
       "      <td>Method for manufacturing polymer film and co-e...</td>\n",
       "      <td>B2</td>\n",
       "      <td>9</td>\n",
       "      <td>0</td>\n",
       "      <td>ipg180619.xml</td>\n",
       "    </tr>\n",
       "    <tr>\n",
       "      <th>3</th>\n",
       "      <td>10000003</td>\n",
       "      <td>utility</td>\n",
       "      <td>2018-06-19</td>\n",
       "      <td>Method for producing a container from a thermo...</td>\n",
       "      <td>B2</td>\n",
       "      <td>18</td>\n",
       "      <td>0</td>\n",
       "      <td>ipg180619.xml</td>\n",
       "    </tr>\n",
       "    <tr>\n",
       "      <th>4</th>\n",
       "      <td>10000004</td>\n",
       "      <td>utility</td>\n",
       "      <td>2018-06-19</td>\n",
       "      <td>Process of obtaining a double-oriented film, c...</td>\n",
       "      <td>B2</td>\n",
       "      <td>6</td>\n",
       "      <td>0</td>\n",
       "      <td>ipg180619.xml</td>\n",
       "    </tr>\n",
       "  </tbody>\n",
       "</table>\n",
       "</div>"
      ],
      "text/plain": [
       "  patent_id patent_type patent_date  \\\n",
       "0  10000000     utility  2018-06-19   \n",
       "1  10000001     utility  2018-06-19   \n",
       "2  10000002     utility  2018-06-19   \n",
       "3  10000003     utility  2018-06-19   \n",
       "4  10000004     utility  2018-06-19   \n",
       "\n",
       "                                        patent_title wipo_kind  num_claims  \\\n",
       "0  Coherent LADAR using intra-pixel quadrature de...        B2          20   \n",
       "1  Injection molding machine and mold thickness c...        B2          12   \n",
       "2  Method for manufacturing polymer film and co-e...        B2           9   \n",
       "3  Method for producing a container from a thermo...        B2          18   \n",
       "4  Process of obtaining a double-oriented film, c...        B2           6   \n",
       "\n",
       "   withdrawn       filename  \n",
       "0          0  ipg180619.xml  \n",
       "1          0  ipg180619.xml  \n",
       "2          0  ipg180619.xml  \n",
       "3          0  ipg180619.xml  \n",
       "4          0  ipg180619.xml  "
      ]
     },
     "execution_count": 156,
     "metadata": {},
     "output_type": "execute_result"
    }
   ],
   "source": [
    "# Path to the .csv.gz file\n",
    "file_path = \"C:/Users/edgar/OneDrive/Bureau/Ecole/HEC/A24/BrevetNLP/citations_data/data/g_patent.tsv\"\n",
    "\n",
    "# Load the TSV file into a DataFrame\n",
    "patent_df = pd.read_csv(file_path, sep='\\t', on_bad_lines='skip')\n",
    "\n",
    "# Display the first few rows of the DataFrame\n",
    "print(patent_df.shape)\n",
    "patent_df.head()"
   ]
  },
  {
   "cell_type": "markdown",
   "metadata": {},
   "source": [
    "#### Traitement données"
   ]
  },
  {
   "cell_type": "code",
   "execution_count": 157,
   "metadata": {},
   "outputs": [
    {
     "name": "stdout",
     "output_type": "stream",
     "text": [
      "(3912353, 8)\n"
     ]
    }
   ],
   "source": [
    "patent_df[\"patent_date\"] = pd.to_datetime(patent_df[\"patent_date\"])\n",
    "patent_df = patent_df[(patent_df[\"patent_type\"]== \"utility\") & (patent_df[\"patent_date\"].dt.year <= 2010)]\n",
    "\n",
    "patent_df = patent_df[patent_df[\"patent_id\"].notna()]\n",
    "\n",
    "# Step 2: Ensure \"patent_id\" is treated as string for numeric filtering\n",
    "patent_df[\"patent_id\"] = patent_df[\"patent_id\"].astype(str)\n",
    "# Step 3: Keep rows where \"patent_id\" contains only numeric values (without NaN)\n",
    "patent_df = patent_df[patent_df[\"patent_id\"].str.isnumeric()]\n",
    "\n",
    "# Step 4: Optionally, convert \"patent_id\" back to numeric type\n",
    "patent_df[\"patent_id\"] = pd.to_numeric(patent_df[\"patent_id\"])\n",
    "# patent_df[patent_df[\"patent_id\"]==\"RE31700\"]\n",
    "\n",
    "print(patent_df.shape)"
   ]
  },
  {
   "cell_type": "code",
   "execution_count": 158,
   "metadata": {},
   "outputs": [],
   "source": [
    "# mettre en string\n",
    "patent_df[\"patent_id\"] = patent_df[\"patent_id\"].astype(str)\n",
    "valid_patent_ids = set(patent_df[\"patent_id\"])"
   ]
  },
  {
   "cell_type": "code",
   "execution_count": 5,
   "metadata": {},
   "outputs": [
    {
     "data": {
      "text/plain": [
       "(3912353, 8)"
      ]
     },
     "execution_count": 5,
     "metadata": {},
     "output_type": "execute_result"
    }
   ],
   "source": [
    "patent_df.shape"
   ]
  },
  {
   "cell_type": "code",
   "execution_count": 96,
   "metadata": {},
   "outputs": [
    {
     "data": {
      "text/plain": [
       "[{'name': '12016711', 'time': Timestamp('2024-06-25 00:00:00+0000', tz='UTC')},\n",
       " {'name': '12016712', 'time': Timestamp('2024-06-25 00:00:00+0000', tz='UTC')},\n",
       " {'name': '12016713', 'time': Timestamp('2024-06-25 00:00:00+0000', tz='UTC')},\n",
       " {'name': '12016714', 'time': Timestamp('2024-06-25 00:00:00+0000', tz='UTC')},\n",
       " {'name': '12016715', 'time': Timestamp('2024-06-25 00:00:00+0000', tz='UTC')}]"
      ]
     },
     "execution_count": 96,
     "metadata": {},
     "output_type": "execute_result"
    }
   ],
   "source": [
    "# Convert 'patent_date' to datetime format (efficiently)\n",
    "patent_df['patent_date'] = pd.to_datetime(patent_df['patent_date']).dt.tz_localize('UTC')\n",
    "\n",
    "# Use a vectorized approach to create the dictionary list\n",
    "pyvertices = patent_df[['patent_id', 'patent_date']].rename(columns={'patent_id': 'name', 'patent_date': 'time'}).to_dict(orient=\"records\")\n",
    "\n",
    "# Print result\n",
    "pyvertices[2_000_000:2_000_005]"
   ]
  },
  {
   "cell_type": "code",
   "execution_count": 101,
   "metadata": {},
   "outputs": [
    {
     "data": {
      "text/plain": [
       "{'name': '3930272', 'time': Timestamp('1976-01-06 00:00:00+0000', tz='UTC')}"
      ]
     },
     "execution_count": 101,
     "metadata": {},
     "output_type": "execute_result"
    }
   ],
   "source": [
    "pyvertices[1]"
   ]
  },
  {
   "cell_type": "code",
   "execution_count": 22,
   "metadata": {},
   "outputs": [
    {
     "data": {
      "text/plain": [
       "13"
      ]
     },
     "execution_count": 22,
     "metadata": {},
     "output_type": "execute_result"
    }
   ],
   "source": [
    "graph.in_degree('5941792')"
   ]
  },
  {
   "cell_type": "code",
   "execution_count": 26,
   "metadata": {},
   "outputs": [
    {
     "data": {
      "text/plain": [
       "935452800"
      ]
     },
     "execution_count": 26,
     "metadata": {},
     "output_type": "execute_result"
    }
   ],
   "source": [
    "graph.timestamp('5941794')"
   ]
  },
  {
   "cell_type": "code",
   "execution_count": 25,
   "metadata": {},
   "outputs": [
    {
     "data": {
      "text/plain": [
       "935452800"
      ]
     },
     "execution_count": 25,
     "metadata": {},
     "output_type": "execute_result"
    }
   ],
   "source": [
    "pd.to_datetime(graph.timestamp('5941794'), unit='s')"
   ]
  },
  {
   "cell_type": "markdown",
   "metadata": {},
   "source": [
    "### Cd-Index Fast"
   ]
  },
  {
   "cell_type": "code",
   "execution_count": 6,
   "metadata": {},
   "outputs": [],
   "source": [
    "# Graph\n",
    "# create graph\n",
    "\n",
    "graph = cdindex.Graph()"
   ]
  },
  {
   "cell_type": "code",
   "execution_count": 7,
   "metadata": {},
   "outputs": [
    {
     "name": "stderr",
     "output_type": "stream",
     "text": [
      "100%|██████████| 8123317/8123317 [00:23<00:00, 345619.82it/s]\n"
     ]
    }
   ],
   "source": [
    "# add vertices\n",
    "for vertex in tqdm(pyvertices, mininterval=1.0):\n",
    "    graph.add_vertex(vertex[\"name\"], int(datetime.datetime.timestamp(vertex[\"time\"])))"
   ]
  },
  {
   "cell_type": "code",
   "execution_count": 8,
   "metadata": {},
   "outputs": [],
   "source": [
    "del pyvertices\n",
    "valid_patent_ids = set(patent_df[\"patent_id\"])\n",
    "del(patent_df)"
   ]
  },
  {
   "cell_type": "markdown",
   "metadata": {},
   "source": [
    "#### Granted"
   ]
  },
  {
   "cell_type": "code",
   "execution_count": 9,
   "metadata": {},
   "outputs": [
    {
     "name": "stdout",
     "output_type": "stream",
     "text": [
      "Processing rows 0 to 10000000\n"
     ]
    },
    {
     "name": "stderr",
     "output_type": "stream",
     "text": [
      "100%|██████████| 9281578/9281578 [00:17<00:00, 539028.61it/s]\n"
     ]
    },
    {
     "name": "stdout",
     "output_type": "stream",
     "text": [
      "Processing rows 10000000 to 20000000\n"
     ]
    },
    {
     "name": "stderr",
     "output_type": "stream",
     "text": [
      "100%|██████████| 9301220/9301220 [00:18<00:00, 509314.46it/s]\n"
     ]
    },
    {
     "name": "stdout",
     "output_type": "stream",
     "text": [
      "Processing rows 20000000 to 30000000\n"
     ]
    },
    {
     "name": "stderr",
     "output_type": "stream",
     "text": [
      "100%|██████████| 9311000/9311000 [00:18<00:00, 515024.13it/s]\n"
     ]
    },
    {
     "name": "stdout",
     "output_type": "stream",
     "text": [
      "Processing rows 30000000 to 40000000\n"
     ]
    },
    {
     "name": "stderr",
     "output_type": "stream",
     "text": [
      "100%|██████████| 9313123/9313123 [00:17<00:00, 542016.09it/s]\n"
     ]
    },
    {
     "name": "stdout",
     "output_type": "stream",
     "text": [
      "Processing rows 40000000 to 50000000\n"
     ]
    },
    {
     "name": "stderr",
     "output_type": "stream",
     "text": [
      "100%|██████████| 5423546/5423546 [00:10<00:00, 533106.75it/s]\n"
     ]
    },
    {
     "name": "stdout",
     "output_type": "stream",
     "text": [
      "Processing rows 50000000 to 60000000\n"
     ]
    },
    {
     "name": "stderr",
     "output_type": "stream",
     "text": [
      "100%|██████████| 7975863/7975863 [00:15<00:00, 518354.47it/s]\n"
     ]
    },
    {
     "name": "stdout",
     "output_type": "stream",
     "text": [
      "Processing rows 60000000 to 70000000\n"
     ]
    },
    {
     "name": "stderr",
     "output_type": "stream",
     "text": [
      "100%|██████████| 8743693/8743693 [00:16<00:00, 523677.76it/s]\n"
     ]
    },
    {
     "name": "stdout",
     "output_type": "stream",
     "text": [
      "Processing rows 70000000 to 80000000\n"
     ]
    },
    {
     "name": "stderr",
     "output_type": "stream",
     "text": [
      "100%|██████████| 9137115/9137115 [00:17<00:00, 513379.56it/s]\n"
     ]
    },
    {
     "name": "stdout",
     "output_type": "stream",
     "text": [
      "Processing rows 80000000 to 90000000\n"
     ]
    },
    {
     "name": "stderr",
     "output_type": "stream",
     "text": [
      "100%|██████████| 9229261/9229261 [00:17<00:00, 519180.32it/s]\n"
     ]
    },
    {
     "name": "stdout",
     "output_type": "stream",
     "text": [
      "Processing rows 90000000 to 100000000\n"
     ]
    },
    {
     "name": "stderr",
     "output_type": "stream",
     "text": [
      "100%|██████████| 9272838/9272838 [00:18<00:00, 497774.05it/s]\n"
     ]
    },
    {
     "name": "stdout",
     "output_type": "stream",
     "text": [
      "Processing rows 100000000 to 110000000\n"
     ]
    },
    {
     "name": "stderr",
     "output_type": "stream",
     "text": [
      "100%|██████████| 9294514/9294514 [00:19<00:00, 466369.01it/s]\n"
     ]
    },
    {
     "name": "stdout",
     "output_type": "stream",
     "text": [
      "Processing rows 110000000 to 120000000\n"
     ]
    },
    {
     "name": "stderr",
     "output_type": "stream",
     "text": [
      "100%|██████████| 9284196/9284196 [00:20<00:00, 457918.31it/s]\n",
      "C:\\Users\\edgar\\AppData\\Local\\Temp\\ipykernel_28968\\3067643171.py:5: DtypeWarning: Columns (0) have mixed types. Specify dtype option on import or set low_memory=False.\n",
      "  for chunk in pd.read_csv(grant_file, sep='\\t', usecols=[\"patent_id\", \"citation_patent_id\"], chunksize=chunksize, on_bad_lines='skip'):\n"
     ]
    },
    {
     "name": "stdout",
     "output_type": "stream",
     "text": [
      "Processing rows 120000000 to 130000000\n"
     ]
    },
    {
     "name": "stderr",
     "output_type": "stream",
     "text": [
      "100%|██████████| 7353909/7353909 [00:14<00:00, 491073.38it/s]\n"
     ]
    },
    {
     "name": "stdout",
     "output_type": "stream",
     "text": [
      "Processing rows 130000000 to 140000000\n"
     ]
    },
    {
     "name": "stderr",
     "output_type": "stream",
     "text": [
      "0it [00:00, ?it/s]\n"
     ]
    },
    {
     "name": "stdout",
     "output_type": "stream",
     "text": [
      "Processing rows 140000000 to 144025878\n"
     ]
    },
    {
     "name": "stderr",
     "output_type": "stream",
     "text": [
      "0it [00:00, ?it/s]\n"
     ]
    },
    {
     "name": "stdout",
     "output_type": "stream",
     "text": [
      "Finished processing 144025878 rows.\n"
     ]
    }
   ],
   "source": [
    "chunksize = 10_000_000  # Read 10 million rows at a time\n",
    "total_rows = 0  # Counter to track progress\n",
    "grant_file= \"C:/Users/edgar/OneDrive/Bureau/Ecole/HEC/A24/BrevetNLP/citations_data/data/g_us_patent_citation.tsv\"\n",
    "\n",
    "for chunk in pd.read_csv(grant_file, sep='\\t', usecols=[\"patent_id\", \"citation_patent_id\"], chunksize=chunksize, on_bad_lines='skip'):\n",
    "    print(f\"Processing rows {total_rows} to {total_rows + len(chunk)}\")\n",
    "    \n",
    "    # Convert to string if needed\n",
    "    chunk[\"patent_id\"] = chunk[\"patent_id\"].astype(str)\n",
    "    chunk[\"citation_patent_id\"] = chunk[\"citation_patent_id\"].astype(str)\n",
    "\n",
    "    filtered_df = chunk[chunk[\"patent_id\"].isin(valid_patent_ids) & chunk[\"citation_patent_id\"].isin(valid_patent_ids)]\n",
    "    \n",
    "    pyedges = filtered_df.rename(columns={'patent_id': 'source', 'citation_patent_id': 'target'}) \\\n",
    "            .astype(str) \\\n",
    "            .to_dict(orient='records')\n",
    "    \n",
    "    # add edges\n",
    "    for edge in tqdm(pyedges, mininterval=1.0):\n",
    "        graph.add_edge(edge[\"source\"], edge[\"target\"])\n",
    "\n",
    "\n",
    "    total_rows += len(chunk)\n",
    "    \n",
    "    # Optional: Save processed chunk to a new file\n",
    "    # chunk.to_csv(\"output_file.tsv\", mode='a', sep='\\t', index=False, header=(total_rows == 0))  # Append mode\n",
    "\n",
    "print(f\"Finished processing {total_rows} rows.\")\n",
    "del(chunk)\n",
    "del filtered_df\n",
    "del pyedges\n",
    "# 22 min"
   ]
  },
  {
   "cell_type": "code",
   "execution_count": null,
   "metadata": {},
   "outputs": [
    {
     "data": {
      "text/html": [
       "<div>\n",
       "<style scoped>\n",
       "    .dataframe tbody tr th:only-of-type {\n",
       "        vertical-align: middle;\n",
       "    }\n",
       "\n",
       "    .dataframe tbody tr th {\n",
       "        vertical-align: top;\n",
       "    }\n",
       "\n",
       "    .dataframe thead th {\n",
       "        text-align: right;\n",
       "    }\n",
       "</style>\n",
       "<table border=\"1\" class=\"dataframe\">\n",
       "  <thead>\n",
       "    <tr style=\"text-align: right;\">\n",
       "      <th></th>\n",
       "      <th>patent_id</th>\n",
       "      <th>citation_sequence</th>\n",
       "      <th>citation_document_number</th>\n",
       "      <th>citation_date</th>\n",
       "      <th>record_name</th>\n",
       "      <th>wipo_kind</th>\n",
       "      <th>citation_category</th>\n",
       "    </tr>\n",
       "  </thead>\n",
       "  <tbody>\n",
       "    <tr>\n",
       "      <th>0</th>\n",
       "      <td>8102431</td>\n",
       "      <td>0</td>\n",
       "      <td>20070236734</td>\n",
       "      <td>2007-10-01</td>\n",
       "      <td>Okamoto</td>\n",
       "      <td>A1</td>\n",
       "      <td>cited by examiner</td>\n",
       "    </tr>\n",
       "    <tr>\n",
       "      <th>1</th>\n",
       "      <td>8117225</td>\n",
       "      <td>0</td>\n",
       "      <td>20040158607</td>\n",
       "      <td>2004-08-01</td>\n",
       "      <td>Coppinger et al.</td>\n",
       "      <td>A1</td>\n",
       "      <td>cited by other</td>\n",
       "    </tr>\n",
       "    <tr>\n",
       "      <th>2</th>\n",
       "      <td>8717974</td>\n",
       "      <td>0</td>\n",
       "      <td>20070229270</td>\n",
       "      <td>2007-10-01</td>\n",
       "      <td>Rofougaran</td>\n",
       "      <td>A1</td>\n",
       "      <td>cited by applicant</td>\n",
       "    </tr>\n",
       "    <tr>\n",
       "      <th>3</th>\n",
       "      <td>8182067</td>\n",
       "      <td>0</td>\n",
       "      <td>20040036751</td>\n",
       "      <td>2004-02-01</td>\n",
       "      <td>Giere et al.</td>\n",
       "      <td>A1</td>\n",
       "      <td>cited by examiner</td>\n",
       "    </tr>\n",
       "    <tr>\n",
       "      <th>4</th>\n",
       "      <td>10629046</td>\n",
       "      <td>104</td>\n",
       "      <td>20120212582</td>\n",
       "      <td>2012-08-01</td>\n",
       "      <td>Deutsch</td>\n",
       "      <td>A1</td>\n",
       "      <td>cited by applicant</td>\n",
       "    </tr>\n",
       "    <tr>\n",
       "      <th>...</th>\n",
       "      <td>...</td>\n",
       "      <td>...</td>\n",
       "      <td>...</td>\n",
       "      <td>...</td>\n",
       "      <td>...</td>\n",
       "      <td>...</td>\n",
       "      <td>...</td>\n",
       "    </tr>\n",
       "    <tr>\n",
       "      <th>995</th>\n",
       "      <td>11908515</td>\n",
       "      <td>29</td>\n",
       "      <td>20130286763</td>\n",
       "      <td>2013-10-01</td>\n",
       "      <td>Wang</td>\n",
       "      <td>A1</td>\n",
       "      <td>cited by applicant</td>\n",
       "    </tr>\n",
       "    <tr>\n",
       "      <th>996</th>\n",
       "      <td>11784043</td>\n",
       "      <td>132</td>\n",
       "      <td>20150259791</td>\n",
       "      <td>2015-09-01</td>\n",
       "      <td>Hausmann et al.</td>\n",
       "      <td>A1</td>\n",
       "      <td>cited by applicant</td>\n",
       "    </tr>\n",
       "    <tr>\n",
       "      <th>997</th>\n",
       "      <td>10848384</td>\n",
       "      <td>5</td>\n",
       "      <td>20090024426</td>\n",
       "      <td>2009-01-01</td>\n",
       "      <td>Chang</td>\n",
       "      <td>A1</td>\n",
       "      <td>cited by examiner</td>\n",
       "    </tr>\n",
       "    <tr>\n",
       "      <th>998</th>\n",
       "      <td>9767316</td>\n",
       "      <td>2</td>\n",
       "      <td>20030140027</td>\n",
       "      <td>2003-07-01</td>\n",
       "      <td>Huttel et al.</td>\n",
       "      <td>A1</td>\n",
       "      <td>cited by applicant</td>\n",
       "    </tr>\n",
       "    <tr>\n",
       "      <th>999</th>\n",
       "      <td>11665171</td>\n",
       "      <td>25</td>\n",
       "      <td>20190020723</td>\n",
       "      <td>2019-01-01</td>\n",
       "      <td>Kumar et al.</td>\n",
       "      <td>A1</td>\n",
       "      <td>cited by applicant</td>\n",
       "    </tr>\n",
       "  </tbody>\n",
       "</table>\n",
       "<p>1000 rows × 7 columns</p>\n",
       "</div>"
      ],
      "text/plain": [
       "    patent_id  citation_sequence  citation_document_number citation_date  \\\n",
       "0     8102431                  0               20070236734    2007-10-01   \n",
       "1     8117225                  0               20040158607    2004-08-01   \n",
       "2     8717974                  0               20070229270    2007-10-01   \n",
       "3     8182067                  0               20040036751    2004-02-01   \n",
       "4    10629046                104               20120212582    2012-08-01   \n",
       "..        ...                ...                       ...           ...   \n",
       "995  11908515                 29               20130286763    2013-10-01   \n",
       "996  11784043                132               20150259791    2015-09-01   \n",
       "997  10848384                  5               20090024426    2009-01-01   \n",
       "998   9767316                  2               20030140027    2003-07-01   \n",
       "999  11665171                 25               20190020723    2019-01-01   \n",
       "\n",
       "          record_name wipo_kind   citation_category  \n",
       "0             Okamoto        A1   cited by examiner  \n",
       "1    Coppinger et al.        A1      cited by other  \n",
       "2          Rofougaran        A1  cited by applicant  \n",
       "3        Giere et al.        A1   cited by examiner  \n",
       "4             Deutsch        A1  cited by applicant  \n",
       "..                ...       ...                 ...  \n",
       "995              Wang        A1  cited by applicant  \n",
       "996   Hausmann et al.        A1  cited by applicant  \n",
       "997             Chang        A1   cited by examiner  \n",
       "998     Huttel et al.        A1  cited by applicant  \n",
       "999      Kumar et al.        A1  cited by applicant  \n",
       "\n",
       "[1000 rows x 7 columns]"
      ]
     },
     "execution_count": 114,
     "metadata": {},
     "output_type": "execute_result"
    }
   ],
   "source": [
    "# applic_file= \"C:/Users/edgar/OneDrive/Bureau/Ecole/HEC/A24/BrevetNLP/citations_data/data/g_us_application_citation.tsv\"\n",
    "# for_df=pd.read_csv(applic_file, sep='\\t',nrows=1000)\n",
    "# for_df"
   ]
  },
  {
   "cell_type": "code",
   "execution_count": 10,
   "metadata": {},
   "outputs": [
    {
     "name": "stdout",
     "output_type": "stream",
     "text": [
      "Processing rows 144025878 to 154025878\n"
     ]
    },
    {
     "name": "stderr",
     "output_type": "stream",
     "text": [
      "100%|██████████| 44222/44222 [00:00<00:00, 271666.41it/s]\n"
     ]
    },
    {
     "name": "stdout",
     "output_type": "stream",
     "text": [
      "Processing rows 154025878 to 164025878\n"
     ]
    },
    {
     "name": "stderr",
     "output_type": "stream",
     "text": [
      "100%|██████████| 43944/43944 [00:00<00:00, 299506.97it/s]\n"
     ]
    },
    {
     "name": "stdout",
     "output_type": "stream",
     "text": [
      "Processing rows 164025878 to 174025878\n"
     ]
    },
    {
     "name": "stderr",
     "output_type": "stream",
     "text": [
      "100%|██████████| 43750/43750 [00:00<00:00, 332881.87it/s]\n"
     ]
    },
    {
     "name": "stdout",
     "output_type": "stream",
     "text": [
      "Processing rows 174025878 to 184025878\n"
     ]
    },
    {
     "name": "stderr",
     "output_type": "stream",
     "text": [
      "100%|██████████| 43517/43517 [00:00<00:00, 331835.02it/s]\n"
     ]
    },
    {
     "name": "stdout",
     "output_type": "stream",
     "text": [
      "Processing rows 184025878 to 185802964\n"
     ]
    },
    {
     "name": "stderr",
     "output_type": "stream",
     "text": [
      "100%|██████████| 7672/7672 [00:00<00:00, 766524.54it/s]"
     ]
    },
    {
     "name": "stdout",
     "output_type": "stream",
     "text": [
      "Finished processing 185802964 rows.\n"
     ]
    },
    {
     "name": "stderr",
     "output_type": "stream",
     "text": [
      "\n"
     ]
    }
   ],
   "source": [
    "foreign_file= \"C:/Users/edgar/OneDrive/Bureau/Ecole/HEC/A24/BrevetNLP/citations_data/data/g_foreign_citation.tsv\"\n",
    "\n",
    "for chunk in pd.read_csv(foreign_file, sep='\\t', usecols=[\"patent_id\", \"citation_application_id\"], chunksize=chunksize, on_bad_lines='skip'):\n",
    "    print(f\"Processing rows {total_rows} to {total_rows + len(chunk)}\")\n",
    "    \n",
    "    # Convert to string if needed\n",
    "    chunk[\"patent_id\"] = chunk[\"patent_id\"].astype(str)\n",
    "    chunk[\"citation_application_id\"] = chunk[\"citation_application_id\"].astype(str)\n",
    "\n",
    "    filtered_df = chunk[chunk[\"patent_id\"].isin(valid_patent_ids) & chunk[\"citation_application_id\"].isin(valid_patent_ids)]\n",
    "    \n",
    "    pyedges = filtered_df.rename(columns={'patent_id': 'source', 'citation_application_id': 'target'}) \\\n",
    "            .astype(str) \\\n",
    "            .to_dict(orient='records')\n",
    "    \n",
    "    # add edges\n",
    "    for edge in tqdm(pyedges, mininterval=1.0):\n",
    "        graph.add_edge(edge[\"source\"], edge[\"target\"])\n",
    "\n",
    "\n",
    "    total_rows += len(chunk)\n",
    "    \n",
    "    # Optional: Save processed chunk to a new file\n",
    "    # chunk.to_csv(\"output_file.tsv\", mode='a', sep='\\t', index=False, header=(total_rows == 0))  # Append mode\n",
    "\n",
    "print(f\"Finished processing {total_rows} rows.\")\n",
    "del(chunk)\n",
    "del filtered_df\n",
    "del pyedges\n",
    "# 22 min"
   ]
  },
  {
   "cell_type": "code",
   "execution_count": 10,
   "metadata": {},
   "outputs": [
    {
     "data": {
      "text/html": [
       "<div>\n",
       "<style scoped>\n",
       "    .dataframe tbody tr th:only-of-type {\n",
       "        vertical-align: middle;\n",
       "    }\n",
       "\n",
       "    .dataframe tbody tr th {\n",
       "        vertical-align: top;\n",
       "    }\n",
       "\n",
       "    .dataframe thead th {\n",
       "        text-align: right;\n",
       "    }\n",
       "</style>\n",
       "<table border=\"1\" class=\"dataframe\">\n",
       "  <thead>\n",
       "    <tr style=\"text-align: right;\">\n",
       "      <th></th>\n",
       "      <th>patent_id</th>\n",
       "      <th>citation_patent_id</th>\n",
       "    </tr>\n",
       "  </thead>\n",
       "  <tbody>\n",
       "    <tr>\n",
       "      <th>0</th>\n",
       "      <td>10000000</td>\n",
       "      <td>5093563</td>\n",
       "    </tr>\n",
       "    <tr>\n",
       "      <th>1</th>\n",
       "      <td>10000000</td>\n",
       "      <td>5751830</td>\n",
       "    </tr>\n",
       "    <tr>\n",
       "      <th>2</th>\n",
       "      <td>10000001</td>\n",
       "      <td>7804268</td>\n",
       "    </tr>\n",
       "    <tr>\n",
       "      <th>3</th>\n",
       "      <td>10000001</td>\n",
       "      <td>9022767</td>\n",
       "    </tr>\n",
       "    <tr>\n",
       "      <th>4</th>\n",
       "      <td>10000001</td>\n",
       "      <td>9090016</td>\n",
       "    </tr>\n",
       "    <tr>\n",
       "      <th>...</th>\n",
       "      <td>...</td>\n",
       "      <td>...</td>\n",
       "    </tr>\n",
       "    <tr>\n",
       "      <th>9999995</th>\n",
       "      <td>10513056</td>\n",
       "      <td>D608406</td>\n",
       "    </tr>\n",
       "    <tr>\n",
       "      <th>9999996</th>\n",
       "      <td>10513056</td>\n",
       "      <td>7653279</td>\n",
       "    </tr>\n",
       "    <tr>\n",
       "      <th>9999997</th>\n",
       "      <td>10513056</td>\n",
       "      <td>D615784</td>\n",
       "    </tr>\n",
       "    <tr>\n",
       "      <th>9999998</th>\n",
       "      <td>10513056</td>\n",
       "      <td>7841666</td>\n",
       "    </tr>\n",
       "    <tr>\n",
       "      <th>9999999</th>\n",
       "      <td>10513056</td>\n",
       "      <td>7896864</td>\n",
       "    </tr>\n",
       "  </tbody>\n",
       "</table>\n",
       "<p>10000000 rows × 2 columns</p>\n",
       "</div>"
      ],
      "text/plain": [
       "         patent_id citation_patent_id\n",
       "0         10000000            5093563\n",
       "1         10000000            5751830\n",
       "2         10000001            7804268\n",
       "3         10000001            9022767\n",
       "4         10000001            9090016\n",
       "...            ...                ...\n",
       "9999995   10513056            D608406\n",
       "9999996   10513056            7653279\n",
       "9999997   10513056            D615784\n",
       "9999998   10513056            7841666\n",
       "9999999   10513056            7896864\n",
       "\n",
       "[10000000 rows x 2 columns]"
      ]
     },
     "execution_count": 10,
     "metadata": {},
     "output_type": "execute_result"
    }
   ],
   "source": [
    "grant_file= \"C:/Users/edgar/OneDrive/Bureau/Ecole/HEC/A24/BrevetNLP/citations_data/data/g_us_patent_citation.tsv\"\n",
    "# applic_file= \"C:/Users/edgar/OneDrive/Bureau/Ecole/HEC/A24/BrevetNLP/citations_data/data/g_us_application_citation.tsv\"\n",
    "# foreign_file= \"C:/Users/edgar/OneDrive/Bureau/Ecole/HEC/A24/BrevetNLP/citations_data/data/g_foreign_citation.tsv\"\n",
    "# output_file = \"/home/edgarlanoue/citationsData/data/g_us_patent_citation_full.tsv\"\n",
    "\n",
    "# Load the TSV file into a DataFrame\n",
    "# start_row = 20000000# #1000000\n",
    "# end_row = 40000000\n",
    "\n",
    "# Use skiprows to skip the first 20 million rows, and nrows to read the next 20 million\n",
    "grantPat_df = pd.read_csv(grant_file, sep='\\t', on_bad_lines='skip', nrows=10000000, usecols=[\"patent_id\", \"citation_patent_id\"])\n",
    "grantPat_df"
   ]
  },
  {
   "cell_type": "markdown",
   "metadata": {},
   "source": [
    "#### Traitements données"
   ]
  },
  {
   "cell_type": "code",
   "execution_count": 50,
   "metadata": {},
   "outputs": [],
   "source": [
    "grantPat_df[\"patent_id\"] = grantPat_df[\"patent_id\"].astype(str)\n",
    "grantPat_df[\"citation_patent_id\"] = grantPat_df[\"citation_patent_id\"].astype(str)"
   ]
  },
  {
   "cell_type": "code",
   "execution_count": 52,
   "metadata": {},
   "outputs": [],
   "source": [
    "filtered_df = grantPat_df[grantPat_df[\"patent_id\"].isin(valid_patent_ids) & grantPat_df[\"citation_patent_id\"].isin(valid_patent_ids)]"
   ]
  },
  {
   "cell_type": "code",
   "execution_count": 53,
   "metadata": {},
   "outputs": [
    {
     "data": {
      "text/plain": [
       "(9472687, 2)"
      ]
     },
     "execution_count": 53,
     "metadata": {},
     "output_type": "execute_result"
    }
   ],
   "source": [
    "filtered_df.shape"
   ]
  },
  {
   "cell_type": "code",
   "execution_count": 86,
   "metadata": {},
   "outputs": [
    {
     "data": {
      "text/plain": [
       "9999999    10513056\n",
       "Name: patent_id, dtype: object"
      ]
     },
     "execution_count": 86,
     "metadata": {},
     "output_type": "execute_result"
    }
   ],
   "source": [
    "filtered_df[len(filtered_df)-1:len(filtered_df)][\"patent_id\"]"
   ]
  },
  {
   "cell_type": "code",
   "execution_count": 54,
   "metadata": {},
   "outputs": [],
   "source": [
    "pyedges = filtered_df.rename(columns={'patent_id': 'source', 'citation_patent_id': 'target'}) \\\n",
    "            .astype(str) \\\n",
    "            .to_dict(orient='records')"
   ]
  },
  {
   "cell_type": "code",
   "execution_count": 56,
   "metadata": {},
   "outputs": [
    {
     "name": "stderr",
     "output_type": "stream",
     "text": [
      "100%|██████████| 9472687/9472687 [00:16<00:00, 587082.67it/s]\n"
     ]
    }
   ],
   "source": [
    "# add edges\n",
    "for edge in tqdm(pyedges, mininterval=1.0):\n",
    "    graph.add_edge(edge[\"source\"], edge[\"target\"])"
   ]
  },
  {
   "cell_type": "code",
   "execution_count": 58,
   "metadata": {},
   "outputs": [
    {
     "name": "stdout",
     "output_type": "stream",
     "text": [
      "56\n"
     ]
    }
   ],
   "source": [
    "import sys\n",
    "\n",
    "graph\n",
    "print(sys.getsizeof(graph))  # Returns memory size in bytes\n"
   ]
  },
  {
   "cell_type": "markdown",
   "metadata": {},
   "source": [
    "### CD-index"
   ]
  },
  {
   "cell_type": "code",
   "execution_count": 12,
   "metadata": {},
   "outputs": [
    {
     "name": "stdout",
     "output_type": "stream",
     "text": [
      "112921856\n",
      "8123317\n",
      "_is_graph_sane:  True\n"
     ]
    }
   ],
   "source": [
    "print(graph.ecount())\n",
    "print(graph.vcount())\n",
    "print(\"_is_graph_sane: \", graph._is_graph_sane())"
   ]
  },
  {
   "cell_type": "markdown",
   "metadata": {},
   "source": [
    "35257198"
   ]
  },
  {
   "cell_type": "code",
   "execution_count": 11,
   "metadata": {},
   "outputs": [
    {
     "data": {
      "text/plain": [
       "<fast_cdindex.cdindex.Graph at 0x129449a3690>"
      ]
     },
     "execution_count": 11,
     "metadata": {},
     "output_type": "execute_result"
    }
   ],
   "source": [
    "graph"
   ]
  },
  {
   "cell_type": "code",
   "execution_count": 11,
   "metadata": {},
   "outputs": [],
   "source": [
    "graph.prepare_for_searching()"
   ]
  },
  {
   "cell_type": "code",
   "execution_count": 19,
   "metadata": {},
   "outputs": [],
   "source": [
    "from dateutil.relativedelta import relativedelta\n",
    "def get_t_delta(vertex, years):\n",
    "      vertex_datetime = pd.to_datetime(graph.timestamp(patent), unit='s')\n",
    "      future_datetime = vertex_datetime + relativedelta(years=years)\n",
    "      difference = future_datetime - vertex_datetime\n",
    "      print(difference)\n",
    "      return int(difference.total_seconds())"
   ]
  },
  {
   "cell_type": "code",
   "execution_count": 24,
   "metadata": {},
   "outputs": [
    {
     "name": "stdout",
     "output_type": "stream",
     "text": [
      "1993-11-23 00:00:00\n"
     ]
    },
    {
     "data": {
      "text/plain": [
       "Timestamp('1998-11-23 00:00:00')"
      ]
     },
     "execution_count": 24,
     "metadata": {},
     "output_type": "execute_result"
    }
   ],
   "source": [
    "vertex_datetime1 = pd.to_datetime(graph.timestamp(patent), unit='s')\n",
    "print(vertex_datetime1)\n",
    "vertex_datetime1 + relativedelta(years=5)"
   ]
  },
  {
   "cell_type": "code",
   "execution_count": 126,
   "metadata": {},
   "outputs": [
    {
     "name": "stdout",
     "output_type": "stream",
     "text": [
      "iindex:  5.0\n",
      "in_degree:  31\n",
      "out_degree:  2\n",
      "out_edges:  ['4525670', '4810965']\n",
      "in_edges:  ['5537032', '5567058', '5570013', '5648614', '5825176', '5873658', '5898301', '5899573', '5967669', '6053637', '6564635', '6924638', '6928883', '7045999', '7228951', '7265537', '7275462', '7290351', '7367714', '7429133', '7467702', '7699732', '7758459', '7766140', '7811005', '7878714', '8123013', '8172056', '8201315', '8226301', '8950944']\n",
      "CD-index_5:  0.5555555555555556\n",
      "CD-index_10:  0.4074074074074074\n"
     ]
    }
   ],
   "source": [
    "patent = \"5264790\" #\"7470642\" #\"5264790\" # \"5379515\"  #\"5264790\"   #\"5379515\" #\"5177974\" #'10000022'\n",
    "print(\"iindex: \", graph.iindex(patent, int(datetime.timedelta(days=1825).total_seconds())))\n",
    "print(\"in_degree: \", graph.in_degree(patent))\n",
    "print(\"out_degree: \", graph.out_degree(patent))\n",
    "print(\"out_edges: \", graph.out_edges(patent))\n",
    "print(\"in_edges: \", graph.in_edges(patent))\n",
    "\n",
    "print(\"CD-index_5: \", graph.cdindex(patent, int(datetime.timedelta(days=1825).total_seconds())))#get_t_delta(patent, years=5))) # 1000000000)) #int(datetime.timedelta(days=1825).total_seconds()))) # 0.5\n",
    "# print(\"CD-index_10: \", graph.cdindex(patent, get_t_delta(patent, years=10))) \n",
    "print(\"CD-index_10: \", graph.cdindex(patent, int(datetime.timedelta(days=365*10).total_seconds())))"
   ]
  },
  {
   "cell_type": "code",
   "execution_count": 80,
   "metadata": {},
   "outputs": [],
   "source": [
    "import pandas as pd\n",
    "\n",
    "# Path to the .csv.gz file\n",
    "file_path = \"C:/Users/edgar/OneDrive/Bureau/Ecole/HEC/A24/BrevetNLP/citations_data/nature_disruption_open_access/data/analytical/patentsview_analytical_df.csv.gz\"\n",
    "\n",
    "# Read the compressed CSV file\n",
    "nature_df = pd.read_csv(file_path, compression='gzip')\n",
    "\n",
    "\n",
    "print(f\"DataFrame contains {nature_df.shape[0]} rows and {nature_df.shape[1]} columns.\")\n",
    "# Display the first few rows of the DataFrame\n",
    "nature_df.head()"
   ]
  },
  {
   "cell_type": "code",
   "execution_count": 145,
   "metadata": {},
   "outputs": [
    {
     "data": {
      "text/plain": [
       "True"
      ]
     },
     "execution_count": 145,
     "metadata": {},
     "output_type": "execute_result"
    }
   ],
   "source": [
    "valid_patent_ids_set = set(map(str, valid_patent_ids)) \n",
    "valid_patent_ids==valid_patent_ids_set"
   ]
  },
  {
   "cell_type": "code",
   "execution_count": 162,
   "metadata": {},
   "outputs": [
    {
     "name": "stdout",
     "output_type": "stream",
     "text": [
      "True\n"
     ]
    }
   ],
   "source": [
    "valid_patent_ids_set = set(map(str, valid_patent_ids))  # Ensure all valid IDs are strings\n",
    "all_in_valid = set(nature_df[\"patent_id\"].astype(str)).issubset(valid_patent_ids_set)\n",
    "print(all_in_valid)\n"
   ]
  },
  {
   "cell_type": "code",
   "execution_count": 147,
   "metadata": {},
   "outputs": [],
   "source": [
    "set_nature = set(nature_df[\"patent_id\"].astype(str))"
   ]
  },
  {
   "cell_type": "code",
   "execution_count": 163,
   "metadata": {},
   "outputs": [
    {
     "data": {
      "text/plain": [
       "True"
      ]
     },
     "execution_count": 163,
     "metadata": {},
     "output_type": "execute_result"
    }
   ],
   "source": [
    "valid_patent_ids == set_nature"
   ]
  },
  {
   "cell_type": "code",
   "execution_count": 161,
   "metadata": {},
   "outputs": [
    {
     "data": {
      "text/plain": [
       "False"
      ]
     },
     "execution_count": 161,
     "metadata": {},
     "output_type": "execute_result"
    }
   ],
   "source": [
    "set_nature in valid_patent_ids"
   ]
  },
  {
   "cell_type": "code",
   "execution_count": 160,
   "metadata": {},
   "outputs": [
    {
     "name": "stdout",
     "output_type": "stream",
     "text": [
      "3912353\n",
      "3912353\n"
     ]
    }
   ],
   "source": [
    "print(len(set_nature))\n",
    "print(len(valid_patent_ids))"
   ]
  },
  {
   "cell_type": "code",
   "execution_count": 148,
   "metadata": {},
   "outputs": [
    {
     "data": {
      "text/plain": [
       "False"
      ]
     },
     "execution_count": 148,
     "metadata": {},
     "output_type": "execute_result"
    }
   ],
   "source": [
    "set_nature==valid_patent_ids"
   ]
  },
  {
   "cell_type": "code",
   "execution_count": 77,
   "metadata": {},
   "outputs": [],
   "source": [
    "sorted = nature_df.sort_values(by=\"cited_total\", ascending=True)"
   ]
  },
  {
   "cell_type": "code",
   "execution_count": 78,
   "metadata": {},
   "outputs": [
    {
     "data": {
      "text/html": [
       "<div>\n",
       "<style scoped>\n",
       "    .dataframe tbody tr th:only-of-type {\n",
       "        vertical-align: middle;\n",
       "    }\n",
       "\n",
       "    .dataframe tbody tr th {\n",
       "        vertical-align: top;\n",
       "    }\n",
       "\n",
       "    .dataframe thead th {\n",
       "        text-align: right;\n",
       "    }\n",
       "</style>\n",
       "<table border=\"1\" class=\"dataframe\">\n",
       "  <thead>\n",
       "    <tr style=\"text-align: right;\">\n",
       "      <th></th>\n",
       "      <th>patent_id</th>\n",
       "      <th>grant_year</th>\n",
       "      <th>field_nber_category_id</th>\n",
       "      <th>field_nber_subcategory_id</th>\n",
       "      <th>cited_total</th>\n",
       "      <th>cited_self</th>\n",
       "      <th>cited_self_risk</th>\n",
       "      <th>cited_age_mean</th>\n",
       "      <th>cited_age_sd</th>\n",
       "      <th>invs_crr_age_mean_t</th>\n",
       "      <th>invs_crr_npatent_ids_mean_t</th>\n",
       "      <th>cd_5</th>\n",
       "      <th>cd_10</th>\n",
       "      <th>cd_2017y</th>\n",
       "      <th>zscores_median</th>\n",
       "      <th>nsc_upatents_t</th>\n",
       "      <th>nsc_upatents_cited_total_t</th>\n",
       "      <th>nsc_upatents_cited_nentropy_t</th>\n",
       "      <th>nsc_upatents_inventors_total_t</th>\n",
       "    </tr>\n",
       "  </thead>\n",
       "  <tbody>\n",
       "    <tr>\n",
       "      <th>3653475</th>\n",
       "      <td>7851676</td>\n",
       "      <td>2010</td>\n",
       "      <td>3.0</td>\n",
       "      <td>33.0</td>\n",
       "      <td>1</td>\n",
       "      <td>0</td>\n",
       "      <td>1</td>\n",
       "      <td>6.0</td>\n",
       "      <td>0.0</td>\n",
       "      <td>5.833333</td>\n",
       "      <td>1.833333</td>\n",
       "      <td>-1.000000</td>\n",
       "      <td>NaN</td>\n",
       "      <td>-1.000000</td>\n",
       "      <td>NaN</td>\n",
       "      <td>983.0</td>\n",
       "      <td>8356.0</td>\n",
       "      <td>0.863706</td>\n",
       "      <td>2473.0</td>\n",
       "    </tr>\n",
       "    <tr>\n",
       "      <th>3580782</th>\n",
       "      <td>7470642</td>\n",
       "      <td>2008</td>\n",
       "      <td>1.0</td>\n",
       "      <td>19.0</td>\n",
       "      <td>1</td>\n",
       "      <td>0</td>\n",
       "      <td>1</td>\n",
       "      <td>5.0</td>\n",
       "      <td>0.0</td>\n",
       "      <td>7.666667</td>\n",
       "      <td>12.333333</td>\n",
       "      <td>0.000000</td>\n",
       "      <td>0.052632</td>\n",
       "      <td>0.052632</td>\n",
       "      <td>NaN</td>\n",
       "      <td>8141.0</td>\n",
       "      <td>130162.0</td>\n",
       "      <td>0.983120</td>\n",
       "      <td>23618.0</td>\n",
       "    </tr>\n",
       "    <tr>\n",
       "      <th>3474444</th>\n",
       "      <td>7371698</td>\n",
       "      <td>2008</td>\n",
       "      <td>4.0</td>\n",
       "      <td>46.0</td>\n",
       "      <td>1</td>\n",
       "      <td>1</td>\n",
       "      <td>1</td>\n",
       "      <td>3.0</td>\n",
       "      <td>0.0</td>\n",
       "      <td>2.000000</td>\n",
       "      <td>7.000000</td>\n",
       "      <td>0.200000</td>\n",
       "      <td>0.181818</td>\n",
       "      <td>0.181818</td>\n",
       "      <td>NaN</td>\n",
       "      <td>10129.0</td>\n",
       "      <td>149435.0</td>\n",
       "      <td>0.962289</td>\n",
       "      <td>28035.0</td>\n",
       "    </tr>\n",
       "    <tr>\n",
       "      <th>741725</th>\n",
       "      <td>4596184</td>\n",
       "      <td>1986</td>\n",
       "      <td>6.0</td>\n",
       "      <td>69.0</td>\n",
       "      <td>1</td>\n",
       "      <td>0</td>\n",
       "      <td>1</td>\n",
       "      <td>6.0</td>\n",
       "      <td>0.0</td>\n",
       "      <td>9.000000</td>\n",
       "      <td>42.000000</td>\n",
       "      <td>0.500000</td>\n",
       "      <td>0.500000</td>\n",
       "      <td>0.333333</td>\n",
       "      <td>NaN</td>\n",
       "      <td>6752.0</td>\n",
       "      <td>19913.0</td>\n",
       "      <td>0.991474</td>\n",
       "      <td>11111.0</td>\n",
       "    </tr>\n",
       "    <tr>\n",
       "      <th>833638</th>\n",
       "      <td>4740647</td>\n",
       "      <td>1988</td>\n",
       "      <td>1.0</td>\n",
       "      <td>19.0</td>\n",
       "      <td>1</td>\n",
       "      <td>0</td>\n",
       "      <td>1</td>\n",
       "      <td>11.0</td>\n",
       "      <td>0.0</td>\n",
       "      <td>0.500000</td>\n",
       "      <td>0.500000</td>\n",
       "      <td>0.428571</td>\n",
       "      <td>0.222222</td>\n",
       "      <td>0.187500</td>\n",
       "      <td>NaN</td>\n",
       "      <td>7668.0</td>\n",
       "      <td>36533.0</td>\n",
       "      <td>0.987685</td>\n",
       "      <td>16707.0</td>\n",
       "    </tr>\n",
       "    <tr>\n",
       "      <th>...</th>\n",
       "      <td>...</td>\n",
       "      <td>...</td>\n",
       "      <td>...</td>\n",
       "      <td>...</td>\n",
       "      <td>...</td>\n",
       "      <td>...</td>\n",
       "      <td>...</td>\n",
       "      <td>...</td>\n",
       "      <td>...</td>\n",
       "      <td>...</td>\n",
       "      <td>...</td>\n",
       "      <td>...</td>\n",
       "      <td>...</td>\n",
       "      <td>...</td>\n",
       "      <td>...</td>\n",
       "      <td>...</td>\n",
       "      <td>...</td>\n",
       "      <td>...</td>\n",
       "      <td>...</td>\n",
       "    </tr>\n",
       "    <tr>\n",
       "      <th>2227905</th>\n",
       "      <td>6211233</td>\n",
       "      <td>2001</td>\n",
       "      <td>3.0</td>\n",
       "      <td>31.0</td>\n",
       "      <td>1</td>\n",
       "      <td>0</td>\n",
       "      <td>1</td>\n",
       "      <td>4.0</td>\n",
       "      <td>0.0</td>\n",
       "      <td>21.000000</td>\n",
       "      <td>22.000000</td>\n",
       "      <td>0.750000</td>\n",
       "      <td>0.058824</td>\n",
       "      <td>0.291667</td>\n",
       "      <td>NaN</td>\n",
       "      <td>11207.0</td>\n",
       "      <td>83727.0</td>\n",
       "      <td>0.971937</td>\n",
       "      <td>35836.0</td>\n",
       "    </tr>\n",
       "    <tr>\n",
       "      <th>1515559</th>\n",
       "      <td>5469101</td>\n",
       "      <td>1995</td>\n",
       "      <td>4.0</td>\n",
       "      <td>41.0</td>\n",
       "      <td>1</td>\n",
       "      <td>0</td>\n",
       "      <td>0</td>\n",
       "      <td>2.0</td>\n",
       "      <td>0.0</td>\n",
       "      <td>0.000000</td>\n",
       "      <td>0.000000</td>\n",
       "      <td>0.400000</td>\n",
       "      <td>0.400000</td>\n",
       "      <td>0.400000</td>\n",
       "      <td>NaN</td>\n",
       "      <td>3105.0</td>\n",
       "      <td>20350.0</td>\n",
       "      <td>0.987630</td>\n",
       "      <td>6021.0</td>\n",
       "    </tr>\n",
       "    <tr>\n",
       "      <th>1515542</th>\n",
       "      <td>5453703</td>\n",
       "      <td>1995</td>\n",
       "      <td>4.0</td>\n",
       "      <td>43.0</td>\n",
       "      <td>1</td>\n",
       "      <td>0</td>\n",
       "      <td>1</td>\n",
       "      <td>6.0</td>\n",
       "      <td>0.0</td>\n",
       "      <td>6.000000</td>\n",
       "      <td>4.000000</td>\n",
       "      <td>-0.052632</td>\n",
       "      <td>0.114286</td>\n",
       "      <td>0.203390</td>\n",
       "      <td>NaN</td>\n",
       "      <td>3190.0</td>\n",
       "      <td>22339.0</td>\n",
       "      <td>0.988395</td>\n",
       "      <td>6665.0</td>\n",
       "    </tr>\n",
       "    <tr>\n",
       "      <th>2228207</th>\n",
       "      <td>6541918</td>\n",
       "      <td>2003</td>\n",
       "      <td>4.0</td>\n",
       "      <td>42.0</td>\n",
       "      <td>1</td>\n",
       "      <td>0</td>\n",
       "      <td>1</td>\n",
       "      <td>3.0</td>\n",
       "      <td>0.0</td>\n",
       "      <td>8.000000</td>\n",
       "      <td>9.000000</td>\n",
       "      <td>0.157895</td>\n",
       "      <td>0.178295</td>\n",
       "      <td>0.169591</td>\n",
       "      <td>NaN</td>\n",
       "      <td>3726.0</td>\n",
       "      <td>33146.0</td>\n",
       "      <td>0.976252</td>\n",
       "      <td>8621.0</td>\n",
       "    </tr>\n",
       "    <tr>\n",
       "      <th>2228200</th>\n",
       "      <td>6327004</td>\n",
       "      <td>2001</td>\n",
       "      <td>4.0</td>\n",
       "      <td>49.0</td>\n",
       "      <td>1</td>\n",
       "      <td>1</td>\n",
       "      <td>1</td>\n",
       "      <td>2.0</td>\n",
       "      <td>0.0</td>\n",
       "      <td>1.000000</td>\n",
       "      <td>0.500000</td>\n",
       "      <td>-0.500000</td>\n",
       "      <td>0.000000</td>\n",
       "      <td>0.010000</td>\n",
       "      <td>NaN</td>\n",
       "      <td>4109.0</td>\n",
       "      <td>40327.0</td>\n",
       "      <td>0.984207</td>\n",
       "      <td>9735.0</td>\n",
       "    </tr>\n",
       "  </tbody>\n",
       "</table>\n",
       "<p>20000 rows × 19 columns</p>\n",
       "</div>"
      ],
      "text/plain": [
       "         patent_id  grant_year  field_nber_category_id  \\\n",
       "3653475    7851676        2010                     3.0   \n",
       "3580782    7470642        2008                     1.0   \n",
       "3474444    7371698        2008                     4.0   \n",
       "741725     4596184        1986                     6.0   \n",
       "833638     4740647        1988                     1.0   \n",
       "...            ...         ...                     ...   \n",
       "2227905    6211233        2001                     3.0   \n",
       "1515559    5469101        1995                     4.0   \n",
       "1515542    5453703        1995                     4.0   \n",
       "2228207    6541918        2003                     4.0   \n",
       "2228200    6327004        2001                     4.0   \n",
       "\n",
       "         field_nber_subcategory_id  cited_total  cited_self  cited_self_risk  \\\n",
       "3653475                       33.0            1           0                1   \n",
       "3580782                       19.0            1           0                1   \n",
       "3474444                       46.0            1           1                1   \n",
       "741725                        69.0            1           0                1   \n",
       "833638                        19.0            1           0                1   \n",
       "...                            ...          ...         ...              ...   \n",
       "2227905                       31.0            1           0                1   \n",
       "1515559                       41.0            1           0                0   \n",
       "1515542                       43.0            1           0                1   \n",
       "2228207                       42.0            1           0                1   \n",
       "2228200                       49.0            1           1                1   \n",
       "\n",
       "         cited_age_mean  cited_age_sd  invs_crr_age_mean_t  \\\n",
       "3653475             6.0           0.0             5.833333   \n",
       "3580782             5.0           0.0             7.666667   \n",
       "3474444             3.0           0.0             2.000000   \n",
       "741725              6.0           0.0             9.000000   \n",
       "833638             11.0           0.0             0.500000   \n",
       "...                 ...           ...                  ...   \n",
       "2227905             4.0           0.0            21.000000   \n",
       "1515559             2.0           0.0             0.000000   \n",
       "1515542             6.0           0.0             6.000000   \n",
       "2228207             3.0           0.0             8.000000   \n",
       "2228200             2.0           0.0             1.000000   \n",
       "\n",
       "         invs_crr_npatent_ids_mean_t      cd_5     cd_10  cd_2017y  \\\n",
       "3653475                     1.833333 -1.000000       NaN -1.000000   \n",
       "3580782                    12.333333  0.000000  0.052632  0.052632   \n",
       "3474444                     7.000000  0.200000  0.181818  0.181818   \n",
       "741725                     42.000000  0.500000  0.500000  0.333333   \n",
       "833638                      0.500000  0.428571  0.222222  0.187500   \n",
       "...                              ...       ...       ...       ...   \n",
       "2227905                    22.000000  0.750000  0.058824  0.291667   \n",
       "1515559                     0.000000  0.400000  0.400000  0.400000   \n",
       "1515542                     4.000000 -0.052632  0.114286  0.203390   \n",
       "2228207                     9.000000  0.157895  0.178295  0.169591   \n",
       "2228200                     0.500000 -0.500000  0.000000  0.010000   \n",
       "\n",
       "         zscores_median  nsc_upatents_t  nsc_upatents_cited_total_t  \\\n",
       "3653475             NaN           983.0                      8356.0   \n",
       "3580782             NaN          8141.0                    130162.0   \n",
       "3474444             NaN         10129.0                    149435.0   \n",
       "741725              NaN          6752.0                     19913.0   \n",
       "833638              NaN          7668.0                     36533.0   \n",
       "...                 ...             ...                         ...   \n",
       "2227905             NaN         11207.0                     83727.0   \n",
       "1515559             NaN          3105.0                     20350.0   \n",
       "1515542             NaN          3190.0                     22339.0   \n",
       "2228207             NaN          3726.0                     33146.0   \n",
       "2228200             NaN          4109.0                     40327.0   \n",
       "\n",
       "         nsc_upatents_cited_nentropy_t  nsc_upatents_inventors_total_t  \n",
       "3653475                       0.863706                          2473.0  \n",
       "3580782                       0.983120                         23618.0  \n",
       "3474444                       0.962289                         28035.0  \n",
       "741725                        0.991474                         11111.0  \n",
       "833638                        0.987685                         16707.0  \n",
       "...                                ...                             ...  \n",
       "2227905                       0.971937                         35836.0  \n",
       "1515559                       0.987630                          6021.0  \n",
       "1515542                       0.988395                          6665.0  \n",
       "2228207                       0.976252                          8621.0  \n",
       "2228200                       0.984207                          9735.0  \n",
       "\n",
       "[20000 rows x 19 columns]"
      ]
     },
     "execution_count": 78,
     "metadata": {},
     "output_type": "execute_result"
    }
   ],
   "source": [
    "sorted[500000:520000]"
   ]
  },
  {
   "cell_type": "code",
   "execution_count": 70,
   "metadata": {},
   "outputs": [
    {
     "data": {
      "text/html": [
       "<div>\n",
       "<style scoped>\n",
       "    .dataframe tbody tr th:only-of-type {\n",
       "        vertical-align: middle;\n",
       "    }\n",
       "\n",
       "    .dataframe tbody tr th {\n",
       "        vertical-align: top;\n",
       "    }\n",
       "\n",
       "    .dataframe thead th {\n",
       "        text-align: right;\n",
       "    }\n",
       "</style>\n",
       "<table border=\"1\" class=\"dataframe\">\n",
       "  <thead>\n",
       "    <tr style=\"text-align: right;\">\n",
       "      <th></th>\n",
       "      <th>patent_id</th>\n",
       "      <th>grant_year</th>\n",
       "      <th>field_nber_category_id</th>\n",
       "      <th>field_nber_subcategory_id</th>\n",
       "      <th>cited_total</th>\n",
       "      <th>cited_self</th>\n",
       "      <th>cited_self_risk</th>\n",
       "      <th>cited_age_mean</th>\n",
       "      <th>cited_age_sd</th>\n",
       "      <th>invs_crr_age_mean_t</th>\n",
       "      <th>invs_crr_npatent_ids_mean_t</th>\n",
       "      <th>cd_5</th>\n",
       "      <th>cd_10</th>\n",
       "      <th>cd_2017y</th>\n",
       "      <th>zscores_median</th>\n",
       "      <th>nsc_upatents_t</th>\n",
       "      <th>nsc_upatents_cited_total_t</th>\n",
       "      <th>nsc_upatents_cited_nentropy_t</th>\n",
       "      <th>nsc_upatents_inventors_total_t</th>\n",
       "    </tr>\n",
       "  </thead>\n",
       "  <tbody>\n",
       "  </tbody>\n",
       "</table>\n",
       "</div>"
      ],
      "text/plain": [
       "Empty DataFrame\n",
       "Columns: [patent_id, grant_year, field_nber_category_id, field_nber_subcategory_id, cited_total, cited_self, cited_self_risk, cited_age_mean, cited_age_sd, invs_crr_age_mean_t, invs_crr_npatent_ids_mean_t, cd_5, cd_10, cd_2017y, zscores_median, nsc_upatents_t, nsc_upatents_cited_total_t, nsc_upatents_cited_nentropy_t, nsc_upatents_inventors_total_t]\n",
       "Index: []"
      ]
     },
     "execution_count": 70,
     "metadata": {},
     "output_type": "execute_result"
    }
   ],
   "source": [
    "nature_df[nature_df[\"patent_id\"]==10000022]"
   ]
  },
  {
   "cell_type": "markdown",
   "metadata": {},
   "source": [
    "0.006024\n",
    "0.021978\n",
    "0.020330\n",
    "Problème de matching...\n",
    "\n",
    "\n",
    "0.555556\t0.366667\t0.397436"
   ]
  },
  {
   "cell_type": "code",
   "execution_count": 108,
   "metadata": {},
   "outputs": [
    {
     "data": {
      "text/plain": [
       "1825"
      ]
     },
     "execution_count": 108,
     "metadata": {},
     "output_type": "execute_result"
    }
   ],
   "source": [
    "365*5"
   ]
  },
  {
   "cell_type": "markdown",
   "metadata": {},
   "source": [
    "### CD-index Funk"
   ]
  },
  {
   "cell_type": "code",
   "execution_count": 25,
   "metadata": {},
   "outputs": [
    {
     "name": "stdout",
     "output_type": "stream",
     "text": [
      "Collecting git+https://github.com/russellfunk/cdindex.git\n",
      "  Cloning https://github.com/russellfunk/cdindex.git to c:\\users\\edgar\\appdata\\local\\temp\\pip-req-build-b85vhg60\n",
      "  Resolved https://github.com/russellfunk/cdindex.git to commit 4eece64c892fdb2f161b95c76ca0770ed5c97155\n",
      "  Preparing metadata (setup.py): started\n",
      "  Preparing metadata (setup.py): finished with status 'done'\n",
      "Requirement already satisfied: future in c:\\users\\edgar\\onedrive\\bureau\\ecole\\hec\\a24\\brevetnlp\\.conda\\lib\\site-packages (from cdindex==1.0.20) (1.0.0)\n",
      "Building wheels for collected packages: cdindex\n",
      "  Building wheel for cdindex (setup.py): started\n",
      "  Building wheel for cdindex (setup.py): finished with status 'done'\n",
      "  Created wheel for cdindex: filename=cdindex-1.0.20-cp311-cp311-win_amd64.whl size=26349 sha256=6c4104f7cf924db9f75a0cad30aa4898f79b3284720d3d50bdb6cc39de916caa\n",
      "  Stored in directory: C:\\Users\\edgar\\AppData\\Local\\Temp\\pip-ephem-wheel-cache-nl7w9ltx\\wheels\\bc\\fa\\4c\\9a580e1925fe60b661077936d5886bce4c9ec3d09672749e92\n",
      "Successfully built cdindex\n",
      "Installing collected packages: cdindex\n",
      "Successfully installed cdindex-1.0.20\n",
      "Note: you may need to restart the kernel to use updated packages.\n"
     ]
    },
    {
     "name": "stderr",
     "output_type": "stream",
     "text": [
      "  Running command git clone --filter=blob:none --quiet https://github.com/russellfunk/cdindex.git 'C:\\Users\\edgar\\AppData\\Local\\Temp\\pip-req-build-b85vhg60'\n"
     ]
    }
   ],
   "source": [
    "# pip install git+https://github.com/russellfunk/cdindex.git"
   ]
  },
  {
   "cell_type": "code",
   "execution_count": 129,
   "metadata": {},
   "outputs": [],
   "source": [
    "import cdindex"
   ]
  },
  {
   "cell_type": "code",
   "execution_count": 7,
   "metadata": {},
   "outputs": [],
   "source": [
    "graph_f = cdindex.Graph()"
   ]
  },
  {
   "cell_type": "code",
   "execution_count": 8,
   "metadata": {},
   "outputs": [
    {
     "data": {
      "text/plain": [
       "cdindex.cdindex.Graph"
      ]
     },
     "execution_count": 8,
     "metadata": {},
     "output_type": "execute_result"
    }
   ],
   "source": [
    "type(graph_f)"
   ]
  },
  {
   "cell_type": "code",
   "execution_count": 8,
   "metadata": {},
   "outputs": [
    {
     "name": "stderr",
     "output_type": "stream",
     "text": [
      "100%|██████████| 3912353/3912353 [24:14<00:00, 2689.89it/s]\n"
     ]
    }
   ],
   "source": [
    "# add vertices\n",
    "for vertex in tqdm(pyvertices, mininterval=1.0):\n",
    "    graph_f.add_vertex(vertex[\"name\"], int(datetime.datetime.timestamp(vertex[\"time\"])))"
   ]
  },
  {
   "cell_type": "code",
   "execution_count": 9,
   "metadata": {},
   "outputs": [],
   "source": [
    "del pyvertices\n",
    "valid_patent_ids = set(patent_df[\"patent_id\"])\n",
    "del(patent_df)"
   ]
  },
  {
   "cell_type": "code",
   "execution_count": 10,
   "metadata": {},
   "outputs": [
    {
     "name": "stdout",
     "output_type": "stream",
     "text": [
      "Processing rows 0 to 10000000\n"
     ]
    },
    {
     "name": "stderr",
     "output_type": "stream",
     "text": [
      "0it [00:00, ?it/s]\n"
     ]
    },
    {
     "name": "stdout",
     "output_type": "stream",
     "text": [
      "Processing rows 10000000 to 20000000\n"
     ]
    },
    {
     "name": "stderr",
     "output_type": "stream",
     "text": [
      "0it [00:00, ?it/s]\n"
     ]
    },
    {
     "name": "stdout",
     "output_type": "stream",
     "text": [
      "Processing rows 20000000 to 30000000\n"
     ]
    },
    {
     "name": "stderr",
     "output_type": "stream",
     "text": [
      "0it [00:00, ?it/s]\n"
     ]
    },
    {
     "name": "stdout",
     "output_type": "stream",
     "text": [
      "Processing rows 30000000 to 40000000\n"
     ]
    },
    {
     "name": "stderr",
     "output_type": "stream",
     "text": [
      "0it [00:00, ?it/s]\n"
     ]
    },
    {
     "name": "stdout",
     "output_type": "stream",
     "text": [
      "Processing rows 40000000 to 50000000\n"
     ]
    },
    {
     "name": "stderr",
     "output_type": "stream",
     "text": [
      "100%|██████████| 3703157/3703157 [00:12<00:00, 293256.76it/s]\n"
     ]
    },
    {
     "name": "stdout",
     "output_type": "stream",
     "text": [
      "Processing rows 50000000 to 60000000\n"
     ]
    },
    {
     "name": "stderr",
     "output_type": "stream",
     "text": [
      "100%|██████████| 7974806/7974806 [00:45<00:00, 175853.51it/s]\n"
     ]
    },
    {
     "name": "stdout",
     "output_type": "stream",
     "text": [
      "Processing rows 60000000 to 70000000\n"
     ]
    },
    {
     "name": "stderr",
     "output_type": "stream",
     "text": [
      "100%|██████████| 8651886/8651886 [00:57<00:00, 149762.84it/s]\n"
     ]
    },
    {
     "name": "stdout",
     "output_type": "stream",
     "text": [
      "Processing rows 70000000 to 80000000\n"
     ]
    },
    {
     "name": "stderr",
     "output_type": "stream",
     "text": [
      "100%|██████████| 9136643/9136643 [01:46<00:00, 85602.45it/s] \n"
     ]
    },
    {
     "name": "stdout",
     "output_type": "stream",
     "text": [
      "Processing rows 80000000 to 90000000\n"
     ]
    },
    {
     "name": "stderr",
     "output_type": "stream",
     "text": [
      "100%|██████████| 5695773/5695773 [01:31<00:00, 61983.03it/s]\n"
     ]
    },
    {
     "name": "stdout",
     "output_type": "stream",
     "text": [
      "Processing rows 90000000 to 100000000\n"
     ]
    },
    {
     "name": "stderr",
     "output_type": "stream",
     "text": [
      "0it [00:00, ?it/s]\n"
     ]
    },
    {
     "name": "stdout",
     "output_type": "stream",
     "text": [
      "Processing rows 100000000 to 110000000\n"
     ]
    },
    {
     "name": "stderr",
     "output_type": "stream",
     "text": [
      "0it [00:00, ?it/s]\n"
     ]
    },
    {
     "name": "stdout",
     "output_type": "stream",
     "text": [
      "Processing rows 110000000 to 120000000\n"
     ]
    },
    {
     "name": "stderr",
     "output_type": "stream",
     "text": [
      "0it [00:00, ?it/s]\n",
      "C:\\Users\\edgar\\AppData\\Local\\Temp\\ipykernel_26500\\2158208558.py:5: DtypeWarning: Columns (0) have mixed types. Specify dtype option on import or set low_memory=False.\n",
      "  for chunk in pd.read_csv(grant_file, sep='\\t', usecols=[\"patent_id\", \"citation_patent_id\"], chunksize=chunksize, on_bad_lines='skip'):\n"
     ]
    },
    {
     "name": "stdout",
     "output_type": "stream",
     "text": [
      "Processing rows 120000000 to 130000000\n"
     ]
    },
    {
     "name": "stderr",
     "output_type": "stream",
     "text": [
      "0it [00:00, ?it/s]\n"
     ]
    },
    {
     "name": "stdout",
     "output_type": "stream",
     "text": [
      "Processing rows 130000000 to 140000000\n"
     ]
    },
    {
     "name": "stderr",
     "output_type": "stream",
     "text": [
      "0it [00:00, ?it/s]\n"
     ]
    },
    {
     "name": "stdout",
     "output_type": "stream",
     "text": [
      "Processing rows 140000000 to 144025878\n"
     ]
    },
    {
     "name": "stderr",
     "output_type": "stream",
     "text": [
      "0it [00:00, ?it/s]"
     ]
    },
    {
     "name": "stdout",
     "output_type": "stream",
     "text": [
      "Finished processing 144025878 rows.\n"
     ]
    },
    {
     "name": "stderr",
     "output_type": "stream",
     "text": [
      "\n"
     ]
    }
   ],
   "source": [
    "chunksize = 10_000_000  # Read 10 million rows at a time\n",
    "total_rows = 0  # Counter to track progress\n",
    "grant_file= \"C:/Users/edgar/OneDrive/Bureau/Ecole/HEC/A24/BrevetNLP/citations_data/data/g_us_patent_citation.tsv\"\n",
    "\n",
    "for chunk in pd.read_csv(grant_file, sep='\\t', usecols=[\"patent_id\", \"citation_patent_id\"], chunksize=chunksize, on_bad_lines='skip'):\n",
    "    print(f\"Processing rows {total_rows} to {total_rows + len(chunk)}\")\n",
    "    \n",
    "    # Convert to string if needed\n",
    "    chunk[\"patent_id\"] = chunk[\"patent_id\"].astype(str)\n",
    "    chunk[\"citation_patent_id\"] = chunk[\"citation_patent_id\"].astype(str)\n",
    "\n",
    "    filtered_df = chunk[chunk[\"patent_id\"].isin(valid_patent_ids) & chunk[\"citation_patent_id\"].isin(valid_patent_ids)]\n",
    "    filtered_df=filtered_df.drop_duplicates()\n",
    "    \n",
    "    pyedges = filtered_df.rename(columns={'patent_id': 'source', 'citation_patent_id': 'target'}) \\\n",
    "            .astype(str) \\\n",
    "            .to_dict(orient='records')\n",
    "    \n",
    "    # add edges\n",
    "    for edge in tqdm(pyedges, mininterval=1.0):\n",
    "        graph_f.add_edge(edge[\"source\"], edge[\"target\"])\n",
    "\n",
    "\n",
    "    total_rows += len(chunk)\n",
    "    \n",
    "    # Optional: Save processed chunk to a new file\n",
    "    # chunk.to_csv(\"output_file.tsv\", mode='a', sep='\\t', index=False, header=(total_rows == 0))  # Append mode\n",
    "\n",
    "print(f\"Finished processing {total_rows} rows.\")\n",
    "del(chunk)\n",
    "del filtered_df\n",
    "del pyedges\n",
    "# 22 min"
   ]
  },
  {
   "cell_type": "code",
   "execution_count": 15,
   "metadata": {},
   "outputs": [],
   "source": [
    "from dateutil.relativedelta import relativedelta"
   ]
  },
  {
   "cell_type": "code",
   "execution_count": 27,
   "metadata": {},
   "outputs": [],
   "source": [
    "def get_t_delta(vertex, years):\n",
    "      vertex_datetime = cdindex.datetime_from_timestamp(graph_f.timestamp(vertex))\n",
    "      print(\"     vertex date:\", vertex_datetime)\n",
    "      future_datetime = vertex_datetime + relativedelta(years=years)\n",
    "      print(\"     future date:\", future_datetime)\n",
    "      difference = future_datetime - vertex_datetime\n",
    "      print(\"     difference:\", difference)\n",
    "      return int(difference.total_seconds())"
   ]
  },
  {
   "cell_type": "code",
   "execution_count": 77,
   "metadata": {},
   "outputs": [
    {
     "name": "stdout",
     "output_type": "stream",
     "text": [
      "     vertex date: 1993-11-23 05:00:00\n",
      "     future date: 2003-11-23 05:00:00\n",
      "     difference: 3652 days, 0:00:00\n"
     ]
    },
    {
     "data": {
      "text/plain": [
       "315532800"
      ]
     },
     "execution_count": 77,
     "metadata": {},
     "output_type": "execute_result"
    }
   ],
   "source": [
    "get_t_delta(vertex=patent, years=10)"
   ]
  },
  {
   "cell_type": "code",
   "execution_count": 82,
   "metadata": {},
   "outputs": [
    {
     "name": "stdout",
     "output_type": "stream",
     "text": [
      "iindex:  5.0\n",
      "in_degree:  25\n",
      "out_degree:  2\n",
      "out_edges:  ['4525670', '4810965']\n",
      "in_edges:  ['5537032', '5567058', '5570013', '5648614', '5825176', '5873658', '5898301', '5899573', '5967669', '6053637', '6564635', '6924638', '6928883', '7045999', '7228951', '7265537', '7275462', '7290351', '7367714', '7429133', '7467702', '7699732', '7758459', '7766140', '7811005']\n",
      "     vertex date: 1993-11-23 05:00:00\n",
      "     future date: 1998-11-23 05:00:00\n",
      "     difference: 1826 days, 0:00:00\n",
      "CD-index_5:  0.5555555555555556\n",
      "CD-index_10:  0.4098360655737705\n"
     ]
    }
   ],
   "source": [
    "patent = \"5264790\" #\"5264790\"   #\"5379515\" #\"5177974\" #'10000022'\n",
    "print(\"iindex: \", graph_f.iindex(patent, int(datetime.timedelta(days=1825).total_seconds())))\n",
    "print(\"in_degree: \", graph_f.in_degree(patent))\n",
    "print(\"out_degree: \", graph_f.out_degree(patent))\n",
    "print(\"out_edges: \", graph_f.out_edges(patent))\n",
    "print(\"in_edges: \", graph_f.in_edges(patent))\n",
    "\n",
    "print(\"CD-index_5: \", graph_f.cdindex(patent, get_t_delta(vertex=patent, years=5)))#int(datetime.timedelta(days=1825).total_seconds()))) # 1000000000)) #int(datetime.timedelta(days=1825).total_seconds()))) # 0.5\n",
    "print(\"CD-index_10: \", graph_f.cdindex(patent, 3155250000)) #int(datetime.timedelta(days=1825*2).total_seconds()))) "
   ]
  },
  {
   "cell_type": "code",
   "execution_count": null,
   "metadata": {},
   "outputs": [],
   "source": []
  },
  {
   "cell_type": "markdown",
   "metadata": {},
   "source": [
    "## CD index implémentation"
   ]
  },
  {
   "cell_type": "code",
   "execution_count": 40,
   "metadata": {},
   "outputs": [
    {
     "data": {
      "text/plain": [
       "Timestamp('1992-01-01 00:00:00')"
      ]
     },
     "execution_count": 40,
     "metadata": {},
     "output_type": "execute_result"
    }
   ],
   "source": [
    "pd.Timestamp(datetime.datetime(1992, 1, 1))"
   ]
  },
  {
   "cell_type": "code",
   "execution_count": 127,
   "metadata": {},
   "outputs": [],
   "source": [
    "# dummy vertices for python module tests\n",
    "pyvertices= [{\"name\": \"0Z\", \"time\": pd.Timestamp(datetime.datetime(1992, 1, 1))},\n",
    "                 {\"name\": \"1Z\", \"time\": pd.Timestamp(datetime.datetime(1992, 1, 1))},\n",
    "                 {\"name\": \"2Z\", \"time\": pd.Timestamp(datetime.datetime(1993, 1, 1))},\n",
    "                 {\"name\": \"3Z\", \"time\": pd.Timestamp(datetime.datetime(1993, 1, 1))},\n",
    "                 {\"name\": \"4Z\", \"time\": pd.Timestamp(datetime.datetime(1995, 1, 1))},\n",
    "                 {\"name\": \"5Z\", \"time\": pd.Timestamp(datetime.datetime(1997, 1, 1))},\n",
    "                 {\"name\": \"6Z\", \"time\": pd.Timestamp(datetime.datetime(1998, 1, 1))},\n",
    "                 {\"name\": \"7Z\", \"time\": pd.Timestamp(datetime.datetime(1999, 1, 1))},\n",
    "                 {\"name\": \"8Z\", \"time\": pd.Timestamp(datetime.datetime(1999, 1, 1))},\n",
    "                 {\"name\": \"9Z\", \"time\": pd.Timestamp(datetime.datetime(1998, 1, 1))},\n",
    "                 {\"name\": \"10Z\", \"time\": pd.Timestamp(datetime.datetime(1997, 1, 1))}]\n",
    "\n",
    "pyedges = [{\"source\": \"4Z\", \"target\": \"2Z\"},\n",
    "               {\"source\": \"4Z\", \"target\": \"0Z\"},\n",
    "               {\"source\": \"4Z\", \"target\": \"1Z\"},\n",
    "               {\"source\": \"4Z\", \"target\": \"3Z\"},\n",
    "               {\"source\": \"5Z\", \"target\": \"2Z\"},\n",
    "               {\"source\": \"6Z\", \"target\": \"2Z\"},\n",
    "               {\"source\": \"6Z\", \"target\": \"4Z\"},\n",
    "               {\"source\": \"7Z\", \"target\": \"4Z\"},\n",
    "               {\"source\": \"8Z\", \"target\": \"4Z\"},\n",
    "               {\"source\": \"9Z\", \"target\": \"4Z\"},\n",
    "               {\"source\": \"9Z\", \"target\": \"1Z\"},\n",
    "               {\"source\": \"9Z\", \"target\": \"3Z\"},\n",
    "               {\"source\": \"10Z\", \"target\": \"4Z\"}]"
   ]
  },
  {
   "cell_type": "code",
   "execution_count": 97,
   "metadata": {},
   "outputs": [
    {
     "data": {
      "text/plain": [
       "[{'name': '0Z', 'time': Timestamp('1992-01-01 00:00:00')},\n",
       " {'name': '1Z', 'time': Timestamp('1992-01-01 00:00:00')},\n",
       " {'name': '2Z', 'time': Timestamp('1993-01-01 00:00:00')},\n",
       " {'name': '3Z', 'time': Timestamp('1993-01-01 00:00:00')},\n",
       " {'name': '4Z', 'time': Timestamp('1995-01-01 00:00:00')},\n",
       " {'name': '5Z', 'time': Timestamp('1997-01-01 00:00:00')},\n",
       " {'name': '6Z', 'time': Timestamp('1998-01-01 00:00:00')},\n",
       " {'name': '7Z', 'time': Timestamp('1999-01-01 00:00:00')},\n",
       " {'name': '8Z', 'time': Timestamp('1999-01-01 00:00:00')},\n",
       " {'name': '9Z', 'time': Timestamp('1998-01-01 00:00:00')},\n",
       " {'name': '10Z', 'time': Timestamp('1997-01-01 00:00:00')}]"
      ]
     },
     "execution_count": 97,
     "metadata": {},
     "output_type": "execute_result"
    }
   ],
   "source": [
    "pyvertices"
   ]
  },
  {
   "cell_type": "code",
   "execution_count": null,
   "metadata": {},
   "outputs": [],
   "source": [
    "# pyedges"
   ]
  },
  {
   "cell_type": "code",
   "execution_count": 130,
   "metadata": {},
   "outputs": [],
   "source": [
    "# create graph\n",
    "graph2 = cdindex.Graph()"
   ]
  },
  {
   "cell_type": "code",
   "execution_count": 131,
   "metadata": {},
   "outputs": [
    {
     "data": {
      "text/plain": [
       "cdindex.cdindex.Graph"
      ]
     },
     "execution_count": 131,
     "metadata": {},
     "output_type": "execute_result"
    }
   ],
   "source": [
    "type(graph2)"
   ]
  },
  {
   "cell_type": "code",
   "execution_count": 132,
   "metadata": {},
   "outputs": [],
   "source": [
    "# add vertices\n",
    "for vertex in pyvertices:\n",
    "    graph2.add_vertex(vertex[\"name\"], int(datetime.datetime.timestamp(vertex[\"time\"])))"
   ]
  },
  {
   "cell_type": "code",
   "execution_count": 133,
   "metadata": {},
   "outputs": [],
   "source": [
    "# add edges\n",
    "for edge in pyedges:\n",
    "    graph2.add_edge(edge[\"source\"], edge[\"target\"])"
   ]
  },
  {
   "cell_type": "code",
   "execution_count": 135,
   "metadata": {},
   "outputs": [
    {
     "data": {
      "text/plain": [
       "0.16666666666666666"
      ]
     },
     "execution_count": 135,
     "metadata": {},
     "output_type": "execute_result"
    }
   ],
   "source": [
    "graph2.cdindex(\"4Z\", int(datetime.timedelta(days=1825).total_seconds()))"
   ]
  },
  {
   "cell_type": "code",
   "execution_count": 136,
   "metadata": {},
   "outputs": [
    {
     "data": {
      "text/plain": [
       "0.8333333333333333"
      ]
     },
     "execution_count": 136,
     "metadata": {},
     "output_type": "execute_result"
    }
   ],
   "source": [
    "graph2.mcdindex(\"4Z\", int(datetime.timedelta(days=1825).total_seconds()))"
   ]
  },
  {
   "cell_type": "markdown",
   "metadata": {},
   "source": [
    "## Code from text"
   ]
  },
  {
   "cell_type": "code",
   "execution_count": 4,
   "metadata": {},
   "outputs": [],
   "source": [
    "# import tarfile\n",
    "# import os\n",
    "\n",
    "# # Path to the tar.gz file\n",
    "# tar_path = r\"C:/Users/edgar/OneDrive/Bureau/Ecole/HEC/A24/BrevetNLP/citations_data/nature_disruption_open_access.tar.gz\"\n",
    "# tar_path = r\"C:/Users/edgar/OneDrive/Bureau/Ecole/HEC/A24/BrevetNLP/citations_data/nature_disruption_open_access.tar.gz\"\n",
    "\n",
    "# # Directory where the files will be extracted\n",
    "# extract_to = r\"C:/Users/edgar/OneDrive/Bureau/Ecole/HEC/A24/BrevetNLP/citations_data\"\n",
    "\n",
    "# # Ensure the output directory exists\n",
    "# os.makedirs(extract_to, exist_ok=True)\n",
    "\n",
    "# # Open and extract the tar.gz file\n",
    "# with tarfile.open(tar_path, \"r:gz\") as tar:\n",
    "#     tar.extractall(path=extract_to)\n",
    "\n",
    "# print(f\"Files have been extracted to {extract_to}\")\n"
   ]
  },
  {
   "cell_type": "code",
   "execution_count": 14,
   "metadata": {},
   "outputs": [
    {
     "data": {
      "text/plain": [
       "35257198"
      ]
     },
     "execution_count": 14,
     "metadata": {},
     "output_type": "execute_result"
    }
   ],
   "source": [
    "sum(nature_df[\"cited_total\"])"
   ]
  },
  {
   "cell_type": "code",
   "execution_count": 6,
   "metadata": {},
   "outputs": [
    {
     "name": "stdout",
     "output_type": "stream",
     "text": [
      "{1976, 1977, 1978, 1979, 1980, 1981, 1982, 1983, 1984, 1985, 1986, 1987, 1988, 1989, 1990, 1991, 1992, 1993, 1994, 1995, 1996, 1997, 1998, 1999, 2000, 2001, 2002, 2003, 2004, 2005, 2006, 2007, 2008, 2009, 2010}\n"
     ]
    }
   ],
   "source": [
    "print(set(nature_df[\"grant_year\"])) # 1976-2010"
   ]
  },
  {
   "cell_type": "code",
   "execution_count": 7,
   "metadata": {},
   "outputs": [
    {
     "data": {
      "text/html": [
       "<div>\n",
       "<style scoped>\n",
       "    .dataframe tbody tr th:only-of-type {\n",
       "        vertical-align: middle;\n",
       "    }\n",
       "\n",
       "    .dataframe tbody tr th {\n",
       "        vertical-align: top;\n",
       "    }\n",
       "\n",
       "    .dataframe thead th {\n",
       "        text-align: right;\n",
       "    }\n",
       "</style>\n",
       "<table border=\"1\" class=\"dataframe\">\n",
       "  <thead>\n",
       "    <tr style=\"text-align: right;\">\n",
       "      <th></th>\n",
       "      <th>patent_id</th>\n",
       "      <th>grant_year</th>\n",
       "      <th>field_nber_category_id</th>\n",
       "      <th>field_nber_subcategory_id</th>\n",
       "      <th>cited_total</th>\n",
       "      <th>cited_self</th>\n",
       "      <th>cited_self_risk</th>\n",
       "      <th>cited_age_mean</th>\n",
       "      <th>cited_age_sd</th>\n",
       "      <th>invs_crr_age_mean_t</th>\n",
       "      <th>invs_crr_npatent_ids_mean_t</th>\n",
       "      <th>cd_5</th>\n",
       "      <th>cd_10</th>\n",
       "      <th>cd_2017y</th>\n",
       "      <th>zscores_median</th>\n",
       "      <th>nsc_upatents_t</th>\n",
       "      <th>nsc_upatents_cited_total_t</th>\n",
       "      <th>nsc_upatents_cited_nentropy_t</th>\n",
       "      <th>nsc_upatents_inventors_total_t</th>\n",
       "    </tr>\n",
       "  </thead>\n",
       "  <tbody>\n",
       "    <tr>\n",
       "      <th>49183</th>\n",
       "      <td>3930271</td>\n",
       "      <td>1976</td>\n",
       "      <td>NaN</td>\n",
       "      <td>NaN</td>\n",
       "      <td>0</td>\n",
       "      <td>0</td>\n",
       "      <td>0</td>\n",
       "      <td>NaN</td>\n",
       "      <td>NaN</td>\n",
       "      <td>NaN</td>\n",
       "      <td>NaN</td>\n",
       "      <td>NaN</td>\n",
       "      <td>NaN</td>\n",
       "      <td>1.0</td>\n",
       "      <td>NaN</td>\n",
       "      <td>NaN</td>\n",
       "      <td>NaN</td>\n",
       "      <td>NaN</td>\n",
       "      <td>NaN</td>\n",
       "    </tr>\n",
       "  </tbody>\n",
       "</table>\n",
       "</div>"
      ],
      "text/plain": [
       "       patent_id  grant_year  field_nber_category_id  \\\n",
       "49183    3930271        1976                     NaN   \n",
       "\n",
       "       field_nber_subcategory_id  cited_total  cited_self  cited_self_risk  \\\n",
       "49183                        NaN            0           0                0   \n",
       "\n",
       "       cited_age_mean  cited_age_sd  invs_crr_age_mean_t  \\\n",
       "49183             NaN           NaN                  NaN   \n",
       "\n",
       "       invs_crr_npatent_ids_mean_t  cd_5  cd_10  cd_2017y  zscores_median  \\\n",
       "49183                          NaN   NaN    NaN       1.0             NaN   \n",
       "\n",
       "       nsc_upatents_t  nsc_upatents_cited_total_t  \\\n",
       "49183             NaN                         NaN   \n",
       "\n",
       "       nsc_upatents_cited_nentropy_t  nsc_upatents_inventors_total_t  \n",
       "49183                            NaN                             NaN  "
      ]
     },
     "execution_count": 7,
     "metadata": {},
     "output_type": "execute_result"
    }
   ],
   "source": [
    "nature_df[nature_df[\"patent_id\"]==3930271]"
   ]
  },
  {
   "cell_type": "code",
   "execution_count": 43,
   "metadata": {},
   "outputs": [],
   "source": [
    "# # Path to the .csv.gz file\n",
    "# file_path = \"C:/Users/edgar/OneDrive/Bureau/Ecole/HEC/A24/BrevetNLP/citations_data/nature_disruption_open_access/data/analytical/unified_cdindex_df.csv.gz\"\n",
    "\n",
    "# # Read the compressed CSV file\n",
    "# cdInd_bm_df = pd.read_csv(file_path, compression='gzip')\n",
    "\n",
    "\n",
    "# print(f\"DataFrame contains {nature_df.shape[0]} rows and {nature_df.shape[1]} columns.\")\n",
    "# # Display the first few rows of the DataFrame\n",
    "# cdInd_bm_df.head()"
   ]
  },
  {
   "cell_type": "markdown",
   "metadata": {},
   "source": [
    "## Patents View "
   ]
  },
  {
   "cell_type": "code",
   "execution_count": 2,
   "metadata": {},
   "outputs": [
    {
     "name": "stderr",
     "output_type": "stream",
     "text": [
      "C:\\Users\\edgar\\AppData\\Local\\Temp\\ipykernel_21928\\3931349859.py:5: DtypeWarning: Columns (0) have mixed types. Specify dtype option on import or set low_memory=False.\n",
      "  pV_df = pd.read_csv(file_path, sep='\\t', on_bad_lines='skip')\n"
     ]
    },
    {
     "name": "stdout",
     "output_type": "stream",
     "text": [
      "(8980130, 8)\n"
     ]
    },
    {
     "data": {
      "text/html": [
       "<div>\n",
       "<style scoped>\n",
       "    .dataframe tbody tr th:only-of-type {\n",
       "        vertical-align: middle;\n",
       "    }\n",
       "\n",
       "    .dataframe tbody tr th {\n",
       "        vertical-align: top;\n",
       "    }\n",
       "\n",
       "    .dataframe thead th {\n",
       "        text-align: right;\n",
       "    }\n",
       "</style>\n",
       "<table border=\"1\" class=\"dataframe\">\n",
       "  <thead>\n",
       "    <tr style=\"text-align: right;\">\n",
       "      <th></th>\n",
       "      <th>patent_id</th>\n",
       "      <th>patent_type</th>\n",
       "      <th>patent_date</th>\n",
       "      <th>patent_title</th>\n",
       "      <th>wipo_kind</th>\n",
       "      <th>num_claims</th>\n",
       "      <th>withdrawn</th>\n",
       "      <th>filename</th>\n",
       "    </tr>\n",
       "  </thead>\n",
       "  <tbody>\n",
       "    <tr>\n",
       "      <th>0</th>\n",
       "      <td>10000000</td>\n",
       "      <td>utility</td>\n",
       "      <td>2018-06-19</td>\n",
       "      <td>Coherent LADAR using intra-pixel quadrature de...</td>\n",
       "      <td>B2</td>\n",
       "      <td>20</td>\n",
       "      <td>0</td>\n",
       "      <td>ipg180619.xml</td>\n",
       "    </tr>\n",
       "    <tr>\n",
       "      <th>1</th>\n",
       "      <td>10000001</td>\n",
       "      <td>utility</td>\n",
       "      <td>2018-06-19</td>\n",
       "      <td>Injection molding machine and mold thickness c...</td>\n",
       "      <td>B2</td>\n",
       "      <td>12</td>\n",
       "      <td>0</td>\n",
       "      <td>ipg180619.xml</td>\n",
       "    </tr>\n",
       "    <tr>\n",
       "      <th>2</th>\n",
       "      <td>10000002</td>\n",
       "      <td>utility</td>\n",
       "      <td>2018-06-19</td>\n",
       "      <td>Method for manufacturing polymer film and co-e...</td>\n",
       "      <td>B2</td>\n",
       "      <td>9</td>\n",
       "      <td>0</td>\n",
       "      <td>ipg180619.xml</td>\n",
       "    </tr>\n",
       "    <tr>\n",
       "      <th>3</th>\n",
       "      <td>10000003</td>\n",
       "      <td>utility</td>\n",
       "      <td>2018-06-19</td>\n",
       "      <td>Method for producing a container from a thermo...</td>\n",
       "      <td>B2</td>\n",
       "      <td>18</td>\n",
       "      <td>0</td>\n",
       "      <td>ipg180619.xml</td>\n",
       "    </tr>\n",
       "    <tr>\n",
       "      <th>4</th>\n",
       "      <td>10000004</td>\n",
       "      <td>utility</td>\n",
       "      <td>2018-06-19</td>\n",
       "      <td>Process of obtaining a double-oriented film, c...</td>\n",
       "      <td>B2</td>\n",
       "      <td>6</td>\n",
       "      <td>0</td>\n",
       "      <td>ipg180619.xml</td>\n",
       "    </tr>\n",
       "  </tbody>\n",
       "</table>\n",
       "</div>"
      ],
      "text/plain": [
       "  patent_id patent_type patent_date  \\\n",
       "0  10000000     utility  2018-06-19   \n",
       "1  10000001     utility  2018-06-19   \n",
       "2  10000002     utility  2018-06-19   \n",
       "3  10000003     utility  2018-06-19   \n",
       "4  10000004     utility  2018-06-19   \n",
       "\n",
       "                                        patent_title wipo_kind  num_claims  \\\n",
       "0  Coherent LADAR using intra-pixel quadrature de...        B2          20   \n",
       "1  Injection molding machine and mold thickness c...        B2          12   \n",
       "2  Method for manufacturing polymer film and co-e...        B2           9   \n",
       "3  Method for producing a container from a thermo...        B2          18   \n",
       "4  Process of obtaining a double-oriented film, c...        B2           6   \n",
       "\n",
       "   withdrawn       filename  \n",
       "0          0  ipg180619.xml  \n",
       "1          0  ipg180619.xml  \n",
       "2          0  ipg180619.xml  \n",
       "3          0  ipg180619.xml  \n",
       "4          0  ipg180619.xml  "
      ]
     },
     "execution_count": 2,
     "metadata": {},
     "output_type": "execute_result"
    }
   ],
   "source": [
    "# Path to the .csv.gz file\n",
    "file_path = \"C:/Users/edgar/OneDrive/Bureau/Ecole/HEC/A24/BrevetNLP/citations_data/data/g_patent.tsv\"\n",
    "\n",
    "# Load the TSV file into a DataFrame\n",
    "pV_df = pd.read_csv(file_path, sep='\\t', on_bad_lines='skip')\n",
    "\n",
    "# Display the first few rows of the DataFrame\n",
    "print(pV_df.shape)\n",
    "pV_df.head()"
   ]
  },
  {
   "cell_type": "code",
   "execution_count": 3,
   "metadata": {},
   "outputs": [
    {
     "data": {
      "text/plain": [
       "(3912382, 8)"
      ]
     },
     "execution_count": 3,
     "metadata": {},
     "output_type": "execute_result"
    }
   ],
   "source": [
    "pV_df[\"patent_date\"] = pd.to_datetime(pV_df[\"patent_date\"])\n",
    "\n",
    "# Filter rows where the year is between 1976 and 2010\n",
    "filtered_df = pV_df[(pV_df[\"patent_date\"].dt.year >= 1976) & (pV_df[\"patent_date\"].dt.year <= 2010) & (pV_df[\"patent_type\"] == \"utility\")]\n",
    "filtered_df.shape"
   ]
  },
  {
   "cell_type": "code",
   "execution_count": 4,
   "metadata": {},
   "outputs": [
    {
     "name": "stdout",
     "output_type": "stream",
     "text": [
      "(3912382, 8)\n",
      "(3912353, 8)\n"
     ]
    }
   ],
   "source": [
    "filtered_df2 = filtered_df[filtered_df[\"patent_id\"].notna()]\n",
    "\n",
    "# Step 2: Ensure \"patent_id\" is treated as string for numeric filtering\n",
    "filtered_df2[\"patent_id\"] = filtered_df2[\"patent_id\"].astype(str)\n",
    "print(filtered_df2.shape)\n",
    "# Step 3: Keep rows where \"patent_id\" contains only numeric values (without NaN)\n",
    "filtered_df2 = filtered_df2[filtered_df2[\"patent_id\"].str.isnumeric()]\n",
    "\n",
    "# Step 4: Optionally, convert \"patent_id\" back to numeric type\n",
    "filtered_df2[\"patent_id\"] = pd.to_numeric(filtered_df2[\"patent_id\"])\n",
    "# filtered_df2[filtered_df2[\"patent_id\"]==\"RE31700\"]\n",
    "print(filtered_df2.shape)"
   ]
  },
  {
   "cell_type": "markdown",
   "metadata": {},
   "source": [
    "Garde les brevets entre 1976 et 2010, de type utility, dont le patent_id est uniquement numérique!"
   ]
  },
  {
   "cell_type": "code",
   "execution_count": 5,
   "metadata": {},
   "outputs": [
    {
     "data": {
      "text/html": [
       "<div>\n",
       "<style scoped>\n",
       "    .dataframe tbody tr th:only-of-type {\n",
       "        vertical-align: middle;\n",
       "    }\n",
       "\n",
       "    .dataframe tbody tr th {\n",
       "        vertical-align: top;\n",
       "    }\n",
       "\n",
       "    .dataframe thead th {\n",
       "        text-align: right;\n",
       "    }\n",
       "</style>\n",
       "<table border=\"1\" class=\"dataframe\">\n",
       "  <thead>\n",
       "    <tr style=\"text-align: right;\">\n",
       "      <th></th>\n",
       "      <th>patent_id</th>\n",
       "      <th>patent_type</th>\n",
       "      <th>patent_date</th>\n",
       "      <th>patent_title</th>\n",
       "      <th>wipo_kind</th>\n",
       "      <th>num_claims</th>\n",
       "      <th>withdrawn</th>\n",
       "      <th>filename</th>\n",
       "    </tr>\n",
       "  </thead>\n",
       "  <tbody>\n",
       "    <tr>\n",
       "      <th>2084459</th>\n",
       "      <td>3930271</td>\n",
       "      <td>utility</td>\n",
       "      <td>1976-01-06</td>\n",
       "      <td>Golf glove</td>\n",
       "      <td>A</td>\n",
       "      <td>4</td>\n",
       "      <td>0</td>\n",
       "      <td>pftaps19760106_wk01.zip</td>\n",
       "    </tr>\n",
       "    <tr>\n",
       "      <th>2084460</th>\n",
       "      <td>3930272</td>\n",
       "      <td>utility</td>\n",
       "      <td>1976-01-06</td>\n",
       "      <td>Crib leg lock</td>\n",
       "      <td>A</td>\n",
       "      <td>3</td>\n",
       "      <td>0</td>\n",
       "      <td>pftaps19760106_wk01.zip</td>\n",
       "    </tr>\n",
       "    <tr>\n",
       "      <th>2084461</th>\n",
       "      <td>3930273</td>\n",
       "      <td>utility</td>\n",
       "      <td>1976-01-06</td>\n",
       "      <td>Bed safety side rail arrangement</td>\n",
       "      <td>A</td>\n",
       "      <td>24</td>\n",
       "      <td>0</td>\n",
       "      <td>pftaps19760106_wk01.zip</td>\n",
       "    </tr>\n",
       "    <tr>\n",
       "      <th>2084462</th>\n",
       "      <td>3930274</td>\n",
       "      <td>utility</td>\n",
       "      <td>1976-01-06</td>\n",
       "      <td>Assembly for use in recreational activities</td>\n",
       "      <td>A</td>\n",
       "      <td>7</td>\n",
       "      <td>0</td>\n",
       "      <td>pftaps19760106_wk01.zip</td>\n",
       "    </tr>\n",
       "    <tr>\n",
       "      <th>2084463</th>\n",
       "      <td>3930275</td>\n",
       "      <td>utility</td>\n",
       "      <td>1976-01-06</td>\n",
       "      <td>Method of fabricating a slipper</td>\n",
       "      <td>A</td>\n",
       "      <td>9</td>\n",
       "      <td>0</td>\n",
       "      <td>pftaps19760106_wk01.zip</td>\n",
       "    </tr>\n",
       "    <tr>\n",
       "      <th>...</th>\n",
       "      <td>...</td>\n",
       "      <td>...</td>\n",
       "      <td>...</td>\n",
       "      <td>...</td>\n",
       "      <td>...</td>\n",
       "      <td>...</td>\n",
       "      <td>...</td>\n",
       "      <td>...</td>\n",
       "    </tr>\n",
       "    <tr>\n",
       "      <th>5996875</th>\n",
       "      <td>7861312</td>\n",
       "      <td>utility</td>\n",
       "      <td>2010-12-28</td>\n",
       "      <td>MP3 player with digital rights management</td>\n",
       "      <td>B2</td>\n",
       "      <td>16</td>\n",
       "      <td>0</td>\n",
       "      <td>ipg101228.xml</td>\n",
       "    </tr>\n",
       "    <tr>\n",
       "      <th>5996876</th>\n",
       "      <td>7861313</td>\n",
       "      <td>utility</td>\n",
       "      <td>2010-12-28</td>\n",
       "      <td>Information managing apparatus and method, rec...</td>\n",
       "      <td>B2</td>\n",
       "      <td>4</td>\n",
       "      <td>0</td>\n",
       "      <td>ipg101228.xml</td>\n",
       "    </tr>\n",
       "    <tr>\n",
       "      <th>5996877</th>\n",
       "      <td>7861314</td>\n",
       "      <td>utility</td>\n",
       "      <td>2010-12-28</td>\n",
       "      <td>Interactive key control system and method of m...</td>\n",
       "      <td>B2</td>\n",
       "      <td>34</td>\n",
       "      <td>0</td>\n",
       "      <td>ipg101228.xml</td>\n",
       "    </tr>\n",
       "    <tr>\n",
       "      <th>5996878</th>\n",
       "      <td>7861315</td>\n",
       "      <td>utility</td>\n",
       "      <td>2010-12-28</td>\n",
       "      <td>Method for microfabricating a probe with integ...</td>\n",
       "      <td>B2</td>\n",
       "      <td>26</td>\n",
       "      <td>0</td>\n",
       "      <td>ipg101228.xml</td>\n",
       "    </tr>\n",
       "    <tr>\n",
       "      <th>5996879</th>\n",
       "      <td>7861316</td>\n",
       "      <td>utility</td>\n",
       "      <td>2010-12-28</td>\n",
       "      <td>Microscope probe having an ultra-tall tip</td>\n",
       "      <td>B2</td>\n",
       "      <td>14</td>\n",
       "      <td>0</td>\n",
       "      <td>ipg101228.xml</td>\n",
       "    </tr>\n",
       "  </tbody>\n",
       "</table>\n",
       "<p>3912353 rows × 8 columns</p>\n",
       "</div>"
      ],
      "text/plain": [
       "         patent_id patent_type patent_date  \\\n",
       "2084459    3930271     utility  1976-01-06   \n",
       "2084460    3930272     utility  1976-01-06   \n",
       "2084461    3930273     utility  1976-01-06   \n",
       "2084462    3930274     utility  1976-01-06   \n",
       "2084463    3930275     utility  1976-01-06   \n",
       "...            ...         ...         ...   \n",
       "5996875    7861312     utility  2010-12-28   \n",
       "5996876    7861313     utility  2010-12-28   \n",
       "5996877    7861314     utility  2010-12-28   \n",
       "5996878    7861315     utility  2010-12-28   \n",
       "5996879    7861316     utility  2010-12-28   \n",
       "\n",
       "                                              patent_title wipo_kind  \\\n",
       "2084459                                         Golf glove         A   \n",
       "2084460                                      Crib leg lock         A   \n",
       "2084461                   Bed safety side rail arrangement         A   \n",
       "2084462        Assembly for use in recreational activities         A   \n",
       "2084463                    Method of fabricating a slipper         A   \n",
       "...                                                    ...       ...   \n",
       "5996875          MP3 player with digital rights management        B2   \n",
       "5996876  Information managing apparatus and method, rec...        B2   \n",
       "5996877  Interactive key control system and method of m...        B2   \n",
       "5996878  Method for microfabricating a probe with integ...        B2   \n",
       "5996879          Microscope probe having an ultra-tall tip        B2   \n",
       "\n",
       "         num_claims  withdrawn                 filename  \n",
       "2084459           4          0  pftaps19760106_wk01.zip  \n",
       "2084460           3          0  pftaps19760106_wk01.zip  \n",
       "2084461          24          0  pftaps19760106_wk01.zip  \n",
       "2084462           7          0  pftaps19760106_wk01.zip  \n",
       "2084463           9          0  pftaps19760106_wk01.zip  \n",
       "...             ...        ...                      ...  \n",
       "5996875          16          0            ipg101228.xml  \n",
       "5996876           4          0            ipg101228.xml  \n",
       "5996877          34          0            ipg101228.xml  \n",
       "5996878          26          0            ipg101228.xml  \n",
       "5996879          14          0            ipg101228.xml  \n",
       "\n",
       "[3912353 rows x 8 columns]"
      ]
     },
     "execution_count": 5,
     "metadata": {},
     "output_type": "execute_result"
    }
   ],
   "source": [
    "filtered_df = filtered_df2\n",
    "filtered_df"
   ]
  },
  {
   "cell_type": "markdown",
   "metadata": {},
   "source": [
    "## Matching nature et pV"
   ]
  },
  {
   "cell_type": "code",
   "execution_count": 13,
   "metadata": {},
   "outputs": [
    {
     "data": {
      "text/html": [
       "<div>\n",
       "<style scoped>\n",
       "    .dataframe tbody tr th:only-of-type {\n",
       "        vertical-align: middle;\n",
       "    }\n",
       "\n",
       "    .dataframe tbody tr th {\n",
       "        vertical-align: top;\n",
       "    }\n",
       "\n",
       "    .dataframe thead th {\n",
       "        text-align: right;\n",
       "    }\n",
       "</style>\n",
       "<table border=\"1\" class=\"dataframe\">\n",
       "  <thead>\n",
       "    <tr style=\"text-align: right;\">\n",
       "      <th></th>\n",
       "      <th>patent_id</th>\n",
       "      <th>grant_year</th>\n",
       "      <th>field_nber_category_id</th>\n",
       "      <th>field_nber_subcategory_id</th>\n",
       "      <th>cited_total</th>\n",
       "      <th>cited_self</th>\n",
       "      <th>cited_self_risk</th>\n",
       "      <th>cited_age_mean</th>\n",
       "      <th>cited_age_sd</th>\n",
       "      <th>invs_crr_age_mean_t</th>\n",
       "      <th>invs_crr_npatent_ids_mean_t</th>\n",
       "      <th>cd_5</th>\n",
       "      <th>cd_10</th>\n",
       "      <th>cd_2017y</th>\n",
       "      <th>zscores_median</th>\n",
       "      <th>nsc_upatents_t</th>\n",
       "      <th>nsc_upatents_cited_total_t</th>\n",
       "      <th>nsc_upatents_cited_nentropy_t</th>\n",
       "      <th>nsc_upatents_inventors_total_t</th>\n",
       "    </tr>\n",
       "  </thead>\n",
       "  <tbody>\n",
       "    <tr>\n",
       "      <th>2301359</th>\n",
       "      <td>6173685</td>\n",
       "      <td>2001</td>\n",
       "      <td>5.0</td>\n",
       "      <td>53.0</td>\n",
       "      <td>255</td>\n",
       "      <td>16</td>\n",
       "      <td>1</td>\n",
       "      <td>12.309804</td>\n",
       "      <td>5.609699</td>\n",
       "      <td>25.0</td>\n",
       "      <td>50.0</td>\n",
       "      <td>-0.001032</td>\n",
       "      <td>-0.004318</td>\n",
       "      <td>-0.006148</td>\n",
       "      <td>85.872505</td>\n",
       "      <td>5200.0</td>\n",
       "      <td>45380.0</td>\n",
       "      <td>0.984951</td>\n",
       "      <td>11659.0</td>\n",
       "    </tr>\n",
       "  </tbody>\n",
       "</table>\n",
       "</div>"
      ],
      "text/plain": [
       "         patent_id  grant_year  field_nber_category_id  \\\n",
       "2301359    6173685        2001                     5.0   \n",
       "\n",
       "         field_nber_subcategory_id  cited_total  cited_self  cited_self_risk  \\\n",
       "2301359                       53.0          255          16                1   \n",
       "\n",
       "         cited_age_mean  cited_age_sd  invs_crr_age_mean_t  \\\n",
       "2301359       12.309804      5.609699                 25.0   \n",
       "\n",
       "         invs_crr_npatent_ids_mean_t      cd_5     cd_10  cd_2017y  \\\n",
       "2301359                         50.0 -0.001032 -0.004318 -0.006148   \n",
       "\n",
       "         zscores_median  nsc_upatents_t  nsc_upatents_cited_total_t  \\\n",
       "2301359       85.872505          5200.0                     45380.0   \n",
       "\n",
       "         nsc_upatents_cited_nentropy_t  nsc_upatents_inventors_total_t  \n",
       "2301359                       0.984951                         11659.0  "
      ]
     },
     "execution_count": 13,
     "metadata": {},
     "output_type": "execute_result"
    }
   ],
   "source": [
    "nature_df[nature_df[\"patent_id\"]==6173685]"
   ]
  },
  {
   "cell_type": "code",
   "execution_count": 7,
   "metadata": {},
   "outputs": [
    {
     "data": {
      "text/html": [
       "<div>\n",
       "<style scoped>\n",
       "    .dataframe tbody tr th:only-of-type {\n",
       "        vertical-align: middle;\n",
       "    }\n",
       "\n",
       "    .dataframe tbody tr th {\n",
       "        vertical-align: top;\n",
       "    }\n",
       "\n",
       "    .dataframe thead th {\n",
       "        text-align: right;\n",
       "    }\n",
       "</style>\n",
       "<table border=\"1\" class=\"dataframe\">\n",
       "  <thead>\n",
       "    <tr style=\"text-align: right;\">\n",
       "      <th></th>\n",
       "      <th>patent_id</th>\n",
       "      <th>patent_type</th>\n",
       "      <th>patent_date</th>\n",
       "      <th>patent_title</th>\n",
       "      <th>wipo_kind</th>\n",
       "      <th>num_claims</th>\n",
       "      <th>withdrawn</th>\n",
       "      <th>filename</th>\n",
       "    </tr>\n",
       "  </thead>\n",
       "  <tbody>\n",
       "    <tr>\n",
       "      <th>4315816</th>\n",
       "      <td>6173685</td>\n",
       "      <td>utility</td>\n",
       "      <td>2001-01-16</td>\n",
       "      <td>Air-fuel module adapted for an internal combus...</td>\n",
       "      <td>A</td>\n",
       "      <td>30</td>\n",
       "      <td>0</td>\n",
       "      <td>pftaps20010116_wk03.zip</td>\n",
       "    </tr>\n",
       "  </tbody>\n",
       "</table>\n",
       "</div>"
      ],
      "text/plain": [
       "         patent_id patent_type patent_date  \\\n",
       "4315816    6173685     utility  2001-01-16   \n",
       "\n",
       "                                              patent_title wipo_kind  \\\n",
       "4315816  Air-fuel module adapted for an internal combus...         A   \n",
       "\n",
       "         num_claims  withdrawn                 filename  \n",
       "4315816          30          0  pftaps20010116_wk03.zip  "
      ]
     },
     "execution_count": 7,
     "metadata": {},
     "output_type": "execute_result"
    }
   ],
   "source": [
    "filtered_df2[filtered_df2[\"patent_id\"]== 6173685]"
   ]
  },
  {
   "cell_type": "markdown",
   "metadata": {},
   "source": [
    "## Citations data"
   ]
  },
  {
   "cell_type": "code",
   "execution_count": 6,
   "metadata": {},
   "outputs": [
    {
     "name": "stderr",
     "output_type": "stream",
     "text": [
      "C:\\Users\\edgar\\AppData\\Local\\Temp\\ipykernel_21928\\1879615952.py:12: DtypeWarning: Columns (0) have mixed types. Specify dtype option on import or set low_memory=False.\n",
      "  grantPat_df = pd.read_csv(grant_file, sep='\\t', on_bad_lines='skip', usecols=[\"patent_id\"]) #, skiprows=range(1, start_row+1), nrows=end_row-start_row,)\n"
     ]
    }
   ],
   "source": [
    "# Path to your exported TSV file\n",
    "grant_file= \"C:/Users/edgar/OneDrive/Bureau/Ecole/HEC/A24/BrevetNLP/citations_data/data/g_us_patent_citation.tsv\"\n",
    "applic_file= \"C:/Users/edgar/OneDrive/Bureau/Ecole/HEC/A24/BrevetNLP/citations_data/data/g_us_application_citation.tsv\"\n",
    "foreign_file= \"C:/Users/edgar/OneDrive/Bureau/Ecole/HEC/A24/BrevetNLP/citations_data/data/g_foreign_citation.tsv\"\n",
    "# output_file = \"/home/edgarlanoue/citationsData/data/g_us_patent_citation_full.tsv\"\n",
    "\n",
    "# Load the TSV file into a DataFrame\n",
    "# start_row = 20000000# #1000000\n",
    "# end_row = 40000000\n",
    "\n",
    "# Use skiprows to skip the first 20 million rows, and nrows to read the next 20 million\n",
    "grantPat_df = pd.read_csv(grant_file, sep='\\t', on_bad_lines='skip', usecols=[\"patent_id\"]) #, skiprows=range(1, start_row+1), nrows=end_row-start_row,)\n",
    "\n",
    "appPat_df = pd.read_csv(applic_file, sep='\\t', on_bad_lines='skip', usecols=[\"patent_id\"])\n",
    "\n",
    "forPat_df = pd.read_csv(foreign_file, sep='\\t', on_bad_lines='skip', usecols=[\"patent_id\"])\n",
    "\n",
    "\n",
    "# Display the first few rows of the DataFrame\n",
    "# grantPat_df[14000:14010]\n",
    "# 5 min"
   ]
  },
  {
   "cell_type": "code",
   "execution_count": 7,
   "metadata": {},
   "outputs": [
    {
     "name": "stdout",
     "output_type": "stream",
     "text": [
      "(144025878, 1)\n",
      "(70557842, 1)\n",
      "(41777086, 1)\n"
     ]
    }
   ],
   "source": [
    "print(grantPat_df.shape)\n",
    "print(appPat_df.shape)\n",
    "print(forPat_df.shape)\n"
   ]
  },
  {
   "cell_type": "markdown",
   "metadata": {},
   "source": [
    "Patents 3815111 sur 144025878\n",
    "\n",
    "Applications: 572593 sur 68636755\n",
    "\n",
    "Foreign: 2022085 sur 41777086\n",
    "\n",
    "total: 6 409 789... répétitions!"
   ]
  },
  {
   "cell_type": "code",
   "execution_count": 8,
   "metadata": {},
   "outputs": [
    {
     "name": "stdout",
     "output_type": "stream",
     "text": [
      "3815111\n"
     ]
    }
   ],
   "source": [
    "print(len(set(grantPat_df[\"patent_id\"]) & set(filtered_df2[\"patent_id\"]))) # 3815111\n",
    "\n",
    "grantPat_fil = set(grantPat_df[\"patent_id\"]) & set(filtered_df2[\"patent_id\"])\n",
    "\n",
    "del grantPat_df"
   ]
  },
  {
   "cell_type": "code",
   "execution_count": 9,
   "metadata": {},
   "outputs": [
    {
     "name": "stdout",
     "output_type": "stream",
     "text": [
      "572593\n"
     ]
    }
   ],
   "source": [
    "appPat_df = appPat_df[appPat_df[\"patent_id\"].notna()]\n",
    "\n",
    "# Step 2: Ensure \"patent_id\" is treated as string for numeric filtering\n",
    "appPat_df[\"patent_id\"] = appPat_df[\"patent_id\"].astype(str)\n",
    "appPat_df = appPat_df[appPat_df[\"patent_id\"].str.isnumeric()]\n",
    "appPat_df[\"patent_id\"] = pd.to_numeric(appPat_df[\"patent_id\"])\n",
    "\n",
    "print(len(set(appPat_df[\"patent_id\"]) & set(filtered_df2[\"patent_id\"]))) # application all : 572593\n",
    "\n",
    "appPat_fil = set(appPat_df[\"patent_id\"]) & set(filtered_df2[\"patent_id\"])\n",
    "\n",
    "del appPat_df"
   ]
  },
  {
   "cell_type": "code",
   "execution_count": 10,
   "metadata": {},
   "outputs": [
    {
     "name": "stdout",
     "output_type": "stream",
     "text": [
      "2022085\n"
     ]
    }
   ],
   "source": [
    "forPat_df = forPat_df[forPat_df[\"patent_id\"].notna()]\n",
    "\n",
    "# Step 2: Ensure \"patent_id\" is treated as string for numeric filtering\n",
    "forPat_df[\"patent_id\"] = forPat_df[\"patent_id\"].astype(str)\n",
    "forPat_df = forPat_df[forPat_df[\"patent_id\"].str.isnumeric()]\n",
    "forPat_df[\"patent_id\"] = pd.to_numeric(forPat_df[\"patent_id\"])\n",
    "\n",
    "print(len(set(forPat_df[\"patent_id\"]) & set(filtered_df2[\"patent_id\"]))) # foreign all : 2022085\n",
    "\n",
    "forPat_fil = set(forPat_df[\"patent_id\"]) & set(filtered_df2[\"patent_id\"])\n",
    "\n",
    "del forPat_df"
   ]
  },
  {
   "cell_type": "code",
   "execution_count": null,
   "metadata": {},
   "outputs": [
    {
     "name": "stdout",
     "output_type": "stream",
     "text": [
      "False\n",
      "False\n",
      "False\n"
     ]
    },
    {
     "ename": "",
     "evalue": "",
     "output_type": "error",
     "traceback": [
      "\u001b[1;31mThe Kernel crashed while executing code in the current cell or a previous cell. \n",
      "\u001b[1;31mPlease review the code in the cell(s) to identify a possible cause of the failure. \n",
      "\u001b[1;31mClick <a href='https://aka.ms/vscodeJupyterKernelCrash'>here</a> for more info. \n",
      "\u001b[1;31mView Jupyter <a href='command:jupyter.viewOutput'>log</a> for further details."
     ]
    }
   ],
   "source": [
    "print(len(appPat_fil | grantPat_fil) == len(grantPat_fil) or len(appPat_fil | grantPat_fil) == len(appPat_fil))\n",
    "print(len(forPat_fil | grantPat_fil) == len(grantPat_fil) or len(forPat_fil | grantPat_fil) == len(forPat_fil))\n",
    "print(len(appPat_fil | forPat_fil) == len(forPat_fil) or len(appPat_fil | forPat_fil) == len(appPat_fil))"
   ]
  },
  {
   "cell_type": "markdown",
   "metadata": {},
   "source": [
    "ils ajoutent tous quelque chose"
   ]
  },
  {
   "cell_type": "code",
   "execution_count": 42,
   "metadata": {},
   "outputs": [],
   "source": [
    "combined_set = forPat_fil | appPat_fil | grantPat_fil"
   ]
  },
  {
   "cell_type": "code",
   "execution_count": 43,
   "metadata": {},
   "outputs": [
    {
     "data": {
      "text/plain": [
       "3878259"
      ]
     },
     "execution_count": 43,
     "metadata": {},
     "output_type": "execute_result"
    }
   ],
   "source": [
    "len(combined_set)"
   ]
  },
  {
   "cell_type": "code",
   "execution_count": 44,
   "metadata": {},
   "outputs": [
    {
     "data": {
      "text/plain": [
       "34094"
      ]
     },
     "execution_count": 44,
     "metadata": {},
     "output_type": "execute_result"
    }
   ],
   "source": [
    "dif_set = (set(filtered_df[\"patent_id\"]) - combined_set)\n",
    "len(dif_set)\n",
    "# je ne sais pas d'ou vient ce 34094"
   ]
  },
  {
   "cell_type": "code",
   "execution_count": 45,
   "metadata": {},
   "outputs": [
    {
     "data": {
      "text/plain": [
       "{6291461,\n",
       " 5242895,\n",
       " 6291472,\n",
       " 5242897,\n",
       " 3932180,\n",
       " 5636117,\n",
       " 6291484,\n",
       " 5242921,\n",
       " 4849708,\n",
       " 4587567,\n",
       " 4849712,\n",
       " 5767218,\n",
       " 5636147,\n",
       " 5636164,\n",
       " 6291525,\n",
       " 5242952,\n",
       " 6160457,\n",
       " 5767247,\n",
       " 5767252,\n",
       " 5767256,\n",
       " 5767258,\n",
       " 5767262,\n",
       " 5636191,\n",
       " 7733342,\n",
       " 5767265,\n",
       " 5767270,\n",
       " 4194424,\n",
       " 7733376,\n",
       " 7340161,\n",
       " 5243016,\n",
       " 4587657,\n",
       " 5767304,\n",
       " 4456589,\n",
       " 7078030,\n",
       " 4456591,\n",
       " 5767316,\n",
       " 4456597,\n",
       " 4456598,\n",
       " 6946969,\n",
       " 7078044,\n",
       " 5243041,\n",
       " 4456612,\n",
       " 6291621,\n",
       " 5767336,\n",
       " 5243049,\n",
       " 4456618,\n",
       " 5374124,\n",
       " 5767341,\n",
       " 4587699,\n",
       " 4980916,\n",
       " 5243059,\n",
       " 5767349,\n",
       " 5767350,\n",
       " 5767351,\n",
       " 5767352,\n",
       " 5767354,\n",
       " 5767355,\n",
       " 5243068,\n",
       " 6291642,\n",
       " 5243071,\n",
       " 3932364,\n",
       " 6291663,\n",
       " 6291665,\n",
       " 6291666,\n",
       " 6291670,\n",
       " 6291673,\n",
       " 6291680,\n",
       " 4325602,\n",
       " 6947042,\n",
       " 4456679,\n",
       " 6160617,\n",
       " 4456684,\n",
       " 4456687,\n",
       " 5898493,\n",
       " 7733504,\n",
       " 6291713,\n",
       " 4325635,\n",
       " 3932420,\n",
       " 3932426,\n",
       " 3932427,\n",
       " 3932435,\n",
       " 3932441,\n",
       " 6291739,\n",
       " 3932445,\n",
       " 7078175,\n",
       " 7078178,\n",
       " 3932451,\n",
       " 7078183,\n",
       " 3932458,\n",
       " 3932459,\n",
       " 7078188,\n",
       " 7078190,\n",
       " 3932472,\n",
       " 4456767,\n",
       " 3932480,\n",
       " 4456769,\n",
       " 5112129,\n",
       " 5898563,\n",
       " 3932489,\n",
       " 3932490,\n",
       " 3932493,\n",
       " 5243218,\n",
       " 4718936,\n",
       " 7078234,\n",
       " 3932507,\n",
       " 5767519,\n",
       " 5767529,\n",
       " 6291820,\n",
       " 5767541,\n",
       " 6553986,\n",
       " 7733657,\n",
       " 4850091,\n",
       " 3932601,\n",
       " 4719033,\n",
       " 7471551,\n",
       " 3932616,\n",
       " 7209416,\n",
       " 3932625,\n",
       " 3932628,\n",
       " 4456926,\n",
       " 6160868,\n",
       " 6423014,\n",
       " 6816231,\n",
       " 7078379,\n",
       " 3932657,\n",
       " 4325875,\n",
       " 3932660,\n",
       " 4325877,\n",
       " 3932662,\n",
       " 6160883,\n",
       " 3932666,\n",
       " 3932668,\n",
       " 4325891,\n",
       " 5112326,\n",
       " 4719111,\n",
       " 3932684,\n",
       " 7078418,\n",
       " 5374502,\n",
       " 5374506,\n",
       " 4719161,\n",
       " 4325949,\n",
       " 5374525,\n",
       " 7078461,\n",
       " 4325952,\n",
       " 4325958,\n",
       " 7078472,\n",
       " 4719179,\n",
       " 5374543,\n",
       " 7078488,\n",
       " 5898841,\n",
       " 7078489,\n",
       " 4719198,\n",
       " 6292062,\n",
       " 4719201,\n",
       " 7078503,\n",
       " 4719209,\n",
       " 4719210,\n",
       " 7078508,\n",
       " 5112436,\n",
       " 7078520,\n",
       " 4719232,\n",
       " 4719233,\n",
       " 4719234,\n",
       " 4850305,\n",
       " 7078529,\n",
       " 5374598,\n",
       " 4326025,\n",
       " 7078547,\n",
       " 4063896,\n",
       " 7078564,\n",
       " 4326055,\n",
       " 7078567,\n",
       " 7471784,\n",
       " 4719283,\n",
       " 4326068,\n",
       " 7078585,\n",
       " 3932864,\n",
       " 4719298,\n",
       " 4719299,\n",
       " 4719302,\n",
       " 4195017,\n",
       " 4719309,\n",
       " 5767885,\n",
       " 6423249,\n",
       " 3932882,\n",
       " 6292199,\n",
       " 5767920,\n",
       " 5374713,\n",
       " 4195072,\n",
       " 4195074,\n",
       " 4195076,\n",
       " 4064007,\n",
       " 4195081,\n",
       " 4064011,\n",
       " 5112589,\n",
       " 5374734,\n",
       " 6423314,\n",
       " 4195095,\n",
       " 5374744,\n",
       " 4064025,\n",
       " 4195099,\n",
       " 4195100,\n",
       " 4064029,\n",
       " 5374749,\n",
       " 7078683,\n",
       " 5243688,\n",
       " 5243689,\n",
       " 6423339,\n",
       " 5374766,\n",
       " 4195125,\n",
       " 4195130,\n",
       " 5112639,\n",
       " 5636928,\n",
       " 5112650,\n",
       " 6554455,\n",
       " 7078748,\n",
       " 4457318,\n",
       " 4719467,\n",
       " 4981611,\n",
       " 4195182,\n",
       " 4195183,\n",
       " 6292349,\n",
       " 5112702,\n",
       " 4064127,\n",
       " 4064128,\n",
       " 4981633,\n",
       " 4064136,\n",
       " 4064144,\n",
       " 4064151,\n",
       " 5505954,\n",
       " 5112742,\n",
       " 5899178,\n",
       " 5112751,\n",
       " 4064176,\n",
       " 5112753,\n",
       " 4064180,\n",
       " 5112767,\n",
       " 6423488,\n",
       " 5505986,\n",
       " 6423494,\n",
       " 6423500,\n",
       " 6423501,\n",
       " 4981721,\n",
       " 6423515,\n",
       " 4981724,\n",
       " 6423516,\n",
       " 6423521,\n",
       " 5112802,\n",
       " 4064230,\n",
       " 4064232,\n",
       " 4064234,\n",
       " 4064238,\n",
       " 5112814,\n",
       " 4064245,\n",
       " 5112821,\n",
       " 4064253,\n",
       " 5112830,\n",
       " 6030334,\n",
       " 6947846,\n",
       " 4850698,\n",
       " 5112842,\n",
       " 4981784,\n",
       " 4981790,\n",
       " 4064287,\n",
       " 4981791,\n",
       " 5112863,\n",
       " 4981795,\n",
       " 5112870,\n",
       " 4588587,\n",
       " 4588589,\n",
       " 4588593,\n",
       " 4588594,\n",
       " 5506101,\n",
       " 5506105,\n",
       " 4064326,\n",
       " 5506119,\n",
       " 5506121,\n",
       " 5768266,\n",
       " 6161496,\n",
       " 5506140,\n",
       " 5768289,\n",
       " 5768297,\n",
       " 7472234,\n",
       " 4981867,\n",
       " 4064365,\n",
       " 4981870,\n",
       " 5112945,\n",
       " 6030449,\n",
       " 4064371,\n",
       " 5112952,\n",
       " 5112955,\n",
       " 5768315,\n",
       " 5112960,\n",
       " 5112961,\n",
       " 5112962,\n",
       " 4326535,\n",
       " 6423687,\n",
       " 6423692,\n",
       " 4588689,\n",
       " 4588692,\n",
       " 5112987,\n",
       " 5112990,\n",
       " 5506212,\n",
       " 5637290,\n",
       " 4588724,\n",
       " 5113014,\n",
       " 4588728,\n",
       " 4588731,\n",
       " 5113025,\n",
       " 4981956,\n",
       " 5637323,\n",
       " 5506260,\n",
       " 5506263,\n",
       " 4981976,\n",
       " 4981981,\n",
       " 4064491,\n",
       " 4064496,\n",
       " 6423811,\n",
       " 5637384,\n",
       " 4588816,\n",
       " 6030609,\n",
       " 6423827,\n",
       " 6030617,\n",
       " 7734555,\n",
       " 4588828,\n",
       " 6030624,\n",
       " 4588837,\n",
       " 6423846,\n",
       " 5506344,\n",
       " 7734570,\n",
       " 6030638,\n",
       " 4719929,\n",
       " 6423867,\n",
       " 6423868,\n",
       " 5506367,\n",
       " 6423877,\n",
       " 5637453,\n",
       " 5637466,\n",
       " 5637471,\n",
       " 5637479,\n",
       " 5637481,\n",
       " 4064621,\n",
       " 5506420,\n",
       " 4457864,\n",
       " 4457867,\n",
       " 6555021,\n",
       " 4588944,\n",
       " 3933585,\n",
       " 4588946,\n",
       " 4588967,\n",
       " 6030768,\n",
       " 6030769,\n",
       " 4588980,\n",
       " 4457910,\n",
       " 4457917,\n",
       " 6030784,\n",
       " 6030785,\n",
       " 6030786,\n",
       " 6686144,\n",
       " 6030788,\n",
       " 6686146,\n",
       " 6030795,\n",
       " 6030800,\n",
       " 6030804,\n",
       " 6030805,\n",
       " 5899734,\n",
       " 6030809,\n",
       " 6030811,\n",
       " 6030813,\n",
       " 4457950,\n",
       " 6030817,\n",
       " 5113315,\n",
       " 6030823,\n",
       " 6030824,\n",
       " 6030825,\n",
       " 6030826,\n",
       " 5637611,\n",
       " 6686183,\n",
       " 6686187,\n",
       " 6030830,\n",
       " 5637617,\n",
       " 6030836,\n",
       " 6030837,\n",
       " 7603718,\n",
       " 6555147,\n",
       " 3933718,\n",
       " 4458013,\n",
       " 5637671,\n",
       " 6686251,\n",
       " 6030892,\n",
       " 4720176,\n",
       " 5637683,\n",
       " 5637686,\n",
       " 4851257,\n",
       " 4589118,\n",
       " 4720193,\n",
       " 5637711,\n",
       " 4458066,\n",
       " 6555221,\n",
       " 3933782,\n",
       " 4195929,\n",
       " 6030942,\n",
       " 4458081,\n",
       " 6030948,\n",
       " 4458086,\n",
       " 6030956,\n",
       " 6686316,\n",
       " 3933807,\n",
       " 3933812,\n",
       " 5637753,\n",
       " 3933823,\n",
       " 6030980,\n",
       " 4851333,\n",
       " 6162056,\n",
       " 5113481,\n",
       " 5113483,\n",
       " 4851343,\n",
       " 6293137,\n",
       " 4851348,\n",
       " 4851349,\n",
       " 3933848,\n",
       " 7341721,\n",
       " 7341723,\n",
       " 3933852,\n",
       " 3933854,\n",
       " 3933859,\n",
       " 7341733,\n",
       " 3933863,\n",
       " 3933864,\n",
       " 3933865,\n",
       " 6686378,\n",
       " 7603884,\n",
       " 4327086,\n",
       " 6555318,\n",
       " 6686390,\n",
       " 7341750,\n",
       " 6555323,\n",
       " 6555324,\n",
       " 6555327,\n",
       " 3933891,\n",
       " 3933892,\n",
       " 3933893,\n",
       " 4851396,\n",
       " 4851401,\n",
       " 6555337,\n",
       " 5899982,\n",
       " 3933903,\n",
       " 3933905,\n",
       " 6555347,\n",
       " 3933910,\n",
       " 6555351,\n",
       " 5899992,\n",
       " 4851417,\n",
       " 3933914,\n",
       " 3933915,\n",
       " 4851418,\n",
       " 4851419,\n",
       " 5244634,\n",
       " 6555358,\n",
       " 6031078,\n",
       " 6031079,\n",
       " 6686443,\n",
       " 6686446,\n",
       " 6031087,\n",
       " 6031088,\n",
       " 5637873,\n",
       " 4851442,\n",
       " 4851443,\n",
       " 6031090,\n",
       " 5244662,\n",
       " 6424310,\n",
       " 3933944,\n",
       " 3933946,\n",
       " 3933948,\n",
       " 4458237,\n",
       " 4720386,\n",
       " 6686469,\n",
       " 7341832,\n",
       " 7341835,\n",
       " 6686485,\n",
       " 6031127,\n",
       " 4196120,\n",
       " 4196121,\n",
       " 4196122,\n",
       " 4196123,\n",
       " 4196127,\n",
       " 7341862,\n",
       " 7341868,\n",
       " 6031158,\n",
       " 4327223,\n",
       " 6031159,\n",
       " 4327225,\n",
       " 3934016,\n",
       " 4851520,\n",
       " 3934018,\n",
       " 4327235,\n",
       " 5113665,\n",
       " 4720455,\n",
       " 4720457,\n",
       " 4720458,\n",
       " 4851529,\n",
       " 4851533,\n",
       " 4851534,\n",
       " 3934036,\n",
       " 4196186,\n",
       " 4458335,\n",
       " 5244767,\n",
       " 4589411,\n",
       " 6555499,\n",
       " 4196210,\n",
       " 5244790,\n",
       " 5244793,\n",
       " 5244800,\n",
       " 6555520,\n",
       " 7604100,\n",
       " 6555538,\n",
       " 3934104,\n",
       " 5638040,\n",
       " 4720549,\n",
       " 7341990,\n",
       " 4458407,\n",
       " 4720552,\n",
       " 4458409,\n",
       " 7341997,\n",
       " 4720558,\n",
       " 5638063,\n",
       " 7341998,\n",
       " 4720567,\n",
       " 4196283,\n",
       " 5638076,\n",
       " 4196288,\n",
       " 4196296,\n",
       " 4196297,\n",
       " 4720585,\n",
       " 4196300,\n",
       " 5900240,\n",
       " 5244897,\n",
       " 7342051,\n",
       " 6555630,\n",
       " 5900272,\n",
       " 6162417,\n",
       " 5244916,\n",
       " 3934199,\n",
       " 6162427,\n",
       " 6162431,\n",
       " 4851712,\n",
       " 6162433,\n",
       " 5244931,\n",
       " 6555656,\n",
       " 6555657,\n",
       " 6555666,\n",
       " 7079956,\n",
       " 7342100,\n",
       " 6555672,\n",
       " 4065310,\n",
       " 4458528,\n",
       " 3934259,\n",
       " 4196403,\n",
       " 7342137,\n",
       " 7342146,\n",
       " 5638224,\n",
       " 6031440,\n",
       " 5245010,\n",
       " 6555734,\n",
       " 5900375,\n",
       " 5245022,\n",
       " 6555748,\n",
       " 4720752,\n",
       " 5245043,\n",
       " 5245044,\n",
       " 5900411,\n",
       " 6948992,\n",
       " 7473281,\n",
       " 5769349,\n",
       " 6162567,\n",
       " 4065424,\n",
       " 5638297,\n",
       " 5245085,\n",
       " 3934369,\n",
       " 6162601,\n",
       " 6162604,\n",
       " 4065458,\n",
       " 4065460,\n",
       " 6031540,\n",
       " 4065463,\n",
       " 6162618,\n",
       " 6162619,\n",
       " 6031549,\n",
       " 6162625,\n",
       " 4065474,\n",
       " 6162627,\n",
       " 5245125,\n",
       " 6162630,\n",
       " 6162632,\n",
       " 5900492,\n",
       " 4589774,\n",
       " 5900496,\n",
       " 7080152,\n",
       " 4065509,\n",
       " 5900517,\n",
       " 5900527,\n",
       " 7211251,\n",
       " 5376254,\n",
       " 7211276,\n",
       " 7211277,\n",
       " 7473427,\n",
       " 4065556,\n",
       " 4065561,\n",
       " 4065562,\n",
       " 4327710,\n",
       " 4065568,\n",
       " 4065570,\n",
       " 4065571,\n",
       " 5376309,\n",
       " 4065592,\n",
       " 4065593,\n",
       " 4589881,\n",
       " 4327749,\n",
       " 6424917,\n",
       " 7211356,\n",
       " 6031709,\n",
       " 4065632,\n",
       " 5376372,\n",
       " 7473530,\n",
       " 6424956,\n",
       " 7211402,\n",
       " 5376407,\n",
       " 7211419,\n",
       " 5376413,\n",
       " 5769630,\n",
       " 6818214,\n",
       " 4590001,\n",
       " 4590004,\n",
       " 6818231,\n",
       " 7211457,\n",
       " 6818248,\n",
       " 6162901,\n",
       " 5900765,\n",
       " 6162911,\n",
       " 6949345,\n",
       " 5245412,\n",
       " 6949350,\n",
       " 6949352,\n",
       " 6949361,\n",
       " 6949364,\n",
       " 4590072,\n",
       " 6162941,\n",
       " 6162943,\n",
       " 6949378,\n",
       " 5376525,\n",
       " 7473679,\n",
       " 5376530,\n",
       " 5376532,\n",
       " 6162973,\n",
       " 5376542,\n",
       " 4983328,\n",
       " 5376549,\n",
       " 7211564,\n",
       " 5769778,\n",
       " 6818365,\n",
       " 6031937,\n",
       " 7604801,\n",
       " 7211589,\n",
       " 7604805,\n",
       " 4590159,\n",
       " 4590162,\n",
       " 4590163,\n",
       " 6818402,\n",
       " 6818405,\n",
       " 7473768,\n",
       " 4590190,\n",
       " 4590191,\n",
       " 4590193,\n",
       " 6556282,\n",
       " 5114493,\n",
       " 6818430,\n",
       " 7211647,\n",
       " 6818433,\n",
       " 6949506,\n",
       " 6949508,\n",
       " 4590215,\n",
       " 5376648,\n",
       " 7735945,\n",
       " 7211661,\n",
       " 7473805,\n",
       " 6556304,\n",
       " 6818449,\n",
       " 5376658,\n",
       " 5245588,\n",
       " 5245589,\n",
       " 5376661,\n",
       " 6818453,\n",
       " 7211670,\n",
       " 7473822,\n",
       " 6294175,\n",
       " 4459173,\n",
       " 5376683,\n",
       " 5245615,\n",
       " 6294191,\n",
       " 4590261,\n",
       " 7211712,\n",
       " 7080647,\n",
       " 4590286,\n",
       " 4983512,\n",
       " 7604953,\n",
       " 7604957,\n",
       " 4983518,\n",
       " 4983519,\n",
       " 5245662,\n",
       " 4983521,\n",
       " 7604958,\n",
       " 4983523,\n",
       " 6032101,\n",
       " 4983526,\n",
       " 4328167,\n",
       " 4459242,\n",
       " 7604972,\n",
       " 7342847,\n",
       " 3934977,\n",
       " 3934978,\n",
       " 3934979,\n",
       " 3934980,\n",
       " 5901057,\n",
       " 6949636,\n",
       " 7605001,\n",
       " 7605005,\n",
       " 4328211,\n",
       " 4983575,\n",
       " 6949665,\n",
       " 4459299,\n",
       " 4983588,\n",
       " 4328229,\n",
       " 4328235,\n",
       " 4459309,\n",
       " 4197167,\n",
       " 6949682,\n",
       " 4328243,\n",
       " 4328245,\n",
       " 4328246,\n",
       " 4459319,\n",
       " 6294328,\n",
       " 6294330,\n",
       " 4983611,\n",
       " 6949690,\n",
       " 4983613,\n",
       " 6818622,\n",
       " 6294335,\n",
       " 6949693,\n",
       " 6949694,\n",
       " 6294339,\n",
       " 4983620,\n",
       " 5901124,\n",
       " 6294343,\n",
       " 4983625,\n",
       " 4459343,\n",
       " 6294354,\n",
       " 4459353,\n",
       " 7474010,\n",
       " 7474011,\n",
       " 6294367,\n",
       " 6294369,\n",
       " 4459363,\n",
       " 6294371,\n",
       " 5901158,\n",
       " 6294376,\n",
       " 6818664,\n",
       " 6294378,\n",
       " 5114739,\n",
       " 3935097,\n",
       " 4328315,\n",
       " 4459408,\n",
       " 5114770,\n",
       " 4459413,\n",
       " 7342997,\n",
       " 7605155,\n",
       " 4328356,\n",
       " 4197288,\n",
       " 4983721,\n",
       " 4197290,\n",
       " 4197293,\n",
       " 4197294,\n",
       " 4197300,\n",
       " 4197303,\n",
       " 4197304,\n",
       " 4983737,\n",
       " 5508026,\n",
       " 6818745,\n",
       " 6818746,\n",
       " 6818747,\n",
       " 6818748,\n",
       " 4328383,\n",
       " 7343035,\n",
       " 4590530,\n",
       " 6818754,\n",
       " 6818756,\n",
       " 6818758,\n",
       " 5245895,\n",
       " 5508045,\n",
       " 5770189,\n",
       " 4983759,\n",
       " 4197328,\n",
       " 6687697,\n",
       " 4721618,\n",
       " 4983768,\n",
       " 5114840,\n",
       " 5770201,\n",
       " 6818777,\n",
       " 6818778,\n",
       " 4721629,\n",
       " 5508061,\n",
       " 5508063,\n",
       " 6163424,\n",
       " 5770209,\n",
       " 5508066,\n",
       " 5114851,\n",
       " 6818780,\n",
       " 3935205,\n",
       " 5508069,\n",
       " 3935207,\n",
       " 5508070,\n",
       " 5901286,\n",
       " 3935215,\n",
       " 6818805,\n",
       " 3935222,\n",
       " 5770232,\n",
       " 6818810,\n",
       " 6818813,\n",
       " 4590596,\n",
       " 4721671,\n",
       " 3935243,\n",
       " 3935245,\n",
       " 5770257,\n",
       " 3935255,\n",
       " 7605276,\n",
       " 4721693,\n",
       " 5114909,\n",
       " 4459552,\n",
       " 3935268,\n",
       " 4459556,\n",
       " 4721707,\n",
       " 5114926,\n",
       " 7605294,\n",
       " 5246001,\n",
       " 4721714,\n",
       " 6949944,\n",
       " 4066361,\n",
       " 6294586,\n",
       " 5901371,\n",
       " 4721727,\n",
       " 5114943,\n",
       " 5114947,\n",
       " 3935309,\n",
       " 5114957,\n",
       " 3935313,\n",
       " 5508177,\n",
       " 5508179,\n",
       " 3935317,\n",
       " 5114969,\n",
       " 5508187,\n",
       " 4066404,\n",
       " 3935334,\n",
       " 4721775,\n",
       " 5770361,\n",
       " 6294652,\n",
       " 6294653,\n",
       " 5770366,\n",
       " 4328577,\n",
       " 6294658,\n",
       " 4066437,\n",
       " 5770374,\n",
       " 5770375,\n",
       " 5901445,\n",
       " 6294666,\n",
       " 5770380,\n",
       " 7343246,\n",
       " 5770385,\n",
       " 5770392,\n",
       " 6294681,\n",
       " 5770398,\n",
       " 6163614,\n",
       " 6032544,\n",
       " 6294688,\n",
       " 6687904,\n",
       " 5508260,\n",
       " 5508261,\n",
       " 5770404,\n",
       " 5770407,\n",
       " 7212199,\n",
       " 7343270,\n",
       " 5770413,\n",
       " 6294701,\n",
       " 7212210,\n",
       " 5770421,\n",
       " 5770427,\n",
       " 5770430,\n",
       " 4066499,\n",
       " 7736520,\n",
       " 5770444,\n",
       " 4066510,\n",
       " 5770449,\n",
       " 5115096,\n",
       " 5770472,\n",
       " 4984042,\n",
       " 5770493,\n",
       " 4066583,\n",
       " 5508384,\n",
       " 5508386,\n",
       " 6950184,\n",
       " 7736621,\n",
       " 7736623,\n",
       " 5639473,\n",
       " 6163762,\n",
       " 5508403,\n",
       " 5508404,\n",
       " 5508405,\n",
       " 3935547,\n",
       " 5508418,\n",
       " 6163794,\n",
       " 5639507,\n",
       " 4853084,\n",
       " 5770589,\n",
       " 5770593,\n",
       " 4066664,\n",
       " 4066666,\n",
       " 5508458,\n",
       " 4984174,\n",
       " 7212401,\n",
       " 4066680,\n",
       " 5770621,\n",
       " 5770622,\n",
       " 5639552,\n",
       " 4984193,\n",
       " 4066692,\n",
       " 4984196,\n",
       " 4722056,\n",
       " 7081359,\n",
       " 4066708,\n",
       " 5639592,\n",
       " 4722090,\n",
       " 5508523,\n",
       " 5639596,\n",
       " 5770670,\n",
       " 5639605,\n",
       " 6426042,\n",
       " 6294971,\n",
       " 5770685,\n",
       " 5639615,\n",
       " 5639616,\n",
       " 5639618,\n",
       " 4066755,\n",
       " 5770691,\n",
       " 5770702,\n",
       " 4066779,\n",
       " 4066780,\n",
       " 5770717,\n",
       " 5639643,\n",
       " 5770719,\n",
       " 4066784,\n",
       " 4853215,\n",
       " 4853217,\n",
       " 6295012,\n",
       " 5639653,\n",
       " 4984298,\n",
       " 4722155,\n",
       " 5639660,\n",
       " 7736813,\n",
       " 5770737,\n",
       " 6032896,\n",
       " 7736850,\n",
       " 6426133,\n",
       " 5770774,\n",
       " 7736853,\n",
       " 7736855,\n",
       " 5770780,\n",
       " 5770781,\n",
       " 5508639,\n",
       " 5639712,\n",
       " 5770788,\n",
       " 5770789,\n",
       " 5246500,\n",
       " 7081514,\n",
       " 6688312,\n",
       " 6426171,\n",
       " 7081533,\n",
       " 7081535,\n",
       " 5639744,\n",
       " 3935810,\n",
       " 7736899,\n",
       " 5639750,\n",
       " 6426186,\n",
       " 5639760,\n",
       " 4853333,\n",
       " 4066903,\n",
       " 5639767,\n",
       " 7081562,\n",
       " 6426205,\n",
       " 6426206,\n",
       " 4329055,\n",
       " 5639776,\n",
       " 6426207,\n",
       " ...}"
      ]
     },
     "execution_count": 45,
     "metadata": {},
     "output_type": "execute_result"
    }
   ],
   "source": [
    "dif_set"
   ]
  },
  {
   "cell_type": "code",
   "execution_count": 30,
   "metadata": {},
   "outputs": [
    {
     "data": {
      "text/html": [
       "<div>\n",
       "<style scoped>\n",
       "    .dataframe tbody tr th:only-of-type {\n",
       "        vertical-align: middle;\n",
       "    }\n",
       "\n",
       "    .dataframe tbody tr th {\n",
       "        vertical-align: top;\n",
       "    }\n",
       "\n",
       "    .dataframe thead th {\n",
       "        text-align: right;\n",
       "    }\n",
       "</style>\n",
       "<table border=\"1\" class=\"dataframe\">\n",
       "  <thead>\n",
       "    <tr style=\"text-align: right;\">\n",
       "      <th></th>\n",
       "      <th>patent_id</th>\n",
       "      <th>patent_type</th>\n",
       "      <th>patent_date</th>\n",
       "      <th>patent_title</th>\n",
       "      <th>wipo_kind</th>\n",
       "      <th>num_claims</th>\n",
       "      <th>withdrawn</th>\n",
       "      <th>filename</th>\n",
       "    </tr>\n",
       "  </thead>\n",
       "  <tbody>\n",
       "    <tr>\n",
       "      <th>4433266</th>\n",
       "      <td>6291461</td>\n",
       "      <td>utility</td>\n",
       "      <td>2001-09-18</td>\n",
       "      <td>Stephacidin antitumor antibiotics</td>\n",
       "      <td>A</td>\n",
       "      <td>5</td>\n",
       "      <td>0</td>\n",
       "      <td>pftaps20010918_wk38.zip</td>\n",
       "    </tr>\n",
       "  </tbody>\n",
       "</table>\n",
       "</div>"
      ],
      "text/plain": [
       "         patent_id patent_type patent_date                       patent_title  \\\n",
       "4433266    6291461     utility  2001-09-18  Stephacidin antitumor antibiotics   \n",
       "\n",
       "        wipo_kind  num_claims  withdrawn                 filename  \n",
       "4433266         A           5          0  pftaps20010918_wk38.zip  "
      ]
     },
     "execution_count": 30,
     "metadata": {},
     "output_type": "execute_result"
    }
   ],
   "source": [
    "filtered_df[filtered_df[\"patent_id\"]==6291461]"
   ]
  },
  {
   "cell_type": "code",
   "execution_count": 36,
   "metadata": {},
   "outputs": [
    {
     "data": {
      "text/plain": [
       "True"
      ]
     },
     "execution_count": 36,
     "metadata": {},
     "output_type": "execute_result"
    }
   ],
   "source": [
    "3930271 in grantPat_fil\n",
    "grantPat_fil"
   ]
  },
  {
   "cell_type": "code",
   "execution_count": 138,
   "metadata": {},
   "outputs": [
    {
     "data": {
      "text/plain": [
       "(271, 7)"
      ]
     },
     "execution_count": 138,
     "metadata": {},
     "output_type": "execute_result"
    }
   ],
   "source": [
    "test = grantPat_df[grantPat_df[\"patent_id\"]==6173685]\n",
    "test.shape"
   ]
  },
  {
   "cell_type": "code",
   "execution_count": 151,
   "metadata": {},
   "outputs": [
    {
     "name": "stderr",
     "output_type": "stream",
     "text": [
      "C:\\Users\\edgar\\AppData\\Local\\Temp\\ipykernel_20340\\3533886845.py:1: SettingWithCopyWarning: \n",
      "A value is trying to be set on a copy of a slice from a DataFrame.\n",
      "Try using .loc[row_indexer,col_indexer] = value instead\n",
      "\n",
      "See the caveats in the documentation: https://pandas.pydata.org/pandas-docs/stable/user_guide/indexing.html#returning-a-view-versus-a-copy\n",
      "  test[\"citation_date\"] = pd.to_datetime(test[\"citation_date\"])\n"
     ]
    }
   ],
   "source": [
    "test[\"citation_date\"] = pd.to_datetime(test[\"citation_date\"])"
   ]
  },
  {
   "cell_type": "code",
   "execution_count": 164,
   "metadata": {},
   "outputs": [
    {
     "data": {
      "text/html": [
       "<div>\n",
       "<style scoped>\n",
       "    .dataframe tbody tr th:only-of-type {\n",
       "        vertical-align: middle;\n",
       "    }\n",
       "\n",
       "    .dataframe tbody tr th {\n",
       "        vertical-align: top;\n",
       "    }\n",
       "\n",
       "    .dataframe thead th {\n",
       "        text-align: right;\n",
       "    }\n",
       "</style>\n",
       "<table border=\"1\" class=\"dataframe\">\n",
       "  <thead>\n",
       "    <tr style=\"text-align: right;\">\n",
       "      <th></th>\n",
       "      <th>patent_id</th>\n",
       "      <th>citation_sequence</th>\n",
       "      <th>citation_patent_id</th>\n",
       "      <th>citation_date</th>\n",
       "      <th>record_name</th>\n",
       "      <th>wipo_kind</th>\n",
       "      <th>citation_category</th>\n",
       "    </tr>\n",
       "  </thead>\n",
       "  <tbody>\n",
       "    <tr>\n",
       "      <th>16</th>\n",
       "      <td>6173685</td>\n",
       "      <td>59</td>\n",
       "      <td>3989066</td>\n",
       "      <td>1976-11-01</td>\n",
       "      <td>Sturman et al.</td>\n",
       "      <td>NaN</td>\n",
       "      <td>NaN</td>\n",
       "    </tr>\n",
       "    <tr>\n",
       "      <th>17</th>\n",
       "      <td>6173685</td>\n",
       "      <td>60</td>\n",
       "      <td>3995652</td>\n",
       "      <td>1976-12-01</td>\n",
       "      <td>Belart et al.</td>\n",
       "      <td>NaN</td>\n",
       "      <td>NaN</td>\n",
       "    </tr>\n",
       "    <tr>\n",
       "      <th>18</th>\n",
       "      <td>6173685</td>\n",
       "      <td>61</td>\n",
       "      <td>4009695</td>\n",
       "      <td>1977-03-01</td>\n",
       "      <td>Ule</td>\n",
       "      <td>NaN</td>\n",
       "      <td>NaN</td>\n",
       "    </tr>\n",
       "    <tr>\n",
       "      <th>19</th>\n",
       "      <td>6173685</td>\n",
       "      <td>62</td>\n",
       "      <td>4046112</td>\n",
       "      <td>1977-09-01</td>\n",
       "      <td>Deckard</td>\n",
       "      <td>NaN</td>\n",
       "      <td>NaN</td>\n",
       "    </tr>\n",
       "    <tr>\n",
       "      <th>20</th>\n",
       "      <td>6173685</td>\n",
       "      <td>63</td>\n",
       "      <td>4064855</td>\n",
       "      <td>1977-12-01</td>\n",
       "      <td>Johnson</td>\n",
       "      <td>NaN</td>\n",
       "      <td>NaN</td>\n",
       "    </tr>\n",
       "    <tr>\n",
       "      <th>...</th>\n",
       "      <td>...</td>\n",
       "      <td>...</td>\n",
       "      <td>...</td>\n",
       "      <td>...</td>\n",
       "      <td>...</td>\n",
       "      <td>...</td>\n",
       "      <td>...</td>\n",
       "    </tr>\n",
       "    <tr>\n",
       "      <th>266</th>\n",
       "      <td>6173685</td>\n",
       "      <td>309</td>\n",
       "      <td>5669355</td>\n",
       "      <td>1997-09-01</td>\n",
       "      <td>Gibson et al.</td>\n",
       "      <td>NaN</td>\n",
       "      <td>NaN</td>\n",
       "    </tr>\n",
       "    <tr>\n",
       "      <th>267</th>\n",
       "      <td>6173685</td>\n",
       "      <td>310</td>\n",
       "      <td>5673669</td>\n",
       "      <td>1997-10-01</td>\n",
       "      <td>Maley et al.</td>\n",
       "      <td>NaN</td>\n",
       "      <td>NaN</td>\n",
       "    </tr>\n",
       "    <tr>\n",
       "      <th>268</th>\n",
       "      <td>6173685</td>\n",
       "      <td>311</td>\n",
       "      <td>5697342</td>\n",
       "      <td>1997-12-01</td>\n",
       "      <td>Anderson et al.</td>\n",
       "      <td>NaN</td>\n",
       "      <td>NaN</td>\n",
       "    </tr>\n",
       "    <tr>\n",
       "      <th>269</th>\n",
       "      <td>6173685</td>\n",
       "      <td>312</td>\n",
       "      <td>5713315</td>\n",
       "      <td>1998-02-01</td>\n",
       "      <td>Jyoutaki et al.</td>\n",
       "      <td>NaN</td>\n",
       "      <td>NaN</td>\n",
       "    </tr>\n",
       "    <tr>\n",
       "      <th>270</th>\n",
       "      <td>6173685</td>\n",
       "      <td>313</td>\n",
       "      <td>5713316</td>\n",
       "      <td>1998-02-01</td>\n",
       "      <td>Sturman</td>\n",
       "      <td>NaN</td>\n",
       "      <td>NaN</td>\n",
       "    </tr>\n",
       "  </tbody>\n",
       "</table>\n",
       "<p>255 rows × 7 columns</p>\n",
       "</div>"
      ],
      "text/plain": [
       "     patent_id  citation_sequence citation_patent_id citation_date  \\\n",
       "16     6173685                 59            3989066    1976-11-01   \n",
       "17     6173685                 60            3995652    1976-12-01   \n",
       "18     6173685                 61            4009695    1977-03-01   \n",
       "19     6173685                 62            4046112    1977-09-01   \n",
       "20     6173685                 63            4064855    1977-12-01   \n",
       "..         ...                ...                ...           ...   \n",
       "266    6173685                309            5669355    1997-09-01   \n",
       "267    6173685                310            5673669    1997-10-01   \n",
       "268    6173685                311            5697342    1997-12-01   \n",
       "269    6173685                312            5713315    1998-02-01   \n",
       "270    6173685                313            5713316    1998-02-01   \n",
       "\n",
       "         record_name wipo_kind citation_category  \n",
       "16    Sturman et al.       NaN               NaN  \n",
       "17     Belart et al.       NaN               NaN  \n",
       "18               Ule       NaN               NaN  \n",
       "19           Deckard       NaN               NaN  \n",
       "20           Johnson       NaN               NaN  \n",
       "..               ...       ...               ...  \n",
       "266    Gibson et al.       NaN               NaN  \n",
       "267     Maley et al.       NaN               NaN  \n",
       "268  Anderson et al.       NaN               NaN  \n",
       "269  Jyoutaki et al.       NaN               NaN  \n",
       "270          Sturman       NaN               NaN  \n",
       "\n",
       "[255 rows x 7 columns]"
      ]
     },
     "execution_count": 164,
     "metadata": {},
     "output_type": "execute_result"
    }
   ],
   "source": [
    "test[(test[\"citation_date\"].dt.year>1975) & (test[\"citation_date\"].dt.year<2011)]"
   ]
  },
  {
   "cell_type": "code",
   "execution_count": null,
   "metadata": {},
   "outputs": [
    {
     "data": {
      "text/html": [
       "<div>\n",
       "<style scoped>\n",
       "    .dataframe tbody tr th:only-of-type {\n",
       "        vertical-align: middle;\n",
       "    }\n",
       "\n",
       "    .dataframe tbody tr th {\n",
       "        vertical-align: top;\n",
       "    }\n",
       "\n",
       "    .dataframe thead th {\n",
       "        text-align: right;\n",
       "    }\n",
       "</style>\n",
       "<table border=\"1\" class=\"dataframe\">\n",
       "  <thead>\n",
       "    <tr style=\"text-align: right;\">\n",
       "      <th></th>\n",
       "      <th>patent_id</th>\n",
       "      <th>patent_type</th>\n",
       "      <th>patent_date</th>\n",
       "      <th>patent_title</th>\n",
       "      <th>wipo_kind</th>\n",
       "      <th>num_claims</th>\n",
       "      <th>withdrawn</th>\n",
       "      <th>filename</th>\n",
       "    </tr>\n",
       "  </thead>\n",
       "  <tbody>\n",
       "    <tr>\n",
       "      <th>4315816</th>\n",
       "      <td>6173685</td>\n",
       "      <td>utility</td>\n",
       "      <td>2001-01-16 00:00:00+00:00</td>\n",
       "      <td>Air-fuel module adapted for an internal combus...</td>\n",
       "      <td>A</td>\n",
       "      <td>30</td>\n",
       "      <td>0</td>\n",
       "      <td>pftaps20010116_wk03.zip</td>\n",
       "    </tr>\n",
       "  </tbody>\n",
       "</table>\n",
       "</div>"
      ],
      "text/plain": [
       "        patent_id patent_type               patent_date  \\\n",
       "4315816   6173685     utility 2001-01-16 00:00:00+00:00   \n",
       "\n",
       "                                              patent_title wipo_kind  \\\n",
       "4315816  Air-fuel module adapted for an internal combus...         A   \n",
       "\n",
       "         num_claims  withdrawn                 filename  \n",
       "4315816          30          0  pftaps20010116_wk03.zip  "
      ]
     },
     "execution_count": 137,
     "metadata": {},
     "output_type": "execute_result"
    }
   ],
   "source": [
    "patent_df[patent_df[\"patent_id\"]==\"6173685\"]"
   ]
  },
  {
   "cell_type": "code",
   "execution_count": 37,
   "metadata": {},
   "outputs": [
    {
     "name": "stderr",
     "output_type": "stream",
     "text": [
      "12it [02:40, 13.38s/it]\n"
     ]
    },
    {
     "ename": "ValueError",
     "evalue": "invalid literal for int() with base 10: 'D1000000'",
     "output_type": "error",
     "traceback": [
      "\u001b[1;31m---------------------------------------------------------------------------\u001b[0m",
      "\u001b[1;31mTypeError\u001b[0m                                 Traceback (most recent call last)",
      "File \u001b[1;32mparsers.pyx:1161\u001b[0m, in \u001b[0;36mpandas._libs.parsers.TextReader._convert_tokens\u001b[1;34m()\u001b[0m\n",
      "\u001b[1;31mTypeError\u001b[0m: Cannot cast array data from dtype('O') to dtype('int64') according to the rule 'safe'",
      "\nDuring handling of the above exception, another exception occurred:\n",
      "\u001b[1;31mValueError\u001b[0m                                Traceback (most recent call last)",
      "Cell \u001b[1;32mIn[37], line 18\u001b[0m\n\u001b[0;32m     16\u001b[0m \u001b[38;5;66;03m# Process chunks\u001b[39;00m\n\u001b[0;32m     17\u001b[0m df_list \u001b[38;5;241m=\u001b[39m []\n\u001b[1;32m---> 18\u001b[0m \u001b[38;5;28;43;01mfor\u001b[39;49;00m\u001b[43m \u001b[49m\u001b[43mchunk\u001b[49m\u001b[43m \u001b[49m\u001b[38;5;129;43;01min\u001b[39;49;00m\u001b[43m \u001b[49m\u001b[43mtqdm\u001b[49m\u001b[43m(\u001b[49m\u001b[43mchunks\u001b[49m\u001b[43m)\u001b[49m\u001b[43m:\u001b[49m\n\u001b[0;32m     19\u001b[0m \u001b[43m    \u001b[49m\u001b[38;5;66;43;03m# Parse citation_date as datetime\u001b[39;49;00m\n\u001b[0;32m     20\u001b[0m \u001b[43m    \u001b[49m\u001b[43mchunk\u001b[49m\u001b[43m[\u001b[49m\u001b[38;5;124;43m\"\u001b[39;49m\u001b[38;5;124;43mcitation_date\u001b[39;49m\u001b[38;5;124;43m\"\u001b[39;49m\u001b[43m]\u001b[49m\u001b[43m \u001b[49m\u001b[38;5;241;43m=\u001b[39;49m\u001b[43m \u001b[49m\u001b[43mpd\u001b[49m\u001b[38;5;241;43m.\u001b[39;49m\u001b[43mto_datetime\u001b[49m\u001b[43m(\u001b[49m\u001b[43mchunk\u001b[49m\u001b[43m[\u001b[49m\u001b[38;5;124;43m\"\u001b[39;49m\u001b[38;5;124;43mcitation_date\u001b[39;49m\u001b[38;5;124;43m\"\u001b[39;49m\u001b[43m]\u001b[49m\u001b[43m,\u001b[49m\u001b[43m \u001b[49m\u001b[43merrors\u001b[49m\u001b[38;5;241;43m=\u001b[39;49m\u001b[38;5;124;43m\"\u001b[39;49m\u001b[38;5;124;43mcoerce\u001b[39;49m\u001b[38;5;124;43m\"\u001b[39;49m\u001b[43m)\u001b[49m\n\u001b[0;32m     22\u001b[0m \u001b[43m    \u001b[49m\u001b[38;5;66;43;03m# Append processed chunk to the list\u001b[39;49;00m\n",
      "File \u001b[1;32mc:\\Users\\edgar\\OneDrive\\Bureau\\Ecole\\HEC\\A24\\BrevetNLP\\.conda\\Lib\\site-packages\\tqdm\\std.py:1181\u001b[0m, in \u001b[0;36mtqdm.__iter__\u001b[1;34m(self)\u001b[0m\n\u001b[0;32m   1178\u001b[0m time \u001b[38;5;241m=\u001b[39m \u001b[38;5;28mself\u001b[39m\u001b[38;5;241m.\u001b[39m_time\n\u001b[0;32m   1180\u001b[0m \u001b[38;5;28;01mtry\u001b[39;00m:\n\u001b[1;32m-> 1181\u001b[0m \u001b[43m    \u001b[49m\u001b[38;5;28;43;01mfor\u001b[39;49;00m\u001b[43m \u001b[49m\u001b[43mobj\u001b[49m\u001b[43m \u001b[49m\u001b[38;5;129;43;01min\u001b[39;49;00m\u001b[43m \u001b[49m\u001b[43miterable\u001b[49m\u001b[43m:\u001b[49m\n\u001b[0;32m   1182\u001b[0m \u001b[43m        \u001b[49m\u001b[38;5;28;43;01myield\u001b[39;49;00m\u001b[43m \u001b[49m\u001b[43mobj\u001b[49m\n\u001b[0;32m   1183\u001b[0m \u001b[43m        \u001b[49m\u001b[38;5;66;43;03m# Update and possibly print the progressbar.\u001b[39;49;00m\n\u001b[0;32m   1184\u001b[0m \u001b[43m        \u001b[49m\u001b[38;5;66;43;03m# Note: does not call self.update(1) for speed optimisation.\u001b[39;49;00m\n",
      "File \u001b[1;32mc:\\Users\\edgar\\OneDrive\\Bureau\\Ecole\\HEC\\A24\\BrevetNLP\\.conda\\Lib\\site-packages\\pandas\\io\\parsers\\readers.py:1843\u001b[0m, in \u001b[0;36mTextFileReader.__next__\u001b[1;34m(self)\u001b[0m\n\u001b[0;32m   1841\u001b[0m \u001b[38;5;28;01mdef\u001b[39;00m \u001b[38;5;21m__next__\u001b[39m(\u001b[38;5;28mself\u001b[39m) \u001b[38;5;241m-\u001b[39m\u001b[38;5;241m>\u001b[39m DataFrame:\n\u001b[0;32m   1842\u001b[0m     \u001b[38;5;28;01mtry\u001b[39;00m:\n\u001b[1;32m-> 1843\u001b[0m         \u001b[38;5;28;01mreturn\u001b[39;00m \u001b[38;5;28;43mself\u001b[39;49m\u001b[38;5;241;43m.\u001b[39;49m\u001b[43mget_chunk\u001b[49m\u001b[43m(\u001b[49m\u001b[43m)\u001b[49m\n\u001b[0;32m   1844\u001b[0m     \u001b[38;5;28;01mexcept\u001b[39;00m \u001b[38;5;167;01mStopIteration\u001b[39;00m:\n\u001b[0;32m   1845\u001b[0m         \u001b[38;5;28mself\u001b[39m\u001b[38;5;241m.\u001b[39mclose()\n",
      "File \u001b[1;32mc:\\Users\\edgar\\OneDrive\\Bureau\\Ecole\\HEC\\A24\\BrevetNLP\\.conda\\Lib\\site-packages\\pandas\\io\\parsers\\readers.py:1985\u001b[0m, in \u001b[0;36mTextFileReader.get_chunk\u001b[1;34m(self, size)\u001b[0m\n\u001b[0;32m   1983\u001b[0m         \u001b[38;5;28;01mraise\u001b[39;00m \u001b[38;5;167;01mStopIteration\u001b[39;00m\n\u001b[0;32m   1984\u001b[0m     size \u001b[38;5;241m=\u001b[39m \u001b[38;5;28mmin\u001b[39m(size, \u001b[38;5;28mself\u001b[39m\u001b[38;5;241m.\u001b[39mnrows \u001b[38;5;241m-\u001b[39m \u001b[38;5;28mself\u001b[39m\u001b[38;5;241m.\u001b[39m_currow)\n\u001b[1;32m-> 1985\u001b[0m \u001b[38;5;28;01mreturn\u001b[39;00m \u001b[38;5;28;43mself\u001b[39;49m\u001b[38;5;241;43m.\u001b[39;49m\u001b[43mread\u001b[49m\u001b[43m(\u001b[49m\u001b[43mnrows\u001b[49m\u001b[38;5;241;43m=\u001b[39;49m\u001b[43msize\u001b[49m\u001b[43m)\u001b[49m\n",
      "File \u001b[1;32mc:\\Users\\edgar\\OneDrive\\Bureau\\Ecole\\HEC\\A24\\BrevetNLP\\.conda\\Lib\\site-packages\\pandas\\io\\parsers\\readers.py:1923\u001b[0m, in \u001b[0;36mTextFileReader.read\u001b[1;34m(self, nrows)\u001b[0m\n\u001b[0;32m   1916\u001b[0m nrows \u001b[38;5;241m=\u001b[39m validate_integer(\u001b[38;5;124m\"\u001b[39m\u001b[38;5;124mnrows\u001b[39m\u001b[38;5;124m\"\u001b[39m, nrows)\n\u001b[0;32m   1917\u001b[0m \u001b[38;5;28;01mtry\u001b[39;00m:\n\u001b[0;32m   1918\u001b[0m     \u001b[38;5;66;03m# error: \"ParserBase\" has no attribute \"read\"\u001b[39;00m\n\u001b[0;32m   1919\u001b[0m     (\n\u001b[0;32m   1920\u001b[0m         index,\n\u001b[0;32m   1921\u001b[0m         columns,\n\u001b[0;32m   1922\u001b[0m         col_dict,\n\u001b[1;32m-> 1923\u001b[0m     ) \u001b[38;5;241m=\u001b[39m \u001b[38;5;28;43mself\u001b[39;49m\u001b[38;5;241;43m.\u001b[39;49m\u001b[43m_engine\u001b[49m\u001b[38;5;241;43m.\u001b[39;49m\u001b[43mread\u001b[49m\u001b[43m(\u001b[49m\u001b[43m  \u001b[49m\u001b[38;5;66;43;03m# type: ignore[attr-defined]\u001b[39;49;00m\n\u001b[0;32m   1924\u001b[0m \u001b[43m        \u001b[49m\u001b[43mnrows\u001b[49m\n\u001b[0;32m   1925\u001b[0m \u001b[43m    \u001b[49m\u001b[43m)\u001b[49m\n\u001b[0;32m   1926\u001b[0m \u001b[38;5;28;01mexcept\u001b[39;00m \u001b[38;5;167;01mException\u001b[39;00m:\n\u001b[0;32m   1927\u001b[0m     \u001b[38;5;28mself\u001b[39m\u001b[38;5;241m.\u001b[39mclose()\n",
      "File \u001b[1;32mc:\\Users\\edgar\\OneDrive\\Bureau\\Ecole\\HEC\\A24\\BrevetNLP\\.conda\\Lib\\site-packages\\pandas\\io\\parsers\\c_parser_wrapper.py:234\u001b[0m, in \u001b[0;36mCParserWrapper.read\u001b[1;34m(self, nrows)\u001b[0m\n\u001b[0;32m    232\u001b[0m \u001b[38;5;28;01mtry\u001b[39;00m:\n\u001b[0;32m    233\u001b[0m     \u001b[38;5;28;01mif\u001b[39;00m \u001b[38;5;28mself\u001b[39m\u001b[38;5;241m.\u001b[39mlow_memory:\n\u001b[1;32m--> 234\u001b[0m         chunks \u001b[38;5;241m=\u001b[39m \u001b[38;5;28;43mself\u001b[39;49m\u001b[38;5;241;43m.\u001b[39;49m\u001b[43m_reader\u001b[49m\u001b[38;5;241;43m.\u001b[39;49m\u001b[43mread_low_memory\u001b[49m\u001b[43m(\u001b[49m\u001b[43mnrows\u001b[49m\u001b[43m)\u001b[49m\n\u001b[0;32m    235\u001b[0m         \u001b[38;5;66;03m# destructive to chunks\u001b[39;00m\n\u001b[0;32m    236\u001b[0m         data \u001b[38;5;241m=\u001b[39m _concatenate_chunks(chunks)\n",
      "File \u001b[1;32mparsers.pyx:850\u001b[0m, in \u001b[0;36mpandas._libs.parsers.TextReader.read_low_memory\u001b[1;34m()\u001b[0m\n",
      "File \u001b[1;32mparsers.pyx:921\u001b[0m, in \u001b[0;36mpandas._libs.parsers.TextReader._read_rows\u001b[1;34m()\u001b[0m\n",
      "File \u001b[1;32mparsers.pyx:1066\u001b[0m, in \u001b[0;36mpandas._libs.parsers.TextReader._convert_column_data\u001b[1;34m()\u001b[0m\n",
      "File \u001b[1;32mparsers.pyx:1167\u001b[0m, in \u001b[0;36mpandas._libs.parsers.TextReader._convert_tokens\u001b[1;34m()\u001b[0m\n",
      "\u001b[1;31mValueError\u001b[0m: invalid literal for int() with base 10: 'D1000000'"
     ]
    }
   ],
   "source": [
    "from tqdm import tqdm\n",
    "# Define data types for the selected columns\n",
    "dtype_dict = {\n",
    "    \"patent_id\": \"int64\",  # Assuming this column is always numeric\n",
    "    \"citation_patent_id\": \"string\",  # Keep as string to preserve non-numeric data\n",
    "    \"citation_date\": \"string\",  # Parse as datetime later\n",
    "}\n",
    "\n",
    "# Load only the required columns\n",
    "columns_to_load = [\"patent_id\", \"citation_patent_id\", \"citation_date\"]\n",
    "\n",
    "# Use chunks to handle large data\n",
    "chunk_size = 10_000_000  # Adjust chunk size based on memory\n",
    "chunks = pd.read_csv(output_file, usecols=columns_to_load, dtype=dtype_dict, chunksize=chunk_size, delimiter='\\t')\n",
    "\n",
    "# Process chunks\n",
    "df_list = []\n",
    "for chunk in tqdm(chunks):\n",
    "    # Parse citation_date as datetime\n",
    "    chunk[\"citation_date\"] = pd.to_datetime(chunk[\"citation_date\"], errors=\"coerce\")\n",
    "    \n",
    "    # Append processed chunk to the list\n",
    "    df_list.append(chunk)\n",
    "\n",
    "# Combine all chunks into a single DataFrame (optional)\n",
    "df = pd.concat(df_list, ignore_index=True)\n",
    "\n",
    "# Display the result\n",
    "print(df.info(memory_usage=\"deep\"))"
   ]
  }
 ],
 "metadata": {
  "kernelspec": {
   "display_name": ".conda",
   "language": "python",
   "name": "python3"
  },
  "language_info": {
   "codemirror_mode": {
    "name": "ipython",
    "version": 3
   },
   "file_extension": ".py",
   "mimetype": "text/x-python",
   "name": "python",
   "nbconvert_exporter": "python",
   "pygments_lexer": "ipython3",
   "version": "3.11.10"
  }
 },
 "nbformat": 4,
 "nbformat_minor": 2
}
