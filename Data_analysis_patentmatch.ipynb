{
 "cells": [
  {
   "cell_type": "markdown",
   "id": "169bc6bf-2b0b-44a3-912c-5b80cea53887",
   "metadata": {},
   "source": [
    "# Useful comments\n",
    "\n",
    "From 2012 onwards, the search reports for all patent applications are also included. </br>\n",
    "Before 2021 don't include the the research report -- only here for the base reference </br>\n",
    "we later used the same scripts to generate not only positive (category X) but also negative samples (category A) </br>"
   ]
  },
  {
   "cell_type": "code",
   "execution_count": 1,
   "id": "3c643e7a-51f1-4445-bda0-61cf60894dc5",
   "metadata": {
    "tags": []
   },
   "outputs": [],
   "source": [
    "import pandas as pd"
   ]
  },
  {
   "cell_type": "code",
   "execution_count": 32,
   "id": "eb32d747-032d-4dcc-afcb-645229b87501",
   "metadata": {
    "tags": []
   },
   "outputs": [],
   "source": [
    "df_tsv_sep = pd.read_csv('data/patentmatch/patentmatch_test_ultrabalanced/patentmatch_test_ultrabalanced.tsv', index_col=0, sep='\\t')"
   ]
  },
  {
   "cell_type": "code",
   "execution_count": 33,
   "id": "a00bad35-f280-4231-9aee-40a5ebedcbb3",
   "metadata": {
    "tags": []
   },
   "outputs": [
    {
     "data": {
      "text/html": [
       "<div>\n",
       "<style scoped>\n",
       "    .dataframe tbody tr th:only-of-type {\n",
       "        vertical-align: middle;\n",
       "    }\n",
       "\n",
       "    .dataframe tbody tr th {\n",
       "        vertical-align: top;\n",
       "    }\n",
       "\n",
       "    .dataframe thead th {\n",
       "        text-align: right;\n",
       "    }\n",
       "</style>\n",
       "<table border=\"1\" class=\"dataframe\">\n",
       "  <thead>\n",
       "    <tr style=\"text-align: right;\">\n",
       "      <th></th>\n",
       "      <th>index</th>\n",
       "      <th>claim_id</th>\n",
       "      <th>patent_application_id</th>\n",
       "      <th>cited_document_id</th>\n",
       "      <th>text</th>\n",
       "      <th>text_b</th>\n",
       "      <th>label</th>\n",
       "      <th>date</th>\n",
       "    </tr>\n",
       "  </thead>\n",
       "  <tbody>\n",
       "    <tr>\n",
       "      <th>24598</th>\n",
       "      <td>24598</td>\n",
       "      <td>199288_1</td>\n",
       "      <td>EP3226074A1</td>\n",
       "      <td>EP2481597</td>\n",
       "      <td>The exposure device 10 according to claim 1 wh...</td>\n",
       "      <td>FIG.3 is a top view of the circuit board 62 an...</td>\n",
       "      <td>1</td>\n",
       "      <td>20171004</td>\n",
       "    </tr>\n",
       "    <tr>\n",
       "      <th>10435</th>\n",
       "      <td>10435</td>\n",
       "      <td>111577_0</td>\n",
       "      <td>EP3156831A1</td>\n",
       "      <td>EP1978383</td>\n",
       "      <td>The fiber according to any of claims 112 where...</td>\n",
       "      <td>The transmission optical fiber according to th...</td>\n",
       "      <td>0</td>\n",
       "      <td>20170419</td>\n",
       "    </tr>\n",
       "    <tr>\n",
       "      <th>12540</th>\n",
       "      <td>12540</td>\n",
       "      <td>210736_0</td>\n",
       "      <td>EP3263743A1</td>\n",
       "      <td>EP3034652</td>\n",
       "      <td>The coated cutting tool of any of the precedin...</td>\n",
       "      <td>On top of the bonding layer an Al2O3 layer was...</td>\n",
       "      <td>0</td>\n",
       "      <td>20180103</td>\n",
       "    </tr>\n",
       "    <tr>\n",
       "      <th>11315</th>\n",
       "      <td>11315</td>\n",
       "      <td>99326_0</td>\n",
       "      <td>EP3187647A1</td>\n",
       "      <td>EP2876196</td>\n",
       "      <td>Household appliance 2 comprising an electronic...</td>\n",
       "      <td>A single plastic body 94 of the capacitive mod...</td>\n",
       "      <td>0</td>\n",
       "      <td>20170705</td>\n",
       "    </tr>\n",
       "    <tr>\n",
       "      <th>11597</th>\n",
       "      <td>11597</td>\n",
       "      <td>219765_0</td>\n",
       "      <td>EP3205820A1</td>\n",
       "      <td>EP1239116</td>\n",
       "      <td>The blade 10 according to claim 8 further incl...</td>\n",
       "      <td>In this way the weld plane 42 is positioned wi...</td>\n",
       "      <td>0</td>\n",
       "      <td>20170816</td>\n",
       "    </tr>\n",
       "    <tr>\n",
       "      <th>...</th>\n",
       "      <td>...</td>\n",
       "      <td>...</td>\n",
       "      <td>...</td>\n",
       "      <td>...</td>\n",
       "      <td>...</td>\n",
       "      <td>...</td>\n",
       "      <td>...</td>\n",
       "      <td>...</td>\n",
       "    </tr>\n",
       "    <tr>\n",
       "      <th>11670</th>\n",
       "      <td>11670</td>\n",
       "      <td>220947_0</td>\n",
       "      <td>EP3208678A1</td>\n",
       "      <td>EP1790838</td>\n",
       "      <td>A reduced order model ROM sensor system to det...</td>\n",
       "      <td>According to a first aspect the present invent...</td>\n",
       "      <td>0</td>\n",
       "      <td>20170823</td>\n",
       "    </tr>\n",
       "    <tr>\n",
       "      <th>11994</th>\n",
       "      <td>11994</td>\n",
       "      <td>175110_0</td>\n",
       "      <td>EP3228469A1</td>\n",
       "      <td>EP1449668</td>\n",
       "      <td>A printer comprising a printing head 10 and a ...</td>\n",
       "      <td>Then the paper 2 is conveyed with the airflow ...</td>\n",
       "      <td>0</td>\n",
       "      <td>20171011</td>\n",
       "    </tr>\n",
       "    <tr>\n",
       "      <th>25203</th>\n",
       "      <td>25203</td>\n",
       "      <td>203485_1</td>\n",
       "      <td>EP3263386A1</td>\n",
       "      <td>EP2985166</td>\n",
       "      <td>A working vehicle1 comprising an exhaust pipel...</td>\n",
       "      <td>FIG.1 is a perspective view of an embodiment o...</td>\n",
       "      <td>1</td>\n",
       "      <td>20180103</td>\n",
       "    </tr>\n",
       "    <tr>\n",
       "      <th>23742</th>\n",
       "      <td>23742</td>\n",
       "      <td>180243_1</td>\n",
       "      <td>EP3179350A1</td>\n",
       "      <td>EP2854000</td>\n",
       "      <td>The touch screen panel 300 1300 2300 of one of...</td>\n",
       "      <td>The second wire 320 may be formed of a metal h...</td>\n",
       "      <td>1</td>\n",
       "      <td>20170614</td>\n",
       "    </tr>\n",
       "    <tr>\n",
       "      <th>10658</th>\n",
       "      <td>10658</td>\n",
       "      <td>142532_0</td>\n",
       "      <td>EP3165111A1</td>\n",
       "      <td>EP2484240</td>\n",
       "      <td>Part 100 400 500 of a shoe according to any on...</td>\n",
       "      <td>The base material 40 and more generally the ba...</td>\n",
       "      <td>0</td>\n",
       "      <td>20170510</td>\n",
       "    </tr>\n",
       "  </tbody>\n",
       "</table>\n",
       "<p>5068 rows × 8 columns</p>\n",
       "</div>"
      ],
      "text/plain": [
       "       index  claim_id patent_application_id cited_document_id  \\\n",
       "24598  24598  199288_1           EP3226074A1         EP2481597   \n",
       "10435  10435  111577_0           EP3156831A1         EP1978383   \n",
       "12540  12540  210736_0           EP3263743A1         EP3034652   \n",
       "11315  11315   99326_0           EP3187647A1         EP2876196   \n",
       "11597  11597  219765_0           EP3205820A1         EP1239116   \n",
       "...      ...       ...                   ...               ...   \n",
       "11670  11670  220947_0           EP3208678A1         EP1790838   \n",
       "11994  11994  175110_0           EP3228469A1         EP1449668   \n",
       "25203  25203  203485_1           EP3263386A1         EP2985166   \n",
       "23742  23742  180243_1           EP3179350A1         EP2854000   \n",
       "10658  10658  142532_0           EP3165111A1         EP2484240   \n",
       "\n",
       "                                                    text  \\\n",
       "24598  The exposure device 10 according to claim 1 wh...   \n",
       "10435  The fiber according to any of claims 112 where...   \n",
       "12540  The coated cutting tool of any of the precedin...   \n",
       "11315  Household appliance 2 comprising an electronic...   \n",
       "11597  The blade 10 according to claim 8 further incl...   \n",
       "...                                                  ...   \n",
       "11670  A reduced order model ROM sensor system to det...   \n",
       "11994  A printer comprising a printing head 10 and a ...   \n",
       "25203  A working vehicle1 comprising an exhaust pipel...   \n",
       "23742  The touch screen panel 300 1300 2300 of one of...   \n",
       "10658  Part 100 400 500 of a shoe according to any on...   \n",
       "\n",
       "                                                  text_b  label      date  \n",
       "24598  FIG.3 is a top view of the circuit board 62 an...      1  20171004  \n",
       "10435  The transmission optical fiber according to th...      0  20170419  \n",
       "12540  On top of the bonding layer an Al2O3 layer was...      0  20180103  \n",
       "11315  A single plastic body 94 of the capacitive mod...      0  20170705  \n",
       "11597  In this way the weld plane 42 is positioned wi...      0  20170816  \n",
       "...                                                  ...    ...       ...  \n",
       "11670  According to a first aspect the present invent...      0  20170823  \n",
       "11994  Then the paper 2 is conveyed with the airflow ...      0  20171011  \n",
       "25203  FIG.1 is a perspective view of an embodiment o...      1  20180103  \n",
       "23742  The second wire 320 may be formed of a metal h...      1  20170614  \n",
       "10658  The base material 40 and more generally the ba...      0  20170510  \n",
       "\n",
       "[5068 rows x 8 columns]"
      ]
     },
     "execution_count": 33,
     "metadata": {},
     "output_type": "execute_result"
    }
   ],
   "source": [
    "df_tsv_sep"
   ]
  },
  {
   "cell_type": "code",
   "execution_count": 34,
   "id": "31e65f7d-4e89-4554-be79-b3b7c338fbbe",
   "metadata": {
    "tags": []
   },
   "outputs": [],
   "source": [
    "df_test = df_tsv_sep[df_tsv_sep['patent_application_id'] == 'EP3226074A1']"
   ]
  },
  {
   "cell_type": "code",
   "execution_count": 58,
   "id": "0329e215-70de-4134-985f-c11cc2a0e872",
   "metadata": {
    "tags": []
   },
   "outputs": [
    {
     "data": {
      "text/plain": [
       "18"
      ]
     },
     "execution_count": 58,
     "metadata": {},
     "output_type": "execute_result"
    }
   ],
   "source": [
    "v"
   ]
  },
  {
   "cell_type": "code",
   "execution_count": 35,
   "id": "20859d7f-a88c-4234-b977-3612532a73a0",
   "metadata": {
    "tags": []
   },
   "outputs": [],
   "source": [
    "df_test_neg = df_test[df_test['label'] == 0]\n",
    "df_test_pos = df_test[df_test['label'] == 1]"
   ]
  },
  {
   "cell_type": "code",
   "execution_count": 59,
   "id": "e386a45f-96bd-443a-a2df-725e66a87183",
   "metadata": {
    "tags": []
   },
   "outputs": [
    {
     "data": {
      "text/plain": [
       "9"
      ]
     },
     "execution_count": 59,
     "metadata": {},
     "output_type": "execute_result"
    }
   ],
   "source": [
    "len(df_test_neg[\"text\"])"
   ]
  },
  {
   "cell_type": "code",
   "execution_count": 36,
   "id": "e0336556-5f52-443d-984b-f15aec3e6692",
   "metadata": {
    "tags": []
   },
   "outputs": [
    {
     "data": {
      "text/plain": [
       "['FIG.6A shows design values concerning ink landing in this embodiment.It is assumed that sixteen ink droplets can be discharged in the overlapping section from each of the head chips 20.It is also assumed that the inkdroplet landing interval outside the overlapping sections of both the head chips 20 is 42.3 m.',\n",
       " 'FIG.6B shows an example in which the relative difference in landing position between one head chip 20 and the other head chip 20 is 0 m.In this case the landing interval in the printing direction between the eighth ink droplet from the left in the upper overlapping section and the ninth ink droplet from the left in the lower overlappingsection is 42.3 m.That is the landing interval is equal to the landing interval outside the overlapping section.Therefore by switching the discharging of ink droplets from one head chip 20 to the other head chip 20 at that position the boundary between the head chips 20 can be made unnoticeable.',\n",
       " 'In FIGS.6A to 6E the center positions of the nozzles 21 and the center positions of the heaters 22 are made different from each other in the overlapping sections of the head chips 20 so as to change the inkdroplet landing intervals.']"
      ]
     },
     "execution_count": 36,
     "metadata": {},
     "output_type": "execute_result"
    }
   ],
   "source": [
    "list(df_test_neg['text_b'])[0:3]"
   ]
  },
  {
   "cell_type": "code",
   "execution_count": 37,
   "id": "d5444771-2704-48e3-bf82-c31ee17314d5",
   "metadata": {
    "tags": []
   },
   "outputs": [
    {
     "data": {
      "text/plain": [
       "['FIG.3 is a top view of the circuit board 62 and the light emitting unit 63 in the light emitting element head 14.',\n",
       " 'FIG.2 is a view illustrating a configuration of the light emitting element head 14 according to the exemplary embodiment.The light emitting element head 14 includes a housing 61 a light emitting unit 63 having a plurality of LEDs as light emitting elements a circuit board 62 mounted on the light emitting unit 63 or a signal generating circuit 100 see FIG.3 to be described below and a rod lens radial gradient index lens array 64 that is an example of an optical device for focusing a light output emitted from the LEDs to expose the photoreceptor drum 12 thereby forming an electrostatic latent image.',\n",
       " 'In a case where the light emitting chips C and the light emitting thyristors L are arranged in that way it is possible to perform the magnification correction to increase the magnification in the main scan direction.However it is difficult to perform the magnification correction to decrease the magnification in the main scan direction while suppressing disturbance of the image.']"
      ]
     },
     "execution_count": 37,
     "metadata": {},
     "output_type": "execute_result"
    }
   ],
   "source": [
    "list(df_test_pos['text_b'])[0:3]"
   ]
  },
  {
   "cell_type": "code",
   "execution_count": 39,
   "id": "6b7daf58-58cd-4a02-888c-015363dd5061",
   "metadata": {
    "tags": []
   },
   "outputs": [
    {
     "data": {
      "text/plain": [
       "{'EP1238805', 'EP2481597'}"
      ]
     },
     "execution_count": 39,
     "metadata": {},
     "output_type": "execute_result"
    }
   ],
   "source": [
    "set(list(df_test['cited_document_id']))"
   ]
  },
  {
   "cell_type": "code",
   "execution_count": 45,
   "id": "2af6eed9-71a2-48e1-86d8-8a9549643ed8",
   "metadata": {
    "tags": []
   },
   "outputs": [],
   "source": [
    "df_test3 = df_test[df_test['cited_document_id'] == 'EP1238805']\n",
    "df_test4 = df_test[df_test['cited_document_id'] == 'EP2481597']"
   ]
  },
  {
   "cell_type": "code",
   "execution_count": 44,
   "id": "cd5afc14-fec8-4b9c-a106-683b00650d1e",
   "metadata": {
    "tags": []
   },
   "outputs": [
    {
     "data": {
      "text/plain": [
       "{0}"
      ]
     },
     "execution_count": 44,
     "metadata": {},
     "output_type": "execute_result"
    }
   ],
   "source": [
    "set(list(df_test3['label']))"
   ]
  },
  {
   "cell_type": "code",
   "execution_count": 46,
   "id": "b6a085d3-1822-4f56-8dbb-ddad7709d069",
   "metadata": {
    "tags": []
   },
   "outputs": [
    {
     "data": {
      "text/plain": [
       "{1}"
      ]
     },
     "execution_count": 46,
     "metadata": {},
     "output_type": "execute_result"
    }
   ],
   "source": [
    "set(list(df_test4['label']))"
   ]
  },
  {
   "cell_type": "code",
   "execution_count": 47,
   "id": "cc8b6252-4c67-44f6-b071-3cdcce676aad",
   "metadata": {
    "tags": []
   },
   "outputs": [],
   "source": [
    "# test\n",
    "list_patent = set(list(df_tsv_sep['patent_application_id']))"
   ]
  },
  {
   "cell_type": "code",
   "execution_count": 56,
   "id": "1d1d1108-e06a-42be-978c-8f343ff949b4",
   "metadata": {
    "tags": []
   },
   "outputs": [
    {
     "name": "stdout",
     "output_type": "stream",
     "text": [
      "2.296666666666667\n"
     ]
    }
   ],
   "source": [
    "max_len = 0\n",
    "avg_count = 0\n",
    "for patent in list_patent:\n",
    "    test = df_tsv_sep[df_tsv_sep['patent_application_id'] == patent]\n",
    "    current_len = len(set(list(test['cited_document_id'])))\n",
    "    avg_count += current_len\n",
    "    if current_len > max_len:\n",
    "        max_len = current_len\n",
    "        \n",
    "print(avg_count/300)"
   ]
  },
  {
   "cell_type": "code",
   "execution_count": 54,
   "id": "9523e068-1dc4-4f78-af28-c7644dcd1ec3",
   "metadata": {
    "tags": []
   },
   "outputs": [
    {
     "name": "stdout",
     "output_type": "stream",
     "text": [
      "8\n"
     ]
    }
   ],
   "source": [
    "print(max_len)"
   ]
  },
  {
   "cell_type": "code",
   "execution_count": 64,
   "id": "3e4e2144-f233-4d96-9da4-591215f76c45",
   "metadata": {
    "tags": []
   },
   "outputs": [],
   "source": [
    "file = open(\"data/patentmatch/patentsview_df_for_regressions.dta\", \"r\", errors=\"ignore\")\n",
    "file.read()"
   ]
  },
  {
   "cell_type": "code",
   "execution_count": 66,
   "id": "2b1f1e01-222d-4533-ab80-d327d6eda00d",
   "metadata": {
    "tags": []
   },
   "outputs": [
    {
     "data": {
      "text/plain": [
       "<function TextIOWrapper.readline(size=-1, /)>"
      ]
     },
     "execution_count": 66,
     "metadata": {},
     "output_type": "execute_result"
    }
   ],
   "source": [
    "fo"
   ]
  },
  {
   "cell_type": "code",
   "execution_count": null,
   "id": "d925d2ea-f70b-4a64-9d2c-782a5edb994b",
   "metadata": {},
   "outputs": [],
   "source": []
  }
 ],
 "metadata": {
  "kernelspec": {
   "display_name": "Python 3 (ipykernel)",
   "language": "python",
   "name": "python3"
  },
  "language_info": {
   "codemirror_mode": {
    "name": "ipython",
    "version": 3
   },
   "file_extension": ".py",
   "mimetype": "text/x-python",
   "name": "python",
   "nbconvert_exporter": "python",
   "pygments_lexer": "ipython3",
   "version": "3.11.5"
  }
 },
 "nbformat": 4,
 "nbformat_minor": 5
}
