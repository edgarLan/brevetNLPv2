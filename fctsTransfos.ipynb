{
 "cells": [
  {
   "cell_type": "code",
   "execution_count": 1,
   "metadata": {},
   "outputs": [],
   "source": [
    "import os\n",
    "import pandas as pd\n",
    "from os import listdir\n",
    "from os.path import isfile, join\n",
    "import json\n",
    "import collections\n",
    "import re\n",
    "from tqdm import tqdm"
   ]
  },
  {
   "cell_type": "code",
   "execution_count": 162,
   "metadata": {},
   "outputs": [],
   "source": [
    "# Function returning T if years are valid and present in dataset\n",
    "def checkYears(year, yearsNeeded, pathData):\n",
    "    ret = False\n",
    "    folder_names = [folder for folder in os.listdir(pathData) if os.path.isdir(os.path.join(pathData, folder))]\n",
    "    folder_years = [int(name) for name in folder_names] \n",
    "    required_years = set(range(year - yearsNeeded, year))\n",
    "    missing_years = required_years - set(folder_years)\n",
    "\n",
    "    # Check for missing 2004 and 2005\n",
    "    if {2004}.issubset(required_years | {year}) or {2005}.issubset(required_years | {year}):\n",
    "        print(f\"For eval year {year}: Missing IPC - 2004 and/or 2005\")\n",
    "    if {2017}.issubset(required_years | {year}) or {2018}.issubset(required_years | {year}):\n",
    "        print(f\"For eval year {year}: Incomplete data - 2017 and/or 2018\")\n",
    "\n",
    "    # General check for missing years\n",
    "    if not missing_years:\n",
    "        print(f\"All {yearsNeeded} reference years for eval year {year} present\")\n",
    "    else:\n",
    "        print(f\"Missing years: {missing_years}\")\n",
    "    if not missing_years and not({2004}.issubset(required_years | {year}) or {2005}.issubset(required_years | {year})) and not({2017}.issubset(required_years | {year}) or {2018}.issubset(required_years | {year})):\n",
    "        ret = True                                                                                                                      \n",
    "    return ret"
   ]
  },
  {
   "cell_type": "code",
   "execution_count": 190,
   "metadata": {},
   "outputs": [],
   "source": [
    "# Function taking year, IPC class, path to data, and path to output and writing CSV file toEval for current year and IPC, and also writing secondary IPC in /text/_.txt\n",
    "# Needs a directory /test in output path\n",
    "def json2toEval(year, ipc, pathData, pathOutput):\n",
    "    print(f\"Create toEval, iterate through all patents of current year {year}\")\n",
    "\n",
    "    pathYear = pathData+ f\"/{year}/\"                                # Updates with variable year\n",
    "    jsonNamesYear = [f for f in listdir(pathYear) if isfile(join(pathYear, f))] \n",
    "\n",
    "    # Initialization of list for IPC class\n",
    "    decision_ipc  = collections.defaultdict(int) # Initialization of dict for IPC class - initialized at 0, used to count occurences   \n",
    "    patent_ipc_list = [] # initialization of list for IPC class \n",
    "\n",
    "    # Creates list of patents from this IPC class\n",
    "    for i in tqdm(range(len(jsonNamesYear))):\n",
    "        patent_path = pathYear + jsonNamesYear[i]\n",
    "        with open(patent_path) as f:\n",
    "            d = json.load(f) # load json in d\n",
    "            f.close()   # close f - not needed with \"with ___ as\" syntax\n",
    "        class_mainIPC = d['main_ipcr_label']\n",
    "        if re.match(f'^{ipc}', class_mainIPC):\n",
    "            patent_ipc_list.append(jsonNamesYear[i])\n",
    "            decision_ipc[d['decision']] += 1\n",
    "\n",
    "    # Create list exluding all other than accepted and rejected\n",
    "    final_patents = []\n",
    "    for i in tqdm(range(len(patent_ipc_list))):\n",
    "        patent_path = pathYear + patent_ipc_list[i]\n",
    "        with open(patent_path) as f:\n",
    "            d = json.load(f)\n",
    "            f.close()\n",
    "        if d['decision'] == 'ACCEPTED' or d['decision'] == 'REJECTED': # exclude all other\n",
    "            final_patents.append(patent_ipc_list[i])\n",
    "\n",
    "    # Load needed data for patents\n",
    "    non_main_ipc = []\n",
    "    labels, patent_number, titles, backgrounds, claims, summary, abstract, main_ipc, sec_ipc = [], [], [], [], [], [], [], [], []\n",
    "\n",
    "    for i in tqdm(range(len(final_patents))):\n",
    "        patent_path = pathYear + final_patents[i]\n",
    "        with open(patent_path) as f:\n",
    "            d = json.load(f)\n",
    "            f.close() # ligne inutile\n",
    "        \n",
    "        #Creating the lists for the other information\n",
    "        patent_number.append(d['application_number'])\n",
    "        titles.append(d['title'])\n",
    "        backgrounds.append(d['background'])\n",
    "        claims.append(d['claims'])\n",
    "        summary.append(d['summary'])\n",
    "        abstract.append(d['abstract'])\n",
    "        main_ipc.append(d['main_ipcr_label'])\n",
    "        sec_ipc.append(d['ipcr_labels'])\n",
    "\n",
    "        #Collecting non main ipc class -useful to create good expectation class\n",
    "        non_main =  d['ipcr_labels']\n",
    "        for ipcr in non_main:\n",
    "            non_main_ipc.append(ipcr) # only 4 first characters to be sure of being at same level\n",
    "        #Getting labels based on decision\n",
    "        label = 0\n",
    "        if d['decision'] == 'ACCEPTED':\n",
    "            label = 1\n",
    "        labels.append(label)\n",
    "\n",
    "    # Keep only secondary class that are not the main ipc class\n",
    "    expectations_classes = list(set(non_main_ipc)) # unique secondary ipc classes\n",
    "    good_expectations_classes = []\n",
    "    for ipcr in expectations_classes:\n",
    "        if ipcr[0:4] != f\"{ipc}\":\n",
    "            good_expectations_classes.append(ipcr)\n",
    "\n",
    "    # df to csv\n",
    "    df = pd.DataFrame({'application_number': patent_number, 'title': titles, 'abstract':abstract,\n",
    "                        'claims':claims, 'background': backgrounds, 'summary':summary, 'ipc':ipc, 'sec_ipc': sec_ipc, 'label': labels})\n",
    "\n",
    "    df.to_csv(pathOutput + f'/toEval/{year}_{ipc}_patents_toEval.csv', index=False)\n",
    "    print(f\"toEval/toEval/{year}_{ipc} done\")\n",
    "    print(\"toEval shape: \", df.shape)\n",
    "    # Save IPC in text format\n",
    "    with open(pathOutput + f'/ES/text/{year}_{ipc}_expectation_IPC_class.txt', 'w') as fp:\n",
    "        for item in good_expectations_classes:\n",
    "            # write each item on a new line\n",
    "            fp.write(\"%s\\n\" % item)\n",
    "        print(f'text/{year}_{ipc} Done')\n",
    "    print(\"Nb secondary IPC (text size): \", len(good_expectations_classes))\n",
    "\n",
    "\n",
    "\n"
   ]
  },
  {
   "cell_type": "code",
   "execution_count": null,
   "metadata": {},
   "outputs": [],
   "source": [
    "pathData = \"C:/Users/edgar/OneDrive/Bureau/Ecole/HEC/A24/BrevetNLP/data\"\n",
    "pathOutput = \"C:/Users/edgar/OneDrive/Bureau/Ecole/HEC/A24/BrevetNLP/exemple données\"\n",
    "json2toEval(2011, \"H01L\", pathData, pathOutput)"
   ]
  },
  {
   "cell_type": "code",
   "execution_count": 199,
   "metadata": {},
   "outputs": [],
   "source": [
    "# Function taking ips, year studied, year in which we are searching, and path for input and output, and outputs dfs for ES et KS for the year_yearRef\n",
    "\n",
    "def json2_KS_ES(year, yearRef, ipc, pathData, pathOutput):\n",
    "\n",
    "\n",
    "    pathYear = pathData+ f\"/{yearRef}/\"                                # Updates with varialbe year\n",
    "    jsonNamesYear = [f for f in listdir(pathYear) if isfile(join(pathYear, f))]\n",
    "\n",
    "    # import secondary ipc classes of year toEval\n",
    "    expect_classes_ipc_yearRef = []\n",
    "    with open(pathOutput + f'/ES/text/{year}_{ipc}_expectation_IPC_class.txt', 'r') as fp:\n",
    "        for line in fp:\n",
    "            x = line[:-1]\n",
    "            expect_classes_ipc_yearRef.append(x)#[0:4])  ######\n",
    "\n",
    "    \n",
    "    # Initialize KS and ES for this IPC class (for toEval yearRef)\n",
    "    KS_ipc = []\n",
    "    ES_ipc = []\n",
    "    print(f\"Create KS, iterate through patents of IPC {ipc}, of reference year {yearRef} for evalYear {year}\")\n",
    "    for i in tqdm(range(len(jsonNamesYear))):\n",
    "        patent_path = pathYear + jsonNamesYear[i]\n",
    "        with open(patent_path) as f:\n",
    "            d = json.load(f)\n",
    "            f.close()\n",
    "        \n",
    "        class_mainIPC = d['main_ipcr_label']#[0:4] #######\n",
    "        class_main = class_mainIPC[0:4]\n",
    "\n",
    "        #We are collecting all documents related to the main class - we distinguish them later by date\n",
    "        if class_main == ipc:\n",
    "            KS_ipc.append(jsonNamesYear[i])\n",
    "        \n",
    "        #For the expectations states - we have one for each year since the class are not similar ???\n",
    "        if class_mainIPC in expect_classes_ipc_yearRef:\n",
    "            ES_ipc.append(jsonNamesYear[i])\n",
    "\n",
    "    current_date = int(f\"{year}\"+\"0101\")\n",
    "\n",
    "    #Create knowledge space per year in df\n",
    "    patent_number, titles, backgrounds, claims, summary, abstract, main_ipc, labels, sec_ipc, yearRefVec = [], [], [], [], [], [], [], [], [], []\n",
    "\n",
    "    print(f\"Create ES, iterate through patents of secondary IPC {ipc}, of reference year {yearRef} for evalYear {year}\")\n",
    "    for i in tqdm(range(len(KS_ipc))):\n",
    "        patent_path = pathYear + KS_ipc[i]\n",
    "        with open(patent_path) as f:\n",
    "            d = json.load(f)\n",
    "            f.close()\n",
    "        #Not taking patents that are not published yet\n",
    "        if int(d['date_published']) < current_date:\n",
    "            \n",
    "            #Creating the lists for the other information\n",
    "            patent_number.append(d['application_number'])\n",
    "            titles.append(d['title'])\n",
    "            backgrounds.append(d['background'])\n",
    "            claims.append(d['claims'])\n",
    "            summary.append(d['summary'])\n",
    "            abstract.append(d['abstract'])\n",
    "            main_ipc.append(d['main_ipcr_label'])\n",
    "            labels.append(d['decision'])\n",
    "            sec_ipc.append(d['ipcr_labels'])\n",
    "            yearRefVec.append(yearRef)\n",
    "        else:\n",
    "            #If the date is superior, we still take accepted or rejected into account\n",
    "            if d['decision'] == 'ACCEPTED' or d['decision'] == 'REJECTED':\n",
    "                #Creating the lists for the other information\n",
    "                patent_number.append(d['application_number'])\n",
    "                titles.append(d['title'])\n",
    "                backgrounds.append(d['background'])\n",
    "                claims.append(d['claims'])\n",
    "                summary.append(d['summary'])\n",
    "                abstract.append(d['abstract'])\n",
    "                main_ipc.append(d['main_ipcr_label'])\n",
    "                labels.append(d['decision'])\n",
    "                sec_ipc.append(d['ipcr_labels'])\n",
    "                yearRefVec.append(yearRef)\n",
    "\n",
    "    df_KS = pd.DataFrame({'application_number': patent_number, 'title': titles, 'abstract':abstract,\n",
    "                    'claims':claims, 'background': backgrounds, 'summary':summary, 'ipc':main_ipc, 'sec_ipc': sec_ipc, 'label': labels, 'yearRef': yearRefVec})\n",
    "    \n",
    "    \n",
    "    #Create expectations space per year in df\n",
    "    patent_number, titles, backgrounds, claims, summary, abstract, main_ipc, labels, sec_ipc, yearRefVec = [], [], [], [], [], [], [], [], [], []\n",
    "    for i in tqdm(range(len(ES_ipc))):\n",
    "        patent_path = pathYear + ES_ipc[i]\n",
    "        with open(patent_path) as f:\n",
    "            d = json.load(f)\n",
    "            f.close()\n",
    "        \n",
    "        #Not taking patnts that are not published yet\n",
    "        if int(d['date_published']) < current_date:\n",
    "            \n",
    "            #Creating the lists for the other information\n",
    "            patent_number.append(d['application_number'])\n",
    "            titles.append(d['title'])\n",
    "            backgrounds.append(d['background'])\n",
    "            claims.append(d['claims'])\n",
    "            summary.append(d['summary'])\n",
    "            abstract.append(d['abstract'])\n",
    "            main_ipc.append(d['main_ipcr_label'])\n",
    "            labels.append(d['decision'])\n",
    "            sec_ipc.append(d['ipcr_labels'])\n",
    "            yearRefVec.append(yearRef)\n",
    "        else:\n",
    "            #If the date is superior to 2016, we still take accepted or rejected into account ???\n",
    "            if d['decision'] == 'ACCEPTED' or d['decision'] == 'REJECTED':\n",
    "                #Creating the lists for the other information\n",
    "                patent_number.append(d['application_number'])\n",
    "                titles.append(d['title'])\n",
    "                backgrounds.append(d['background'])\n",
    "                claims.append(d['claims'])\n",
    "                summary.append(d['summary'])\n",
    "                abstract.append(d['abstract'])\n",
    "                main_ipc.append(d['main_ipcr_label'])\n",
    "                labels.append(d['decision'])\n",
    "                sec_ipc.append(d['ipcr_labels'])\n",
    "                yearRefVec.append(yearRef)\n",
    "\n",
    "    df_ES = pd.DataFrame({'application_number': patent_number, 'title': titles, 'abstract':abstract,\n",
    "                    'claims':claims, 'background': backgrounds, 'summary':summary, 'ipc': main_ipc, \"sec_ipc\": sec_ipc, 'label': labels, 'yearRef': yearRefVec})\n",
    "    \n",
    "    return (df_KS, df_ES)"
   ]
  },
  {
   "cell_type": "code",
   "execution_count": null,
   "metadata": {},
   "outputs": [],
   "source": [
    "# Function that simply loops over json2_KS_ES yearsNeeded times, and binds dataframes together. Writes a CSV for KS and ES.\n",
    "year =2011\n",
    "yearsNeeded = 5\n",
    "required_years = set(range(year - yearsNeeded, year))\n",
    "required_years\n",
    "\n",
    "for i in required_years:\n",
    "    print(i)\n",
    "\n",
    "str(list(required_years)[0])[2:4]\n",
    "str(list(required_years)[-2])[2:4]\n"
   ]
  },
  {
   "cell_type": "code",
   "execution_count": 200,
   "metadata": {},
   "outputs": [],
   "source": [
    "def loop_KS_ES(year, yearsNeeded, ipc, pathData, pathOutput):\n",
    "    required_years = set(range(year - yearsNeeded, year))\n",
    "    df_KS = pd.DataFrame()\n",
    "    df_ES = pd.DataFrame()\n",
    "    for i in required_years:\n",
    "        dfs_temp = json2_KS_ES(year, i, ipc, pathData, pathOutput)\n",
    "        df_KS_temp = dfs_temp[0]\n",
    "        df_ES_temp = dfs_temp[1]\n",
    "        df_KS = pd.concat([df_KS, df_KS_temp], axis=0, ignore_index=True)\n",
    "        df_ES = pd.concat([df_ES, df_ES_temp], axis=0, ignore_index=True)\n",
    "        print(\"ES and KS done for: \" + f\"{year}_{i}_{ipc}\")\n",
    "    \n",
    "    df_KS.to_csv(pathOutput + f'/KS/{year}_{str(list(required_years)[0])[2:4]}{str(list(required_years)[-1])[2:4]}_{ipc}_KS_raw.csv', index=False)\n",
    "    df_ES.to_csv(pathOutput + f'/ES/{year}_{str(list(required_years)[0])[2:4]}{str(list(required_years)[-1])[2:4]}_{ipc}_ES_raw.csv', index=False)\n",
    "    print(\"ES and KS done for: \" + f\"{year}_{ipc}\")\n",
    "    print(\"df_KS shape: \", df_KS.shape)\n",
    "    print(\"df_ES shape: \", df_ES.shape)"
   ]
  },
  {
   "cell_type": "code",
   "execution_count": null,
   "metadata": {},
   "outputs": [],
   "source": [
    "year =2011\n",
    "yearsNeeded = 5\n",
    "pathData = \"C:/Users/edgar/OneDrive/Bureau/Ecole/HEC/A24/BrevetNLP/data\"\n",
    "pathOutput = \"C:/Users/edgar/OneDrive/Bureau/Ecole/HEC/A24/BrevetNLP/exemple données\"\n",
    "ipc=\"G06F\"\n",
    "json2toEval(2016, \"G06F\", pathData, pathOutput)\n",
    "loop_KS_ES(2016, 3, \"G06F\", pathData, pathOutput)"
   ]
  },
  {
   "cell_type": "markdown",
   "metadata": {},
   "source": [
    "Il reste maintenant à créer des listes pour défiler au travers des années"
   ]
  },
  {
   "cell_type": "code",
   "execution_count": 194,
   "metadata": {},
   "outputs": [],
   "source": [
    "# Function taking years to be evaluated, number of years as reference and a list of IPC classes.\n",
    "def loopFinal(listIPC, listYearsEval, nbYearsRef, pathData, pathOutput):\n",
    "    # check if valid years\n",
    "    for year in listYearsEval:   \n",
    "        cY = checkYears(year, nbYearsRef, pathData)\n",
    "        if not cY:\n",
    "            return\n",
    "    # Loop through each ipc\n",
    "    for ipc in tqdm(listIPC):\n",
    "        # Loop through each year\n",
    "        for year in listYearsEval:\n",
    "            json2toEval(year, ipc, pathData, pathOutput)\n",
    "            loop_KS_ES(year, nbYearsRef, ipc, pathData, pathOutput)"
   ]
  },
  {
   "cell_type": "code",
   "execution_count": 203,
   "metadata": {},
   "outputs": [
    {
     "name": "stdout",
     "output_type": "stream",
     "text": [
      "All 3 reference years for eval year 2014 present\n",
      "All 3 reference years for eval year 2015 present\n",
      "All 3 reference years for eval year 2016 present\n"
     ]
    },
    {
     "name": "stderr",
     "output_type": "stream",
     "text": [
      "  0%|          | 0/3 [00:00<?, ?it/s]"
     ]
    },
    {
     "name": "stdout",
     "output_type": "stream",
     "text": [
      "Create toEval, iterate through all patents of current year 2014\n"
     ]
    },
    {
     "name": "stderr",
     "output_type": "stream",
     "text": [
      "100%|██████████| 1000/1000 [00:00<00:00, 3113.91it/s]\n",
      "100%|██████████| 83/83 [00:00<00:00, 3467.54it/s]\n",
      "100%|██████████| 68/68 [00:00<00:00, 3247.88it/s]\n"
     ]
    },
    {
     "name": "stdout",
     "output_type": "stream",
     "text": [
      "toEval/toEval/2014_G06F done\n",
      "toEval shape:  (68, 9)\n",
      "text/2014_G06F Done\n",
      "Nb secondary IPC (text size):  20\n",
      "Create KS, iterate through patents of IPC G06F, of reference year 2011 for evalYear 2014\n"
     ]
    },
    {
     "name": "stderr",
     "output_type": "stream",
     "text": [
      "100%|██████████| 1000/1000 [00:00<00:00, 3089.41it/s]\n"
     ]
    },
    {
     "name": "stdout",
     "output_type": "stream",
     "text": [
      "Create ES, iterate through patents of secondary IPC G06F, of reference year 2011 for evalYear 2014\n"
     ]
    },
    {
     "name": "stderr",
     "output_type": "stream",
     "text": [
      "100%|██████████| 121/121 [00:00<00:00, 2331.81it/s]\n",
      "100%|██████████| 13/13 [00:00<00:00, 2160.81it/s]\n"
     ]
    },
    {
     "name": "stdout",
     "output_type": "stream",
     "text": [
      "ES and KS done for: 2014_2011_G06F\n",
      "Create KS, iterate through patents of IPC G06F, of reference year 2012 for evalYear 2014\n"
     ]
    },
    {
     "name": "stderr",
     "output_type": "stream",
     "text": [
      "100%|██████████| 1000/1000 [00:00<00:00, 3593.80it/s]\n"
     ]
    },
    {
     "name": "stdout",
     "output_type": "stream",
     "text": [
      "Create ES, iterate through patents of secondary IPC G06F, of reference year 2012 for evalYear 2014\n"
     ]
    },
    {
     "name": "stderr",
     "output_type": "stream",
     "text": [
      "100%|██████████| 132/132 [00:00<00:00, 3308.64it/s]\n",
      "100%|██████████| 11/11 [00:00<00:00, 1828.38it/s]\n"
     ]
    },
    {
     "name": "stdout",
     "output_type": "stream",
     "text": [
      "ES and KS done for: 2014_2012_G06F\n",
      "Create KS, iterate through patents of IPC G06F, of reference year 2013 for evalYear 2014\n"
     ]
    },
    {
     "name": "stderr",
     "output_type": "stream",
     "text": [
      "100%|██████████| 1000/1000 [00:00<00:00, 3769.00it/s]\n"
     ]
    },
    {
     "name": "stdout",
     "output_type": "stream",
     "text": [
      "Create ES, iterate through patents of secondary IPC G06F, of reference year 2013 for evalYear 2014\n"
     ]
    },
    {
     "name": "stderr",
     "output_type": "stream",
     "text": [
      "100%|██████████| 113/113 [00:00<00:00, 1416.30it/s]\n",
      "100%|██████████| 28/28 [00:00<00:00, 2340.57it/s]\n"
     ]
    },
    {
     "name": "stdout",
     "output_type": "stream",
     "text": [
      "ES and KS done for: 2014_2013_G06F\n",
      "ES and KS done for: 2014_G06F\n",
      "df_KS shape:  (358, 9)\n",
      "df_ES shape:  (49, 10)\n",
      "Create toEval, iterate through all patents of current year 2015\n"
     ]
    },
    {
     "name": "stderr",
     "output_type": "stream",
     "text": [
      "100%|██████████| 1000/1000 [00:00<00:00, 3433.44it/s]\n",
      "100%|██████████| 84/84 [00:00<00:00, 3661.74it/s]\n",
      "100%|██████████| 54/54 [00:00<00:00, 3184.92it/s]\n"
     ]
    },
    {
     "name": "stdout",
     "output_type": "stream",
     "text": [
      "toEval/toEval/2015_G06F done\n",
      "toEval shape:  (54, 9)\n",
      "text/2015_G06F Done\n",
      "Nb secondary IPC (text size):  22\n",
      "Create KS, iterate through patents of IPC G06F, of reference year 2012 for evalYear 2015\n"
     ]
    },
    {
     "name": "stderr",
     "output_type": "stream",
     "text": [
      "100%|██████████| 1000/1000 [00:00<00:00, 3234.10it/s]\n"
     ]
    },
    {
     "name": "stdout",
     "output_type": "stream",
     "text": [
      "Create ES, iterate through patents of secondary IPC G06F, of reference year 2012 for evalYear 2015\n"
     ]
    },
    {
     "name": "stderr",
     "output_type": "stream",
     "text": [
      "100%|██████████| 132/132 [00:00<00:00, 3777.96it/s]\n",
      "100%|██████████| 8/8 [00:00<00:00, 2004.81it/s]\n"
     ]
    },
    {
     "name": "stdout",
     "output_type": "stream",
     "text": [
      "ES and KS done for: 2015_2012_G06F\n",
      "Create KS, iterate through patents of IPC G06F, of reference year 2013 for evalYear 2015\n"
     ]
    },
    {
     "name": "stderr",
     "output_type": "stream",
     "text": [
      "100%|██████████| 1000/1000 [00:00<00:00, 3433.83it/s]\n"
     ]
    },
    {
     "name": "stdout",
     "output_type": "stream",
     "text": [
      "Create ES, iterate through patents of secondary IPC G06F, of reference year 2013 for evalYear 2015\n"
     ]
    },
    {
     "name": "stderr",
     "output_type": "stream",
     "text": [
      "100%|██████████| 113/113 [00:00<00:00, 3062.29it/s]\n",
      "100%|██████████| 27/27 [00:00<00:00, 2082.57it/s]\n"
     ]
    },
    {
     "name": "stdout",
     "output_type": "stream",
     "text": [
      "ES and KS done for: 2015_2013_G06F\n",
      "Create KS, iterate through patents of IPC G06F, of reference year 2014 for evalYear 2015\n"
     ]
    },
    {
     "name": "stderr",
     "output_type": "stream",
     "text": [
      "100%|██████████| 1000/1000 [00:00<00:00, 2664.75it/s]\n"
     ]
    },
    {
     "name": "stdout",
     "output_type": "stream",
     "text": [
      "Create ES, iterate through patents of secondary IPC G06F, of reference year 2014 for evalYear 2015\n"
     ]
    },
    {
     "name": "stderr",
     "output_type": "stream",
     "text": [
      "100%|██████████| 83/83 [00:00<00:00, 2972.25it/s]\n",
      "100%|██████████| 32/32 [00:00<00:00, 2468.24it/s]\n"
     ]
    },
    {
     "name": "stdout",
     "output_type": "stream",
     "text": [
      "ES and KS done for: 2015_2014_G06F\n",
      "ES and KS done for: 2015_G06F\n",
      "df_KS shape:  (314, 9)\n",
      "df_ES shape:  (60, 10)\n",
      "Create toEval, iterate through all patents of current year 2016\n"
     ]
    },
    {
     "name": "stderr",
     "output_type": "stream",
     "text": [
      "100%|██████████| 1000/1000 [00:00<00:00, 3398.60it/s]\n",
      "100%|██████████| 92/92 [00:00<00:00, 3416.59it/s]\n",
      "100%|██████████| 19/19 [00:00<00:00, 3176.62it/s]\n"
     ]
    },
    {
     "name": "stdout",
     "output_type": "stream",
     "text": [
      "toEval/toEval/2016_G06F done\n",
      "toEval shape:  (19, 9)\n",
      "text/2016_G06F Done\n",
      "Nb secondary IPC (text size):  9\n",
      "Create KS, iterate through patents of IPC G06F, of reference year 2013 for evalYear 2016\n"
     ]
    },
    {
     "name": "stderr",
     "output_type": "stream",
     "text": [
      "100%|██████████| 1000/1000 [00:00<00:00, 3831.74it/s]\n"
     ]
    },
    {
     "name": "stdout",
     "output_type": "stream",
     "text": [
      "Create ES, iterate through patents of secondary IPC G06F, of reference year 2013 for evalYear 2016\n"
     ]
    },
    {
     "name": "stderr",
     "output_type": "stream",
     "text": [
      "100%|██████████| 113/113 [00:00<00:00, 3776.82it/s]\n",
      "100%|██████████| 2/2 [00:00<00:00, 2003.97it/s]\n"
     ]
    },
    {
     "name": "stdout",
     "output_type": "stream",
     "text": [
      "ES and KS done for: 2016_2013_G06F\n",
      "Create KS, iterate through patents of IPC G06F, of reference year 2014 for evalYear 2016\n"
     ]
    },
    {
     "name": "stderr",
     "output_type": "stream",
     "text": [
      "100%|██████████| 1000/1000 [00:00<00:00, 3355.72it/s]\n"
     ]
    },
    {
     "name": "stdout",
     "output_type": "stream",
     "text": [
      "Create ES, iterate through patents of secondary IPC G06F, of reference year 2014 for evalYear 2016\n"
     ]
    },
    {
     "name": "stderr",
     "output_type": "stream",
     "text": [
      "100%|██████████| 83/83 [00:00<00:00, 2684.63it/s]\n",
      "100%|██████████| 3/3 [00:00<00:00, 1503.51it/s]\n"
     ]
    },
    {
     "name": "stdout",
     "output_type": "stream",
     "text": [
      "ES and KS done for: 2016_2014_G06F\n",
      "Create KS, iterate through patents of IPC G06F, of reference year 2015 for evalYear 2016\n"
     ]
    },
    {
     "name": "stderr",
     "output_type": "stream",
     "text": [
      "100%|██████████| 1000/1000 [00:00<00:00, 2497.21it/s]\n"
     ]
    },
    {
     "name": "stdout",
     "output_type": "stream",
     "text": [
      "Create ES, iterate through patents of secondary IPC G06F, of reference year 2015 for evalYear 2016\n"
     ]
    },
    {
     "name": "stderr",
     "output_type": "stream",
     "text": [
      "100%|██████████| 84/84 [00:00<00:00, 2105.64it/s]\n",
      "100%|██████████| 2/2 [00:00<00:00, 668.26it/s]\n"
     ]
    },
    {
     "name": "stdout",
     "output_type": "stream",
     "text": [
      "ES and KS done for: 2016_2015_G06F\n",
      "ES and KS done for: 2016_G06F"
     ]
    },
    {
     "name": "stderr",
     "output_type": "stream",
     "text": [
      " 33%|███▎      | 1/3 [00:05<00:11,  5.95s/it]"
     ]
    },
    {
     "name": "stdout",
     "output_type": "stream",
     "text": [
      "\n",
      "df_KS shape:  (254, 9)\n",
      "df_ES shape:  (7, 10)\n",
      "Create toEval, iterate through all patents of current year 2014\n"
     ]
    },
    {
     "name": "stderr",
     "output_type": "stream",
     "text": [
      "100%|██████████| 1000/1000 [00:00<00:00, 3213.72it/s]\n",
      "100%|██████████| 27/27 [00:00<00:00, 3008.35it/s]\n",
      "100%|██████████| 19/19 [00:00<00:00, 2381.99it/s]\n"
     ]
    },
    {
     "name": "stdout",
     "output_type": "stream",
     "text": [
      "toEval/toEval/2014_A61B done\n",
      "toEval shape:  (19, 9)\n",
      "text/2014_A61B Done\n",
      "Nb secondary IPC (text size):  6\n",
      "Create KS, iterate through patents of IPC A61B, of reference year 2011 for evalYear 2014\n"
     ]
    },
    {
     "name": "stderr",
     "output_type": "stream",
     "text": [
      "100%|██████████| 1000/1000 [00:00<00:00, 3539.64it/s]\n"
     ]
    },
    {
     "name": "stdout",
     "output_type": "stream",
     "text": [
      "Create ES, iterate through patents of secondary IPC A61B, of reference year 2011 for evalYear 2014\n"
     ]
    },
    {
     "name": "stderr",
     "output_type": "stream",
     "text": [
      "100%|██████████| 11/11 [00:00<00:00, 2738.45it/s]\n",
      "100%|██████████| 2/2 [00:00<00:00, 668.26it/s]\n"
     ]
    },
    {
     "name": "stdout",
     "output_type": "stream",
     "text": [
      "ES and KS done for: 2014_2011_A61B\n",
      "Create KS, iterate through patents of IPC A61B, of reference year 2012 for evalYear 2014\n"
     ]
    },
    {
     "name": "stderr",
     "output_type": "stream",
     "text": [
      "100%|██████████| 1000/1000 [00:00<00:00, 2662.94it/s]\n"
     ]
    },
    {
     "name": "stdout",
     "output_type": "stream",
     "text": [
      "Create ES, iterate through patents of secondary IPC A61B, of reference year 2012 for evalYear 2014\n"
     ]
    },
    {
     "name": "stderr",
     "output_type": "stream",
     "text": [
      "100%|██████████| 22/22 [00:00<00:00, 2451.96it/s]\n",
      "0it [00:00, ?it/s]\n"
     ]
    },
    {
     "name": "stdout",
     "output_type": "stream",
     "text": [
      "ES and KS done for: 2014_2012_A61B\n",
      "Create KS, iterate through patents of IPC A61B, of reference year 2013 for evalYear 2014\n"
     ]
    },
    {
     "name": "stderr",
     "output_type": "stream",
     "text": [
      "100%|██████████| 1000/1000 [00:00<00:00, 3057.32it/s]\n"
     ]
    },
    {
     "name": "stdout",
     "output_type": "stream",
     "text": [
      "Create ES, iterate through patents of secondary IPC A61B, of reference year 2013 for evalYear 2014\n"
     ]
    },
    {
     "name": "stderr",
     "output_type": "stream",
     "text": [
      "100%|██████████| 35/35 [00:00<00:00, 2064.24it/s]\n",
      "100%|██████████| 2/2 [00:00<00:00, 1002.58it/s]\n"
     ]
    },
    {
     "name": "stdout",
     "output_type": "stream",
     "text": [
      "ES and KS done for: 2014_2013_A61B\n",
      "ES and KS done for: 2014_A61B\n",
      "df_KS shape:  (63, 9)\n",
      "df_ES shape:  (4, 10)\n",
      "Create toEval, iterate through all patents of current year 2015\n"
     ]
    },
    {
     "name": "stderr",
     "output_type": "stream",
     "text": [
      "100%|██████████| 1000/1000 [00:00<00:00, 3047.65it/s]\n",
      "100%|██████████| 26/26 [00:00<00:00, 2166.74it/s]\n",
      "100%|██████████| 16/16 [00:00<00:00, 2281.30it/s]\n"
     ]
    },
    {
     "name": "stdout",
     "output_type": "stream",
     "text": [
      "toEval/toEval/2015_A61B done\n",
      "toEval shape:  (16, 9)\n",
      "text/2015_A61B Done\n",
      "Nb secondary IPC (text size):  8\n",
      "Create KS, iterate through patents of IPC A61B, of reference year 2012 for evalYear 2015\n"
     ]
    },
    {
     "name": "stderr",
     "output_type": "stream",
     "text": [
      "100%|██████████| 1000/1000 [00:00<00:00, 3871.32it/s]\n"
     ]
    },
    {
     "name": "stdout",
     "output_type": "stream",
     "text": [
      "Create ES, iterate through patents of secondary IPC A61B, of reference year 2012 for evalYear 2015\n"
     ]
    },
    {
     "name": "stderr",
     "output_type": "stream",
     "text": [
      "100%|██████████| 22/22 [00:00<00:00, 2198.48it/s]\n",
      "0it [00:00, ?it/s]\n"
     ]
    },
    {
     "name": "stdout",
     "output_type": "stream",
     "text": [
      "ES and KS done for: 2015_2012_A61B\n",
      "Create KS, iterate through patents of IPC A61B, of reference year 2013 for evalYear 2015\n"
     ]
    },
    {
     "name": "stderr",
     "output_type": "stream",
     "text": [
      "100%|██████████| 1000/1000 [00:00<00:00, 2777.49it/s]\n"
     ]
    },
    {
     "name": "stdout",
     "output_type": "stream",
     "text": [
      "Create ES, iterate through patents of secondary IPC A61B, of reference year 2013 for evalYear 2015\n"
     ]
    },
    {
     "name": "stderr",
     "output_type": "stream",
     "text": [
      "100%|██████████| 35/35 [00:00<00:00, 2925.25it/s]\n",
      "100%|██████████| 3/3 [00:00<00:00, 1002.38it/s]\n"
     ]
    },
    {
     "name": "stdout",
     "output_type": "stream",
     "text": [
      "ES and KS done for: 2015_2013_A61B\n",
      "Create KS, iterate through patents of IPC A61B, of reference year 2014 for evalYear 2015\n"
     ]
    },
    {
     "name": "stderr",
     "output_type": "stream",
     "text": [
      "100%|██████████| 1000/1000 [00:00<00:00, 3643.07it/s]\n"
     ]
    },
    {
     "name": "stdout",
     "output_type": "stream",
     "text": [
      "Create ES, iterate through patents of secondary IPC A61B, of reference year 2014 for evalYear 2015\n"
     ]
    },
    {
     "name": "stderr",
     "output_type": "stream",
     "text": [
      "100%|██████████| 27/27 [00:00<00:00, 3386.45it/s]\n",
      "100%|██████████| 1/1 [00:00<00:00, 1002.94it/s]\n"
     ]
    },
    {
     "name": "stdout",
     "output_type": "stream",
     "text": [
      "ES and KS done for: 2015_2014_A61B\n",
      "ES and KS done for: 2015_A61B\n",
      "df_KS shape:  (80, 9)\n",
      "df_ES shape:  (4, 10)\n",
      "Create toEval, iterate through all patents of current year 2016\n"
     ]
    },
    {
     "name": "stderr",
     "output_type": "stream",
     "text": [
      "100%|██████████| 1000/1000 [00:00<00:00, 3436.61it/s]\n",
      "100%|██████████| 30/30 [00:00<00:00, 2726.52it/s]\n",
      "100%|██████████| 3/3 [00:00<00:00, 1481.04it/s]\n"
     ]
    },
    {
     "name": "stdout",
     "output_type": "stream",
     "text": [
      "toEval/toEval/2016_A61B done\n",
      "toEval shape:  (3, 9)\n",
      "text/2016_A61B Done\n",
      "Nb secondary IPC (text size):  6\n",
      "Create KS, iterate through patents of IPC A61B, of reference year 2013 for evalYear 2016\n"
     ]
    },
    {
     "name": "stderr",
     "output_type": "stream",
     "text": [
      "100%|██████████| 1000/1000 [00:00<00:00, 3469.46it/s]\n"
     ]
    },
    {
     "name": "stdout",
     "output_type": "stream",
     "text": [
      "Create ES, iterate through patents of secondary IPC A61B, of reference year 2013 for evalYear 2016\n"
     ]
    },
    {
     "name": "stderr",
     "output_type": "stream",
     "text": [
      "100%|██████████| 35/35 [00:00<00:00, 2193.35it/s]\n",
      "100%|██████████| 10/10 [00:00<00:00, 2005.60it/s]\n"
     ]
    },
    {
     "name": "stdout",
     "output_type": "stream",
     "text": [
      "ES and KS done for: 2016_2013_A61B\n",
      "Create KS, iterate through patents of IPC A61B, of reference year 2014 for evalYear 2016\n"
     ]
    },
    {
     "name": "stderr",
     "output_type": "stream",
     "text": [
      "100%|██████████| 1000/1000 [00:00<00:00, 3287.62it/s]\n"
     ]
    },
    {
     "name": "stdout",
     "output_type": "stream",
     "text": [
      "Create ES, iterate through patents of secondary IPC A61B, of reference year 2014 for evalYear 2016\n"
     ]
    },
    {
     "name": "stderr",
     "output_type": "stream",
     "text": [
      "100%|██████████| 27/27 [00:00<00:00, 3007.95it/s]\n",
      "100%|██████████| 8/8 [00:00<00:00, 1604.40it/s]\n"
     ]
    },
    {
     "name": "stdout",
     "output_type": "stream",
     "text": [
      "ES and KS done for: 2016_2014_A61B\n",
      "Create KS, iterate through patents of IPC A61B, of reference year 2015 for evalYear 2016\n"
     ]
    },
    {
     "name": "stderr",
     "output_type": "stream",
     "text": [
      "100%|██████████| 1000/1000 [00:00<00:00, 3583.43it/s]\n"
     ]
    },
    {
     "name": "stdout",
     "output_type": "stream",
     "text": [
      "Create ES, iterate through patents of secondary IPC A61B, of reference year 2015 for evalYear 2016\n"
     ]
    },
    {
     "name": "stderr",
     "output_type": "stream",
     "text": [
      "100%|██████████| 26/26 [00:00<00:00, 3259.17it/s]\n",
      "100%|██████████| 7/7 [00:00<00:00, 1403.51it/s]\n",
      " 67%|██████▋   | 2/3 [00:11<00:05,  5.43s/it]"
     ]
    },
    {
     "name": "stdout",
     "output_type": "stream",
     "text": [
      "ES and KS done for: 2016_2015_A61B\n",
      "ES and KS done for: 2016_A61B\n",
      "df_KS shape:  (80, 9)\n",
      "df_ES shape:  (20, 10)\n",
      "Create toEval, iterate through all patents of current year 2014\n"
     ]
    },
    {
     "name": "stderr",
     "output_type": "stream",
     "text": [
      "100%|██████████| 1000/1000 [00:00<00:00, 3234.09it/s]\n",
      "100%|██████████| 45/45 [00:00<00:00, 2820.40it/s]\n",
      "100%|██████████| 44/44 [00:00<00:00, 2751.84it/s]\n"
     ]
    },
    {
     "name": "stdout",
     "output_type": "stream",
     "text": [
      "toEval/toEval/2014_H01L done\n",
      "toEval shape:  (44, 9)\n",
      "text/2014_H01L Done\n",
      "Nb secondary IPC (text size):  9\n",
      "Create KS, iterate through patents of IPC H01L, of reference year 2011 for evalYear 2014\n"
     ]
    },
    {
     "name": "stderr",
     "output_type": "stream",
     "text": [
      "100%|██████████| 1000/1000 [00:00<00:00, 2284.23it/s]\n"
     ]
    },
    {
     "name": "stdout",
     "output_type": "stream",
     "text": [
      "Create ES, iterate through patents of secondary IPC H01L, of reference year 2011 for evalYear 2014\n"
     ]
    },
    {
     "name": "stderr",
     "output_type": "stream",
     "text": [
      "100%|██████████| 73/73 [00:00<00:00, 3177.73it/s]\n",
      "0it [00:00, ?it/s]\n"
     ]
    },
    {
     "name": "stdout",
     "output_type": "stream",
     "text": [
      "ES and KS done for: 2014_2011_H01L\n",
      "Create KS, iterate through patents of IPC H01L, of reference year 2012 for evalYear 2014\n"
     ]
    },
    {
     "name": "stderr",
     "output_type": "stream",
     "text": [
      "100%|██████████| 1000/1000 [00:00<00:00, 3376.06it/s]\n"
     ]
    },
    {
     "name": "stdout",
     "output_type": "stream",
     "text": [
      "Create ES, iterate through patents of secondary IPC H01L, of reference year 2012 for evalYear 2014\n"
     ]
    },
    {
     "name": "stderr",
     "output_type": "stream",
     "text": [
      "100%|██████████| 57/57 [00:00<00:00, 3649.89it/s]\n",
      "0it [00:00, ?it/s]\n"
     ]
    },
    {
     "name": "stdout",
     "output_type": "stream",
     "text": [
      "ES and KS done for: 2014_2012_H01L\n",
      "Create KS, iterate through patents of IPC H01L, of reference year 2013 for evalYear 2014\n"
     ]
    },
    {
     "name": "stderr",
     "output_type": "stream",
     "text": [
      "100%|██████████| 1000/1000 [00:00<00:00, 3463.31it/s]\n"
     ]
    },
    {
     "name": "stdout",
     "output_type": "stream",
     "text": [
      "Create ES, iterate through patents of secondary IPC H01L, of reference year 2013 for evalYear 2014\n"
     ]
    },
    {
     "name": "stderr",
     "output_type": "stream",
     "text": [
      "100%|██████████| 55/55 [00:00<00:00, 3938.65it/s]\n",
      "0it [00:00, ?it/s]\n"
     ]
    },
    {
     "name": "stdout",
     "output_type": "stream",
     "text": [
      "ES and KS done for: 2014_2013_H01L\n",
      "ES and KS done for: 2014_H01L\n",
      "df_KS shape:  (184, 9)\n",
      "df_ES shape:  (0, 10)\n",
      "Create toEval, iterate through all patents of current year 2015\n"
     ]
    },
    {
     "name": "stderr",
     "output_type": "stream",
     "text": [
      "100%|██████████| 1000/1000 [00:00<00:00, 3622.35it/s]\n",
      "100%|██████████| 61/61 [00:00<00:00, 3630.50it/s]\n",
      "100%|██████████| 52/52 [00:00<00:00, 3468.19it/s]\n"
     ]
    },
    {
     "name": "stdout",
     "output_type": "stream",
     "text": [
      "toEval/toEval/2015_H01L done\n",
      "toEval shape:  (52, 9)\n",
      "text/2015_H01L Done\n",
      "Nb secondary IPC (text size):  26\n",
      "Create KS, iterate through patents of IPC H01L, of reference year 2012 for evalYear 2015\n"
     ]
    },
    {
     "name": "stderr",
     "output_type": "stream",
     "text": [
      "100%|██████████| 1000/1000 [00:00<00:00, 2808.36it/s]\n"
     ]
    },
    {
     "name": "stdout",
     "output_type": "stream",
     "text": [
      "Create ES, iterate through patents of secondary IPC H01L, of reference year 2012 for evalYear 2015\n"
     ]
    },
    {
     "name": "stderr",
     "output_type": "stream",
     "text": [
      "100%|██████████| 57/57 [00:00<00:00, 3175.10it/s]\n",
      "100%|██████████| 7/7 [00:00<00:00, 1403.51it/s]\n"
     ]
    },
    {
     "name": "stdout",
     "output_type": "stream",
     "text": [
      "ES and KS done for: 2015_2012_H01L\n",
      "Create KS, iterate through patents of IPC H01L, of reference year 2013 for evalYear 2015\n"
     ]
    },
    {
     "name": "stderr",
     "output_type": "stream",
     "text": [
      "100%|██████████| 1000/1000 [00:00<00:00, 3114.07it/s]\n"
     ]
    },
    {
     "name": "stdout",
     "output_type": "stream",
     "text": [
      "Create ES, iterate through patents of secondary IPC H01L, of reference year 2013 for evalYear 2015\n"
     ]
    },
    {
     "name": "stderr",
     "output_type": "stream",
     "text": [
      "100%|██████████| 55/55 [00:00<00:00, 3667.46it/s]\n",
      "100%|██████████| 6/6 [00:00<00:00, 1503.60it/s]\n"
     ]
    },
    {
     "name": "stdout",
     "output_type": "stream",
     "text": [
      "ES and KS done for: 2015_2013_H01L\n",
      "Create KS, iterate through patents of IPC H01L, of reference year 2014 for evalYear 2015\n"
     ]
    },
    {
     "name": "stderr",
     "output_type": "stream",
     "text": [
      "100%|██████████| 1000/1000 [00:00<00:00, 3056.95it/s]\n"
     ]
    },
    {
     "name": "stdout",
     "output_type": "stream",
     "text": [
      "Create ES, iterate through patents of secondary IPC H01L, of reference year 2014 for evalYear 2015\n"
     ]
    },
    {
     "name": "stderr",
     "output_type": "stream",
     "text": [
      "100%|██████████| 45/45 [00:00<00:00, 2255.97it/s]\n",
      "100%|██████████| 12/12 [00:00<00:00, 1719.27it/s]\n"
     ]
    },
    {
     "name": "stdout",
     "output_type": "stream",
     "text": [
      "ES and KS done for: 2015_2014_H01L\n",
      "ES and KS done for: 2015_H01L\n",
      "df_KS shape:  (155, 9)\n",
      "df_ES shape:  (25, 10)\n",
      "Create toEval, iterate through all patents of current year 2016\n"
     ]
    },
    {
     "name": "stderr",
     "output_type": "stream",
     "text": [
      "100%|██████████| 1000/1000 [00:00<00:00, 3162.70it/s]\n"
     ]
    }
   ],
   "source": [
    "listIPC =  [\"G06F\", \"A61B\", \"H01L\"] #[\"G06F\", \"G01N\", \"A61B\", \"B60L\", \"E21B\", \"F03D\", \"H01L\", \"H04W\"]\n",
    "listYearsEval = range(2014, 2017) #range(2011, 2017)\n",
    "nbYearsRef = 3 #5\n",
    "\n",
    "loopFinal(listIPC, listYearsEval, 3, pathData, pathOutput)"
   ]
  },
  {
   "cell_type": "markdown",
   "metadata": {},
   "source": [
    "Quelques tests"
   ]
  },
  {
   "cell_type": "code",
   "execution_count": null,
   "metadata": {},
   "outputs": [],
   "source": [
    "pathData = \"C:/Users/edgar/OneDrive/Bureau/Ecole/HEC/A24/BrevetNLP/data\"\n",
    "pathOutput = \"C:/Users/edgar/OneDrive/Bureau/Ecole/HEC/A24/BrevetNLP/exemple données\"\n",
    "test = json2_KS_ES(2016, 2015, \"G06F\", pathData, pathOutput)"
   ]
  },
  {
   "cell_type": "code",
   "execution_count": null,
   "metadata": {},
   "outputs": [],
   "source": [
    "pd.options.display.max_colwidth = 10000000\n",
    "print(test[0][test[0]['application_number']== '14815898'].summary)\n",
    "\n"
   ]
  },
  {
   "cell_type": "code",
   "execution_count": null,
   "metadata": {},
   "outputs": [],
   "source": [
    "for i in range(2011, 2017):\n",
    "    print(i)"
   ]
  },
  {
   "cell_type": "code",
   "execution_count": null,
   "metadata": {},
   "outputs": [],
   "source": [
    "pathOutput + f'/ES/2016_1315_ES_raw.csv'"
   ]
  },
  {
   "cell_type": "code",
   "execution_count": 115,
   "metadata": {},
   "outputs": [],
   "source": [
    "df = pd.read_csv(pathOutput + f'/KS/2016_1315_G06F_KS_raw.csv', index_col=False)"
   ]
  },
  {
   "cell_type": "code",
   "execution_count": 118,
   "metadata": {},
   "outputs": [],
   "source": [
    "pd.options.display.max_colwidth = 100\n",
    "# df.head"
   ]
  },
  {
   "cell_type": "code",
   "execution_count": null,
   "metadata": {},
   "outputs": [],
   "source": [
    "df[df.application_number == 14815898].summary\n",
    "# df[235:]\n",
    "# pd.options.display.max_colwidth = 100000\n",
    "# print(df[df.application_number == 14815898].summary)"
   ]
  }
 ],
 "metadata": {
  "kernelspec": {
   "display_name": "base",
   "language": "python",
   "name": "python3"
  },
  "language_info": {
   "codemirror_mode": {
    "name": "ipython",
    "version": 3
   },
   "file_extension": ".py",
   "mimetype": "text/x-python",
   "name": "python",
   "nbconvert_exporter": "python",
   "pygments_lexer": "ipython3",
   "version": "3.9.16"
  }
 },
 "nbformat": 4,
 "nbformat_minor": 2
}
