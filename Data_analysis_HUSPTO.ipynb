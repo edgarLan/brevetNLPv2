{
 "cells": [
  {
   "cell_type": "markdown",
   "id": "169bc6bf-2b0b-44a3-912c-5b80cea53887",
   "metadata": {
    "tags": []
   },
   "source": [
    "# Useful comments\n",
    "\n",
    "295 793 files </br>\n",
    "Class labels in json : 'main_cpc_label', 'cpc_labels', 'main_ipcr_label', 'ipcr_labels', 'uspc_class', 'uspc_subclass' </br>\n",
    "IDs : 'patent_number' </br>\n",
    "text info : 'abstract', 'claims', 'background', 'summary', 'full_description', 'title' </br>\n",
    "Innovative label : 'decision'  </br>\n",
    "\n",
    " \n",
    "Patent Acceptance Prediction. Given a section of an application (in particular, the abstract, claims,\n",
    "or description), we predict whether the application will be accepted by the USPTO. From the\n",
    "perspective of the NLP community, this is a standard classification task. Yet, the potential applications\n",
    "and benefits of this decision task, as well as its difficulty, distinguish it from prevalent binary\n",
    "classification benchmarks (e.g., SST, Yelp). In our experiments, we focus on applications without\n",
    "parent filings to make our setup simple and clear, thereby excluding all the CONT-applications. Also,\n",
    "we do not include any pending applications"
   ]
  },
  {
   "cell_type": "raw",
   "id": "e9f90e54-f558-4364-9c5e-7b152c4bd407",
   "metadata": {},
   "source": [
    "dict_keys(['application_number', 'publication_number', 'title', 'decision', 'date_produced', 'date_published', 'main_cpc_label', 'cpc_labels', 'main_ipcr_label', 'ipcr_labels', 'patent_number', 'filing_date', 'patent_issue_date', 'abandon_date', 'uspc_class', 'uspc_subclass', 'examiner_id', 'examiner_name_last', 'examiner_name_first', 'examiner_name_middle', 'inventor_list', 'abstract', 'claims', 'background', 'summary', 'full_description'])"
   ]
  },
  {
   "cell_type": "markdown",
   "id": "f5e59c16-c9d3-431a-84e9-455a3a92e1c6",
   "metadata": {},
   "source": [
    "# First collection\n",
    "\n",
    "Uploading the years for evaluation - 2016/2015/2014 with the classes to evaluate H01L/G06F/A61B"
   ]
  },
  {
   "cell_type": "code",
   "execution_count": 1,
   "id": "3c643e7a-51f1-4445-bda0-61cf60894dc5",
   "metadata": {
    "tags": []
   },
   "outputs": [],
   "source": [
    "import pandas as pd\n",
    "from os import listdir\n",
    "from os.path import isfile, join\n",
    "import json\n",
    "import collections\n",
    "import re\n",
    "from tqdm import tqdm"
   ]
  },
  {
   "cell_type": "code",
   "execution_count": 2,
   "id": "d925d2ea-f70b-4a64-9d2c-782a5edb994b",
   "metadata": {},
   "outputs": [
    {
     "data": {
      "text/plain": [
       "373255"
      ]
     },
     "execution_count": 2,
     "metadata": {},
     "output_type": "execute_result"
    }
   ],
   "source": [
    "mypath = 'data/2016/2016/'\n",
    "_2014_files = [f for f in listdir(mypath) if isfile(join(mypath, f))]\n",
    "len(_2014_files)"
   ]
  },
  {
   "cell_type": "code",
   "execution_count": 4,
   "id": "49fbcc94-16e0-405a-acf8-25f999d2b924",
   "metadata": {
    "tags": []
   },
   "outputs": [
    {
     "name": "stderr",
     "output_type": "stream",
     "text": [
      "100%|█████████████████████████████████████████████████████████████████████████| 376384/376384 [26:01<00:00, 240.98it/s]\n"
     ]
    }
   ],
   "source": [
    "# Check on all decision and repartition -- I think we should keep only the one accepted based on other USPTO patent (continuity)\n",
    "decision_H01L = collections.defaultdict(int)\n",
    "decision_G06F = collections.defaultdict(int)\n",
    "decision_A61B = collections.defaultdict(int)\n",
    "patent_H01L_list = []\n",
    "patent_G06F_list = []\n",
    "patent_A61B_list = []\n",
    "for i in tqdm(range(len(_2014_files))):\n",
    "    patent_path = mypath + _2014_files[i]\n",
    "    with open(patent_path) as f:\n",
    "        d = json.load(f)\n",
    "        f.close()\n",
    "    class_mainIPC = d['main_ipcr_label']\n",
    "    if re.match(r'^H01L', class_mainIPC):\n",
    "        patent_H01L_list.append(_2014_files[i])\n",
    "        decision_H01L[d['decision']] += 1\n",
    "    if re.match(r'^G06F', class_mainIPC):\n",
    "        patent_G06F_list.append(_2014_files[i])\n",
    "        decision_G06F[d['decision']] += 1\n",
    "    if re.match(r'^A61B', class_mainIPC):\n",
    "        patent_A61B_list.append(_2014_files[i])\n",
    "        decision_A61B[d['decision']] += 1"
   ]
  },
  {
   "cell_type": "code",
   "execution_count": 5,
   "id": "5a718bfd-ecf6-4fd1-885a-2b7c7a1cf2ce",
   "metadata": {
    "tags": []
   },
   "outputs": [
    {
     "name": "stdout",
     "output_type": "stream",
     "text": [
      "21310 35247 11253\n",
      "defaultdict(<class 'int'>, {'REJECTED': 4015, 'ACCEPTED': 15910, 'PENDING': 1385}) defaultdict(<class 'int'>, {'REJECTED': 7741, 'ACCEPTED': 20637, 'PENDING': 6869}) defaultdict(<class 'int'>, {'ACCEPTED': 5906, 'REJECTED': 2477, 'PENDING': 2870})\n"
     ]
    }
   ],
   "source": [
    "print(len(patent_H01L_list), len(patent_G06F_list), len(patent_A61B_list))\n",
    "print(decision_H01L, decision_G06F, decision_A61B)"
   ]
  },
  {
   "cell_type": "code",
   "execution_count": 10,
   "id": "bd2197bd-5503-4252-a7d3-3e56b448678f",
   "metadata": {
    "tags": []
   },
   "outputs": [
    {
     "name": "stdout",
     "output_type": "stream",
     "text": [
      "Done\n"
     ]
    }
   ],
   "source": [
    "# Saving list of patent_filename into list\n",
    "#with open(r'data/G01_filename_2016.txt', 'w') as fp:\n",
    "#    for item in patent_G01N_list:\n",
    "#        # write each item on a new line\n",
    "#        fp.write(\"%s\\n\" % item)\n",
    "#    print('Done')"
   ]
  },
  {
   "cell_type": "code",
   "execution_count": 42,
   "id": "dbee1624-0e78-4407-b79a-dcbd28891526",
   "metadata": {
    "tags": []
   },
   "outputs": [
    {
     "name": "stdout",
     "output_type": "stream",
     "text": [
      "6834\n"
     ]
    }
   ],
   "source": [
    "#Importing file for patent_list 2016\n",
    "#patent_G01_list = []\n",
    "#with open(r'data/G01_filename_2016.txt', 'r') as fp:\n",
    "#    for line in fp:\n",
    "#        x = line[:-1]\n",
    "#        patent_G01_list.append(x)\n",
    "#        \n",
    "#print(len(patent_G01_list))"
   ]
  },
  {
   "cell_type": "code",
   "execution_count": 26,
   "id": "d40e1240-2c97-49fd-bc96-e676a3f56458",
   "metadata": {
    "scrolled": true,
    "tags": []
   },
   "outputs": [
    {
     "name": "stderr",
     "output_type": "stream",
     "text": [
      "100%|███████████████████████████████████████████████████████████████████████████| 11253/11253 [00:41<00:00, 272.71it/s]\n"
     ]
    }
   ],
   "source": [
    "final_patents = []\n",
    "decision = []\n",
    "for i in tqdm(range(len(patent_A61B_list))):\n",
    "    patent_path = mypath + patent_A61B_list[i]\n",
    "    with open(patent_path) as f:\n",
    "        d = json.load(f)\n",
    "        f.close()\n",
    "    if d['decision'] == 'ACCEPTED' or d['decision'] == 'REJECTED':\n",
    "        final_patents.append(patent_A61B_list[i])\n",
    "        decision.append(d['decision'])"
   ]
  },
  {
   "cell_type": "code",
   "execution_count": 27,
   "id": "0f19755e-83f5-4e8f-87b0-db29319f1f4a",
   "metadata": {
    "tags": []
   },
   "outputs": [
    {
     "data": {
      "text/plain": [
       "{'ACCEPTED', 'REJECTED'}"
      ]
     },
     "execution_count": 27,
     "metadata": {},
     "output_type": "execute_result"
    }
   ],
   "source": [
    "set(decision)"
   ]
  },
  {
   "cell_type": "code",
   "execution_count": 28,
   "id": "4d34ee0b-65d8-4d09-ad9e-a77b46708873",
   "metadata": {
    "tags": []
   },
   "outputs": [
    {
     "data": {
      "text/plain": [
       "8383"
      ]
     },
     "execution_count": 28,
     "metadata": {},
     "output_type": "execute_result"
    }
   ],
   "source": [
    "len(final_patents)"
   ]
  },
  {
   "cell_type": "code",
   "execution_count": 45,
   "id": "75a1e6e0-bff6-4a12-bfbc-1c9cdce2867b",
   "metadata": {
    "tags": []
   },
   "outputs": [
    {
     "name": "stdout",
     "output_type": "stream",
     "text": [
      "Done\n"
     ]
    }
   ],
   "source": [
    "# Saving list of patent_filename into list\n",
    "#with open(r'data/G01_filename_2016_notpending.txt', 'w') as fp:\n",
    " #   for item in final_patents:\n",
    " #       # write each item on a new line\n",
    " ##       fp.write(\"%s\\n\" % item)\n",
    " #   print('Done')"
   ]
  },
  {
   "cell_type": "markdown",
   "id": "4911f849-fee6-458c-9c58-726fdf08c7cd",
   "metadata": {},
   "source": [
    "# Récuéparation des éléments"
   ]
  },
  {
   "cell_type": "raw",
   "id": "3b104e16-ce39-4313-a326-ae48c587a99f",
   "metadata": {},
   "source": [
    "Créer une liste des sur-classes IPC à partir des documents de la main classe\n",
    "Créer un fichier csv à partir de la main classe avec le numéro de brevet et les informations textuelles : titre, abstract, claim + classe label basé sur la décision"
   ]
  },
  {
   "cell_type": "code",
   "execution_count": 46,
   "id": "01dccde4-a1c7-449b-8720-1fc6a3302659",
   "metadata": {
    "tags": []
   },
   "outputs": [
    {
     "name": "stdout",
     "output_type": "stream",
     "text": [
      "1979\n"
     ]
    }
   ],
   "source": [
    "#Importing file for patent_list 2017\n",
    "#patent_G01_list = []\n",
    "#with open(r'data/G01_filename_2016_notpending.txt', 'r') as fp:\n",
    "#    for line in fp:\n",
    "#        x = line[:-1]\n",
    " #       patent_G01_list.append(x)\n",
    "        \n",
    "#print(len(patent_G01_list))"
   ]
  },
  {
   "cell_type": "code",
   "execution_count": 29,
   "id": "122e4b55-12eb-4da8-8b51-df8e92be9888",
   "metadata": {
    "scrolled": true,
    "tags": []
   },
   "outputs": [
    {
     "name": "stderr",
     "output_type": "stream",
     "text": [
      "100%|████████████████████████████████████████████████████████████████████████████| 8383/8383 [00:01<00:00, 5564.66it/s]\n"
     ]
    }
   ],
   "source": [
    "non_main_ipc = []\n",
    "patent_number, labels, titles, backgrounds, claims = [], [], [], [], []\n",
    "for i in tqdm(range(len(final_patents))):\n",
    "    patent_path = mypath + final_patents[i]\n",
    "    with open(patent_path) as f:\n",
    "        d = json.load(f)\n",
    "        f.close()\n",
    "    \n",
    "    #Creating the lists for the other information\n",
    "    patent_number.append(d['application_number'])\n",
    "    titles.append(d['title'])\n",
    "    backgrounds.append(d['background'])\n",
    "    claims.append(d['claims'])\n",
    "    \n",
    "    #Collecting non main ipc class\n",
    "    non_main =  d['ipcr_labels']\n",
    "    for ipcr in non_main:\n",
    "        non_main_ipc.append(ipcr) # only 4 first characters to be sure of being at same level\n",
    "    #Getting labels based on decision\n",
    "    label = 0\n",
    "    if d['decision'] == 'ACCEPTED':\n",
    "        label = 1\n",
    "    labels.append(label)"
   ]
  },
  {
   "cell_type": "code",
   "execution_count": 30,
   "id": "467ecf60-3aa9-43c2-92ee-8374417e0dcd",
   "metadata": {
    "scrolled": true,
    "tags": []
   },
   "outputs": [
    {
     "data": {
      "text/plain": [
       "1245"
      ]
     },
     "execution_count": 30,
     "metadata": {},
     "output_type": "execute_result"
    }
   ],
   "source": [
    "expectations_classes = list(set(non_main_ipc))\n",
    "len(expectations_classes)"
   ]
  },
  {
   "cell_type": "code",
   "execution_count": 31,
   "id": "cedbf964-d723-445b-a804-4282f00ecdfb",
   "metadata": {
    "tags": []
   },
   "outputs": [
    {
     "name": "stdout",
     "output_type": "stream",
     "text": [
      "992\n"
     ]
    }
   ],
   "source": [
    "#Removing classes of the main classe\n",
    "good_expectations_classes = []\n",
    "for ipcr in expectations_classes:\n",
    "    if ipcr[0:4] != \"A61B\":\n",
    "        good_expectations_classes.append(ipcr)\n",
    "        \n",
    "print(len(good_expectations_classes))"
   ]
  },
  {
   "cell_type": "code",
   "execution_count": 32,
   "id": "8ca901d6-e196-4a5c-801a-41792b97a71c",
   "metadata": {
    "tags": []
   },
   "outputs": [
    {
     "name": "stdout",
     "output_type": "stream",
     "text": [
      "Done\n"
     ]
    }
   ],
   "source": [
    "#saving expectations class in txt file\n",
    "with open(r'data/expectation_space/2014_A61B_expectation_IPC_class.txt', 'w') as fp:\n",
    "    for item in good_expectations_classes:\n",
    "        # write each item on a new line\n",
    "        fp.write(\"%s\\n\" % item)\n",
    "    print('Done')"
   ]
  },
  {
   "cell_type": "code",
   "execution_count": 33,
   "id": "d18c1e8b-7718-45b6-8497-cc9780a6ea31",
   "metadata": {
    "tags": []
   },
   "outputs": [],
   "source": [
    "df = pd.DataFrame({'application_number': patent_number, 'title': titles, 'background': backgrounds, 'claims':claims, 'label': labels})"
   ]
  },
  {
   "cell_type": "code",
   "execution_count": 34,
   "id": "d7820c1b-ed7f-4d2d-be2d-8414cace7959",
   "metadata": {
    "tags": []
   },
   "outputs": [
    {
     "data": {
      "text/plain": [
       "8383"
      ]
     },
     "execution_count": 34,
     "metadata": {},
     "output_type": "execute_result"
    }
   ],
   "source": [
    "len(df)"
   ]
  },
  {
   "cell_type": "code",
   "execution_count": 35,
   "id": "1c80b107-6d34-4f4f-97fe-f77fed8aa97c",
   "metadata": {
    "tags": []
   },
   "outputs": [],
   "source": [
    "df.to_csv('data/to_eval/2014_A61B_patents_toeval.csv', index=False)"
   ]
  },
  {
   "cell_type": "code",
   "execution_count": null,
   "id": "2be1bf82-a211-4fd9-a0c8-0cd3730ef24a",
   "metadata": {},
   "outputs": [],
   "source": []
  }
 ],
 "metadata": {
  "kernelspec": {
   "display_name": "Python 3 (ipykernel)",
   "language": "python",
   "name": "python3"
  },
  "language_info": {
   "codemirror_mode": {
    "name": "ipython",
    "version": 3
   },
   "file_extension": ".py",
   "mimetype": "text/x-python",
   "name": "python",
   "nbconvert_exporter": "python",
   "pygments_lexer": "ipython3",
   "version": "3.11.7"
  }
 },
 "nbformat": 4,
 "nbformat_minor": 5
}
