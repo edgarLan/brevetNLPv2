{
 "cells": [
  {
   "cell_type": "markdown",
   "id": "f5d301f7-5cb6-4631-89c0-8064be6e46b2",
   "metadata": {},
   "source": [
    "# Computing few statistics"
   ]
  },
  {
   "cell_type": "code",
   "execution_count": 1,
   "id": "c3a93240-902b-4546-99e1-00a7b020cd67",
   "metadata": {
    "tags": []
   },
   "outputs": [],
   "source": [
    "import pandas as pd\n",
    "from collections import Counter"
   ]
  },
  {
   "cell_type": "code",
   "execution_count": 2,
   "id": "e234bbd4-d1b5-4643-b476-770bddc17f9a",
   "metadata": {
    "tags": []
   },
   "outputs": [],
   "source": [
    "ks_2016_G06F = pd.read_csv('data/to_eval/2014_G06F_patents_toeval.csv')\n",
    "#ks_20162014_G06F = pd.read_csv('knowledge_space/20162014_A61B_knowledge_space_raw.csv')\n",
    "#ks_20162013_G06F = pd.read_csv('knowledge_space/20162013_A61B_knowledge_space_raw.csv')\n",
    "#ks_20162012_G06F = pd.read_csv('knowledge_space/20162012_A61B_knowledge_space_raw.csv')\n",
    "#ks_20162011_G06F = pd.read_csv('knowledge_space/20162011_A61B_knowledge_space_raw.csv')\n",
    "#ks_20162010_G06F = pd.read_csv('knowledge_space/20142010_A61B_knowledge_space_raw.csv')\n",
    "#ks_20162009_G06F = pd.read_csv('knowledge_space/20142009_A61B_knowledge_space_raw.csv')"
   ]
  },
  {
   "cell_type": "code",
   "execution_count": 3,
   "id": "c6c1dfca-a46b-4434-a1dc-266f42c5fd10",
   "metadata": {
    "tags": []
   },
   "outputs": [
    {
     "name": "stdout",
     "output_type": "stream",
     "text": [
      "28378\n"
     ]
    }
   ],
   "source": [
    "print(len(ks_2016_G06F))"
   ]
  },
  {
   "cell_type": "code",
   "execution_count": 4,
   "id": "d1fbb0a1-4d02-444b-af5e-a135a17c8788",
   "metadata": {
    "tags": []
   },
   "outputs": [],
   "source": [
    "test = list(ks_2016_G06F['label'])"
   ]
  },
  {
   "cell_type": "code",
   "execution_count": 5,
   "id": "c004f1ad-5a38-493d-893a-9fc2b905b509",
   "metadata": {
    "tags": []
   },
   "outputs": [
    {
     "data": {
      "text/plain": [
       "dict_keys([0, 1])"
      ]
     },
     "execution_count": 5,
     "metadata": {},
     "output_type": "execute_result"
    }
   ],
   "source": [
    "Counter(test).keys()"
   ]
  },
  {
   "cell_type": "code",
   "execution_count": 6,
   "id": "6114e6a1-f8a1-4cf4-8c04-e30070b7107d",
   "metadata": {
    "tags": []
   },
   "outputs": [
    {
     "data": {
      "text/plain": [
       "dict_values([7741, 20637])"
      ]
     },
     "execution_count": 6,
     "metadata": {},
     "output_type": "execute_result"
    }
   ],
   "source": [
    "Counter(test).values()"
   ]
  },
  {
   "cell_type": "code",
   "execution_count": null,
   "id": "5eda0fd6-25aa-49fd-878c-0fd05cb97ba6",
   "metadata": {},
   "outputs": [],
   "source": []
  }
 ],
 "metadata": {
  "kernelspec": {
   "display_name": "Python 3 (ipykernel)",
   "language": "python",
   "name": "python3"
  },
  "language_info": {
   "codemirror_mode": {
    "name": "ipython",
    "version": 3
   },
   "file_extension": ".py",
   "mimetype": "text/x-python",
   "name": "python",
   "nbconvert_exporter": "python",
   "pygments_lexer": "ipython3",
   "version": "3.11.5"
  }
 },
 "nbformat": 4,
 "nbformat_minor": 5
}
