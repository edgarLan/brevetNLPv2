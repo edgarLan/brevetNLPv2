{
 "cells": [
  {
   "cell_type": "code",
   "execution_count": 1,
   "id": "1c275e06-8ef3-4e33-9bba-203b59d07dbf",
   "metadata": {
    "tags": []
   },
   "outputs": [],
   "source": [
    "import pandas as pd\n",
    "import numpy as np\n",
    "from scipy import stats\n",
    "import statsmodels.api as sm \n",
    "import math"
   ]
  },
  {
   "cell_type": "code",
   "execution_count": 2,
   "id": "a5a726d6-cb8d-4250-bc99-7abba20987d3",
   "metadata": {
    "tags": []
   },
   "outputs": [],
   "source": [
    "df = pd.read_csv('data/to_eval/results/2015_G06F_RESULTS_withIPC.csv')\n",
    "df2 = pd.read_csv('data/to_eval/results/2015_G06F_patents_toeval_RESULTS_surprise.csv')"
   ]
  },
  {
   "cell_type": "code",
   "execution_count": 3,
   "id": "4456f492-f864-452a-9830-f037d66af50d",
   "metadata": {},
   "outputs": [
    {
     "name": "stdout",
     "output_type": "stream",
     "text": [
      "21100 21100\n"
     ]
    }
   ],
   "source": [
    "print(len(df), len(df2))"
   ]
  },
  {
   "cell_type": "code",
   "execution_count": 4,
   "id": "db8cfb37-3200-4310-999d-cab4255a0ed7",
   "metadata": {
    "tags": []
   },
   "outputs": [],
   "source": [
    "x_new = list(df['newness_score'])\n",
    "x_avgdiv = list(df['average divergence_score'])\n",
    "x_maxdiv = list(df['max divergence_score'])\n",
    "x_mindiv = list(df['min divergence_score'])\n",
    "x_uniq = list(df['uniqueness'])\n",
    "x_deltuniq = list(df['delta uniqueness'])\n",
    "x_surprise_div = list(df2['divergence_surprise'])\n",
    "x_surprise_dist = list(df2['distance_surprise'])\n",
    "\n",
    "x_novel_ipc_direct = list(df['Novel_IPC_direct'])\n",
    "x_novel_ipc_all = list(df['Novel_IPC_all'])"
   ]
  },
  {
   "cell_type": "code",
   "execution_count": 5,
   "id": "60a3092f-78f2-4b2b-898e-784b864abeed",
   "metadata": {},
   "outputs": [],
   "source": [
    "x_surprise_div = list(df2['divergence_surprise'].fillna(0))"
   ]
  },
  {
   "cell_type": "code",
   "execution_count": 6,
   "id": "488512ba-c241-4325-a50b-b3be01534d30",
   "metadata": {},
   "outputs": [],
   "source": [
    "ipc_all_bin = []\n",
    "for elem in x_novel_ipc_all:\n",
    "    if elem == 0.0:\n",
    "        ipc_all_bin.append(0)\n",
    "    else:\n",
    "        ipc_all_bin.append(1)"
   ]
  },
  {
   "cell_type": "code",
   "execution_count": 7,
   "id": "64bb1be6-59c4-462a-99d3-d9cd934b6f0f",
   "metadata": {},
   "outputs": [],
   "source": [
    "for i in range(len(x_surprise_dist)):\n",
    "    if math.isinf(x_surprise_dist[i]):\n",
    "        print(i)\n",
    "        print(f\"It's np.isnan  : {np.isnan(x_surprise_dist)}\")"
   ]
  },
  {
   "cell_type": "code",
   "execution_count": 8,
   "id": "a95e206b-550d-4153-8fae-809ff600bc6c",
   "metadata": {
    "tags": []
   },
   "outputs": [],
   "source": [
    "y_label = df2['label']"
   ]
  },
  {
   "cell_type": "code",
   "execution_count": 9,
   "id": "880fb136-b662-4117-96f2-010f6107b052",
   "metadata": {
    "scrolled": true,
    "tags": []
   },
   "outputs": [
    {
     "name": "stdout",
     "output_type": "stream",
     "text": [
      "Newness :  0.0737520967507643 390.6601465158704\n",
      "Average divergence_score :  0.8967801983151795 0.9961702798465571\n",
      "Max divergence_score :  1.0 1.0\n",
      "Min divergence_score :  -2.220446049250313e-16 0.8945348893367201\n",
      "Uniqueness :  0.4971687265030593 0.981343666327004\n",
      "Delta uniqueness :  -0.5028040817193404 -0.0186291418953958\n",
      "Surprise divergence :  0.012522154733847 0.3258421996462906\n",
      "Surprise Distance :  0.1033422206119093 3.171725572601052\n"
     ]
    }
   ],
   "source": [
    "print('Newness : ', min(x_new),max(x_new))\n",
    "print('Average divergence_score : ', min(x_avgdiv),max(x_avgdiv))\n",
    "print('Max divergence_score : ', min(x_maxdiv),max(x_maxdiv))\n",
    "print('Min divergence_score : ', min(x_mindiv),max(x_mindiv))\n",
    "print('Uniqueness : ', min(x_uniq),max(x_uniq))\n",
    "print('Delta uniqueness : ', min(x_deltuniq),max(x_deltuniq))\n",
    "print('Surprise divergence : ', min(x_surprise_div),max(x_surprise_div))\n",
    "print('Surprise Distance : ', min(x_surprise_dist),max(x_surprise_dist))"
   ]
  },
  {
   "cell_type": "markdown",
   "id": "7e56a706-7607-4c44-92bc-14d3e24c3cca",
   "metadata": {
    "tags": []
   },
   "source": [
    "### List of best and worst for each metrics"
   ]
  },
  {
   "cell_type": "code",
   "execution_count": 8,
   "id": "f0a6fb51-4e78-4963-a548-4d09ffe29589",
   "metadata": {
    "tags": []
   },
   "outputs": [
    {
     "name": "stdout",
     "output_type": "stream",
     "text": [
      "Newness max :  [8065, 12546, 7497, 11430, 11811, 6099, 11317, 11310, 930, 7302, 8046, 14124, 7510, 8005, 5293, 38, 12838, 12840, 10273, 1594] [2605, 1006, 7726, 15350, 13820, 11000, 2740, 6518, 4307, 4511, 8475, 10410, 1545, 2984, 974, 14348, 13750, 2977, 15640, 314]\n",
      "Diff max :  [2646, 14836, 11737, 9734, 15990, 4068, 12132, 14280, 6675, 9875, 953, 5535, 2622, 5445, 3181, 5745, 12003, 3691, 11520, 6679] Newness min :  [8785, 3849, 13133, 6190, 11026, 2888, 16885, 15717, 15679, 3077, 4926, 10590, 2553, 13095, 10879, 10875, 15300, 15517, 11769, 16587]\n",
      "Uniqueness max :  [600, 1863, 10650, 8896, 7510, 15209, 14331, 9580, 2519, 862, 4035, 849, 91, 2690, 9217, 385, 930, 3999, 1774, 1117] Newness min :  [16801, 7005, 2433, 6310, 1423, 13651, 10472, 2295, 7913, 2396, 1857, 14961, 3952, 12332, 7193, 5095, 3816, 8185, 14789, 15438]\n",
      "Surprise max :  [12186, 11350, 9882, 16977, 1912, 5756, 14308, 894, 291, 6110, 6979, 8178, 2498, 14985, 7063, 2118, 4984, 9875, 10001, 13697] Newness min :  [3733, 8106, 7666, 6692, 15600, 12840, 12838, 5993, 10737, 15563, 2911, 10655, 5554, 7510, 4464, 10273, 14651, 7264, 8649, 12035]\n"
     ]
    }
   ],
   "source": [
    "k = 20\n",
    "print('Newness max : ', list(np.argsort(x_new)[-k:]) , list(np.argsort(x_new)[:k]))\n",
    "print('Diff max : ', list(np.argsort(x_mindiv)[-k:]), \"Newness min : \", list(np.argsort(x_mindiv)[:k]))\n",
    "print('Uniqueness max : ', list(np.argsort(x_uniq)[-k:]), \"Newness min : \", list(np.argsort(x_uniq)[:k]))\n",
    "print('Surprise max : ', list(np.argsort(x_surprise_div)[-k:]), \"Newness min : \", list(np.argsort(x_surprise_div)[:k]))"
   ]
  },
  {
   "cell_type": "code",
   "execution_count": 10,
   "id": "5efc16c6-f91b-4bc8-9a66-e24c552658ad",
   "metadata": {
    "tags": []
   },
   "outputs": [],
   "source": [
    "# Création of variables\n",
    "def square(x):\n",
    "    return x**2\n",
    "\n",
    "def interaction(x,y):\n",
    "    new_list = []\n",
    "    assert len(x) == len(y)\n",
    "    for i in range(len(x)):\n",
    "        new_list.append(x[i]*y[i])\n",
    "        \n",
    "    return new_list"
   ]
  },
  {
   "cell_type": "code",
   "execution_count": 11,
   "id": "7077f0c7-1412-4d9e-bc62-bbfaede2051f",
   "metadata": {
    "tags": []
   },
   "outputs": [],
   "source": [
    "def interaction3(x,y,a):\n",
    "    new_list = []\n",
    "    assert len(x) == len(y)\n",
    "    for i in range(len(x)):\n",
    "        new_list.append(x[i]*y[i]*a[i])\n",
    "        \n",
    "    return new_list"
   ]
  },
  {
   "cell_type": "code",
   "execution_count": 12,
   "id": "c0d23d52-d8bc-4741-b21d-b7a6f1dc46b0",
   "metadata": {
    "tags": []
   },
   "outputs": [],
   "source": [
    "def interaction4(x,y,a,b):\n",
    "    new_list = []\n",
    "    assert len(x) == len(y)\n",
    "    for i in range(len(x)):\n",
    "        new_list.append(x[i]*y[i]*a[i]*b[i])\n",
    "        \n",
    "    return new_list"
   ]
  },
  {
   "cell_type": "code",
   "execution_count": 13,
   "id": "abbefaa7-3c0f-48bf-b3c2-0d5c1f3b31cd",
   "metadata": {
    "tags": []
   },
   "outputs": [],
   "source": [
    "#SQUARED VARIABLES\n",
    "x_new_square = [square(x) for x in x_new]\n",
    "x_avgdiv_square = [square(x) for x in x_avgdiv]\n",
    "x_mindiv_square = [square(x) for x in x_mindiv]\n",
    "x_uniq_square = [square(x) for x in x_uniq]\n",
    "x_deltuniq_square = [square(x) for x in x_deltuniq]\n",
    "x_surdiv_square = [square(x) for x in x_surprise_div]\n",
    "x_surdist_square = [square(x) for x in x_surprise_dist]\n",
    "\n",
    "x_novel_ipc_direct_sqaure = [square(x) for x in x_novel_ipc_direct]\n",
    "x_novel_ipc_all_sqaure = [square(x) for x in x_novel_ipc_all]"
   ]
  },
  {
   "cell_type": "code",
   "execution_count": 14,
   "id": "b7e36391-4cc9-4f53-b234-0ebbc85dcec3",
   "metadata": {
    "tags": []
   },
   "outputs": [],
   "source": [
    "#variables interactions:\n",
    "x_new_avgdiv = interaction(x_new, x_avgdiv)\n",
    "x_new_mindiv = interaction(x_new, x_mindiv)\n",
    "x_new_uniq = interaction(x_new, x_uniq)\n",
    "x_new_deltuniq = interaction(x_new, x_deltuniq)\n",
    "x_avgdiv_mindiv = interaction(x_avgdiv, x_mindiv)\n",
    "x_avgdiv_uniq = interaction(x_avgdiv, x_uniq)\n",
    "x_avgdiv_deltuniq = interaction(x_avgdiv, x_deltuniq)\n",
    "x_mindiv_uniq = interaction(x_mindiv, x_uniq)\n",
    "x_mindiv_deltuniq = interaction(x_mindiv, x_deltuniq)\n",
    "x_uniq_deltuniq = interaction(x_uniq, x_deltuniq)\n",
    "\n",
    "#New interaction\n",
    "x_new_surdiv = interaction(x_new, x_surprise_div)\n",
    "x_new_surdist = interaction(x_new, x_surprise_dist)\n",
    "x_mindiv_surdist = interaction(x_mindiv, x_surprise_div)\n",
    "x_mindiv_surdiv = interaction(x_mindiv, x_surprise_dist)\n",
    "x_uniq_surdist = interaction(x_uniq, x_surprise_div)\n",
    "x_uniq_surdiv = interaction(x_uniq, x_surprise_dist)\n",
    "\n",
    "XXXXx = interaction4(x_uniq, x_new, x_surprise_div, x_mindiv)\n",
    "XxXX3 = interaction3(x_uniq,x_surprise_div, x_mindiv)\n",
    "\n",
    "\n",
    "ipc_direct_newness = interaction(x_new, x_novel_ipc_direct)\n",
    "ipc_all_newness = interaction(x_new, x_novel_ipc_all)\n",
    "ipc_direct_diff = interaction(x_mindiv, x_novel_ipc_direct)\n",
    "ipc_all_diff = interaction(x_mindiv, x_novel_ipc_all)\n",
    "ipc_direct_uniq = interaction(x_uniq, x_novel_ipc_direct)\n",
    "ipc_all_uniq = interaction(x_uniq, x_novel_ipc_all)\n",
    "ipc_direct_surpri = interaction(x_surprise_div, x_novel_ipc_direct)\n",
    "ipc_all_surpri = interaction(x_surprise_div, x_novel_ipc_all)"
   ]
  },
  {
   "cell_type": "markdown",
   "id": "2ad424c6-064a-49a3-ab92-7a371897a551",
   "metadata": {},
   "source": [
    "## Correlation calculation \n",
    "Spearman and Pearson"
   ]
  },
  {
   "cell_type": "code",
   "execution_count": null,
   "id": "edde41a6-b87b-4bed-9363-1001f9ce5cce",
   "metadata": {
    "tags": []
   },
   "outputs": [],
   "source": [
    "#Pearson\n",
    "print('Newness : ', stats.pearsonr(x_new, y_label))\n",
    "print('Avg Divergence : ', stats.pearsonr(x_avgdiv, y_label))\n",
    "print('Min Divergence : ', stats.pearsonr(x_mindiv, y_label))\n",
    "print('Uniqueness : ', stats.pearsonr(x_uniq, y_label))\n",
    "print('Delta Uniqueness : ', stats.pearsonr(x_deltuniq, y_label))\n",
    "print('Surprise divergence : ', stats.pearsonr(x_surprise_div, y_label))\n",
    "print('Surprise distance : ', stats.pearsonr(x_surprise_dist, y_label))\n",
    "print('===================SQUARE=======================')\n",
    "print('Newness square : ', stats.pearsonr(x_new_square, y_label))\n",
    "print('Avg Divergence square : ', stats.pearsonr(x_avgdiv_square, y_label))\n",
    "print('Min Divergence square : ', stats.pearsonr(x_mindiv_square, y_label))\n",
    "print('Uniqueness square : ', stats.pearsonr(x_uniq_square, y_label))\n",
    "print('Delta Uniqueness square : ', stats.pearsonr(x_deltuniq_square, y_label))\n",
    "print('Surprise divergence : ', stats.pearsonr(x_surdiv_square, y_label))\n",
    "print('Surprise distance : ', stats.pearsonr(x_surdist_square, y_label))\n",
    "print('===================INTERACTIONS=======================')\n",
    "print('Newness Avg Divergence : ', stats.pearsonr(x_new_avgdiv, y_label))\n",
    "print('Newness Min Divergence : ', stats.pearsonr(x_new_mindiv, y_label))\n",
    "print('Newness Uniqueness : ', stats.pearsonr(x_new_uniq, y_label))\n",
    "print('Newness Delta Uniqueness : ', stats.pearsonr(x_new_deltuniq, y_label))\n",
    "print('Avg Divergence Min Divergence : ', stats.pearsonr(x_avgdiv_mindiv, y_label))\n",
    "print('Avg Divergence Uniqueness : ', stats.pearsonr(x_avgdiv_uniq, y_label))\n",
    "print('Avg Divergence Delta Uniqueness : ', stats.pearsonr(x_avgdiv_deltuniq, y_label))\n",
    "print('Min Divergence Uniqueness : ', stats.pearsonr(x_mindiv_uniq, y_label))\n",
    "print('Min Divergence Delta Uniqueness : ', stats.pearsonr(x_mindiv_deltuniq, y_label))\n",
    "print('Uniqueness Delta Uniqueness : ', stats.pearsonr(x_uniq_deltuniq, y_label))\n",
    "\n",
    "print('Newness Surprise div : ', stats.pearsonr(x_new_surdiv, y_label))\n",
    "print('Newness Surprise dist : ', stats.pearsonr(x_new_surdist, y_label))\n",
    "print('Min Divergence Surprise div :', stats.pearsonr(x_mindiv_surdist, y_label))\n",
    "print('Min Divergence Surprise dist : ', stats.pearsonr(x_mindiv_surdiv, y_label))\n",
    "print('Uniqueness Surprise div : ', stats.pearsonr(x_uniq_surdist, y_label))\n",
    "print('Uniqueness Surprise dist : ', stats.pearsonr(x_uniq_surdiv, y_label))"
   ]
  },
  {
   "cell_type": "code",
   "execution_count": 15,
   "id": "f32f9665-0103-41ec-9f4c-1ac2485ada11",
   "metadata": {},
   "outputs": [
    {
     "name": "stdout",
     "output_type": "stream",
     "text": [
      "IPC Direct :  PearsonRResult(statistic=0.00368657365193803, pvalue=0.7231816872250632)\n",
      "IPC ALL :  PearsonRResult(statistic=0.008514113731879583, pvalue=0.41332475874595115)\n",
      "IPC ALL Surprise : PearsonRResult(statistic=-0.014952038199709248, pvalue=0.15080822113818312)\n",
      "IPC Direct Surprise :  PearsonRResult(statistic=-0.017925315914025533, pvalue=0.08499433371689745)\n",
      "IPC ALL Uniqueness :  PearsonRResult(statistic=0.007081974330493579, pvalue=0.49621985573317473)\n",
      "IPC Direct Uniqueness :  PearsonRResult(statistic=0.002056808994719254, pvalue=0.8433425050920964)\n",
      "IPC ALL difference :  PearsonRResult(statistic=-0.009871527679846323, pvalue=0.3428819180224721)\n",
      "IPC Direct difference :  PearsonRResult(statistic=-0.013164976067605902, pvalue=0.2058875072063717)\n",
      "IPC ALL NEW : PearsonRResult(statistic=0.024626277625707488, pvalue=0.01795869115355658)\n",
      "IPC Direct NEW :  PearsonRResult(statistic=0.020017569148052985, pvalue=0.054417954705847524)\n"
     ]
    }
   ],
   "source": [
    "print('IPC Direct : ', stats.pearsonr(x_novel_ipc_direct, y_label))\n",
    "print('IPC ALL : ', stats.pearsonr(x_novel_ipc_all, y_label))\n",
    "print('IPC ALL Surprise :', stats.pearsonr(ipc_all_surpri, y_label))\n",
    "print('IPC Direct Surprise : ', stats.pearsonr(ipc_direct_surpri, y_label))\n",
    "print('IPC ALL Uniqueness : ', stats.pearsonr(ipc_all_uniq, y_label))\n",
    "print('IPC Direct Uniqueness : ', stats.pearsonr(ipc_direct_uniq, y_label))\n",
    "print('IPC ALL difference : ', stats.pearsonr(ipc_all_diff, y_label))\n",
    "print('IPC Direct difference : ', stats.pearsonr(ipc_direct_diff, y_label))\n",
    "print('IPC ALL NEW :', stats.pearsonr(ipc_all_newness, y_label))\n",
    "print('IPC Direct NEW : ', stats.pearsonr(ipc_direct_newness, y_label))"
   ]
  },
  {
   "cell_type": "code",
   "execution_count": 18,
   "id": "3b37adf5-e931-4305-a1a8-9e40fc5dec96",
   "metadata": {
    "tags": []
   },
   "outputs": [
    {
     "name": "stdout",
     "output_type": "stream",
     "text": [
      "PearsonRResult(statistic=-0.006956402256286304, pvalue=0.32615513194449586)\n",
      "PearsonRResult(statistic=-0.12975015935887482, pvalue=1.5325249486671605e-75)\n"
     ]
    }
   ],
   "source": [
    "print(stats.pearsonr(XXXXx, y_label))\n",
    "print(stats.pearsonr(XxXX3, y_label))\n"
   ]
  },
  {
   "cell_type": "markdown",
   "id": "f7200d42-1232-4e03-9a62-160dab6f063a",
   "metadata": {},
   "source": [
    "between variables"
   ]
  },
  {
   "cell_type": "code",
   "execution_count": 16,
   "id": "04892b66-a51f-47f4-880d-3b8940a708f1",
   "metadata": {
    "scrolled": true,
    "tags": []
   },
   "outputs": [
    {
     "name": "stdout",
     "output_type": "stream",
     "text": [
      "IPC Direct NEW:  PearsonRResult(statistic=0.017919024637353256, pvalue=0.08510383821917664)\n",
      "IPC ALL NEW:  PearsonRResult(statistic=0.017612148686588017, pvalue=0.09058521676604879)\n",
      "IPC Direct Uniq:  PearsonRResult(statistic=0.04679237346712045, pvalue=6.849652413572854e-06)\n",
      "IPC ALL Uniq:  PearsonRResult(statistic=0.04733308450786919, pvalue=5.355776472516664e-06)\n",
      "IPC Direct Diff:  PearsonRResult(statistic=0.07493088992854276, pvalue=5.613771271242905e-13)\n",
      "IPC ALL Diff:  PearsonRResult(statistic=0.08530659683484007, pvalue=2.188284236902261e-16)\n",
      "IPC Direct Surprise:  PearsonRResult(statistic=0.033007364880866585, pvalue=0.0015127060895682553)\n",
      "IPC ALL Surprise:  PearsonRResult(statistic=0.035308706502379855, pvalue=0.0006899468720739043)\n"
     ]
    }
   ],
   "source": [
    "#print('Newness divergence : ', stats.spearmanr(x_new, x_mindiv), stats.pearsonr(x_new, x_mindiv))\n",
    "#print('Newness Uniqueness : ', stats.spearmanr(x_new, x_uniq), stats.pearsonr(x_new, x_uniq))\n",
    "#print('Newness Surprise : ', stats.spearmanr(x_new, x_surprise_div), stats.pearsonr(x_new, x_surprise_div))\n",
    "#print('divergence Uniqueness : ', stats.spearmanr(x_mindiv, x_uniq), stats.pearsonr(x_mindiv, x_uniq))\n",
    "#print('divergence Surprise : ', stats.spearmanr(x_mindiv, x_surprise_div), stats.pearsonr(x_mindiv, x_surprise_div))\n",
    "#print('Uniqueness Surprise : ', stats.spearmanr(x_uniq, x_surprise_div), stats.pearsonr(x_uniq, x_surprise_div))\n",
    "\n",
    "print('IPC Direct NEW: ', stats.pearsonr(x_novel_ipc_direct, x_new))\n",
    "print('IPC ALL NEW: ', stats.pearsonr(x_novel_ipc_all, x_new))\n",
    "print('IPC Direct Uniq: ', stats.pearsonr(x_novel_ipc_direct, x_uniq))\n",
    "print('IPC ALL Uniq: ', stats.pearsonr(x_novel_ipc_all, x_uniq))\n",
    "print('IPC Direct Diff: ', stats.pearsonr(x_novel_ipc_direct, x_mindiv))\n",
    "print('IPC ALL Diff: ', stats.pearsonr(x_novel_ipc_all, x_mindiv))\n",
    "print('IPC Direct Surprise: ', stats.pearsonr(x_novel_ipc_direct, x_surprise_div))\n",
    "print('IPC ALL Surprise: ', stats.pearsonr(x_novel_ipc_all, x_surprise_div))"
   ]
  },
  {
   "cell_type": "markdown",
   "id": "2bf93357-5e01-46f8-8603-068d03eaec0d",
   "metadata": {},
   "source": [
    "### Avec la variable binaire de nouveauté"
   ]
  },
  {
   "cell_type": "code",
   "execution_count": 15,
   "id": "fee8a361-26cd-4e08-8f1b-9f3fed3afa94",
   "metadata": {
    "scrolled": true
   },
   "outputs": [
    {
     "name": "stdout",
     "output_type": "stream",
     "text": [
      "Newness :  PearsonRResult(statistic=0.005535032048464331, pvalue=0.42141524122187524)\n",
      "Min Divergence :  PearsonRResult(statistic=0.08848182009051551, pvalue=6.046915237529377e-38)\n",
      "Uniqueness :  PearsonRResult(statistic=0.0212569235022006, pvalue=0.0020156785370019853)\n",
      "Surprise divergence :  PearsonRResult(statistic=0.046284876708557104, pvalue=1.7382468569280343e-11)\n",
      "PearsonRResult(statistic=0.01392237532456244, pvalue=0.04314330121814159)\n",
      "PearsonRResult(statistic=0.09748715213788643, pvalue=1.000771050370288e-45)\n"
     ]
    }
   ],
   "source": [
    "#Pearson\n",
    "print('Newness : ', stats.pearsonr(x_new, ipc_all_bin))\n",
    "print('Min Divergence : ', stats.pearsonr(x_mindiv, ipc_all_bin))\n",
    "print('Uniqueness : ', stats.pearsonr(x_uniq, ipc_all_bin))\n",
    "print('Surprise divergence : ', stats.pearsonr(x_surprise_div, ipc_all_bin))\n",
    "\n",
    "#print('===================SQUARE=======================')\n",
    "#print('Newness square : ', stats.pearsonr(x_new_square, ipc_all_bin))\n",
    "#print('Min Divergence square : ', stats.pearsonr(x_mindiv_square, ipc_all_bin))\n",
    "#print('Uniqueness square : ', stats.pearsonr(x_uniq_square, ipc_all_bin))\n",
    "#print('Surprise divergence : ', stats.pearsonr(x_surdiv_square, ipc_all_bin))\n",
    "#\n",
    "#print('===================INTERACTIONS=======================')\n",
    "#print('Newness Min Divergence : ', stats.pearsonr(x_new_mindiv, ipc_all_bin))\n",
    "#print('Newness Uniqueness : ', stats.pearsonr(x_new_uniq, ipc_all_bin))\n",
    "#print('Min Divergence Uniqueness : ', stats.pearsonr(x_mindiv_uniq, ipc_all_bin))\n",
    "#print('Newness Surprise div : ', stats.pearsonr(x_new_surdiv, ipc_all_bin))\n",
    "#print('Min Divergence Surprise div :', stats.pearsonr(x_mindiv_surdist, ipc_all_bin))\n",
    "#print('Uniqueness Surprise div : ', stats.pearsonr(x_uniq_surdist, ipc_all_bin))\n",
    "#\n",
    "#print('IPC Direct : ', stats.pearsonr(x_novel_ipc_direct, ipc_all_bin))\n",
    "#print('IPC ALL : ', stats.pearsonr(x_novel_ipc_all, ipc_all_bin))\n",
    "#print('IPC ALL Surprise :', stats.pearsonr(ipc_all_surpri, ipc_all_bin))\n",
    "#print('IPC Direct Surprise : ', stats.pearsonr(ipc_direct_surpri, ipc_all_bin))\n",
    "#print('IPC ALL Uniqueness : ', stats.pearsonr(ipc_all_uniq, ipc_all_bin))\n",
    "#print('IPC Direct Uniqueness : ', stats.pearsonr(ipc_direct_uniq, ipc_all_bin))\n",
    "#print('IPC ALL difference : ', stats.pearsonr(ipc_all_diff, ipc_all_bin))\n",
    "#print('IPC Direct difference : ', stats.pearsonr(ipc_direct_diff, ipc_all_bin))\n",
    "#print('IPC ALL NEW :', stats.pearsonr(ipc_all_newness, ipc_all_bin))\n",
    "#print('IPC Direct NEW : ', stats.pearsonr(ipc_direct_newness, ipc_all_bin))\n",
    "\n",
    "print(stats.pearsonr(XXXXx, ipc_all_bin))\n",
    "print(stats.pearsonr(XxXX3, ipc_all_bin))"
   ]
  },
  {
   "cell_type": "markdown",
   "id": "442643da-10b3-49ed-a6dc-37a31f5a21c6",
   "metadata": {},
   "source": [
    "## Logistic regression"
   ]
  },
  {
   "cell_type": "code",
   "execution_count": 34,
   "id": "dc525d1f-841d-4925-834a-0d2078d334ef",
   "metadata": {
    "tags": []
   },
   "outputs": [],
   "source": [
    "\n",
    "#import pandas as pd  \n",
    "  \n",
    "# loading the training dataset  \n",
    "#df = pd.read_csv('logit_train1.csv', index_col = 0) \n",
    "  \n",
    "# defining the dependent and independent variables \n",
    "#Xtrain = df[['gmat', 'gpa', 'work_experience']] \n",
    "#ytrain = df[['admitted']] "
   ]
  },
  {
   "cell_type": "code",
   "execution_count": 16,
   "id": "1e949e3b-7809-43f0-9dec-8012e3acee47",
   "metadata": {
    "tags": []
   },
   "outputs": [],
   "source": [
    "#Xtrain = np.column_stack((x_new ,x_avgdiv ,x_mindiv ,x_uniq ,x_deltuniq))\n",
    "#Xtrain1 = np.column_stack((x_new ,x_avgdiv ,x_uniq ))\n",
    "Xtrain2 = np.column_stack((x_new , x_mindiv, x_uniq, x_surprise_div, x_novel_ipc_all)) #\n",
    "Xtrain3 = np.column_stack((x_new , x_mindiv, x_uniq, x_surprise_div)) #\n",
    "Xtrain_indiv = XxXX3   #XxXX3"
   ]
  },
  {
   "cell_type": "code",
   "execution_count": 17,
   "id": "3589a5dd-0804-4dde-8560-0272dbdd4175",
   "metadata": {
    "tags": []
   },
   "outputs": [
    {
     "name": "stdout",
     "output_type": "stream",
     "text": [
      "Optimization terminated successfully.\n",
      "         Current function value: 0.502839\n",
      "         Iterations 6\n",
      "Optimization terminated successfully.\n",
      "         Current function value: 0.457508\n",
      "         Iterations 6\n"
     ]
    }
   ],
   "source": [
    "#log_reg = sm.Logit(y_label, Xtrain).fit_regularized() \n",
    "Xtrain2 = sm.add_constant(Xtrain2)\n",
    "Xtrain3 = sm.add_constant(Xtrain3)\n",
    "log_reg = sm.Logit(y_label, Xtrain2).fit()\n",
    "log_reg2 = sm.Logit(ipc_all_bin, Xtrain3).fit()"
   ]
  },
  {
   "cell_type": "code",
   "execution_count": 18,
   "id": "f775b4c7-0aee-4ba8-9169-c54f79f81b17",
   "metadata": {
    "tags": []
   },
   "outputs": [
    {
     "name": "stdout",
     "output_type": "stream",
     "text": [
      "                           Logit Regression Results                           \n",
      "==============================================================================\n",
      "Dep. Variable:                  label   No. Observations:                21100\n",
      "Model:                          Logit   Df Residuals:                    21094\n",
      "Method:                           MLE   Df Model:                            5\n",
      "Date:                Sun, 07 Apr 2024   Pseudo R-squ.:                 0.02613\n",
      "Time:                        16:27:23   Log-Likelihood:                -10610.\n",
      "converged:                       True   LL-Null:                       -10895.\n",
      "Covariance Type:            nonrobust   LLR p-value:                8.054e-121\n",
      "==============================================================================\n",
      "                 coef    std err          z      P>|z|      [0.025      0.975]\n",
      "------------------------------------------------------------------------------\n",
      "const          2.1594      0.210     10.287      0.000       1.748       2.571\n",
      "x1             0.0086      0.003      3.423      0.001       0.004       0.014\n",
      "x2            -1.2582      0.103    -12.255      0.000      -1.459      -1.057\n",
      "x3             0.6854      0.263      2.607      0.009       0.170       1.201\n",
      "x4            -8.7612      0.443    -19.773      0.000      -9.630      -7.893\n",
      "x5            -0.0029      0.069     -0.042      0.966      -0.138       0.132\n",
      "==============================================================================\n"
     ]
    }
   ],
   "source": [
    "print(log_reg.summary()) "
   ]
  },
  {
   "cell_type": "code",
   "execution_count": 19,
   "id": "75abfe60-302d-4880-99fa-bbbe5d8787ad",
   "metadata": {},
   "outputs": [
    {
     "name": "stdout",
     "output_type": "stream",
     "text": [
      "                           Logit Regression Results                           \n",
      "==============================================================================\n",
      "Dep. Variable:                      y   No. Observations:                21100\n",
      "Model:                          Logit   Df Residuals:                    21095\n",
      "Method:                           MLE   Df Model:                            4\n",
      "Date:                Sun, 07 Apr 2024   Pseudo R-squ.:                 0.01082\n",
      "Time:                        16:27:24   Log-Likelihood:                -9653.4\n",
      "converged:                       True   LL-Null:                       -9759.0\n",
      "Covariance Type:            nonrobust   LLR p-value:                 1.512e-44\n",
      "==============================================================================\n",
      "                 coef    std err          z      P>|z|      [0.025      0.975]\n",
      "------------------------------------------------------------------------------\n",
      "const         -2.6745      0.226    -11.851      0.000      -3.117      -2.232\n",
      "x1             0.0008      0.002      0.452      0.651      -0.003       0.004\n",
      "x2             1.3732      0.111     12.410      0.000       1.156       1.590\n",
      "x3             0.3319      0.281      1.180      0.238      -0.219       0.883\n",
      "x4             2.9746      0.480      6.192      0.000       2.033       3.916\n",
      "==============================================================================\n"
     ]
    }
   ],
   "source": [
    "print(log_reg2.summary()) "
   ]
  },
  {
   "cell_type": "markdown",
   "id": "3e4be608-5d35-4bae-b7e0-80ac5322138a",
   "metadata": {},
   "source": [
    "## 4 variables"
   ]
  },
  {
   "cell_type": "code",
   "execution_count": 33,
   "id": "35473893-840e-4db6-904a-724bab66f99c",
   "metadata": {
    "tags": []
   },
   "outputs": [],
   "source": [
    "def interaction_mult(x,y, a, b):\n",
    "    new_list = []\n",
    "    assert len(x) == len(y)\n",
    "    for i in range(len(x)):\n",
    "        new_list.append(x[i]*y[i]*a[i]*b[i])\n",
    "    return new_list"
   ]
  },
  {
   "cell_type": "code",
   "execution_count": 34,
   "id": "202503fc-d23c-48cc-9a6a-ae22f394ca80",
   "metadata": {
    "tags": []
   },
   "outputs": [],
   "source": [
    "novelty = interaction_mult(x_new, x_mindiv, x_uniq, x_surprise_div)"
   ]
  },
  {
   "cell_type": "code",
   "execution_count": 35,
   "id": "9a0aa17b-c282-4f7e-bd42-41bdc4fedc65",
   "metadata": {
    "tags": []
   },
   "outputs": [
    {
     "name": "stdout",
     "output_type": "stream",
     "text": [
      "Novelty :  PearsonRResult(statistic=0.02265348724988045, pvalue=0.029492348513559797)\n",
      "Novelty :  SignificanceResult(statistic=-0.08146342402496493, pvalue=4.502053624163733e-15)\n"
     ]
    }
   ],
   "source": [
    "print('Novelty : ', stats.pearsonr(novelty, y_label))\n",
    "print('Novelty : ', stats.spearmanr(novelty, y_label))"
   ]
  },
  {
   "cell_type": "code",
   "execution_count": 36,
   "id": "b263e4d2-af30-4ec8-b7bf-a01034b8b59c",
   "metadata": {
    "tags": []
   },
   "outputs": [
    {
     "name": "stdout",
     "output_type": "stream",
     "text": [
      "Optimization terminated successfully.\n",
      "         Current function value: 0.432023\n",
      "         Iterations 6\n"
     ]
    }
   ],
   "source": [
    "#log_reg = sm.Logit(y_label, Xtrain).fit_regularized() \n",
    "novelty = sm.add_constant(novelty)\n",
    "log_reg = sm.Logit(y_label, novelty).fit() "
   ]
  },
  {
   "cell_type": "code",
   "execution_count": 37,
   "id": "66624a4c-32b7-4f5f-a6b6-ddc91b5d46c2",
   "metadata": {
    "tags": []
   },
   "outputs": [
    {
     "name": "stdout",
     "output_type": "stream",
     "text": [
      "                           Logit Regression Results                           \n",
      "==============================================================================\n",
      "Dep. Variable:                  label   No. Observations:                 9234\n",
      "Model:                          Logit   Df Residuals:                     9232\n",
      "Method:                           MLE   Df Model:                            1\n",
      "Date:                Wed, 20 Mar 2024   Pseudo R-squ.:               0.0007236\n",
      "Time:                        15:28:29   Log-Likelihood:                -3989.3\n",
      "converged:                       True   LL-Null:                       -3992.2\n",
      "Covariance Type:            nonrobust   LLR p-value:                   0.01623\n",
      "==============================================================================\n",
      "                 coef    std err          z      P>|z|      [0.025      0.975]\n",
      "------------------------------------------------------------------------------\n",
      "const          1.6763      0.029     57.120      0.000       1.619       1.734\n",
      "x1             0.2849      0.133      2.144      0.032       0.025       0.545\n",
      "==============================================================================\n"
     ]
    }
   ],
   "source": [
    "print(log_reg.summary()) "
   ]
  },
  {
   "cell_type": "markdown",
   "id": "1b5f7843-27b5-4322-9a09-efd1a05be88c",
   "metadata": {},
   "source": [
    "## TEST"
   ]
  },
  {
   "cell_type": "code",
   "execution_count": 39,
   "id": "6ae54554-e82c-4fb8-97df-1e33712e7eae",
   "metadata": {
    "tags": []
   },
   "outputs": [],
   "source": [
    "test1 = [1 - x for x in x_mindiv]\n",
    "test2 = [1 - x for x in x_uniq]\n",
    "test3 = [1 - x for x in x_surprise_div]"
   ]
  },
  {
   "cell_type": "code",
   "execution_count": 40,
   "id": "efe2226f-fe5f-4733-ac87-1545d542fd97",
   "metadata": {
    "tags": []
   },
   "outputs": [
    {
     "name": "stdout",
     "output_type": "stream",
     "text": [
      "Novelty :  PearsonRResult(statistic=0.09648836360149685, pvalue=1.509098573364288e-20)\n",
      "Novelty :  SignificanceResult(statistic=0.09428166169781423, pvalue=1.0970187487080164e-19)\n",
      "Novelty :  PearsonRResult(statistic=0.05245366545646544, pvalue=4.576751834537118e-07)\n",
      "Novelty :  SignificanceResult(statistic=0.053538265868885666, pvalue=2.637198875673819e-07)\n",
      "Novelty :  PearsonRResult(statistic=0.14743587244605555, pvalue=4.909922066578835e-46)\n",
      "Novelty :  SignificanceResult(statistic=0.1320128187408071, pvalue=3.558809846356607e-37)\n"
     ]
    }
   ],
   "source": [
    "print('Novelty : ', stats.pearsonr(test1, y_label))\n",
    "print('Novelty : ', stats.spearmanr(test1, y_label))\n",
    "print('Novelty : ', stats.pearsonr(test2, y_label))\n",
    "print('Novelty : ', stats.spearmanr(test2, y_label))\n",
    "print('Novelty : ', stats.pearsonr(test3, y_label))\n",
    "print('Novelty : ', stats.spearmanr(test3, y_label))"
   ]
  },
  {
   "cell_type": "code",
   "execution_count": 52,
   "id": "4f6e3227-dbf3-4d97-a059-650f719f6c9c",
   "metadata": {
    "tags": []
   },
   "outputs": [
    {
     "name": "stdout",
     "output_type": "stream",
     "text": [
      "[[3.18559257]]\n",
      "[[9.98087566e-01 4.08951388e-04 4.51961181e-04 4.99494353e-04\n",
      "  5.52026633e-04]]\n",
      "[[0.2 0.2 0.2 0.2 0.2]]\n",
      "[0.64518337]\n"
     ]
    }
   ],
   "source": [
    "from scipy.spatial import distance\n",
    "from scipy.special import softmax\n",
    "from sklearn.metrics.pairwise import euclidean_distances\n",
    "import math\n",
    "x = np.array([8,0.2,0.3,0.4,0.5]).reshape(1, -1)\n",
    "y = np.array([1,1,1,1,1]).reshape(1, -1)\n",
    "dist_score = euclidean_distances(y,x) / math.sqrt(x.shape[1])\n",
    "print(dist_score)\n",
    "\n",
    "current_dist = softmax(x)\n",
    "expect_dist = softmax(y)\n",
    "print(current_dist)\n",
    "print(expect_dist)\n",
    "div_score = distance.jensenshannon(expect_dist, current_dist, axis=1)\n",
    "print(div_score)"
   ]
  },
  {
   "cell_type": "markdown",
   "id": "c097e99a-e85f-4290-9290-77d410fb04de",
   "metadata": {},
   "source": [
    "# Polts and Stats"
   ]
  },
  {
   "cell_type": "code",
   "execution_count": 1,
   "id": "d3085c04-6c79-460e-a745-b77dd0c61c8c",
   "metadata": {
    "tags": []
   },
   "outputs": [],
   "source": [
    "import pandas as pd\n",
    "import numpy as np\n",
    "from scipy import stats\n",
    "import statsmodels.api as sm "
   ]
  },
  {
   "cell_type": "code",
   "execution_count": 2,
   "id": "97050ff5-b2d9-4149-9074-25ff58d68200",
   "metadata": {
    "tags": []
   },
   "outputs": [],
   "source": [
    "df = pd.read_csv('data/to_eval/results/2016_G06F_RESULTS.csv')\n",
    "df2 = pd.read_csv('data/to_eval/results/2016_G06F_patents_toeval_RESULTS_surprise.csv')"
   ]
  },
  {
   "cell_type": "code",
   "execution_count": 12,
   "id": "9c3c2709-baae-4b78-b7a9-cca54b036551",
   "metadata": {
    "tags": []
   },
   "outputs": [],
   "source": [
    "df_brev = df2[df2['label'] == 1]\n",
    "df_nonbrev = df2[df2['label'] == 0]"
   ]
  },
  {
   "cell_type": "code",
   "execution_count": null,
   "id": "3a1c7936-7653-4016-910b-8f033fa28d45",
   "metadata": {},
   "outputs": [],
   "source": [
    "#df['newness_score']\n",
    "#x_avgdiv = list(df['average divergence_score'])\n",
    "#x_maxdiv = list(df['max divergence_score'])\n",
    "#x_mindiv = list(df['min divergence_score'])\n",
    "#x_uniq = list(df['uniqueness'])\n",
    "#x_deltuniq = list(df['delta uniqueness'])\n",
    "#x_surprise_div = list(df2['divergence_surprise'])\n",
    "#x_surprise_dist = list(df2['distance_surprise'])"
   ]
  },
  {
   "cell_type": "code",
   "execution_count": 14,
   "id": "b593b0eb-6fad-4c73-a1a4-2b9245332ea8",
   "metadata": {
    "tags": []
   },
   "outputs": [
    {
     "data": {
      "image/png": "[encoded data removed]",
      "text/plain": [
       "<Figure size 640x480 with 1 Axes>"
      ]
     },
     "metadata": {},
     "output_type": "display_data"
    }
   ],
   "source": [
    "ax = df_brev['divergence_surprise'].plot.kde()"
   ]
  },
  {
   "cell_type": "code",
   "execution_count": null,
   "id": "068a69f3-8b59-4d6b-b38b-d4628167ca33",
   "metadata": {},
   "outputs": [],
   "source": []
  }
 ],
 "metadata": {
  "kernelspec": {
   "display_name": "Python 3 (ipykernel)",
   "language": "python",
   "name": "python3"
  },
  "language_info": {
   "codemirror_mode": {
    "name": "ipython",
    "version": 3
   },
   "file_extension": ".py",
   "mimetype": "text/x-python",
   "name": "python",
   "nbconvert_exporter": "python",
   "pygments_lexer": "ipython3",
   "version": "3.11.7"
  }
 },
 "nbformat": 4,
 "nbformat_minor": 5
}
