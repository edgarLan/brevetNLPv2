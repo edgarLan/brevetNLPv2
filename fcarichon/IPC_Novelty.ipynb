{
 "cells": [
  {
   "cell_type": "code",
   "execution_count": 1,
   "id": "52a73398-b605-410c-849b-fdcc64a0d4cf",
   "metadata": {},
   "outputs": [],
   "source": [
    "import pandas as pd\n",
    "from os import listdir\n",
    "from os.path import isfile, join\n",
    "import json\n",
    "import collections\n",
    "import re\n",
    "from tqdm import tqdm\n",
    "import itertools\n",
    "\n",
    "from itertools import islice\n",
    "from collections import Counter, defaultdict\n",
    "from nltk.util import ngrams"
   ]
  },
  {
   "cell_type": "code",
   "execution_count": 2,
   "id": "ebff6cf7-7336-420b-ae4a-b40e23a1be67",
   "metadata": {},
   "outputs": [],
   "source": [
    "df = pd.read_csv('data/to_eval/results/2016_G06F_RESULTS.csv')\n",
    "df2 = pd.read_csv('data/knowledge_space/cleaned/2016KS_G06F_clean.csv')"
   ]
  },
  {
   "cell_type": "code",
   "execution_count": 3,
   "id": "6a704f62-a951-49ca-8bee-af5efce228cb",
   "metadata": {},
   "outputs": [],
   "source": [
    "list_applications_to_eval = list(df['application_number'])\n",
    "list_applications_KS = list(df2['application_number'])"
   ]
  },
  {
   "cell_type": "code",
   "execution_count": 4,
   "id": "53326997-2a47-4ef6-83e8-24f63477aec5",
   "metadata": {},
   "outputs": [
    {
     "name": "stdout",
     "output_type": "stream",
     "text": [
      "9234 173661\n"
     ]
    }
   ],
   "source": [
    "print(len(list_applications_to_eval), len(list_applications_KS))"
   ]
  },
  {
   "cell_type": "code",
   "execution_count": 5,
   "id": "fe154832-b9fd-418f-9a69-7aea7f167c42",
   "metadata": {},
   "outputs": [
    {
     "data": {
      "text/plain": [
       "373255"
      ]
     },
     "execution_count": 5,
     "metadata": {},
     "output_type": "execute_result"
    }
   ],
   "source": [
    "mypath = 'data/2016/2016/'\n",
    "_2014_files = [f for f in listdir(mypath) if isfile(join(mypath, f))]\n",
    "len(_2014_files)"
   ]
  },
  {
   "cell_type": "code",
   "execution_count": 6,
   "id": "16d76300-f921-44c2-9bba-2a4ebfc48fd1",
   "metadata": {},
   "outputs": [],
   "source": [
    "#pOUR LA ks -- les 5 années avant\n",
    "mypath_1 = 'data/2015/2015/'\n",
    "_1_files = [f for f in listdir(mypath_1) if isfile(join(mypath_1, f))]\n",
    "mypath_2 = 'data/2014/2014/'\n",
    "_2_files = [f for f in listdir(mypath_2) if isfile(join(mypath_2, f))]\n",
    "mypath_3 = 'data/2013/2013/'\n",
    "_3_files = [f for f in listdir(mypath_3) if isfile(join(mypath_3, f))]\n",
    "mypath_4 = 'data/2012/2012/'\n",
    "_4_files = [f for f in listdir(mypath_4) if isfile(join(mypath_4, f))]\n",
    "mypath_5 = 'data/2011/2011/'\n",
    "_5_files = [f for f in listdir(mypath_5) if isfile(join(mypath_5, f))]"
   ]
  },
  {
   "cell_type": "code",
   "execution_count": 7,
   "id": "54e4b9ee-4864-4393-b53b-92f45033a5e0",
   "metadata": {},
   "outputs": [],
   "source": [
    "def return_year(file_path):\n",
    "    #print(file_path)\n",
    "    if file_path in _1_files:\n",
    "        return mypath_1\n",
    "    if file_path in _2_files:\n",
    "        return mypath_2\n",
    "    if file_path in _3_files:\n",
    "        return mypath_3\n",
    "    if file_path in _4_files:\n",
    "        return mypath_4\n",
    "    if file_path in _5_files:\n",
    "        return mypath_5"
   ]
  },
  {
   "cell_type": "code",
   "execution_count": 8,
   "id": "9c345c3c-1e42-4d32-af44-8d0b0fbb62ea",
   "metadata": {},
   "outputs": [],
   "source": [
    "def pairing(list_ipc):\n",
    "    pairs = []\n",
    "    for L in range(len(list_ipc) + 1):\n",
    "        for subset in itertools.combinations(list_ipc, L):\n",
    "            if len(subset) == 2:\n",
    "                pairs.append(subset)\n",
    "    return pairs"
   ]
  },
  {
   "cell_type": "code",
   "execution_count": 9,
   "id": "3e3d172c-3265-491b-8803-dcb3c71d6c7b",
   "metadata": {},
   "outputs": [
    {
     "name": "stderr",
     "output_type": "stream",
     "text": [
      "100%|██████████████████████████████████████████████████████████████████████████| 173661/173661 [39:39<00:00, 72.99it/s]\n"
     ]
    }
   ],
   "source": [
    "### On considère une combinaison comme étant une association avec la main_IPC -- le reste ferait pas de sens?\n",
    "###### POUR LA KS on a juste besoin de toutes les combinaisons\n",
    "combi_direct_KS = []\n",
    "combi_all_KS = []\n",
    "for i in tqdm(range(len(list_applications_KS))):\n",
    "    patent_path = str(list_applications_KS[i]) + '.json'\n",
    "    correct_path = return_year(patent_path)\n",
    "    patent_path = correct_path + patent_path\n",
    "    with open(patent_path) as f:\n",
    "        d = json.load(f)\n",
    "        f.close()\n",
    "\n",
    "    class_mainIPC = d['main_ipcr_label']\n",
    "    non_main =  d['ipcr_labels']\n",
    "    #rint(type(class_mainIPC), type(non_main))\n",
    "    full_classes = [class_mainIPC] + non_main\n",
    "    patent_combi = []\n",
    "    list_full = []\n",
    "    if len(non_main) != 0:\n",
    "        for class_ipc in non_main:\n",
    "            patent_combi.append((class_mainIPC, class_ipc))\n",
    "        list_full = pairing(full_classes)\n",
    "    combi_all_KS.extend(list_full)\n",
    "    combi_direct_KS.extend(patent_combi)"
   ]
  },
  {
   "cell_type": "code",
   "execution_count": 10,
   "id": "634644d1-a7f3-41ab-94fa-20ad4cd18dcb",
   "metadata": {},
   "outputs": [
    {
     "name": "stdout",
     "output_type": "stream",
     "text": [
      "367198 250148 [('G06F758', 'G06F758'), ('G06F3041', 'G06F3041'), ('G06F3041', 'G06F30346')] [('G06F758', 'G06F758'), ('G06F3041', 'G06F3041'), ('G06F3041', 'G06F30346')]\n"
     ]
    }
   ],
   "source": [
    "print(len(combi_all_KS), len(combi_direct_KS), combi_all_KS[0:3], combi_direct_KS[0:3])"
   ]
  },
  {
   "cell_type": "code",
   "execution_count": 11,
   "id": "2e0caee0-8070-448d-8c62-2181f5b614c0",
   "metadata": {},
   "outputs": [
    {
     "name": "stderr",
     "output_type": "stream",
     "text": [
      "100%|█████████████████████████████████████████████████████████████████████████████| 9234/9234 [00:44<00:00, 205.27it/s]\n"
     ]
    }
   ],
   "source": [
    "### On considère une combinaison comme étant une association avec la main_IPC -- le reste ferait pas de sens?\n",
    "combi_direct = []\n",
    "combi_all = []\n",
    "for i in tqdm(range(len(list_applications_to_eval))):\n",
    "    file = str(list_applications_to_eval[i]) + '.json'\n",
    "    patent_path = mypath + file\n",
    "    with open(patent_path) as f:\n",
    "        d = json.load(f)\n",
    "        f.close()\n",
    "\n",
    "    class_mainIPC = d['main_ipcr_label']\n",
    "    non_main =  d['ipcr_labels']\n",
    "    full_classes = [class_mainIPC] + non_main\n",
    "    patent_combi = []\n",
    "    list_full = []\n",
    "    if len(full_classes) > 20:\n",
    "        full_classes = full_classes[0:10]\n",
    "    if len(non_main) != 0:\n",
    "        for class_ipc in non_main:\n",
    "            patent_combi.append((class_mainIPC, class_ipc))\n",
    "        list_full = pairing(full_classes)\n",
    "    combi_all.append(list_full)\n",
    "    combi_direct.append(patent_combi)"
   ]
  },
  {
   "cell_type": "code",
   "execution_count": 12,
   "id": "43204d97-c675-4098-8e15-a310ee0412e2",
   "metadata": {},
   "outputs": [
    {
     "name": "stdout",
     "output_type": "stream",
     "text": [
      "9234 9234 [[('G06F30481', 'G06F30481')], [('G06F950', 'G06F950'), ('G06F950', 'G06F1208'), ('G06F950', 'G06F9445'), ('G06F950', 'G06F1202'), ('G06F950', 'G06F1208'), ('G06F950', 'G06F9445'), ('G06F950', 'G06F1202'), ('G06F1208', 'G06F9445'), ('G06F1208', 'G06F1202'), ('G06F9445', 'G06F1202')], [('G06F3041', 'G06F3041'), ('G06F3041', 'H01L2732'), ('G06F3041', 'G09G33225'), ('G06F3041', 'H01L2732'), ('G06F3041', 'G09G33225'), ('H01L2732', 'G09G33225')]] [[('G06F30481', 'G06F30481')], [('G06F950', 'G06F950'), ('G06F950', 'G06F1208'), ('G06F950', 'G06F9445'), ('G06F950', 'G06F1202')], [('G06F3041', 'G06F3041'), ('G06F3041', 'H01L2732'), ('G06F3041', 'G09G33225')]]\n"
     ]
    }
   ],
   "source": [
    "print(len(combi_all), len(combi_direct), combi_all[0:3], combi_direct[0:3])"
   ]
  },
  {
   "cell_type": "code",
   "execution_count": 13,
   "id": "2aa599ce-9883-4664-b0b1-cb91a7930691",
   "metadata": {},
   "outputs": [],
   "source": [
    "#Score estimation\n",
    "score_direct = []\n",
    "for list_tuple in combi_direct:\n",
    "    #print(list_tuple)\n",
    "    norm_value = len(list_tuple)\n",
    "    score = 0\n",
    "    for tuple in list_tuple:\n",
    "        #print(tuple)\n",
    "        #Just so we don't count pairs of the same class\n",
    "        if tuple[0] == tuple[1]:\n",
    "            #print('prout')\n",
    "            norm_value = norm_value - 1\n",
    "            continue\n",
    "        #print('prout2')\n",
    "        if tuple in combi_direct_KS:\n",
    "            continue\n",
    "        else:\n",
    "            score+=1\n",
    "    if norm_value == 0:\n",
    "        score_direct.append(score)\n",
    "    else:\n",
    "        #Normalizing the score\n",
    "        score_direct.append(score/norm_value)"
   ]
  },
  {
   "cell_type": "code",
   "execution_count": 14,
   "id": "0d5cd357-8f07-47c6-b74b-95c81cd6bf28",
   "metadata": {},
   "outputs": [
    {
     "name": "stdout",
     "output_type": "stream",
     "text": [
      "9234 [0, 0.0, 0.0, 1.0, 0, 0.0, 0.0, 0, 0.0, 0]\n"
     ]
    }
   ],
   "source": [
    "print(len(score_direct), score_direct[0:10])"
   ]
  },
  {
   "cell_type": "code",
   "execution_count": 15,
   "id": "e3e0ee47-0922-46ea-aaba-79db9cbb4edb",
   "metadata": {},
   "outputs": [],
   "source": [
    "#Score estimation\n",
    "score_all = []\n",
    "for list_tuple in combi_all:\n",
    "    #print(list_tuple)\n",
    "    norm_value = len(list_tuple)\n",
    "    score = 0\n",
    "    for tuple in list_tuple:\n",
    "        #print(tuple)\n",
    "        #Just so we don't count pairs of the same class\n",
    "        if tuple[0] == tuple[1]:\n",
    "            #print('prout')\n",
    "            norm_value = norm_value - 1\n",
    "            continue\n",
    "        #print('prout2')\n",
    "        if tuple in combi_all_KS:\n",
    "            continue\n",
    "        else:\n",
    "            score+=1\n",
    "    if norm_value == 0:\n",
    "        score_all.append(score)\n",
    "    else:\n",
    "        #Normalizing the score\n",
    "        score_all.append(score/norm_value)"
   ]
  },
  {
   "cell_type": "code",
   "execution_count": 16,
   "id": "2d9a2425-2b81-4f69-9d82-6a404038381c",
   "metadata": {},
   "outputs": [
    {
     "name": "stdout",
     "output_type": "stream",
     "text": [
      "9234 [0, 0.0, 0.2, 1.0, 0, 0.0, 0.0, 0, 0.0, 0]\n"
     ]
    }
   ],
   "source": [
    "print(len(score_all), score_all[0:10])"
   ]
  },
  {
   "cell_type": "code",
   "execution_count": 17,
   "id": "c10a2cc9-9eb8-4178-bde5-98a0d804f3f1",
   "metadata": {},
   "outputs": [],
   "source": [
    "df['Novel_IPC_direct'] = score_direct\n",
    "df['Novel_IPC_all'] = score_all"
   ]
  },
  {
   "cell_type": "code",
   "execution_count": 18,
   "id": "cc0f3a98-bac3-4b9e-ba36-8e2a5bb3da95",
   "metadata": {},
   "outputs": [],
   "source": [
    "df.to_csv('data/to_eval/results/2016_G06F_RESULTS_withIPC.csv', index=False)"
   ]
  },
  {
   "cell_type": "code",
   "execution_count": null,
   "id": "8fc54efb-aa47-4ad4-b9b9-ac7857a1179b",
   "metadata": {},
   "outputs": [],
   "source": []
  }
 ],
 "metadata": {
  "kernelspec": {
   "display_name": "Python 3 (ipykernel)",
   "language": "python",
   "name": "python3"
  },
  "language_info": {
   "codemirror_mode": {
    "name": "ipython",
    "version": 3
   },
   "file_extension": ".py",
   "mimetype": "text/x-python",
   "name": "python",
   "nbconvert_exporter": "python",
   "pygments_lexer": "ipython3",
   "version": "3.11.5"
  }
 },
 "nbformat": 4,
 "nbformat_minor": 5
}
