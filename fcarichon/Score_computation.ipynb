{
 "cells": [
  {
   "cell_type": "code",
   "execution_count": 2,
   "id": "5982150e-fcdf-465d-af45-3ef6b9d5fe6e",
   "metadata": {
    "tags": []
   },
   "outputs": [],
   "source": [
    "import pandas as pd\n",
    "from os import listdir\n",
    "from os.path import isfile, join\n",
    "import json\n",
    "import collections\n",
    "import re\n",
    "from tqdm import tqdm\n",
    "from collections import Counter, defaultdict\n",
    "from Novelty_KS import knowledge\n",
    "from Surprise_ES import expectation, dask_pmi, dask_pmi_2\n",
    "import dask\n",
    "import dask.dataframe as dd"
   ]
  },
  {
   "cell_type": "markdown",
   "id": "0e5f5e78-2fa8-4806-bbb7-5496a86ba5c2",
   "metadata": {},
   "source": [
    "# Surprise"
   ]
  },
  {
   "cell_type": "markdown",
   "id": "406faaf5-441b-48d2-b57a-e8848c3873e7",
   "metadata": {
    "tags": []
   },
   "source": [
    "## First part - to do only one time -- Computing the PMI matrices for each ES"
   ]
  },
  {
   "cell_type": "code",
   "execution_count": 2,
   "id": "b51f83da-49dc-44ea-bd80-9f020346b780",
   "metadata": {
    "tags": []
   },
   "outputs": [],
   "source": [
    "#df_expectation = pd.read_csv('data/expectation_space/cleaned/2016ES_G06F_clean.csv')"
   ]
  },
  {
   "cell_type": "code",
   "execution_count": 3,
   "id": "c3c14cbd-880f-4705-845f-5a467be90192",
   "metadata": {
    "tags": []
   },
   "outputs": [],
   "source": [
    "#print(len(df_expectation))"
   ]
  },
  {
   "cell_type": "code",
   "execution_count": 4,
   "id": "3849c5d5-1a0a-45d8-b1d6-5dd0453ed07d",
   "metadata": {
    "tags": []
   },
   "outputs": [],
   "source": [
    "#test = dd.read_csv('data/expectation_space/cleaned/2016ES_G06F_clean.csv')\n",
    "#ddf[cols].compute()"
   ]
  },
  {
   "cell_type": "code",
   "execution_count": 5,
   "id": "a8caff52-9e00-4ee2-a73d-466f6ceca946",
   "metadata": {
    "tags": []
   },
   "outputs": [],
   "source": [
    "#expectation_class = expectation(df_expectation)\n",
    "#expectation_class.co_occurrence(save=True, path_name ='data/expectation_space/cleaned/2016ES_G06F_PMI.csv')"
   ]
  },
  {
   "cell_type": "markdown",
   "id": "650f2eb8-c1b9-40b7-9e1a-2c70cf2518be",
   "metadata": {},
   "source": [
    "## With dask"
   ]
  },
  {
   "cell_type": "code",
   "execution_count": 2,
   "id": "2dd616fd-9e69-4cb7-84cc-1bb2bb5471bc",
   "metadata": {},
   "outputs": [],
   "source": [
    "df_expectation = dd.read_csv('data/expectation_space/cleaned/2016ES_G06F_clean.csv')\n",
    "PMI_compute = dask_pmi(df_expectation, partitions= 6)"
   ]
  },
  {
   "cell_type": "code",
   "execution_count": null,
   "id": "cad9c95c-f76d-44bb-9922-ff751b0aab51",
   "metadata": {},
   "outputs": [],
   "source": [
    "#PMI_compute.dask_co_occurrence(save=True, path_name ='data/expectation_space/cleaned/2016ES_G06F_cooccurences.csv')"
   ]
  },
  {
   "cell_type": "code",
   "execution_count": 3,
   "id": "5ff5028a-3403-415f-b2ee-eaad412d7dac",
   "metadata": {},
   "outputs": [],
   "source": [
    "# Number of part should depend on number of partitions created from dask\n",
    "ddf1 = dd.read_csv('data/expectation_space/cleaned/2016ES_G06F_cooccurences/0.part', sample=10000000)\n",
    "ddf2 = dd.read_csv('data/expectation_space/cleaned/2016ES_G06F_cooccurences/1.part', sample=10000000)\n",
    "ddf3 = dd.read_csv('data/expectation_space/cleaned/2016ES_G06F_cooccurences/2.part', sample=10000000)\n",
    "ddf4 = dd.read_csv('data/expectation_space/cleaned/2016ES_G06F_cooccurences/3.part', sample=10000000)\n",
    "ddf5 = dd.read_csv('data/expectation_space/cleaned/2016ES_G06F_cooccurences/4.part', sample=10000000)\n",
    "ddf6 = dd.read_csv('data/expectation_space/cleaned/2016ES_G06F_cooccurences/5.part', sample=10000000)\n",
    "ddf_cooc = dd.concat([ddf1, ddf2, ddf3, ddf4, ddf5, ddf6])"
   ]
  },
  {
   "cell_type": "code",
   "execution_count": null,
   "id": "cc0ff180-515e-4349-885b-8838f7f8b663",
   "metadata": {},
   "outputs": [],
   "source": [
    "PMI_compute = dask_pmi_2(partitions= 6)\n",
    "PMI_compute.pmi(ddf_cooc, path_name ='data/expectation_space/cleaned/2016ES_G06F_pmi')"
   ]
  },
  {
   "cell_type": "markdown",
   "id": "9bf22a83-676d-4856-96af-856a92b42839",
   "metadata": {},
   "source": [
    "## Score calculation on each dimension"
   ]
  },
  {
   "cell_type": "code",
   "execution_count": 2,
   "id": "1e0594c9-2d83-4452-807d-26956462808b",
   "metadata": {
    "tags": []
   },
   "outputs": [],
   "source": [
    "#Import des données nécessaires\n",
    "#df_eval = pd.read_csv('data/to_eval/cleaned/2016_A61B_patents_toeval_clean.csv')\n",
    "#df_knowledge = pd.read_csv('data/knowledge_space/cleaned/2016KS_A61B_clean.csv')\n"
   ]
  },
  {
   "cell_type": "code",
   "execution_count": 3,
   "id": "bba1f7c5-7f14-4d75-89bf-2ff7ad8835fa",
   "metadata": {},
   "outputs": [],
   "source": [
    "df_test = pd.read_csv(\"data/expectation_space/cleaned/2016ES_G06F_PMI.csv\")"
   ]
  },
  {
   "cell_type": "code",
   "execution_count": 4,
   "id": "ca9c536f-9b97-4003-aa87-919229400398",
   "metadata": {},
   "outputs": [
    {
     "data": {
      "text/plain": [
       "(3314, 162614)"
      ]
     },
     "execution_count": 4,
     "metadata": {},
     "output_type": "execute_result"
    }
   ],
   "source": [
    "df_test.shape"
   ]
  },
  {
   "cell_type": "code",
   "execution_count": null,
   "id": "dc159905-d74d-4007-ae1a-f06a3c989663",
   "metadata": {
    "tags": []
   },
   "outputs": [],
   "source": [
    "df_test.head()"
   ]
  },
  {
   "cell_type": "code",
   "execution_count": null,
   "id": "2b1da22e-86c3-4ef4-9b2f-80ca718c2606",
   "metadata": {},
   "outputs": [],
   "source": [
    "test = dd.read_csv('data/expectation_space/cleaned/2016ES_G06F_PMI.csv')"
   ]
  },
  {
   "cell_type": "markdown",
   "id": "cd413fe4-51d0-4f0f-80f3-7b983518c126",
   "metadata": {},
   "source": [
    "# Novelty"
   ]
  },
  {
   "cell_type": "code",
   "execution_count": 1,
   "id": "861f0410-c704-426b-bbb0-1bec05a5ed9b",
   "metadata": {
    "tags": []
   },
   "outputs": [],
   "source": [
    "import pandas as pd\n",
    "from os import listdir\n",
    "from os.path import isfile, join\n",
    "import json\n",
    "from tqdm import tqdm\n",
    "import collections\n",
    "import re\n",
    "from tqdm import tqdm\n",
    "from collections import Counter, defaultdict\n",
    "from Novelty_KS import knowledge"
   ]
  },
  {
   "cell_type": "code",
   "execution_count": 2,
   "id": "d5cb1053-075c-456d-a10d-50ad4ea33317",
   "metadata": {
    "tags": []
   },
   "outputs": [],
   "source": [
    "def concat_texts(text_list1, text_list2):\n",
    "    assert len(text_list1) == len(text_list2)\n",
    "    concat_list = []\n",
    "    for i in range(len(text_list1)):\n",
    "        concat_list.append(str(text_list1[i]) + str(text_list2[i]))\n",
    "    return concat_list"
   ]
  },
  {
   "cell_type": "code",
   "execution_count": 3,
   "id": "09a841f6-1948-4f2b-aaa6-c038f7e4c216",
   "metadata": {
    "tags": []
   },
   "outputs": [
    {
     "name": "stdout",
     "output_type": "stream",
     "text": [
      "8383\n",
      "8383\n"
     ]
    }
   ],
   "source": [
    "df_toeval = pd.read_csv('data/to_eval/cleaned/2014_A61B_patents_toeval_clean.csv')\n",
    "print(len(df_toeval))\n",
    "eval_claims = list(df_toeval['claims'])\n",
    "eval_back = list(df_toeval['background'])\n",
    "text_to_eval = eval_claims\n",
    "print(len(eval_claims))"
   ]
  },
  {
   "cell_type": "code",
   "execution_count": 4,
   "id": "805fff7d-0c1f-4a91-b12e-69336abbe714",
   "metadata": {
    "tags": []
   },
   "outputs": [
    {
     "name": "stdout",
     "output_type": "stream",
     "text": [
      "43142\n"
     ]
    }
   ],
   "source": [
    "df_KS1 = pd.read_csv('data/knowledge_space/cleaned/2014KS_A61B_clean.csv')\n",
    "print(len(df_KS1))"
   ]
  },
  {
   "cell_type": "code",
   "execution_count": 5,
   "id": "27210aec-fe00-44dc-8cae-d6ef86acd581",
   "metadata": {
    "tags": []
   },
   "outputs": [],
   "source": [
    "novelty = knowledge(df_KS1)"
   ]
  },
  {
   "cell_type": "markdown",
   "id": "8077805c-2a2b-499e-978d-84bc213b52d1",
   "metadata": {},
   "source": [
    "## newness"
   ]
  },
  {
   "cell_type": "code",
   "execution_count": 6,
   "id": "3220ddc5-ce60-4620-b1c7-2c834627b24c",
   "metadata": {
    "tags": []
   },
   "outputs": [
    {
     "name": "stderr",
     "output_type": "stream",
     "text": [
      "100%|██████████████████████████████████████████████████████████████████████████████| 8383/8383 [13:20<00:00, 10.47it/s]\n"
     ]
    }
   ],
   "source": [
    "Newness_scores = []\n",
    "for i in tqdm(range(len(text_to_eval))):\n",
    "    newness = novelty.newness(text_to_eval[i])\n",
    "    Newness_scores.append(newness)"
   ]
  },
  {
   "cell_type": "code",
   "execution_count": 7,
   "id": "2632f3ac-162b-4f11-bc69-9b96969e1fd8",
   "metadata": {
    "tags": []
   },
   "outputs": [
    {
     "name": "stdout",
     "output_type": "stream",
     "text": [
      "8383\n",
      "[0.15184192402798605, 0.5252992362303788, 0.13118684685552312, 0.12620293297197516, 0.14840630455855305, 0.17325325823765894, 0.13598970520575496, 0.2020462007753061, 0.208453690134795, 0.1461401575037168, 0.14620667626301675, 0.15094159022560272, 0.15172766778821187, 0.14650987087255515, 0.16332922882668416, 0.17841972898276834, 0.10882647897357355, 0.15546875340569957, 0.11782604216626835, 0.13123671611424084]\n"
     ]
    }
   ],
   "source": [
    "print(len(Newness_scores))\n",
    "print(Newness_scores[0:20])"
   ]
  },
  {
   "cell_type": "code",
   "execution_count": 8,
   "id": "57f7d66b-9379-4918-a1d0-9a747e93033e",
   "metadata": {
    "tags": []
   },
   "outputs": [],
   "source": [
    "df_toeval['newness_score'] = Newness_scores"
   ]
  },
  {
   "cell_type": "code",
   "execution_count": 9,
   "id": "2303b9ab-ccfa-4981-9825-e74cb35b69e8",
   "metadata": {
    "tags": []
   },
   "outputs": [],
   "source": [
    "df_toeval.to_csv('data/to_eval/results/2014_A61B_RESULTS_CLAIMS.csv', index=False)"
   ]
  },
  {
   "cell_type": "markdown",
   "id": "e12890a2-043e-4987-b53f-7925e2554da1",
   "metadata": {},
   "source": [
    "## Divergence"
   ]
  },
  {
   "cell_type": "code",
   "execution_count": 10,
   "id": "0e1e0ffc-5e34-4661-8a7a-90f97761369a",
   "metadata": {
    "scrolled": true,
    "tags": []
   },
   "outputs": [
    {
     "name": "stderr",
     "output_type": "stream",
     "text": [
      "100%|██████████████████████████████████████████████████████████████████████████████| 8383/8383 [19:22<00:00,  7.21it/s]\n"
     ]
    }
   ],
   "source": [
    "avg_ivergence_scores = []\n",
    "max_ivergence_scores = []\n",
    "min_ivergence_scores = []\n",
    "for i in tqdm(range(len(text_to_eval))):\n",
    "    avg_div, max_div, min_div = novelty.divergence(text_to_eval[i])\n",
    "    avg_ivergence_scores.append(avg_div)\n",
    "    max_ivergence_scores.append(max_div)\n",
    "    min_ivergence_scores.append(min_div)"
   ]
  },
  {
   "cell_type": "code",
   "execution_count": 11,
   "id": "62c491c2-dad8-4d1d-a880-d428bd75dfc7",
   "metadata": {
    "tags": []
   },
   "outputs": [
    {
     "name": "stdout",
     "output_type": "stream",
     "text": [
      "[0.9632053560681801, 0.9522224936075585, 0.9518078130155673, 0.9503416267184038, 0.9693876924211458, 0.9743101943892565, 0.9656185808425161, 0.9697740993208025, 0.9571707328039489, 0.9645014688586205, 0.9785935956556441, 0.9660613059858019, 0.950933732025813, 0.9633728285874607, 0.9439022022680336, 0.9839152023809589, 0.9437991310814493, 0.9518759085328331, 0.9538677594076584, 0.9428945022924083] 0.9918266896954281 0.9093627300119493\n"
     ]
    }
   ],
   "source": [
    "#print(len(Divergence_scores))\n",
    "print(avg_ivergence_scores[0:20], max(avg_ivergence_scores), min(avg_ivergence_scores))"
   ]
  },
  {
   "cell_type": "code",
   "execution_count": 12,
   "id": "a560b3c6-8b10-42ab-998c-efbde9bafe6d",
   "metadata": {
    "tags": []
   },
   "outputs": [],
   "source": [
    "df_results = pd.read_csv('data/to_eval/results/2014_A61B_RESULTS_CLAIMS.csv')\n",
    "df_results['average divergence_score'] = avg_ivergence_scores\n",
    "df_results['max divergence_score'] = max_ivergence_scores\n",
    "df_results['min divergence_score'] = min_ivergence_scores"
   ]
  },
  {
   "cell_type": "code",
   "execution_count": 13,
   "id": "61519e6b-510e-4dfb-b637-c0fdc7bfd465",
   "metadata": {
    "tags": []
   },
   "outputs": [],
   "source": [
    "df_results.to_csv('data/to_eval/results/2014_A61B_RESULTS_CLAIMS.csv', index=False)"
   ]
  },
  {
   "cell_type": "markdown",
   "id": "fb5720c8-204a-451d-8513-dd2432f8acf8",
   "metadata": {},
   "source": [
    "## uniqueness"
   ]
  },
  {
   "cell_type": "code",
   "execution_count": 14,
   "id": "76e3e231-aaa9-4c1a-9c44-ea800d030cdd",
   "metadata": {
    "tags": []
   },
   "outputs": [
    {
     "name": "stderr",
     "output_type": "stream",
     "text": [
      "100%|██████████████████████████████████████████████████████████████████████████████| 8383/8383 [26:19<00:00,  5.31it/s]\n"
     ]
    }
   ],
   "source": [
    "unique_scores = []\n",
    "delta_uniq = []\n",
    "for i in tqdm(range(len(text_to_eval))):\n",
    "    uniqueness, delta = novelty.uniqueness(text_to_eval[i])\n",
    "    unique_scores.append(uniqueness)\n",
    "    delta_uniq.append(delta)"
   ]
  },
  {
   "cell_type": "code",
   "execution_count": 15,
   "id": "693bc2a4-ebef-4dbc-9899-addf0a3b3f72",
   "metadata": {
    "tags": []
   },
   "outputs": [
    {
     "name": "stdout",
     "output_type": "stream",
     "text": [
      "[0.8235878854518941, 0.7709304934124592, 0.768942305125305, 0.7619126671844315, 0.853229129729058, 0.876830091398118, 0.8351581043704229, 0.8550817596490723, 0.7946548523583583, 0.8298021050670681, 0.897366881379336, 0.8372807524067885, 0.7647515192061756, 0.8243908333295717, 0.7310388126672479, 0.9228813529134483, 0.7305446373191185, 0.7692687894422721, 0.7788187289754154, 0.7262073898150649] 0.9608130206026967 0.5654391306221648\n",
      "[-0.16795045875209003, -0.2206078507915249, -0.2225960390786791, -0.2296256770195526, -0.13830921447492617, -0.11470825280586616, -0.1563802398335612, -0.13645658455491183, -0.1968834918456258, -0.16173623913691604, -0.09417146282464817, -0.15425759179719567, -0.22678682499780856, -0.16714751087441237, -0.2604995315367362, -0.06865699129053582, -0.2609937068848657, -0.22226955476171206, -0.21271961522856875, -0.2653309543889192] -0.030725323601287435 -0.42609921358181935\n"
     ]
    }
   ],
   "source": [
    "print(unique_scores[0:20], max(unique_scores), min(unique_scores))\n",
    "print(delta_uniq[0:20], max(delta_uniq), min(delta_uniq))"
   ]
  },
  {
   "cell_type": "code",
   "execution_count": 16,
   "id": "a6da65aa-16b1-4d7d-935a-2aa36837ad18",
   "metadata": {
    "tags": []
   },
   "outputs": [],
   "source": [
    "df_results = pd.read_csv('data/to_eval/results/2014_A61B_RESULTS_CLAIMS.csv')\n",
    "df_results['uniqueness'] = unique_scores\n",
    "df_results['delta uniqueness'] = delta_uniq"
   ]
  },
  {
   "cell_type": "code",
   "execution_count": 17,
   "id": "224c7eab-47ed-4393-a132-7198eb3e6e4a",
   "metadata": {
    "tags": []
   },
   "outputs": [],
   "source": [
    "df_results.to_csv('data/to_eval/results/2014_A61B_RESULTS_CLAIMS.csv', index=False)"
   ]
  },
  {
   "cell_type": "code",
   "execution_count": null,
   "id": "c1204f8f-c6d7-4b1e-a545-d0f85f286e30",
   "metadata": {},
   "outputs": [],
   "source": []
  }
 ],
 "metadata": {
  "kernelspec": {
   "display_name": "Python 3 (ipykernel)",
   "language": "python",
   "name": "python3"
  },
  "language_info": {
   "codemirror_mode": {
    "name": "ipython",
    "version": 3
   },
   "file_extension": ".py",
   "mimetype": "text/x-python",
   "name": "python",
   "nbconvert_exporter": "python",
   "pygments_lexer": "ipython3",
   "version": "3.11.7"
  }
 },
 "nbformat": 4,
 "nbformat_minor": 5
}
