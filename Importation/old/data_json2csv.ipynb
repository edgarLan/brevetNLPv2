{
 "cells": [
  {
   "cell_type": "markdown",
   "metadata": {},
   "source": [
    "# json brut à CSV\n",
    "### Création CSV to_eval, liste de IPC secondaire pour ES"
   ]
  },
  {
   "cell_type": "code",
   "execution_count": 1,
   "metadata": {},
   "outputs": [
    {
     "name": "stdout",
     "output_type": "stream",
     "text": [
      "C:\\Users\\edgar\\OneDrive\\Bureau\\Ecole\\HEC\\A24\\BrevetNLP\n"
     ]
    }
   ],
   "source": [
    "import os\n",
    "os.chdir('C:/Users/edgar/OneDrive/Bureau/Ecole/HEC/A24/BrevetNLP')\n",
    "print(os.getcwd())"
   ]
  },
  {
   "cell_type": "code",
   "execution_count": 2,
   "metadata": {},
   "outputs": [],
   "source": [
    "import pandas as pd\n",
    "from os import listdir\n",
    "from os.path import isfile, join\n",
    "import json\n",
    "import collections\n",
    "import re\n",
    "from tqdm import tqdm\n"
   ]
  },
  {
   "cell_type": "code",
   "execution_count": 21,
   "metadata": {},
   "outputs": [],
   "source": [
    "mypath = \"data/2008/\"  #'data/2016/2016/'\n",
    "_2009_files = [f for f in listdir(mypath) if isfile(join(mypath, f))]"
   ]
  },
  {
   "cell_type": "code",
   "execution_count": 22,
   "metadata": {},
   "outputs": [
    {
     "name": "stdout",
     "output_type": "stream",
     "text": [
      "314526\n",
      "10473685.json\n",
      "data/2008/10514296.json\n",
      "{'application_number': '10514296', 'publication_number': 'US20090260355A1-20091022', 'title': 'Stirling engine assembly', 'decision': 'REJECTED', 'date_produced': '20091007', 'date_published': '20091022', 'main_cpc_label': '', 'cpc_labels': [], 'main_ipcr_label': 'F02G104', 'ipcr_labels': ['F02G104'], 'patent_number': 'None', 'filing_date': '20080107', 'patent_issue_date': '', 'abandon_date': '20110331', 'uspc_class': '60', 'uspc_subclass': '520000', 'examiner_id': '71796.0', 'examiner_name_last': 'JETTON', 'examiner_name_first': 'CHRISTOPHER', 'examiner_name_middle': '', 'inventor_list': [{'inventor_name_last': 'Alderson', 'inventor_name_first': 'John Howard', 'inventor_city': 'Matlock', 'inventor_state': '', 'inventor_country': 'GB'}, {'inventor_name_last': 'Clark', 'inventor_name_first': 'David Anthony', 'inventor_city': 'Hugglescote', 'inventor_state': '', 'inventor_country': 'GB'}, {'inventor_name_last': 'Hyde', 'inventor_name_first': 'Julie Patricia', 'inventor_city': 'Meriden', 'inventor_state': '', 'inventor_country': 'GB'}, {'inventor_name_last': 'Allderidge', 'inventor_name_first': 'Heather', 'inventor_city': 'Derby', 'inventor_state': '', 'inventor_country': 'GB'}, {'inventor_name_last': 'Lamb', 'inventor_name_first': 'Jennifer Jane', 'inventor_city': 'Sutton Coldfield', 'inventor_state': '', 'inventor_country': 'GB'}], 'abstract': 'A Stirling engine assembly comprising a Stirling engine (1) having a head (2). A burner (7) for providing heat to the engine head surrounds the head. A flexible seal (20) seals the interface between the engine and burner. A first liquid coolant circuit (25) is positioned between the burner and seal to reduce the heat transfer from the burner to the seal.', 'claims': '1. A Stirling engine assembly comprising a Stirling engine having a head, a burner for providing heat to the engine head, a flexible seal between the engine and burner, and a first liquid coolant circuit between the burner and seal positioned to reduce the heat transfer from the burner to the seal. 2. A Stirling engine assembly according to claim 1, wherein the Stirling engine further comprises a cooler with a second liquid coolant circuit fed with liquid common to the first liquid coolant circuit. 3. A Stirling engine assembly according to claim 2, wherein the first and second liquid coolant circuits are arranged in parallel. 4. A Stirling engine assembly according to claim 2, wherein the first and second liquid coolant circuits are arranged in series. 5. A Stirling engine assembly according to claim 1, wherein the first liquid coolant circuit is positioned radially inwardly of the seal. 6. A Stirling engine assembly according to claim 1, wherein in a torturous path is provided for gases flowing from the burner to the seal. 7. A Stirling engine assembly according to claim 1, wherein insulation is provided to reduce heat transfer from the burner to the seal. 8. A Stirling engine assembly according to claim 1, wherein fibrous insulating material is packed into the space beneath the burner between a burner housing and the head of the Stirling engine. 9. A Stirling engine assembly according to claim 1, wherein the seal is a silicon rubber sealing material. 10. A Stirling engine assembly according to claim 1, wherein the seal is a fluoroelastomer sealing material. 11. A Stirling engine assembly according to claim 1, wherein the seal can withstand a maximum temperature of less than 350° C. 12. A Stirling engine according to claim 1, wherein the flexible seal extends into the first liquid coolant circuit. 13. A Stirling engine according to claim 1, wherein the first liquid coolant circuit has, surrounding the engine, an open annular channel section and an annular plate across the open annular section, wherein the seal is sandwiched between the channel section and plate.', 'background': '', 'summary': '', 'full_description': 'The present invention relates to a Stirling engine assembly, and, in particular to a Stirling engine assembly for use in a combined heat and power (chp) system primarily for use in a domestic environment. The Stirling engine has a burner located around the heater head at the top of the engine. A problem for the Stirling engine-based chp system is the need to ensure that combustion gases do not pass downwards into the room-sealed unit enclosure, causing the accumulation of potentially harmful gases. Some form of seal is therefore required between the Stirling engine and the burner. When operating, the Stirling engine vibrates, due to its reciprocating components. A vibration reduction system, incorporating various damping and absorbing components has brought the residual levels of vibration to a low level, but there is still enough to cause problems to any seal located between the vibrating engine and the stationary burner casing. Some conventional seal designs are typically significantly stiffer than the engine suspension system and would, if used in the application, lead to unacceptable transmission of forces between the oscillating engine and the static burner components. As such the seal design is required to be extremely robust, operate at high temperatures, and be capable of maintaining an adequate seal under all operating conditions, as defined by the gas appliance certification procedure. Excessive wear, fatigue or degradation of such a seal would cause combustion gases to leak into the unit enclosure, causing a hazard, and increasing noise levels. A seal design is therefore required that is flexible enough to cope with the relative motion (vertical, horizontal and rotational in nature) between engine and burner. In addition, this seal must be able to withstand the high temperatures associated with the burner gases, and must not be corroded by the gases involved. One prior art design proposed by GE in 1979 (GE Semi-Annual Report 80SD54215) uses a PTFE seal. Such a seal is not suitable in a domestic environment as it introduces a potential hazard at the temperatures involved due to known toxic emissions from PTFE. U.S. Pat. No. 5,918,463 proposes the use of a ceramic seal. However, ceramic is a material which is susceptible to failure due to vibration. According to the present invention a Stirling engine assembly comprises a Stirling engine having a head, a burner for providing heat to the engine head, a flexible seal between the engine and burner, and a first liquid coolant circuit between the burner and seal positioned to reduce the heat transfer from the burner to the seal. By providing a coolant circuit, the temperature that the seal must withstand can be significantly reduced such that conventional seal materials can be used. The liquid for the first liquid coolant circuit can be provided from any suitable source. However, the Stirling engine has a cooler with a second liquid coolant circuit. It is therefore convenient to feed the first and second liquid coolant circuits with common liquid. With such an arrangement, the first and second liquid coolant circuits may be arranged in parallel. In this case, the flow of liquid to the first liquid coolant circuit will generally be a bleed flow from the main flow of liquid to the second coolant circuit. Alternatively, the flow to the first and second liquid coolant circuits may be arranged in series. In this case, it is preferable for the liquid to flow around the second coolant circuit prior to the first coolant circuit to maintain the cooler at as low a temperature as possible. If the first liquid coolant circuit is positioned radially inwardly of the seal, this can increase the distance between the burner and seal and allow the seal to be positioned in a region where it is more readily cooled by the surrounding air. In addition to the first liquid coolant circuit, it can be advantageous to provide additional ways of reducing the heat transfer from the burner to the seal. For example, a tortuous path can be provided for gas flowing from the burner to the seal. Alternatively or additionally, insulation may be provided to reduce heat transfer from the burner to the seal. Both of these objectives can be achieved by packing the space beneath the burner between a burner housing and the head of the Stirling engine with a fibrous insulating material. The flexible seal may be any material suitable for the job. However, the invention allows the use of conventional, commercially available sealing materials which are capable of withstanding a maximum temperature of less than 350° C., such as a silicon rubber sealing material. A further way of maintaining the seal as at low a temperature as possible is for the flexible seal to extend into the first liquid coolant circuit. This brings the coolant into direct contact with the flexible seal. Preferably, the first liquid coolant circuit has, surrounding the engine, an open annular channel section and an annular plate across the open annular section, wherein the seal is sandwiched between the channel section and plate. This allows the coolant into contact with the seal as referred to above, and also provides a way of attaching the seal to the coolant circuit, as well as sealing the coolant circuit, thereby eliminating the need for a further sealing element. Examples of a Stirling engine assembly in accordance with the present invention will now be described with reference to the accompanying drawings, in which: FIG. 1 is a schematic diagram of a first Stirling engine assembly; FIG. 2 is a cross-section showing a portion of the Stirling engine head and the combustion seal of the first engine; FIG. 3 is a perspective view of the liquid passage circuit of FIG. 2; and FIG. 4 is a cross-section through the liquid coolant passage of FIG. 3. Most aspects of the Stirling engine assembly shown in FIG. 1 are well known in the art and will be described only briefly here. The Stirling engine 1 is a linear free piston Stirling engine and comprises an engine head 2 beneath which is a cooler 3 and an alternator 4. The Stirling engine 1 is suspended from a casing (not shown) by a plurality of springs 5. Ambient air is drawn in through flue 6, preheated by combustion gases and mixed with combustible fuel before being ignited at burner 7 to heat the engine head 2. A plurality of fins 8 enhance the heat transfer to the head. Combustion gases preheat the incoming air/fuel mixture and are then fed to the heat exchanger 9 to heat water in a domestic central heating circuit 10. A supplementary burner 11 is provided to supply additional heat to the domestic central heating circuit 10 should the demand for hot water exceed that which can be supplied by the Stirling engine 1 alone. A fan 12 supplies the two burners 7, 11 and a splitter valve 13 controls the split of air between the burner 7 and supplementary burner 11. This, together with the control of the fan speed, allows control of the amount of air fed to each burner. The hot water in the domestic central heating circuit 10 then circulates around the domestic central heating system where it loses its heat through the domestic radiators or it is used to meet the domestic hot water requirement. The cooled liquid then returns to the Stirling engine assembly along line 10A. It is known for this water to then be used to cool the engine cooler 3 resulting in a slight temperature rise in the water before returning to the heat exchanger 9 along line 14 to be heated to the full temperature required by the central heating system. The present invention operates in this way. However, it makes additional use of the incoming cool water in line 10A as described in greater detail below. As shown in FIGS. 2 to 4, a seal 20 is provided to seal a space between burner casing 21 and an annular flange 22 welded to the head 2 of the Stirling engine 1. The coolant channel is provided by a cast aluminium channel element 25 having an inverted U cross-section. The seal 20 extends across the full width of the bottom of this channel element and is sandwiched between the bottom of the channel element 25 and an annular plate 26 which is held in place by a plurality of bolts 27. The channel has an inlet 28 and outlet 29. This arrangement of the seal and channel fulfils a number of functions. It provides a way of attaching the seal with respect to the burner casing, it provides a way of efficiently cooling the seal as a large part of the seal element is in direct contact with the water circulating in the channel 25, and it provides a way of sealing the channel without the need for a separate sealing element. The seal 20 is secured into an annular groove 30 by a seal retaining clip 33. As well as the circulation of coolant fluid around the channel 25, there are a number of other measures which have been taken to reduce the temperature of the seal as will be apparent from FIG. 2. A ceramic insulation ring 24 which is made up of two semicircular pieces fills the majority of the space between the burner 7 and the cooling channel 25. The ring is also positioned so that there is a tortuous path from the burner to the seal 20. It will also be noted that the exposed part of the seal 20 is positioned radially outwardly of the channel 25, and is also exposed to the surrounding air. This allows cooling of the seal by the surrounding air, and also enhances the effect of the tortuous path referred to above. In order to assemble the engine assembly, the engine is provided as a burner module and an engine module. The engine module includes the engine 1, the annular flange 22, the seal 20, the seal retaining clip 33, the cooling channel 25, annular plate 26, bolts 27 and an annular engine support bracket 40. It should be noted that the engine support bracket 40 extends beyond the extent shown in FIG. 2 and is independently supported, such that the weight of the channel 25 is supported through the engine support bracket 40 and not through the seal 20. The burner module includes the burner 7, and to this is attached an annular spacer 41 and an annular support bracket 42 via circumferentially arranged bolts 43. With the burner module in place, the engine module is inserted up into the burner module until the engine support bracket 40 abuts the main support bracket 42. The interface between these is sealed by a gasket 44. In this example, the flow around the annular water jacket 25 is in series with the flow around the cooler 3. As shown in FIG. 1, the cool liquid in line 10A circulates around the cooler 3 in a known manner, before flowing along line 26 to the annular water jacket 25. The water leaving the annular water jacket 25 then travels along line 14 to the heat exchanger 9. Water flows into the annular water jacket 25 from the Stirling engine cooler 3. Under normal operation, the temperature of the water is therefore in the region of 50° C. as it enters the jacket. Heat is removed from the burner housing 21, maintaining the seal material at an acceptable temperature. This allows the use of more effective sealing materials, which would degrade at the temperatures that would be encountered in the absence of cooling (potentially in excess of 350° C. housing temperature). Such sealing materials could be, for example, silicon rubber, or a fluoroelastomer such as Viton or PTFE. In some circumstances the dwelling does not require heat, but the Stirling engine is operating to generate power. In such a situation, water will flow through Stirling engine cooler 3, around the seal, and heat exchanger 9, but then it will be routed through a bypass and flow back to the engine cooler without travelling around the domestic hot water system. The heat exchanger 9 will be operating to cool the water as no additional heat will be added here. Where supplementary burner 11 and Stirling engine burner 7 use separate fans, the supplementary burner fan could be operated to aid this heat removal as in patent application GB 0130378.3. Water temperatures within the cooling system will, however, be higher, usually up to 80° C., as no heat is being lost to the dwelling. Even at this temperature level the seal area will be adequately cooled, and no excessive material degradation will occur. An additional benefit of the liquid cooled seal design is the recovery of additional heat into the cooling water. The heat transferred in this area would normally raise the temperature of the air inside the chp unit enclosure. Air is circulated around the enclosure by the forced draft as it is drawn into the air intake of the supplementary burner 11. Cooling for the external surfaces of the Stirling engine and the alternator 4 is required to maintain an acceptable temperature for internal components, and where the surrounding air is being heated around the seal area, this reduces the cooling effectiveness of the circulating air. By removing this heat in the water system, the air cooling the engine/alternator is at a lower temperature and therefore provides a more effective degree of cooling. This will extend the life of temperature-sensitive components such as the alternator magnets, and potentially also increase the generating efficiency of the alternator. Although the engine is shown in the illustrated example, it could equally be applied to a non-vertical engine, such as a horizontal engine. It is also equally applicable to an engine mounted in an inverted configuration to that shown.'}\n",
      "F02G104\n"
     ]
    },
    {
     "name": "stderr",
     "output_type": "stream",
     "text": [
      " 50%|█████     | 5/10 [00:00<00:00, 45.28it/s]"
     ]
    },
    {
     "name": "stdout",
     "output_type": "stream",
     "text": [
      "0\n",
      "1\n",
      "3\n"
     ]
    },
    {
     "name": "stderr",
     "output_type": "stream",
     "text": [
      "100%|██████████| 10/10 [00:00<00:00, 53.30it/s]"
     ]
    },
    {
     "name": "stdout",
     "output_type": "stream",
     "text": [
      "8\n"
     ]
    },
    {
     "name": "stderr",
     "output_type": "stream",
     "text": [
      "\n"
     ]
    }
   ],
   "source": [
    "print(len(_2009_files))\n",
    "print(_2009_files[1])\n",
    "patent_path = mypath + _2009_files[9]\n",
    "print(patent_path)\n",
    "with open(patent_path) as f:\n",
    "    d = json.load(f) # load json in d\n",
    "    f.close()   # close f - not needed with with ___ as syntax\n",
    "class_mainIPC = d['main_ipcr_label']\n",
    "print(d)\n",
    "print(d[\"main_ipcr_label\"])\n",
    "\n",
    "for i in tqdm(range(10)):\n",
    "    patent_path = mypath + _2009_files[i]\n",
    "    with open(patent_path) as f:\n",
    "        d = json.load(f) # load json in d\n",
    "        f.close()   # close f - not needed with with ___ as syntax\n",
    "    class_mainIPC = d['main_ipcr_label']\n",
    "    secClass = d['ipcr_labels']\n",
    "    if len(secClass) > 1:\n",
    "        print(i)\n",
    "\n",
    "    \n"
   ]
  },
  {
   "cell_type": "code",
   "execution_count": 23,
   "metadata": {},
   "outputs": [
    {
     "name": "stderr",
     "output_type": "stream",
     "text": [
      "100%|██████████| 10000/10000 [03:01<00:00, 55.19it/s]\n"
     ]
    }
   ],
   "source": [
    "# Création de listes de brevets de chaque type de class IPC à préciser\n",
    "\n",
    "# Check on all decision and repartition -- I think we should keep only the one accepted based on other USPTO patent (continuity)\n",
    "\n",
    "# initialisation de dict, dont les valeurs inconnues sont initialiser à 0, pour chaque classe IPC\n",
    "decision_H01L = collections.defaultdict(int)\n",
    "decision_G06F = collections.defaultdict(int)\n",
    "decision_A61B = collections.defaultdict(int)\n",
    "nbEmpty = collections.defaultdict(int)\n",
    "\n",
    "# initialisation de vecteurs pour chaque classe IPC\n",
    "patent_H01L_list = []\n",
    "patent_G06F_list = []\n",
    "patent_A61B_list = []\n",
    "\n",
    "for i in tqdm(range(len(_2009_files[:10000]))):\n",
    "    patent_path = mypath + _2009_files[i]\n",
    "    with open(patent_path) as f:\n",
    "        d = json.load(f) # load json in d\n",
    "        f.close()   # close f - not needed with \"with ___ as\" syntax\n",
    "    class_mainIPC = d['main_ipcr_label']\n",
    "    if re.match(r'^H01L', class_mainIPC):\n",
    "        patent_H01L_list.append(_2009_files[i])\n",
    "        decision_H01L[d['decision']] += 1\n",
    "    if re.match(r'^G06F', class_mainIPC):\n",
    "        patent_G06F_list.append(_2009_files[i])\n",
    "        decision_G06F[d['decision']] += 1\n",
    "    if re.match(r'^A61B', class_mainIPC):\n",
    "        patent_A61B_list.append(_2009_files[i])\n",
    "        decision_A61B[d['decision']] += 1\n",
    "    if class_mainIPC == \"\":\n",
    "        nbEmpty[class_mainIPC] += 1"
   ]
  },
  {
   "cell_type": "code",
   "execution_count": 20,
   "metadata": {},
   "outputs": [
    {
     "name": "stdout",
     "output_type": "stream",
     "text": [
      "236 432 234\n",
      "defaultdict(<class 'int'>, {'ACCEPTED': 148, 'REJECTED': 87, 'PENDING': 1}) defaultdict(<class 'int'>, {'REJECTED': 222, 'ACCEPTED': 207, 'PENDING': 3}) defaultdict(<class 'int'>, {'REJECTED': 122, 'ACCEPTED': 109, 'PENDING': 3})\n",
      "defaultdict(<class 'int'>, {'': 1})\n"
     ]
    }
   ],
   "source": [
    "print(len(patent_H01L_list), len(patent_G06F_list), len(patent_A61B_list))\n",
    "print(decision_H01L, decision_G06F, decision_A61B)\n",
    "print(nbEmpty)"
   ]
  },
  {
   "cell_type": "code",
   "execution_count": 24,
   "metadata": {},
   "outputs": [
    {
     "name": "stdout",
     "output_type": "stream",
     "text": [
      "defaultdict(<class 'int'>, {})\n"
     ]
    }
   ],
   "source": [
    "print(nbEmpty)"
   ]
  },
  {
   "cell_type": "markdown",
   "metadata": {},
   "source": [
    "Il y a énormément de brevets sans IPC...\n",
    "\n",
    "Surtout en 2004, mais aussi _2009\n",
    "\n",
    "- 10018639 - _20090081931A1\n",
    "- 10018320 - _20090130116A1\n",
    "- 10250708 - 20060086443A1\n",
    "\n",
    "Nous allons continuer avec 2006 ici"
   ]
  },
  {
   "cell_type": "markdown",
   "metadata": {},
   "source": [
    "#### Exclusion des de tout autre que Accepter ou rejeter, dans une liste de brevet de classe IPC"
   ]
  },
  {
   "cell_type": "code",
   "execution_count": 110,
   "metadata": {},
   "outputs": [
    {
     "name": "stderr",
     "output_type": "stream",
     "text": [
      "100%|██████████| 242/242 [00:00<00:00, 3893.54it/s]\n"
     ]
    }
   ],
   "source": [
    "final_patents = []\n",
    "decision = []\n",
    "for i in tqdm(range(len(patent_A61B_list))):\n",
    "    patent_path = mypath + patent_A61B_list[i]\n",
    "    with open(patent_path) as f:\n",
    "        d = json.load(f)\n",
    "        f.close()\n",
    "    if d['decision'] == 'ACCEPTED' or d['decision'] == 'REJECTED': # exclure pending\n",
    "        final_patents.append(patent_A61B_list[i])\n",
    "        decision.append(d['decision'])"
   ]
  },
  {
   "cell_type": "code",
   "execution_count": 34,
   "metadata": {},
   "outputs": [
    {
     "name": "stdout",
     "output_type": "stream",
     "text": [
      "['10484186.json', '10493926.json', '10505531.json', '10511495.json', '10512150.json', '10512772.json', '10513656.json', '10516287.json', '10518848.json', '10518867.json', '10519023.json', '10520965.json', '10521373.json', '10522197.json', '10522609.json', '10524196.json', '10524984.json', '10526112.json', '10527781.json', '10528417.json', '10528504.json', '10528841.json', '10528922.json', '10529150.json', '10529770.json', '10530094.json', '10530811.json', '10530860.json', '10531204.json', '10531378.json', '10531764.json', '10531819.json', '10531832.json', '10531958.json', '10532691.json', '10532704.json', '10533596.json', '10534268.json', '10535214.json', '10535227.json', '10535316.json', '10535617.json', '10535726.json', '10535730.json', '10535775.json', '10535914.json', '10535958.json', '10536480.json', '10536503.json', '10536605.json', '10537103.json', '10537235.json', '10537795.json', '10538155.json', '10538411.json', '10538992.json', '10539175.json', '10539255.json', '10539818.json', '10540778.json', '10540890.json', '10540912.json', '10540985.json', '10541123.json', '10541231.json', '10541719.json', '10541896.json', '10542350.json', '10542387.json', '10542600.json', '10543001.json', '10543400.json', '10543445.json', '10543477.json', '10543654.json', '10543739.json', '10543793.json', '10543992.json', '10544013.json', '10544015.json', '10544102.json', '10544243.json', '10544323.json', '10544431.json', '10544612.json', '10544843.json', '10545033.json', '10545221.json', '10545336.json', '10545459.json', '10545481.json', '10545798.json', '10546038.json', '10546197.json', '10546335.json', '10546415.json', '10546762.json', '10546785.json', '10546800.json', '10547127.json', '10547229.json', '10547668.json', '10547881.json', '10547971.json', '10548183.json', '10548408.json', '10548518.json', '10548556.json', '10548683.json', '10548729.json', '10548835.json', '10548982.json', '10548986.json', '10549012.json', '10549056.json', '10549398.json', '10549689.json', '10549701.json', '10550437.json', '10550438.json', '10550665.json', '10550757.json', '10550772.json', '10550819.json', '10550850.json', '10551017.json', '10551277.json', '10551289.json', '10551293.json', '10551294.json', '10551366.json', '10551543.json', '10551641.json', '10551687.json', '10551856.json', '10552009.json', '10552269.json', '10552666.json', '10552697.json', '10552757.json', '10553143.json', '10553519.json', '10553770.json', '10553805.json', '10553929.json', '10553964.json', '10554310.json', '10554427.json', '10554432.json', '10554468.json', '10554479.json', '10554730.json', '10554812.json', '10554837.json', '10554947.json', '10554981.json', '10554986.json', '10555065.json', '10555114.json', '10555249.json', '10555488.json', '10556024.json', '10556444.json', '10556522.json', '10556652.json', '10557164.json', '10557167.json', '10557333.json', '10557362.json', '10557865.json', '10557908.json', '10557968.json', '10557970.json', '10558192.json', '10558442.json', '10558646.json', '10558943.json', '10558976.json', '10559151.json', '10559223.json', '10559323.json', '10559404.json', '10559547.json', '10559945.json', '10559974.json', '10560263.json', '10560265.json', '10560266.json', '10560267.json', '10560272.json']\n",
      "['REJECTED', 'REJECTED', 'REJECTED', 'REJECTED', 'ACCEPTED', 'ACCEPTED', 'ACCEPTED', 'ACCEPTED', 'ACCEPTED', 'REJECTED', 'REJECTED', 'ACCEPTED', 'REJECTED', 'REJECTED', 'ACCEPTED', 'REJECTED', 'REJECTED', 'REJECTED', 'REJECTED', 'ACCEPTED', 'REJECTED', 'ACCEPTED', 'REJECTED', 'ACCEPTED', 'REJECTED', 'REJECTED', 'REJECTED', 'REJECTED', 'REJECTED', 'ACCEPTED', 'REJECTED', 'ACCEPTED', 'REJECTED', 'ACCEPTED', 'ACCEPTED', 'ACCEPTED', 'REJECTED', 'REJECTED', 'REJECTED', 'ACCEPTED', 'REJECTED', 'ACCEPTED', 'REJECTED', 'ACCEPTED', 'REJECTED', 'REJECTED', 'REJECTED', 'REJECTED', 'REJECTED', 'REJECTED', 'REJECTED', 'ACCEPTED', 'REJECTED', 'REJECTED', 'ACCEPTED', 'REJECTED', 'ACCEPTED', 'REJECTED', 'ACCEPTED', 'REJECTED', 'ACCEPTED', 'REJECTED', 'REJECTED', 'REJECTED', 'ACCEPTED', 'ACCEPTED', 'REJECTED', 'ACCEPTED', 'REJECTED', 'REJECTED', 'ACCEPTED', 'REJECTED', 'ACCEPTED', 'ACCEPTED', 'REJECTED', 'REJECTED', 'REJECTED', 'ACCEPTED', 'ACCEPTED', 'ACCEPTED', 'ACCEPTED', 'REJECTED', 'ACCEPTED', 'ACCEPTED', 'REJECTED', 'REJECTED', 'ACCEPTED', 'REJECTED', 'REJECTED', 'REJECTED', 'REJECTED', 'ACCEPTED', 'ACCEPTED', 'ACCEPTED', 'ACCEPTED', 'REJECTED', 'REJECTED', 'REJECTED', 'ACCEPTED', 'ACCEPTED', 'REJECTED', 'ACCEPTED', 'ACCEPTED', 'ACCEPTED', 'REJECTED', 'REJECTED', 'ACCEPTED', 'REJECTED', 'ACCEPTED', 'REJECTED', 'REJECTED', 'ACCEPTED', 'REJECTED', 'REJECTED', 'REJECTED', 'ACCEPTED', 'REJECTED', 'REJECTED', 'ACCEPTED', 'REJECTED', 'REJECTED', 'REJECTED', 'ACCEPTED', 'REJECTED', 'REJECTED', 'REJECTED', 'ACCEPTED', 'ACCEPTED', 'REJECTED', 'ACCEPTED', 'REJECTED', 'REJECTED', 'ACCEPTED', 'REJECTED', 'REJECTED', 'ACCEPTED', 'REJECTED', 'ACCEPTED', 'REJECTED', 'REJECTED', 'REJECTED', 'REJECTED', 'ACCEPTED', 'REJECTED', 'ACCEPTED', 'REJECTED', 'REJECTED', 'REJECTED', 'REJECTED', 'REJECTED', 'ACCEPTED', 'ACCEPTED', 'ACCEPTED', 'ACCEPTED', 'REJECTED', 'REJECTED', 'ACCEPTED', 'REJECTED', 'REJECTED', 'REJECTED', 'ACCEPTED', 'ACCEPTED', 'REJECTED', 'ACCEPTED', 'REJECTED', 'ACCEPTED', 'ACCEPTED', 'REJECTED', 'ACCEPTED', 'ACCEPTED', 'REJECTED', 'REJECTED', 'REJECTED', 'ACCEPTED', 'ACCEPTED', 'REJECTED', 'REJECTED', 'REJECTED', 'ACCEPTED', 'ACCEPTED', 'ACCEPTED', 'REJECTED', 'ACCEPTED', 'REJECTED', 'REJECTED', 'REJECTED', 'ACCEPTED', 'REJECTED', 'ACCEPTED', 'ACCEPTED']\n"
     ]
    }
   ],
   "source": [
    "print(final_patents)\n",
    "print(decision)"
   ]
  },
  {
   "cell_type": "markdown",
   "metadata": {},
   "source": [
    "#### Création CSV à partir de list de json (1 par classe IPC et par année)\n",
    "\n",
    "Infos à extraire: \\\n",
    "- numéro de brevet\n",
    "- informations textuelles :\n",
    "    - Anciens\n",
    "        - ID\n",
    "        - titre\n",
    "        - background\n",
    "        - claims\n",
    "        - Décision\n",
    "    - Ajout:\n",
    "        - Abstract (pourquoi on ajoute?)\n",
    "        - Summary (pourquoi on ajoute?)\n",
    "        - IPC principale (pour seconde analyse)\n",
    "        - IPC secondaire (pour expectation space, pas directement dans CSV)\n"
   ]
  },
  {
   "cell_type": "code",
   "execution_count": 111,
   "metadata": {},
   "outputs": [
    {
     "name": "stderr",
     "output_type": "stream",
     "text": [
      "100%|██████████| 241/241 [00:00<00:00, 2985.72it/s]\n"
     ]
    }
   ],
   "source": [
    "non_main_ipc = []\n",
    "labels = []\n",
    "patent_number, titles, backgrounds, claims, summary, abstract, ipc = [], [], [], [], [], [], []\n",
    "for i in tqdm(range(len(final_patents))):\n",
    "    patent_path = mypath + final_patents[i]\n",
    "    with open(patent_path) as f:\n",
    "        d = json.load(f)\n",
    "        f.close() # ligne inutile\n",
    "    \n",
    "    #Creating the lists for the other information\n",
    "    patent_number.append(d['application_number'])\n",
    "    titles.append(d['title'])\n",
    "    backgrounds.append(d['background'])\n",
    "    claims.append(d['claims'])\n",
    "    summary.append(d['summary'])\n",
    "    abstract.append(d['abstract'])\n",
    "    ipc.append(d['main_ipcr_label'])\n",
    "\n",
    "    #Collecting non main ipc class\n",
    "    non_main =  d['ipcr_labels']\n",
    "    for ipcr in non_main:\n",
    "        non_main_ipc.append(ipcr) # only 4 first characters to be sure of being at same level\n",
    "    #Getting labels based on decision\n",
    "    label = 0\n",
    "    if d['decision'] == 'ACCEPTED':\n",
    "        label = 1\n",
    "    labels.append(label)"
   ]
  },
  {
   "cell_type": "markdown",
   "metadata": {},
   "source": [
    "only 4 first characters to be sure of being at same level \\\n",
    "Getting labels based on decision????"
   ]
  },
  {
   "cell_type": "code",
   "execution_count": 50,
   "metadata": {},
   "outputs": [
    {
     "data": {
      "text/plain": [
       "60"
      ]
     },
     "execution_count": 50,
     "metadata": {},
     "output_type": "execute_result"
    }
   ],
   "source": [
    "pd.options.display.max_colwidth\n",
    "pd.options.display.max_rows"
   ]
  },
  {
   "cell_type": "code",
   "execution_count": 112,
   "metadata": {},
   "outputs": [
    {
     "name": "stdout",
     "output_type": "stream",
     "text": [
      "383\n",
      "['10513457', '10551443', '10574242', '10585412', '10585430', '10585439', '10585494', '10585500', '10585565', '10595493', '10595672', '11547559', '11568603', '11571511', '11571611', '11571871', '11573493', '11576229', '11576321', '11597205', '11630235', '11660466', '11660965', '11664172', '11665122', '11665587', '11718301', '11719207', '11719400', '11719484', '11719585', '11719720', '11721287', '11721327', '11721445', '11721749', '11721993', '11722079', '11791448', '11792482', '11794650', '11795281', '11814765', '11815247', '11884684', '11885899', '11885938', '11886911', '11886934', '11887434', '11887582', '11887640', '11908073', '11908648', '11909815', '11910411', '11910691', '11911111', '11911479', '11911606', '11912678', '11913317', '11913372', '11913852', '11914497', '11914814', '11915102', '11915468', '11915625', '11915642', '11915884', '11916168', '11917318', '11917787', '11918145', '11918342', '11918347', '11918807', '11918988', '11919815', '11919851', '11920140', '11920314', '11920380', '11920400', '11920599', '11920808', '11920941', '11921025', '11921067', '11921115', '11921122', '11921364', '11921365', '11921372', '11921375', '11921454', '11921907', '11921935', '11922077', '11922299', '11922562', '11922615', '11922632', '11922656', '11922812', '11922987', '11988225', '11988293', '11988366', '11989021', '11989627', '11990197', '11990441', '11990567', '11990808', '11991826', '11991942', '11991982', '11992064', '11992214', '11992352', '11992390', '11992463', '11993280', '11993320', '11993441', '11993577', '11993658', '11994236', '11995115', '11996447', '11996511', '11997684', '12064531', '12083060', '12083184', '12083632', '12083748', '12084322', '12084392', '12084565', '12084629', '12084994', '12085119', '12085207', '12085240', '12085453', '12085464', '12085475', '12085483', '12085598', '12085803', '12085900', '12086021', '12086234', '12086245', '12086249', '12086549', '12086563', '12086976', '12088370', '12088845', '12089425', '12090688', '12093036', '12093778', '12093987', '12094703', '12095261', '12095838', '12095887', '12096195', '12096474', '12097461', '12158894', '12159002', '12159003', '12160666', '12161206', '12161373', '12161884', '12162656', '12223529', '12223757', '12223945', '12224637', '12224693', '12224851', '12224943', '12225142', '12225198', '12225469', '12225488', '12225873', '12225877', '12225943', '12225980', '12226253', '12226301', '12226303', '12226373', '12226499', '12226579', '12226580', '12226705', '12226742', '12226900', '12226949', '12226970', '12226982', '12227052', '12227578', '12227697', '12227836', '12227882', '12278127', '12278401', '12278594', '12279346', '12279547', '12280148', '12280473', '12280761', '12280900', '12281146', '12281614', '12282292', '12282299', '12282315', '12282401', '12282427', '12282575', '12282675', '12282802', '12293120', '12293145', '12293233', '12293829', '12293932', '12294074']\n",
      "['A61B1704', 'A61B3113', 'A61B500', 'G06G758', 'A61B1734', 'A61B1900', 'A61B1900', 'A61F1100', 'A61F206', 'A61B1247', 'A61C1706', 'A61B505', 'A61B612', 'A61B504', 'A61B106', 'G02B2106', 'A61B600', 'A61B316', 'A61B500', 'A61B1000', 'A61B1700', 'A61B5151', 'A61B100', 'A61B50476', 'A61B51455', 'A61B502', 'A61B1012', 'A61B51455', 'A61B504', 'A61B1742', 'A61B1750', 'A61B132', 'A61B50476', 'A61H102', 'A61B5055', 'A61B1804', 'A61B1710', 'A61B1704', 'A61B502', 'A61B508', 'A61B131', 'A61B106', 'A61B5029', 'A61B50215', 'A61B5055', 'A61B600', 'A61B5055', 'A61B515', 'A61M2500', 'A61B51468', 'A61B1902', 'B65B508', 'A61B814', 'A61B5103', 'A61B1708', 'A61B316', 'A61B1808', 'A61B112', 'A61B1307', 'A61B50488', 'A61B505', 'A61B1710', 'A61B1703', 'A61B1802', 'A61B106', 'B23P1704', 'A61B1700', 'A61B5055', 'C07D48700', 'A61B1703', 'A61B315', 'A61B314', 'A61B1756', 'A61B100', 'A61B501', 'A61B500', 'A61B614', 'A61B814', 'A61B1000', 'A61B1770', 'A61F244', 'A61B1804', 'A61B1818', 'A61N100', 'A61M3100', 'A61B1018', 'A61B600', 'A61B1804', 'A61B51455', 'G01N3348', 'G01B1106', 'A61B814', 'A61B101', 'A61B814', 'A61B5055', 'A61B1005', 'A61B806', 'A61B814', 'A61B814', 'A61B1900', 'G06K900', 'A61B1756', 'A61C1310', 'A61B814', 'A61B505', 'A61B1900', 'A61B500', 'A61B5055', 'G01R3332', 'A61B600', 'A61B600', 'A61B600', 'A61B1820', 'A61B1045', 'H04N718', 'A61B500', 'C04B35495', 'B05D302', 'B32B900', 'A61B1814', 'A61M500', 'A61B51455', 'A61B3113', 'A61B603', 'A61B600', 'A61B1704', 'B05D300', 'A61B1743', 'G06K708', 'G06K1906', 'G06K700', 'A61B1820', 'A61B505', 'G06K900', 'A61B800', 'A61B1758', 'A61F244', 'A61B500', 'G06K900', 'A61B814', 'B29C3300', 'A61B5055', 'A61N700', 'A61M3700', 'A61B5151', 'A61B1722', 'A61B5055', 'A61B800', 'A61B600', 'G01N2306', 'A61B1780', 'A61B504', 'A61B1758', 'A61B1758', 'A61B1728', 'A61B1818', 'A61B5053', 'A61B508', 'A61B1780', 'A61B1710', 'A61B1708', 'A61B50476', 'A61B5022', 'A61B17064', 'A61B5151', 'A61B508', 'A61B100', 'A61B112', 'A61B1002', 'A61B604', 'A61B505', 'A61B51455', 'A61B502', 'A61B5055', 'A61B814', 'A61B1712', 'B29C5112', 'A61B1710', 'A61B1758', 'A61B1756', 'A61F244', 'A61B132', 'A61B1760', 'A61B5055', 'A61B1700', 'A61F202', 'A61B132', 'A61B1002', 'A61B5055', 'A61B1818', 'A61B604', 'A61B1018', 'A61B1729', 'A61B1704', 'A61B101', 'A61B813', 'A61B100', 'A61B1786', 'A61B502', 'A61B1758', 'A61B124', 'H05B3900', 'F21L400', 'G08B500', 'A61B1734', 'A61B1734', 'A61B51455', 'A61B51477', 'A61B1734', 'A61B508', 'A61B51455', 'A61B1758', 'A61F500', 'A61B503', 'A61B1820', 'A61B508', 'A61B101', 'A61B1267', 'A61B1708', 'A61F206', 'A61B500', 'G06F1730', 'A61B1908', 'A61B5151', 'A61B5053', 'A61B5053', 'A61B1267', 'A61B1732', 'A61B5055', 'A61B51477', 'A61B5053', 'A61B5151', 'A61B603', 'A61B51455', 'A61B814', 'G06T100', 'A61B104', 'H04B106', 'A61B505', 'A61B814', 'A61B814', 'A61B1704', 'B32B3700', 'A61B1734', 'A61B1780', 'A61B1000', 'C12N1512', 'C12N1585', 'C12N510', 'A01K67027', 'A61B500', 'A61B50402', 'A61B500', 'A61B1758', 'A61K4702', 'B02C2300', 'A61B1758', 'B32B502', 'B32B2702', 'B05D302', 'B32B106', 'B32B108', 'A61B1711', 'A61B1700', 'A61B502', 'A61B1908', 'A61B5085', 'A61B508', 'A61B511', 'A61M1600', 'A61B173203', 'A61B1818', 'A61N130', 'A61B1732', 'A61B1900', 'A61B504', 'A61B50205', 'A61B5021', 'A61B1703', 'A61K3836', 'A61K3324', 'A61L1516', 'A61K900', 'A61F1320', 'A61B814', 'A61B600', 'A61B505', 'G06T1500', 'A61B1704', 'A61B505', 'H01L2966', 'A61B5055', 'A61B500', 'A61B1002', 'A61B800', 'A61B814', 'A61B5151', 'A61B1732', 'A61B50476', 'G09B1900', 'A61B500', 'A61B17225', 'A61B1728', 'A61B17225', 'A61B50488', 'A61B5055', 'A61K4918', 'G01R3344', 'A61B503', 'A61M2500', 'A61M2510', 'G06F1518', 'G06N504', 'A61B1756', 'A61B1758', 'A61B501', 'A61B814', 'A61B1802', 'A61B1802', 'A61B1900', 'A61B812', 'A61B312', 'A61B314', 'A61B508', 'A61B51455', 'A61B1734', 'B23P1304', 'A61B800', 'A61B1764', 'F16L3237', 'A61B1703', 'A61B1770', 'A61B1788', 'A61B1700', 'A61B1710', 'A61B1732', 'A61B1700', 'A61B1708', 'A61B5055', 'A61B1002', 'A61B1018', 'A61B1313', 'A61B503', 'G02B600', 'B29D1100', 'A61B507', 'A61B1722', 'G01N2300', 'H05G102', 'A61B604', 'H05G100', 'A61B502', 'G01S1300', 'H01Q142', 'H01Q2100', 'A61B173211', 'A61B1732', 'A61B1900', 'A61B1700', 'A61B1814', 'A61B1742', 'A61B511', 'A61B1758', 'A61B1822', 'A61B603', 'A61B314', 'A61B500', 'A61K31167', 'A61B1780', 'A61B500', 'G06Q5000', 'G06Q3000', 'G06Q1000', 'A61M3700', 'A61B173203', 'A61B173205', 'A61B502', 'A61B515', 'A61M500', 'A61B17068', 'A61B500', 'G06F1900', 'H04M100']\n",
      "1. Surgical thread with a first component (12; 22; 33, 35; 42, 43; 52, 53, 54; 72, 73) made of resorbable material and a second component (14; 24, 25; 32, 34; 44; 51; 71) made of non-resorbable material and/or slowly resorbable material which is more slowly resorbable than the material of the first component, the second component being arranged in the thread (10; 20; 30; 40; 50; 70) in a non-linear manner and, before the resorption of the first component, being dimensionally stabilized against tensile forces by the arrangement of the first component. 2. Thread according to claim 1, characterized in that at least part of the first component is formed as a core (12; 22) which is surrounded by material (14; 24, 25) of the second component. 3. Thread according to claim 2, characterized in that the thread is designed as single covered twist yarn (10) or spinning covering twist (20). 4. Thread according to claim 1, characterized in that the thread is designed as plied loop twist (40) with holding threads (42, 43) made of material of the first component and a loop (44) made of material of the second component. 5. Thread according to claim 1, characterized in that the thread is designed as plied or cabled yarn (30). 6. Thread according to claim 1 or 2, characterized in that the thread has a braiding (50) made of material of the first component (52, 53, 54) and made of material of the second component (51). 7. Thread according to claim 1 or 2, characterized in that the thread has a crocheted galloon fabric (70) made of material of the first component (72, 73) and made of material of the second component (71). 8. Thread according to one of claims 1 to 7, characterized in that, after resorption of the first component (12; 22; 33, 35; 42, 43; 52, 53, 54; 72, 73), the force required for the linear alignment of the second component (14; 24, 25; 32, 34; 44; 51; 71) is smaller than 5 N. 9. Surgical thread with a first component (84, 85) made of resorbable material and a second component (82) made, of non-resorbable material and/or slowly resorbable material which is more slowly resorbable than the material of the first component (84, 85), the second component (82) being arranged in a linear manner in the thread (80) and being highly elastic and, before the resorption of the first component (84, 85), being dimensionally stabilized against tensile forces by the arrangement of the first component (84, 85). 10. Thread according to one of claims 1 to 9, characterized in that the first component (12; 22; 33, 35; 42, 43; 52, 53, 54; 72, 73; 84, 85) has at least one material selected from the following group: poly-p-dioxanone, copolymers of glycolide and lactide, preferably in the ratio 90:10 and 5:95, pre-degraded copolymers of glycolide and lactide, preferably in the ratio 90:10, copolymers of glycolide and ε-caprolacton. 11. Thread according to one of claims 1 to 10, characterized in that the second component (14; 24, 25; 32, 34; 44; 51; 71; 82) has at least one Material selected from the following group: poly-p-dioxanone, copolymers of glycolide and lactide, preferably in the ratio 90:10 and 5:95, copolymers of glycolide and ε-caprolacton, polyamides, polypropylene, polyesters, fluoropolymers, mixtures of polyvinylidene fluoride and copolymers of vinylidene fluoride and hexafluoropropane. 12. Surgical implant which contains at least one surgical thread (10; 20; 30; 40; 50; 70; 80) according to one of claims 1 to 11. 13. Implant according to claim 12, characterized in that the implant has a design selected from the following group: tapes, cords, meshes, mesh strips, tubular implants, three-dimensional constructs. 14. Implant according to claim 12, characterized in that the implant has a mesh-like basic shape, in which the ratio of the elongations in two pre-set different directions before the resorption of the first component is different from that after the resorption of the first component. 15. Implant according to one of claims 12 to 14, characterized in that the force, per cm of implant width, required for an elongation of 5% in a pre-set direction after the resorption of the first component is less than 2 N.\n",
      "241\n",
      "241\n"
     ]
    }
   ],
   "source": [
    "print(len(non_main_ipc))\n",
    "print(patent_number)\n",
    "print(non_main_ipc)\n",
    "print(claims[0])\n",
    "print(len(ipc))\n",
    "print(len(labels))"
   ]
  },
  {
   "cell_type": "code",
   "execution_count": 113,
   "metadata": {},
   "outputs": [
    {
     "name": "stdout",
     "output_type": "stream",
     "text": [
      "['A61B173203', 'B23P1304', 'G01N3348', 'A61N130', 'B02C2300', 'G06F1730', 'A61B500', 'A61K3836', 'G02B2106', 'A61F500', 'A61B1802', 'G01R3332', 'A61F1320', 'A61B5053', 'G01N2306', 'A61B3113', 'A61B1900', 'B32B3700', 'A61B5021', 'A61B17068', 'A61B51477', 'A61B173211', 'A61B1247', 'A61K900', 'A61M2500', 'A61B1743', 'A61B1822', 'A61B604', 'A61K31167', 'G06G758', 'A61B1764', 'A61B1012', 'A61N100', 'A61B1814', 'A61B1708', 'A61B101', 'A61C1706', 'A61B316', 'A61K3324', 'A61B1902', 'A61B1908', 'B32B502', 'A61B17225', 'A61C1310', 'A61B50488', 'A61B50402', 'A61M3100', 'A61B5085', 'A61B806', 'B05D300', 'G01N2300', 'G06K900', 'H01L2966', 'A61M2510', 'A61F202', 'A61B132', 'C04B35495', 'A61B800', 'A61B1722', 'G01S1300', 'A61B511', 'B29D1100', 'A61B812', 'A61B1018', 'A61B1002', 'A61B50205', 'A61B1704', 'H01Q2100', 'A61B1045', 'H05B3900', 'A61H102', 'A61B614', 'G09B1900', 'H05G102', 'A61B507', 'A61K4702', 'G06K1906', 'A61B1780', 'H04B106', 'A61B504', 'A61B173205', 'A61B1005', 'A61B813', 'A61B1728', 'A61B51455', 'A61B1313', 'G06N504', 'A61B51468', 'G01B1106', 'A61B124', 'A61B1770', 'A61B603', 'A61B501', 'B32B106', 'A61B515', 'G06F1518', 'G06T100', 'G06K708', 'A61B1712', 'B29C5112', 'G06Q1000', 'A61B104', 'H04N718', 'A61B314', 'A61B1804', 'A61F1100', 'A61B1758', 'A61B312', 'A61B1710', 'A61L1516', 'H01Q142', 'A61B1788', 'B05D302', 'A61M3700', 'A61B106', 'A61K4918', 'A01K67027', 'F16L3237', 'A61M1600', 'B65B508', 'A61B1742', 'F21L400', 'A61B131', 'A61B1267', 'B32B900', 'A61B1760', 'A61B5151', 'A61B5055', 'A61B503', 'C12N1512', 'A61N700', 'G06Q5000', 'B32B2702', 'G06Q3000', 'G01R3344', 'G06F1900', 'G02B600', 'A61B1756', 'B32B108', 'A61B17064', 'A61B1711', 'A61B508', 'A61B100', 'A61B1307', 'C07D48700', 'G06K700', 'A61B1818', 'A61B505', 'A61B1734', 'A61B1729', 'B23P1704', 'A61B1700', 'C12N510', 'A61B612', 'A61B1820', 'A61B315', 'A61B5022', 'C12N1585', 'A61B814', 'A61B50476', 'A61B5103', 'G08B500', 'H04M100', 'A61B1703', 'G06T1500', 'A61B50215', 'A61F244', 'B29C3300', 'A61B600', 'A61F206', 'H05G100', 'A61B112', 'A61B5029', 'A61M500', 'A61B1732', 'A61B1000', 'A61B1786', 'A61B1808', 'A61B1750', 'A61B502']\n",
      "180\n"
     ]
    }
   ],
   "source": [
    "expectations_classes = list(set(non_main_ipc)) # création d'éléments unique - 253 à 76 éléments\n",
    "print(expectations_classes)\n",
    "print(len(expectations_classes))"
   ]
  },
  {
   "cell_type": "code",
   "execution_count": 114,
   "metadata": {},
   "outputs": [
    {
     "name": "stdout",
     "output_type": "stream",
     "text": [
      "82\n",
      "['B23P1304', 'G01N3348', 'A61N130', 'B02C2300', 'G06F1730', 'A61K3836', 'G02B2106', 'A61F500', 'G01R3332', 'A61F1320', 'G01N2306', 'B32B3700', 'A61K900', 'A61M2500', 'A61K31167', 'G06G758', 'A61N100', 'A61C1706', 'A61K3324', 'B32B502', 'A61C1310', 'A61M3100', 'B05D300', 'G01N2300', 'G06K900', 'H01L2966', 'A61M2510', 'A61F202', 'C04B35495', 'G01S1300', 'B29D1100', 'H01Q2100', 'H05B3900', 'A61H102', 'G09B1900', 'H05G102', 'A61K4702', 'G06K1906', 'H04B106', 'G06N504', 'G01B1106', 'B32B106', 'G06F1518', 'G06T100', 'G06K708', 'B29C5112', 'G06Q1000', 'H04N718', 'A61F1100', 'A61L1516', 'H01Q142', 'B05D302', 'A61M3700', 'A61K4918', 'A01K67027', 'F16L3237', 'A61M1600', 'B65B508', 'F21L400', 'B32B900', 'C12N1512', 'A61N700', 'G06Q5000', 'B32B2702', 'G06Q3000', 'G01R3344', 'G06F1900', 'G02B600', 'B32B108', 'C07D48700', 'G06K700', 'B23P1704', 'C12N510', 'C12N1585', 'G08B500', 'H04M100', 'G06T1500', 'A61F244', 'B29C3300', 'A61F206', 'H05G100', 'A61M500']\n"
     ]
    }
   ],
   "source": [
    "# Retirer les classes secondaires de la même classe que la princiaple\n",
    "good_expectations_classes = []\n",
    "for ipcr in expectations_classes:\n",
    "    if ipcr[0:4] != \"A61B\":\n",
    "        good_expectations_classes.append(ipcr)\n",
    "        \n",
    "print(len(good_expectations_classes))\n",
    "print(good_expectations_classes)"
   ]
  },
  {
   "cell_type": "code",
   "execution_count": 117,
   "metadata": {},
   "outputs": [
    {
     "name": "stdout",
     "output_type": "stream",
     "text": [
      "Done\n"
     ]
    }
   ],
   "source": [
    "# Sauvegarder IPC secondaire en format texte\n",
    "with open(r'exemple données/expectation_space/2009_A61B_expectation_IPC_class.txt', 'w') as fp:\n",
    "    for item in good_expectations_classes:\n",
    "        # write each item on a new line\n",
    "        fp.write(\"%s\\n\" % item)\n",
    "    print('Done')"
   ]
  },
  {
   "cell_type": "code",
   "execution_count": 116,
   "metadata": {},
   "outputs": [
    {
     "data": {
      "text/html": [
       "<div>\n",
       "<style scoped>\n",
       "    .dataframe tbody tr th:only-of-type {\n",
       "        vertical-align: middle;\n",
       "    }\n",
       "\n",
       "    .dataframe tbody tr th {\n",
       "        vertical-align: top;\n",
       "    }\n",
       "\n",
       "    .dataframe thead th {\n",
       "        text-align: right;\n",
       "    }\n",
       "</style>\n",
       "<table border=\"1\" class=\"dataframe\">\n",
       "  <thead>\n",
       "    <tr style=\"text-align: right;\">\n",
       "      <th></th>\n",
       "      <th>application_number</th>\n",
       "      <th>title</th>\n",
       "      <th>abstract</th>\n",
       "      <th>claims</th>\n",
       "      <th>background</th>\n",
       "      <th>summary</th>\n",
       "      <th>ipc</th>\n",
       "      <th>label</th>\n",
       "    </tr>\n",
       "  </thead>\n",
       "  <tbody>\n",
       "    <tr>\n",
       "      <th>0</th>\n",
       "      <td>10513457</td>\n",
       "      <td>Surgical thread and surgical implant with the ...</td>\n",
       "      <td>A surgical thread (10) has a first component (...</td>\n",
       "      <td>1. Surgical thread with a first component (12;...</td>\n",
       "      <td></td>\n",
       "      <td></td>\n",
       "      <td>A61B1704</td>\n",
       "      <td>0</td>\n",
       "    </tr>\n",
       "    <tr>\n",
       "      <th>1</th>\n",
       "      <td>10551443</td>\n",
       "      <td>Device and method for determining the orientat...</td>\n",
       "      <td>In a device or a method for determining the di...</td>\n",
       "      <td>1-12. (canceled) 13. A device for determining ...</td>\n",
       "      <td>&lt;SOH&gt; BACKGROUND OF THE INVENTION &lt;EOH&gt;1. Fiel...</td>\n",
       "      <td>&lt;SOH&gt; SUMMARY OF THE INVENTION &lt;EOH&gt;This objec...</td>\n",
       "      <td>A61B3113</td>\n",
       "      <td>1</td>\n",
       "    </tr>\n",
       "    <tr>\n",
       "      <th>2</th>\n",
       "      <td>10574242</td>\n",
       "      <td>Method and apparatus for an improved sample ca...</td>\n",
       "      <td>A body fluid sampling device is provided. A me...</td>\n",
       "      <td>1. A body fluid sampling device comprising: a ...</td>\n",
       "      <td>&lt;SOH&gt; BACKGROUND OF THE INVENTION &lt;EOH&gt;Lancing...</td>\n",
       "      <td>&lt;SOH&gt; SUMMARY OF THE INVENTION &lt;EOH&gt;The presen...</td>\n",
       "      <td>A61B500</td>\n",
       "      <td>1</td>\n",
       "    </tr>\n",
       "    <tr>\n",
       "      <th>3</th>\n",
       "      <td>10585412</td>\n",
       "      <td>TROCAR DEVICE FOR PASSING A SURGICAL TOOL</td>\n",
       "      <td>This invention relates to a trocar device (9) ...</td>\n",
       "      <td>1. Trocar device (9) for passing a surgical in...</td>\n",
       "      <td></td>\n",
       "      <td></td>\n",
       "      <td>A61B1734</td>\n",
       "      <td>0</td>\n",
       "    </tr>\n",
       "    <tr>\n",
       "      <th>4</th>\n",
       "      <td>10585430</td>\n",
       "      <td>IMPLANTABLE DEVICE DELIVERY SYSTEM HANDLE AND ...</td>\n",
       "      <td>The present invention, in an exemplary embodim...</td>\n",
       "      <td>1. A device for allowing a user to deploy a st...</td>\n",
       "      <td>&lt;SOH&gt; BACKGROUND OF THE INVENTION &lt;EOH&gt;Interve...</td>\n",
       "      <td>&lt;SOH&gt; SUMMARY OF EXEMPLARY EMBODIMENTS &lt;EOH&gt;Ac...</td>\n",
       "      <td>A61B1900</td>\n",
       "      <td>1</td>\n",
       "    </tr>\n",
       "    <tr>\n",
       "      <th>...</th>\n",
       "      <td>...</td>\n",
       "      <td>...</td>\n",
       "      <td>...</td>\n",
       "      <td>...</td>\n",
       "      <td>...</td>\n",
       "      <td>...</td>\n",
       "      <td>...</td>\n",
       "      <td>...</td>\n",
       "    </tr>\n",
       "    <tr>\n",
       "      <th>236</th>\n",
       "      <td>12293145</td>\n",
       "      <td>COMPRESSED AIR DISSECTOR (AIR JET SCRAPER)</td>\n",
       "      <td>Compressed air dissector is a surgical dissect...</td>\n",
       "      <td>1-9. (canceled) 10. A system for scraping of t...</td>\n",
       "      <td>&lt;SOH&gt; TECHNICAL FIELD &lt;EOH&gt;Subject invention i...</td>\n",
       "      <td></td>\n",
       "      <td>A61B173203</td>\n",
       "      <td>1</td>\n",
       "    </tr>\n",
       "    <tr>\n",
       "      <th>237</th>\n",
       "      <td>12293233</td>\n",
       "      <td>PULSE-WAVE MEASUREMENT APPARATUS</td>\n",
       "      <td>A pulse-wave measurement apparatus includes a ...</td>\n",
       "      <td>1. A pulse-wave measurement apparatus for meas...</td>\n",
       "      <td>&lt;SOH&gt; BACKGROUND OF THE INVENTION &lt;EOH&gt;As a pr...</td>\n",
       "      <td>&lt;SOH&gt; SUMMARY OF THE INVENTION &lt;EOH&gt;On the oth...</td>\n",
       "      <td>A61B502</td>\n",
       "      <td>0</td>\n",
       "    </tr>\n",
       "    <tr>\n",
       "      <th>238</th>\n",
       "      <td>12293829</td>\n",
       "      <td>CANNULA EQUIPPED WITH A PROTECTIVE HOUSING</td>\n",
       "      <td>The invention relates to a cannula, preferably...</td>\n",
       "      <td>1-2. (canceled) 3. A cannula equipped with a c...</td>\n",
       "      <td></td>\n",
       "      <td></td>\n",
       "      <td>A61B515</td>\n",
       "      <td>1</td>\n",
       "    </tr>\n",
       "    <tr>\n",
       "      <th>239</th>\n",
       "      <td>12293932</td>\n",
       "      <td>Vascular Anastomotic Staplers</td>\n",
       "      <td>Vascular anastomotic staplers (100, 200, 300) ...</td>\n",
       "      <td>1. A stapler for simultaneously discharging a ...</td>\n",
       "      <td>&lt;SOH&gt; BACKGROUND OF THE INVENTION &lt;EOH&gt;It is w...</td>\n",
       "      <td>&lt;SOH&gt; SUMMARY OF THE INVENTION &lt;EOH&gt;The presen...</td>\n",
       "      <td>A61B17068</td>\n",
       "      <td>0</td>\n",
       "    </tr>\n",
       "    <tr>\n",
       "      <th>240</th>\n",
       "      <td>12294074</td>\n",
       "      <td>DIABETES SMARTPHONE</td>\n",
       "      <td>The present invention is in the field of telem...</td>\n",
       "      <td>1. A method for processing measured values bei...</td>\n",
       "      <td>&lt;SOH&gt; 1. BACKGROUND OF THE INVENTION &lt;EOH&gt;1.1....</td>\n",
       "      <td>&lt;SOH&gt; 2. SUMMARY AND ADVANTAGES OF THE INVENTI...</td>\n",
       "      <td>A61B500</td>\n",
       "      <td>0</td>\n",
       "    </tr>\n",
       "  </tbody>\n",
       "</table>\n",
       "<p>241 rows × 8 columns</p>\n",
       "</div>"
      ],
      "text/plain": [
       "    application_number                                              title  \\\n",
       "0             10513457  Surgical thread and surgical implant with the ...   \n",
       "1             10551443  Device and method for determining the orientat...   \n",
       "2             10574242  Method and apparatus for an improved sample ca...   \n",
       "3             10585412          TROCAR DEVICE FOR PASSING A SURGICAL TOOL   \n",
       "4             10585430  IMPLANTABLE DEVICE DELIVERY SYSTEM HANDLE AND ...   \n",
       "..                 ...                                                ...   \n",
       "236           12293145         COMPRESSED AIR DISSECTOR (AIR JET SCRAPER)   \n",
       "237           12293233                   PULSE-WAVE MEASUREMENT APPARATUS   \n",
       "238           12293829         CANNULA EQUIPPED WITH A PROTECTIVE HOUSING   \n",
       "239           12293932                      Vascular Anastomotic Staplers   \n",
       "240           12294074                                DIABETES SMARTPHONE   \n",
       "\n",
       "                                              abstract  \\\n",
       "0    A surgical thread (10) has a first component (...   \n",
       "1    In a device or a method for determining the di...   \n",
       "2    A body fluid sampling device is provided. A me...   \n",
       "3    This invention relates to a trocar device (9) ...   \n",
       "4    The present invention, in an exemplary embodim...   \n",
       "..                                                 ...   \n",
       "236  Compressed air dissector is a surgical dissect...   \n",
       "237  A pulse-wave measurement apparatus includes a ...   \n",
       "238  The invention relates to a cannula, preferably...   \n",
       "239  Vascular anastomotic staplers (100, 200, 300) ...   \n",
       "240  The present invention is in the field of telem...   \n",
       "\n",
       "                                                claims  \\\n",
       "0    1. Surgical thread with a first component (12;...   \n",
       "1    1-12. (canceled) 13. A device for determining ...   \n",
       "2    1. A body fluid sampling device comprising: a ...   \n",
       "3    1. Trocar device (9) for passing a surgical in...   \n",
       "4    1. A device for allowing a user to deploy a st...   \n",
       "..                                                 ...   \n",
       "236  1-9. (canceled) 10. A system for scraping of t...   \n",
       "237  1. A pulse-wave measurement apparatus for meas...   \n",
       "238  1-2. (canceled) 3. A cannula equipped with a c...   \n",
       "239  1. A stapler for simultaneously discharging a ...   \n",
       "240  1. A method for processing measured values bei...   \n",
       "\n",
       "                                            background  \\\n",
       "0                                                        \n",
       "1    <SOH> BACKGROUND OF THE INVENTION <EOH>1. Fiel...   \n",
       "2    <SOH> BACKGROUND OF THE INVENTION <EOH>Lancing...   \n",
       "3                                                        \n",
       "4    <SOH> BACKGROUND OF THE INVENTION <EOH>Interve...   \n",
       "..                                                 ...   \n",
       "236  <SOH> TECHNICAL FIELD <EOH>Subject invention i...   \n",
       "237  <SOH> BACKGROUND OF THE INVENTION <EOH>As a pr...   \n",
       "238                                                      \n",
       "239  <SOH> BACKGROUND OF THE INVENTION <EOH>It is w...   \n",
       "240  <SOH> 1. BACKGROUND OF THE INVENTION <EOH>1.1....   \n",
       "\n",
       "                                               summary         ipc  label  \n",
       "0                                                         A61B1704      0  \n",
       "1    <SOH> SUMMARY OF THE INVENTION <EOH>This objec...    A61B3113      1  \n",
       "2    <SOH> SUMMARY OF THE INVENTION <EOH>The presen...     A61B500      1  \n",
       "3                                                         A61B1734      0  \n",
       "4    <SOH> SUMMARY OF EXEMPLARY EMBODIMENTS <EOH>Ac...    A61B1900      1  \n",
       "..                                                 ...         ...    ...  \n",
       "236                                                     A61B173203      1  \n",
       "237  <SOH> SUMMARY OF THE INVENTION <EOH>On the oth...     A61B502      0  \n",
       "238                                                        A61B515      1  \n",
       "239  <SOH> SUMMARY OF THE INVENTION <EOH>The presen...   A61B17068      0  \n",
       "240  <SOH> 2. SUMMARY AND ADVANTAGES OF THE INVENTI...     A61B500      0  \n",
       "\n",
       "[241 rows x 8 columns]"
      ]
     },
     "execution_count": 116,
     "metadata": {},
     "output_type": "execute_result"
    }
   ],
   "source": [
    "# Création jdD à mettre en csv\n",
    "df = pd.DataFrame({'application_number': patent_number, 'title': titles, 'abstract':abstract,\n",
    "                    'claims':claims, 'background': backgrounds, 'summary':summary, 'ipc':ipc, 'label': labels})\n",
    "df  "
   ]
  },
  {
   "cell_type": "code",
   "execution_count": 118,
   "metadata": {},
   "outputs": [],
   "source": [
    "# Sauvegarder CSV to_eval\n",
    "df.to_csv('exemple données/to_eval/2014_A61B_patents_toeval.csv', index=False)"
   ]
  }
 ],
 "metadata": {
  "kernelspec": {
   "display_name": "base",
   "language": "python",
   "name": "python3"
  },
  "language_info": {
   "codemirror_mode": {
    "name": "ipython",
    "version": 3
   },
   "file_extension": ".py",
   "mimetype": "text/x-python",
   "name": "python",
   "nbconvert_exporter": "python",
   "pygments_lexer": "ipython3",
   "version": "3.9.16"
  }
 },
 "nbformat": 4,
 "nbformat_minor": 2
}
