{
 "cells": [
  {
   "cell_type": "code",
   "execution_count": 13,
   "id": "db075811-7fad-4307-a632-0a0ba4042eb2",
   "metadata": {},
   "outputs": [],
   "source": [
    "path = \"/home/edgarlanoue/data/csvCleaned/\" #\"C:/Users/edgar/OneDrive/Bureau/Ecole/HEC/A24/BrevetNLP/exemple données/cleaned/\"\n",
    "pathOutput = \"/home/edgarlanoue/metrics/metrics\" #\"C:/Users/edgar/OneDrive/Bureau/Ecole/HEC/A24/BrevetNLP/exemple données/metrics/\"\n",
    "# path = \"C:/Users/edgar/OneDrive/Bureau/Ecole/HEC/A24/BrevetNLP/exemple données/cleaned/\"\n",
    "# pathOutput = \"C:/Users/edgar/OneDrive/Bureau/Ecole/HEC/A24/BrevetNLP/exemple données/metrics/\"\n",
    "\n",
    "useClusters=True\n",
    "ipcList = [\"G06F\", \"G01N\", \"A61B\", \"B60L\", \"E21B\", \"F03D\", \"H01L\", \"H04W\", \"C07D\", \"D07B\", \"B32B\"]\n",
    "yearList = [\"2012\", \"2013\", \"2014\", \"2015\", \"2016\"]\n",
    "\n",
    "from utils import docs_distribution, new_distribution, combine_columns\n",
    "tE_cols = [\"claims\"]\n",
    "base_cols = [\"claims\", \"background\"]\n"
   ]
  },
  {
   "cell_type": "code",
   "execution_count": 14,
   "id": "e9344310-40a5-448c-98fa-a0309d091d8d",
   "metadata": {},
   "outputs": [
    {
     "name": "stdout",
     "output_type": "stream",
     "text": [
      "2012, G06F, 40960, 173135, 396708\n",
      "2012, G01N, 5107, 22054, 268121\n",
      "2012, A61B, 8459, 39503, 300101\n",
      "2012, B60L, 389, 1160, 51465\n",
      "2012, E21B, 2408, 10351, 70408\n",
      "2012, F03D, 537, 2193, 34455\n",
      "2012, H01L, 19198, 84177, 274072\n",
      "2012, H04W, 12345, 22511, 280461\n",
      "2012, C07D, 2430, 6461, 117624\n",
      "2012, D07B, 14, 54, 567\n",
      "2012, B32B, 3450, 21973, 169203\n",
      "2013, G06F, 33095, 179998, 290121\n",
      "2013, G01N, 6294, 22678, 250559\n",
      "2013, A61B, 9403, 40598, 195589\n",
      "2013, B60L, 617, 1385, 26450\n",
      "2013, E21B, 2621, 11001, 63575\n",
      "2013, F03D, 517, 2478, 8070\n",
      "2013, H01L, 20359, 86449, 186924\n",
      "2013, H04W, 11740, 34812, 166528\n",
      "2013, C07D, 3893, 7523, 82881\n",
      "2013, D07B, 25, 62, 1829\n",
      "2013, B32B, 1246, 21465, 54386\n",
      "2014, G06F, 28378, 178557, 410003\n",
      "2014, G01N, 6028, 24641, 310345\n",
      "2014, A61B, 8383, 43142, 302960\n",
      "2014, B60L, 882, 1808, 59338\n",
      "2014, E21B, 2679, 11806, 65947\n",
      "2014, F03D, 522, 2623, 29572\n",
      "2014, H01L, 19925, 90968, 245299\n",
      "2014, H04W, 11050, 44737, 256947\n",
      "2014, C07D, 4241, 10035, 86675\n",
      "2014, D07B, 31, 73, 1974\n",
      "2014, B32B, 1010, 18114, 69570\n",
      "2015, G06F, 21100, 179153, 466152\n",
      "2015, G01N, 4607, 27154, 342671\n",
      "2015, A61B, 5811, 45634, 323060\n",
      "2015, B60L, 773, 2519, 125469\n",
      "2015, E21B, 1895, 12700, 90477\n",
      "2015, F03D, 334, 2682, 30626\n",
      "2015, H01L, 17315, 96894, 259308\n",
      "2015, H04W, 10015, 51745, 296357\n",
      "2015, C07D, 3522, 13081, 101228\n",
      "2015, D07B, 15, 93, 264\n",
      "2015, B32B, 661, 14775, 74696\n",
      "2016, G06F, 9234, 173662, 431267\n",
      "2016, G01N, 1979, 28677, 307273\n",
      "2016, A61B, 2708, 46625, 312246\n",
      "2016, B60L, 368, 3156, 68972\n",
      "2016, E21B, 661, 12903, 52348\n",
      "2016, F03D, 90, 2610, 36103\n",
      "2016, H01L, 11700, 99087, 284544\n",
      "2016, H04W, 5341, 57161, 309358\n",
      "2016, C07D, 2569, 15519, 95600\n",
      "2016, D07B, 4, 108, 59\n",
      "2016, B32B, 271, 11758, 56262\n"
     ]
    }
   ],
   "source": [
    "import pandas as pd\n",
    "\n",
    "# Initialize an empty list to store results\n",
    "results = []\n",
    "\n",
    "for year in yearList:\n",
    "    for ipc in ipcList:\n",
    "        tE = pd.read_csv(path+f\"tE/{year}_{ipc}_tE_cleaned.csv\")\n",
    "        KS = pd.read_csv(path+f\"KS/{year}_{ipc}_KS_cleaned.csv\")\n",
    "        ES = pd.read_csv(path+f\"ES/{year}_{ipc}_ES_cleaned.csv\")\n",
    "\n",
    "        tE = combine_columns(tE, tE_cols)  # [:10000]\n",
    "        KS = combine_columns(KS, base_cols)  # [:100000]\n",
    "        ES = combine_columns(ES, base_cols)  # [:100000]\n",
    "        print(f\"{year}, {ipc}, {len(tE)}, {len(KS)}, {len(ES)}\")\n",
    "        # Append results as a dictionary\n",
    "        results.append({\n",
    "            \"year\": year,\n",
    "            \"ipc\": ipc,\n",
    "            \"tE_length\": len(tE),\n",
    "            \"KS_length\": len(KS),\n",
    "            \"ES_length\": len(ES)\n",
    "        })\n",
    "\n",
    "# Convert the list into a DataFrame\n",
    "df_results = pd.DataFrame(results)\n",
    "\n",
    "# Save to CSV\n",
    "df_results.to_csv(pathOutput + \"summary_results.csv\", index=False)\n"
   ]
  },
  {
   "cell_type": "code",
   "execution_count": 11,
   "id": "6bc7b3d5-fa59-4ffd-af6e-aec1fb7e2a92",
   "metadata": {},
   "outputs": [
    {
     "data": {
      "text/plain": [
       "[{'year': '2012',\n",
       "  'ipc': 'D07B',\n",
       "  'tE_length': 14,\n",
       "  'KS_length': 54,\n",
       "  'ES_length': 567}]"
      ]
     },
     "execution_count": 11,
     "metadata": {},
     "output_type": "execute_result"
    }
   ],
   "source": [
    "results"
   ]
  }
 ],
 "metadata": {
  "kernelspec": {
   "display_name": "Python 3.10",
   "language": "python",
   "name": "python3.10"
  },
  "language_info": {
   "codemirror_mode": {
    "name": "ipython",
    "version": 3
   },
   "file_extension": ".py",
   "mimetype": "text/x-python",
   "name": "python",
   "nbconvert_exporter": "python",
   "pygments_lexer": "ipython3",
   "version": "3.10.10"
  }
 },
 "nbformat": 4,
 "nbformat_minor": 5
}
