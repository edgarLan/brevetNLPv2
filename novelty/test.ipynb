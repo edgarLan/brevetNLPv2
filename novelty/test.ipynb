{
 "cells": [
  {
   "cell_type": "code",
   "execution_count": 1,
   "metadata": {},
   "outputs": [],
   "source": [
    "import utils\n",
    "import surprise\n",
    "import divergences"
   ]
  },
  {
   "cell_type": "code",
   "execution_count": 2,
   "metadata": {},
   "outputs": [
    {
     "name": "stdout",
     "output_type": "stream",
     "text": [
      "{'apple': {'banana': 0.5849625007211562, 'melon': 0.5849625007211562}, 'banana': {'melon': 0.5849625007211562}, 'variables': ['banana', 'melon']}\n",
      "{'apple': {'melon': 0.5849625007211562}, 'banana': {'apple': 0.5849625007211562, 'melon': 0.5849625007211562}, 'variables': ['melon', 'apple']}\n"
     ]
    }
   ],
   "source": [
    "list1= utils.pmi([\"apple\", \"banana\", \"melon\"])#, \"banana\", \"apple\", \"melon\"])\n",
    "list2 =utils.pmi([\"banana\", \"apple\", \"melon\"])\n",
    "dict1 = surprise.pmi_to_dict(list1)\n",
    "dict2 = surprise.pmi_to_dict(list2)\n",
    "\n",
    "print(dict1)\n",
    "print(dict2)"
   ]
  },
  {
   "cell_type": "code",
   "execution_count": 95,
   "metadata": {},
   "outputs": [
    {
     "data": {
      "text/plain": [
       "<module 'surprise' from 'c:\\\\Users\\\\edgar\\\\OneDrive\\\\Bureau\\\\Ecole\\\\HEC\\\\A24\\\\BrevetNLP\\\\PatentNovelty\\\\novelty\\\\surprise.py'>"
      ]
     },
     "execution_count": 95,
     "metadata": {},
     "output_type": "execute_result"
    }
   ],
   "source": [
    "import importlib\n",
    "importlib.reload(utils)\n",
    "importlib.reload(surprise)"
   ]
  },
  {
   "cell_type": "markdown",
   "metadata": {},
   "source": [
    "# problème get_common_vectors"
   ]
  },
  {
   "cell_type": "code",
   "execution_count": 127,
   "metadata": {},
   "outputs": [],
   "source": [
    "list_pmi = [((\"apple\", \"banana\"), 1.2), ((\"apple\", \"cherry\"), 0.8), ((\"banana\", \"cherry\"), 1.5)]\n",
    "list_pmi_new = [((\"apple\", \"banana\"), 1.1), ((\"apple\", \"grape\"), 0.9), ((\"banana\", \"cherry\"), 1.3), ((\"banana\", \"grape\"), 1.0), ((\"cherry\", \"grape\"), 0.7), ((\"apple\", \"melon\"), 0.6)]"
   ]
  },
  {
   "cell_type": "code",
   "execution_count": 128,
   "metadata": {},
   "outputs": [
    {
     "name": "stdout",
     "output_type": "stream",
     "text": [
      "List:  [(('apple', 'banana'), 1.2), (('apple', 'cherry'), 0.8), (('banana', 'cherry'), 1.5)]\n",
      "Nested dict:  {'apple': {'banana': 1.2, 'cherry': 0.8}, 'banana': {'cherry': 1.5}, 'variables': ['banana', 'cherry']}\n",
      "\n",
      "List:  [(('apple', 'banana'), 1.1), (('apple', 'grape'), 0.9), (('banana', 'cherry'), 1.3), (('banana', 'grape'), 1.0), (('cherry', 'grape'), 0.7), (('apple', 'melon'), 0.6)]\n",
      "Nested dict:  {'apple': {'banana': 1.1, 'grape': 0.9, 'melon': 0.6}, 'banana': {'cherry': 1.3, 'grape': 1.0}, 'cherry': {'grape': 0.7}, 'variables': ['banana', 'grape', 'cherry', 'melon']}\n"
     ]
    }
   ],
   "source": [
    "dict_pmi = surprise.pmi_to_dict(list_pmi)\n",
    "dict_pmi_new = surprise.pmi_to_dict(list_pmi_new)\n",
    "\n",
    "print(\"List: \", list_pmi)\n",
    "print(\"Nested dict: \", dict_pmi)\n",
    "print(\"\")\n",
    "print(\"List: \", list_pmi_new)\n",
    "print(\"Nested dict: \", dict_pmi_new)"
   ]
  },
  {
   "cell_type": "code",
   "execution_count": 131,
   "metadata": {},
   "outputs": [
    {
     "name": "stdout",
     "output_type": "stream",
     "text": [
      "Nested dict:  {'apple': {'banana': 1.2, 'cherry': 0.8}, 'banana': {'cherry': 1.5}, 'variables': ['banana', 'cherry']}\n",
      "Nested new dict:  {'apple': {'banana': 1.1, 'grape': 0.9, 'melon': 0.6}, 'banana': {'cherry': 1.3, 'grape': 1.0}, 'cherry': {'grape': 0.7}, 'variables': ['banana', 'grape', 'cherry', 'melon']}\n"
     ]
    }
   ],
   "source": [
    "print(\"Nested dict: \", dict_pmi)\n",
    "print(\"Nested new dict: \", dict_pmi_new)"
   ]
  },
  {
   "cell_type": "code",
   "execution_count": 130,
   "metadata": {},
   "outputs": [
    {
     "name": "stdout",
     "output_type": "stream",
     "text": [
      "inter_list:  ['melon', 'banana', 'cherry', 'grape']\n",
      "entry:  melon\n",
      "    [0, 0, 0, 0],    {}\n",
      "    [0, 0, 0, 0],    {}\n",
      "entry:  banana\n",
      "    [0, 0, 1.5, 0],    {'cherry': 1.5}\n",
      "    [0, 0, 1.3, 1.0],    {'cherry': 1.3, 'grape': 1.0}\n",
      "entry:  cherry\n",
      "    [0, 0, 0, 0],    {}\n",
      "    [0, 0, 0, 0.7],    {'grape': 0.7}\n",
      "entry:  grape\n",
      "    [0, 0, 0, 0],    {}\n",
      "    [0, 0, 0, 0],    {}\n",
      "\n",
      "\n",
      "Vector tuples: \n"
     ]
    },
    {
     "data": {
      "text/plain": [
       "{'melon': ([0, 0, 0, 0], [0, 0, 0, 0]),\n",
       " 'banana': ([0, 0, 1.5, 0], [0, 0, 1.3, 1.0]),\n",
       " 'cherry': ([0, 0, 0, 0], [0, 0, 0, 0.7]),\n",
       " 'grape': ([0, 0, 0, 0], [0, 0, 0, 0])}"
      ]
     },
     "execution_count": 130,
     "metadata": {},
     "output_type": "execute_result"
    }
   ],
   "source": [
    "vecotr_tuples = surprise.Surprise(pmi_new=list_pmi_new).get_common_vectors(dict_old=dict_pmi, dict_new=dict_pmi_new, epsilon=0)\n",
    "\n",
    "print(\"\")\n",
    "print(\"\")\n",
    "print(\"Vector tuples: \")\n",
    "vecotr_tuples"
   ]
  },
  {
   "cell_type": "markdown",
   "metadata": {},
   "source": [
    "## Ajutement"
   ]
  },
  {
   "cell_type": "code",
   "execution_count": 82,
   "metadata": {},
   "outputs": [
    {
     "name": "stdout",
     "output_type": "stream",
     "text": [
      "List:  [(('apple', 'banana'), 1.2), (('apple', 'cherry'), 0.8), (('banana', 'cherry'), 1.5)]\n",
      "Nested dict:  {'apple': {'banana': 1.2, 'cherry': 0.8}, 'banana': {'cherry': 1.5}, 'w1': ['apple', 'banana'], 'w2': ['banana', 'cherry']}\n",
      "\n",
      "List:  [(('apple', 'banana'), 1.1), (('apple', 'grape'), 0.9), (('banana', 'cherry'), 1.3), (('banana', 'grape'), 1.0), (('cherry', 'grape'), 0.7), (('apple', 'melon'), 0.6)]\n",
      "Nested dict:  {'apple': {'banana': 1.1, 'grape': 0.9, 'melon': 0.6}, 'banana': {'cherry': 1.3, 'grape': 1.0}, 'cherry': {'grape': 0.7}, 'w1': ['apple', 'banana', 'cherry'], 'w2': ['banana', 'grape', 'cherry', 'melon']}\n"
     ]
    }
   ],
   "source": [
    "dict_pmi2 = utils.pmi_to_dict2(list_pmi)\n",
    "dict_pmi_new2 = utils.pmi_to_dict2(list_pmi_new)\n",
    "\n",
    "print(\"List: \", list_pmi)\n",
    "print(\"Nested dict: \", dict_pmi2)\n",
    "print(\"\")\n",
    "print(\"List: \", list_pmi_new)\n",
    "print(\"Nested dict: \", dict_pmi_new2)"
   ]
  },
  {
   "cell_type": "code",
   "execution_count": null,
   "metadata": {},
   "outputs": [
    {
     "name": "stdout",
     "output_type": "stream",
     "text": [
      "interList_w1:  ['banana', 'apple', 'cherry']\n",
      "interList_w2:  ['melon', 'banana', 'cherry', 'grape']\n",
      "entry:  banana\n",
      "    [0, 0, 1.5, 0],    {'cherry': 1.5}\n",
      "    [0, 0, 1.3, 1.0],    {'cherry': 1.3, 'grape': 1.0}\n",
      "entry:  apple\n",
      "    [0, 1.2, 0.8, 0],    {'banana': 1.2, 'cherry': 0.8}\n",
      "    [0.6, 1.1, 0, 0.9],    {'banana': 1.1, 'grape': 0.9, 'melon': 0.6}\n",
      "entry:  cherry\n",
      "    [0, 0, 0, 0],    {}\n",
      "    [0, 0, 0, 0.7],    {'grape': 0.7}\n",
      "\n",
      "\n",
      "Vector tuples: \n"
     ]
    },
    {
     "data": {
      "text/plain": [
       "{'banana': ([0, 0, 1.5, 0], [0, 0, 1.3, 1.0]),\n",
       " 'apple': ([0, 1.2, 0.8, 0], [0.6, 1.1, 0, 0.9]),\n",
       " 'cherry': ([0, 0, 0, 0], [0, 0, 0, 0.7])}"
      ]
     },
     "execution_count": 104,
     "metadata": {},
     "output_type": "execute_result"
    }
   ],
   "source": [
    "vecotr_tuples2 = surprise.Surprise(pmi_new=list_pmi_new).get_common_vectors2(dict_old=dict_pmi2, dict_new=dict_pmi_new2, epsilon=0)\n",
    "\n",
    "print(\"\")\n",
    "print(\"\")\n",
    "print(\"Vector tuples: \")\n",
    "vecotr_tuples"
   ]
  },
  {
   "cell_type": "markdown",
   "metadata": {},
   "source": [
    "# Surprise"
   ]
  },
  {
   "cell_type": "code",
   "execution_count": 96,
   "metadata": {},
   "outputs": [],
   "source": [
    "instanceSurprise = surprise.Surprise(pmi_new=list_pmi_new)\n",
    "instanceSurprise2 = surprise.Surprise(pmi_new=list_pmi_new)"
   ]
  },
  {
   "cell_type": "code",
   "execution_count": 88,
   "metadata": {},
   "outputs": [
    {
     "name": "stdout",
     "output_type": "stream",
     "text": [
      "[(('apple', 'grape'), 0.9), (('banana', 'grape'), 1.0), (('cherry', 'grape'), 0.7), (('apple', 'melon'), 0.6)]\n"
     ]
    },
    {
     "data": {
      "text/plain": [
       "(0.6666666666666666, 1)"
      ]
     },
     "execution_count": 88,
     "metadata": {},
     "output_type": "execute_result"
    }
   ],
   "source": [
    "instanceSurprise.new_surprise(list_pmi, thr_surp=0)"
   ]
  },
  {
   "cell_type": "code",
   "execution_count": 97,
   "metadata": {},
   "outputs": [
    {
     "name": "stdout",
     "output_type": "stream",
     "text": [
      "[(('apple', 'grape'), 0.9), (('banana', 'grape'), 1.0), (('cherry', 'grape'), 0.7), (('apple', 'melon'), 0.6)]\n"
     ]
    },
    {
     "data": {
      "text/plain": [
       "(0.6666666666666666, 1)"
      ]
     },
     "execution_count": 97,
     "metadata": {},
     "output_type": "execute_result"
    }
   ],
   "source": [
    "instanceSurprise2.new_surprise(list_pmi, thr_surp=0)"
   ]
  },
  {
   "cell_type": "code",
   "execution_count": 126,
   "metadata": {},
   "outputs": [
    {
     "name": "stdout",
     "output_type": "stream",
     "text": [
      "inter_list:  ['melon', 'banana', 'cherry', 'grape']\n",
      "entry:  melon\n",
      "    [0, 0, 0, 0],    {}\n",
      "    [0, 0, 0, 0],    {}\n",
      "entry:  banana\n",
      "    [0, 0, 1.5, 0],    {'cherry': 1.5}\n",
      "    [0, 0, 1.3, 1.0],    {'cherry': 1.3, 'grape': 1.0}\n",
      "entry:  cherry\n",
      "    [0, 0, 0, 0],    {}\n",
      "    [0, 0, 0, 0.7],    {'grape': 0.7}\n",
      "entry:  grape\n",
      "    [0, 0, 0, 0],    {}\n",
      "    [0, 0, 0, 0],    {}\n"
     ]
    },
    {
     "data": {
      "text/plain": [
       "(0.18127819858060748, 1)"
      ]
     },
     "execution_count": 126,
     "metadata": {},
     "output_type": "execute_result"
    }
   ],
   "source": [
    "instanceSurprise.uniq_surprise(dict_pmi, eps=0, thr_surp=0)"
   ]
  },
  {
   "cell_type": "code",
   "execution_count": 125,
   "metadata": {},
   "outputs": [
    {
     "name": "stdout",
     "output_type": "stream",
     "text": [
      "interList_w1:  ['banana', 'apple', 'cherry']\n",
      "interList_w2:  ['melon', 'banana', 'cherry', 'grape']\n",
      "entry:  banana\n",
      "    [0, 0, 1.5, 0],    {'cherry': 1.5}\n",
      "    [0, 0, 1.3, 1.0],    {'cherry': 1.3, 'grape': 1.0}\n",
      "entry:  apple\n",
      "    [0, 1.2, 0.8, 0],    {'banana': 1.2, 'cherry': 0.8}\n",
      "    [0.6, 1.1, 0, 0.9],    {'banana': 1.1, 'grape': 0.9, 'melon': 0.6}\n",
      "entry:  cherry\n",
      "    [0, 0, 0, 0],    {}\n",
      "    [0, 0, 0, 0.7],    {'grape': 0.7}\n"
     ]
    },
    {
     "data": {
      "text/plain": [
       "(0.26377072729350876, 1)"
      ]
     },
     "execution_count": 125,
     "metadata": {},
     "output_type": "execute_result"
    }
   ],
   "source": [
    "instanceSurprise.uniq_surprise2(dict_pmi2, eps=0, thr_surp=0)"
   ]
  },
  {
   "cell_type": "code",
   "execution_count": 112,
   "metadata": {},
   "outputs": [
    {
     "data": {
      "text/plain": [
       "dict_keys(['melon', 'banana', 'cherry', 'grape'])"
      ]
     },
     "execution_count": 112,
     "metadata": {},
     "output_type": "execute_result"
    }
   ],
   "source": [
    "key_list = vecotr_tuples.keys() # directement interlist\n",
    "key_list"
   ]
  },
  {
   "cell_type": "code",
   "execution_count": 117,
   "metadata": {},
   "outputs": [
    {
     "name": "stdout",
     "output_type": "stream",
     "text": [
      "banana\n",
      "known:  [0, 0, 1.5, 0]\n",
      "new:  [0, 0, 1.3, 1.0]\n",
      "known:  [0.0, 0.0, 1.5, 0.0]\n",
      "new:  [0.0, 0.0, 1.3, 1.0]\n"
     ]
    }
   ],
   "source": [
    "entry = list(key_list)[1]\n",
    "print(entry)\n",
    "tuple_known = vecotr_tuples[entry][0]\n",
    "tuple_new = vecotr_tuples[entry][1]\n",
    "\n",
    "print(\"known: \", tuple_known)\n",
    "print(\"new: \", tuple_new)\n",
    "        \n",
    "tuple_known = [max(0., val) for val in tuple_known]\n",
    "tuple_new = [max(0., val) for val in tuple_new]   \n",
    "\n",
    "print(\"known: \", tuple_known)\n",
    "print(\"new: \", tuple_new)"
   ]
  },
  {
   "cell_type": "code",
   "execution_count": 118,
   "metadata": {},
   "outputs": [
    {
     "data": {
      "text/plain": [
       "[0.18127819858060748]"
      ]
     },
     "execution_count": 118,
     "metadata": {},
     "output_type": "execute_result"
    }
   ],
   "source": [
    "surprise_dists = []\n",
    "if sum(tuple_known) != 0 and sum(tuple_new) != 0:   #### We can't compare to non existing vectors neither - si pmi négatif\n",
    "    surprise_dists.append(divergences.Jensen_Shannon().JSDiv(tuple_known, tuple_new))\n",
    "\n",
    "surprise_dists"
   ]
  },
  {
   "cell_type": "code",
   "execution_count": null,
   "metadata": {},
   "outputs": [
    {
     "name": "stdout",
     "output_type": "stream",
     "text": [
      "1.5\n",
      "[0. 0. 1. 0.]\n",
      "2.3\n",
      "[0.         0.         0.56521739 0.43478261]\n",
      "[0.        0.        0.7826087 0.2173913]\n",
      "0.2451224580329849\n"
     ]
    },
    {
     "data": {
      "text/plain": [
       "0.18127819858060748"
      ]
     },
     "execution_count": 59,
     "metadata": {},
     "output_type": "execute_result"
    }
   ],
   "source": [
    "from numpy.linalg import norm\n",
    "from scipy.stats import entropy\n",
    "\n",
    "P=  [0, 0, 1.5, 0]\n",
    "Q=  [0, 0, 1.3, 1.0]\n",
    "\n",
    "_P = P / norm(P, ord=1)\n",
    "print(norm(P, ord=1))\n",
    "print(_P)\n",
    "\n",
    "\n",
    "_Q = Q / norm(Q, ord=1)\n",
    "print(norm(Q, ord=1))\n",
    "print(_Q)\n",
    "\n",
    "_M = 0.5 * _P + 0.5 * _Q\n",
    "print(_M)\n",
    "print(entropy(_P, _M))\n",
    "0.5 * entropy(_P, _M) + 0.5 * entropy(_Q, _M)"
   ]
  }
 ],
 "metadata": {
  "kernelspec": {
   "display_name": ".conda",
   "language": "python",
   "name": "python3"
  },
  "language_info": {
   "codemirror_mode": {
    "name": "ipython",
    "version": 3
   },
   "file_extension": ".py",
   "mimetype": "text/x-python",
   "name": "python",
   "nbconvert_exporter": "python",
   "pygments_lexer": "ipython3",
   "version": "3.11.10"
  }
 },
 "nbformat": 4,
 "nbformat_minor": 2
}
