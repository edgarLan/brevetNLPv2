{
 "cells": [
  {
   "cell_type": "code",
   "execution_count": 1,
   "metadata": {},
   "outputs": [
    {
     "name": "stderr",
     "output_type": "stream",
     "text": [
      "c:\\Users\\edgar\\OneDrive\\Bureau\\Ecole\\HEC\\A24\\BrevetNLP\\.conda\\Lib\\site-packages\\spacy\\util.py:910: UserWarning: [W095] Model 'en_core_web_sm' (3.8.0) was trained with spaCy v3.8.0 and may not be 100% compatible with the current version (3.7.5). If you see errors or degraded performance, download a newer compatible model or retrain your custom model with the current spaCy version. For more details and available updates, run: python -m spacy validate\n",
      "  warnings.warn(warn_msg)\n",
      "[nltk_data] Downloading package stopwords to\n",
      "[nltk_data]     C:\\Users\\edgar\\AppData\\Roaming\\nltk_data...\n",
      "[nltk_data]   Package stopwords is already up-to-date!\n"
     ]
    },
    {
     "data": {
      "text/plain": [
       "<module 'novelty' from 'c:\\\\Users\\\\edgar\\\\OneDrive\\\\Bureau\\\\Ecole\\\\HEC\\\\A24\\\\BrevetNLP\\\\PatentNovelty\\\\novelty\\\\novelty.py'>"
      ]
     },
     "execution_count": 1,
     "metadata": {},
     "output_type": "execute_result"
    }
   ],
   "source": [
    "from os import walk\n",
    "import json\n",
    "import re\n",
    "from tqdm import tqdm\n",
    "from utils import pmi, pmi_to_dict_adj, docs_distribution, new_distribution, OptimizedIncrementalPMI\n",
    "from scoring import compute_scores\n",
    "import time\n",
    "import pandas as pd\n",
    "from textCleaning import get_file_names, extract_year_ipc\n",
    "from sklearn.feature_extraction.text import CountVectorizer\n",
    "import numpy as np\n",
    "import utils\n",
    "from utils import docs_distribution, new_distribution, combine_columns, OptimizedIncrementalPMI\n",
    "import copy\n",
    "from novelty import ClusterKS\n",
    "\n",
    "import importlib\n",
    "importlib.reload(utils)\n",
    "from utils import docs_distribution, new_distribution, combine_columns, OptimizedIncrementalPMI\n",
    "import scoring\n",
    "importlib.reload(scoring)\n",
    "from scoring import compute_scores\n",
    "import novelty\n",
    "importlib.reload(novelty)"
   ]
  },
  {
   "cell_type": "code",
   "execution_count": null,
   "metadata": {},
   "outputs": [],
   "source": [
    "columns = ['summary', 'abstract', 'background']\n",
    "w_size = 3\n",
    "path = \"/home/edgarlanoue/data/csvCleaned/\" #\"C:/Users/edgar/OneDrive/Bureau/Ecole/HEC/A24/BrevetNLP/exemple données/cleaned/\"\n",
    "pathOutput = \"/home/edgarlanoue/metrics/\" #\"C:/Users/edgar/OneDrive/Bureau/Ecole/HEC/A24/BrevetNLP/exemple données/metrics/\"\n",
    "useClusters=True\n",
    "yearList = []\n",
    "ipcList = []\n",
    "\n",
    "def measureNov(path, pathOutput, columns, w_size, useClusters, yearList, ipcList):\n",
    "    \n",
    "    start_time = time.time()  # Record the starting time\n",
    "    if yearList == [] or ipcList == []:\n",
    "        tE_names = get_file_names(path+\"tE\")\n",
    "        KS_names = get_file_names(path+\"KS\")\n",
    "        ES_names = get_file_names(path+\"ES\")\n",
    "    \n",
    "        tE_set = set([extract_year_ipc(string) for string in tE_names])\n",
    "        KS_set = set([extract_year_ipc(string) for string in KS_names])\n",
    "        ES_set = set([extract_year_ipc(string) for string in ES_names])\n",
    "    \n",
    "        assert(tE_set==KS_set==ES_set)\n",
    "    \n",
    "        yearList = sorted(list(set([year for year, ipc in list(tE_set)])))\n",
    "        ipcList = list(set([ipc for year, ipc in list(tE_set)]))\n",
    "        print(yearList)\n",
    "        print(ipcList)\n",
    "    \n",
    "    for year in yearList:\n",
    "        for ipc in ipcList:\n",
    "            print(f\"{year}\")\n",
    "            print(f\"    {ipc}\")\n",
    "            tE = pd.read_csv(path+f\"tE/{year}_{ipc}_tE_cleaned.csv\")\n",
    "            KS = pd.read_csv(path+f\"KS/{year}_{ipc}_KS_cleaned.csv\")\n",
    "            # ES = pd.read_csv(path+f\"ES/{year}_{ipc}_ES_cleaned.csv\")\n",
    "    \n",
    "            # patent = tE[k]\n",
    "            # file_path = my_path + recette\n",
    "            # with open(file_path) as json_file:\n",
    "            #     recipe_dict = json.load(json_file)\n",
    "    \n",
    "            #### COLLECTING ALL NECESSARY INFO\n",
    "    \n",
    "            # KB_recettes, _ = data_analysis(recipe_dict)\n",
    "            # print('Knowledge base size : ', len(KB_recettes))\n",
    "            # if len(KB_recettes) <= 0:\n",
    "            #     continue\n",
    "    \n",
    "            ### Transforming KB into distribution\n",
    "            application_number = tE[\"application_number\"]\n",
    "            label = tE[\"label\"]\n",
    "    \n",
    "            tE=combine_columns(tE, columns)\n",
    "            KS=combine_columns(KS, columns)\n",
    "            # ES=combine_columns(ES, columns)\n",
    "    \n",
    "            # Création pmi ES\n",
    "            # ES_PMI = pmi(ES)\n",
    "            \n",
    "            # base_texts = [word for text in tqdm(ES) for word in text.split()]\n",
    "            # instance_ES_pmi = OptimizedIncrementalPMI(window_size = w_size)\n",
    "            # print(\"pmi\")\n",
    "            # instance_ES_pmi.update(base_texts)\n",
    "            # ES_pmi = instance_ES_pmi.compute_pmi()\n",
    "            \n",
    "            # dict_ES_pmi = pmi_to_dict_adj(ES_pmi[0])\n",
    "            \n",
    "            KS_matrix, KS_dist, KS_Count_matrix = docs_distribution(baseSpace=KS, tE=tE)\n",
    "            KS_size = list(range(KS_matrix.shape[0]))\n",
    "            if useClusters==True:\n",
    "                KSClusterDiff1000 = ClusterKS(list_know_P=KS_matrix, new_Q= None, N=100, nbPtsPerCluster=1000)\n",
    "                KSClusterDiff1000.clusterKS()\n",
    "    \n",
    "            # ES_matrix,  ES_dist, ES_Count_matrix = docs_distribution(baseSpace=ES, tE=tE, columns=columns)\n",
    "            # ES_size = list(range(ES_matrix.shape[0]))\n",
    "            \n",
    "            ## We set to 0 the distance here for each recipe -- difference needs to estimate distance between all points. \n",
    "            #This serves as optim to not calculate for each varaitions but only once since it is the same distance for all KB\n",
    "            # print('train variations for recipe {} done'.format(recette), ' | train variation size : ', len(train_recettes))\n",
    "            \n",
    "            neighborhood_distance  = 0.\n",
    "            new_ratio_vec = []\n",
    "            new_bin_vec = []\n",
    "            uniq_ratio_vec = []\n",
    "            uniq_bin_vec = []\n",
    "            diff_ratio_vec = []\n",
    "            diff_bin_vec = []\n",
    "            neighborhood_distance_vec = []\n",
    "            # mean100_vec = []\n",
    "    \n",
    "            for i in (range(len(tE))):\n",
    "                # print(\"new KS dist (with 1 toEval)\")\n",
    "                select_variation = KS_size + [len(KS_size)+i]\n",
    "                NewKS_dist, variation_dist = new_distribution(KS_Count_matrix, select_variation)\n",
    "                \n",
    "                # print(\"new ES pmi (with 1 toEval)\")\n",
    "                # # instance_ES_updated_pmi = copy.deepcopy(incremental_pmi_ES_only) # reprise du pmi du ES seulement\n",
    "                # new_pmi_instance = OptimizedIncrementalPMI(window_size = w_size)\n",
    "                # update_text = [word for text in tqdm(tE[i]) for word in text.split()] \n",
    "                # new_pmi_instance.update(update_text)\n",
    "                # new_pmi = new_pmi_instance.compute_pmi()\n",
    "    \n",
    "    \n",
    "                # print(\"compute scores\")\n",
    "                results = compute_scores(KS_matrix, KS_dist, NewKS_dist, variation_dist,# ES_pmi, dict_ES_pmi, new_pmi,\n",
    "                                            neighbor_dist=neighborhood_distance, useClusters=True, KSCluster=KSClusterDiff1000)\n",
    "    \n",
    "                new_ratio = results[0]\n",
    "                new_bin = results[1]\n",
    "    \n",
    "                uniq_ratio = results[2]\n",
    "                uniq_bin = results[3]\n",
    "    \n",
    "                diff_ratio = results[4]\n",
    "                diff_bin = results[5]\n",
    "                neighborhood_distance = results[6] #update neighborhood distance so it isn't reset\n",
    "                # mean100 = results[7]\n",
    "    \n",
    "                # surpNew_ratio = results[7]\n",
    "                # surpNew_bin = results[8]\n",
    "    \n",
    "                # surpDiv_ratio = results[9]\n",
    "                # surpDiv_bin = results[10]\n",
    "    \n",
    "                new_ratio_vec.append(new_ratio)\n",
    "                new_bin_vec.append(new_bin)\n",
    "    \n",
    "                uniq_ratio_vec.append(uniq_ratio)\n",
    "                uniq_bin_vec.append(uniq_bin)\n",
    "    \n",
    "                diff_ratio_vec.append(diff_ratio)\n",
    "                diff_bin_vec.append(diff_bin)\n",
    "                neighborhood_distance_vec.append(neighborhood_distance)\n",
    "                # mean100_vec.append(mean100)\n",
    "    \n",
    "                if i % 1000 == 0:\n",
    "                    current_time = time.time()  # Get the current time\n",
    "                    elapsed_time = current_time - start_time  # Calculate elapsed time\n",
    "                    if i % 1000 == 0:\n",
    "                        print(f\"{i} on {len(tE)}, time since last print: {elapsed_time:.2f} seconds\")\n",
    "                    start_time = current_time  # Reset the start time for the next interval\n",
    "                        # Reset the start time to measure time per iteration\n",
    "                    start_time = time.time()\n",
    "    \n",
    "    \n",
    "            df = pd.DataFrame({\n",
    "                \"application_number\": application_number,\n",
    "                \"label\": label,\n",
    "    \n",
    "                \"new_ratio\": new_ratio_vec,\n",
    "                \"new_bin\": new_bin_vec,\n",
    "    \n",
    "                \"uniq_ratio\": uniq_ratio_vec,\n",
    "                \"uniq_bin\": uniq_bin_vec,\n",
    "    \n",
    "                \"diff_ratio\": diff_ratio_vec,\n",
    "                \"diff_bin\": diff_bin_vec, \n",
    "                \"neighboroud_distance\": neighborhood_distance_vec,\n",
    "                # \"mean100\": mean100_vec\n",
    "    \n",
    "                # \"surpNew_ratio\": surpNew_ratio,\n",
    "                # \"surpNew_bin\": surpNew_bin,\n",
    "    \n",
    "                # \"surpDiv_ratio\":surpDiv_ratio,\n",
    "                # \"surpDiv_bin\": surpDiv_bin\n",
    "            })\n",
    "            df.to_csv(pathOutput + f'/{year}_{ipc}_{columns[0]}_noveltyMetrics.csv', index=False)\n",
    "            \n",
    "\n",
    "measureNov(path, pathOutput, columns, w_size, useClusters, yearList, ipcList)"
   ]
  },
  {
   "cell_type": "code",
   "execution_count": 4,
   "metadata": {},
   "outputs": [],
   "source": [
    "path = \"C:/Users/edgar/OneDrive/Bureau/Ecole/HEC/A24/BrevetNLP/exemple données/cleaned/\"\n",
    "# path = \"/home/edgarlanoue/data/csvCleaned/\""
   ]
  },
  {
   "cell_type": "code",
   "execution_count": 5,
   "metadata": {},
   "outputs": [
    {
     "name": "stdout",
     "output_type": "stream",
     "text": [
      "2016\n",
      "    H01L\n"
     ]
    }
   ],
   "source": [
    "tE_names = get_file_names(path+\"tE\")\n",
    "KS_names = get_file_names(path+\"KS\")\n",
    "ES_names = get_file_names(path+\"ES\")\n",
    "\n",
    "tE_set = set([extract_year_ipc(string) for string in tE_names])\n",
    "KS_set = set([extract_year_ipc(string) for string in KS_names])\n",
    "ES_set = set([extract_year_ipc(string) for string in ES_names])\n",
    "\n",
    "assert(tE_set==KS_set==ES_set)\n",
    "\n",
    "yearList = [year for year, ipc in list(tE_set)]\n",
    "ipcList = [ipc for year, ipc in list(tE_set)]\n",
    "\n",
    "yearList = [\"2016\"]\n",
    "ipcList = [\"H01L\"]\n",
    "\n",
    "for year in yearList:\n",
    "    for ipc in ipcList:\n",
    "        print(f\"{year}\")\n",
    "        print(f\"    {ipc}\")\n",
    "        tE = pd.read_csv(path+f\"tE/{year}_{ipc}_tE_cleaned.csv\")\n",
    "        KS = pd.read_csv(path+f\"KS/{year}_{ipc}_KS_cleaned.csv\")\n",
    "        ES = pd.read_csv(path+f\"ES/{year}_{ipc}_ES_cleaned.csv\")"
   ]
  },
  {
   "cell_type": "code",
   "execution_count": 7,
   "metadata": {},
   "outputs": [],
   "source": [
    "import importlib\n",
    "import utils\n",
    "importlib.reload(utils)\n",
    "from utils import docs_distribution, new_distribution, combine_columns, OptimizedIncrementalPMI"
   ]
  },
  {
   "cell_type": "code",
   "execution_count": 8,
   "metadata": {},
   "outputs": [],
   "source": [
    "application_number = tE[\"application_number\"]\n",
    "label = tE[\"label\"]"
   ]
  },
  {
   "cell_type": "code",
   "execution_count": 9,
   "metadata": {},
   "outputs": [],
   "source": [
    "tE=combine_columns(tE, [\"claims\"])\n",
    "KS=combine_columns(KS, [\"claims\"])\n",
    "ES=combine_columns(ES, [\"claims\"])"
   ]
  },
  {
   "cell_type": "code",
   "execution_count": 10,
   "metadata": {},
   "outputs": [],
   "source": [
    "import importlib\n",
    "import utils\n",
    "importlib.reload(utils)\n",
    "from utils import docs_distribution, new_distribution, combine_columns, OptimizedIncrementalPMI, pmi\n",
    "from tqdm import tqdm"
   ]
  },
  {
   "cell_type": "code",
   "execution_count": 18,
   "metadata": {},
   "outputs": [
    {
     "name": "stderr",
     "output_type": "stream",
     "text": [
      "100%|██████████| 284544/284544 [00:38<00:00, 7424.28it/s] \n"
     ]
    }
   ],
   "source": [
    "# base_texts = ' '.join(ES[:1000]).split()\n",
    "base_texts = [word for text in tqdm(ES) for word in text.split()]\n",
    "# ES_pmi = pmi(base_texts, w_size=3)\n",
    "# ES_pmi"
   ]
  },
  {
   "cell_type": "markdown",
   "metadata": {},
   "source": [
    "Pmi le mien vs défaut"
   ]
  },
  {
   "cell_type": "code",
   "execution_count": 19,
   "metadata": {},
   "outputs": [
    {
     "name": "stderr",
     "output_type": "stream",
     "text": [
      "100%|██████████| 11075532/11075532 [02:20<00:00, 78686.81it/s] \n"
     ]
    }
   ],
   "source": [
    "instOptPMI = OptimizedIncrementalPMI(3)\n",
    "instOptPMI.update(base_texts)\n",
    "dict_optPMI = instOptPMI.compute_pmi()"
   ]
  },
  {
   "cell_type": "code",
   "execution_count": 13,
   "metadata": {},
   "outputs": [],
   "source": [
    "pmi_default = pmi(base_texts, 3)"
   ]
  },
  {
   "cell_type": "code",
   "execution_count": 14,
   "metadata": {},
   "outputs": [
    {
     "data": {
      "text/plain": [
       "False"
      ]
     },
     "execution_count": 14,
     "metadata": {},
     "output_type": "execute_result"
    }
   ],
   "source": [
    "{key: value[0] for key, value in dict_optPMI[0].items()} == dict(pmi_default)"
   ]
  },
  {
   "cell_type": "code",
   "execution_count": 21,
   "metadata": {},
   "outputs": [
    {
     "data": {
      "text/plain": [
       "11075532"
      ]
     },
     "execution_count": 21,
     "metadata": {},
     "output_type": "execute_result"
    }
   ],
   "source": [
    "len(dict_optPMI[0])"
   ]
  },
  {
   "cell_type": "code",
   "execution_count": 13,
   "metadata": {},
   "outputs": [
    {
     "name": "stdout",
     "output_type": "stream",
     "text": [
      "True\n",
      "False\n"
     ]
    }
   ],
   "source": [
    "print(sorted({key: value[0] for key, value in dict_optPMI[0].items()}) == sorted(dict(pmi_default)))\n",
    "print(sorted({key: value[0] for key, value in dict_optPMI[0].items()}.values()) == sorted(dict(pmi_default).values()))\n"
   ]
  },
  {
   "cell_type": "markdown",
   "metadata": {},
   "source": [
    "PMI, les deux sont pareils à 1 secondes prêts... le mien est utile puisqu'il segmente les taches, rendant un PMI futur beaucoup plus rapide à calculer, cependant, pu besoin puisqu'on compare simplement l'intersection entre l'ES et le nouveau"
   ]
  },
  {
   "cell_type": "code",
   "execution_count": 9,
   "metadata": {},
   "outputs": [
    {
     "name": "stdout",
     "output_type": "stream",
     "text": [
      "Counter({('dielectric', 'layer'): 45, ('layer', 'layer'): 42, ('layer', 'dielectric'): 40, ('encapsulation', 'layer'): 24, ('light', 'absorb'): 18, ('light', 'layer'): 18, ('absorb', 'layer'): 18, ('layer', 'comprise'): 17, ('layer', 'silicon'): 15, ('silicon', 'layer'): 15, ('diffusion', 'region'): 14, ('layer', 'open'): 12, ('nitride', 'layer'): 12, ('dielectric', 'dielectric'): 12, ('fourth', 'dielectric'): 12, ('fourth', 'layer'): 12, ('layer', 'encapsulation'): 11, ('comprise', 'layer'): 9, ('layer', 'monocrystalline'): 9, ('monocrystalline', 'semiconductor'): 9, ('monocrystalline', 'layer'): 9, ('semiconductor', 'layer'): 9, ('open', 'extend'): 9, ('extend', 'vertically'): 9, ('layer', 'light'): 9, ('comprise', 'silicon'): 9, ('additional', 'open'): 9, ('blanket', 'layer'): 9, ('layer', 'fourth'): 9, ('photodetector', 'comprise'): 8, ('comprise', 'dielectric'): 8, ('layer', 'photodetector'): 7, ('dielectric', 'monocrystalline'): 6, ('layer', 'semiconductor'): 6, ('open', 'vertically'): 6, ('surface', 'light'): 6, ('surface', 'absorb'): 6, ('comprise', 'nitride'): 6, ('silicon', 'nitride'): 6, ('layer', 'germanium'): 6, ('germanium', 'layer'): 6, ('layer', 'nitride'): 6, ('peak', 'dopant'): 6, ('peak', 'concentration'): 6, ('dopant', 'concentration'): 6, ('region', 'photodetector'): 6, ('stack', 'dielectric'): 6, ('stack', 'layer'): 6, ('layer', 'additional'): 6, ('layer', 'blanket'): 6, ('blanket', 'interlayer'): 6, ('layer', 'interlayer'): 6, ('interlayer', 'dielectric'): 6, ('interlayer', 'material'): 6, ('dielectric', 'material'): 6, ('dielectric', 'immediately'): 6, ('immediately', 'adjacent'): 6, ('dielectric', 'fourth'): 6, ('dielectric', 'comprise'): 6, ('photodetector', 'diode'): 5, ('photodetector', 'diffusion'): 5, ('diode', 'diffusion'): 5, ('region', 'region'): 5, ('photodetector', 'stack'): 5, ('diode', 'encapsulation'): 4, ('diode', 'region'): 4, ('layer', 'diffusion'): 4, ('diffusion', 'diode'): 4, ('region', 'diode'): 4, ('photodetector', 'dielectric'): 3, ('semiconductor', 'dielectric'): 3, ('dielectric', 'open'): 3, ('layer', 'extend'): 3, ('extend', 'monocrystalline'): 3, ('vertically', 'monocrystalline'): 3, ('vertically', 'semiconductor'): 3, ('semiconductor', 'light'): 3, ('layer', 'absorb'): 3, ('absorb', 'dielectric'): 3, ('semiconductor', 'open'): 3, ('open', 'light'): 3, ('open', 'absorb'): 3, ('absorb', 'monocrystalline'): 3, ('monocrystalline', 'comprise'): 3, ('diode', 'conformal'): 3, ('conformal', 'encapsulation'): 3, ('conformal', 'layer'): 3, ('encapsulation', 'cover'): 3, ('layer', 'cover'): 3, ('cover', 'light'): 3, ('cover', 'absorb'): 3, ('absorb', 'encapsulation'): 3, ('encapsulation', 'fill'): 3, ('layer', 'fill'): 3, ('layer', 'pit'): 3, ('fill', 'pit'): 3, ('fill', 'surface'): 3, ('pit', 'surface'): 3, ('pit', 'light'): 3, ('photodetector', 'encapsulation'): 3, ('photodetector', 'layer'): 3, ('encapsulation', 'comprise'): 3, ('nitride', 'polysilicon'): 3, ('layer', 'polysilicon'): 3, ('polysilicon', 'layer'): 3, ('polysilicon', 'silicon'): 3, ('silicon', 'germanium'): 3, ('germanium', 'silicon'): 3, ('layer', 'carbide'): 3, ('silicon', 'carbide'): 3, ('carbide', 'layer'): 3, ('carbide', 'titanium'): 3, ('layer', 'titanium'): 3, ('titanium', 'nitride'): 3, ('titanium', 'layer'): 3, ('nitride', 'tantalum'): 3, ('layer', 'tantalum'): 3, ('tantalum', 'nitride'): 3, ('tantalum', 'layer'): 3, ('nitride', 'photodetector'): 3, ('region', 'dopant'): 3, ('dopant', 'profile'): 3, ('dopant', 'peak'): 3, ('profile', 'peak'): 3, ('profile', 'dopant'): 3, ('dopant', 'locate'): 3, ('concentration', 'locate'): 3, ('concentration', 'depth'): 3, ('locate', 'depth'): 3, ('locate', 'approximately'): 3, ('depth', 'approximately'): 3, ('depth', 'halfway'): 3, ('approximately', 'halfway'): 3, ('approximately', 'bottom'): 3, ('halfway', 'bottom'): 3, ('halfway', 'surface'): 3, ('bottom', 'surface'): 3, ('bottom', 'top'): 3, ('surface', 'top'): 3, ('surface', 'surface'): 3, ('top', 'surface'): 3, ('top', 'light'): 3, ('absorb', 'peak'): 3, ('layer', 'peak'): 3, ('layer', 'dopant'): 3, ('dopant', 'amount'): 3, ('concentration', 'amount'): 3, ('concentration', 'least'): 3, ('amount', 'least'): 3, ('amount', 'atom'): 3, ('least', 'atom'): 3, ('least', 'cm3'): 3, ('atom', 'cm3'): 3, ('atom', 'photodetector'): 3, ('cm3', 'photodetector'): 3, ('cm3', 'diode'): 3, ('diffusion', 'intrinsic'): 3, ('region', 'intrinsic'): 3, ('intrinsic', 'region'): 3, ('intrinsic', 'position'): 3, ('region', 'position'): 3, ('region', 'laterally'): 3, ('position', 'laterally'): 3, ('position', 'diffusion'): 3, ('laterally', 'diffusion'): 3, ('laterally', 'region'): 3, ('diffusion', 'photodetector'): 3, ('dielectric', 'encapsulation'): 3, ('encapsulation', 'additional'): 3, ('additional', 'extend'): 3, ('extend', 'stack'): 3, ('vertically', 'stack'): 3, ('vertically', 'encapsulation'): 3, ('stack', 'encapsulation'): 3, ('encapsulation', 'blanket'): 3, ('dielectric', 'stack'): 3, ('material', 'stack'): 3, ('material', 'fill'): 3, ('stack', 'fill'): 3, ('stack', 'additional'): 3, ('fill', 'additional'): 3, ('fill', 'open'): 3, ('additional', 'contact'): 3, ('open', 'contact'): 3, ('contact', 'extend'): 3, ('contact', 'vertically'): 3, ('extend', 'blanket'): 3, ('vertically', 'blanket'): 3, ('vertically', 'layer'): 3, ('blanket', 'additional'): 3, ('additional', 'encapsulation'): 3, ('open', 'encapsulation'): 3, ('open', 'layer'): 3, ('encapsulation', 'diffusion'): 3, ('layer', 'region'): 3, ('diode', 'photodetector'): 3, ('stack', 'comprise'): 3, ('layer', 'immediately'): 3, ('layer', 'adjacent'): 3, ('immediately', 'encapsulation'): 3, ('adjacent', 'encapsulation'): 3, ('adjacent', 'layer'): 3, ('encapsulation', 'dielectric'): 3, ('dielectric', 'blanket'): 3, ('material', 'immediately'): 3, ('material', 'adjacent'): 3, ('immediately', 'fourth'): 3, ('adjacent', 'fourth'): 3, ('adjacent', 'dielectric'): 3, ('comprise', 'oxide'): 3, ('silicon', 'oxide'): 3, ('oxide', 'layer'): 3, ('oxide', 'dielectric'): 3, ('nitride', 'encapsulation'): 3, ('encapsulation', 'fourth'): 3, ('dielectric', 'approximately'): 3, ('layer', 'approximately'): 3, ('layer', 'equal'): 3, ('approximately', 'equal'): 3, ('approximately', 'thicknesse'): 3, ('equal', 'thicknesse'): 3, ('equal', 'photodetector'): 3, ('thicknesse', 'photodetector'): 3, ('thicknesse', 'light'): 3, ('photodetector', 'light'): 3, ('photodetector', 'absorb'): 3, ('absorb', 'comprise'): 3, ('comprise', 'germanium'): 3, ('absorb', 'photodetector'): 2, ('layer', 'diode'): 2, ('diffusion', 'diffusion'): 2, ('region', 'diffusion'): 2, ('diffusion', 'dopant'): 2, ('region', 'profile'): 2, ('region', 'comprise'): 2, ('comprise', 'stack'): 2, ('diode', 'stack'): 2, ('germanium', 'photodetector'): 2, ('monocrystalline', 'multiple'): 2, ('comprise', 'multiple'): 2, ('comprise', 'diode'): 2, ('multiple', 'diode'): 2, ('multiple', 'conformal'): 2, ('monocrystalline', 'least'): 1, ('comprise', 'least'): 1, ('comprise', 'one'): 1, ('least', 'one'): 1, ('least', 'diode'): 1, ('one', 'diode'): 1, ('one', 'conformal'): 1, ('absorb', 'stack'): 1, ('layer', 'stack'): 1, ('photodetector', 'region'): 1, ('diode', 'dopant'): 1, ('diode', 'profile'): 1, ('photodetector', 'pair'): 1, ('diode', 'pair'): 1, ('pair', 'diffusion'): 1, ('pair', 'region'): 1, ('region', 'stack'): 1})\n",
      "Counter({'layer': 132, 'dielectric': 51, 'encapsulation': 24, 'comprise': 23, 'photodetector': 20, 'light': 18, 'absorb': 18, 'region': 17, 'open': 15, 'silicon': 15, 'diffusion': 14, 'monocrystalline': 12, 'diode': 12, 'nitride': 12, 'stack': 12, 'fourth': 12, 'semiconductor': 9, 'extend': 9, 'vertically': 9, 'surface': 9, 'dopant': 9, 'additional': 9, 'blanket': 9, 'fill': 6, 'germanium': 6, 'peak': 6, 'concentration': 6, 'approximately': 6, 'interlayer': 6, 'material': 6, 'immediately': 6, 'adjacent': 6, 'least': 4, 'conformal': 3, 'cover': 3, 'pit': 3, 'polysilicon': 3, 'carbide': 3, 'titanium': 3, 'tantalum': 3, 'profile': 3, 'locate': 3, 'depth': 3, 'halfway': 3, 'bottom': 3, 'top': 3, 'amount': 3, 'atom': 3, 'cm3': 3, 'intrinsic': 3, 'position': 3, 'laterally': 3, 'contact': 3, 'oxide': 3, 'equal': 3, 'thicknesse': 3, 'multiple': 2, 'one': 1, 'pair': 1})\n",
      "601\n"
     ]
    }
   ],
   "source": [
    "# baseTexts_update = [tE[0]]\n",
    "# update_text = ' '.join(baseTexts_update).split()\n",
    "# new_pmi = OptimizedIncrementalPMI(window_size=3)\n",
    "# new_pmi.update(update_text)\n",
    "# print(new_pmi.bigram_counts)\n",
    "# print(new_pmi.word_counts)\n",
    "# print(new_pmi.total_words)\n",
    "\n",
    "# inutile puisqu'on calcule le PMI du nouveau texte directement"
   ]
  },
  {
   "cell_type": "code",
   "execution_count": 22,
   "metadata": {},
   "outputs": [
    {
     "name": "stderr",
     "output_type": "stream",
     "text": [
      "100%|██████████| 1/1 [00:00<00:00, 204.87it/s]\n",
      "100%|██████████| 260/260 [00:00<00:00, 176288.24it/s]\n"
     ]
    }
   ],
   "source": [
    "baseTexts_update = [tE[0]]\n",
    "update_text = [word for text in tqdm(baseTexts_update) for word in text.split()] #' '.join(baseTexts_update).split()\n",
    "\n",
    "new_pmi = OptimizedIncrementalPMI(window_size=3)\n",
    "new_pmi.update(update_text)\n",
    "newpmi_PMI = new_pmi.compute_pmi()"
   ]
  },
  {
   "cell_type": "code",
   "execution_count": 26,
   "metadata": {},
   "outputs": [],
   "source": [
    "# base_texts_set = set(base_texts)\n",
    "# update_text_set = set(update_text)\n",
    "\n",
    "base_bigram_set = set(instOptPMI.bigram_counts.keys())\n",
    "\n",
    "update_bigram_set = set(new_pmi.bigram_counts.keys())\n",
    "\n",
    "common_bigram_set = update_bigram_set & base_bigram_set\n",
    "# common_word_set = update_text_set & base_texts_set\n",
    "\n",
    "\n",
    "import math\n",
    "\n",
    "# 20aine de secondes pour trouver ce qu'ils ont en commun"
   ]
  },
  {
   "cell_type": "code",
   "execution_count": 24,
   "metadata": {},
   "outputs": [
    {
     "name": "stdout",
     "output_type": "stream",
     "text": [
      "242\n"
     ]
    }
   ],
   "source": [
    "print(len(common_bigram_set))\n",
    "# print(len(common_word_set))"
   ]
  },
  {
   "cell_type": "code",
   "execution_count": 43,
   "metadata": {},
   "outputs": [],
   "source": [
    "filtered_pmi_values = [\n",
    "    (bigram, value) for bigram, value in pmi_default if bigram in common_bigram_set\n",
    "]"
   ]
  },
  {
   "cell_type": "code",
   "execution_count": 44,
   "metadata": {},
   "outputs": [],
   "source": [
    "filtered_pmi_dict = {\n",
    "    key: value for key, value in dict_optPMI[0].items() if key in common_bigram_set\n",
    "}"
   ]
  },
  {
   "cell_type": "code",
   "execution_count": 45,
   "metadata": {},
   "outputs": [
    {
     "data": {
      "text/plain": [
       "[4.443215690345573, 5278, 7836, 3844]"
      ]
     },
     "execution_count": 45,
     "metadata": {},
     "output_type": "execute_result"
    }
   ],
   "source": [
    "filtered_pmi_dict.get((\"least\", \"one\"))"
   ]
  },
  {
   "cell_type": "code",
   "execution_count": 46,
   "metadata": {},
   "outputs": [
    {
     "data": {
      "text/plain": [
       "468114"
      ]
     },
     "execution_count": 46,
     "metadata": {},
     "output_type": "execute_result"
    }
   ],
   "source": [
    "dict_optPMI[3]"
   ]
  },
  {
   "cell_type": "code",
   "execution_count": 47,
   "metadata": {},
   "outputs": [
    {
     "data": {
      "text/plain": [
       "4.443215690345575"
      ]
     },
     "execution_count": 47,
     "metadata": {},
     "output_type": "execute_result"
    }
   ],
   "source": [
    "import math\n",
    "np.log2(3844/(7836*5278)*468114*1/(3 - 1))"
   ]
  },
  {
   "cell_type": "code",
   "execution_count": 48,
   "metadata": {},
   "outputs": [
    {
     "data": {
      "text/plain": [
       "[4.443215690345573, 5278, 7836, 3844]"
      ]
     },
     "execution_count": 48,
     "metadata": {},
     "output_type": "execute_result"
    }
   ],
   "source": [
    "dict_optPMI[0].get((\"least\", \"one\"))"
   ]
  },
  {
   "cell_type": "code",
   "execution_count": 49,
   "metadata": {},
   "outputs": [
    {
     "data": {
      "text/plain": [
       "4.443215690345575"
      ]
     },
     "execution_count": 49,
     "metadata": {},
     "output_type": "execute_result"
    }
   ],
   "source": [
    "next((value for (key, value) in pmi_default if key == (\"least\", \"one\")), None)"
   ]
  },
  {
   "cell_type": "code",
   "execution_count": 50,
   "metadata": {},
   "outputs": [
    {
     "data": {
      "text/plain": [
       "4.443215690345575"
      ]
     },
     "execution_count": 50,
     "metadata": {},
     "output_type": "execute_result"
    }
   ],
   "source": [
    "dict(pmi_default).get((\"least\", \"one\"))"
   ]
  },
  {
   "cell_type": "code",
   "execution_count": 51,
   "metadata": {},
   "outputs": [
    {
     "data": {
      "text/plain": [
       "4.443215690345575"
      ]
     },
     "execution_count": 51,
     "metadata": {},
     "output_type": "execute_result"
    }
   ],
   "source": [
    "dict(filtered_pmi_values).get((\"least\", \"one\"))"
   ]
  },
  {
   "cell_type": "code",
   "execution_count": 90,
   "metadata": {},
   "outputs": [
    {
     "name": "stdout",
     "output_type": "stream",
     "text": [
      "106\n",
      "106\n"
     ]
    }
   ],
   "source": [
    "print(len(sorted(dict(filtered_pmi_values).values())))\n",
    "print(len(sorted({key: value[0] for key, value in filtered_pmi_dict.items()}.values())))"
   ]
  },
  {
   "cell_type": "code",
   "execution_count": 128,
   "metadata": {},
   "outputs": [
    {
     "name": "stdout",
     "output_type": "stream",
     "text": [
      "[-2.699200249602903, -1.8124416965666938, -1.754979957130459, -1.5948829513290939, -1.3919907011014843, -1.3458672918087196, -1.2157757753438077, -1.070062606214119, -1.0587287346773877, -0.9805644553750206]\n",
      "[[-2.699200249602903, 576, 5278, 2], [-1.8124416965666938, 3079, 267, 1], [-1.754979957130459, 243, 6502, 2], [-1.5948829513290939, 993, 712, 1], [-1.3919907011014843, 3079, 798, 4], [-1.3458672918087196, 6502, 183, 2], [-1.2157757753438077, 103, 5278, 1], [-1.0700626062141225, 798, 3079, 5], [-1.0587287346773877, 491, 993, 1], [-0.9805644553750206, 3079, 150, 1]]\n"
     ]
    }
   ],
   "source": [
    "print(sorted(dict(filtered_pmi_values).values())[:10])\n",
    "print(sorted({key: value for key, value in filtered_pmi_dict.items()}.values())[:10])"
   ]
  },
  {
   "cell_type": "code",
   "execution_count": 85,
   "metadata": {},
   "outputs": [
    {
     "data": {
      "text/plain": [
       "False"
      ]
     },
     "execution_count": 85,
     "metadata": {},
     "output_type": "execute_result"
    }
   ],
   "source": [
    "sorted(dict(filtered_pmi_values).values())==sorted({key: value[0] for key, value in filtered_pmi_dict.items()}.values())"
   ]
  },
  {
   "cell_type": "code",
   "execution_count": 52,
   "metadata": {},
   "outputs": [
    {
     "data": {
      "text/plain": [
       "{('least', 'one'): [4.443215690345573, 5278, 7836, 3844],\n",
       " ('comprise', 'least'): [1.0661517565192327, 6502, 5278, 307],\n",
       " ('comprise', 'layer'): [-0.30988914879132423, 6502, 3079, 69],\n",
       " ('layer', 'layer'): [3.069399019213746, 3079, 3079, 340],\n",
       " ('region', 'region'): [3.712286739899108, 1500, 1500, 126],\n",
       " ('comprise', 'one'): [0.6727227167859979, 6502, 7836, 347],\n",
       " ('region', 'comprise'): [-0.680474520766829, 1500, 6502, 26],\n",
       " ('surface', 'surface'): [2.7919543772150064, 2534, 2534, 190],\n",
       " ('layer', 'comprise'): [0.47640415773845035, 3079, 6502, 119],\n",
       " ('oxide', 'layer'): [2.324489820947946, 258, 3079, 17],\n",
       " ('comprise', 'diode'): [-0.07334143699763018, 6502, 303, 8],\n",
       " ('diode', 'pair'): [0.9068258765095081, 303, 412, 1],\n",
       " ('bottom', 'surface'): [4.268772027801649, 345, 2534, 72],\n",
       " ('layer', 'open'): [0.1160299428637721, 3079, 491, 7],\n",
       " ('top', 'surface'): [4.663685257994869, 379, 2534, 104],\n",
       " ('bottom', 'top'): [4.424956298050212, 345, 379, 12],\n",
       " ('surface', 'top'): [2.663685257994869, 2534, 379, 26],\n",
       " ('layer', 'extend'): [1.4163769939291875, 3079, 712, 25],\n",
       " ('dielectric', 'layer'): [5.452724748460046, 243, 3079, 140],\n",
       " ('layer', 'light'): [0.7526343088682665, 3079, 3068, 68],\n",
       " ('layer', 'dielectric'): [3.8152948278447543, 3079, 243, 45],\n",
       " ('layer', 'cover'): [3.4710823185596347, 3079, 473, 69],\n",
       " ('adjacent', 'dielectric'): [1.2147203573256107, 415, 243, 1],\n",
       " ('adjacent', 'layer'): [1.1362492096077297, 415, 3079, 12],\n",
       " ('comprise', 'oxide'): [-0.2564322082267765, 6502, 258, 6],\n",
       " ('encapsulation', 'comprise'): [0.7775151236965634, 63, 6502, 3],\n",
       " ('stack', 'comprise'): [0.999907545033011, 234, 6502, 13],\n",
       " ('diffusion', 'diffusion'): [5.747712148448771, 66, 66, 1],\n",
       " ('layer', 'interlayer'): [1.855936812342101, 3079, 42, 2],\n",
       " ('interlayer', 'dielectric'): [4.519370460781136, 42, 243, 1],\n",
       " ('layer', 'silicon'): [2.90247939827913, 3079, 183, 18],\n",
       " ('silicon', 'oxide'): [6.953429483233107, 183, 258, 25],\n",
       " ('silicon', 'layer'): [2.317516897557974, 183, 3079, 12],\n",
       " ('layer', 'nitride'): [2.950573686480176, 3079, 59, 6],\n",
       " ('silicon', 'nitride'): [8.438157499519795, 183, 59, 16],\n",
       " ('stack', 'layer'): [2.0783292336785486, 234, 3079, 13],\n",
       " ('nitride', 'layer'): [5.4948942027039855, 59, 3079, 35],\n",
       " ('fill', 'surface'): [0.6589348584414658, 117, 2534, 2],\n",
       " ('material', 'fill'): [1.6738140347802357, 1254, 117, 2],\n",
       " ('one', 'diode'): [-0.34257527857485925, 7836, 303, 8],\n",
       " ('approximately', 'equal'): [6.1319482657034, 150, 267, 12],\n",
       " ('layer', 'region'): [0.6043980453461373, 3079, 1500, 30],\n",
       " ('surface', 'light'): [0.7791068246866786, 2534, 3068, 57],\n",
       " ('region', 'position'): [1.173597437508402, 1500, 1591, 23],\n",
       " ('layer', 'encapsulation'): [1.855936812342101, 3079, 63, 3],\n",
       " ('fourth', 'layer'): [-1.0700626062141225, 798, 3079, 5],\n",
       " ('cover', 'light'): [-0.6322787536766512, 473, 3068, 4],\n",
       " ('diffusion', 'region'): [3.826321983145137, 66, 1500, 6],\n",
       " ('encapsulation', 'layer'): [5.025861813784413, 63, 3079, 27],\n",
       " ('encapsulation', 'cover'): [3.973524090326366, 63, 473, 2],\n",
       " ('dielectric', 'material'): [4.904768469620107, 243, 1254, 39],\n",
       " ('amount', 'least'): [-2.699200249602903, 576, 5278, 2],\n",
       " ('light', 'layer'): [0.9689522157950314, 3068, 3079, 79],\n",
       " ('layer', 'stack'): [3.587342881166407, 3079, 234, 37],\n",
       " ('dielectric', 'stack'): [6.289250677420078, 243, 234, 19],\n",
       " ('comprise', 'dielectric'): [0.7044516615068375, 6502, 243, 11],\n",
       " ('stack', 'dielectric'): [4.363251258863855, 234, 243, 5],\n",
       " ('dielectric', 'dielectric'): [4.794230302011721, 243, 243, 7],\n",
       " ('extend', 'vertically'): [5.285478828895043, 712, 59, 7],\n",
       " ('absorb', 'layer'): [3.0494743710063634, 101, 3079, 11],\n",
       " ('photodetector', 'light'): [1.7939860010254485, 22, 3068, 1],\n",
       " ('semiconductor', 'light'): [1.0526552142978396, 993, 3068, 27],\n",
       " ('layer', 'adjacent'): [1.5512867088865754, 3079, 415, 16],\n",
       " ('comprise', 'multiple'): [0.4149450443118532, 6502, 189, 7],\n",
       " ('layer', 'fill'): [1.3778895155374578, 3079, 117, 4],\n",
       " ('fill', 'open'): [2.026556453267581, 117, 491, 1],\n",
       " ('layer', 'semiconductor'): [2.269884251092403, 3079, 993, 63],\n",
       " ('monocrystalline', 'semiconductor'): [7.880850479637305, 2, 993, 2],\n",
       " ('layer', 'additional'): [-0.3664556089943467, 3079, 196, 2],\n",
       " ('layer', 'titanium'): [1.2038601157624065, 3079, 33, 1],\n",
       " ('layer', 'fourth'): [-1.3919907011014843, 3079, 798, 4],\n",
       " ('layer', 'photodetector'): [1.7888226164835643, 3079, 22, 1],\n",
       " ('photodetector', 'comprise'): [0.7104009278380268, 22, 6502, 1],\n",
       " ('top', 'light'): [1.146795200128949, 379, 3068, 11],\n",
       " ('comprise', 'stack'): [0.29946782689191664, 6502, 234, 8],\n",
       " ('adjacent', 'fourth'): [2.499287924709046, 415, 798, 8],\n",
       " ('open', 'extend'): [1.4211877418845873, 491, 712, 4],\n",
       " ('semiconductor', 'layer'): [1.2468006379793621, 993, 3079, 31],\n",
       " ('silicon', 'carbide'): [9.85265171314323, 183, 83, 60],\n",
       " ('open', 'layer'): [-0.10636247847267555, 491, 3079, 6],\n",
       " ('least', 'cm3'): [2.6633698297818054, 5278, 7, 1],\n",
       " ('layer', 'equal'): [-1.8124416965666938, 3079, 267, 1],\n",
       " ('silicon', 'germanium'): [9.320800548881635, 183, 4, 2],\n",
       " ('dopant', 'amount'): [6.251537886444522, 16, 576, 3],\n",
       " ('layer', 'absorb'): [0.5900427523690652, 3079, 101, 2],\n",
       " ('least', 'diode'): [0.22755076836645927, 5278, 303, 8],\n",
       " ('polysilicon', 'layer'): [2.2482542351208608, 16, 3079, 1],\n",
       " ('absorb', 'comprise'): [0.09658356444468552, 101, 6502, 3],\n",
       " ('pair', 'region'): [-0.40074692540078516, 412, 1500, 2],\n",
       " ('surface', 'absorb'): [2.4560505959942294, 2534, 101, 6],\n",
       " ('immediately', 'adjacent'): [6.69896026954541, 38, 415, 7],\n",
       " ('titanium', 'nitride'): [6.909463218445383, 33, 59, 1],\n",
       " ('open', 'light'): [-0.6861615946519493, 491, 3068, 4],\n",
       " ('open', 'contact'): [-1.0587287346773877, 491, 993, 1],\n",
       " ('comprise', 'silicon'): [-1.3458672918087196, 6502, 183, 2],\n",
       " ('layer', 'diode'): [1.3270083465352727, 3079, 303, 10],\n",
       " ('region', 'diode'): [1.0425796183094853, 1500, 303, 4],\n",
       " ('concentration', 'least'): [-1.2157757753438077, 103, 5278, 1],\n",
       " ('light', 'absorb'): [4.402561058968555, 3068, 101, 28],\n",
       " ('dielectric', 'comprise'): [-1.754979957130459, 243, 6502, 2],\n",
       " ('layer', 'approximately'): [-0.9805644553750206, 3079, 150, 1],\n",
       " ('contact', 'extend'): [-1.5948829513290939, 993, 712, 1],\n",
       " ('semiconductor', 'open'): [1.5262337660437666, 993, 491, 6],\n",
       " ('diode', 'region'): [-0.9574203816905147, 303, 1500, 1],\n",
       " ('comprise', 'nitride'): [0.8721519978346386, 6502, 59, 3],\n",
       " ('layer', 'peak'): [0.16079139387052166, 3079, 136, 2]}"
      ]
     },
     "execution_count": 52,
     "metadata": {},
     "output_type": "execute_result"
    }
   ],
   "source": [
    "filtered_pmi_dict"
   ]
  },
  {
   "cell_type": "code",
   "execution_count": 30,
   "metadata": {},
   "outputs": [
    {
     "name": "stderr",
     "output_type": "stream",
     "text": [
      "100%|██████████| 260/260 [00:00<00:00, 131976.16it/s]\n"
     ]
    },
    {
     "name": "stdout",
     "output_type": "stream",
     "text": [
      "here\n",
      "here2\n",
      "here3\n",
      "here4\n"
     ]
    }
   ],
   "source": [
    "pmi_base = dict_optPMI[0].copy()\n",
    "\n",
    "dif_words_bigrams = {word for tup in dif_bigram_set for word in tup}\n",
    "filtered_word_counts = {key: value for key, value in instOptPMI.word_counts.items() if key in dif_words_bigrams}\n",
    "pmi_newPMI = new_pmi.compute_pmi()[0]\n",
    "\n",
    "# inter_bigrams = {key: value for key, value in pmi_base.items() if key in new_pmi.bigram_counts.keys()}\n",
    "# inter_words = {key: value for key, value in instOptPMI.word_counts.items() if key in update_text_set}\n",
    "print(\"here\")\n",
    "new_bigrams = set(new_pmi.bigram_counts.keys())\n",
    "filter_pmi = {key: value for key, value in pmi_base.items() if key in new_bigrams}\n",
    "# Add missing keys from pmi_newPMI to filter_pmi with value [0, 0, 0, 0]\n",
    "filter_pmi.update({key: [0, filtered_word_counts.get(key[0], 0), filtered_word_counts.get(key[1], 0), 0] for key in pmi_newPMI if key not in filter_pmi})\n",
    "# dif_newPMI = {key: value for key, value in pmi_newPMI.items() if key in dif_bigram_set}\n",
    "print(\"here2\")\n",
    "modified_new_values = {}\n",
    "# modified_new_values.update(dif_newPMI)\n",
    "# print(modified_new_values)\n",
    "# Use dictionary comprehension to sum corresponding elements of the lists in both dictionaries\n",
    "modified_new_values = {key: [a + b for a, b in zip(pmi_newPMI[key], filter_pmi[key])]\n",
    "                 for key in pmi_newPMI}\n",
    "\n",
    "print(\"here3\")\n",
    "# Update the first element of each list with the given formula\n",
    "for key, value in modified_new_values.items():\n",
    "    value[0] = math.log2(value[3] / (value[1] * value[2])) + math.log2((new_pmi.total_words + instOptPMI.total_words) * 0.5)\n",
    "modified_new_values\n",
    "\n",
    "\n",
    "print(\"here4\")\n",
    "for key, value in pmi_base.items():\n",
    "    value[0] = value[0] - math.log2(instOptPMI.total_words) + math.log2(instOptPMI.total_words + new_pmi.total_words)\n",
    "\n",
    "pmi_base.update(modified_new_values)\n",
    "\n",
    "# vingatine de secondes"
   ]
  },
  {
   "cell_type": "code",
   "execution_count": 58,
   "metadata": {},
   "outputs": [],
   "source": [
    "import importlib\n",
    "import surprise\n",
    "import divergences\n",
    "importlib.reload(surprise)\n",
    "importlib.reload(utils)\n",
    "importlib.reload(divergences)\n",
    "from surprise import Surprise\n",
    "from utils import pmi_to_dict_adj, pmi_to_dict_adj_dict"
   ]
  },
  {
   "cell_type": "code",
   "execution_count": null,
   "metadata": {},
   "outputs": [],
   "source": [
    "instanceSurp = Surprise(modified_new_values)"
   ]
  },
  {
   "cell_type": "code",
   "execution_count": null,
   "metadata": {},
   "outputs": [],
   "source": [
    "instanceSurp.uniq_surprise_adj(pmi_to_dict_adj(filter_pmi), eps=0)"
   ]
  },
  {
   "cell_type": "code",
   "execution_count": null,
   "metadata": {},
   "outputs": [],
   "source": [
    "dict_known = pmi_to_dict_adj_dict(dict_optPMI[0])"
   ]
  },
  {
   "cell_type": "markdown",
   "metadata": {},
   "source": [
    "New"
   ]
  },
  {
   "cell_type": "code",
   "execution_count": 55,
   "metadata": {},
   "outputs": [
    {
     "data": {
      "text/plain": [
       "<utils.OptimizedIncrementalPMI at 0x12ef9e24090>"
      ]
     },
     "execution_count": 55,
     "metadata": {},
     "output_type": "execute_result"
    }
   ],
   "source": [
    "new_pmi"
   ]
  },
  {
   "cell_type": "code",
   "execution_count": 59,
   "metadata": {},
   "outputs": [],
   "source": [
    "instSurp = Surprise(newpmi_PMI)"
   ]
  },
  {
   "cell_type": "code",
   "execution_count": 61,
   "metadata": {},
   "outputs": [],
   "source": [
    "dict_known = pmi_to_dict_adj_dict(dict_optPMI[0])\n",
    "dict_new = pmi_to_dict_adj_dict(newpmi_PMI[0])"
   ]
  },
  {
   "cell_type": "code",
   "execution_count": 63,
   "metadata": {},
   "outputs": [
    {
     "name": "stderr",
     "output_type": "stream",
     "text": [
      "100%|██████████| 8042/8042 [00:15<00:00, 510.99it/s]\n"
     ]
    }
   ],
   "source": [
    "gCV = instSurp.get_common_vectors_adj(dict_known, dict_new, epsilon = 0)"
   ]
  }
 ],
 "metadata": {
  "kernelspec": {
   "display_name": ".conda",
   "language": "python",
   "name": "python3"
  },
  "language_info": {
   "codemirror_mode": {
    "name": "ipython",
    "version": 3
   },
   "file_extension": ".py",
   "mimetype": "text/x-python",
   "name": "python",
   "nbconvert_exporter": "python",
   "pygments_lexer": "ipython3",
   "version": "3.11.10"
  }
 },
 "nbformat": 4,
 "nbformat_minor": 2
}
